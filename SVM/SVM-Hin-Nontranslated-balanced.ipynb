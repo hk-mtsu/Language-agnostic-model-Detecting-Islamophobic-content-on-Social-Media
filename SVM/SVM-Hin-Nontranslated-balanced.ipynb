{
 "cells": [
  {
   "cell_type": "markdown",
   "metadata": {},
   "source": [
    "# Support Vector Machine"
   ]
  },
  {
   "cell_type": "code",
   "execution_count": 1,
   "metadata": {},
   "outputs": [],
   "source": [
    "# file path exist\n",
    "import os.path\n",
    "from os import path\n",
    "\n",
    "# translator\n",
    "import googletrans\n",
    "from googletrans import Translator\n",
    "\n",
    "# pandas\n",
    "import pandas as pd\n",
    "\n",
    "# preprocessing of text\n",
    "import re\n",
    "import string\n",
    "\n",
    "\n",
    "# word tokenizer by nltk\n",
    "from nltk import word_tokenize\n",
    "\n",
    "# lemmatizer\n",
    "from nltk.stem import WordNetLemmatizer\n",
    "\n",
    "# stopwords (Remove buzz words)\n",
    "from nltk.corpus import stopwords\n",
    "\n",
    "# split data into train and test\n",
    "from sklearn.model_selection import train_test_split\n",
    "\n",
    "# bag of words\n",
    "from sklearn.feature_extraction.text import CountVectorizer\n",
    "\n",
    "# TF-IDF\n",
    "from sklearn.feature_extraction.text import TfidfTransformer\n",
    "\n",
    "# RFM classifier from scikit learn\n",
    "from sklearn.svm import LinearSVC\n",
    "\n",
    "# Tf-idf feature extraction \n",
    "from sklearn.feature_extraction.text import TfidfVectorizer\n",
    "\n",
    "# confusion matrix\n",
    "from sklearn.metrics import confusion_matrix\n",
    "import seaborn as sns\n",
    "\n",
    "# cross validation for kfold\n",
    "from sklearn.model_selection import cross_val_score\n",
    "\n",
    "# calc accuracy\n",
    "from sklearn.metrics import accuracy_score \n",
    "from sklearn.metrics import classification_report "
   ]
  },
  {
   "cell_type": "code",
   "execution_count": 2,
   "metadata": {},
   "outputs": [],
   "source": [
    "\n",
    "# original hindi file\n",
    "filename  = 'Eng-Hin-data/hindi-anot-shuffled'\n",
    "orig_df = pd.read_csv(filename + '.csv',  \n",
    "               delimiter=',')\n",
    "orig_df.columns = ['Text', 'Label']"
   ]
  },
  {
   "cell_type": "code",
   "execution_count": 3,
   "metadata": {},
   "outputs": [
    {
     "data": {
      "text/html": [
       "<div>\n",
       "<style scoped>\n",
       "    .dataframe tbody tr th:only-of-type {\n",
       "        vertical-align: middle;\n",
       "    }\n",
       "\n",
       "    .dataframe tbody tr th {\n",
       "        vertical-align: top;\n",
       "    }\n",
       "\n",
       "    .dataframe thead th {\n",
       "        text-align: right;\n",
       "    }\n",
       "</style>\n",
       "<table border=\"1\" class=\"dataframe\">\n",
       "  <thead>\n",
       "    <tr style=\"text-align: right;\">\n",
       "      <th></th>\n",
       "      <th>Text</th>\n",
       "      <th>Label</th>\n",
       "    </tr>\n",
       "  </thead>\n",
       "  <tbody>\n",
       "    <tr>\n",
       "      <th>0</th>\n",
       "      <td>'गाजा में दीवाली   की ढेरो बधाई मित्रो 😊💐  #Is...</td>\n",
       "      <td>2</td>\n",
       "    </tr>\n",
       "    <tr>\n",
       "      <th>1</th>\n",
       "      <td>'@SanjayGadhiaINC @IndiaToday18 अज़ाबे इलाही 👍</td>\n",
       "      <td>1</td>\n",
       "    </tr>\n",
       "    <tr>\n",
       "      <th>2</th>\n",
       "      <td>'आखिर अब #सुशांत_सिंह_राजपूत जी को न्याय मिल ज...</td>\n",
       "      <td>0</td>\n",
       "    </tr>\n",
       "    <tr>\n",
       "      <th>3</th>\n",
       "      <td>'अमीन के 500 से अधिक छात्रों ने सर्वे भवन के ग...</td>\n",
       "      <td>0</td>\n",
       "    </tr>\n",
       "    <tr>\n",
       "      <th>4</th>\n",
       "      <td>'@deoriapolice @Uppolice @myogiadityanath @spg...</td>\n",
       "      <td>0</td>\n",
       "    </tr>\n",
       "  </tbody>\n",
       "</table>\n",
       "</div>"
      ],
      "text/plain": [
       "                                                Text  Label\n",
       "0  'गाजा में दीवाली   की ढेरो बधाई मित्रो 😊💐  #Is...      2\n",
       "1     '@SanjayGadhiaINC @IndiaToday18 अज़ाबे इलाही 👍      1\n",
       "2  'आखिर अब #सुशांत_सिंह_राजपूत जी को न्याय मिल ज...      0\n",
       "3  'अमीन के 500 से अधिक छात्रों ने सर्वे भवन के ग...      0\n",
       "4  '@deoriapolice @Uppolice @myogiadityanath @spg...      0"
      ]
     },
     "execution_count": 3,
     "metadata": {},
     "output_type": "execute_result"
    }
   ],
   "source": [
    "orig_df.head()"
   ]
  },
  {
   "cell_type": "code",
   "execution_count": 4,
   "metadata": {},
   "outputs": [],
   "source": [
    "orig_df[\"Text\"] = orig_df[\"Text\"].astype(str)\n",
    "orig_df[\"Label\"] = orig_df[\"Label\"].astype(str)\n",
    "df = orig_df"
   ]
  },
  {
   "cell_type": "code",
   "execution_count": 5,
   "metadata": {},
   "outputs": [
    {
     "data": {
      "text/plain": [
       "\"'आज के दिन ही मेरा क्रिकेट प्रेम भी समाप्त हो गया\""
      ]
     },
     "execution_count": 5,
     "metadata": {},
     "output_type": "execute_result"
    }
   ],
   "source": [
    "# Displaying eg tweet before translation\n",
    "df.Text[6]"
   ]
  },
  {
   "cell_type": "markdown",
   "metadata": {},
   "source": [
    "### Class count"
   ]
  },
  {
   "cell_type": "code",
   "execution_count": 7,
   "metadata": {},
   "outputs": [
    {
     "data": {
      "image/png": "[encoded data removed]",
      "text/plain": [
       "<Figure size 432x288 with 1 Axes>"
      ]
     },
     "metadata": {
      "needs_background": "light"
     },
     "output_type": "display_data"
    }
   ],
   "source": [
    "import matplotlib.pyplot as plt\n",
    "fig = plt.figure(figsize=(6,4))\n",
    "df.groupby('Label').Text.count().plot.bar(ylim=0)\n",
    "plt.show()"
   ]
  },
  {
   "cell_type": "code",
   "execution_count": 8,
   "metadata": {},
   "outputs": [
    {
     "data": {
      "text/plain": [
       "2    3375\n",
       "0    3244\n",
       "1    2174\n",
       "Name: Label, dtype: int64"
      ]
     },
     "execution_count": 8,
     "metadata": {},
     "output_type": "execute_result"
    }
   ],
   "source": [
    "# For entire dataset sentences for each labels \n",
    "df.Label.value_counts()"
   ]
  },
  {
   "cell_type": "code",
   "execution_count": 9,
   "metadata": {},
   "outputs": [],
   "source": [
    "#balancing data \n",
    "from collections import Counter\n",
    "import numpy as np\n",
    "def balanceClasses(xs, ys):\n",
    "    item = {}\n",
    "    new_ys = []\n",
    "    new_xs = []\n",
    "    #\"\"\"Undersample xs, ys to balance classes.\"\"\"\n",
    "    freqs = Counter(ys)\n",
    "    # the most common class  is the maximum number we want for all classes\n",
    "    max_allowable = (freqs.most_common()[0][1])\n",
    "    \n",
    "    for val in freqs.most_common(): # List\n",
    "        nums = np.random.randint(1000)\n",
    "        i = 1\n",
    "        item[val[0]] = max_allowable - val[1]\n",
    "        \n",
    "        if item[val[0]] > 0:            \n",
    "            while(item[val[0]] - i != 0): \n",
    "                nums = nums + 1\n",
    "                if ys[nums] == val[0]:\n",
    "                    i += 1\n",
    "                    new_ys.append(ys[nums])\n",
    "                    new_xs.append(xs[nums])\n",
    "    return new_xs, new_ys"
   ]
  },
  {
   "cell_type": "code",
   "execution_count": 10,
   "metadata": {},
   "outputs": [],
   "source": [
    "new_text, new_label = balanceClasses(df['Text'], df['Label'])"
   ]
  },
  {
   "cell_type": "code",
   "execution_count": 11,
   "metadata": {},
   "outputs": [],
   "source": [
    "data = pd.DataFrame(new_text)\n",
    "data.columns = ['Text']\n",
    "data['Label'] = new_label\n",
    "data = pd.concat([df, data])"
   ]
  },
  {
   "cell_type": "code",
   "execution_count": 12,
   "metadata": {},
   "outputs": [
    {
     "data": {
      "image/png": "[encoded data removed]",
      "text/plain": [
       "<Figure size 432x288 with 1 Axes>"
      ]
     },
     "metadata": {
      "needs_background": "light"
     },
     "output_type": "display_data"
    }
   ],
   "source": [
    "fig1 = plt.figure(figsize=(6,4))\n",
    "data.groupby('Label').Text.count().plot.bar(ylim=0)\n",
    "plt.show()"
   ]
  },
  {
   "cell_type": "code",
   "execution_count": 13,
   "metadata": {},
   "outputs": [
    {
     "data": {
      "text/plain": [
       "2    3375\n",
       "0    3374\n",
       "1    3374\n",
       "Name: Label, dtype: int64"
      ]
     },
     "execution_count": 13,
     "metadata": {},
     "output_type": "execute_result"
    }
   ],
   "source": [
    "data.Label.value_counts()"
   ]
  },
  {
   "cell_type": "code",
   "execution_count": 14,
   "metadata": {},
   "outputs": [
    {
     "data": {
      "text/html": [
       "<div>\n",
       "<style scoped>\n",
       "    .dataframe tbody tr th:only-of-type {\n",
       "        vertical-align: middle;\n",
       "    }\n",
       "\n",
       "    .dataframe tbody tr th {\n",
       "        vertical-align: top;\n",
       "    }\n",
       "\n",
       "    .dataframe thead th {\n",
       "        text-align: right;\n",
       "    }\n",
       "</style>\n",
       "<table border=\"1\" class=\"dataframe\">\n",
       "  <thead>\n",
       "    <tr style=\"text-align: right;\">\n",
       "      <th></th>\n",
       "      <th>Text</th>\n",
       "      <th>Label</th>\n",
       "    </tr>\n",
       "  </thead>\n",
       "  <tbody>\n",
       "    <tr>\n",
       "      <th>0</th>\n",
       "      <td>'🌙 🕋 आलम ए इस्लाम को 1442 हिजरी #इस्लामी नया स...</td>\n",
       "      <td>1</td>\n",
       "    </tr>\n",
       "    <tr>\n",
       "      <th>1</th>\n",
       "      <td>'Welcome या ख़ुदा डॉक्टर साहब की आवाज़ को हमेश...</td>\n",
       "      <td>1</td>\n",
       "    </tr>\n",
       "    <tr>\n",
       "      <th>2</th>\n",
       "      <td>'@Jindgiekjung शानदार    जिन्दाबाद❗</td>\n",
       "      <td>0</td>\n",
       "    </tr>\n",
       "    <tr>\n",
       "      <th>3</th>\n",
       "      <td>'@Lalu17SP @yadavteju @Rajlakshmiyadav @spsuni...</td>\n",
       "      <td>0</td>\n",
       "    </tr>\n",
       "    <tr>\n",
       "      <th>4</th>\n",
       "      <td>'SSR Death Case: सुशांत सिंह राजपूत को न्याय द...</td>\n",
       "      <td>0</td>\n",
       "    </tr>\n",
       "    <tr>\n",
       "      <th>...</th>\n",
       "      <td>...</td>\n",
       "      <td>...</td>\n",
       "    </tr>\n",
       "    <tr>\n",
       "      <th>10118</th>\n",
       "      <td>'हज़रत इमाम हुसैन अलैहिस्सलाम फरमाते हैं: इज़्...</td>\n",
       "      <td>1</td>\n",
       "    </tr>\n",
       "    <tr>\n",
       "      <th>10119</th>\n",
       "      <td>'@himansh76886855 क्यों की जेहादी जेहादी को बच...</td>\n",
       "      <td>2</td>\n",
       "    </tr>\n",
       "    <tr>\n",
       "      <th>10120</th>\n",
       "      <td>'@DeepikaSRajawat अरे कोमरेड की पालतू क्या हुआ...</td>\n",
       "      <td>2</td>\n",
       "    </tr>\n",
       "    <tr>\n",
       "      <th>10121</th>\n",
       "      <td>'कट्टर जेहादी मानसिकता के धनी ओवैसी को ज्ञानी ...</td>\n",
       "      <td>2</td>\n",
       "    </tr>\n",
       "    <tr>\n",
       "      <th>10122</th>\n",
       "      <td>'@SM_T786M @aimim_national माशा अल्लाह Ya अल्ल...</td>\n",
       "      <td>1</td>\n",
       "    </tr>\n",
       "  </tbody>\n",
       "</table>\n",
       "<p>10123 rows × 2 columns</p>\n",
       "</div>"
      ],
      "text/plain": [
       "                                                    Text Label\n",
       "0      '🌙 🕋 आलम ए इस्लाम को 1442 हिजरी #इस्लामी नया स...     1\n",
       "1      'Welcome या ख़ुदा डॉक्टर साहब की आवाज़ को हमेश...     1\n",
       "2                    '@Jindgiekjung शानदार    जिन्दाबाद❗     0\n",
       "3      '@Lalu17SP @yadavteju @Rajlakshmiyadav @spsuni...     0\n",
       "4      'SSR Death Case: सुशांत सिंह राजपूत को न्याय द...     0\n",
       "...                                                  ...   ...\n",
       "10118  'हज़रत इमाम हुसैन अलैहिस्सलाम फरमाते हैं: इज़्...     1\n",
       "10119  '@himansh76886855 क्यों की जेहादी जेहादी को बच...     2\n",
       "10120  '@DeepikaSRajawat अरे कोमरेड की पालतू क्या हुआ...     2\n",
       "10121  'कट्टर जेहादी मानसिकता के धनी ओवैसी को ज्ञानी ...     2\n",
       "10122  '@SM_T786M @aimim_national माशा अल्लाह Ya अल्ल...     1\n",
       "\n",
       "[10123 rows x 2 columns]"
      ]
     },
     "execution_count": 14,
     "metadata": {},
     "output_type": "execute_result"
    }
   ],
   "source": [
    "data=data.sample(frac=1).reset_index(drop=True)\n",
    "data"
   ]
  },
  {
   "cell_type": "markdown",
   "metadata": {},
   "source": [
    "### Data Preprocessing"
   ]
  },
  {
   "cell_type": "code",
   "execution_count": 15,
   "metadata": {},
   "outputs": [],
   "source": [
    "# People usually join sentences using more than one colon \n",
    "\n",
    "def ReplaceDoubleColon(inputString):\n",
    "    return inputString.replace(\"..\", \" \") \n",
    "\n",
    "data['Text'] = data['Text'].apply(lambda x: ReplaceDoubleColon(x))\n",
    "\n",
    "def ReplaceTripleColon(inputString):\n",
    "    return inputString.replace(\"...\", \" \") \n",
    "\n",
    "data['Text'] = data['Text'].apply(lambda x: ReplaceTripleColon(x))\n",
    "\n",
    "def ReplaceFourColon(inputString):\n",
    "    return inputString.replace(\"....\", \" \") \n",
    "\n",
    "data['Text'] = data['Text'].apply(lambda x: ReplaceFourColon(x))"
   ]
  },
  {
   "cell_type": "code",
   "execution_count": 16,
   "metadata": {},
   "outputs": [],
   "source": [
    "def textPattern(text):\n",
    "\n",
    "    # Clean the text\n",
    "    text = re.sub(r\"@\", \" \", text)\n",
    "    text = re.sub(r\",\", \" \", text)\n",
    "    text = re.sub(r\"\\.\", \" \", text)\n",
    "    text = re.sub(r\"!\", \" \", text)\n",
    "    text = re.sub(r\"\\/\", \" \", text)\n",
    "    text = re.sub(r\"\\^\", \" ^ \", text)\n",
    "    text = re.sub(r\"\\+\", \" \", text)\n",
    "    text = re.sub(r\"\\-\", \" - \", text)\n",
    "    text = re.sub(r\"\\= =\", \" \", text)\n",
    "    text = re.sub(r\"\\==\", \" \", text)\n",
    "    text = re.sub(r\"'\", \" \", text)\n",
    "    text = re.sub(r\"(\\d+)(k)\", r\"\\g<1>000\", text)\n",
    "    text = re.sub(r\":\", \" : \", text)\n",
    "    text = re.sub(r\"\\0s\", \"0\", text)\n",
    "    text = re.sub(r\" 9 11 \", \"911\", text)\n",
    "    text = re.sub(r\"\\s{2,}\", \" \", text)\n",
    "    return text\n",
    "\n",
    "data['Text'] = data['Text'].apply(lambda x: textPattern(x))"
   ]
  },
  {
   "cell_type": "code",
   "execution_count": 17,
   "metadata": {},
   "outputs": [],
   "source": [
    "# Word Tokenization\n",
    "tokens = [word_tokenize(sen) for sen in data.Text]"
   ]
  },
  {
   "cell_type": "code",
   "execution_count": 18,
   "metadata": {},
   "outputs": [],
   "source": [
    "# Lower Case\n",
    "def lower_token(tokens): \n",
    "    return [w.lower() for w in tokens]    \n",
    "    \n",
    "lower_tokens = [lower_token(token) for token in tokens]"
   ]
  },
  {
   "cell_type": "code",
   "execution_count": 19,
   "metadata": {},
   "outputs": [],
   "source": [
    "# Remove Link\n",
    "\n",
    "def removeLink(token):\n",
    "    word = []\n",
    "    for w in token:\n",
    "        if not w.startswith('http'):\n",
    "            word.append(w)\n",
    "    return word \n",
    "    \n",
    "removedLink_tokens = [removeLink(token) for token in lower_tokens]"
   ]
  },
  {
   "cell_type": "code",
   "execution_count": 20,
   "metadata": {},
   "outputs": [],
   "source": [
    "# Word Lemmatization\n",
    "def lemmatization(token):\n",
    "    return [lemmatizer.lemmatize(w) for w in token] \n",
    "\n",
    "lemmatizer = WordNetLemmatizer()\n",
    "\n",
    "lemmatized_tokens = [lemmatization(token) for token in removedLink_tokens]"
   ]
  },
  {
   "cell_type": "code",
   "execution_count": 21,
   "metadata": {},
   "outputs": [],
   "source": [
    "# Removing Stopwords\n",
    "stoplist=open(\"Devanagari/stopwords.txt\",\"r\")"
   ]
  },
  {
   "cell_type": "code",
   "execution_count": 22,
   "metadata": {},
   "outputs": [],
   "source": [
    "def removeStopWords(tokens): \n",
    "    return [word for word in tokens if word not in stoplist]\n",
    "\n",
    "filtered_words = [sen for sen in lemmatized_tokens]\n",
    "data['Text_Final'] = [' '.join(sen) for sen in filtered_words]\n",
    "data['tokens'] = filtered_words"
   ]
  },
  {
   "cell_type": "code",
   "execution_count": 23,
   "metadata": {},
   "outputs": [],
   "source": [
    "zero  = []\n",
    "one = []\n",
    "two = []\n",
    "for l in data.Label:\n",
    "    \n",
    "    if l == '0':\n",
    "        zero.append(1)\n",
    "        one.append(0)\n",
    "        two.append(0)\n",
    "    elif l == '1':\n",
    "        zero.append(0)\n",
    "        one.append(1)\n",
    "        two.append(0)\n",
    "    elif l == '2':\n",
    "        zero.append(0)\n",
    "        one.append(0)\n",
    "        two.append(1)\n",
    "        \n",
    "data['0']= zero\n",
    "data['1']= one\n",
    "data['2']= two\n",
    "\n",
    "data = data[['Text_Final', 'tokens', 'Label', '0', '1', '2']]"
   ]
  },
  {
   "cell_type": "code",
   "execution_count": 24,
   "metadata": {},
   "outputs": [
    {
     "data": {
      "text/html": [
       "<div>\n",
       "<style scoped>\n",
       "    .dataframe tbody tr th:only-of-type {\n",
       "        vertical-align: middle;\n",
       "    }\n",
       "\n",
       "    .dataframe tbody tr th {\n",
       "        vertical-align: top;\n",
       "    }\n",
       "\n",
       "    .dataframe thead th {\n",
       "        text-align: right;\n",
       "    }\n",
       "</style>\n",
       "<table border=\"1\" class=\"dataframe\">\n",
       "  <thead>\n",
       "    <tr style=\"text-align: right;\">\n",
       "      <th></th>\n",
       "      <th>Text_Final</th>\n",
       "      <th>tokens</th>\n",
       "      <th>Label</th>\n",
       "      <th>0</th>\n",
       "      <th>1</th>\n",
       "      <th>2</th>\n",
       "      <th>Category_id</th>\n",
       "    </tr>\n",
       "  </thead>\n",
       "  <tbody>\n",
       "    <tr>\n",
       "      <th>0</th>\n",
       "      <td>🌙 🕋 आलम ए इस्लाम को 1442 हिजरी # इस्लामी नया स...</td>\n",
       "      <td>[🌙, 🕋, आलम, ए, इस्लाम, को, 1442, हिजरी, #, इस्...</td>\n",
       "      <td>1</td>\n",
       "      <td>0</td>\n",
       "      <td>1</td>\n",
       "      <td>0</td>\n",
       "      <td>1</td>\n",
       "    </tr>\n",
       "    <tr>\n",
       "      <th>1</th>\n",
       "      <td>welcome या ख़ुदा डॉक्टर साहब की आवाज़ को हमेशा...</td>\n",
       "      <td>[welcome, या, ख़ुदा, डॉक्टर, साहब, की, आवाज़, ...</td>\n",
       "      <td>1</td>\n",
       "      <td>0</td>\n",
       "      <td>1</td>\n",
       "      <td>0</td>\n",
       "      <td>1</td>\n",
       "    </tr>\n",
       "    <tr>\n",
       "      <th>2</th>\n",
       "      <td>jindgiekjung शानदार जिन्दाबाद❗</td>\n",
       "      <td>[jindgiekjung, शानदार, जिन्दाबाद❗]</td>\n",
       "      <td>0</td>\n",
       "      <td>1</td>\n",
       "      <td>0</td>\n",
       "      <td>0</td>\n",
       "      <td>0</td>\n",
       "    </tr>\n",
       "    <tr>\n",
       "      <th>3</th>\n",
       "      <td>lalu17sp yadavteju rajlakshmiyadav spsunilyada...</td>\n",
       "      <td>[lalu17sp, yadavteju, rajlakshmiyadav, spsunil...</td>\n",
       "      <td>0</td>\n",
       "      <td>1</td>\n",
       "      <td>0</td>\n",
       "      <td>0</td>\n",
       "      <td>0</td>\n",
       "    </tr>\n",
       "    <tr>\n",
       "      <th>4</th>\n",
       "      <td>ssr death case : सुशांत सिंह राजपूत को न्याय द...</td>\n",
       "      <td>[ssr, death, case, :, सुशांत, सिंह, राजपूत, को...</td>\n",
       "      <td>0</td>\n",
       "      <td>1</td>\n",
       "      <td>0</td>\n",
       "      <td>0</td>\n",
       "      <td>0</td>\n",
       "    </tr>\n",
       "    <tr>\n",
       "      <th>5</th>\n",
       "      <td>आलम ए इस्लाम को इस्लामी नए साल 1442 हिजरी माहे...</td>\n",
       "      <td>[आलम, ए, इस्लाम, को, इस्लामी, नए, साल, 1442, ह...</td>\n",
       "      <td>1</td>\n",
       "      <td>0</td>\n",
       "      <td>1</td>\n",
       "      <td>0</td>\n",
       "      <td>1</td>\n",
       "    </tr>\n",
       "    <tr>\n",
       "      <th>6</th>\n",
       "      <td>वो जिहादी होता तो आंसू निकलते</td>\n",
       "      <td>[वो, जिहादी, होता, तो, आंसू, निकलते]</td>\n",
       "      <td>2</td>\n",
       "      <td>0</td>\n",
       "      <td>0</td>\n",
       "      <td>1</td>\n",
       "      <td>2</td>\n",
       "    </tr>\n",
       "    <tr>\n",
       "      <th>7</th>\n",
       "      <td>ekhivillain # banislam &amp; amp # fuckislam बाकी ...</td>\n",
       "      <td>[ekhivillain, #, banislam, &amp;, amp, #, fuckisla...</td>\n",
       "      <td>2</td>\n",
       "      <td>0</td>\n",
       "      <td>0</td>\n",
       "      <td>1</td>\n",
       "      <td>2</td>\n",
       "    </tr>\n",
       "    <tr>\n",
       "      <th>8</th>\n",
       "      <td>rajsagarbsp_ somjee_p_bsp mayawati congratulat...</td>\n",
       "      <td>[rajsagarbsp_, somjee_p_bsp, mayawati, congrat...</td>\n",
       "      <td>0</td>\n",
       "      <td>1</td>\n",
       "      <td>0</td>\n",
       "      <td>0</td>\n",
       "      <td>0</td>\n",
       "    </tr>\n",
       "    <tr>\n",
       "      <th>9</th>\n",
       "      <td>2014 से जीडीपी रुपए इकॉनमी गिरने से पीएम की सा...</td>\n",
       "      <td>[2014, से, जीडीपी, रुपए, इकॉनमी, गिरने, से, पी...</td>\n",
       "      <td>0</td>\n",
       "      <td>1</td>\n",
       "      <td>0</td>\n",
       "      <td>0</td>\n",
       "      <td>0</td>\n",
       "    </tr>\n",
       "    <tr>\n",
       "      <th>10</th>\n",
       "      <td>अस्सलामु अलैकुम नये साल की दिली मुबारक़ बाद 14...</td>\n",
       "      <td>[अस्सलामु, अलैकुम, नये, साल, की, दिली, मुबारक़...</td>\n",
       "      <td>1</td>\n",
       "      <td>0</td>\n",
       "      <td>1</td>\n",
       "      <td>0</td>\n",
       "      <td>1</td>\n",
       "    </tr>\n",
       "    <tr>\n",
       "      <th>11</th>\n",
       "      <td>brand_ashish1 beingarun28 कांग्रेस पार्टी दलीत...</td>\n",
       "      <td>[brand_ashish1, beingarun28, कांग्रेस, पार्टी,...</td>\n",
       "      <td>2</td>\n",
       "      <td>0</td>\n",
       "      <td>0</td>\n",
       "      <td>1</td>\n",
       "      <td>2</td>\n",
       "    </tr>\n",
       "    <tr>\n",
       "      <th>12</th>\n",
       "      <td>मुंबई पुलिस को पूरे महाराष्ट्र में पीने का पान...</td>\n",
       "      <td>[मुंबई, पुलिस, को, पूरे, महाराष्ट्र, में, पीने...</td>\n",
       "      <td>0</td>\n",
       "      <td>1</td>\n",
       "      <td>0</td>\n",
       "      <td>0</td>\n",
       "      <td>0</td>\n",
       "    </tr>\n",
       "    <tr>\n",
       "      <th>13</th>\n",
       "      <td>इस्लामिक नयाँ वर्ष १४४२ हिजरी तथा नारीहरुको मह...</td>\n",
       "      <td>[इस्लामिक, नयाँ, वर्ष, १४४२, हिजरी, तथा, नारीह...</td>\n",
       "      <td>1</td>\n",
       "      <td>0</td>\n",
       "      <td>1</td>\n",
       "      <td>0</td>\n",
       "      <td>1</td>\n",
       "    </tr>\n",
       "    <tr>\n",
       "      <th>14</th>\n",
       "      <td>ajazkhanactor पंचर लगायेगा जिहादी ?</td>\n",
       "      <td>[ajazkhanactor, पंचर, लगायेगा, जिहादी, ?]</td>\n",
       "      <td>2</td>\n",
       "      <td>0</td>\n",
       "      <td>0</td>\n",
       "      <td>1</td>\n",
       "      <td>2</td>\n",
       "    </tr>\n",
       "    <tr>\n",
       "      <th>15</th>\n",
       "      <td>ओये सुवर पुत आजम खाँ `` '' गोड्से '' '' पैदा स...</td>\n",
       "      <td>[ओये, सुवर, पुत, आजम, खाँ, ``, '', गोड्से, '',...</td>\n",
       "      <td>2</td>\n",
       "      <td>0</td>\n",
       "      <td>0</td>\n",
       "      <td>1</td>\n",
       "      <td>2</td>\n",
       "    </tr>\n",
       "    <tr>\n",
       "      <th>16</th>\n",
       "      <td>shabbo_khan_ डॉक्टर साहब अब कुछ दिन घर में परि...</td>\n",
       "      <td>[shabbo_khan_, डॉक्टर, साहब, अब, कुछ, दिन, घर,...</td>\n",
       "      <td>1</td>\n",
       "      <td>0</td>\n",
       "      <td>1</td>\n",
       "      <td>0</td>\n",
       "      <td>1</td>\n",
       "    </tr>\n",
       "    <tr>\n",
       "      <th>17</th>\n",
       "      <td>करण जौहर ने 2 महीने बाद किया ये ट्वीट - सुशांत...</td>\n",
       "      <td>[करण, जौहर, ने, 2, महीने, बाद, किया, ये, ट्वीट...</td>\n",
       "      <td>0</td>\n",
       "      <td>1</td>\n",
       "      <td>0</td>\n",
       "      <td>0</td>\n",
       "      <td>0</td>\n",
       "    </tr>\n",
       "    <tr>\n",
       "      <th>18</th>\n",
       "      <td># allahdoesnotneedqurbani हिंदू झटकै मारहीं मु...</td>\n",
       "      <td>[#, allahdoesnotneedqurbani, हिंदू, झटकै, मारह...</td>\n",
       "      <td>2</td>\n",
       "      <td>0</td>\n",
       "      <td>0</td>\n",
       "      <td>1</td>\n",
       "      <td>2</td>\n",
       "    </tr>\n",
       "    <tr>\n",
       "      <th>19</th>\n",
       "      <td># गुड_______नाईट____🌃 # खुदा________हाफ़िज़___...</td>\n",
       "      <td>[#, गुड_______नाईट____🌃, #, खुदा________हाफ़िज...</td>\n",
       "      <td>1</td>\n",
       "      <td>0</td>\n",
       "      <td>1</td>\n",
       "      <td>0</td>\n",
       "      <td>1</td>\n",
       "    </tr>\n",
       "    <tr>\n",
       "      <th>20</th>\n",
       "      <td>बुर्के का रंग काला यू ही नही होता खातून को शौह...</td>\n",
       "      <td>[बुर्के, का, रंग, काला, यू, ही, नही, होता, खात...</td>\n",
       "      <td>2</td>\n",
       "      <td>0</td>\n",
       "      <td>0</td>\n",
       "      <td>1</td>\n",
       "      <td>2</td>\n",
       "    </tr>\n",
       "    <tr>\n",
       "      <th>21</th>\n",
       "      <td>kashaf512 माशा अल्लाह</td>\n",
       "      <td>[kashaf512, माशा, अल्लाह]</td>\n",
       "      <td>1</td>\n",
       "      <td>0</td>\n",
       "      <td>1</td>\n",
       "      <td>0</td>\n",
       "      <td>1</td>\n",
       "    </tr>\n",
       "    <tr>\n",
       "      <th>22</th>\n",
       "      <td>बेशक माशा अल्लाह ❤️</td>\n",
       "      <td>[बेशक, माशा, अल्लाह, ❤️]</td>\n",
       "      <td>1</td>\n",
       "      <td>0</td>\n",
       "      <td>1</td>\n",
       "      <td>0</td>\n",
       "      <td>1</td>\n",
       "    </tr>\n",
       "    <tr>\n",
       "      <th>23</th>\n",
       "      <td>आप सभी को इस्लामिक नया साल 1442 हिजरी मुबारक ह...</td>\n",
       "      <td>[आप, सभी, को, इस्लामिक, नया, साल, 1442, हिजरी,...</td>\n",
       "      <td>1</td>\n",
       "      <td>0</td>\n",
       "      <td>1</td>\n",
       "      <td>0</td>\n",
       "      <td>1</td>\n",
       "    </tr>\n",
       "    <tr>\n",
       "      <th>24</th>\n",
       "      <td>ippatel ये जेहादी हमेशा नरक ही जानेवाले है।</td>\n",
       "      <td>[ippatel, ये, जेहादी, हमेशा, नरक, ही, जानेवाले...</td>\n",
       "      <td>2</td>\n",
       "      <td>0</td>\n",
       "      <td>0</td>\n",
       "      <td>1</td>\n",
       "      <td>2</td>\n",
       "    </tr>\n",
       "  </tbody>\n",
       "</table>\n",
       "</div>"
      ],
      "text/plain": [
       "                                           Text_Final  \\\n",
       "0   🌙 🕋 आलम ए इस्लाम को 1442 हिजरी # इस्लामी नया स...   \n",
       "1   welcome या ख़ुदा डॉक्टर साहब की आवाज़ को हमेशा...   \n",
       "2                      jindgiekjung शानदार जिन्दाबाद❗   \n",
       "3   lalu17sp yadavteju rajlakshmiyadav spsunilyada...   \n",
       "4   ssr death case : सुशांत सिंह राजपूत को न्याय द...   \n",
       "5   आलम ए इस्लाम को इस्लामी नए साल 1442 हिजरी माहे...   \n",
       "6                       वो जिहादी होता तो आंसू निकलते   \n",
       "7   ekhivillain # banislam & amp # fuckislam बाकी ...   \n",
       "8   rajsagarbsp_ somjee_p_bsp mayawati congratulat...   \n",
       "9   2014 से जीडीपी रुपए इकॉनमी गिरने से पीएम की सा...   \n",
       "10  अस्सलामु अलैकुम नये साल की दिली मुबारक़ बाद 14...   \n",
       "11  brand_ashish1 beingarun28 कांग्रेस पार्टी दलीत...   \n",
       "12  मुंबई पुलिस को पूरे महाराष्ट्र में पीने का पान...   \n",
       "13  इस्लामिक नयाँ वर्ष १४४२ हिजरी तथा नारीहरुको मह...   \n",
       "14                ajazkhanactor पंचर लगायेगा जिहादी ?   \n",
       "15  ओये सुवर पुत आजम खाँ `` '' गोड्से '' '' पैदा स...   \n",
       "16  shabbo_khan_ डॉक्टर साहब अब कुछ दिन घर में परि...   \n",
       "17  करण जौहर ने 2 महीने बाद किया ये ट्वीट - सुशांत...   \n",
       "18  # allahdoesnotneedqurbani हिंदू झटकै मारहीं मु...   \n",
       "19  # गुड_______नाईट____🌃 # खुदा________हाफ़िज़___...   \n",
       "20  बुर्के का रंग काला यू ही नही होता खातून को शौह...   \n",
       "21                              kashaf512 माशा अल्लाह   \n",
       "22                                बेशक माशा अल्लाह ❤️   \n",
       "23  आप सभी को इस्लामिक नया साल 1442 हिजरी मुबारक ह...   \n",
       "24        ippatel ये जेहादी हमेशा नरक ही जानेवाले है।   \n",
       "\n",
       "                                               tokens Label  0  1  2  \\\n",
       "0   [🌙, 🕋, आलम, ए, इस्लाम, को, 1442, हिजरी, #, इस्...     1  0  1  0   \n",
       "1   [welcome, या, ख़ुदा, डॉक्टर, साहब, की, आवाज़, ...     1  0  1  0   \n",
       "2                  [jindgiekjung, शानदार, जिन्दाबाद❗]     0  1  0  0   \n",
       "3   [lalu17sp, yadavteju, rajlakshmiyadav, spsunil...     0  1  0  0   \n",
       "4   [ssr, death, case, :, सुशांत, सिंह, राजपूत, को...     0  1  0  0   \n",
       "5   [आलम, ए, इस्लाम, को, इस्लामी, नए, साल, 1442, ह...     1  0  1  0   \n",
       "6                [वो, जिहादी, होता, तो, आंसू, निकलते]     2  0  0  1   \n",
       "7   [ekhivillain, #, banislam, &, amp, #, fuckisla...     2  0  0  1   \n",
       "8   [rajsagarbsp_, somjee_p_bsp, mayawati, congrat...     0  1  0  0   \n",
       "9   [2014, से, जीडीपी, रुपए, इकॉनमी, गिरने, से, पी...     0  1  0  0   \n",
       "10  [अस्सलामु, अलैकुम, नये, साल, की, दिली, मुबारक़...     1  0  1  0   \n",
       "11  [brand_ashish1, beingarun28, कांग्रेस, पार्टी,...     2  0  0  1   \n",
       "12  [मुंबई, पुलिस, को, पूरे, महाराष्ट्र, में, पीने...     0  1  0  0   \n",
       "13  [इस्लामिक, नयाँ, वर्ष, १४४२, हिजरी, तथा, नारीह...     1  0  1  0   \n",
       "14          [ajazkhanactor, पंचर, लगायेगा, जिहादी, ?]     2  0  0  1   \n",
       "15  [ओये, सुवर, पुत, आजम, खाँ, ``, '', गोड्से, '',...     2  0  0  1   \n",
       "16  [shabbo_khan_, डॉक्टर, साहब, अब, कुछ, दिन, घर,...     1  0  1  0   \n",
       "17  [करण, जौहर, ने, 2, महीने, बाद, किया, ये, ट्वीट...     0  1  0  0   \n",
       "18  [#, allahdoesnotneedqurbani, हिंदू, झटकै, मारह...     2  0  0  1   \n",
       "19  [#, गुड_______नाईट____🌃, #, खुदा________हाफ़िज...     1  0  1  0   \n",
       "20  [बुर्के, का, रंग, काला, यू, ही, नही, होता, खात...     2  0  0  1   \n",
       "21                          [kashaf512, माशा, अल्लाह]     1  0  1  0   \n",
       "22                           [बेशक, माशा, अल्लाह, ❤️]     1  0  1  0   \n",
       "23  [आप, सभी, को, इस्लामिक, नया, साल, 1442, हिजरी,...     1  0  1  0   \n",
       "24  [ippatel, ये, जेहादी, हमेशा, नरक, ही, जानेवाले...     2  0  0  1   \n",
       "\n",
       "   Category_id  \n",
       "0            1  \n",
       "1            1  \n",
       "2            0  \n",
       "3            0  \n",
       "4            0  \n",
       "5            1  \n",
       "6            2  \n",
       "7            2  \n",
       "8            0  \n",
       "9            0  \n",
       "10           1  \n",
       "11           2  \n",
       "12           0  \n",
       "13           1  \n",
       "14           2  \n",
       "15           2  \n",
       "16           1  \n",
       "17           0  \n",
       "18           2  \n",
       "19           1  \n",
       "20           2  \n",
       "21           1  \n",
       "22           1  \n",
       "23           1  \n",
       "24           2  "
      ]
     },
     "execution_count": 24,
     "metadata": {},
     "output_type": "execute_result"
    }
   ],
   "source": [
    "category_id = []\n",
    "for l in data.Label:\n",
    "    \n",
    "    if l == '0':\n",
    "        category_id.append('0')\n",
    "    elif l == '1':\n",
    "        category_id.append('1')\n",
    "    elif l == '2':\n",
    "        category_id.append('2')\n",
    "        \n",
    "data['Category_id'] = category_id\n",
    "\n",
    "data = data[['Text_Final', 'tokens', 'Label', '0', '1', '2', 'Category_id' ]]\n",
    "data.head(25)"
   ]
  },
  {
   "cell_type": "code",
   "execution_count": 25,
   "metadata": {},
   "outputs": [],
   "source": [
    "data = data[data.tokens != '']"
   ]
  },
  {
   "cell_type": "code",
   "execution_count": 26,
   "metadata": {},
   "outputs": [],
   "source": [
    "from io import StringIO\n",
    "category_id_df = data[['Label', 'Category_id']].drop_duplicates().sort_values('Category_id')\n",
    "category_to_label_dict = dict(category_id_df.values)\n",
    "label_to_category_dict = dict(category_id_df[['Category_id', 'Label']].values)"
   ]
  },
  {
   "cell_type": "markdown",
   "metadata": {},
   "source": [
    "#### Split Data into test and train\n",
    "We will use 90 % data for training and 10 % for testing. We use random state so every time we get the same training and testing data."
   ]
  },
  {
   "cell_type": "markdown",
   "metadata": {},
   "source": [
    "# Support Vector Method (SVM) and Random Forest Method (RFM)"
   ]
  },
  {
   "cell_type": "markdown",
   "metadata": {},
   "source": [
    "We referred a blog on Multi class classification for SVM and RFM [2]"
   ]
  },
  {
   "cell_type": "markdown",
   "metadata": {},
   "source": [
    "### Generating features using TF-IDF Vectorizer method"
   ]
  },
  {
   "cell_type": "code",
   "execution_count": 27,
   "metadata": {},
   "outputs": [
    {
     "data": {
      "text/plain": [
       "(10123, 32916)"
      ]
     },
     "execution_count": 27,
     "metadata": {},
     "output_type": "execute_result"
    }
   ],
   "source": [
    "vectorizer = TfidfVectorizer(sublinear_tf=True, min_df=2, norm='l2', encoding='latin-1', ngram_range=(1, 5), stop_words='english')\n",
    "features = vectorizer.fit_transform(data.Text_Final).toarray()\n",
    "labels = data.Label\n",
    "features.shape"
   ]
  },
  {
   "cell_type": "markdown",
   "metadata": {},
   "source": [
    "### Testing SVM models using K-fold cross validation\n"
   ]
  },
  {
   "cell_type": "code",
   "execution_count": 48,
   "metadata": {},
   "outputs": [
    {
     "name": "stdout",
     "output_type": "stream",
     "text": [
      "Support Vector with Tf-idf: \n",
      "1 0.9111549851924975\n",
      "2 0.8953603158933859\n",
      "3 0.8914116485686081\n",
      "4 0.8942687747035574\n",
      "5 0.8982213438735178\n",
      "6 0.8685770750988142\n",
      "7 0.9021739130434783\n",
      "8 0.9051383399209486\n",
      "9 0.9071146245059288\n",
      "10 0.9100790513833992\n",
      " Average Accuracy : 0.8983500072184135\n"
     ]
    }
   ],
   "source": [
    "import random\n",
    "\n",
    "# Creating model \n",
    "model = LinearSVC()\n",
    "\n",
    "# KFold cross-validation\n",
    "kFold = 10\n",
    "\n",
    "scores = []\n",
    "#To get accuracy of the model for 10 different splits\n",
    "scoreValue = cross_val_score(model, features, labels, scoring='accuracy', cv= kFold)\n",
    "\n",
    "# append name and score of each model with different splits\n",
    "print(\"Support Vector with Tf-idf: \")\n",
    "for fold_idx, accuracy in enumerate(scoreValue):\n",
    "    print ((fold_idx + 1), accuracy)\n",
    "    scores.append(accuracy)\n",
    "    \n",
    "Mean_score =  sum(scores) / len(scores)\n",
    "print(f\" Average Accuracy : {Mean_score}\" )\n"
   ]
  },
  {
   "cell_type": "markdown",
   "metadata": {},
   "source": [
    "### Spliting data 90/ 10"
   ]
  },
  {
   "cell_type": "code",
   "execution_count": 29,
   "metadata": {},
   "outputs": [],
   "source": [
    "# Using similar split as CNN model\n",
    "X_train, X_test, y_train, y_test, idx_train, idx_test = train_test_split(features, labels, data.index, test_size=0.10, random_state=82)"
   ]
  },
  {
   "cell_type": "markdown",
   "metadata": {},
   "source": [
    "### SVM - Generating model "
   ]
  },
  {
   "cell_type": "code",
   "execution_count": 30,
   "metadata": {},
   "outputs": [],
   "source": [
    "# generate Linear SVM model\n",
    "model = LinearSVC()\n",
    "clf = model.fit(X_train, y_train)\n",
    "y_pred = model.predict(X_test)"
   ]
  },
  {
   "cell_type": "markdown",
   "metadata": {},
   "source": [
    "### SVM - Showing some prediction"
   ]
  },
  {
   "cell_type": "code",
   "execution_count": 31,
   "metadata": {},
   "outputs": [
    {
     "name": "stdout",
     "output_type": "stream",
     "text": [
      "['0']\n"
     ]
    }
   ],
   "source": [
    "# 0\n",
    "print(clf.predict(vectorizer.transform([\"These media fellows have time to dissect one's social media profile,but none of spineless jokers has the guts to question as to why and how a convict like Lalu Yadav is roaming outside and running a Government.\"])))"
   ]
  },
  {
   "cell_type": "code",
   "execution_count": 32,
   "metadata": {},
   "outputs": [
    {
     "name": "stdout",
     "output_type": "stream",
     "text": [
      "['2']\n"
     ]
    }
   ],
   "source": [
    "# 2\n",
    "print(clf.predict(vectorizer.transform([\"Muslim asshole jehadi!\"])))"
   ]
  },
  {
   "cell_type": "code",
   "execution_count": 33,
   "metadata": {},
   "outputs": [
    {
     "name": "stdout",
     "output_type": "stream",
     "text": [
      "['2']\n"
     ]
    }
   ],
   "source": [
    "# 1\n",
    "print(clf.predict(vectorizer.transform([\"I have a muslim friend and Islam is beautiful\"])))"
   ]
  },
  {
   "cell_type": "code",
   "execution_count": 34,
   "metadata": {},
   "outputs": [
    {
     "name": "stdout",
     "output_type": "stream",
     "text": [
      "['2']\n"
     ]
    }
   ],
   "source": [
    "# 2\n",
    "print(clf.predict(vectorizer.transform([\"@Peer__Pressure_ @Totla_musa It's a religion of rape. Momo started it and it still continues to this day. Haven't you heard the saying what the right hand possess It's is from Pisslam \"])))"
   ]
  },
  {
   "cell_type": "code",
   "execution_count": 35,
   "metadata": {},
   "outputs": [
    {
     "name": "stdout",
     "output_type": "stream",
     "text": [
      "['1']\n"
     ]
    }
   ],
   "source": [
    "#1\n",
    "print(clf.predict(vectorizer.transform([\"'@hiavol6 happy first day of muharram bub ily\"])))"
   ]
  },
  {
   "cell_type": "markdown",
   "metadata": {},
   "source": [
    "###  SVM - Displaying false-positive rate (FPR) and true positive rate (TPR)"
   ]
  },
  {
   "cell_type": "code",
   "execution_count": 36,
   "metadata": {},
   "outputs": [
    {
     "name": "stdout",
     "output_type": "stream",
     "text": [
      "                          Support Vector Method\n"
     ]
    },
    {
     "data": {
      "image/png": "[encoded data removed]",
      "text/plain": [
       "<Figure size 360x360 with 2 Axes>"
      ]
     },
     "metadata": {
      "needs_background": "light"
     },
     "output_type": "display_data"
    }
   ],
   "source": [
    "from sklearn.metrics import confusion_matrix\n",
    "print(\"                          Support Vector Method\")\n",
    "conf_mat = confusion_matrix(y_test, y_pred)\n",
    "fig, ax = plt.subplots(figsize=(5,5))\n",
    "sns.heatmap(conf_mat, annot=True, fmt='d', cmap ='YlGnBu',\n",
    "            xticklabels=category_id_df.Label.values, yticklabels=category_id_df.Label.values)\n",
    "plt.ylabel('Actual')\n",
    "plt.xlabel('Predicted')\n",
    "plt.show()"
   ]
  },
  {
   "cell_type": "markdown",
   "metadata": {},
   "source": [
    "### SVM - Precision, Recall and F1-Score to quantify the quality of our model using a confusion matrix"
   ]
  },
  {
   "cell_type": "code",
   "execution_count": 37,
   "metadata": {},
   "outputs": [
    {
     "name": "stdout",
     "output_type": "stream",
     "text": [
      "Confusion Matrix :\n",
      "[[299   7  42]\n",
      " [  7 299   8]\n",
      " [ 35   3 313]]\n",
      "Accuracy Score : 0.8993089832181639\n",
      "Report : \n",
      "              precision    recall  f1-score   support\n",
      "\n",
      "           0       0.88      0.86      0.87       348\n",
      "           1       0.97      0.95      0.96       314\n",
      "           2       0.86      0.89      0.88       351\n",
      "\n",
      "    accuracy                           0.90      1013\n",
      "   macro avg       0.90      0.90      0.90      1013\n",
      "weighted avg       0.90      0.90      0.90      1013\n",
      "\n"
     ]
    }
   ],
   "source": [
    "results = confusion_matrix(y_test, y_pred)\n",
    "print ('Confusion Matrix :')\n",
    "print(results) \n",
    "print ('Accuracy Score :',accuracy_score(y_test, y_pred))\n",
    "print ('Report : ')\n",
    "print (classification_report(y_test, y_pred))"
   ]
  },
  {
   "cell_type": "markdown",
   "metadata": {},
   "source": [
    "# SVM - BOW"
   ]
  },
  {
   "cell_type": "code",
   "execution_count": 38,
   "metadata": {},
   "outputs": [
    {
     "data": {
      "text/plain": [
       "(10123, 9070)"
      ]
     },
     "execution_count": 38,
     "metadata": {},
     "output_type": "execute_result"
    }
   ],
   "source": [
    "from sklearn.feature_extraction.text import CountVectorizer\n",
    "count_vect = CountVectorizer()\n",
    "features1 = count_vect.fit_transform(data.Text_Final).toarray()\n",
    "labels = data.Label\n",
    "features1.shape"
   ]
  },
  {
   "cell_type": "code",
   "execution_count": 39,
   "metadata": {},
   "outputs": [],
   "source": [
    "# Using similar split 90/10\n",
    "X_train, X_test, y_train, y_test, idx_train, idx_test = train_test_split(features1, labels, data.index, test_size=0.10, random_state=72)"
   ]
  },
  {
   "cell_type": "code",
   "execution_count": 49,
   "metadata": {},
   "outputs": [],
   "source": [
    "# generate Linear SVM model\n",
    "model2 = LinearSVC()\n",
    "#model2 = LinearSVC(random_state=0, tol=1e-5, verbose=1, max_iter=10000)\n",
    "clf2 = model2.fit(X_train, y_train)\n",
    "y_pred2 = model2.predict(X_test)"
   ]
  },
  {
   "cell_type": "markdown",
   "metadata": {},
   "source": [
    "### SVM - BOW - Showing some prediction"
   ]
  },
  {
   "cell_type": "code",
   "execution_count": 45,
   "metadata": {},
   "outputs": [
    {
     "name": "stdout",
     "output_type": "stream",
     "text": [
      "['2']\n"
     ]
    }
   ],
   "source": [
    "# 2\n",
    "print(clf2.predict(count_vect.transform([\"'गाजा में दीवाली   की ढेरो बधाई मित्रो 😊💐  #IsraeliBombing 😂😂\"])))"
   ]
  },
  {
   "cell_type": "code",
   "execution_count": 46,
   "metadata": {},
   "outputs": [
    {
     "name": "stdout",
     "output_type": "stream",
     "text": [
      "['2']\n"
     ]
    }
   ],
   "source": [
    "# 2\n",
    "print(clf2.predict(count_vect.transform([\"UK ने भारत को लुटा था अब जिहादी UK को लुटने पोहँच गए। जो करोगे सो भरोगे।\"])))"
   ]
  },
  {
   "cell_type": "code",
   "execution_count": 47,
   "metadata": {},
   "outputs": [
    {
     "name": "stdout",
     "output_type": "stream",
     "text": [
      "['0']\n"
     ]
    }
   ],
   "source": [
    "# 0\n",
    "print(clf2.predict(count_vect.transform([\" समाज वादी  पार्टी  जिंदाबाद \"])))"
   ]
  },
  {
   "cell_type": "code",
   "execution_count": 48,
   "metadata": {},
   "outputs": [
    {
     "name": "stdout",
     "output_type": "stream",
     "text": [
      "['2']\n"
     ]
    }
   ],
   "source": [
    "# 1\n",
    "print(clf2.predict(count_vect.transform([\"इसलाम सुंदर है\" ])))"
   ]
  },
  {
   "cell_type": "code",
   "execution_count": 50,
   "metadata": {},
   "outputs": [
    {
     "name": "stdout",
     "output_type": "stream",
     "text": [
      "['2']\n"
     ]
    }
   ],
   "source": [
    "# 0\n",
    "print(clf2.predict(count_vect.transform([\"Cambs U18 v Under 18 Under 18 138/9 (37.4) Cambridgeshire Cricket Board Under 18 won by 111 runs\"])))"
   ]
  },
  {
   "cell_type": "code",
   "execution_count": 51,
   "metadata": {},
   "outputs": [
    {
     "name": "stdout",
     "output_type": "stream",
     "text": [
      "['0']\n"
     ]
    }
   ],
   "source": [
    "# 2\n",
    "print(clf2.predict(count_vect.transform([\"Muslim asshole jehadi !\"])))"
   ]
  },
  {
   "cell_type": "code",
   "execution_count": 52,
   "metadata": {},
   "outputs": [
    {
     "name": "stdout",
     "output_type": "stream",
     "text": [
      "['0']\n"
     ]
    }
   ],
   "source": [
    "# 1\n",
    "print(clf2.predict(count_vect.transform([\"I have a muslim friend and Islam is beautiful\"])))"
   ]
  },
  {
   "cell_type": "code",
   "execution_count": 53,
   "metadata": {},
   "outputs": [
    {
     "name": "stdout",
     "output_type": "stream",
     "text": [
      "['0']\n"
     ]
    }
   ],
   "source": [
    "# 1\n",
    "print(clf2.predict(count_vect.transform([\"Prophet said: Whenever a Muslim supplicates for his (Muslim) brother in his absence  the angels say: `May the same be for you too\"])))"
   ]
  },
  {
   "cell_type": "markdown",
   "metadata": {},
   "source": [
    "###  SVM - BOW - Displaying false-positive rate (FPR) and true positive rate (TPR)"
   ]
  },
  {
   "cell_type": "code",
   "execution_count": 54,
   "metadata": {},
   "outputs": [
    {
     "name": "stdout",
     "output_type": "stream",
     "text": [
      "                     Support Vector Method - BOW\n"
     ]
    },
    {
     "data": {
      "image/png": "[encoded data removed]",
      "text/plain": [
       "<Figure size 360x360 with 2 Axes>"
      ]
     },
     "metadata": {
      "needs_background": "light"
     },
     "output_type": "display_data"
    }
   ],
   "source": [
    "from sklearn.metrics import confusion_matrix\n",
    "print(\"                     Support Vector Method - BOW\")\n",
    "conf_mat = confusion_matrix(y_test, y_pred2)\n",
    "fig, ax = plt.subplots(figsize=(5,5))\n",
    "sns.heatmap(conf_mat, annot=True, fmt='d', cmap=\"YlGnBu\",\n",
    "            xticklabels=category_id_df.Label.values, yticklabels=category_id_df.Label.values)\n",
    "plt.ylabel('Actual')\n",
    "plt.xlabel('Predicted')\n",
    "plt.show()"
   ]
  },
  {
   "cell_type": "markdown",
   "metadata": {},
   "source": [
    "### SVM - BOW - Precision, Recall and F1-Score to quantify the quality of our model using a confusion matrix."
   ]
  },
  {
   "cell_type": "code",
   "execution_count": 55,
   "metadata": {},
   "outputs": [
    {
     "name": "stdout",
     "output_type": "stream",
     "text": [
      "Confusion Matrix :\n",
      "[[307   6  44]\n",
      " [ 12 316   3]\n",
      " [ 52   6 267]]\n",
      "Accuracy Score : 0.87857847976308\n",
      "Report : \n",
      "              precision    recall  f1-score   support\n",
      "\n",
      "           0       0.83      0.86      0.84       357\n",
      "           1       0.96      0.95      0.96       331\n",
      "           2       0.85      0.82      0.84       325\n",
      "\n",
      "    accuracy                           0.88      1013\n",
      "   macro avg       0.88      0.88      0.88      1013\n",
      "weighted avg       0.88      0.88      0.88      1013\n",
      "\n"
     ]
    }
   ],
   "source": [
    "results2 = confusion_matrix(y_test, y_pred2)\n",
    "print ('Confusion Matrix :')\n",
    "print(results2) \n",
    "print ('Accuracy Score :',accuracy_score(y_test, y_pred2))\n",
    "print ('Report : ')\n",
    "print (classification_report(y_test, y_pred2))"
   ]
  },
  {
   "cell_type": "markdown",
   "metadata": {},
   "source": [
    "### SVM with BOW kfold"
   ]
  },
  {
   "cell_type": "code",
   "execution_count": 56,
   "metadata": {},
   "outputs": [
    {
     "name": "stdout",
     "output_type": "stream",
     "text": [
      "Random Forest with BOW: \n",
      "1 0.8825271470878578\n",
      "2 0.8696939782823297\n",
      "3 0.861796643632774\n",
      "4 0.8675889328063241\n",
      "5 0.8824110671936759\n",
      "6 0.8507905138339921\n",
      "7 0.8873517786561265\n",
      "8 0.8824110671936759\n",
      "9 0.8794466403162056\n",
      "10 0.8853754940711462\n",
      " Average Accuracy : 0.8749393263074108\n"
     ]
    }
   ],
   "source": [
    "# KFold cross-validation\n",
    "kFold = 10\n",
    "\n",
    "scores = []\n",
    "#To get accuracy of the model for 10 different splits\n",
    "scoreValue = cross_val_score(model2, features1, labels, scoring='accuracy', cv= kFold)\n",
    "\n",
    "# append name and score of each model with different splits\n",
    "print(\"Random Forest with BOW: \")\n",
    "for fold_idx, accuracy in enumerate(scoreValue):\n",
    "    print ((fold_idx + 1), accuracy)\n",
    "    scores.append(accuracy)\n",
    "    \n",
    "Mean_score =  sum(scores) / len(scores)\n",
    "print(f\" Average Accuracy : {Mean_score}\" )"
   ]
  },
  {
   "cell_type": "markdown",
   "metadata": {},
   "source": [
    "### Reference"
   ]
  },
  {
   "cell_type": "markdown",
   "metadata": {},
   "source": [
    "[1] Multi-Class Text Classification with Scikit-Learn by Susan Li"
   ]
  },
  {
   "cell_type": "markdown",
   "metadata": {},
   "source": [
    "[2] Scikit-Learn Documentation https://scikit-learn.org/"
   ]
  }
 ],
 "metadata": {
  "kernelspec": {
   "display_name": "Python 3",
   "language": "python",
   "name": "python3"
  },
  "language_info": {
   "codemirror_mode": {
    "name": "ipython",
    "version": 3
   },
   "file_extension": ".py",
   "mimetype": "text/x-python",
   "name": "python",
   "nbconvert_exporter": "python",
   "pygments_lexer": "ipython3",
   "version": "3.8.5"
  }
 },
 "nbformat": 4,
 "nbformat_minor": 4
}
