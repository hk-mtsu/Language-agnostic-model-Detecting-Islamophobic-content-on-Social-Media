{
 "cells": [
  {
   "cell_type": "markdown",
   "metadata": {},
   "source": [
    "# Support Vector Machine"
   ]
  },
  {
   "cell_type": "code",
   "execution_count": 1,
   "metadata": {},
   "outputs": [],
   "source": [
    "# file path exist\n",
    "import os.path\n",
    "from os import path\n",
    "\n",
    "# translator\n",
    "import googletrans\n",
    "from googletrans import Translator\n",
    "\n",
    "# pandas\n",
    "import pandas as pd\n",
    "\n",
    "# preprocessing of text\n",
    "import re\n",
    "import string\n",
    "\n",
    "\n",
    "# word tokenizer by nltk\n",
    "from nltk import word_tokenize\n",
    "\n",
    "# lemmatizer\n",
    "from nltk.stem import WordNetLemmatizer\n",
    "\n",
    "# stopwords (Remove buzz words)\n",
    "from nltk.corpus import stopwords\n",
    "\n",
    "# split data into train and test\n",
    "from sklearn.model_selection import train_test_split\n",
    "\n",
    "# bag of words\n",
    "from sklearn.feature_extraction.text import CountVectorizer\n",
    "\n",
    "# TF-IDF\n",
    "from sklearn.feature_extraction.text import TfidfTransformer\n",
    "\n",
    "# RFM classifier from scikit learn\n",
    "from sklearn.svm import LinearSVC\n",
    "\n",
    "# Tf-idf feature extraction \n",
    "from sklearn.feature_extraction.text import TfidfVectorizer\n",
    "\n",
    "# confusion matrix\n",
    "from sklearn.metrics import confusion_matrix\n",
    "import seaborn as sns\n",
    "\n",
    "# cross validation for kfold\n",
    "from sklearn.model_selection import cross_val_score\n",
    "\n",
    "# calc accuracy\n",
    "from sklearn.metrics import accuracy_score \n",
    "from sklearn.metrics import classification_report "
   ]
  },
  {
   "cell_type": "code",
   "execution_count": 2,
   "metadata": {},
   "outputs": [],
   "source": [
    "# For non English data\n",
    "filename  = 'Eng-Hin-data/hindi-anot-shuffled'\n",
    "\n",
    "df = pd.read_csv(filename + '.csv',  \n",
    "               delimiter=',')\n",
    "df.columns = ['Text', 'Label']\n",
    "df.head(15)\n",
    "df[\"Text\"] = df[\"Text\"].astype(str)\n",
    "df[\"Label\"] = df[\"Label\"].astype(str)\n",
    "data = df"
   ]
  },
  {
   "cell_type": "markdown",
   "metadata": {},
   "source": [
    "### Class count"
   ]
  },
  {
   "cell_type": "code",
   "execution_count": 3,
   "metadata": {},
   "outputs": [
    {
     "data": {
      "image/png": "[encoded data removed]",
      "text/plain": [
       "<Figure size 432x288 with 1 Axes>"
      ]
     },
     "metadata": {
      "needs_background": "light"
     },
     "output_type": "display_data"
    }
   ],
   "source": [
    "import matplotlib.pyplot as plt\n",
    "fig = plt.figure(figsize=(6,4))\n",
    "df.groupby('Label').Text.count().plot.bar(ylim=0)\n",
    "plt.show()"
   ]
  },
  {
   "cell_type": "code",
   "execution_count": 4,
   "metadata": {},
   "outputs": [
    {
     "data": {
      "text/plain": [
       "2    3375\n",
       "0    3244\n",
       "1    2174\n",
       "Name: Label, dtype: int64"
      ]
     },
     "execution_count": 4,
     "metadata": {},
     "output_type": "execute_result"
    }
   ],
   "source": [
    "# For entire dataset sentences for each labels \n",
    "df.Label.value_counts()"
   ]
  },
  {
   "cell_type": "markdown",
   "metadata": {},
   "source": [
    "### Data Preprocessing"
   ]
  },
  {
   "cell_type": "code",
   "execution_count": 5,
   "metadata": {},
   "outputs": [],
   "source": [
    "# People usually join sentences using more than one colon \n",
    "\n",
    "def ReplaceDoubleColon(inputString):\n",
    "    return inputString.replace(\"..\", \" \") \n",
    "\n",
    "data['Text'] = data['Text'].apply(lambda x: ReplaceDoubleColon(x))\n",
    "\n",
    "def ReplaceTripleColon(inputString):\n",
    "    return inputString.replace(\"...\", \" \") \n",
    "\n",
    "data['Text'] = data['Text'].apply(lambda x: ReplaceTripleColon(x))\n",
    "\n",
    "def ReplaceFourColon(inputString):\n",
    "    return inputString.replace(\"....\", \" \") \n",
    "\n",
    "data['Text'] = data['Text'].apply(lambda x: ReplaceFourColon(x))"
   ]
  },
  {
   "cell_type": "code",
   "execution_count": 6,
   "metadata": {},
   "outputs": [],
   "source": [
    "#Removing punctuations\n",
    "data['Text'] = data['Text'].apply(lambda x:''.join([i for i in x if i not in string.punctuation]))"
   ]
  },
  {
   "cell_type": "code",
   "execution_count": 7,
   "metadata": {},
   "outputs": [],
   "source": [
    "def textPattern(text):\n",
    "\n",
    "    # Clean the text\n",
    "    text = re.sub(r\"@\", \" \", text)\n",
    "    text = re.sub(r\",\", \" \", text)\n",
    "    text = re.sub(r\"\\.\", \" \", text)\n",
    "    text = re.sub(r\"!\", \" \", text)\n",
    "    text = re.sub(r\"\\/\", \" \", text)\n",
    "    text = re.sub(r\"\\^\", \" ^ \", text)\n",
    "    text = re.sub(r\"\\+\", \" \", text)\n",
    "    text = re.sub(r\"\\-\", \" - \", text)\n",
    "    text = re.sub(r\"\\= =\", \" \", text)\n",
    "    text = re.sub(r\"\\==\", \" \", text)\n",
    "    text = re.sub(r\"'\", \" \", text)\n",
    "    text = re.sub(r\"(\\d+)(k)\", r\"\\g<1>000\", text)\n",
    "    text = re.sub(r\":\", \" : \", text)\n",
    "    text = re.sub(r\"\\0s\", \"0\", text)\n",
    "    text = re.sub(r\" 9 11 \", \"911\", text)\n",
    "    text = re.sub(r\"\\s{2,}\", \" \", text)\n",
    "    return text\n",
    "\n",
    "data['Text'] = data['Text'].apply(lambda x: textPattern(x))"
   ]
  },
  {
   "cell_type": "code",
   "execution_count": 8,
   "metadata": {},
   "outputs": [
    {
     "data": {
      "text/plain": [
       "(8793, 2)"
      ]
     },
     "execution_count": 8,
     "metadata": {},
     "output_type": "execute_result"
    }
   ],
   "source": [
    "data.shape"
   ]
  },
  {
   "cell_type": "code",
   "execution_count": 9,
   "metadata": {},
   "outputs": [],
   "source": [
    "# Word Tokenization\n",
    "tokens = [word_tokenize(sen) for sen in data.Text]"
   ]
  },
  {
   "cell_type": "code",
   "execution_count": 11,
   "metadata": {},
   "outputs": [],
   "source": [
    "# Remove Link\n",
    "\n",
    "def removeLink(token):\n",
    "    word = []\n",
    "    for w in token:\n",
    "        if not w.startswith('http'):\n",
    "            word.append(w)\n",
    "    return word \n",
    "    \n",
    "removedLink_tokens = [removeLink(token) for token in tokens]"
   ]
  },
  {
   "cell_type": "code",
   "execution_count": 12,
   "metadata": {},
   "outputs": [],
   "source": [
    "# Word Lemmatization\n",
    "def lemmatization(token):\n",
    "    return [lemmatizer.lemmatize(w) for w in token] \n",
    "\n",
    "lemmatizer = WordNetLemmatizer()\n",
    "\n",
    "lemmatized_tokens = [lemmatization(token) for token in removedLink_tokens]"
   ]
  },
  {
   "cell_type": "code",
   "execution_count": 13,
   "metadata": {},
   "outputs": [],
   "source": [
    "# Removing Stopwords\n",
    "stoplist=open(\"Devanagari/stopwords.txt\",\"r\")"
   ]
  },
  {
   "cell_type": "code",
   "execution_count": 14,
   "metadata": {},
   "outputs": [],
   "source": [
    "def removeStopWords(tokens): \n",
    "    return [word for word in tokens if word not in stoplist]\n",
    "\n",
    "filtered_words = [removeStopWords(sen) for sen in lemmatized_tokens]\n",
    "data['Text_Final'] = [' '.join(sen) for sen in filtered_words]\n",
    "data['tokens'] = filtered_words"
   ]
  },
  {
   "cell_type": "code",
   "execution_count": 15,
   "metadata": {},
   "outputs": [],
   "source": [
    "zero  = []\n",
    "one = []\n",
    "two = []\n",
    "for l in data.Label:\n",
    "    \n",
    "    if l == '0':\n",
    "        zero.append(1)\n",
    "        one.append(0)\n",
    "        two.append(0)\n",
    "    elif l == '1':\n",
    "        zero.append(0)\n",
    "        one.append(1)\n",
    "        two.append(0)\n",
    "    elif l == '2':\n",
    "        zero.append(0)\n",
    "        one.append(0)\n",
    "        two.append(1)\n",
    "        \n",
    "data['0']= zero\n",
    "data['1']= one\n",
    "data['2']= two\n",
    "\n",
    "data = data[['Text_Final', 'tokens', 'Label', '0', '1', '2']]"
   ]
  },
  {
   "cell_type": "code",
   "execution_count": 16,
   "metadata": {},
   "outputs": [
    {
     "data": {
      "text/html": [
       "<div>\n",
       "<style scoped>\n",
       "    .dataframe tbody tr th:only-of-type {\n",
       "        vertical-align: middle;\n",
       "    }\n",
       "\n",
       "    .dataframe tbody tr th {\n",
       "        vertical-align: top;\n",
       "    }\n",
       "\n",
       "    .dataframe thead th {\n",
       "        text-align: right;\n",
       "    }\n",
       "</style>\n",
       "<table border=\"1\" class=\"dataframe\">\n",
       "  <thead>\n",
       "    <tr style=\"text-align: right;\">\n",
       "      <th></th>\n",
       "      <th>Text_Final</th>\n",
       "      <th>tokens</th>\n",
       "      <th>Label</th>\n",
       "      <th>0</th>\n",
       "      <th>1</th>\n",
       "      <th>2</th>\n",
       "      <th>Category_id</th>\n",
       "    </tr>\n",
       "  </thead>\n",
       "  <tbody>\n",
       "    <tr>\n",
       "      <th>8784</th>\n",
       "      <td>sardanarohit हमारे पास भी परमाणु बम है वो क्या...</td>\n",
       "      <td>[sardanarohit, हमारे, पास, भी, परमाणु, बम, है,...</td>\n",
       "      <td>0</td>\n",
       "      <td>1</td>\n",
       "      <td>0</td>\n",
       "      <td>0</td>\n",
       "      <td>0</td>\n",
       "    </tr>\n",
       "    <tr>\n",
       "      <th>8785</th>\n",
       "      <td>AIMPLBOfficial इन सभी जेहादी सूअरों का एक ही इ...</td>\n",
       "      <td>[AIMPLBOfficial, इन, सभी, जेहादी, सूअरों, का, ...</td>\n",
       "      <td>2</td>\n",
       "      <td>0</td>\n",
       "      <td>0</td>\n",
       "      <td>1</td>\n",
       "      <td>2</td>\n",
       "    </tr>\n",
       "    <tr>\n",
       "      <th>8786</th>\n",
       "      <td>007AliSohrab ProfNoorul नूरूल भाई। क्या बिस्मि...</td>\n",
       "      <td>[007AliSohrab, ProfNoorul, नूरूल, भाई।, क्या, ...</td>\n",
       "      <td>1</td>\n",
       "      <td>0</td>\n",
       "      <td>1</td>\n",
       "      <td>0</td>\n",
       "      <td>1</td>\n",
       "    </tr>\n",
       "    <tr>\n",
       "      <th>8787</th>\n",
       "      <td>ajitanjum तुझे भी बैंगलोर जलने का ना अफसोस है ...</td>\n",
       "      <td>[ajitanjum, तुझे, भी, बैंगलोर, जलने, का, ना, अ...</td>\n",
       "      <td>2</td>\n",
       "      <td>0</td>\n",
       "      <td>0</td>\n",
       "      <td>1</td>\n",
       "      <td>2</td>\n",
       "    </tr>\n",
       "    <tr>\n",
       "      <th>8788</th>\n",
       "      <td>atullondhe राहुल गांधी जिंदाबाद</td>\n",
       "      <td>[atullondhe, राहुल, गांधी, जिंदाबाद]</td>\n",
       "      <td>0</td>\n",
       "      <td>1</td>\n",
       "      <td>0</td>\n",
       "      <td>0</td>\n",
       "      <td>0</td>\n",
       "    </tr>\n",
       "    <tr>\n",
       "      <th>8789</th>\n",
       "      <td>पैगंबर हज़रत मुहम्मद सल्लल्लाहु अलैहि वसल्लम क...</td>\n",
       "      <td>[पैगंबर, हज़रत, मुहम्मद, सल्लल्लाहु, अलैहि, वस...</td>\n",
       "      <td>1</td>\n",
       "      <td>0</td>\n",
       "      <td>1</td>\n",
       "      <td>0</td>\n",
       "      <td>1</td>\n",
       "    </tr>\n",
       "    <tr>\n",
       "      <th>8790</th>\n",
       "      <td>कर्नाटक बेंगलुरू में अल्लाह मोहम्मद गांडू के ज...</td>\n",
       "      <td>[कर्नाटक, बेंगलुरू, में, अल्लाह, मोहम्मद, गांड...</td>\n",
       "      <td>2</td>\n",
       "      <td>0</td>\n",
       "      <td>0</td>\n",
       "      <td>1</td>\n",
       "      <td>2</td>\n",
       "    </tr>\n",
       "    <tr>\n",
       "      <th>8791</th>\n",
       "      <td>अच्छी खबर है ऐसे एक एक कर सभी जेहादी भारतीय फ़...</td>\n",
       "      <td>[अच्छी, खबर, है, ऐसे, एक, एक, कर, सभी, जेहादी,...</td>\n",
       "      <td>2</td>\n",
       "      <td>0</td>\n",
       "      <td>0</td>\n",
       "      <td>1</td>\n",
       "      <td>2</td>\n",
       "    </tr>\n",
       "    <tr>\n",
       "      <th>8792</th>\n",
       "      <td>RuzenaMalik जनता चाइना से दीवाली की लड़ी खरीदे...</td>\n",
       "      <td>[RuzenaMalik, जनता, चाइना, से, दीवाली, की, लड़...</td>\n",
       "      <td>0</td>\n",
       "      <td>1</td>\n",
       "      <td>0</td>\n",
       "      <td>0</td>\n",
       "      <td>0</td>\n",
       "    </tr>\n",
       "  </tbody>\n",
       "</table>\n",
       "</div>"
      ],
      "text/plain": [
       "                                             Text_Final  \\\n",
       "8784  sardanarohit हमारे पास भी परमाणु बम है वो क्या...   \n",
       "8785  AIMPLBOfficial इन सभी जेहादी सूअरों का एक ही इ...   \n",
       "8786  007AliSohrab ProfNoorul नूरूल भाई। क्या बिस्मि...   \n",
       "8787  ajitanjum तुझे भी बैंगलोर जलने का ना अफसोस है ...   \n",
       "8788                    atullondhe राहुल गांधी जिंदाबाद   \n",
       "8789  पैगंबर हज़रत मुहम्मद सल्लल्लाहु अलैहि वसल्लम क...   \n",
       "8790  कर्नाटक बेंगलुरू में अल्लाह मोहम्मद गांडू के ज...   \n",
       "8791  अच्छी खबर है ऐसे एक एक कर सभी जेहादी भारतीय फ़...   \n",
       "8792  RuzenaMalik जनता चाइना से दीवाली की लड़ी खरीदे...   \n",
       "\n",
       "                                                 tokens Label  0  1  2  \\\n",
       "8784  [sardanarohit, हमारे, पास, भी, परमाणु, बम, है,...     0  1  0  0   \n",
       "8785  [AIMPLBOfficial, इन, सभी, जेहादी, सूअरों, का, ...     2  0  0  1   \n",
       "8786  [007AliSohrab, ProfNoorul, नूरूल, भाई।, क्या, ...     1  0  1  0   \n",
       "8787  [ajitanjum, तुझे, भी, बैंगलोर, जलने, का, ना, अ...     2  0  0  1   \n",
       "8788               [atullondhe, राहुल, गांधी, जिंदाबाद]     0  1  0  0   \n",
       "8789  [पैगंबर, हज़रत, मुहम्मद, सल्लल्लाहु, अलैहि, वस...     1  0  1  0   \n",
       "8790  [कर्नाटक, बेंगलुरू, में, अल्लाह, मोहम्मद, गांड...     2  0  0  1   \n",
       "8791  [अच्छी, खबर, है, ऐसे, एक, एक, कर, सभी, जेहादी,...     2  0  0  1   \n",
       "8792  [RuzenaMalik, जनता, चाइना, से, दीवाली, की, लड़...     0  1  0  0   \n",
       "\n",
       "     Category_id  \n",
       "8784           0  \n",
       "8785           2  \n",
       "8786           1  \n",
       "8787           2  \n",
       "8788           0  \n",
       "8789           1  \n",
       "8790           2  \n",
       "8791           2  \n",
       "8792           0  "
      ]
     },
     "execution_count": 16,
     "metadata": {},
     "output_type": "execute_result"
    }
   ],
   "source": [
    "category_id = []\n",
    "for l in data.Label:\n",
    "    \n",
    "    if l == '0':\n",
    "        category_id.append('0')\n",
    "    elif l == '1':\n",
    "        category_id.append('1')\n",
    "    elif l == '2':\n",
    "        category_id.append('2')\n",
    "        \n",
    "data['Category_id'] = category_id\n",
    "\n",
    "data = data[['Text_Final', 'tokens', 'Label', '0', '1', '2', 'Category_id' ]]\n",
    "data.tail(9)"
   ]
  },
  {
   "cell_type": "code",
   "execution_count": 17,
   "metadata": {},
   "outputs": [],
   "source": [
    "from io import StringIO\n",
    "category_id_df = data[['Label', 'Category_id']].drop_duplicates().sort_values('Category_id')\n",
    "category_to_label_dict = dict(category_id_df.values)\n",
    "label_to_category_dict = dict(category_id_df[['Category_id', 'Label']].values)"
   ]
  },
  {
   "cell_type": "markdown",
   "metadata": {},
   "source": [
    "#### Split Data into test and train\n",
    "We will use 90 % data for training and 10 % for testing. We use random state so every time we get the same training and testing data."
   ]
  },
  {
   "cell_type": "markdown",
   "metadata": {},
   "source": [
    "# Support Vector Method (SVM) and Random Forest Method (RFM)"
   ]
  },
  {
   "cell_type": "markdown",
   "metadata": {},
   "source": [
    "We referred a blog on Multi class classification for SVM and RFM [2]"
   ]
  },
  {
   "cell_type": "markdown",
   "metadata": {},
   "source": [
    "### Generating features using TF-IDF Vectorizer method"
   ]
  },
  {
   "cell_type": "code",
   "execution_count": 18,
   "metadata": {},
   "outputs": [
    {
     "data": {
      "text/plain": [
       "(8793, 16880)"
      ]
     },
     "execution_count": 18,
     "metadata": {},
     "output_type": "execute_result"
    }
   ],
   "source": [
    "vectorizer = TfidfVectorizer(sublinear_tf=True, min_df=2, norm='l2', encoding='latin-1', ngram_range=(1, 5), stop_words='english')\n",
    "features = vectorizer.fit_transform(data.Text_Final).toarray()\n",
    "labels = data.Label\n",
    "features.shape"
   ]
  },
  {
   "cell_type": "markdown",
   "metadata": {},
   "source": [
    "### Testing SVM models using K-fold cross validation\n"
   ]
  },
  {
   "cell_type": "code",
   "execution_count": 19,
   "metadata": {},
   "outputs": [
    {
     "name": "stdout",
     "output_type": "stream",
     "text": [
      "Support Vector with Tf-idf: \n",
      "1 0.8556818181818182\n",
      "2 0.8863636363636364\n",
      "3 0.8738636363636364\n",
      "4 0.8782707622298066\n",
      "5 0.8452787258248009\n",
      "6 0.8543799772468714\n",
      "7 0.8725824800910125\n",
      "8 0.8748577929465301\n",
      "9 0.8612059158134243\n",
      "10 0.8691695108077361\n",
      " Average Accuracy : 0.8671654255869274\n"
     ]
    }
   ],
   "source": [
    "import random\n",
    "\n",
    "# Creating model \n",
    "model = LinearSVC()\n",
    "\n",
    "# KFold cross-validation\n",
    "kFold = 10\n",
    "\n",
    "scores = []\n",
    "#To get accuracy of the model for 10 different splits\n",
    "scoreValue = cross_val_score(model, features, labels, scoring='accuracy', cv= kFold)\n",
    "\n",
    "# append name and score of each model with different splits\n",
    "print(\"Support Vector with Tf-idf: \")\n",
    "for fold_idx, accuracy in enumerate(scoreValue):\n",
    "    print ((fold_idx + 1), accuracy)\n",
    "    scores.append(accuracy)\n",
    "    \n",
    "Mean_score =  sum(scores) / len(scores)\n",
    "print(f\" Average Accuracy : {Mean_score}\" )\n"
   ]
  },
  {
   "cell_type": "code",
   "execution_count": 20,
   "metadata": {},
   "outputs": [],
   "source": [
    "### Spliting data 80/ 20"
   ]
  },
  {
   "cell_type": "code",
   "execution_count": 21,
   "metadata": {},
   "outputs": [],
   "source": [
    "# Using similar split as CNN model\n",
    "X_train, X_test, y_train, y_test, idx_train, idx_test = train_test_split(features, labels, data.index, test_size=0.10, random_state=42)"
   ]
  },
  {
   "cell_type": "markdown",
   "metadata": {},
   "source": [
    "### SVM - Generating model "
   ]
  },
  {
   "cell_type": "code",
   "execution_count": 22,
   "metadata": {},
   "outputs": [],
   "source": [
    "# generate Linear SVM model\n",
    "model = LinearSVC()\n",
    "clf = model.fit(X_train, y_train)\n",
    "y_pred = model.predict(X_test)"
   ]
  },
  {
   "cell_type": "markdown",
   "metadata": {},
   "source": [
    "### SVM - Showing some prediction"
   ]
  },
  {
   "cell_type": "code",
   "execution_count": 23,
   "metadata": {},
   "outputs": [
    {
     "name": "stdout",
     "output_type": "stream",
     "text": [
      "['2']\n"
     ]
    }
   ],
   "source": [
    "# 0\n",
    "print(clf.predict(vectorizer.transform([\"Modi ho ya Manmohan singh saala yeh log kuch ny karta hai sirf vote ka lia 56 ka seena dikahata hai\"])))"
   ]
  },
  {
   "cell_type": "code",
   "execution_count": 24,
   "metadata": {},
   "outputs": [
    {
     "name": "stdout",
     "output_type": "stream",
     "text": [
      "['2']\n"
     ]
    }
   ],
   "source": [
    "# 2\n",
    "print(clf.predict(vectorizer.transform([\"Muslim asshole !\"])))"
   ]
  },
  {
   "cell_type": "code",
   "execution_count": 25,
   "metadata": {},
   "outputs": [
    {
     "name": "stdout",
     "output_type": "stream",
     "text": [
      "['2']\n"
     ]
    }
   ],
   "source": [
    "# 1\n",
    "print(clf.predict(vectorizer.transform([\"Islam is beautiful\"])))"
   ]
  },
  {
   "cell_type": "code",
   "execution_count": 26,
   "metadata": {},
   "outputs": [
    {
     "name": "stdout",
     "output_type": "stream",
     "text": [
      "['0']\n"
     ]
    }
   ],
   "source": [
    "print(clf.predict(vectorizer.transform([\"Blacks are asshole\"])))"
   ]
  },
  {
   "cell_type": "markdown",
   "metadata": {},
   "source": [
    "###  SVM - Displaying false-positive rate (FPR) and true positive rate (TPR)"
   ]
  },
  {
   "cell_type": "code",
   "execution_count": 27,
   "metadata": {},
   "outputs": [
    {
     "name": "stdout",
     "output_type": "stream",
     "text": [
      "                          Support Vector Method\n"
     ]
    },
    {
     "data": {
      "image/png": "[encoded data removed]",
      "text/plain": [
       "<Figure size 360x360 with 2 Axes>"
      ]
     },
     "metadata": {
      "needs_background": "light"
     },
     "output_type": "display_data"
    }
   ],
   "source": [
    "from sklearn.metrics import confusion_matrix\n",
    "print(\"                          Support Vector Method\")\n",
    "conf_mat = confusion_matrix(y_test, y_pred)\n",
    "fig, ax = plt.subplots(figsize=(5,5))\n",
    "sns.heatmap(conf_mat, annot=True, fmt='d', cmap ='YlGnBu',\n",
    "            xticklabels=category_id_df.Label.values, yticklabels=category_id_df.Label.values)\n",
    "plt.ylabel('Actual')\n",
    "plt.xlabel('Predicted')\n",
    "plt.show()"
   ]
  },
  {
   "cell_type": "markdown",
   "metadata": {},
   "source": [
    "### SVM - Precision, Recall and F1-Score to quantify the quality of our model using a confusion matrix"
   ]
  },
  {
   "cell_type": "code",
   "execution_count": 28,
   "metadata": {},
   "outputs": [
    {
     "name": "stdout",
     "output_type": "stream",
     "text": [
      "Confusion Matrix :\n",
      "[[262  13  39]\n",
      " [ 10 193  12]\n",
      " [ 46   0 305]]\n",
      "Accuracy Score : 0.8636363636363636\n",
      "Report : \n",
      "              precision    recall  f1-score   support\n",
      "\n",
      "           0       0.82      0.83      0.83       314\n",
      "           1       0.94      0.90      0.92       215\n",
      "           2       0.86      0.87      0.86       351\n",
      "\n",
      "    accuracy                           0.86       880\n",
      "   macro avg       0.87      0.87      0.87       880\n",
      "weighted avg       0.86      0.86      0.86       880\n",
      "\n"
     ]
    }
   ],
   "source": [
    "results = confusion_matrix(y_test, y_pred)\n",
    "print ('Confusion Matrix :')\n",
    "print(results) \n",
    "print ('Accuracy Score :',accuracy_score(y_test, y_pred))\n",
    "print ('Report : ')\n",
    "print (classification_report(y_test, y_pred))"
   ]
  },
  {
   "cell_type": "markdown",
   "metadata": {},
   "source": [
    "# SVM - BOW"
   ]
  },
  {
   "cell_type": "code",
   "execution_count": 29,
   "metadata": {},
   "outputs": [
    {
     "data": {
      "text/plain": [
       "(8793, 8908)"
      ]
     },
     "execution_count": 29,
     "metadata": {},
     "output_type": "execute_result"
    }
   ],
   "source": [
    "from sklearn.feature_extraction.text import CountVectorizer\n",
    "count_vect = CountVectorizer()\n",
    "features1 = count_vect.fit_transform(data.Text_Final).toarray()\n",
    "labels = data.Label\n",
    "features1.shape"
   ]
  },
  {
   "cell_type": "code",
   "execution_count": 30,
   "metadata": {},
   "outputs": [],
   "source": [
    "# Using similar split 80/20\n",
    "X_train, X_test, y_train, y_test, idx_train, idx_test = train_test_split(features1, labels, data.index, test_size=0.10, random_state=12)"
   ]
  },
  {
   "cell_type": "code",
   "execution_count": 31,
   "metadata": {},
   "outputs": [],
   "source": [
    "# generate Linear SVM model\n",
    "model2 = LinearSVC()\n",
    "clf2 = model2.fit(X_train, y_train)\n",
    "y_pred2 = model2.predict(X_test)"
   ]
  },
  {
   "cell_type": "markdown",
   "metadata": {},
   "source": [
    "### SVM - BOW - Showing some prediction"
   ]
  },
  {
   "cell_type": "code",
   "execution_count": 32,
   "metadata": {},
   "outputs": [
    {
     "name": "stdout",
     "output_type": "stream",
     "text": [
      "['2']\n"
     ]
    }
   ],
   "source": [
    "# 0\n",
    "print(clf2.predict(count_vect.transform([\"Modi ho ya Manmohan singh saala yeh log kuch ny karta hai sirf vote ka lia 56 ka seena dikahata hai\"])))"
   ]
  },
  {
   "cell_type": "code",
   "execution_count": 33,
   "metadata": {},
   "outputs": [
    {
     "name": "stdout",
     "output_type": "stream",
     "text": [
      "['0']\n"
     ]
    }
   ],
   "source": [
    "# 0\n",
    "print(clf2.predict(count_vect.transform([\"i am micro investor, need advise on adding stocks on monthly basis !\"])))"
   ]
  },
  {
   "cell_type": "code",
   "execution_count": 34,
   "metadata": {},
   "outputs": [
    {
     "name": "stdout",
     "output_type": "stream",
     "text": [
      "['0']\n"
     ]
    }
   ],
   "source": [
    "# 0\n",
    "print(clf2.predict(count_vect.transform([\"These media fellows have time to dissect one's social media profile,but none of spineless jokers has the guts to question as to why and how a convict like Lalu Yadav is roaming outside and running a Government.\"])))"
   ]
  },
  {
   "cell_type": "code",
   "execution_count": 35,
   "metadata": {},
   "outputs": [
    {
     "name": "stdout",
     "output_type": "stream",
     "text": [
      "['2']\n"
     ]
    }
   ],
   "source": [
    "# 2\n",
    "print(clf2.predict(count_vect.transform([\"Muslim asshole !\"])))"
   ]
  },
  {
   "cell_type": "code",
   "execution_count": 36,
   "metadata": {},
   "outputs": [
    {
     "name": "stdout",
     "output_type": "stream",
     "text": [
      "['0']\n"
     ]
    }
   ],
   "source": [
    "# 1\n",
    "print(clf2.predict(count_vect.transform([\"Islam is beautiful religion with good people\"])))"
   ]
  },
  {
   "cell_type": "code",
   "execution_count": 37,
   "metadata": {},
   "outputs": [
    {
     "name": "stdout",
     "output_type": "stream",
     "text": [
      "['2']\n"
     ]
    }
   ],
   "source": [
    "# 1\n",
    "print(clf2.predict(count_vect.transform([\"@dillyaali @OlaitanHabibat @MubarakDalhat11 @FakhuusHashim you are not Muslim so don't insult Quran verses I warned you\"])))"
   ]
  },
  {
   "cell_type": "code",
   "execution_count": 38,
   "metadata": {},
   "outputs": [
    {
     "name": "stdout",
     "output_type": "stream",
     "text": [
      "['2']\n"
     ]
    }
   ],
   "source": [
    "# 0\n",
    "print(clf2.predict(count_vect.transform([\"Blacks are asshole\"])))"
   ]
  },
  {
   "cell_type": "markdown",
   "metadata": {},
   "source": [
    "###  SVM - BOW - Displaying false-positive rate (FPR) and true positive rate (TPR)"
   ]
  },
  {
   "cell_type": "code",
   "execution_count": 39,
   "metadata": {},
   "outputs": [
    {
     "name": "stdout",
     "output_type": "stream",
     "text": [
      "                     Support Vector Method - BOW\n"
     ]
    },
    {
     "data": {
      "image/png": "[encoded data removed]",
      "text/plain": [
       "<Figure size 360x360 with 2 Axes>"
      ]
     },
     "metadata": {
      "needs_background": "light"
     },
     "output_type": "display_data"
    }
   ],
   "source": [
    "from sklearn.metrics import confusion_matrix\n",
    "print(\"                     Support Vector Method - BOW\")\n",
    "conf_mat = confusion_matrix(y_test, y_pred2)\n",
    "fig, ax = plt.subplots(figsize=(5,5))\n",
    "sns.heatmap(conf_mat, annot=True, fmt='d', cmap=\"YlGnBu\",\n",
    "            xticklabels=category_id_df.Label.values, yticklabels=category_id_df.Label.values)\n",
    "plt.ylabel('Actual')\n",
    "plt.xlabel('Predicted')\n",
    "plt.show()"
   ]
  },
  {
   "cell_type": "markdown",
   "metadata": {},
   "source": [
    "### SVM - BOW - Precision, Recall and F1-Score to quantify the quality of our model using a confusion matrix."
   ]
  },
  {
   "cell_type": "code",
   "execution_count": 40,
   "metadata": {},
   "outputs": [
    {
     "name": "stdout",
     "output_type": "stream",
     "text": [
      "Confusion Matrix :\n",
      "[[263  14  49]\n",
      " [  8 204  11]\n",
      " [ 55   8 268]]\n",
      "Accuracy Score : 0.8352272727272727\n",
      "Report : \n",
      "              precision    recall  f1-score   support\n",
      "\n",
      "           0       0.81      0.81      0.81       326\n",
      "           1       0.90      0.91      0.91       223\n",
      "           2       0.82      0.81      0.81       331\n",
      "\n",
      "    accuracy                           0.84       880\n",
      "   macro avg       0.84      0.84      0.84       880\n",
      "weighted avg       0.83      0.84      0.84       880\n",
      "\n"
     ]
    }
   ],
   "source": [
    "results2 = confusion_matrix(y_test, y_pred2)\n",
    "print ('Confusion Matrix :')\n",
    "print(results2) \n",
    "print ('Accuracy Score :',accuracy_score(y_test, y_pred2))\n",
    "print ('Report : ')\n",
    "print (classification_report(y_test, y_pred2))"
   ]
  },
  {
   "cell_type": "markdown",
   "metadata": {},
   "source": [
    "### SVM with BOW kfold"
   ]
  },
  {
   "cell_type": "code",
   "execution_count": 41,
   "metadata": {},
   "outputs": [
    {
     "name": "stdout",
     "output_type": "stream",
     "text": [
      "Random Forest with BOW: \n",
      "1 0.8227272727272728\n",
      "2 0.8670454545454546\n",
      "3 0.8511363636363637\n",
      "4 0.8555176336746303\n",
      "5 0.8168373151308305\n",
      "6 0.8373151308304891\n",
      "7 0.8464163822525598\n",
      "8 0.8486916951080774\n",
      "9 0.838452787258248\n",
      "10 0.8498293515358362\n",
      " Average Accuracy : 0.8433969386699763\n"
     ]
    }
   ],
   "source": [
    "# KFold cross-validation\n",
    "kFold = 10\n",
    "\n",
    "scores = []\n",
    "#To get accuracy of the model for 10 different splits\n",
    "scoreValue = cross_val_score(model2, features1, labels, scoring='accuracy', cv= kFold)\n",
    "\n",
    "# append name and score of each model with different splits\n",
    "print(\"Random Forest with BOW: \")\n",
    "for fold_idx, accuracy in enumerate(scoreValue):\n",
    "    print ((fold_idx + 1), accuracy)\n",
    "    scores.append(accuracy)\n",
    "    \n",
    "Mean_score =  sum(scores) / len(scores)\n",
    "print(f\" Average Accuracy : {Mean_score}\" )"
   ]
  },
  {
   "cell_type": "markdown",
   "metadata": {},
   "source": [
    "### Reference"
   ]
  },
  {
   "cell_type": "markdown",
   "metadata": {},
   "source": [
    "[2] Multi-Class Text Classification with Scikit-Learn by Susan Li"
   ]
  },
  {
   "cell_type": "markdown",
   "metadata": {},
   "source": [
    "[3] Scikit-Learn Documentation https://scikit-learn.org/"
   ]
  }
 ],
 "metadata": {
  "kernelspec": {
   "display_name": "Python 3",
   "language": "python",
   "name": "python3"
  },
  "language_info": {
   "codemirror_mode": {
    "name": "ipython",
    "version": 3
   },
   "file_extension": ".py",
   "mimetype": "text/x-python",
   "name": "python",
   "nbconvert_exporter": "python",
   "pygments_lexer": "ipython3",
   "version": "3.8.5"
  }
 },
 "nbformat": 4,
 "nbformat_minor": 4
}
