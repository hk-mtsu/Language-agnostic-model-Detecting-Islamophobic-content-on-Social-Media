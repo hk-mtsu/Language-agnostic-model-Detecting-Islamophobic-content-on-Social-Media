{
 "cells": [
  {
   "cell_type": "markdown",
   "metadata": {},
   "source": [
    "# Randon Forest Model wwith TF-IDF and Bag of words"
   ]
  },
  {
   "cell_type": "code",
   "execution_count": 3,
   "metadata": {},
   "outputs": [],
   "source": [
    "# file path exist\n",
    "import os.path\n",
    "from os import path\n",
    "\n",
    "# translator\n",
    "import googletrans\n",
    "from googletrans import Translator\n",
    "\n",
    "# pandas\n",
    "import pandas as pd\n",
    "\n",
    "# preprocessing of text\n",
    "import re\n",
    "import string\n",
    "\n",
    "\n",
    "# word tokenizer by nltk\n",
    "from nltk import word_tokenize\n",
    "\n",
    "# lemmatizer\n",
    "from nltk.stem import WordNetLemmatizer\n",
    "\n",
    "# stopwords (Remove buzz words)\n",
    "from nltk.corpus import stopwords\n",
    "\n",
    "# split data into train and test\n",
    "from sklearn.model_selection import train_test_split\n",
    "\n",
    "# bag of words\n",
    "from sklearn.feature_extraction.text import CountVectorizer\n",
    "\n",
    "# TF-IDF\n",
    "from sklearn.feature_extraction.text import TfidfTransformer\n",
    "\n",
    "# RFM classifier from scikit learn\n",
    "from sklearn.ensemble import RandomForestClassifier\n",
    "\n",
    "# Tf-idf feature extraction \n",
    "from sklearn.feature_extraction.text import TfidfVectorizer\n",
    "\n",
    "# confusion matrix\n",
    "from sklearn.metrics import confusion_matrix\n",
    "import seaborn as sns\n",
    "\n",
    "# cross validation for kfold\n",
    "from sklearn.model_selection import cross_val_score\n",
    "\n",
    "# calc accuracy\n",
    "from sklearn.metrics import accuracy_score \n",
    "from sklearn.metrics import classification_report "
   ]
  },
  {
   "cell_type": "code",
   "execution_count": 4,
   "metadata": {},
   "outputs": [],
   "source": [
    "# For English data\n",
    "filename  = 'Eng-Hin-data/english-anot-shuffled'\n",
    "df = pd.read_csv(filename + '.csv',  \n",
    "               delimiter=',')\n",
    "df.columns = ['Text', 'Label']\n",
    "df.head(15)\n",
    "df[\"Text\"] = df[\"Text\"].astype(str)\n",
    "df[\"Label\"] = df[\"Label\"].astype(str)\n",
    "data = df"
   ]
  },
  {
   "cell_type": "code",
   "execution_count": 5,
   "metadata": {},
   "outputs": [
    {
     "data": {
      "text/plain": [
       "\"'@ParZevil Plymouth Cricket. THREE transmissions.\""
      ]
     },
     "execution_count": 5,
     "metadata": {},
     "output_type": "execute_result"
    }
   ],
   "source": [
    "# Same sentence after translation\n",
    "data.Text[3]"
   ]
  },
  {
   "cell_type": "markdown",
   "metadata": {},
   "source": [
    "### Class count"
   ]
  },
  {
   "cell_type": "code",
   "execution_count": 6,
   "metadata": {},
   "outputs": [
    {
     "data": {
      "image/png": "[encoded data removed]",
      "text/plain": [
       "<Figure size 432x288 with 1 Axes>"
      ]
     },
     "metadata": {
      "needs_background": "light"
     },
     "output_type": "display_data"
    }
   ],
   "source": [
    "import matplotlib.pyplot as plt\n",
    "fig = plt.figure(figsize=(6,4))\n",
    "data.groupby('Label').Text.count().plot.bar(ylim=0)\n",
    "plt.show()"
   ]
  },
  {
   "cell_type": "code",
   "execution_count": 7,
   "metadata": {},
   "outputs": [
    {
     "data": {
      "text/plain": [
       "0    3555\n",
       "2    2485\n",
       "1    2398\n",
       "Name: Label, dtype: int64"
      ]
     },
     "execution_count": 7,
     "metadata": {},
     "output_type": "execute_result"
    }
   ],
   "source": [
    "# For entire dataset sentences for each labels \n",
    "data.Label.value_counts()"
   ]
  },
  {
   "cell_type": "code",
   "execution_count": 8,
   "metadata": {},
   "outputs": [],
   "source": [
    "#balancing data \n",
    "from collections import Counter\n",
    "import numpy as np\n",
    "def balanceClasses(xs, ys):\n",
    "    item = {}\n",
    "    new_ys = []\n",
    "    new_xs = []\n",
    "    #\"\"\"Undersample xs, ys to balance classes.\"\"\"\n",
    "    freqs = Counter(ys)\n",
    "    # the most common class  is the maximum number we want for all classes\n",
    "    max_allowable = (freqs.most_common()[0][1])\n",
    "    \n",
    "    for val in freqs.most_common(): # List\n",
    "        nums = np.random.randint(1000)\n",
    "        i = 1\n",
    "        item[val[0]] = max_allowable - val[1]\n",
    "        \n",
    "        if item[val[0]] > 0:            \n",
    "            while(item[val[0]] - i != 0): \n",
    "                nums = nums + 1\n",
    "                if ys[nums] == val[0]:\n",
    "                    i += 1\n",
    "                    new_ys.append(ys[nums])\n",
    "                    new_xs.append(xs[nums])\n",
    "    return new_xs, new_ys"
   ]
  },
  {
   "cell_type": "code",
   "execution_count": 9,
   "metadata": {},
   "outputs": [],
   "source": [
    "new_text, new_label = balanceClasses(df['Text'], df['Label'])"
   ]
  },
  {
   "cell_type": "code",
   "execution_count": 10,
   "metadata": {},
   "outputs": [],
   "source": [
    "data = pd.DataFrame(new_text)\n",
    "data.columns = ['Text']\n",
    "data['Label'] = new_label\n",
    "data = pd.concat([df, data])"
   ]
  },
  {
   "cell_type": "code",
   "execution_count": 11,
   "metadata": {},
   "outputs": [
    {
     "data": {
      "image/png": "[encoded data removed]",
      "text/plain": [
       "<Figure size 432x288 with 1 Axes>"
      ]
     },
     "metadata": {
      "needs_background": "light"
     },
     "output_type": "display_data"
    }
   ],
   "source": [
    "fig1 = plt.figure(figsize=(6,4))\n",
    "data.groupby('Label').Text.count().plot.bar(ylim=0)\n",
    "plt.show()"
   ]
  },
  {
   "cell_type": "code",
   "execution_count": 12,
   "metadata": {},
   "outputs": [
    {
     "data": {
      "text/plain": [
       "0    3555\n",
       "2    3554\n",
       "1    3554\n",
       "Name: Label, dtype: int64"
      ]
     },
     "execution_count": 12,
     "metadata": {},
     "output_type": "execute_result"
    }
   ],
   "source": [
    "data.Label.value_counts()"
   ]
  },
  {
   "cell_type": "code",
   "execution_count": 13,
   "metadata": {},
   "outputs": [
    {
     "data": {
      "text/html": [
       "<div>\n",
       "<style scoped>\n",
       "    .dataframe tbody tr th:only-of-type {\n",
       "        vertical-align: middle;\n",
       "    }\n",
       "\n",
       "    .dataframe tbody tr th {\n",
       "        vertical-align: top;\n",
       "    }\n",
       "\n",
       "    .dataframe thead th {\n",
       "        text-align: right;\n",
       "    }\n",
       "</style>\n",
       "<table border=\"1\" class=\"dataframe\">\n",
       "  <thead>\n",
       "    <tr style=\"text-align: right;\">\n",
       "      <th></th>\n",
       "      <th>Text</th>\n",
       "      <th>Label</th>\n",
       "    </tr>\n",
       "  </thead>\n",
       "  <tbody>\n",
       "    <tr>\n",
       "      <th>0</th>\n",
       "      <td>'@_sabanaqvi He was Jehadi mulla</td>\n",
       "      <td>2</td>\n",
       "    </tr>\n",
       "    <tr>\n",
       "      <th>1</th>\n",
       "      <td>'Happy new Islamic new year 1442 Hijri #happyn...</td>\n",
       "      <td>1</td>\n",
       "    </tr>\n",
       "    <tr>\n",
       "      <th>2</th>\n",
       "      <td>Ramy' becomes first Muslim American sitcom to ...</td>\n",
       "      <td>1</td>\n",
       "    </tr>\n",
       "    <tr>\n",
       "      <th>3</th>\n",
       "      <td>'@SpeakerShinjini Do You Watch Cricket? ðŸ #...</td>\n",
       "      <td>0</td>\n",
       "    </tr>\n",
       "    <tr>\n",
       "      <th>4</th>\n",
       "      <td>'Mozambique was named after an Arabic slave tr...</td>\n",
       "      <td>2</td>\n",
       "    </tr>\n",
       "    <tr>\n",
       "      <th>...</th>\n",
       "      <td>...</td>\n",
       "      <td>...</td>\n",
       "    </tr>\n",
       "    <tr>\n",
       "      <th>10658</th>\n",
       "      <td>'@cricket_badger @AzeemRafiq30 @Gloscricket si...</td>\n",
       "      <td>0</td>\n",
       "    </tr>\n",
       "    <tr>\n",
       "      <th>10659</th>\n",
       "      <td>'Discover Quran Verses about #Flower @ [55:37]...</td>\n",
       "      <td>1</td>\n",
       "    </tr>\n",
       "    <tr>\n",
       "      <th>10660</th>\n",
       "      <td>'@hydration_daddy @wonderland449 @mzmarisaa ye...</td>\n",
       "      <td>2</td>\n",
       "    </tr>\n",
       "    <tr>\n",
       "      <th>10661</th>\n",
       "      <td>What an embarrassment to the Congress and the ...</td>\n",
       "      <td>0</td>\n",
       "    </tr>\n",
       "    <tr>\n",
       "      <th>10662</th>\n",
       "      <td>'Quran verses to read when you are facing prob...</td>\n",
       "      <td>1</td>\n",
       "    </tr>\n",
       "  </tbody>\n",
       "</table>\n",
       "<p>10663 rows × 2 columns</p>\n",
       "</div>"
      ],
      "text/plain": [
       "                                                    Text Label\n",
       "0                       '@_sabanaqvi He was Jehadi mulla     2\n",
       "1      'Happy new Islamic new year 1442 Hijri #happyn...     1\n",
       "2      Ramy' becomes first Muslim American sitcom to ...     1\n",
       "3      '@SpeakerShinjini Do You Watch Cricket? ðŸ #...     0\n",
       "4      'Mozambique was named after an Arabic slave tr...     2\n",
       "...                                                  ...   ...\n",
       "10658  '@cricket_badger @AzeemRafiq30 @Gloscricket si...     0\n",
       "10659  'Discover Quran Verses about #Flower @ [55:37]...     1\n",
       "10660  '@hydration_daddy @wonderland449 @mzmarisaa ye...     2\n",
       "10661  What an embarrassment to the Congress and the ...     0\n",
       "10662  'Quran verses to read when you are facing prob...     1\n",
       "\n",
       "[10663 rows x 2 columns]"
      ]
     },
     "execution_count": 13,
     "metadata": {},
     "output_type": "execute_result"
    }
   ],
   "source": [
    "data=data.sample(frac=1).reset_index(drop=True)\n",
    "data"
   ]
  },
  {
   "cell_type": "markdown",
   "metadata": {},
   "source": [
    "### Data Preprocessing"
   ]
  },
  {
   "cell_type": "code",
   "execution_count": 14,
   "metadata": {},
   "outputs": [],
   "source": [
    "# People usually join sentences using more than one colon \n",
    "\n",
    "def ReplaceDoubleColon(inputString):\n",
    "    return inputString.replace(\"..\", \" \") \n",
    "\n",
    "data['Text'] = data['Text'].apply(lambda x: ReplaceDoubleColon(x))\n",
    "\n",
    "def ReplaceTripleColon(inputString):\n",
    "    return inputString.replace(\"...\", \" \") \n",
    "\n",
    "data['Text'] = data['Text'].apply(lambda x: ReplaceTripleColon(x))\n",
    "\n",
    "def ReplaceFourColon(inputString):\n",
    "    return inputString.replace(\"....\", \" \") \n",
    "\n",
    "data['Text'] = data['Text'].apply(lambda x: ReplaceFourColon(x))"
   ]
  },
  {
   "cell_type": "code",
   "execution_count": 15,
   "metadata": {},
   "outputs": [],
   "source": [
    "def textPattern(text):\n",
    "\n",
    "    # Clean the text\n",
    "    text = re.sub(r\"@\", \" \", text)\n",
    "    text = re.sub(r\"'\", \" \", text)\n",
    "    text = re.sub(r\"what's\", \"what is\", text)\n",
    "    text = re.sub(r\"\\'s\", \" \", text)\n",
    "    text = re.sub(r\"\\'ve\", \"have\", text)\n",
    "    text = re.sub(r\"can't\", \"can not\", text)\n",
    "    text = re.sub(r\"aren't\", \"are not\", text)\n",
    "    text = re.sub(r\"couldn't\", \"could not\", text)\n",
    "    text = re.sub(r\"didn't\", \"did not\", text)\n",
    "    text = re.sub(r\"doesn't\", \"does not\", text)\n",
    "    text = re.sub(r\"don't\", \"do not\", text)\n",
    "    text = re.sub(r\"hadn't\", \"had not\", text)\n",
    "    text = re.sub(r\"hasn't\", \"has not\", text)\n",
    "    text = re.sub(r\"haven't\", \"have not\", text)\n",
    "    text = re.sub(r\"isn't\", \"is not\", text)\n",
    "    text = re.sub(r\"shouldn't\", \"should not\", text)\n",
    "    text = re.sub(r\"wasn't\", \"was not\", text)\n",
    "    text = re.sub(r\"weren't\", \"were not\", text)\n",
    "    text = re.sub(r\"won't\", \"will not\", text)\n",
    "    text = re.sub(r\"wouldn't\", \"would not\", text)\n",
    "    text = re.sub(r\"mustn't\", \"must not\", text)\n",
    "    text = re.sub(r\"i'm\", \"i am\", text)\n",
    "    text = re.sub(r\"\\'re\", \"are\", text)\n",
    "    text = re.sub(r\",\", \" \", text)\n",
    "    text = re.sub(r\"\\.\", \" \", text)\n",
    "    text = re.sub(r\"!\", \" \", text)\n",
    "    text = re.sub(r\"\\/\", \" \", text)\n",
    "    text = re.sub(r\"\\^\", \" ^ \", text)\n",
    "    text = re.sub(r\"\\+\", \" \", text)\n",
    "    text = re.sub(r\"\\-\", \" - \", text)\n",
    "    text = re.sub(r\"\\= =\", \" \", text)\n",
    "    text = re.sub(r\"\\==\", \" \", text)\n",
    "    text = re.sub(r\"'\", \" \", text)\n",
    "    text = re.sub(r\"(\\d+)(k)\", r\"\\g<1>000\", text)\n",
    "    text = re.sub(r\":\", \" : \", text)\n",
    "    text = re.sub(r\"\\0s\", \"0\", text)\n",
    "    text = re.sub(r\" 9 11 \", \"911\", text)\n",
    "    text = re.sub(r\"\\s{2,}\", \" \", text)\n",
    "    return text\n",
    "\n",
    "data['Text'] = data['Text'].apply(lambda x: textPattern(x))"
   ]
  },
  {
   "cell_type": "code",
   "execution_count": 16,
   "metadata": {},
   "outputs": [
    {
     "data": {
      "text/plain": [
       "(10663, 2)"
      ]
     },
     "execution_count": 16,
     "metadata": {},
     "output_type": "execute_result"
    }
   ],
   "source": [
    "data.shape"
   ]
  },
  {
   "cell_type": "code",
   "execution_count": 17,
   "metadata": {},
   "outputs": [],
   "source": [
    "# Word Tokenization\n",
    "tokens = [word_tokenize(sen) for sen in data.Text]"
   ]
  },
  {
   "cell_type": "code",
   "execution_count": 18,
   "metadata": {},
   "outputs": [],
   "source": [
    "# Lower Case\n",
    "def lower_token(tokens): \n",
    "    return [w.lower() for w in tokens]    \n",
    "    \n",
    "lower_tokens = [lower_token(token) for token in tokens]"
   ]
  },
  {
   "cell_type": "code",
   "execution_count": 19,
   "metadata": {},
   "outputs": [],
   "source": [
    "# Remove Link\n",
    "\n",
    "def removeLink(token):\n",
    "    word = []\n",
    "    for w in token:\n",
    "        if not w.startswith('http'):\n",
    "            word.append(w)\n",
    "    return word \n",
    "    \n",
    "removedLink_tokens = [removeLink(token) for token in lower_tokens]"
   ]
  },
  {
   "cell_type": "code",
   "execution_count": 20,
   "metadata": {},
   "outputs": [],
   "source": [
    "# Word Lemmatization\n",
    "def lemmatization(token):\n",
    "    return [lemmatizer.lemmatize(w) for w in token] \n",
    "\n",
    "lemmatizer = WordNetLemmatizer()\n",
    "\n",
    "lemmatized_tokens = [lemmatization(token) for token in removedLink_tokens]"
   ]
  },
  {
   "cell_type": "code",
   "execution_count": 21,
   "metadata": {},
   "outputs": [],
   "source": [
    "# Removing Stopwords\n",
    "stoplist = stopwords.words('english')"
   ]
  },
  {
   "cell_type": "code",
   "execution_count": 22,
   "metadata": {},
   "outputs": [],
   "source": [
    "def removeStopWords(tokens): \n",
    "    return [word for word in tokens if word not in stoplist]\n",
    "\n",
    "filtered_words = [removeStopWords(sen) for sen in lemmatized_tokens]\n",
    "data['Text_Final'] = [' '.join(sen) for sen in filtered_words]\n",
    "data['tokens'] = filtered_words"
   ]
  },
  {
   "cell_type": "code",
   "execution_count": 23,
   "metadata": {},
   "outputs": [],
   "source": [
    "zero  = []\n",
    "one = []\n",
    "two = []\n",
    "for l in data.Label:\n",
    "    \n",
    "    if l == '0':\n",
    "        zero.append(1)\n",
    "        one.append(0)\n",
    "        two.append(0)\n",
    "    elif l == '1':\n",
    "        zero.append(0)\n",
    "        one.append(1)\n",
    "        two.append(0)\n",
    "    elif l == '2':\n",
    "        zero.append(0)\n",
    "        one.append(0)\n",
    "        two.append(1)\n",
    "        \n",
    "data['0']= zero\n",
    "data['1']= one\n",
    "data['2']= two\n",
    "\n",
    "data = data[['Text_Final', 'tokens', 'Label', '0', '1', '2']]"
   ]
  },
  {
   "cell_type": "code",
   "execution_count": 24,
   "metadata": {},
   "outputs": [
    {
     "data": {
      "text/html": [
       "<div>\n",
       "<style scoped>\n",
       "    .dataframe tbody tr th:only-of-type {\n",
       "        vertical-align: middle;\n",
       "    }\n",
       "\n",
       "    .dataframe tbody tr th {\n",
       "        vertical-align: top;\n",
       "    }\n",
       "\n",
       "    .dataframe thead th {\n",
       "        text-align: right;\n",
       "    }\n",
       "</style>\n",
       "<table border=\"1\" class=\"dataframe\">\n",
       "  <thead>\n",
       "    <tr style=\"text-align: right;\">\n",
       "      <th></th>\n",
       "      <th>Text_Final</th>\n",
       "      <th>tokens</th>\n",
       "      <th>Label</th>\n",
       "      <th>0</th>\n",
       "      <th>1</th>\n",
       "      <th>2</th>\n",
       "      <th>Category_id</th>\n",
       "    </tr>\n",
       "  </thead>\n",
       "  <tbody>\n",
       "    <tr>\n",
       "      <th>0</th>\n",
       "      <td>_sabanaqvi wa jehadi mulla</td>\n",
       "      <td>[_sabanaqvi, wa, jehadi, mulla]</td>\n",
       "      <td>2</td>\n",
       "      <td>0</td>\n",
       "      <td>0</td>\n",
       "      <td>1</td>\n",
       "      <td>2</td>\n",
       "    </tr>\n",
       "    <tr>\n",
       "      <th>1</th>\n",
       "      <td>happy new islamic new year 1442 hijri # happyn...</td>\n",
       "      <td>[happy, new, islamic, new, year, 1442, hijri, ...</td>\n",
       "      <td>1</td>\n",
       "      <td>0</td>\n",
       "      <td>1</td>\n",
       "      <td>0</td>\n",
       "      <td>1</td>\n",
       "    </tr>\n",
       "    <tr>\n",
       "      <th>2</th>\n",
       "      <td>ramy becomes first muslim american sitcom land...</td>\n",
       "      <td>[ramy, becomes, first, muslim, american, sitco...</td>\n",
       "      <td>1</td>\n",
       "      <td>0</td>\n",
       "      <td>1</td>\n",
       "      <td>0</td>\n",
       "      <td>1</td>\n",
       "    </tr>\n",
       "    <tr>\n",
       "      <th>3</th>\n",
       "      <td>speakershinjini watch cricket ? ðÿ # askshin...</td>\n",
       "      <td>[speakershinjini, watch, cricket, ?, ðÿ, #, ...</td>\n",
       "      <td>0</td>\n",
       "      <td>1</td>\n",
       "      <td>0</td>\n",
       "      <td>0</td>\n",
       "      <td>0</td>\n",
       "    </tr>\n",
       "    <tr>\n",
       "      <th>4</th>\n",
       "      <td>mozambique wa named arabic slave trader muslim...</td>\n",
       "      <td>[mozambique, wa, named, arabic, slave, trader,...</td>\n",
       "      <td>2</td>\n",
       "      <td>0</td>\n",
       "      <td>0</td>\n",
       "      <td>1</td>\n",
       "      <td>2</td>\n",
       "    </tr>\n",
       "    <tr>\n",
       "      <th>5</th>\n",
       "      <td>somnath1978 thank god pakistani leadership unp...</td>\n",
       "      <td>[somnath1978, thank, god, pakistani, leadershi...</td>\n",
       "      <td>0</td>\n",
       "      <td>1</td>\n",
       "      <td>0</td>\n",
       "      <td>0</td>\n",
       "      <td>0</td>\n",
       "    </tr>\n",
       "    <tr>\n",
       "      <th>6</th>\n",
       "      <td>england australia player likely play match - r...</td>\n",
       "      <td>[england, australia, player, likely, play, mat...</td>\n",
       "      <td>0</td>\n",
       "      <td>1</td>\n",
       "      <td>0</td>\n",
       "      <td>0</td>\n",
       "      <td>0</td>\n",
       "    </tr>\n",
       "    <tr>\n",
       "      <th>7</th>\n",
       "      <td>`` jazbaatsamjho hsajwanization kind muslim ex...</td>\n",
       "      <td>[``, jazbaatsamjho, hsajwanization, kind, musl...</td>\n",
       "      <td>1</td>\n",
       "      <td>0</td>\n",
       "      <td>1</td>\n",
       "      <td>0</td>\n",
       "      <td>1</td>\n",
       "    </tr>\n",
       "    <tr>\n",
       "      <th>8</th>\n",
       "      <td>`` run fuck anyone try steal yard ashwin also ...</td>\n",
       "      <td>[``, run, fuck, anyone, try, steal, yard, ashw...</td>\n",
       "      <td>0</td>\n",
       "      <td>1</td>\n",
       "      <td>0</td>\n",
       "      <td>0</td>\n",
       "      <td>0</td>\n",
       "    </tr>\n",
       "    <tr>\n",
       "      <th>9</th>\n",
       "      <td>isaguha breath fresh air isa great cricket</td>\n",
       "      <td>[isaguha, breath, fresh, air, isa, great, cric...</td>\n",
       "      <td>0</td>\n",
       "      <td>1</td>\n",
       "      <td>0</td>\n",
       "      <td>0</td>\n",
       "      <td>0</td>\n",
       "    </tr>\n",
       "    <tr>\n",
       "      <th>10</th>\n",
       "      <td>`` even idian respect moharram ? one level non...</td>\n",
       "      <td>[``, even, idian, respect, moharram, ?, one, l...</td>\n",
       "      <td>1</td>\n",
       "      <td>0</td>\n",
       "      <td>1</td>\n",
       "      <td>0</td>\n",
       "      <td>1</td>\n",
       "    </tr>\n",
       "    <tr>\n",
       "      <th>11</th>\n",
       "      <td>katenkyokatsui youngdrey_ iceysnowrain aproko_...</td>\n",
       "      <td>[katenkyokatsui, youngdrey_, iceysnowrain, apr...</td>\n",
       "      <td>2</td>\n",
       "      <td>0</td>\n",
       "      <td>0</td>\n",
       "      <td>1</td>\n",
       "      <td>2</td>\n",
       "    </tr>\n",
       "    <tr>\n",
       "      <th>12</th>\n",
       "      <td>discover quran verse # glory [ 10 : 68 ] # qur...</td>\n",
       "      <td>[discover, quran, verse, #, glory, [, 10, :, 6...</td>\n",
       "      <td>1</td>\n",
       "      <td>0</td>\n",
       "      <td>1</td>\n",
       "      <td>0</td>\n",
       "      <td>1</td>\n",
       "    </tr>\n",
       "    <tr>\n",
       "      <th>13</th>\n",
       "      <td>`` rt think ricky idiot know spirit cricket sl...</td>\n",
       "      <td>[``, rt, think, ricky, idiot, know, spirit, cr...</td>\n",
       "      <td>0</td>\n",
       "      <td>1</td>\n",
       "      <td>0</td>\n",
       "      <td>0</td>\n",
       "      <td>0</td>\n",
       "    </tr>\n",
       "    <tr>\n",
       "      <th>14</th>\n",
       "      <td>dunxbc bdsfestival otterbrewery camp garden li...</td>\n",
       "      <td>[dunxbc, bdsfestival, otterbrewery, camp, gard...</td>\n",
       "      <td>0</td>\n",
       "      <td>1</td>\n",
       "      <td>0</td>\n",
       "      <td>0</td>\n",
       "      <td>0</td>\n",
       "    </tr>\n",
       "    <tr>\n",
       "      <th>15</th>\n",
       "      <td>indiansighthub ursfriend_sk abdulkalam gave nu...</td>\n",
       "      <td>[indiansighthub, ursfriend_sk, abdulkalam, gav...</td>\n",
       "      <td>2</td>\n",
       "      <td>0</td>\n",
       "      <td>0</td>\n",
       "      <td>1</td>\n",
       "      <td>2</td>\n",
       "    </tr>\n",
       "    <tr>\n",
       "      <th>16</th>\n",
       "      <td>mikeparr47 river_folk make deal 5050 take forc...</td>\n",
       "      <td>[mikeparr47, river_folk, make, deal, 5050, tak...</td>\n",
       "      <td>0</td>\n",
       "      <td>1</td>\n",
       "      <td>0</td>\n",
       "      <td>0</td>\n",
       "      <td>0</td>\n",
       "    </tr>\n",
       "    <tr>\n",
       "      <th>17</th>\n",
       "      <td>ilhan biggest mistake usa wa made allow radica...</td>\n",
       "      <td>[ilhan, biggest, mistake, usa, wa, made, allow...</td>\n",
       "      <td>2</td>\n",
       "      <td>0</td>\n",
       "      <td>0</td>\n",
       "      <td>1</td>\n",
       "      <td>2</td>\n",
       "    </tr>\n",
       "    <tr>\n",
       "      <th>18</th>\n",
       "      <td>eid al adha food meat</td>\n",
       "      <td>[eid, al, adha, food, meat]</td>\n",
       "      <td>1</td>\n",
       "      <td>0</td>\n",
       "      <td>1</td>\n",
       "      <td>0</td>\n",
       "      <td>1</td>\n",
       "    </tr>\n",
       "    <tr>\n",
       "      <th>19</th>\n",
       "      <td>jfwduffield davidlevenson7 cricketjim84 debskn...</td>\n",
       "      <td>[jfwduffield, davidlevenson7, cricketjim84, de...</td>\n",
       "      <td>0</td>\n",
       "      <td>1</td>\n",
       "      <td>0</td>\n",
       "      <td>0</td>\n",
       "      <td>0</td>\n",
       "    </tr>\n",
       "    <tr>\n",
       "      <th>20</th>\n",
       "      <td>msdhoni narendramodi # hastag retire cricket u...</td>\n",
       "      <td>[msdhoni, narendramodi, #, hastag, retire, cri...</td>\n",
       "      <td>0</td>\n",
       "      <td>1</td>\n",
       "      <td>0</td>\n",
       "      <td>0</td>\n",
       "      <td>0</td>\n",
       "    </tr>\n",
       "    <tr>\n",
       "      <th>21</th>\n",
       "      <td>iamlorenzowhite jy net n groot muslim terroris...</td>\n",
       "      <td>[iamlorenzowhite, jy, net, n, groot, muslim, t...</td>\n",
       "      <td>2</td>\n",
       "      <td>0</td>\n",
       "      <td>0</td>\n",
       "      <td>1</td>\n",
       "      <td>2</td>\n",
       "    </tr>\n",
       "    <tr>\n",
       "      <th>22</th>\n",
       "      <td>_sayema bloody sucklular chuslim leech fox abu...</td>\n",
       "      <td>[_sayema, bloody, sucklular, chuslim, leech, f...</td>\n",
       "      <td>2</td>\n",
       "      <td>0</td>\n",
       "      <td>0</td>\n",
       "      <td>1</td>\n",
       "      <td>2</td>\n",
       "    </tr>\n",
       "    <tr>\n",
       "      <th>23</th>\n",
       "      <td>whitespirit07 always love verse quran thank mu...</td>\n",
       "      <td>[whitespirit07, always, love, verse, quran, th...</td>\n",
       "      <td>1</td>\n",
       "      <td>0</td>\n",
       "      <td>1</td>\n",
       "      <td>0</td>\n",
       "      <td>1</td>\n",
       "    </tr>\n",
       "    <tr>\n",
       "      <th>24</th>\n",
       "      <td>thewire_in h_tejas guy h_tejas jehadi differen...</td>\n",
       "      <td>[thewire_in, h_tejas, guy, h_tejas, jehadi, di...</td>\n",
       "      <td>2</td>\n",
       "      <td>0</td>\n",
       "      <td>0</td>\n",
       "      <td>1</td>\n",
       "      <td>2</td>\n",
       "    </tr>\n",
       "  </tbody>\n",
       "</table>\n",
       "</div>"
      ],
      "text/plain": [
       "                                           Text_Final  \\\n",
       "0                          _sabanaqvi wa jehadi mulla   \n",
       "1   happy new islamic new year 1442 hijri # happyn...   \n",
       "2   ramy becomes first muslim american sitcom land...   \n",
       "3   speakershinjini watch cricket ? ðÿ # askshin...   \n",
       "4   mozambique wa named arabic slave trader muslim...   \n",
       "5   somnath1978 thank god pakistani leadership unp...   \n",
       "6   england australia player likely play match - r...   \n",
       "7   `` jazbaatsamjho hsajwanization kind muslim ex...   \n",
       "8   `` run fuck anyone try steal yard ashwin also ...   \n",
       "9          isaguha breath fresh air isa great cricket   \n",
       "10  `` even idian respect moharram ? one level non...   \n",
       "11  katenkyokatsui youngdrey_ iceysnowrain aproko_...   \n",
       "12  discover quran verse # glory [ 10 : 68 ] # qur...   \n",
       "13  `` rt think ricky idiot know spirit cricket sl...   \n",
       "14  dunxbc bdsfestival otterbrewery camp garden li...   \n",
       "15  indiansighthub ursfriend_sk abdulkalam gave nu...   \n",
       "16  mikeparr47 river_folk make deal 5050 take forc...   \n",
       "17  ilhan biggest mistake usa wa made allow radica...   \n",
       "18                              eid al adha food meat   \n",
       "19  jfwduffield davidlevenson7 cricketjim84 debskn...   \n",
       "20  msdhoni narendramodi # hastag retire cricket u...   \n",
       "21  iamlorenzowhite jy net n groot muslim terroris...   \n",
       "22  _sayema bloody sucklular chuslim leech fox abu...   \n",
       "23  whitespirit07 always love verse quran thank mu...   \n",
       "24  thewire_in h_tejas guy h_tejas jehadi differen...   \n",
       "\n",
       "                                               tokens Label  0  1  2  \\\n",
       "0                     [_sabanaqvi, wa, jehadi, mulla]     2  0  0  1   \n",
       "1   [happy, new, islamic, new, year, 1442, hijri, ...     1  0  1  0   \n",
       "2   [ramy, becomes, first, muslim, american, sitco...     1  0  1  0   \n",
       "3   [speakershinjini, watch, cricket, ?, ðÿ, #, ...     0  1  0  0   \n",
       "4   [mozambique, wa, named, arabic, slave, trader,...     2  0  0  1   \n",
       "5   [somnath1978, thank, god, pakistani, leadershi...     0  1  0  0   \n",
       "6   [england, australia, player, likely, play, mat...     0  1  0  0   \n",
       "7   [``, jazbaatsamjho, hsajwanization, kind, musl...     1  0  1  0   \n",
       "8   [``, run, fuck, anyone, try, steal, yard, ashw...     0  1  0  0   \n",
       "9   [isaguha, breath, fresh, air, isa, great, cric...     0  1  0  0   \n",
       "10  [``, even, idian, respect, moharram, ?, one, l...     1  0  1  0   \n",
       "11  [katenkyokatsui, youngdrey_, iceysnowrain, apr...     2  0  0  1   \n",
       "12  [discover, quran, verse, #, glory, [, 10, :, 6...     1  0  1  0   \n",
       "13  [``, rt, think, ricky, idiot, know, spirit, cr...     0  1  0  0   \n",
       "14  [dunxbc, bdsfestival, otterbrewery, camp, gard...     0  1  0  0   \n",
       "15  [indiansighthub, ursfriend_sk, abdulkalam, gav...     2  0  0  1   \n",
       "16  [mikeparr47, river_folk, make, deal, 5050, tak...     0  1  0  0   \n",
       "17  [ilhan, biggest, mistake, usa, wa, made, allow...     2  0  0  1   \n",
       "18                        [eid, al, adha, food, meat]     1  0  1  0   \n",
       "19  [jfwduffield, davidlevenson7, cricketjim84, de...     0  1  0  0   \n",
       "20  [msdhoni, narendramodi, #, hastag, retire, cri...     0  1  0  0   \n",
       "21  [iamlorenzowhite, jy, net, n, groot, muslim, t...     2  0  0  1   \n",
       "22  [_sayema, bloody, sucklular, chuslim, leech, f...     2  0  0  1   \n",
       "23  [whitespirit07, always, love, verse, quran, th...     1  0  1  0   \n",
       "24  [thewire_in, h_tejas, guy, h_tejas, jehadi, di...     2  0  0  1   \n",
       "\n",
       "   Category_id  \n",
       "0            2  \n",
       "1            1  \n",
       "2            1  \n",
       "3            0  \n",
       "4            2  \n",
       "5            0  \n",
       "6            0  \n",
       "7            1  \n",
       "8            0  \n",
       "9            0  \n",
       "10           1  \n",
       "11           2  \n",
       "12           1  \n",
       "13           0  \n",
       "14           0  \n",
       "15           2  \n",
       "16           0  \n",
       "17           2  \n",
       "18           1  \n",
       "19           0  \n",
       "20           0  \n",
       "21           2  \n",
       "22           2  \n",
       "23           1  \n",
       "24           2  "
      ]
     },
     "execution_count": 24,
     "metadata": {},
     "output_type": "execute_result"
    }
   ],
   "source": [
    "category_id = []\n",
    "for l in data.Label:\n",
    "    \n",
    "    if l == '0':\n",
    "        category_id.append('0')\n",
    "    elif l == '1':\n",
    "        category_id.append('1')\n",
    "    elif l == '2':\n",
    "        category_id.append('2')\n",
    "        \n",
    "data['Category_id'] = category_id\n",
    "\n",
    "data = data[['Text_Final', 'tokens', 'Label', '0', '1', '2', 'Category_id' ]]\n",
    "data.head(25)"
   ]
  },
  {
   "cell_type": "code",
   "execution_count": 25,
   "metadata": {},
   "outputs": [],
   "source": [
    "# Removing empty rows after tokenization"
   ]
  },
  {
   "cell_type": "code",
   "execution_count": 26,
   "metadata": {},
   "outputs": [],
   "source": [
    "data = data[data.tokens != '']"
   ]
  },
  {
   "cell_type": "code",
   "execution_count": 27,
   "metadata": {},
   "outputs": [],
   "source": [
    "from io import StringIO\n",
    "category_id_df = data[['Label', 'Category_id']].drop_duplicates().sort_values('Category_id')\n",
    "category_to_label_dict = dict(category_id_df.values)\n",
    "label_to_category_dict = dict(category_id_df[['Category_id', 'Label']].values)"
   ]
  },
  {
   "cell_type": "markdown",
   "metadata": {},
   "source": [
    "#### Split Data into test and train\n",
    "We will use 90 % data for training and 10 % for testing. We use random state so every time we get the same training and testing data."
   ]
  },
  {
   "cell_type": "markdown",
   "metadata": {},
   "source": [
    "# RFM - TFIDF"
   ]
  },
  {
   "cell_type": "code",
   "execution_count": 28,
   "metadata": {},
   "outputs": [
    {
     "data": {
      "text/plain": [
       "(10663, 60009)"
      ]
     },
     "execution_count": 28,
     "metadata": {},
     "output_type": "execute_result"
    }
   ],
   "source": [
    "vectorizer = TfidfVectorizer(sublinear_tf=True, min_df=2, norm='l2', encoding='latin-1', ngram_range=(1, 5), stop_words='english')\n",
    "features = vectorizer.fit_transform(data.Text_Final).toarray()\n",
    "labels = data.Label\n",
    "features.shape"
   ]
  },
  {
   "cell_type": "code",
   "execution_count": 29,
   "metadata": {},
   "outputs": [
    {
     "data": {
      "text/plain": [
       "0    3555\n",
       "2    3554\n",
       "1    3554\n",
       "Name: Label, dtype: int64"
      ]
     },
     "execution_count": 29,
     "metadata": {},
     "output_type": "execute_result"
    }
   ],
   "source": [
    "data.Label.value_counts()"
   ]
  },
  {
   "cell_type": "code",
   "execution_count": 30,
   "metadata": {},
   "outputs": [],
   "source": [
    "# Spliting data\n",
    "X_train, X_test, y_train, y_test, idx_train, idx_test = train_test_split(features, labels, data.index, test_size=0.10,shuffle = True, random_state=42)"
   ]
  },
  {
   "cell_type": "code",
   "execution_count": 31,
   "metadata": {},
   "outputs": [],
   "source": [
    "# Generate model\n",
    "model1 = RandomForestClassifier(n_estimators=200, max_depth=20, random_state=32)\n",
    "clf = model1.fit(X_train, y_train)\n",
    "y_pred = model1.predict(X_test)"
   ]
  },
  {
   "cell_type": "markdown",
   "metadata": {},
   "source": [
    "### RFM - Showing some prediction"
   ]
  },
  {
   "cell_type": "code",
   "execution_count": 32,
   "metadata": {},
   "outputs": [],
   "source": [
    "# Prediction\n",
    "translator = Translator()"
   ]
  },
  {
   "cell_type": "code",
   "execution_count": 33,
   "metadata": {},
   "outputs": [
    {
     "name": "stdout",
     "output_type": "stream",
     "text": [
      "Hindi:   समाज वादी  पार्टी  जिंदाबाद \n",
      "Translated: Samajwadi Party Zindabad\n",
      "['0']\n"
     ]
    }
   ],
   "source": [
    "# 0\n",
    "hin_text =  \" समाज वादी  पार्टी  जिंदाबाद \"\n",
    "print(\"Hindi: \", hin_text)\n",
    "\n",
    "trans = translator.translate(hin_text, dest='en')\n",
    "print('Translated:', trans.text)\n",
    "texts = [trans.text]\n",
    "print(clf.predict(vectorizer.transform(texts)))"
   ]
  },
  {
   "cell_type": "code",
   "execution_count": 34,
   "metadata": {},
   "outputs": [
    {
     "name": "stdout",
     "output_type": "stream",
     "text": [
      "Hindi:  'गाजा में दीवाली   की ढेरो बधाई मित्रो 😊💐  #IsraeliBombing 😂😂\n",
      "Translated: 'Happy Diwali greetings in Gaza Friends 😊💐 #IsraeliBombing 😂😂\n",
      "['0']\n"
     ]
    }
   ],
   "source": [
    "# 2\n",
    "hin_text =  \"'गाजा में दीवाली   की ढेरो बधाई मित्रो 😊💐  #IsraeliBombing 😂😂\"\n",
    "print(\"Hindi: \", hin_text)\n",
    "\n",
    "trans = translator.translate(hin_text, dest='en')\n",
    "print('Translated:', trans.text)\n",
    "texts = [trans.text]\n",
    "print(clf.predict(vectorizer.transform(texts)))"
   ]
  },
  {
   "cell_type": "code",
   "execution_count": 35,
   "metadata": {},
   "outputs": [
    {
     "name": "stdout",
     "output_type": "stream",
     "text": [
      "Hindi:  इसलाम सुंदर है\n",
      "Translated: Islam is beautiful\n",
      "['0']\n"
     ]
    }
   ],
   "source": [
    "# 1\n",
    "hin_text =  \"इसलाम सुंदर है\"\n",
    "print(\"Hindi: \", hin_text)\n",
    "\n",
    "trans = translator.translate(hin_text, dest='en')\n",
    "print('Translated:', trans.text)\n",
    "texts = [trans.text]\n",
    "print(clf.predict(vectorizer.transform(texts)))"
   ]
  },
  {
   "cell_type": "code",
   "execution_count": 36,
   "metadata": {},
   "outputs": [
    {
     "name": "stdout",
     "output_type": "stream",
     "text": [
      "['2']\n"
     ]
    }
   ],
   "source": [
    "# 2\n",
    "texts = [\"@_ROB_29 If this was a Muslim girl in Afghanistan you'd call her a terrorist\"]\n",
    "print(clf.predict(vectorizer.transform(texts)))"
   ]
  },
  {
   "cell_type": "code",
   "execution_count": 37,
   "metadata": {},
   "outputs": [
    {
     "name": "stdout",
     "output_type": "stream",
     "text": [
      "['0']\n"
     ]
    }
   ],
   "source": [
    "# 0\n",
    "texts = [\"Sachin: Once there was a fight between Yusuf and Bhajji. Sehwag: Paji, was he Muhammad Yusuf or Yusuf Youhana at that time. This man will not let him live even after retirement.\"]\n",
    "print(clf.predict(vectorizer.transform(texts)))"
   ]
  },
  {
   "cell_type": "markdown",
   "metadata": {},
   "source": [
    "### RFM - Displaying false-positive rate (FPR) and true positive rate (TPR)"
   ]
  },
  {
   "cell_type": "code",
   "execution_count": 38,
   "metadata": {},
   "outputs": [
    {
     "name": "stdout",
     "output_type": "stream",
     "text": [
      "Random Forest Method\n"
     ]
    },
    {
     "data": {
      "image/png": "[encoded data removed]",
      "text/plain": [
       "<Figure size 360x360 with 2 Axes>"
      ]
     },
     "metadata": {
      "needs_background": "light"
     },
     "output_type": "display_data"
    }
   ],
   "source": [
    "# confusion matrix\n",
    "print(\"Random Forest Method\")\n",
    "conf_mat = confusion_matrix(y_test, y_pred)\n",
    "fig, ax = plt.subplots(figsize=(5,5))\n",
    "sns.heatmap(conf_mat, annot=True, fmt='d',cmap ='YlGnBu',\n",
    "            xticklabels=category_id_df.Label.values, yticklabels=category_id_df.Label.values)\n",
    "plt.ylabel('Actual')\n",
    "plt.xlabel('Predicted')\n",
    "plt.show()"
   ]
  },
  {
   "cell_type": "markdown",
   "metadata": {},
   "source": [
    "### RFM - Precision, Recall and F1-Score to quantify the quality of our model using a confusion matrix."
   ]
  },
  {
   "cell_type": "code",
   "execution_count": 39,
   "metadata": {},
   "outputs": [
    {
     "name": "stdout",
     "output_type": "stream",
     "text": [
      "Confusion Matrix :\n",
      "[[365   0   6]\n",
      " [ 18 312  19]\n",
      " [ 10   4 333]]\n",
      "Accuracy Score : 0.9465791940018744\n",
      "Report : \n",
      "              precision    recall  f1-score   support\n",
      "\n",
      "           0       0.93      0.98      0.96       371\n",
      "           1       0.99      0.89      0.94       349\n",
      "           2       0.93      0.96      0.94       347\n",
      "\n",
      "    accuracy                           0.95      1067\n",
      "   macro avg       0.95      0.95      0.95      1067\n",
      "weighted avg       0.95      0.95      0.95      1067\n",
      "\n"
     ]
    }
   ],
   "source": [
    "results1 = confusion_matrix(y_test, y_pred)\n",
    "print ('Confusion Matrix :')\n",
    "print(results1) \n",
    "print ('Accuracy Score :',accuracy_score(y_test, y_pred))\n",
    "print ('Report : ')\n",
    "print (classification_report(y_test, y_pred))"
   ]
  },
  {
   "cell_type": "markdown",
   "metadata": {},
   "source": [
    "### RFM K-fold"
   ]
  },
  {
   "cell_type": "code",
   "execution_count": 40,
   "metadata": {},
   "outputs": [
    {
     "name": "stdout",
     "output_type": "stream",
     "text": [
      "Random Forest with BOW: \n",
      "1 0.9081537019681349\n",
      "2 0.9212746016869728\n",
      "3 0.9090909090909091\n",
      "4 0.9221388367729831\n",
      "5 0.9174484052532833\n",
      "6 0.925891181988743\n",
      "7 0.926829268292683\n",
      "8 0.9127579737335835\n",
      "9 0.9174484052532833\n",
      "10 0.9296435272045028\n",
      " Average Accuracy : 0.919067681124508\n"
     ]
    }
   ],
   "source": [
    "import random\n",
    "# Creating model\n",
    "model1 = RandomForestClassifier(n_estimators=200, max_depth=20, random_state=32)\n",
    "\n",
    "# KFold cross-validation\n",
    "kFold = 10\n",
    "\n",
    "scores = []\n",
    "#To get accuracy of the model for 10 different splits\n",
    "scoreValue = cross_val_score(model1, features, labels, scoring='accuracy', cv= kFold)\n",
    "\n",
    "# append name and score of each model with different splits\n",
    "print(\"Random Forest with BOW: \")\n",
    "for fold_idx, accuracy in enumerate(scoreValue):\n",
    "    print ((fold_idx + 1), accuracy)\n",
    "    scores.append(accuracy)\n",
    "    \n",
    "Mean_score =  sum(scores) / len(scores)\n",
    "print(f\" Average Accuracy : {Mean_score}\" )\n",
    "\n"
   ]
  },
  {
   "cell_type": "markdown",
   "metadata": {},
   "source": [
    "# RFM - BOW"
   ]
  },
  {
   "cell_type": "code",
   "execution_count": 41,
   "metadata": {},
   "outputs": [
    {
     "data": {
      "text/plain": [
       "(10663, 16927)"
      ]
     },
     "execution_count": 41,
     "metadata": {},
     "output_type": "execute_result"
    }
   ],
   "source": [
    "from sklearn.feature_extraction.text import CountVectorizer\n",
    "count_vect = CountVectorizer()\n",
    "features3 = count_vect.fit_transform(data.Text_Final).toarray()\n",
    "labels = data.Label\n",
    "features3.shape"
   ]
  },
  {
   "cell_type": "code",
   "execution_count": 42,
   "metadata": {},
   "outputs": [],
   "source": [
    "# Using similar split as CNN model\n",
    "X_train, X_test, y_train, y_test, idx_train, idx_test = train_test_split(features3, labels, data.index, test_size=0.10, shuffle = True, random_state=42)"
   ]
  },
  {
   "cell_type": "code",
   "execution_count": 43,
   "metadata": {},
   "outputs": [],
   "source": [
    "# generate Linear SVM model\n",
    "model3 = RandomForestClassifier(n_estimators=200, max_depth=20, random_state=32)\n",
    "clf3 = model3.fit(X_train, y_train)\n",
    "y_pred3 = model3.predict(X_test)"
   ]
  },
  {
   "cell_type": "markdown",
   "metadata": {},
   "source": [
    "### RFM - BOW - Showing some prediction"
   ]
  },
  {
   "cell_type": "code",
   "execution_count": 44,
   "metadata": {},
   "outputs": [],
   "source": [
    "# Prediction\n",
    "translator = Translator()"
   ]
  },
  {
   "cell_type": "code",
   "execution_count": 45,
   "metadata": {},
   "outputs": [
    {
     "name": "stdout",
     "output_type": "stream",
     "text": [
      "Hindi:   समाज वादी  पार्टी  जिंदाबाद \n",
      "Translated: Samajwadi Party Zindabad\n",
      "['0']\n"
     ]
    }
   ],
   "source": [
    "# 0\n",
    "hin_text =  \" समाज वादी  पार्टी  जिंदाबाद \"\n",
    "print(\"Hindi: \", hin_text)\n",
    "\n",
    "trans = translator.translate(hin_text, dest='en')\n",
    "print('Translated:', trans.text)\n",
    "texts = [trans.text]\n",
    "print(clf3.predict(count_vect.transform(texts)))"
   ]
  },
  {
   "cell_type": "code",
   "execution_count": 46,
   "metadata": {},
   "outputs": [
    {
     "name": "stdout",
     "output_type": "stream",
     "text": [
      "Hindi:  'गाजा में दीवाली   की ढेरो बधाई मित्रो 😊💐  #IsraeliBombing 😂😂\n",
      "Translated: 'Happy Diwali greetings in Gaza Friends 😊💐 #IsraeliBombing 😂😂\n",
      "['1']\n"
     ]
    }
   ],
   "source": [
    "# 2\n",
    "hin_text =  \"'गाजा में दीवाली   की ढेरो बधाई मित्रो 😊💐  #IsraeliBombing 😂😂\"\n",
    "print(\"Hindi: \", hin_text)\n",
    "\n",
    "trans = translator.translate(hin_text, dest='en')\n",
    "print('Translated:', trans.text)\n",
    "texts = [trans.text]\n",
    "print(clf3.predict(count_vect.transform(texts)))"
   ]
  },
  {
   "cell_type": "code",
   "execution_count": 47,
   "metadata": {},
   "outputs": [
    {
     "name": "stdout",
     "output_type": "stream",
     "text": [
      "Hindi:  इसलाम सुंदर है\n",
      "Translated: Islam is beautiful\n",
      "['2']\n"
     ]
    }
   ],
   "source": [
    "# 1\n",
    "hin_text =  \"इसलाम सुंदर है\"\n",
    "print(\"Hindi: \", hin_text)\n",
    "\n",
    "trans = translator.translate(hin_text, dest='en')\n",
    "print('Translated:', trans.text)\n",
    "texts = [trans.text]\n",
    "print(clf3.predict(count_vect.transform(texts)))"
   ]
  },
  {
   "cell_type": "code",
   "execution_count": 48,
   "metadata": {},
   "outputs": [
    {
     "name": "stdout",
     "output_type": "stream",
     "text": [
      "['2']\n"
     ]
    }
   ],
   "source": [
    "# 2\n",
    "texts = [\"@_ROB_29 If this was a Muslim girl in Afghanistan you'd call her a terrorist\"]\n",
    "print(clf3.predict(count_vect.transform(texts)))"
   ]
  },
  {
   "cell_type": "code",
   "execution_count": 49,
   "metadata": {},
   "outputs": [
    {
     "name": "stdout",
     "output_type": "stream",
     "text": [
      "['0']\n"
     ]
    }
   ],
   "source": [
    "# 0\n",
    "texts = [\"Sachin: Once there was a fight between Yusuf and Bhajji. Sehwag: Paji, was he Muhammad Yusuf or Yusuf Youhana at that time. This man will not let him live even after retirement.\"]\n",
    "print(clf3.predict(count_vect.transform(texts)))"
   ]
  },
  {
   "cell_type": "markdown",
   "metadata": {},
   "source": [
    "###  RFM - BOW - Displaying false-positive rate (FPR) and true positive rate (TPR)"
   ]
  },
  {
   "cell_type": "code",
   "execution_count": 50,
   "metadata": {},
   "outputs": [
    {
     "name": "stdout",
     "output_type": "stream",
     "text": [
      "                     RFM - BOW\n"
     ]
    },
    {
     "data": {
      "image/png": "[encoded data removed]",
      "text/plain": [
       "<Figure size 360x360 with 2 Axes>"
      ]
     },
     "metadata": {
      "needs_background": "light"
     },
     "output_type": "display_data"
    }
   ],
   "source": [
    "from sklearn.metrics import confusion_matrix\n",
    "print(\"                     RFM - BOW\")\n",
    "conf_mat = confusion_matrix(y_test, y_pred3)\n",
    "fig, ax = plt.subplots(figsize=(5,5))\n",
    "sns.heatmap(conf_mat, annot=True, fmt='d', cmap=\"YlGnBu\",\n",
    "            xticklabels=category_id_df.Label.values, yticklabels=category_id_df.Label.values)\n",
    "plt.ylabel('Actual')\n",
    "plt.xlabel('Predicted')\n",
    "plt.show()"
   ]
  },
  {
   "cell_type": "markdown",
   "metadata": {},
   "source": [
    "### RFM - BOW - Precision, Recall and F1-Score to quantify the quality of our model using a confusion matrix."
   ]
  },
  {
   "cell_type": "code",
   "execution_count": 51,
   "metadata": {},
   "outputs": [
    {
     "name": "stdout",
     "output_type": "stream",
     "text": [
      "Confusion Matrix :\n",
      "[[360   1  10]\n",
      " [  6 323  20]\n",
      " [  4   6 337]]\n",
      "Accuracy Score : 0.9559512652296157\n",
      "Report : \n",
      "              precision    recall  f1-score   support\n",
      "\n",
      "           0       0.97      0.97      0.97       371\n",
      "           1       0.98      0.93      0.95       349\n",
      "           2       0.92      0.97      0.94       347\n",
      "\n",
      "    accuracy                           0.96      1067\n",
      "   macro avg       0.96      0.96      0.96      1067\n",
      "weighted avg       0.96      0.96      0.96      1067\n",
      "\n"
     ]
    }
   ],
   "source": [
    "results3 = confusion_matrix(y_test, y_pred3)\n",
    "print ('Confusion Matrix :')\n",
    "print(results3) \n",
    "print ('Accuracy Score :',accuracy_score(y_test, y_pred3))\n",
    "print ('Report : ')\n",
    "print (classification_report(y_test, y_pred3))"
   ]
  },
  {
   "cell_type": "markdown",
   "metadata": {},
   "source": [
    "### RFM with BOW Kfold"
   ]
  },
  {
   "cell_type": "code",
   "execution_count": 52,
   "metadata": {},
   "outputs": [
    {
     "name": "stdout",
     "output_type": "stream",
     "text": [
      "Random Forest with BOW: \n",
      "1 0.9268978444236177\n",
      "2 0.9400187441424555\n",
      "3 0.9493908153701968\n",
      "4 0.9606003752345216\n",
      "5 0.9437148217636022\n",
      "6 0.9418386491557224\n",
      "7 0.9371482176360225\n",
      "8 0.9437148217636022\n",
      "9 0.9409005628517824\n",
      "10 0.9362101313320825\n",
      " Average Accuracy : 0.9420434983673605\n"
     ]
    }
   ],
   "source": [
    "# model\n",
    "model3 = RandomForestClassifier(n_estimators=200, max_depth=20, random_state=32)\n",
    "\n",
    "# KFold cross-validation\n",
    "kFold = 10\n",
    "\n",
    "scores = []\n",
    "#To get accuracy of the model for 10 different splits\n",
    "scoreValue = cross_val_score(model3, features3, labels, scoring='accuracy', cv= kFold)\n",
    "\n",
    "# append name and score of each model with different splits\n",
    "print(\"Random Forest with BOW: \")\n",
    "for fold_idx, accuracy in enumerate(scoreValue):\n",
    "    print ((fold_idx + 1), accuracy)\n",
    "    scores.append(accuracy)\n",
    "    \n",
    "Mean_score =  sum(scores) / len(scores)\n",
    "print(f\" Average Accuracy : {Mean_score}\" )"
   ]
  }
 ],
 "metadata": {
  "kernelspec": {
   "display_name": "Python 3",
   "language": "python",
   "name": "python3"
  },
  "language_info": {
   "codemirror_mode": {
    "name": "ipython",
    "version": 3
   },
   "file_extension": ".py",
   "mimetype": "text/x-python",
   "name": "python",
   "nbconvert_exporter": "python",
   "pygments_lexer": "ipython3",
   "version": "3.8.5"
  }
 },
 "nbformat": 4,
 "nbformat_minor": 4
}
