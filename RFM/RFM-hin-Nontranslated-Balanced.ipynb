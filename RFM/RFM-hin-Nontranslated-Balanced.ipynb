{
 "cells": [
  {
   "cell_type": "markdown",
   "metadata": {},
   "source": [
    "# Randon Forest Model wwith TF-IDF and Bag of words"
   ]
  },
  {
   "cell_type": "code",
   "execution_count": 1,
   "metadata": {},
   "outputs": [],
   "source": [
    "# file path exist\n",
    "import os.path\n",
    "from os import path\n",
    "\n",
    "# translator\n",
    "import googletrans\n",
    "from googletrans import Translator\n",
    "\n",
    "# pandas\n",
    "import pandas as pd\n",
    "\n",
    "# preprocessing of text\n",
    "import re\n",
    "import string\n",
    "\n",
    "\n",
    "# word tokenizer by nltk\n",
    "from nltk import word_tokenize\n",
    "\n",
    "# lemmatizer\n",
    "from nltk.stem import WordNetLemmatizer\n",
    "\n",
    "# stopwords (Remove buzz words)\n",
    "from nltk.corpus import stopwords\n",
    "\n",
    "# split data into train and test\n",
    "from sklearn.model_selection import train_test_split\n",
    "\n",
    "# bag of words\n",
    "from sklearn.feature_extraction.text import CountVectorizer\n",
    "\n",
    "# TF-IDF\n",
    "from sklearn.feature_extraction.text import TfidfTransformer\n",
    "\n",
    "# RFM classifier from scikit learn\n",
    "from sklearn.ensemble import RandomForestClassifier\n",
    "\n",
    "# Tf-idf feature extraction \n",
    "from sklearn.feature_extraction.text import TfidfVectorizer\n",
    "\n",
    "# confusion matrix\n",
    "from sklearn.metrics import confusion_matrix\n",
    "import seaborn as sns\n",
    "\n",
    "# cross validation for kfold\n",
    "from sklearn.model_selection import cross_val_score\n",
    "\n",
    "# calc accuracy\n",
    "from sklearn.metrics import accuracy_score \n",
    "from sklearn.metrics import classification_report "
   ]
  },
  {
   "cell_type": "code",
   "execution_count": 2,
   "metadata": {},
   "outputs": [],
   "source": [
    "# For English data\n",
    "filename  = 'Eng-Hin-data/hindi-anot-shuffled'\n",
    "df = pd.read_csv(filename + '.csv',  \n",
    "               delimiter=',')\n",
    "df.columns = ['Text', 'Label']\n",
    "df.head(15)\n",
    "df[\"Text\"] = df[\"Text\"].astype(str)\n",
    "df[\"Label\"] = df[\"Label\"].astype(str)\n",
    "data = df"
   ]
  },
  {
   "cell_type": "code",
   "execution_count": 3,
   "metadata": {},
   "outputs": [
    {
     "data": {
      "text/plain": [
       "\"'अमीन के 500 से अधिक छात्रों ने सर्वे भवन के गेट पर आधा नंगा होकर किया प्रदर्शन  पप्पू यादव ने बुलंद की\\\\xa0आवाज\""
      ]
     },
     "execution_count": 3,
     "metadata": {},
     "output_type": "execute_result"
    }
   ],
   "source": [
    "# Same sentence after translation\n",
    "data.Text[3]"
   ]
  },
  {
   "cell_type": "markdown",
   "metadata": {},
   "source": [
    "### Class count"
   ]
  },
  {
   "cell_type": "code",
   "execution_count": 4,
   "metadata": {},
   "outputs": [
    {
     "data": {
      "image/png": "[encoded data removed]",
      "text/plain": [
       "<Figure size 432x288 with 1 Axes>"
      ]
     },
     "metadata": {
      "needs_background": "light"
     },
     "output_type": "display_data"
    }
   ],
   "source": [
    "import matplotlib.pyplot as plt\n",
    "fig = plt.figure(figsize=(6,4))\n",
    "data.groupby('Label').Text.count().plot.bar(ylim=0)\n",
    "plt.show()"
   ]
  },
  {
   "cell_type": "code",
   "execution_count": 5,
   "metadata": {},
   "outputs": [
    {
     "data": {
      "text/plain": [
       "2    3375\n",
       "0    3244\n",
       "1    2174\n",
       "Name: Label, dtype: int64"
      ]
     },
     "execution_count": 5,
     "metadata": {},
     "output_type": "execute_result"
    }
   ],
   "source": [
    "# For entire dataset sentences for each labels \n",
    "data.Label.value_counts()"
   ]
  },
  {
   "cell_type": "code",
   "execution_count": 6,
   "metadata": {},
   "outputs": [],
   "source": [
    "#balancing data \n",
    "from collections import Counter\n",
    "import numpy as np\n",
    "def balanceClasses(xs, ys):\n",
    "    item = {}\n",
    "    new_ys = []\n",
    "    new_xs = []\n",
    "    #\"\"\"Undersample xs, ys to balance classes.\"\"\"\n",
    "    freqs = Counter(ys)\n",
    "    # the most common class  is the maximum number we want for all classes\n",
    "    max_allowable = (freqs.most_common()[0][1])\n",
    "    \n",
    "    for val in freqs.most_common(): # List\n",
    "        nums = np.random.randint(1000)\n",
    "        i = 1\n",
    "        item[val[0]] = max_allowable - val[1]\n",
    "        \n",
    "        if item[val[0]] > 0:            \n",
    "            while(item[val[0]] - i != 0): \n",
    "                nums = nums + 1\n",
    "                if ys[nums] == val[0]:\n",
    "                    i += 1\n",
    "                    new_ys.append(ys[nums])\n",
    "                    new_xs.append(xs[nums])\n",
    "    return new_xs, new_ys"
   ]
  },
  {
   "cell_type": "code",
   "execution_count": 7,
   "metadata": {},
   "outputs": [],
   "source": [
    "new_text, new_label = balanceClasses(df['Text'], df['Label'])"
   ]
  },
  {
   "cell_type": "code",
   "execution_count": 8,
   "metadata": {},
   "outputs": [],
   "source": [
    "data = pd.DataFrame(new_text)\n",
    "data.columns = ['Text']\n",
    "data['Label'] = new_label\n",
    "data = pd.concat([df, data])"
   ]
  },
  {
   "cell_type": "code",
   "execution_count": 9,
   "metadata": {},
   "outputs": [
    {
     "data": {
      "image/png": "[encoded data removed]",
      "text/plain": [
       "<Figure size 432x288 with 1 Axes>"
      ]
     },
     "metadata": {
      "needs_background": "light"
     },
     "output_type": "display_data"
    }
   ],
   "source": [
    "fig1 = plt.figure(figsize=(6,4))\n",
    "data.groupby('Label').Text.count().plot.bar(ylim=0)\n",
    "plt.show()"
   ]
  },
  {
   "cell_type": "code",
   "execution_count": 10,
   "metadata": {},
   "outputs": [
    {
     "data": {
      "text/plain": [
       "2    3375\n",
       "0    3374\n",
       "1    3374\n",
       "Name: Label, dtype: int64"
      ]
     },
     "execution_count": 10,
     "metadata": {},
     "output_type": "execute_result"
    }
   ],
   "source": [
    "data.Label.value_counts()"
   ]
  },
  {
   "cell_type": "code",
   "execution_count": 11,
   "metadata": {},
   "outputs": [
    {
     "data": {
      "text/html": [
       "<div>\n",
       "<style scoped>\n",
       "    .dataframe tbody tr th:only-of-type {\n",
       "        vertical-align: middle;\n",
       "    }\n",
       "\n",
       "    .dataframe tbody tr th {\n",
       "        vertical-align: top;\n",
       "    }\n",
       "\n",
       "    .dataframe thead th {\n",
       "        text-align: right;\n",
       "    }\n",
       "</style>\n",
       "<table border=\"1\" class=\"dataframe\">\n",
       "  <thead>\n",
       "    <tr style=\"text-align: right;\">\n",
       "      <th></th>\n",
       "      <th>Text</th>\n",
       "      <th>Label</th>\n",
       "    </tr>\n",
       "  </thead>\n",
       "  <tbody>\n",
       "    <tr>\n",
       "      <th>0</th>\n",
       "      <td>'@neerajkumarmlc जदयू में अगर छात्रों का कोई स...</td>\n",
       "      <td>0</td>\n",
       "    </tr>\n",
       "    <tr>\n",
       "      <th>1</th>\n",
       "      <td>'भारतीय क्रिकेटर सुरैश रैना ने सुशांत सिंह राज...</td>\n",
       "      <td>0</td>\n",
       "    </tr>\n",
       "    <tr>\n",
       "      <th>2</th>\n",
       "      <td>'माशाअल्लाह डॉ कफ़ील मथुरा जेल से रिहा हुए ख़ु...</td>\n",
       "      <td>1</td>\n",
       "    </tr>\n",
       "    <tr>\n",
       "      <th>3</th>\n",
       "      <td>'@shweta4nation भारतीय जनता पार्टी ज़िंदाबाद</td>\n",
       "      <td>0</td>\n",
       "    </tr>\n",
       "    <tr>\n",
       "      <th>4</th>\n",
       "      <td>'@ShahidM66407204 @LAMStandley @ImranKhanPTI A...</td>\n",
       "      <td>2</td>\n",
       "    </tr>\n",
       "    <tr>\n",
       "      <th>...</th>\n",
       "      <td>...</td>\n",
       "      <td>...</td>\n",
       "    </tr>\n",
       "    <tr>\n",
       "      <th>10118</th>\n",
       "      <td>'@AbhiGup50627237 सुशांत सिंह राजपूत को न्याय ...</td>\n",
       "      <td>0</td>\n",
       "    </tr>\n",
       "    <tr>\n",
       "      <th>10119</th>\n",
       "      <td>'@ashutosh83B @BJP4India @INCIndia @SatyaHindi...</td>\n",
       "      <td>0</td>\n",
       "    </tr>\n",
       "    <tr>\n",
       "      <th>10120</th>\n",
       "      <td>'बदलो सरकार  बदलो बिहार  रेयाजुल हक़ राजू भाई ...</td>\n",
       "      <td>0</td>\n",
       "    </tr>\n",
       "    <tr>\n",
       "      <th>10121</th>\n",
       "      <td>'बेशक अल्लाह बड़ा रेहम करने वाला हे   रहमतुल आ...</td>\n",
       "      <td>1</td>\n",
       "    </tr>\n",
       "    <tr>\n",
       "      <th>10122</th>\n",
       "      <td>'#जिहादी</td>\n",
       "      <td>2</td>\n",
       "    </tr>\n",
       "  </tbody>\n",
       "</table>\n",
       "<p>10123 rows × 2 columns</p>\n",
       "</div>"
      ],
      "text/plain": [
       "                                                    Text Label\n",
       "0      '@neerajkumarmlc जदयू में अगर छात्रों का कोई स...     0\n",
       "1      'भारतीय क्रिकेटर सुरैश रैना ने सुशांत सिंह राज...     0\n",
       "2      'माशाअल्लाह डॉ कफ़ील मथुरा जेल से रिहा हुए ख़ु...     1\n",
       "3           '@shweta4nation भारतीय जनता पार्टी ज़िंदाबाद     0\n",
       "4      '@ShahidM66407204 @LAMStandley @ImranKhanPTI A...     2\n",
       "...                                                  ...   ...\n",
       "10118  '@AbhiGup50627237 सुशांत सिंह राजपूत को न्याय ...     0\n",
       "10119  '@ashutosh83B @BJP4India @INCIndia @SatyaHindi...     0\n",
       "10120  'बदलो सरकार  बदलो बिहार  रेयाजुल हक़ राजू भाई ...     0\n",
       "10121  'बेशक अल्लाह बड़ा रेहम करने वाला हे   रहमतुल आ...     1\n",
       "10122                                           '#जिहादी     2\n",
       "\n",
       "[10123 rows x 2 columns]"
      ]
     },
     "execution_count": 11,
     "metadata": {},
     "output_type": "execute_result"
    }
   ],
   "source": [
    "data=data.sample(frac=1).reset_index(drop=True)\n",
    "data"
   ]
  },
  {
   "cell_type": "markdown",
   "metadata": {},
   "source": [
    "### Data Preprocessing"
   ]
  },
  {
   "cell_type": "code",
   "execution_count": 13,
   "metadata": {},
   "outputs": [],
   "source": [
    "def textPattern(text):\n",
    "\n",
    "    # Clean the text\n",
    "    text = re.sub(r\"@\", \" \", text)\n",
    "    text = re.sub(r\" \\n \", \" \", text)\n",
    "    text = re.sub(r\"\\'s\", \" \", text)\n",
    "    text = re.sub(r\",\", \" \", text)\n",
    "    text = re.sub(r\"\\.\", \" \", text)\n",
    "    text = re.sub(r\"!\", \" \", text)\n",
    "    text = re.sub(r\"\\/\", \" \", text)\n",
    "    text = re.sub(r\"\\^\", \" ^ \", text)\n",
    "    text = re.sub(r\"\\+\", \" \", text)\n",
    "    text = re.sub(r\"\\-\", \" - \", text)\n",
    "    text = re.sub(r\"\\= =\", \" \", text)\n",
    "    text = re.sub(r\"\\==\", \" \", text)\n",
    "    text = re.sub(r\"'\", \" \", text)\n",
    "    text = re.sub(r\"(\\d+)(k)\", r\"\\g<1>000\", text)\n",
    "    text = re.sub(r\":\", \" : \", text)\n",
    "    text = re.sub(r\"\\0s\", \"0\", text)\n",
    "    text = re.sub(r\" 9 11 \", \"911\", text)\n",
    "    text = re.sub(r\"\\s{2,}\", \" \", text)\n",
    "    return text\n",
    "\n",
    "data['Text'] = data['Text'].apply(lambda x: textPattern(x))"
   ]
  },
  {
   "cell_type": "code",
   "execution_count": 14,
   "metadata": {},
   "outputs": [
    {
     "data": {
      "text/plain": [
       "(10123, 2)"
      ]
     },
     "execution_count": 14,
     "metadata": {},
     "output_type": "execute_result"
    }
   ],
   "source": [
    "data.shape"
   ]
  },
  {
   "cell_type": "code",
   "execution_count": 15,
   "metadata": {},
   "outputs": [],
   "source": [
    "# Word Tokenization\n",
    "tokens = [word_tokenize(sen) for sen in data.Text]"
   ]
  },
  {
   "cell_type": "code",
   "execution_count": 16,
   "metadata": {},
   "outputs": [],
   "source": [
    "# Lower Case\n",
    "def lower_token(tokens): \n",
    "    return [w.lower() for w in tokens]    \n",
    "    \n",
    "lower_tokens = [lower_token(token) for token in tokens]"
   ]
  },
  {
   "cell_type": "code",
   "execution_count": 17,
   "metadata": {},
   "outputs": [],
   "source": [
    "# Remove Link\n",
    "\n",
    "def removeLink(token):\n",
    "    word = []\n",
    "    for w in token:\n",
    "        if not w.startswith('http'):\n",
    "            word.append(w)\n",
    "    return word \n",
    "    \n",
    "removedLink_tokens = [removeLink(token) for token in lower_tokens]"
   ]
  },
  {
   "cell_type": "code",
   "execution_count": 18,
   "metadata": {},
   "outputs": [],
   "source": [
    "# Word Lemmatization\n",
    "def lemmatization(token):\n",
    "    return [lemmatizer.lemmatize(w) for w in token] \n",
    "\n",
    "lemmatizer = WordNetLemmatizer()\n",
    "\n",
    "lemmatized_tokens = [lemmatization(token) for token in removedLink_tokens]"
   ]
  },
  {
   "cell_type": "code",
   "execution_count": 19,
   "metadata": {},
   "outputs": [],
   "source": [
    "# Removing Stopwords\n",
    "stoplist=open(\"Devanagari/stopwords.txt\",\"r\")"
   ]
  },
  {
   "cell_type": "code",
   "execution_count": 20,
   "metadata": {},
   "outputs": [],
   "source": [
    "def removeStopWords(tokens): \n",
    "    return [word for word in tokens if word not in stoplist]\n",
    "\n",
    "filtered_words = [removeStopWords(sen) for sen in lemmatized_tokens]\n",
    "data['Text_Final'] = [' '.join(sen) for sen in filtered_words]\n",
    "data['tokens'] = filtered_words"
   ]
  },
  {
   "cell_type": "code",
   "execution_count": 21,
   "metadata": {},
   "outputs": [],
   "source": [
    "zero  = []\n",
    "one = []\n",
    "two = []\n",
    "for l in data.Label:\n",
    "    \n",
    "    if l == '0':\n",
    "        zero.append(1)\n",
    "        one.append(0)\n",
    "        two.append(0)\n",
    "    elif l == '1':\n",
    "        zero.append(0)\n",
    "        one.append(1)\n",
    "        two.append(0)\n",
    "    elif l == '2':\n",
    "        zero.append(0)\n",
    "        one.append(0)\n",
    "        two.append(1)\n",
    "        \n",
    "data['0']= zero\n",
    "data['1']= one\n",
    "data['2']= two\n",
    "\n",
    "data = data[['Text_Final', 'tokens', 'Label', '0', '1', '2']]"
   ]
  },
  {
   "cell_type": "code",
   "execution_count": 22,
   "metadata": {},
   "outputs": [
    {
     "data": {
      "text/html": [
       "<div>\n",
       "<style scoped>\n",
       "    .dataframe tbody tr th:only-of-type {\n",
       "        vertical-align: middle;\n",
       "    }\n",
       "\n",
       "    .dataframe tbody tr th {\n",
       "        vertical-align: top;\n",
       "    }\n",
       "\n",
       "    .dataframe thead th {\n",
       "        text-align: right;\n",
       "    }\n",
       "</style>\n",
       "<table border=\"1\" class=\"dataframe\">\n",
       "  <thead>\n",
       "    <tr style=\"text-align: right;\">\n",
       "      <th></th>\n",
       "      <th>Text_Final</th>\n",
       "      <th>tokens</th>\n",
       "      <th>Label</th>\n",
       "      <th>0</th>\n",
       "      <th>1</th>\n",
       "      <th>2</th>\n",
       "      <th>Category_id</th>\n",
       "    </tr>\n",
       "  </thead>\n",
       "  <tbody>\n",
       "    <tr>\n",
       "      <th>0</th>\n",
       "      <td>neerajkumarmlc जदयू में अगर छात्रों का कोई सुन...</td>\n",
       "      <td>[neerajkumarmlc, जदयू, में, अगर, छात्रों, का, ...</td>\n",
       "      <td>0</td>\n",
       "      <td>1</td>\n",
       "      <td>0</td>\n",
       "      <td>0</td>\n",
       "      <td>0</td>\n",
       "    </tr>\n",
       "    <tr>\n",
       "      <th>1</th>\n",
       "      <td>भारतीय क्रिकेटर सुरैश रैना ने सुशांत सिंह राजप...</td>\n",
       "      <td>[भारतीय, क्रिकेटर, सुरैश, रैना, ने, सुशांत, सि...</td>\n",
       "      <td>0</td>\n",
       "      <td>1</td>\n",
       "      <td>0</td>\n",
       "      <td>0</td>\n",
       "      <td>0</td>\n",
       "    </tr>\n",
       "    <tr>\n",
       "      <th>2</th>\n",
       "      <td>माशाअल्लाह डॉ कफ़ील मथुरा जेल से रिहा हुए ख़ुश...</td>\n",
       "      <td>[माशाअल्लाह, डॉ, कफ़ील, मथुरा, जेल, से, रिहा, ...</td>\n",
       "      <td>1</td>\n",
       "      <td>0</td>\n",
       "      <td>1</td>\n",
       "      <td>0</td>\n",
       "      <td>1</td>\n",
       "    </tr>\n",
       "    <tr>\n",
       "      <th>3</th>\n",
       "      <td>shweta4nation भारतीय जनता पार्टी ज़िंदाबाद</td>\n",
       "      <td>[shweta4nation, भारतीय, जनता, पार्टी, ज़िंदाबाद]</td>\n",
       "      <td>0</td>\n",
       "      <td>1</td>\n",
       "      <td>0</td>\n",
       "      <td>0</td>\n",
       "      <td>0</td>\n",
       "    </tr>\n",
       "    <tr>\n",
       "      <th>4</th>\n",
       "      <td>shahidm66407204 lamstandley imrankhanpti abe c...</td>\n",
       "      <td>[shahidm66407204, lamstandley, imrankhanpti, a...</td>\n",
       "      <td>2</td>\n",
       "      <td>0</td>\n",
       "      <td>0</td>\n",
       "      <td>1</td>\n",
       "      <td>2</td>\n",
       "    </tr>\n",
       "    <tr>\n",
       "      <th>5</th>\n",
       "      <td>दिशा सालियान और सुशांत सिंह राजपूत की हत्याओं ...</td>\n",
       "      <td>[दिशा, सालियान, और, सुशांत, सिंह, राजपूत, की, ...</td>\n",
       "      <td>0</td>\n",
       "      <td>1</td>\n",
       "      <td>0</td>\n",
       "      <td>0</td>\n",
       "      <td>0</td>\n",
       "    </tr>\n",
       "    <tr>\n",
       "      <th>6</th>\n",
       "      <td>🙏 जय श्री राम 🚩 🇮🇳 भारत माता कि जय ✊ 🛕 हिंदू ह...</td>\n",
       "      <td>[🙏, जय, श्री, राम, 🚩, 🇮🇳, भारत, माता, कि, जय, ...</td>\n",
       "      <td>0</td>\n",
       "      <td>1</td>\n",
       "      <td>0</td>\n",
       "      <td>0</td>\n",
       "      <td>0</td>\n",
       "    </tr>\n",
       "    <tr>\n",
       "      <th>7</th>\n",
       "      <td>aliitweeter akhileshpsingh जेहादी साले तुम ऐसी...</td>\n",
       "      <td>[aliitweeter, akhileshpsingh, जेहादी, साले, तु...</td>\n",
       "      <td>2</td>\n",
       "      <td>0</td>\n",
       "      <td>0</td>\n",
       "      <td>1</td>\n",
       "      <td>2</td>\n",
       "    </tr>\n",
       "    <tr>\n",
       "      <th>8</th>\n",
       "      <td>सुशांत सिंह राजपूत की साईकोलॉजिकल ऑटोप्सी cbi ...</td>\n",
       "      <td>[सुशांत, सिंह, राजपूत, की, साईकोलॉजिकल, ऑटोप्स...</td>\n",
       "      <td>0</td>\n",
       "      <td>1</td>\n",
       "      <td>0</td>\n",
       "      <td>0</td>\n",
       "      <td>0</td>\n",
       "    </tr>\n",
       "    <tr>\n",
       "      <th>9</th>\n",
       "      <td>ankita lokhande ने बताया सुशांत सिंह राजपूत का...</td>\n",
       "      <td>[ankita, lokhande, ने, बताया, सुशांत, सिंह, रा...</td>\n",
       "      <td>0</td>\n",
       "      <td>1</td>\n",
       "      <td>0</td>\n",
       "      <td>0</td>\n",
       "      <td>0</td>\n",
       "    </tr>\n",
       "    <tr>\n",
       "      <th>10</th>\n",
       "      <td>इसी कारणवश जेहादी दीदी ने अपना कमेंट सीमित करक...</td>\n",
       "      <td>[इसी, कारणवश, जेहादी, दीदी, ने, अपना, कमेंट, स...</td>\n",
       "      <td>2</td>\n",
       "      <td>0</td>\n",
       "      <td>0</td>\n",
       "      <td>1</td>\n",
       "      <td>2</td>\n",
       "    </tr>\n",
       "    <tr>\n",
       "      <th>11</th>\n",
       "      <td>सुशांत सिंह राजपूत की पड़ोसी ने किया बड़ा खुलासा</td>\n",
       "      <td>[सुशांत, सिंह, राजपूत, की, पड़ोसी, ने, किया, ब...</td>\n",
       "      <td>0</td>\n",
       "      <td>1</td>\n",
       "      <td>0</td>\n",
       "      <td>0</td>\n",
       "      <td>0</td>\n",
       "    </tr>\n",
       "    <tr>\n",
       "      <th>12</th>\n",
       "      <td>salmannizami_ तो तू कैसे जिंदा है जिहादी पिल्ल...</td>\n",
       "      <td>[salmannizami_, तो, तू, कैसे, जिंदा, है, जिहाद...</td>\n",
       "      <td>2</td>\n",
       "      <td>0</td>\n",
       "      <td>0</td>\n",
       "      <td>1</td>\n",
       "      <td>2</td>\n",
       "    </tr>\n",
       "    <tr>\n",
       "      <th>13</th>\n",
       "      <td>nags_mapari बहोत ही खूबसूरत माशा अल्लाह</td>\n",
       "      <td>[nags_mapari, बहोत, ही, खूबसूरत, माशा, अल्लाह]</td>\n",
       "      <td>1</td>\n",
       "      <td>0</td>\n",
       "      <td>1</td>\n",
       "      <td>0</td>\n",
       "      <td>1</td>\n",
       "    </tr>\n",
       "    <tr>\n",
       "      <th>14</th>\n",
       "      <td>ayesha0786786 अल्लाह हाफ़िज़ आयेशा</td>\n",
       "      <td>[ayesha0786786, अल्लाह, हाफ़िज़, आयेशा]</td>\n",
       "      <td>1</td>\n",
       "      <td>0</td>\n",
       "      <td>1</td>\n",
       "      <td>0</td>\n",
       "      <td>1</td>\n",
       "    </tr>\n",
       "    <tr>\n",
       "      <th>15</th>\n",
       "      <td>nargis_ansari73 माशा अल्लाह बहुत शानदार सोच है...</td>\n",
       "      <td>[nargis_ansari73, माशा, अल्लाह, बहुत, शानदार, ...</td>\n",
       "      <td>1</td>\n",
       "      <td>0</td>\n",
       "      <td>1</td>\n",
       "      <td>0</td>\n",
       "      <td>1</td>\n",
       "    </tr>\n",
       "    <tr>\n",
       "      <th>16</th>\n",
       "      <td>sweetie0008 galaxyabhishek # जेहादी_ममता</td>\n",
       "      <td>[sweetie0008, galaxyabhishek, #, जेहादी_ममता]</td>\n",
       "      <td>2</td>\n",
       "      <td>0</td>\n",
       "      <td>0</td>\n",
       "      <td>1</td>\n",
       "      <td>2</td>\n",
       "    </tr>\n",
       "    <tr>\n",
       "      <th>17</th>\n",
       "      <td>ambedakarsona उक्ला शुक्ला खुद जेहादि है ।</td>\n",
       "      <td>[ambedakarsona, उक्ला, शुक्ला, खुद, जेहादि, है...</td>\n",
       "      <td>2</td>\n",
       "      <td>0</td>\n",
       "      <td>0</td>\n",
       "      <td>1</td>\n",
       "      <td>2</td>\n",
       "    </tr>\n",
       "    <tr>\n",
       "      <th>18</th>\n",
       "      <td>ajitanjum तुझे भी बैंगलोर जलने का ना अफसोस है ...</td>\n",
       "      <td>[ajitanjum, तुझे, भी, बैंगलोर, जलने, का, ना, अ...</td>\n",
       "      <td>2</td>\n",
       "      <td>0</td>\n",
       "      <td>0</td>\n",
       "      <td>1</td>\n",
       "      <td>2</td>\n",
       "    </tr>\n",
       "    <tr>\n",
       "      <th>19</th>\n",
       "      <td>nargis_ansari72 rahulgandhi अरे जेहादी बानो बा...</td>\n",
       "      <td>[nargis_ansari72, rahulgandhi, अरे, जेहादी, बा...</td>\n",
       "      <td>2</td>\n",
       "      <td>0</td>\n",
       "      <td>0</td>\n",
       "      <td>1</td>\n",
       "      <td>2</td>\n",
       "    </tr>\n",
       "    <tr>\n",
       "      <th>20</th>\n",
       "      <td>सुशांतसिंह केस में अब cbi को आगे क्या करना है ...</td>\n",
       "      <td>[सुशांतसिंह, केस, में, अब, cbi, को, आगे, क्या,...</td>\n",
       "      <td>0</td>\n",
       "      <td>1</td>\n",
       "      <td>0</td>\n",
       "      <td>0</td>\n",
       "      <td>0</td>\n",
       "    </tr>\n",
       "    <tr>\n",
       "      <th>21</th>\n",
       "      <td>madinabarkatkha आमीन माशा अल्लाह</td>\n",
       "      <td>[madinabarkatkha, आमीन, माशा, अल्लाह]</td>\n",
       "      <td>1</td>\n",
       "      <td>0</td>\n",
       "      <td>1</td>\n",
       "      <td>0</td>\n",
       "      <td>1</td>\n",
       "    </tr>\n",
       "    <tr>\n",
       "      <th>22</th>\n",
       "      <td>truenat22887754 जिहादी है शकल अफ्रीकी हैं 😃</td>\n",
       "      <td>[truenat22887754, जिहादी, है, शकल, अफ्रीकी, है...</td>\n",
       "      <td>2</td>\n",
       "      <td>0</td>\n",
       "      <td>0</td>\n",
       "      <td>1</td>\n",
       "      <td>2</td>\n",
       "    </tr>\n",
       "    <tr>\n",
       "      <th>23</th>\n",
       "      <td>ajijkhan_2 कल जूमा है । इंशा अल्लाह फैसला हक म...</td>\n",
       "      <td>[ajijkhan_2, कल, जूमा, है, ।, इंशा, अल्लाह, फै...</td>\n",
       "      <td>1</td>\n",
       "      <td>0</td>\n",
       "      <td>1</td>\n",
       "      <td>0</td>\n",
       "      <td>1</td>\n",
       "    </tr>\n",
       "    <tr>\n",
       "      <th>24</th>\n",
       "      <td># allahdoesnotneedqurbani जीव हत्या करने वाले ...</td>\n",
       "      <td>[#, allahdoesnotneedqurbani, जीव, हत्या, करने,...</td>\n",
       "      <td>0</td>\n",
       "      <td>1</td>\n",
       "      <td>0</td>\n",
       "      <td>0</td>\n",
       "      <td>0</td>\n",
       "    </tr>\n",
       "  </tbody>\n",
       "</table>\n",
       "</div>"
      ],
      "text/plain": [
       "                                           Text_Final  \\\n",
       "0   neerajkumarmlc जदयू में अगर छात्रों का कोई सुन...   \n",
       "1   भारतीय क्रिकेटर सुरैश रैना ने सुशांत सिंह राजप...   \n",
       "2   माशाअल्लाह डॉ कफ़ील मथुरा जेल से रिहा हुए ख़ुश...   \n",
       "3          shweta4nation भारतीय जनता पार्टी ज़िंदाबाद   \n",
       "4   shahidm66407204 lamstandley imrankhanpti abe c...   \n",
       "5   दिशा सालियान और सुशांत सिंह राजपूत की हत्याओं ...   \n",
       "6   🙏 जय श्री राम 🚩 🇮🇳 भारत माता कि जय ✊ 🛕 हिंदू ह...   \n",
       "7   aliitweeter akhileshpsingh जेहादी साले तुम ऐसी...   \n",
       "8   सुशांत सिंह राजपूत की साईकोलॉजिकल ऑटोप्सी cbi ...   \n",
       "9   ankita lokhande ने बताया सुशांत सिंह राजपूत का...   \n",
       "10  इसी कारणवश जेहादी दीदी ने अपना कमेंट सीमित करक...   \n",
       "11   सुशांत सिंह राजपूत की पड़ोसी ने किया बड़ा खुलासा   \n",
       "12  salmannizami_ तो तू कैसे जिंदा है जिहादी पिल्ल...   \n",
       "13            nags_mapari बहोत ही खूबसूरत माशा अल्लाह   \n",
       "14                 ayesha0786786 अल्लाह हाफ़िज़ आयेशा   \n",
       "15  nargis_ansari73 माशा अल्लाह बहुत शानदार सोच है...   \n",
       "16           sweetie0008 galaxyabhishek # जेहादी_ममता   \n",
       "17         ambedakarsona उक्ला शुक्ला खुद जेहादि है ।   \n",
       "18  ajitanjum तुझे भी बैंगलोर जलने का ना अफसोस है ...   \n",
       "19  nargis_ansari72 rahulgandhi अरे जेहादी बानो बा...   \n",
       "20  सुशांतसिंह केस में अब cbi को आगे क्या करना है ...   \n",
       "21                   madinabarkatkha आमीन माशा अल्लाह   \n",
       "22        truenat22887754 जिहादी है शकल अफ्रीकी हैं 😃   \n",
       "23  ajijkhan_2 कल जूमा है । इंशा अल्लाह फैसला हक म...   \n",
       "24  # allahdoesnotneedqurbani जीव हत्या करने वाले ...   \n",
       "\n",
       "                                               tokens Label  0  1  2  \\\n",
       "0   [neerajkumarmlc, जदयू, में, अगर, छात्रों, का, ...     0  1  0  0   \n",
       "1   [भारतीय, क्रिकेटर, सुरैश, रैना, ने, सुशांत, सि...     0  1  0  0   \n",
       "2   [माशाअल्लाह, डॉ, कफ़ील, मथुरा, जेल, से, रिहा, ...     1  0  1  0   \n",
       "3    [shweta4nation, भारतीय, जनता, पार्टी, ज़िंदाबाद]     0  1  0  0   \n",
       "4   [shahidm66407204, lamstandley, imrankhanpti, a...     2  0  0  1   \n",
       "5   [दिशा, सालियान, और, सुशांत, सिंह, राजपूत, की, ...     0  1  0  0   \n",
       "6   [🙏, जय, श्री, राम, 🚩, 🇮🇳, भारत, माता, कि, जय, ...     0  1  0  0   \n",
       "7   [aliitweeter, akhileshpsingh, जेहादी, साले, तु...     2  0  0  1   \n",
       "8   [सुशांत, सिंह, राजपूत, की, साईकोलॉजिकल, ऑटोप्स...     0  1  0  0   \n",
       "9   [ankita, lokhande, ने, बताया, सुशांत, सिंह, रा...     0  1  0  0   \n",
       "10  [इसी, कारणवश, जेहादी, दीदी, ने, अपना, कमेंट, स...     2  0  0  1   \n",
       "11  [सुशांत, सिंह, राजपूत, की, पड़ोसी, ने, किया, ब...     0  1  0  0   \n",
       "12  [salmannizami_, तो, तू, कैसे, जिंदा, है, जिहाद...     2  0  0  1   \n",
       "13     [nags_mapari, बहोत, ही, खूबसूरत, माशा, अल्लाह]     1  0  1  0   \n",
       "14            [ayesha0786786, अल्लाह, हाफ़िज़, आयेशा]     1  0  1  0   \n",
       "15  [nargis_ansari73, माशा, अल्लाह, बहुत, शानदार, ...     1  0  1  0   \n",
       "16      [sweetie0008, galaxyabhishek, #, जेहादी_ममता]     2  0  0  1   \n",
       "17  [ambedakarsona, उक्ला, शुक्ला, खुद, जेहादि, है...     2  0  0  1   \n",
       "18  [ajitanjum, तुझे, भी, बैंगलोर, जलने, का, ना, अ...     2  0  0  1   \n",
       "19  [nargis_ansari72, rahulgandhi, अरे, जेहादी, बा...     2  0  0  1   \n",
       "20  [सुशांतसिंह, केस, में, अब, cbi, को, आगे, क्या,...     0  1  0  0   \n",
       "21              [madinabarkatkha, आमीन, माशा, अल्लाह]     1  0  1  0   \n",
       "22  [truenat22887754, जिहादी, है, शकल, अफ्रीकी, है...     2  0  0  1   \n",
       "23  [ajijkhan_2, कल, जूमा, है, ।, इंशा, अल्लाह, फै...     1  0  1  0   \n",
       "24  [#, allahdoesnotneedqurbani, जीव, हत्या, करने,...     0  1  0  0   \n",
       "\n",
       "   Category_id  \n",
       "0            0  \n",
       "1            0  \n",
       "2            1  \n",
       "3            0  \n",
       "4            2  \n",
       "5            0  \n",
       "6            0  \n",
       "7            2  \n",
       "8            0  \n",
       "9            0  \n",
       "10           2  \n",
       "11           0  \n",
       "12           2  \n",
       "13           1  \n",
       "14           1  \n",
       "15           1  \n",
       "16           2  \n",
       "17           2  \n",
       "18           2  \n",
       "19           2  \n",
       "20           0  \n",
       "21           1  \n",
       "22           2  \n",
       "23           1  \n",
       "24           0  "
      ]
     },
     "execution_count": 22,
     "metadata": {},
     "output_type": "execute_result"
    }
   ],
   "source": [
    "category_id = []\n",
    "for l in data.Label:\n",
    "    \n",
    "    if l == '0':\n",
    "        category_id.append('0')\n",
    "    elif l == '1':\n",
    "        category_id.append('1')\n",
    "    elif l == '2':\n",
    "        category_id.append('2')\n",
    "        \n",
    "data['Category_id'] = category_id\n",
    "\n",
    "data = data[['Text_Final', 'tokens', 'Label', '0', '1', '2', 'Category_id' ]]\n",
    "data.head(25)"
   ]
  },
  {
   "cell_type": "code",
   "execution_count": 23,
   "metadata": {},
   "outputs": [],
   "source": [
    "# Removing empty rows after tokenization"
   ]
  },
  {
   "cell_type": "code",
   "execution_count": 24,
   "metadata": {},
   "outputs": [],
   "source": [
    "data = data[data.tokens != '']"
   ]
  },
  {
   "cell_type": "code",
   "execution_count": 25,
   "metadata": {},
   "outputs": [],
   "source": [
    "from io import StringIO\n",
    "category_id_df = data[['Label', 'Category_id']].drop_duplicates().sort_values('Category_id')\n",
    "category_to_label_dict = dict(category_id_df.values)\n",
    "label_to_category_dict = dict(category_id_df[['Category_id', 'Label']].values)"
   ]
  },
  {
   "cell_type": "markdown",
   "metadata": {},
   "source": [
    "#### Split Data into test and train\n",
    "We will use 90 % data for training and 10 % for testing. We use random state so every time we get the same training and testing data."
   ]
  },
  {
   "cell_type": "markdown",
   "metadata": {},
   "source": [
    "# RFM - TFIDF"
   ]
  },
  {
   "cell_type": "code",
   "execution_count": 26,
   "metadata": {},
   "outputs": [
    {
     "data": {
      "text/plain": [
       "(10123, 33061)"
      ]
     },
     "execution_count": 26,
     "metadata": {},
     "output_type": "execute_result"
    }
   ],
   "source": [
    "vectorizer = TfidfVectorizer(sublinear_tf=True, min_df=2, norm='l2', encoding='latin-1', ngram_range=(1, 5), stop_words='english')\n",
    "features = vectorizer.fit_transform(data.Text_Final).toarray()\n",
    "labels = data.Label\n",
    "features.shape"
   ]
  },
  {
   "cell_type": "code",
   "execution_count": 27,
   "metadata": {},
   "outputs": [
    {
     "data": {
      "text/plain": [
       "2    3375\n",
       "0    3374\n",
       "1    3374\n",
       "Name: Label, dtype: int64"
      ]
     },
     "execution_count": 27,
     "metadata": {},
     "output_type": "execute_result"
    }
   ],
   "source": [
    "data.Label.value_counts()"
   ]
  },
  {
   "cell_type": "code",
   "execution_count": 28,
   "metadata": {},
   "outputs": [],
   "source": [
    "# Spliting data\n",
    "X_train, X_test, y_train, y_test, idx_train, idx_test = train_test_split(features, labels, data.index, test_size=0.10,shuffle = True, random_state=42)"
   ]
  },
  {
   "cell_type": "code",
   "execution_count": 29,
   "metadata": {},
   "outputs": [],
   "source": [
    "# Generate model\n",
    "model1 = RandomForestClassifier(n_estimators=200, max_depth=20, random_state=32)\n",
    "clf = model1.fit(X_train, y_train)\n",
    "y_pred = model1.predict(X_test)"
   ]
  },
  {
   "cell_type": "markdown",
   "metadata": {},
   "source": [
    "### RFM - Showing some prediction"
   ]
  },
  {
   "cell_type": "code",
   "execution_count": 30,
   "metadata": {},
   "outputs": [],
   "source": [
    "# Prediction\n",
    "translator = Translator()"
   ]
  },
  {
   "cell_type": "code",
   "execution_count": 32,
   "metadata": {},
   "outputs": [
    {
     "name": "stdout",
     "output_type": "stream",
     "text": [
      "['0']\n"
     ]
    }
   ],
   "source": [
    "# 0\n",
    "hin_text =  [\" समाज वादी  पार्टी  जिंदाबाद \"]\n",
    "print(clf.predict(vectorizer.transform(hin_text)))"
   ]
  },
  {
   "cell_type": "code",
   "execution_count": 33,
   "metadata": {},
   "outputs": [
    {
     "name": "stdout",
     "output_type": "stream",
     "text": [
      "['0']\n"
     ]
    }
   ],
   "source": [
    "# 2\n",
    "hin_text =  [\"'गाजा में दीवाली   की ढेरो बधाई मित्रो 😊💐  #IsraeliBombing 😂😂\"]\n",
    "print(clf.predict(vectorizer.transform(hin_text)))"
   ]
  },
  {
   "cell_type": "code",
   "execution_count": 34,
   "metadata": {},
   "outputs": [
    {
     "name": "stdout",
     "output_type": "stream",
     "text": [
      "['0']\n"
     ]
    }
   ],
   "source": [
    "# 1\n",
    "hin_text =  [\"इसलाम सुंदर है\"]\n",
    "print(clf.predict(vectorizer.transform(hin_text)))"
   ]
  },
  {
   "cell_type": "code",
   "execution_count": 35,
   "metadata": {},
   "outputs": [
    {
     "name": "stdout",
     "output_type": "stream",
     "text": [
      "['0']\n"
     ]
    }
   ],
   "source": [
    "# 2\n",
    "texts = [\"@_ROB_29 If this was a Muslim girl in Afghanistan you'd call her a terrorist\"]\n",
    "print(clf.predict(vectorizer.transform(texts)))"
   ]
  },
  {
   "cell_type": "code",
   "execution_count": 36,
   "metadata": {},
   "outputs": [
    {
     "name": "stdout",
     "output_type": "stream",
     "text": [
      "['0']\n"
     ]
    }
   ],
   "source": [
    "# 0\n",
    "texts = [\"Sachin: Once there was a fight between Yusuf and Bhajji. Sehwag: Paji, was he Muhammad Yusuf or Yusuf Youhana at that time. This man will not let him live even after retirement.\"]\n",
    "print(clf.predict(vectorizer.transform(texts)))"
   ]
  },
  {
   "cell_type": "markdown",
   "metadata": {},
   "source": [
    "### RFM - Displaying false-positive rate (FPR) and true positive rate (TPR)"
   ]
  },
  {
   "cell_type": "code",
   "execution_count": 37,
   "metadata": {},
   "outputs": [
    {
     "name": "stdout",
     "output_type": "stream",
     "text": [
      "Random Forest Method\n"
     ]
    },
    {
     "data": {
      "image/png": "[encoded data removed]",
      "text/plain": [
       "<Figure size 360x360 with 2 Axes>"
      ]
     },
     "metadata": {
      "needs_background": "light"
     },
     "output_type": "display_data"
    }
   ],
   "source": [
    "# confusion matrix\n",
    "print(\"Random Forest Method\")\n",
    "conf_mat = confusion_matrix(y_test, y_pred)\n",
    "fig, ax = plt.subplots(figsize=(5,5))\n",
    "sns.heatmap(conf_mat, annot=True, fmt='d',cmap ='YlGnBu',\n",
    "            xticklabels=category_id_df.Label.values, yticklabels=category_id_df.Label.values)\n",
    "plt.ylabel('Actual')\n",
    "plt.xlabel('Predicted')\n",
    "plt.show()"
   ]
  },
  {
   "cell_type": "markdown",
   "metadata": {},
   "source": [
    "### RFM - Precision, Recall and F1-Score to quantify the quality of our model using a confusion matrix."
   ]
  },
  {
   "cell_type": "code",
   "execution_count": 38,
   "metadata": {},
   "outputs": [
    {
     "name": "stdout",
     "output_type": "stream",
     "text": [
      "Confusion Matrix :\n",
      "[[278   7  50]\n",
      " [ 38 281  19]\n",
      " [ 76   4 260]]\n",
      "Accuracy Score : 0.8084896347482725\n",
      "Report : \n",
      "              precision    recall  f1-score   support\n",
      "\n",
      "           0       0.71      0.83      0.76       335\n",
      "           1       0.96      0.83      0.89       338\n",
      "           2       0.79      0.76      0.78       340\n",
      "\n",
      "    accuracy                           0.81      1013\n",
      "   macro avg       0.82      0.81      0.81      1013\n",
      "weighted avg       0.82      0.81      0.81      1013\n",
      "\n"
     ]
    }
   ],
   "source": [
    "results1 = confusion_matrix(y_test, y_pred)\n",
    "print ('Confusion Matrix :')\n",
    "print(results1) \n",
    "print ('Accuracy Score :',accuracy_score(y_test, y_pred))\n",
    "print ('Report : ')\n",
    "print (classification_report(y_test, y_pred))"
   ]
  },
  {
   "cell_type": "markdown",
   "metadata": {},
   "source": [
    "### RFM K-fold"
   ]
  },
  {
   "cell_type": "code",
   "execution_count": 39,
   "metadata": {},
   "outputs": [
    {
     "name": "stdout",
     "output_type": "stream",
     "text": [
      "Random Forest with BOW: \n",
      "1 0.8144126357354393\n",
      "2 0.8144126357354393\n",
      "3 0.8045409674234946\n",
      "4 0.7885375494071146\n",
      "5 0.8063241106719368\n",
      "6 0.8231225296442688\n",
      "7 0.791501976284585\n",
      "8 0.817193675889328\n",
      "9 0.8231225296442688\n",
      "10 0.8033596837944664\n",
      " Average Accuracy : 0.8086528294230341\n"
     ]
    }
   ],
   "source": [
    "import random\n",
    "# Creating model\n",
    "model1 = RandomForestClassifier(n_estimators=200, max_depth=20, random_state=32)\n",
    "\n",
    "# KFold cross-validation\n",
    "kFold = 10\n",
    "\n",
    "scores = []\n",
    "#To get accuracy of the model for 10 different splits\n",
    "scoreValue = cross_val_score(model1, features, labels, scoring='accuracy', cv= kFold)\n",
    "\n",
    "# append name and score of each model with different splits\n",
    "print(\"Random Forest with BOW: \")\n",
    "for fold_idx, accuracy in enumerate(scoreValue):\n",
    "    print ((fold_idx + 1), accuracy)\n",
    "    scores.append(accuracy)\n",
    "    \n",
    "Mean_score =  sum(scores) / len(scores)\n",
    "print(f\" Average Accuracy : {Mean_score}\" )\n",
    "\n"
   ]
  },
  {
   "cell_type": "markdown",
   "metadata": {},
   "source": [
    "# RFM - BOW"
   ]
  },
  {
   "cell_type": "code",
   "execution_count": 40,
   "metadata": {},
   "outputs": [
    {
     "data": {
      "text/plain": [
       "(10123, 9071)"
      ]
     },
     "execution_count": 40,
     "metadata": {},
     "output_type": "execute_result"
    }
   ],
   "source": [
    "from sklearn.feature_extraction.text import CountVectorizer\n",
    "count_vect = CountVectorizer()\n",
    "features3 = count_vect.fit_transform(data.Text_Final).toarray()\n",
    "labels = data.Label\n",
    "features3.shape"
   ]
  },
  {
   "cell_type": "code",
   "execution_count": 41,
   "metadata": {},
   "outputs": [],
   "source": [
    "# Using similar split as CNN model\n",
    "X_train, X_test, y_train, y_test, idx_train, idx_test = train_test_split(features3, labels, data.index, test_size=0.10, shuffle = True, random_state=42)"
   ]
  },
  {
   "cell_type": "code",
   "execution_count": 42,
   "metadata": {},
   "outputs": [],
   "source": [
    "# generate Linear SVM model\n",
    "model3 = RandomForestClassifier(n_estimators=200, max_depth=20, random_state=32)\n",
    "clf3 = model3.fit(X_train, y_train)\n",
    "y_pred3 = model3.predict(X_test)"
   ]
  },
  {
   "cell_type": "markdown",
   "metadata": {},
   "source": [
    "### RFM - BOW - Showing some prediction"
   ]
  },
  {
   "cell_type": "code",
   "execution_count": 43,
   "metadata": {},
   "outputs": [],
   "source": [
    "# Prediction\n",
    "translator = Translator()"
   ]
  },
  {
   "cell_type": "code",
   "execution_count": 45,
   "metadata": {},
   "outputs": [
    {
     "name": "stdout",
     "output_type": "stream",
     "text": [
      "['0']\n"
     ]
    }
   ],
   "source": [
    "# 0\n",
    "hin_text =  [\" समाज वादी  पार्टी  जिंदाबाद \"]\n",
    "print(clf3.predict(count_vect.transform(hin_text)))"
   ]
  },
  {
   "cell_type": "code",
   "execution_count": 46,
   "metadata": {},
   "outputs": [
    {
     "name": "stdout",
     "output_type": "stream",
     "text": [
      "['0']\n"
     ]
    }
   ],
   "source": [
    "# 2\n",
    "hin_text =  [\"'गाजा में दीवाली   की ढेरो बधाई मित्रो 😊💐  #IsraeliBombing 😂😂\"]\n",
    "print(clf3.predict(count_vect.transform(hin_text)))"
   ]
  },
  {
   "cell_type": "code",
   "execution_count": 47,
   "metadata": {},
   "outputs": [
    {
     "name": "stdout",
     "output_type": "stream",
     "text": [
      "['0']\n"
     ]
    }
   ],
   "source": [
    "# 1\n",
    "hin_text =  [\"इसलाम सुंदर है\"]\n",
    "print(clf3.predict(count_vect.transform(hin_text)))"
   ]
  },
  {
   "cell_type": "code",
   "execution_count": 48,
   "metadata": {},
   "outputs": [
    {
     "name": "stdout",
     "output_type": "stream",
     "text": [
      "['0']\n"
     ]
    }
   ],
   "source": [
    "# 2\n",
    "texts = [\"@_ROB_29 If this was a Muslim girl in Afghanistan you'd call her a terrorist\"]\n",
    "print(clf3.predict(count_vect.transform(texts)))"
   ]
  },
  {
   "cell_type": "code",
   "execution_count": 49,
   "metadata": {},
   "outputs": [
    {
     "name": "stdout",
     "output_type": "stream",
     "text": [
      "['0']\n"
     ]
    }
   ],
   "source": [
    "# 0\n",
    "texts = [\"Sachin: Once there was a fight between Yusuf and Bhajji. Sehwag: Paji, was he Muhammad Yusuf or Yusuf Youhana at that time. This man will not let him live even after retirement.\"]\n",
    "print(clf3.predict(count_vect.transform(texts)))"
   ]
  },
  {
   "cell_type": "markdown",
   "metadata": {},
   "source": [
    "###  RFM - BOW - Displaying false-positive rate (FPR) and true positive rate (TPR)"
   ]
  },
  {
   "cell_type": "code",
   "execution_count": 50,
   "metadata": {},
   "outputs": [
    {
     "name": "stdout",
     "output_type": "stream",
     "text": [
      "                     RFM - BOW\n"
     ]
    },
    {
     "data": {
      "image/png": "[encoded data removed]",
      "text/plain": [
       "<Figure size 360x360 with 2 Axes>"
      ]
     },
     "metadata": {
      "needs_background": "light"
     },
     "output_type": "display_data"
    }
   ],
   "source": [
    "from sklearn.metrics import confusion_matrix\n",
    "print(\"                     RFM - BOW\")\n",
    "conf_mat = confusion_matrix(y_test, y_pred3)\n",
    "fig, ax = plt.subplots(figsize=(5,5))\n",
    "sns.heatmap(conf_mat, annot=True, fmt='d', cmap=\"YlGnBu\",\n",
    "            xticklabels=category_id_df.Label.values, yticklabels=category_id_df.Label.values)\n",
    "plt.ylabel('Actual')\n",
    "plt.xlabel('Predicted')\n",
    "plt.show()"
   ]
  },
  {
   "cell_type": "markdown",
   "metadata": {},
   "source": [
    "### RFM - BOW - Precision, Recall and F1-Score to quantify the quality of our model using a confusion matrix."
   ]
  },
  {
   "cell_type": "code",
   "execution_count": 51,
   "metadata": {},
   "outputs": [
    {
     "name": "stdout",
     "output_type": "stream",
     "text": [
      "Confusion Matrix :\n",
      "[[282  12  41]\n",
      " [ 16 301  21]\n",
      " [ 78   8 254]]\n",
      "Accuracy Score : 0.8262586377097729\n",
      "Report : \n",
      "              precision    recall  f1-score   support\n",
      "\n",
      "           0       0.75      0.84      0.79       335\n",
      "           1       0.94      0.89      0.91       338\n",
      "           2       0.80      0.75      0.77       340\n",
      "\n",
      "    accuracy                           0.83      1013\n",
      "   macro avg       0.83      0.83      0.83      1013\n",
      "weighted avg       0.83      0.83      0.83      1013\n",
      "\n"
     ]
    }
   ],
   "source": [
    "results3 = confusion_matrix(y_test, y_pred3)\n",
    "print ('Confusion Matrix :')\n",
    "print(results3) \n",
    "print ('Accuracy Score :',accuracy_score(y_test, y_pred3))\n",
    "print ('Report : ')\n",
    "print (classification_report(y_test, y_pred3))"
   ]
  },
  {
   "cell_type": "markdown",
   "metadata": {},
   "source": [
    "### RFM with BOW Kfold"
   ]
  },
  {
   "cell_type": "code",
   "execution_count": 52,
   "metadata": {},
   "outputs": [
    {
     "name": "stdout",
     "output_type": "stream",
     "text": [
      "Random Forest with BOW: \n",
      "1 0.8381046396841066\n",
      "2 0.8094768015794669\n",
      "3 0.8084896347482725\n",
      "4 0.8320158102766798\n",
      "5 0.8211462450592886\n",
      "6 0.8438735177865613\n",
      "7 0.7934782608695652\n",
      "8 0.8221343873517787\n",
      "9 0.817193675889328\n",
      "10 0.8122529644268774\n",
      " Average Accuracy : 0.8198165937671925\n"
     ]
    }
   ],
   "source": [
    "# model\n",
    "model3 = RandomForestClassifier(n_estimators=200, max_depth=20, random_state=32)\n",
    "\n",
    "# KFold cross-validation\n",
    "kFold = 10\n",
    "\n",
    "scores = []\n",
    "#To get accuracy of the model for 10 different splits\n",
    "scoreValue = cross_val_score(model3, features3, labels, scoring='accuracy', cv= kFold)\n",
    "\n",
    "# append name and score of each model with different splits\n",
    "print(\"Random Forest with BOW: \")\n",
    "for fold_idx, accuracy in enumerate(scoreValue):\n",
    "    print ((fold_idx + 1), accuracy)\n",
    "    scores.append(accuracy)\n",
    "    \n",
    "Mean_score =  sum(scores) / len(scores)\n",
    "print(f\" Average Accuracy : {Mean_score}\" )"
   ]
  },
  {
   "cell_type": "code",
   "execution_count": null,
   "metadata": {},
   "outputs": [],
   "source": []
  },
  {
   "cell_type": "code",
   "execution_count": null,
   "metadata": {},
   "outputs": [],
   "source": []
  }
 ],
 "metadata": {
  "kernelspec": {
   "display_name": "Python 3",
   "language": "python",
   "name": "python3"
  },
  "language_info": {
   "codemirror_mode": {
    "name": "ipython",
    "version": 3
   },
   "file_extension": ".py",
   "mimetype": "text/x-python",
   "name": "python",
   "nbconvert_exporter": "python",
   "pygments_lexer": "ipython3",
   "version": "3.8.5"
  }
 },
 "nbformat": 4,
 "nbformat_minor": 4
}
