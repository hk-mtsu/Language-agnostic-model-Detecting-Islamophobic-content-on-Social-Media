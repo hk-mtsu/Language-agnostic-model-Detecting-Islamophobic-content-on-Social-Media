{
 "cells": [
  {
   "cell_type": "markdown",
   "metadata": {},
   "source": [
    "\n",
    "# Convolutional Neural Network CNN\n",
    "1. Using Word2Vec implementing CNN model\n",
    "2. Dispaly Confusion Matrix, precision, recall and F1-score\n",
    "3. Display few prediction using predict module. \n",
    "4. Get 10-fold Average of the CNN model."
   ]
  },
  {
   "cell_type": "code",
   "execution_count": 1,
   "metadata": {},
   "outputs": [],
   "source": [
    "from __future__ import division, print_function\n",
    "\n",
    "# dataframe\n",
    "import pandas as pd\n",
    "\n",
    "# numpy array\n",
    "import numpy as np\n",
    "\n",
    "# figures visualization\n",
    "import matplotlib.pyplot as plt\n",
    "from sklearn.metrics import confusion_matrix \n",
    "import seaborn as sns\n",
    "\n",
    "# calc accuracy\n",
    "from sklearn.metrics import accuracy_score \n",
    "from sklearn.metrics import classification_report \n",
    "\n",
    "# word2vec\n",
    "import gensim \n",
    "from gensim import models\n",
    "from gensim.models import Word2Vec \n",
    "from gensim.models import KeyedVectors\n",
    "\n",
    "# CNN model and keras preprocessing\n",
    "import keras\n",
    "from keras.callbacks import ModelCheckpoint\n",
    "from keras.layers import Dense, Dropout, Reshape, Flatten, concatenate, Input, Conv1D, GlobalMaxPooling1D, Embedding, Conv2D, GlobalMaxPooling2D\n",
    "from keras.models import Sequential\n",
    "from keras.models import Model\n",
    "from keras.preprocessing.text import Tokenizer\n",
    "from keras.preprocessing.sequence import pad_sequences\n",
    "\n",
    "# nltk data preprocessing\n",
    "import nltk\n",
    "from nltk import word_tokenize\n",
    "from nltk.tokenize import sent_tokenize \n",
    "from nltk.stem import WordNetLemmatizer\n",
    "\n",
    "# stopword - remove buzz word\n",
    "from nltk.corpus import stopwords\n",
    "\n",
    "# splitting data\n",
    "from sklearn.model_selection import train_test_split\n",
    "\n",
    "# punctuation - data imbalance\n",
    "import collections\n",
    "import re\n",
    "import string\n",
    "\n",
    "# File path\n",
    "import os\n",
    "import os.path\n",
    "from os import path\n",
    "\n",
    "# Translator\n",
    "import googletrans\n",
    "from googletrans import Translator"
   ]
  },
  {
   "cell_type": "code",
   "execution_count": 2,
   "metadata": {},
   "outputs": [],
   "source": [
    "# original english file\n",
    "filename  = 'Eng-Hin-data/hindi-anot-shuffled'\n",
    "orig_df = pd.read_csv(filename + '.csv',  \n",
    "               delimiter=',')\n",
    "orig_df.columns = ['Text', 'Label']"
   ]
  },
  {
   "cell_type": "code",
   "execution_count": 3,
   "metadata": {},
   "outputs": [],
   "source": [
    "# Run only for English data \n",
    "orig_df[\"Text\"] = orig_df[\"Text\"].astype(str)\n",
    "orig_df[\"Label\"] = orig_df[\"Label\"].astype(str)\n",
    "data = orig_df"
   ]
  },
  {
   "cell_type": "code",
   "execution_count": 4,
   "metadata": {},
   "outputs": [
    {
     "data": {
      "text/html": [
       "<div>\n",
       "<style scoped>\n",
       "    .dataframe tbody tr th:only-of-type {\n",
       "        vertical-align: middle;\n",
       "    }\n",
       "\n",
       "    .dataframe tbody tr th {\n",
       "        vertical-align: top;\n",
       "    }\n",
       "\n",
       "    .dataframe thead th {\n",
       "        text-align: right;\n",
       "    }\n",
       "</style>\n",
       "<table border=\"1\" class=\"dataframe\">\n",
       "  <thead>\n",
       "    <tr style=\"text-align: right;\">\n",
       "      <th></th>\n",
       "      <th>Text</th>\n",
       "      <th>Label</th>\n",
       "    </tr>\n",
       "  </thead>\n",
       "  <tbody>\n",
       "    <tr>\n",
       "      <th>0</th>\n",
       "      <td>'गाजा में दीवाली   की ढेरो बधाई मित्रो 😊💐  #Is...</td>\n",
       "      <td>2</td>\n",
       "    </tr>\n",
       "    <tr>\n",
       "      <th>1</th>\n",
       "      <td>'@SanjayGadhiaINC @IndiaToday18 अज़ाबे इलाही 👍</td>\n",
       "      <td>1</td>\n",
       "    </tr>\n",
       "    <tr>\n",
       "      <th>2</th>\n",
       "      <td>'आखिर अब #सुशांत_सिंह_राजपूत जी को न्याय मिल ज...</td>\n",
       "      <td>0</td>\n",
       "    </tr>\n",
       "    <tr>\n",
       "      <th>3</th>\n",
       "      <td>'अमीन के 500 से अधिक छात्रों ने सर्वे भवन के ग...</td>\n",
       "      <td>0</td>\n",
       "    </tr>\n",
       "    <tr>\n",
       "      <th>4</th>\n",
       "      <td>'@deoriapolice @Uppolice @myogiadityanath @spg...</td>\n",
       "      <td>0</td>\n",
       "    </tr>\n",
       "    <tr>\n",
       "      <th>5</th>\n",
       "      <td>'@khanumarfa जेहादी सोच जब #राहत_इंदौरी को भी ...</td>\n",
       "      <td>2</td>\n",
       "    </tr>\n",
       "    <tr>\n",
       "      <th>6</th>\n",
       "      <td>'आज के दिन ही मेरा क्रिकेट प्रेम भी समाप्त हो गया</td>\n",
       "      <td>0</td>\n",
       "    </tr>\n",
       "  </tbody>\n",
       "</table>\n",
       "</div>"
      ],
      "text/plain": [
       "                                                Text Label\n",
       "0  'गाजा में दीवाली   की ढेरो बधाई मित्रो 😊💐  #Is...     2\n",
       "1     '@SanjayGadhiaINC @IndiaToday18 अज़ाबे इलाही 👍     1\n",
       "2  'आखिर अब #सुशांत_सिंह_राजपूत जी को न्याय मिल ज...     0\n",
       "3  'अमीन के 500 से अधिक छात्रों ने सर्वे भवन के ग...     0\n",
       "4  '@deoriapolice @Uppolice @myogiadityanath @spg...     0\n",
       "5  '@khanumarfa जेहादी सोच जब #राहत_इंदौरी को भी ...     2\n",
       "6  'आज के दिन ही मेरा क्रिकेट प्रेम भी समाप्त हो गया     0"
      ]
     },
     "execution_count": 4,
     "metadata": {},
     "output_type": "execute_result"
    }
   ],
   "source": [
    "orig_df.head(7)"
   ]
  },
  {
   "cell_type": "code",
   "execution_count": 5,
   "metadata": {},
   "outputs": [
    {
     "data": {
      "text/plain": [
       "\"'आज के दिन ही मेरा क्रिकेट प्रेम भी समाप्त हो गया\""
      ]
     },
     "execution_count": 5,
     "metadata": {},
     "output_type": "execute_result"
    }
   ],
   "source": [
    "orig_df.Text[6]"
   ]
  },
  {
   "cell_type": "code",
   "execution_count": 6,
   "metadata": {},
   "outputs": [
    {
     "name": "stdout",
     "output_type": "stream",
     "text": [
      "Translated file Exist\n"
     ]
    }
   ],
   "source": [
    "# Run only for non english data \n",
    "\n",
    "if not path.exists(filename + '-translated.csv'):\n",
    "    print(\"Translating data...\")\n",
    "    p_data = pd.read_csv(\"Eng-Hin-data/hindi-anot-shuffled.csv\")\n",
    "    #data =  data.drop('Strength',1)\n",
    "    translator = Translator()\n",
    "    col_one_list = p_data['Text'].tolist()\n",
    "    len(col_one_list)\n",
    "    result = []\n",
    "    for i  in range(len(col_one_list)):\n",
    "        try:\n",
    "            trans = translator.translate(col_one_list[i], dest='en')\n",
    "            result.append(trans.text)\n",
    "        except:\n",
    "                result.append(col_one_list[i])\n",
    "    p_data['Text'] = result\n",
    "    p_data.to_csv(filename + '-translated.csv', index=False)\n",
    "    df = pd.read_csv(filename + '-translated.csv',  \n",
    "                   delimiter=',')\n",
    "    df.columns = ['Text', 'Label']\n",
    "    df.head(15)\n",
    "    df[\"Text\"] = df[\"Text\"].astype(str)\n",
    "    df[\"Label\"] = df[\"Label\"].astype(str)\n",
    "    data = df\n",
    "else:\n",
    "    print(\"Translated file Exist\")\n",
    "    df = pd.read_csv(filename + '-translated.csv',  \n",
    "                   delimiter=',')\n",
    "    df.columns = ['Text', 'Label']\n",
    "    df.head(15)\n",
    "    df[\"Text\"] = df[\"Text\"].astype(str)\n",
    "    df[\"Label\"] = df[\"Label\"].astype(str)\n",
    "    data = df"
   ]
  },
  {
   "cell_type": "code",
   "execution_count": 7,
   "metadata": {},
   "outputs": [
    {
     "data": {
      "text/plain": [
       "\"'Today also my cricket love has ended\""
      ]
     },
     "execution_count": 7,
     "metadata": {},
     "output_type": "execute_result"
    }
   ],
   "source": [
    "df.Text[6]"
   ]
  },
  {
   "cell_type": "markdown",
   "metadata": {},
   "source": [
    "### Class count"
   ]
  },
  {
   "cell_type": "code",
   "execution_count": 8,
   "metadata": {},
   "outputs": [
    {
     "data": {
      "image/png": "[encoded data removed]",
      "text/plain": [
       "<Figure size 432x288 with 1 Axes>"
      ]
     },
     "metadata": {
      "needs_background": "light"
     },
     "output_type": "display_data"
    }
   ],
   "source": [
    "import matplotlib.pyplot as plt\n",
    "fig = plt.figure(figsize=(6,4))\n",
    "df.groupby('Label').Text.count().plot.bar(ylim=0)\n",
    "plt.show()"
   ]
  },
  {
   "cell_type": "code",
   "execution_count": 9,
   "metadata": {},
   "outputs": [
    {
     "data": {
      "text/plain": [
       "2    3373\n",
       "0    3245\n",
       "1    2172\n",
       "Name: Label, dtype: int64"
      ]
     },
     "execution_count": 9,
     "metadata": {},
     "output_type": "execute_result"
    }
   ],
   "source": [
    "# For entire dataset sentences for each labels \n",
    "df.Label.value_counts()"
   ]
  },
  {
   "cell_type": "markdown",
   "metadata": {},
   "source": [
    "### Balancing Data"
   ]
  },
  {
   "cell_type": "code",
   "execution_count": 10,
   "metadata": {},
   "outputs": [],
   "source": [
    "#balancing data \n",
    "from collections import Counter\n",
    "import numpy as np\n",
    "def balanceClasses(xs, ys):\n",
    "    item = {}\n",
    "    new_ys = []\n",
    "    new_xs = []\n",
    "    #\"\"\"Undersample xs, ys to balance classes.\"\"\"\n",
    "    freqs = Counter(ys)\n",
    "    # the most common class  is the maximum number we want for all classes\n",
    "    max_allowable = (freqs.most_common()[0][1])\n",
    "    \n",
    "    for val in freqs.most_common(): # List\n",
    "        nums = np.random.randint(1000)\n",
    "        i = 1\n",
    "        item[val[0]] = max_allowable - val[1]\n",
    "        \n",
    "        if item[val[0]] > 0:            \n",
    "            while(item[val[0]] - i != 0): \n",
    "                nums = nums + 1\n",
    "                if ys[nums] == val[0]:\n",
    "                    i += 1\n",
    "                    new_ys.append(ys[nums])\n",
    "                    new_xs.append(xs[nums])\n",
    "    return new_xs, new_ys"
   ]
  },
  {
   "cell_type": "code",
   "execution_count": 11,
   "metadata": {},
   "outputs": [],
   "source": [
    "new_text, new_label = balanceClasses(df['Text'], df['Label'])"
   ]
  },
  {
   "cell_type": "code",
   "execution_count": 12,
   "metadata": {},
   "outputs": [],
   "source": [
    "data = pd.DataFrame(new_text)\n",
    "data.columns = ['Text']\n",
    "data['Label'] = new_label\n",
    "data = pd.concat([df, data])"
   ]
  },
  {
   "cell_type": "code",
   "execution_count": 13,
   "metadata": {},
   "outputs": [
    {
     "data": {
      "image/png": "[encoded data removed]",
      "text/plain": [
       "<Figure size 432x288 with 1 Axes>"
      ]
     },
     "metadata": {
      "needs_background": "light"
     },
     "output_type": "display_data"
    }
   ],
   "source": [
    "fig1 = plt.figure(figsize=(6,4))\n",
    "data.groupby('Label').Text.count().plot.bar(ylim=0)\n",
    "plt.show()"
   ]
  },
  {
   "cell_type": "code",
   "execution_count": 14,
   "metadata": {},
   "outputs": [
    {
     "data": {
      "text/plain": [
       "2    3373\n",
       "0    3372\n",
       "1    3372\n",
       "Name: Label, dtype: int64"
      ]
     },
     "execution_count": 14,
     "metadata": {},
     "output_type": "execute_result"
    }
   ],
   "source": [
    "data.Label.value_counts()"
   ]
  },
  {
   "cell_type": "code",
   "execution_count": 15,
   "metadata": {},
   "outputs": [
    {
     "data": {
      "text/html": [
       "<div>\n",
       "<style scoped>\n",
       "    .dataframe tbody tr th:only-of-type {\n",
       "        vertical-align: middle;\n",
       "    }\n",
       "\n",
       "    .dataframe tbody tr th {\n",
       "        vertical-align: top;\n",
       "    }\n",
       "\n",
       "    .dataframe thead th {\n",
       "        text-align: right;\n",
       "    }\n",
       "</style>\n",
       "<table border=\"1\" class=\"dataframe\">\n",
       "  <thead>\n",
       "    <tr style=\"text-align: right;\">\n",
       "      <th></th>\n",
       "      <th>Text</th>\n",
       "      <th>Label</th>\n",
       "    </tr>\n",
       "  </thead>\n",
       "  <tbody>\n",
       "    <tr>\n",
       "      <th>0</th>\n",
       "      <td>'@ Singhanupam2015 only because of such people...</td>\n",
       "      <td>2</td>\n",
       "    </tr>\n",
       "    <tr>\n",
       "      <th>1</th>\n",
       "      <td>'Hazrat Imam Hussain Alaihissalam says: When y...</td>\n",
       "      <td>1</td>\n",
       "    </tr>\n",
       "    <tr>\n",
       "      <th>2</th>\n",
       "      <td>'ince princek73686201 Bismillah Yeh Kaun</td>\n",
       "      <td>1</td>\n",
       "    </tr>\n",
       "    <tr>\n",
       "      <th>3</th>\n",
       "      <td>'#Jhansi_Ki_Rani_Kangna Wish as much sadness f...</td>\n",
       "      <td>0</td>\n",
       "    </tr>\n",
       "    <tr>\n",
       "      <th>4</th>\n",
       "      <td>Asaduddin Owaisi considered PM Modi to attend ...</td>\n",
       "      <td>2</td>\n",
       "    </tr>\n",
       "    <tr>\n",
       "      <th>...</th>\n",
       "      <td>...</td>\n",
       "      <td>...</td>\n",
       "    </tr>\n",
       "    <tr>\n",
       "      <th>10112</th>\n",
       "      <td>'@ azharfateh2 @ pbhushan1 Oils removed mustar...</td>\n",
       "      <td>2</td>\n",
       "    </tr>\n",
       "    <tr>\n",
       "      <th>10113</th>\n",
       "      <td>'Kannauj former MP Dimple Yadav Zindabad @dimp...</td>\n",
       "      <td>0</td>\n",
       "    </tr>\n",
       "    <tr>\n",
       "      <th>10114</th>\n",
       "      <td>Now go and recite the Namaz for 5 times, Allah...</td>\n",
       "      <td>1</td>\n",
       "    </tr>\n",
       "    <tr>\n",
       "      <th>10115</th>\n",
       "      <td>Now the Rajya Sabha was dead. Kirori Lal Meena...</td>\n",
       "      <td>0</td>\n",
       "    </tr>\n",
       "    <tr>\n",
       "      <th>10116</th>\n",
       "      <td>'New faces new energy new flight</td>\n",
       "      <td>0</td>\n",
       "    </tr>\n",
       "  </tbody>\n",
       "</table>\n",
       "<p>10117 rows × 2 columns</p>\n",
       "</div>"
      ],
      "text/plain": [
       "                                                    Text Label\n",
       "0      '@ Singhanupam2015 only because of such people...     2\n",
       "1      'Hazrat Imam Hussain Alaihissalam says: When y...     1\n",
       "2               'ince princek73686201 Bismillah Yeh Kaun     1\n",
       "3      '#Jhansi_Ki_Rani_Kangna Wish as much sadness f...     0\n",
       "4      Asaduddin Owaisi considered PM Modi to attend ...     2\n",
       "...                                                  ...   ...\n",
       "10112  '@ azharfateh2 @ pbhushan1 Oils removed mustar...     2\n",
       "10113  'Kannauj former MP Dimple Yadav Zindabad @dimp...     0\n",
       "10114  Now go and recite the Namaz for 5 times, Allah...     1\n",
       "10115  Now the Rajya Sabha was dead. Kirori Lal Meena...     0\n",
       "10116                   'New faces new energy new flight     0\n",
       "\n",
       "[10117 rows x 2 columns]"
      ]
     },
     "execution_count": 15,
     "metadata": {},
     "output_type": "execute_result"
    }
   ],
   "source": [
    "data=data.sample(frac=1).reset_index(drop=True)\n",
    "data"
   ]
  },
  {
   "cell_type": "markdown",
   "metadata": {},
   "source": [
    "### Data Preprocessing"
   ]
  },
  {
   "cell_type": "code",
   "execution_count": 16,
   "metadata": {},
   "outputs": [],
   "source": [
    "# People usually join sentences using more than one colon \n",
    "\n",
    "def ReplaceDoubleColon(inputString):\n",
    "    return inputString.replace(\"..\", \" \") \n",
    "\n",
    "data['Text'] = data['Text'].apply(lambda x: ReplaceDoubleColon(x))\n",
    "\n",
    "def ReplaceTripleColon(inputString):\n",
    "    return inputString.replace(\"...\", \" \") \n",
    "\n",
    "data['Text'] = data['Text'].apply(lambda x: ReplaceTripleColon(x))\n",
    "\n",
    "def ReplaceFourColon(inputString):\n",
    "    return inputString.replace(\"....\", \" \") \n",
    "\n",
    "data['Text'] = data['Text'].apply(lambda x: ReplaceFourColon(x))"
   ]
  },
  {
   "cell_type": "code",
   "execution_count": 17,
   "metadata": {},
   "outputs": [],
   "source": [
    "def textPattern(text):\n",
    "\n",
    "    # Clean the text\n",
    "    text = re.sub(r\"@\", \" \", text)\n",
    "    text = re.sub(r\"'\", \" \", text)\n",
    "    text = re.sub(r\"what's\", \"what is\", text)\n",
    "    text = re.sub(r\"\\'s\", \" \", text)\n",
    "    text = re.sub(r\"\\'ve\", \"have\", text)\n",
    "    text = re.sub(r\"can't\", \"can not\", text)\n",
    "    text = re.sub(r\"aren't\", \"are not\", text)\n",
    "    text = re.sub(r\"couldn't\", \"could not\", text)\n",
    "    text = re.sub(r\"didn't\", \"did not\", text)\n",
    "    text = re.sub(r\"doesn't\", \"does not\", text)\n",
    "    text = re.sub(r\"don't\", \"do not\", text)\n",
    "    text = re.sub(r\"hadn't\", \"had not\", text)\n",
    "    text = re.sub(r\"hasn't\", \"has not\", text)\n",
    "    text = re.sub(r\"haven't\", \"have not\", text)\n",
    "    text = re.sub(r\"isn't\", \"is not\", text)\n",
    "    text = re.sub(r\"shouldn't\", \"should not\", text)\n",
    "    text = re.sub(r\"wasn't\", \"was not\", text)\n",
    "    text = re.sub(r\"weren't\", \"were not\", text)\n",
    "    text = re.sub(r\"won't\", \"will not\", text)\n",
    "    text = re.sub(r\"wouldn't\", \"would not\", text)\n",
    "    text = re.sub(r\"mustn't\", \"must not\", text)\n",
    "    text = re.sub(r\"i'm\", \"i am\", text)\n",
    "    text = re.sub(r\"\\'re\", \"are\", text)\n",
    "    text = re.sub(r\",\", \" \", text)\n",
    "    text = re.sub(r\"\\.\", \" \", text)\n",
    "    text = re.sub(r\"!\", \" \", text)\n",
    "    text = re.sub(r\"\\/\", \" \", text)\n",
    "    text = re.sub(r\"\\^\", \" ^ \", text)\n",
    "    text = re.sub(r\"\\+\", \" \", text)\n",
    "    text = re.sub(r\"\\-\", \" - \", text)\n",
    "    text = re.sub(r\"\\= =\", \" \", text)\n",
    "    text = re.sub(r\"\\==\", \" \", text)\n",
    "    text = re.sub(r\"'\", \" \", text)\n",
    "    text = re.sub(r\"(\\d+)(k)\", r\"\\g<1>000\", text)\n",
    "    text = re.sub(r\":\", \" : \", text)\n",
    "    text = re.sub(r\"\\0s\", \"0\", text)\n",
    "    text = re.sub(r\" 9 11 \", \"911\", text)\n",
    "    text = re.sub(r\"\\s{2,}\", \" \", text)\n",
    "    return text\n",
    "\n",
    "data['Text'] = data['Text'].apply(lambda x: textPattern(x))"
   ]
  },
  {
   "cell_type": "code",
   "execution_count": 18,
   "metadata": {},
   "outputs": [
    {
     "data": {
      "text/plain": [
       "(10117, 2)"
      ]
     },
     "execution_count": 18,
     "metadata": {},
     "output_type": "execute_result"
    }
   ],
   "source": [
    "data.shape"
   ]
  },
  {
   "cell_type": "code",
   "execution_count": 19,
   "metadata": {},
   "outputs": [],
   "source": [
    "# Word Tokenization\n",
    "tokens = [word_tokenize(sen) for sen in data.Text]"
   ]
  },
  {
   "cell_type": "code",
   "execution_count": 20,
   "metadata": {},
   "outputs": [],
   "source": [
    "# Lower Case\n",
    "def lower_token(tokens): \n",
    "    return [w.lower() for w in tokens]    \n",
    "    \n",
    "lower_tokens = [lower_token(token) for token in tokens]"
   ]
  },
  {
   "cell_type": "code",
   "execution_count": 21,
   "metadata": {},
   "outputs": [],
   "source": [
    "# Remove Link\n",
    "\n",
    "def removeLink(token):\n",
    "    word = []\n",
    "    for w in token:\n",
    "        if not w.startswith('http'):\n",
    "            word.append(w)\n",
    "    return word \n",
    "    \n",
    "removedLink_tokens = [removeLink(token) for token in lower_tokens]"
   ]
  },
  {
   "cell_type": "code",
   "execution_count": 22,
   "metadata": {},
   "outputs": [],
   "source": [
    "# Word Lemmatization\n",
    "def lemmatization(token):\n",
    "    return [lemmatizer.lemmatize(w) for w in token] \n",
    "\n",
    "lemmatizer = WordNetLemmatizer()\n",
    "\n",
    "lemmatized_tokens = [lemmatization(token) for token in removedLink_tokens]"
   ]
  },
  {
   "cell_type": "code",
   "execution_count": 23,
   "metadata": {},
   "outputs": [],
   "source": [
    "filtered_words = [sen for sen in lemmatized_tokens]\n",
    "data['Text_Final'] = [' '.join(sen) for sen in filtered_words]\n",
    "data['tokens'] = filtered_words"
   ]
  },
  {
   "cell_type": "code",
   "execution_count": 24,
   "metadata": {},
   "outputs": [],
   "source": [
    "zero  = []\n",
    "one = []\n",
    "two = []\n",
    "for l in data.Label:\n",
    "    \n",
    "    if l == '0':\n",
    "        zero.append(1)\n",
    "        one.append(0)\n",
    "        two.append(0)\n",
    "    elif l == '1':\n",
    "        zero.append(0)\n",
    "        one.append(1)\n",
    "        two.append(0)\n",
    "    elif l == '2':\n",
    "        zero.append(0)\n",
    "        one.append(0)\n",
    "        two.append(1)\n",
    "        \n",
    "data['0']= zero\n",
    "data['1']= one\n",
    "data['2']= two\n",
    "\n",
    "data = data[['Text_Final', 'tokens', 'Label', '0', '1', '2']]"
   ]
  },
  {
   "cell_type": "code",
   "execution_count": 25,
   "metadata": {},
   "outputs": [
    {
     "data": {
      "text/html": [
       "<div>\n",
       "<style scoped>\n",
       "    .dataframe tbody tr th:only-of-type {\n",
       "        vertical-align: middle;\n",
       "    }\n",
       "\n",
       "    .dataframe tbody tr th {\n",
       "        vertical-align: top;\n",
       "    }\n",
       "\n",
       "    .dataframe thead th {\n",
       "        text-align: right;\n",
       "    }\n",
       "</style>\n",
       "<table border=\"1\" class=\"dataframe\">\n",
       "  <thead>\n",
       "    <tr style=\"text-align: right;\">\n",
       "      <th></th>\n",
       "      <th>Text_Final</th>\n",
       "      <th>tokens</th>\n",
       "      <th>Label</th>\n",
       "      <th>0</th>\n",
       "      <th>1</th>\n",
       "      <th>2</th>\n",
       "      <th>Category_id</th>\n",
       "    </tr>\n",
       "  </thead>\n",
       "  <tbody>\n",
       "    <tr>\n",
       "      <th>0</th>\n",
       "      <td>singhanupam2015 only because of such people hi...</td>\n",
       "      <td>[singhanupam2015, only, because, of, such, peo...</td>\n",
       "      <td>2</td>\n",
       "      <td>0</td>\n",
       "      <td>0</td>\n",
       "      <td>1</td>\n",
       "      <td>2</td>\n",
       "    </tr>\n",
       "    <tr>\n",
       "      <th>1</th>\n",
       "      <td>hazrat imam hussain alaihissalam say : when yo...</td>\n",
       "      <td>[hazrat, imam, hussain, alaihissalam, say, :, ...</td>\n",
       "      <td>1</td>\n",
       "      <td>0</td>\n",
       "      <td>1</td>\n",
       "      <td>0</td>\n",
       "      <td>1</td>\n",
       "    </tr>\n",
       "    <tr>\n",
       "      <th>2</th>\n",
       "      <td>ince princek73686201 bismillah yeh kaun</td>\n",
       "      <td>[ince, princek73686201, bismillah, yeh, kaun]</td>\n",
       "      <td>1</td>\n",
       "      <td>0</td>\n",
       "      <td>1</td>\n",
       "      <td>0</td>\n",
       "      <td>1</td>\n",
       "    </tr>\n",
       "    <tr>\n",
       "      <th>3</th>\n",
       "      <td># jhansi_ki_rani_kangna wish a much sadness fo...</td>\n",
       "      <td>[#, jhansi_ki_rani_kangna, wish, a, much, sadn...</td>\n",
       "      <td>0</td>\n",
       "      <td>1</td>\n",
       "      <td>0</td>\n",
       "      <td>0</td>\n",
       "      <td>0</td>\n",
       "    </tr>\n",
       "    <tr>\n",
       "      <th>4</th>\n",
       "      <td>asaduddin owaisi considered pm modi to attend ...</td>\n",
       "      <td>[asaduddin, owaisi, considered, pm, modi, to, ...</td>\n",
       "      <td>2</td>\n",
       "      <td>0</td>\n",
       "      <td>0</td>\n",
       "      <td>1</td>\n",
       "      <td>2</td>\n",
       "    </tr>\n",
       "    <tr>\n",
       "      <th>5</th>\n",
       "      <td>the delhi police should be a little vigilant n...</td>\n",
       "      <td>[the, delhi, police, should, be, a, little, vi...</td>\n",
       "      <td>1</td>\n",
       "      <td>0</td>\n",
       "      <td>1</td>\n",
       "      <td>0</td>\n",
       "      <td>1</td>\n",
       "    </tr>\n",
       "    <tr>\n",
       "      <th>6</th>\n",
       "      <td>rizvi_kad110 ernside__ of course haq hussain a...</td>\n",
       "      <td>[rizvi_kad110, ernside__, of, course, haq, hus...</td>\n",
       "      <td>1</td>\n",
       "      <td>0</td>\n",
       "      <td>1</td>\n",
       "      <td>0</td>\n",
       "      <td>1</td>\n",
       "    </tr>\n",
       "    <tr>\n",
       "      <th>7</th>\n",
       "      <td>mohammedmonisk3 hijri year ibteda how it happe...</td>\n",
       "      <td>[mohammedmonisk3, hijri, year, ibteda, how, it...</td>\n",
       "      <td>1</td>\n",
       "      <td>0</td>\n",
       "      <td>1</td>\n",
       "      <td>0</td>\n",
       "      <td>1</td>\n",
       "    </tr>\n",
       "    <tr>\n",
       "      <th>8</th>\n",
       "      <td>_sayema ​​will end exactly one day of jihad an...</td>\n",
       "      <td>[_sayema, ​​will, end, exactly, one, day, of, ...</td>\n",
       "      <td>2</td>\n",
       "      <td>0</td>\n",
       "      <td>0</td>\n",
       "      <td>1</td>\n",
       "      <td>2</td>\n",
       "    </tr>\n",
       "    <tr>\n",
       "      <th>9</th>\n",
       "      <td>swetasinghat msdhoni since kapil dev retired i...</td>\n",
       "      <td>[swetasinghat, msdhoni, since, kapil, dev, ret...</td>\n",
       "      <td>0</td>\n",
       "      <td>1</td>\n",
       "      <td>0</td>\n",
       "      <td>0</td>\n",
       "      <td>0</td>\n",
       "    </tr>\n",
       "    <tr>\n",
       "      <th>10</th>\n",
       "      <td>rahul gandhi zindabad</td>\n",
       "      <td>[rahul, gandhi, zindabad]</td>\n",
       "      <td>0</td>\n",
       "      <td>1</td>\n",
       "      <td>0</td>\n",
       "      <td>0</td>\n",
       "      <td>0</td>\n",
       "    </tr>\n",
       "    <tr>\n",
       "      <th>11</th>\n",
       "      <td>shot_squirrel israel celebrating diwali 4</td>\n",
       "      <td>[shot_squirrel, israel, celebrating, diwali, 4]</td>\n",
       "      <td>0</td>\n",
       "      <td>1</td>\n",
       "      <td>0</td>\n",
       "      <td>0</td>\n",
       "      <td>0</td>\n",
       "    </tr>\n",
       "    <tr>\n",
       "      <th>12</th>\n",
       "      <td>bhimarmychief hey racist worm comrade jihadi y...</td>\n",
       "      <td>[bhimarmychief, hey, racist, worm, comrade, ji...</td>\n",
       "      <td>2</td>\n",
       "      <td>0</td>\n",
       "      <td>0</td>\n",
       "      <td>1</td>\n",
       "      <td>2</td>\n",
       "    </tr>\n",
       "    <tr>\n",
       "      <th>13</th>\n",
       "      <td>fansyati if everyone continues to favor this j...</td>\n",
       "      <td>[fansyati, if, everyone, continues, to, favor,...</td>\n",
       "      <td>2</td>\n",
       "      <td>0</td>\n",
       "      <td>0</td>\n",
       "      <td>1</td>\n",
       "      <td>2</td>\n",
       "    </tr>\n",
       "    <tr>\n",
       "      <th>14</th>\n",
       "      <td># rajdeepsardesai the father of this seditious...</td>\n",
       "      <td>[#, rajdeepsardesai, the, father, of, this, se...</td>\n",
       "      <td>2</td>\n",
       "      <td>0</td>\n",
       "      <td>0</td>\n",
       "      <td>1</td>\n",
       "      <td>2</td>\n",
       "    </tr>\n",
       "    <tr>\n",
       "      <th>15</th>\n",
       "      <td>khubaibrah002 amen 😢😢😢😢😢 so much jiggle will d...</td>\n",
       "      <td>[khubaibrah002, amen, 😢😢😢😢😢, so, much, jiggle,...</td>\n",
       "      <td>1</td>\n",
       "      <td>0</td>\n",
       "      <td>1</td>\n",
       "      <td>0</td>\n",
       "      <td>1</td>\n",
       "    </tr>\n",
       "    <tr>\n",
       "      <th>16</th>\n",
       "      <td>happy islamic new year `` 1442 hijri '' to ala...</td>\n",
       "      <td>[happy, islamic, new, year, ``, 1442, hijri, '...</td>\n",
       "      <td>1</td>\n",
       "      <td>0</td>\n",
       "      <td>1</td>\n",
       "      <td>0</td>\n",
       "      <td>1</td>\n",
       "    </tr>\n",
       "    <tr>\n",
       "      <th>17</th>\n",
       "      <td>dr kafeel is getting bail from allahabad high ...</td>\n",
       "      <td>[dr, kafeel, is, getting, bail, from, allahaba...</td>\n",
       "      <td>1</td>\n",
       "      <td>0</td>\n",
       "      <td>1</td>\n",
       "      <td>0</td>\n",
       "      <td>1</td>\n",
       "    </tr>\n",
       "    <tr>\n",
       "      <th>18</th>\n",
       "      <td>`` may allah lock you with sorrow and pain may...</td>\n",
       "      <td>[``, may, allah, lock, you, with, sorrow, and,...</td>\n",
       "      <td>1</td>\n",
       "      <td>0</td>\n",
       "      <td>1</td>\n",
       "      <td>0</td>\n",
       "      <td>1</td>\n",
       "    </tr>\n",
       "    <tr>\n",
       "      <th>19</th>\n",
       "      <td>dhoni s retirement make indian cricket irrepla...</td>\n",
       "      <td>[dhoni, s, retirement, make, indian, cricket, ...</td>\n",
       "      <td>0</td>\n",
       "      <td>1</td>\n",
       "      <td>0</td>\n",
       "      <td>0</td>\n",
       "      <td>0</td>\n",
       "    </tr>\n",
       "    <tr>\n",
       "      <th>20</th>\n",
       "      <td>i have a strong opinion on opinion iqilaf in t...</td>\n",
       "      <td>[i, have, a, strong, opinion, on, opinion, iqi...</td>\n",
       "      <td>1</td>\n",
       "      <td>0</td>\n",
       "      <td>1</td>\n",
       "      <td>0</td>\n",
       "      <td>1</td>\n",
       "    </tr>\n",
       "    <tr>\n",
       "      <th>21</th>\n",
       "      <td>uae cricket board said - it is not good to get...</td>\n",
       "      <td>[uae, cricket, board, said, -, it, is, not, go...</td>\n",
       "      <td>0</td>\n",
       "      <td>1</td>\n",
       "      <td>0</td>\n",
       "      <td>0</td>\n",
       "      <td>0</td>\n",
       "    </tr>\n",
       "    <tr>\n",
       "      <th>22</th>\n",
       "      <td>aashif_001 माशा अल्लाह</td>\n",
       "      <td>[aashif_001, माशा, अल्लाह]</td>\n",
       "      <td>1</td>\n",
       "      <td>0</td>\n",
       "      <td>1</td>\n",
       "      <td>0</td>\n",
       "      <td>1</td>\n",
       "    </tr>\n",
       "    <tr>\n",
       "      <th>23</th>\n",
       "      <td>republic_bharat blow the fuckin jihadi</td>\n",
       "      <td>[republic_bharat, blow, the, fuckin, jihadi]</td>\n",
       "      <td>2</td>\n",
       "      <td>0</td>\n",
       "      <td>0</td>\n",
       "      <td>1</td>\n",
       "      <td>2</td>\n",
       "    </tr>\n",
       "    <tr>\n",
       "      <th>24</th>\n",
       "      <td>ashukkla gaonconnection youth need a new sloga...</td>\n",
       "      <td>[ashukkla, gaonconnection, youth, need, a, new...</td>\n",
       "      <td>0</td>\n",
       "      <td>1</td>\n",
       "      <td>0</td>\n",
       "      <td>0</td>\n",
       "      <td>0</td>\n",
       "    </tr>\n",
       "  </tbody>\n",
       "</table>\n",
       "</div>"
      ],
      "text/plain": [
       "                                           Text_Final  \\\n",
       "0   singhanupam2015 only because of such people hi...   \n",
       "1   hazrat imam hussain alaihissalam say : when yo...   \n",
       "2             ince princek73686201 bismillah yeh kaun   \n",
       "3   # jhansi_ki_rani_kangna wish a much sadness fo...   \n",
       "4   asaduddin owaisi considered pm modi to attend ...   \n",
       "5   the delhi police should be a little vigilant n...   \n",
       "6   rizvi_kad110 ernside__ of course haq hussain a...   \n",
       "7   mohammedmonisk3 hijri year ibteda how it happe...   \n",
       "8   _sayema ​​will end exactly one day of jihad an...   \n",
       "9   swetasinghat msdhoni since kapil dev retired i...   \n",
       "10                              rahul gandhi zindabad   \n",
       "11          shot_squirrel israel celebrating diwali 4   \n",
       "12  bhimarmychief hey racist worm comrade jihadi y...   \n",
       "13  fansyati if everyone continues to favor this j...   \n",
       "14  # rajdeepsardesai the father of this seditious...   \n",
       "15  khubaibrah002 amen 😢😢😢😢😢 so much jiggle will d...   \n",
       "16  happy islamic new year `` 1442 hijri '' to ala...   \n",
       "17  dr kafeel is getting bail from allahabad high ...   \n",
       "18  `` may allah lock you with sorrow and pain may...   \n",
       "19  dhoni s retirement make indian cricket irrepla...   \n",
       "20  i have a strong opinion on opinion iqilaf in t...   \n",
       "21  uae cricket board said - it is not good to get...   \n",
       "22                             aashif_001 माशा अल्लाह   \n",
       "23             republic_bharat blow the fuckin jihadi   \n",
       "24  ashukkla gaonconnection youth need a new sloga...   \n",
       "\n",
       "                                               tokens Label  0  1  2  \\\n",
       "0   [singhanupam2015, only, because, of, such, peo...     2  0  0  1   \n",
       "1   [hazrat, imam, hussain, alaihissalam, say, :, ...     1  0  1  0   \n",
       "2       [ince, princek73686201, bismillah, yeh, kaun]     1  0  1  0   \n",
       "3   [#, jhansi_ki_rani_kangna, wish, a, much, sadn...     0  1  0  0   \n",
       "4   [asaduddin, owaisi, considered, pm, modi, to, ...     2  0  0  1   \n",
       "5   [the, delhi, police, should, be, a, little, vi...     1  0  1  0   \n",
       "6   [rizvi_kad110, ernside__, of, course, haq, hus...     1  0  1  0   \n",
       "7   [mohammedmonisk3, hijri, year, ibteda, how, it...     1  0  1  0   \n",
       "8   [_sayema, ​​will, end, exactly, one, day, of, ...     2  0  0  1   \n",
       "9   [swetasinghat, msdhoni, since, kapil, dev, ret...     0  1  0  0   \n",
       "10                          [rahul, gandhi, zindabad]     0  1  0  0   \n",
       "11    [shot_squirrel, israel, celebrating, diwali, 4]     0  1  0  0   \n",
       "12  [bhimarmychief, hey, racist, worm, comrade, ji...     2  0  0  1   \n",
       "13  [fansyati, if, everyone, continues, to, favor,...     2  0  0  1   \n",
       "14  [#, rajdeepsardesai, the, father, of, this, se...     2  0  0  1   \n",
       "15  [khubaibrah002, amen, 😢😢😢😢😢, so, much, jiggle,...     1  0  1  0   \n",
       "16  [happy, islamic, new, year, ``, 1442, hijri, '...     1  0  1  0   \n",
       "17  [dr, kafeel, is, getting, bail, from, allahaba...     1  0  1  0   \n",
       "18  [``, may, allah, lock, you, with, sorrow, and,...     1  0  1  0   \n",
       "19  [dhoni, s, retirement, make, indian, cricket, ...     0  1  0  0   \n",
       "20  [i, have, a, strong, opinion, on, opinion, iqi...     1  0  1  0   \n",
       "21  [uae, cricket, board, said, -, it, is, not, go...     0  1  0  0   \n",
       "22                         [aashif_001, माशा, अल्लाह]     1  0  1  0   \n",
       "23       [republic_bharat, blow, the, fuckin, jihadi]     2  0  0  1   \n",
       "24  [ashukkla, gaonconnection, youth, need, a, new...     0  1  0  0   \n",
       "\n",
       "   Category_id  \n",
       "0            2  \n",
       "1            1  \n",
       "2            1  \n",
       "3            0  \n",
       "4            2  \n",
       "5            1  \n",
       "6            1  \n",
       "7            1  \n",
       "8            2  \n",
       "9            0  \n",
       "10           0  \n",
       "11           0  \n",
       "12           2  \n",
       "13           2  \n",
       "14           2  \n",
       "15           1  \n",
       "16           1  \n",
       "17           1  \n",
       "18           1  \n",
       "19           0  \n",
       "20           1  \n",
       "21           0  \n",
       "22           1  \n",
       "23           2  \n",
       "24           0  "
      ]
     },
     "execution_count": 25,
     "metadata": {},
     "output_type": "execute_result"
    }
   ],
   "source": [
    "category_id = []\n",
    "for l in data.Label:\n",
    "    \n",
    "    if l == '0':\n",
    "        category_id.append('0')\n",
    "    elif l == '1':\n",
    "        category_id.append('1')\n",
    "    elif l == '2':\n",
    "        category_id.append('2')\n",
    "        \n",
    "data['Category_id'] = category_id\n",
    "\n",
    "data = data[['Text_Final', 'tokens', 'Label', '0', '1', '2', 'Category_id' ]]\n",
    "data.head(25)"
   ]
  },
  {
   "cell_type": "code",
   "execution_count": 26,
   "metadata": {},
   "outputs": [],
   "source": [
    "data = data[data.tokens != '']"
   ]
  },
  {
   "cell_type": "code",
   "execution_count": 27,
   "metadata": {},
   "outputs": [],
   "source": [
    "from io import StringIO\n",
    "category_id_df = data[['Label', 'Category_id']].drop_duplicates().sort_values('Category_id')\n",
    "category_to_label_dict = dict(category_id_df.values)\n",
    "label_to_category_dict = dict(category_id_df[['Category_id', 'Label']].values)"
   ]
  },
  {
   "cell_type": "markdown",
   "metadata": {},
   "source": [
    "#### Split Data into test and train\n",
    "We will use 90 % data for training and 20 % for testing. We use random state so every time we get the same training and testing data."
   ]
  },
  {
   "cell_type": "code",
   "execution_count": 28,
   "metadata": {},
   "outputs": [
    {
     "data": {
      "text/plain": [
       "(10117, 7)"
      ]
     },
     "execution_count": 28,
     "metadata": {},
     "output_type": "execute_result"
    }
   ],
   "source": [
    "data.shape"
   ]
  },
  {
   "cell_type": "code",
   "execution_count": 29,
   "metadata": {},
   "outputs": [],
   "source": [
    "data_train, data_test = train_test_split(data, test_size=0.10, random_state=42)\n"
   ]
  },
  {
   "cell_type": "code",
   "execution_count": 30,
   "metadata": {},
   "outputs": [],
   "source": [
    "# # total training words\n",
    "totalTrainingWords = [word for tokens in data_train[\"tokens\"] for word in tokens]\n",
    "\n",
    "# # Storing Length of the training sentence\n",
    "lengthTrainingSentences = [len(tokens) for tokens in data_train[\"tokens\"]]\n",
    "\n",
    "# # training Vocabulary size\n",
    "trainingVocabSize = sorted(list(set(totalTrainingWords)))\n",
    "\n",
    "## Total number of lines\n",
    "linesCount = len(data_train[\"tokens\"])"
   ]
  },
  {
   "cell_type": "markdown",
   "metadata": {},
   "source": [
    "### Load Google Word2vec model"
   ]
  },
  {
   "cell_type": "code",
   "execution_count": 31,
   "metadata": {},
   "outputs": [],
   "source": [
    "word2vec_path = 'GoogleNews-vectors-negative300.bin'"
   ]
  },
  {
   "cell_type": "code",
   "execution_count": 32,
   "metadata": {},
   "outputs": [],
   "source": [
    "from gensim import models\n",
    "word2vec = models.KeyedVectors.load_word2vec_format(word2vec_path, binary=True)\n"
   ]
  },
  {
   "cell_type": "code",
   "execution_count": 33,
   "metadata": {},
   "outputs": [
    {
     "data": {
      "text/plain": [
       "<gensim.models.keyedvectors.Word2VecKeyedVectors at 0x7f1da70b0a30>"
      ]
     },
     "execution_count": 33,
     "metadata": {},
     "output_type": "execute_result"
    }
   ],
   "source": [
    "word2vec"
   ]
  },
  {
   "cell_type": "code",
   "execution_count": 34,
   "metadata": {},
   "outputs": [],
   "source": [
    "MAX_SEQUENCE_LENGTH = 150\n",
    "EMBEDDING_DIM = 300"
   ]
  },
  {
   "cell_type": "markdown",
   "metadata": {},
   "source": [
    "\n",
    "### Tokenize and Pad sequences"
   ]
  },
  {
   "cell_type": "code",
   "execution_count": 35,
   "metadata": {},
   "outputs": [
    {
     "name": "stdout",
     "output_type": "stream",
     "text": [
      "Found 14984 unique tokens.\n"
     ]
    }
   ],
   "source": [
    "tokenizer = Tokenizer(num_words=len(trainingVocabSize), lower=True, char_level=False)\n",
    "tokenizer.fit_on_texts(data_train[\"Text_Final\"].tolist())\n",
    "training_sequences = tokenizer.texts_to_sequences(data_train[\"Text_Final\"].tolist())\n",
    "\n",
    "train_word_index = tokenizer.word_index\n",
    "print('Found %s unique tokens.' % len(train_word_index))"
   ]
  },
  {
   "cell_type": "code",
   "execution_count": 36,
   "metadata": {},
   "outputs": [],
   "source": [
    "cnnTrainData = pad_sequences(training_sequences, maxlen=MAX_SEQUENCE_LENGTH)"
   ]
  },
  {
   "cell_type": "code",
   "execution_count": 37,
   "metadata": {},
   "outputs": [
    {
     "name": "stdout",
     "output_type": "stream",
     "text": [
      "(14985, 300)\n"
     ]
    }
   ],
   "source": [
    "train_embedding_weights = np.zeros((len(train_word_index)+1, EMBEDDING_DIM))\n",
    "for word,index in train_word_index.items():\n",
    "    train_embedding_weights[index,:] = word2vec[word] if word in word2vec else np.random.rand(EMBEDDING_DIM)\n",
    "print(train_embedding_weights.shape)"
   ]
  },
  {
   "cell_type": "code",
   "execution_count": 38,
   "metadata": {},
   "outputs": [],
   "source": [
    "test_sequences = tokenizer.texts_to_sequences(data_test[\"Text_Final\"].tolist())\n",
    "cnnTestData = pad_sequences(test_sequences, maxlen= MAX_SEQUENCE_LENGTH)"
   ]
  },
  {
   "cell_type": "markdown",
   "metadata": {},
   "source": [
    "### Define CNN"
   ]
  },
  {
   "cell_type": "markdown",
   "metadata": {},
   "source": [
    "The model is from the paper 'Convolutional Neural Networks for Sentence Classification' we have updated the network according to our requirement [1]"
   ]
  },
  {
   "cell_type": "code",
   "execution_count": 39,
   "metadata": {},
   "outputs": [],
   "source": [
    "label_names = ['0', '1', '2']"
   ]
  },
  {
   "cell_type": "code",
   "execution_count": 40,
   "metadata": {},
   "outputs": [],
   "source": [
    "def ConvolutionalNeuralNet(embeddings, max_sequence_length, num_words, embedding_dim, labels_index):\n",
    "    \n",
    "    # Embedding layer\n",
    "    embedding_layer = Embedding(num_words,\n",
    "                            embedding_dim,\n",
    "                            weights=[embeddings],\n",
    "                            input_length=max_sequence_length,\n",
    "                            trainable=False)\n",
    "    \n",
    "    sequence_input = Input(shape=(max_sequence_length,), dtype='int32')\n",
    "    embedded_sequences = embedding_layer(sequence_input)\n",
    "\n",
    "    convs = []\n",
    "    \n",
    "    #Kernal (window) size\n",
    "    filter_sizes = [2,3,4,5]\n",
    "\n",
    "    # Convolution Layer and max-pooling\n",
    "    for filter_size in filter_sizes:\n",
    "        l_conv = Conv1D(filters=512, kernel_size=filter_size, activation='relu')(embedded_sequences)\n",
    "        l_pool = GlobalMaxPooling1D()(l_conv)\n",
    "        convs.append(l_pool)\n",
    "        \n",
    "    l_merge = concatenate(convs, axis=1)\n",
    "    \n",
    "    # softmax layer for multiclass identification \n",
    "    x = Dropout(0.1)(l_merge)  \n",
    "    x = Dense(512, activation='relu')(x)\n",
    "    x = Dropout(0.2)(x)\n",
    "    preds = Dense(labels_index, activation='softmax')(x)\n",
    "\n",
    "    model = Model(sequence_input, preds)\n",
    "    model.compile(loss= 'categorical_crossentropy',\n",
    "                 optimizer = keras.optimizers.RMSprop(learning_rate=1e-3),\n",
    "#                    optimizer='adam',\n",
    "                  metrics=['accuracy'])\n",
    "    return model"
   ]
  },
  {
   "cell_type": "code",
   "execution_count": 41,
   "metadata": {},
   "outputs": [],
   "source": [
    "# Splitting train data into X_train and y_train\n",
    "y_train = data_train[label_names].values\n",
    "x_train = cnnTrainData\n",
    "y_tr = y_train"
   ]
  },
  {
   "cell_type": "code",
   "execution_count": 42,
   "metadata": {},
   "outputs": [],
   "source": [
    "# Splitting train data into X_test and y_test\n",
    "y_test = data_test[label_names].values\n",
    "x_test = cnnTestData\n",
    "y_tst = y_test"
   ]
  },
  {
   "cell_type": "code",
   "execution_count": 43,
   "metadata": {},
   "outputs": [],
   "source": [
    "model = ConvolutionalNeuralNet(train_embedding_weights, MAX_SEQUENCE_LENGTH, len(train_word_index)+1, EMBEDDING_DIM, len(list(label_names)))"
   ]
  },
  {
   "cell_type": "code",
   "execution_count": 44,
   "metadata": {},
   "outputs": [
    {
     "name": "stdout",
     "output_type": "stream",
     "text": [
      "Model: \"model\"\n",
      "__________________________________________________________________________________________________\n",
      "Layer (type)                    Output Shape         Param #     Connected to                     \n",
      "==================================================================================================\n",
      "input_1 (InputLayer)            [(None, 150)]        0                                            \n",
      "__________________________________________________________________________________________________\n",
      "embedding (Embedding)           (None, 150, 300)     4495500     input_1[0][0]                    \n",
      "__________________________________________________________________________________________________\n",
      "conv1d (Conv1D)                 (None, 149, 512)     307712      embedding[0][0]                  \n",
      "__________________________________________________________________________________________________\n",
      "conv1d_1 (Conv1D)               (None, 148, 512)     461312      embedding[0][0]                  \n",
      "__________________________________________________________________________________________________\n",
      "conv1d_2 (Conv1D)               (None, 147, 512)     614912      embedding[0][0]                  \n",
      "__________________________________________________________________________________________________\n",
      "conv1d_3 (Conv1D)               (None, 146, 512)     768512      embedding[0][0]                  \n",
      "__________________________________________________________________________________________________\n",
      "global_max_pooling1d (GlobalMax (None, 512)          0           conv1d[0][0]                     \n",
      "__________________________________________________________________________________________________\n",
      "global_max_pooling1d_1 (GlobalM (None, 512)          0           conv1d_1[0][0]                   \n",
      "__________________________________________________________________________________________________\n",
      "global_max_pooling1d_2 (GlobalM (None, 512)          0           conv1d_2[0][0]                   \n",
      "__________________________________________________________________________________________________\n",
      "global_max_pooling1d_3 (GlobalM (None, 512)          0           conv1d_3[0][0]                   \n",
      "__________________________________________________________________________________________________\n",
      "concatenate (Concatenate)       (None, 2048)         0           global_max_pooling1d[0][0]       \n",
      "                                                                 global_max_pooling1d_1[0][0]     \n",
      "                                                                 global_max_pooling1d_2[0][0]     \n",
      "                                                                 global_max_pooling1d_3[0][0]     \n",
      "__________________________________________________________________________________________________\n",
      "dropout (Dropout)               (None, 2048)         0           concatenate[0][0]                \n",
      "__________________________________________________________________________________________________\n",
      "dense (Dense)                   (None, 512)          1049088     dropout[0][0]                    \n",
      "__________________________________________________________________________________________________\n",
      "dropout_1 (Dropout)             (None, 512)          0           dense[0][0]                      \n",
      "__________________________________________________________________________________________________\n",
      "dense_1 (Dense)                 (None, 3)            1539        dropout_1[0][0]                  \n",
      "==================================================================================================\n",
      "Total params: 7,698,575\n",
      "Trainable params: 3,203,075\n",
      "Non-trainable params: 4,495,500\n",
      "__________________________________________________________________________________________________\n"
     ]
    }
   ],
   "source": [
    "model.summary()"
   ]
  },
  {
   "cell_type": "markdown",
   "metadata": {},
   "source": [
    "### Train CNN"
   ]
  },
  {
   "cell_type": "code",
   "execution_count": 45,
   "metadata": {},
   "outputs": [],
   "source": [
    "num_epochs = 5\n",
    "batch_size = 512"
   ]
  },
  {
   "cell_type": "code",
   "execution_count": 46,
   "metadata": {},
   "outputs": [
    {
     "name": "stdout",
     "output_type": "stream",
     "text": [
      "Epoch 1/5\n",
      "17/17 [==============================] - 56s 3s/step - loss: 3.4437 - accuracy: 0.5766 - val_loss: 0.4371 - val_accuracy: 0.8540\n",
      "Epoch 2/5\n",
      "17/17 [==============================] - 55s 3s/step - loss: 0.4023 - accuracy: 0.8529 - val_loss: 0.3364 - val_accuracy: 0.8738\n",
      "Epoch 3/5\n",
      "17/17 [==============================] - 53s 3s/step - loss: 0.3321 - accuracy: 0.8805 - val_loss: 0.3074 - val_accuracy: 0.8880\n",
      "Epoch 4/5\n",
      "17/17 [==============================] - 52s 3s/step - loss: 0.2451 - accuracy: 0.9138 - val_loss: 0.2527 - val_accuracy: 0.9023\n",
      "Epoch 5/5\n",
      "17/17 [==============================] - 55s 3s/step - loss: 0.2150 - accuracy: 0.9236 - val_loss: 0.2402 - val_accuracy: 0.9078\n"
     ]
    }
   ],
   "source": [
    "# training our model on train data\n",
    "history = model.fit(x_train, y_tr, epochs=num_epochs, validation_split=0.1, shuffle=True, batch_size=batch_size)"
   ]
  },
  {
   "cell_type": "code",
   "execution_count": 47,
   "metadata": {},
   "outputs": [
    {
     "name": "stdout",
     "output_type": "stream",
     "text": [
      "32/32 [==============================] - 3s 97ms/step - loss: 0.1845 - accuracy: 0.9328\n"
     ]
    }
   ],
   "source": [
    "# evaluate on test data\n",
    "results = model.evaluate(x_test, y_tst)"
   ]
  },
  {
   "cell_type": "code",
   "execution_count": 48,
   "metadata": {},
   "outputs": [
    {
     "name": "stdout",
     "output_type": "stream",
     "text": [
      "1/1 [==============================] - 0s 3ms/step\n"
     ]
    }
   ],
   "source": [
    "# predict model\n",
    "predictions = model.predict(cnnTestData, batch_size=1024, verbose=1)"
   ]
  },
  {
   "cell_type": "markdown",
   "metadata": {},
   "source": [
    "### Testing few sentences using our model"
   ]
  },
  {
   "cell_type": "code",
   "execution_count": 49,
   "metadata": {},
   "outputs": [],
   "source": [
    "\n",
    "labels = ['0', '1', '2']\n",
    "\n",
    "def makeprediction(texts):\n",
    "    tk = Tokenizer()\n",
    "    tk.fit_on_texts(texts)\n",
    "    index_list = tk.texts_to_sequences(texts)\n",
    "    x_train = pad_sequences(index_list, maxlen=150)\n",
    "    pred = model.predict(x_train)\n",
    "    result = labels[np.argmax(pred)]\n",
    "    return result"
   ]
  },
  {
   "cell_type": "code",
   "execution_count": 50,
   "metadata": {},
   "outputs": [],
   "source": [
    "prediction_labels=[]\n",
    "for p in predictions:\n",
    "    prediction_labels.append(labels[np.argmax(p)])"
   ]
  },
  {
   "cell_type": "code",
   "execution_count": 51,
   "metadata": {},
   "outputs": [
    {
     "data": {
      "text/plain": [
       "0.932806324110672"
      ]
     },
     "execution_count": 51,
     "metadata": {},
     "output_type": "execute_result"
    }
   ],
   "source": [
    "sum(data_test.Label==prediction_labels)/len(prediction_labels)"
   ]
  },
  {
   "cell_type": "code",
   "execution_count": 52,
   "metadata": {},
   "outputs": [
    {
     "data": {
      "text/plain": [
       "2    349\n",
       "0    340\n",
       "1    323\n",
       "Name: Label, dtype: int64"
      ]
     },
     "execution_count": 52,
     "metadata": {},
     "output_type": "execute_result"
    }
   ],
   "source": [
    "data_test.Label.value_counts()"
   ]
  },
  {
   "cell_type": "code",
   "execution_count": 53,
   "metadata": {},
   "outputs": [
    {
     "data": {
      "image/png": "[encoded data removed]",
      "text/plain": [
       "<Figure size 432x288 with 2 Axes>"
      ]
     },
     "metadata": {
      "needs_background": "light"
     },
     "output_type": "display_data"
    }
   ],
   "source": [
    "plt.figure(1)\n",
    "# summarize history for accuracy\n",
    "plt.subplot(211)\n",
    "plt.plot(history.history['accuracy'])\n",
    "plt.plot(history.history['val_accuracy'])\n",
    "plt.title('model accuracy')\n",
    "plt.ylabel('accuracy')\n",
    "plt.xlabel('epoch')\n",
    "plt.legend(['train', 'val'], loc='upper left')\n",
    "# summarize history for loss\n",
    "plt.subplot(212)\n",
    "plt.plot(history.history['loss'])\n",
    "plt.plot(history.history['val_loss'])\n",
    "plt.title('model loss')\n",
    "plt.ylabel('loss')\n",
    "plt.xlabel('epoch')\n",
    "plt.legend(['train', 'val'], loc='upper left')\n",
    "plt.tight_layout()\n",
    "plt.show()"
   ]
  },
  {
   "cell_type": "code",
   "execution_count": 54,
   "metadata": {},
   "outputs": [
    {
     "name": "stdout",
     "output_type": "stream",
     "text": [
      "Confusion Matrix :\n",
      "[[299  24  17]\n",
      " [  3 313   7]\n",
      " [  4  13 332]]\n",
      "Accuracy Score : 0.932806324110672\n",
      "Report : \n",
      "              precision    recall  f1-score   support\n",
      "\n",
      "           0       0.98      0.88      0.93       340\n",
      "           1       0.89      0.97      0.93       323\n",
      "           2       0.93      0.95      0.94       349\n",
      "\n",
      "    accuracy                           0.93      1012\n",
      "   macro avg       0.93      0.93      0.93      1012\n",
      "weighted avg       0.94      0.93      0.93      1012\n",
      "\n"
     ]
    }
   ],
   "source": [
    "results = confusion_matrix(data_test.Label, prediction_labels)\n",
    "print ('Confusion Matrix :')\n",
    "print(results) \n",
    "print ('Accuracy Score :',accuracy_score(data_test.Label, prediction_labels))\n",
    "print ('Report : ')\n",
    "print (classification_report(data_test.Label, prediction_labels))"
   ]
  },
  {
   "cell_type": "code",
   "execution_count": 55,
   "metadata": {},
   "outputs": [
    {
     "name": "stdout",
     "output_type": "stream",
     "text": [
      "                        Convolution Neural Network\n"
     ]
    },
    {
     "data": {
      "image/png": "[encoded data removed]",
      "text/plain": [
       "<Figure size 360x360 with 2 Axes>"
      ]
     },
     "metadata": {
      "needs_background": "light"
     },
     "output_type": "display_data"
    }
   ],
   "source": [
    "from sklearn.metrics import confusion_matrix\n",
    "print(\"                        Convolution Neural Network\")\n",
    "conf_mat = confusion_matrix(data_test.Label, prediction_labels)\n",
    "fig, ax = plt.subplots(figsize=(5,5))\n",
    "sns.heatmap(conf_mat, annot=True, fmt='d', cmap ='YlGnBu',\n",
    "            xticklabels=category_id_df.Label.values, yticklabels=category_id_df.Label.values)\n",
    "plt.ylabel('Actual')\n",
    "plt.xlabel('Predicted')\n",
    "plt.show()"
   ]
  },
  {
   "cell_type": "markdown",
   "metadata": {},
   "source": [
    "### Testing CNN using KFold cross validation"
   ]
  },
  {
   "cell_type": "code",
   "execution_count": 61,
   "metadata": {},
   "outputs": [
    {
     "name": "stdout",
     "output_type": "stream",
     "text": [
      "Fold:  1\n",
      "Epoch 1/5\n",
      "257/257 [==============================] - 76s 294ms/step - loss: 0.4798 - accuracy: 0.8525 - val_loss: 0.2069 - val_accuracy: 0.9210\n",
      "Epoch 2/5\n",
      "257/257 [==============================] - 78s 303ms/step - loss: 0.1946 - accuracy: 0.9335 - val_loss: 0.3042 - val_accuracy: 0.8738\n",
      "Epoch 3/5\n",
      "257/257 [==============================] - 74s 290ms/step - loss: 0.1373 - accuracy: 0.9588 - val_loss: 0.1782 - val_accuracy: 0.9451\n",
      "Epoch 4/5\n",
      "257/257 [==============================] - 75s 291ms/step - loss: 0.1051 - accuracy: 0.9662 - val_loss: 0.2606 - val_accuracy: 0.9407\n",
      "Epoch 5/5\n",
      "257/257 [==============================] - 76s 296ms/step - loss: 0.0864 - accuracy: 0.9780 - val_loss: 0.2616 - val_accuracy: 0.9374\n",
      "Results for current fold:\n",
      "8/8 [==============================] - 2s 269ms/step - loss: 0.3127 - accuracy: 0.9447\n",
      "Fold:  2\n",
      "Epoch 1/5\n",
      "257/257 [==============================] - 74s 287ms/step - loss: 0.4966 - accuracy: 0.8542 - val_loss: 0.3090 - val_accuracy: 0.9067\n",
      "Epoch 2/5\n",
      "257/257 [==============================] - 72s 280ms/step - loss: 0.2026 - accuracy: 0.9308 - val_loss: 0.1647 - val_accuracy: 0.9374\n",
      "Epoch 3/5\n",
      "257/257 [==============================] - 75s 291ms/step - loss: 0.1318 - accuracy: 0.9555 - val_loss: 0.1746 - val_accuracy: 0.9462\n",
      "Epoch 4/5\n",
      "257/257 [==============================] - 74s 288ms/step - loss: 0.1065 - accuracy: 0.9696 - val_loss: 0.2448 - val_accuracy: 0.9429\n",
      "Epoch 5/5\n",
      "257/257 [==============================] - 73s 285ms/step - loss: 0.0806 - accuracy: 0.9775 - val_loss: 0.5934 - val_accuracy: 0.9056\n",
      "Results for current fold:\n",
      "8/8 [==============================] - 2s 297ms/step - loss: 0.6935 - accuracy: 0.9042\n",
      "Fold:  3\n",
      "Epoch 1/5\n",
      "257/257 [==============================] - 75s 292ms/step - loss: 0.5238 - accuracy: 0.8517 - val_loss: 0.2189 - val_accuracy: 0.9111\n",
      "Epoch 2/5\n",
      "257/257 [==============================] - 71s 275ms/step - loss: 0.1946 - accuracy: 0.9361 - val_loss: 0.1765 - val_accuracy: 0.9374\n",
      "Epoch 3/5\n",
      "257/257 [==============================] - 76s 298ms/step - loss: 0.1283 - accuracy: 0.9594 - val_loss: 0.2659 - val_accuracy: 0.9111\n",
      "Epoch 4/5\n",
      "257/257 [==============================] - 76s 294ms/step - loss: 0.1011 - accuracy: 0.9712 - val_loss: 0.3308 - val_accuracy: 0.9243\n",
      "Epoch 5/5\n",
      "257/257 [==============================] - 72s 282ms/step - loss: 0.0833 - accuracy: 0.9768 - val_loss: 0.5844 - val_accuracy: 0.8979\n",
      "Results for current fold:\n",
      "8/8 [==============================] - 2s 254ms/step - loss: 0.4016 - accuracy: 0.9269\n",
      "Fold:  4\n",
      "Epoch 1/5\n",
      "257/257 [==============================] - 71s 276ms/step - loss: 0.5159 - accuracy: 0.8533 - val_loss: 0.1995 - val_accuracy: 0.9254\n",
      "Epoch 2/5\n",
      "257/257 [==============================] - 74s 287ms/step - loss: 0.1997 - accuracy: 0.9326 - val_loss: 0.2234 - val_accuracy: 0.9330\n",
      "Epoch 3/5\n",
      "257/257 [==============================] - 71s 277ms/step - loss: 0.1410 - accuracy: 0.9569 - val_loss: 0.2870 - val_accuracy: 0.9484\n",
      "Epoch 4/5\n",
      "257/257 [==============================] - 72s 282ms/step - loss: 0.1025 - accuracy: 0.9685 - val_loss: 0.3644 - val_accuracy: 0.9276\n",
      "Epoch 5/5\n",
      "257/257 [==============================] - 73s 286ms/step - loss: 0.1033 - accuracy: 0.9758 - val_loss: 0.1728 - val_accuracy: 0.9517\n",
      "Results for current fold:\n",
      "8/8 [==============================] - 2s 253ms/step - loss: 0.2323 - accuracy: 0.9437\n",
      "Fold:  5\n",
      "Epoch 1/5\n",
      "257/257 [==============================] - 73s 284ms/step - loss: 0.5244 - accuracy: 0.8521 - val_loss: 0.3204 - val_accuracy: 0.9100\n",
      "Epoch 2/5\n",
      "257/257 [==============================] - 77s 299ms/step - loss: 0.1985 - accuracy: 0.9353 - val_loss: 0.3485 - val_accuracy: 0.8836\n",
      "Epoch 3/5\n",
      "257/257 [==============================] - 74s 287ms/step - loss: 0.1395 - accuracy: 0.9546 - val_loss: 0.2538 - val_accuracy: 0.9276\n",
      "Epoch 4/5\n",
      "257/257 [==============================] - 76s 294ms/step - loss: 0.1040 - accuracy: 0.9727 - val_loss: 0.3379 - val_accuracy: 0.9265\n",
      "Epoch 5/5\n",
      "257/257 [==============================] - 78s 304ms/step - loss: 0.0861 - accuracy: 0.9789 - val_loss: 0.4672 - val_accuracy: 0.9265\n",
      "Results for current fold:\n",
      "8/8 [==============================] - 2s 280ms/step - loss: 0.5886 - accuracy: 0.9259\n",
      "Fold:  6\n",
      "Epoch 1/5\n",
      "257/257 [==============================] - 74s 288ms/step - loss: 0.5756 - accuracy: 0.8481 - val_loss: 0.2178 - val_accuracy: 0.9319\n",
      "Epoch 2/5\n",
      "257/257 [==============================] - 76s 298ms/step - loss: 0.2051 - accuracy: 0.9280 - val_loss: 0.2550 - val_accuracy: 0.9243\n",
      "Epoch 3/5\n",
      "257/257 [==============================] - 70s 274ms/step - loss: 0.1466 - accuracy: 0.9519 - val_loss: 0.3926 - val_accuracy: 0.9188\n",
      "Epoch 4/5\n",
      "257/257 [==============================] - 77s 300ms/step - loss: 0.1178 - accuracy: 0.9661 - val_loss: 0.2164 - val_accuracy: 0.9374\n",
      "Epoch 5/5\n",
      "257/257 [==============================] - 75s 292ms/step - loss: 0.0921 - accuracy: 0.9736 - val_loss: 0.2641 - val_accuracy: 0.9385\n",
      "Results for current fold:\n",
      "8/8 [==============================] - 2s 262ms/step - loss: 0.2116 - accuracy: 0.9575\n",
      "Fold:  7\n",
      "Epoch 1/5\n",
      "257/257 [==============================] - 74s 287ms/step - loss: 0.5179 - accuracy: 0.8559 - val_loss: 0.2035 - val_accuracy: 0.9210\n",
      "Epoch 2/5\n",
      "257/257 [==============================] - 75s 292ms/step - loss: 0.1969 - accuracy: 0.9319 - val_loss: 0.1562 - val_accuracy: 0.9407\n",
      "Epoch 3/5\n",
      "257/257 [==============================] - 71s 276ms/step - loss: 0.1403 - accuracy: 0.9561 - val_loss: 0.7459 - val_accuracy: 0.8749\n",
      "Epoch 4/5\n",
      "257/257 [==============================] - 76s 295ms/step - loss: 0.0998 - accuracy: 0.9711 - val_loss: 0.1862 - val_accuracy: 0.9495\n",
      "Epoch 5/5\n",
      "257/257 [==============================] - 75s 290ms/step - loss: 0.0806 - accuracy: 0.9775 - val_loss: 0.3536 - val_accuracy: 0.9407\n",
      "Results for current fold:\n",
      "8/8 [==============================] - 2s 266ms/step - loss: 0.4324 - accuracy: 0.9447\n",
      "Fold:  8\n",
      "Epoch 1/5\n",
      "257/257 [==============================] - 74s 289ms/step - loss: 0.5437 - accuracy: 0.8494 - val_loss: 0.3138 - val_accuracy: 0.8924\n",
      "Epoch 2/5\n",
      "257/257 [==============================] - 73s 285ms/step - loss: 0.2067 - accuracy: 0.9345 - val_loss: 0.1583 - val_accuracy: 0.9407\n",
      "Epoch 3/5\n",
      "257/257 [==============================] - 73s 283ms/step - loss: 0.1468 - accuracy: 0.9517 - val_loss: 0.2059 - val_accuracy: 0.9429\n",
      "Epoch 4/5\n",
      "257/257 [==============================] - 74s 289ms/step - loss: 0.1214 - accuracy: 0.9653 - val_loss: 0.2003 - val_accuracy: 0.9495\n",
      "Epoch 5/5\n",
      "257/257 [==============================] - 75s 292ms/step - loss: 0.0870 - accuracy: 0.9772 - val_loss: 0.2563 - val_accuracy: 0.9418\n",
      "Results for current fold:\n",
      "8/8 [==============================] - 2s 271ms/step - loss: 0.2395 - accuracy: 0.9387\n",
      "Fold:  9\n",
      "Epoch 1/5\n",
      "257/257 [==============================] - 72s 279ms/step - loss: 0.5250 - accuracy: 0.8539 - val_loss: 0.4408 - val_accuracy: 0.8902\n",
      "Epoch 2/5\n",
      "257/257 [==============================] - 72s 280ms/step - loss: 0.1984 - accuracy: 0.9337 - val_loss: 1.5275 - val_accuracy: 0.7047\n",
      "Epoch 3/5\n",
      "257/257 [==============================] - 73s 285ms/step - loss: 0.1443 - accuracy: 0.9537 - val_loss: 0.2106 - val_accuracy: 0.9374\n",
      "Epoch 4/5\n",
      "257/257 [==============================] - 76s 296ms/step - loss: 0.1075 - accuracy: 0.9677 - val_loss: 0.3252 - val_accuracy: 0.9363\n",
      "Epoch 5/5\n",
      "257/257 [==============================] - 77s 301ms/step - loss: 0.0970 - accuracy: 0.9750 - val_loss: 0.3753 - val_accuracy: 0.9341\n",
      "Results for current fold:\n",
      "8/8 [==============================] - 2s 276ms/step - loss: 0.4353 - accuracy: 0.9269\n",
      "Fold:  10\n",
      "Epoch 1/5\n",
      "257/257 [==============================] - 75s 293ms/step - loss: 0.5123 - accuracy: 0.8501 - val_loss: 0.2253 - val_accuracy: 0.9166\n",
      "Epoch 2/5\n",
      "257/257 [==============================] - 77s 301ms/step - loss: 0.2049 - accuracy: 0.9328 - val_loss: 0.1976 - val_accuracy: 0.9462\n",
      "Epoch 3/5\n",
      "257/257 [==============================] - 76s 295ms/step - loss: 0.1361 - accuracy: 0.9583 - val_loss: 0.2725 - val_accuracy: 0.9265\n",
      "Epoch 4/5\n",
      "257/257 [==============================] - 75s 291ms/step - loss: 0.1133 - accuracy: 0.9700 - val_loss: 0.6231 - val_accuracy: 0.9056\n",
      "Epoch 5/5\n",
      "257/257 [==============================] - 78s 302ms/step - loss: 0.0904 - accuracy: 0.9761 - val_loss: 0.2797 - val_accuracy: 0.9528\n",
      "Results for current fold:\n",
      "8/8 [==============================] - 2s 259ms/step - loss: 0.3031 - accuracy: 0.9377\n"
     ]
    }
   ],
   "source": [
    "from sklearn.model_selection import StratifiedKFold\n",
    "from scipy.stats import zscore\n",
    "from sklearn import metrics\n",
    "import tensorflow as tf\n",
    "import random\n",
    "\n",
    "f_score=[]\n",
    "fold = 10\n",
    "label_names = ['0', '1', '2']\n",
    "num_epochs = 5\n",
    "batch_size = 32\n",
    "oos_y = []\n",
    "oos_pred = []\n",
    "results = []\n",
    "#for train, test in kf.split(data[\"tokens\"], data['Label']):\n",
    "\n",
    "for i in range(fold):\n",
    "    print(\"Fold: \", i+1)\n",
    "    random_num = np.random.randint(1,7000, 1)[0]\n",
    "    data_train, data_test = train_test_split(data, test_size=0.10, shuffle = True, random_state = random_num)\n",
    "\n",
    "    # # total training words\n",
    "    totalTrainingWords = [word for tokens in data_train[\"tokens\"] for word in tokens]\n",
    "\n",
    "    # # Storing Length of the training sentence\n",
    "    lengthTrainingSentences = [len(tokens) for tokens in data_train[\"tokens\"]]\n",
    "\n",
    "    # # training Vocabulary size\n",
    "    trainingVocabSize = sorted(list(set(totalTrainingWords)))\n",
    "\n",
    "    ## Total number of lines\n",
    "    linesCount = len(data_train[\"tokens\"])\n",
    "    \n",
    "    tokenizer = Tokenizer(num_words=len(trainingVocabSize), lower=True, char_level=False)\n",
    "    tokenizer.fit_on_texts(data_train[\"Text_Final\"].tolist())\n",
    "    training_sequences = tokenizer.texts_to_sequences(data_train[\"Text_Final\"].tolist())\n",
    "\n",
    "    train_word_index = tokenizer.word_index\n",
    "    cnnTrainData = pad_sequences(training_sequences, maxlen=MAX_SEQUENCE_LENGTH)\n",
    "    \n",
    "    train_embedding_weights = np.zeros((len(train_word_index)+1, EMBEDDING_DIM))\n",
    "    \n",
    "    for word,index in train_word_index.items():\n",
    "        train_embedding_weights[index,:] = word2vec[word] if word in word2vec else np.random.rand(EMBEDDING_DIM)\n",
    "        \n",
    "    test_sequences = tokenizer.texts_to_sequences(data_test[\"Text_Final\"].tolist())\n",
    "    cnnTestData = pad_sequences(test_sequences, maxlen= MAX_SEQUENCE_LENGTH)\n",
    "    \n",
    "    # Splitting train data into X_train and y_train\n",
    "    y_train = data_train[label_names].values\n",
    "    x_train = cnnTrainData\n",
    "    y_tr = y_train\n",
    "    \n",
    "    # Splitting train data into X_test and y_test\n",
    "    y_test = data_test[label_names].values\n",
    "    x_test = cnnTestData\n",
    "    y_tst = y_test\n",
    "    \n",
    "    # create model\n",
    "    model = ConvolutionalNeuralNet(train_embedding_weights, MAX_SEQUENCE_LENGTH, len(train_word_index)+1, EMBEDDING_DIM, len(list(label_names)))\n",
    "    \n",
    "    #Train Model\n",
    "    history = model.fit(x_train, y_tr, epochs=num_epochs, validation_split=0.1, shuffle=True, batch_size=batch_size)\n",
    "      \n",
    "    # model evaluate\n",
    "    \n",
    "    print(\"Results for current fold:\")\n",
    "    results.append(model.evaluate(x_test, y_tst, batch_size=128))\n",
    "\n",
    "    predictions = model.predict(cnnTestData, batch_size=1024, verbose=0)\n",
    "    oos_y.append(y_test)\n",
    "    oos_pred.append(predictions)\n",
    "    score = np.sqrt(metrics.mean_squared_error(predictions, y_test))\n",
    "    f_score.append(score)\n",
    "   "
   ]
  },
  {
   "cell_type": "code",
   "execution_count": 66,
   "metadata": {},
   "outputs": [
    {
     "name": "stdout",
     "output_type": "stream",
     "text": [
      "Kfold Mean using evaluate on test data:  0.9350790619850159\n"
     ]
    }
   ],
   "source": [
    "import statistics \n",
    "\n",
    "score_val = []\n",
    "for i in results:\n",
    "    score_val.append(i[1])\n",
    "x = statistics.mean(score_val)\n",
    "    \n",
    "print(\"Kfold Mean using evaluate on test data: \", x)\n"
   ]
  },
  {
   "cell_type": "code",
   "execution_count": 70,
   "metadata": {},
   "outputs": [
    {
     "name": "stdout",
     "output_type": "stream",
     "text": [
      "2\n"
     ]
    }
   ],
   "source": [
    "# 2\n",
    "texts = [\"@_ROB_29 If this was a Muslim girl in Afghanistan you'd call her a terrorist\"]\n",
    "print(makeprediction(texts))"
   ]
  },
  {
   "cell_type": "code",
   "execution_count": 71,
   "metadata": {},
   "outputs": [
    {
     "name": "stdout",
     "output_type": "stream",
     "text": [
      "2\n"
     ]
    }
   ],
   "source": [
    "# 1\n",
    "texts = [\"My tl is filled with Shia-Sunni controversy. I should've deactivated before Moharram started.\"]\n",
    "print(makeprediction(texts))"
   ]
  },
  {
   "cell_type": "code",
   "execution_count": 72,
   "metadata": {},
   "outputs": [
    {
     "name": "stdout",
     "output_type": "stream",
     "text": [
      "Hindi:  'गाजा में दीवाली   की ढेरो बधाई मित्रो 😊💐  #IsraeliBombing 😂😂\n",
      "Translated: 'Happy Diwali greetings in Gaza Friends 😊💐 #IsraeliBombing 😂😂\n",
      "Predicted Label:  2\n"
     ]
    }
   ],
   "source": [
    "# 2\n",
    "hin_text =  \"'गाजा में दीवाली   की ढेरो बधाई मित्रो 😊💐  #IsraeliBombing 😂😂\"\n",
    "print(\"Hindi: \", hin_text)\n",
    "\n",
    "trans = translator.translate(hin_text, dest='en')\n",
    "print('Translated:', trans.text)\n",
    "texts = [trans.text]\n",
    "print('Predicted Label: ',makeprediction(texts))"
   ]
  },
  {
   "cell_type": "code",
   "execution_count": 85,
   "metadata": {},
   "outputs": [
    {
     "name": "stdout",
     "output_type": "stream",
     "text": [
      "Hindi:   समाज वादी  पार्टी  जिंदाबाद \n",
      "Translated: Samajwadi Party Zindabad\n",
      "Predicted Label:  1\n"
     ]
    }
   ],
   "source": [
    "# 0\n",
    "hin_text =  \" समाज वादी  पार्टी जिंदाबाद \"\n",
    "print(\"Hindi: \", hin_text)\n",
    "\n",
    "trans = translator.translate(hin_text, dest='en')\n",
    "print('Translated:', trans.text)\n",
    "texts = [trans.text]\n",
    "print('Predicted Label: ',makeprediction(texts))"
   ]
  },
  {
   "cell_type": "code",
   "execution_count": 74,
   "metadata": {},
   "outputs": [
    {
     "name": "stdout",
     "output_type": "stream",
     "text": [
      "Hindi:  इसलाम सुंदर है\n",
      "Translated: Islam is beautiful\n",
      "Predicted Label:  1\n"
     ]
    }
   ],
   "source": [
    "# 1\n",
    "hin_text =  \"इसलाम सुंदर है\"\n",
    "print(\"Hindi: \", hin_text)\n",
    "\n",
    "trans = translator.translate(hin_text, dest='en')\n",
    "print('Translated:', trans.text)\n",
    "texts = [trans.text]\n",
    "print('Predicted Label: ',makeprediction(texts))"
   ]
  },
  {
   "cell_type": "markdown",
   "metadata": {},
   "source": [
    "### Reference\n",
    "[1] \"Convolutional Neural Networks for Sentence Classification\" by Yoon Kim\n"
   ]
  }
 ],
 "metadata": {
  "kernelspec": {
   "display_name": "Python 3",
   "language": "python",
   "name": "python3"
  },
  "language_info": {
   "codemirror_mode": {
    "name": "ipython",
    "version": 3
   },
   "file_extension": ".py",
   "mimetype": "text/x-python",
   "name": "python",
   "nbconvert_exporter": "python",
   "pygments_lexer": "ipython3",
   "version": "3.8.5"
  }
 },
 "nbformat": 4,
 "nbformat_minor": 4
}
