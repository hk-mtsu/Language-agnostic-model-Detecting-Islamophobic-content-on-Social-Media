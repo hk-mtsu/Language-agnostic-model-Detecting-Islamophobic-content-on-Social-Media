{
 "cells": [
  {
   "cell_type": "markdown",
   "metadata": {},
   "source": [
    "\n",
    "# Convolutional Neural Network CNN\n",
    "1. Using Word2Vec implementing CNN model\n",
    "2. Dispaly Confusion Matrix, precision, recall and F1-score\n",
    "3. Display few prediction using predict module. \n",
    "4. Get 10-fold Average of the CNN model."
   ]
  },
  {
   "cell_type": "code",
   "execution_count": 217,
   "metadata": {},
   "outputs": [],
   "source": [
    "from __future__ import division, print_function\n",
    "\n",
    "# dataframe\n",
    "import pandas as pd\n",
    "\n",
    "# numpy array\n",
    "import numpy as np\n",
    "\n",
    "# figures visualization\n",
    "import matplotlib.pyplot as plt\n",
    "from sklearn.metrics import confusion_matrix \n",
    "import seaborn as sns\n",
    "\n",
    "# calc accuracy\n",
    "from sklearn.metrics import accuracy_score \n",
    "from sklearn.metrics import classification_report \n",
    "\n",
    "# word2vec\n",
    "import gensim \n",
    "from gensim import models\n",
    "from gensim.models import Word2Vec \n",
    "from gensim.models import KeyedVectors\n",
    "\n",
    "# CNN model and keras preprocessing\n",
    "import keras\n",
    "from keras.callbacks import ModelCheckpoint\n",
    "from keras.layers import Dense, Dropout, Reshape, Flatten, concatenate, Input, Conv1D, GlobalMaxPooling1D, Embedding, Conv2D, GlobalMaxPooling2D\n",
    "from keras.models import Sequential\n",
    "from keras.models import Model\n",
    "from keras.preprocessing.text import Tokenizer\n",
    "from keras.preprocessing.sequence import pad_sequences\n",
    "\n",
    "# nltk data preprocessing\n",
    "import nltk\n",
    "from nltk import word_tokenize\n",
    "from nltk.tokenize import sent_tokenize \n",
    "from nltk.stem import WordNetLemmatizer\n",
    "\n",
    "# stopword - remove buzz word\n",
    "from nltk.corpus import stopwords\n",
    "\n",
    "# splitting data\n",
    "from sklearn.model_selection import train_test_split\n",
    "\n",
    "# punctuation - data imbalance\n",
    "import collections\n",
    "import re\n",
    "import string\n",
    "\n",
    "# File path\n",
    "import os\n",
    "import os.path\n",
    "from os import path\n",
    "\n",
    "# Translator\n",
    "import googletrans\n",
    "from googletrans import Translator"
   ]
  },
  {
   "cell_type": "code",
   "execution_count": 290,
   "metadata": {},
   "outputs": [],
   "source": [
    "# original english file\n",
    "filename  = 'Eng-Hin-data/english-anot-shuffled'\n",
    "orig_df = pd.read_csv(filename + '.csv',  \n",
    "               delimiter=',')\n",
    "orig_df.columns = ['Text', 'Label']"
   ]
  },
  {
   "cell_type": "code",
   "execution_count": 293,
   "metadata": {},
   "outputs": [],
   "source": [
    "# Run only for English data \n",
    "orig_df[\"Text\"] = orig_df[\"Text\"].astype(str)\n",
    "orig_df[\"Label\"] = orig_df[\"Label\"].astype(str)\n",
    "data = orig_df"
   ]
  },
  {
   "cell_type": "code",
   "execution_count": 291,
   "metadata": {},
   "outputs": [
    {
     "data": {
      "text/plain": [
       "<bound method NDFrame.head of                                                    Text  Label\n",
       "0     '@Cricket_Mann And they will see more of it no...      0\n",
       "1     \"Juma'at Kareem to all my Muslim brother aroun...      1\n",
       "2     'Thorpe becomes England head coach for Pakista...      0\n",
       "3     '@ParZevil Plymouth Cricket. THREE transmissions.      0\n",
       "4     'jungkook didnâ€™t get caught eating food duri...      1\n",
       "...                                                 ...    ...\n",
       "8433  '@xmufcalisha Looking like a cricket scoreline...      0\n",
       "8434  'QAnon is a terrorist organisation. Trump is n...      2\n",
       "8435  'No franchise cricket tournament has a better ...      0\n",
       "8436  'we are not against every muslim but for that ...      2\n",
       "8437  'Happy First Muharram ðŸ¥³ðŸŽŠðŸŽ‰  May Allah ...      1\n",
       "\n",
       "[8438 rows x 2 columns]>"
      ]
     },
     "execution_count": 291,
     "metadata": {},
     "output_type": "execute_result"
    }
   ],
   "source": [
    "orig_df.head"
   ]
  },
  {
   "cell_type": "code",
   "execution_count": 292,
   "metadata": {},
   "outputs": [
    {
     "data": {
      "text/plain": [
       "\"'@SakibulHoque8 @ImranKhanPTI Terrorist is a Muslim.ðŸ˜€\""
      ]
     },
     "execution_count": 292,
     "metadata": {},
     "output_type": "execute_result"
    }
   ],
   "source": [
    "orig_df.Text[6]"
   ]
  },
  {
   "cell_type": "code",
   "execution_count": 287,
   "metadata": {},
   "outputs": [
    {
     "data": {
      "text/plain": [
       "\"'Today also my cricket love has ended\""
      ]
     },
     "execution_count": 287,
     "metadata": {},
     "output_type": "execute_result"
    }
   ],
   "source": [
    "df.Text[6]"
   ]
  },
  {
   "cell_type": "markdown",
   "metadata": {},
   "source": [
    "### Class count"
   ]
  },
  {
   "cell_type": "code",
   "execution_count": 294,
   "metadata": {},
   "outputs": [
    {
     "data": {
      "image/png": "[encoded data removed]",
      "text/plain": [
       "<Figure size 432x288 with 1 Axes>"
      ]
     },
     "metadata": {
      "needs_background": "light"
     },
     "output_type": "display_data"
    }
   ],
   "source": [
    "import matplotlib.pyplot as plt\n",
    "fig = plt.figure(figsize=(6,4))\n",
    "df.groupby('Label').Text.count().plot.bar(ylim=0)\n",
    "plt.show()"
   ]
  },
  {
   "cell_type": "code",
   "execution_count": 295,
   "metadata": {},
   "outputs": [
    {
     "data": {
      "text/plain": [
       "2    3374\n",
       "0    3245\n",
       "1    2174\n",
       "Name: Label, dtype: int64"
      ]
     },
     "execution_count": 295,
     "metadata": {},
     "output_type": "execute_result"
    }
   ],
   "source": [
    "# For entire dataset sentences for each labels \n",
    "df.Label.value_counts()"
   ]
  },
  {
   "cell_type": "markdown",
   "metadata": {},
   "source": [
    "### Data Preprocessing"
   ]
  },
  {
   "cell_type": "code",
   "execution_count": 296,
   "metadata": {},
   "outputs": [],
   "source": [
    "# People usually join sentences using more than one colon \n",
    "\n",
    "def ReplaceDoubleColon(inputString):\n",
    "    return inputString.replace(\"..\", \" \") \n",
    "\n",
    "data['Text'] = data['Text'].apply(lambda x: ReplaceDoubleColon(x))\n",
    "\n",
    "def ReplaceTripleColon(inputString):\n",
    "    return inputString.replace(\"...\", \" \") \n",
    "\n",
    "data['Text'] = data['Text'].apply(lambda x: ReplaceTripleColon(x))\n",
    "\n",
    "def ReplaceFourColon(inputString):\n",
    "    return inputString.replace(\"....\", \" \") \n",
    "\n",
    "data['Text'] = data['Text'].apply(lambda x: ReplaceFourColon(x))"
   ]
  },
  {
   "cell_type": "code",
   "execution_count": 297,
   "metadata": {},
   "outputs": [],
   "source": [
    "def textPattern(text):\n",
    "\n",
    "    # Clean the text\n",
    "    text = re.sub(r\"[^A-Za-z0-9^,!.\\/'+-=]\", \" \", text)\n",
    "    text = re.sub(r\" \\n \", \" \", text)\n",
    "    text = re.sub(r\"what's\", \"what is\", text)\n",
    "    text = re.sub(r\"\\'s\", \" \", text)\n",
    "    text = re.sub(r\"\\'ve\", \"have\", text)\n",
    "    text = re.sub(r\"can't\", \"can not\", text)\n",
    "    text = re.sub(r\"aren't\", \"are not\", text)\n",
    "    text = re.sub(r\"couldn't\", \"could not\", text)\n",
    "    text = re.sub(r\"didn't\", \"did not\", text)\n",
    "    text = re.sub(r\"doesn't\", \"does not\", text)\n",
    "    text = re.sub(r\"don't\", \"do not\", text)\n",
    "    text = re.sub(r\"hadn't\", \"had not\", text)\n",
    "    text = re.sub(r\"hasn't\", \"has not\", text)\n",
    "    text = re.sub(r\"haven't\", \"have not\", text)\n",
    "    text = re.sub(r\"isn't\", \"is not\", text)\n",
    "    text = re.sub(r\"shouldn't\", \"should not\", text)\n",
    "    text = re.sub(r\"wasn't\", \"was not\", text)\n",
    "    text = re.sub(r\"weren't\", \"were not\", text)\n",
    "    text = re.sub(r\"won't\", \"will not\", text)\n",
    "    text = re.sub(r\"wouldn't\", \"would not\", text)\n",
    "    text = re.sub(r\"mustn't\", \"must not\", text)\n",
    "    text = re.sub(r\"i'm\", \"i am\", text)\n",
    "    text = re.sub(r\"\\'re\", \"are\", text)\n",
    "    text = re.sub(r\",\", \" \", text)\n",
    "    text = re.sub(r\"\\.\", \" \", text)\n",
    "    text = re.sub(r\"!\", \" \", text)\n",
    "    text = re.sub(r\"\\/\", \" \", text)\n",
    "    text = re.sub(r\"\\^\", \" ^ \", text)\n",
    "    text = re.sub(r\"\\+\", \" \", text)\n",
    "    text = re.sub(r\"\\-\", \" - \", text)\n",
    "    text = re.sub(r\"\\= =\", \" \", text)\n",
    "    text = re.sub(r\"\\==\", \" \", text)\n",
    "    text = re.sub(r\"'\", \" \", text)\n",
    "    text = re.sub(r\"(\\d+)(k)\", r\"\\g<1>000\", text)\n",
    "    text = re.sub(r\":\", \" : \", text)\n",
    "    text = re.sub(r\"\\0s\", \"0\", text)\n",
    "    text = re.sub(r\" 9 11 \", \"911\", text)\n",
    "    text = re.sub(r\"\\s{2,}\", \" \", text)\n",
    "    return text\n",
    "\n",
    "data['Text'] = data['Text'].apply(lambda x: textPattern(x))"
   ]
  },
  {
   "cell_type": "code",
   "execution_count": 298,
   "metadata": {},
   "outputs": [
    {
     "data": {
      "text/plain": [
       "(8438, 2)"
      ]
     },
     "execution_count": 298,
     "metadata": {},
     "output_type": "execute_result"
    }
   ],
   "source": [
    "data.shape"
   ]
  },
  {
   "cell_type": "code",
   "execution_count": 299,
   "metadata": {},
   "outputs": [],
   "source": [
    "# Word Tokenization\n",
    "tokens = [word_tokenize(sen) for sen in data.Text]"
   ]
  },
  {
   "cell_type": "code",
   "execution_count": 300,
   "metadata": {},
   "outputs": [],
   "source": [
    "# Lower Case\n",
    "def lower_token(tokens): \n",
    "    return [w.lower() for w in tokens]    \n",
    "    \n",
    "lower_tokens = [lower_token(token) for token in tokens]"
   ]
  },
  {
   "cell_type": "code",
   "execution_count": 301,
   "metadata": {},
   "outputs": [],
   "source": [
    "# Remove Link\n",
    "\n",
    "def removeLink(token):\n",
    "    word = []\n",
    "    for w in token:\n",
    "        if not w.startswith('http'):\n",
    "            word.append(w)\n",
    "    return word \n",
    "    \n",
    "removedLink_tokens = [removeLink(token) for token in lower_tokens]"
   ]
  },
  {
   "cell_type": "code",
   "execution_count": 302,
   "metadata": {},
   "outputs": [],
   "source": [
    "# Word Lemmatization\n",
    "def lemmatization(token):\n",
    "    return [lemmatizer.lemmatize(w) for w in token] \n",
    "\n",
    "lemmatizer = WordNetLemmatizer()\n",
    "\n",
    "lemmatized_tokens = [lemmatization(token) for token in removedLink_tokens]"
   ]
  },
  {
   "cell_type": "code",
   "execution_count": 303,
   "metadata": {},
   "outputs": [],
   "source": [
    "# Removing Stopwords\n",
    "stoplist = stopwords.words('english')"
   ]
  },
  {
   "cell_type": "code",
   "execution_count": 304,
   "metadata": {},
   "outputs": [],
   "source": [
    "def removeStopWords(tokens): \n",
    "    return [word for word in tokens if word not in stoplist]\n",
    "\n",
    "filtered_words = [removeStopWords(sen) for sen in lemmatized_tokens]\n",
    "data['Text_Final'] = [' '.join(sen) for sen in filtered_words]\n",
    "data['tokens'] = filtered_words"
   ]
  },
  {
   "cell_type": "code",
   "execution_count": 305,
   "metadata": {},
   "outputs": [],
   "source": [
    "zero  = []\n",
    "one = []\n",
    "two = []\n",
    "for l in data.Label:\n",
    "    \n",
    "    if l == '0':\n",
    "        zero.append(1)\n",
    "        one.append(0)\n",
    "        two.append(0)\n",
    "    elif l == '1':\n",
    "        zero.append(0)\n",
    "        one.append(1)\n",
    "        two.append(0)\n",
    "    elif l == '2':\n",
    "        zero.append(0)\n",
    "        one.append(0)\n",
    "        two.append(1)\n",
    "        \n",
    "data['0']= zero\n",
    "data['1']= one\n",
    "data['2']= two\n",
    "\n",
    "data = data[['Text_Final', 'tokens', 'Label', '0', '1', '2']]"
   ]
  },
  {
   "cell_type": "code",
   "execution_count": 306,
   "metadata": {},
   "outputs": [
    {
     "data": {
      "text/html": [
       "<div>\n",
       "<style scoped>\n",
       "    .dataframe tbody tr th:only-of-type {\n",
       "        vertical-align: middle;\n",
       "    }\n",
       "\n",
       "    .dataframe tbody tr th {\n",
       "        vertical-align: top;\n",
       "    }\n",
       "\n",
       "    .dataframe thead th {\n",
       "        text-align: right;\n",
       "    }\n",
       "</style>\n",
       "<table border=\"1\" class=\"dataframe\">\n",
       "  <thead>\n",
       "    <tr style=\"text-align: right;\">\n",
       "      <th></th>\n",
       "      <th>Text_Final</th>\n",
       "      <th>tokens</th>\n",
       "      <th>Label</th>\n",
       "      <th>0</th>\n",
       "      <th>1</th>\n",
       "      <th>2</th>\n",
       "      <th>Category_id</th>\n",
       "    </tr>\n",
       "  </thead>\n",
       "  <tbody>\n",
       "    <tr>\n",
       "      <th>0</th>\n",
       "      <td>cricket mann see starting earlier</td>\n",
       "      <td>[cricket, mann, see, starting, earlier]</td>\n",
       "      <td>0</td>\n",
       "      <td>1</td>\n",
       "      <td>0</td>\n",
       "      <td>0</td>\n",
       "      <td>0</td>\n",
       "    </tr>\n",
       "    <tr>\n",
       "      <th>1</th>\n",
       "      <td>juma kareem muslim brother around world alhamd...</td>\n",
       "      <td>[juma, kareem, muslim, brother, around, world,...</td>\n",
       "      <td>1</td>\n",
       "      <td>0</td>\n",
       "      <td>1</td>\n",
       "      <td>0</td>\n",
       "      <td>1</td>\n",
       "    </tr>\n",
       "    <tr>\n",
       "      <th>2</th>\n",
       "      <td>thorpe becomes england head coach pakistan t20...</td>\n",
       "      <td>[thorpe, becomes, england, head, coach, pakist...</td>\n",
       "      <td>0</td>\n",
       "      <td>1</td>\n",
       "      <td>0</td>\n",
       "      <td>0</td>\n",
       "      <td>0</td>\n",
       "    </tr>\n",
       "    <tr>\n",
       "      <th>3</th>\n",
       "      <td>parzevil plymouth cricket three transmission</td>\n",
       "      <td>[parzevil, plymouth, cricket, three, transmiss...</td>\n",
       "      <td>0</td>\n",
       "      <td>1</td>\n",
       "      <td>0</td>\n",
       "      <td>0</td>\n",
       "      <td>0</td>\n",
       "    </tr>\n",
       "    <tr>\n",
       "      <th>4</th>\n",
       "      <td>jungkook get caught eating food ramadan imaam ...</td>\n",
       "      <td>[jungkook, get, caught, eating, food, ramadan,...</td>\n",
       "      <td>1</td>\n",
       "      <td>0</td>\n",
       "      <td>1</td>\n",
       "      <td>0</td>\n",
       "      <td>1</td>\n",
       "    </tr>\n",
       "    <tr>\n",
       "      <th>5</th>\n",
       "      <td>mystic24g joyantakarmoker hate hindu come vers...</td>\n",
       "      <td>[mystic24g, joyantakarmoker, hate, hindu, come...</td>\n",
       "      <td>2</td>\n",
       "      <td>0</td>\n",
       "      <td>0</td>\n",
       "      <td>1</td>\n",
       "      <td>2</td>\n",
       "    </tr>\n",
       "    <tr>\n",
       "      <th>6</th>\n",
       "      <td>sakibulhoque8 imrankhanpti terrorist muslim</td>\n",
       "      <td>[sakibulhoque8, imrankhanpti, terrorist, muslim]</td>\n",
       "      <td>2</td>\n",
       "      <td>0</td>\n",
       "      <td>0</td>\n",
       "      <td>1</td>\n",
       "      <td>2</td>\n",
       "    </tr>\n",
       "    <tr>\n",
       "      <th>7</th>\n",
       "      <td>aatishtaseer tavleen singh ajenglish jehadi vi...</td>\n",
       "      <td>[aatishtaseer, tavleen, singh, ajenglish, jeha...</td>\n",
       "      <td>2</td>\n",
       "      <td>0</td>\n",
       "      <td>0</td>\n",
       "      <td>1</td>\n",
       "      <td>2</td>\n",
       "    </tr>\n",
       "    <tr>\n",
       "      <th>8</th>\n",
       "      <td>sairashahhalim pbhushan1 end islamic terrorism</td>\n",
       "      <td>[sairashahhalim, pbhushan1, end, islamic, terr...</td>\n",
       "      <td>2</td>\n",
       "      <td>0</td>\n",
       "      <td>0</td>\n",
       "      <td>1</td>\n",
       "      <td>2</td>\n",
       "    </tr>\n",
       "  </tbody>\n",
       "</table>\n",
       "</div>"
      ],
      "text/plain": [
       "                                          Text_Final  \\\n",
       "0                  cricket mann see starting earlier   \n",
       "1  juma kareem muslim brother around world alhamd...   \n",
       "2  thorpe becomes england head coach pakistan t20...   \n",
       "3       parzevil plymouth cricket three transmission   \n",
       "4  jungkook get caught eating food ramadan imaam ...   \n",
       "5  mystic24g joyantakarmoker hate hindu come vers...   \n",
       "6        sakibulhoque8 imrankhanpti terrorist muslim   \n",
       "7  aatishtaseer tavleen singh ajenglish jehadi vi...   \n",
       "8     sairashahhalim pbhushan1 end islamic terrorism   \n",
       "\n",
       "                                              tokens Label  0  1  2  \\\n",
       "0            [cricket, mann, see, starting, earlier]     0  1  0  0   \n",
       "1  [juma, kareem, muslim, brother, around, world,...     1  0  1  0   \n",
       "2  [thorpe, becomes, england, head, coach, pakist...     0  1  0  0   \n",
       "3  [parzevil, plymouth, cricket, three, transmiss...     0  1  0  0   \n",
       "4  [jungkook, get, caught, eating, food, ramadan,...     1  0  1  0   \n",
       "5  [mystic24g, joyantakarmoker, hate, hindu, come...     2  0  0  1   \n",
       "6   [sakibulhoque8, imrankhanpti, terrorist, muslim]     2  0  0  1   \n",
       "7  [aatishtaseer, tavleen, singh, ajenglish, jeha...     2  0  0  1   \n",
       "8  [sairashahhalim, pbhushan1, end, islamic, terr...     2  0  0  1   \n",
       "\n",
       "  Category_id  \n",
       "0           0  \n",
       "1           1  \n",
       "2           0  \n",
       "3           0  \n",
       "4           1  \n",
       "5           2  \n",
       "6           2  \n",
       "7           2  \n",
       "8           2  "
      ]
     },
     "execution_count": 306,
     "metadata": {},
     "output_type": "execute_result"
    }
   ],
   "source": [
    "category_id = []\n",
    "for l in data.Label:\n",
    "    \n",
    "    if l == '0':\n",
    "        category_id.append('0')\n",
    "    elif l == '1':\n",
    "        category_id.append('1')\n",
    "    elif l == '2':\n",
    "        category_id.append('2')\n",
    "        \n",
    "data['Category_id'] = category_id\n",
    "\n",
    "data = data[['Text_Final', 'tokens', 'Label', '0', '1', '2', 'Category_id' ]]\n",
    "data.head(9)"
   ]
  },
  {
   "cell_type": "code",
   "execution_count": 307,
   "metadata": {},
   "outputs": [],
   "source": [
    "from io import StringIO\n",
    "category_id_df = data[['Label', 'Category_id']].drop_duplicates().sort_values('Category_id')\n",
    "category_to_label_dict = dict(category_id_df.values)\n",
    "label_to_category_dict = dict(category_id_df[['Category_id', 'Label']].values)"
   ]
  },
  {
   "cell_type": "markdown",
   "metadata": {},
   "source": [
    "#### Split Data into test and train\n",
    "We will use 90 % data for training and 20 % for testing. We use random state so every time we get the same training and testing data."
   ]
  },
  {
   "cell_type": "code",
   "execution_count": 308,
   "metadata": {},
   "outputs": [
    {
     "data": {
      "text/plain": [
       "(8438, 7)"
      ]
     },
     "execution_count": 308,
     "metadata": {},
     "output_type": "execute_result"
    }
   ],
   "source": [
    "data.shape"
   ]
  },
  {
   "cell_type": "code",
   "execution_count": 309,
   "metadata": {},
   "outputs": [],
   "source": [
    "data_train, data_test = train_test_split(data, test_size=0.10, random_state=42)\n"
   ]
  },
  {
   "cell_type": "code",
   "execution_count": 310,
   "metadata": {},
   "outputs": [],
   "source": [
    "# # total training words\n",
    "totalTrainingWords = [word for tokens in data_train[\"tokens\"] for word in tokens]\n",
    "\n",
    "# # Storing Length of the training sentence\n",
    "lengthTrainingSentences = [len(tokens) for tokens in data_train[\"tokens\"]]\n",
    "\n",
    "# # training Vocabulary size\n",
    "trainingVocabSize = sorted(list(set(totalTrainingWords)))\n",
    "\n",
    "## Total number of lines\n",
    "linesCount = len(data_train[\"tokens\"])"
   ]
  },
  {
   "cell_type": "markdown",
   "metadata": {},
   "source": [
    "### Load Google Word2vec model"
   ]
  },
  {
   "cell_type": "code",
   "execution_count": 349,
   "metadata": {},
   "outputs": [],
   "source": [
    "word2vec_path = 'GoogleNews-vectors-negative300.bin'"
   ]
  },
  {
   "cell_type": "code",
   "execution_count": 350,
   "metadata": {},
   "outputs": [],
   "source": [
    "from gensim import models\n",
    "word2vec = models.KeyedVectors.load_word2vec_format(word2vec_path, binary=True)\n"
   ]
  },
  {
   "cell_type": "code",
   "execution_count": 351,
   "metadata": {},
   "outputs": [
    {
     "data": {
      "text/plain": [
       "<gensim.models.keyedvectors.Word2VecKeyedVectors at 0x7f6164b97430>"
      ]
     },
     "execution_count": 351,
     "metadata": {},
     "output_type": "execute_result"
    }
   ],
   "source": [
    "word2vec"
   ]
  },
  {
   "cell_type": "code",
   "execution_count": 352,
   "metadata": {},
   "outputs": [],
   "source": [
    "MAX_SEQUENCE_LENGTH = 150\n",
    "EMBEDDING_DIM = 300"
   ]
  },
  {
   "cell_type": "markdown",
   "metadata": {},
   "source": [
    "\n",
    "### Tokenize and Pad sequences"
   ]
  },
  {
   "cell_type": "code",
   "execution_count": 353,
   "metadata": {},
   "outputs": [
    {
     "name": "stdout",
     "output_type": "stream",
     "text": [
      "Found 15267 unique tokens.\n"
     ]
    }
   ],
   "source": [
    "tokenizer = Tokenizer(num_words=len(trainingVocabSize), lower=True, char_level=False)\n",
    "tokenizer.fit_on_texts(data_train[\"Text_Final\"].tolist())\n",
    "training_sequences = tokenizer.texts_to_sequences(data_train[\"Text_Final\"].tolist())\n",
    "\n",
    "train_word_index = tokenizer.word_index\n",
    "print('Found %s unique tokens.' % len(train_word_index))"
   ]
  },
  {
   "cell_type": "code",
   "execution_count": 354,
   "metadata": {},
   "outputs": [],
   "source": [
    "cnnTrainData = pad_sequences(training_sequences, maxlen=MAX_SEQUENCE_LENGTH)"
   ]
  },
  {
   "cell_type": "code",
   "execution_count": 355,
   "metadata": {},
   "outputs": [
    {
     "name": "stdout",
     "output_type": "stream",
     "text": [
      "(15268, 300)\n"
     ]
    }
   ],
   "source": [
    "train_embedding_weights = np.zeros((len(train_word_index)+1, EMBEDDING_DIM))\n",
    "for word,index in train_word_index.items():\n",
    "    train_embedding_weights[index,:] = word2vec[word] if word in word2vec else np.random.rand(EMBEDDING_DIM)\n",
    "print(train_embedding_weights.shape)"
   ]
  },
  {
   "cell_type": "code",
   "execution_count": 356,
   "metadata": {},
   "outputs": [],
   "source": [
    "test_sequences = tokenizer.texts_to_sequences(data_test[\"Text_Final\"].tolist())\n",
    "cnnTestData = pad_sequences(test_sequences, maxlen= MAX_SEQUENCE_LENGTH)"
   ]
  },
  {
   "cell_type": "markdown",
   "metadata": {},
   "source": [
    "### Define CNN"
   ]
  },
  {
   "cell_type": "markdown",
   "metadata": {},
   "source": [
    "The model is from the paper 'Convolutional Neural Networks for Sentence Classification' we have updated the network according to our requirement [1]"
   ]
  },
  {
   "cell_type": "code",
   "execution_count": 357,
   "metadata": {},
   "outputs": [],
   "source": [
    "label_names = ['0', '1', '2']"
   ]
  },
  {
   "cell_type": "code",
   "execution_count": 358,
   "metadata": {},
   "outputs": [],
   "source": [
    "def ConvolutionalNeuralNet(embeddings, max_sequence_length, num_words, embedding_dim, labels_index):\n",
    "    \n",
    "    # Embedding layer\n",
    "    embedding_layer = Embedding(num_words,\n",
    "                            embedding_dim,\n",
    "                            weights=[embeddings],\n",
    "                            input_length=max_sequence_length,\n",
    "                            trainable=False)\n",
    "    \n",
    "    sequence_input = Input(shape=(max_sequence_length,), dtype='int32')\n",
    "    embedded_sequences = embedding_layer(sequence_input)\n",
    "\n",
    "    convs = []\n",
    "    \n",
    "    #Kernal (window) size\n",
    "    filter_sizes = [2,3,4,5]\n",
    "\n",
    "    # Convolution Layer and max-pooling\n",
    "    for filter_size in filter_sizes:\n",
    "        l_conv = Conv1D(filters=512, kernel_size=filter_size, activation='relu')(embedded_sequences)\n",
    "        l_pool = GlobalMaxPooling1D()(l_conv)\n",
    "        convs.append(l_pool)\n",
    "        \n",
    "    l_merge = concatenate(convs, axis=1)\n",
    "    \n",
    "    # softmax layer for multiclass identification \n",
    "    x = Dropout(0.1)(l_merge)  \n",
    "    x = Dense(512, activation='relu')(x)\n",
    "    x = Dropout(0.2)(x)\n",
    "    preds = Dense(labels_index, activation='softmax')(x)\n",
    "\n",
    "    model = Model(sequence_input, preds)\n",
    "    model.compile(loss= 'categorical_crossentropy',\n",
    "                 optimizer = keras.optimizers.RMSprop(learning_rate=1e-3),\n",
    "#                    optimizer='adam',\n",
    "                  metrics=['accuracy'])\n",
    "    return model"
   ]
  },
  {
   "cell_type": "code",
   "execution_count": 359,
   "metadata": {},
   "outputs": [],
   "source": [
    "# Splitting train data into X_train and y_train\n",
    "y_train = data_train[label_names].values\n",
    "x_train = cnnTrainData\n",
    "y_tr = y_train"
   ]
  },
  {
   "cell_type": "code",
   "execution_count": 360,
   "metadata": {},
   "outputs": [],
   "source": [
    "# Splitting train data into X_test and y_test\n",
    "y_test = data_test[label_names].values\n",
    "x_test = cnnTestData\n",
    "y_tst = y_test"
   ]
  },
  {
   "cell_type": "code",
   "execution_count": 361,
   "metadata": {},
   "outputs": [],
   "source": [
    "model = ConvolutionalNeuralNet(train_embedding_weights, MAX_SEQUENCE_LENGTH, len(train_word_index)+1, EMBEDDING_DIM, len(list(label_names)))"
   ]
  },
  {
   "cell_type": "code",
   "execution_count": 362,
   "metadata": {},
   "outputs": [
    {
     "name": "stdout",
     "output_type": "stream",
     "text": [
      "Model: \"functional_93\"\n",
      "__________________________________________________________________________________________________\n",
      "Layer (type)                    Output Shape         Param #     Connected to                     \n",
      "==================================================================================================\n",
      "input_47 (InputLayer)           [(None, 150)]        0                                            \n",
      "__________________________________________________________________________________________________\n",
      "embedding_46 (Embedding)        (None, 150, 300)     4580400     input_47[0][0]                   \n",
      "__________________________________________________________________________________________________\n",
      "conv1d_184 (Conv1D)             (None, 149, 512)     307712      embedding_46[0][0]               \n",
      "__________________________________________________________________________________________________\n",
      "conv1d_185 (Conv1D)             (None, 148, 512)     461312      embedding_46[0][0]               \n",
      "__________________________________________________________________________________________________\n",
      "conv1d_186 (Conv1D)             (None, 147, 512)     614912      embedding_46[0][0]               \n",
      "__________________________________________________________________________________________________\n",
      "conv1d_187 (Conv1D)             (None, 146, 512)     768512      embedding_46[0][0]               \n",
      "__________________________________________________________________________________________________\n",
      "global_max_pooling1d_184 (Globa (None, 512)          0           conv1d_184[0][0]                 \n",
      "__________________________________________________________________________________________________\n",
      "global_max_pooling1d_185 (Globa (None, 512)          0           conv1d_185[0][0]                 \n",
      "__________________________________________________________________________________________________\n",
      "global_max_pooling1d_186 (Globa (None, 512)          0           conv1d_186[0][0]                 \n",
      "__________________________________________________________________________________________________\n",
      "global_max_pooling1d_187 (Globa (None, 512)          0           conv1d_187[0][0]                 \n",
      "__________________________________________________________________________________________________\n",
      "concatenate_46 (Concatenate)    (None, 2048)         0           global_max_pooling1d_184[0][0]   \n",
      "                                                                 global_max_pooling1d_185[0][0]   \n",
      "                                                                 global_max_pooling1d_186[0][0]   \n",
      "                                                                 global_max_pooling1d_187[0][0]   \n",
      "__________________________________________________________________________________________________\n",
      "dropout_92 (Dropout)            (None, 2048)         0           concatenate_46[0][0]             \n",
      "__________________________________________________________________________________________________\n",
      "dense_92 (Dense)                (None, 512)          1049088     dropout_92[0][0]                 \n",
      "__________________________________________________________________________________________________\n",
      "dropout_93 (Dropout)            (None, 512)          0           dense_92[0][0]                   \n",
      "__________________________________________________________________________________________________\n",
      "dense_93 (Dense)                (None, 3)            1539        dropout_93[0][0]                 \n",
      "==================================================================================================\n",
      "Total params: 7,783,475\n",
      "Trainable params: 3,203,075\n",
      "Non-trainable params: 4,580,400\n",
      "__________________________________________________________________________________________________\n"
     ]
    }
   ],
   "source": [
    "model.summary()"
   ]
  },
  {
   "cell_type": "markdown",
   "metadata": {},
   "source": [
    "### Train CNN"
   ]
  },
  {
   "cell_type": "code",
   "execution_count": 363,
   "metadata": {},
   "outputs": [],
   "source": [
    "num_epochs = 10\n",
    "batch_size = 512"
   ]
  },
  {
   "cell_type": "code",
   "execution_count": 364,
   "metadata": {},
   "outputs": [
    {
     "name": "stdout",
     "output_type": "stream",
     "text": [
      "Epoch 1/10\n",
      "14/14 [==============================] - 33s 2s/step - loss: 2.9699 - accuracy: 0.6471 - val_loss: 0.3948 - val_accuracy: 0.8289\n",
      "Epoch 2/10\n",
      "14/14 [==============================] - 32s 2s/step - loss: 0.2917 - accuracy: 0.8938 - val_loss: 0.4109 - val_accuracy: 0.8447\n",
      "Epoch 3/10\n",
      "14/14 [==============================] - 32s 2s/step - loss: 0.2445 - accuracy: 0.9148 - val_loss: 0.2358 - val_accuracy: 0.9145\n",
      "Epoch 4/10\n",
      "14/14 [==============================] - 32s 2s/step - loss: 0.2525 - accuracy: 0.9200 - val_loss: 0.1911 - val_accuracy: 0.9316\n",
      "Epoch 5/10\n",
      "14/14 [==============================] - 32s 2s/step - loss: 0.1900 - accuracy: 0.9394 - val_loss: 0.1884 - val_accuracy: 0.9250\n",
      "Epoch 6/10\n",
      "14/14 [==============================] - 32s 2s/step - loss: 0.1226 - accuracy: 0.9590 - val_loss: 0.1960 - val_accuracy: 0.9355\n",
      "Epoch 7/10\n",
      "14/14 [==============================] - 33s 2s/step - loss: 0.1027 - accuracy: 0.9650 - val_loss: 0.6430 - val_accuracy: 0.8355\n",
      "Epoch 8/10\n",
      "14/14 [==============================] - 32s 2s/step - loss: 0.0930 - accuracy: 0.9729 - val_loss: 0.5487 - val_accuracy: 0.8658\n",
      "Epoch 9/10\n",
      "14/14 [==============================] - 32s 2s/step - loss: 0.1236 - accuracy: 0.9592 - val_loss: 0.1750 - val_accuracy: 0.9447\n",
      "Epoch 10/10\n",
      "14/14 [==============================] - 32s 2s/step - loss: 0.0313 - accuracy: 0.9924 - val_loss: 0.2013 - val_accuracy: 0.9487\n"
     ]
    }
   ],
   "source": [
    "history = model.fit(x_train, y_tr, epochs=num_epochs, validation_split=0.1, shuffle=True, batch_size=batch_size)"
   ]
  },
  {
   "cell_type": "code",
   "execution_count": 365,
   "metadata": {},
   "outputs": [
    {
     "name": "stdout",
     "output_type": "stream",
     "text": [
      "27/27 [==============================] - 2s 60ms/step - loss: 0.2086 - accuracy: 0.9514\n"
     ]
    }
   ],
   "source": [
    "# evaluate on test data\n",
    "results = model.evaluate(x_test, y_tst)"
   ]
  },
  {
   "cell_type": "code",
   "execution_count": 366,
   "metadata": {},
   "outputs": [
    {
     "name": "stdout",
     "output_type": "stream",
     "text": [
      "1/1 [==============================] - 0s 2ms/step\n"
     ]
    }
   ],
   "source": [
    "# predict model\n",
    "predictions = model.predict(cnnTestData, batch_size=1024, verbose=1)"
   ]
  },
  {
   "cell_type": "markdown",
   "metadata": {},
   "source": [
    "### Testing few sentences using our model"
   ]
  },
  {
   "cell_type": "code",
   "execution_count": 367,
   "metadata": {},
   "outputs": [],
   "source": [
    "\n",
    "labels = ['0', '1', '2']\n",
    "\n",
    "def makeprediction(texts):\n",
    "    tk = Tokenizer()\n",
    "    tk.fit_on_texts(texts)\n",
    "    index_list = tk.texts_to_sequences(texts)\n",
    "    x_train = pad_sequences(index_list, maxlen=150)\n",
    "    pred = model.predict(x_train)\n",
    "    result = labels[np.argmax(pred)]\n",
    "    return result"
   ]
  },
  {
   "cell_type": "code",
   "execution_count": 368,
   "metadata": {},
   "outputs": [],
   "source": [
    "prediction_labels=[]\n",
    "for p in predictions:\n",
    "    prediction_labels.append(labels[np.argmax(p)])"
   ]
  },
  {
   "cell_type": "code",
   "execution_count": 369,
   "metadata": {},
   "outputs": [
    {
     "data": {
      "text/plain": [
       "0.9514218009478673"
      ]
     },
     "execution_count": 369,
     "metadata": {},
     "output_type": "execute_result"
    }
   ],
   "source": [
    "sum(data_test.Label==prediction_labels)/len(prediction_labels)"
   ]
  },
  {
   "cell_type": "code",
   "execution_count": 370,
   "metadata": {},
   "outputs": [
    {
     "data": {
      "text/plain": [
       "0    338\n",
       "1    256\n",
       "2    250\n",
       "Name: Label, dtype: int64"
      ]
     },
     "execution_count": 370,
     "metadata": {},
     "output_type": "execute_result"
    }
   ],
   "source": [
    "data_test.Label.value_counts()"
   ]
  },
  {
   "cell_type": "code",
   "execution_count": 371,
   "metadata": {},
   "outputs": [
    {
     "data": {
      "image/png": "[encoded data removed]",
      "text/plain": [
       "<Figure size 432x288 with 2 Axes>"
      ]
     },
     "metadata": {
      "needs_background": "light"
     },
     "output_type": "display_data"
    }
   ],
   "source": [
    "plt.figure(1)\n",
    "# summarize history for accuracy\n",
    "plt.subplot(211)\n",
    "plt.plot(history.history['accuracy'])\n",
    "plt.plot(history.history['val_accuracy'])\n",
    "plt.title('model accuracy')\n",
    "plt.ylabel('accuracy')\n",
    "plt.xlabel('epoch')\n",
    "plt.legend(['train', 'val'], loc='upper left')\n",
    "# summarize history for loss\n",
    "plt.subplot(212)\n",
    "plt.plot(history.history['loss'])\n",
    "plt.plot(history.history['val_loss'])\n",
    "plt.title('model loss')\n",
    "plt.ylabel('loss')\n",
    "plt.xlabel('epoch')\n",
    "plt.legend(['train', 'val'], loc='upper left')\n",
    "plt.tight_layout()\n",
    "plt.show()"
   ]
  },
  {
   "cell_type": "code",
   "execution_count": 372,
   "metadata": {},
   "outputs": [
    {
     "name": "stdout",
     "output_type": "stream",
     "text": [
      "Confusion Matrix :\n",
      "[[329   3   6]\n",
      " [  4 241  11]\n",
      " [  4  13 233]]\n",
      "Accuracy Score : 0.9514218009478673\n",
      "Report : \n",
      "              precision    recall  f1-score   support\n",
      "\n",
      "           0       0.98      0.97      0.97       338\n",
      "           1       0.94      0.94      0.94       256\n",
      "           2       0.93      0.93      0.93       250\n",
      "\n",
      "    accuracy                           0.95       844\n",
      "   macro avg       0.95      0.95      0.95       844\n",
      "weighted avg       0.95      0.95      0.95       844\n",
      "\n"
     ]
    }
   ],
   "source": [
    "results = confusion_matrix(data_test.Label, prediction_labels)\n",
    "print ('Confusion Matrix :')\n",
    "print(results) \n",
    "print ('Accuracy Score :',accuracy_score(data_test.Label, prediction_labels))\n",
    "print ('Report : ')\n",
    "print (classification_report(data_test.Label, prediction_labels))"
   ]
  },
  {
   "cell_type": "code",
   "execution_count": 373,
   "metadata": {},
   "outputs": [
    {
     "name": "stdout",
     "output_type": "stream",
     "text": [
      "                        Convolution Neural Network\n"
     ]
    },
    {
     "data": {
      "image/png": "[encoded data removed]",
      "text/plain": [
       "<Figure size 360x360 with 2 Axes>"
      ]
     },
     "metadata": {
      "needs_background": "light"
     },
     "output_type": "display_data"
    }
   ],
   "source": [
    "from sklearn.metrics import confusion_matrix\n",
    "print(\"                        Convolution Neural Network\")\n",
    "conf_mat = confusion_matrix(data_test.Label, prediction_labels)\n",
    "fig, ax = plt.subplots(figsize=(5,5))\n",
    "sns.heatmap(conf_mat, annot=True, fmt='d', cmap ='YlGnBu',\n",
    "            xticklabels=category_id_df.Label.values, yticklabels=category_id_df.Label.values)\n",
    "plt.ylabel('Actual')\n",
    "plt.xlabel('Predicted')\n",
    "plt.show()"
   ]
  },
  {
   "cell_type": "markdown",
   "metadata": {},
   "source": [
    "### Testing CNN using KFold cross validation"
   ]
  },
  {
   "cell_type": "code",
   "execution_count": 374,
   "metadata": {},
   "outputs": [
    {
     "name": "stdout",
     "output_type": "stream",
     "text": [
      "Fold:  1\n",
      "Epoch 1/5\n",
      "214/214 [==============================] - 41s 192ms/step - loss: 0.4696 - accuracy: 0.8743 - val_loss: 0.1549 - val_accuracy: 0.9500\n",
      "Epoch 2/5\n",
      "214/214 [==============================] - 41s 191ms/step - loss: 0.1487 - accuracy: 0.9532 - val_loss: 0.1885 - val_accuracy: 0.9500\n",
      "Epoch 3/5\n",
      "214/214 [==============================] - 41s 191ms/step - loss: 0.0987 - accuracy: 0.9693 - val_loss: 0.2407 - val_accuracy: 0.9539\n",
      "Epoch 4/5\n",
      "214/214 [==============================] - 41s 192ms/step - loss: 0.0691 - accuracy: 0.9797 - val_loss: 0.2667 - val_accuracy: 0.9592\n",
      "Epoch 5/5\n",
      "214/214 [==============================] - 41s 191ms/step - loss: 0.0496 - accuracy: 0.9876 - val_loss: 0.4294 - val_accuracy: 0.9461\n",
      "Results for current fold:\n",
      "7/7 [==============================] - 1s 180ms/step - loss: 0.5948 - accuracy: 0.9396\n",
      "Fold:  2\n",
      "Epoch 1/5\n",
      "214/214 [==============================] - 41s 192ms/step - loss: 0.4562 - accuracy: 0.8783 - val_loss: 0.2954 - val_accuracy: 0.9013\n",
      "Epoch 2/5\n",
      "214/214 [==============================] - 41s 191ms/step - loss: 0.1570 - accuracy: 0.9517 - val_loss: 0.1282 - val_accuracy: 0.9539\n",
      "Epoch 3/5\n",
      "214/214 [==============================] - 41s 191ms/step - loss: 0.1012 - accuracy: 0.9690 - val_loss: 0.1663 - val_accuracy: 0.9487\n",
      "Epoch 4/5\n",
      "214/214 [==============================] - 41s 190ms/step - loss: 0.0639 - accuracy: 0.9827 - val_loss: 0.2360 - val_accuracy: 0.9579\n",
      "Epoch 5/5\n",
      "214/214 [==============================] - 41s 191ms/step - loss: 0.0514 - accuracy: 0.9871 - val_loss: 0.2559 - val_accuracy: 0.9553\n",
      "Results for current fold:\n",
      "7/7 [==============================] - 1s 183ms/step - loss: 0.2898 - accuracy: 0.9585\n",
      "Fold:  3\n",
      "Epoch 1/5\n",
      "214/214 [==============================] - 41s 192ms/step - loss: 0.4554 - accuracy: 0.8743 - val_loss: 0.1873 - val_accuracy: 0.9382\n",
      "Epoch 2/5\n",
      "214/214 [==============================] - 41s 190ms/step - loss: 0.1562 - accuracy: 0.9492 - val_loss: 0.1525 - val_accuracy: 0.9513\n",
      "Epoch 3/5\n",
      "214/214 [==============================] - 41s 191ms/step - loss: 0.1005 - accuracy: 0.9680 - val_loss: 0.1992 - val_accuracy: 0.9513\n",
      "Epoch 4/5\n",
      "214/214 [==============================] - 41s 190ms/step - loss: 0.0722 - accuracy: 0.9788 - val_loss: 0.2573 - val_accuracy: 0.9592\n",
      "Epoch 5/5\n",
      "214/214 [==============================] - 41s 191ms/step - loss: 0.0671 - accuracy: 0.9849 - val_loss: 0.2511 - val_accuracy: 0.9553\n",
      "Results for current fold:\n",
      "7/7 [==============================] - 1s 183ms/step - loss: 0.2714 - accuracy: 0.9502\n",
      "Fold:  4\n",
      "Epoch 1/5\n",
      "214/214 [==============================] - 41s 191ms/step - loss: 0.4372 - accuracy: 0.8816 - val_loss: 0.1649 - val_accuracy: 0.9408\n",
      "Epoch 2/5\n",
      "214/214 [==============================] - 41s 191ms/step - loss: 0.1550 - accuracy: 0.9497 - val_loss: 0.2730 - val_accuracy: 0.9263\n",
      "Epoch 3/5\n",
      "214/214 [==============================] - 41s 192ms/step - loss: 0.1018 - accuracy: 0.9715 - val_loss: 0.4658 - val_accuracy: 0.9079\n",
      "Epoch 4/5\n",
      "214/214 [==============================] - 41s 190ms/step - loss: 0.0702 - accuracy: 0.9808 - val_loss: 0.2553 - val_accuracy: 0.9632\n",
      "Epoch 5/5\n",
      "214/214 [==============================] - 41s 190ms/step - loss: 0.0581 - accuracy: 0.9864 - val_loss: 0.3033 - val_accuracy: 0.9711\n",
      "Results for current fold:\n",
      "7/7 [==============================] - 1s 182ms/step - loss: 0.2975 - accuracy: 0.9597\n",
      "Fold:  5\n",
      "Epoch 1/5\n",
      "214/214 [==============================] - 41s 192ms/step - loss: 0.4796 - accuracy: 0.8712 - val_loss: 0.1996 - val_accuracy: 0.9289\n",
      "Epoch 2/5\n",
      "214/214 [==============================] - 41s 189ms/step - loss: 0.1568 - accuracy: 0.9502 - val_loss: 0.1707 - val_accuracy: 0.9553\n",
      "Epoch 3/5\n",
      "214/214 [==============================] - 41s 190ms/step - loss: 0.1064 - accuracy: 0.9675 - val_loss: 0.1299 - val_accuracy: 0.9645\n",
      "Epoch 4/5\n",
      "214/214 [==============================] - 41s 191ms/step - loss: 0.0848 - accuracy: 0.9766 - val_loss: 0.2036 - val_accuracy: 0.9697\n",
      "Epoch 5/5\n",
      "214/214 [==============================] - 41s 190ms/step - loss: 0.0535 - accuracy: 0.9842 - val_loss: 0.4056 - val_accuracy: 0.9500\n",
      "Results for current fold:\n",
      "7/7 [==============================] - 1s 181ms/step - loss: 0.4124 - accuracy: 0.9526\n",
      "Fold:  6\n",
      "Epoch 1/5\n",
      "214/214 [==============================] - 41s 192ms/step - loss: 0.4701 - accuracy: 0.8772 - val_loss: 0.2131 - val_accuracy: 0.9250\n",
      "Epoch 2/5\n",
      "214/214 [==============================] - 41s 190ms/step - loss: 0.1513 - accuracy: 0.9505 - val_loss: 0.2596 - val_accuracy: 0.9250\n",
      "Epoch 3/5\n",
      "214/214 [==============================] - 41s 190ms/step - loss: 0.1003 - accuracy: 0.9712 - val_loss: 0.3516 - val_accuracy: 0.9368\n",
      "Epoch 4/5\n",
      "214/214 [==============================] - 41s 191ms/step - loss: 0.0760 - accuracy: 0.9792 - val_loss: 0.3388 - val_accuracy: 0.9513\n",
      "Epoch 5/5\n",
      "214/214 [==============================] - 41s 190ms/step - loss: 0.0483 - accuracy: 0.9858 - val_loss: 0.4888 - val_accuracy: 0.9526\n",
      "Results for current fold:\n",
      "7/7 [==============================] - 1s 181ms/step - loss: 0.4893 - accuracy: 0.9538\n",
      "Fold:  7\n",
      "Epoch 1/5\n",
      "214/214 [==============================] - 41s 192ms/step - loss: 0.4354 - accuracy: 0.8790 - val_loss: 0.1777 - val_accuracy: 0.9382\n",
      "Epoch 2/5\n",
      "214/214 [==============================] - 41s 191ms/step - loss: 0.1516 - accuracy: 0.9527 - val_loss: 0.1821 - val_accuracy: 0.9382\n",
      "Epoch 3/5\n",
      "214/214 [==============================] - 41s 190ms/step - loss: 0.0949 - accuracy: 0.9701 - val_loss: 1.4919 - val_accuracy: 0.7434\n",
      "Epoch 4/5\n",
      "214/214 [==============================] - 41s 190ms/step - loss: 0.0786 - accuracy: 0.9791 - val_loss: 0.4531 - val_accuracy: 0.9237\n",
      "Epoch 5/5\n",
      "214/214 [==============================] - 41s 190ms/step - loss: 0.0586 - accuracy: 0.9851 - val_loss: 0.3752 - val_accuracy: 0.9474\n",
      "Results for current fold:\n",
      "7/7 [==============================] - 1s 181ms/step - loss: 0.2793 - accuracy: 0.9585\n",
      "Fold:  8\n",
      "Epoch 1/5\n",
      "214/214 [==============================] - 41s 192ms/step - loss: 0.4402 - accuracy: 0.8824 - val_loss: 0.2314 - val_accuracy: 0.9237\n",
      "Epoch 2/5\n",
      "214/214 [==============================] - 41s 190ms/step - loss: 0.1579 - accuracy: 0.9516 - val_loss: 0.1904 - val_accuracy: 0.9500\n",
      "Epoch 3/5\n",
      "214/214 [==============================] - 41s 192ms/step - loss: 0.1058 - accuracy: 0.9671 - val_loss: 0.1990 - val_accuracy: 0.9539\n",
      "Epoch 4/5\n",
      "214/214 [==============================] - 41s 191ms/step - loss: 0.0719 - accuracy: 0.9795 - val_loss: 0.3345 - val_accuracy: 0.9329\n",
      "Epoch 5/5\n",
      "214/214 [==============================] - 41s 191ms/step - loss: 0.0638 - accuracy: 0.9849 - val_loss: 0.3071 - val_accuracy: 0.9539\n",
      "Results for current fold:\n",
      "7/7 [==============================] - 1s 185ms/step - loss: 0.3035 - accuracy: 0.9455\n",
      "Fold:  9\n",
      "Epoch 1/5\n",
      "214/214 [==============================] - 41s 193ms/step - loss: 0.4656 - accuracy: 0.8785 - val_loss: 0.3206 - val_accuracy: 0.8908\n",
      "Epoch 2/5\n",
      "214/214 [==============================] - 41s 191ms/step - loss: 0.1479 - accuracy: 0.9524 - val_loss: 0.1961 - val_accuracy: 0.9526\n",
      "Epoch 3/5\n",
      "214/214 [==============================] - 41s 191ms/step - loss: 0.0977 - accuracy: 0.9735 - val_loss: 0.1873 - val_accuracy: 0.9592\n",
      "Epoch 4/5\n",
      "214/214 [==============================] - 41s 191ms/step - loss: 0.0665 - accuracy: 0.9808 - val_loss: 0.3374 - val_accuracy: 0.9566\n",
      "Epoch 5/5\n",
      "214/214 [==============================] - 41s 190ms/step - loss: 0.0641 - accuracy: 0.9867 - val_loss: 0.4657 - val_accuracy: 0.9382\n",
      "Results for current fold:\n",
      "7/7 [==============================] - 1s 185ms/step - loss: 0.5113 - accuracy: 0.9301\n",
      "Fold:  10\n",
      "Epoch 1/5\n",
      "214/214 [==============================] - 41s 192ms/step - loss: 0.4562 - accuracy: 0.8806 - val_loss: 0.1873 - val_accuracy: 0.9342\n",
      "Epoch 2/5\n",
      "214/214 [==============================] - 41s 190ms/step - loss: 0.1469 - accuracy: 0.9532 - val_loss: 0.1783 - val_accuracy: 0.9421\n",
      "Epoch 3/5\n",
      "214/214 [==============================] - 41s 191ms/step - loss: 0.0941 - accuracy: 0.9719 - val_loss: 0.1901 - val_accuracy: 0.9513\n",
      "Epoch 4/5\n",
      "214/214 [==============================] - 41s 190ms/step - loss: 0.0566 - accuracy: 0.9830 - val_loss: 0.2736 - val_accuracy: 0.9461\n",
      "Epoch 5/5\n",
      "214/214 [==============================] - 41s 190ms/step - loss: 0.0534 - accuracy: 0.9862 - val_loss: 0.3134 - val_accuracy: 0.9500\n",
      "Results for current fold:\n",
      "7/7 [==============================] - 1s 188ms/step - loss: 0.4202 - accuracy: 0.9419\n"
     ]
    }
   ],
   "source": [
    "from sklearn.model_selection import StratifiedKFold\n",
    "from scipy.stats import zscore\n",
    "from sklearn import metrics\n",
    "import tensorflow as tf\n",
    "import random\n",
    "\n",
    "f_score=[]\n",
    "fold = 10\n",
    "label_names = ['0', '1', '2']\n",
    "num_epochs = 5\n",
    "batch_size = 32\n",
    "#oos_y = []\n",
    "#oos_pred = []\n",
    "results = []\n",
    "#for train, test in kf.split(data[\"tokens\"], data['Label']):\n",
    "\n",
    "for i in range(fold):\n",
    "    print(\"Fold: \", i+1)\n",
    "    random_num = np.random.randint(1,7000, 1)[0]\n",
    "    data_train, data_test = train_test_split(data, test_size=0.10, shuffle = True, random_state = random_num)\n",
    "\n",
    "    # # total training words\n",
    "    totalTrainingWords = [word for tokens in data_train[\"tokens\"] for word in tokens]\n",
    "\n",
    "    # # Storing Length of the training sentence\n",
    "    lengthTrainingSentences = [len(tokens) for tokens in data_train[\"tokens\"]]\n",
    "\n",
    "    # # training Vocabulary size\n",
    "    trainingVocabSize = sorted(list(set(totalTrainingWords)))\n",
    "\n",
    "    ## Total number of lines\n",
    "    linesCount = len(data_train[\"tokens\"])\n",
    "    \n",
    "    tokenizer = Tokenizer(num_words=len(trainingVocabSize), lower=True, char_level=False)\n",
    "    tokenizer.fit_on_texts(data_train[\"Text_Final\"].tolist())\n",
    "    training_sequences = tokenizer.texts_to_sequences(data_train[\"Text_Final\"].tolist())\n",
    "\n",
    "    train_word_index = tokenizer.word_index\n",
    "    cnnTrainData = pad_sequences(training_sequences, maxlen=MAX_SEQUENCE_LENGTH)\n",
    "    \n",
    "    train_embedding_weights = np.zeros((len(train_word_index)+1, EMBEDDING_DIM))\n",
    "    \n",
    "    for word,index in train_word_index.items():\n",
    "        train_embedding_weights[index,:] = word2vec[word] if word in word2vec else np.random.rand(EMBEDDING_DIM)\n",
    "        \n",
    "    test_sequences = tokenizer.texts_to_sequences(data_test[\"Text_Final\"].tolist())\n",
    "    cnnTestData = pad_sequences(test_sequences, maxlen= MAX_SEQUENCE_LENGTH)\n",
    "    \n",
    "    # Splitting train data into X_train and y_train\n",
    "    y_train = data_train[label_names].values\n",
    "    x_train = cnnTrainData\n",
    "    y_tr = y_train\n",
    "    \n",
    "    # Splitting train data into X_test and y_test\n",
    "    y_test = data_test[label_names].values\n",
    "    x_test = cnnTestData\n",
    "    y_tst = y_test\n",
    "    \n",
    "    # create model\n",
    "    model = ConvolutionalNeuralNet(train_embedding_weights, MAX_SEQUENCE_LENGTH, len(train_word_index)+1, EMBEDDING_DIM, len(list(label_names)))\n",
    "    \n",
    "    #Train Model\n",
    "    history = model.fit(x_train, y_tr, epochs=num_epochs, validation_split=0.1, shuffle=True, batch_size=batch_size)\n",
    "      \n",
    "    # model evaluate\n",
    "    \n",
    "    print(\"Results for current fold:\")\n",
    "    results.append(model.evaluate(x_test, y_tst, batch_size=128))\n",
    "\n",
    "#     predictions = model.predict(cnnTestData, batch_size=1024, verbose=0)\n",
    "#     oos_y.append(y_test)\n",
    "#     oos_pred.append(predictions)\n",
    "    \n",
    "    #score = np.sqrt(metrics.mean_squared_error(predictions, y_test))\n",
    "#    f_score.append(count)\n",
    "\n",
    "model.save('model_CNN.h5')    "
   ]
  },
  {
   "cell_type": "code",
   "execution_count": 375,
   "metadata": {},
   "outputs": [
    {
     "name": "stdout",
     "output_type": "stream",
     "text": [
      "Kfold Mean:  0.9490521252155304\n"
     ]
    }
   ],
   "source": [
    "import statistics \n",
    "# for i in range(len(results)):\n",
    "#     print(\"Fold: \", i+1)\n",
    "#     print(\"test loss, test acc:\", results[i])\n",
    "\n",
    "score = []\n",
    "for i in results:\n",
    "    score.append(i[1])\n",
    "x = statistics.mean(score)\n",
    "    \n",
    "print(\"Kfold Mean: \", x)"
   ]
  },
  {
   "cell_type": "code",
   "execution_count": 376,
   "metadata": {},
   "outputs": [
    {
     "name": "stdout",
     "output_type": "stream",
     "text": [
      "1\n"
     ]
    }
   ],
   "source": [
    "# 0\n",
    "texts = [\"@'England look to clinch Pakistan test series before step into unknown\"]\n",
    "print(makeprediction(texts))"
   ]
  },
  {
   "cell_type": "code",
   "execution_count": 377,
   "metadata": {},
   "outputs": [
    {
     "name": "stdout",
     "output_type": "stream",
     "text": [
      "1\n"
     ]
    }
   ],
   "source": [
    "# 2\n",
    "texts = [\"@_ROB_29 If this was a Muslim girl in Afghanistan you'd call her a terrorist\"]\n",
    "print(makeprediction(texts))"
   ]
  },
  {
   "cell_type": "code",
   "execution_count": 378,
   "metadata": {},
   "outputs": [
    {
     "name": "stdout",
     "output_type": "stream",
     "text": [
      "0\n"
     ]
    }
   ],
   "source": [
    "# 0\n",
    "texts = [\"''In what hopscotch? Cricket?\"]\n",
    "print(makeprediction(texts))"
   ]
  },
  {
   "cell_type": "code",
   "execution_count": 379,
   "metadata": {},
   "outputs": [
    {
     "name": "stdout",
     "output_type": "stream",
     "text": [
      "1\n"
     ]
    }
   ],
   "source": [
    "# 1\n",
    "texts = [\"My tl is filled with Shia-Sunni controversy. I should've deactivated before Moharram started.\"]\n",
    "print(makeprediction(texts))"
   ]
  },
  {
   "cell_type": "markdown",
   "metadata": {},
   "source": [
    "### Reference\n",
    "[1] \"Convolutional Neural Networks for Sentence Classification\" by Yoon Kim\n"
   ]
  }
 ],
 "metadata": {
  "kernelspec": {
   "display_name": "Python 3",
   "language": "python",
   "name": "python3"
  },
  "language_info": {
   "codemirror_mode": {
    "name": "ipython",
    "version": 3
   },
   "file_extension": ".py",
   "mimetype": "text/x-python",
   "name": "python",
   "nbconvert_exporter": "python",
   "pygments_lexer": "ipython3",
   "version": "3.8.5"
  }
 },
 "nbformat": 4,
 "nbformat_minor": 4
}
