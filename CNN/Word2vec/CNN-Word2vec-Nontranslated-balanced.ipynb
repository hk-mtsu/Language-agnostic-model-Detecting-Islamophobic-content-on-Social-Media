{
 "cells": [
  {
   "cell_type": "markdown",
   "metadata": {},
   "source": [
    "\n",
    "# Convolutional Neural Network CNN\n",
    "1. Using Word2Vec implementing CNN model\n",
    "2. Dispaly Confusion Matrix, precision, recall and F1-score\n",
    "3. Display few prediction using predict module. \n",
    "4. Get 10-fold Average of the CNN model."
   ]
  },
  {
   "cell_type": "code",
   "execution_count": 76,
   "metadata": {},
   "outputs": [],
   "source": [
    "from __future__ import division, print_function\n",
    "\n",
    "# dataframe\n",
    "import pandas as pd\n",
    "\n",
    "# numpy array\n",
    "import numpy as np\n",
    "\n",
    "# figures visualization\n",
    "import matplotlib.pyplot as plt\n",
    "from sklearn.metrics import confusion_matrix \n",
    "import seaborn as sns\n",
    "\n",
    "# calc accuracy\n",
    "from sklearn.metrics import accuracy_score \n",
    "from sklearn.metrics import classification_report \n",
    "\n",
    "# word2vec\n",
    "import gensim \n",
    "from gensim import models\n",
    "from gensim.models import Word2Vec \n",
    "from gensim.models import KeyedVectors\n",
    "\n",
    "# CNN model and keras preprocessing\n",
    "import keras\n",
    "from keras.callbacks import ModelCheckpoint\n",
    "from keras.layers import Dense, Dropout, Reshape, Flatten, concatenate, Input, Conv1D, GlobalMaxPooling1D, Embedding, Conv2D, GlobalMaxPooling2D\n",
    "from keras.models import Sequential\n",
    "from keras.models import Model\n",
    "from keras.preprocessing.text import Tokenizer\n",
    "from keras.preprocessing.sequence import pad_sequences\n",
    "\n",
    "# nltk data preprocessing\n",
    "import nltk\n",
    "from nltk import word_tokenize\n",
    "from nltk.tokenize import sent_tokenize \n",
    "from nltk.stem import WordNetLemmatizer\n",
    "\n",
    "# stopword - remove buzz word\n",
    "from nltk.corpus import stopwords\n",
    "\n",
    "# splitting data\n",
    "from sklearn.model_selection import train_test_split\n",
    "\n",
    "# punctuation - data imbalance\n",
    "import collections\n",
    "import re\n",
    "import string\n",
    "\n",
    "# File path\n",
    "import os\n",
    "import os.path\n",
    "from os import path\n"
   ]
  },
  {
   "cell_type": "code",
   "execution_count": 77,
   "metadata": {},
   "outputs": [],
   "source": [
    "# original english file\n",
    "filename  = 'Eng-Hin-data/hindi-anot-shuffled'\n",
    "orig_df = pd.read_csv(filename + '.csv',  \n",
    "               delimiter=',')\n",
    "orig_df.columns = ['Text', 'Label']"
   ]
  },
  {
   "cell_type": "code",
   "execution_count": 78,
   "metadata": {},
   "outputs": [],
   "source": [
    "# Run only for English data \n",
    "orig_df[\"Text\"] = orig_df[\"Text\"].astype(str)\n",
    "orig_df[\"Label\"] = orig_df[\"Label\"].astype(str)"
   ]
  },
  {
   "cell_type": "code",
   "execution_count": 79,
   "metadata": {},
   "outputs": [
    {
     "data": {
      "text/html": [
       "<div>\n",
       "<style scoped>\n",
       "    .dataframe tbody tr th:only-of-type {\n",
       "        vertical-align: middle;\n",
       "    }\n",
       "\n",
       "    .dataframe tbody tr th {\n",
       "        vertical-align: top;\n",
       "    }\n",
       "\n",
       "    .dataframe thead th {\n",
       "        text-align: right;\n",
       "    }\n",
       "</style>\n",
       "<table border=\"1\" class=\"dataframe\">\n",
       "  <thead>\n",
       "    <tr style=\"text-align: right;\">\n",
       "      <th></th>\n",
       "      <th>Text</th>\n",
       "      <th>Label</th>\n",
       "    </tr>\n",
       "  </thead>\n",
       "  <tbody>\n",
       "    <tr>\n",
       "      <th>0</th>\n",
       "      <td>'गाजा में दीवाली   की ढेरो बधाई मित्रो 😊💐  #Is...</td>\n",
       "      <td>2</td>\n",
       "    </tr>\n",
       "    <tr>\n",
       "      <th>1</th>\n",
       "      <td>'@SanjayGadhiaINC @IndiaToday18 अज़ाबे इलाही 👍</td>\n",
       "      <td>1</td>\n",
       "    </tr>\n",
       "    <tr>\n",
       "      <th>2</th>\n",
       "      <td>'आखिर अब #सुशांत_सिंह_राजपूत जी को न्याय मिल ज...</td>\n",
       "      <td>0</td>\n",
       "    </tr>\n",
       "    <tr>\n",
       "      <th>3</th>\n",
       "      <td>'अमीन के 500 से अधिक छात्रों ने सर्वे भवन के ग...</td>\n",
       "      <td>0</td>\n",
       "    </tr>\n",
       "    <tr>\n",
       "      <th>4</th>\n",
       "      <td>'@deoriapolice @Uppolice @myogiadityanath @spg...</td>\n",
       "      <td>0</td>\n",
       "    </tr>\n",
       "    <tr>\n",
       "      <th>5</th>\n",
       "      <td>'@khanumarfa जेहादी सोच जब #राहत_इंदौरी को भी ...</td>\n",
       "      <td>2</td>\n",
       "    </tr>\n",
       "    <tr>\n",
       "      <th>6</th>\n",
       "      <td>'आज के दिन ही मेरा क्रिकेट प्रेम भी समाप्त हो गया</td>\n",
       "      <td>0</td>\n",
       "    </tr>\n",
       "  </tbody>\n",
       "</table>\n",
       "</div>"
      ],
      "text/plain": [
       "                                                Text Label\n",
       "0  'गाजा में दीवाली   की ढेरो बधाई मित्रो 😊💐  #Is...     2\n",
       "1     '@SanjayGadhiaINC @IndiaToday18 अज़ाबे इलाही 👍     1\n",
       "2  'आखिर अब #सुशांत_सिंह_राजपूत जी को न्याय मिल ज...     0\n",
       "3  'अमीन के 500 से अधिक छात्रों ने सर्वे भवन के ग...     0\n",
       "4  '@deoriapolice @Uppolice @myogiadityanath @spg...     0\n",
       "5  '@khanumarfa जेहादी सोच जब #राहत_इंदौरी को भी ...     2\n",
       "6  'आज के दिन ही मेरा क्रिकेट प्रेम भी समाप्त हो गया     0"
      ]
     },
     "execution_count": 79,
     "metadata": {},
     "output_type": "execute_result"
    }
   ],
   "source": [
    "orig_df.head(7)"
   ]
  },
  {
   "cell_type": "code",
   "execution_count": 80,
   "metadata": {},
   "outputs": [],
   "source": [
    "df = orig_df"
   ]
  },
  {
   "cell_type": "markdown",
   "metadata": {},
   "source": [
    "### Class count"
   ]
  },
  {
   "cell_type": "code",
   "execution_count": 81,
   "metadata": {},
   "outputs": [
    {
     "data": {
      "image/png": "[encoded data removed]",
      "text/plain": [
       "<Figure size 432x288 with 1 Axes>"
      ]
     },
     "metadata": {
      "needs_background": "light"
     },
     "output_type": "display_data"
    }
   ],
   "source": [
    "import matplotlib.pyplot as plt\n",
    "fig = plt.figure(figsize=(6,4))\n",
    "df.groupby('Label').Text.count().plot.bar(ylim=0)\n",
    "plt.show()"
   ]
  },
  {
   "cell_type": "code",
   "execution_count": 82,
   "metadata": {},
   "outputs": [
    {
     "data": {
      "text/plain": [
       "2    3375\n",
       "0    3244\n",
       "1    2174\n",
       "Name: Label, dtype: int64"
      ]
     },
     "execution_count": 82,
     "metadata": {},
     "output_type": "execute_result"
    }
   ],
   "source": [
    "# For entire dataset sentences for each labels \n",
    "df.Label.value_counts()"
   ]
  },
  {
   "cell_type": "markdown",
   "metadata": {},
   "source": [
    "### Balancing Data"
   ]
  },
  {
   "cell_type": "code",
   "execution_count": 83,
   "metadata": {},
   "outputs": [],
   "source": [
    "#balancing data \n",
    "from collections import Counter\n",
    "import numpy as np\n",
    "def balanceClasses(xs, ys):\n",
    "    item = {}\n",
    "    new_ys = []\n",
    "    new_xs = []\n",
    "    #\"\"\"Undersample xs, ys to balance classes.\"\"\"\n",
    "    freqs = Counter(ys)\n",
    "    # the most common class  is the maximum number we want for all classes\n",
    "    max_allowable = (freqs.most_common()[0][1])\n",
    "    \n",
    "    for val in freqs.most_common(): # List\n",
    "        nums = np.random.randint(1000)\n",
    "        i = 1\n",
    "        item[val[0]] = max_allowable - val[1]\n",
    "        \n",
    "        if item[val[0]] > 0:            \n",
    "            while(item[val[0]] - i != 0): \n",
    "                nums = nums + 1\n",
    "                if ys[nums] == val[0]:\n",
    "                    i += 1\n",
    "                    new_ys.append(ys[nums])\n",
    "                    new_xs.append(xs[nums])\n",
    "    return new_xs, new_ys"
   ]
  },
  {
   "cell_type": "code",
   "execution_count": 84,
   "metadata": {},
   "outputs": [],
   "source": [
    "new_text, new_label = balanceClasses(df['Text'], df['Label'])"
   ]
  },
  {
   "cell_type": "code",
   "execution_count": 85,
   "metadata": {},
   "outputs": [],
   "source": [
    "data = pd.DataFrame(new_text)\n",
    "data.columns = ['Text']\n",
    "data['Label'] = new_label\n",
    "data = pd.concat([df, data])"
   ]
  },
  {
   "cell_type": "code",
   "execution_count": 86,
   "metadata": {},
   "outputs": [
    {
     "data": {
      "image/png": "[encoded data removed]",
      "text/plain": [
       "<Figure size 432x288 with 1 Axes>"
      ]
     },
     "metadata": {
      "needs_background": "light"
     },
     "output_type": "display_data"
    }
   ],
   "source": [
    "fig1 = plt.figure(figsize=(6,4))\n",
    "data.groupby('Label').Text.count().plot.bar(ylim=0)\n",
    "plt.show()"
   ]
  },
  {
   "cell_type": "code",
   "execution_count": 87,
   "metadata": {},
   "outputs": [
    {
     "data": {
      "text/plain": [
       "2    3375\n",
       "0    3374\n",
       "1    3374\n",
       "Name: Label, dtype: int64"
      ]
     },
     "execution_count": 87,
     "metadata": {},
     "output_type": "execute_result"
    }
   ],
   "source": [
    "data.Label.value_counts()"
   ]
  },
  {
   "cell_type": "code",
   "execution_count": 88,
   "metadata": {},
   "outputs": [
    {
     "data": {
      "text/html": [
       "<div>\n",
       "<style scoped>\n",
       "    .dataframe tbody tr th:only-of-type {\n",
       "        vertical-align: middle;\n",
       "    }\n",
       "\n",
       "    .dataframe tbody tr th {\n",
       "        vertical-align: top;\n",
       "    }\n",
       "\n",
       "    .dataframe thead th {\n",
       "        text-align: right;\n",
       "    }\n",
       "</style>\n",
       "<table border=\"1\" class=\"dataframe\">\n",
       "  <thead>\n",
       "    <tr style=\"text-align: right;\">\n",
       "      <th></th>\n",
       "      <th>Text</th>\n",
       "      <th>Label</th>\n",
       "    </tr>\n",
       "  </thead>\n",
       "  <tbody>\n",
       "    <tr>\n",
       "      <th>0</th>\n",
       "      <td>'@MukeshForInc @ICICIBank हाहा 😂😂 आ रही हैं दी...</td>\n",
       "      <td>0</td>\n",
       "    </tr>\n",
       "    <tr>\n",
       "      <th>1</th>\n",
       "      <td>'@GaneshGINC मुकेश भाकर जिन्दाबाद</td>\n",
       "      <td>0</td>\n",
       "    </tr>\n",
       "    <tr>\n",
       "      <th>2</th>\n",
       "      <td>@Muhamma27229770 @TajinderBagga अरे जिहादी अब ...</td>\n",
       "      <td>2</td>\n",
       "    </tr>\n",
       "    <tr>\n",
       "      <th>3</th>\n",
       "      <td>'@achchheofficial बहुजन समाज पार्टी जिंदाबाद।</td>\n",
       "      <td>0</td>\n",
       "    </tr>\n",
       "    <tr>\n",
       "      <th>4</th>\n",
       "      <td>'@bagga_daku @msdhoni भैया जिंदाबाद</td>\n",
       "      <td>0</td>\n",
       "    </tr>\n",
       "    <tr>\n",
       "      <th>...</th>\n",
       "      <td>...</td>\n",
       "      <td>...</td>\n",
       "    </tr>\n",
       "    <tr>\n",
       "      <th>10118</th>\n",
       "      <td>'@raihanrvadra @RaihanRVadra__ @MeThomasVijaya...</td>\n",
       "      <td>0</td>\n",
       "    </tr>\n",
       "    <tr>\n",
       "      <th>10119</th>\n",
       "      <td>'भारत रत्न उस्ताद बिस्मिल्लाह खान की धरोहर – क...</td>\n",
       "      <td>1</td>\n",
       "    </tr>\n",
       "    <tr>\n",
       "      <th>10120</th>\n",
       "      <td>'@PAPA__Tweets @Chandra79757719 जिहादी मिडिया ...</td>\n",
       "      <td>2</td>\n",
       "    </tr>\n",
       "    <tr>\n",
       "      <th>10121</th>\n",
       "      <td>'सिख धर्म के तृतीय गुरु अमरदास जी के ज्योति ज्...</td>\n",
       "      <td>1</td>\n",
       "    </tr>\n",
       "    <tr>\n",
       "      <th>10122</th>\n",
       "      <td>'@sardanarohit रोहित जी आप क्यों इस मूर्ख जेहा...</td>\n",
       "      <td>2</td>\n",
       "    </tr>\n",
       "  </tbody>\n",
       "</table>\n",
       "<p>10123 rows × 2 columns</p>\n",
       "</div>"
      ],
      "text/plain": [
       "                                                    Text Label\n",
       "0      '@MukeshForInc @ICICIBank हाहा 😂😂 आ रही हैं दी...     0\n",
       "1                      '@GaneshGINC मुकेश भाकर जिन्दाबाद     0\n",
       "2      @Muhamma27229770 @TajinderBagga अरे जिहादी अब ...     2\n",
       "3          '@achchheofficial बहुजन समाज पार्टी जिंदाबाद।     0\n",
       "4                    '@bagga_daku @msdhoni भैया जिंदाबाद     0\n",
       "...                                                  ...   ...\n",
       "10118  '@raihanrvadra @RaihanRVadra__ @MeThomasVijaya...     0\n",
       "10119  'भारत रत्न उस्ताद बिस्मिल्लाह खान की धरोहर – क...     1\n",
       "10120  '@PAPA__Tweets @Chandra79757719 जिहादी मिडिया ...     2\n",
       "10121  'सिख धर्म के तृतीय गुरु अमरदास जी के ज्योति ज्...     1\n",
       "10122  '@sardanarohit रोहित जी आप क्यों इस मूर्ख जेहा...     2\n",
       "\n",
       "[10123 rows x 2 columns]"
      ]
     },
     "execution_count": 88,
     "metadata": {},
     "output_type": "execute_result"
    }
   ],
   "source": [
    "data=data.sample(frac=1).reset_index(drop=True)\n",
    "data"
   ]
  },
  {
   "cell_type": "markdown",
   "metadata": {},
   "source": [
    "### Data Preprocessing"
   ]
  },
  {
   "cell_type": "code",
   "execution_count": 92,
   "metadata": {},
   "outputs": [],
   "source": [
    "def textPattern(text):\n",
    "\n",
    "    # Clean the text\n",
    "    text = re.sub(r\"@\", \" \", text)\n",
    "    text = re.sub(r\",\", \" \", text)\n",
    "    text = re.sub(r\"\\.\", \" \", text)\n",
    "    text = re.sub(r\"!\", \" \", text)\n",
    "    text = re.sub(r\"\\/\", \" \", text)\n",
    "    text = re.sub(r\"\\^\", \" ^ \", text)\n",
    "    text = re.sub(r\"\\+\", \" \", text)\n",
    "    text = re.sub(r\"\\-\", \" - \", text)\n",
    "    text = re.sub(r\"\\= =\", \" \", text)\n",
    "    text = re.sub(r\"\\==\", \" \", text)\n",
    "    text = re.sub(r\"'\", \" \", text)\n",
    "    text = re.sub(r\"(\\d+)(k)\", r\"\\g<1>000\", text)\n",
    "    text = re.sub(r\":\", \" : \", text)\n",
    "    text = re.sub(r\"\\0s\", \"0\", text)\n",
    "    text = re.sub(r\" 9 11 \", \"911\", text)\n",
    "    text = re.sub(r\"\\s{2,}\", \" \", text)\n",
    "    return text\n",
    "\n",
    "data['Text'] = data['Text'].apply(lambda x: textPattern(x))"
   ]
  },
  {
   "cell_type": "code",
   "execution_count": 93,
   "metadata": {},
   "outputs": [],
   "source": [
    "# Word Tokenization\n",
    "tokens = [word_tokenize(sen) for sen in data.Text]"
   ]
  },
  {
   "cell_type": "code",
   "execution_count": 94,
   "metadata": {},
   "outputs": [],
   "source": [
    "# Remove Link\n",
    "def removeLink(token):\n",
    "    word = []\n",
    "    for w in token:\n",
    "        if not w.startswith('http'):\n",
    "            word.append(w)\n",
    "    return word \n",
    "    \n",
    "removedLink_tokens = [removeLink(token) for token in tokens]"
   ]
  },
  {
   "cell_type": "code",
   "execution_count": 95,
   "metadata": {},
   "outputs": [],
   "source": [
    "# Word Lemmatization\n",
    "def lemmatization(token):\n",
    "    return [lemmatizer.lemmatize(w) for w in token] \n",
    "\n",
    "lemmatizer = WordNetLemmatizer()\n",
    "\n",
    "lemmatized_tokens = [lemmatization(token) for token in removedLink_tokens]"
   ]
  },
  {
   "cell_type": "code",
   "execution_count": 96,
   "metadata": {},
   "outputs": [],
   "source": [
    "# Removing Stopwords\n",
    "stoplist=open(\"Devanagari/stopwords.txt\",\"r\")"
   ]
  },
  {
   "cell_type": "code",
   "execution_count": 97,
   "metadata": {},
   "outputs": [],
   "source": [
    "def removeStopWords(tokens): \n",
    "    return [word for word in tokens if word not in stoplist]\n",
    "\n",
    "filtered_words = [removeStopWords(sen) for sen in lemmatized_tokens]\n",
    "data['Text_Final'] = [' '.join(sen) for sen in filtered_words]\n",
    "data['tokens'] = filtered_words"
   ]
  },
  {
   "cell_type": "code",
   "execution_count": 98,
   "metadata": {},
   "outputs": [],
   "source": [
    "zero  = []\n",
    "one = []\n",
    "two = []\n",
    "for l in data.Label:\n",
    "    \n",
    "    if l == '0':\n",
    "        zero.append(1)\n",
    "        one.append(0)\n",
    "        two.append(0)\n",
    "    elif l == '1':\n",
    "        zero.append(0)\n",
    "        one.append(1)\n",
    "        two.append(0)\n",
    "    elif l == '2':\n",
    "        zero.append(0)\n",
    "        one.append(0)\n",
    "        two.append(1)\n",
    "        \n",
    "data['0']= zero\n",
    "data['1']= one\n",
    "data['2']= two\n",
    "\n",
    "data = data[['Text_Final', 'tokens', 'Label', '0', '1', '2']]"
   ]
  },
  {
   "cell_type": "code",
   "execution_count": 99,
   "metadata": {},
   "outputs": [
    {
     "data": {
      "text/html": [
       "<div>\n",
       "<style scoped>\n",
       "    .dataframe tbody tr th:only-of-type {\n",
       "        vertical-align: middle;\n",
       "    }\n",
       "\n",
       "    .dataframe tbody tr th {\n",
       "        vertical-align: top;\n",
       "    }\n",
       "\n",
       "    .dataframe thead th {\n",
       "        text-align: right;\n",
       "    }\n",
       "</style>\n",
       "<table border=\"1\" class=\"dataframe\">\n",
       "  <thead>\n",
       "    <tr style=\"text-align: right;\">\n",
       "      <th></th>\n",
       "      <th>Text_Final</th>\n",
       "      <th>tokens</th>\n",
       "      <th>Label</th>\n",
       "      <th>0</th>\n",
       "      <th>1</th>\n",
       "      <th>2</th>\n",
       "      <th>Category_id</th>\n",
       "    </tr>\n",
       "  </thead>\n",
       "  <tbody>\n",
       "    <tr>\n",
       "      <th>0</th>\n",
       "      <td>MukeshForInc ICICIBank हाहा 😂😂 आ रही हैं दीवाल...</td>\n",
       "      <td>[MukeshForInc, ICICIBank, हाहा, 😂😂, आ, रही, है...</td>\n",
       "      <td>0</td>\n",
       "      <td>1</td>\n",
       "      <td>0</td>\n",
       "      <td>0</td>\n",
       "      <td>0</td>\n",
       "    </tr>\n",
       "    <tr>\n",
       "      <th>1</th>\n",
       "      <td>GaneshGINC मुकेश भाकर जिन्दाबाद</td>\n",
       "      <td>[GaneshGINC, मुकेश, भाकर, जिन्दाबाद]</td>\n",
       "      <td>0</td>\n",
       "      <td>1</td>\n",
       "      <td>0</td>\n",
       "      <td>0</td>\n",
       "      <td>0</td>\n",
       "    </tr>\n",
       "    <tr>\n",
       "      <th>2</th>\n",
       "      <td>Muhamma27229770 TajinderBagga अरे जिहादी अब तु...</td>\n",
       "      <td>[Muhamma27229770, TajinderBagga, अरे, जिहादी, ...</td>\n",
       "      <td>2</td>\n",
       "      <td>0</td>\n",
       "      <td>0</td>\n",
       "      <td>1</td>\n",
       "      <td>2</td>\n",
       "    </tr>\n",
       "    <tr>\n",
       "      <th>3</th>\n",
       "      <td>achchheofficial बहुजन समाज पार्टी जिंदाबाद।</td>\n",
       "      <td>[achchheofficial, बहुजन, समाज, पार्टी, जिंदाबाद।]</td>\n",
       "      <td>0</td>\n",
       "      <td>1</td>\n",
       "      <td>0</td>\n",
       "      <td>0</td>\n",
       "      <td>0</td>\n",
       "    </tr>\n",
       "    <tr>\n",
       "      <th>4</th>\n",
       "      <td>bagga_daku msdhoni भैया जिंदाबाद</td>\n",
       "      <td>[bagga_daku, msdhoni, भैया, जिंदाबाद]</td>\n",
       "      <td>0</td>\n",
       "      <td>1</td>\n",
       "      <td>0</td>\n",
       "      <td>0</td>\n",
       "      <td>0</td>\n",
       "    </tr>\n",
       "    <tr>\n",
       "      <th>5</th>\n",
       "      <td>सुशांत को अपना करीबी दोस्त बताने वाले फिल्ममेक...</td>\n",
       "      <td>[सुशांत, को, अपना, करीबी, दोस्त, बताने, वाले, ...</td>\n",
       "      <td>0</td>\n",
       "      <td>1</td>\n",
       "      <td>0</td>\n",
       "      <td>0</td>\n",
       "      <td>0</td>\n",
       "    </tr>\n",
       "    <tr>\n",
       "      <th>6</th>\n",
       "      <td>RifatJawaid जिहादी की मौत पर अफसोस नहीं प्रकट ...</td>\n",
       "      <td>[RifatJawaid, जिहादी, की, मौत, पर, अफसोस, नहीं...</td>\n",
       "      <td>2</td>\n",
       "      <td>0</td>\n",
       "      <td>0</td>\n",
       "      <td>1</td>\n",
       "      <td>2</td>\n",
       "    </tr>\n",
       "    <tr>\n",
       "      <th>7</th>\n",
       "      <td>बढ़ती जेहादी संख्या लेबनान की मजबूरी है। भारत ...</td>\n",
       "      <td>[बढ़ती, जेहादी, संख्या, लेबनान, की, मजबूरी, है...</td>\n",
       "      <td>2</td>\n",
       "      <td>0</td>\n",
       "      <td>0</td>\n",
       "      <td>1</td>\n",
       "      <td>2</td>\n",
       "    </tr>\n",
       "    <tr>\n",
       "      <th>8</th>\n",
       "      <td>हज़रत इमाम हुसैन अलैहिस्सलाम ने कहा कि दूसरों ...</td>\n",
       "      <td>[हज़रत, इमाम, हुसैन, अलैहिस्सलाम, ने, कहा, कि,...</td>\n",
       "      <td>1</td>\n",
       "      <td>0</td>\n",
       "      <td>1</td>\n",
       "      <td>0</td>\n",
       "      <td>1</td>\n",
       "    </tr>\n",
       "    <tr>\n",
       "      <th>9</th>\n",
       "      <td>sikarchairmanJK आमीन</td>\n",
       "      <td>[sikarchairmanJK, आमीन]</td>\n",
       "      <td>1</td>\n",
       "      <td>0</td>\n",
       "      <td>1</td>\n",
       "      <td>0</td>\n",
       "      <td>1</td>\n",
       "    </tr>\n",
       "    <tr>\n",
       "      <th>10</th>\n",
       "      <td>मुझे अपनी मोहब्बत में इस क़दर मसरूफ कर दे ए अल...</td>\n",
       "      <td>[मुझे, अपनी, मोहब्बत, में, इस, क़दर, मसरूफ, कर...</td>\n",
       "      <td>1</td>\n",
       "      <td>0</td>\n",
       "      <td>1</td>\n",
       "      <td>0</td>\n",
       "      <td>1</td>\n",
       "    </tr>\n",
       "    <tr>\n",
       "      <th>11</th>\n",
       "      <td>आसमान विरान है तारे भि हैरान है माफ करदे मेरे ...</td>\n",
       "      <td>[आसमान, विरान, है, तारे, भि, हैरान, है, माफ, क...</td>\n",
       "      <td>1</td>\n",
       "      <td>0</td>\n",
       "      <td>1</td>\n",
       "      <td>0</td>\n",
       "      <td>1</td>\n",
       "    </tr>\n",
       "    <tr>\n",
       "      <th>12</th>\n",
       "      <td>YogiDevnath2 बोए बीज बबूल के तो आम कहाँ से होय...</td>\n",
       "      <td>[YogiDevnath2, बोए, बीज, बबूल, के, तो, आम, कहा...</td>\n",
       "      <td>2</td>\n",
       "      <td>0</td>\n",
       "      <td>0</td>\n",
       "      <td>1</td>\n",
       "      <td>2</td>\n",
       "    </tr>\n",
       "    <tr>\n",
       "      <th>13</th>\n",
       "      <td>Chatterj1Asking बिल्कुल जिहादी जहाँ भी मिले तु...</td>\n",
       "      <td>[Chatterj1Asking, बिल्कुल, जिहादी, जहाँ, भी, म...</td>\n",
       "      <td>2</td>\n",
       "      <td>0</td>\n",
       "      <td>0</td>\n",
       "      <td>1</td>\n",
       "      <td>2</td>\n",
       "    </tr>\n",
       "    <tr>\n",
       "      <th>14</th>\n",
       "      <td>sushantf3 itsSSR सुशांत सिंह राजपूत हमारे साथ ...</td>\n",
       "      <td>[sushantf3, itsSSR, सुशांत, सिंह, राजपूत, हमार...</td>\n",
       "      <td>0</td>\n",
       "      <td>1</td>\n",
       "      <td>0</td>\n",
       "      <td>0</td>\n",
       "      <td>0</td>\n",
       "    </tr>\n",
       "    <tr>\n",
       "      <th>15</th>\n",
       "      <td>S_S_Simnani माशा अल्लाह ❤</td>\n",
       "      <td>[S_S_Simnani, माशा, अल्लाह, ❤]</td>\n",
       "      <td>1</td>\n",
       "      <td>0</td>\n",
       "      <td>1</td>\n",
       "      <td>0</td>\n",
       "      <td>1</td>\n",
       "    </tr>\n",
       "    <tr>\n",
       "      <th>16</th>\n",
       "      <td>माशा अल्लाह अमानत रसूल साहब काे दिली मुबारकबाद</td>\n",
       "      <td>[माशा, अल्लाह, अमानत, रसूल, साहब, काे, दिली, म...</td>\n",
       "      <td>1</td>\n",
       "      <td>0</td>\n",
       "      <td>1</td>\n",
       "      <td>0</td>\n",
       "      <td>1</td>\n",
       "    </tr>\n",
       "    <tr>\n",
       "      <th>17</th>\n",
       "      <td>IPSinghSp आतंकवादियों को भ्रष्टाचारियों को देश...</td>\n",
       "      <td>[IPSinghSp, आतंकवादियों, को, भ्रष्टाचारियों, क...</td>\n",
       "      <td>2</td>\n",
       "      <td>0</td>\n",
       "      <td>0</td>\n",
       "      <td>1</td>\n",
       "      <td>2</td>\n",
       "    </tr>\n",
       "    <tr>\n",
       "      <th>18</th>\n",
       "      <td>भारतीय जनता पार्टी जिंदाबाद नरेंद्र मोदी जी जि...</td>\n",
       "      <td>[भारतीय, जनता, पार्टी, जिंदाबाद, नरेंद्र, मोदी...</td>\n",
       "      <td>0</td>\n",
       "      <td>1</td>\n",
       "      <td>0</td>\n",
       "      <td>0</td>\n",
       "      <td>0</td>\n",
       "    </tr>\n",
       "    <tr>\n",
       "      <th>19</th>\n",
       "      <td>आज इंशा अल्लाह डॉक्टर Kafeel आज़ाद हो जाएंगे आमीन</td>\n",
       "      <td>[आज, इंशा, अल्लाह, डॉक्टर, Kafeel, आज़ाद, हो, ...</td>\n",
       "      <td>1</td>\n",
       "      <td>0</td>\n",
       "      <td>1</td>\n",
       "      <td>0</td>\n",
       "      <td>1</td>\n",
       "    </tr>\n",
       "    <tr>\n",
       "      <th>20</th>\n",
       "      <td>सभी दोस्तों को इसलामी नया साल मुबारक हो</td>\n",
       "      <td>[सभी, दोस्तों, को, इसलामी, नया, साल, मुबारक, हो]</td>\n",
       "      <td>1</td>\n",
       "      <td>0</td>\n",
       "      <td>1</td>\n",
       "      <td>0</td>\n",
       "      <td>1</td>\n",
       "    </tr>\n",
       "    <tr>\n",
       "      <th>21</th>\n",
       "      <td>pbhushan1 Support अबे लोग दिवाली मना रहें है</td>\n",
       "      <td>[pbhushan1, Support, अबे, लोग, दिवाली, मना, रह...</td>\n",
       "      <td>0</td>\n",
       "      <td>1</td>\n",
       "      <td>0</td>\n",
       "      <td>0</td>\n",
       "      <td>0</td>\n",
       "    </tr>\n",
       "    <tr>\n",
       "      <th>22</th>\n",
       "      <td>आसान नही है गांव मे क्रिकेट का अम्पायर बनना बा...</td>\n",
       "      <td>[आसान, नही, है, गांव, मे, क्रिकेट, का, अम्पायर...</td>\n",
       "      <td>0</td>\n",
       "      <td>1</td>\n",
       "      <td>0</td>\n",
       "      <td>0</td>\n",
       "      <td>0</td>\n",
       "    </tr>\n",
       "    <tr>\n",
       "      <th>23</th>\n",
       "      <td>ShabistaDr बिल्कुल अमीन</td>\n",
       "      <td>[ShabistaDr, बिल्कुल, अमीन]</td>\n",
       "      <td>1</td>\n",
       "      <td>0</td>\n",
       "      <td>1</td>\n",
       "      <td>0</td>\n",
       "      <td>1</td>\n",
       "    </tr>\n",
       "    <tr>\n",
       "      <th>24</th>\n",
       "      <td>PushpendraKuls4 जो जिसके लायक है उसको वही मिलत...</td>\n",
       "      <td>[PushpendraKuls4, जो, जिसके, लायक, है, उसको, व...</td>\n",
       "      <td>2</td>\n",
       "      <td>0</td>\n",
       "      <td>0</td>\n",
       "      <td>1</td>\n",
       "      <td>2</td>\n",
       "    </tr>\n",
       "  </tbody>\n",
       "</table>\n",
       "</div>"
      ],
      "text/plain": [
       "                                           Text_Final  \\\n",
       "0   MukeshForInc ICICIBank हाहा 😂😂 आ रही हैं दीवाल...   \n",
       "1                     GaneshGINC मुकेश भाकर जिन्दाबाद   \n",
       "2   Muhamma27229770 TajinderBagga अरे जिहादी अब तु...   \n",
       "3         achchheofficial बहुजन समाज पार्टी जिंदाबाद।   \n",
       "4                    bagga_daku msdhoni भैया जिंदाबाद   \n",
       "5   सुशांत को अपना करीबी दोस्त बताने वाले फिल्ममेक...   \n",
       "6   RifatJawaid जिहादी की मौत पर अफसोस नहीं प्रकट ...   \n",
       "7   बढ़ती जेहादी संख्या लेबनान की मजबूरी है। भारत ...   \n",
       "8   हज़रत इमाम हुसैन अलैहिस्सलाम ने कहा कि दूसरों ...   \n",
       "9                                sikarchairmanJK आमीन   \n",
       "10  मुझे अपनी मोहब्बत में इस क़दर मसरूफ कर दे ए अल...   \n",
       "11  आसमान विरान है तारे भि हैरान है माफ करदे मेरे ...   \n",
       "12  YogiDevnath2 बोए बीज बबूल के तो आम कहाँ से होय...   \n",
       "13  Chatterj1Asking बिल्कुल जिहादी जहाँ भी मिले तु...   \n",
       "14  sushantf3 itsSSR सुशांत सिंह राजपूत हमारे साथ ...   \n",
       "15                          S_S_Simnani माशा अल्लाह ❤   \n",
       "16     माशा अल्लाह अमानत रसूल साहब काे दिली मुबारकबाद   \n",
       "17  IPSinghSp आतंकवादियों को भ्रष्टाचारियों को देश...   \n",
       "18  भारतीय जनता पार्टी जिंदाबाद नरेंद्र मोदी जी जि...   \n",
       "19  आज इंशा अल्लाह डॉक्टर Kafeel आज़ाद हो जाएंगे आमीन   \n",
       "20            सभी दोस्तों को इसलामी नया साल मुबारक हो   \n",
       "21       pbhushan1 Support अबे लोग दिवाली मना रहें है   \n",
       "22  आसान नही है गांव मे क्रिकेट का अम्पायर बनना बा...   \n",
       "23                            ShabistaDr बिल्कुल अमीन   \n",
       "24  PushpendraKuls4 जो जिसके लायक है उसको वही मिलत...   \n",
       "\n",
       "                                               tokens Label  0  1  2  \\\n",
       "0   [MukeshForInc, ICICIBank, हाहा, 😂😂, आ, रही, है...     0  1  0  0   \n",
       "1                [GaneshGINC, मुकेश, भाकर, जिन्दाबाद]     0  1  0  0   \n",
       "2   [Muhamma27229770, TajinderBagga, अरे, जिहादी, ...     2  0  0  1   \n",
       "3   [achchheofficial, बहुजन, समाज, पार्टी, जिंदाबाद।]     0  1  0  0   \n",
       "4               [bagga_daku, msdhoni, भैया, जिंदाबाद]     0  1  0  0   \n",
       "5   [सुशांत, को, अपना, करीबी, दोस्त, बताने, वाले, ...     0  1  0  0   \n",
       "6   [RifatJawaid, जिहादी, की, मौत, पर, अफसोस, नहीं...     2  0  0  1   \n",
       "7   [बढ़ती, जेहादी, संख्या, लेबनान, की, मजबूरी, है...     2  0  0  1   \n",
       "8   [हज़रत, इमाम, हुसैन, अलैहिस्सलाम, ने, कहा, कि,...     1  0  1  0   \n",
       "9                             [sikarchairmanJK, आमीन]     1  0  1  0   \n",
       "10  [मुझे, अपनी, मोहब्बत, में, इस, क़दर, मसरूफ, कर...     1  0  1  0   \n",
       "11  [आसमान, विरान, है, तारे, भि, हैरान, है, माफ, क...     1  0  1  0   \n",
       "12  [YogiDevnath2, बोए, बीज, बबूल, के, तो, आम, कहा...     2  0  0  1   \n",
       "13  [Chatterj1Asking, बिल्कुल, जिहादी, जहाँ, भी, म...     2  0  0  1   \n",
       "14  [sushantf3, itsSSR, सुशांत, सिंह, राजपूत, हमार...     0  1  0  0   \n",
       "15                     [S_S_Simnani, माशा, अल्लाह, ❤]     1  0  1  0   \n",
       "16  [माशा, अल्लाह, अमानत, रसूल, साहब, काे, दिली, म...     1  0  1  0   \n",
       "17  [IPSinghSp, आतंकवादियों, को, भ्रष्टाचारियों, क...     2  0  0  1   \n",
       "18  [भारतीय, जनता, पार्टी, जिंदाबाद, नरेंद्र, मोदी...     0  1  0  0   \n",
       "19  [आज, इंशा, अल्लाह, डॉक्टर, Kafeel, आज़ाद, हो, ...     1  0  1  0   \n",
       "20   [सभी, दोस्तों, को, इसलामी, नया, साल, मुबारक, हो]     1  0  1  0   \n",
       "21  [pbhushan1, Support, अबे, लोग, दिवाली, मना, रह...     0  1  0  0   \n",
       "22  [आसान, नही, है, गांव, मे, क्रिकेट, का, अम्पायर...     0  1  0  0   \n",
       "23                        [ShabistaDr, बिल्कुल, अमीन]     1  0  1  0   \n",
       "24  [PushpendraKuls4, जो, जिसके, लायक, है, उसको, व...     2  0  0  1   \n",
       "\n",
       "   Category_id  \n",
       "0            0  \n",
       "1            0  \n",
       "2            2  \n",
       "3            0  \n",
       "4            0  \n",
       "5            0  \n",
       "6            2  \n",
       "7            2  \n",
       "8            1  \n",
       "9            1  \n",
       "10           1  \n",
       "11           1  \n",
       "12           2  \n",
       "13           2  \n",
       "14           0  \n",
       "15           1  \n",
       "16           1  \n",
       "17           2  \n",
       "18           0  \n",
       "19           1  \n",
       "20           1  \n",
       "21           0  \n",
       "22           0  \n",
       "23           1  \n",
       "24           2  "
      ]
     },
     "execution_count": 99,
     "metadata": {},
     "output_type": "execute_result"
    }
   ],
   "source": [
    "category_id = []\n",
    "for l in data.Label:\n",
    "    \n",
    "    if l == '0':\n",
    "        category_id.append('0')\n",
    "    elif l == '1':\n",
    "        category_id.append('1')\n",
    "    elif l == '2':\n",
    "        category_id.append('2')\n",
    "        \n",
    "data['Category_id'] = category_id\n",
    "\n",
    "data = data[['Text_Final', 'tokens', 'Label', '0', '1', '2', 'Category_id' ]]\n",
    "data.head(25)"
   ]
  },
  {
   "cell_type": "code",
   "execution_count": 100,
   "metadata": {},
   "outputs": [],
   "source": [
    "#remove empty row\n",
    "data = data[data.tokens != '']"
   ]
  },
  {
   "cell_type": "code",
   "execution_count": 101,
   "metadata": {},
   "outputs": [],
   "source": [
    "from io import StringIO\n",
    "category_id_df = data[['Label', 'Category_id']].drop_duplicates().sort_values('Category_id')\n",
    "category_to_label_dict = dict(category_id_df.values)\n",
    "label_to_category_dict = dict(category_id_df[['Category_id', 'Label']].values)"
   ]
  },
  {
   "cell_type": "markdown",
   "metadata": {},
   "source": [
    "#### Split Data into test and train\n",
    "We will use 90 % data for training and 20 % for testing. We use random state so every time we get the same training and testing data."
   ]
  },
  {
   "cell_type": "code",
   "execution_count": 102,
   "metadata": {},
   "outputs": [
    {
     "data": {
      "text/plain": [
       "(10123, 7)"
      ]
     },
     "execution_count": 102,
     "metadata": {},
     "output_type": "execute_result"
    }
   ],
   "source": [
    "data.shape"
   ]
  },
  {
   "cell_type": "code",
   "execution_count": 103,
   "metadata": {},
   "outputs": [],
   "source": [
    "data_train, data_test = train_test_split(data, test_size=0.10, shuffle = True)\n"
   ]
  },
  {
   "cell_type": "code",
   "execution_count": 104,
   "metadata": {},
   "outputs": [],
   "source": [
    "# # total training words\n",
    "totalTrainingWords = [word for tokens in data_train[\"tokens\"] for word in tokens]\n",
    "\n",
    "# # Storing Length of the training sentence\n",
    "lengthTrainingSentences = [len(tokens) for tokens in data_train[\"tokens\"]]\n",
    "\n",
    "# # training Vocabulary size\n",
    "trainingVocabSize = sorted(list(set(totalTrainingWords)))\n",
    "\n",
    "## Total number of lines\n",
    "linesCount = len(data_train[\"tokens\"])"
   ]
  },
  {
   "cell_type": "markdown",
   "metadata": {},
   "source": [
    "### Load Google Word2vec model"
   ]
  },
  {
   "cell_type": "code",
   "execution_count": 25,
   "metadata": {},
   "outputs": [],
   "source": [
    "word2vec_path = 'GoogleNews-vectors-negative300.bin'"
   ]
  },
  {
   "cell_type": "code",
   "execution_count": 26,
   "metadata": {},
   "outputs": [],
   "source": [
    "from gensim import models\n",
    "word2vec = models.KeyedVectors.load_word2vec_format(word2vec_path, binary=True)\n"
   ]
  },
  {
   "cell_type": "code",
   "execution_count": 105,
   "metadata": {},
   "outputs": [],
   "source": [
    "MAX_SEQUENCE_LENGTH = 150\n",
    "EMBEDDING_DIM = 300"
   ]
  },
  {
   "cell_type": "markdown",
   "metadata": {},
   "source": [
    "\n",
    "### Tokenize and Pad sequences"
   ]
  },
  {
   "cell_type": "code",
   "execution_count": 106,
   "metadata": {},
   "outputs": [
    {
     "name": "stdout",
     "output_type": "stream",
     "text": [
      "Found 19206 unique tokens.\n"
     ]
    }
   ],
   "source": [
    "tokenizer = Tokenizer(num_words=len(trainingVocabSize), lower=True, char_level=False)\n",
    "tokenizer.fit_on_texts(data_train[\"Text_Final\"].tolist())\n",
    "training_sequences = tokenizer.texts_to_sequences(data_train[\"Text_Final\"].tolist())\n",
    "\n",
    "train_word_index = tokenizer.word_index\n",
    "print('Found %s unique tokens.' % len(train_word_index))"
   ]
  },
  {
   "cell_type": "code",
   "execution_count": 107,
   "metadata": {},
   "outputs": [],
   "source": [
    "cnnTrainData = pad_sequences(training_sequences, maxlen=MAX_SEQUENCE_LENGTH)"
   ]
  },
  {
   "cell_type": "code",
   "execution_count": 108,
   "metadata": {},
   "outputs": [
    {
     "name": "stdout",
     "output_type": "stream",
     "text": [
      "(19207, 300)\n"
     ]
    }
   ],
   "source": [
    "train_embedding_weights = np.zeros((len(train_word_index)+1, EMBEDDING_DIM))\n",
    "for word,index in train_word_index.items():\n",
    "    train_embedding_weights[index,:] = word2vec[word] if word in word2vec else np.random.rand(EMBEDDING_DIM)\n",
    "print(train_embedding_weights.shape)"
   ]
  },
  {
   "cell_type": "code",
   "execution_count": 109,
   "metadata": {},
   "outputs": [],
   "source": [
    "test_sequences = tokenizer.texts_to_sequences(data_test[\"Text_Final\"].tolist())\n",
    "cnnTestData = pad_sequences(test_sequences, maxlen= MAX_SEQUENCE_LENGTH)"
   ]
  },
  {
   "cell_type": "markdown",
   "metadata": {},
   "source": [
    "### Define CNN"
   ]
  },
  {
   "cell_type": "markdown",
   "metadata": {},
   "source": [
    "The model is from the paper 'Convolutional Neural Networks for Sentence Classification' we have updated the network according to our requirement [1]"
   ]
  },
  {
   "cell_type": "code",
   "execution_count": 110,
   "metadata": {},
   "outputs": [],
   "source": [
    "label_names = ['0', '1', '2']"
   ]
  },
  {
   "cell_type": "code",
   "execution_count": 111,
   "metadata": {},
   "outputs": [],
   "source": [
    "def ConvolutionalNeuralNet(embeddings, max_sequence_length, num_words, embedding_dim, labels_index):\n",
    "    \n",
    "    # Embedding layer\n",
    "    embedding_layer = Embedding(num_words,\n",
    "                            embedding_dim,\n",
    "                            weights=[embeddings],\n",
    "                            input_length=max_sequence_length,\n",
    "                            trainable=False)\n",
    "    \n",
    "    sequence_input = Input(shape=(max_sequence_length,), dtype='int32')\n",
    "    embedded_sequences = embedding_layer(sequence_input)\n",
    "\n",
    "    convs = []\n",
    "    \n",
    "    #Kernal (window) size\n",
    "    filter_sizes = [2,3,4,5]\n",
    "\n",
    "    # Convolution Layer and max-pooling\n",
    "    for filter_size in filter_sizes:\n",
    "        l_conv = Conv1D(filters=512, kernel_size=filter_size, activation='relu')(embedded_sequences)\n",
    "        l_pool = GlobalMaxPooling1D()(l_conv)\n",
    "        convs.append(l_pool)\n",
    "        \n",
    "    l_merge = concatenate(convs, axis=1)\n",
    "    \n",
    "    # softmax layer for multiclass identification \n",
    "    x = Dropout(0.1)(l_merge)  \n",
    "    x = Dense(512, activation='relu')(x)\n",
    "    x = Dropout(0.2)(x)\n",
    "    preds = Dense(labels_index, activation='softmax')(x)\n",
    "\n",
    "    model = Model(sequence_input, preds)\n",
    "    model.compile(loss= 'categorical_crossentropy',\n",
    "                    optimizer = keras.optimizers.RMSprop(learning_rate=1e-3),\n",
    "#                    optimizer='adam',\n",
    "                  metrics=['accuracy'])\n",
    "    return model"
   ]
  },
  {
   "cell_type": "code",
   "execution_count": 112,
   "metadata": {},
   "outputs": [],
   "source": [
    "# Splitting train data into X_train and y_train\n",
    "y_train = data_train[label_names].values\n",
    "x_train = cnnTrainData\n",
    "y_tr = y_train"
   ]
  },
  {
   "cell_type": "code",
   "execution_count": 113,
   "metadata": {},
   "outputs": [],
   "source": [
    "# Splitting train data into X_test and y_test\n",
    "y_test = data_test[label_names].values\n",
    "x_test = cnnTestData\n",
    "y_tst = y_test"
   ]
  },
  {
   "cell_type": "code",
   "execution_count": 114,
   "metadata": {},
   "outputs": [],
   "source": [
    "model = ConvolutionalNeuralNet(train_embedding_weights, MAX_SEQUENCE_LENGTH, len(train_word_index)+1, EMBEDDING_DIM, len(list(label_names)))"
   ]
  },
  {
   "cell_type": "code",
   "execution_count": 115,
   "metadata": {},
   "outputs": [
    {
     "name": "stdout",
     "output_type": "stream",
     "text": [
      "Model: \"model_2\"\n",
      "__________________________________________________________________________________________________\n",
      "Layer (type)                    Output Shape         Param #     Connected to                     \n",
      "==================================================================================================\n",
      "input_3 (InputLayer)            [(None, 150)]        0                                            \n",
      "__________________________________________________________________________________________________\n",
      "embedding_2 (Embedding)         (None, 150, 300)     5762100     input_3[0][0]                    \n",
      "__________________________________________________________________________________________________\n",
      "conv1d_8 (Conv1D)               (None, 149, 512)     307712      embedding_2[0][0]                \n",
      "__________________________________________________________________________________________________\n",
      "conv1d_9 (Conv1D)               (None, 148, 512)     461312      embedding_2[0][0]                \n",
      "__________________________________________________________________________________________________\n",
      "conv1d_10 (Conv1D)              (None, 147, 512)     614912      embedding_2[0][0]                \n",
      "__________________________________________________________________________________________________\n",
      "conv1d_11 (Conv1D)              (None, 146, 512)     768512      embedding_2[0][0]                \n",
      "__________________________________________________________________________________________________\n",
      "global_max_pooling1d_8 (GlobalM (None, 512)          0           conv1d_8[0][0]                   \n",
      "__________________________________________________________________________________________________\n",
      "global_max_pooling1d_9 (GlobalM (None, 512)          0           conv1d_9[0][0]                   \n",
      "__________________________________________________________________________________________________\n",
      "global_max_pooling1d_10 (Global (None, 512)          0           conv1d_10[0][0]                  \n",
      "__________________________________________________________________________________________________\n",
      "global_max_pooling1d_11 (Global (None, 512)          0           conv1d_11[0][0]                  \n",
      "__________________________________________________________________________________________________\n",
      "concatenate_2 (Concatenate)     (None, 2048)         0           global_max_pooling1d_8[0][0]     \n",
      "                                                                 global_max_pooling1d_9[0][0]     \n",
      "                                                                 global_max_pooling1d_10[0][0]    \n",
      "                                                                 global_max_pooling1d_11[0][0]    \n",
      "__________________________________________________________________________________________________\n",
      "dropout_4 (Dropout)             (None, 2048)         0           concatenate_2[0][0]              \n",
      "__________________________________________________________________________________________________\n",
      "dense_4 (Dense)                 (None, 512)          1049088     dropout_4[0][0]                  \n",
      "__________________________________________________________________________________________________\n",
      "dropout_5 (Dropout)             (None, 512)          0           dense_4[0][0]                    \n",
      "__________________________________________________________________________________________________\n",
      "dense_5 (Dense)                 (None, 3)            1539        dropout_5[0][0]                  \n",
      "==================================================================================================\n",
      "Total params: 8,965,175\n",
      "Trainable params: 3,203,075\n",
      "Non-trainable params: 5,762,100\n",
      "__________________________________________________________________________________________________\n"
     ]
    }
   ],
   "source": [
    "model.summary()"
   ]
  },
  {
   "cell_type": "markdown",
   "metadata": {},
   "source": [
    "### Train CNN"
   ]
  },
  {
   "cell_type": "code",
   "execution_count": 116,
   "metadata": {},
   "outputs": [],
   "source": [
    "num_epochs = 6\n",
    "batch_size = 512"
   ]
  },
  {
   "cell_type": "code",
   "execution_count": 117,
   "metadata": {},
   "outputs": [
    {
     "name": "stdout",
     "output_type": "stream",
     "text": [
      "Epoch 1/6\n",
      "17/17 [==============================] - 40s 2s/step - loss: 5.2949 - accuracy: 0.3777 - val_loss: 1.5463 - val_accuracy: 0.3348\n",
      "Epoch 2/6\n",
      "17/17 [==============================] - 40s 2s/step - loss: 1.0720 - accuracy: 0.4880 - val_loss: 0.9536 - val_accuracy: 0.5631\n",
      "Epoch 3/6\n",
      "17/17 [==============================] - 39s 2s/step - loss: 1.0250 - accuracy: 0.5956 - val_loss: 1.1054 - val_accuracy: 0.3974\n",
      "Epoch 4/6\n",
      "17/17 [==============================] - 40s 2s/step - loss: 0.6554 - accuracy: 0.7458 - val_loss: 0.6229 - val_accuracy: 0.7135\n",
      "Epoch 5/6\n",
      "17/17 [==============================] - 40s 2s/step - loss: 0.4850 - accuracy: 0.8231 - val_loss: 1.2869 - val_accuracy: 0.5137\n",
      "Epoch 6/6\n",
      "17/17 [==============================] - 40s 2s/step - loss: 0.4724 - accuracy: 0.8100 - val_loss: 0.4341 - val_accuracy: 0.8562\n"
     ]
    }
   ],
   "source": [
    "# training our model on train data\n",
    "history = model.fit(x_train, y_tr, epochs=num_epochs, validation_split=0.1, shuffle=True, batch_size=batch_size)"
   ]
  },
  {
   "cell_type": "code",
   "execution_count": 118,
   "metadata": {},
   "outputs": [
    {
     "name": "stdout",
     "output_type": "stream",
     "text": [
      "32/32 [==============================] - 2s 62ms/step - loss: 0.4189 - accuracy: 0.8667\n"
     ]
    }
   ],
   "source": [
    "# evaluate on test data\n",
    "results = model.evaluate(x_test, y_tst)"
   ]
  },
  {
   "cell_type": "code",
   "execution_count": 119,
   "metadata": {},
   "outputs": [
    {
     "name": "stdout",
     "output_type": "stream",
     "text": [
      "1/1 [==============================] - 0s 1ms/step\n"
     ]
    }
   ],
   "source": [
    "# predict model\n",
    "predictions = model.predict(cnnTestData, batch_size=1024, verbose=1)"
   ]
  },
  {
   "cell_type": "markdown",
   "metadata": {},
   "source": [
    "### Testing few sentences using our model"
   ]
  },
  {
   "cell_type": "code",
   "execution_count": 123,
   "metadata": {},
   "outputs": [],
   "source": [
    "\n",
    "labels = ['0', '1', '2']\n",
    "\n",
    "def makeprediction(texts):\n",
    "    tk = Tokenizer()\n",
    "    tk.fit_on_texts(texts)\n",
    "    index_list = tk.texts_to_sequences(texts)\n",
    "    x_train = pad_sequences(index_list, maxlen=150)\n",
    "    pred = model.predict(x_train)\n",
    "    result = labels[np.argmax(pred)]\n",
    "    return result"
   ]
  },
  {
   "cell_type": "code",
   "execution_count": 122,
   "metadata": {},
   "outputs": [],
   "source": [
    "prediction_labels=[]\n",
    "for p in predictions:\n",
    "    prediction_labels.append(labels[np.argmax(p)])"
   ]
  },
  {
   "cell_type": "code",
   "execution_count": 54,
   "metadata": {},
   "outputs": [
    {
     "data": {
      "text/plain": [
       "0.7275419545903258"
      ]
     },
     "execution_count": 54,
     "metadata": {},
     "output_type": "execute_result"
    }
   ],
   "source": [
    "sum(data_test.Label==prediction_labels)/len(prediction_labels)"
   ]
  },
  {
   "cell_type": "code",
   "execution_count": 47,
   "metadata": {},
   "outputs": [
    {
     "data": {
      "text/plain": [
       "0    369\n",
       "2    343\n",
       "1    301\n",
       "Name: Label, dtype: int64"
      ]
     },
     "execution_count": 47,
     "metadata": {},
     "output_type": "execute_result"
    }
   ],
   "source": [
    "data_test.Label.value_counts()"
   ]
  },
  {
   "cell_type": "code",
   "execution_count": 48,
   "metadata": {},
   "outputs": [
    {
     "data": {
      "image/png": "[encoded data removed]",
      "text/plain": [
       "<Figure size 432x288 with 2 Axes>"
      ]
     },
     "metadata": {
      "needs_background": "light"
     },
     "output_type": "display_data"
    }
   ],
   "source": [
    "plt.figure(1)\n",
    "# summarize history for accuracy\n",
    "plt.subplot(211)\n",
    "plt.plot(history.history['accuracy'])\n",
    "plt.plot(history.history['val_accuracy'])\n",
    "plt.title('model accuracy')\n",
    "plt.ylabel('accuracy')\n",
    "plt.xlabel('epoch')\n",
    "plt.legend(['train', 'val'], loc='upper left')\n",
    "# summarize history for loss\n",
    "plt.subplot(212)\n",
    "plt.plot(history.history['loss'])\n",
    "plt.plot(history.history['val_loss'])\n",
    "plt.title('model loss')\n",
    "plt.ylabel('loss')\n",
    "plt.xlabel('epoch')\n",
    "plt.legend(['train', 'val'], loc='upper left')\n",
    "plt.tight_layout()\n",
    "plt.show()"
   ]
  },
  {
   "cell_type": "code",
   "execution_count": 49,
   "metadata": {},
   "outputs": [
    {
     "name": "stdout",
     "output_type": "stream",
     "text": [
      "Confusion Matrix :\n",
      "[[235   7 127]\n",
      " [ 21 165 115]\n",
      " [  2   4 337]]\n",
      "Accuracy Score : 0.7275419545903258\n",
      "Report : \n",
      "              precision    recall  f1-score   support\n",
      "\n",
      "           0       0.91      0.64      0.75       369\n",
      "           1       0.94      0.55      0.69       301\n",
      "           2       0.58      0.98      0.73       343\n",
      "\n",
      "    accuracy                           0.73      1013\n",
      "   macro avg       0.81      0.72      0.72      1013\n",
      "weighted avg       0.81      0.73      0.73      1013\n",
      "\n"
     ]
    }
   ],
   "source": [
    "results = confusion_matrix(data_test.Label, prediction_labels)\n",
    "print ('Confusion Matrix :')\n",
    "print(results) \n",
    "print ('Accuracy Score :',accuracy_score(data_test.Label, prediction_labels))\n",
    "print ('Report : ')\n",
    "print (classification_report(data_test.Label, prediction_labels))"
   ]
  },
  {
   "cell_type": "code",
   "execution_count": 50,
   "metadata": {},
   "outputs": [
    {
     "name": "stdout",
     "output_type": "stream",
     "text": [
      "                        Convolution Neural Network\n"
     ]
    },
    {
     "data": {
      "image/png": "[encoded data removed]",
      "text/plain": [
       "<Figure size 360x360 with 2 Axes>"
      ]
     },
     "metadata": {
      "needs_background": "light"
     },
     "output_type": "display_data"
    }
   ],
   "source": [
    "from sklearn.metrics import confusion_matrix\n",
    "print(\"                        Convolution Neural Network\")\n",
    "conf_mat = confusion_matrix(data_test.Label, prediction_labels)\n",
    "fig, ax = plt.subplots(figsize=(5,5))\n",
    "sns.heatmap(conf_mat, annot=True, fmt='d', cmap ='YlGnBu',\n",
    "            xticklabels=category_id_df.Label.values, yticklabels=category_id_df.Label.values)\n",
    "plt.ylabel('Actual')\n",
    "plt.xlabel('Predicted')\n",
    "plt.show()"
   ]
  },
  {
   "cell_type": "markdown",
   "metadata": {},
   "source": [
    "### Testing CNN using KFold cross validation"
   ]
  },
  {
   "cell_type": "code",
   "execution_count": 59,
   "metadata": {},
   "outputs": [
    {
     "name": "stdout",
     "output_type": "stream",
     "text": [
      "Fold:  1\n",
      "Epoch 1/5\n",
      "257/257 [==============================] - 60s 233ms/step - loss: 0.8422 - accuracy: 0.7280 - val_loss: 0.3198 - val_accuracy: 0.8672\n",
      "Epoch 2/5\n",
      "257/257 [==============================] - 61s 239ms/step - loss: 0.2719 - accuracy: 0.8995 - val_loss: 0.2176 - val_accuracy: 0.9001\n",
      "Epoch 3/5\n",
      "257/257 [==============================] - 61s 239ms/step - loss: 0.2282 - accuracy: 0.9169 - val_loss: 0.4257 - val_accuracy: 0.8946\n",
      "Epoch 4/5\n",
      "257/257 [==============================] - 62s 240ms/step - loss: 0.2029 - accuracy: 0.9261 - val_loss: 0.1689 - val_accuracy: 0.9407\n",
      "Epoch 5/5\n",
      "257/257 [==============================] - 61s 239ms/step - loss: 0.1903 - accuracy: 0.9344 - val_loss: 0.2088 - val_accuracy: 0.9254\n",
      "Evaluate on training data\n",
      "72/72 [==============================] - 19s 264ms/step - loss: 0.1604 - accuracy: 0.9366\n",
      "Evaluate on testing data\n",
      "8/8 [==============================] - 2s 226ms/step - loss: 0.2708 - accuracy: 0.9151\n",
      "Fold:  2\n",
      "Epoch 1/5\n",
      "257/257 [==============================] - 62s 242ms/step - loss: 0.9101 - accuracy: 0.7213 - val_loss: 0.3599 - val_accuracy: 0.8716\n",
      "Epoch 2/5\n",
      "257/257 [==============================] - 62s 240ms/step - loss: 0.2831 - accuracy: 0.8927 - val_loss: 0.3212 - val_accuracy: 0.9155\n",
      "Epoch 3/5\n",
      "257/257 [==============================] - 60s 233ms/step - loss: 0.2175 - accuracy: 0.9227 - val_loss: 0.2339 - val_accuracy: 0.9297\n",
      "Epoch 4/5\n",
      "257/257 [==============================] - 62s 241ms/step - loss: 0.2015 - accuracy: 0.9282 - val_loss: 0.4382 - val_accuracy: 0.9078\n",
      "Epoch 5/5\n",
      "257/257 [==============================] - 62s 241ms/step - loss: 0.1843 - accuracy: 0.9362 - val_loss: 0.4050 - val_accuracy: 0.9045\n",
      "Evaluate on training data\n",
      "72/72 [==============================] - 19s 265ms/step - loss: 0.2610 - accuracy: 0.9194\n",
      "Evaluate on testing data\n",
      "8/8 [==============================] - 2s 239ms/step - loss: 0.3232 - accuracy: 0.9210\n",
      "Fold:  3\n",
      "Epoch 1/5\n",
      "257/257 [==============================] - 62s 240ms/step - loss: 0.8135 - accuracy: 0.7350 - val_loss: 0.2882 - val_accuracy: 0.8968\n",
      "Epoch 2/5\n",
      "257/257 [==============================] - 62s 240ms/step - loss: 0.2851 - accuracy: 0.8921 - val_loss: 0.2180 - val_accuracy: 0.9243\n",
      "Epoch 3/5\n",
      "257/257 [==============================] - 62s 240ms/step - loss: 0.2376 - accuracy: 0.9127 - val_loss: 0.1788 - val_accuracy: 0.9210\n",
      "Epoch 4/5\n",
      "257/257 [==============================] - 62s 243ms/step - loss: 0.2119 - accuracy: 0.9233 - val_loss: 0.6538 - val_accuracy: 0.9056\n",
      "Epoch 5/5\n",
      "257/257 [==============================] - 61s 236ms/step - loss: 0.1982 - accuracy: 0.9332 - val_loss: 0.3268 - val_accuracy: 0.9111\n",
      "Evaluate on training data\n",
      "72/72 [==============================] - 19s 270ms/step - loss: 0.2354 - accuracy: 0.9171\n",
      "Evaluate on testing data\n",
      "8/8 [==============================] - 2s 228ms/step - loss: 0.3914 - accuracy: 0.9112\n",
      "Fold:  4\n",
      "Epoch 1/5\n",
      "257/257 [==============================] - 63s 243ms/step - loss: 0.8841 - accuracy: 0.7241 - val_loss: 0.5984 - val_accuracy: 0.7969\n",
      "Epoch 2/5\n",
      "257/257 [==============================] - 63s 244ms/step - loss: 0.2778 - accuracy: 0.8963 - val_loss: 0.2347 - val_accuracy: 0.9188\n",
      "Epoch 3/5\n",
      "257/257 [==============================] - 63s 244ms/step - loss: 0.2198 - accuracy: 0.9184 - val_loss: 0.2370 - val_accuracy: 0.9297\n",
      "Epoch 4/5\n",
      "257/257 [==============================] - 63s 244ms/step - loss: 0.1939 - accuracy: 0.9255 - val_loss: 0.2748 - val_accuracy: 0.8957\n",
      "Epoch 5/5\n",
      "257/257 [==============================] - 62s 243ms/step - loss: 0.1867 - accuracy: 0.9347 - val_loss: 0.2420 - val_accuracy: 0.9144\n",
      "Evaluate on training data\n",
      "72/72 [==============================] - 20s 272ms/step - loss: 0.1480 - accuracy: 0.9381\n",
      "Evaluate on testing data\n",
      "8/8 [==============================] - 2s 232ms/step - loss: 0.2138 - accuracy: 0.9309\n",
      "Fold:  5\n",
      "Epoch 1/5\n",
      "257/257 [==============================] - 62s 239ms/step - loss: 0.8847 - accuracy: 0.7329 - val_loss: 0.4889 - val_accuracy: 0.8364\n",
      "Epoch 2/5\n",
      "257/257 [==============================] - 62s 242ms/step - loss: 0.2764 - accuracy: 0.8936 - val_loss: 0.2055 - val_accuracy: 0.9254\n",
      "Epoch 3/5\n",
      "257/257 [==============================] - 62s 241ms/step - loss: 0.2414 - accuracy: 0.9158 - val_loss: 0.7370 - val_accuracy: 0.7969\n",
      "Epoch 4/5\n",
      "257/257 [==============================] - 62s 241ms/step - loss: 0.2074 - accuracy: 0.9263 - val_loss: 0.3287 - val_accuracy: 0.8573\n",
      "Epoch 5/5\n",
      "257/257 [==============================] - 62s 242ms/step - loss: 0.1952 - accuracy: 0.9345 - val_loss: 0.2932 - val_accuracy: 0.9067\n",
      "Evaluate on training data\n",
      "72/72 [==============================] - 20s 276ms/step - loss: 0.2253 - accuracy: 0.9289\n",
      "Evaluate on testing data\n",
      "8/8 [==============================] - 2s 239ms/step - loss: 0.2555 - accuracy: 0.9161\n",
      "Fold:  6\n",
      "Epoch 1/5\n",
      "257/257 [==============================] - 63s 244ms/step - loss: 0.8087 - accuracy: 0.7425 - val_loss: 0.3472 - val_accuracy: 0.8342\n",
      "Epoch 2/5\n",
      "257/257 [==============================] - 61s 236ms/step - loss: 0.2918 - accuracy: 0.8925 - val_loss: 0.2626 - val_accuracy: 0.8847\n",
      "Epoch 3/5\n",
      "257/257 [==============================] - 62s 240ms/step - loss: 0.2244 - accuracy: 0.9176 - val_loss: 0.2127 - val_accuracy: 0.9089\n",
      "Epoch 4/5\n",
      "257/257 [==============================] - 62s 239ms/step - loss: 0.1977 - accuracy: 0.9308 - val_loss: 0.3668 - val_accuracy: 0.8782\n",
      "Epoch 5/5\n",
      "257/257 [==============================] - 62s 242ms/step - loss: 0.1828 - accuracy: 0.9372 - val_loss: 0.2194 - val_accuracy: 0.9341\n",
      "Evaluate on training data\n",
      "72/72 [==============================] - 20s 272ms/step - loss: 0.1315 - accuracy: 0.9542\n",
      "Evaluate on testing data\n",
      "8/8 [==============================] - 2s 247ms/step - loss: 0.3077 - accuracy: 0.9279\n",
      "Fold:  7\n",
      "Epoch 1/5\n",
      "257/257 [==============================] - 62s 243ms/step - loss: 0.8284 - accuracy: 0.7208 - val_loss: 0.3790 - val_accuracy: 0.8617\n",
      "Epoch 2/5\n",
      "257/257 [==============================] - 62s 243ms/step - loss: 0.2803 - accuracy: 0.8949 - val_loss: 0.4584 - val_accuracy: 0.8946\n",
      "Epoch 3/5\n",
      "257/257 [==============================] - 61s 236ms/step - loss: 0.2345 - accuracy: 0.9154 - val_loss: 0.2749 - val_accuracy: 0.9133\n",
      "Epoch 4/5\n",
      "257/257 [==============================] - 64s 248ms/step - loss: 0.2028 - accuracy: 0.9257 - val_loss: 0.2302 - val_accuracy: 0.9254\n",
      "Epoch 5/5\n",
      "257/257 [==============================] - 59s 229ms/step - loss: 0.1821 - accuracy: 0.9363 - val_loss: 0.3215 - val_accuracy: 0.9177\n",
      "Evaluate on training data\n",
      "72/72 [==============================] - 20s 278ms/step - loss: 0.1730 - accuracy: 0.9362\n",
      "Evaluate on testing data\n",
      "8/8 [==============================] - 2s 240ms/step - loss: 0.3424 - accuracy: 0.9230\n",
      "Fold:  8\n",
      "Epoch 1/5\n",
      "257/257 [==============================] - 63s 243ms/step - loss: 0.7711 - accuracy: 0.7439 - val_loss: 0.2630 - val_accuracy: 0.9144\n",
      "Epoch 2/5\n",
      "257/257 [==============================] - 63s 244ms/step - loss: 0.2741 - accuracy: 0.8922 - val_loss: 0.1936 - val_accuracy: 0.9276\n",
      "Epoch 3/5\n",
      "257/257 [==============================] - 62s 242ms/step - loss: 0.2411 - accuracy: 0.9118 - val_loss: 0.2360 - val_accuracy: 0.9297\n",
      "Epoch 4/5\n",
      "257/257 [==============================] - 62s 242ms/step - loss: 0.2184 - accuracy: 0.9260 - val_loss: 0.2160 - val_accuracy: 0.9363\n",
      "Epoch 5/5\n",
      "257/257 [==============================] - 63s 244ms/step - loss: 0.1883 - accuracy: 0.9350 - val_loss: 0.2164 - val_accuracy: 0.9363\n",
      "Evaluate on training data\n",
      "72/72 [==============================] - 20s 276ms/step - loss: 0.1561 - accuracy: 0.9396\n",
      "Evaluate on testing data\n",
      "8/8 [==============================] - 2s 246ms/step - loss: 0.2843 - accuracy: 0.9171\n",
      "Fold:  9\n",
      "Epoch 1/5\n",
      "257/257 [==============================] - 61s 236ms/step - loss: 0.8273 - accuracy: 0.7196 - val_loss: 0.3017 - val_accuracy: 0.8913\n",
      "Epoch 2/5\n",
      "257/257 [==============================] - 62s 241ms/step - loss: 0.2851 - accuracy: 0.8993 - val_loss: 0.2470 - val_accuracy: 0.9056\n",
      "Epoch 3/5\n",
      "257/257 [==============================] - 62s 240ms/step - loss: 0.2308 - accuracy: 0.9199 - val_loss: 0.2664 - val_accuracy: 0.9221\n",
      "Epoch 4/5\n",
      "257/257 [==============================] - 63s 243ms/step - loss: 0.2079 - accuracy: 0.9261 - val_loss: 0.3466 - val_accuracy: 0.8858\n",
      "Epoch 5/5\n",
      "257/257 [==============================] - 62s 242ms/step - loss: 0.1808 - accuracy: 0.9365 - val_loss: 0.3064 - val_accuracy: 0.9232\n",
      "Evaluate on training data\n",
      "72/72 [==============================] - 20s 284ms/step - loss: 0.1618 - accuracy: 0.9387\n",
      "Evaluate on testing data\n",
      "8/8 [==============================] - 2s 247ms/step - loss: 0.2667 - accuracy: 0.9131\n",
      "Fold:  10\n",
      "Epoch 1/5\n",
      "257/257 [==============================] - 62s 243ms/step - loss: 0.8546 - accuracy: 0.7205 - val_loss: 0.2483 - val_accuracy: 0.8979\n",
      "Epoch 2/5\n",
      "257/257 [==============================] - 62s 240ms/step - loss: 0.2891 - accuracy: 0.8902 - val_loss: 0.2988 - val_accuracy: 0.8562\n",
      "Epoch 3/5\n",
      "257/257 [==============================] - 61s 238ms/step - loss: 0.2218 - accuracy: 0.9191 - val_loss: 0.1879 - val_accuracy: 0.9265\n",
      "Epoch 4/5\n",
      "257/257 [==============================] - 63s 244ms/step - loss: 0.2085 - accuracy: 0.9294 - val_loss: 0.3535 - val_accuracy: 0.9034\n",
      "Epoch 5/5\n",
      "257/257 [==============================] - 63s 244ms/step - loss: 0.1824 - accuracy: 0.9371 - val_loss: 0.1727 - val_accuracy: 0.9286\n",
      "Evaluate on training data\n",
      "72/72 [==============================] - 20s 284ms/step - loss: 0.1365 - accuracy: 0.9486\n",
      "Evaluate on testing data\n",
      "8/8 [==============================] - 2s 245ms/step - loss: 0.1833 - accuracy: 0.9348\n"
     ]
    }
   ],
   "source": [
    "from sklearn.model_selection import KFold\n",
    "from scipy.stats import zscore\n",
    "from sklearn import metrics\n",
    "import tensorflow as tf\n",
    "import random\n",
    "\n",
    "kf = kf = KFold(n_splits=10)\n",
    "f_score=[]\n",
    "fold = 10\n",
    "label_names = ['0', '1', '2']\n",
    "num_epochs = 5\n",
    "batch_size = 32\n",
    "oos_y = []\n",
    "oos_pred = []\n",
    "results = []\n",
    "train_res =[]\n",
    "\n",
    "for i in range(fold):\n",
    "    print(\"Fold: \", i+1)\n",
    "    data_train, data_test = train_test_split(data, test_size=0.10, shuffle = True)\n",
    "\n",
    "    # # total training words\n",
    "    totalTrainingWords = [word for tokens in data_train[\"tokens\"] for word in tokens]\n",
    "\n",
    "    # # Storing Length of the training sentence\n",
    "    lengthTrainingSentences = [len(tokens) for tokens in data_train[\"tokens\"]]\n",
    "\n",
    "    # # training Vocabulary size\n",
    "    trainingVocabSize = sorted(list(set(totalTrainingWords)))\n",
    "\n",
    "    ## Total number of lines\n",
    "    linesCount = len(data_train[\"tokens\"])\n",
    "    \n",
    "    tokenizer = Tokenizer(num_words=len(trainingVocabSize), lower=True, char_level=False)\n",
    "    tokenizer.fit_on_texts(data_train[\"Text_Final\"].tolist())\n",
    "    training_sequences = tokenizer.texts_to_sequences(data_train[\"Text_Final\"].tolist())\n",
    "\n",
    "    train_word_index = tokenizer.word_index\n",
    "    cnnTrainData = pad_sequences(training_sequences, maxlen=MAX_SEQUENCE_LENGTH)\n",
    "    \n",
    "    train_embedding_weights = np.zeros((len(train_word_index)+1, EMBEDDING_DIM))\n",
    "    \n",
    "    for word,index in train_word_index.items():\n",
    "        train_embedding_weights[index,:] = word2vec[word] if word in word2vec else np.random.rand(EMBEDDING_DIM)\n",
    "        \n",
    "    test_sequences = tokenizer.texts_to_sequences(data_test[\"Text_Final\"].tolist())\n",
    "    cnnTestData = pad_sequences(test_sequences, maxlen= MAX_SEQUENCE_LENGTH)\n",
    "    \n",
    "    # Splitting train data into X_train and y_train\n",
    "    y_train = data_train[label_names].values\n",
    "    x_train = cnnTrainData\n",
    "    y_tr = y_train\n",
    "    \n",
    "    # Splitting train data into X_test and y_test\n",
    "    y_test = data_test[label_names].values\n",
    "    x_test = cnnTestData\n",
    "    y_tst = y_test\n",
    "    \n",
    "    # create model\n",
    "    model = ConvolutionalNeuralNet(train_embedding_weights, MAX_SEQUENCE_LENGTH, len(train_word_index)+1, EMBEDDING_DIM, len(list(label_names)))\n",
    "    \n",
    "    #Train Model\n",
    "    history = model.fit(x_train, y_tr, epochs=num_epochs, validation_split=0.1, shuffle=True, batch_size=batch_size)\n",
    "      \n",
    "    # model evaluate\n",
    "    \n",
    "    print(\"Evaluate on training data\")\n",
    "    train_res.append(model.evaluate(x_train, y_tr, batch_size=128))\n",
    "    print(\"Evaluate on testing data\")\n",
    "    results.append(model.evaluate(x_test, y_tst, batch_size=128))\n",
    "\n",
    "    predictions = model.predict(x_test, batch_size=1024, verbose=0)\n",
    "    oos_y.append(y_tst)\n",
    "    oos_pred.append(predictions)\n",
    "    #tot_accuracy_score = (predictions, y_tst)\n",
    "    tot_score = np.sqrt(metrics.mean_squared_error(predictions, y_tst))\n",
    "    f_score.append(tot_score)\n",
    "   "
   ]
  },
  {
   "cell_type": "code",
   "execution_count": 64,
   "metadata": {},
   "outputs": [
    {
     "name": "stdout",
     "output_type": "stream",
     "text": [
      "Kfold Mean using evaluate on test data:  0.9210266530513763\n"
     ]
    }
   ],
   "source": [
    "import statistics \n",
    "# for i in range(len(results)):\n",
    "#     print(\"Fold: \", i+1)\n",
    "#     print(\"test loss, test acc:\", results[i])\n",
    "\n",
    "score_val = []\n",
    "for i in results:\n",
    "    score_val.append(i[1])\n",
    "x = statistics.mean(score_val)\n",
    "    \n",
    "print(\"Kfold Mean using evaluate on test data: \", x)\n",
    "\n"
   ]
  },
  {
   "cell_type": "markdown",
   "metadata": {},
   "source": [
    "### Reference\n",
    "[1] \"Convolutional Neural Networks for Sentence Classification\" by Yoon Kim\n"
   ]
  }
 ],
 "metadata": {
  "kernelspec": {
   "display_name": "Python 3",
   "language": "python",
   "name": "python3"
  },
  "language_info": {
   "codemirror_mode": {
    "name": "ipython",
    "version": 3
   },
   "file_extension": ".py",
   "mimetype": "text/x-python",
   "name": "python",
   "nbconvert_exporter": "python",
   "pygments_lexer": "ipython3",
   "version": "3.8.5"
  }
 },
 "nbformat": 4,
 "nbformat_minor": 4
}
