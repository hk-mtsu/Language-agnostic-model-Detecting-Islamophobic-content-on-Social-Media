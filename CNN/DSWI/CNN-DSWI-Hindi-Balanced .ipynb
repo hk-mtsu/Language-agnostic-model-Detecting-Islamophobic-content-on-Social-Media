{
 "cells": [
  {
   "cell_type": "markdown",
   "metadata": {},
   "source": [
    "#### The Program involves following features:\n",
    "Convolutional Neural Network CNN\n",
    "1. Using Word2Vec implementing CNN model\n",
    "2. Dispaly Confusion Matrix, precision, recall and F1-score\n",
    "3. Display few prediction using predict module. \n",
    "4. Get 10-fold Average of the CNN model.\n",
    "\n",
    "Support Vector Method SVM\n",
    "1. Creating feature vector using TF-IDF and Bag-of-words.\n",
    "2. Dispaly Confusion Matrix, precision, recall and F1-score\n",
    "3. Display few prediction using predict module. \n",
    "4. Get 10-fold Average of the SVM model.\n",
    "\n",
    "Random Foresr Method RFM \n",
    "1. Creating feature vector using TF-IDF.\n",
    "2. Dispaly Confusion Matrix, precision, recall and F1-score\n",
    "3. Display few prediction using predict module. \n",
    "4. Get 10-fold Average of the RFM model."
   ]
  },
  {
   "cell_type": "code",
   "execution_count": 1,
   "metadata": {},
   "outputs": [],
   "source": [
    "from __future__ import division, print_function\n",
    "\n",
    "# dataframe\n",
    "import pandas as pd\n",
    "\n",
    "# numpy array\n",
    "import numpy as np\n",
    "\n",
    "# figures visualization\n",
    "import matplotlib.pyplot as plt\n",
    "from sklearn.metrics import confusion_matrix \n",
    "import seaborn as sns\n",
    "\n",
    "# calc accuracy\n",
    "from sklearn.metrics import accuracy_score \n",
    "from sklearn.metrics import classification_report \n",
    "\n",
    "# word2vec\n",
    "import gensim \n",
    "from gensim import models\n",
    "from gensim.models import Word2Vec \n",
    "from gensim.models import KeyedVectors\n",
    "\n",
    "# CNN model and keras preprocessing\n",
    "import keras\n",
    "from keras.callbacks import ModelCheckpoint\n",
    "from keras.layers import Dense, Dropout, Reshape, Flatten, concatenate, Input, Conv1D, GlobalMaxPooling1D, Embedding, Conv2D, GlobalMaxPooling2D\n",
    "from keras.models import Sequential\n",
    "from keras.models import Model\n",
    "from keras.preprocessing.text import Tokenizer\n",
    "from keras.preprocessing.sequence import pad_sequences\n",
    "\n",
    "# nltk data preprocessing\n",
    "import nltk\n",
    "from nltk import word_tokenize\n",
    "from nltk.tokenize import sent_tokenize \n",
    "from nltk.stem import WordNetLemmatizer\n",
    "\n",
    "# stopword - remove buzz word\n",
    "from nltk.corpus import stopwords\n",
    "\n",
    "# splitting data\n",
    "from sklearn.model_selection import train_test_split\n",
    "\n",
    "# punctuation - data imbalance\n",
    "import collections\n",
    "import re\n",
    "import string\n",
    "\n",
    "# File path\n",
    "import os\n",
    "import os.path\n",
    "from os import path\n",
    "\n",
    "# Translator\n",
    "import googletrans\n",
    "from googletrans import Translator"
   ]
  },
  {
   "cell_type": "code",
   "execution_count": 2,
   "metadata": {},
   "outputs": [],
   "source": [
    "# original hindi file\n",
    "filename  = 'Eng-Hin-data/hindi-anot-shuffled'\n",
    "orig_df = pd.read_csv(filename + '.csv',  \n",
    "               delimiter=',')\n",
    "orig_df.columns = ['Text', 'Label']"
   ]
  },
  {
   "cell_type": "code",
   "execution_count": 3,
   "metadata": {},
   "outputs": [
    {
     "data": {
      "text/plain": [
       "<bound method NDFrame.head of                                                    Text  Label\n",
       "0     'गाजा में दीवाली   की ढेरो बधाई मित्रो 😊💐  #Is...      2\n",
       "1        '@SanjayGadhiaINC @IndiaToday18 अज़ाबे इलाही 👍      1\n",
       "2     'आखिर अब #सुशांत_सिंह_राजपूत जी को न्याय मिल ज...      0\n",
       "3     'अमीन के 500 से अधिक छात्रों ने सर्वे भवन के ग...      0\n",
       "4     '@deoriapolice @Uppolice @myogiadityanath @spg...      0\n",
       "...                                                 ...    ...\n",
       "8788                  '@atullondhe राहुल गांधी जिंदाबाद      0\n",
       "8789  'पैगंबर हज़रत मुहम्मद सल्लल्लाहु अलैहि वसल्लम ...      1\n",
       "8790  'कर्नाटक बेंगलुरू में अल्लाह मोहम्मद गांडू के ...      2\n",
       "8791  'अच्छी खबर है ऐसे एक एक कर सभी जेहादी भारतीय फ...      2\n",
       "8792  '@Ruzena__Malik जनता चाइना से दीवाली की लड़ी ख...      0\n",
       "\n",
       "[8793 rows x 2 columns]>"
      ]
     },
     "execution_count": 3,
     "metadata": {},
     "output_type": "execute_result"
    }
   ],
   "source": [
    "orig_df.head"
   ]
  },
  {
   "cell_type": "code",
   "execution_count": 4,
   "metadata": {},
   "outputs": [
    {
     "data": {
      "text/plain": [
       "\"'आज के दिन ही मेरा क्रिकेट प्रेम भी समाप्त हो गया\""
      ]
     },
     "execution_count": 4,
     "metadata": {},
     "output_type": "execute_result"
    }
   ],
   "source": [
    "orig_df.Text[6]"
   ]
  },
  {
   "cell_type": "code",
   "execution_count": 5,
   "metadata": {},
   "outputs": [
    {
     "name": "stdout",
     "output_type": "stream",
     "text": [
      "Exist\n"
     ]
    }
   ],
   "source": [
    "# For non English data\n",
    "filename  = 'Eng-Hin-data/hindi-anot-shuffled'\n",
    "\n",
    "if not path.exists(filename + '-translated.csv'):\n",
    "    print(\"Not Exist\")\n",
    "    p_data = pd.read_csv(\"Eng-Hin-data/hindi-anot-shuffled.csv\")\n",
    "    #data =  data.drop('Strength',1)\n",
    "    translator = Translator()\n",
    "    col_one_list = p_data['Text'].tolist()\n",
    "    len(col_one_list)\n",
    "    result = []\n",
    "    for i  in range(len(col_one_list)):\n",
    "        try:\n",
    "            trans = translator.translate(col_one_list[i], dest='en')\n",
    "            result.append(trans.text)\n",
    "        except:\n",
    "                result.append(col_one_list[i])\n",
    "    p_data['Text'] = result\n",
    "    p_data.to_csv(filename + '-translated.csv', index=False)\n",
    "    df = pd.read_csv(filename + '-translated.csv',  \n",
    "                   delimiter=',')\n",
    "    df.columns = ['Text', 'Label']\n",
    "    df.head(15)\n",
    "    df[\"Text\"] = df[\"Text\"].astype(str)\n",
    "    df[\"Label\"] = df[\"Label\"].astype(str)\n",
    "    data = df\n",
    "else:\n",
    "    print(\"Exist\")\n",
    "    df = pd.read_csv(filename + '-translated.csv',  \n",
    "                   delimiter=',')\n",
    "    df.columns = ['Text', 'Label']\n",
    "    df.head(15)\n",
    "    df[\"Text\"] = df[\"Text\"].astype(str)\n",
    "    df[\"Label\"] = df[\"Label\"].astype(str)\n",
    "    data = df"
   ]
  },
  {
   "cell_type": "code",
   "execution_count": 6,
   "metadata": {},
   "outputs": [
    {
     "data": {
      "text/plain": [
       "\"'Today also my cricket love has ended\""
      ]
     },
     "execution_count": 6,
     "metadata": {},
     "output_type": "execute_result"
    }
   ],
   "source": [
    "df.Text[6]"
   ]
  },
  {
   "cell_type": "markdown",
   "metadata": {},
   "source": [
    "### Class count"
   ]
  },
  {
   "cell_type": "code",
   "execution_count": 7,
   "metadata": {},
   "outputs": [
    {
     "data": {
      "image/png": "[encoded data removed]",
      "text/plain": [
       "<Figure size 432x288 with 1 Axes>"
      ]
     },
     "metadata": {
      "needs_background": "light"
     },
     "output_type": "display_data"
    }
   ],
   "source": [
    "import matplotlib.pyplot as plt\n",
    "fig = plt.figure(figsize=(6,4))\n",
    "df.groupby('Label').Text.count().plot.bar(ylim=0)\n",
    "plt.show()"
   ]
  },
  {
   "cell_type": "code",
   "execution_count": 8,
   "metadata": {},
   "outputs": [
    {
     "data": {
      "text/plain": [
       "2    3373\n",
       "0    3245\n",
       "1    2172\n",
       "Name: Label, dtype: int64"
      ]
     },
     "execution_count": 8,
     "metadata": {},
     "output_type": "execute_result"
    }
   ],
   "source": [
    "# For entire dataset sentences for each labels \n",
    "df.Label.value_counts()"
   ]
  },
  {
   "cell_type": "markdown",
   "metadata": {},
   "source": [
    "### Balanced Data"
   ]
  },
  {
   "cell_type": "code",
   "execution_count": 9,
   "metadata": {},
   "outputs": [],
   "source": [
    "#balancing data \n",
    "from collections import Counter\n",
    "import numpy as np\n",
    "def balanceClasses(xs, ys):\n",
    "    item = {}\n",
    "    new_ys = []\n",
    "    new_xs = []\n",
    "    #\"\"\"Undersample xs, ys to balance classes.\"\"\"\n",
    "    freqs = Counter(ys)\n",
    "    # the most common class  is the maximum number we want for all classes\n",
    "    max_allowable = (freqs.most_common()[0][1])\n",
    "    \n",
    "    for val in freqs.most_common(): # List\n",
    "        nums = np.random.randint(1000)\n",
    "        i = 1\n",
    "        item[val[0]] = max_allowable - val[1]\n",
    "        \n",
    "        if item[val[0]] > 0:            \n",
    "            while(item[val[0]] - i != 0): \n",
    "                nums = nums + 1\n",
    "                if ys[nums] == val[0]:\n",
    "                    i += 1\n",
    "                    new_ys.append(ys[nums])\n",
    "                    new_xs.append(xs[nums])\n",
    "    return new_xs, new_ys"
   ]
  },
  {
   "cell_type": "code",
   "execution_count": 10,
   "metadata": {},
   "outputs": [],
   "source": [
    "new_text, new_label = balanceClasses(df['Text'], df['Label'])"
   ]
  },
  {
   "cell_type": "code",
   "execution_count": 11,
   "metadata": {},
   "outputs": [],
   "source": [
    "data = pd.DataFrame(new_text)\n",
    "data.columns = ['Text']\n",
    "data['Label'] = new_label\n",
    "data = pd.concat([df, data])"
   ]
  },
  {
   "cell_type": "code",
   "execution_count": 12,
   "metadata": {},
   "outputs": [
    {
     "data": {
      "image/png": "[encoded data removed]",
      "text/plain": [
       "<Figure size 432x288 with 1 Axes>"
      ]
     },
     "metadata": {
      "needs_background": "light"
     },
     "output_type": "display_data"
    }
   ],
   "source": [
    "fig1 = plt.figure(figsize=(6,4))\n",
    "data.groupby('Label').Text.count().plot.bar(ylim=0)\n",
    "plt.show()"
   ]
  },
  {
   "cell_type": "code",
   "execution_count": 13,
   "metadata": {},
   "outputs": [
    {
     "data": {
      "text/plain": [
       "2    3373\n",
       "1    3372\n",
       "0    3372\n",
       "Name: Label, dtype: int64"
      ]
     },
     "execution_count": 13,
     "metadata": {},
     "output_type": "execute_result"
    }
   ],
   "source": [
    "# For entire dataset sentences for each labels \n",
    "data.Label.value_counts()"
   ]
  },
  {
   "cell_type": "code",
   "execution_count": 14,
   "metadata": {},
   "outputs": [
    {
     "data": {
      "text/html": [
       "<div>\n",
       "<style scoped>\n",
       "    .dataframe tbody tr th:only-of-type {\n",
       "        vertical-align: middle;\n",
       "    }\n",
       "\n",
       "    .dataframe tbody tr th {\n",
       "        vertical-align: top;\n",
       "    }\n",
       "\n",
       "    .dataframe thead th {\n",
       "        text-align: right;\n",
       "    }\n",
       "</style>\n",
       "<table border=\"1\" class=\"dataframe\">\n",
       "  <thead>\n",
       "    <tr style=\"text-align: right;\">\n",
       "      <th></th>\n",
       "      <th>Text</th>\n",
       "      <th>Label</th>\n",
       "    </tr>\n",
       "  </thead>\n",
       "  <tbody>\n",
       "    <tr>\n",
       "      <th>0</th>\n",
       "      <td>'@PankajPuniaINC rioter and jihadi, be it ment...</td>\n",
       "      <td>2</td>\n",
       "    </tr>\n",
       "    <tr>\n",
       "      <th>1</th>\n",
       "      <td>'@ANI CONCLUSION Now, join the Hindus Muslims ...</td>\n",
       "      <td>0</td>\n",
       "    </tr>\n",
       "    <tr>\n",
       "      <th>2</th>\n",
       "      <td>Is there any link with Cook Neeraj and friend ...</td>\n",
       "      <td>0</td>\n",
       "    </tr>\n",
       "    <tr>\n",
       "      <th>3</th>\n",
       "      <td>'How bad has the jihadi riot scandal</td>\n",
       "      <td>2</td>\n",
       "    </tr>\n",
       "    <tr>\n",
       "      <th>4</th>\n",
       "      <td>'Modi ji bowed down in Ram temple.</td>\n",
       "      <td>0</td>\n",
       "    </tr>\n",
       "    <tr>\n",
       "      <th>...</th>\n",
       "      <td>...</td>\n",
       "      <td>...</td>\n",
       "    </tr>\n",
       "    <tr>\n",
       "      <th>10112</th>\n",
       "      <td>'@sambitswaraj Sambit should understand that d...</td>\n",
       "      <td>2</td>\n",
       "    </tr>\n",
       "    <tr>\n",
       "      <th>10113</th>\n",
       "      <td>'No one keeps talking about anything in India,...</td>\n",
       "      <td>2</td>\n",
       "    </tr>\n",
       "    <tr>\n",
       "      <th>10114</th>\n",
       "      <td>'@IamShadab_er @ Abhishe50546867 I think Musli...</td>\n",
       "      <td>1</td>\n",
       "    </tr>\n",
       "    <tr>\n",
       "      <th>10115</th>\n",
       "      <td>'@consti_rakshak @KanganaTeam, the lawyer for ...</td>\n",
       "      <td>0</td>\n",
       "    </tr>\n",
       "    <tr>\n",
       "      <th>10116</th>\n",
       "      <td>@ ErJKAli1 @ SAHIRKH26624447 by going to Abe H...</td>\n",
       "      <td>2</td>\n",
       "    </tr>\n",
       "  </tbody>\n",
       "</table>\n",
       "<p>10117 rows × 2 columns</p>\n",
       "</div>"
      ],
      "text/plain": [
       "                                                    Text Label\n",
       "0      '@PankajPuniaINC rioter and jihadi, be it ment...     2\n",
       "1      '@ANI CONCLUSION Now, join the Hindus Muslims ...     0\n",
       "2      Is there any link with Cook Neeraj and friend ...     0\n",
       "3                   'How bad has the jihadi riot scandal     2\n",
       "4                     'Modi ji bowed down in Ram temple.     0\n",
       "...                                                  ...   ...\n",
       "10112  '@sambitswaraj Sambit should understand that d...     2\n",
       "10113  'No one keeps talking about anything in India,...     2\n",
       "10114  '@IamShadab_er @ Abhishe50546867 I think Musli...     1\n",
       "10115  '@consti_rakshak @KanganaTeam, the lawyer for ...     0\n",
       "10116  @ ErJKAli1 @ SAHIRKH26624447 by going to Abe H...     2\n",
       "\n",
       "[10117 rows x 2 columns]"
      ]
     },
     "execution_count": 14,
     "metadata": {},
     "output_type": "execute_result"
    }
   ],
   "source": [
    "\n",
    "data=data.sample(frac=1).reset_index(drop=True)\n",
    "data"
   ]
  },
  {
   "cell_type": "markdown",
   "metadata": {},
   "source": [
    "### Data Preprocessing"
   ]
  },
  {
   "cell_type": "code",
   "execution_count": 15,
   "metadata": {},
   "outputs": [],
   "source": [
    "# People usually join sentences using more than one colon \n",
    "\n",
    "def ReplaceDoubleColon(inputString):\n",
    "    return inputString.replace(\"..\", \" \") \n",
    "\n",
    "data['Text'] = data['Text'].apply(lambda x: ReplaceDoubleColon(x))\n",
    "\n",
    "def ReplaceTripleColon(inputString):\n",
    "    return inputString.replace(\"...\", \" \") \n",
    "\n",
    "data['Text'] = data['Text'].apply(lambda x: ReplaceTripleColon(x))\n",
    "\n",
    "def ReplaceFourColon(inputString):\n",
    "    return inputString.replace(\"....\", \" \") \n",
    "\n",
    "data['Text'] = data['Text'].apply(lambda x: ReplaceFourColon(x))"
   ]
  },
  {
   "cell_type": "code",
   "execution_count": 16,
   "metadata": {},
   "outputs": [],
   "source": [
    "def textPattern(text):\n",
    "\n",
    "    # Clean the text\n",
    "    text = re.sub(r\"[^A-Za-z0-9^,!.\\/'+-=]\", \" \", text)\n",
    "    text = re.sub(r\" \\n \", \" \", text)\n",
    "    text = re.sub(r\"what's\", \"what is\", text)\n",
    "    text = re.sub(r\"\\'s\", \" \", text)\n",
    "    text = re.sub(r\"\\'ve\", \"have\", text)\n",
    "    text = re.sub(r\"can't\", \"can not\", text)\n",
    "    text = re.sub(r\"aren't\", \"are not\", text)\n",
    "    text = re.sub(r\"couldn't\", \"could not\", text)\n",
    "    text = re.sub(r\"didn't\", \"did not\", text)\n",
    "    text = re.sub(r\"doesn't\", \"does not\", text)\n",
    "    text = re.sub(r\"don't\", \"do not\", text)\n",
    "    text = re.sub(r\"hadn't\", \"had not\", text)\n",
    "    text = re.sub(r\"hasn't\", \"has not\", text)\n",
    "    text = re.sub(r\"haven't\", \"have not\", text)\n",
    "    text = re.sub(r\"isn't\", \"is not\", text)\n",
    "    text = re.sub(r\"shouldn't\", \"should not\", text)\n",
    "    text = re.sub(r\"wasn't\", \"was not\", text)\n",
    "    text = re.sub(r\"weren't\", \"were not\", text)\n",
    "    text = re.sub(r\"won't\", \"will not\", text)\n",
    "    text = re.sub(r\"wouldn't\", \"would not\", text)\n",
    "    text = re.sub(r\"mustn't\", \"must not\", text)\n",
    "    text = re.sub(r\"i'm\", \"i am\", text)\n",
    "    text = re.sub(r\"\\'re\", \"are\", text)\n",
    "    text = re.sub(r\",\", \" \", text)\n",
    "    text = re.sub(r\"\\.\", \" \", text)\n",
    "    text = re.sub(r\"!\", \" \", text)\n",
    "    text = re.sub(r\"\\/\", \" \", text)\n",
    "    text = re.sub(r\"\\^\", \" ^ \", text)\n",
    "    text = re.sub(r\"\\+\", \" \", text)\n",
    "    text = re.sub(r\"\\-\", \" - \", text)\n",
    "    text = re.sub(r\"\\= =\", \" \", text)\n",
    "    text = re.sub(r\"\\==\", \" \", text)\n",
    "    text = re.sub(r\"'\", \" \", text)\n",
    "    text = re.sub(r\"(\\d+)(k)\", r\"\\g<1>000\", text)\n",
    "    text = re.sub(r\":\", \" : \", text)\n",
    "    text = re.sub(r\"\\0s\", \"0\", text)\n",
    "    text = re.sub(r\" 9 11 \", \"911\", text)\n",
    "    text = re.sub(r\"\\s{2,}\", \" \", text)\n",
    "    return text\n",
    "\n",
    "data['Text'] = data['Text'].apply(lambda x: textPattern(x))"
   ]
  },
  {
   "cell_type": "code",
   "execution_count": 17,
   "metadata": {},
   "outputs": [
    {
     "data": {
      "text/plain": [
       "(10117, 2)"
      ]
     },
     "execution_count": 17,
     "metadata": {},
     "output_type": "execute_result"
    }
   ],
   "source": [
    "data.shape"
   ]
  },
  {
   "cell_type": "code",
   "execution_count": 18,
   "metadata": {},
   "outputs": [],
   "source": [
    "# Word Tokenization\n",
    "tokens = [word_tokenize(sen) for sen in data.Text]"
   ]
  },
  {
   "cell_type": "code",
   "execution_count": 19,
   "metadata": {},
   "outputs": [],
   "source": [
    "# Lower Case\n",
    "def lower_token(tokens): \n",
    "    return [w.lower() for w in tokens]    \n",
    "    \n",
    "lower_tokens = [lower_token(token) for token in tokens]"
   ]
  },
  {
   "cell_type": "code",
   "execution_count": 20,
   "metadata": {},
   "outputs": [],
   "source": [
    "# Remove Link\n",
    "\n",
    "def removeLink(token):\n",
    "    word = []\n",
    "    for w in token:\n",
    "        if not w.startswith('http'):\n",
    "            word.append(w)\n",
    "    return word \n",
    "    \n",
    "removedLink_tokens = [removeLink(token) for token in lower_tokens]"
   ]
  },
  {
   "cell_type": "code",
   "execution_count": 21,
   "metadata": {},
   "outputs": [],
   "source": [
    "# Word Lemmatization\n",
    "def lemmatization(token):\n",
    "    return [lemmatizer.lemmatize(w) for w in token] \n",
    "\n",
    "lemmatizer = WordNetLemmatizer()\n",
    "\n",
    "lemmatized_tokens = [lemmatization(token) for token in removedLink_tokens]"
   ]
  },
  {
   "cell_type": "code",
   "execution_count": 22,
   "metadata": {},
   "outputs": [],
   "source": [
    "filtered_words = [sen for sen in lemmatized_tokens]\n",
    "data['Text_Final'] = [' '.join(sen) for sen in filtered_words]\n",
    "data['tokens'] = filtered_words"
   ]
  },
  {
   "cell_type": "code",
   "execution_count": 23,
   "metadata": {},
   "outputs": [],
   "source": [
    "zero  = []\n",
    "one = []\n",
    "two = []\n",
    "for l in data.Label:\n",
    "    \n",
    "    if l == '0':\n",
    "        zero.append(1)\n",
    "        one.append(0)\n",
    "        two.append(0)\n",
    "    elif l == '1':\n",
    "        zero.append(0)\n",
    "        one.append(1)\n",
    "        two.append(0)\n",
    "    elif l == '2':\n",
    "        zero.append(0)\n",
    "        one.append(0)\n",
    "        two.append(1)\n",
    "        \n",
    "data['0']= zero\n",
    "data['1']= one\n",
    "data['2']= two\n",
    "\n",
    "data = data[['Text_Final', 'tokens', 'Label', '0', '1', '2']]"
   ]
  },
  {
   "cell_type": "code",
   "execution_count": 24,
   "metadata": {},
   "outputs": [
    {
     "data": {
      "text/html": [
       "<div>\n",
       "<style scoped>\n",
       "    .dataframe tbody tr th:only-of-type {\n",
       "        vertical-align: middle;\n",
       "    }\n",
       "\n",
       "    .dataframe tbody tr th {\n",
       "        vertical-align: top;\n",
       "    }\n",
       "\n",
       "    .dataframe thead th {\n",
       "        text-align: right;\n",
       "    }\n",
       "</style>\n",
       "<table border=\"1\" class=\"dataframe\">\n",
       "  <thead>\n",
       "    <tr style=\"text-align: right;\">\n",
       "      <th></th>\n",
       "      <th>Text_Final</th>\n",
       "      <th>tokens</th>\n",
       "      <th>Label</th>\n",
       "      <th>0</th>\n",
       "      <th>1</th>\n",
       "      <th>2</th>\n",
       "      <th>Category_id</th>\n",
       "    </tr>\n",
       "  </thead>\n",
       "  <tbody>\n",
       "    <tr>\n",
       "      <th>0</th>\n",
       "      <td>pankajpuniainc rioter and jihadi be it mental ...</td>\n",
       "      <td>[pankajpuniainc, rioter, and, jihadi, be, it, ...</td>\n",
       "      <td>2</td>\n",
       "      <td>0</td>\n",
       "      <td>0</td>\n",
       "      <td>1</td>\n",
       "      <td>2</td>\n",
       "    </tr>\n",
       "    <tr>\n",
       "      <th>1</th>\n",
       "      <td>ani conclusion now join the hindu muslim by jo...</td>\n",
       "      <td>[ani, conclusion, now, join, the, hindu, musli...</td>\n",
       "      <td>0</td>\n",
       "      <td>1</td>\n",
       "      <td>0</td>\n",
       "      <td>0</td>\n",
       "      <td>0</td>\n",
       "    </tr>\n",
       "    <tr>\n",
       "      <th>2</th>\n",
       "      <td>is there any link with cook neeraj and friend ...</td>\n",
       "      <td>[is, there, any, link, with, cook, neeraj, and...</td>\n",
       "      <td>0</td>\n",
       "      <td>1</td>\n",
       "      <td>0</td>\n",
       "      <td>0</td>\n",
       "      <td>0</td>\n",
       "    </tr>\n",
       "    <tr>\n",
       "      <th>3</th>\n",
       "      <td>how bad ha the jihadi riot scandal</td>\n",
       "      <td>[how, bad, ha, the, jihadi, riot, scandal]</td>\n",
       "      <td>2</td>\n",
       "      <td>0</td>\n",
       "      <td>0</td>\n",
       "      <td>1</td>\n",
       "      <td>2</td>\n",
       "    </tr>\n",
       "    <tr>\n",
       "      <th>4</th>\n",
       "      <td>modi ji bowed down in ram temple</td>\n",
       "      <td>[modi, ji, bowed, down, in, ram, temple]</td>\n",
       "      <td>0</td>\n",
       "      <td>1</td>\n",
       "      <td>0</td>\n",
       "      <td>0</td>\n",
       "      <td>0</td>\n",
       "    </tr>\n",
       "    <tr>\n",
       "      <th>5</th>\n",
       "      <td>kejriwal zindabad</td>\n",
       "      <td>[kejriwal, zindabad]</td>\n",
       "      <td>0</td>\n",
       "      <td>1</td>\n",
       "      <td>0</td>\n",
       "      <td>0</td>\n",
       "      <td>0</td>\n",
       "    </tr>\n",
       "    <tr>\n",
       "      <th>6</th>\n",
       "      <td>thedeepak2020in this brother - in - law is a s...</td>\n",
       "      <td>[thedeepak2020in, this, brother, -, in, -, law...</td>\n",
       "      <td>2</td>\n",
       "      <td>0</td>\n",
       "      <td>0</td>\n",
       "      <td>1</td>\n",
       "      <td>2</td>\n",
       "    </tr>\n",
       "    <tr>\n",
       "      <th>7</th>\n",
       "      <td>ayazkhan15 bahraichpolice dgpup uppolice 112ut...</td>\n",
       "      <td>[ayazkhan15, bahraichpolice, dgpup, uppolice, ...</td>\n",
       "      <td>1</td>\n",
       "      <td>0</td>\n",
       "      <td>1</td>\n",
       "      <td>0</td>\n",
       "      <td>1</td>\n",
       "    </tr>\n",
       "    <tr>\n",
       "      <th>8</th>\n",
       "      <td>ikatikaramjullyinc rajcmo ashokgehlot51 govind...</td>\n",
       "      <td>[ikatikaramjullyinc, rajcmo, ashokgehlot51, go...</td>\n",
       "      <td>0</td>\n",
       "      <td>1</td>\n",
       "      <td>0</td>\n",
       "      <td>0</td>\n",
       "      <td>0</td>\n",
       "    </tr>\n",
       "  </tbody>\n",
       "</table>\n",
       "</div>"
      ],
      "text/plain": [
       "                                          Text_Final  \\\n",
       "0  pankajpuniainc rioter and jihadi be it mental ...   \n",
       "1  ani conclusion now join the hindu muslim by jo...   \n",
       "2  is there any link with cook neeraj and friend ...   \n",
       "3                 how bad ha the jihadi riot scandal   \n",
       "4                   modi ji bowed down in ram temple   \n",
       "5                                  kejriwal zindabad   \n",
       "6  thedeepak2020in this brother - in - law is a s...   \n",
       "7  ayazkhan15 bahraichpolice dgpup uppolice 112ut...   \n",
       "8  ikatikaramjullyinc rajcmo ashokgehlot51 govind...   \n",
       "\n",
       "                                              tokens Label  0  1  2  \\\n",
       "0  [pankajpuniainc, rioter, and, jihadi, be, it, ...     2  0  0  1   \n",
       "1  [ani, conclusion, now, join, the, hindu, musli...     0  1  0  0   \n",
       "2  [is, there, any, link, with, cook, neeraj, and...     0  1  0  0   \n",
       "3         [how, bad, ha, the, jihadi, riot, scandal]     2  0  0  1   \n",
       "4           [modi, ji, bowed, down, in, ram, temple]     0  1  0  0   \n",
       "5                               [kejriwal, zindabad]     0  1  0  0   \n",
       "6  [thedeepak2020in, this, brother, -, in, -, law...     2  0  0  1   \n",
       "7  [ayazkhan15, bahraichpolice, dgpup, uppolice, ...     1  0  1  0   \n",
       "8  [ikatikaramjullyinc, rajcmo, ashokgehlot51, go...     0  1  0  0   \n",
       "\n",
       "  Category_id  \n",
       "0           2  \n",
       "1           0  \n",
       "2           0  \n",
       "3           2  \n",
       "4           0  \n",
       "5           0  \n",
       "6           2  \n",
       "7           1  \n",
       "8           0  "
      ]
     },
     "execution_count": 24,
     "metadata": {},
     "output_type": "execute_result"
    }
   ],
   "source": [
    "category_id = []\n",
    "for l in data.Label:\n",
    "    \n",
    "    if l == '0':\n",
    "        category_id.append('0')\n",
    "    elif l == '1':\n",
    "        category_id.append('1')\n",
    "    elif l == '2':\n",
    "        category_id.append('2')\n",
    "        \n",
    "data['Category_id'] = category_id\n",
    "\n",
    "data = data[['Text_Final', 'tokens', 'Label', '0', '1', '2', 'Category_id' ]]\n",
    "data.head(9)"
   ]
  },
  {
   "cell_type": "code",
   "execution_count": 25,
   "metadata": {},
   "outputs": [],
   "source": [
    "from io import StringIO\n",
    "category_id_df = data[['Label', 'Category_id']].drop_duplicates().sort_values('Category_id')\n",
    "category_to_label_dict = dict(category_id_df.values)\n",
    "label_to_category_dict = dict(category_id_df[['Category_id', 'Label']].values)"
   ]
  },
  {
   "cell_type": "markdown",
   "metadata": {},
   "source": [
    "#### Split Data into test and train\n",
    "We will use 90 % data for training and 20 % for testing. We use random state so every time we get the same training and testing data."
   ]
  },
  {
   "cell_type": "code",
   "execution_count": 72,
   "metadata": {},
   "outputs": [],
   "source": [
    "data_train, data_test = train_test_split(data, test_size=0.10, random_state=42)\n"
   ]
  },
  {
   "cell_type": "code",
   "execution_count": 73,
   "metadata": {},
   "outputs": [],
   "source": [
    "# # total training words\n",
    "totalTrainingWords = [word for tokens in data_train[\"tokens\"] for word in tokens]\n",
    "\n",
    "# # Storing Length of the training sentence\n",
    "lengthTrainingSentences = [len(tokens) for tokens in data_train[\"tokens\"]]\n",
    "\n",
    "# # training Vocabulary size\n",
    "trainingVocabSize = sorted(list(set(totalTrainingWords)))\n",
    "\n",
    "## Total number of lines\n",
    "linesCount = len(data_train[\"tokens\"])"
   ]
  },
  {
   "cell_type": "markdown",
   "metadata": {},
   "source": [
    "### Load Google News Word2Vec model"
   ]
  },
  {
   "cell_type": "code",
   "execution_count": 28,
   "metadata": {},
   "outputs": [
    {
     "data": {
      "text/plain": [
       "(1181931, 0)"
      ]
     },
     "execution_count": 28,
     "metadata": {},
     "output_type": "execute_result"
    }
   ],
   "source": [
    "# Convert Glove file to word2vec format (examples: uses 50 dimensions since it's faster)\n",
    "from gensim.scripts.glove2word2vec import glove2word2vec\n",
    "glove_input_file = 'Online_supplement_1 word vectors.csv'  # I unzipped in glove.6B subdirectory \n",
    "word2vec_output_file = 'glove.6B.300d.word2vec'\n",
    "glove2word2vec(glove_input_file, word2vec_output_file)"
   ]
  },
  {
   "cell_type": "code",
   "execution_count": 29,
   "metadata": {},
   "outputs": [],
   "source": [
    "# Use the converted Glove file\n",
    "filename = 'glove.6B.300d.word2vec'\n",
    "word2vec = KeyedVectors.load_word2vec_format(filename, binary=False)\n"
   ]
  },
  {
   "cell_type": "code",
   "execution_count": 74,
   "metadata": {},
   "outputs": [],
   "source": [
    "MAX_SEQUENCE_LENGTH = 150\n",
    "EMBEDDING_DIM = 50"
   ]
  },
  {
   "cell_type": "markdown",
   "metadata": {},
   "source": [
    "\n",
    "### Tokenize and Pad sequences"
   ]
  },
  {
   "cell_type": "code",
   "execution_count": 75,
   "metadata": {},
   "outputs": [
    {
     "name": "stdout",
     "output_type": "stream",
     "text": [
      "Found 13897 unique tokens.\n"
     ]
    }
   ],
   "source": [
    "tokenizer = Tokenizer(num_words=len(trainingVocabSize), lower=True, char_level=False)\n",
    "tokenizer.fit_on_texts(data_train[\"Text_Final\"].tolist())\n",
    "training_sequences = tokenizer.texts_to_sequences(data_train[\"Text_Final\"].tolist())\n",
    "\n",
    "train_word_index = tokenizer.word_index\n",
    "print('Found %s unique tokens.' % len(train_word_index))"
   ]
  },
  {
   "cell_type": "code",
   "execution_count": 76,
   "metadata": {},
   "outputs": [],
   "source": [
    "cnnTrainData = pad_sequences(training_sequences, maxlen=MAX_SEQUENCE_LENGTH)"
   ]
  },
  {
   "cell_type": "code",
   "execution_count": 77,
   "metadata": {},
   "outputs": [
    {
     "name": "stdout",
     "output_type": "stream",
     "text": [
      "(13898, 50)\n"
     ]
    }
   ],
   "source": [
    "train_embedding_weights = np.zeros((len(train_word_index)+1, EMBEDDING_DIM))\n",
    "for word,index in train_word_index.items():\n",
    "    train_embedding_weights[index,:] = word2vec[word] if word in word2vec else np.random.rand(EMBEDDING_DIM)\n",
    "print(train_embedding_weights.shape)"
   ]
  },
  {
   "cell_type": "code",
   "execution_count": 78,
   "metadata": {},
   "outputs": [],
   "source": [
    "test_sequences = tokenizer.texts_to_sequences(data_test[\"Text_Final\"].tolist())\n",
    "cnnTestData = pad_sequences(test_sequences, maxlen= MAX_SEQUENCE_LENGTH)"
   ]
  },
  {
   "cell_type": "markdown",
   "metadata": {},
   "source": [
    "### Define CNN"
   ]
  },
  {
   "cell_type": "markdown",
   "metadata": {},
   "source": [
    "The model is from the paper 'Convolutional Neural Networks for Sentence Classification' we have updated the network according to our requirement [1]"
   ]
  },
  {
   "cell_type": "code",
   "execution_count": 79,
   "metadata": {},
   "outputs": [],
   "source": [
    "label_names = ['0', '1', '2']"
   ]
  },
  {
   "cell_type": "code",
   "execution_count": 80,
   "metadata": {},
   "outputs": [],
   "source": [
    "def ConvolutionalNeuralNet(embeddings, max_sequence_length, num_words, embedding_dim, labels_index):\n",
    "    \n",
    "    # Embedding layer\n",
    "    embedding_layer = Embedding(num_words,\n",
    "                            embedding_dim,\n",
    "                            weights=[embeddings],\n",
    "                            input_length=max_sequence_length,\n",
    "                            trainable=False)\n",
    "    \n",
    "    sequence_input = Input(shape=(max_sequence_length,), dtype='int32')\n",
    "    embedded_sequences = embedding_layer(sequence_input)\n",
    "\n",
    "    convs = []\n",
    "    \n",
    "    #Kernal (window) size\n",
    "    filter_sizes = [2,3,4,5]\n",
    "\n",
    "    # Convolution Layer and max-pooling\n",
    "    for filter_size in filter_sizes:\n",
    "        l_conv = Conv1D(filters=512, kernel_size=filter_size, activation='relu')(embedded_sequences)\n",
    "        l_pool = GlobalMaxPooling1D()(l_conv)\n",
    "        convs.append(l_pool)\n",
    "        \n",
    "    l_merge = concatenate(convs, axis=1)\n",
    "    \n",
    "    # softmax layer for multiclass identification \n",
    "    x = Dropout(0.1)(l_merge)  \n",
    "    x = Dense(512, activation='relu')(x)\n",
    "    x = Dropout(0.2)(x)\n",
    "    preds = Dense(labels_index, activation='softmax')(x)\n",
    "\n",
    "    model = Model(sequence_input, preds)\n",
    "    model.compile(loss= 'categorical_crossentropy',\n",
    "                 optimizer = keras.optimizers.RMSprop(learning_rate=1e-3),\n",
    "#                    optimizer='adam',\n",
    "                  metrics=['accuracy'])\n",
    "    return model"
   ]
  },
  {
   "cell_type": "code",
   "execution_count": 81,
   "metadata": {},
   "outputs": [],
   "source": [
    "# Splitting train data into X_train and y_train\n",
    "y_train = data_train[label_names].values\n",
    "x_train = cnnTrainData\n",
    "y_tr = y_train"
   ]
  },
  {
   "cell_type": "code",
   "execution_count": 82,
   "metadata": {},
   "outputs": [],
   "source": [
    "# Splitting train data into X_test and y_test\n",
    "y_test = data_test[label_names].values\n",
    "x_test = cnnTestData\n",
    "y_tst = y_test"
   ]
  },
  {
   "cell_type": "code",
   "execution_count": 83,
   "metadata": {},
   "outputs": [],
   "source": [
    "model = ConvolutionalNeuralNet(train_embedding_weights, MAX_SEQUENCE_LENGTH, len(train_word_index)+1, EMBEDDING_DIM, len(list(label_names)))"
   ]
  },
  {
   "cell_type": "code",
   "execution_count": 84,
   "metadata": {},
   "outputs": [
    {
     "name": "stdout",
     "output_type": "stream",
     "text": [
      "Model: \"model_11\"\n",
      "__________________________________________________________________________________________________\n",
      "Layer (type)                    Output Shape         Param #     Connected to                     \n",
      "==================================================================================================\n",
      "input_12 (InputLayer)           [(None, 150)]        0                                            \n",
      "__________________________________________________________________________________________________\n",
      "embedding_11 (Embedding)        (None, 150, 50)      694900      input_12[0][0]                   \n",
      "__________________________________________________________________________________________________\n",
      "conv1d_44 (Conv1D)              (None, 149, 512)     51712       embedding_11[0][0]               \n",
      "__________________________________________________________________________________________________\n",
      "conv1d_45 (Conv1D)              (None, 148, 512)     77312       embedding_11[0][0]               \n",
      "__________________________________________________________________________________________________\n",
      "conv1d_46 (Conv1D)              (None, 147, 512)     102912      embedding_11[0][0]               \n",
      "__________________________________________________________________________________________________\n",
      "conv1d_47 (Conv1D)              (None, 146, 512)     128512      embedding_11[0][0]               \n",
      "__________________________________________________________________________________________________\n",
      "global_max_pooling1d_44 (Global (None, 512)          0           conv1d_44[0][0]                  \n",
      "__________________________________________________________________________________________________\n",
      "global_max_pooling1d_45 (Global (None, 512)          0           conv1d_45[0][0]                  \n",
      "__________________________________________________________________________________________________\n",
      "global_max_pooling1d_46 (Global (None, 512)          0           conv1d_46[0][0]                  \n",
      "__________________________________________________________________________________________________\n",
      "global_max_pooling1d_47 (Global (None, 512)          0           conv1d_47[0][0]                  \n",
      "__________________________________________________________________________________________________\n",
      "concatenate_11 (Concatenate)    (None, 2048)         0           global_max_pooling1d_44[0][0]    \n",
      "                                                                 global_max_pooling1d_45[0][0]    \n",
      "                                                                 global_max_pooling1d_46[0][0]    \n",
      "                                                                 global_max_pooling1d_47[0][0]    \n",
      "__________________________________________________________________________________________________\n",
      "dropout_22 (Dropout)            (None, 2048)         0           concatenate_11[0][0]             \n",
      "__________________________________________________________________________________________________\n",
      "dense_22 (Dense)                (None, 512)          1049088     dropout_22[0][0]                 \n",
      "__________________________________________________________________________________________________\n",
      "dropout_23 (Dropout)            (None, 512)          0           dense_22[0][0]                   \n",
      "__________________________________________________________________________________________________\n",
      "dense_23 (Dense)                (None, 3)            1539        dropout_23[0][0]                 \n",
      "==================================================================================================\n",
      "Total params: 2,105,975\n",
      "Trainable params: 1,411,075\n",
      "Non-trainable params: 694,900\n",
      "__________________________________________________________________________________________________\n"
     ]
    }
   ],
   "source": [
    "model.summary()"
   ]
  },
  {
   "cell_type": "markdown",
   "metadata": {},
   "source": [
    "### Train CNN"
   ]
  },
  {
   "cell_type": "code",
   "execution_count": 85,
   "metadata": {},
   "outputs": [],
   "source": [
    "num_epochs = 10\n",
    "batch_size = 512"
   ]
  },
  {
   "cell_type": "code",
   "execution_count": 86,
   "metadata": {},
   "outputs": [
    {
     "name": "stdout",
     "output_type": "stream",
     "text": [
      "Epoch 1/10\n",
      "17/17 [==============================] - 12s 694ms/step - loss: 2.0982 - accuracy: 0.3841 - val_loss: 2.5931 - val_accuracy: 0.3381\n",
      "Epoch 2/10\n",
      "17/17 [==============================] - 12s 682ms/step - loss: 1.0971 - accuracy: 0.5172 - val_loss: 1.0989 - val_accuracy: 0.4061\n",
      "Epoch 3/10\n",
      "17/17 [==============================] - 12s 687ms/step - loss: 0.9183 - accuracy: 0.5807 - val_loss: 0.7988 - val_accuracy: 0.6553\n",
      "Epoch 4/10\n",
      "17/17 [==============================] - 12s 685ms/step - loss: 0.7605 - accuracy: 0.6748 - val_loss: 1.5264 - val_accuracy: 0.4029\n",
      "Epoch 5/10\n",
      "17/17 [==============================] - 11s 665ms/step - loss: 0.7101 - accuracy: 0.7170 - val_loss: 2.0873 - val_accuracy: 0.4083\n",
      "Epoch 6/10\n",
      "17/17 [==============================] - 12s 711ms/step - loss: 0.6275 - accuracy: 0.7462 - val_loss: 0.9036 - val_accuracy: 0.6334\n",
      "Epoch 7/10\n",
      "17/17 [==============================] - 12s 701ms/step - loss: 0.5316 - accuracy: 0.7837 - val_loss: 1.0932 - val_accuracy: 0.5609\n",
      "Epoch 8/10\n",
      "17/17 [==============================] - 12s 686ms/step - loss: 0.5267 - accuracy: 0.7798 - val_loss: 0.4559 - val_accuracy: 0.7849\n",
      "Epoch 9/10\n",
      "17/17 [==============================] - 12s 687ms/step - loss: 0.4528 - accuracy: 0.8088 - val_loss: 0.5148 - val_accuracy: 0.7936\n",
      "Epoch 10/10\n",
      "17/17 [==============================] - 12s 699ms/step - loss: 0.4734 - accuracy: 0.8102 - val_loss: 0.7211 - val_accuracy: 0.7234\n"
     ]
    }
   ],
   "source": [
    "history = model.fit(x_train, y_tr, epochs=num_epochs, validation_split=0.1, shuffle=True, batch_size=batch_size)"
   ]
  },
  {
   "cell_type": "code",
   "execution_count": 87,
   "metadata": {},
   "outputs": [
    {
     "name": "stdout",
     "output_type": "stream",
     "text": [
      "32/32 [==============================] - 0s 15ms/step - loss: 0.7242 - accuracy: 0.7213\n"
     ]
    }
   ],
   "source": [
    "# evaluate on test data\n",
    "results = model.evaluate(x_test, y_tst)"
   ]
  },
  {
   "cell_type": "code",
   "execution_count": 88,
   "metadata": {},
   "outputs": [
    {
     "name": "stdout",
     "output_type": "stream",
     "text": [
      "1/1 [==============================] - 0s 2ms/step\n"
     ]
    }
   ],
   "source": [
    "# predict model\n",
    "predictions = model.predict(cnnTestData, batch_size=1024, verbose=1)"
   ]
  },
  {
   "cell_type": "markdown",
   "metadata": {},
   "source": [
    "### Testing few sentences using our model"
   ]
  },
  {
   "cell_type": "code",
   "execution_count": 89,
   "metadata": {},
   "outputs": [],
   "source": [
    "\n",
    "labels = ['0', '1', '2']\n",
    "\n",
    "def makeprediction(texts):\n",
    "    tk = Tokenizer()\n",
    "    tk.fit_on_texts(texts)\n",
    "    index_list = tk.texts_to_sequences(texts)\n",
    "    x_train = pad_sequences(index_list, maxlen=150)\n",
    "    pred = model.predict(x_train)\n",
    "    result = labels[np.argmax(pred)]\n",
    "    return result"
   ]
  },
  {
   "cell_type": "code",
   "execution_count": 90,
   "metadata": {},
   "outputs": [],
   "source": [
    "prediction_labels=[]\n",
    "for p in predictions:\n",
    "    prediction_labels.append(labels[np.argmax(p)])"
   ]
  },
  {
   "cell_type": "code",
   "execution_count": 91,
   "metadata": {},
   "outputs": [
    {
     "data": {
      "text/plain": [
       "0.7213438735177866"
      ]
     },
     "execution_count": 91,
     "metadata": {},
     "output_type": "execute_result"
    }
   ],
   "source": [
    "sum(data_test.Label==prediction_labels)/len(prediction_labels)"
   ]
  },
  {
   "cell_type": "code",
   "execution_count": 92,
   "metadata": {},
   "outputs": [
    {
     "data": {
      "text/plain": [
       "1    351\n",
       "0    341\n",
       "2    320\n",
       "Name: Label, dtype: int64"
      ]
     },
     "execution_count": 92,
     "metadata": {},
     "output_type": "execute_result"
    }
   ],
   "source": [
    "data_test.Label.value_counts()"
   ]
  },
  {
   "cell_type": "code",
   "execution_count": 93,
   "metadata": {},
   "outputs": [
    {
     "data": {
      "image/png": "[encoded data removed]",
      "text/plain": [
       "<Figure size 432x288 with 2 Axes>"
      ]
     },
     "metadata": {
      "needs_background": "light"
     },
     "output_type": "display_data"
    }
   ],
   "source": [
    "plt.figure(1)\n",
    "# summarize history for accuracy\n",
    "plt.subplot(211)\n",
    "plt.plot(history.history['accuracy'])\n",
    "plt.plot(history.history['val_accuracy'])\n",
    "plt.title('model accuracy')\n",
    "plt.ylabel('accuracy')\n",
    "plt.xlabel('epoch')\n",
    "plt.legend(['train', 'val'], loc='upper left')\n",
    "# summarize history for loss\n",
    "plt.subplot(212)\n",
    "plt.plot(history.history['loss'])\n",
    "plt.plot(history.history['val_loss'])\n",
    "plt.title('model loss')\n",
    "plt.ylabel('loss')\n",
    "plt.xlabel('epoch')\n",
    "plt.legend(['train', 'val'], loc='upper left')\n",
    "plt.tight_layout()\n",
    "plt.show()"
   ]
  },
  {
   "cell_type": "code",
   "execution_count": 94,
   "metadata": {},
   "outputs": [
    {
     "name": "stdout",
     "output_type": "stream",
     "text": [
      "Confusion Matrix :\n",
      "[[188 153   0]\n",
      " [  1 350   0]\n",
      " [  0 128 192]]\n",
      "Accuracy Score : 0.7213438735177866\n",
      "Report : \n",
      "              precision    recall  f1-score   support\n",
      "\n",
      "           0       0.99      0.55      0.71       341\n",
      "           1       0.55      1.00      0.71       351\n",
      "           2       1.00      0.60      0.75       320\n",
      "\n",
      "    accuracy                           0.72      1012\n",
      "   macro avg       0.85      0.72      0.72      1012\n",
      "weighted avg       0.84      0.72      0.72      1012\n",
      "\n"
     ]
    }
   ],
   "source": [
    "results = confusion_matrix(data_test.Label, prediction_labels)\n",
    "print ('Confusion Matrix :')\n",
    "print(results) \n",
    "print ('Accuracy Score :',accuracy_score(data_test.Label, prediction_labels))\n",
    "print ('Report : ')\n",
    "print (classification_report(data_test.Label, prediction_labels))"
   ]
  },
  {
   "cell_type": "code",
   "execution_count": 95,
   "metadata": {},
   "outputs": [
    {
     "name": "stdout",
     "output_type": "stream",
     "text": [
      "                        Convolution Neural Network\n"
     ]
    },
    {
     "data": {
      "image/png": "[encoded data removed]",
      "text/plain": [
       "<Figure size 360x360 with 2 Axes>"
      ]
     },
     "metadata": {
      "needs_background": "light"
     },
     "output_type": "display_data"
    }
   ],
   "source": [
    "from sklearn.metrics import confusion_matrix\n",
    "print(\"                        Convolution Neural Network\")\n",
    "conf_mat = confusion_matrix(data_test.Label, prediction_labels)\n",
    "fig, ax = plt.subplots(figsize=(5,5))\n",
    "sns.heatmap(conf_mat, annot=True, fmt='d', cmap ='YlGnBu',\n",
    "            xticklabels=category_id_df.Label.values, yticklabels=category_id_df.Label.values)\n",
    "plt.ylabel('Actual')\n",
    "plt.xlabel('Predicted')\n",
    "plt.show()"
   ]
  },
  {
   "cell_type": "markdown",
   "metadata": {},
   "source": [
    "### Testing CNN using KFold cross validation"
   ]
  },
  {
   "cell_type": "code",
   "execution_count": 52,
   "metadata": {},
   "outputs": [
    {
     "name": "stdout",
     "output_type": "stream",
     "text": [
      "Fold:  1\n",
      "Epoch 1/5\n",
      "257/257 [==============================] - 16s 62ms/step - loss: 0.7847 - accuracy: 0.6761 - val_loss: 0.3835 - val_accuracy: 0.8321\n",
      "Epoch 2/5\n",
      "257/257 [==============================] - 16s 63ms/step - loss: 0.3843 - accuracy: 0.8490 - val_loss: 0.4493 - val_accuracy: 0.8178\n",
      "Epoch 3/5\n",
      "257/257 [==============================] - 16s 62ms/step - loss: 0.3067 - accuracy: 0.8849 - val_loss: 0.3790 - val_accuracy: 0.8683\n",
      "Epoch 4/5\n",
      "257/257 [==============================] - 16s 62ms/step - loss: 0.2830 - accuracy: 0.8985 - val_loss: 0.2578 - val_accuracy: 0.8847\n",
      "Epoch 5/5\n",
      "257/257 [==============================] - 16s 62ms/step - loss: 0.2585 - accuracy: 0.9066 - val_loss: 0.2518 - val_accuracy: 0.9056\n",
      "Results for current fold:\n",
      "8/8 [==============================] - 0s 45ms/step - loss: 0.2883 - accuracy: 0.8903\n",
      "Fold:  2\n",
      "Epoch 1/5\n",
      "257/257 [==============================] - 17s 64ms/step - loss: 0.7779 - accuracy: 0.6679 - val_loss: 0.6497 - val_accuracy: 0.7289\n",
      "Epoch 2/5\n",
      "257/257 [==============================] - 16s 63ms/step - loss: 0.3953 - accuracy: 0.8422 - val_loss: 0.3546 - val_accuracy: 0.8408\n",
      "Epoch 3/5\n",
      "257/257 [==============================] - 16s 63ms/step - loss: 0.3130 - accuracy: 0.8772 - val_loss: 0.4156 - val_accuracy: 0.8771\n",
      "Epoch 4/5\n",
      "257/257 [==============================] - 16s 63ms/step - loss: 0.2741 - accuracy: 0.8980 - val_loss: 0.3207 - val_accuracy: 0.8990\n",
      "Epoch 5/5\n",
      "257/257 [==============================] - 16s 63ms/step - loss: 0.2571 - accuracy: 0.9087 - val_loss: 0.3920 - val_accuracy: 0.8869\n",
      "Results for current fold:\n",
      "8/8 [==============================] - 0s 45ms/step - loss: 0.4027 - accuracy: 0.8725\n",
      "Fold:  3\n",
      "Epoch 1/5\n",
      "257/257 [==============================] - 16s 64ms/step - loss: 0.7367 - accuracy: 0.6833 - val_loss: 0.3697 - val_accuracy: 0.8650\n",
      "Epoch 2/5\n",
      "257/257 [==============================] - 16s 62ms/step - loss: 0.3552 - accuracy: 0.8584 - val_loss: 0.2727 - val_accuracy: 0.8935\n",
      "Epoch 3/5\n",
      "257/257 [==============================] - 16s 62ms/step - loss: 0.2982 - accuracy: 0.8847 - val_loss: 0.2690 - val_accuracy: 0.8968\n",
      "Epoch 4/5\n",
      "257/257 [==============================] - 16s 62ms/step - loss: 0.2799 - accuracy: 0.8937 - val_loss: 0.2731 - val_accuracy: 0.8902\n",
      "Epoch 5/5\n",
      "257/257 [==============================] - 16s 62ms/step - loss: 0.2584 - accuracy: 0.9058 - val_loss: 0.2070 - val_accuracy: 0.9210\n",
      "Results for current fold:\n",
      "8/8 [==============================] - 0s 44ms/step - loss: 0.2475 - accuracy: 0.9130\n",
      "Fold:  4\n",
      "Epoch 1/5\n",
      "257/257 [==============================] - 16s 63ms/step - loss: 0.8195 - accuracy: 0.6566 - val_loss: 0.8675 - val_accuracy: 0.6905\n",
      "Epoch 2/5\n",
      "257/257 [==============================] - 16s 62ms/step - loss: 0.3964 - accuracy: 0.8435 - val_loss: 0.3179 - val_accuracy: 0.8716\n",
      "Epoch 3/5\n",
      "257/257 [==============================] - 16s 62ms/step - loss: 0.3031 - accuracy: 0.8821 - val_loss: 0.7656 - val_accuracy: 0.7377\n",
      "Epoch 4/5\n",
      "257/257 [==============================] - 16s 62ms/step - loss: 0.2799 - accuracy: 0.8958 - val_loss: 0.2348 - val_accuracy: 0.9100\n",
      "Epoch 5/5\n",
      "257/257 [==============================] - 16s 62ms/step - loss: 0.2591 - accuracy: 0.9065 - val_loss: 0.2317 - val_accuracy: 0.9078\n",
      "Results for current fold:\n",
      "8/8 [==============================] - 0s 46ms/step - loss: 0.2198 - accuracy: 0.9101\n",
      "Fold:  5\n",
      "Epoch 1/5\n",
      "257/257 [==============================] - 16s 63ms/step - loss: 0.7142 - accuracy: 0.6921 - val_loss: 0.4413 - val_accuracy: 0.8013\n",
      "Epoch 2/5\n",
      "257/257 [==============================] - 16s 62ms/step - loss: 0.3578 - accuracy: 0.8589 - val_loss: 0.3609 - val_accuracy: 0.8441\n",
      "Epoch 3/5\n",
      "257/257 [==============================] - 16s 62ms/step - loss: 0.3081 - accuracy: 0.8813 - val_loss: 0.3609 - val_accuracy: 0.8606\n",
      "Epoch 4/5\n",
      "257/257 [==============================] - 16s 63ms/step - loss: 0.2732 - accuracy: 0.8997 - val_loss: 0.2564 - val_accuracy: 0.9023\n",
      "Epoch 5/5\n",
      "257/257 [==============================] - 16s 62ms/step - loss: 0.2503 - accuracy: 0.9066 - val_loss: 0.6223 - val_accuracy: 0.8847\n",
      "Results for current fold:\n",
      "8/8 [==============================] - 0s 44ms/step - loss: 0.6799 - accuracy: 0.8785\n",
      "Fold:  6\n",
      "Epoch 1/5\n",
      "257/257 [==============================] - 16s 61ms/step - loss: 0.7610 - accuracy: 0.6757 - val_loss: 0.5980 - val_accuracy: 0.7442\n",
      "Epoch 2/5\n",
      "257/257 [==============================] - 16s 61ms/step - loss: 0.3611 - accuracy: 0.8579 - val_loss: 0.6558 - val_accuracy: 0.7783\n",
      "Epoch 3/5\n",
      "257/257 [==============================] - 16s 61ms/step - loss: 0.2978 - accuracy: 0.8874 - val_loss: 0.2477 - val_accuracy: 0.9166\n",
      "Epoch 4/5\n",
      "257/257 [==============================] - 16s 62ms/step - loss: 0.2567 - accuracy: 0.9032 - val_loss: 0.6367 - val_accuracy: 0.8310\n",
      "Epoch 5/5\n",
      "257/257 [==============================] - 16s 61ms/step - loss: 0.2599 - accuracy: 0.9075 - val_loss: 0.2668 - val_accuracy: 0.9177\n",
      "Results for current fold:\n",
      "8/8 [==============================] - 0s 45ms/step - loss: 0.2961 - accuracy: 0.9012\n",
      "Fold:  7\n",
      "Epoch 1/5\n",
      "257/257 [==============================] - 16s 63ms/step - loss: 0.7569 - accuracy: 0.6682 - val_loss: 1.1452 - val_accuracy: 0.6411\n",
      "Epoch 2/5\n",
      "257/257 [==============================] - 16s 62ms/step - loss: 0.3898 - accuracy: 0.8427 - val_loss: 0.3470 - val_accuracy: 0.8408\n",
      "Epoch 3/5\n",
      "257/257 [==============================] - 16s 62ms/step - loss: 0.3061 - accuracy: 0.8825 - val_loss: 0.3094 - val_accuracy: 0.8979\n",
      "Epoch 4/5\n",
      "257/257 [==============================] - 16s 62ms/step - loss: 0.2785 - accuracy: 0.8948 - val_loss: 0.2354 - val_accuracy: 0.9144\n",
      "Epoch 5/5\n",
      "257/257 [==============================] - 16s 62ms/step - loss: 0.2648 - accuracy: 0.8998 - val_loss: 0.4895 - val_accuracy: 0.8277\n",
      "Results for current fold:\n",
      "8/8 [==============================] - 0s 45ms/step - loss: 0.4338 - accuracy: 0.8300\n",
      "Fold:  8\n",
      "Epoch 1/5\n",
      "257/257 [==============================] - 16s 61ms/step - loss: 0.7896 - accuracy: 0.6565 - val_loss: 0.5442 - val_accuracy: 0.7585\n",
      "Epoch 2/5\n",
      "257/257 [==============================] - 16s 61ms/step - loss: 0.4010 - accuracy: 0.8376 - val_loss: 2.2990 - val_accuracy: 0.5258\n",
      "Epoch 3/5\n",
      "257/257 [==============================] - 16s 61ms/step - loss: 0.3157 - accuracy: 0.8783 - val_loss: 0.3139 - val_accuracy: 0.8836\n",
      "Epoch 4/5\n",
      "257/257 [==============================] - 16s 61ms/step - loss: 0.2748 - accuracy: 0.8982 - val_loss: 0.3544 - val_accuracy: 0.8540\n",
      "Epoch 5/5\n",
      "257/257 [==============================] - 16s 61ms/step - loss: 0.2629 - accuracy: 0.9068 - val_loss: 0.3468 - val_accuracy: 0.8760\n",
      "Results for current fold:\n",
      "8/8 [==============================] - 0s 44ms/step - loss: 0.4187 - accuracy: 0.8547\n",
      "Fold:  9\n",
      "Epoch 1/5\n",
      "257/257 [==============================] - 16s 63ms/step - loss: 0.7541 - accuracy: 0.6743 - val_loss: 0.4080 - val_accuracy: 0.8189\n",
      "Epoch 2/5\n",
      "257/257 [==============================] - 16s 61ms/step - loss: 0.3560 - accuracy: 0.8603 - val_loss: 0.3201 - val_accuracy: 0.8782\n",
      "Epoch 3/5\n",
      "257/257 [==============================] - 15s 60ms/step - loss: 0.2972 - accuracy: 0.8836 - val_loss: 0.3371 - val_accuracy: 0.8672\n",
      "Epoch 4/5\n",
      "257/257 [==============================] - 16s 61ms/step - loss: 0.2732 - accuracy: 0.8990 - val_loss: 1.7918 - val_accuracy: 0.7234\n",
      "Epoch 5/5\n",
      "257/257 [==============================] - 16s 61ms/step - loss: 0.2582 - accuracy: 0.9064 - val_loss: 0.2587 - val_accuracy: 0.8990\n",
      "Results for current fold:\n",
      "8/8 [==============================] - 0s 47ms/step - loss: 0.2809 - accuracy: 0.9081\n",
      "Fold:  10\n",
      "Epoch 1/5\n",
      "257/257 [==============================] - 16s 63ms/step - loss: 0.8000 - accuracy: 0.6622 - val_loss: 0.3882 - val_accuracy: 0.8430\n",
      "Epoch 2/5\n",
      "257/257 [==============================] - 16s 61ms/step - loss: 0.3933 - accuracy: 0.8446 - val_loss: 0.4644 - val_accuracy: 0.8266\n",
      "Epoch 3/5\n",
      "257/257 [==============================] - 16s 62ms/step - loss: 0.3108 - accuracy: 0.8810 - val_loss: 0.2635 - val_accuracy: 0.8979\n",
      "Epoch 4/5\n",
      "257/257 [==============================] - 16s 61ms/step - loss: 0.2805 - accuracy: 0.8938 - val_loss: 0.2345 - val_accuracy: 0.9023\n",
      "Epoch 5/5\n",
      "257/257 [==============================] - 16s 62ms/step - loss: 0.2610 - accuracy: 0.9038 - val_loss: 0.3102 - val_accuracy: 0.8825\n",
      "Results for current fold:\n",
      "8/8 [==============================] - 0s 46ms/step - loss: 0.2873 - accuracy: 0.8953\n"
     ]
    }
   ],
   "source": [
    "from sklearn.model_selection import StratifiedKFold\n",
    "from scipy.stats import zscore\n",
    "from sklearn import metrics\n",
    "import tensorflow as tf\n",
    "import random\n",
    "\n",
    "f_score=[]\n",
    "fold = 10\n",
    "label_names = ['0', '1', '2']\n",
    "num_epochs = 5\n",
    "batch_size = 32\n",
    "#oos_y = []\n",
    "#oos_pred = []\n",
    "results = []\n",
    "#for train, test in kf.split(data[\"tokens\"], data['Label']):\n",
    "\n",
    "for i in range(fold):\n",
    "    print(\"Fold: \", i+1)\n",
    "    random_num = np.random.randint(1,7000, 1)[0]\n",
    "    data_train, data_test = train_test_split(data, test_size=0.10, shuffle = True, random_state = random_num)\n",
    "\n",
    "    # # total training words\n",
    "    totalTrainingWords = [word for tokens in data_train[\"tokens\"] for word in tokens]\n",
    "\n",
    "    # # Storing Length of the training sentence\n",
    "    lengthTrainingSentences = [len(tokens) for tokens in data_train[\"tokens\"]]\n",
    "\n",
    "    # # training Vocabulary size\n",
    "    trainingVocabSize = sorted(list(set(totalTrainingWords)))\n",
    "\n",
    "    ## Total number of lines\n",
    "    linesCount = len(data_train[\"tokens\"])\n",
    "    \n",
    "    tokenizer = Tokenizer(num_words=len(trainingVocabSize), lower=True, char_level=False)\n",
    "    tokenizer.fit_on_texts(data_train[\"Text_Final\"].tolist())\n",
    "    training_sequences = tokenizer.texts_to_sequences(data_train[\"Text_Final\"].tolist())\n",
    "\n",
    "    train_word_index = tokenizer.word_index\n",
    "    cnnTrainData = pad_sequences(training_sequences, maxlen=MAX_SEQUENCE_LENGTH)\n",
    "    \n",
    "    train_embedding_weights = np.zeros((len(train_word_index)+1, EMBEDDING_DIM))\n",
    "    \n",
    "    for word,index in train_word_index.items():\n",
    "        train_embedding_weights[index,:] = word2vec[word] if word in word2vec else np.random.rand(EMBEDDING_DIM)\n",
    "        \n",
    "    test_sequences = tokenizer.texts_to_sequences(data_test[\"Text_Final\"].tolist())\n",
    "    cnnTestData = pad_sequences(test_sequences, maxlen= MAX_SEQUENCE_LENGTH)\n",
    "    \n",
    "    # Splitting train data into X_train and y_train\n",
    "    y_train = data_train[label_names].values\n",
    "    x_train = cnnTrainData\n",
    "    y_tr = y_train\n",
    "    \n",
    "    # Splitting train data into X_test and y_test\n",
    "    y_test = data_test[label_names].values\n",
    "    x_test = cnnTestData\n",
    "    y_tst = y_test\n",
    "    \n",
    "    # create model\n",
    "    model = ConvolutionalNeuralNet(train_embedding_weights, MAX_SEQUENCE_LENGTH, len(train_word_index)+1, EMBEDDING_DIM, len(list(label_names)))\n",
    "    \n",
    "    #Train Model\n",
    "    history = model.fit(x_train, y_tr, epochs=num_epochs, validation_split=0.1, shuffle=True, batch_size=batch_size)\n",
    "      \n",
    "    # model evaluate\n",
    "    \n",
    "    print(\"Results for current fold:\")\n",
    "    results.append(model.evaluate(x_test, y_tst, batch_size=128))\n",
    "\n",
    "#     predictions = model.predict(cnnTestData, batch_size=1024, verbose=0)\n",
    "#     oos_y.append(y_test)\n",
    "#     oos_pred.append(predictions)\n",
    "    \n",
    "    #score = np.sqrt(metrics.mean_squared_error(predictions, y_test))\n",
    "#    f_score.append(count)\n",
    "\n",
    "model.save('model_CNN.h5')    "
   ]
  },
  {
   "cell_type": "code",
   "execution_count": 53,
   "metadata": {},
   "outputs": [
    {
     "name": "stdout",
     "output_type": "stream",
     "text": [
      "Kfold Mean:  0.8853754878044129\n"
     ]
    }
   ],
   "source": [
    "import statistics \n",
    "\n",
    "score = []\n",
    "for i in results:\n",
    "    score.append(i[1])\n",
    "x = statistics.mean(score)\n",
    "    \n",
    "print(\"Kfold Mean: \", x)"
   ]
  },
  {
   "cell_type": "code",
   "execution_count": 58,
   "metadata": {},
   "outputs": [],
   "source": [
    "# translator\n",
    "translator = Translator()"
   ]
  },
  {
   "cell_type": "code",
   "execution_count": 59,
   "metadata": {},
   "outputs": [
    {
     "name": "stdout",
     "output_type": "stream",
     "text": [
      "Hindi:  इसलाम सुंदर है\n",
      "Translated: Islam is beautiful\n",
      "Predicted Label:  1\n"
     ]
    }
   ],
   "source": [
    "\n",
    "# 1\n",
    "hin_text =  \"इसलाम सुंदर है\"\n",
    "print(\"Hindi: \", hin_text)\n",
    "\n",
    "trans = translator.translate(hin_text, dest='en')\n",
    "print('Translated:', trans.text)\n",
    "texts = [trans.text]\n",
    "print('Predicted Label: ',makeprediction(texts))"
   ]
  },
  {
   "cell_type": "code",
   "execution_count": 62,
   "metadata": {},
   "outputs": [
    {
     "name": "stdout",
     "output_type": "stream",
     "text": [
      "Hindi:   समाज वादी  पार्टी  जिंदाबाद \n",
      "Translated: Samajwadi Party Zindabad\n",
      "Predicted Label:  1\n"
     ]
    }
   ],
   "source": [
    "# 0\n",
    "hin_text =  \" समाज वादी  पार्टी  जिंदाबाद \"\n",
    "print(\"Hindi: \", hin_text)\n",
    "\n",
    "trans = translator.translate(hin_text, dest='en')\n",
    "print('Translated:', trans.text)\n",
    "texts = [trans.text]\n",
    "print('Predicted Label: ',makeprediction(texts))"
   ]
  },
  {
   "cell_type": "code",
   "execution_count": 60,
   "metadata": {},
   "outputs": [
    {
     "name": "stdout",
     "output_type": "stream",
     "text": [
      "Hindi:  'गाजा में दीवाली   की ढेरो बधाई मित्रो 😊💐  #IsraeliBombing 😂😂\n",
      "Translated: 'Happy Diwali greetings in Gaza Friends 😊💐 #IsraeliBombing 😂😂\n",
      "Predicted Label:  2\n"
     ]
    }
   ],
   "source": [
    "# 2\n",
    "hin_text =  \"'गाजा में दीवाली   की ढेरो बधाई मित्रो 😊💐  #IsraeliBombing 😂😂\"\n",
    "print(\"Hindi: \", hin_text)\n",
    "\n",
    "trans = translator.translate(hin_text, dest='en')\n",
    "print('Translated:', trans.text)\n",
    "texts = [trans.text]\n",
    "print('Predicted Label: ',makeprediction(texts))"
   ]
  },
  {
   "cell_type": "code",
   "execution_count": 61,
   "metadata": {},
   "outputs": [
    {
     "name": "stdout",
     "output_type": "stream",
     "text": [
      "1\n"
     ]
    }
   ],
   "source": [
    "#0\n",
    "texts = [\"Sachin: Once there was a fight between Yusuf and Bhajji. Sehwag: Paji, was he Muhammad Yusuf or Yusuf Youhana at that time. This man will not let him live even after retirement.\"]\n",
    "print(makeprediction(texts))"
   ]
  },
  {
   "cell_type": "code",
   "execution_count": 55,
   "metadata": {},
   "outputs": [
    {
     "name": "stdout",
     "output_type": "stream",
     "text": [
      "2\n"
     ]
    }
   ],
   "source": [
    "# 2\n",
    "texts = [\"'@ Chatterj1Asking has blew you there, the police have blamed jihadis'\"]\n",
    "print(makeprediction(texts))"
   ]
  },
  {
   "cell_type": "code",
   "execution_count": 56,
   "metadata": {},
   "outputs": [
    {
     "name": "stdout",
     "output_type": "stream",
     "text": [
      "1\n"
     ]
    }
   ],
   "source": [
    "# 1\n",
    "texts = [\"She follows islam\"]\n",
    "print(makeprediction(texts))"
   ]
  },
  {
   "cell_type": "markdown",
   "metadata": {},
   "source": [
    "### Reference\n",
    "[1] \"Convolutional Neural Networks for Sentence Classification\" by Yoon Kim\n"
   ]
  }
 ],
 "metadata": {
  "kernelspec": {
   "display_name": "Python 3",
   "language": "python",
   "name": "python3"
  },
  "language_info": {
   "codemirror_mode": {
    "name": "ipython",
    "version": 3
   },
   "file_extension": ".py",
   "mimetype": "text/x-python",
   "name": "python",
   "nbconvert_exporter": "python",
   "pygments_lexer": "ipython3",
   "version": "3.8.5"
  }
 },
 "nbformat": 4,
 "nbformat_minor": 4
}
