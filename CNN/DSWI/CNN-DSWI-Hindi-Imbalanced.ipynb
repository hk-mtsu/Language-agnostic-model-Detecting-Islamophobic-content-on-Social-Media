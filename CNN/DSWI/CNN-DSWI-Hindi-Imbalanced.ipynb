{
 "cells": [
  {
   "cell_type": "markdown",
   "metadata": {},
   "source": [
    "#### The Program involves following features:\n",
    "Convolutional Neural Network CNN\n",
    "1. Using Word2Vec implementing CNN model\n",
    "2. Dispaly Confusion Matrix, precision, recall and F1-score\n",
    "3. Display few prediction using predict module. \n",
    "4. Get 10-fold Average of the CNN model.\n",
    "\n",
    "Support Vector Method SVM\n",
    "1. Creating feature vector using TF-IDF and Bag-of-words.\n",
    "2. Dispaly Confusion Matrix, precision, recall and F1-score\n",
    "3. Display few prediction using predict module. \n",
    "4. Get 10-fold Average of the SVM model.\n",
    "\n",
    "Random Foresr Method RFM \n",
    "1. Creating feature vector using TF-IDF.\n",
    "2. Dispaly Confusion Matrix, precision, recall and F1-score\n",
    "3. Display few prediction using predict module. \n",
    "4. Get 10-fold Average of the RFM model."
   ]
  },
  {
   "cell_type": "code",
   "execution_count": 89,
   "metadata": {},
   "outputs": [],
   "source": [
    "from __future__ import division, print_function\n",
    "\n",
    "# dataframe\n",
    "import pandas as pd\n",
    "\n",
    "# numpy array\n",
    "import numpy as np\n",
    "\n",
    "# figures visualization\n",
    "import matplotlib.pyplot as plt\n",
    "from sklearn.metrics import confusion_matrix \n",
    "import seaborn as sns\n",
    "\n",
    "# calc accuracy\n",
    "from sklearn.metrics import accuracy_score \n",
    "from sklearn.metrics import classification_report \n",
    "\n",
    "# word2vec\n",
    "import gensim \n",
    "from gensim import models\n",
    "from gensim.models import Word2Vec \n",
    "from gensim.models import KeyedVectors\n",
    "\n",
    "# CNN model and keras preprocessing\n",
    "import keras\n",
    "from keras.callbacks import ModelCheckpoint\n",
    "from keras.layers import Dense, Dropout, Reshape, Flatten, concatenate, Input, Conv1D, GlobalMaxPooling1D, Embedding, Conv2D, GlobalMaxPooling2D\n",
    "from keras.models import Sequential\n",
    "from keras.models import Model\n",
    "from keras.preprocessing.text import Tokenizer\n",
    "from keras.preprocessing.sequence import pad_sequences\n",
    "\n",
    "# nltk data preprocessing\n",
    "import nltk\n",
    "from nltk import word_tokenize\n",
    "from nltk.tokenize import sent_tokenize \n",
    "from nltk.stem import WordNetLemmatizer\n",
    "\n",
    "# stopword - remove buzz word\n",
    "from nltk.corpus import stopwords\n",
    "\n",
    "# splitting data\n",
    "from sklearn.model_selection import train_test_split\n",
    "\n",
    "# punctuation - data imbalance\n",
    "import collections\n",
    "import re\n",
    "import string\n",
    "\n",
    "# File path\n",
    "import os\n",
    "import os.path\n",
    "from os import path\n",
    "\n",
    "# Translator\n",
    "import googletrans\n",
    "from googletrans import Translator"
   ]
  },
  {
   "cell_type": "code",
   "execution_count": 90,
   "metadata": {},
   "outputs": [],
   "source": [
    "# original hindi file\n",
    "filename  = 'Eng-Hin-data/hindi-anot-shuffled'\n",
    "orig_df = pd.read_csv(filename + '.csv',  \n",
    "               delimiter=',')\n",
    "orig_df.columns = ['Text', 'Label']"
   ]
  },
  {
   "cell_type": "code",
   "execution_count": 91,
   "metadata": {},
   "outputs": [
    {
     "data": {
      "text/plain": [
       "<bound method NDFrame.head of                                                    Text  Label\n",
       "0     'गाजा में दीवाली   की ढेरो बधाई मित्रो 😊💐  #Is...      0\n",
       "1        '@SanjayGadhiaINC @IndiaToday18 अज़ाबे इलाही 👍      1\n",
       "2     'आखिर अब #सुशांत_सिंह_राजपूत जी को न्याय मिल ज...      0\n",
       "3     'अमीन के 500 से अधिक छात्रों ने सर्वे भवन के ग...      0\n",
       "4     '@deoriapolice @Uppolice @myogiadityanath @spg...      0\n",
       "...                                                 ...    ...\n",
       "8788                  '@atullondhe राहुल गांधी जिंदाबाद      0\n",
       "8789  'पैगंबर हज़रत मुहम्मद सल्लल्लाहु अलैहि वसल्लम ...      1\n",
       "8790  'कर्नाटक बेंगलुरू में अल्लाह मोहम्मद गांडू के ...      2\n",
       "8791  'अच्छी खबर है ऐसे एक एक कर सभी जेहादी भारतीय फ...      2\n",
       "8792  '@Ruzena__Malik जनता चाइना से दीवाली की लड़ी ख...      0\n",
       "\n",
       "[8793 rows x 2 columns]>"
      ]
     },
     "execution_count": 91,
     "metadata": {},
     "output_type": "execute_result"
    }
   ],
   "source": [
    "orig_df.head"
   ]
  },
  {
   "cell_type": "code",
   "execution_count": 92,
   "metadata": {},
   "outputs": [
    {
     "data": {
      "text/plain": [
       "\"'आज के दिन ही मेरा क्रिकेट प्रेम भी समाप्त हो गया\""
      ]
     },
     "execution_count": 92,
     "metadata": {},
     "output_type": "execute_result"
    }
   ],
   "source": [
    "orig_df.Text[6]"
   ]
  },
  {
   "cell_type": "code",
   "execution_count": 93,
   "metadata": {},
   "outputs": [
    {
     "name": "stdout",
     "output_type": "stream",
     "text": [
      "Exist\n"
     ]
    }
   ],
   "source": [
    "# For non English data\n",
    "filename  = 'Eng-Hin-data/hindi-anot-shuffled'\n",
    "\n",
    "if not path.exists(filename + '-translated.csv'):\n",
    "    print(\"Not Exist\")\n",
    "    p_data = pd.read_csv(\"Eng-Hin-data/hindi-anot-shuffled.csv\")\n",
    "    #data =  data.drop('Strength',1)\n",
    "    translator = Translator()\n",
    "    col_one_list = p_data['Text'].tolist()\n",
    "    len(col_one_list)\n",
    "    result = []\n",
    "    for i  in range(len(col_one_list)):\n",
    "        try:\n",
    "            trans = translator.translate(col_one_list[i], dest='en')\n",
    "            result.append(trans.text)\n",
    "        except:\n",
    "                result.append(col_one_list[i])\n",
    "    p_data['Text'] = result\n",
    "    p_data.to_csv(filename + '-translated.csv', index=False)\n",
    "    df = pd.read_csv(filename + '-translated.csv',  \n",
    "                   delimiter=',')\n",
    "    df.columns = ['Text', 'Label']\n",
    "    df.head(15)\n",
    "    df[\"Text\"] = df[\"Text\"].astype(str)\n",
    "    df[\"Label\"] = df[\"Label\"].astype(str)\n",
    "    data = df\n",
    "else:\n",
    "    print(\"Exist\")\n",
    "    df = pd.read_csv(filename + '-translated.csv',  \n",
    "                   delimiter=',')\n",
    "    df.columns = ['Text', 'Label']\n",
    "    df.head(15)\n",
    "    df[\"Text\"] = df[\"Text\"].astype(str)\n",
    "    df[\"Label\"] = df[\"Label\"].astype(str)\n",
    "    data = df"
   ]
  },
  {
   "cell_type": "code",
   "execution_count": 94,
   "metadata": {},
   "outputs": [
    {
     "data": {
      "text/plain": [
       "\"'Today also my cricket love has ended\""
      ]
     },
     "execution_count": 94,
     "metadata": {},
     "output_type": "execute_result"
    }
   ],
   "source": [
    "# df = pd.read_csv('Eng-Hin-data/hindi-anot-shuffled.csv',  \n",
    "#                    delimiter=',')\n",
    "# df.columns = ['Text', 'Label']\n",
    "# df.head(15)\n",
    "# df[\"Text\"] = df[\"Text\"].astype(str)\n",
    "# df[\"Label\"] = df[\"Label\"].astype(str)\n",
    "# data = df\n",
    "df.Text[6]"
   ]
  },
  {
   "cell_type": "markdown",
   "metadata": {},
   "source": [
    "### Class count"
   ]
  },
  {
   "cell_type": "code",
   "execution_count": 95,
   "metadata": {},
   "outputs": [
    {
     "data": {
      "image/png": "[encoded data removed]",
      "text/plain": [
       "<Figure size 432x288 with 1 Axes>"
      ]
     },
     "metadata": {
      "needs_background": "light"
     },
     "output_type": "display_data"
    }
   ],
   "source": [
    "import matplotlib.pyplot as plt\n",
    "fig = plt.figure(figsize=(6,4))\n",
    "df.groupby('Label').Text.count().plot.bar(ylim=0)\n",
    "plt.show()"
   ]
  },
  {
   "cell_type": "code",
   "execution_count": 96,
   "metadata": {},
   "outputs": [
    {
     "data": {
      "text/plain": [
       "2    3374\n",
       "0    3245\n",
       "1    2174\n",
       "Name: Label, dtype: int64"
      ]
     },
     "execution_count": 96,
     "metadata": {},
     "output_type": "execute_result"
    }
   ],
   "source": [
    "# For entire dataset sentences for each labels \n",
    "df.Label.value_counts()"
   ]
  },
  {
   "cell_type": "markdown",
   "metadata": {},
   "source": [
    "### Data Preprocessing"
   ]
  },
  {
   "cell_type": "code",
   "execution_count": 97,
   "metadata": {},
   "outputs": [],
   "source": [
    "# People usually join sentences using more than one colon \n",
    "\n",
    "def ReplaceDoubleColon(inputString):\n",
    "    return inputString.replace(\"..\", \" \") \n",
    "\n",
    "data['Text'] = data['Text'].apply(lambda x: ReplaceDoubleColon(x))\n",
    "\n",
    "def ReplaceTripleColon(inputString):\n",
    "    return inputString.replace(\"...\", \" \") \n",
    "\n",
    "data['Text'] = data['Text'].apply(lambda x: ReplaceTripleColon(x))\n",
    "\n",
    "def ReplaceFourColon(inputString):\n",
    "    return inputString.replace(\"....\", \" \") \n",
    "\n",
    "data['Text'] = data['Text'].apply(lambda x: ReplaceFourColon(x))"
   ]
  },
  {
   "cell_type": "code",
   "execution_count": 98,
   "metadata": {},
   "outputs": [],
   "source": [
    "def textPattern(text):\n",
    "\n",
    "    # Clean the text\n",
    "    text = re.sub(r\"[^A-Za-z0-9^,!.\\/'+-=]\", \" \", text)\n",
    "    text = re.sub(r\" \\n \", \" \", text)\n",
    "    text = re.sub(r\"what's\", \"what is\", text)\n",
    "    text = re.sub(r\"\\'s\", \" \", text)\n",
    "    text = re.sub(r\"\\'ve\", \"have\", text)\n",
    "    text = re.sub(r\"can't\", \"can not\", text)\n",
    "    text = re.sub(r\"aren't\", \"are not\", text)\n",
    "    text = re.sub(r\"couldn't\", \"could not\", text)\n",
    "    text = re.sub(r\"didn't\", \"did not\", text)\n",
    "    text = re.sub(r\"doesn't\", \"does not\", text)\n",
    "    text = re.sub(r\"don't\", \"do not\", text)\n",
    "    text = re.sub(r\"hadn't\", \"had not\", text)\n",
    "    text = re.sub(r\"hasn't\", \"has not\", text)\n",
    "    text = re.sub(r\"haven't\", \"have not\", text)\n",
    "    text = re.sub(r\"isn't\", \"is not\", text)\n",
    "    text = re.sub(r\"shouldn't\", \"should not\", text)\n",
    "    text = re.sub(r\"wasn't\", \"was not\", text)\n",
    "    text = re.sub(r\"weren't\", \"were not\", text)\n",
    "    text = re.sub(r\"won't\", \"will not\", text)\n",
    "    text = re.sub(r\"wouldn't\", \"would not\", text)\n",
    "    text = re.sub(r\"mustn't\", \"must not\", text)\n",
    "    text = re.sub(r\"i'm\", \"i am\", text)\n",
    "    text = re.sub(r\"\\'re\", \"are\", text)\n",
    "    text = re.sub(r\",\", \" \", text)\n",
    "    text = re.sub(r\"\\.\", \" \", text)\n",
    "    text = re.sub(r\"!\", \" \", text)\n",
    "    text = re.sub(r\"\\/\", \" \", text)\n",
    "    text = re.sub(r\"\\^\", \" ^ \", text)\n",
    "    text = re.sub(r\"\\+\", \" \", text)\n",
    "    text = re.sub(r\"\\-\", \" - \", text)\n",
    "    text = re.sub(r\"\\= =\", \" \", text)\n",
    "    text = re.sub(r\"\\==\", \" \", text)\n",
    "    text = re.sub(r\"'\", \" \", text)\n",
    "    text = re.sub(r\"(\\d+)(k)\", r\"\\g<1>000\", text)\n",
    "    text = re.sub(r\":\", \" : \", text)\n",
    "    text = re.sub(r\"\\0s\", \"0\", text)\n",
    "    text = re.sub(r\" 9 11 \", \"911\", text)\n",
    "    text = re.sub(r\"\\s{2,}\", \" \", text)\n",
    "    return text\n",
    "\n",
    "data['Text'] = data['Text'].apply(lambda x: textPattern(x))"
   ]
  },
  {
   "cell_type": "code",
   "execution_count": 99,
   "metadata": {},
   "outputs": [
    {
     "data": {
      "text/plain": [
       "(8793, 2)"
      ]
     },
     "execution_count": 99,
     "metadata": {},
     "output_type": "execute_result"
    }
   ],
   "source": [
    "data.shape"
   ]
  },
  {
   "cell_type": "code",
   "execution_count": 100,
   "metadata": {},
   "outputs": [],
   "source": [
    "# Word Tokenization\n",
    "tokens = [word_tokenize(sen) for sen in data.Text]"
   ]
  },
  {
   "cell_type": "code",
   "execution_count": 101,
   "metadata": {},
   "outputs": [],
   "source": [
    "# Lower Case\n",
    "def lower_token(tokens): \n",
    "    return [w.lower() for w in tokens]    \n",
    "    \n",
    "lower_tokens = [lower_token(token) for token in tokens]"
   ]
  },
  {
   "cell_type": "code",
   "execution_count": 102,
   "metadata": {},
   "outputs": [],
   "source": [
    "# Remove Link\n",
    "\n",
    "def removeLink(token):\n",
    "    word = []\n",
    "    for w in token:\n",
    "        if not w.startswith('http'):\n",
    "            word.append(w)\n",
    "    return word \n",
    "    \n",
    "removedLink_tokens = [removeLink(token) for token in lower_tokens]"
   ]
  },
  {
   "cell_type": "code",
   "execution_count": 103,
   "metadata": {},
   "outputs": [],
   "source": [
    "# Word Lemmatization\n",
    "def lemmatization(token):\n",
    "    return [lemmatizer.lemmatize(w) for w in token] \n",
    "\n",
    "lemmatizer = WordNetLemmatizer()\n",
    "\n",
    "lemmatized_tokens = [lemmatization(token) for token in removedLink_tokens]"
   ]
  },
  {
   "cell_type": "code",
   "execution_count": 104,
   "metadata": {},
   "outputs": [],
   "source": [
    "# Removing Stopwords\n",
    "stoplist = stopwords.words('english')"
   ]
  },
  {
   "cell_type": "code",
   "execution_count": 105,
   "metadata": {},
   "outputs": [],
   "source": [
    "def removeStopWords(tokens): \n",
    "    return [word for word in tokens if word not in stoplist]\n",
    "\n",
    "filtered_words = [removeStopWords(sen) for sen in lemmatized_tokens]\n",
    "data['Text_Final'] = [' '.join(sen) for sen in filtered_words]\n",
    "data['tokens'] = filtered_words"
   ]
  },
  {
   "cell_type": "code",
   "execution_count": 106,
   "metadata": {},
   "outputs": [],
   "source": [
    "zero  = []\n",
    "one = []\n",
    "two = []\n",
    "for l in data.Label:\n",
    "    \n",
    "    if l == '0':\n",
    "        zero.append(1)\n",
    "        one.append(0)\n",
    "        two.append(0)\n",
    "    elif l == '1':\n",
    "        zero.append(0)\n",
    "        one.append(1)\n",
    "        two.append(0)\n",
    "    elif l == '2':\n",
    "        zero.append(0)\n",
    "        one.append(0)\n",
    "        two.append(1)\n",
    "        \n",
    "data['0']= zero\n",
    "data['1']= one\n",
    "data['2']= two\n",
    "\n",
    "data = data[['Text_Final', 'tokens', 'Label', '0', '1', '2']]"
   ]
  },
  {
   "cell_type": "code",
   "execution_count": 107,
   "metadata": {},
   "outputs": [
    {
     "data": {
      "text/html": [
       "<div>\n",
       "<style scoped>\n",
       "    .dataframe tbody tr th:only-of-type {\n",
       "        vertical-align: middle;\n",
       "    }\n",
       "\n",
       "    .dataframe tbody tr th {\n",
       "        vertical-align: top;\n",
       "    }\n",
       "\n",
       "    .dataframe thead th {\n",
       "        text-align: right;\n",
       "    }\n",
       "</style>\n",
       "<table border=\"1\" class=\"dataframe\">\n",
       "  <thead>\n",
       "    <tr style=\"text-align: right;\">\n",
       "      <th></th>\n",
       "      <th>Text_Final</th>\n",
       "      <th>tokens</th>\n",
       "      <th>Label</th>\n",
       "      <th>0</th>\n",
       "      <th>1</th>\n",
       "      <th>2</th>\n",
       "      <th>Category_id</th>\n",
       "    </tr>\n",
       "  </thead>\n",
       "  <tbody>\n",
       "    <tr>\n",
       "      <th>0</th>\n",
       "      <td>happy diwali greeting gaza friend israelibombing</td>\n",
       "      <td>[happy, diwali, greeting, gaza, friend, israel...</td>\n",
       "      <td>0</td>\n",
       "      <td>1</td>\n",
       "      <td>0</td>\n",
       "      <td>0</td>\n",
       "      <td>0</td>\n",
       "    </tr>\n",
       "    <tr>\n",
       "      <th>1</th>\n",
       "      <td>sanjaygadhiainc indiatoday18 azabe elahi</td>\n",
       "      <td>[sanjaygadhiainc, indiatoday18, azabe, elahi]</td>\n",
       "      <td>1</td>\n",
       "      <td>0</td>\n",
       "      <td>1</td>\n",
       "      <td>0</td>\n",
       "      <td>1</td>\n",
       "    </tr>\n",
       "    <tr>\n",
       "      <th>2</th>\n",
       "      <td>sushant singh rajput ji get justice riya chakr...</td>\n",
       "      <td>[sushant, singh, rajput, ji, get, justice, riy...</td>\n",
       "      <td>0</td>\n",
       "      <td>1</td>\n",
       "      <td>0</td>\n",
       "      <td>0</td>\n",
       "      <td>0</td>\n",
       "    </tr>\n",
       "    <tr>\n",
       "      <th>3</th>\n",
       "      <td>500 student amin performed half - naked gate s...</td>\n",
       "      <td>[500, student, amin, performed, half, -, naked...</td>\n",
       "      <td>0</td>\n",
       "      <td>1</td>\n",
       "      <td>0</td>\n",
       "      <td>0</td>\n",
       "      <td>0</td>\n",
       "    </tr>\n",
       "    <tr>\n",
       "      <th>4</th>\n",
       "      <td>deoriapolice uppolice myogiadityanath spgrpall...</td>\n",
       "      <td>[deoriapolice, uppolice, myogiadityanath, spgr...</td>\n",
       "      <td>0</td>\n",
       "      <td>1</td>\n",
       "      <td>0</td>\n",
       "      <td>0</td>\n",
       "      <td>0</td>\n",
       "    </tr>\n",
       "    <tr>\n",
       "      <th>5</th>\n",
       "      <td>khanumarfa jihadi thinking rahat indouri wrap ...</td>\n",
       "      <td>[khanumarfa, jihadi, thinking, rahat, indouri,...</td>\n",
       "      <td>2</td>\n",
       "      <td>0</td>\n",
       "      <td>0</td>\n",
       "      <td>1</td>\n",
       "      <td>2</td>\n",
       "    </tr>\n",
       "    <tr>\n",
       "      <th>6</th>\n",
       "      <td>today also cricket love ha ended</td>\n",
       "      <td>[today, also, cricket, love, ha, ended]</td>\n",
       "      <td>0</td>\n",
       "      <td>1</td>\n",
       "      <td>0</td>\n",
       "      <td>0</td>\n",
       "      <td>0</td>\n",
       "    </tr>\n",
       "    <tr>\n",
       "      <th>7</th>\n",
       "      <td>jihadi thought work poet celebrate sorrow wa a...</td>\n",
       "      <td>[jihadi, thought, work, poet, celebrate, sorro...</td>\n",
       "      <td>2</td>\n",
       "      <td>0</td>\n",
       "      <td>0</td>\n",
       "      <td>1</td>\n",
       "      <td>2</td>\n",
       "    </tr>\n",
       "    <tr>\n",
       "      <th>8</th>\n",
       "      <td>sanatan44005733 azadsamajparty0 manikar3002388...</td>\n",
       "      <td>[sanatan44005733, azadsamajparty0, manikar3002...</td>\n",
       "      <td>2</td>\n",
       "      <td>0</td>\n",
       "      <td>0</td>\n",
       "      <td>1</td>\n",
       "      <td>2</td>\n",
       "    </tr>\n",
       "  </tbody>\n",
       "</table>\n",
       "</div>"
      ],
      "text/plain": [
       "                                          Text_Final  \\\n",
       "0   happy diwali greeting gaza friend israelibombing   \n",
       "1           sanjaygadhiainc indiatoday18 azabe elahi   \n",
       "2  sushant singh rajput ji get justice riya chakr...   \n",
       "3  500 student amin performed half - naked gate s...   \n",
       "4  deoriapolice uppolice myogiadityanath spgrpall...   \n",
       "5  khanumarfa jihadi thinking rahat indouri wrap ...   \n",
       "6                   today also cricket love ha ended   \n",
       "7  jihadi thought work poet celebrate sorrow wa a...   \n",
       "8  sanatan44005733 azadsamajparty0 manikar3002388...   \n",
       "\n",
       "                                              tokens Label  0  1  2  \\\n",
       "0  [happy, diwali, greeting, gaza, friend, israel...     0  1  0  0   \n",
       "1      [sanjaygadhiainc, indiatoday18, azabe, elahi]     1  0  1  0   \n",
       "2  [sushant, singh, rajput, ji, get, justice, riy...     0  1  0  0   \n",
       "3  [500, student, amin, performed, half, -, naked...     0  1  0  0   \n",
       "4  [deoriapolice, uppolice, myogiadityanath, spgr...     0  1  0  0   \n",
       "5  [khanumarfa, jihadi, thinking, rahat, indouri,...     2  0  0  1   \n",
       "6            [today, also, cricket, love, ha, ended]     0  1  0  0   \n",
       "7  [jihadi, thought, work, poet, celebrate, sorro...     2  0  0  1   \n",
       "8  [sanatan44005733, azadsamajparty0, manikar3002...     2  0  0  1   \n",
       "\n",
       "  Category_id  \n",
       "0           0  \n",
       "1           1  \n",
       "2           0  \n",
       "3           0  \n",
       "4           0  \n",
       "5           2  \n",
       "6           0  \n",
       "7           2  \n",
       "8           2  "
      ]
     },
     "execution_count": 107,
     "metadata": {},
     "output_type": "execute_result"
    }
   ],
   "source": [
    "category_id = []\n",
    "for l in data.Label:\n",
    "    \n",
    "    if l == '0':\n",
    "        category_id.append('0')\n",
    "    elif l == '1':\n",
    "        category_id.append('1')\n",
    "    elif l == '2':\n",
    "        category_id.append('2')\n",
    "        \n",
    "data['Category_id'] = category_id\n",
    "\n",
    "data = data[['Text_Final', 'tokens', 'Label', '0', '1', '2', 'Category_id' ]]\n",
    "data.head(9)"
   ]
  },
  {
   "cell_type": "code",
   "execution_count": 108,
   "metadata": {},
   "outputs": [],
   "source": [
    "from io import StringIO\n",
    "category_id_df = data[['Label', 'Category_id']].drop_duplicates().sort_values('Category_id')\n",
    "category_to_label_dict = dict(category_id_df.values)\n",
    "label_to_category_dict = dict(category_id_df[['Category_id', 'Label']].values)"
   ]
  },
  {
   "cell_type": "markdown",
   "metadata": {},
   "source": [
    "#### Split Data into test and train\n",
    "We will use 90 % data for training and 20 % for testing. We use random state so every time we get the same training and testing data."
   ]
  },
  {
   "cell_type": "code",
   "execution_count": 18,
   "metadata": {},
   "outputs": [
    {
     "data": {
      "text/plain": [
       "(8793, 6)"
      ]
     },
     "execution_count": 18,
     "metadata": {},
     "output_type": "execute_result"
    }
   ],
   "source": [
    "data.shape"
   ]
  },
  {
   "cell_type": "code",
   "execution_count": 19,
   "metadata": {},
   "outputs": [],
   "source": [
    "data_train, data_test = train_test_split(data, test_size=0.10, random_state=42)\n"
   ]
  },
  {
   "cell_type": "code",
   "execution_count": 50,
   "metadata": {},
   "outputs": [],
   "source": [
    "# # total training words\n",
    "totalTrainingWords = [word for tokens in data_train[\"tokens\"] for word in tokens]\n",
    "\n",
    "# # Storing Length of the training sentence\n",
    "lengthTrainingSentences = [len(tokens) for tokens in data_train[\"tokens\"]]\n",
    "\n",
    "# # training Vocabulary size\n",
    "trainingVocabSize = sorted(list(set(totalTrainingWords)))\n",
    "\n",
    "## Total number of lines\n",
    "linesCount = len(data_train[\"tokens\"])"
   ]
  },
  {
   "cell_type": "markdown",
   "metadata": {},
   "source": [
    "### Load Google News Word2Vec model"
   ]
  },
  {
   "cell_type": "code",
   "execution_count": 21,
   "metadata": {},
   "outputs": [],
   "source": [
    "# word2vec_path = 'GoogleNews-vectors-negative300.bin'\n",
    "# #word2vec_path = 'glove.6B.50d.word2vec'"
   ]
  },
  {
   "cell_type": "code",
   "execution_count": 22,
   "metadata": {},
   "outputs": [],
   "source": [
    "# from gensim import models\n",
    "# word2vec = models.KeyedVectors.load_word2vec_format(word2vec_path, binary=True)\n"
   ]
  },
  {
   "cell_type": "code",
   "execution_count": 23,
   "metadata": {},
   "outputs": [
    {
     "data": {
      "text/plain": [
       "(1181931, 0)"
      ]
     },
     "execution_count": 23,
     "metadata": {},
     "output_type": "execute_result"
    }
   ],
   "source": [
    "# Convert Glove file to word2vec format (examples: uses 50 dimensions since it's faster)\n",
    "from gensim.scripts.glove2word2vec import glove2word2vec\n",
    "glove_input_file = 'Online_supplement_1 word vectors.csv'  # I unzipped in glove.6B subdirectory \n",
    "word2vec_output_file = 'glove.6B.300d.word2vec'\n",
    "glove2word2vec(glove_input_file, word2vec_output_file)"
   ]
  },
  {
   "cell_type": "code",
   "execution_count": 24,
   "metadata": {},
   "outputs": [],
   "source": [
    "# Use the converted Glove file\n",
    "\n",
    "\n",
    "filename = 'glove.6B.300d.word2vec'\n",
    "word2vec = KeyedVectors.load_word2vec_format(filename, binary=False)\n"
   ]
  },
  {
   "cell_type": "code",
   "execution_count": 51,
   "metadata": {},
   "outputs": [
    {
     "data": {
      "text/plain": [
       "<gensim.models.keyedvectors.Word2VecKeyedVectors at 0x7f65dda89eb0>"
      ]
     },
     "execution_count": 51,
     "metadata": {},
     "output_type": "execute_result"
    }
   ],
   "source": [
    "word2vec"
   ]
  },
  {
   "cell_type": "code",
   "execution_count": 52,
   "metadata": {},
   "outputs": [],
   "source": [
    "MAX_SEQUENCE_LENGTH = 150\n",
    "EMBEDDING_DIM = 50"
   ]
  },
  {
   "cell_type": "markdown",
   "metadata": {},
   "source": [
    "\n",
    "### Tokenize and Pad sequences"
   ]
  },
  {
   "cell_type": "code",
   "execution_count": 53,
   "metadata": {},
   "outputs": [
    {
     "name": "stdout",
     "output_type": "stream",
     "text": [
      "Found 11473 unique tokens.\n"
     ]
    }
   ],
   "source": [
    "tokenizer = Tokenizer(num_words=len(trainingVocabSize), lower=True, char_level=False)\n",
    "tokenizer.fit_on_texts(data_train[\"Text_Final\"].tolist())\n",
    "training_sequences = tokenizer.texts_to_sequences(data_train[\"Text_Final\"].tolist())\n",
    "\n",
    "train_word_index = tokenizer.word_index\n",
    "print('Found %s unique tokens.' % len(train_word_index))"
   ]
  },
  {
   "cell_type": "code",
   "execution_count": 54,
   "metadata": {},
   "outputs": [],
   "source": [
    "cnnTrainData = pad_sequences(training_sequences, maxlen=MAX_SEQUENCE_LENGTH)"
   ]
  },
  {
   "cell_type": "code",
   "execution_count": 55,
   "metadata": {},
   "outputs": [
    {
     "name": "stdout",
     "output_type": "stream",
     "text": [
      "(11474, 50)\n"
     ]
    }
   ],
   "source": [
    "train_embedding_weights = np.zeros((len(train_word_index)+1, EMBEDDING_DIM))\n",
    "for word,index in train_word_index.items():\n",
    "    train_embedding_weights[index,:] = word2vec[word] if word in word2vec else np.random.rand(EMBEDDING_DIM)\n",
    "print(train_embedding_weights.shape)"
   ]
  },
  {
   "cell_type": "code",
   "execution_count": 56,
   "metadata": {},
   "outputs": [],
   "source": [
    "test_sequences = tokenizer.texts_to_sequences(data_test[\"Text_Final\"].tolist())\n",
    "cnnTestData = pad_sequences(test_sequences, maxlen= MAX_SEQUENCE_LENGTH)"
   ]
  },
  {
   "cell_type": "markdown",
   "metadata": {},
   "source": [
    "### Define CNN"
   ]
  },
  {
   "cell_type": "markdown",
   "metadata": {},
   "source": [
    "The model is from the paper 'Convolutional Neural Networks for Sentence Classification' we have updated the network according to our requirement [1]"
   ]
  },
  {
   "cell_type": "code",
   "execution_count": 57,
   "metadata": {},
   "outputs": [],
   "source": [
    "label_names = ['0', '1', '2']"
   ]
  },
  {
   "cell_type": "code",
   "execution_count": 58,
   "metadata": {},
   "outputs": [],
   "source": [
    "def ConvolutionalNeuralNet(embeddings, max_sequence_length, num_words, embedding_dim, labels_index):\n",
    "    \n",
    "    # Embedding layer\n",
    "    embedding_layer = Embedding(num_words,\n",
    "                            embedding_dim,\n",
    "                            weights=[embeddings],\n",
    "                            input_length=max_sequence_length,\n",
    "                            trainable=False)\n",
    "    \n",
    "    sequence_input = Input(shape=(max_sequence_length,), dtype='int32')\n",
    "    embedded_sequences = embedding_layer(sequence_input)\n",
    "\n",
    "    convs = []\n",
    "    \n",
    "    #Kernal (window) size\n",
    "    filter_sizes = [2,3,4,5]\n",
    "\n",
    "    # Convolution Layer and max-pooling\n",
    "    for filter_size in filter_sizes:\n",
    "        l_conv = Conv1D(filters=512, kernel_size=filter_size, activation='relu')(embedded_sequences)\n",
    "        l_pool = GlobalMaxPooling1D()(l_conv)\n",
    "        convs.append(l_pool)\n",
    "        \n",
    "    l_merge = concatenate(convs, axis=1)\n",
    "    \n",
    "    # softmax layer for multiclass identification \n",
    "    x = Dropout(0.1)(l_merge)  \n",
    "    x = Dense(512, activation='relu')(x)\n",
    "    x = Dropout(0.2)(x)\n",
    "    preds = Dense(labels_index, activation='softmax')(x)\n",
    "\n",
    "    model = Model(sequence_input, preds)\n",
    "    model.compile(loss= 'categorical_crossentropy',\n",
    "                 optimizer = keras.optimizers.RMSprop(learning_rate=1e-3),\n",
    "#                    optimizer='adam',\n",
    "                  metrics=['accuracy'])\n",
    "    return model"
   ]
  },
  {
   "cell_type": "code",
   "execution_count": 59,
   "metadata": {},
   "outputs": [],
   "source": [
    "# Splitting train data into X_train and y_train\n",
    "y_train = data_train[label_names].values\n",
    "x_train = cnnTrainData\n",
    "y_tr = y_train"
   ]
  },
  {
   "cell_type": "code",
   "execution_count": 60,
   "metadata": {},
   "outputs": [],
   "source": [
    "# Splitting train data into X_test and y_test\n",
    "y_test = data_test[label_names].values\n",
    "x_test = cnnTestData\n",
    "y_tst = y_test"
   ]
  },
  {
   "cell_type": "code",
   "execution_count": 63,
   "metadata": {},
   "outputs": [],
   "source": [
    "model = ConvolutionalNeuralNet(train_embedding_weights, MAX_SEQUENCE_LENGTH, len(train_word_index)+1, EMBEDDING_DIM, len(list(label_names)))"
   ]
  },
  {
   "cell_type": "code",
   "execution_count": 64,
   "metadata": {},
   "outputs": [
    {
     "name": "stdout",
     "output_type": "stream",
     "text": [
      "Model: \"functional_5\"\n",
      "__________________________________________________________________________________________________\n",
      "Layer (type)                    Output Shape         Param #     Connected to                     \n",
      "==================================================================================================\n",
      "input_3 (InputLayer)            [(None, 150)]        0                                            \n",
      "__________________________________________________________________________________________________\n",
      "embedding_2 (Embedding)         (None, 150, 50)      573700      input_3[0][0]                    \n",
      "__________________________________________________________________________________________________\n",
      "conv1d_8 (Conv1D)               (None, 149, 512)     51712       embedding_2[0][0]                \n",
      "__________________________________________________________________________________________________\n",
      "conv1d_9 (Conv1D)               (None, 148, 512)     77312       embedding_2[0][0]                \n",
      "__________________________________________________________________________________________________\n",
      "conv1d_10 (Conv1D)              (None, 147, 512)     102912      embedding_2[0][0]                \n",
      "__________________________________________________________________________________________________\n",
      "conv1d_11 (Conv1D)              (None, 146, 512)     128512      embedding_2[0][0]                \n",
      "__________________________________________________________________________________________________\n",
      "global_max_pooling1d_8 (GlobalM (None, 512)          0           conv1d_8[0][0]                   \n",
      "__________________________________________________________________________________________________\n",
      "global_max_pooling1d_9 (GlobalM (None, 512)          0           conv1d_9[0][0]                   \n",
      "__________________________________________________________________________________________________\n",
      "global_max_pooling1d_10 (Global (None, 512)          0           conv1d_10[0][0]                  \n",
      "__________________________________________________________________________________________________\n",
      "global_max_pooling1d_11 (Global (None, 512)          0           conv1d_11[0][0]                  \n",
      "__________________________________________________________________________________________________\n",
      "concatenate_2 (Concatenate)     (None, 2048)         0           global_max_pooling1d_8[0][0]     \n",
      "                                                                 global_max_pooling1d_9[0][0]     \n",
      "                                                                 global_max_pooling1d_10[0][0]    \n",
      "                                                                 global_max_pooling1d_11[0][0]    \n",
      "__________________________________________________________________________________________________\n",
      "dropout_4 (Dropout)             (None, 2048)         0           concatenate_2[0][0]              \n",
      "__________________________________________________________________________________________________\n",
      "dense_4 (Dense)                 (None, 512)          1049088     dropout_4[0][0]                  \n",
      "__________________________________________________________________________________________________\n",
      "dropout_5 (Dropout)             (None, 512)          0           dense_4[0][0]                    \n",
      "__________________________________________________________________________________________________\n",
      "dense_5 (Dense)                 (None, 3)            1539        dropout_5[0][0]                  \n",
      "==================================================================================================\n",
      "Total params: 1,984,775\n",
      "Trainable params: 1,411,075\n",
      "Non-trainable params: 573,700\n",
      "__________________________________________________________________________________________________\n"
     ]
    }
   ],
   "source": [
    "model.summary()"
   ]
  },
  {
   "cell_type": "markdown",
   "metadata": {},
   "source": [
    "### Train CNN"
   ]
  },
  {
   "cell_type": "code",
   "execution_count": 65,
   "metadata": {},
   "outputs": [],
   "source": [
    "num_epochs = 10\n",
    "batch_size = 512"
   ]
  },
  {
   "cell_type": "code",
   "execution_count": 66,
   "metadata": {},
   "outputs": [
    {
     "name": "stdout",
     "output_type": "stream",
     "text": [
      "Epoch 1/10\n",
      "14/14 [==============================] - 12s 886ms/step - loss: 1.8711 - accuracy: 0.3960 - val_loss: 1.0222 - val_accuracy: 0.5556\n",
      "Epoch 2/10\n",
      "14/14 [==============================] - 12s 838ms/step - loss: 1.0606 - accuracy: 0.4595 - val_loss: 1.2077 - val_accuracy: 0.3737\n",
      "Epoch 3/10\n",
      "14/14 [==============================] - 12s 862ms/step - loss: 0.9935 - accuracy: 0.5091 - val_loss: 1.0438 - val_accuracy: 0.4331\n",
      "Epoch 4/10\n",
      "14/14 [==============================] - 12s 844ms/step - loss: 0.9408 - accuracy: 0.5554 - val_loss: 0.8455 - val_accuracy: 0.6768\n",
      "Epoch 5/10\n",
      "14/14 [==============================] - 12s 842ms/step - loss: 0.8386 - accuracy: 0.6259 - val_loss: 0.7913 - val_accuracy: 0.6490\n",
      "Epoch 6/10\n",
      "14/14 [==============================] - 12s 849ms/step - loss: 0.7875 - accuracy: 0.6423 - val_loss: 0.8122 - val_accuracy: 0.6301\n",
      "Epoch 7/10\n",
      "14/14 [==============================] - 11s 820ms/step - loss: 0.7430 - accuracy: 0.6625 - val_loss: 0.6745 - val_accuracy: 0.7121\n",
      "Epoch 8/10\n",
      "14/14 [==============================] - 12s 840ms/step - loss: 0.6729 - accuracy: 0.7031 - val_loss: 0.8559 - val_accuracy: 0.5934\n",
      "Epoch 9/10\n",
      "14/14 [==============================] - 12s 849ms/step - loss: 0.6589 - accuracy: 0.7166 - val_loss: 0.7717 - val_accuracy: 0.6490\n",
      "Epoch 10/10\n",
      "14/14 [==============================] - 12s 833ms/step - loss: 0.6162 - accuracy: 0.7224 - val_loss: 0.5646 - val_accuracy: 0.7551\n"
     ]
    }
   ],
   "source": [
    "history = model.fit(x_train, y_tr, epochs=num_epochs, validation_split=0.1, shuffle=True, batch_size=batch_size)"
   ]
  },
  {
   "cell_type": "code",
   "execution_count": 70,
   "metadata": {},
   "outputs": [
    {
     "name": "stdout",
     "output_type": "stream",
     "text": [
      "28/28 [==============================] - 1s 19ms/step - loss: 0.5825 - accuracy: 0.7511\n"
     ]
    }
   ],
   "source": [
    "# evaluate on test data\n",
    "results = model.evaluate(x_test, y_tst)"
   ]
  },
  {
   "cell_type": "code",
   "execution_count": 71,
   "metadata": {},
   "outputs": [
    {
     "name": "stdout",
     "output_type": "stream",
     "text": [
      "1/1 [==============================] - 0s 3ms/step\n"
     ]
    }
   ],
   "source": [
    "# predict model\n",
    "predictions = model.predict(cnnTestData, batch_size=1024, verbose=1)"
   ]
  },
  {
   "cell_type": "markdown",
   "metadata": {},
   "source": [
    "### Testing few sentences using our model"
   ]
  },
  {
   "cell_type": "code",
   "execution_count": 72,
   "metadata": {},
   "outputs": [],
   "source": [
    "\n",
    "labels = ['0', '1', '2']\n",
    "\n",
    "def makeprediction(texts):\n",
    "    tk = Tokenizer()\n",
    "    tk.fit_on_texts(texts)\n",
    "    index_list = tk.texts_to_sequences(texts)\n",
    "    x_train = pad_sequences(index_list, maxlen=150)\n",
    "    pred = model.predict(x_train)\n",
    "    result = labels[np.argmax(pred)]\n",
    "    return result"
   ]
  },
  {
   "cell_type": "code",
   "execution_count": 77,
   "metadata": {},
   "outputs": [],
   "source": [
    "prediction_labels=[]\n",
    "for p in predictions:\n",
    "    prediction_labels.append(labels[np.argmax(p)])"
   ]
  },
  {
   "cell_type": "code",
   "execution_count": 78,
   "metadata": {},
   "outputs": [
    {
     "data": {
      "text/plain": [
       "0.7511363636363636"
      ]
     },
     "execution_count": 78,
     "metadata": {},
     "output_type": "execute_result"
    }
   ],
   "source": [
    "sum(data_test.Label==prediction_labels)/len(prediction_labels)"
   ]
  },
  {
   "cell_type": "code",
   "execution_count": 79,
   "metadata": {},
   "outputs": [
    {
     "data": {
      "text/plain": [
       "2    351\n",
       "0    314\n",
       "1    215\n",
       "Name: Label, dtype: int64"
      ]
     },
     "execution_count": 79,
     "metadata": {},
     "output_type": "execute_result"
    }
   ],
   "source": [
    "data_test.Label.value_counts()"
   ]
  },
  {
   "cell_type": "code",
   "execution_count": 80,
   "metadata": {},
   "outputs": [
    {
     "data": {
      "image/png": "[encoded data removed]",
      "text/plain": [
       "<Figure size 432x288 with 2 Axes>"
      ]
     },
     "metadata": {
      "needs_background": "light"
     },
     "output_type": "display_data"
    }
   ],
   "source": [
    "plt.figure(1)\n",
    "# summarize history for accuracy\n",
    "plt.subplot(211)\n",
    "plt.plot(history.history['accuracy'])\n",
    "plt.plot(history.history['val_accuracy'])\n",
    "plt.title('model accuracy')\n",
    "plt.ylabel('accuracy')\n",
    "plt.xlabel('epoch')\n",
    "plt.legend(['train', 'val'], loc='upper left')\n",
    "# summarize history for loss\n",
    "plt.subplot(212)\n",
    "plt.plot(history.history['loss'])\n",
    "plt.plot(history.history['val_loss'])\n",
    "plt.title('model loss')\n",
    "plt.ylabel('loss')\n",
    "plt.xlabel('epoch')\n",
    "plt.legend(['train', 'val'], loc='upper left')\n",
    "plt.tight_layout()\n",
    "plt.show()"
   ]
  },
  {
   "cell_type": "code",
   "execution_count": 85,
   "metadata": {},
   "outputs": [
    {
     "name": "stdout",
     "output_type": "stream",
     "text": [
      "Confusion Matrix :\n",
      "[[264  10  40]\n",
      " [ 59 126  30]\n",
      " [ 80   0 271]]\n",
      "Accuracy Score : 0.7511363636363636\n",
      "Report : \n",
      "              precision    recall  f1-score   support\n",
      "\n",
      "           0       0.66      0.84      0.74       314\n",
      "           1       0.93      0.59      0.72       215\n",
      "           2       0.79      0.77      0.78       351\n",
      "\n",
      "    accuracy                           0.75       880\n",
      "   macro avg       0.79      0.73      0.75       880\n",
      "weighted avg       0.78      0.75      0.75       880\n",
      "\n"
     ]
    }
   ],
   "source": [
    "results = confusion_matrix(data_test.Label, prediction_labels)\n",
    "print ('Confusion Matrix :')\n",
    "print(results) \n",
    "print ('Accuracy Score :',accuracy_score(data_test.Label, prediction_labels))\n",
    "print ('Report : ')\n",
    "print (classification_report(data_test.Label, prediction_labels))"
   ]
  },
  {
   "cell_type": "code",
   "execution_count": 109,
   "metadata": {},
   "outputs": [
    {
     "name": "stdout",
     "output_type": "stream",
     "text": [
      "                        Convolution Neural Network\n"
     ]
    },
    {
     "data": {
      "image/png": "[encoded data removed]",
      "text/plain": [
       "<Figure size 360x360 with 2 Axes>"
      ]
     },
     "metadata": {
      "needs_background": "light"
     },
     "output_type": "display_data"
    }
   ],
   "source": [
    "from sklearn.metrics import confusion_matrix\n",
    "print(\"                        Convolution Neural Network\")\n",
    "conf_mat = confusion_matrix(data_test.Label, prediction_labels)\n",
    "fig, ax = plt.subplots(figsize=(5,5))\n",
    "sns.heatmap(conf_mat, annot=True, fmt='d', cmap ='YlGnBu',\n",
    "            xticklabels=category_id_df.Label.values, yticklabels=category_id_df.Label.values)\n",
    "plt.ylabel('Actual')\n",
    "plt.xlabel('Predicted')\n",
    "plt.show()"
   ]
  },
  {
   "cell_type": "markdown",
   "metadata": {},
   "source": [
    "### Testing CNN using KFold cross validation"
   ]
  },
  {
   "cell_type": "code",
   "execution_count": 110,
   "metadata": {},
   "outputs": [
    {
     "name": "stdout",
     "output_type": "stream",
     "text": [
      "Fold:  1\n",
      "Epoch 1/5\n",
      "223/223 [==============================] - 17s 77ms/step - loss: 0.9196 - accuracy: 0.5607 - val_loss: 0.7172 - val_accuracy: 0.6452\n",
      "Epoch 2/5\n",
      "223/223 [==============================] - 17s 75ms/step - loss: 0.6232 - accuracy: 0.7097 - val_loss: 0.6234 - val_accuracy: 0.7058\n",
      "Epoch 3/5\n",
      "223/223 [==============================] - 17s 76ms/step - loss: 0.5403 - accuracy: 0.7545 - val_loss: 0.5738 - val_accuracy: 0.7260\n",
      "Epoch 4/5\n",
      "223/223 [==============================] - 17s 76ms/step - loss: 0.4927 - accuracy: 0.7769 - val_loss: 0.5296 - val_accuracy: 0.7639\n",
      "Epoch 5/5\n",
      "223/223 [==============================] - 17s 75ms/step - loss: 0.4647 - accuracy: 0.7905 - val_loss: 0.6013 - val_accuracy: 0.7323\n",
      "Results for current fold:\n",
      "7/7 [==============================] - 0s 60ms/step - loss: 0.6130 - accuracy: 0.7375\n",
      "Fold:  2\n",
      "Epoch 1/5\n",
      "223/223 [==============================] - 17s 76ms/step - loss: 0.8994 - accuracy: 0.5821 - val_loss: 0.6337 - val_accuracy: 0.7134\n",
      "Epoch 2/5\n",
      "223/223 [==============================] - 17s 76ms/step - loss: 0.5968 - accuracy: 0.7205 - val_loss: 0.5736 - val_accuracy: 0.7235\n",
      "Epoch 3/5\n",
      "223/223 [==============================] - 17s 75ms/step - loss: 0.5357 - accuracy: 0.7569 - val_loss: 0.7542 - val_accuracy: 0.6907\n",
      "Epoch 4/5\n",
      "223/223 [==============================] - 17s 76ms/step - loss: 0.5066 - accuracy: 0.7735 - val_loss: 0.7678 - val_accuracy: 0.7096\n",
      "Epoch 5/5\n",
      "223/223 [==============================] - 17s 76ms/step - loss: 0.4853 - accuracy: 0.7895 - val_loss: 0.5389 - val_accuracy: 0.7614\n",
      "Results for current fold:\n",
      "7/7 [==============================] - 0s 59ms/step - loss: 0.5349 - accuracy: 0.7341\n",
      "Fold:  3\n",
      "Epoch 1/5\n",
      "223/223 [==============================] - 17s 77ms/step - loss: 0.9697 - accuracy: 0.5554 - val_loss: 0.7155 - val_accuracy: 0.6755\n",
      "Epoch 2/5\n",
      "223/223 [==============================] - 17s 76ms/step - loss: 0.6051 - accuracy: 0.7232 - val_loss: 0.5613 - val_accuracy: 0.7146\n",
      "Epoch 3/5\n",
      "223/223 [==============================] - 17s 74ms/step - loss: 0.5209 - accuracy: 0.7631 - val_loss: 0.8325 - val_accuracy: 0.7008\n",
      "Epoch 4/5\n",
      "223/223 [==============================] - 17s 76ms/step - loss: 0.4960 - accuracy: 0.7795 - val_loss: 0.5302 - val_accuracy: 0.7525\n",
      "Epoch 5/5\n",
      "223/223 [==============================] - 17s 76ms/step - loss: 0.4785 - accuracy: 0.7865 - val_loss: 0.5355 - val_accuracy: 0.7487\n",
      "Results for current fold:\n",
      "7/7 [==============================] - 0s 58ms/step - loss: 0.4889 - accuracy: 0.7693\n",
      "Fold:  4\n",
      "Epoch 1/5\n",
      "223/223 [==============================] - 17s 75ms/step - loss: 0.8929 - accuracy: 0.5756 - val_loss: 0.6351 - val_accuracy: 0.7096\n",
      "Epoch 2/5\n",
      "223/223 [==============================] - 17s 75ms/step - loss: 0.6099 - accuracy: 0.7153 - val_loss: 0.5699 - val_accuracy: 0.7008\n",
      "Epoch 3/5\n",
      "223/223 [==============================] - 17s 75ms/step - loss: 0.5487 - accuracy: 0.7491 - val_loss: 0.5749 - val_accuracy: 0.7247\n",
      "Epoch 4/5\n",
      "223/223 [==============================] - 17s 75ms/step - loss: 0.5068 - accuracy: 0.7694 - val_loss: 0.4856 - val_accuracy: 0.7664\n",
      "Epoch 5/5\n",
      "223/223 [==============================] - 17s 76ms/step - loss: 0.4798 - accuracy: 0.7818 - val_loss: 0.4662 - val_accuracy: 0.7715\n",
      "Results for current fold:\n",
      "7/7 [==============================] - 0s 52ms/step - loss: 0.4840 - accuracy: 0.7750\n",
      "Fold:  5\n",
      "Epoch 1/5\n",
      "223/223 [==============================] - 17s 76ms/step - loss: 0.8826 - accuracy: 0.5748 - val_loss: 0.6426 - val_accuracy: 0.6806\n",
      "Epoch 2/5\n",
      "223/223 [==============================] - 17s 75ms/step - loss: 0.6301 - accuracy: 0.7158 - val_loss: 0.5593 - val_accuracy: 0.7323\n",
      "Epoch 3/5\n",
      "223/223 [==============================] - 17s 75ms/step - loss: 0.5472 - accuracy: 0.7514 - val_loss: 0.5481 - val_accuracy: 0.7449\n",
      "Epoch 4/5\n",
      "223/223 [==============================] - 17s 75ms/step - loss: 0.5088 - accuracy: 0.7753 - val_loss: 0.5468 - val_accuracy: 0.7538\n",
      "Epoch 5/5\n",
      "223/223 [==============================] - 17s 75ms/step - loss: 0.4830 - accuracy: 0.7899 - val_loss: 0.5264 - val_accuracy: 0.7727\n",
      "Results for current fold:\n",
      "7/7 [==============================] - 0s 55ms/step - loss: 0.4778 - accuracy: 0.7773\n",
      "Fold:  6\n",
      "Epoch 1/5\n",
      "223/223 [==============================] - 17s 75ms/step - loss: 0.9343 - accuracy: 0.5652 - val_loss: 0.7157 - val_accuracy: 0.6528\n",
      "Epoch 2/5\n",
      "223/223 [==============================] - 17s 74ms/step - loss: 0.6327 - accuracy: 0.7093 - val_loss: 0.7848 - val_accuracy: 0.6692\n",
      "Epoch 3/5\n",
      "223/223 [==============================] - 17s 75ms/step - loss: 0.5484 - accuracy: 0.7471 - val_loss: 0.4895 - val_accuracy: 0.7677\n",
      "Epoch 4/5\n",
      "223/223 [==============================] - 17s 74ms/step - loss: 0.5190 - accuracy: 0.7666 - val_loss: 0.4892 - val_accuracy: 0.7816\n",
      "Epoch 5/5\n",
      "223/223 [==============================] - 17s 75ms/step - loss: 0.4767 - accuracy: 0.7899 - val_loss: 0.5128 - val_accuracy: 0.7525\n",
      "Results for current fold:\n",
      "7/7 [==============================] - 0s 57ms/step - loss: 0.4682 - accuracy: 0.7932\n",
      "Fold:  7\n",
      "Epoch 1/5\n",
      "223/223 [==============================] - 17s 76ms/step - loss: 0.9242 - accuracy: 0.5697 - val_loss: 0.6769 - val_accuracy: 0.6780\n",
      "Epoch 2/5\n",
      "223/223 [==============================] - 17s 74ms/step - loss: 0.6097 - accuracy: 0.7166 - val_loss: 0.5757 - val_accuracy: 0.7235\n",
      "Epoch 3/5\n",
      "223/223 [==============================] - 17s 76ms/step - loss: 0.5373 - accuracy: 0.7552 - val_loss: 0.6018 - val_accuracy: 0.7449\n",
      "Epoch 4/5\n",
      "223/223 [==============================] - 17s 75ms/step - loss: 0.4991 - accuracy: 0.7739 - val_loss: 0.5107 - val_accuracy: 0.7778\n",
      "Epoch 5/5\n",
      "223/223 [==============================] - 17s 76ms/step - loss: 0.4836 - accuracy: 0.7870 - val_loss: 0.5336 - val_accuracy: 0.7727\n",
      "Results for current fold:\n",
      "7/7 [==============================] - 0s 60ms/step - loss: 0.4855 - accuracy: 0.7807\n",
      "Fold:  8\n",
      "Epoch 1/5\n",
      "223/223 [==============================] - 17s 77ms/step - loss: 0.9104 - accuracy: 0.5759 - val_loss: 0.6630 - val_accuracy: 0.7033\n",
      "Epoch 2/5\n",
      "223/223 [==============================] - 17s 75ms/step - loss: 0.6231 - accuracy: 0.7156 - val_loss: 0.5460 - val_accuracy: 0.7437\n",
      "Epoch 3/5\n",
      "223/223 [==============================] - 17s 75ms/step - loss: 0.5627 - accuracy: 0.7458 - val_loss: 0.5067 - val_accuracy: 0.7803\n",
      "Epoch 4/5\n",
      "223/223 [==============================] - 17s 76ms/step - loss: 0.5135 - accuracy: 0.7670 - val_loss: 0.5116 - val_accuracy: 0.7803\n",
      "Epoch 5/5\n",
      "223/223 [==============================] - 17s 75ms/step - loss: 0.4925 - accuracy: 0.7836 - val_loss: 0.7625 - val_accuracy: 0.6881\n",
      "Results for current fold:\n",
      "7/7 [==============================] - 0s 56ms/step - loss: 0.7443 - accuracy: 0.7034\n",
      "Fold:  9\n",
      "Epoch 1/5\n",
      "223/223 [==============================] - 17s 77ms/step - loss: 0.9159 - accuracy: 0.5692 - val_loss: 0.6162 - val_accuracy: 0.7235\n",
      "Epoch 2/5\n",
      "223/223 [==============================] - 17s 75ms/step - loss: 0.6059 - accuracy: 0.7218 - val_loss: 0.7175 - val_accuracy: 0.6982\n",
      "Epoch 3/5\n",
      "223/223 [==============================] - 17s 75ms/step - loss: 0.5487 - accuracy: 0.7562 - val_loss: 0.6817 - val_accuracy: 0.6957\n",
      "Epoch 4/5\n",
      "223/223 [==============================] - 17s 75ms/step - loss: 0.5078 - accuracy: 0.7763 - val_loss: 0.5876 - val_accuracy: 0.7412\n",
      "Epoch 5/5\n",
      "223/223 [==============================] - 17s 75ms/step - loss: 0.4762 - accuracy: 0.7901 - val_loss: 0.5275 - val_accuracy: 0.7563\n",
      "Results for current fold:\n",
      "7/7 [==============================] - 0s 54ms/step - loss: 0.5144 - accuracy: 0.7568\n",
      "Fold:  10\n",
      "Epoch 1/5\n",
      "223/223 [==============================] - 17s 78ms/step - loss: 0.9084 - accuracy: 0.5694 - val_loss: 0.6848 - val_accuracy: 0.6629\n",
      "Epoch 2/5\n",
      "223/223 [==============================] - 17s 75ms/step - loss: 0.6089 - accuracy: 0.7128 - val_loss: 0.4975 - val_accuracy: 0.7576\n",
      "Epoch 3/5\n",
      "223/223 [==============================] - 17s 76ms/step - loss: 0.5242 - accuracy: 0.7594 - val_loss: 0.5740 - val_accuracy: 0.7525\n",
      "Epoch 4/5\n",
      "223/223 [==============================] - 17s 76ms/step - loss: 0.5018 - accuracy: 0.7750 - val_loss: 0.4802 - val_accuracy: 0.7563\n",
      "Epoch 5/5\n",
      "223/223 [==============================] - 17s 76ms/step - loss: 0.4780 - accuracy: 0.7870 - val_loss: 0.6558 - val_accuracy: 0.7462\n",
      "Results for current fold:\n",
      "7/7 [==============================] - 0s 58ms/step - loss: 0.6432 - accuracy: 0.7557\n"
     ]
    }
   ],
   "source": [
    "from sklearn.model_selection import StratifiedKFold\n",
    "from scipy.stats import zscore\n",
    "from sklearn import metrics\n",
    "import tensorflow as tf\n",
    "import random\n",
    "\n",
    "f_score=[]\n",
    "fold = 10\n",
    "label_names = ['0', '1', '2']\n",
    "num_epochs = 5\n",
    "batch_size = 32\n",
    "#oos_y = []\n",
    "#oos_pred = []\n",
    "results = []\n",
    "#for train, test in kf.split(data[\"tokens\"], data['Label']):\n",
    "\n",
    "for i in range(fold):\n",
    "    print(\"Fold: \", i+1)\n",
    "    random_num = np.random.randint(1,7000, 1)[0]\n",
    "    data_train, data_test = train_test_split(data, test_size=0.10, shuffle = True, random_state = random_num)\n",
    "\n",
    "    # # total training words\n",
    "    totalTrainingWords = [word for tokens in data_train[\"tokens\"] for word in tokens]\n",
    "\n",
    "    # # Storing Length of the training sentence\n",
    "    lengthTrainingSentences = [len(tokens) for tokens in data_train[\"tokens\"]]\n",
    "\n",
    "    # # training Vocabulary size\n",
    "    trainingVocabSize = sorted(list(set(totalTrainingWords)))\n",
    "\n",
    "    ## Total number of lines\n",
    "    linesCount = len(data_train[\"tokens\"])\n",
    "    \n",
    "    tokenizer = Tokenizer(num_words=len(trainingVocabSize), lower=True, char_level=False)\n",
    "    tokenizer.fit_on_texts(data_train[\"Text_Final\"].tolist())\n",
    "    training_sequences = tokenizer.texts_to_sequences(data_train[\"Text_Final\"].tolist())\n",
    "\n",
    "    train_word_index = tokenizer.word_index\n",
    "    cnnTrainData = pad_sequences(training_sequences, maxlen=MAX_SEQUENCE_LENGTH)\n",
    "    \n",
    "    train_embedding_weights = np.zeros((len(train_word_index)+1, EMBEDDING_DIM))\n",
    "    \n",
    "    for word,index in train_word_index.items():\n",
    "        train_embedding_weights[index,:] = word2vec[word] if word in word2vec else np.random.rand(EMBEDDING_DIM)\n",
    "        \n",
    "    test_sequences = tokenizer.texts_to_sequences(data_test[\"Text_Final\"].tolist())\n",
    "    cnnTestData = pad_sequences(test_sequences, maxlen= MAX_SEQUENCE_LENGTH)\n",
    "    \n",
    "    # Splitting train data into X_train and y_train\n",
    "    y_train = data_train[label_names].values\n",
    "    x_train = cnnTrainData\n",
    "    y_tr = y_train\n",
    "    \n",
    "    # Splitting train data into X_test and y_test\n",
    "    y_test = data_test[label_names].values\n",
    "    x_test = cnnTestData\n",
    "    y_tst = y_test\n",
    "    \n",
    "    # create model\n",
    "    model = ConvolutionalNeuralNet(train_embedding_weights, MAX_SEQUENCE_LENGTH, len(train_word_index)+1, EMBEDDING_DIM, len(list(label_names)))\n",
    "    \n",
    "    #Train Model\n",
    "    history = model.fit(x_train, y_tr, epochs=num_epochs, validation_split=0.1, shuffle=True, batch_size=batch_size)\n",
    "      \n",
    "    # model evaluate\n",
    "    \n",
    "    print(\"Results for current fold:\")\n",
    "    results.append(model.evaluate(x_test, y_tst, batch_size=128))\n",
    "\n",
    "#     predictions = model.predict(cnnTestData, batch_size=1024, verbose=0)\n",
    "#     oos_y.append(y_test)\n",
    "#     oos_pred.append(predictions)\n",
    "    \n",
    "    #score = np.sqrt(metrics.mean_squared_error(predictions, y_test))\n",
    "#    f_score.append(count)\n",
    "\n",
    "model.save('model_CNN.h5')    "
   ]
  },
  {
   "cell_type": "code",
   "execution_count": 112,
   "metadata": {},
   "outputs": [
    {
     "name": "stdout",
     "output_type": "stream",
     "text": [
      "Kfold Mean:  0.7582954466342926\n"
     ]
    }
   ],
   "source": [
    "import statistics \n",
    "# for i in range(len(results)):\n",
    "#     print(\"Fold: \", i+1)\n",
    "#     print(\"test loss, test acc:\", results[i])\n",
    "\n",
    "score = []\n",
    "for i in results:\n",
    "    score.append(i[1])\n",
    "x = statistics.mean(score)\n",
    "    \n",
    "print(\"Kfold Mean: \", x)"
   ]
  },
  {
   "cell_type": "code",
   "execution_count": 135,
   "metadata": {},
   "outputs": [
    {
     "name": "stdout",
     "output_type": "stream",
     "text": [
      "0\n"
     ]
    }
   ],
   "source": [
    "# 0\n",
    "texts = [\"Middle class is suffering, but most affected are the poor. Hope govt can do more to help the sick and helpless\"]\n",
    "print(makeprediction(texts))"
   ]
  },
  {
   "cell_type": "code",
   "execution_count": 136,
   "metadata": {},
   "outputs": [
    {
     "name": "stdout",
     "output_type": "stream",
     "text": [
      "2\n"
     ]
    }
   ],
   "source": [
    "# 2\n",
    "texts = [\"Muslim asshole jehadi!\"]\n",
    "print(makeprediction(texts))"
   ]
  },
  {
   "cell_type": "code",
   "execution_count": 138,
   "metadata": {},
   "outputs": [
    {
     "name": "stdout",
     "output_type": "stream",
     "text": [
      "0\n"
     ]
    }
   ],
   "source": [
    "# 0\n",
    "texts = [\"Sister Kumari Mayawati ji is the only trusted leader of Sarva Samaj, Jindabad\"]\n",
    "print(makeprediction(texts))"
   ]
  },
  {
   "cell_type": "code",
   "execution_count": 141,
   "metadata": {},
   "outputs": [
    {
     "name": "stdout",
     "output_type": "stream",
     "text": [
      "2\n"
     ]
    }
   ],
   "source": [
    "# 1\n",
    "texts = [\"She follows islam\"]\n",
    "print(makeprediction(texts))"
   ]
  },
  {
   "cell_type": "markdown",
   "metadata": {},
   "source": [
    "### Reference\n",
    "[1] \"Convolutional Neural Networks for Sentence Classification\" by Yoon Kim\n"
   ]
  }
 ],
 "metadata": {
  "kernelspec": {
   "display_name": "Python 3",
   "language": "python",
   "name": "python3"
  },
  "language_info": {
   "codemirror_mode": {
    "name": "ipython",
    "version": 3
   },
   "file_extension": ".py",
   "mimetype": "text/x-python",
   "name": "python",
   "nbconvert_exporter": "python",
   "pygments_lexer": "ipython3",
   "version": "3.8.5"
  }
 },
 "nbformat": 4,
 "nbformat_minor": 4
}
