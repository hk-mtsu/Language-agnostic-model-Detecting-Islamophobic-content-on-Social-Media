{
 "cells": [
  {
   "cell_type": "markdown",
   "metadata": {},
   "source": [
    "\n",
    "# Convolutional Neural Network CNN\n",
    "1. Using Word2Vec implementing CNN model\n",
    "2. Dispaly Confusion Matrix, precision, recall and F1-score\n",
    "3. Display few prediction using predict module. \n",
    "4. Get 10-fold Average of the CNN model."
   ]
  },
  {
   "cell_type": "code",
   "execution_count": 89,
   "metadata": {},
   "outputs": [],
   "source": [
    "from __future__ import division, print_function\n",
    "\n",
    "# dataframe\n",
    "import pandas as pd\n",
    "\n",
    "# numpy array\n",
    "import numpy as np\n",
    "\n",
    "# figures visualization\n",
    "import matplotlib.pyplot as plt\n",
    "from sklearn.metrics import confusion_matrix \n",
    "import seaborn as sns\n",
    "\n",
    "# calc accuracy\n",
    "from sklearn.metrics import accuracy_score \n",
    "from sklearn.metrics import classification_report \n",
    "\n",
    "# word2vec\n",
    "import gensim \n",
    "from gensim import models\n",
    "from gensim.models import Word2Vec \n",
    "from gensim.models import KeyedVectors\n",
    "\n",
    "# CNN model and keras preprocessing\n",
    "import keras\n",
    "from keras.callbacks import ModelCheckpoint\n",
    "from keras.layers import Dense, Dropout, Reshape, Flatten, concatenate, Input, Conv1D, GlobalMaxPooling1D, Embedding, Conv2D, GlobalMaxPooling2D\n",
    "from keras.models import Sequential\n",
    "from keras.models import Model\n",
    "from keras.preprocessing.text import Tokenizer\n",
    "from keras.preprocessing.sequence import pad_sequences\n",
    "\n",
    "# nltk data preprocessing\n",
    "import nltk\n",
    "from nltk import word_tokenize\n",
    "from nltk.tokenize import sent_tokenize \n",
    "from nltk.stem import WordNetLemmatizer\n",
    "\n",
    "# stopword - remove buzz word\n",
    "from nltk.corpus import stopwords\n",
    "\n",
    "# splitting data\n",
    "from sklearn.model_selection import train_test_split\n",
    "\n",
    "# punctuation - data imbalance\n",
    "import collections\n",
    "import re\n",
    "import string\n",
    "\n",
    "# File path\n",
    "import os\n",
    "import os.path\n",
    "from os import path\n",
    "\n",
    "# Translator\n",
    "import googletrans\n",
    "from googletrans import Translator"
   ]
  },
  {
   "cell_type": "code",
   "execution_count": 142,
   "metadata": {},
   "outputs": [],
   "source": [
    "# original english file\n",
    "filename  = 'Eng-Hin-data/english-anot-shuffled'\n",
    "orig_df = pd.read_csv(filename + '.csv',  \n",
    "               delimiter=',')\n",
    "orig_df.columns = ['Text', 'Label']"
   ]
  },
  {
   "cell_type": "code",
   "execution_count": 143,
   "metadata": {},
   "outputs": [
    {
     "data": {
      "text/plain": [
       "<bound method NDFrame.head of                                                    Text  Label\n",
       "0     '@Cricket_Mann And they will see more of it no...      0\n",
       "1     \"Juma'at Kareem to all my Muslim brother aroun...      1\n",
       "2     'Thorpe becomes England head coach for Pakista...      0\n",
       "3     '@ParZevil Plymouth Cricket. THREE transmissions.      0\n",
       "4     'jungkook didnâ€™t get caught eating food duri...      1\n",
       "...                                                 ...    ...\n",
       "8433  '@xmufcalisha Looking like a cricket scoreline...      0\n",
       "8434  'QAnon is a terrorist organisation. Trump is n...      2\n",
       "8435  'No franchise cricket tournament has a better ...      0\n",
       "8436  'we are not against every muslim but for that ...      2\n",
       "8437  'Happy First Muharram ðŸ¥³ðŸŽŠðŸŽ‰  May Allah ...      1\n",
       "\n",
       "[8438 rows x 2 columns]>"
      ]
     },
     "execution_count": 143,
     "metadata": {},
     "output_type": "execute_result"
    }
   ],
   "source": [
    "orig_df.head"
   ]
  },
  {
   "cell_type": "code",
   "execution_count": 144,
   "metadata": {},
   "outputs": [
    {
     "data": {
      "text/plain": [
       "\"'@SakibulHoque8 @ImranKhanPTI Terrorist is a Muslim.ðŸ˜€\""
      ]
     },
     "execution_count": 144,
     "metadata": {},
     "output_type": "execute_result"
    }
   ],
   "source": [
    "orig_df.Text[6]"
   ]
  },
  {
   "cell_type": "code",
   "execution_count": 145,
   "metadata": {},
   "outputs": [],
   "source": [
    "orig_df[\"Text\"] = orig_df[\"Text\"].astype(str)\n",
    "orig_df[\"Label\"] = orig_df[\"Label\"].astype(str)\n",
    "data = orig_df"
   ]
  },
  {
   "cell_type": "markdown",
   "metadata": {},
   "source": [
    "### Class count"
   ]
  },
  {
   "cell_type": "code",
   "execution_count": 146,
   "metadata": {},
   "outputs": [
    {
     "data": {
      "image/png": "[encoded data removed]",
      "text/plain": [
       "<Figure size 432x288 with 1 Axes>"
      ]
     },
     "metadata": {
      "needs_background": "light"
     },
     "output_type": "display_data"
    }
   ],
   "source": [
    "import matplotlib.pyplot as plt\n",
    "fig = plt.figure(figsize=(6,4))\n",
    "df.groupby('Label').Text.count().plot.bar(ylim=0)\n",
    "plt.show()"
   ]
  },
  {
   "cell_type": "code",
   "execution_count": 147,
   "metadata": {},
   "outputs": [
    {
     "data": {
      "text/plain": [
       "2    3374\n",
       "0    3245\n",
       "1    2174\n",
       "Name: Label, dtype: int64"
      ]
     },
     "execution_count": 147,
     "metadata": {},
     "output_type": "execute_result"
    }
   ],
   "source": [
    "# For entire dataset sentences for each labels \n",
    "df.Label.value_counts()"
   ]
  },
  {
   "cell_type": "markdown",
   "metadata": {},
   "source": [
    "### Data Preprocessing"
   ]
  },
  {
   "cell_type": "code",
   "execution_count": 148,
   "metadata": {},
   "outputs": [],
   "source": [
    "# People usually join sentences using more than one colon \n",
    "\n",
    "def ReplaceDoubleColon(inputString):\n",
    "    return inputString.replace(\"..\", \" \") \n",
    "\n",
    "data['Text'] = data['Text'].apply(lambda x: ReplaceDoubleColon(x))\n",
    "\n",
    "def ReplaceTripleColon(inputString):\n",
    "    return inputString.replace(\"...\", \" \") \n",
    "\n",
    "data['Text'] = data['Text'].apply(lambda x: ReplaceTripleColon(x))\n",
    "\n",
    "def ReplaceFourColon(inputString):\n",
    "    return inputString.replace(\"....\", \" \") \n",
    "\n",
    "data['Text'] = data['Text'].apply(lambda x: ReplaceFourColon(x))"
   ]
  },
  {
   "cell_type": "code",
   "execution_count": 149,
   "metadata": {},
   "outputs": [],
   "source": [
    "def textPattern(text):\n",
    "\n",
    "    # Clean the text\n",
    "    text = re.sub(r\"[^A-Za-z0-9^,!.\\/'+-=]\", \" \", text)\n",
    "    text = re.sub(r\" \\n \", \" \", text)\n",
    "    text = re.sub(r\"what's\", \"what is\", text)\n",
    "    text = re.sub(r\"\\'s\", \" \", text)\n",
    "    text = re.sub(r\"\\'ve\", \"have\", text)\n",
    "    text = re.sub(r\"can't\", \"can not\", text)\n",
    "    text = re.sub(r\"aren't\", \"are not\", text)\n",
    "    text = re.sub(r\"couldn't\", \"could not\", text)\n",
    "    text = re.sub(r\"didn't\", \"did not\", text)\n",
    "    text = re.sub(r\"doesn't\", \"does not\", text)\n",
    "    text = re.sub(r\"don't\", \"do not\", text)\n",
    "    text = re.sub(r\"hadn't\", \"had not\", text)\n",
    "    text = re.sub(r\"hasn't\", \"has not\", text)\n",
    "    text = re.sub(r\"haven't\", \"have not\", text)\n",
    "    text = re.sub(r\"isn't\", \"is not\", text)\n",
    "    text = re.sub(r\"shouldn't\", \"should not\", text)\n",
    "    text = re.sub(r\"wasn't\", \"was not\", text)\n",
    "    text = re.sub(r\"weren't\", \"were not\", text)\n",
    "    text = re.sub(r\"won't\", \"will not\", text)\n",
    "    text = re.sub(r\"wouldn't\", \"would not\", text)\n",
    "    text = re.sub(r\"mustn't\", \"must not\", text)\n",
    "    text = re.sub(r\"i'm\", \"i am\", text)\n",
    "    text = re.sub(r\"\\'re\", \"are\", text)\n",
    "    text = re.sub(r\",\", \" \", text)\n",
    "    text = re.sub(r\"\\.\", \" \", text)\n",
    "    text = re.sub(r\"!\", \" \", text)\n",
    "    text = re.sub(r\"\\/\", \" \", text)\n",
    "    text = re.sub(r\"\\^\", \" ^ \", text)\n",
    "    text = re.sub(r\"\\+\", \" \", text)\n",
    "    text = re.sub(r\"\\-\", \" - \", text)\n",
    "    text = re.sub(r\"\\= =\", \" \", text)\n",
    "    text = re.sub(r\"\\==\", \" \", text)\n",
    "    text = re.sub(r\"'\", \" \", text)\n",
    "    text = re.sub(r\"(\\d+)(k)\", r\"\\g<1>000\", text)\n",
    "    text = re.sub(r\":\", \" : \", text)\n",
    "    text = re.sub(r\"\\0s\", \"0\", text)\n",
    "    text = re.sub(r\" 9 11 \", \"911\", text)\n",
    "    text = re.sub(r\"\\s{2,}\", \" \", text)\n",
    "    return text\n",
    "\n",
    "data['Text'] = data['Text'].apply(lambda x: textPattern(x))"
   ]
  },
  {
   "cell_type": "code",
   "execution_count": 150,
   "metadata": {},
   "outputs": [
    {
     "data": {
      "text/plain": [
       "(8438, 2)"
      ]
     },
     "execution_count": 150,
     "metadata": {},
     "output_type": "execute_result"
    }
   ],
   "source": [
    "data.shape"
   ]
  },
  {
   "cell_type": "code",
   "execution_count": 151,
   "metadata": {},
   "outputs": [],
   "source": [
    "# Word Tokenization\n",
    "tokens = [word_tokenize(sen) for sen in data.Text]"
   ]
  },
  {
   "cell_type": "code",
   "execution_count": 152,
   "metadata": {},
   "outputs": [],
   "source": [
    "# Lower Case\n",
    "def lower_token(tokens): \n",
    "    return [w.lower() for w in tokens]    \n",
    "    \n",
    "lower_tokens = [lower_token(token) for token in tokens]"
   ]
  },
  {
   "cell_type": "code",
   "execution_count": 153,
   "metadata": {},
   "outputs": [],
   "source": [
    "# Remove Link\n",
    "\n",
    "def removeLink(token):\n",
    "    word = []\n",
    "    for w in token:\n",
    "        if not w.startswith('http'):\n",
    "            word.append(w)\n",
    "    return word \n",
    "    \n",
    "removedLink_tokens = [removeLink(token) for token in lower_tokens]"
   ]
  },
  {
   "cell_type": "code",
   "execution_count": 154,
   "metadata": {},
   "outputs": [],
   "source": [
    "# Word Lemmatization\n",
    "def lemmatization(token):\n",
    "    return [lemmatizer.lemmatize(w) for w in token] \n",
    "\n",
    "lemmatizer = WordNetLemmatizer()\n",
    "\n",
    "lemmatized_tokens = [lemmatization(token) for token in removedLink_tokens]"
   ]
  },
  {
   "cell_type": "code",
   "execution_count": 155,
   "metadata": {},
   "outputs": [],
   "source": [
    "# Removing Stopwords\n",
    "stoplist = stopwords.words('english')"
   ]
  },
  {
   "cell_type": "code",
   "execution_count": 156,
   "metadata": {},
   "outputs": [],
   "source": [
    "def removeStopWords(tokens): \n",
    "    return [word for word in tokens if word not in stoplist]\n",
    "\n",
    "filtered_words = [removeStopWords(sen) for sen in lemmatized_tokens]\n",
    "data['Text_Final'] = [' '.join(sen) for sen in filtered_words]\n",
    "data['tokens'] = filtered_words"
   ]
  },
  {
   "cell_type": "code",
   "execution_count": 157,
   "metadata": {},
   "outputs": [],
   "source": [
    "zero  = []\n",
    "one = []\n",
    "two = []\n",
    "for l in data.Label:\n",
    "    \n",
    "    if l == '0':\n",
    "        zero.append(1)\n",
    "        one.append(0)\n",
    "        two.append(0)\n",
    "    elif l == '1':\n",
    "        zero.append(0)\n",
    "        one.append(1)\n",
    "        two.append(0)\n",
    "    elif l == '2':\n",
    "        zero.append(0)\n",
    "        one.append(0)\n",
    "        two.append(1)\n",
    "        \n",
    "data['0']= zero\n",
    "data['1']= one\n",
    "data['2']= two\n",
    "\n",
    "data = data[['Text_Final', 'tokens', 'Label', '0', '1', '2']]"
   ]
  },
  {
   "cell_type": "code",
   "execution_count": 158,
   "metadata": {},
   "outputs": [
    {
     "data": {
      "text/html": [
       "<div>\n",
       "<style scoped>\n",
       "    .dataframe tbody tr th:only-of-type {\n",
       "        vertical-align: middle;\n",
       "    }\n",
       "\n",
       "    .dataframe tbody tr th {\n",
       "        vertical-align: top;\n",
       "    }\n",
       "\n",
       "    .dataframe thead th {\n",
       "        text-align: right;\n",
       "    }\n",
       "</style>\n",
       "<table border=\"1\" class=\"dataframe\">\n",
       "  <thead>\n",
       "    <tr style=\"text-align: right;\">\n",
       "      <th></th>\n",
       "      <th>Text_Final</th>\n",
       "      <th>tokens</th>\n",
       "      <th>Label</th>\n",
       "      <th>0</th>\n",
       "      <th>1</th>\n",
       "      <th>2</th>\n",
       "      <th>Category_id</th>\n",
       "    </tr>\n",
       "  </thead>\n",
       "  <tbody>\n",
       "    <tr>\n",
       "      <th>0</th>\n",
       "      <td>cricket mann see starting earlier</td>\n",
       "      <td>[cricket, mann, see, starting, earlier]</td>\n",
       "      <td>0</td>\n",
       "      <td>1</td>\n",
       "      <td>0</td>\n",
       "      <td>0</td>\n",
       "      <td>0</td>\n",
       "    </tr>\n",
       "    <tr>\n",
       "      <th>1</th>\n",
       "      <td>juma kareem muslim brother around world alhamd...</td>\n",
       "      <td>[juma, kareem, muslim, brother, around, world,...</td>\n",
       "      <td>1</td>\n",
       "      <td>0</td>\n",
       "      <td>1</td>\n",
       "      <td>0</td>\n",
       "      <td>1</td>\n",
       "    </tr>\n",
       "    <tr>\n",
       "      <th>2</th>\n",
       "      <td>thorpe becomes england head coach pakistan t20...</td>\n",
       "      <td>[thorpe, becomes, england, head, coach, pakist...</td>\n",
       "      <td>0</td>\n",
       "      <td>1</td>\n",
       "      <td>0</td>\n",
       "      <td>0</td>\n",
       "      <td>0</td>\n",
       "    </tr>\n",
       "    <tr>\n",
       "      <th>3</th>\n",
       "      <td>parzevil plymouth cricket three transmission</td>\n",
       "      <td>[parzevil, plymouth, cricket, three, transmiss...</td>\n",
       "      <td>0</td>\n",
       "      <td>1</td>\n",
       "      <td>0</td>\n",
       "      <td>0</td>\n",
       "      <td>0</td>\n",
       "    </tr>\n",
       "    <tr>\n",
       "      <th>4</th>\n",
       "      <td>jungkook get caught eating food ramadan imaam ...</td>\n",
       "      <td>[jungkook, get, caught, eating, food, ramadan,...</td>\n",
       "      <td>1</td>\n",
       "      <td>0</td>\n",
       "      <td>1</td>\n",
       "      <td>0</td>\n",
       "      <td>1</td>\n",
       "    </tr>\n",
       "    <tr>\n",
       "      <th>5</th>\n",
       "      <td>mystic24g joyantakarmoker hate hindu come vers...</td>\n",
       "      <td>[mystic24g, joyantakarmoker, hate, hindu, come...</td>\n",
       "      <td>2</td>\n",
       "      <td>0</td>\n",
       "      <td>0</td>\n",
       "      <td>1</td>\n",
       "      <td>2</td>\n",
       "    </tr>\n",
       "    <tr>\n",
       "      <th>6</th>\n",
       "      <td>sakibulhoque8 imrankhanpti terrorist muslim</td>\n",
       "      <td>[sakibulhoque8, imrankhanpti, terrorist, muslim]</td>\n",
       "      <td>2</td>\n",
       "      <td>0</td>\n",
       "      <td>0</td>\n",
       "      <td>1</td>\n",
       "      <td>2</td>\n",
       "    </tr>\n",
       "    <tr>\n",
       "      <th>7</th>\n",
       "      <td>aatishtaseer tavleen singh ajenglish jehadi vi...</td>\n",
       "      <td>[aatishtaseer, tavleen, singh, ajenglish, jeha...</td>\n",
       "      <td>2</td>\n",
       "      <td>0</td>\n",
       "      <td>0</td>\n",
       "      <td>1</td>\n",
       "      <td>2</td>\n",
       "    </tr>\n",
       "    <tr>\n",
       "      <th>8</th>\n",
       "      <td>sairashahhalim pbhushan1 end islamic terrorism</td>\n",
       "      <td>[sairashahhalim, pbhushan1, end, islamic, terr...</td>\n",
       "      <td>2</td>\n",
       "      <td>0</td>\n",
       "      <td>0</td>\n",
       "      <td>1</td>\n",
       "      <td>2</td>\n",
       "    </tr>\n",
       "  </tbody>\n",
       "</table>\n",
       "</div>"
      ],
      "text/plain": [
       "                                          Text_Final  \\\n",
       "0                  cricket mann see starting earlier   \n",
       "1  juma kareem muslim brother around world alhamd...   \n",
       "2  thorpe becomes england head coach pakistan t20...   \n",
       "3       parzevil plymouth cricket three transmission   \n",
       "4  jungkook get caught eating food ramadan imaam ...   \n",
       "5  mystic24g joyantakarmoker hate hindu come vers...   \n",
       "6        sakibulhoque8 imrankhanpti terrorist muslim   \n",
       "7  aatishtaseer tavleen singh ajenglish jehadi vi...   \n",
       "8     sairashahhalim pbhushan1 end islamic terrorism   \n",
       "\n",
       "                                              tokens Label  0  1  2  \\\n",
       "0            [cricket, mann, see, starting, earlier]     0  1  0  0   \n",
       "1  [juma, kareem, muslim, brother, around, world,...     1  0  1  0   \n",
       "2  [thorpe, becomes, england, head, coach, pakist...     0  1  0  0   \n",
       "3  [parzevil, plymouth, cricket, three, transmiss...     0  1  0  0   \n",
       "4  [jungkook, get, caught, eating, food, ramadan,...     1  0  1  0   \n",
       "5  [mystic24g, joyantakarmoker, hate, hindu, come...     2  0  0  1   \n",
       "6   [sakibulhoque8, imrankhanpti, terrorist, muslim]     2  0  0  1   \n",
       "7  [aatishtaseer, tavleen, singh, ajenglish, jeha...     2  0  0  1   \n",
       "8  [sairashahhalim, pbhushan1, end, islamic, terr...     2  0  0  1   \n",
       "\n",
       "  Category_id  \n",
       "0           0  \n",
       "1           1  \n",
       "2           0  \n",
       "3           0  \n",
       "4           1  \n",
       "5           2  \n",
       "6           2  \n",
       "7           2  \n",
       "8           2  "
      ]
     },
     "execution_count": 158,
     "metadata": {},
     "output_type": "execute_result"
    }
   ],
   "source": [
    "category_id = []\n",
    "for l in data.Label:\n",
    "    \n",
    "    if l == '0':\n",
    "        category_id.append('0')\n",
    "    elif l == '1':\n",
    "        category_id.append('1')\n",
    "    elif l == '2':\n",
    "        category_id.append('2')\n",
    "        \n",
    "data['Category_id'] = category_id\n",
    "\n",
    "data = data[['Text_Final', 'tokens', 'Label', '0', '1', '2', 'Category_id' ]]\n",
    "data.head(9)"
   ]
  },
  {
   "cell_type": "code",
   "execution_count": 159,
   "metadata": {},
   "outputs": [],
   "source": [
    "from io import StringIO\n",
    "category_id_df = data[['Label', 'Category_id']].drop_duplicates().sort_values('Category_id')\n",
    "category_to_label_dict = dict(category_id_df.values)\n",
    "label_to_category_dict = dict(category_id_df[['Category_id', 'Label']].values)"
   ]
  },
  {
   "cell_type": "markdown",
   "metadata": {},
   "source": [
    "#### Split Data into test and train\n",
    "We will use 90 % data for training and 20 % for testing. We use random state so every time we get the same training and testing data."
   ]
  },
  {
   "cell_type": "code",
   "execution_count": 160,
   "metadata": {},
   "outputs": [
    {
     "data": {
      "text/plain": [
       "(8438, 7)"
      ]
     },
     "execution_count": 160,
     "metadata": {},
     "output_type": "execute_result"
    }
   ],
   "source": [
    "data.shape"
   ]
  },
  {
   "cell_type": "code",
   "execution_count": 161,
   "metadata": {},
   "outputs": [],
   "source": [
    "data_train, data_test = train_test_split(data, test_size=0.10, random_state=42)\n"
   ]
  },
  {
   "cell_type": "code",
   "execution_count": 162,
   "metadata": {},
   "outputs": [],
   "source": [
    "# # total training words\n",
    "totalTrainingWords = [word for tokens in data_train[\"tokens\"] for word in tokens]\n",
    "\n",
    "# # Storing Length of the training sentence\n",
    "lengthTrainingSentences = [len(tokens) for tokens in data_train[\"tokens\"]]\n",
    "\n",
    "# # training Vocabulary size\n",
    "trainingVocabSize = sorted(list(set(totalTrainingWords)))\n",
    "\n",
    "## Total number of lines\n",
    "linesCount = len(data_train[\"tokens\"])"
   ]
  },
  {
   "cell_type": "markdown",
   "metadata": {},
   "source": [
    "### Load Google News Word2Vec model"
   ]
  },
  {
   "cell_type": "code",
   "execution_count": 163,
   "metadata": {},
   "outputs": [],
   "source": [
    "# word2vec_path = 'GoogleNews-vectors-negative300.bin'\n",
    "# #word2vec_path = 'glove.6B.50d.word2vec'"
   ]
  },
  {
   "cell_type": "code",
   "execution_count": 164,
   "metadata": {},
   "outputs": [],
   "source": [
    "# from gensim import models\n",
    "# word2vec = models.KeyedVectors.load_word2vec_format(word2vec_path, binary=True)\n"
   ]
  },
  {
   "cell_type": "code",
   "execution_count": 165,
   "metadata": {},
   "outputs": [
    {
     "data": {
      "text/plain": [
       "(1181931, 0)"
      ]
     },
     "execution_count": 165,
     "metadata": {},
     "output_type": "execute_result"
    }
   ],
   "source": [
    "# Convert Glove file to word2vec format (examples: uses 50 dimensions since it's faster)\n",
    "from gensim.scripts.glove2word2vec import glove2word2vec\n",
    "glove_input_file = 'Online_supplement_1 word vectors.csv'  # I unzipped in glove.6B subdirectory \n",
    "word2vec_output_file = 'glove.6B.300d.word2vec'\n",
    "glove2word2vec(glove_input_file, word2vec_output_file)"
   ]
  },
  {
   "cell_type": "code",
   "execution_count": 166,
   "metadata": {},
   "outputs": [],
   "source": [
    "# Use the converted Glove file\n",
    "\n",
    "\n",
    "filename = 'glove.6B.300d.word2vec'\n",
    "word2vec = KeyedVectors.load_word2vec_format(filename, binary=False)\n"
   ]
  },
  {
   "cell_type": "code",
   "execution_count": 167,
   "metadata": {},
   "outputs": [
    {
     "data": {
      "text/plain": [
       "<gensim.models.keyedvectors.Word2VecKeyedVectors at 0x7f65d600d2b0>"
      ]
     },
     "execution_count": 167,
     "metadata": {},
     "output_type": "execute_result"
    }
   ],
   "source": [
    "word2vec"
   ]
  },
  {
   "cell_type": "code",
   "execution_count": 168,
   "metadata": {},
   "outputs": [],
   "source": [
    "MAX_SEQUENCE_LENGTH = 150\n",
    "EMBEDDING_DIM = 50"
   ]
  },
  {
   "cell_type": "markdown",
   "metadata": {},
   "source": [
    "\n",
    "### Tokenize and Pad sequences"
   ]
  },
  {
   "cell_type": "code",
   "execution_count": 169,
   "metadata": {},
   "outputs": [
    {
     "name": "stdout",
     "output_type": "stream",
     "text": [
      "Found 15247 unique tokens.\n"
     ]
    }
   ],
   "source": [
    "tokenizer = Tokenizer(num_words=len(trainingVocabSize), lower=True, char_level=False)\n",
    "tokenizer.fit_on_texts(data_train[\"Text_Final\"].tolist())\n",
    "training_sequences = tokenizer.texts_to_sequences(data_train[\"Text_Final\"].tolist())\n",
    "\n",
    "train_word_index = tokenizer.word_index\n",
    "print('Found %s unique tokens.' % len(train_word_index))"
   ]
  },
  {
   "cell_type": "code",
   "execution_count": 170,
   "metadata": {},
   "outputs": [],
   "source": [
    "cnnTrainData = pad_sequences(training_sequences, maxlen=MAX_SEQUENCE_LENGTH)"
   ]
  },
  {
   "cell_type": "code",
   "execution_count": 171,
   "metadata": {},
   "outputs": [
    {
     "name": "stdout",
     "output_type": "stream",
     "text": [
      "(15248, 50)\n"
     ]
    }
   ],
   "source": [
    "train_embedding_weights = np.zeros((len(train_word_index)+1, EMBEDDING_DIM))\n",
    "for word,index in train_word_index.items():\n",
    "    train_embedding_weights[index,:] = word2vec[word] if word in word2vec else np.random.rand(EMBEDDING_DIM)\n",
    "print(train_embedding_weights.shape)"
   ]
  },
  {
   "cell_type": "code",
   "execution_count": 172,
   "metadata": {},
   "outputs": [],
   "source": [
    "test_sequences = tokenizer.texts_to_sequences(data_test[\"Text_Final\"].tolist())\n",
    "cnnTestData = pad_sequences(test_sequences, maxlen= MAX_SEQUENCE_LENGTH)"
   ]
  },
  {
   "cell_type": "markdown",
   "metadata": {},
   "source": [
    "### Define CNN"
   ]
  },
  {
   "cell_type": "markdown",
   "metadata": {},
   "source": [
    "The model is from the paper 'Convolutional Neural Networks for Sentence Classification' we have updated the network according to our requirement [1]"
   ]
  },
  {
   "cell_type": "code",
   "execution_count": 173,
   "metadata": {},
   "outputs": [],
   "source": [
    "label_names = ['0', '1', '2']"
   ]
  },
  {
   "cell_type": "code",
   "execution_count": 174,
   "metadata": {},
   "outputs": [],
   "source": [
    "def ConvolutionalNeuralNet(embeddings, max_sequence_length, num_words, embedding_dim, labels_index):\n",
    "    \n",
    "    # Embedding layer\n",
    "    embedding_layer = Embedding(num_words,\n",
    "                            embedding_dim,\n",
    "                            weights=[embeddings],\n",
    "                            input_length=max_sequence_length,\n",
    "                            trainable=False)\n",
    "    \n",
    "    sequence_input = Input(shape=(max_sequence_length,), dtype='int32')\n",
    "    embedded_sequences = embedding_layer(sequence_input)\n",
    "\n",
    "    convs = []\n",
    "    \n",
    "    #Kernal (window) size\n",
    "    filter_sizes = [2,3,4,5]\n",
    "\n",
    "    # Convolution Layer and max-pooling\n",
    "    for filter_size in filter_sizes:\n",
    "        l_conv = Conv1D(filters=512, kernel_size=filter_size, activation='relu')(embedded_sequences)\n",
    "        l_pool = GlobalMaxPooling1D()(l_conv)\n",
    "        convs.append(l_pool)\n",
    "        \n",
    "    l_merge = concatenate(convs, axis=1)\n",
    "    \n",
    "    # softmax layer for multiclass identification \n",
    "    x = Dropout(0.1)(l_merge)  \n",
    "    x = Dense(512, activation='relu')(x)\n",
    "    x = Dropout(0.2)(x)\n",
    "    preds = Dense(labels_index, activation='softmax')(x)\n",
    "\n",
    "    model = Model(sequence_input, preds)\n",
    "    model.compile(loss= 'categorical_crossentropy',\n",
    "                 optimizer = keras.optimizers.RMSprop(learning_rate=1e-3),\n",
    "#                    optimizer='adam',\n",
    "                  metrics=['accuracy'])\n",
    "    return model"
   ]
  },
  {
   "cell_type": "code",
   "execution_count": 175,
   "metadata": {},
   "outputs": [],
   "source": [
    "# Splitting train data into X_train and y_train\n",
    "y_train = data_train[label_names].values\n",
    "x_train = cnnTrainData\n",
    "y_tr = y_train"
   ]
  },
  {
   "cell_type": "code",
   "execution_count": 176,
   "metadata": {},
   "outputs": [],
   "source": [
    "# Splitting train data into X_test and y_test\n",
    "y_test = data_test[label_names].values\n",
    "x_test = cnnTestData\n",
    "y_tst = y_test"
   ]
  },
  {
   "cell_type": "code",
   "execution_count": 177,
   "metadata": {},
   "outputs": [],
   "source": [
    "model = ConvolutionalNeuralNet(train_embedding_weights, MAX_SEQUENCE_LENGTH, len(train_word_index)+1, EMBEDDING_DIM, len(list(label_names)))"
   ]
  },
  {
   "cell_type": "code",
   "execution_count": 178,
   "metadata": {},
   "outputs": [
    {
     "name": "stdout",
     "output_type": "stream",
     "text": [
      "Model: \"functional_27\"\n",
      "__________________________________________________________________________________________________\n",
      "Layer (type)                    Output Shape         Param #     Connected to                     \n",
      "==================================================================================================\n",
      "input_14 (InputLayer)           [(None, 150)]        0                                            \n",
      "__________________________________________________________________________________________________\n",
      "embedding_13 (Embedding)        (None, 150, 50)      762400      input_14[0][0]                   \n",
      "__________________________________________________________________________________________________\n",
      "conv1d_52 (Conv1D)              (None, 149, 512)     51712       embedding_13[0][0]               \n",
      "__________________________________________________________________________________________________\n",
      "conv1d_53 (Conv1D)              (None, 148, 512)     77312       embedding_13[0][0]               \n",
      "__________________________________________________________________________________________________\n",
      "conv1d_54 (Conv1D)              (None, 147, 512)     102912      embedding_13[0][0]               \n",
      "__________________________________________________________________________________________________\n",
      "conv1d_55 (Conv1D)              (None, 146, 512)     128512      embedding_13[0][0]               \n",
      "__________________________________________________________________________________________________\n",
      "global_max_pooling1d_52 (Global (None, 512)          0           conv1d_52[0][0]                  \n",
      "__________________________________________________________________________________________________\n",
      "global_max_pooling1d_53 (Global (None, 512)          0           conv1d_53[0][0]                  \n",
      "__________________________________________________________________________________________________\n",
      "global_max_pooling1d_54 (Global (None, 512)          0           conv1d_54[0][0]                  \n",
      "__________________________________________________________________________________________________\n",
      "global_max_pooling1d_55 (Global (None, 512)          0           conv1d_55[0][0]                  \n",
      "__________________________________________________________________________________________________\n",
      "concatenate_13 (Concatenate)    (None, 2048)         0           global_max_pooling1d_52[0][0]    \n",
      "                                                                 global_max_pooling1d_53[0][0]    \n",
      "                                                                 global_max_pooling1d_54[0][0]    \n",
      "                                                                 global_max_pooling1d_55[0][0]    \n",
      "__________________________________________________________________________________________________\n",
      "dropout_26 (Dropout)            (None, 2048)         0           concatenate_13[0][0]             \n",
      "__________________________________________________________________________________________________\n",
      "dense_26 (Dense)                (None, 512)          1049088     dropout_26[0][0]                 \n",
      "__________________________________________________________________________________________________\n",
      "dropout_27 (Dropout)            (None, 512)          0           dense_26[0][0]                   \n",
      "__________________________________________________________________________________________________\n",
      "dense_27 (Dense)                (None, 3)            1539        dropout_27[0][0]                 \n",
      "==================================================================================================\n",
      "Total params: 2,173,475\n",
      "Trainable params: 1,411,075\n",
      "Non-trainable params: 762,400\n",
      "__________________________________________________________________________________________________\n"
     ]
    }
   ],
   "source": [
    "model.summary()"
   ]
  },
  {
   "cell_type": "markdown",
   "metadata": {},
   "source": [
    "### Train CNN"
   ]
  },
  {
   "cell_type": "code",
   "execution_count": 179,
   "metadata": {},
   "outputs": [],
   "source": [
    "num_epochs = 10\n",
    "batch_size = 512"
   ]
  },
  {
   "cell_type": "code",
   "execution_count": 180,
   "metadata": {},
   "outputs": [
    {
     "name": "stdout",
     "output_type": "stream",
     "text": [
      "Epoch 1/10\n",
      "14/14 [==============================] - 10s 711ms/step - loss: 2.0249 - accuracy: 0.4494 - val_loss: 0.8406 - val_accuracy: 0.7408\n",
      "Epoch 2/10\n",
      "14/14 [==============================] - 10s 710ms/step - loss: 0.9548 - accuracy: 0.5808 - val_loss: 0.9114 - val_accuracy: 0.4908\n",
      "Epoch 3/10\n",
      "14/14 [==============================] - 10s 705ms/step - loss: 0.8000 - accuracy: 0.6454 - val_loss: 0.6490 - val_accuracy: 0.7658\n",
      "Epoch 4/10\n",
      "14/14 [==============================] - 10s 712ms/step - loss: 0.6186 - accuracy: 0.7416 - val_loss: 0.5440 - val_accuracy: 0.7855\n",
      "Epoch 5/10\n",
      "14/14 [==============================] - 10s 714ms/step - loss: 0.5319 - accuracy: 0.7736 - val_loss: 0.4454 - val_accuracy: 0.8118\n",
      "Epoch 6/10\n",
      "14/14 [==============================] - 10s 715ms/step - loss: 0.5492 - accuracy: 0.7908 - val_loss: 0.6440 - val_accuracy: 0.7697\n",
      "Epoch 7/10\n",
      "14/14 [==============================] - 10s 704ms/step - loss: 0.4008 - accuracy: 0.8447 - val_loss: 0.8130 - val_accuracy: 0.7066\n",
      "Epoch 8/10\n",
      "14/14 [==============================] - 9s 669ms/step - loss: 0.4674 - accuracy: 0.8104 - val_loss: 0.3877 - val_accuracy: 0.8421\n",
      "Epoch 9/10\n",
      "14/14 [==============================] - 10s 729ms/step - loss: 0.3826 - accuracy: 0.8490 - val_loss: 0.3770 - val_accuracy: 0.8066\n",
      "Epoch 10/10\n",
      "14/14 [==============================] - 10s 718ms/step - loss: 0.3468 - accuracy: 0.8578 - val_loss: 0.3051 - val_accuracy: 0.8750\n"
     ]
    }
   ],
   "source": [
    "history = model.fit(x_train, y_tr, epochs=num_epochs, validation_split=0.1, shuffle=True, batch_size=batch_size)"
   ]
  },
  {
   "cell_type": "code",
   "execution_count": 181,
   "metadata": {},
   "outputs": [
    {
     "name": "stdout",
     "output_type": "stream",
     "text": [
      "27/27 [==============================] - 0s 14ms/step - loss: 0.2488 - accuracy: 0.9076\n"
     ]
    }
   ],
   "source": [
    "# evaluate on test data\n",
    "results = model.evaluate(x_test, y_tst)"
   ]
  },
  {
   "cell_type": "code",
   "execution_count": 182,
   "metadata": {},
   "outputs": [
    {
     "name": "stdout",
     "output_type": "stream",
     "text": [
      "1/1 [==============================] - 0s 2ms/step\n"
     ]
    }
   ],
   "source": [
    "# predict model\n",
    "predictions = model.predict(cnnTestData, batch_size=1024, verbose=1)"
   ]
  },
  {
   "cell_type": "markdown",
   "metadata": {},
   "source": [
    "### Testing few sentences using our model"
   ]
  },
  {
   "cell_type": "code",
   "execution_count": 183,
   "metadata": {},
   "outputs": [],
   "source": [
    "\n",
    "labels = ['0', '1', '2']\n",
    "\n",
    "def makeprediction(texts):\n",
    "    tk = Tokenizer()\n",
    "    tk.fit_on_texts(texts)\n",
    "    index_list = tk.texts_to_sequences(texts)\n",
    "    x_train = pad_sequences(index_list, maxlen=150)\n",
    "    pred = model.predict(x_train)\n",
    "    result = labels[np.argmax(pred)]\n",
    "    return result"
   ]
  },
  {
   "cell_type": "code",
   "execution_count": 184,
   "metadata": {},
   "outputs": [],
   "source": [
    "prediction_labels=[]\n",
    "for p in predictions:\n",
    "    prediction_labels.append(labels[np.argmax(p)])"
   ]
  },
  {
   "cell_type": "code",
   "execution_count": 185,
   "metadata": {},
   "outputs": [
    {
     "data": {
      "text/plain": [
       "0.9075829383886256"
      ]
     },
     "execution_count": 185,
     "metadata": {},
     "output_type": "execute_result"
    }
   ],
   "source": [
    "sum(data_test.Label==prediction_labels)/len(prediction_labels)"
   ]
  },
  {
   "cell_type": "code",
   "execution_count": 186,
   "metadata": {},
   "outputs": [
    {
     "data": {
      "text/plain": [
       "0    381\n",
       "2    233\n",
       "1    230\n",
       "Name: Label, dtype: int64"
      ]
     },
     "execution_count": 186,
     "metadata": {},
     "output_type": "execute_result"
    }
   ],
   "source": [
    "data_test.Label.value_counts()"
   ]
  },
  {
   "cell_type": "code",
   "execution_count": 187,
   "metadata": {},
   "outputs": [
    {
     "data": {
      "image/png": "[encoded data removed]",
      "text/plain": [
       "<Figure size 432x288 with 2 Axes>"
      ]
     },
     "metadata": {
      "needs_background": "light"
     },
     "output_type": "display_data"
    }
   ],
   "source": [
    "plt.figure(1)\n",
    "# summarize history for accuracy\n",
    "plt.subplot(211)\n",
    "plt.plot(history.history['accuracy'])\n",
    "plt.plot(history.history['val_accuracy'])\n",
    "plt.title('model accuracy')\n",
    "plt.ylabel('accuracy')\n",
    "plt.xlabel('epoch')\n",
    "plt.legend(['train', 'val'], loc='upper left')\n",
    "# summarize history for loss\n",
    "plt.subplot(212)\n",
    "plt.plot(history.history['loss'])\n",
    "plt.plot(history.history['val_loss'])\n",
    "plt.title('model loss')\n",
    "plt.ylabel('loss')\n",
    "plt.xlabel('epoch')\n",
    "plt.legend(['train', 'val'], loc='upper left')\n",
    "plt.tight_layout()\n",
    "plt.show()"
   ]
  },
  {
   "cell_type": "code",
   "execution_count": 188,
   "metadata": {},
   "outputs": [
    {
     "name": "stdout",
     "output_type": "stream",
     "text": [
      "Confusion Matrix :\n",
      "[[345   2  34]\n",
      " [  6 204  20]\n",
      " [  8   8 217]]\n",
      "Accuracy Score : 0.9075829383886256\n",
      "Report : \n",
      "              precision    recall  f1-score   support\n",
      "\n",
      "           0       0.96      0.91      0.93       381\n",
      "           1       0.95      0.89      0.92       230\n",
      "           2       0.80      0.93      0.86       233\n",
      "\n",
      "    accuracy                           0.91       844\n",
      "   macro avg       0.91      0.91      0.90       844\n",
      "weighted avg       0.91      0.91      0.91       844\n",
      "\n"
     ]
    }
   ],
   "source": [
    "results = confusion_matrix(data_test.Label, prediction_labels)\n",
    "print ('Confusion Matrix :')\n",
    "print(results) \n",
    "print ('Accuracy Score :',accuracy_score(data_test.Label, prediction_labels))\n",
    "print ('Report : ')\n",
    "print (classification_report(data_test.Label, prediction_labels))"
   ]
  },
  {
   "cell_type": "code",
   "execution_count": 189,
   "metadata": {},
   "outputs": [
    {
     "name": "stdout",
     "output_type": "stream",
     "text": [
      "                        Convolution Neural Network\n"
     ]
    },
    {
     "data": {
      "image/png": "[encoded data removed]",
      "text/plain": [
       "<Figure size 360x360 with 2 Axes>"
      ]
     },
     "metadata": {
      "needs_background": "light"
     },
     "output_type": "display_data"
    }
   ],
   "source": [
    "from sklearn.metrics import confusion_matrix\n",
    "print(\"                        Convolution Neural Network\")\n",
    "conf_mat = confusion_matrix(data_test.Label, prediction_labels)\n",
    "fig, ax = plt.subplots(figsize=(5,5))\n",
    "sns.heatmap(conf_mat, annot=True, fmt='d', cmap ='YlGnBu',\n",
    "            xticklabels=category_id_df.Label.values, yticklabels=category_id_df.Label.values)\n",
    "plt.ylabel('Actual')\n",
    "plt.xlabel('Predicted')\n",
    "plt.show()"
   ]
  },
  {
   "cell_type": "markdown",
   "metadata": {},
   "source": [
    "### Testing CNN using KFold cross validation"
   ]
  },
  {
   "cell_type": "code",
   "execution_count": 190,
   "metadata": {},
   "outputs": [
    {
     "name": "stdout",
     "output_type": "stream",
     "text": [
      "Fold:  1\n",
      "Epoch 1/5\n",
      "214/214 [==============================] - 14s 64ms/step - loss: 0.6360 - accuracy: 0.7368 - val_loss: 0.3961 - val_accuracy: 0.8145\n",
      "Epoch 2/5\n",
      "214/214 [==============================] - 13s 62ms/step - loss: 0.3029 - accuracy: 0.8837 - val_loss: 0.8165 - val_accuracy: 0.7355\n",
      "Epoch 3/5\n",
      "214/214 [==============================] - 13s 62ms/step - loss: 0.2492 - accuracy: 0.9107 - val_loss: 0.2353 - val_accuracy: 0.9092\n",
      "Epoch 4/5\n",
      "214/214 [==============================] - 13s 62ms/step - loss: 0.2244 - accuracy: 0.9236 - val_loss: 0.2272 - val_accuracy: 0.9092\n",
      "Epoch 5/5\n",
      "214/214 [==============================] - 13s 62ms/step - loss: 0.2078 - accuracy: 0.9283 - val_loss: 0.2857 - val_accuracy: 0.9066\n",
      "Results for current fold:\n",
      "7/7 [==============================] - 0s 42ms/step - loss: 0.2309 - accuracy: 0.9348\n",
      "Fold:  2\n",
      "Epoch 1/5\n",
      "214/214 [==============================] - 14s 63ms/step - loss: 0.7110 - accuracy: 0.7095 - val_loss: 0.3699 - val_accuracy: 0.8263\n",
      "Epoch 2/5\n",
      "214/214 [==============================] - 13s 63ms/step - loss: 0.3156 - accuracy: 0.8747 - val_loss: 0.2617 - val_accuracy: 0.8974\n",
      "Epoch 3/5\n",
      "214/214 [==============================] - 13s 62ms/step - loss: 0.2582 - accuracy: 0.9024 - val_loss: 0.2656 - val_accuracy: 0.9066\n",
      "Epoch 4/5\n",
      "214/214 [==============================] - 13s 62ms/step - loss: 0.2303 - accuracy: 0.9181 - val_loss: 0.2259 - val_accuracy: 0.9197\n",
      "Epoch 5/5\n",
      "214/214 [==============================] - 13s 63ms/step - loss: 0.2147 - accuracy: 0.9238 - val_loss: 0.2572 - val_accuracy: 0.9329\n",
      "Results for current fold:\n",
      "7/7 [==============================] - 0s 43ms/step - loss: 0.2319 - accuracy: 0.9277\n",
      "Fold:  3\n",
      "Epoch 1/5\n",
      "214/214 [==============================] - 14s 64ms/step - loss: 0.6589 - accuracy: 0.7275 - val_loss: 0.6763 - val_accuracy: 0.7592\n",
      "Epoch 2/5\n",
      "214/214 [==============================] - 13s 61ms/step - loss: 0.3422 - accuracy: 0.8658 - val_loss: 0.2639 - val_accuracy: 0.8947\n",
      "Epoch 3/5\n",
      "214/214 [==============================] - 13s 62ms/step - loss: 0.2774 - accuracy: 0.8963 - val_loss: 0.2651 - val_accuracy: 0.9250\n",
      "Epoch 4/5\n",
      "214/214 [==============================] - 13s 62ms/step - loss: 0.2460 - accuracy: 0.9115 - val_loss: 0.1963 - val_accuracy: 0.9447\n",
      "Epoch 5/5\n",
      "214/214 [==============================] - 13s 62ms/step - loss: 0.2235 - accuracy: 0.9226 - val_loss: 0.1970 - val_accuracy: 0.9368\n",
      "Results for current fold:\n",
      "7/7 [==============================] - 0s 42ms/step - loss: 0.2022 - accuracy: 0.9313\n",
      "Fold:  4\n",
      "Epoch 1/5\n",
      "214/214 [==============================] - 13s 63ms/step - loss: 0.6760 - accuracy: 0.7161 - val_loss: 0.4014 - val_accuracy: 0.8145\n",
      "Epoch 2/5\n",
      "214/214 [==============================] - 13s 61ms/step - loss: 0.3297 - accuracy: 0.8665 - val_loss: 0.2530 - val_accuracy: 0.8921\n",
      "Epoch 3/5\n",
      "214/214 [==============================] - 13s 62ms/step - loss: 0.2780 - accuracy: 0.8951 - val_loss: 0.3202 - val_accuracy: 0.8329\n",
      "Epoch 4/5\n",
      "214/214 [==============================] - 13s 62ms/step - loss: 0.2530 - accuracy: 0.9107 - val_loss: 0.2067 - val_accuracy: 0.9171\n",
      "Epoch 5/5\n",
      "214/214 [==============================] - 13s 62ms/step - loss: 0.2231 - accuracy: 0.9178 - val_loss: 0.2612 - val_accuracy: 0.9211\n",
      "Results for current fold:\n",
      "7/7 [==============================] - 0s 41ms/step - loss: 0.2089 - accuracy: 0.9301\n",
      "Fold:  5\n",
      "Epoch 1/5\n",
      "214/214 [==============================] - 13s 63ms/step - loss: 0.6838 - accuracy: 0.7125 - val_loss: 0.4179 - val_accuracy: 0.8132\n",
      "Epoch 2/5\n",
      "214/214 [==============================] - 13s 61ms/step - loss: 0.3175 - accuracy: 0.8724 - val_loss: 0.3926 - val_accuracy: 0.8645\n",
      "Epoch 3/5\n",
      "214/214 [==============================] - 13s 61ms/step - loss: 0.2536 - accuracy: 0.9085 - val_loss: 0.4683 - val_accuracy: 0.8132\n",
      "Epoch 4/5\n",
      "214/214 [==============================] - 13s 60ms/step - loss: 0.2230 - accuracy: 0.9224 - val_loss: 0.3218 - val_accuracy: 0.8908\n",
      "Epoch 5/5\n",
      "214/214 [==============================] - 13s 61ms/step - loss: 0.2126 - accuracy: 0.9260 - val_loss: 0.4801 - val_accuracy: 0.8395\n",
      "Results for current fold:\n",
      "7/7 [==============================] - 0s 44ms/step - loss: 0.4256 - accuracy: 0.8531\n",
      "Fold:  6\n",
      "Epoch 1/5\n",
      "214/214 [==============================] - 13s 62ms/step - loss: 0.6535 - accuracy: 0.7261 - val_loss: 0.3244 - val_accuracy: 0.8776\n",
      "Epoch 2/5\n",
      "214/214 [==============================] - 13s 62ms/step - loss: 0.3202 - accuracy: 0.8708 - val_loss: 0.3107 - val_accuracy: 0.8711\n",
      "Epoch 3/5\n",
      "214/214 [==============================] - 13s 62ms/step - loss: 0.2670 - accuracy: 0.8979 - val_loss: 0.2253 - val_accuracy: 0.9079\n",
      "Epoch 4/5\n",
      "214/214 [==============================] - 13s 62ms/step - loss: 0.2383 - accuracy: 0.9118 - val_loss: 0.2067 - val_accuracy: 0.9224\n",
      "Epoch 5/5\n",
      "214/214 [==============================] - 13s 61ms/step - loss: 0.2222 - accuracy: 0.9219 - val_loss: 0.3090 - val_accuracy: 0.8671\n",
      "Results for current fold:\n",
      "7/7 [==============================] - 0s 43ms/step - loss: 0.2604 - accuracy: 0.9100\n",
      "Fold:  7\n",
      "Epoch 1/5\n",
      "214/214 [==============================] - 13s 63ms/step - loss: 0.7181 - accuracy: 0.7044 - val_loss: 0.3847 - val_accuracy: 0.7947\n",
      "Epoch 2/5\n",
      "214/214 [==============================] - 13s 61ms/step - loss: 0.3418 - accuracy: 0.8607 - val_loss: 0.7852 - val_accuracy: 0.7526\n",
      "Epoch 3/5\n",
      "214/214 [==============================] - 13s 61ms/step - loss: 0.2746 - accuracy: 0.8958 - val_loss: 0.2364 - val_accuracy: 0.9118\n",
      "Epoch 4/5\n",
      "214/214 [==============================] - 13s 62ms/step - loss: 0.2324 - accuracy: 0.9164 - val_loss: 0.2066 - val_accuracy: 0.9105\n",
      "Epoch 5/5\n",
      "214/214 [==============================] - 13s 63ms/step - loss: 0.2116 - accuracy: 0.9232 - val_loss: 0.2636 - val_accuracy: 0.8961\n",
      "Results for current fold:\n",
      "7/7 [==============================] - 0s 47ms/step - loss: 0.3154 - accuracy: 0.8922\n",
      "Fold:  8\n",
      "Epoch 1/5\n",
      "214/214 [==============================] - 13s 63ms/step - loss: 0.6638 - accuracy: 0.7242 - val_loss: 0.3484 - val_accuracy: 0.8211\n",
      "Epoch 2/5\n",
      "214/214 [==============================] - 13s 63ms/step - loss: 0.3239 - accuracy: 0.8705 - val_loss: 0.2458 - val_accuracy: 0.9145\n",
      "Epoch 3/5\n",
      "214/214 [==============================] - 13s 63ms/step - loss: 0.2635 - accuracy: 0.9008 - val_loss: 0.2672 - val_accuracy: 0.9053\n",
      "Epoch 4/5\n",
      "214/214 [==============================] - 13s 62ms/step - loss: 0.2346 - accuracy: 0.9125 - val_loss: 0.2166 - val_accuracy: 0.9184\n",
      "Epoch 5/5\n",
      "214/214 [==============================] - 13s 63ms/step - loss: 0.2127 - accuracy: 0.9248 - val_loss: 0.1915 - val_accuracy: 0.9303\n",
      "Results for current fold:\n",
      "7/7 [==============================] - 0s 42ms/step - loss: 0.1911 - accuracy: 0.9360\n",
      "Fold:  9\n",
      "Epoch 1/5\n",
      "214/214 [==============================] - 14s 64ms/step - loss: 0.7211 - accuracy: 0.7060 - val_loss: 0.4342 - val_accuracy: 0.7882\n",
      "Epoch 2/5\n",
      "214/214 [==============================] - 13s 63ms/step - loss: 0.3131 - accuracy: 0.8800 - val_loss: 0.3658 - val_accuracy: 0.8829\n",
      "Epoch 3/5\n",
      "214/214 [==============================] - 13s 62ms/step - loss: 0.2577 - accuracy: 0.9071 - val_loss: 0.4037 - val_accuracy: 0.8618\n",
      "Epoch 4/5\n",
      "214/214 [==============================] - 13s 63ms/step - loss: 0.2257 - accuracy: 0.9185 - val_loss: 0.3428 - val_accuracy: 0.8842\n",
      "Epoch 5/5\n",
      "214/214 [==============================] - 13s 62ms/step - loss: 0.2072 - accuracy: 0.9284 - val_loss: 0.3245 - val_accuracy: 0.9092\n",
      "Results for current fold:\n",
      "7/7 [==============================] - 0s 43ms/step - loss: 0.2404 - accuracy: 0.9265\n",
      "Fold:  10\n",
      "Epoch 1/5\n",
      "214/214 [==============================] - 14s 64ms/step - loss: 0.6074 - accuracy: 0.7473 - val_loss: 0.4939 - val_accuracy: 0.7789\n",
      "Epoch 2/5\n",
      "214/214 [==============================] - 13s 62ms/step - loss: 0.3061 - accuracy: 0.8806 - val_loss: 0.2399 - val_accuracy: 0.9000\n",
      "Epoch 3/5\n",
      "214/214 [==============================] - 13s 62ms/step - loss: 0.2521 - accuracy: 0.9126 - val_loss: 0.2480 - val_accuracy: 0.9158\n",
      "Epoch 4/5\n",
      "214/214 [==============================] - 13s 63ms/step - loss: 0.2182 - accuracy: 0.9208 - val_loss: 0.2582 - val_accuracy: 0.9224\n",
      "Epoch 5/5\n",
      "214/214 [==============================] - 13s 62ms/step - loss: 0.2089 - accuracy: 0.9290 - val_loss: 0.2004 - val_accuracy: 0.9342\n",
      "Results for current fold:\n",
      "7/7 [==============================] - 0s 43ms/step - loss: 0.1911 - accuracy: 0.9277\n"
     ]
    }
   ],
   "source": [
    "from sklearn.model_selection import StratifiedKFold\n",
    "from scipy.stats import zscore\n",
    "from sklearn import metrics\n",
    "import tensorflow as tf\n",
    "import random\n",
    "\n",
    "f_score=[]\n",
    "fold = 10\n",
    "label_names = ['0', '1', '2']\n",
    "num_epochs = 5\n",
    "batch_size = 32\n",
    "#oos_y = []\n",
    "#oos_pred = []\n",
    "results = []\n",
    "#for train, test in kf.split(data[\"tokens\"], data['Label']):\n",
    "\n",
    "for i in range(fold):\n",
    "    print(\"Fold: \", i+1)\n",
    "    random_num = np.random.randint(1,7000, 1)[0]\n",
    "    data_train, data_test = train_test_split(data, test_size=0.10, shuffle = True, random_state = random_num)\n",
    "\n",
    "    # # total training words\n",
    "    totalTrainingWords = [word for tokens in data_train[\"tokens\"] for word in tokens]\n",
    "\n",
    "    # # Storing Length of the training sentence\n",
    "    lengthTrainingSentences = [len(tokens) for tokens in data_train[\"tokens\"]]\n",
    "\n",
    "    # # training Vocabulary size\n",
    "    trainingVocabSize = sorted(list(set(totalTrainingWords)))\n",
    "\n",
    "    ## Total number of lines\n",
    "    linesCount = len(data_train[\"tokens\"])\n",
    "    \n",
    "    tokenizer = Tokenizer(num_words=len(trainingVocabSize), lower=True, char_level=False)\n",
    "    tokenizer.fit_on_texts(data_train[\"Text_Final\"].tolist())\n",
    "    training_sequences = tokenizer.texts_to_sequences(data_train[\"Text_Final\"].tolist())\n",
    "\n",
    "    train_word_index = tokenizer.word_index\n",
    "    cnnTrainData = pad_sequences(training_sequences, maxlen=MAX_SEQUENCE_LENGTH)\n",
    "    \n",
    "    train_embedding_weights = np.zeros((len(train_word_index)+1, EMBEDDING_DIM))\n",
    "    \n",
    "    for word,index in train_word_index.items():\n",
    "        train_embedding_weights[index,:] = word2vec[word] if word in word2vec else np.random.rand(EMBEDDING_DIM)\n",
    "        \n",
    "    test_sequences = tokenizer.texts_to_sequences(data_test[\"Text_Final\"].tolist())\n",
    "    cnnTestData = pad_sequences(test_sequences, maxlen= MAX_SEQUENCE_LENGTH)\n",
    "    \n",
    "    # Splitting train data into X_train and y_train\n",
    "    y_train = data_train[label_names].values\n",
    "    x_train = cnnTrainData\n",
    "    y_tr = y_train\n",
    "    \n",
    "    # Splitting train data into X_test and y_test\n",
    "    y_test = data_test[label_names].values\n",
    "    x_test = cnnTestData\n",
    "    y_tst = y_test\n",
    "    \n",
    "    # create model\n",
    "    model = ConvolutionalNeuralNet(train_embedding_weights, MAX_SEQUENCE_LENGTH, len(train_word_index)+1, EMBEDDING_DIM, len(list(label_names)))\n",
    "    \n",
    "    #Train Model\n",
    "    history = model.fit(x_train, y_tr, epochs=num_epochs, validation_split=0.1, shuffle=True, batch_size=batch_size)\n",
    "      \n",
    "    # model evaluate\n",
    "    \n",
    "    print(\"Results for current fold:\")\n",
    "    results.append(model.evaluate(x_test, y_tst, batch_size=128))\n",
    "\n",
    "#     predictions = model.predict(cnnTestData, batch_size=1024, verbose=0)\n",
    "#     oos_y.append(y_test)\n",
    "#     oos_pred.append(predictions)\n",
    "    \n",
    "    #score = np.sqrt(metrics.mean_squared_error(predictions, y_test))\n",
    "#    f_score.append(count)\n",
    "\n",
    "model.save('model_CNN.h5')    "
   ]
  },
  {
   "cell_type": "code",
   "execution_count": 196,
   "metadata": {},
   "outputs": [
    {
     "name": "stdout",
     "output_type": "stream",
     "text": [
      "Kfold Mean:  0.9169431209564209\n"
     ]
    }
   ],
   "source": [
    "import statistics \n",
    "# for i in range(len(results)):\n",
    "#     print(\"Fold: \", i+1)\n",
    "#     print(\"test loss, test acc:\", results[i])\n",
    "\n",
    "score = []\n",
    "for i in results:\n",
    "    score.append(i[1])\n",
    "x = statistics.mean(score)\n",
    "    \n",
    "print(\"Kfold Mean: \", x)"
   ]
  },
  {
   "cell_type": "code",
   "execution_count": 206,
   "metadata": {},
   "outputs": [
    {
     "name": "stdout",
     "output_type": "stream",
     "text": [
      "1\n"
     ]
    }
   ],
   "source": [
    "# 0\n",
    "texts = [\"'@'England look to clinch Pakistan test series before step into unknown\"]\n",
    "print(makeprediction(texts))"
   ]
  },
  {
   "cell_type": "code",
   "execution_count": 211,
   "metadata": {},
   "outputs": [
    {
     "name": "stdout",
     "output_type": "stream",
     "text": [
      "2\n"
     ]
    }
   ],
   "source": [
    "# 2\n",
    "texts = [\"@_ROB_29 If this was a Muslim girl in Afghanistan you'd call her a terrorist\"]\n",
    "print(makeprediction(texts))"
   ]
  },
  {
   "cell_type": "code",
   "execution_count": 203,
   "metadata": {},
   "outputs": [
    {
     "name": "stdout",
     "output_type": "stream",
     "text": [
      "0\n"
     ]
    }
   ],
   "source": [
    "# 0\n",
    "texts = [\"''In what hopscotch? Cricket?\"]\n",
    "print(makeprediction(texts))"
   ]
  },
  {
   "cell_type": "code",
   "execution_count": 212,
   "metadata": {},
   "outputs": [
    {
     "name": "stdout",
     "output_type": "stream",
     "text": [
      "1\n"
     ]
    }
   ],
   "source": [
    "# 1\n",
    "texts = [\"My tl is filled with Shia-Sunni controversy. I should've deactivated before Moharram started.\"]\n",
    "print(makeprediction(texts))"
   ]
  },
  {
   "cell_type": "markdown",
   "metadata": {},
   "source": [
    "### Reference\n",
    "[1] \"Convolutional Neural Networks for Sentence Classification\" by Yoon Kim\n"
   ]
  }
 ],
 "metadata": {
  "kernelspec": {
   "display_name": "Python 3",
   "language": "python",
   "name": "python3"
  },
  "language_info": {
   "codemirror_mode": {
    "name": "ipython",
    "version": 3
   },
   "file_extension": ".py",
   "mimetype": "text/x-python",
   "name": "python",
   "nbconvert_exporter": "python",
   "pygments_lexer": "ipython3",
   "version": "3.7.4"
  }
 },
 "nbformat": 4,
 "nbformat_minor": 4
}
