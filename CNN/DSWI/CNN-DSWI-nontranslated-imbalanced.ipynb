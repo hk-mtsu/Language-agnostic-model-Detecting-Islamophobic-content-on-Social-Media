{
 "cells": [
  {
   "cell_type": "markdown",
   "metadata": {},
   "source": [
    "#### The Program involves following features:\n",
    "Convolutional Neural Network CNN\n",
    "1. Using Word2Vec implementing CNN model\n",
    "2. Dispaly Confusion Matrix, precision, recall and F1-score\n",
    "3. Display few prediction using predict module. \n",
    "4. Get 10-fold Average of the CNN model.\n",
    "\n",
    "Support Vector Method SVM\n",
    "1. Creating feature vector using TF-IDF and Bag-of-words.\n",
    "2. Dispaly Confusion Matrix, precision, recall and F1-score\n",
    "3. Display few prediction using predict module. \n",
    "4. Get 10-fold Average of the SVM model.\n",
    "\n",
    "Random Foresr Method RFM \n",
    "1. Creating feature vector using TF-IDF.\n",
    "2. Dispaly Confusion Matrix, precision, recall and F1-score\n",
    "3. Display few prediction using predict module. \n",
    "4. Get 10-fold Average of the RFM model."
   ]
  },
  {
   "cell_type": "code",
   "execution_count": 104,
   "metadata": {},
   "outputs": [],
   "source": [
    "from __future__ import division, print_function\n",
    "\n",
    "# dataframe\n",
    "import pandas as pd\n",
    "\n",
    "# numpy array\n",
    "import numpy as np\n",
    "\n",
    "# figures visualization\n",
    "import matplotlib.pyplot as plt\n",
    "from sklearn.metrics import confusion_matrix \n",
    "import seaborn as sns\n",
    "\n",
    "# calc accuracy\n",
    "from sklearn.metrics import accuracy_score \n",
    "from sklearn.metrics import classification_report \n",
    "\n",
    "# word2vec\n",
    "import gensim \n",
    "from gensim import models\n",
    "from gensim.models import Word2Vec \n",
    "from gensim.models import KeyedVectors\n",
    "\n",
    "# CNN model and keras preprocessing\n",
    "import keras\n",
    "from keras.callbacks import ModelCheckpoint\n",
    "from keras.layers import Dense, Dropout, Reshape, Flatten, concatenate, Input, Conv1D, GlobalMaxPooling1D, Embedding, Conv2D, GlobalMaxPooling2D\n",
    "from keras.models import Sequential\n",
    "from keras.models import Model\n",
    "from keras.preprocessing.text import Tokenizer\n",
    "from keras.preprocessing.sequence import pad_sequences\n",
    "\n",
    "# nltk data preprocessing\n",
    "import nltk\n",
    "from nltk import word_tokenize\n",
    "from nltk.tokenize import sent_tokenize \n",
    "from nltk.stem import WordNetLemmatizer\n",
    "\n",
    "# stopword - remove buzz word\n",
    "from nltk.corpus import stopwords\n",
    "\n",
    "# splitting data\n",
    "from sklearn.model_selection import train_test_split\n",
    "\n",
    "# punctuation - data imbalance\n",
    "import collections\n",
    "import re\n",
    "import string\n",
    "\n",
    "# File path\n",
    "import os\n",
    "import os.path\n",
    "from os import path\n",
    "\n",
    "# Translator\n",
    "import googletrans\n",
    "from googletrans import Translator"
   ]
  },
  {
   "cell_type": "code",
   "execution_count": 105,
   "metadata": {},
   "outputs": [],
   "source": [
    "# original hindi file\n",
    "filename  = 'Eng-Hin-data/hindi-anot-shuffled'\n",
    "orig_df = pd.read_csv(filename + '.csv',  \n",
    "               delimiter=',')\n",
    "orig_df.columns = ['Text', 'Label']\n"
   ]
  },
  {
   "cell_type": "code",
   "execution_count": 106,
   "metadata": {},
   "outputs": [],
   "source": [
    "# Run only for English data \n",
    "orig_df[\"Text\"] = orig_df[\"Text\"].astype(str)\n",
    "orig_df[\"Label\"] = orig_df[\"Label\"].astype(str)"
   ]
  },
  {
   "cell_type": "code",
   "execution_count": 107,
   "metadata": {},
   "outputs": [
    {
     "data": {
      "text/plain": [
       "<bound method NDFrame.head of                                                    Text Label\n",
       "0     'गाजा में दीवाली   की ढेरो बधाई मित्रो 😊💐  #Is...     2\n",
       "1        '@SanjayGadhiaINC @IndiaToday18 अज़ाबे इलाही 👍     1\n",
       "2     'आखिर अब #सुशांत_सिंह_राजपूत जी को न्याय मिल ज...     0\n",
       "3     'अमीन के 500 से अधिक छात्रों ने सर्वे भवन के ग...     0\n",
       "4     '@deoriapolice @Uppolice @myogiadityanath @spg...     0\n",
       "...                                                 ...   ...\n",
       "8788                  '@atullondhe राहुल गांधी जिंदाबाद     0\n",
       "8789  'पैगंबर हज़रत मुहम्मद सल्लल्लाहु अलैहि वसल्लम ...     1\n",
       "8790  'कर्नाटक बेंगलुरू में अल्लाह मोहम्मद गांडू के ...     2\n",
       "8791  'अच्छी खबर है ऐसे एक एक कर सभी जेहादी भारतीय फ...     2\n",
       "8792  '@Ruzena__Malik जनता चाइना से दीवाली की लड़ी ख...     0\n",
       "\n",
       "[8793 rows x 2 columns]>"
      ]
     },
     "execution_count": 107,
     "metadata": {},
     "output_type": "execute_result"
    }
   ],
   "source": [
    "orig_df.head"
   ]
  },
  {
   "cell_type": "code",
   "execution_count": 108,
   "metadata": {},
   "outputs": [
    {
     "data": {
      "text/plain": [
       "\"'आज के दिन ही मेरा क्रिकेट प्रेम भी समाप्त हो गया\""
      ]
     },
     "execution_count": 108,
     "metadata": {},
     "output_type": "execute_result"
    }
   ],
   "source": [
    "orig_df.Text[6]"
   ]
  },
  {
   "cell_type": "code",
   "execution_count": 109,
   "metadata": {},
   "outputs": [],
   "source": [
    "data = orig_df"
   ]
  },
  {
   "cell_type": "markdown",
   "metadata": {},
   "source": [
    "### Class count"
   ]
  },
  {
   "cell_type": "code",
   "execution_count": 110,
   "metadata": {},
   "outputs": [
    {
     "data": {
      "image/png": "[encoded data removed]",
      "text/plain": [
       "<Figure size 432x288 with 1 Axes>"
      ]
     },
     "metadata": {
      "needs_background": "light"
     },
     "output_type": "display_data"
    }
   ],
   "source": [
    "import matplotlib.pyplot as plt\n",
    "fig = plt.figure(figsize=(6,4))\n",
    "data.groupby('Label').Text.count().plot.bar(ylim=0)\n",
    "plt.show()"
   ]
  },
  {
   "cell_type": "code",
   "execution_count": 111,
   "metadata": {},
   "outputs": [
    {
     "data": {
      "text/plain": [
       "2    3375\n",
       "0    3244\n",
       "1    2174\n",
       "Name: Label, dtype: int64"
      ]
     },
     "execution_count": 111,
     "metadata": {},
     "output_type": "execute_result"
    }
   ],
   "source": [
    "# For entire dataset sentences for each labels \n",
    "data.Label.value_counts()"
   ]
  },
  {
   "cell_type": "code",
   "execution_count": 112,
   "metadata": {},
   "outputs": [
    {
     "data": {
      "text/html": [
       "<div>\n",
       "<style scoped>\n",
       "    .dataframe tbody tr th:only-of-type {\n",
       "        vertical-align: middle;\n",
       "    }\n",
       "\n",
       "    .dataframe tbody tr th {\n",
       "        vertical-align: top;\n",
       "    }\n",
       "\n",
       "    .dataframe thead th {\n",
       "        text-align: right;\n",
       "    }\n",
       "</style>\n",
       "<table border=\"1\" class=\"dataframe\">\n",
       "  <thead>\n",
       "    <tr style=\"text-align: right;\">\n",
       "      <th></th>\n",
       "      <th>Text</th>\n",
       "      <th>Label</th>\n",
       "    </tr>\n",
       "  </thead>\n",
       "  <tbody>\n",
       "    <tr>\n",
       "      <th>0</th>\n",
       "      <td>'@yadavtejashwi @msdhoni आप अगर नीली जर्सी में...</td>\n",
       "      <td>0</td>\n",
       "    </tr>\n",
       "    <tr>\n",
       "      <th>1</th>\n",
       "      <td>'@RachnaAthiya1 भारतीय शक्ति चेतना पार्टी जिंद...</td>\n",
       "      <td>0</td>\n",
       "    </tr>\n",
       "    <tr>\n",
       "      <th>2</th>\n",
       "      <td>'@VijayVst0502 इसे कई बार RT किया है but   चमग...</td>\n",
       "      <td>2</td>\n",
       "    </tr>\n",
       "    <tr>\n",
       "      <th>3</th>\n",
       "      <td>'@deepakkandwaluk ये संदीप भी जिहादी सुवर निकल...</td>\n",
       "      <td>2</td>\n",
       "    </tr>\n",
       "    <tr>\n",
       "      <th>4</th>\n",
       "      <td>'@TimesNow @BSBommai बहुत सही । एक एक रुपया वस...</td>\n",
       "      <td>2</td>\n",
       "    </tr>\n",
       "    <tr>\n",
       "      <th>...</th>\n",
       "      <td>...</td>\n",
       "      <td>...</td>\n",
       "    </tr>\n",
       "    <tr>\n",
       "      <th>8788</th>\n",
       "      <td>'@akashyadvJP @RJDforIndia @TejYadav14 @yadavt...</td>\n",
       "      <td>0</td>\n",
       "    </tr>\n",
       "    <tr>\n",
       "      <th>8789</th>\n",
       "      <td>'@vikasbha @Deepak141516 ये साले देश द्रोही गद...</td>\n",
       "      <td>2</td>\n",
       "    </tr>\n",
       "    <tr>\n",
       "      <th>8790</th>\n",
       "      <td>'@mahsar_khan शुकरान हबीबी  आमीन</td>\n",
       "      <td>1</td>\n",
       "    </tr>\n",
       "    <tr>\n",
       "      <th>8791</th>\n",
       "      <td>'@_sayema बिल्कुल जेहाद एवम जेहादी सुवरो का एक...</td>\n",
       "      <td>2</td>\n",
       "    </tr>\n",
       "    <tr>\n",
       "      <th>8792</th>\n",
       "      <td>'@yadavakhilesh बस यही जिहादी प्यार तुम्हे बर्...</td>\n",
       "      <td>2</td>\n",
       "    </tr>\n",
       "  </tbody>\n",
       "</table>\n",
       "<p>8793 rows × 2 columns</p>\n",
       "</div>"
      ],
      "text/plain": [
       "                                                   Text Label\n",
       "0     '@yadavtejashwi @msdhoni आप अगर नीली जर्सी में...     0\n",
       "1     '@RachnaAthiya1 भारतीय शक्ति चेतना पार्टी जिंद...     0\n",
       "2     '@VijayVst0502 इसे कई बार RT किया है but   चमग...     2\n",
       "3     '@deepakkandwaluk ये संदीप भी जिहादी सुवर निकल...     2\n",
       "4     '@TimesNow @BSBommai बहुत सही । एक एक रुपया वस...     2\n",
       "...                                                 ...   ...\n",
       "8788  '@akashyadvJP @RJDforIndia @TejYadav14 @yadavt...     0\n",
       "8789  '@vikasbha @Deepak141516 ये साले देश द्रोही गद...     2\n",
       "8790                   '@mahsar_khan शुकरान हबीबी  आमीन     1\n",
       "8791  '@_sayema बिल्कुल जेहाद एवम जेहादी सुवरो का एक...     2\n",
       "8792  '@yadavakhilesh बस यही जिहादी प्यार तुम्हे बर्...     2\n",
       "\n",
       "[8793 rows x 2 columns]"
      ]
     },
     "execution_count": 112,
     "metadata": {},
     "output_type": "execute_result"
    }
   ],
   "source": [
    "\n",
    "data=data.sample(frac=1).reset_index(drop=True)\n",
    "data"
   ]
  },
  {
   "cell_type": "code",
   "execution_count": 113,
   "metadata": {},
   "outputs": [
    {
     "data": {
      "text/plain": [
       "2    3375\n",
       "0    3244\n",
       "1    2174\n",
       "Name: Label, dtype: int64"
      ]
     },
     "execution_count": 113,
     "metadata": {},
     "output_type": "execute_result"
    }
   ],
   "source": [
    "nan_value = float(\"NaN\")\n",
    "data.replace(\"\", nan_value, inplace=True)\n",
    "data.dropna(subset = [\"Text\"], inplace=True)\n",
    "data.Label.value_counts()"
   ]
  },
  {
   "cell_type": "markdown",
   "metadata": {},
   "source": [
    "### Data Preprocessing"
   ]
  },
  {
   "cell_type": "code",
   "execution_count": 114,
   "metadata": {},
   "outputs": [],
   "source": [
    "def textPattern(text):\n",
    "\n",
    "    # Clean the text\n",
    "    text = re.sub(r\"@\", \" \", text)\n",
    "    text = re.sub(r\"\\*\", \" \", text)\n",
    "    text = re.sub(r\"'\", \" \", text)\n",
    "    text = re.sub(r\"\\'s\", \" \", text)\n",
    "    text = re.sub(r\",\", \" \", text)\n",
    "    text = re.sub(r\"\\.\", \" \", text)\n",
    "    text = re.sub(r\"!\", \" \", text)\n",
    "    text = re.sub(r\"\\/\", \" \", text)\n",
    "    text = re.sub(r\"\\^\", \" ^ \", text)\n",
    "    text = re.sub(r\"\\+\", \" \", text)\n",
    "    text = re.sub(r\"\\-\", \" - \", text)\n",
    "    text = re.sub(r\"\\= =\", \" \", text)\n",
    "    text = re.sub(r\"\\==\", \" \", text)\n",
    "    text = re.sub(r\"'\", \" \", text)\n",
    "    text = re.sub(r\"(\\d+)(k)\", r\"\\g<1>000\", text)\n",
    "    text = re.sub(r\":\", \" : \", text)\n",
    "    text = re.sub(r\"\\0s\", \"0\", text)\n",
    "    text = re.sub(r\" 9 11 \", \"911\", text)\n",
    "    text = re.sub(r\"\\s{2,}\", \" \", text)\n",
    "    return text\n",
    "\n",
    "data['Text'] = data['Text'].apply(lambda x: textPattern(x))"
   ]
  },
  {
   "cell_type": "code",
   "execution_count": 115,
   "metadata": {},
   "outputs": [],
   "source": [
    "# Word Tokenization\n",
    "tokens = [word_tokenize(sen) for sen in data.Text]"
   ]
  },
  {
   "cell_type": "code",
   "execution_count": 116,
   "metadata": {},
   "outputs": [],
   "source": [
    "# Remove Link\n",
    "\n",
    "def removeLink(token):\n",
    "    word = []\n",
    "    for w in token:\n",
    "        if not w.startswith('http'):\n",
    "            word.append(w)\n",
    "    return word \n",
    "    \n",
    "removedLink_tokens = [removeLink(token) for token in tokens]"
   ]
  },
  {
   "cell_type": "code",
   "execution_count": 117,
   "metadata": {},
   "outputs": [],
   "source": [
    "# Word Lemmatization\n",
    "def lemmatization(token):\n",
    "    return [lemmatizer.lemmatize(w) for w in token] \n",
    "\n",
    "lemmatizer = WordNetLemmatizer()\n",
    "\n",
    "lemmatized_tokens = [lemmatization(token) for token in removedLink_tokens]"
   ]
  },
  {
   "cell_type": "code",
   "execution_count": 118,
   "metadata": {},
   "outputs": [],
   "source": [
    "# Removing Stopwords\n",
    "stoplist=open(\"Devanagari/stopwords.txt\",\"r\")"
   ]
  },
  {
   "cell_type": "code",
   "execution_count": 119,
   "metadata": {},
   "outputs": [],
   "source": [
    "def removeStopWords(tokens): \n",
    "    return [word for word in tokens if word not in stoplist]\n",
    "\n",
    "filtered_words = [removeStopWords(sen) for sen in lemmatized_tokens]\n",
    "data['Text_Final'] = [' '.join(sen) for sen in filtered_words]\n",
    "data['tokens'] = filtered_words"
   ]
  },
  {
   "cell_type": "code",
   "execution_count": 120,
   "metadata": {},
   "outputs": [
    {
     "data": {
      "text/plain": [
       "(8793,)"
      ]
     },
     "execution_count": 120,
     "metadata": {},
     "output_type": "execute_result"
    }
   ],
   "source": [
    "data['Text_Final'].shape"
   ]
  },
  {
   "cell_type": "code",
   "execution_count": 121,
   "metadata": {},
   "outputs": [],
   "source": [
    "zero  = []\n",
    "one = []\n",
    "two = []\n",
    "for l in data.Label:\n",
    "    \n",
    "    if l == '0':\n",
    "        zero.append(1)\n",
    "        one.append(0)\n",
    "        two.append(0)\n",
    "    elif l == '1':\n",
    "        zero.append(0)\n",
    "        one.append(1)\n",
    "        two.append(0)\n",
    "    elif l == '2':\n",
    "        zero.append(0)\n",
    "        one.append(0)\n",
    "        two.append(1)\n",
    "        \n",
    "data['0']= zero\n",
    "data['1']= one\n",
    "data['2']= two\n",
    "\n",
    "data = data[['Text_Final', 'tokens', 'Label', '0', '1', '2']]"
   ]
  },
  {
   "cell_type": "code",
   "execution_count": 122,
   "metadata": {},
   "outputs": [
    {
     "data": {
      "text/html": [
       "<div>\n",
       "<style scoped>\n",
       "    .dataframe tbody tr th:only-of-type {\n",
       "        vertical-align: middle;\n",
       "    }\n",
       "\n",
       "    .dataframe tbody tr th {\n",
       "        vertical-align: top;\n",
       "    }\n",
       "\n",
       "    .dataframe thead th {\n",
       "        text-align: right;\n",
       "    }\n",
       "</style>\n",
       "<table border=\"1\" class=\"dataframe\">\n",
       "  <thead>\n",
       "    <tr style=\"text-align: right;\">\n",
       "      <th></th>\n",
       "      <th>Text_Final</th>\n",
       "      <th>tokens</th>\n",
       "      <th>Label</th>\n",
       "      <th>0</th>\n",
       "      <th>1</th>\n",
       "      <th>2</th>\n",
       "      <th>Category_id</th>\n",
       "    </tr>\n",
       "  </thead>\n",
       "  <tbody>\n",
       "    <tr>\n",
       "      <th>0</th>\n",
       "      <td>yadavtejashwi msdhoni आप अगर नीली जर्सी में नह...</td>\n",
       "      <td>[yadavtejashwi, msdhoni, आप, अगर, नीली, जर्सी,...</td>\n",
       "      <td>0</td>\n",
       "      <td>1</td>\n",
       "      <td>0</td>\n",
       "      <td>0</td>\n",
       "      <td>0</td>\n",
       "    </tr>\n",
       "    <tr>\n",
       "      <th>1</th>\n",
       "      <td>RachnaAthiya1 भारतीय शक्ति चेतना पार्टी जिंदाब...</td>\n",
       "      <td>[RachnaAthiya1, भारतीय, शक्ति, चेतना, पार्टी, ...</td>\n",
       "      <td>0</td>\n",
       "      <td>1</td>\n",
       "      <td>0</td>\n",
       "      <td>0</td>\n",
       "      <td>0</td>\n",
       "    </tr>\n",
       "    <tr>\n",
       "      <th>2</th>\n",
       "      <td>VijayVst0502 इसे कई बार RT किया है but चमगाड त...</td>\n",
       "      <td>[VijayVst0502, इसे, कई, बार, RT, किया, है, but...</td>\n",
       "      <td>2</td>\n",
       "      <td>0</td>\n",
       "      <td>0</td>\n",
       "      <td>1</td>\n",
       "      <td>2</td>\n",
       "    </tr>\n",
       "    <tr>\n",
       "      <th>3</th>\n",
       "      <td>deepakkandwaluk ये संदीप भी जिहादी सुवर निकला ...</td>\n",
       "      <td>[deepakkandwaluk, ये, संदीप, भी, जिहादी, सुवर,...</td>\n",
       "      <td>2</td>\n",
       "      <td>0</td>\n",
       "      <td>0</td>\n",
       "      <td>1</td>\n",
       "      <td>2</td>\n",
       "    </tr>\n",
       "    <tr>\n",
       "      <th>4</th>\n",
       "      <td>TimesNow BSBommai बहुत सही । एक एक रुपया वसूल ...</td>\n",
       "      <td>[TimesNow, BSBommai, बहुत, सही, ।, एक, एक, रुप...</td>\n",
       "      <td>2</td>\n",
       "      <td>0</td>\n",
       "      <td>0</td>\n",
       "      <td>1</td>\n",
       "      <td>2</td>\n",
       "    </tr>\n",
       "    <tr>\n",
       "      <th>5</th>\n",
       "      <td>जब रहते है ये अल्पसंख्यक तो गैर हिंदू को ये बो...</td>\n",
       "      <td>[जब, रहते, है, ये, अल्पसंख्यक, तो, गैर, हिंदू,...</td>\n",
       "      <td>2</td>\n",
       "      <td>0</td>\n",
       "      <td>0</td>\n",
       "      <td>1</td>\n",
       "      <td>2</td>\n",
       "    </tr>\n",
       "    <tr>\n",
       "      <th>6</th>\n",
       "      <td>vinodkapri तुम्हे पता नहीं आजकल हिन्दुओं ने पा...</td>\n",
       "      <td>[vinodkapri, तुम्हे, पता, नहीं, आजकल, हिन्दुओं...</td>\n",
       "      <td>2</td>\n",
       "      <td>0</td>\n",
       "      <td>0</td>\n",
       "      <td>1</td>\n",
       "      <td>2</td>\n",
       "    </tr>\n",
       "    <tr>\n",
       "      <th>7</th>\n",
       "      <td>AnjaliVarma56 इस्लाम</td>\n",
       "      <td>[AnjaliVarma56, इस्लाम]</td>\n",
       "      <td>1</td>\n",
       "      <td>0</td>\n",
       "      <td>1</td>\n",
       "      <td>0</td>\n",
       "      <td>1</td>\n",
       "    </tr>\n",
       "    <tr>\n",
       "      <th>8</th>\n",
       "      <td>KalamkhorAjmal RubikaLiyaquat मानव चैन बनाकर म...</td>\n",
       "      <td>[KalamkhorAjmal, RubikaLiyaquat, मानव, चैन, बन...</td>\n",
       "      <td>2</td>\n",
       "      <td>0</td>\n",
       "      <td>0</td>\n",
       "      <td>1</td>\n",
       "      <td>2</td>\n",
       "    </tr>\n",
       "  </tbody>\n",
       "</table>\n",
       "</div>"
      ],
      "text/plain": [
       "                                          Text_Final  \\\n",
       "0  yadavtejashwi msdhoni आप अगर नीली जर्सी में नह...   \n",
       "1  RachnaAthiya1 भारतीय शक्ति चेतना पार्टी जिंदाब...   \n",
       "2  VijayVst0502 इसे कई बार RT किया है but चमगाड त...   \n",
       "3  deepakkandwaluk ये संदीप भी जिहादी सुवर निकला ...   \n",
       "4  TimesNow BSBommai बहुत सही । एक एक रुपया वसूल ...   \n",
       "5  जब रहते है ये अल्पसंख्यक तो गैर हिंदू को ये बो...   \n",
       "6  vinodkapri तुम्हे पता नहीं आजकल हिन्दुओं ने पा...   \n",
       "7                               AnjaliVarma56 इस्लाम   \n",
       "8  KalamkhorAjmal RubikaLiyaquat मानव चैन बनाकर म...   \n",
       "\n",
       "                                              tokens Label  0  1  2  \\\n",
       "0  [yadavtejashwi, msdhoni, आप, अगर, नीली, जर्सी,...     0  1  0  0   \n",
       "1  [RachnaAthiya1, भारतीय, शक्ति, चेतना, पार्टी, ...     0  1  0  0   \n",
       "2  [VijayVst0502, इसे, कई, बार, RT, किया, है, but...     2  0  0  1   \n",
       "3  [deepakkandwaluk, ये, संदीप, भी, जिहादी, सुवर,...     2  0  0  1   \n",
       "4  [TimesNow, BSBommai, बहुत, सही, ।, एक, एक, रुप...     2  0  0  1   \n",
       "5  [जब, रहते, है, ये, अल्पसंख्यक, तो, गैर, हिंदू,...     2  0  0  1   \n",
       "6  [vinodkapri, तुम्हे, पता, नहीं, आजकल, हिन्दुओं...     2  0  0  1   \n",
       "7                            [AnjaliVarma56, इस्लाम]     1  0  1  0   \n",
       "8  [KalamkhorAjmal, RubikaLiyaquat, मानव, चैन, बन...     2  0  0  1   \n",
       "\n",
       "  Category_id  \n",
       "0           0  \n",
       "1           0  \n",
       "2           2  \n",
       "3           2  \n",
       "4           2  \n",
       "5           2  \n",
       "6           2  \n",
       "7           1  \n",
       "8           2  "
      ]
     },
     "execution_count": 122,
     "metadata": {},
     "output_type": "execute_result"
    }
   ],
   "source": [
    "category_id = []\n",
    "for l in data.Label:\n",
    "    \n",
    "    if l == '0':\n",
    "        category_id.append('0')\n",
    "    elif l == '1':\n",
    "        category_id.append('1')\n",
    "    elif l == '2':\n",
    "        category_id.append('2')\n",
    "        \n",
    "data['Category_id'] = category_id\n",
    "\n",
    "data = data[['Text_Final', 'tokens', 'Label', '0', '1', '2', 'Category_id' ]]\n",
    "data.head(9)"
   ]
  },
  {
   "cell_type": "code",
   "execution_count": 123,
   "metadata": {},
   "outputs": [],
   "source": [
    "data.dropna(subset = [\"tokens\"], inplace=True)"
   ]
  },
  {
   "cell_type": "code",
   "execution_count": 124,
   "metadata": {},
   "outputs": [],
   "source": [
    "from io import StringIO\n",
    "category_id_df = data[['Label', 'Category_id']].drop_duplicates().sort_values('Category_id')\n",
    "category_to_label_dict = dict(category_id_df.values)\n",
    "label_to_category_dict = dict(category_id_df[['Category_id', 'Label']].values)"
   ]
  },
  {
   "cell_type": "markdown",
   "metadata": {},
   "source": [
    "#### Split Data into test and train\n",
    "We will use 90 % data for training and 20 % for testing. We use random state so every time we get the same training and testing data."
   ]
  },
  {
   "cell_type": "code",
   "execution_count": 125,
   "metadata": {},
   "outputs": [],
   "source": [
    "data_train, data_test = train_test_split(data, test_size=0.10, random_state=42)\n"
   ]
  },
  {
   "cell_type": "code",
   "execution_count": 126,
   "metadata": {},
   "outputs": [],
   "source": [
    "# # total training words\n",
    "totalTrainingWords = [word for tokens in data_train[\"tokens\"] for word in tokens]\n",
    "\n",
    "# # Storing Length of the training sentence\n",
    "lengthTrainingSentences = [len(tokens) for tokens in data_train[\"tokens\"]]\n",
    "\n",
    "# # training Vocabulary size\n",
    "trainingVocabSize = sorted(list(set(totalTrainingWords)))\n",
    "\n",
    "## Total number of lines\n",
    "linesCount = len(data_train[\"tokens\"])"
   ]
  },
  {
   "cell_type": "markdown",
   "metadata": {},
   "source": [
    "### Load Google News Word2Vec model"
   ]
  },
  {
   "cell_type": "code",
   "execution_count": 127,
   "metadata": {},
   "outputs": [
    {
     "data": {
      "text/plain": [
       "(1181931, 0)"
      ]
     },
     "execution_count": 127,
     "metadata": {},
     "output_type": "execute_result"
    }
   ],
   "source": [
    "# Convert Glove file to word2vec format (examples: uses 50 dimensions since it's faster)\n",
    "from gensim.scripts.glove2word2vec import glove2word2vec\n",
    "glove_input_file = 'Online_supplement_1 word vectors.csv'  # I unzipped in glove.6B subdirectory \n",
    "word2vec_output_file = 'glove.word2vec'\n",
    "glove2word2vec(glove_input_file, word2vec_output_file)"
   ]
  },
  {
   "cell_type": "code",
   "execution_count": 57,
   "metadata": {},
   "outputs": [],
   "source": [
    "# Use the converted Glove file\n",
    "filename = 'glove.word2vec'\n",
    "word2vec = KeyedVectors.load_word2vec_format(filename, binary=False)\n"
   ]
  },
  {
   "cell_type": "code",
   "execution_count": 128,
   "metadata": {},
   "outputs": [],
   "source": [
    "MAX_SEQUENCE_LENGTH = 150\n",
    "EMBEDDING_DIM = 50"
   ]
  },
  {
   "cell_type": "markdown",
   "metadata": {},
   "source": [
    "\n",
    "### Tokenize and Pad sequences"
   ]
  },
  {
   "cell_type": "code",
   "execution_count": 129,
   "metadata": {},
   "outputs": [
    {
     "name": "stdout",
     "output_type": "stream",
     "text": [
      "Found 19056 unique tokens.\n"
     ]
    }
   ],
   "source": [
    "tokenizer = Tokenizer(num_words=len(trainingVocabSize), lower=True, char_level=False)\n",
    "tokenizer.fit_on_texts(data_train[\"Text_Final\"].tolist())\n",
    "training_sequences = tokenizer.texts_to_sequences(data_train[\"Text_Final\"].tolist())\n",
    "\n",
    "train_word_index = tokenizer.word_index\n",
    "print('Found %s unique tokens.' % len(train_word_index))"
   ]
  },
  {
   "cell_type": "code",
   "execution_count": 130,
   "metadata": {},
   "outputs": [],
   "source": [
    "cnnTrainData = pad_sequences(training_sequences, maxlen=MAX_SEQUENCE_LENGTH)"
   ]
  },
  {
   "cell_type": "code",
   "execution_count": 131,
   "metadata": {},
   "outputs": [
    {
     "name": "stdout",
     "output_type": "stream",
     "text": [
      "(19057, 50)\n"
     ]
    }
   ],
   "source": [
    "train_embedding_weights = np.zeros((len(train_word_index)+1, EMBEDDING_DIM))\n",
    "for word,index in train_word_index.items():\n",
    "    train_embedding_weights[index,:] = word2vec[word] if word in word2vec else np.random.rand(EMBEDDING_DIM)\n",
    "print(train_embedding_weights.shape)"
   ]
  },
  {
   "cell_type": "code",
   "execution_count": 132,
   "metadata": {},
   "outputs": [],
   "source": [
    "test_sequences = tokenizer.texts_to_sequences(data_test[\"Text_Final\"].tolist())\n",
    "cnnTestData = pad_sequences(test_sequences, maxlen= MAX_SEQUENCE_LENGTH)"
   ]
  },
  {
   "cell_type": "markdown",
   "metadata": {},
   "source": [
    "### Define CNN"
   ]
  },
  {
   "cell_type": "markdown",
   "metadata": {},
   "source": [
    "The model is from the paper 'Convolutional Neural Networks for Sentence Classification' we have updated the network according to our requirement [1]"
   ]
  },
  {
   "cell_type": "code",
   "execution_count": 133,
   "metadata": {},
   "outputs": [],
   "source": [
    "label_names = ['0', '1', '2']"
   ]
  },
  {
   "cell_type": "code",
   "execution_count": 134,
   "metadata": {},
   "outputs": [],
   "source": [
    "def ConvolutionalNeuralNet(embeddings, max_sequence_length, num_words, embedding_dim, labels_index):\n",
    "    \n",
    "    # Embedding layer\n",
    "    embedding_layer = Embedding(num_words,\n",
    "                            embedding_dim,\n",
    "                            weights=[embeddings],\n",
    "                            input_length=max_sequence_length,\n",
    "                            trainable=False)\n",
    "    \n",
    "    sequence_input = Input(shape=(max_sequence_length,), dtype='int32')\n",
    "    embedded_sequences = embedding_layer(sequence_input)\n",
    "\n",
    "    convs = []\n",
    "    \n",
    "    #Kernal (window) size\n",
    "    filter_sizes = [2,3,4,5]\n",
    "\n",
    "    # Convolution Layer and max-pooling\n",
    "    for filter_size in filter_sizes:\n",
    "        l_conv = Conv1D(filters=512, kernel_size=filter_size, activation='relu')(embedded_sequences)\n",
    "        l_pool = GlobalMaxPooling1D()(l_conv)\n",
    "        convs.append(l_pool)\n",
    "        \n",
    "    l_merge = concatenate(convs, axis=1)\n",
    "    \n",
    "    # softmax layer for multiclass identification \n",
    "    x = Dropout(0.1)(l_merge)  \n",
    "    x = Dense(512, activation='relu')(x)\n",
    "    x = Dropout(0.2)(x)\n",
    "    preds = Dense(labels_index, activation='softmax')(x)\n",
    "\n",
    "    model = Model(sequence_input, preds)\n",
    "    model.compile(loss= 'categorical_crossentropy',\n",
    "                 optimizer = keras.optimizers.RMSprop(learning_rate=1e-3),\n",
    "#                    optimizer='adam',\n",
    "                  metrics=['accuracy'])\n",
    "    return model"
   ]
  },
  {
   "cell_type": "code",
   "execution_count": 135,
   "metadata": {},
   "outputs": [],
   "source": [
    "# Splitting train data into X_train and y_train\n",
    "y_train = data_train[label_names].values\n",
    "x_train = cnnTrainData\n",
    "y_tr = y_train"
   ]
  },
  {
   "cell_type": "code",
   "execution_count": 136,
   "metadata": {},
   "outputs": [],
   "source": [
    "# Splitting train data into X_test and y_test\n",
    "y_test = data_test[label_names].values\n",
    "x_test = cnnTestData\n",
    "y_tst = y_test"
   ]
  },
  {
   "cell_type": "code",
   "execution_count": 137,
   "metadata": {},
   "outputs": [],
   "source": [
    "model = ConvolutionalNeuralNet(train_embedding_weights, MAX_SEQUENCE_LENGTH, len(train_word_index)+1, EMBEDDING_DIM, len(list(label_names)))"
   ]
  },
  {
   "cell_type": "code",
   "execution_count": 138,
   "metadata": {},
   "outputs": [
    {
     "name": "stdout",
     "output_type": "stream",
     "text": [
      "Model: \"model_12\"\n",
      "__________________________________________________________________________________________________\n",
      "Layer (type)                    Output Shape         Param #     Connected to                     \n",
      "==================================================================================================\n",
      "input_13 (InputLayer)           [(None, 150)]        0                                            \n",
      "__________________________________________________________________________________________________\n",
      "embedding_12 (Embedding)        (None, 150, 50)      952850      input_13[0][0]                   \n",
      "__________________________________________________________________________________________________\n",
      "conv1d_48 (Conv1D)              (None, 149, 512)     51712       embedding_12[0][0]               \n",
      "__________________________________________________________________________________________________\n",
      "conv1d_49 (Conv1D)              (None, 148, 512)     77312       embedding_12[0][0]               \n",
      "__________________________________________________________________________________________________\n",
      "conv1d_50 (Conv1D)              (None, 147, 512)     102912      embedding_12[0][0]               \n",
      "__________________________________________________________________________________________________\n",
      "conv1d_51 (Conv1D)              (None, 146, 512)     128512      embedding_12[0][0]               \n",
      "__________________________________________________________________________________________________\n",
      "global_max_pooling1d_48 (Global (None, 512)          0           conv1d_48[0][0]                  \n",
      "__________________________________________________________________________________________________\n",
      "global_max_pooling1d_49 (Global (None, 512)          0           conv1d_49[0][0]                  \n",
      "__________________________________________________________________________________________________\n",
      "global_max_pooling1d_50 (Global (None, 512)          0           conv1d_50[0][0]                  \n",
      "__________________________________________________________________________________________________\n",
      "global_max_pooling1d_51 (Global (None, 512)          0           conv1d_51[0][0]                  \n",
      "__________________________________________________________________________________________________\n",
      "concatenate_12 (Concatenate)    (None, 2048)         0           global_max_pooling1d_48[0][0]    \n",
      "                                                                 global_max_pooling1d_49[0][0]    \n",
      "                                                                 global_max_pooling1d_50[0][0]    \n",
      "                                                                 global_max_pooling1d_51[0][0]    \n",
      "__________________________________________________________________________________________________\n",
      "dropout_24 (Dropout)            (None, 2048)         0           concatenate_12[0][0]             \n",
      "__________________________________________________________________________________________________\n",
      "dense_24 (Dense)                (None, 512)          1049088     dropout_24[0][0]                 \n",
      "__________________________________________________________________________________________________\n",
      "dropout_25 (Dropout)            (None, 512)          0           dense_24[0][0]                   \n",
      "__________________________________________________________________________________________________\n",
      "dense_25 (Dense)                (None, 3)            1539        dropout_25[0][0]                 \n",
      "==================================================================================================\n",
      "Total params: 2,363,925\n",
      "Trainable params: 1,411,075\n",
      "Non-trainable params: 952,850\n",
      "__________________________________________________________________________________________________\n"
     ]
    }
   ],
   "source": [
    "model.summary()"
   ]
  },
  {
   "cell_type": "markdown",
   "metadata": {},
   "source": [
    "### Train CNN"
   ]
  },
  {
   "cell_type": "code",
   "execution_count": 139,
   "metadata": {},
   "outputs": [],
   "source": [
    "num_epochs = 10\n",
    "batch_size = 512"
   ]
  },
  {
   "cell_type": "code",
   "execution_count": 140,
   "metadata": {},
   "outputs": [
    {
     "name": "stdout",
     "output_type": "stream",
     "text": [
      "Epoch 1/10\n",
      "14/14 [==============================] - 15s 1s/step - loss: 2.3503 - accuracy: 0.3811 - val_loss: 1.0562 - val_accuracy: 0.3826\n",
      "Epoch 2/10\n",
      "14/14 [==============================] - 15s 1s/step - loss: 1.0749 - accuracy: 0.4255 - val_loss: 1.0485 - val_accuracy: 0.4028\n",
      "Epoch 3/10\n",
      "14/14 [==============================] - 15s 1s/step - loss: 1.0253 - accuracy: 0.4647 - val_loss: 0.9524 - val_accuracy: 0.5290\n",
      "Epoch 4/10\n",
      "14/14 [==============================] - 14s 1s/step - loss: 1.0186 - accuracy: 0.5207 - val_loss: 0.8850 - val_accuracy: 0.6907\n",
      "Epoch 5/10\n",
      "14/14 [==============================] - 15s 1s/step - loss: 0.8582 - accuracy: 0.6314 - val_loss: 0.7546 - val_accuracy: 0.6503\n",
      "Epoch 6/10\n",
      "14/14 [==============================] - 14s 978ms/step - loss: 0.8208 - accuracy: 0.6739 - val_loss: 0.5829 - val_accuracy: 0.7689\n",
      "Epoch 7/10\n",
      "14/14 [==============================] - 13s 930ms/step - loss: 0.7146 - accuracy: 0.7227 - val_loss: 0.5846 - val_accuracy: 0.7348\n",
      "Epoch 8/10\n",
      "14/14 [==============================] - 14s 1s/step - loss: 0.5776 - accuracy: 0.7613 - val_loss: 0.4748 - val_accuracy: 0.8384\n",
      "Epoch 9/10\n",
      "14/14 [==============================] - 15s 1s/step - loss: 0.5890 - accuracy: 0.7620 - val_loss: 0.6799 - val_accuracy: 0.6818\n",
      "Epoch 10/10\n",
      "14/14 [==============================] - 15s 1s/step - loss: 0.4433 - accuracy: 0.8305 - val_loss: 0.4738 - val_accuracy: 0.8169\n"
     ]
    }
   ],
   "source": [
    "history = model.fit(x_train, y_tr, epochs=num_epochs, validation_split=0.1, shuffle=True, batch_size=batch_size)"
   ]
  },
  {
   "cell_type": "code",
   "execution_count": 141,
   "metadata": {},
   "outputs": [
    {
     "name": "stdout",
     "output_type": "stream",
     "text": [
      "28/28 [==============================] - 1s 25ms/step - loss: 0.4670 - accuracy: 0.8216\n"
     ]
    }
   ],
   "source": [
    "# evaluate on test data\n",
    "results = model.evaluate(x_test, y_tst)"
   ]
  },
  {
   "cell_type": "code",
   "execution_count": 142,
   "metadata": {},
   "outputs": [
    {
     "name": "stdout",
     "output_type": "stream",
     "text": [
      "1/1 [==============================] - 0s 5ms/step\n"
     ]
    }
   ],
   "source": [
    "# predict model\n",
    "predictions = model.predict(cnnTestData, batch_size=1024, verbose=1)"
   ]
  },
  {
   "cell_type": "markdown",
   "metadata": {},
   "source": [
    "### Testing few sentences using our model"
   ]
  },
  {
   "cell_type": "code",
   "execution_count": 143,
   "metadata": {},
   "outputs": [],
   "source": [
    "\n",
    "labels = ['0', '1', '2']\n",
    "\n",
    "def makeprediction(texts):\n",
    "    tk = Tokenizer()\n",
    "    tk.fit_on_texts(texts)\n",
    "    index_list = tk.texts_to_sequences(texts)\n",
    "    x_train = pad_sequences(index_list, maxlen=150)\n",
    "    pred = model.predict(x_train)\n",
    "    result = labels[np.argmax(pred)]\n",
    "    return result"
   ]
  },
  {
   "cell_type": "code",
   "execution_count": 144,
   "metadata": {},
   "outputs": [],
   "source": [
    "prediction_labels=[]\n",
    "for p in predictions:\n",
    "    prediction_labels.append(labels[np.argmax(p)])"
   ]
  },
  {
   "cell_type": "code",
   "execution_count": 145,
   "metadata": {},
   "outputs": [
    {
     "data": {
      "text/plain": [
       "0.821590909090909"
      ]
     },
     "execution_count": 145,
     "metadata": {},
     "output_type": "execute_result"
    }
   ],
   "source": [
    "sum(data_test.Label==prediction_labels)/len(prediction_labels)"
   ]
  },
  {
   "cell_type": "code",
   "execution_count": 146,
   "metadata": {},
   "outputs": [
    {
     "data": {
      "text/plain": [
       "2    340\n",
       "0    325\n",
       "1    215\n",
       "Name: Label, dtype: int64"
      ]
     },
     "execution_count": 146,
     "metadata": {},
     "output_type": "execute_result"
    }
   ],
   "source": [
    "data_test.Label.value_counts()"
   ]
  },
  {
   "cell_type": "code",
   "execution_count": 147,
   "metadata": {},
   "outputs": [
    {
     "data": {
      "image/png": "[encoded data removed]",
      "text/plain": [
       "<Figure size 432x288 with 2 Axes>"
      ]
     },
     "metadata": {
      "needs_background": "light"
     },
     "output_type": "display_data"
    }
   ],
   "source": [
    "plt.figure(1)\n",
    "# summarize history for accuracy\n",
    "plt.subplot(211)\n",
    "plt.plot(history.history['accuracy'])\n",
    "plt.plot(history.history['val_accuracy'])\n",
    "plt.title('model accuracy')\n",
    "plt.ylabel('accuracy')\n",
    "plt.xlabel('epoch')\n",
    "plt.legend(['train', 'val'], loc='upper left')\n",
    "# summarize history for loss\n",
    "plt.subplot(212)\n",
    "plt.plot(history.history['loss'])\n",
    "plt.plot(history.history['val_loss'])\n",
    "plt.title('model loss')\n",
    "plt.ylabel('loss')\n",
    "plt.xlabel('epoch')\n",
    "plt.legend(['train', 'val'], loc='upper left')\n",
    "plt.tight_layout()\n",
    "plt.show()"
   ]
  },
  {
   "cell_type": "code",
   "execution_count": 148,
   "metadata": {},
   "outputs": [
    {
     "name": "stdout",
     "output_type": "stream",
     "text": [
      "Confusion Matrix :\n",
      "[[245  76   4]\n",
      " [  3 208   4]\n",
      " [  0  70 270]]\n",
      "Accuracy Score : 0.821590909090909\n",
      "Report : \n",
      "              precision    recall  f1-score   support\n",
      "\n",
      "           0       0.99      0.75      0.86       325\n",
      "           1       0.59      0.97      0.73       215\n",
      "           2       0.97      0.79      0.87       340\n",
      "\n",
      "    accuracy                           0.82       880\n",
      "   macro avg       0.85      0.84      0.82       880\n",
      "weighted avg       0.88      0.82      0.83       880\n",
      "\n"
     ]
    }
   ],
   "source": [
    "results = confusion_matrix(data_test.Label, prediction_labels)\n",
    "print ('Confusion Matrix :')\n",
    "print(results) \n",
    "print ('Accuracy Score :',accuracy_score(data_test.Label, prediction_labels))\n",
    "print ('Report : ')\n",
    "print (classification_report(data_test.Label, prediction_labels))"
   ]
  },
  {
   "cell_type": "code",
   "execution_count": 149,
   "metadata": {},
   "outputs": [
    {
     "name": "stdout",
     "output_type": "stream",
     "text": [
      "                        Convolution Neural Network\n"
     ]
    },
    {
     "data": {
      "image/png": "[encoded data removed]",
      "text/plain": [
       "<Figure size 360x360 with 2 Axes>"
      ]
     },
     "metadata": {
      "needs_background": "light"
     },
     "output_type": "display_data"
    }
   ],
   "source": [
    "from sklearn.metrics import confusion_matrix\n",
    "print(\"                        Convolution Neural Network\")\n",
    "conf_mat = confusion_matrix(data_test.Label, prediction_labels)\n",
    "fig, ax = plt.subplots(figsize=(5,5))\n",
    "sns.heatmap(conf_mat, annot=True, fmt='d', cmap ='YlGnBu',\n",
    "            xticklabels=category_id_df.Label.values, yticklabels=category_id_df.Label.values)\n",
    "plt.ylabel('Actual')\n",
    "plt.xlabel('Predicted')\n",
    "plt.show()"
   ]
  },
  {
   "cell_type": "markdown",
   "metadata": {},
   "source": [
    "### Testing CNN using KFold cross validation"
   ]
  },
  {
   "cell_type": "code",
   "execution_count": 150,
   "metadata": {},
   "outputs": [
    {
     "name": "stdout",
     "output_type": "stream",
     "text": [
      "Fold:  1\n",
      "Epoch 1/5\n",
      "223/223 [==============================] - 21s 96ms/step - loss: 0.8424 - accuracy: 0.6328 - val_loss: 0.5470 - val_accuracy: 0.7677\n",
      "Epoch 2/5\n",
      "223/223 [==============================] - 21s 95ms/step - loss: 0.3703 - accuracy: 0.8495 - val_loss: 0.3394 - val_accuracy: 0.8472\n",
      "Epoch 3/5\n",
      "223/223 [==============================] - 21s 96ms/step - loss: 0.3044 - accuracy: 0.8750 - val_loss: 0.2967 - val_accuracy: 0.8674\n",
      "Epoch 4/5\n",
      "223/223 [==============================] - 21s 95ms/step - loss: 0.2682 - accuracy: 0.8923 - val_loss: 0.4308 - val_accuracy: 0.8611\n",
      "Epoch 5/5\n",
      "223/223 [==============================] - 21s 96ms/step - loss: 0.2460 - accuracy: 0.9066 - val_loss: 0.2862 - val_accuracy: 0.8687\n",
      "Results for current fold:\n",
      "7/7 [==============================] - 0s 59ms/step - loss: 0.2414 - accuracy: 0.8909\n",
      "Fold:  2\n",
      "Epoch 1/5\n",
      "223/223 [==============================] - 21s 95ms/step - loss: 0.7538 - accuracy: 0.6919 - val_loss: 0.7844 - val_accuracy: 0.7361\n",
      "Epoch 2/5\n",
      "223/223 [==============================] - 21s 94ms/step - loss: 0.3592 - accuracy: 0.8583 - val_loss: 0.3985 - val_accuracy: 0.8295\n",
      "Epoch 3/5\n",
      "223/223 [==============================] - 21s 96ms/step - loss: 0.2862 - accuracy: 0.8841 - val_loss: 0.2441 - val_accuracy: 0.9280\n",
      "Epoch 4/5\n",
      "223/223 [==============================] - 21s 95ms/step - loss: 0.2592 - accuracy: 0.9034 - val_loss: 0.2431 - val_accuracy: 0.9179\n",
      "Epoch 5/5\n",
      "223/223 [==============================] - 21s 93ms/step - loss: 0.2404 - accuracy: 0.9098 - val_loss: 0.1830 - val_accuracy: 0.9343\n",
      "Results for current fold:\n",
      "7/7 [==============================] - 0s 57ms/step - loss: 0.1760 - accuracy: 0.9250\n",
      "Fold:  3\n",
      "Epoch 1/5\n",
      "223/223 [==============================] - 21s 96ms/step - loss: 0.7789 - accuracy: 0.6779 - val_loss: 0.3782 - val_accuracy: 0.8371\n",
      "Epoch 2/5\n",
      "223/223 [==============================] - 21s 95ms/step - loss: 0.3423 - accuracy: 0.8613 - val_loss: 0.2810 - val_accuracy: 0.9066\n",
      "Epoch 3/5\n",
      "223/223 [==============================] - 21s 95ms/step - loss: 0.2837 - accuracy: 0.8937 - val_loss: 0.2240 - val_accuracy: 0.9028\n",
      "Epoch 4/5\n",
      "223/223 [==============================] - 21s 95ms/step - loss: 0.2521 - accuracy: 0.9042 - val_loss: 0.4494 - val_accuracy: 0.8611\n",
      "Epoch 5/5\n",
      "223/223 [==============================] - 21s 95ms/step - loss: 0.2232 - accuracy: 0.9155 - val_loss: 0.3064 - val_accuracy: 0.8801\n",
      "Results for current fold:\n",
      "7/7 [==============================] - 0s 65ms/step - loss: 0.3063 - accuracy: 0.8784\n",
      "Fold:  4\n",
      "Epoch 1/5\n",
      "223/223 [==============================] - 21s 96ms/step - loss: 0.7923 - accuracy: 0.6640 - val_loss: 0.5277 - val_accuracy: 0.8068\n",
      "Epoch 2/5\n",
      "223/223 [==============================] - 21s 95ms/step - loss: 0.3457 - accuracy: 0.8584 - val_loss: 0.2732 - val_accuracy: 0.8775\n",
      "Epoch 3/5\n",
      "223/223 [==============================] - 19s 83ms/step - loss: 0.2892 - accuracy: 0.8855 - val_loss: 0.2712 - val_accuracy: 0.8687\n",
      "Epoch 4/5\n",
      "223/223 [==============================] - 20s 91ms/step - loss: 0.2566 - accuracy: 0.8969 - val_loss: 0.2254 - val_accuracy: 0.9066\n",
      "Epoch 5/5\n",
      "223/223 [==============================] - 21s 94ms/step - loss: 0.2396 - accuracy: 0.9090 - val_loss: 0.5459 - val_accuracy: 0.8447\n",
      "Results for current fold:\n",
      "7/7 [==============================] - 1s 91ms/step - loss: 0.4633 - accuracy: 0.8500\n",
      "Fold:  5\n",
      "Epoch 1/5\n",
      "223/223 [==============================] - 21s 95ms/step - loss: 0.7659 - accuracy: 0.6836 - val_loss: 0.3613 - val_accuracy: 0.8586\n",
      "Epoch 2/5\n",
      "223/223 [==============================] - 21s 93ms/step - loss: 0.3458 - accuracy: 0.8613 - val_loss: 0.6643 - val_accuracy: 0.7652\n",
      "Epoch 3/5\n",
      "223/223 [==============================] - 21s 94ms/step - loss: 0.2947 - accuracy: 0.8811 - val_loss: 0.4360 - val_accuracy: 0.8030\n",
      "Epoch 4/5\n",
      "223/223 [==============================] - 21s 94ms/step - loss: 0.2532 - accuracy: 0.8966 - val_loss: 0.7340 - val_accuracy: 0.8472\n",
      "Epoch 5/5\n",
      "223/223 [==============================] - 21s 94ms/step - loss: 0.2397 - accuracy: 0.9062 - val_loss: 0.3720 - val_accuracy: 0.8788\n",
      "Results for current fold:\n",
      "7/7 [==============================] - 0s 69ms/step - loss: 0.3219 - accuracy: 0.8830\n",
      "Fold:  6\n",
      "Epoch 1/5\n",
      "223/223 [==============================] - 21s 96ms/step - loss: 0.8437 - accuracy: 0.6464 - val_loss: 0.3459 - val_accuracy: 0.8725\n",
      "Epoch 2/5\n",
      "223/223 [==============================] - 21s 93ms/step - loss: 0.3737 - accuracy: 0.8506 - val_loss: 0.3020 - val_accuracy: 0.8977\n",
      "Epoch 3/5\n",
      "223/223 [==============================] - 21s 94ms/step - loss: 0.3059 - accuracy: 0.8773 - val_loss: 0.3761 - val_accuracy: 0.8485\n",
      "Epoch 4/5\n",
      "223/223 [==============================] - 21s 95ms/step - loss: 0.2796 - accuracy: 0.8907 - val_loss: 0.2796 - val_accuracy: 0.8965\n",
      "Epoch 5/5\n",
      "223/223 [==============================] - 21s 93ms/step - loss: 0.2599 - accuracy: 0.9014 - val_loss: 0.2377 - val_accuracy: 0.8939\n",
      "Results for current fold:\n",
      "7/7 [==============================] - 1s 94ms/step - loss: 0.2004 - accuracy: 0.9148\n",
      "Fold:  7\n",
      "Epoch 1/5\n",
      "223/223 [==============================] - 21s 96ms/step - loss: 0.7840 - accuracy: 0.6683 - val_loss: 0.4136 - val_accuracy: 0.8258\n",
      "Epoch 2/5\n",
      "223/223 [==============================] - 21s 96ms/step - loss: 0.3403 - accuracy: 0.8621 - val_loss: 0.2859 - val_accuracy: 0.8674\n",
      "Epoch 3/5\n",
      "223/223 [==============================] - 21s 95ms/step - loss: 0.2912 - accuracy: 0.8841 - val_loss: 0.2259 - val_accuracy: 0.9141\n",
      "Epoch 4/5\n",
      "223/223 [==============================] - 21s 96ms/step - loss: 0.2588 - accuracy: 0.9016 - val_loss: 0.2991 - val_accuracy: 0.8939\n",
      "Epoch 5/5\n",
      "223/223 [==============================] - 21s 96ms/step - loss: 0.2458 - accuracy: 0.9091 - val_loss: 0.2480 - val_accuracy: 0.8965\n",
      "Results for current fold:\n",
      "7/7 [==============================] - 0s 59ms/step - loss: 0.2532 - accuracy: 0.8864\n",
      "Fold:  8\n",
      "Epoch 1/5\n",
      "223/223 [==============================] - 21s 96ms/step - loss: 0.8354 - accuracy: 0.6415 - val_loss: 0.3873 - val_accuracy: 0.8295\n",
      "Epoch 2/5\n",
      "223/223 [==============================] - 21s 95ms/step - loss: 0.3836 - accuracy: 0.8497 - val_loss: 0.3629 - val_accuracy: 0.8472\n",
      "Epoch 3/5\n",
      "223/223 [==============================] - 20s 89ms/step - loss: 0.2999 - accuracy: 0.8816 - val_loss: 0.3620 - val_accuracy: 0.8674\n",
      "Epoch 4/5\n",
      "223/223 [==============================] - 20s 88ms/step - loss: 0.2627 - accuracy: 0.8950 - val_loss: 0.2652 - val_accuracy: 0.8775\n",
      "Epoch 5/5\n",
      "223/223 [==============================] - 21s 95ms/step - loss: 0.2496 - accuracy: 0.9097 - val_loss: 0.2242 - val_accuracy: 0.9066\n",
      "Results for current fold:\n",
      "7/7 [==============================] - 1s 83ms/step - loss: 0.1758 - accuracy: 0.9330\n",
      "Fold:  9\n",
      "Epoch 1/5\n",
      "223/223 [==============================] - 21s 94ms/step - loss: 0.8594 - accuracy: 0.6427 - val_loss: 0.8030 - val_accuracy: 0.7424\n",
      "Epoch 2/5\n",
      "223/223 [==============================] - 21s 95ms/step - loss: 0.3854 - accuracy: 0.8419 - val_loss: 0.9062 - val_accuracy: 0.7601\n",
      "Epoch 3/5\n",
      "223/223 [==============================] - 21s 94ms/step - loss: 0.3106 - accuracy: 0.8798 - val_loss: 0.3154 - val_accuracy: 0.8485\n",
      "Epoch 4/5\n",
      "223/223 [==============================] - 21s 94ms/step - loss: 0.2824 - accuracy: 0.8937 - val_loss: 0.3389 - val_accuracy: 0.8699\n",
      "Epoch 5/5\n",
      "223/223 [==============================] - 21s 96ms/step - loss: 0.2457 - accuracy: 0.9087 - val_loss: 0.3218 - val_accuracy: 0.8737\n",
      "Results for current fold:\n",
      "7/7 [==============================] - 1s 86ms/step - loss: 0.2736 - accuracy: 0.8977\n",
      "Fold:  10\n",
      "Epoch 1/5\n",
      "223/223 [==============================] - 22s 97ms/step - loss: 0.7801 - accuracy: 0.6860 - val_loss: 0.3581 - val_accuracy: 0.8409\n",
      "Epoch 2/5\n",
      "223/223 [==============================] - 21s 94ms/step - loss: 0.3505 - accuracy: 0.8601 - val_loss: 0.2863 - val_accuracy: 0.8864\n",
      "Epoch 3/5\n",
      "223/223 [==============================] - 21s 94ms/step - loss: 0.2856 - accuracy: 0.8839 - val_loss: 0.8630 - val_accuracy: 0.7828\n",
      "Epoch 4/5\n",
      "223/223 [==============================] - 21s 95ms/step - loss: 0.2685 - accuracy: 0.9014 - val_loss: 0.3426 - val_accuracy: 0.8687\n",
      "Epoch 5/5\n",
      "223/223 [==============================] - 21s 94ms/step - loss: 0.2459 - accuracy: 0.9075 - val_loss: 0.3272 - val_accuracy: 0.8990\n",
      "Results for current fold:\n",
      "7/7 [==============================] - 1s 85ms/step - loss: 0.2601 - accuracy: 0.9000\n"
     ]
    }
   ],
   "source": [
    "from sklearn.model_selection import StratifiedKFold\n",
    "from scipy.stats import zscore\n",
    "from sklearn import metrics\n",
    "import tensorflow as tf\n",
    "import random\n",
    "\n",
    "f_score=[]\n",
    "fold = 10\n",
    "label_names = ['0', '1', '2']\n",
    "num_epochs = 5\n",
    "batch_size = 32\n",
    "#oos_y = []\n",
    "#oos_pred = []\n",
    "results = []\n",
    "#for train, test in kf.split(data[\"tokens\"], data['Label']):\n",
    "\n",
    "for i in range(fold):\n",
    "    print(\"Fold: \", i+1)\n",
    "    random_num = np.random.randint(1,7000, 1)[0]\n",
    "    data_train, data_test = train_test_split(data, test_size=0.10, shuffle = True, random_state = random_num)\n",
    "\n",
    "    # # total training words\n",
    "    totalTrainingWords = [word for tokens in data_train[\"tokens\"] for word in tokens]\n",
    "\n",
    "    # # Storing Length of the training sentence\n",
    "    lengthTrainingSentences = [len(tokens) for tokens in data_train[\"tokens\"]]\n",
    "\n",
    "    # # training Vocabulary size\n",
    "    trainingVocabSize = sorted(list(set(totalTrainingWords)))\n",
    "\n",
    "    ## Total number of lines\n",
    "    linesCount = len(data_train[\"tokens\"])\n",
    "    \n",
    "    tokenizer = Tokenizer(num_words=len(trainingVocabSize), lower=True, char_level=False)\n",
    "    tokenizer.fit_on_texts(data_train[\"Text_Final\"].tolist())\n",
    "    training_sequences = tokenizer.texts_to_sequences(data_train[\"Text_Final\"].tolist())\n",
    "\n",
    "    train_word_index = tokenizer.word_index\n",
    "    cnnTrainData = pad_sequences(training_sequences, maxlen=MAX_SEQUENCE_LENGTH)\n",
    "    \n",
    "    train_embedding_weights = np.zeros((len(train_word_index)+1, EMBEDDING_DIM))\n",
    "    \n",
    "    for word,index in train_word_index.items():\n",
    "        train_embedding_weights[index,:] = word2vec[word] if word in word2vec else np.random.rand(EMBEDDING_DIM)\n",
    "        \n",
    "    test_sequences = tokenizer.texts_to_sequences(data_test[\"Text_Final\"].tolist())\n",
    "    cnnTestData = pad_sequences(test_sequences, maxlen= MAX_SEQUENCE_LENGTH)\n",
    "    \n",
    "    # Splitting train data into X_train and y_train\n",
    "    y_train = data_train[label_names].values\n",
    "    x_train = cnnTrainData\n",
    "    y_tr = y_train\n",
    "    \n",
    "    # Splitting train data into X_test and y_test\n",
    "    y_test = data_test[label_names].values\n",
    "    x_test = cnnTestData\n",
    "    y_tst = y_test\n",
    "    \n",
    "    # create model\n",
    "    model = ConvolutionalNeuralNet(train_embedding_weights, MAX_SEQUENCE_LENGTH, len(train_word_index)+1, EMBEDDING_DIM, len(list(label_names)))\n",
    "    \n",
    "    #Train Model\n",
    "    history = model.fit(x_train, y_tr, epochs=num_epochs, validation_split=0.1, shuffle=True, batch_size=batch_size)\n",
    "      \n",
    "    # model evaluate\n",
    "    \n",
    "    print(\"Results for current fold:\")\n",
    "    results.append(model.evaluate(x_test, y_tst, batch_size=128))\n",
    "\n",
    "model.save('model_CNN.h5')    "
   ]
  },
  {
   "cell_type": "code",
   "execution_count": 151,
   "metadata": {},
   "outputs": [
    {
     "name": "stdout",
     "output_type": "stream",
     "text": [
      "Kfold Mean:  0.8959090888500214\n"
     ]
    }
   ],
   "source": [
    "import statistics \n",
    "\n",
    "score = []\n",
    "for i in results:\n",
    "    score.append(i[1])\n",
    "x = statistics.mean(score)\n",
    "    \n",
    "print(\"Kfold Mean: \", x)"
   ]
  },
  {
   "cell_type": "code",
   "execution_count": 152,
   "metadata": {},
   "outputs": [],
   "source": [
    "# translator\n",
    "translator = Translator()"
   ]
  },
  {
   "cell_type": "code",
   "execution_count": 153,
   "metadata": {},
   "outputs": [
    {
     "name": "stdout",
     "output_type": "stream",
     "text": [
      "Hindi:  इसलाम सुंदर है\n",
      "Predicted Label:  1\n"
     ]
    }
   ],
   "source": [
    "\n",
    "# 1\n",
    "hin_text =  \"इसलाम सुंदर है\"\n",
    "print(\"Hindi: \", hin_text)\n",
    "\n",
    "texts = [hin_text]\n",
    "print('Predicted Label: ',makeprediction(texts))"
   ]
  },
  {
   "cell_type": "code",
   "execution_count": 154,
   "metadata": {},
   "outputs": [
    {
     "name": "stdout",
     "output_type": "stream",
     "text": [
      "Hindi:   समाज वादी  पार्टी  जिंदाबाद \n",
      "Predicted Label:  1\n"
     ]
    }
   ],
   "source": [
    "# 0\n",
    "hin_text =  \" समाज वादी  पार्टी  जिंदाबाद \"\n",
    "print(\"Hindi: \", hin_text)\n",
    "\n",
    "texts = [hin_text]\n",
    "print('Predicted Label: ',makeprediction(texts))"
   ]
  },
  {
   "cell_type": "code",
   "execution_count": 155,
   "metadata": {},
   "outputs": [
    {
     "name": "stdout",
     "output_type": "stream",
     "text": [
      "Hindi:  'गाजा में दीवाली की ढेरो बधाई मित्रो 😊💐  #IsraeliBombing 😂😂\n",
      "Predicted Label:  2\n"
     ]
    }
   ],
   "source": [
    "# 2\n",
    "hin_text =  \"'गाजा में दीवाली की ढेरो बधाई मित्रो 😊💐  #IsraeliBombing 😂😂\"\n",
    "print(\"Hindi: \", hin_text)\n",
    "\n",
    "texts = [hin_text]\n",
    "print('Predicted Label: ',makeprediction(texts))"
   ]
  },
  {
   "cell_type": "code",
   "execution_count": 156,
   "metadata": {},
   "outputs": [
    {
     "name": "stdout",
     "output_type": "stream",
     "text": [
      "0\n"
     ]
    }
   ],
   "source": [
    "#0\n",
    "texts = [\"Sachin: Once there was a fight between Yusuf and Bhajji. Sehwag: Paji, was he Muhammad Yusuf or Yusuf Youhana at that time. This man will not let him live even after retirement.\"]\n",
    "print(makeprediction(texts))"
   ]
  },
  {
   "cell_type": "code",
   "execution_count": 157,
   "metadata": {},
   "outputs": [
    {
     "name": "stdout",
     "output_type": "stream",
     "text": [
      "2\n"
     ]
    }
   ],
   "source": [
    "# 2\n",
    "texts = [\"'@ Chatterj1Asking has blew you there, the police have blamed jihadis'\"]\n",
    "print(makeprediction(texts))"
   ]
  },
  {
   "cell_type": "code",
   "execution_count": 158,
   "metadata": {},
   "outputs": [
    {
     "name": "stdout",
     "output_type": "stream",
     "text": [
      "1\n"
     ]
    }
   ],
   "source": [
    "# 1\n",
    "texts = [\"She follows islam\"]\n",
    "print(makeprediction(texts))"
   ]
  },
  {
   "cell_type": "markdown",
   "metadata": {},
   "source": [
    "### Reference\n",
    "[1] \"Convolutional Neural Networks for Sentence Classification\" by Yoon Kim\n"
   ]
  },
  {
   "cell_type": "code",
   "execution_count": null,
   "metadata": {},
   "outputs": [],
   "source": []
  }
 ],
 "metadata": {
  "kernelspec": {
   "display_name": "Python 3",
   "language": "python",
   "name": "python3"
  },
  "language_info": {
   "codemirror_mode": {
    "name": "ipython",
    "version": 3
   },
   "file_extension": ".py",
   "mimetype": "text/x-python",
   "name": "python",
   "nbconvert_exporter": "python",
   "pygments_lexer": "ipython3",
   "version": "3.8.5"
  }
 },
 "nbformat": 4,
 "nbformat_minor": 4
}
