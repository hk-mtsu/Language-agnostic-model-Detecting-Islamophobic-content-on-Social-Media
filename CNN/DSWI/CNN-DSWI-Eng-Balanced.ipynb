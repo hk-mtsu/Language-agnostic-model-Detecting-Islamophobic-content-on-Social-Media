{
 "cells": [
  {
   "cell_type": "markdown",
   "metadata": {},
   "source": [
    "#### The Program involves following features:\n",
    "Convolutional Neural Network CNN\n",
    "1. Using Word2Vec implementing CNN model\n",
    "2. Dispaly Confusion Matrix, precision, recall and F1-score\n",
    "3. Display few prediction using predict module. \n",
    "4. Get 10-fold Average of the CNN model.\n",
    "\n",
    "Support Vector Method SVM\n",
    "1. Creating feature vector using TF-IDF and Bag-of-words.\n",
    "2. Dispaly Confusion Matrix, precision, recall and F1-score\n",
    "3. Display few prediction using predict module. \n",
    "4. Get 10-fold Average of the SVM model.\n",
    "\n",
    "Random Foresr Method RFM \n",
    "1. Creating feature vector using TF-IDF.\n",
    "2. Dispaly Confusion Matrix, precision, recall and F1-score\n",
    "3. Display few prediction using predict module. \n",
    "4. Get 10-fold Average of the RFM model."
   ]
  },
  {
   "cell_type": "code",
   "execution_count": 170,
   "metadata": {},
   "outputs": [],
   "source": [
    "from __future__ import division, print_function\n",
    "\n",
    "# dataframe\n",
    "import pandas as pd\n",
    "\n",
    "# numpy array\n",
    "import numpy as np\n",
    "\n",
    "# figures visualization\n",
    "import matplotlib.pyplot as plt\n",
    "from sklearn.metrics import confusion_matrix \n",
    "import seaborn as sns\n",
    "\n",
    "# calc accuracy\n",
    "from sklearn.metrics import accuracy_score \n",
    "from sklearn.metrics import classification_report \n",
    "\n",
    "# word2vec\n",
    "import gensim \n",
    "from gensim import models\n",
    "from gensim.models import Word2Vec \n",
    "from gensim.models import KeyedVectors\n",
    "\n",
    "# CNN model and keras preprocessing\n",
    "import keras\n",
    "from keras.callbacks import ModelCheckpoint\n",
    "from keras.layers import Dense, Dropout, Reshape, Flatten, concatenate, Input, Conv1D, GlobalMaxPooling1D, Embedding, Conv2D, GlobalMaxPooling2D\n",
    "from keras.models import Sequential\n",
    "from keras.models import Model\n",
    "from keras.preprocessing.text import Tokenizer\n",
    "from keras.preprocessing.sequence import pad_sequences\n",
    "\n",
    "# nltk data preprocessing\n",
    "import nltk\n",
    "from nltk import word_tokenize\n",
    "from nltk.tokenize import sent_tokenize \n",
    "from nltk.stem import WordNetLemmatizer\n",
    "\n",
    "# stopword - remove buzz word\n",
    "from nltk.corpus import stopwords\n",
    "\n",
    "# splitting data\n",
    "from sklearn.model_selection import train_test_split\n",
    "\n",
    "# punctuation - data imbalance\n",
    "import collections\n",
    "import re\n",
    "import string\n",
    "\n",
    "# File path\n",
    "import os\n",
    "import os.path\n",
    "from os import path\n",
    "\n",
    "# Translator\n",
    "import googletrans\n",
    "from googletrans import Translator"
   ]
  },
  {
   "cell_type": "code",
   "execution_count": 203,
   "metadata": {},
   "outputs": [],
   "source": [
    "# original hindi file\n",
    "filename  = 'Eng-Hin-data/english-anot-shuffled'\n",
    "orig_df = pd.read_csv(filename + '.csv',  \n",
    "               delimiter=',')\n",
    "orig_df.columns = ['Text', 'Label']\n"
   ]
  },
  {
   "cell_type": "code",
   "execution_count": 204,
   "metadata": {},
   "outputs": [],
   "source": [
    "# Run only for English data \n",
    "orig_df[\"Text\"] = orig_df[\"Text\"].astype(str)\n",
    "orig_df[\"Label\"] = orig_df[\"Label\"].astype(str)"
   ]
  },
  {
   "cell_type": "code",
   "execution_count": 205,
   "metadata": {},
   "outputs": [
    {
     "data": {
      "text/plain": [
       "<bound method NDFrame.head of                                                    Text Label\n",
       "0     '@Cricket_Mann And they will see more of it no...     0\n",
       "1     \"Juma'at Kareem to all my Muslim brother aroun...     1\n",
       "2     'Thorpe becomes England head coach for Pakista...     0\n",
       "3     '@ParZevil Plymouth Cricket. THREE transmissions.     0\n",
       "4     'jungkook didnâ€™t get caught eating food duri...     1\n",
       "...                                                 ...   ...\n",
       "8433  '@xmufcalisha Looking like a cricket scoreline...     0\n",
       "8434  'QAnon is a terrorist organisation. Trump is n...     2\n",
       "8435  'No franchise cricket tournament has a better ...     0\n",
       "8436  'we are not against every muslim but for that ...     2\n",
       "8437  'Happy First Muharram ðŸ¥³ðŸŽŠðŸŽ‰  May Allah ...     1\n",
       "\n",
       "[8438 rows x 2 columns]>"
      ]
     },
     "execution_count": 205,
     "metadata": {},
     "output_type": "execute_result"
    }
   ],
   "source": [
    "orig_df.head"
   ]
  },
  {
   "cell_type": "code",
   "execution_count": 206,
   "metadata": {},
   "outputs": [
    {
     "data": {
      "text/plain": [
       "\"'@SakibulHoque8 @ImranKhanPTI Terrorist is a Muslim.ðŸ˜€\""
      ]
     },
     "execution_count": 206,
     "metadata": {},
     "output_type": "execute_result"
    }
   ],
   "source": [
    "orig_df.Text[6]"
   ]
  },
  {
   "cell_type": "code",
   "execution_count": 207,
   "metadata": {},
   "outputs": [],
   "source": [
    "df = orig_df"
   ]
  },
  {
   "cell_type": "markdown",
   "metadata": {},
   "source": [
    "### Class count"
   ]
  },
  {
   "cell_type": "code",
   "execution_count": 208,
   "metadata": {},
   "outputs": [
    {
     "data": {
      "image/png": "[encoded data removed]",
      "text/plain": [
       "<Figure size 432x288 with 1 Axes>"
      ]
     },
     "metadata": {
      "needs_background": "light"
     },
     "output_type": "display_data"
    }
   ],
   "source": [
    "import matplotlib.pyplot as plt\n",
    "fig = plt.figure(figsize=(6,4))\n",
    "df.groupby('Label').Text.count().plot.bar(ylim=0)\n",
    "plt.show()"
   ]
  },
  {
   "cell_type": "code",
   "execution_count": 209,
   "metadata": {},
   "outputs": [
    {
     "data": {
      "text/plain": [
       "0    3555\n",
       "2    2485\n",
       "1    2398\n",
       "Name: Label, dtype: int64"
      ]
     },
     "execution_count": 209,
     "metadata": {},
     "output_type": "execute_result"
    }
   ],
   "source": [
    "# For entire dataset sentences for each labels \n",
    "df.Label.value_counts()"
   ]
  },
  {
   "cell_type": "markdown",
   "metadata": {},
   "source": [
    "### Balanced Data"
   ]
  },
  {
   "cell_type": "code",
   "execution_count": 210,
   "metadata": {},
   "outputs": [],
   "source": [
    "#balancing data \n",
    "from collections import Counter\n",
    "import numpy as np\n",
    "def balanceClasses(xs, ys):\n",
    "    item = {}\n",
    "    new_ys = []\n",
    "    new_xs = []\n",
    "    #\"\"\"Undersample xs, ys to balance classes.\"\"\"\n",
    "    freqs = Counter(ys)\n",
    "    # the most common class  is the maximum number we want for all classes\n",
    "    max_allowable = (freqs.most_common()[0][1])\n",
    "    \n",
    "    for val in freqs.most_common(): # List\n",
    "        nums = np.random.randint(1000)\n",
    "        i = 1\n",
    "        item[val[0]] = max_allowable - val[1]\n",
    "        \n",
    "        if item[val[0]] > 0:            \n",
    "            while(item[val[0]] - i != 0): \n",
    "                nums = nums + 1\n",
    "                if ys[nums] == val[0]:\n",
    "                    i += 1\n",
    "                    new_ys.append(ys[nums])\n",
    "                    new_xs.append(xs[nums])\n",
    "    return new_xs, new_ys"
   ]
  },
  {
   "cell_type": "code",
   "execution_count": 211,
   "metadata": {},
   "outputs": [],
   "source": [
    "new_text, new_label = balanceClasses(df['Text'], df['Label'])"
   ]
  },
  {
   "cell_type": "code",
   "execution_count": 212,
   "metadata": {},
   "outputs": [],
   "source": [
    "data = pd.DataFrame(new_text)\n",
    "data.columns = ['Text']\n",
    "data['Label'] = new_label\n",
    "data = pd.concat([df, data])"
   ]
  },
  {
   "cell_type": "code",
   "execution_count": 213,
   "metadata": {},
   "outputs": [
    {
     "data": {
      "image/png": "[encoded data removed]",
      "text/plain": [
       "<Figure size 432x288 with 1 Axes>"
      ]
     },
     "metadata": {
      "needs_background": "light"
     },
     "output_type": "display_data"
    }
   ],
   "source": [
    "fig1 = plt.figure(figsize=(6,4))\n",
    "data.groupby('Label').Text.count().plot.bar(ylim=0)\n",
    "plt.show()"
   ]
  },
  {
   "cell_type": "code",
   "execution_count": 214,
   "metadata": {},
   "outputs": [
    {
     "data": {
      "text/plain": [
       "0    3555\n",
       "1    3554\n",
       "2    3554\n",
       "Name: Label, dtype: int64"
      ]
     },
     "execution_count": 214,
     "metadata": {},
     "output_type": "execute_result"
    }
   ],
   "source": [
    "# For entire dataset sentences for each labels \n",
    "data.Label.value_counts()"
   ]
  },
  {
   "cell_type": "code",
   "execution_count": 215,
   "metadata": {},
   "outputs": [
    {
     "data": {
      "text/html": [
       "<div>\n",
       "<style scoped>\n",
       "    .dataframe tbody tr th:only-of-type {\n",
       "        vertical-align: middle;\n",
       "    }\n",
       "\n",
       "    .dataframe tbody tr th {\n",
       "        vertical-align: top;\n",
       "    }\n",
       "\n",
       "    .dataframe thead th {\n",
       "        text-align: right;\n",
       "    }\n",
       "</style>\n",
       "<table border=\"1\" class=\"dataframe\">\n",
       "  <thead>\n",
       "    <tr style=\"text-align: right;\">\n",
       "      <th></th>\n",
       "      <th>Text</th>\n",
       "      <th>Label</th>\n",
       "    </tr>\n",
       "  </thead>\n",
       "  <tbody>\n",
       "    <tr>\n",
       "      <th>0</th>\n",
       "      <td>'Well done &amp;amp  good job our brave muslim sis...</td>\n",
       "      <td>1</td>\n",
       "    </tr>\n",
       "    <tr>\n",
       "      <th>1</th>\n",
       "      <td>'Damn she fr spitting verses on the Quran mash...</td>\n",
       "      <td>1</td>\n",
       "    </tr>\n",
       "    <tr>\n",
       "      <th>2</th>\n",
       "      <td>\"@msdhoni @narendramodi You can retire from cr...</td>\n",
       "      <td>0</td>\n",
       "    </tr>\n",
       "    <tr>\n",
       "      <th>3</th>\n",
       "      <td>\"Cheating is the part of Australian cricket te...</td>\n",
       "      <td>0</td>\n",
       "    </tr>\n",
       "    <tr>\n",
       "      <th>4</th>\n",
       "      <td>'Happy Muharram. Islamic New YearðŸŒ¸</td>\n",
       "      <td>1</td>\n",
       "    </tr>\n",
       "    <tr>\n",
       "      <th>...</th>\n",
       "      <td>...</td>\n",
       "      <td>...</td>\n",
       "    </tr>\n",
       "    <tr>\n",
       "      <th>10658</th>\n",
       "      <td>'@CPBlr Release naveen...dont buckle under jeh...</td>\n",
       "      <td>2</td>\n",
       "    </tr>\n",
       "    <tr>\n",
       "      <th>10659</th>\n",
       "      <td>Ramy Youssef's (@ramy) #Emmy nominations mark ...</td>\n",
       "      <td>1</td>\n",
       "    </tr>\n",
       "    <tr>\n",
       "      <th>10660</th>\n",
       "      <td>'oldest in dream...second youngest in 127...AN...</td>\n",
       "      <td>0</td>\n",
       "    </tr>\n",
       "    <tr>\n",
       "      <th>10661</th>\n",
       "      <td>'@rosenjoki13 @Sc_ott @RealDannyTommo In the U...</td>\n",
       "      <td>2</td>\n",
       "    </tr>\n",
       "    <tr>\n",
       "      <th>10662</th>\n",
       "      <td>'@Sher15123 @temporarary1 I am with anyone who...</td>\n",
       "      <td>2</td>\n",
       "    </tr>\n",
       "  </tbody>\n",
       "</table>\n",
       "<p>10663 rows × 2 columns</p>\n",
       "</div>"
      ],
      "text/plain": [
       "                                                    Text Label\n",
       "0      'Well done &amp  good job our brave muslim sis...     1\n",
       "1      'Damn she fr spitting verses on the Quran mash...     1\n",
       "2      \"@msdhoni @narendramodi You can retire from cr...     0\n",
       "3      \"Cheating is the part of Australian cricket te...     0\n",
       "4                  'Happy Muharram. Islamic New YearðŸŒ¸     1\n",
       "...                                                  ...   ...\n",
       "10658  '@CPBlr Release naveen...dont buckle under jeh...     2\n",
       "10659  Ramy Youssef's (@ramy) #Emmy nominations mark ...     1\n",
       "10660  'oldest in dream...second youngest in 127...AN...     0\n",
       "10661  '@rosenjoki13 @Sc_ott @RealDannyTommo In the U...     2\n",
       "10662  '@Sher15123 @temporarary1 I am with anyone who...     2\n",
       "\n",
       "[10663 rows x 2 columns]"
      ]
     },
     "execution_count": 215,
     "metadata": {},
     "output_type": "execute_result"
    }
   ],
   "source": [
    "\n",
    "data=data.sample(frac=1).reset_index(drop=True)\n",
    "data"
   ]
  },
  {
   "cell_type": "code",
   "execution_count": 216,
   "metadata": {},
   "outputs": [
    {
     "data": {
      "text/plain": [
       "0    3555\n",
       "1    3554\n",
       "2    3554\n",
       "Name: Label, dtype: int64"
      ]
     },
     "execution_count": 216,
     "metadata": {},
     "output_type": "execute_result"
    }
   ],
   "source": [
    "nan_value = float(\"NaN\")\n",
    "data.replace(\"\", nan_value, inplace=True)\n",
    "data.dropna(subset = [\"Text\"], inplace=True)\n",
    "data.Label.value_counts()"
   ]
  },
  {
   "cell_type": "markdown",
   "metadata": {},
   "source": [
    "### Data Preprocessing"
   ]
  },
  {
   "cell_type": "code",
   "execution_count": 217,
   "metadata": {},
   "outputs": [],
   "source": [
    "# People usually join sentences using more than one colon \n",
    "\n",
    "def ReplaceDoubleColon(inputString):\n",
    "    return inputString.replace(\"..\", \" \") \n",
    "\n",
    "data['Text'] = data['Text'].apply(lambda x: ReplaceDoubleColon(x))\n",
    "\n",
    "def ReplaceTripleColon(inputString):\n",
    "    return inputString.replace(\"...\", \" \") \n",
    "\n",
    "data['Text'] = data['Text'].apply(lambda x: ReplaceTripleColon(x))\n",
    "\n",
    "def ReplaceFourColon(inputString):\n",
    "    return inputString.replace(\"....\", \" \") \n",
    "\n",
    "data['Text'] = data['Text'].apply(lambda x: ReplaceFourColon(x))"
   ]
  },
  {
   "cell_type": "code",
   "execution_count": 218,
   "metadata": {},
   "outputs": [],
   "source": [
    "def textPattern(text):\n",
    "\n",
    "    # Clean the text\n",
    "    text = re.sub(r\"[^A-Za-z0-9^,!.\\/'+-=]\", \" \", text)\n",
    "    text = re.sub(r\" \\n \", \" \", text)\n",
    "    text = re.sub(r\"what's\", \"what is\", text)\n",
    "    text = re.sub(r\"\\'s\", \" \", text)\n",
    "    text = re.sub(r\"\\'ve\", \"have\", text)\n",
    "    text = re.sub(r\"can't\", \"can not\", text)\n",
    "    text = re.sub(r\"aren't\", \"are not\", text)\n",
    "    text = re.sub(r\"couldn't\", \"could not\", text)\n",
    "    text = re.sub(r\"didn't\", \"did not\", text)\n",
    "    text = re.sub(r\"doesn't\", \"does not\", text)\n",
    "    text = re.sub(r\"don't\", \"do not\", text)\n",
    "    text = re.sub(r\"hadn't\", \"had not\", text)\n",
    "    text = re.sub(r\"hasn't\", \"has not\", text)\n",
    "    text = re.sub(r\"haven't\", \"have not\", text)\n",
    "    text = re.sub(r\"isn't\", \"is not\", text)\n",
    "    text = re.sub(r\"shouldn't\", \"should not\", text)\n",
    "    text = re.sub(r\"wasn't\", \"was not\", text)\n",
    "    text = re.sub(r\"weren't\", \"were not\", text)\n",
    "    text = re.sub(r\"won't\", \"will not\", text)\n",
    "    text = re.sub(r\"wouldn't\", \"would not\", text)\n",
    "    text = re.sub(r\"mustn't\", \"must not\", text)\n",
    "    text = re.sub(r\"i'm\", \"i am\", text)\n",
    "    text = re.sub(r\"\\'re\", \"are\", text)\n",
    "    text = re.sub(r\",\", \" \", text)\n",
    "    text = re.sub(r\"\\.\", \" \", text)\n",
    "    text = re.sub(r\"!\", \" \", text)\n",
    "    text = re.sub(r\"\\/\", \" \", text)\n",
    "    text = re.sub(r\"\\^\", \" ^ \", text)\n",
    "    text = re.sub(r\"\\+\", \" \", text)\n",
    "    text = re.sub(r\"\\-\", \" - \", text)\n",
    "    text = re.sub(r\"\\= =\", \" \", text)\n",
    "    text = re.sub(r\"\\==\", \" \", text)\n",
    "    text = re.sub(r\"'\", \" \", text)\n",
    "    text = re.sub(r\"(\\d+)(k)\", r\"\\g<1>000\", text)\n",
    "    text = re.sub(r\":\", \" : \", text)\n",
    "    text = re.sub(r\"\\0s\", \"0\", text)\n",
    "    text = re.sub(r\" 9 11 \", \"911\", text)\n",
    "    text = re.sub(r\"\\s{2,}\", \" \", text)\n",
    "    return text\n",
    "\n",
    "data['Text'] = data['Text'].apply(lambda x: textPattern(x))"
   ]
  },
  {
   "cell_type": "code",
   "execution_count": 219,
   "metadata": {},
   "outputs": [
    {
     "data": {
      "text/plain": [
       "(10663, 2)"
      ]
     },
     "execution_count": 219,
     "metadata": {},
     "output_type": "execute_result"
    }
   ],
   "source": [
    "data.shape"
   ]
  },
  {
   "cell_type": "code",
   "execution_count": 220,
   "metadata": {},
   "outputs": [],
   "source": [
    "# Word Tokenization\n",
    "tokens = [word_tokenize(sen) for sen in data.Text]"
   ]
  },
  {
   "cell_type": "code",
   "execution_count": 221,
   "metadata": {},
   "outputs": [],
   "source": [
    "# Lower Case\n",
    "def lower_token(tokens): \n",
    "    return [w.lower() for w in tokens]    \n",
    "    \n",
    "lower_tokens = [lower_token(token) for token in tokens]"
   ]
  },
  {
   "cell_type": "code",
   "execution_count": 222,
   "metadata": {},
   "outputs": [],
   "source": [
    "# Remove Link\n",
    "\n",
    "def removeLink(token):\n",
    "    word = []\n",
    "    for w in token:\n",
    "        if not w.startswith('http'):\n",
    "            word.append(w)\n",
    "    return word \n",
    "    \n",
    "removedLink_tokens = [removeLink(token) for token in lower_tokens]"
   ]
  },
  {
   "cell_type": "code",
   "execution_count": 223,
   "metadata": {},
   "outputs": [],
   "source": [
    "# Word Lemmatization\n",
    "def lemmatization(token):\n",
    "    return [lemmatizer.lemmatize(w) for w in token] \n",
    "\n",
    "lemmatizer = WordNetLemmatizer()\n",
    "\n",
    "lemmatized_tokens = [lemmatization(token) for token in removedLink_tokens]"
   ]
  },
  {
   "cell_type": "code",
   "execution_count": 224,
   "metadata": {},
   "outputs": [],
   "source": [
    "filtered_words = [sen for sen in lemmatized_tokens]\n",
    "data['Text_Final'] = [' '.join(sen) for sen in filtered_words]\n",
    "data['tokens'] = filtered_words"
   ]
  },
  {
   "cell_type": "code",
   "execution_count": 225,
   "metadata": {},
   "outputs": [
    {
     "data": {
      "text/plain": [
       "(10663,)"
      ]
     },
     "execution_count": 225,
     "metadata": {},
     "output_type": "execute_result"
    }
   ],
   "source": [
    "data['Text_Final'].shape"
   ]
  },
  {
   "cell_type": "code",
   "execution_count": 226,
   "metadata": {},
   "outputs": [],
   "source": [
    "zero  = []\n",
    "one = []\n",
    "two = []\n",
    "for l in data.Label:\n",
    "    \n",
    "    if l == '0':\n",
    "        zero.append(1)\n",
    "        one.append(0)\n",
    "        two.append(0)\n",
    "    elif l == '1':\n",
    "        zero.append(0)\n",
    "        one.append(1)\n",
    "        two.append(0)\n",
    "    elif l == '2':\n",
    "        zero.append(0)\n",
    "        one.append(0)\n",
    "        two.append(1)\n",
    "        \n",
    "data['0']= zero\n",
    "data['1']= one\n",
    "data['2']= two\n",
    "\n",
    "data = data[['Text_Final', 'tokens', 'Label', '0', '1', '2']]"
   ]
  },
  {
   "cell_type": "code",
   "execution_count": 227,
   "metadata": {},
   "outputs": [
    {
     "data": {
      "text/html": [
       "<div>\n",
       "<style scoped>\n",
       "    .dataframe tbody tr th:only-of-type {\n",
       "        vertical-align: middle;\n",
       "    }\n",
       "\n",
       "    .dataframe tbody tr th {\n",
       "        vertical-align: top;\n",
       "    }\n",
       "\n",
       "    .dataframe thead th {\n",
       "        text-align: right;\n",
       "    }\n",
       "</style>\n",
       "<table border=\"1\" class=\"dataframe\">\n",
       "  <thead>\n",
       "    <tr style=\"text-align: right;\">\n",
       "      <th></th>\n",
       "      <th>Text_Final</th>\n",
       "      <th>tokens</th>\n",
       "      <th>Label</th>\n",
       "      <th>0</th>\n",
       "      <th>1</th>\n",
       "      <th>2</th>\n",
       "      <th>Category_id</th>\n",
       "    </tr>\n",
       "  </thead>\n",
       "  <tbody>\n",
       "    <tr>\n",
       "      <th>0</th>\n",
       "      <td>well done amp good job our brave muslim sister</td>\n",
       "      <td>[well, done, amp, good, job, our, brave, musli...</td>\n",
       "      <td>1</td>\n",
       "      <td>0</td>\n",
       "      <td>1</td>\n",
       "      <td>0</td>\n",
       "      <td>1</td>\n",
       "    </tr>\n",
       "    <tr>\n",
       "      <th>1</th>\n",
       "      <td>damn she fr spitting verse on the quran mashal...</td>\n",
       "      <td>[damn, she, fr, spitting, verse, on, the, qura...</td>\n",
       "      <td>1</td>\n",
       "      <td>0</td>\n",
       "      <td>1</td>\n",
       "      <td>0</td>\n",
       "      <td>1</td>\n",
       "    </tr>\n",
       "    <tr>\n",
       "      <th>2</th>\n",
       "      <td>msdhoni narendramodi you can retire from crick...</td>\n",
       "      <td>[msdhoni, narendramodi, you, can, retire, from...</td>\n",
       "      <td>0</td>\n",
       "      <td>1</td>\n",
       "      <td>0</td>\n",
       "      <td>0</td>\n",
       "      <td>0</td>\n",
       "    </tr>\n",
       "    <tr>\n",
       "      <th>3</th>\n",
       "      <td>cheating is the part of australian cricket tea...</td>\n",
       "      <td>[cheating, is, the, part, of, australian, cric...</td>\n",
       "      <td>0</td>\n",
       "      <td>1</td>\n",
       "      <td>0</td>\n",
       "      <td>0</td>\n",
       "      <td>0</td>\n",
       "    </tr>\n",
       "    <tr>\n",
       "      <th>4</th>\n",
       "      <td>happy muharram islamic new year</td>\n",
       "      <td>[happy, muharram, islamic, new, year]</td>\n",
       "      <td>1</td>\n",
       "      <td>0</td>\n",
       "      <td>1</td>\n",
       "      <td>0</td>\n",
       "      <td>1</td>\n",
       "    </tr>\n",
       "    <tr>\n",
       "      <th>5</th>\n",
       "      <td>salmannizami hello bloody muslim terrorist if ...</td>\n",
       "      <td>[salmannizami, hello, bloody, muslim, terroris...</td>\n",
       "      <td>2</td>\n",
       "      <td>0</td>\n",
       "      <td>0</td>\n",
       "      <td>1</td>\n",
       "      <td>2</td>\n",
       "    </tr>\n",
       "    <tr>\n",
       "      <th>6</th>\n",
       "      <td>saj pakpassion i wonder how he connected ertug...</td>\n",
       "      <td>[saj, pakpassion, i, wonder, how, he, connecte...</td>\n",
       "      <td>0</td>\n",
       "      <td>1</td>\n",
       "      <td>0</td>\n",
       "      <td>0</td>\n",
       "      <td>0</td>\n",
       "    </tr>\n",
       "    <tr>\n",
       "      <th>7</th>\n",
       "      <td>population jihad : one cricket team with two u...</td>\n",
       "      <td>[population, jihad, :, one, cricket, team, wit...</td>\n",
       "      <td>0</td>\n",
       "      <td>1</td>\n",
       "      <td>0</td>\n",
       "      <td>0</td>\n",
       "      <td>0</td>\n",
       "    </tr>\n",
       "    <tr>\n",
       "      <th>8</th>\n",
       "      <td>tarak9999 n t rama rao jr wish you a very happ...</td>\n",
       "      <td>[tarak9999, n, t, rama, rao, jr, wish, you, a,...</td>\n",
       "      <td>1</td>\n",
       "      <td>0</td>\n",
       "      <td>1</td>\n",
       "      <td>0</td>\n",
       "      <td>1</td>\n",
       "    </tr>\n",
       "  </tbody>\n",
       "</table>\n",
       "</div>"
      ],
      "text/plain": [
       "                                          Text_Final  \\\n",
       "0     well done amp good job our brave muslim sister   \n",
       "1  damn she fr spitting verse on the quran mashal...   \n",
       "2  msdhoni narendramodi you can retire from crick...   \n",
       "3  cheating is the part of australian cricket tea...   \n",
       "4                    happy muharram islamic new year   \n",
       "5  salmannizami hello bloody muslim terrorist if ...   \n",
       "6  saj pakpassion i wonder how he connected ertug...   \n",
       "7  population jihad : one cricket team with two u...   \n",
       "8  tarak9999 n t rama rao jr wish you a very happ...   \n",
       "\n",
       "                                              tokens Label  0  1  2  \\\n",
       "0  [well, done, amp, good, job, our, brave, musli...     1  0  1  0   \n",
       "1  [damn, she, fr, spitting, verse, on, the, qura...     1  0  1  0   \n",
       "2  [msdhoni, narendramodi, you, can, retire, from...     0  1  0  0   \n",
       "3  [cheating, is, the, part, of, australian, cric...     0  1  0  0   \n",
       "4              [happy, muharram, islamic, new, year]     1  0  1  0   \n",
       "5  [salmannizami, hello, bloody, muslim, terroris...     2  0  0  1   \n",
       "6  [saj, pakpassion, i, wonder, how, he, connecte...     0  1  0  0   \n",
       "7  [population, jihad, :, one, cricket, team, wit...     0  1  0  0   \n",
       "8  [tarak9999, n, t, rama, rao, jr, wish, you, a,...     1  0  1  0   \n",
       "\n",
       "  Category_id  \n",
       "0           1  \n",
       "1           1  \n",
       "2           0  \n",
       "3           0  \n",
       "4           1  \n",
       "5           2  \n",
       "6           0  \n",
       "7           0  \n",
       "8           1  "
      ]
     },
     "execution_count": 227,
     "metadata": {},
     "output_type": "execute_result"
    }
   ],
   "source": [
    "category_id = []\n",
    "for l in data.Label:\n",
    "    \n",
    "    if l == '0':\n",
    "        category_id.append('0')\n",
    "    elif l == '1':\n",
    "        category_id.append('1')\n",
    "    elif l == '2':\n",
    "        category_id.append('2')\n",
    "        \n",
    "data['Category_id'] = category_id\n",
    "\n",
    "data = data[['Text_Final', 'tokens', 'Label', '0', '1', '2', 'Category_id' ]]\n",
    "data.head(9)"
   ]
  },
  {
   "cell_type": "code",
   "execution_count": 228,
   "metadata": {},
   "outputs": [],
   "source": [
    "data.dropna(subset = [\"tokens\"], inplace=True)"
   ]
  },
  {
   "cell_type": "code",
   "execution_count": 229,
   "metadata": {},
   "outputs": [],
   "source": [
    "from io import StringIO\n",
    "category_id_df = data[['Label', 'Category_id']].drop_duplicates().sort_values('Category_id')\n",
    "category_to_label_dict = dict(category_id_df.values)\n",
    "label_to_category_dict = dict(category_id_df[['Category_id', 'Label']].values)"
   ]
  },
  {
   "cell_type": "markdown",
   "metadata": {},
   "source": [
    "#### Split Data into test and train\n",
    "We will use 90 % data for training and 20 % for testing. We use random state so every time we get the same training and testing data."
   ]
  },
  {
   "cell_type": "code",
   "execution_count": 230,
   "metadata": {},
   "outputs": [],
   "source": [
    "data_train, data_test = train_test_split(data, test_size=0.10, random_state=42)\n"
   ]
  },
  {
   "cell_type": "code",
   "execution_count": 231,
   "metadata": {},
   "outputs": [],
   "source": [
    "# # total training words\n",
    "totalTrainingWords = [word for tokens in data_train[\"tokens\"] for word in tokens]\n",
    "\n",
    "# # Storing Length of the training sentence\n",
    "lengthTrainingSentences = [len(tokens) for tokens in data_train[\"tokens\"]]\n",
    "\n",
    "# # training Vocabulary size\n",
    "trainingVocabSize = sorted(list(set(totalTrainingWords)))\n",
    "\n",
    "## Total number of lines\n",
    "linesCount = len(data_train[\"tokens\"])"
   ]
  },
  {
   "cell_type": "markdown",
   "metadata": {},
   "source": [
    "### Load Google News Word2Vec model"
   ]
  },
  {
   "cell_type": "code",
   "execution_count": 232,
   "metadata": {},
   "outputs": [
    {
     "data": {
      "text/plain": [
       "(1181931, 0)"
      ]
     },
     "execution_count": 232,
     "metadata": {},
     "output_type": "execute_result"
    }
   ],
   "source": [
    "# Convert Glove file to word2vec format (examples: uses 50 dimensions since it's faster)\n",
    "from gensim.scripts.glove2word2vec import glove2word2vec\n",
    "glove_input_file = 'Online_supplement_1 word vectors.csv'  # I unzipped in glove.6B subdirectory \n",
    "word2vec_output_file = 'glove.6B.300d.word2vec'\n",
    "glove2word2vec(glove_input_file, word2vec_output_file)"
   ]
  },
  {
   "cell_type": "code",
   "execution_count": 233,
   "metadata": {},
   "outputs": [],
   "source": [
    "# Use the converted Glove file\n",
    "filename = 'glove.6B.300d.word2vec'\n",
    "word2vec = KeyedVectors.load_word2vec_format(filename, binary=False)\n"
   ]
  },
  {
   "cell_type": "code",
   "execution_count": 234,
   "metadata": {},
   "outputs": [],
   "source": [
    "MAX_SEQUENCE_LENGTH = 150\n",
    "EMBEDDING_DIM = 50"
   ]
  },
  {
   "cell_type": "markdown",
   "metadata": {},
   "source": [
    "\n",
    "### Tokenize and Pad sequences"
   ]
  },
  {
   "cell_type": "code",
   "execution_count": 235,
   "metadata": {},
   "outputs": [
    {
     "name": "stdout",
     "output_type": "stream",
     "text": [
      "Found 15616 unique tokens.\n"
     ]
    }
   ],
   "source": [
    "tokenizer = Tokenizer(num_words=len(trainingVocabSize), lower=True, char_level=False)\n",
    "tokenizer.fit_on_texts(data_train[\"Text_Final\"].tolist())\n",
    "training_sequences = tokenizer.texts_to_sequences(data_train[\"Text_Final\"].tolist())\n",
    "\n",
    "train_word_index = tokenizer.word_index\n",
    "print('Found %s unique tokens.' % len(train_word_index))"
   ]
  },
  {
   "cell_type": "code",
   "execution_count": 236,
   "metadata": {},
   "outputs": [],
   "source": [
    "cnnTrainData = pad_sequences(training_sequences, maxlen=MAX_SEQUENCE_LENGTH)"
   ]
  },
  {
   "cell_type": "code",
   "execution_count": 237,
   "metadata": {},
   "outputs": [
    {
     "name": "stdout",
     "output_type": "stream",
     "text": [
      "(15617, 50)\n"
     ]
    }
   ],
   "source": [
    "train_embedding_weights = np.zeros((len(train_word_index)+1, EMBEDDING_DIM))\n",
    "for word,index in train_word_index.items():\n",
    "    train_embedding_weights[index,:] = word2vec[word] if word in word2vec else np.random.rand(EMBEDDING_DIM)\n",
    "print(train_embedding_weights.shape)"
   ]
  },
  {
   "cell_type": "code",
   "execution_count": 238,
   "metadata": {},
   "outputs": [],
   "source": [
    "test_sequences = tokenizer.texts_to_sequences(data_test[\"Text_Final\"].tolist())\n",
    "cnnTestData = pad_sequences(test_sequences, maxlen= MAX_SEQUENCE_LENGTH)"
   ]
  },
  {
   "cell_type": "markdown",
   "metadata": {},
   "source": [
    "### Define CNN"
   ]
  },
  {
   "cell_type": "markdown",
   "metadata": {},
   "source": [
    "The model is from the paper 'Convolutional Neural Networks for Sentence Classification' we have updated the network according to our requirement [1]"
   ]
  },
  {
   "cell_type": "code",
   "execution_count": 239,
   "metadata": {},
   "outputs": [],
   "source": [
    "label_names = ['0', '1', '2']"
   ]
  },
  {
   "cell_type": "code",
   "execution_count": 240,
   "metadata": {},
   "outputs": [],
   "source": [
    "def ConvolutionalNeuralNet(embeddings, max_sequence_length, num_words, embedding_dim, labels_index):\n",
    "    \n",
    "    # Embedding layer\n",
    "    embedding_layer = Embedding(num_words,\n",
    "                            embedding_dim,\n",
    "                            weights=[embeddings],\n",
    "                            input_length=max_sequence_length,\n",
    "                            trainable=False)\n",
    "    \n",
    "    sequence_input = Input(shape=(max_sequence_length,), dtype='int32')\n",
    "    embedded_sequences = embedding_layer(sequence_input)\n",
    "\n",
    "    convs = []\n",
    "    \n",
    "    #Kernal (window) size\n",
    "    filter_sizes = [2,3,4,5]\n",
    "\n",
    "    # Convolution Layer and max-pooling\n",
    "    for filter_size in filter_sizes:\n",
    "        l_conv = Conv1D(filters=512, kernel_size=filter_size, activation='relu')(embedded_sequences)\n",
    "        l_pool = GlobalMaxPooling1D()(l_conv)\n",
    "        convs.append(l_pool)\n",
    "        \n",
    "    l_merge = concatenate(convs, axis=1)\n",
    "    \n",
    "    # softmax layer for multiclass identification \n",
    "    x = Dropout(0.1)(l_merge)  \n",
    "    x = Dense(512, activation='relu')(x)\n",
    "    x = Dropout(0.2)(x)\n",
    "    preds = Dense(labels_index, activation='softmax')(x)\n",
    "\n",
    "    model = Model(sequence_input, preds)\n",
    "    model.compile(loss= 'categorical_crossentropy',\n",
    "                 optimizer = keras.optimizers.RMSprop(learning_rate=1e-3),\n",
    "#                    optimizer='adam',\n",
    "                  metrics=['accuracy'])\n",
    "    return model"
   ]
  },
  {
   "cell_type": "code",
   "execution_count": 241,
   "metadata": {},
   "outputs": [],
   "source": [
    "# Splitting train data into X_train and y_train\n",
    "y_train = data_train[label_names].values\n",
    "x_train = cnnTrainData\n",
    "y_tr = y_train"
   ]
  },
  {
   "cell_type": "code",
   "execution_count": 242,
   "metadata": {},
   "outputs": [],
   "source": [
    "# Splitting train data into X_test and y_test\n",
    "y_test = data_test[label_names].values\n",
    "x_test = cnnTestData\n",
    "y_tst = y_test"
   ]
  },
  {
   "cell_type": "code",
   "execution_count": 243,
   "metadata": {},
   "outputs": [],
   "source": [
    "model = ConvolutionalNeuralNet(train_embedding_weights, MAX_SEQUENCE_LENGTH, len(train_word_index)+1, EMBEDDING_DIM, len(list(label_names)))"
   ]
  },
  {
   "cell_type": "code",
   "execution_count": 244,
   "metadata": {},
   "outputs": [
    {
     "name": "stdout",
     "output_type": "stream",
     "text": [
      "Model: \"model_12\"\n",
      "__________________________________________________________________________________________________\n",
      "Layer (type)                    Output Shape         Param #     Connected to                     \n",
      "==================================================================================================\n",
      "input_13 (InputLayer)           [(None, 150)]        0                                            \n",
      "__________________________________________________________________________________________________\n",
      "embedding_12 (Embedding)        (None, 150, 50)      780850      input_13[0][0]                   \n",
      "__________________________________________________________________________________________________\n",
      "conv1d_48 (Conv1D)              (None, 149, 512)     51712       embedding_12[0][0]               \n",
      "__________________________________________________________________________________________________\n",
      "conv1d_49 (Conv1D)              (None, 148, 512)     77312       embedding_12[0][0]               \n",
      "__________________________________________________________________________________________________\n",
      "conv1d_50 (Conv1D)              (None, 147, 512)     102912      embedding_12[0][0]               \n",
      "__________________________________________________________________________________________________\n",
      "conv1d_51 (Conv1D)              (None, 146, 512)     128512      embedding_12[0][0]               \n",
      "__________________________________________________________________________________________________\n",
      "global_max_pooling1d_48 (Global (None, 512)          0           conv1d_48[0][0]                  \n",
      "__________________________________________________________________________________________________\n",
      "global_max_pooling1d_49 (Global (None, 512)          0           conv1d_49[0][0]                  \n",
      "__________________________________________________________________________________________________\n",
      "global_max_pooling1d_50 (Global (None, 512)          0           conv1d_50[0][0]                  \n",
      "__________________________________________________________________________________________________\n",
      "global_max_pooling1d_51 (Global (None, 512)          0           conv1d_51[0][0]                  \n",
      "__________________________________________________________________________________________________\n",
      "concatenate_12 (Concatenate)    (None, 2048)         0           global_max_pooling1d_48[0][0]    \n",
      "                                                                 global_max_pooling1d_49[0][0]    \n",
      "                                                                 global_max_pooling1d_50[0][0]    \n",
      "                                                                 global_max_pooling1d_51[0][0]    \n",
      "__________________________________________________________________________________________________\n",
      "dropout_24 (Dropout)            (None, 2048)         0           concatenate_12[0][0]             \n",
      "__________________________________________________________________________________________________\n",
      "dense_24 (Dense)                (None, 512)          1049088     dropout_24[0][0]                 \n",
      "__________________________________________________________________________________________________\n",
      "dropout_25 (Dropout)            (None, 512)          0           dense_24[0][0]                   \n",
      "__________________________________________________________________________________________________\n",
      "dense_25 (Dense)                (None, 3)            1539        dropout_25[0][0]                 \n",
      "==================================================================================================\n",
      "Total params: 2,191,925\n",
      "Trainable params: 1,411,075\n",
      "Non-trainable params: 780,850\n",
      "__________________________________________________________________________________________________\n"
     ]
    }
   ],
   "source": [
    "model.summary()"
   ]
  },
  {
   "cell_type": "markdown",
   "metadata": {},
   "source": [
    "### Train CNN"
   ]
  },
  {
   "cell_type": "code",
   "execution_count": 245,
   "metadata": {},
   "outputs": [],
   "source": [
    "num_epochs = 10\n",
    "batch_size = 512"
   ]
  },
  {
   "cell_type": "code",
   "execution_count": 246,
   "metadata": {},
   "outputs": [
    {
     "name": "stdout",
     "output_type": "stream",
     "text": [
      "Epoch 1/10\n",
      "17/17 [==============================] - 12s 731ms/step - loss: 2.0097 - accuracy: 0.4103 - val_loss: 1.0376 - val_accuracy: 0.3260\n",
      "Epoch 2/10\n",
      "17/17 [==============================] - 13s 744ms/step - loss: 1.0001 - accuracy: 0.4957 - val_loss: 0.8463 - val_accuracy: 0.7521\n",
      "Epoch 3/10\n",
      "17/17 [==============================] - 12s 718ms/step - loss: 0.8549 - accuracy: 0.6018 - val_loss: 0.8109 - val_accuracy: 0.5292\n",
      "Epoch 4/10\n",
      "17/17 [==============================] - 13s 739ms/step - loss: 0.6724 - accuracy: 0.7028 - val_loss: 2.2468 - val_accuracy: 0.3781\n",
      "Epoch 5/10\n",
      "17/17 [==============================] - 12s 733ms/step - loss: 0.6304 - accuracy: 0.7720 - val_loss: 0.7170 - val_accuracy: 0.6885\n",
      "Epoch 6/10\n",
      "17/17 [==============================] - 13s 737ms/step - loss: 0.5098 - accuracy: 0.7923 - val_loss: 0.3786 - val_accuracy: 0.8813\n",
      "Epoch 7/10\n",
      "17/17 [==============================] - 13s 736ms/step - loss: 0.3983 - accuracy: 0.8522 - val_loss: 0.6290 - val_accuracy: 0.7063\n",
      "Epoch 8/10\n",
      "17/17 [==============================] - 13s 736ms/step - loss: 0.3732 - accuracy: 0.8594 - val_loss: 0.2831 - val_accuracy: 0.9021\n",
      "Epoch 9/10\n",
      "17/17 [==============================] - 13s 742ms/step - loss: 0.3208 - accuracy: 0.8763 - val_loss: 0.2866 - val_accuracy: 0.8969\n",
      "Epoch 10/10\n",
      "17/17 [==============================] - 12s 735ms/step - loss: 0.2940 - accuracy: 0.8885 - val_loss: 0.2859 - val_accuracy: 0.8854\n"
     ]
    }
   ],
   "source": [
    "history = model.fit(x_train, y_tr, epochs=num_epochs, validation_split=0.1, shuffle=True, batch_size=batch_size)"
   ]
  },
  {
   "cell_type": "code",
   "execution_count": 247,
   "metadata": {},
   "outputs": [
    {
     "name": "stdout",
     "output_type": "stream",
     "text": [
      "34/34 [==============================] - 1s 15ms/step - loss: 0.2418 - accuracy: 0.8969\n"
     ]
    }
   ],
   "source": [
    "# evaluate on test data\n",
    "results = model.evaluate(x_test, y_tst)"
   ]
  },
  {
   "cell_type": "code",
   "execution_count": 248,
   "metadata": {},
   "outputs": [
    {
     "name": "stdout",
     "output_type": "stream",
     "text": [
      "2/2 [==============================] - 0s 10ms/step\n"
     ]
    }
   ],
   "source": [
    "# predict model\n",
    "predictions = model.predict(cnnTestData, batch_size=1024, verbose=1)"
   ]
  },
  {
   "cell_type": "markdown",
   "metadata": {},
   "source": [
    "### Testing few sentences using our model"
   ]
  },
  {
   "cell_type": "code",
   "execution_count": 249,
   "metadata": {},
   "outputs": [],
   "source": [
    "\n",
    "labels = ['0', '1', '2']\n",
    "\n",
    "def makeprediction(texts):\n",
    "    tk = Tokenizer()\n",
    "    tk.fit_on_texts(texts)\n",
    "    index_list = tk.texts_to_sequences(texts)\n",
    "    x_train = pad_sequences(index_list, maxlen=150)\n",
    "    pred = model.predict(x_train)\n",
    "    result = labels[np.argmax(pred)]\n",
    "    return result"
   ]
  },
  {
   "cell_type": "code",
   "execution_count": 250,
   "metadata": {},
   "outputs": [],
   "source": [
    "prediction_labels=[]\n",
    "for p in predictions:\n",
    "    prediction_labels.append(labels[np.argmax(p)])"
   ]
  },
  {
   "cell_type": "code",
   "execution_count": 251,
   "metadata": {},
   "outputs": [
    {
     "data": {
      "text/plain": [
       "0.8969072164948454"
      ]
     },
     "execution_count": 251,
     "metadata": {},
     "output_type": "execute_result"
    }
   ],
   "source": [
    "sum(data_test.Label==prediction_labels)/len(prediction_labels)"
   ]
  },
  {
   "cell_type": "code",
   "execution_count": 252,
   "metadata": {},
   "outputs": [
    {
     "data": {
      "text/plain": [
       "1    382\n",
       "0    350\n",
       "2    335\n",
       "Name: Label, dtype: int64"
      ]
     },
     "execution_count": 252,
     "metadata": {},
     "output_type": "execute_result"
    }
   ],
   "source": [
    "data_test.Label.value_counts()"
   ]
  },
  {
   "cell_type": "code",
   "execution_count": 253,
   "metadata": {},
   "outputs": [
    {
     "data": {
      "image/png": "[encoded data removed]",
      "text/plain": [
       "<Figure size 432x288 with 2 Axes>"
      ]
     },
     "metadata": {
      "needs_background": "light"
     },
     "output_type": "display_data"
    }
   ],
   "source": [
    "plt.figure(1)\n",
    "# summarize history for accuracy\n",
    "plt.subplot(211)\n",
    "plt.plot(history.history['accuracy'])\n",
    "plt.plot(history.history['val_accuracy'])\n",
    "plt.title('model accuracy')\n",
    "plt.ylabel('accuracy')\n",
    "plt.xlabel('epoch')\n",
    "plt.legend(['train', 'val'], loc='upper left')\n",
    "# summarize history for loss\n",
    "plt.subplot(212)\n",
    "plt.plot(history.history['loss'])\n",
    "plt.plot(history.history['val_loss'])\n",
    "plt.title('model loss')\n",
    "plt.ylabel('loss')\n",
    "plt.xlabel('epoch')\n",
    "plt.legend(['train', 'val'], loc='upper left')\n",
    "plt.tight_layout()\n",
    "plt.show()"
   ]
  },
  {
   "cell_type": "code",
   "execution_count": 254,
   "metadata": {},
   "outputs": [
    {
     "name": "stdout",
     "output_type": "stream",
     "text": [
      "Confusion Matrix :\n",
      "[[311  28  11]\n",
      " [  3 360  19]\n",
      " [ 12  37 286]]\n",
      "Accuracy Score : 0.8969072164948454\n",
      "Report : \n",
      "              precision    recall  f1-score   support\n",
      "\n",
      "           0       0.95      0.89      0.92       350\n",
      "           1       0.85      0.94      0.89       382\n",
      "           2       0.91      0.85      0.88       335\n",
      "\n",
      "    accuracy                           0.90      1067\n",
      "   macro avg       0.90      0.89      0.90      1067\n",
      "weighted avg       0.90      0.90      0.90      1067\n",
      "\n"
     ]
    }
   ],
   "source": [
    "results = confusion_matrix(data_test.Label, prediction_labels)\n",
    "print ('Confusion Matrix :')\n",
    "print(results) \n",
    "print ('Accuracy Score :',accuracy_score(data_test.Label, prediction_labels))\n",
    "print ('Report : ')\n",
    "print (classification_report(data_test.Label, prediction_labels))"
   ]
  },
  {
   "cell_type": "code",
   "execution_count": 255,
   "metadata": {},
   "outputs": [
    {
     "name": "stdout",
     "output_type": "stream",
     "text": [
      "                        Convolution Neural Network\n"
     ]
    },
    {
     "data": {
      "image/png": "[encoded data removed]",
      "text/plain": [
       "<Figure size 360x360 with 2 Axes>"
      ]
     },
     "metadata": {
      "needs_background": "light"
     },
     "output_type": "display_data"
    }
   ],
   "source": [
    "from sklearn.metrics import confusion_matrix\n",
    "print(\"                        Convolution Neural Network\")\n",
    "conf_mat = confusion_matrix(data_test.Label, prediction_labels)\n",
    "fig, ax = plt.subplots(figsize=(5,5))\n",
    "sns.heatmap(conf_mat, annot=True, fmt='d', cmap ='YlGnBu',\n",
    "            xticklabels=category_id_df.Label.values, yticklabels=category_id_df.Label.values)\n",
    "plt.ylabel('Actual')\n",
    "plt.xlabel('Predicted')\n",
    "plt.show()"
   ]
  },
  {
   "cell_type": "markdown",
   "metadata": {},
   "source": [
    "### Testing CNN using KFold cross validation"
   ]
  },
  {
   "cell_type": "code",
   "execution_count": 256,
   "metadata": {},
   "outputs": [
    {
     "name": "stdout",
     "output_type": "stream",
     "text": [
      "Fold:  1\n",
      "Epoch 1/5\n",
      "270/270 [==============================] - 17s 62ms/step - loss: 0.6622 - accuracy: 0.7223 - val_loss: 0.2681 - val_accuracy: 0.8948\n",
      "Epoch 2/5\n",
      "270/270 [==============================] - 17s 61ms/step - loss: 0.3082 - accuracy: 0.8808 - val_loss: 0.2244 - val_accuracy: 0.9156\n",
      "Epoch 3/5\n",
      "270/270 [==============================] - 16s 61ms/step - loss: 0.2481 - accuracy: 0.9088 - val_loss: 0.2062 - val_accuracy: 0.9250\n",
      "Epoch 4/5\n",
      "270/270 [==============================] - 17s 61ms/step - loss: 0.2152 - accuracy: 0.9203 - val_loss: 0.2926 - val_accuracy: 0.8802\n",
      "Epoch 5/5\n",
      "270/270 [==============================] - 17s 61ms/step - loss: 0.2042 - accuracy: 0.9272 - val_loss: 0.2131 - val_accuracy: 0.9292\n",
      "Results for current fold:\n",
      "9/9 [==============================] - 0s 44ms/step - loss: 0.2620 - accuracy: 0.9175\n",
      "Fold:  2\n",
      "Epoch 1/5\n",
      "270/270 [==============================] - 17s 62ms/step - loss: 0.7129 - accuracy: 0.7025 - val_loss: 0.2957 - val_accuracy: 0.8885\n",
      "Epoch 2/5\n",
      "270/270 [==============================] - 16s 60ms/step - loss: 0.3108 - accuracy: 0.8760 - val_loss: 0.2682 - val_accuracy: 0.8885\n",
      "Epoch 3/5\n",
      "270/270 [==============================] - 16s 61ms/step - loss: 0.2627 - accuracy: 0.8998 - val_loss: 0.2058 - val_accuracy: 0.9250\n",
      "Epoch 4/5\n",
      "270/270 [==============================] - 16s 61ms/step - loss: 0.2314 - accuracy: 0.9160 - val_loss: 0.1825 - val_accuracy: 0.9531\n",
      "Epoch 5/5\n",
      "270/270 [==============================] - 17s 62ms/step - loss: 0.2045 - accuracy: 0.9251 - val_loss: 0.1801 - val_accuracy: 0.9521\n",
      "Results for current fold:\n",
      "9/9 [==============================] - 0s 46ms/step - loss: 0.1927 - accuracy: 0.9391\n",
      "Fold:  3\n",
      "Epoch 1/5\n",
      "270/270 [==============================] - 17s 62ms/step - loss: 0.6886 - accuracy: 0.7089 - val_loss: 0.4041 - val_accuracy: 0.8385\n",
      "Epoch 2/5\n",
      "270/270 [==============================] - 17s 61ms/step - loss: 0.3184 - accuracy: 0.8704 - val_loss: 0.2236 - val_accuracy: 0.9208\n",
      "Epoch 3/5\n",
      "270/270 [==============================] - 17s 62ms/step - loss: 0.2550 - accuracy: 0.9032 - val_loss: 0.3005 - val_accuracy: 0.8906\n",
      "Epoch 4/5\n",
      "270/270 [==============================] - 17s 61ms/step - loss: 0.2280 - accuracy: 0.9207 - val_loss: 0.2172 - val_accuracy: 0.9260\n",
      "Epoch 5/5\n",
      "270/270 [==============================] - 17s 63ms/step - loss: 0.2056 - accuracy: 0.9260 - val_loss: 0.2189 - val_accuracy: 0.9240\n",
      "Results for current fold:\n",
      "9/9 [==============================] - 0s 46ms/step - loss: 0.2196 - accuracy: 0.9335\n",
      "Fold:  4\n",
      "Epoch 1/5\n",
      "270/270 [==============================] - 17s 62ms/step - loss: 0.6559 - accuracy: 0.7241 - val_loss: 0.3593 - val_accuracy: 0.8260\n",
      "Epoch 2/5\n",
      "270/270 [==============================] - 17s 61ms/step - loss: 0.3199 - accuracy: 0.8680 - val_loss: 0.2452 - val_accuracy: 0.9208\n",
      "Epoch 3/5\n",
      "270/270 [==============================] - 17s 61ms/step - loss: 0.2601 - accuracy: 0.9031 - val_loss: 0.5934 - val_accuracy: 0.8198\n",
      "Epoch 4/5\n",
      "270/270 [==============================] - 16s 60ms/step - loss: 0.2261 - accuracy: 0.9189 - val_loss: 0.3491 - val_accuracy: 0.8656\n",
      "Epoch 5/5\n",
      "270/270 [==============================] - 16s 60ms/step - loss: 0.2026 - accuracy: 0.9294 - val_loss: 0.2129 - val_accuracy: 0.9146\n",
      "Results for current fold:\n",
      "9/9 [==============================] - 0s 44ms/step - loss: 0.1892 - accuracy: 0.9325\n",
      "Fold:  5\n",
      "Epoch 1/5\n",
      "270/270 [==============================] - 16s 61ms/step - loss: 0.6442 - accuracy: 0.7398 - val_loss: 0.3519 - val_accuracy: 0.8542\n",
      "Epoch 2/5\n",
      "270/270 [==============================] - 16s 60ms/step - loss: 0.2955 - accuracy: 0.8901 - val_loss: 0.2551 - val_accuracy: 0.9010\n",
      "Epoch 3/5\n",
      "270/270 [==============================] - 16s 60ms/step - loss: 0.2464 - accuracy: 0.9096 - val_loss: 0.2967 - val_accuracy: 0.8979\n",
      "Epoch 4/5\n",
      "270/270 [==============================] - 16s 61ms/step - loss: 0.2205 - accuracy: 0.9222 - val_loss: 0.1955 - val_accuracy: 0.9365\n",
      "Epoch 5/5\n",
      "270/270 [==============================] - 16s 60ms/step - loss: 0.2036 - accuracy: 0.9267 - val_loss: 0.2074 - val_accuracy: 0.9198\n",
      "Results for current fold:\n",
      "9/9 [==============================] - 0s 46ms/step - loss: 0.1838 - accuracy: 0.9363\n",
      "Fold:  6\n",
      "Epoch 1/5\n",
      "270/270 [==============================] - 17s 62ms/step - loss: 0.6922 - accuracy: 0.7075 - val_loss: 0.4373 - val_accuracy: 0.8000\n",
      "Epoch 2/5\n",
      "270/270 [==============================] - 16s 61ms/step - loss: 0.3094 - accuracy: 0.8740 - val_loss: 0.2476 - val_accuracy: 0.9031\n",
      "Epoch 3/5\n",
      "270/270 [==============================] - 16s 61ms/step - loss: 0.2540 - accuracy: 0.9047 - val_loss: 0.2273 - val_accuracy: 0.9042\n",
      "Epoch 4/5\n",
      "270/270 [==============================] - 17s 61ms/step - loss: 0.2247 - accuracy: 0.9159 - val_loss: 0.2407 - val_accuracy: 0.9187\n",
      "Epoch 5/5\n",
      "270/270 [==============================] - 17s 61ms/step - loss: 0.1952 - accuracy: 0.9308 - val_loss: 0.1870 - val_accuracy: 0.9365\n",
      "Results for current fold:\n",
      "9/9 [==============================] - 0s 45ms/step - loss: 0.1634 - accuracy: 0.9419\n",
      "Fold:  7\n",
      "Epoch 1/5\n",
      "270/270 [==============================] - 17s 63ms/step - loss: 0.6743 - accuracy: 0.7277 - val_loss: 0.2968 - val_accuracy: 0.8854\n",
      "Epoch 2/5\n",
      "270/270 [==============================] - 17s 62ms/step - loss: 0.3185 - accuracy: 0.8752 - val_loss: 0.3888 - val_accuracy: 0.8406\n",
      "Epoch 3/5\n",
      "270/270 [==============================] - 17s 62ms/step - loss: 0.2680 - accuracy: 0.8994 - val_loss: 0.2343 - val_accuracy: 0.9062\n",
      "Epoch 4/5\n",
      "270/270 [==============================] - 17s 62ms/step - loss: 0.2345 - accuracy: 0.9076 - val_loss: 0.2088 - val_accuracy: 0.9135\n",
      "Epoch 5/5\n",
      "270/270 [==============================] - 17s 61ms/step - loss: 0.2083 - accuracy: 0.9255 - val_loss: 0.3721 - val_accuracy: 0.9031\n",
      "Results for current fold:\n",
      "9/9 [==============================] - 0s 47ms/step - loss: 0.3914 - accuracy: 0.8969\n",
      "Fold:  8\n",
      "Epoch 1/5\n",
      "270/270 [==============================] - 17s 62ms/step - loss: 0.6749 - accuracy: 0.7162 - val_loss: 0.3655 - val_accuracy: 0.8396\n",
      "Epoch 2/5\n",
      "270/270 [==============================] - 17s 62ms/step - loss: 0.2995 - accuracy: 0.8864 - val_loss: 0.2611 - val_accuracy: 0.8969\n",
      "Epoch 3/5\n",
      "270/270 [==============================] - 16s 61ms/step - loss: 0.2428 - accuracy: 0.9094 - val_loss: 0.2197 - val_accuracy: 0.9281\n",
      "Epoch 4/5\n",
      "270/270 [==============================] - 17s 61ms/step - loss: 0.2235 - accuracy: 0.9222 - val_loss: 0.2749 - val_accuracy: 0.8885\n",
      "Epoch 5/5\n",
      "270/270 [==============================] - 17s 63ms/step - loss: 0.1960 - accuracy: 0.9339 - val_loss: 0.1883 - val_accuracy: 0.9302\n",
      "Results for current fold:\n",
      "9/9 [==============================] - 0s 43ms/step - loss: 0.1673 - accuracy: 0.9475\n",
      "Fold:  9\n",
      "Epoch 1/5\n",
      "270/270 [==============================] - 17s 61ms/step - loss: 0.6524 - accuracy: 0.7208 - val_loss: 0.3949 - val_accuracy: 0.8104\n",
      "Epoch 2/5\n",
      "270/270 [==============================] - 17s 61ms/step - loss: 0.3086 - accuracy: 0.8768 - val_loss: 0.2922 - val_accuracy: 0.8865\n",
      "Epoch 3/5\n",
      "270/270 [==============================] - 17s 62ms/step - loss: 0.2523 - accuracy: 0.9072 - val_loss: 0.3013 - val_accuracy: 0.8802\n",
      "Epoch 4/5\n",
      "270/270 [==============================] - 17s 62ms/step - loss: 0.2288 - accuracy: 0.9174 - val_loss: 0.1997 - val_accuracy: 0.9292\n",
      "Epoch 5/5\n",
      "270/270 [==============================] - 17s 61ms/step - loss: 0.2022 - accuracy: 0.9253 - val_loss: 0.1804 - val_accuracy: 0.9375\n",
      "Results for current fold:\n",
      "9/9 [==============================] - 0s 46ms/step - loss: 0.1628 - accuracy: 0.9438\n",
      "Fold:  10\n",
      "Epoch 1/5\n",
      "270/270 [==============================] - 17s 62ms/step - loss: 0.6514 - accuracy: 0.7239 - val_loss: 0.4000 - val_accuracy: 0.8323\n",
      "Epoch 2/5\n",
      "270/270 [==============================] - 16s 61ms/step - loss: 0.3082 - accuracy: 0.8754 - val_loss: 0.2875 - val_accuracy: 0.8896\n",
      "Epoch 3/5\n",
      "270/270 [==============================] - 16s 61ms/step - loss: 0.2493 - accuracy: 0.9060 - val_loss: 0.3465 - val_accuracy: 0.8635\n",
      "Epoch 4/5\n",
      "270/270 [==============================] - 16s 61ms/step - loss: 0.2192 - accuracy: 0.9169 - val_loss: 0.2527 - val_accuracy: 0.9010\n",
      "Epoch 5/5\n",
      "270/270 [==============================] - 16s 61ms/step - loss: 0.2021 - accuracy: 0.9283 - val_loss: 0.2996 - val_accuracy: 0.9115\n",
      "Results for current fold:\n",
      "9/9 [==============================] - 0s 45ms/step - loss: 0.2478 - accuracy: 0.9185\n"
     ]
    }
   ],
   "source": [
    "from sklearn.model_selection import StratifiedKFold\n",
    "from scipy.stats import zscore\n",
    "from sklearn import metrics\n",
    "import tensorflow as tf\n",
    "import random\n",
    "\n",
    "f_score=[]\n",
    "fold = 10\n",
    "label_names = ['0', '1', '2']\n",
    "num_epochs = 5\n",
    "batch_size = 32\n",
    "#oos_y = []\n",
    "#oos_pred = []\n",
    "results = []\n",
    "#for train, test in kf.split(data[\"tokens\"], data['Label']):\n",
    "\n",
    "for i in range(fold):\n",
    "    print(\"Fold: \", i+1)\n",
    "    random_num = np.random.randint(1,7000, 1)[0]\n",
    "    data_train, data_test = train_test_split(data, test_size=0.10, shuffle = True, random_state = random_num)\n",
    "\n",
    "    # # total training words\n",
    "    totalTrainingWords = [word for tokens in data_train[\"tokens\"] for word in tokens]\n",
    "\n",
    "    # # Storing Length of the training sentence\n",
    "    lengthTrainingSentences = [len(tokens) for tokens in data_train[\"tokens\"]]\n",
    "\n",
    "    # # training Vocabulary size\n",
    "    trainingVocabSize = sorted(list(set(totalTrainingWords)))\n",
    "\n",
    "    ## Total number of lines\n",
    "    linesCount = len(data_train[\"tokens\"])\n",
    "    \n",
    "    tokenizer = Tokenizer(num_words=len(trainingVocabSize), lower=True, char_level=False)\n",
    "    tokenizer.fit_on_texts(data_train[\"Text_Final\"].tolist())\n",
    "    training_sequences = tokenizer.texts_to_sequences(data_train[\"Text_Final\"].tolist())\n",
    "\n",
    "    train_word_index = tokenizer.word_index\n",
    "    cnnTrainData = pad_sequences(training_sequences, maxlen=MAX_SEQUENCE_LENGTH)\n",
    "    \n",
    "    train_embedding_weights = np.zeros((len(train_word_index)+1, EMBEDDING_DIM))\n",
    "    \n",
    "    for word,index in train_word_index.items():\n",
    "        train_embedding_weights[index,:] = word2vec[word] if word in word2vec else np.random.rand(EMBEDDING_DIM)\n",
    "        \n",
    "    test_sequences = tokenizer.texts_to_sequences(data_test[\"Text_Final\"].tolist())\n",
    "    cnnTestData = pad_sequences(test_sequences, maxlen= MAX_SEQUENCE_LENGTH)\n",
    "    \n",
    "    # Splitting train data into X_train and y_train\n",
    "    y_train = data_train[label_names].values\n",
    "    x_train = cnnTrainData\n",
    "    y_tr = y_train\n",
    "    \n",
    "    # Splitting train data into X_test and y_test\n",
    "    y_test = data_test[label_names].values\n",
    "    x_test = cnnTestData\n",
    "    y_tst = y_test\n",
    "    \n",
    "    # create model\n",
    "    model = ConvolutionalNeuralNet(train_embedding_weights, MAX_SEQUENCE_LENGTH, len(train_word_index)+1, EMBEDDING_DIM, len(list(label_names)))\n",
    "    \n",
    "    #Train Model\n",
    "    history = model.fit(x_train, y_tr, epochs=num_epochs, validation_split=0.1, shuffle=True, batch_size=batch_size)\n",
    "      \n",
    "    # model evaluate\n",
    "    \n",
    "    print(\"Results for current fold:\")\n",
    "    results.append(model.evaluate(x_test, y_tst, batch_size=128))\n",
    "\n",
    "model.save('model_CNN.h5')    "
   ]
  },
  {
   "cell_type": "code",
   "execution_count": 257,
   "metadata": {},
   "outputs": [
    {
     "name": "stdout",
     "output_type": "stream",
     "text": [
      "Kfold Mean:  0.9307403922080993\n"
     ]
    }
   ],
   "source": [
    "import statistics \n",
    "\n",
    "score = []\n",
    "for i in results:\n",
    "    score.append(i[1])\n",
    "x = statistics.mean(score)\n",
    "    \n",
    "print(\"Kfold Mean: \", x)"
   ]
  },
  {
   "cell_type": "code",
   "execution_count": 258,
   "metadata": {},
   "outputs": [],
   "source": [
    "# translator\n",
    "translator = Translator()"
   ]
  },
  {
   "cell_type": "code",
   "execution_count": 259,
   "metadata": {},
   "outputs": [
    {
     "name": "stdout",
     "output_type": "stream",
     "text": [
      "Hindi:  इसलाम सुंदर है\n",
      "Translated: Islam is beautiful\n",
      "Predicted Label:  2\n"
     ]
    }
   ],
   "source": [
    "\n",
    "# 1\n",
    "hin_text =  \"इसलाम सुंदर है\"\n",
    "print(\"Hindi: \", hin_text)\n",
    "\n",
    "trans = translator.translate(hin_text, dest='en')\n",
    "print('Translated:', trans.text)\n",
    "texts = [trans.text]\n",
    "print('Predicted Label: ',makeprediction(texts))"
   ]
  },
  {
   "cell_type": "code",
   "execution_count": 260,
   "metadata": {},
   "outputs": [
    {
     "name": "stdout",
     "output_type": "stream",
     "text": [
      "Hindi:   समाज वादी  पार्टी  जिंदाबाद \n",
      "Translated: Samajwadi Party Zindabad\n",
      "Predicted Label:  2\n"
     ]
    }
   ],
   "source": [
    "# 0\n",
    "hin_text =  \" समाज वादी  पार्टी  जिंदाबाद \"\n",
    "print(\"Hindi: \", hin_text)\n",
    "\n",
    "trans = translator.translate(hin_text, dest='en')\n",
    "print('Translated:', trans.text)\n",
    "texts = [trans.text]\n",
    "print('Predicted Label: ',makeprediction(texts))"
   ]
  },
  {
   "cell_type": "code",
   "execution_count": 265,
   "metadata": {},
   "outputs": [
    {
     "name": "stdout",
     "output_type": "stream",
     "text": [
      "Hindi:  'गाजा में दीवाली की ढेरो बधाई मित्रो 😊💐  #IsraeliBombing 😂😂\n",
      "Translated: 'Happy Diwali greetings in Gaza Friends 😊💐 #IsraeliBombing 😂😂\n",
      "Predicted Label:  0\n"
     ]
    }
   ],
   "source": [
    "# 2\n",
    "hin_text =  \"'गाजा में दीवाली की ढेरो बधाई मित्रो 😊💐  #IsraeliBombing 😂😂\"\n",
    "print(\"Hindi: \", hin_text)\n",
    "\n",
    "trans = translator.translate(hin_text, dest='en')\n",
    "print('Translated:', trans.text)\n",
    "texts = [trans.text]\n",
    "print('Predicted Label: ',makeprediction(texts))"
   ]
  },
  {
   "cell_type": "code",
   "execution_count": 266,
   "metadata": {},
   "outputs": [
    {
     "name": "stdout",
     "output_type": "stream",
     "text": [
      "2\n"
     ]
    }
   ],
   "source": [
    "#0\n",
    "texts = [\"Sachin: Once there was a fight between Yusuf and Bhajji. Sehwag: Paji, was he Muhammad Yusuf or Yusuf Youhana at that time. This man will not let him live even after retirement.\"]\n",
    "print(makeprediction(texts))"
   ]
  },
  {
   "cell_type": "code",
   "execution_count": 267,
   "metadata": {},
   "outputs": [
    {
     "name": "stdout",
     "output_type": "stream",
     "text": [
      "0\n"
     ]
    }
   ],
   "source": [
    "# 2\n",
    "texts = [\"'@ Chatterj1Asking has blew you there, the police have blamed jihadis'\"]\n",
    "print(makeprediction(texts))"
   ]
  },
  {
   "cell_type": "code",
   "execution_count": 268,
   "metadata": {},
   "outputs": [
    {
     "name": "stdout",
     "output_type": "stream",
     "text": [
      "2\n"
     ]
    }
   ],
   "source": [
    "# 1\n",
    "texts = [\"She follows islam\"]\n",
    "print(makeprediction(texts))"
   ]
  },
  {
   "cell_type": "markdown",
   "metadata": {},
   "source": [
    "### Reference\n",
    "[1] \"Convolutional Neural Networks for Sentence Classification\" by Yoon Kim\n"
   ]
  },
  {
   "cell_type": "code",
   "execution_count": null,
   "metadata": {},
   "outputs": [],
   "source": []
  }
 ],
 "metadata": {
  "kernelspec": {
   "display_name": "Python 3",
   "language": "python",
   "name": "python3"
  },
  "language_info": {
   "codemirror_mode": {
    "name": "ipython",
    "version": 3
   },
   "file_extension": ".py",
   "mimetype": "text/x-python",
   "name": "python",
   "nbconvert_exporter": "python",
   "pygments_lexer": "ipython3",
   "version": "3.8.5"
  }
 },
 "nbformat": 4,
 "nbformat_minor": 4
}
