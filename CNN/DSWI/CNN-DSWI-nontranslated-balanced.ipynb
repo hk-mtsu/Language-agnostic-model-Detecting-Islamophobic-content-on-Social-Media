{
 "cells": [
  {
   "cell_type": "markdown",
   "metadata": {},
   "source": [
    "#### The Program involves following features:\n",
    "Convolutional Neural Network CNN\n",
    "1. Using Word2Vec implementing CNN model\n",
    "2. Dispaly Confusion Matrix, precision, recall and F1-score\n",
    "3. Display few prediction using predict module. \n",
    "4. Get 10-fold Average of the CNN model.\n",
    "\n",
    "Support Vector Method SVM\n",
    "1. Creating feature vector using TF-IDF and Bag-of-words.\n",
    "2. Dispaly Confusion Matrix, precision, recall and F1-score\n",
    "3. Display few prediction using predict module. \n",
    "4. Get 10-fold Average of the SVM model.\n",
    "\n",
    "Random Foresr Method RFM \n",
    "1. Creating feature vector using TF-IDF.\n",
    "2. Dispaly Confusion Matrix, precision, recall and F1-score\n",
    "3. Display few prediction using predict module. \n",
    "4. Get 10-fold Average of the RFM model."
   ]
  },
  {
   "cell_type": "code",
   "execution_count": 2,
   "metadata": {},
   "outputs": [],
   "source": [
    "from __future__ import division, print_function\n",
    "\n",
    "# dataframe\n",
    "import pandas as pd\n",
    "\n",
    "# numpy array\n",
    "import numpy as np\n",
    "\n",
    "# figures visualization\n",
    "import matplotlib.pyplot as plt\n",
    "from sklearn.metrics import confusion_matrix \n",
    "import seaborn as sns\n",
    "\n",
    "# calc accuracy\n",
    "from sklearn.metrics import accuracy_score \n",
    "from sklearn.metrics import classification_report \n",
    "\n",
    "# word2vec\n",
    "import gensim \n",
    "from gensim import models\n",
    "from gensim.models import Word2Vec \n",
    "from gensim.models import KeyedVectors\n",
    "\n",
    "# CNN model and keras preprocessing\n",
    "import keras\n",
    "from keras.callbacks import ModelCheckpoint\n",
    "from keras.layers import Dense, Dropout, Reshape, Flatten, concatenate, Input, Conv1D, GlobalMaxPooling1D, Embedding, Conv2D, GlobalMaxPooling2D\n",
    "from keras.models import Sequential\n",
    "from keras.models import Model\n",
    "from keras.preprocessing.text import Tokenizer\n",
    "from keras.preprocessing.sequence import pad_sequences\n",
    "\n",
    "# nltk data preprocessing\n",
    "import nltk\n",
    "from nltk import word_tokenize\n",
    "from nltk.tokenize import sent_tokenize \n",
    "from nltk.stem import WordNetLemmatizer\n",
    "\n",
    "# stopword - remove buzz word\n",
    "from nltk.corpus import stopwords\n",
    "\n",
    "# splitting data\n",
    "from sklearn.model_selection import train_test_split\n",
    "\n",
    "# punctuation - data imbalance\n",
    "import collections\n",
    "import re\n",
    "import string\n",
    "\n",
    "# File path\n",
    "import os\n",
    "import os.path\n",
    "from os import path\n",
    "\n",
    "# Translator\n",
    "import googletrans\n",
    "from googletrans import Translator"
   ]
  },
  {
   "cell_type": "code",
   "execution_count": 29,
   "metadata": {},
   "outputs": [],
   "source": [
    "# original hindi file\n",
    "filename  = 'Eng-Hin-data/hindi-anot-shuffled'\n",
    "orig_df = pd.read_csv(filename + '.csv',  \n",
    "               delimiter=',')\n",
    "orig_df.columns = ['Text', 'Label']\n"
   ]
  },
  {
   "cell_type": "code",
   "execution_count": 30,
   "metadata": {},
   "outputs": [],
   "source": [
    "# Run only for English data \n",
    "orig_df[\"Text\"] = orig_df[\"Text\"].astype(str)\n",
    "orig_df[\"Label\"] = orig_df[\"Label\"].astype(str)"
   ]
  },
  {
   "cell_type": "code",
   "execution_count": 31,
   "metadata": {},
   "outputs": [
    {
     "data": {
      "text/plain": [
       "<bound method NDFrame.head of                                                    Text Label\n",
       "0     'गाजा में दीवाली   की ढेरो बधाई मित्रो 😊💐  #Is...     2\n",
       "1        '@SanjayGadhiaINC @IndiaToday18 अज़ाबे इलाही 👍     1\n",
       "2     'आखिर अब #सुशांत_सिंह_राजपूत जी को न्याय मिल ज...     0\n",
       "3     'अमीन के 500 से अधिक छात्रों ने सर्वे भवन के ग...     0\n",
       "4     '@deoriapolice @Uppolice @myogiadityanath @spg...     0\n",
       "...                                                 ...   ...\n",
       "8788                  '@atullondhe राहुल गांधी जिंदाबाद     0\n",
       "8789  'पैगंबर हज़रत मुहम्मद सल्लल्लाहु अलैहि वसल्लम ...     1\n",
       "8790  'कर्नाटक बेंगलुरू में अल्लाह मोहम्मद गांडू के ...     2\n",
       "8791  'अच्छी खबर है ऐसे एक एक कर सभी जेहादी भारतीय फ...     2\n",
       "8792  '@Ruzena__Malik जनता चाइना से दीवाली की लड़ी ख...     0\n",
       "\n",
       "[8793 rows x 2 columns]>"
      ]
     },
     "execution_count": 31,
     "metadata": {},
     "output_type": "execute_result"
    }
   ],
   "source": [
    "orig_df.head"
   ]
  },
  {
   "cell_type": "code",
   "execution_count": 32,
   "metadata": {},
   "outputs": [
    {
     "data": {
      "text/plain": [
       "\"'आज के दिन ही मेरा क्रिकेट प्रेम भी समाप्त हो गया\""
      ]
     },
     "execution_count": 32,
     "metadata": {},
     "output_type": "execute_result"
    }
   ],
   "source": [
    "orig_df.Text[6]"
   ]
  },
  {
   "cell_type": "code",
   "execution_count": 33,
   "metadata": {},
   "outputs": [],
   "source": [
    "df = orig_df"
   ]
  },
  {
   "cell_type": "markdown",
   "metadata": {},
   "source": [
    "### Class count"
   ]
  },
  {
   "cell_type": "code",
   "execution_count": 34,
   "metadata": {},
   "outputs": [
    {
     "data": {
      "image/png": "[encoded data removed]",
      "text/plain": [
       "<Figure size 432x288 with 1 Axes>"
      ]
     },
     "metadata": {
      "needs_background": "light"
     },
     "output_type": "display_data"
    }
   ],
   "source": [
    "import matplotlib.pyplot as plt\n",
    "fig = plt.figure(figsize=(6,4))\n",
    "df.groupby('Label').Text.count().plot.bar(ylim=0)\n",
    "plt.show()"
   ]
  },
  {
   "cell_type": "code",
   "execution_count": 35,
   "metadata": {},
   "outputs": [
    {
     "data": {
      "text/plain": [
       "2    3375\n",
       "0    3244\n",
       "1    2174\n",
       "Name: Label, dtype: int64"
      ]
     },
     "execution_count": 35,
     "metadata": {},
     "output_type": "execute_result"
    }
   ],
   "source": [
    "# For entire dataset sentences for each labels \n",
    "df.Label.value_counts()"
   ]
  },
  {
   "cell_type": "markdown",
   "metadata": {},
   "source": [
    "### Balanced Data"
   ]
  },
  {
   "cell_type": "code",
   "execution_count": 36,
   "metadata": {},
   "outputs": [],
   "source": [
    "#balancing data \n",
    "from collections import Counter\n",
    "import numpy as np\n",
    "def balanceClasses(xs, ys):\n",
    "    item = {}\n",
    "    new_ys = []\n",
    "    new_xs = []\n",
    "    #\"\"\"Undersample xs, ys to balance classes.\"\"\"\n",
    "    freqs = Counter(ys)\n",
    "    # the most common class  is the maximum number we want for all classes\n",
    "    max_allowable = (freqs.most_common()[0][1])\n",
    "    \n",
    "    for val in freqs.most_common(): # List\n",
    "        nums = np.random.randint(1000)\n",
    "        i = 1\n",
    "        item[val[0]] = max_allowable - val[1]\n",
    "        \n",
    "        if item[val[0]] > 0:            \n",
    "            while(item[val[0]] - i != 0): \n",
    "                nums = nums + 1\n",
    "                if ys[nums] == val[0]:\n",
    "                    i += 1\n",
    "                    new_ys.append(ys[nums])\n",
    "                    new_xs.append(xs[nums])\n",
    "    return new_xs, new_ys"
   ]
  },
  {
   "cell_type": "code",
   "execution_count": 37,
   "metadata": {},
   "outputs": [],
   "source": [
    "new_text, new_label = balanceClasses(df['Text'], df['Label'])"
   ]
  },
  {
   "cell_type": "code",
   "execution_count": 38,
   "metadata": {},
   "outputs": [],
   "source": [
    "data = pd.DataFrame(new_text)\n",
    "data.columns = ['Text']\n",
    "data['Label'] = new_label\n",
    "data = pd.concat([df, data])"
   ]
  },
  {
   "cell_type": "code",
   "execution_count": 39,
   "metadata": {},
   "outputs": [
    {
     "data": {
      "image/png": "[encoded data removed]",
      "text/plain": [
       "<Figure size 432x288 with 1 Axes>"
      ]
     },
     "metadata": {
      "needs_background": "light"
     },
     "output_type": "display_data"
    }
   ],
   "source": [
    "fig1 = plt.figure(figsize=(6,4))\n",
    "data.groupby('Label').Text.count().plot.bar(ylim=0)\n",
    "plt.show()"
   ]
  },
  {
   "cell_type": "code",
   "execution_count": 40,
   "metadata": {},
   "outputs": [
    {
     "data": {
      "text/plain": [
       "2    3375\n",
       "0    3374\n",
       "1    3374\n",
       "Name: Label, dtype: int64"
      ]
     },
     "execution_count": 40,
     "metadata": {},
     "output_type": "execute_result"
    }
   ],
   "source": [
    "# For entire dataset sentences for each labels \n",
    "data.Label.value_counts()"
   ]
  },
  {
   "cell_type": "code",
   "execution_count": 41,
   "metadata": {},
   "outputs": [
    {
     "data": {
      "text/html": [
       "<div>\n",
       "<style scoped>\n",
       "    .dataframe tbody tr th:only-of-type {\n",
       "        vertical-align: middle;\n",
       "    }\n",
       "\n",
       "    .dataframe tbody tr th {\n",
       "        vertical-align: top;\n",
       "    }\n",
       "\n",
       "    .dataframe thead th {\n",
       "        text-align: right;\n",
       "    }\n",
       "</style>\n",
       "<table border=\"1\" class=\"dataframe\">\n",
       "  <thead>\n",
       "    <tr style=\"text-align: right;\">\n",
       "      <th></th>\n",
       "      <th>Text</th>\n",
       "      <th>Label</th>\n",
       "    </tr>\n",
       "  </thead>\n",
       "  <tbody>\n",
       "    <tr>\n",
       "      <th>0</th>\n",
       "      <td>'@ipsvijrk माशा अल्लाह</td>\n",
       "      <td>1</td>\n",
       "    </tr>\n",
       "    <tr>\n",
       "      <th>1</th>\n",
       "      <td>'@AshrafFem @1492Adil माशाअल्लाह</td>\n",
       "      <td>1</td>\n",
       "    </tr>\n",
       "    <tr>\n",
       "      <th>2</th>\n",
       "      <td>'जेहादी सोच थी उसकी  कोई शायर का काम थोड़ी था!...</td>\n",
       "      <td>2</td>\n",
       "    </tr>\n",
       "    <tr>\n",
       "      <th>3</th>\n",
       "      <td>'@MonuKum67447193 @NLalbiharijha समता पार्टी ज...</td>\n",
       "      <td>0</td>\n",
       "    </tr>\n",
       "    <tr>\n",
       "      <th>4</th>\n",
       "      <td>'और चुतिये जाहिल जेहादी आतंकवादी मानसिकता वाले...</td>\n",
       "      <td>2</td>\n",
       "    </tr>\n",
       "    <tr>\n",
       "      <th>...</th>\n",
       "      <td>...</td>\n",
       "      <td>...</td>\n",
       "    </tr>\n",
       "    <tr>\n",
       "      <th>10118</th>\n",
       "      <td>'18 अगस्त 2020 की टॉप क्रिकेट न्यूज़: देश और व...</td>\n",
       "      <td>0</td>\n",
       "    </tr>\n",
       "    <tr>\n",
       "      <th>10119</th>\n",
       "      <td>'@Mohamma60366517 @007MalikM @shanu_sab भाई अल...</td>\n",
       "      <td>1</td>\n",
       "    </tr>\n",
       "    <tr>\n",
       "      <th>10120</th>\n",
       "      <td>'सिपीएल क्रिकेट: सन्दीप सम्मिलित जमैकाले सेन्ट...</td>\n",
       "      <td>0</td>\n",
       "    </tr>\n",
       "    <tr>\n",
       "      <th>10121</th>\n",
       "      <td>'\\\\\"सुशांत सिंह राजपूत को लिखने से बहुत प्यार ...</td>\n",
       "      <td>0</td>\n",
       "    </tr>\n",
       "    <tr>\n",
       "      <th>10122</th>\n",
       "      <td>'@vinodkapri कौन है ये   और काहे को श्रद्धांजल...</td>\n",
       "      <td>2</td>\n",
       "    </tr>\n",
       "  </tbody>\n",
       "</table>\n",
       "<p>10123 rows × 2 columns</p>\n",
       "</div>"
      ],
      "text/plain": [
       "                                                    Text Label\n",
       "0                                 '@ipsvijrk माशा अल्लाह     1\n",
       "1                       '@AshrafFem @1492Adil माशाअल्लाह     1\n",
       "2      'जेहादी सोच थी उसकी  कोई शायर का काम थोड़ी था!...     2\n",
       "3      '@MonuKum67447193 @NLalbiharijha समता पार्टी ज...     0\n",
       "4      'और चुतिये जाहिल जेहादी आतंकवादी मानसिकता वाले...     2\n",
       "...                                                  ...   ...\n",
       "10118  '18 अगस्त 2020 की टॉप क्रिकेट न्यूज़: देश और व...     0\n",
       "10119  '@Mohamma60366517 @007MalikM @shanu_sab भाई अल...     1\n",
       "10120  'सिपीएल क्रिकेट: सन्दीप सम्मिलित जमैकाले सेन्ट...     0\n",
       "10121  '\\\\\"सुशांत सिंह राजपूत को लिखने से बहुत प्यार ...     0\n",
       "10122  '@vinodkapri कौन है ये   और काहे को श्रद्धांजल...     2\n",
       "\n",
       "[10123 rows x 2 columns]"
      ]
     },
     "execution_count": 41,
     "metadata": {},
     "output_type": "execute_result"
    }
   ],
   "source": [
    "\n",
    "data=data.sample(frac=1).reset_index(drop=True)\n",
    "data"
   ]
  },
  {
   "cell_type": "code",
   "execution_count": 42,
   "metadata": {},
   "outputs": [
    {
     "data": {
      "text/plain": [
       "2    3375\n",
       "0    3374\n",
       "1    3374\n",
       "Name: Label, dtype: int64"
      ]
     },
     "execution_count": 42,
     "metadata": {},
     "output_type": "execute_result"
    }
   ],
   "source": [
    "nan_value = float(\"NaN\")\n",
    "data.replace(\"\", nan_value, inplace=True)\n",
    "data.dropna(subset = [\"Text\"], inplace=True)\n",
    "data.Label.value_counts()"
   ]
  },
  {
   "cell_type": "markdown",
   "metadata": {},
   "source": [
    "### Data Preprocessing"
   ]
  },
  {
   "cell_type": "code",
   "execution_count": 43,
   "metadata": {},
   "outputs": [],
   "source": [
    "def textPattern(text):\n",
    "\n",
    "    # Clean the text\n",
    "    text = re.sub(r\"@\", \" \", text)\n",
    "    text = re.sub(r\"\\*\", \" \", text)\n",
    "    text = re.sub(r\"'\", \" \", text)\n",
    "    text = re.sub(r\"\\'s\", \" \", text)\n",
    "    text = re.sub(r\",\", \" \", text)\n",
    "    text = re.sub(r\"\\.\", \" \", text)\n",
    "    text = re.sub(r\"!\", \" \", text)\n",
    "    text = re.sub(r\"\\/\", \" \", text)\n",
    "    text = re.sub(r\"\\^\", \" ^ \", text)\n",
    "    text = re.sub(r\"\\+\", \" \", text)\n",
    "    text = re.sub(r\"\\-\", \" - \", text)\n",
    "    text = re.sub(r\"\\= =\", \" \", text)\n",
    "    text = re.sub(r\"\\==\", \" \", text)\n",
    "    text = re.sub(r\"'\", \" \", text)\n",
    "    text = re.sub(r\"(\\d+)(k)\", r\"\\g<1>000\", text)\n",
    "    text = re.sub(r\":\", \" : \", text)\n",
    "    text = re.sub(r\"\\0s\", \"0\", text)\n",
    "    text = re.sub(r\" 9 11 \", \"911\", text)\n",
    "    text = re.sub(r\"\\s{2,}\", \" \", text)\n",
    "    return text\n",
    "\n",
    "data['Text'] = data['Text'].apply(lambda x: textPattern(x))"
   ]
  },
  {
   "cell_type": "code",
   "execution_count": 44,
   "metadata": {},
   "outputs": [],
   "source": [
    "# Word Tokenization\n",
    "tokens = [word_tokenize(sen) for sen in data.Text]"
   ]
  },
  {
   "cell_type": "code",
   "execution_count": 45,
   "metadata": {},
   "outputs": [],
   "source": [
    "# Remove Link\n",
    "\n",
    "def removeLink(token):\n",
    "    word = []\n",
    "    for w in token:\n",
    "        if not w.startswith('http'):\n",
    "            word.append(w)\n",
    "    return word \n",
    "    \n",
    "removedLink_tokens = [removeLink(token) for token in tokens]"
   ]
  },
  {
   "cell_type": "code",
   "execution_count": 46,
   "metadata": {},
   "outputs": [],
   "source": [
    "# Word Lemmatization\n",
    "def lemmatization(token):\n",
    "    return [lemmatizer.lemmatize(w) for w in token] \n",
    "\n",
    "lemmatizer = WordNetLemmatizer()\n",
    "\n",
    "lemmatized_tokens = [lemmatization(token) for token in removedLink_tokens]"
   ]
  },
  {
   "cell_type": "code",
   "execution_count": 47,
   "metadata": {},
   "outputs": [],
   "source": [
    "# Removing Stopwords\n",
    "stoplist=open(\"Devanagari/stopwords.txt\",\"r\")"
   ]
  },
  {
   "cell_type": "code",
   "execution_count": 48,
   "metadata": {},
   "outputs": [],
   "source": [
    "def removeStopWords(tokens): \n",
    "    return [word for word in tokens if word not in stoplist]\n",
    "\n",
    "filtered_words = [removeStopWords(sen) for sen in lemmatized_tokens]\n",
    "data['Text_Final'] = [' '.join(sen) for sen in filtered_words]\n",
    "data['tokens'] = filtered_words"
   ]
  },
  {
   "cell_type": "code",
   "execution_count": 49,
   "metadata": {},
   "outputs": [
    {
     "data": {
      "text/plain": [
       "(10123,)"
      ]
     },
     "execution_count": 49,
     "metadata": {},
     "output_type": "execute_result"
    }
   ],
   "source": [
    "data['Text_Final'].shape"
   ]
  },
  {
   "cell_type": "code",
   "execution_count": 50,
   "metadata": {},
   "outputs": [],
   "source": [
    "zero  = []\n",
    "one = []\n",
    "two = []\n",
    "for l in data.Label:\n",
    "    \n",
    "    if l == '0':\n",
    "        zero.append(1)\n",
    "        one.append(0)\n",
    "        two.append(0)\n",
    "    elif l == '1':\n",
    "        zero.append(0)\n",
    "        one.append(1)\n",
    "        two.append(0)\n",
    "    elif l == '2':\n",
    "        zero.append(0)\n",
    "        one.append(0)\n",
    "        two.append(1)\n",
    "        \n",
    "data['0']= zero\n",
    "data['1']= one\n",
    "data['2']= two\n",
    "\n",
    "data = data[['Text_Final', 'tokens', 'Label', '0', '1', '2']]"
   ]
  },
  {
   "cell_type": "code",
   "execution_count": 51,
   "metadata": {},
   "outputs": [
    {
     "data": {
      "text/html": [
       "<div>\n",
       "<style scoped>\n",
       "    .dataframe tbody tr th:only-of-type {\n",
       "        vertical-align: middle;\n",
       "    }\n",
       "\n",
       "    .dataframe tbody tr th {\n",
       "        vertical-align: top;\n",
       "    }\n",
       "\n",
       "    .dataframe thead th {\n",
       "        text-align: right;\n",
       "    }\n",
       "</style>\n",
       "<table border=\"1\" class=\"dataframe\">\n",
       "  <thead>\n",
       "    <tr style=\"text-align: right;\">\n",
       "      <th></th>\n",
       "      <th>Text_Final</th>\n",
       "      <th>tokens</th>\n",
       "      <th>Label</th>\n",
       "      <th>0</th>\n",
       "      <th>1</th>\n",
       "      <th>2</th>\n",
       "      <th>Category_id</th>\n",
       "    </tr>\n",
       "  </thead>\n",
       "  <tbody>\n",
       "    <tr>\n",
       "      <th>0</th>\n",
       "      <td>ipsvijrk माशा अल्लाह</td>\n",
       "      <td>[ipsvijrk, माशा, अल्लाह]</td>\n",
       "      <td>1</td>\n",
       "      <td>0</td>\n",
       "      <td>1</td>\n",
       "      <td>0</td>\n",
       "      <td>1</td>\n",
       "    </tr>\n",
       "    <tr>\n",
       "      <th>1</th>\n",
       "      <td>AshrafFem 1492Adil माशाअल्लाह</td>\n",
       "      <td>[AshrafFem, 1492Adil, माशाअल्लाह]</td>\n",
       "      <td>1</td>\n",
       "      <td>0</td>\n",
       "      <td>1</td>\n",
       "      <td>0</td>\n",
       "      <td>1</td>\n",
       "    </tr>\n",
       "    <tr>\n",
       "      <th>2</th>\n",
       "      <td>जेहादी सोच थी उसकी कोई शायर का काम थोड़ी था मन...</td>\n",
       "      <td>[जेहादी, सोच, थी, उसकी, कोई, शायर, का, काम, थो...</td>\n",
       "      <td>2</td>\n",
       "      <td>0</td>\n",
       "      <td>0</td>\n",
       "      <td>1</td>\n",
       "      <td>2</td>\n",
       "    </tr>\n",
       "    <tr>\n",
       "      <th>3</th>\n",
       "      <td>MonuKum67447193 NLalbiharijha समता पार्टी जिन्...</td>\n",
       "      <td>[MonuKum67447193, NLalbiharijha, समता, पार्टी,...</td>\n",
       "      <td>0</td>\n",
       "      <td>1</td>\n",
       "      <td>0</td>\n",
       "      <td>0</td>\n",
       "      <td>0</td>\n",
       "    </tr>\n",
       "    <tr>\n",
       "      <th>4</th>\n",
       "      <td>और चुतिये जाहिल जेहादी आतंकवादी मानसिकता वाले ...</td>\n",
       "      <td>[और, चुतिये, जाहिल, जेहादी, आतंकवादी, मानसिकता...</td>\n",
       "      <td>2</td>\n",
       "      <td>0</td>\n",
       "      <td>0</td>\n",
       "      <td>1</td>\n",
       "      <td>2</td>\n",
       "    </tr>\n",
       "    <tr>\n",
       "      <th>5</th>\n",
       "      <td>आप सब की दुआ से मैं भी प्रेग्नेंट हो गई बधाई न...</td>\n",
       "      <td>[आप, सब, की, दुआ, से, मैं, भी, प्रेग्नेंट, हो,...</td>\n",
       "      <td>1</td>\n",
       "      <td>0</td>\n",
       "      <td>1</td>\n",
       "      <td>0</td>\n",
       "      <td>1</td>\n",
       "    </tr>\n",
       "    <tr>\n",
       "      <th>6</th>\n",
       "      <td>इस तस्वीर को देखने के बाद ही धोनी और रैना ने क...</td>\n",
       "      <td>[इस, तस्वीर, को, देखने, के, बाद, ही, धोनी, और,...</td>\n",
       "      <td>0</td>\n",
       "      <td>1</td>\n",
       "      <td>0</td>\n",
       "      <td>0</td>\n",
       "      <td>0</td>\n",
       "    </tr>\n",
       "    <tr>\n",
       "      <th>7</th>\n",
       "      <td>बच्चों का भविष्य समाजवादी लैपटॉप सपा का काम जन...</td>\n",
       "      <td>[बच्चों, का, भविष्य, समाजवादी, लैपटॉप, सपा, का...</td>\n",
       "      <td>0</td>\n",
       "      <td>1</td>\n",
       "      <td>0</td>\n",
       "      <td>0</td>\n",
       "      <td>0</td>\n",
       "    </tr>\n",
       "    <tr>\n",
       "      <th>8</th>\n",
       "      <td>पहुंची हुई है अर्श तक मेरी भी एक दुआ आमीन सब क...</td>\n",
       "      <td>[पहुंची, हुई, है, अर्श, तक, मेरी, भी, एक, दुआ,...</td>\n",
       "      <td>1</td>\n",
       "      <td>0</td>\n",
       "      <td>1</td>\n",
       "      <td>0</td>\n",
       "      <td>1</td>\n",
       "    </tr>\n",
       "  </tbody>\n",
       "</table>\n",
       "</div>"
      ],
      "text/plain": [
       "                                          Text_Final  \\\n",
       "0                               ipsvijrk माशा अल्लाह   \n",
       "1                      AshrafFem 1492Adil माशाअल्लाह   \n",
       "2  जेहादी सोच थी उसकी कोई शायर का काम थोड़ी था मन...   \n",
       "3  MonuKum67447193 NLalbiharijha समता पार्टी जिन्...   \n",
       "4  और चुतिये जाहिल जेहादी आतंकवादी मानसिकता वाले ...   \n",
       "5  आप सब की दुआ से मैं भी प्रेग्नेंट हो गई बधाई न...   \n",
       "6  इस तस्वीर को देखने के बाद ही धोनी और रैना ने क...   \n",
       "7  बच्चों का भविष्य समाजवादी लैपटॉप सपा का काम जन...   \n",
       "8  पहुंची हुई है अर्श तक मेरी भी एक दुआ आमीन सब क...   \n",
       "\n",
       "                                              tokens Label  0  1  2  \\\n",
       "0                           [ipsvijrk, माशा, अल्लाह]     1  0  1  0   \n",
       "1                  [AshrafFem, 1492Adil, माशाअल्लाह]     1  0  1  0   \n",
       "2  [जेहादी, सोच, थी, उसकी, कोई, शायर, का, काम, थो...     2  0  0  1   \n",
       "3  [MonuKum67447193, NLalbiharijha, समता, पार्टी,...     0  1  0  0   \n",
       "4  [और, चुतिये, जाहिल, जेहादी, आतंकवादी, मानसिकता...     2  0  0  1   \n",
       "5  [आप, सब, की, दुआ, से, मैं, भी, प्रेग्नेंट, हो,...     1  0  1  0   \n",
       "6  [इस, तस्वीर, को, देखने, के, बाद, ही, धोनी, और,...     0  1  0  0   \n",
       "7  [बच्चों, का, भविष्य, समाजवादी, लैपटॉप, सपा, का...     0  1  0  0   \n",
       "8  [पहुंची, हुई, है, अर्श, तक, मेरी, भी, एक, दुआ,...     1  0  1  0   \n",
       "\n",
       "  Category_id  \n",
       "0           1  \n",
       "1           1  \n",
       "2           2  \n",
       "3           0  \n",
       "4           2  \n",
       "5           1  \n",
       "6           0  \n",
       "7           0  \n",
       "8           1  "
      ]
     },
     "execution_count": 51,
     "metadata": {},
     "output_type": "execute_result"
    }
   ],
   "source": [
    "category_id = []\n",
    "for l in data.Label:\n",
    "    \n",
    "    if l == '0':\n",
    "        category_id.append('0')\n",
    "    elif l == '1':\n",
    "        category_id.append('1')\n",
    "    elif l == '2':\n",
    "        category_id.append('2')\n",
    "        \n",
    "data['Category_id'] = category_id\n",
    "\n",
    "data = data[['Text_Final', 'tokens', 'Label', '0', '1', '2', 'Category_id' ]]\n",
    "data.head(9)"
   ]
  },
  {
   "cell_type": "code",
   "execution_count": 52,
   "metadata": {},
   "outputs": [],
   "source": [
    "data.dropna(subset = [\"tokens\"], inplace=True)"
   ]
  },
  {
   "cell_type": "code",
   "execution_count": 53,
   "metadata": {},
   "outputs": [],
   "source": [
    "from io import StringIO\n",
    "category_id_df = data[['Label', 'Category_id']].drop_duplicates().sort_values('Category_id')\n",
    "category_to_label_dict = dict(category_id_df.values)\n",
    "label_to_category_dict = dict(category_id_df[['Category_id', 'Label']].values)"
   ]
  },
  {
   "cell_type": "markdown",
   "metadata": {},
   "source": [
    "#### Split Data into test and train\n",
    "We will use 90 % data for training and 20 % for testing. We use random state so every time we get the same training and testing data."
   ]
  },
  {
   "cell_type": "code",
   "execution_count": 54,
   "metadata": {},
   "outputs": [],
   "source": [
    "data_train, data_test = train_test_split(data, test_size=0.10, random_state=42)\n"
   ]
  },
  {
   "cell_type": "code",
   "execution_count": 55,
   "metadata": {},
   "outputs": [],
   "source": [
    "# # total training words\n",
    "totalTrainingWords = [word for tokens in data_train[\"tokens\"] for word in tokens]\n",
    "\n",
    "# # Storing Length of the training sentence\n",
    "lengthTrainingSentences = [len(tokens) for tokens in data_train[\"tokens\"]]\n",
    "\n",
    "# # training Vocabulary size\n",
    "trainingVocabSize = sorted(list(set(totalTrainingWords)))\n",
    "\n",
    "## Total number of lines\n",
    "linesCount = len(data_train[\"tokens\"])"
   ]
  },
  {
   "cell_type": "markdown",
   "metadata": {},
   "source": [
    "### Load Google News Word2Vec model"
   ]
  },
  {
   "cell_type": "code",
   "execution_count": 56,
   "metadata": {},
   "outputs": [
    {
     "data": {
      "text/plain": [
       "(1181931, 0)"
      ]
     },
     "execution_count": 56,
     "metadata": {},
     "output_type": "execute_result"
    }
   ],
   "source": [
    "# Convert Glove file to word2vec format (examples: uses 50 dimensions since it's faster)\n",
    "from gensim.scripts.glove2word2vec import glove2word2vec\n",
    "glove_input_file = 'Online_supplement_1 word vectors.csv'  # I unzipped in glove.6B subdirectory \n",
    "word2vec_output_file = 'glove.word2vec'\n",
    "glove2word2vec(glove_input_file, word2vec_output_file)"
   ]
  },
  {
   "cell_type": "code",
   "execution_count": 57,
   "metadata": {},
   "outputs": [],
   "source": [
    "# Use the converted Glove file\n",
    "filename = 'glove.word2vec'\n",
    "word2vec = KeyedVectors.load_word2vec_format(filename, binary=False)\n"
   ]
  },
  {
   "cell_type": "code",
   "execution_count": 89,
   "metadata": {},
   "outputs": [],
   "source": [
    "MAX_SEQUENCE_LENGTH = 150\n",
    "EMBEDDING_DIM = 50"
   ]
  },
  {
   "cell_type": "markdown",
   "metadata": {},
   "source": [
    "\n",
    "### Tokenize and Pad sequences"
   ]
  },
  {
   "cell_type": "code",
   "execution_count": 90,
   "metadata": {},
   "outputs": [
    {
     "name": "stdout",
     "output_type": "stream",
     "text": [
      "Found 19180 unique tokens.\n"
     ]
    }
   ],
   "source": [
    "tokenizer = Tokenizer(num_words=len(trainingVocabSize), lower=True, char_level=False)\n",
    "tokenizer.fit_on_texts(data_train[\"Text_Final\"].tolist())\n",
    "training_sequences = tokenizer.texts_to_sequences(data_train[\"Text_Final\"].tolist())\n",
    "\n",
    "train_word_index = tokenizer.word_index\n",
    "print('Found %s unique tokens.' % len(train_word_index))"
   ]
  },
  {
   "cell_type": "code",
   "execution_count": 91,
   "metadata": {},
   "outputs": [],
   "source": [
    "cnnTrainData = pad_sequences(training_sequences, maxlen=MAX_SEQUENCE_LENGTH)"
   ]
  },
  {
   "cell_type": "code",
   "execution_count": 92,
   "metadata": {},
   "outputs": [
    {
     "name": "stdout",
     "output_type": "stream",
     "text": [
      "(19181, 50)\n"
     ]
    }
   ],
   "source": [
    "train_embedding_weights = np.zeros((len(train_word_index)+1, EMBEDDING_DIM))\n",
    "for word,index in train_word_index.items():\n",
    "    train_embedding_weights[index,:] = word2vec[word] if word in word2vec else np.random.rand(EMBEDDING_DIM)\n",
    "print(train_embedding_weights.shape)"
   ]
  },
  {
   "cell_type": "code",
   "execution_count": 93,
   "metadata": {},
   "outputs": [],
   "source": [
    "test_sequences = tokenizer.texts_to_sequences(data_test[\"Text_Final\"].tolist())\n",
    "cnnTestData = pad_sequences(test_sequences, maxlen= MAX_SEQUENCE_LENGTH)"
   ]
  },
  {
   "cell_type": "markdown",
   "metadata": {},
   "source": [
    "### Define CNN"
   ]
  },
  {
   "cell_type": "markdown",
   "metadata": {},
   "source": [
    "The model is from the paper 'Convolutional Neural Networks for Sentence Classification' we have updated the network according to our requirement [1]"
   ]
  },
  {
   "cell_type": "code",
   "execution_count": 94,
   "metadata": {},
   "outputs": [],
   "source": [
    "label_names = ['0', '1', '2']"
   ]
  },
  {
   "cell_type": "code",
   "execution_count": 95,
   "metadata": {},
   "outputs": [],
   "source": [
    "def ConvolutionalNeuralNet(embeddings, max_sequence_length, num_words, embedding_dim, labels_index):\n",
    "    \n",
    "    # Embedding layer\n",
    "    embedding_layer = Embedding(num_words,\n",
    "                            embedding_dim,\n",
    "                            weights=[embeddings],\n",
    "                            input_length=max_sequence_length,\n",
    "                            trainable=False)\n",
    "    \n",
    "    sequence_input = Input(shape=(max_sequence_length,), dtype='int32')\n",
    "    embedded_sequences = embedding_layer(sequence_input)\n",
    "\n",
    "    convs = []\n",
    "    \n",
    "    #Kernal (window) size\n",
    "    filter_sizes = [2,3,4,5]\n",
    "\n",
    "    # Convolution Layer and max-pooling\n",
    "    for filter_size in filter_sizes:\n",
    "        l_conv = Conv1D(filters=512, kernel_size=filter_size, activation='relu')(embedded_sequences)\n",
    "        l_pool = GlobalMaxPooling1D()(l_conv)\n",
    "        convs.append(l_pool)\n",
    "        \n",
    "    l_merge = concatenate(convs, axis=1)\n",
    "    \n",
    "    # softmax layer for multiclass identification \n",
    "    x = Dropout(0.1)(l_merge)  \n",
    "    x = Dense(512, activation='relu')(x)\n",
    "    x = Dropout(0.2)(x)\n",
    "    preds = Dense(labels_index, activation='softmax')(x)\n",
    "\n",
    "    model = Model(sequence_input, preds)\n",
    "    model.compile(loss= 'categorical_crossentropy',\n",
    "                 optimizer = keras.optimizers.RMSprop(learning_rate=1e-3),\n",
    "#                    optimizer='adam',\n",
    "                  metrics=['accuracy'])\n",
    "    return model"
   ]
  },
  {
   "cell_type": "code",
   "execution_count": 96,
   "metadata": {},
   "outputs": [],
   "source": [
    "# Splitting train data into X_train and y_train\n",
    "y_train = data_train[label_names].values\n",
    "x_train = cnnTrainData\n",
    "y_tr = y_train"
   ]
  },
  {
   "cell_type": "code",
   "execution_count": 97,
   "metadata": {},
   "outputs": [],
   "source": [
    "# Splitting train data into X_test and y_test\n",
    "y_test = data_test[label_names].values\n",
    "x_test = cnnTestData\n",
    "y_tst = y_test"
   ]
  },
  {
   "cell_type": "code",
   "execution_count": 98,
   "metadata": {},
   "outputs": [],
   "source": [
    "model = ConvolutionalNeuralNet(train_embedding_weights, MAX_SEQUENCE_LENGTH, len(train_word_index)+1, EMBEDDING_DIM, len(list(label_names)))"
   ]
  },
  {
   "cell_type": "code",
   "execution_count": 99,
   "metadata": {},
   "outputs": [
    {
     "name": "stdout",
     "output_type": "stream",
     "text": [
      "Model: \"model_11\"\n",
      "__________________________________________________________________________________________________\n",
      "Layer (type)                    Output Shape         Param #     Connected to                     \n",
      "==================================================================================================\n",
      "input_12 (InputLayer)           [(None, 150)]        0                                            \n",
      "__________________________________________________________________________________________________\n",
      "embedding_11 (Embedding)        (None, 150, 50)      959050      input_12[0][0]                   \n",
      "__________________________________________________________________________________________________\n",
      "conv1d_44 (Conv1D)              (None, 149, 512)     51712       embedding_11[0][0]               \n",
      "__________________________________________________________________________________________________\n",
      "conv1d_45 (Conv1D)              (None, 148, 512)     77312       embedding_11[0][0]               \n",
      "__________________________________________________________________________________________________\n",
      "conv1d_46 (Conv1D)              (None, 147, 512)     102912      embedding_11[0][0]               \n",
      "__________________________________________________________________________________________________\n",
      "conv1d_47 (Conv1D)              (None, 146, 512)     128512      embedding_11[0][0]               \n",
      "__________________________________________________________________________________________________\n",
      "global_max_pooling1d_44 (Global (None, 512)          0           conv1d_44[0][0]                  \n",
      "__________________________________________________________________________________________________\n",
      "global_max_pooling1d_45 (Global (None, 512)          0           conv1d_45[0][0]                  \n",
      "__________________________________________________________________________________________________\n",
      "global_max_pooling1d_46 (Global (None, 512)          0           conv1d_46[0][0]                  \n",
      "__________________________________________________________________________________________________\n",
      "global_max_pooling1d_47 (Global (None, 512)          0           conv1d_47[0][0]                  \n",
      "__________________________________________________________________________________________________\n",
      "concatenate_11 (Concatenate)    (None, 2048)         0           global_max_pooling1d_44[0][0]    \n",
      "                                                                 global_max_pooling1d_45[0][0]    \n",
      "                                                                 global_max_pooling1d_46[0][0]    \n",
      "                                                                 global_max_pooling1d_47[0][0]    \n",
      "__________________________________________________________________________________________________\n",
      "dropout_22 (Dropout)            (None, 2048)         0           concatenate_11[0][0]             \n",
      "__________________________________________________________________________________________________\n",
      "dense_22 (Dense)                (None, 512)          1049088     dropout_22[0][0]                 \n",
      "__________________________________________________________________________________________________\n",
      "dropout_23 (Dropout)            (None, 512)          0           dense_22[0][0]                   \n",
      "__________________________________________________________________________________________________\n",
      "dense_23 (Dense)                (None, 3)            1539        dropout_23[0][0]                 \n",
      "==================================================================================================\n",
      "Total params: 2,370,125\n",
      "Trainable params: 1,411,075\n",
      "Non-trainable params: 959,050\n",
      "__________________________________________________________________________________________________\n"
     ]
    }
   ],
   "source": [
    "model.summary()"
   ]
  },
  {
   "cell_type": "markdown",
   "metadata": {},
   "source": [
    "### Train CNN"
   ]
  },
  {
   "cell_type": "code",
   "execution_count": 100,
   "metadata": {},
   "outputs": [],
   "source": [
    "num_epochs = 10\n",
    "batch_size = 512"
   ]
  },
  {
   "cell_type": "code",
   "execution_count": 70,
   "metadata": {},
   "outputs": [
    {
     "name": "stdout",
     "output_type": "stream",
     "text": [
      "Epoch 1/10\n",
      "17/17 [==============================] - 18s 1s/step - loss: 2.1550 - accuracy: 0.3797 - val_loss: 1.1903 - val_accuracy: 0.3095\n",
      "Epoch 2/10\n",
      "17/17 [==============================] - 17s 1s/step - loss: 1.0821 - accuracy: 0.4349 - val_loss: 1.1215 - val_accuracy: 0.3480\n",
      "Epoch 3/10\n",
      "17/17 [==============================] - 17s 974ms/step - loss: 1.0004 - accuracy: 0.5571 - val_loss: 1.0271 - val_accuracy: 0.5016\n",
      "Epoch 4/10\n",
      "17/17 [==============================] - 17s 998ms/step - loss: 0.8934 - accuracy: 0.6447 - val_loss: 0.9892 - val_accuracy: 0.5982\n",
      "Epoch 5/10\n",
      "17/17 [==============================] - 17s 980ms/step - loss: 0.6938 - accuracy: 0.7253 - val_loss: 0.4848 - val_accuracy: 0.8540\n",
      "Epoch 6/10\n",
      "17/17 [==============================] - 17s 1s/step - loss: 0.6036 - accuracy: 0.7883 - val_loss: 0.5266 - val_accuracy: 0.7739\n",
      "Epoch 7/10\n",
      "17/17 [==============================] - 17s 1s/step - loss: 0.4693 - accuracy: 0.8197 - val_loss: 0.5246 - val_accuracy: 0.8134\n",
      "Epoch 8/10\n",
      "17/17 [==============================] - 18s 1s/step - loss: 0.4320 - accuracy: 0.8362 - val_loss: 0.8000 - val_accuracy: 0.6619\n",
      "Epoch 9/10\n",
      "17/17 [==============================] - 17s 994ms/step - loss: 0.4502 - accuracy: 0.8275 - val_loss: 0.3654 - val_accuracy: 0.8551\n",
      "Epoch 10/10\n",
      "17/17 [==============================] - 17s 996ms/step - loss: 0.3602 - accuracy: 0.8639 - val_loss: 0.8757 - val_accuracy: 0.7355\n"
     ]
    }
   ],
   "source": [
    "history = model.fit(x_train, y_tr, epochs=num_epochs, validation_split=0.1, shuffle=True, batch_size=batch_size)"
   ]
  },
  {
   "cell_type": "code",
   "execution_count": 71,
   "metadata": {},
   "outputs": [
    {
     "name": "stdout",
     "output_type": "stream",
     "text": [
      "32/32 [==============================] - 1s 28ms/step - loss: 0.8605 - accuracy: 0.7305\n"
     ]
    }
   ],
   "source": [
    "# evaluate on test data\n",
    "results = model.evaluate(x_test, y_tst)"
   ]
  },
  {
   "cell_type": "code",
   "execution_count": 72,
   "metadata": {},
   "outputs": [
    {
     "name": "stdout",
     "output_type": "stream",
     "text": [
      "1/1 [==============================] - 0s 2ms/step\n"
     ]
    }
   ],
   "source": [
    "# predict model\n",
    "predictions = model.predict(cnnTestData, batch_size=1024, verbose=1)"
   ]
  },
  {
   "cell_type": "markdown",
   "metadata": {},
   "source": [
    "### Testing few sentences using our model"
   ]
  },
  {
   "cell_type": "code",
   "execution_count": 73,
   "metadata": {},
   "outputs": [],
   "source": [
    "\n",
    "labels = ['0', '1', '2']\n",
    "\n",
    "def makeprediction(texts):\n",
    "    tk = Tokenizer()\n",
    "    tk.fit_on_texts(texts)\n",
    "    index_list = tk.texts_to_sequences(texts)\n",
    "    x_train = pad_sequences(index_list, maxlen=150)\n",
    "    pred = model.predict(x_train)\n",
    "    result = labels[np.argmax(pred)]\n",
    "    return result"
   ]
  },
  {
   "cell_type": "code",
   "execution_count": 74,
   "metadata": {},
   "outputs": [],
   "source": [
    "prediction_labels=[]\n",
    "for p in predictions:\n",
    "    prediction_labels.append(labels[np.argmax(p)])"
   ]
  },
  {
   "cell_type": "code",
   "execution_count": 75,
   "metadata": {},
   "outputs": [
    {
     "data": {
      "text/plain": [
       "0.7305034550839091"
      ]
     },
     "execution_count": 75,
     "metadata": {},
     "output_type": "execute_result"
    }
   ],
   "source": [
    "sum(data_test.Label==prediction_labels)/len(prediction_labels)"
   ]
  },
  {
   "cell_type": "code",
   "execution_count": 76,
   "metadata": {},
   "outputs": [
    {
     "data": {
      "text/plain": [
       "1    356\n",
       "0    330\n",
       "2    327\n",
       "Name: Label, dtype: int64"
      ]
     },
     "execution_count": 76,
     "metadata": {},
     "output_type": "execute_result"
    }
   ],
   "source": [
    "data_test.Label.value_counts()"
   ]
  },
  {
   "cell_type": "code",
   "execution_count": 77,
   "metadata": {},
   "outputs": [
    {
     "data": {
      "image/png": "[encoded data removed]",
      "text/plain": [
       "<Figure size 432x288 with 2 Axes>"
      ]
     },
     "metadata": {
      "needs_background": "light"
     },
     "output_type": "display_data"
    }
   ],
   "source": [
    "plt.figure(1)\n",
    "# summarize history for accuracy\n",
    "plt.subplot(211)\n",
    "plt.plot(history.history['accuracy'])\n",
    "plt.plot(history.history['val_accuracy'])\n",
    "plt.title('model accuracy')\n",
    "plt.ylabel('accuracy')\n",
    "plt.xlabel('epoch')\n",
    "plt.legend(['train', 'val'], loc='upper left')\n",
    "# summarize history for loss\n",
    "plt.subplot(212)\n",
    "plt.plot(history.history['loss'])\n",
    "plt.plot(history.history['val_loss'])\n",
    "plt.title('model loss')\n",
    "plt.ylabel('loss')\n",
    "plt.xlabel('epoch')\n",
    "plt.legend(['train', 'val'], loc='upper left')\n",
    "plt.tight_layout()\n",
    "plt.show()"
   ]
  },
  {
   "cell_type": "code",
   "execution_count": 78,
   "metadata": {},
   "outputs": [
    {
     "name": "stdout",
     "output_type": "stream",
     "text": [
      "Confusion Matrix :\n",
      "[[329   1   0]\n",
      " [212 144   0]\n",
      " [ 60   0 267]]\n",
      "Accuracy Score : 0.7305034550839091\n",
      "Report : \n",
      "              precision    recall  f1-score   support\n",
      "\n",
      "           0       0.55      1.00      0.71       330\n",
      "           1       0.99      0.40      0.57       356\n",
      "           2       1.00      0.82      0.90       327\n",
      "\n",
      "    accuracy                           0.73      1013\n",
      "   macro avg       0.85      0.74      0.73      1013\n",
      "weighted avg       0.85      0.73      0.72      1013\n",
      "\n"
     ]
    }
   ],
   "source": [
    "results = confusion_matrix(data_test.Label, prediction_labels)\n",
    "print ('Confusion Matrix :')\n",
    "print(results) \n",
    "print ('Accuracy Score :',accuracy_score(data_test.Label, prediction_labels))\n",
    "print ('Report : ')\n",
    "print (classification_report(data_test.Label, prediction_labels))"
   ]
  },
  {
   "cell_type": "code",
   "execution_count": 79,
   "metadata": {},
   "outputs": [
    {
     "name": "stdout",
     "output_type": "stream",
     "text": [
      "                        Convolution Neural Network\n"
     ]
    },
    {
     "data": {
      "image/png": "[encoded data removed]",
      "text/plain": [
       "<Figure size 360x360 with 2 Axes>"
      ]
     },
     "metadata": {
      "needs_background": "light"
     },
     "output_type": "display_data"
    }
   ],
   "source": [
    "from sklearn.metrics import confusion_matrix\n",
    "print(\"                        Convolution Neural Network\")\n",
    "conf_mat = confusion_matrix(data_test.Label, prediction_labels)\n",
    "fig, ax = plt.subplots(figsize=(5,5))\n",
    "sns.heatmap(conf_mat, annot=True, fmt='d', cmap ='YlGnBu',\n",
    "            xticklabels=category_id_df.Label.values, yticklabels=category_id_df.Label.values)\n",
    "plt.ylabel('Actual')\n",
    "plt.xlabel('Predicted')\n",
    "plt.show()"
   ]
  },
  {
   "cell_type": "markdown",
   "metadata": {},
   "source": [
    "### Testing CNN using KFold cross validation"
   ]
  },
  {
   "cell_type": "code",
   "execution_count": 80,
   "metadata": {},
   "outputs": [
    {
     "name": "stdout",
     "output_type": "stream",
     "text": [
      "Fold:  1\n",
      "Epoch 1/5\n",
      "257/257 [==============================] - 25s 97ms/step - loss: 0.7568 - accuracy: 0.6880 - val_loss: 0.5052 - val_accuracy: 0.7958\n",
      "Epoch 2/5\n",
      "257/257 [==============================] - 24s 94ms/step - loss: 0.3434 - accuracy: 0.8690 - val_loss: 0.4520 - val_accuracy: 0.8145\n",
      "Epoch 3/5\n",
      "257/257 [==============================] - 24s 94ms/step - loss: 0.2948 - accuracy: 0.8856 - val_loss: 0.4550 - val_accuracy: 0.8101\n",
      "Epoch 4/5\n",
      "257/257 [==============================] - 24s 94ms/step - loss: 0.2636 - accuracy: 0.9011 - val_loss: 0.2223 - val_accuracy: 0.9012\n",
      "Epoch 5/5\n",
      "257/257 [==============================] - 21s 84ms/step - loss: 0.2403 - accuracy: 0.9097 - val_loss: 0.2187 - val_accuracy: 0.9286\n",
      "Results for current fold:\n",
      "8/8 [==============================] - 0s 60ms/step - loss: 0.2156 - accuracy: 0.9220\n",
      "Fold:  2\n",
      "Epoch 1/5\n",
      "257/257 [==============================] - 25s 96ms/step - loss: 0.7591 - accuracy: 0.6752 - val_loss: 0.5413 - val_accuracy: 0.7892\n",
      "Epoch 2/5\n",
      "257/257 [==============================] - 24s 95ms/step - loss: 0.3487 - accuracy: 0.8600 - val_loss: 0.2767 - val_accuracy: 0.8924\n",
      "Epoch 3/5\n",
      "257/257 [==============================] - 24s 95ms/step - loss: 0.2910 - accuracy: 0.8867 - val_loss: 1.0342 - val_accuracy: 0.7486\n",
      "Epoch 4/5\n",
      "257/257 [==============================] - 24s 95ms/step - loss: 0.2598 - accuracy: 0.8960 - val_loss: 0.3630 - val_accuracy: 0.8463\n",
      "Epoch 5/5\n",
      "257/257 [==============================] - 24s 95ms/step - loss: 0.2388 - accuracy: 0.9077 - val_loss: 0.5243 - val_accuracy: 0.8079\n",
      "Results for current fold:\n",
      "8/8 [==============================] - 1s 75ms/step - loss: 0.4939 - accuracy: 0.8233\n",
      "Fold:  3\n",
      "Epoch 1/5\n",
      "257/257 [==============================] - 25s 95ms/step - loss: 0.7632 - accuracy: 0.6791 - val_loss: 0.2731 - val_accuracy: 0.8946\n",
      "Epoch 2/5\n",
      "257/257 [==============================] - 25s 96ms/step - loss: 0.3440 - accuracy: 0.8634 - val_loss: 0.2682 - val_accuracy: 0.8771\n",
      "Epoch 3/5\n",
      "257/257 [==============================] - 24s 94ms/step - loss: 0.3081 - accuracy: 0.8817 - val_loss: 0.3295 - val_accuracy: 0.8727\n",
      "Epoch 4/5\n",
      "257/257 [==============================] - 24s 95ms/step - loss: 0.2921 - accuracy: 0.8939 - val_loss: 0.2145 - val_accuracy: 0.9100\n",
      "Epoch 5/5\n",
      "257/257 [==============================] - 24s 95ms/step - loss: 0.2725 - accuracy: 0.9024 - val_loss: 0.7596 - val_accuracy: 0.8189\n",
      "Results for current fold:\n",
      "8/8 [==============================] - 1s 65ms/step - loss: 0.7198 - accuracy: 0.8312\n",
      "Fold:  4\n",
      "Epoch 1/5\n",
      "257/257 [==============================] - 25s 97ms/step - loss: 0.7040 - accuracy: 0.7070 - val_loss: 0.4320 - val_accuracy: 0.8507\n",
      "Epoch 2/5\n",
      "257/257 [==============================] - 25s 96ms/step - loss: 0.3287 - accuracy: 0.8728 - val_loss: 0.3963 - val_accuracy: 0.8463\n",
      "Epoch 3/5\n",
      "257/257 [==============================] - 24s 95ms/step - loss: 0.2821 - accuracy: 0.8917 - val_loss: 0.2486 - val_accuracy: 0.9144\n",
      "Epoch 4/5\n",
      "257/257 [==============================] - 24s 94ms/step - loss: 0.2541 - accuracy: 0.9029 - val_loss: 0.2490 - val_accuracy: 0.9100\n",
      "Epoch 5/5\n",
      "257/257 [==============================] - 25s 96ms/step - loss: 0.2319 - accuracy: 0.9122 - val_loss: 0.2009 - val_accuracy: 0.9177\n",
      "Results for current fold:\n",
      "8/8 [==============================] - 1s 64ms/step - loss: 0.1927 - accuracy: 0.9269\n",
      "Fold:  5\n",
      "Epoch 1/5\n",
      "257/257 [==============================] - 25s 96ms/step - loss: 0.7838 - accuracy: 0.6722 - val_loss: 0.9624 - val_accuracy: 0.7179\n",
      "Epoch 2/5\n",
      "257/257 [==============================] - 24s 93ms/step - loss: 0.3551 - accuracy: 0.8588 - val_loss: 0.9986 - val_accuracy: 0.7914\n",
      "Epoch 3/5\n",
      "257/257 [==============================] - 22s 87ms/step - loss: 0.3012 - accuracy: 0.8854 - val_loss: 0.2724 - val_accuracy: 0.9078\n",
      "Epoch 4/5\n",
      "257/257 [==============================] - 24s 94ms/step - loss: 0.2807 - accuracy: 0.8952 - val_loss: 0.2595 - val_accuracy: 0.9078\n",
      "Epoch 5/5\n",
      "257/257 [==============================] - 24s 94ms/step - loss: 0.2463 - accuracy: 0.9149 - val_loss: 0.1954 - val_accuracy: 0.9232\n",
      "Results for current fold:\n",
      "8/8 [==============================] - 1s 79ms/step - loss: 0.1921 - accuracy: 0.9289\n",
      "Fold:  6\n",
      "Epoch 1/5\n",
      "257/257 [==============================] - 24s 95ms/step - loss: 0.7974 - accuracy: 0.6518 - val_loss: 0.5693 - val_accuracy: 0.7585\n",
      "Epoch 2/5\n",
      "257/257 [==============================] - 25s 96ms/step - loss: 0.3617 - accuracy: 0.8593 - val_loss: 0.2394 - val_accuracy: 0.8979\n",
      "Epoch 3/5\n",
      "257/257 [==============================] - 25s 96ms/step - loss: 0.2773 - accuracy: 0.8949 - val_loss: 0.2991 - val_accuracy: 0.8793\n",
      "Epoch 4/5\n",
      "257/257 [==============================] - 24s 95ms/step - loss: 0.2600 - accuracy: 0.9068 - val_loss: 0.1811 - val_accuracy: 0.9330\n",
      "Epoch 5/5\n",
      "257/257 [==============================] - 25s 96ms/step - loss: 0.2413 - accuracy: 0.9166 - val_loss: 0.2255 - val_accuracy: 0.9319\n",
      "Results for current fold:\n",
      "8/8 [==============================] - 1s 75ms/step - loss: 0.3151 - accuracy: 0.9023\n",
      "Fold:  7\n",
      "Epoch 1/5\n",
      "257/257 [==============================] - 25s 95ms/step - loss: 0.7779 - accuracy: 0.6634 - val_loss: 0.8847 - val_accuracy: 0.6992\n",
      "Epoch 2/5\n",
      "257/257 [==============================] - 24s 95ms/step - loss: 0.3491 - accuracy: 0.8673 - val_loss: 0.2423 - val_accuracy: 0.8957\n",
      "Epoch 3/5\n",
      "257/257 [==============================] - 24s 94ms/step - loss: 0.2793 - accuracy: 0.8910 - val_loss: 0.4716 - val_accuracy: 0.8672\n",
      "Epoch 4/5\n",
      "257/257 [==============================] - 24s 95ms/step - loss: 0.2600 - accuracy: 0.9061 - val_loss: 0.2866 - val_accuracy: 0.8825\n",
      "Epoch 5/5\n",
      "257/257 [==============================] - 24s 94ms/step - loss: 0.2296 - accuracy: 0.9177 - val_loss: 0.1989 - val_accuracy: 0.9199\n",
      "Results for current fold:\n",
      "8/8 [==============================] - 1s 89ms/step - loss: 0.2243 - accuracy: 0.9131\n",
      "Fold:  8\n",
      "Epoch 1/5\n",
      "257/257 [==============================] - 25s 96ms/step - loss: 0.7255 - accuracy: 0.7015 - val_loss: 0.3555 - val_accuracy: 0.8639\n",
      "Epoch 2/5\n",
      "257/257 [==============================] - 24s 94ms/step - loss: 0.3485 - accuracy: 0.8597 - val_loss: 0.2831 - val_accuracy: 0.8858\n",
      "Epoch 3/5\n",
      "257/257 [==============================] - 24s 94ms/step - loss: 0.2920 - accuracy: 0.8806 - val_loss: 0.3911 - val_accuracy: 0.8760\n",
      "Epoch 4/5\n",
      "257/257 [==============================] - 24s 94ms/step - loss: 0.2682 - accuracy: 0.8969 - val_loss: 0.2231 - val_accuracy: 0.9067\n",
      "Epoch 5/5\n",
      "257/257 [==============================] - 23s 88ms/step - loss: 0.2324 - accuracy: 0.9113 - val_loss: 0.2205 - val_accuracy: 0.9155\n",
      "Results for current fold:\n",
      "8/8 [==============================] - 1s 64ms/step - loss: 0.1988 - accuracy: 0.9269\n",
      "Fold:  9\n",
      "Epoch 1/5\n",
      "257/257 [==============================] - 25s 96ms/step - loss: 0.7207 - accuracy: 0.6983 - val_loss: 0.3965 - val_accuracy: 0.8452\n",
      "Epoch 2/5\n",
      "257/257 [==============================] - 24s 95ms/step - loss: 0.3233 - accuracy: 0.8739 - val_loss: 0.3528 - val_accuracy: 0.8650\n",
      "Epoch 3/5\n",
      "257/257 [==============================] - 24s 94ms/step - loss: 0.2766 - accuracy: 0.8940 - val_loss: 0.2131 - val_accuracy: 0.9188\n",
      "Epoch 4/5\n",
      "257/257 [==============================] - 24s 94ms/step - loss: 0.2613 - accuracy: 0.9050 - val_loss: 0.2491 - val_accuracy: 0.9034\n",
      "Epoch 5/5\n",
      "257/257 [==============================] - 24s 95ms/step - loss: 0.2385 - accuracy: 0.9184 - val_loss: 0.1662 - val_accuracy: 0.9418\n",
      "Results for current fold:\n",
      "8/8 [==============================] - 0s 62ms/step - loss: 0.2783 - accuracy: 0.9042\n",
      "Fold:  10\n",
      "Epoch 1/5\n",
      "257/257 [==============================] - 25s 96ms/step - loss: 0.7630 - accuracy: 0.6802 - val_loss: 0.3068 - val_accuracy: 0.8617\n",
      "Epoch 2/5\n",
      "257/257 [==============================] - 24s 94ms/step - loss: 0.3418 - accuracy: 0.8606 - val_loss: 0.5232 - val_accuracy: 0.8507\n",
      "Epoch 3/5\n",
      "257/257 [==============================] - 24s 95ms/step - loss: 0.2940 - accuracy: 0.8847 - val_loss: 0.2357 - val_accuracy: 0.9100\n",
      "Epoch 4/5\n",
      "257/257 [==============================] - 24s 95ms/step - loss: 0.2659 - accuracy: 0.9033 - val_loss: 0.5701 - val_accuracy: 0.8518\n",
      "Epoch 5/5\n",
      "257/257 [==============================] - 24s 94ms/step - loss: 0.2487 - accuracy: 0.9083 - val_loss: 0.2398 - val_accuracy: 0.8990\n",
      "Results for current fold:\n",
      "8/8 [==============================] - 1s 84ms/step - loss: 0.2725 - accuracy: 0.8954\n"
     ]
    }
   ],
   "source": [
    "from sklearn.model_selection import StratifiedKFold\n",
    "from scipy.stats import zscore\n",
    "from sklearn import metrics\n",
    "import tensorflow as tf\n",
    "import random\n",
    "\n",
    "f_score=[]\n",
    "fold = 10\n",
    "label_names = ['0', '1', '2']\n",
    "num_epochs = 5\n",
    "batch_size = 32\n",
    "#oos_y = []\n",
    "#oos_pred = []\n",
    "results = []\n",
    "#for train, test in kf.split(data[\"tokens\"], data['Label']):\n",
    "\n",
    "for i in range(fold):\n",
    "    print(\"Fold: \", i+1)\n",
    "    random_num = np.random.randint(1,7000, 1)[0]\n",
    "    data_train, data_test = train_test_split(data, test_size=0.10, shuffle = True, random_state = random_num)\n",
    "\n",
    "    # # total training words\n",
    "    totalTrainingWords = [word for tokens in data_train[\"tokens\"] for word in tokens]\n",
    "\n",
    "    # # Storing Length of the training sentence\n",
    "    lengthTrainingSentences = [len(tokens) for tokens in data_train[\"tokens\"]]\n",
    "\n",
    "    # # training Vocabulary size\n",
    "    trainingVocabSize = sorted(list(set(totalTrainingWords)))\n",
    "\n",
    "    ## Total number of lines\n",
    "    linesCount = len(data_train[\"tokens\"])\n",
    "    \n",
    "    tokenizer = Tokenizer(num_words=len(trainingVocabSize), lower=True, char_level=False)\n",
    "    tokenizer.fit_on_texts(data_train[\"Text_Final\"].tolist())\n",
    "    training_sequences = tokenizer.texts_to_sequences(data_train[\"Text_Final\"].tolist())\n",
    "\n",
    "    train_word_index = tokenizer.word_index\n",
    "    cnnTrainData = pad_sequences(training_sequences, maxlen=MAX_SEQUENCE_LENGTH)\n",
    "    \n",
    "    train_embedding_weights = np.zeros((len(train_word_index)+1, EMBEDDING_DIM))\n",
    "    \n",
    "    for word,index in train_word_index.items():\n",
    "        train_embedding_weights[index,:] = word2vec[word] if word in word2vec else np.random.rand(EMBEDDING_DIM)\n",
    "        \n",
    "    test_sequences = tokenizer.texts_to_sequences(data_test[\"Text_Final\"].tolist())\n",
    "    cnnTestData = pad_sequences(test_sequences, maxlen= MAX_SEQUENCE_LENGTH)\n",
    "    \n",
    "    # Splitting train data into X_train and y_train\n",
    "    y_train = data_train[label_names].values\n",
    "    x_train = cnnTrainData\n",
    "    y_tr = y_train\n",
    "    \n",
    "    # Splitting train data into X_test and y_test\n",
    "    y_test = data_test[label_names].values\n",
    "    x_test = cnnTestData\n",
    "    y_tst = y_test\n",
    "    \n",
    "    # create model\n",
    "    model = ConvolutionalNeuralNet(train_embedding_weights, MAX_SEQUENCE_LENGTH, len(train_word_index)+1, EMBEDDING_DIM, len(list(label_names)))\n",
    "    \n",
    "    #Train Model\n",
    "    history = model.fit(x_train, y_tr, epochs=num_epochs, validation_split=0.1, shuffle=True, batch_size=batch_size)\n",
    "      \n",
    "    # model evaluate\n",
    "    \n",
    "    print(\"Results for current fold:\")\n",
    "    results.append(model.evaluate(x_test, y_tst, batch_size=128))\n",
    "\n",
    "model.save('model_CNN.h5')    "
   ]
  },
  {
   "cell_type": "code",
   "execution_count": 81,
   "metadata": {},
   "outputs": [
    {
     "name": "stdout",
     "output_type": "stream",
     "text": [
      "Kfold Mean:  0.8974333703517914\n"
     ]
    }
   ],
   "source": [
    "import statistics \n",
    "\n",
    "score = []\n",
    "for i in results:\n",
    "    score.append(i[1])\n",
    "x = statistics.mean(score)\n",
    "    \n",
    "print(\"Kfold Mean: \", x)"
   ]
  },
  {
   "cell_type": "code",
   "execution_count": 82,
   "metadata": {},
   "outputs": [],
   "source": [
    "# translator\n",
    "translator = Translator()"
   ]
  },
  {
   "cell_type": "code",
   "execution_count": 83,
   "metadata": {},
   "outputs": [
    {
     "name": "stdout",
     "output_type": "stream",
     "text": [
      "Hindi:  इसलाम सुंदर है\n",
      "Translated: Islam is beautiful\n",
      "Predicted Label:  0\n"
     ]
    }
   ],
   "source": [
    "\n",
    "# 1\n",
    "hin_text =  \"इसलाम सुंदर है\"\n",
    "print(\"Hindi: \", hin_text)\n",
    "\n",
    "trans = translator.translate(hin_text, dest='en')\n",
    "print('Translated:', trans.text)\n",
    "texts = [trans.text]\n",
    "print('Predicted Label: ',makeprediction(texts))"
   ]
  },
  {
   "cell_type": "code",
   "execution_count": 84,
   "metadata": {},
   "outputs": [
    {
     "name": "stdout",
     "output_type": "stream",
     "text": [
      "Hindi:   समाज वादी  पार्टी  जिंदाबाद \n",
      "Translated: Samajwadi Party Zindabad\n",
      "Predicted Label:  0\n"
     ]
    }
   ],
   "source": [
    "# 0\n",
    "hin_text =  \" समाज वादी  पार्टी  जिंदाबाद \"\n",
    "print(\"Hindi: \", hin_text)\n",
    "\n",
    "trans = translator.translate(hin_text, dest='en')\n",
    "print('Translated:', trans.text)\n",
    "texts = [trans.text]\n",
    "print('Predicted Label: ',makeprediction(texts))"
   ]
  },
  {
   "cell_type": "code",
   "execution_count": 85,
   "metadata": {},
   "outputs": [
    {
     "name": "stdout",
     "output_type": "stream",
     "text": [
      "Hindi:  'गाजा में दीवाली की ढेरो बधाई मित्रो 😊💐  #IsraeliBombing 😂😂\n",
      "Translated: 'Happy Diwali greetings in Gaza Friends 😊💐 #IsraeliBombing 😂😂\n",
      "Predicted Label:  2\n"
     ]
    }
   ],
   "source": [
    "# 2\n",
    "hin_text =  \"'गाजा में दीवाली की ढेरो बधाई मित्रो 😊💐  #IsraeliBombing 😂😂\"\n",
    "print(\"Hindi: \", hin_text)\n",
    "\n",
    "trans = translator.translate(hin_text, dest='en')\n",
    "print('Translated:', trans.text)\n",
    "texts = [trans.text]\n",
    "print('Predicted Label: ',makeprediction(texts))"
   ]
  },
  {
   "cell_type": "code",
   "execution_count": 86,
   "metadata": {},
   "outputs": [
    {
     "name": "stdout",
     "output_type": "stream",
     "text": [
      "2\n"
     ]
    }
   ],
   "source": [
    "#0\n",
    "texts = [\"Sachin: Once there was a fight between Yusuf and Bhajji. Sehwag: Paji, was he Muhammad Yusuf or Yusuf Youhana at that time. This man will not let him live even after retirement.\"]\n",
    "print(makeprediction(texts))"
   ]
  },
  {
   "cell_type": "code",
   "execution_count": 87,
   "metadata": {},
   "outputs": [
    {
     "name": "stdout",
     "output_type": "stream",
     "text": [
      "2\n"
     ]
    }
   ],
   "source": [
    "# 2\n",
    "texts = [\"'@ Chatterj1Asking has blew you there, the police have blamed jihadis'\"]\n",
    "print(makeprediction(texts))"
   ]
  },
  {
   "cell_type": "code",
   "execution_count": 88,
   "metadata": {},
   "outputs": [
    {
     "name": "stdout",
     "output_type": "stream",
     "text": [
      "0\n"
     ]
    }
   ],
   "source": [
    "# 1\n",
    "texts = [\"She follows islam\"]\n",
    "print(makeprediction(texts))"
   ]
  },
  {
   "cell_type": "markdown",
   "metadata": {},
   "source": [
    "### Reference\n",
    "[1] \"Convolutional Neural Networks for Sentence Classification\" by Yoon Kim\n"
   ]
  },
  {
   "cell_type": "code",
   "execution_count": null,
   "metadata": {},
   "outputs": [],
   "source": []
  }
 ],
 "metadata": {
  "kernelspec": {
   "display_name": "Python 3",
   "language": "python",
   "name": "python3"
  },
  "language_info": {
   "codemirror_mode": {
    "name": "ipython",
    "version": 3
   },
   "file_extension": ".py",
   "mimetype": "text/x-python",
   "name": "python",
   "nbconvert_exporter": "python",
   "pygments_lexer": "ipython3",
   "version": "3.8.5"
  }
 },
 "nbformat": 4,
 "nbformat_minor": 4
}
