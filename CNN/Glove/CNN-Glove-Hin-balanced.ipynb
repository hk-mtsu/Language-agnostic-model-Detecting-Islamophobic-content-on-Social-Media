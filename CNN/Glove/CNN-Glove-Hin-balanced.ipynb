{
 "cells": [
  {
   "cell_type": "markdown",
   "metadata": {},
   "source": [
    "\n",
    "# Convolutional Neural Network CNN\n",
    "1. Using Word2Vec implementing CNN model\n",
    "2. Dispaly Confusion Matrix, precision, recall and F1-score\n",
    "3. Display few prediction using predict module. \n",
    "4. Get 10-fold Average of the CNN model."
   ]
  },
  {
   "cell_type": "code",
   "execution_count": 124,
   "metadata": {},
   "outputs": [],
   "source": [
    "from __future__ import division, print_function\n",
    "\n",
    "# dataframe\n",
    "import pandas as pd\n",
    "\n",
    "# numpy array\n",
    "import numpy as np\n",
    "\n",
    "# figures visualization\n",
    "import matplotlib.pyplot as plt\n",
    "from sklearn.metrics import confusion_matrix \n",
    "import seaborn as sns\n",
    "\n",
    "# calc accuracy\n",
    "from sklearn.metrics import accuracy_score \n",
    "from sklearn.metrics import classification_report \n",
    "\n",
    "# word2vec\n",
    "import gensim \n",
    "from gensim import models\n",
    "from gensim.models import Word2Vec \n",
    "from gensim.models import KeyedVectors\n",
    "\n",
    "# CNN model and keras preprocessing\n",
    "import keras\n",
    "from keras.callbacks import ModelCheckpoint\n",
    "from keras.layers import Dense, Dropout, Reshape, Flatten, concatenate, Input, Conv1D, GlobalMaxPooling1D, Embedding, Conv2D, GlobalMaxPooling2D\n",
    "from keras.models import Sequential\n",
    "from keras.models import Model\n",
    "from keras.preprocessing.text import Tokenizer\n",
    "from keras.preprocessing.sequence import pad_sequences\n",
    "\n",
    "# nltk data preprocessing\n",
    "import nltk\n",
    "from nltk import word_tokenize\n",
    "from nltk.tokenize import sent_tokenize \n",
    "from nltk.stem import WordNetLemmatizer\n",
    "\n",
    "# stopword - remove buzz word\n",
    "from nltk.corpus import stopwords\n",
    "\n",
    "# splitting data\n",
    "from sklearn.model_selection import train_test_split\n",
    "\n",
    "# punctuation - data imbalance\n",
    "import collections\n",
    "import re\n",
    "import string\n",
    "\n",
    "# File path\n",
    "import os\n",
    "import os.path\n",
    "from os import path\n",
    "\n",
    "# Translator\n",
    "import googletrans\n",
    "from googletrans import Translator"
   ]
  },
  {
   "cell_type": "code",
   "execution_count": 125,
   "metadata": {},
   "outputs": [],
   "source": [
    "# original hindi file\n",
    "filename  = 'Eng-Hin-data/hindi-anot-shuffled'\n",
    "orig_df = pd.read_csv(filename + '.csv',  \n",
    "               delimiter=',')\n",
    "orig_df.columns = ['Text', 'Label']"
   ]
  },
  {
   "cell_type": "code",
   "execution_count": 126,
   "metadata": {},
   "outputs": [
    {
     "data": {
      "text/plain": [
       "<bound method NDFrame.head of                                                    Text  Label\n",
       "0     'गाजा में दीवाली   की ढेरो बधाई मित्रो 😊💐  #Is...      0\n",
       "1        '@SanjayGadhiaINC @IndiaToday18 अज़ाबे इलाही 👍      1\n",
       "2     'आखिर अब #सुशांत_सिंह_राजपूत जी को न्याय मिल ज...      0\n",
       "3     'अमीन के 500 से अधिक छात्रों ने सर्वे भवन के ग...      0\n",
       "4     '@deoriapolice @Uppolice @myogiadityanath @spg...      0\n",
       "...                                                 ...    ...\n",
       "8788                  '@atullondhe राहुल गांधी जिंदाबाद      0\n",
       "8789  'पैगंबर हज़रत मुहम्मद सल्लल्लाहु अलैहि वसल्लम ...      1\n",
       "8790  'कर्नाटक बेंगलुरू में अल्लाह मोहम्मद गांडू के ...      2\n",
       "8791  'अच्छी खबर है ऐसे एक एक कर सभी जेहादी भारतीय फ...      2\n",
       "8792  '@Ruzena__Malik जनता चाइना से दीवाली की लड़ी ख...      0\n",
       "\n",
       "[8793 rows x 2 columns]>"
      ]
     },
     "execution_count": 126,
     "metadata": {},
     "output_type": "execute_result"
    }
   ],
   "source": [
    "orig_df.head"
   ]
  },
  {
   "cell_type": "code",
   "execution_count": 127,
   "metadata": {},
   "outputs": [
    {
     "data": {
      "text/plain": [
       "\"'आज के दिन ही मेरा क्रिकेट प्रेम भी समाप्त हो गया\""
      ]
     },
     "execution_count": 127,
     "metadata": {},
     "output_type": "execute_result"
    }
   ],
   "source": [
    "orig_df.Text[6]"
   ]
  },
  {
   "cell_type": "code",
   "execution_count": 128,
   "metadata": {},
   "outputs": [
    {
     "name": "stdout",
     "output_type": "stream",
     "text": [
      "Translated file exist\n"
     ]
    }
   ],
   "source": [
    "# For non English data\n",
    "if not path.exists(filename + '-translated.csv'):\n",
    "    print(\"Translated file does not exist\")\n",
    "    p_data = pd.read_csv(\"Eng-Hin-data/hindi-anot-shuffled.csv\")\n",
    "    #data =  data.drop('Strength',1)\n",
    "    translator = Translator()\n",
    "    col_one_list = p_data['Text'].tolist()\n",
    "    len(col_one_list)\n",
    "    result = []\n",
    "    for i  in range(len(col_one_list)):\n",
    "        try:\n",
    "            trans = translator.translate(col_one_list[i], dest='en')\n",
    "            result.append(trans.text)\n",
    "        except:\n",
    "                result.append(col_one_list[i])\n",
    "    p_data['Text'] = result\n",
    "    p_data.to_csv(filename + '-translated.csv', index=False)\n",
    "    df = pd.read_csv(filename + '-translated.csv',  \n",
    "                   delimiter=',')\n",
    "    df.columns = ['Text', 'Label']\n",
    "    df.head(15)\n",
    "    df[\"Text\"] = df[\"Text\"].astype(str)\n",
    "    df[\"Label\"] = df[\"Label\"].astype(str)\n",
    "    data = df\n",
    "else:\n",
    "    print(\"Translated file exist\")\n",
    "    df = pd.read_csv(filename + '-translated.csv',  \n",
    "                   delimiter=',')\n",
    "    df.columns = ['Text', 'Label']\n",
    "    df.head(15)\n",
    "    df[\"Text\"] = df[\"Text\"].astype(str)\n",
    "    df[\"Label\"] = df[\"Label\"].astype(str)\n",
    "    data = df"
   ]
  },
  {
   "cell_type": "code",
   "execution_count": 129,
   "metadata": {},
   "outputs": [
    {
     "data": {
      "text/plain": [
       "\"'Today also my cricket love has ended\""
      ]
     },
     "execution_count": 129,
     "metadata": {},
     "output_type": "execute_result"
    }
   ],
   "source": [
    "df.Text[6]"
   ]
  },
  {
   "cell_type": "markdown",
   "metadata": {},
   "source": [
    "### Class count"
   ]
  },
  {
   "cell_type": "code",
   "execution_count": 130,
   "metadata": {},
   "outputs": [
    {
     "data": {
      "image/png": "[encoded data removed]",
      "text/plain": [
       "<Figure size 432x288 with 1 Axes>"
      ]
     },
     "metadata": {
      "needs_background": "light"
     },
     "output_type": "display_data"
    }
   ],
   "source": [
    "import matplotlib.pyplot as plt\n",
    "fig = plt.figure(figsize=(6,4))\n",
    "df.groupby('Label').Text.count().plot.bar(ylim=0)\n",
    "plt.show()"
   ]
  },
  {
   "cell_type": "code",
   "execution_count": 131,
   "metadata": {},
   "outputs": [
    {
     "data": {
      "text/plain": [
       "2    3374\n",
       "0    3246\n",
       "1    2173\n",
       "Name: Label, dtype: int64"
      ]
     },
     "execution_count": 131,
     "metadata": {},
     "output_type": "execute_result"
    }
   ],
   "source": [
    "# For entire dataset sentences for each labels \n",
    "df.Label.value_counts()"
   ]
  },
  {
   "cell_type": "markdown",
   "metadata": {},
   "source": [
    "### Balancing Data"
   ]
  },
  {
   "cell_type": "code",
   "execution_count": 132,
   "metadata": {},
   "outputs": [],
   "source": [
    "#balancing data \n",
    "from collections import Counter\n",
    "import numpy as np\n",
    "def balanceClasses(xs, ys):\n",
    "    item = {}\n",
    "    new_ys = []\n",
    "    new_xs = []\n",
    "    #\"\"\"Undersample xs, ys to balance classes.\"\"\"\n",
    "    freqs = Counter(ys)\n",
    "    # the most common class  is the maximum number we want for all classes\n",
    "    max_allowable = (freqs.most_common()[0][1])\n",
    "    \n",
    "    for val in freqs.most_common(): # List\n",
    "        nums = np.random.randint(1000)\n",
    "        i = 1\n",
    "        item[val[0]] = max_allowable - val[1]\n",
    "        \n",
    "        if item[val[0]] > 0:            \n",
    "            while(item[val[0]] - i != 0): \n",
    "                nums = nums + 1\n",
    "                if ys[nums] == val[0]:\n",
    "                    i += 1\n",
    "                    new_ys.append(ys[nums])\n",
    "                    new_xs.append(xs[nums])\n",
    "    return new_xs, new_ys"
   ]
  },
  {
   "cell_type": "code",
   "execution_count": 133,
   "metadata": {},
   "outputs": [],
   "source": [
    "new_text, new_label = balanceClasses(df['Text'], df['Label'])"
   ]
  },
  {
   "cell_type": "code",
   "execution_count": 134,
   "metadata": {},
   "outputs": [],
   "source": [
    "data = pd.DataFrame(new_text)\n",
    "data.columns = ['Text']\n",
    "data['Label'] = new_label\n",
    "data = pd.concat([df, data])"
   ]
  },
  {
   "cell_type": "code",
   "execution_count": 135,
   "metadata": {},
   "outputs": [
    {
     "data": {
      "image/png": "[encoded data removed]",
      "text/plain": [
       "<Figure size 432x288 with 1 Axes>"
      ]
     },
     "metadata": {
      "needs_background": "light"
     },
     "output_type": "display_data"
    }
   ],
   "source": [
    "fig1 = plt.figure(figsize=(6,4))\n",
    "data.groupby('Label').Text.count().plot.bar(ylim=0)\n",
    "plt.show()"
   ]
  },
  {
   "cell_type": "code",
   "execution_count": 136,
   "metadata": {},
   "outputs": [
    {
     "data": {
      "text/plain": [
       "2    3374\n",
       "1    3373\n",
       "0    3373\n",
       "Name: Label, dtype: int64"
      ]
     },
     "execution_count": 136,
     "metadata": {},
     "output_type": "execute_result"
    }
   ],
   "source": [
    "data.Label.value_counts()"
   ]
  },
  {
   "cell_type": "markdown",
   "metadata": {},
   "source": [
    "### Data Preprocessing"
   ]
  },
  {
   "cell_type": "code",
   "execution_count": 137,
   "metadata": {},
   "outputs": [],
   "source": [
    "# People usually join sentences using more than one colon \n",
    "\n",
    "def ReplaceDoubleColon(inputString):\n",
    "    return inputString.replace(\"..\", \" \") \n",
    "\n",
    "data['Text'] = data['Text'].apply(lambda x: ReplaceDoubleColon(x))\n",
    "\n",
    "def ReplaceTripleColon(inputString):\n",
    "    return inputString.replace(\"...\", \" \") \n",
    "\n",
    "data['Text'] = data['Text'].apply(lambda x: ReplaceTripleColon(x))\n",
    "\n",
    "def ReplaceFourColon(inputString):\n",
    "    return inputString.replace(\"....\", \" \") \n",
    "\n",
    "data['Text'] = data['Text'].apply(lambda x: ReplaceFourColon(x))"
   ]
  },
  {
   "cell_type": "code",
   "execution_count": 138,
   "metadata": {},
   "outputs": [],
   "source": [
    "def textPattern(text):\n",
    "\n",
    "    # Clean the text\n",
    "    text = re.sub(r\"@\", \" \", text)\n",
    "    text = re.sub(r\"'\", \" \", text)\n",
    "    text = re.sub(r\"what's\", \"what is\", text)\n",
    "    text = re.sub(r\"\\'s\", \" \", text)\n",
    "    text = re.sub(r\"\\'ve\", \"have\", text)\n",
    "    text = re.sub(r\"can't\", \"can not\", text)\n",
    "    text = re.sub(r\"aren't\", \"are not\", text)\n",
    "    text = re.sub(r\"couldn't\", \"could not\", text)\n",
    "    text = re.sub(r\"didn't\", \"did not\", text)\n",
    "    text = re.sub(r\"doesn't\", \"does not\", text)\n",
    "    text = re.sub(r\"don't\", \"do not\", text)\n",
    "    text = re.sub(r\"hadn't\", \"had not\", text)\n",
    "    text = re.sub(r\"hasn't\", \"has not\", text)\n",
    "    text = re.sub(r\"haven't\", \"have not\", text)\n",
    "    text = re.sub(r\"isn't\", \"is not\", text)\n",
    "    text = re.sub(r\"shouldn't\", \"should not\", text)\n",
    "    text = re.sub(r\"wasn't\", \"was not\", text)\n",
    "    text = re.sub(r\"weren't\", \"were not\", text)\n",
    "    text = re.sub(r\"won't\", \"will not\", text)\n",
    "    text = re.sub(r\"wouldn't\", \"would not\", text)\n",
    "    text = re.sub(r\"mustn't\", \"must not\", text)\n",
    "    text = re.sub(r\"i'm\", \"i am\", text)\n",
    "    text = re.sub(r\"\\'re\", \"are\", text)\n",
    "    text = re.sub(r\",\", \" \", text)\n",
    "    text = re.sub(r\"\\.\", \" \", text)\n",
    "    text = re.sub(r\"!\", \" \", text)\n",
    "    text = re.sub(r\"\\/\", \" \", text)\n",
    "    text = re.sub(r\"\\^\", \" ^ \", text)\n",
    "    text = re.sub(r\"\\+\", \" \", text)\n",
    "    text = re.sub(r\"\\-\", \" - \", text)\n",
    "    text = re.sub(r\"\\= =\", \" \", text)\n",
    "    text = re.sub(r\"\\==\", \" \", text)\n",
    "    text = re.sub(r\"'\", \" \", text)\n",
    "    text = re.sub(r\"(\\d+)(k)\", r\"\\g<1>000\", text)\n",
    "    text = re.sub(r\":\", \" : \", text)\n",
    "    text = re.sub(r\"\\0s\", \"0\", text)\n",
    "    text = re.sub(r\" 9 11 \", \"911\", text)\n",
    "    text = re.sub(r\"\\s{2,}\", \" \", text)\n",
    "    return text\n",
    "\n",
    "data['Text'] = data['Text'].apply(lambda x: textPattern(x))"
   ]
  },
  {
   "cell_type": "code",
   "execution_count": 139,
   "metadata": {},
   "outputs": [
    {
     "data": {
      "text/plain": [
       "(10120, 2)"
      ]
     },
     "execution_count": 139,
     "metadata": {},
     "output_type": "execute_result"
    }
   ],
   "source": [
    "data.shape"
   ]
  },
  {
   "cell_type": "code",
   "execution_count": 140,
   "metadata": {},
   "outputs": [],
   "source": [
    "# Word Tokenization\n",
    "tokens = [word_tokenize(sen) for sen in data.Text]"
   ]
  },
  {
   "cell_type": "code",
   "execution_count": 141,
   "metadata": {},
   "outputs": [],
   "source": [
    "# Lower Case\n",
    "def lower_token(tokens): \n",
    "    return [w.lower() for w in tokens]    \n",
    "    \n",
    "lower_tokens = [lower_token(token) for token in tokens]"
   ]
  },
  {
   "cell_type": "code",
   "execution_count": 142,
   "metadata": {},
   "outputs": [],
   "source": [
    "# Remove Link\n",
    "\n",
    "def removeLink(token):\n",
    "    word = []\n",
    "    for w in token:\n",
    "        if not w.startswith('http'):\n",
    "            word.append(w)\n",
    "    return word \n",
    "    \n",
    "removedLink_tokens = [removeLink(token) for token in lower_tokens]"
   ]
  },
  {
   "cell_type": "code",
   "execution_count": 143,
   "metadata": {},
   "outputs": [],
   "source": [
    "# Word Lemmatization\n",
    "def lemmatization(token):\n",
    "    return [lemmatizer.lemmatize(w) for w in token] \n",
    "\n",
    "lemmatizer = WordNetLemmatizer()\n",
    "\n",
    "lemmatized_tokens = [lemmatization(token) for token in removedLink_tokens]"
   ]
  },
  {
   "cell_type": "code",
   "execution_count": 144,
   "metadata": {},
   "outputs": [],
   "source": [
    "filtered_words = [sen for sen in lemmatized_tokens]\n",
    "data['Text_Final'] = [' '.join(sen) for sen in filtered_words]\n",
    "data['tokens'] = filtered_words"
   ]
  },
  {
   "cell_type": "code",
   "execution_count": 145,
   "metadata": {},
   "outputs": [],
   "source": [
    "zero  = []\n",
    "one = []\n",
    "two = []\n",
    "for l in data.Label:\n",
    "    \n",
    "    if l == '0':\n",
    "        zero.append(1)\n",
    "        one.append(0)\n",
    "        two.append(0)\n",
    "    elif l == '1':\n",
    "        zero.append(0)\n",
    "        one.append(1)\n",
    "        two.append(0)\n",
    "    elif l == '2':\n",
    "        zero.append(0)\n",
    "        one.append(0)\n",
    "        two.append(1)\n",
    "        \n",
    "data['0']= zero\n",
    "data['1']= one\n",
    "data['2']= two\n",
    "\n",
    "data = data[['Text_Final', 'tokens', 'Label', '0', '1', '2']]"
   ]
  },
  {
   "cell_type": "code",
   "execution_count": 147,
   "metadata": {},
   "outputs": [
    {
     "data": {
      "text/html": [
       "<div>\n",
       "<style scoped>\n",
       "    .dataframe tbody tr th:only-of-type {\n",
       "        vertical-align: middle;\n",
       "    }\n",
       "\n",
       "    .dataframe tbody tr th {\n",
       "        vertical-align: top;\n",
       "    }\n",
       "\n",
       "    .dataframe thead th {\n",
       "        text-align: right;\n",
       "    }\n",
       "</style>\n",
       "<table border=\"1\" class=\"dataframe\">\n",
       "  <thead>\n",
       "    <tr style=\"text-align: right;\">\n",
       "      <th></th>\n",
       "      <th>Text_Final</th>\n",
       "      <th>tokens</th>\n",
       "      <th>Label</th>\n",
       "      <th>0</th>\n",
       "      <th>1</th>\n",
       "      <th>2</th>\n",
       "      <th>Category_id</th>\n",
       "    </tr>\n",
       "  </thead>\n",
       "  <tbody>\n",
       "    <tr>\n",
       "      <th>0</th>\n",
       "      <td>happy diwali greeting in gaza friend 😊💐 # isra...</td>\n",
       "      <td>[happy, diwali, greeting, in, gaza, friend, 😊💐...</td>\n",
       "      <td>0</td>\n",
       "      <td>1</td>\n",
       "      <td>0</td>\n",
       "      <td>0</td>\n",
       "      <td>0</td>\n",
       "    </tr>\n",
       "    <tr>\n",
       "      <th>1</th>\n",
       "      <td>sanjaygadhiainc indiatoday18 azabe elahi 👍</td>\n",
       "      <td>[sanjaygadhiainc, indiatoday18, azabe, elahi, 👍]</td>\n",
       "      <td>1</td>\n",
       "      <td>0</td>\n",
       "      <td>1</td>\n",
       "      <td>0</td>\n",
       "      <td>1</td>\n",
       "    </tr>\n",
       "    <tr>\n",
       "      <th>2</th>\n",
       "      <td>after all now # sushant_singh_rajput ji will g...</td>\n",
       "      <td>[after, all, now, #, sushant_singh_rajput, ji,...</td>\n",
       "      <td>0</td>\n",
       "      <td>1</td>\n",
       "      <td>0</td>\n",
       "      <td>0</td>\n",
       "      <td>0</td>\n",
       "    </tr>\n",
       "    <tr>\n",
       "      <th>3</th>\n",
       "      <td>more than 500 student of amin performed half -...</td>\n",
       "      <td>[more, than, 500, student, of, amin, performed...</td>\n",
       "      <td>0</td>\n",
       "      <td>1</td>\n",
       "      <td>0</td>\n",
       "      <td>0</td>\n",
       "      <td>0</td>\n",
       "    </tr>\n",
       "    <tr>\n",
       "      <th>4</th>\n",
       "      <td>deoriapolice uppolice myogiadityanath spgrpall...</td>\n",
       "      <td>[deoriapolice, uppolice, myogiadityanath, spgr...</td>\n",
       "      <td>0</td>\n",
       "      <td>1</td>\n",
       "      <td>0</td>\n",
       "      <td>0</td>\n",
       "      <td>0</td>\n",
       "    </tr>\n",
       "    <tr>\n",
       "      <th>5</th>\n",
       "      <td>khanumarfa jihadi thinking when # rahat_indour...</td>\n",
       "      <td>[khanumarfa, jihadi, thinking, when, #, rahat_...</td>\n",
       "      <td>2</td>\n",
       "      <td>0</td>\n",
       "      <td>0</td>\n",
       "      <td>1</td>\n",
       "      <td>2</td>\n",
       "    </tr>\n",
       "    <tr>\n",
       "      <th>6</th>\n",
       "      <td>today also my cricket love ha ended</td>\n",
       "      <td>[today, also, my, cricket, love, ha, ended]</td>\n",
       "      <td>0</td>\n",
       "      <td>1</td>\n",
       "      <td>0</td>\n",
       "      <td>0</td>\n",
       "      <td>0</td>\n",
       "    </tr>\n",
       "    <tr>\n",
       "      <th>7</th>\n",
       "      <td>jihadi thought he had some work of a poet why ...</td>\n",
       "      <td>[jihadi, thought, he, had, some, work, of, a, ...</td>\n",
       "      <td>2</td>\n",
       "      <td>0</td>\n",
       "      <td>0</td>\n",
       "      <td>1</td>\n",
       "      <td>2</td>\n",
       "    </tr>\n",
       "    <tr>\n",
       "      <th>8</th>\n",
       "      <td>sanatan44005733 azadsamajparty0 manikar3002388...</td>\n",
       "      <td>[sanatan44005733, azadsamajparty0, manikar3002...</td>\n",
       "      <td>2</td>\n",
       "      <td>0</td>\n",
       "      <td>0</td>\n",
       "      <td>1</td>\n",
       "      <td>2</td>\n",
       "    </tr>\n",
       "    <tr>\n",
       "      <th>9</th>\n",
       "      <td>sambitswaraj a scared jihadi said to gaurav bh...</td>\n",
       "      <td>[sambitswaraj, a, scared, jihadi, said, to, ga...</td>\n",
       "      <td>2</td>\n",
       "      <td>0</td>\n",
       "      <td>0</td>\n",
       "      <td>1</td>\n",
       "      <td>2</td>\n",
       "    </tr>\n",
       "    <tr>\n",
       "      <th>10</th>\n",
       "      <td>incindia country will save narendra modi and d...</td>\n",
       "      <td>[incindia, country, will, save, narendra, modi...</td>\n",
       "      <td>0</td>\n",
       "      <td>1</td>\n",
       "      <td>0</td>\n",
       "      <td>0</td>\n",
       "      <td>0</td>\n",
       "    </tr>\n",
       "    <tr>\n",
       "      <th>11</th>\n",
       "      <td>sister kumari mayawati ji wa the only trusted ...</td>\n",
       "      <td>[sister, kumari, mayawati, ji, wa, the, only, ...</td>\n",
       "      <td>0</td>\n",
       "      <td>1</td>\n",
       "      <td>0</td>\n",
       "      <td>0</td>\n",
       "      <td>0</td>\n",
       "    </tr>\n",
       "    <tr>\n",
       "      <th>12</th>\n",
       "      <td>balvinderjogi bjp_250 sambitswaraj if a jihadi...</td>\n",
       "      <td>[balvinderjogi, bjp_250, sambitswaraj, if, a, ...</td>\n",
       "      <td>2</td>\n",
       "      <td>0</td>\n",
       "      <td>0</td>\n",
       "      <td>1</td>\n",
       "      <td>2</td>\n",
       "    </tr>\n",
       "    <tr>\n",
       "      <th>13</th>\n",
       "      <td>sachinpilot allah bless you a soon a possible</td>\n",
       "      <td>[sachinpilot, allah, bless, you, a, soon, a, p...</td>\n",
       "      <td>1</td>\n",
       "      <td>0</td>\n",
       "      <td>1</td>\n",
       "      <td>0</td>\n",
       "      <td>1</td>\n",
       "    </tr>\n",
       "    <tr>\n",
       "      <th>14</th>\n",
       "      <td>eng v pak 3rd test live cricket streaming : kn...</td>\n",
       "      <td>[eng, v, pak, 3rd, test, live, cricket, stream...</td>\n",
       "      <td>0</td>\n",
       "      <td>1</td>\n",
       "      <td>0</td>\n",
       "      <td>0</td>\n",
       "      <td>0</td>\n",
       "    </tr>\n",
       "    <tr>\n",
       "      <th>15</th>\n",
       "      <td>a single word in support of sushant singh rajp...</td>\n",
       "      <td>[a, single, word, in, support, of, sushant, si...</td>\n",
       "      <td>0</td>\n",
       "      <td>1</td>\n",
       "      <td>0</td>\n",
       "      <td>0</td>\n",
       "      <td>0</td>\n",
       "    </tr>\n",
       "    <tr>\n",
       "      <th>16</th>\n",
       "      <td>vinodkapri we have no grief over the death of ...</td>\n",
       "      <td>[vinodkapri, we, have, no, grief, over, the, d...</td>\n",
       "      <td>2</td>\n",
       "      <td>0</td>\n",
       "      <td>0</td>\n",
       "      <td>1</td>\n",
       "      <td>2</td>\n",
       "    </tr>\n",
       "    <tr>\n",
       "      <th>17</th>\n",
       "      <td>క్ duck_dube chowkidarhindu # jihadi</td>\n",
       "      <td>[క్, duck_dube, chowkidarhindu, #, jihadi]</td>\n",
       "      <td>2</td>\n",
       "      <td>0</td>\n",
       "      <td>0</td>\n",
       "      <td>1</td>\n",
       "      <td>2</td>\n",
       "    </tr>\n",
       "    <tr>\n",
       "      <th>18</th>\n",
       "      <td>struggle is our slogan in the struggle of ever...</td>\n",
       "      <td>[struggle, is, our, slogan, in, the, struggle,...</td>\n",
       "      <td>0</td>\n",
       "      <td>1</td>\n",
       "      <td>0</td>\n",
       "      <td>0</td>\n",
       "      <td>0</td>\n",
       "    </tr>\n",
       "    <tr>\n",
       "      <th>19</th>\n",
       "      <td>aisha 07 khoda conservation</td>\n",
       "      <td>[aisha, 07, khoda, conservation]</td>\n",
       "      <td>1</td>\n",
       "      <td>0</td>\n",
       "      <td>1</td>\n",
       "      <td>0</td>\n",
       "      <td>1</td>\n",
       "    </tr>\n",
       "    <tr>\n",
       "      <th>20</th>\n",
       "      <td>thepushpendra_ where the jihadi wa seen and bu...</td>\n",
       "      <td>[thepushpendra_, where, the, jihadi, wa, seen,...</td>\n",
       "      <td>2</td>\n",
       "      <td>0</td>\n",
       "      <td>0</td>\n",
       "      <td>1</td>\n",
       "      <td>2</td>\n",
       "    </tr>\n",
       "    <tr>\n",
       "      <th>21</th>\n",
       "      <td>iamprincekarn rahulku78506845 dainikbhaskar ne...</td>\n",
       "      <td>[iamprincekarn, rahulku78506845, dainikbhaskar...</td>\n",
       "      <td>2</td>\n",
       "      <td>0</td>\n",
       "      <td>0</td>\n",
       "      <td>1</td>\n",
       "      <td>2</td>\n",
       "    </tr>\n",
       "    <tr>\n",
       "      <th>22</th>\n",
       "      <td># godmorningtuesday currently all muslim devot...</td>\n",
       "      <td>[#, godmorningtuesday, currently, all, muslim,...</td>\n",
       "      <td>1</td>\n",
       "      <td>0</td>\n",
       "      <td>1</td>\n",
       "      <td>0</td>\n",
       "      <td>1</td>\n",
       "    </tr>\n",
       "    <tr>\n",
       "      <th>23</th>\n",
       "      <td>underworld hand behind sushant singh rajput s ...</td>\n",
       "      <td>[underworld, hand, behind, sushant, singh, raj...</td>\n",
       "      <td>0</td>\n",
       "      <td>1</td>\n",
       "      <td>0</td>\n",
       "      <td>0</td>\n",
       "      <td>0</td>\n",
       "    </tr>\n",
       "    <tr>\n",
       "      <th>24</th>\n",
       "      <td>or mercy on the muslim of allah gaja दे give m...</td>\n",
       "      <td>[or, mercy, on, the, muslim, of, allah, gaja, ...</td>\n",
       "      <td>1</td>\n",
       "      <td>0</td>\n",
       "      <td>1</td>\n",
       "      <td>0</td>\n",
       "      <td>1</td>\n",
       "    </tr>\n",
       "  </tbody>\n",
       "</table>\n",
       "</div>"
      ],
      "text/plain": [
       "                                           Text_Final  \\\n",
       "0   happy diwali greeting in gaza friend 😊💐 # isra...   \n",
       "1          sanjaygadhiainc indiatoday18 azabe elahi 👍   \n",
       "2   after all now # sushant_singh_rajput ji will g...   \n",
       "3   more than 500 student of amin performed half -...   \n",
       "4   deoriapolice uppolice myogiadityanath spgrpall...   \n",
       "5   khanumarfa jihadi thinking when # rahat_indour...   \n",
       "6                 today also my cricket love ha ended   \n",
       "7   jihadi thought he had some work of a poet why ...   \n",
       "8   sanatan44005733 azadsamajparty0 manikar3002388...   \n",
       "9   sambitswaraj a scared jihadi said to gaurav bh...   \n",
       "10  incindia country will save narendra modi and d...   \n",
       "11  sister kumari mayawati ji wa the only trusted ...   \n",
       "12  balvinderjogi bjp_250 sambitswaraj if a jihadi...   \n",
       "13      sachinpilot allah bless you a soon a possible   \n",
       "14  eng v pak 3rd test live cricket streaming : kn...   \n",
       "15  a single word in support of sushant singh rajp...   \n",
       "16  vinodkapri we have no grief over the death of ...   \n",
       "17               క్ duck_dube chowkidarhindu # jihadi   \n",
       "18  struggle is our slogan in the struggle of ever...   \n",
       "19                        aisha 07 khoda conservation   \n",
       "20  thepushpendra_ where the jihadi wa seen and bu...   \n",
       "21  iamprincekarn rahulku78506845 dainikbhaskar ne...   \n",
       "22  # godmorningtuesday currently all muslim devot...   \n",
       "23  underworld hand behind sushant singh rajput s ...   \n",
       "24  or mercy on the muslim of allah gaja दे give m...   \n",
       "\n",
       "                                               tokens Label  0  1  2  \\\n",
       "0   [happy, diwali, greeting, in, gaza, friend, 😊💐...     0  1  0  0   \n",
       "1    [sanjaygadhiainc, indiatoday18, azabe, elahi, 👍]     1  0  1  0   \n",
       "2   [after, all, now, #, sushant_singh_rajput, ji,...     0  1  0  0   \n",
       "3   [more, than, 500, student, of, amin, performed...     0  1  0  0   \n",
       "4   [deoriapolice, uppolice, myogiadityanath, spgr...     0  1  0  0   \n",
       "5   [khanumarfa, jihadi, thinking, when, #, rahat_...     2  0  0  1   \n",
       "6         [today, also, my, cricket, love, ha, ended]     0  1  0  0   \n",
       "7   [jihadi, thought, he, had, some, work, of, a, ...     2  0  0  1   \n",
       "8   [sanatan44005733, azadsamajparty0, manikar3002...     2  0  0  1   \n",
       "9   [sambitswaraj, a, scared, jihadi, said, to, ga...     2  0  0  1   \n",
       "10  [incindia, country, will, save, narendra, modi...     0  1  0  0   \n",
       "11  [sister, kumari, mayawati, ji, wa, the, only, ...     0  1  0  0   \n",
       "12  [balvinderjogi, bjp_250, sambitswaraj, if, a, ...     2  0  0  1   \n",
       "13  [sachinpilot, allah, bless, you, a, soon, a, p...     1  0  1  0   \n",
       "14  [eng, v, pak, 3rd, test, live, cricket, stream...     0  1  0  0   \n",
       "15  [a, single, word, in, support, of, sushant, si...     0  1  0  0   \n",
       "16  [vinodkapri, we, have, no, grief, over, the, d...     2  0  0  1   \n",
       "17         [క్, duck_dube, chowkidarhindu, #, jihadi]     2  0  0  1   \n",
       "18  [struggle, is, our, slogan, in, the, struggle,...     0  1  0  0   \n",
       "19                   [aisha, 07, khoda, conservation]     1  0  1  0   \n",
       "20  [thepushpendra_, where, the, jihadi, wa, seen,...     2  0  0  1   \n",
       "21  [iamprincekarn, rahulku78506845, dainikbhaskar...     2  0  0  1   \n",
       "22  [#, godmorningtuesday, currently, all, muslim,...     1  0  1  0   \n",
       "23  [underworld, hand, behind, sushant, singh, raj...     0  1  0  0   \n",
       "24  [or, mercy, on, the, muslim, of, allah, gaja, ...     1  0  1  0   \n",
       "\n",
       "   Category_id  \n",
       "0            0  \n",
       "1            1  \n",
       "2            0  \n",
       "3            0  \n",
       "4            0  \n",
       "5            2  \n",
       "6            0  \n",
       "7            2  \n",
       "8            2  \n",
       "9            2  \n",
       "10           0  \n",
       "11           0  \n",
       "12           2  \n",
       "13           1  \n",
       "14           0  \n",
       "15           0  \n",
       "16           2  \n",
       "17           2  \n",
       "18           0  \n",
       "19           1  \n",
       "20           2  \n",
       "21           2  \n",
       "22           1  \n",
       "23           0  \n",
       "24           1  "
      ]
     },
     "execution_count": 147,
     "metadata": {},
     "output_type": "execute_result"
    }
   ],
   "source": [
    "category_id = []\n",
    "for l in data.Label:\n",
    "    \n",
    "    if l == '0':\n",
    "        category_id.append('0')\n",
    "    elif l == '1':\n",
    "        category_id.append('1')\n",
    "    elif l == '2':\n",
    "        category_id.append('2')\n",
    "        \n",
    "data['Category_id'] = category_id\n",
    "\n",
    "data = data[['Text_Final', 'tokens', 'Label', '0', '1', '2', 'Category_id' ]]\n",
    "data.head(25)"
   ]
  },
  {
   "cell_type": "code",
   "execution_count": 148,
   "metadata": {},
   "outputs": [],
   "source": [
    "data = data[data.tokens != '']"
   ]
  },
  {
   "cell_type": "code",
   "execution_count": 149,
   "metadata": {},
   "outputs": [],
   "source": [
    "from io import StringIO\n",
    "category_id_df = data[['Label', 'Category_id']].drop_duplicates().sort_values('Category_id')\n",
    "category_to_label_dict = dict(category_id_df.values)\n",
    "label_to_category_dict = dict(category_id_df[['Category_id', 'Label']].values)"
   ]
  },
  {
   "cell_type": "markdown",
   "metadata": {},
   "source": [
    "#### Split Data into test and train\n",
    "We will use 90 % data for training and 10 % for testing. We use random state so every time we get the same training and testing data."
   ]
  },
  {
   "cell_type": "code",
   "execution_count": 150,
   "metadata": {},
   "outputs": [],
   "source": [
    "data_train, data_test = train_test_split(data, test_size=0.10, random_state=42)\n"
   ]
  },
  {
   "cell_type": "code",
   "execution_count": 151,
   "metadata": {},
   "outputs": [],
   "source": [
    "# # total training words\n",
    "totalTrainingWords = [word for tokens in data_train[\"tokens\"] for word in tokens]\n",
    "\n",
    "# # Storing Length of the training sentence\n",
    "lengthTrainingSentences = [len(tokens) for tokens in data_train[\"tokens\"]]\n",
    "\n",
    "# # training Vocabulary size\n",
    "trainingVocabSize = sorted(list(set(totalTrainingWords)))\n",
    "\n",
    "## Total number of lines\n",
    "linesCount = len(data_train[\"tokens\"])"
   ]
  },
  {
   "cell_type": "markdown",
   "metadata": {},
   "source": [
    "### Load Google News Glove model"
   ]
  },
  {
   "cell_type": "code",
   "execution_count": 152,
   "metadata": {},
   "outputs": [],
   "source": [
    "# Run only once\n",
    "# Convert Glove file to word2vec format \n",
    "from gensim.scripts.glove2word2vec import glove2word2vec\n",
    "\n",
    "# glove_input_file = 'glove.6B.300d.txt'  # I unzipped in glove.6B subdirectory \n",
    "# word2vec_output_file = 'glove.6B.300d.word2vec'\n",
    "# glove2word2vec(glove_input_file, word2vec_output_file)"
   ]
  },
  {
   "cell_type": "code",
   "execution_count": 153,
   "metadata": {},
   "outputs": [],
   "source": [
    "# Use the converted Glove file\n",
    "filename = 'glove.6B.300d.word2vec'\n",
    "word2vec = KeyedVectors.load_word2vec_format(filename, binary=False)"
   ]
  },
  {
   "cell_type": "code",
   "execution_count": 154,
   "metadata": {},
   "outputs": [],
   "source": [
    "MAX_SEQUENCE_LENGTH = 150\n",
    "EMBEDDING_DIM = 300"
   ]
  },
  {
   "cell_type": "markdown",
   "metadata": {},
   "source": [
    "\n",
    "### Tokenize and Pad sequences"
   ]
  },
  {
   "cell_type": "code",
   "execution_count": 155,
   "metadata": {},
   "outputs": [
    {
     "name": "stdout",
     "output_type": "stream",
     "text": [
      "Found 15030 unique tokens.\n"
     ]
    }
   ],
   "source": [
    "tokenizer = Tokenizer(num_words=len(trainingVocabSize), lower=True, char_level=False)\n",
    "tokenizer.fit_on_texts(data_train[\"Text_Final\"].tolist())\n",
    "training_sequences = tokenizer.texts_to_sequences(data_train[\"Text_Final\"].tolist())\n",
    "\n",
    "train_word_index = tokenizer.word_index\n",
    "print('Found %s unique tokens.' % len(train_word_index))"
   ]
  },
  {
   "cell_type": "code",
   "execution_count": 156,
   "metadata": {},
   "outputs": [],
   "source": [
    "cnnTrainData = pad_sequences(training_sequences, maxlen=MAX_SEQUENCE_LENGTH)"
   ]
  },
  {
   "cell_type": "code",
   "execution_count": 157,
   "metadata": {},
   "outputs": [
    {
     "name": "stdout",
     "output_type": "stream",
     "text": [
      "(15031, 300)\n"
     ]
    }
   ],
   "source": [
    "train_embedding_weights = np.zeros((len(train_word_index)+1, EMBEDDING_DIM))\n",
    "for word,index in train_word_index.items():\n",
    "    train_embedding_weights[index,:] = word2vec[word] if word in word2vec else np.random.rand(EMBEDDING_DIM)\n",
    "print(train_embedding_weights.shape)"
   ]
  },
  {
   "cell_type": "code",
   "execution_count": 158,
   "metadata": {},
   "outputs": [],
   "source": [
    "test_sequences = tokenizer.texts_to_sequences(data_test[\"Text_Final\"].tolist())\n",
    "cnnTestData = pad_sequences(test_sequences, maxlen= MAX_SEQUENCE_LENGTH)"
   ]
  },
  {
   "cell_type": "markdown",
   "metadata": {},
   "source": [
    "### Define CNN"
   ]
  },
  {
   "cell_type": "markdown",
   "metadata": {},
   "source": [
    "The model is from the paper 'Convolutional Neural Networks for Sentence Classification' we have updated the network according to our requirement [1]"
   ]
  },
  {
   "cell_type": "code",
   "execution_count": 159,
   "metadata": {},
   "outputs": [],
   "source": [
    "label_names = ['0', '1', '2']"
   ]
  },
  {
   "cell_type": "code",
   "execution_count": 160,
   "metadata": {},
   "outputs": [],
   "source": [
    "def ConvolutionalNeuralNet(embeddings, max_sequence_length, num_words, embedding_dim, labels_index):\n",
    "    \n",
    "    # Embedding layer\n",
    "    embedding_layer = Embedding(num_words,\n",
    "                            embedding_dim,\n",
    "                            weights=[embeddings],\n",
    "                            input_length=max_sequence_length,\n",
    "                            trainable=False)\n",
    "    \n",
    "    sequence_input = Input(shape=(max_sequence_length,), dtype='int32')\n",
    "    embedded_sequences = embedding_layer(sequence_input)\n",
    "\n",
    "    convs = []\n",
    "    \n",
    "    #Kernal (window) size\n",
    "    filter_sizes = [2,3,4,5]\n",
    "\n",
    "    # Convolution Layer and max-pooling\n",
    "    for filter_size in filter_sizes:\n",
    "        l_conv = Conv1D(filters=512, kernel_size=filter_size, activation='relu')(embedded_sequences)\n",
    "        l_pool = GlobalMaxPooling1D()(l_conv)\n",
    "        convs.append(l_pool)\n",
    "        \n",
    "    l_merge = concatenate(convs, axis=1)\n",
    "    \n",
    "    # softmax layer for multiclass identification \n",
    "    x = Dropout(0.1)(l_merge)  \n",
    "    x = Dense(512, activation='relu')(x)\n",
    "    x = Dropout(0.2)(x)\n",
    "    preds = Dense(labels_index, activation='softmax')(x)\n",
    "\n",
    "    model = Model(sequence_input, preds)\n",
    "    model.compile(loss= 'categorical_crossentropy',\n",
    "                 optimizer = keras.optimizers.RMSprop(learning_rate=1e-3),\n",
    "#                    optimizer='adam',\n",
    "                  metrics=['accuracy'])\n",
    "    return model"
   ]
  },
  {
   "cell_type": "code",
   "execution_count": 161,
   "metadata": {},
   "outputs": [],
   "source": [
    "# Splitting train data into X_train and y_train\n",
    "y_train = data_train[label_names].values\n",
    "x_train = cnnTrainData\n",
    "y_tr = y_train"
   ]
  },
  {
   "cell_type": "code",
   "execution_count": 162,
   "metadata": {},
   "outputs": [],
   "source": [
    "# Splitting train data into X_test and y_test\n",
    "y_test = data_test[label_names].values\n",
    "x_test = cnnTestData\n",
    "y_tst = y_test"
   ]
  },
  {
   "cell_type": "code",
   "execution_count": 163,
   "metadata": {},
   "outputs": [],
   "source": [
    "model = ConvolutionalNeuralNet(train_embedding_weights, MAX_SEQUENCE_LENGTH, len(train_word_index)+1, EMBEDDING_DIM, len(list(label_names)))"
   ]
  },
  {
   "cell_type": "code",
   "execution_count": 164,
   "metadata": {},
   "outputs": [
    {
     "name": "stdout",
     "output_type": "stream",
     "text": [
      "Model: \"model_11\"\n",
      "__________________________________________________________________________________________________\n",
      "Layer (type)                    Output Shape         Param #     Connected to                     \n",
      "==================================================================================================\n",
      "input_12 (InputLayer)           [(None, 150)]        0                                            \n",
      "__________________________________________________________________________________________________\n",
      "embedding_11 (Embedding)        (None, 150, 300)     4509300     input_12[0][0]                   \n",
      "__________________________________________________________________________________________________\n",
      "conv1d_44 (Conv1D)              (None, 149, 512)     307712      embedding_11[0][0]               \n",
      "__________________________________________________________________________________________________\n",
      "conv1d_45 (Conv1D)              (None, 148, 512)     461312      embedding_11[0][0]               \n",
      "__________________________________________________________________________________________________\n",
      "conv1d_46 (Conv1D)              (None, 147, 512)     614912      embedding_11[0][0]               \n",
      "__________________________________________________________________________________________________\n",
      "conv1d_47 (Conv1D)              (None, 146, 512)     768512      embedding_11[0][0]               \n",
      "__________________________________________________________________________________________________\n",
      "global_max_pooling1d_44 (Global (None, 512)          0           conv1d_44[0][0]                  \n",
      "__________________________________________________________________________________________________\n",
      "global_max_pooling1d_45 (Global (None, 512)          0           conv1d_45[0][0]                  \n",
      "__________________________________________________________________________________________________\n",
      "global_max_pooling1d_46 (Global (None, 512)          0           conv1d_46[0][0]                  \n",
      "__________________________________________________________________________________________________\n",
      "global_max_pooling1d_47 (Global (None, 512)          0           conv1d_47[0][0]                  \n",
      "__________________________________________________________________________________________________\n",
      "concatenate_11 (Concatenate)    (None, 2048)         0           global_max_pooling1d_44[0][0]    \n",
      "                                                                 global_max_pooling1d_45[0][0]    \n",
      "                                                                 global_max_pooling1d_46[0][0]    \n",
      "                                                                 global_max_pooling1d_47[0][0]    \n",
      "__________________________________________________________________________________________________\n",
      "dropout_22 (Dropout)            (None, 2048)         0           concatenate_11[0][0]             \n",
      "__________________________________________________________________________________________________\n",
      "dense_22 (Dense)                (None, 512)          1049088     dropout_22[0][0]                 \n",
      "__________________________________________________________________________________________________\n",
      "dropout_23 (Dropout)            (None, 512)          0           dense_22[0][0]                   \n",
      "__________________________________________________________________________________________________\n",
      "dense_23 (Dense)                (None, 3)            1539        dropout_23[0][0]                 \n",
      "==================================================================================================\n",
      "Total params: 7,712,375\n",
      "Trainable params: 3,203,075\n",
      "Non-trainable params: 4,509,300\n",
      "__________________________________________________________________________________________________\n"
     ]
    }
   ],
   "source": [
    "model.summary()"
   ]
  },
  {
   "cell_type": "markdown",
   "metadata": {},
   "source": [
    "### Train CNN"
   ]
  },
  {
   "cell_type": "code",
   "execution_count": 165,
   "metadata": {},
   "outputs": [],
   "source": [
    "num_epochs = 10\n",
    "batch_size = 512"
   ]
  },
  {
   "cell_type": "code",
   "execution_count": 166,
   "metadata": {},
   "outputs": [
    {
     "name": "stdout",
     "output_type": "stream",
     "text": [
      "Epoch 1/10\n",
      "17/17 [==============================] - 54s 3s/step - loss: 4.6683 - accuracy: 0.3601 - val_loss: 1.1750 - val_accuracy: 0.3458\n",
      "Epoch 2/10\n",
      "17/17 [==============================] - 55s 3s/step - loss: 1.1187 - accuracy: 0.4306 - val_loss: 1.3863 - val_accuracy: 0.3359\n",
      "Epoch 3/10\n",
      "17/17 [==============================] - 55s 3s/step - loss: 0.9928 - accuracy: 0.5059 - val_loss: 0.8924 - val_accuracy: 0.5862\n",
      "Epoch 4/10\n",
      "17/17 [==============================] - 53s 3s/step - loss: 0.7367 - accuracy: 0.6740 - val_loss: 0.7375 - val_accuracy: 0.7058\n",
      "Epoch 5/10\n",
      "17/17 [==============================] - 50s 3s/step - loss: 0.6241 - accuracy: 0.7343 - val_loss: 0.5422 - val_accuracy: 0.7629\n",
      "Epoch 6/10\n",
      "17/17 [==============================] - 53s 3s/step - loss: 0.5704 - accuracy: 0.7469 - val_loss: 0.5770 - val_accuracy: 0.7069\n",
      "Epoch 7/10\n",
      "17/17 [==============================] - 54s 3s/step - loss: 0.4994 - accuracy: 0.7876 - val_loss: 0.4420 - val_accuracy: 0.8255\n",
      "Epoch 8/10\n",
      "17/17 [==============================] - 54s 3s/step - loss: 0.5274 - accuracy: 0.7817 - val_loss: 0.4887 - val_accuracy: 0.7585\n",
      "Epoch 9/10\n",
      "17/17 [==============================] - 53s 3s/step - loss: 0.4553 - accuracy: 0.8236 - val_loss: 0.5061 - val_accuracy: 0.7662\n",
      "Epoch 10/10\n",
      "17/17 [==============================] - 52s 3s/step - loss: 0.3816 - accuracy: 0.8446 - val_loss: 0.4234 - val_accuracy: 0.8342\n"
     ]
    }
   ],
   "source": [
    "history = model.fit(x_train, y_tr, epochs=num_epochs, validation_split=0.1, shuffle=True, batch_size=batch_size)"
   ]
  },
  {
   "cell_type": "code",
   "execution_count": 167,
   "metadata": {},
   "outputs": [
    {
     "name": "stdout",
     "output_type": "stream",
     "text": [
      "32/32 [==============================] - 3s 105ms/step - loss: 0.3630 - accuracy: 0.8557\n"
     ]
    }
   ],
   "source": [
    "# evaluate on test data\n",
    "results = model.evaluate(x_test, y_tst)"
   ]
  },
  {
   "cell_type": "code",
   "execution_count": 168,
   "metadata": {},
   "outputs": [
    {
     "name": "stdout",
     "output_type": "stream",
     "text": [
      "1/1 [==============================] - 0s 8ms/step\n"
     ]
    }
   ],
   "source": [
    "# predict model\n",
    "predictions = model.predict(cnnTestData, batch_size=1024, verbose=1)"
   ]
  },
  {
   "cell_type": "markdown",
   "metadata": {},
   "source": [
    "### Testing few sentences using our model"
   ]
  },
  {
   "cell_type": "code",
   "execution_count": 169,
   "metadata": {},
   "outputs": [],
   "source": [
    "\n",
    "labels = ['0', '1', '2']\n",
    "\n",
    "def makeprediction(texts):\n",
    "    tk = Tokenizer()\n",
    "    tk.fit_on_texts(texts)\n",
    "    index_list = tk.texts_to_sequences(texts)\n",
    "    x_train = pad_sequences(index_list, maxlen=150)\n",
    "    pred = model.predict(x_train)\n",
    "    result = labels[np.argmax(pred)]\n",
    "    return result"
   ]
  },
  {
   "cell_type": "code",
   "execution_count": 170,
   "metadata": {},
   "outputs": [],
   "source": [
    "prediction_labels=[]\n",
    "for p in predictions:\n",
    "    prediction_labels.append(labels[np.argmax(p)])"
   ]
  },
  {
   "cell_type": "code",
   "execution_count": 171,
   "metadata": {},
   "outputs": [
    {
     "data": {
      "text/plain": [
       "0.8557312252964426"
      ]
     },
     "execution_count": 171,
     "metadata": {},
     "output_type": "execute_result"
    }
   ],
   "source": [
    "sum(data_test.Label==prediction_labels)/len(prediction_labels)"
   ]
  },
  {
   "cell_type": "code",
   "execution_count": 172,
   "metadata": {},
   "outputs": [
    {
     "data": {
      "text/plain": [
       "0    369\n",
       "2    328\n",
       "1    315\n",
       "Name: Label, dtype: int64"
      ]
     },
     "execution_count": 172,
     "metadata": {},
     "output_type": "execute_result"
    }
   ],
   "source": [
    "data_test.Label.value_counts()"
   ]
  },
  {
   "cell_type": "code",
   "execution_count": 174,
   "metadata": {},
   "outputs": [
    {
     "data": {
      "image/png": "[encoded data removed]",
      "text/plain": [
       "<Figure size 432x288 with 2 Axes>"
      ]
     },
     "metadata": {
      "needs_background": "light"
     },
     "output_type": "display_data"
    }
   ],
   "source": [
    "plt.figure(1)\n",
    "# summarize history for accuracy\n",
    "plt.subplot(211)\n",
    "plt.plot(history.history['accuracy'])\n",
    "plt.plot(history.history['val_accuracy'])\n",
    "plt.title('model accuracy')\n",
    "plt.ylabel('accuracy')\n",
    "plt.xlabel('epoch')\n",
    "plt.legend(['train', 'val'], loc='upper left')\n",
    "# summarize history for loss\n",
    "plt.subplot(212)\n",
    "plt.plot(history.history['loss'])\n",
    "plt.plot(history.history['val_loss'])\n",
    "plt.title('model loss')\n",
    "plt.ylabel('loss')\n",
    "plt.xlabel('epoch')\n",
    "plt.legend(['train', 'val'], loc='upper left')\n",
    "plt.tight_layout()\n",
    "plt.show()"
   ]
  },
  {
   "cell_type": "code",
   "execution_count": 175,
   "metadata": {},
   "outputs": [
    {
     "name": "stdout",
     "output_type": "stream",
     "text": [
      "Confusion Matrix :\n",
      "[[304  65   0]\n",
      " [  1 314   0]\n",
      " [  2  78 248]]\n",
      "Accuracy Score : 0.8557312252964426\n",
      "Report : \n",
      "              precision    recall  f1-score   support\n",
      "\n",
      "           0       0.99      0.82      0.90       369\n",
      "           1       0.69      1.00      0.81       315\n",
      "           2       1.00      0.76      0.86       328\n",
      "\n",
      "    accuracy                           0.86      1012\n",
      "   macro avg       0.89      0.86      0.86      1012\n",
      "weighted avg       0.90      0.86      0.86      1012\n",
      "\n"
     ]
    }
   ],
   "source": [
    "results = confusion_matrix(data_test.Label, prediction_labels)\n",
    "print ('Confusion Matrix :')\n",
    "print(results) \n",
    "print ('Accuracy Score :',accuracy_score(data_test.Label, prediction_labels))\n",
    "print ('Report : ')\n",
    "print (classification_report(data_test.Label, prediction_labels))"
   ]
  },
  {
   "cell_type": "code",
   "execution_count": 176,
   "metadata": {},
   "outputs": [
    {
     "name": "stdout",
     "output_type": "stream",
     "text": [
      "                        Convolution Neural Network\n"
     ]
    },
    {
     "data": {
      "image/png": "[encoded data removed]",
      "text/plain": [
       "<Figure size 360x360 with 2 Axes>"
      ]
     },
     "metadata": {
      "needs_background": "light"
     },
     "output_type": "display_data"
    }
   ],
   "source": [
    "from sklearn.metrics import confusion_matrix\n",
    "print(\"                        Convolution Neural Network\")\n",
    "conf_mat = confusion_matrix(data_test.Label, prediction_labels)\n",
    "fig, ax = plt.subplots(figsize=(5,5))\n",
    "sns.heatmap(conf_mat, annot=True, fmt='d', cmap ='YlGnBu',\n",
    "            xticklabels=category_id_df.Label.values, yticklabels=category_id_df.Label.values)\n",
    "plt.ylabel('Actual')\n",
    "plt.xlabel('Predicted')\n",
    "plt.show()"
   ]
  },
  {
   "cell_type": "markdown",
   "metadata": {},
   "source": [
    "### Testing CNN using KFold cross validation"
   ]
  },
  {
   "cell_type": "code",
   "execution_count": 177,
   "metadata": {},
   "outputs": [
    {
     "name": "stdout",
     "output_type": "stream",
     "text": [
      "Fold:  1\n",
      "Epoch 1/5\n",
      "257/257 [==============================] - 77s 299ms/step - loss: 0.8929 - accuracy: 0.6940 - val_loss: 0.3252 - val_accuracy: 0.8847\n",
      "Epoch 2/5\n",
      "257/257 [==============================] - 76s 296ms/step - loss: 0.3413 - accuracy: 0.8657 - val_loss: 0.2875 - val_accuracy: 0.8705\n",
      "Epoch 3/5\n",
      "257/257 [==============================] - 70s 273ms/step - loss: 0.3133 - accuracy: 0.8809 - val_loss: 0.2793 - val_accuracy: 0.8661\n",
      "Epoch 4/5\n",
      "257/257 [==============================] - 76s 295ms/step - loss: 0.2934 - accuracy: 0.8890 - val_loss: 0.2691 - val_accuracy: 0.8858\n",
      "Epoch 5/5\n",
      "257/257 [==============================] - 75s 293ms/step - loss: 0.2627 - accuracy: 0.9012 - val_loss: 0.2945 - val_accuracy: 0.8935\n",
      "Results for current fold:\n",
      "8/8 [==============================] - 2s 252ms/step - loss: 0.3038 - accuracy: 0.8972\n",
      "Fold:  2\n",
      "Epoch 1/5\n",
      "257/257 [==============================] - 75s 293ms/step - loss: 0.9167 - accuracy: 0.6801 - val_loss: 0.3484 - val_accuracy: 0.8683\n",
      "Epoch 2/5\n",
      "257/257 [==============================] - 78s 305ms/step - loss: 0.3596 - accuracy: 0.8582 - val_loss: 0.4251 - val_accuracy: 0.8024\n",
      "Epoch 3/5\n",
      "257/257 [==============================] - 77s 300ms/step - loss: 0.3183 - accuracy: 0.8752 - val_loss: 0.2533 - val_accuracy: 0.8902\n",
      "Epoch 4/5\n",
      "257/257 [==============================] - 77s 301ms/step - loss: 0.3049 - accuracy: 0.8840 - val_loss: 0.2490 - val_accuracy: 0.9001\n",
      "Epoch 5/5\n",
      "257/257 [==============================] - 78s 303ms/step - loss: 0.2735 - accuracy: 0.8958 - val_loss: 0.3151 - val_accuracy: 0.8814\n",
      "Results for current fold:\n",
      "8/8 [==============================] - 2s 308ms/step - loss: 0.2770 - accuracy: 0.8765\n",
      "Fold:  3\n",
      "Epoch 1/5\n",
      "257/257 [==============================] - 77s 301ms/step - loss: 0.8225 - accuracy: 0.6838 - val_loss: 0.3644 - val_accuracy: 0.8793\n",
      "Epoch 2/5\n",
      "257/257 [==============================] - 77s 300ms/step - loss: 0.3536 - accuracy: 0.8584 - val_loss: 0.4042 - val_accuracy: 0.8386\n",
      "Epoch 3/5\n",
      "257/257 [==============================] - 77s 300ms/step - loss: 0.3006 - accuracy: 0.8850 - val_loss: 0.4737 - val_accuracy: 0.8617\n",
      "Epoch 4/5\n",
      "257/257 [==============================] - 71s 277ms/step - loss: 0.2805 - accuracy: 0.8975 - val_loss: 0.2865 - val_accuracy: 0.9001\n",
      "Epoch 5/5\n",
      "257/257 [==============================] - 79s 309ms/step - loss: 0.2619 - accuracy: 0.9030 - val_loss: 0.2459 - val_accuracy: 0.9023\n",
      "Results for current fold:\n",
      "8/8 [==============================] - 2s 270ms/step - loss: 0.2574 - accuracy: 0.8992\n",
      "Fold:  4\n",
      "Epoch 1/5\n",
      "257/257 [==============================] - 75s 292ms/step - loss: 0.9221 - accuracy: 0.6853 - val_loss: 0.7687 - val_accuracy: 0.7278\n",
      "Epoch 2/5\n",
      "257/257 [==============================] - 74s 288ms/step - loss: 0.3332 - accuracy: 0.8682 - val_loss: 0.2803 - val_accuracy: 0.8836\n",
      "Epoch 3/5\n",
      "257/257 [==============================] - 78s 304ms/step - loss: 0.2997 - accuracy: 0.8837 - val_loss: 0.3600 - val_accuracy: 0.8397\n",
      "Epoch 4/5\n",
      "257/257 [==============================] - 75s 293ms/step - loss: 0.2821 - accuracy: 0.8939 - val_loss: 0.3907 - val_accuracy: 0.8573\n",
      "Epoch 5/5\n",
      "257/257 [==============================] - 78s 303ms/step - loss: 0.2548 - accuracy: 0.9029 - val_loss: 0.2866 - val_accuracy: 0.8825\n",
      "Results for current fold:\n",
      "8/8 [==============================] - 2s 258ms/step - loss: 0.2883 - accuracy: 0.8824\n",
      "Fold:  5\n",
      "Epoch 1/5\n",
      "257/257 [==============================] - 79s 307ms/step - loss: 0.9274 - accuracy: 0.6748 - val_loss: 0.4143 - val_accuracy: 0.8178\n",
      "Epoch 2/5\n",
      "257/257 [==============================] - 76s 296ms/step - loss: 0.3446 - accuracy: 0.8663 - val_loss: 0.2481 - val_accuracy: 0.9034\n",
      "Epoch 3/5\n",
      "257/257 [==============================] - 76s 296ms/step - loss: 0.2974 - accuracy: 0.8861 - val_loss: 0.2807 - val_accuracy: 0.9023\n",
      "Epoch 4/5\n",
      "257/257 [==============================] - 78s 305ms/step - loss: 0.2751 - accuracy: 0.8974 - val_loss: 0.2758 - val_accuracy: 0.8771\n",
      "Epoch 5/5\n",
      "257/257 [==============================] - 73s 286ms/step - loss: 0.2540 - accuracy: 0.9018 - val_loss: 0.6346 - val_accuracy: 0.7486\n",
      "Results for current fold:\n",
      "8/8 [==============================] - 2s 284ms/step - loss: 0.6451 - accuracy: 0.7520\n",
      "Fold:  6\n",
      "Epoch 1/5\n",
      "257/257 [==============================] - 79s 307ms/step - loss: 0.9360 - accuracy: 0.6867 - val_loss: 0.4876 - val_accuracy: 0.7772\n",
      "Epoch 2/5\n",
      "257/257 [==============================] - 76s 296ms/step - loss: 0.3615 - accuracy: 0.8556 - val_loss: 0.4732 - val_accuracy: 0.8244\n",
      "Epoch 3/5\n",
      "257/257 [==============================] - 77s 298ms/step - loss: 0.3130 - accuracy: 0.8828 - val_loss: 0.3116 - val_accuracy: 0.8727\n",
      "Epoch 4/5\n",
      "257/257 [==============================] - 77s 299ms/step - loss: 0.2742 - accuracy: 0.8944 - val_loss: 0.2638 - val_accuracy: 0.9078\n",
      "Epoch 5/5\n",
      "257/257 [==============================] - 73s 285ms/step - loss: 0.2664 - accuracy: 0.8984 - val_loss: 0.3677 - val_accuracy: 0.8430\n",
      "Results for current fold:\n",
      "8/8 [==============================] - 2s 269ms/step - loss: 0.3359 - accuracy: 0.8617\n",
      "Fold:  7\n",
      "Epoch 1/5\n",
      "257/257 [==============================] - 73s 283ms/step - loss: 0.8300 - accuracy: 0.6884 - val_loss: 0.4103 - val_accuracy: 0.8288\n",
      "Epoch 2/5\n",
      "257/257 [==============================] - 79s 308ms/step - loss: 0.3340 - accuracy: 0.8702 - val_loss: 0.4021 - val_accuracy: 0.8551\n",
      "Epoch 3/5\n",
      "257/257 [==============================] - 75s 290ms/step - loss: 0.3048 - accuracy: 0.8880 - val_loss: 0.4923 - val_accuracy: 0.8244\n",
      "Epoch 4/5\n",
      "257/257 [==============================] - 75s 293ms/step - loss: 0.2847 - accuracy: 0.8931 - val_loss: 0.3850 - val_accuracy: 0.8441\n",
      "Epoch 5/5\n",
      "257/257 [==============================] - 73s 286ms/step - loss: 0.2757 - accuracy: 0.8962 - val_loss: 0.3534 - val_accuracy: 0.8804\n",
      "Results for current fold:\n",
      "8/8 [==============================] - 2s 271ms/step - loss: 0.2603 - accuracy: 0.9032\n",
      "Fold:  8\n",
      "Epoch 1/5\n",
      "257/257 [==============================] - 76s 295ms/step - loss: 0.8480 - accuracy: 0.6938 - val_loss: 0.5519 - val_accuracy: 0.8046\n",
      "Epoch 2/5\n",
      "257/257 [==============================] - 71s 277ms/step - loss: 0.3411 - accuracy: 0.8640 - val_loss: 0.3938 - val_accuracy: 0.8507\n",
      "Epoch 3/5\n",
      "257/257 [==============================] - 75s 291ms/step - loss: 0.2849 - accuracy: 0.8879 - val_loss: 0.2677 - val_accuracy: 0.8891\n",
      "Epoch 4/5\n",
      "257/257 [==============================] - 75s 292ms/step - loss: 0.2848 - accuracy: 0.8956 - val_loss: 0.2110 - val_accuracy: 0.9122\n",
      "Epoch 5/5\n",
      "257/257 [==============================] - 77s 299ms/step - loss: 0.2661 - accuracy: 0.9013 - val_loss: 0.3278 - val_accuracy: 0.8935\n",
      "Results for current fold:\n",
      "8/8 [==============================] - 2s 280ms/step - loss: 0.3452 - accuracy: 0.8913\n",
      "Fold:  9\n",
      "Epoch 1/5\n",
      "257/257 [==============================] - 75s 294ms/step - loss: 0.9332 - accuracy: 0.6866 - val_loss: 0.8191 - val_accuracy: 0.6926\n",
      "Epoch 2/5\n",
      "257/257 [==============================] - 75s 292ms/step - loss: 0.3403 - accuracy: 0.8664 - val_loss: 0.8030 - val_accuracy: 0.6937\n",
      "Epoch 3/5\n",
      "257/257 [==============================] - 76s 297ms/step - loss: 0.3062 - accuracy: 0.8839 - val_loss: 0.2896 - val_accuracy: 0.9034\n",
      "Epoch 4/5\n",
      "257/257 [==============================] - 75s 293ms/step - loss: 0.2894 - accuracy: 0.8940 - val_loss: 0.2602 - val_accuracy: 0.9056\n",
      "Epoch 5/5\n",
      "257/257 [==============================] - 75s 290ms/step - loss: 0.2690 - accuracy: 0.9028 - val_loss: 0.3240 - val_accuracy: 0.8946\n",
      "Results for current fold:\n",
      "8/8 [==============================] - 2s 260ms/step - loss: 0.2713 - accuracy: 0.9002\n",
      "Fold:  10\n",
      "Epoch 1/5\n",
      "257/257 [==============================] - 74s 287ms/step - loss: 0.9292 - accuracy: 0.6948 - val_loss: 0.5067 - val_accuracy: 0.7881\n",
      "Epoch 2/5\n",
      "257/257 [==============================] - 72s 282ms/step - loss: 0.3386 - accuracy: 0.8675 - val_loss: 0.3140 - val_accuracy: 0.8650\n",
      "Epoch 3/5\n",
      "257/257 [==============================] - 75s 293ms/step - loss: 0.2904 - accuracy: 0.8934 - val_loss: 0.2896 - val_accuracy: 0.8716\n",
      "Epoch 4/5\n",
      "257/257 [==============================] - 73s 283ms/step - loss: 0.2698 - accuracy: 0.9011 - val_loss: 0.2516 - val_accuracy: 0.9133\n",
      "Epoch 5/5\n",
      "257/257 [==============================] - 74s 287ms/step - loss: 0.2644 - accuracy: 0.9026 - val_loss: 0.2703 - val_accuracy: 0.8858\n",
      "Results for current fold:\n",
      "8/8 [==============================] - 2s 266ms/step - loss: 0.3057 - accuracy: 0.8735\n"
     ]
    }
   ],
   "source": [
    "from sklearn.model_selection import StratifiedKFold\n",
    "from scipy.stats import zscore\n",
    "from sklearn import metrics\n",
    "import tensorflow as tf\n",
    "import random\n",
    "\n",
    "f_score=[]\n",
    "fold = 10\n",
    "label_names = ['0', '1', '2']\n",
    "num_epochs = 5\n",
    "batch_size = 32\n",
    "#oos_y = []\n",
    "#oos_pred = []\n",
    "results = []\n",
    "#for train, test in kf.split(data[\"tokens\"], data['Label']):\n",
    "\n",
    "for i in range(fold):\n",
    "    print(\"Fold: \", i+1)\n",
    "    random_num = np.random.randint(1,7000, 1)[0]\n",
    "    data_train, data_test = train_test_split(data, test_size=0.10, shuffle = True, random_state = random_num)\n",
    "\n",
    "    # # total training words\n",
    "    totalTrainingWords = [word for tokens in data_train[\"tokens\"] for word in tokens]\n",
    "\n",
    "    # # Storing Length of the training sentence\n",
    "    lengthTrainingSentences = [len(tokens) for tokens in data_train[\"tokens\"]]\n",
    "\n",
    "    # # training Vocabulary size\n",
    "    trainingVocabSize = sorted(list(set(totalTrainingWords)))\n",
    "\n",
    "    ## Total number of lines\n",
    "    linesCount = len(data_train[\"tokens\"])\n",
    "    \n",
    "    tokenizer = Tokenizer(num_words=len(trainingVocabSize), lower=True, char_level=False)\n",
    "    tokenizer.fit_on_texts(data_train[\"Text_Final\"].tolist())\n",
    "    training_sequences = tokenizer.texts_to_sequences(data_train[\"Text_Final\"].tolist())\n",
    "\n",
    "    train_word_index = tokenizer.word_index\n",
    "    cnnTrainData = pad_sequences(training_sequences, maxlen=MAX_SEQUENCE_LENGTH)\n",
    "    \n",
    "    train_embedding_weights = np.zeros((len(train_word_index)+1, EMBEDDING_DIM))\n",
    "    \n",
    "    for word,index in train_word_index.items():\n",
    "        train_embedding_weights[index,:] = word2vec[word] if word in word2vec else np.random.rand(EMBEDDING_DIM)\n",
    "        \n",
    "    test_sequences = tokenizer.texts_to_sequences(data_test[\"Text_Final\"].tolist())\n",
    "    cnnTestData = pad_sequences(test_sequences, maxlen= MAX_SEQUENCE_LENGTH)\n",
    "    \n",
    "    # Splitting train data into X_train and y_train\n",
    "    y_train = data_train[label_names].values\n",
    "    x_train = cnnTrainData\n",
    "    y_tr = y_train\n",
    "    \n",
    "    # Splitting train data into X_test and y_test\n",
    "    y_test = data_test[label_names].values\n",
    "    x_test = cnnTestData\n",
    "    y_tst = y_test\n",
    "    \n",
    "    # create model\n",
    "    model = ConvolutionalNeuralNet(train_embedding_weights, MAX_SEQUENCE_LENGTH, len(train_word_index)+1, EMBEDDING_DIM, len(list(label_names)))\n",
    "    \n",
    "    #Train Model\n",
    "    history = model.fit(x_train, y_tr, epochs=num_epochs, validation_split=0.1, shuffle=True, batch_size=batch_size)\n",
    "      \n",
    "    # model evaluate\n",
    "    \n",
    "    print(\"Results for current fold:\")\n",
    "    results.append(model.evaluate(x_test, y_tst, batch_size=128))\n",
    "\n",
    "model.save('model_CNN.h5')    "
   ]
  },
  {
   "cell_type": "code",
   "execution_count": 178,
   "metadata": {},
   "outputs": [
    {
     "name": "stdout",
     "output_type": "stream",
     "text": [
      "Kfold Mean:  0.8737154185771943\n"
     ]
    }
   ],
   "source": [
    "import statistics \n",
    "\n",
    "score = []\n",
    "for i in results:\n",
    "    score.append(i[1])\n",
    "x = statistics.mean(score)\n",
    "    \n",
    "print(\"Kfold Mean: \", x)"
   ]
  },
  {
   "cell_type": "code",
   "execution_count": 179,
   "metadata": {},
   "outputs": [],
   "source": [
    "# Prediction \n",
    "# translator\n",
    "translator = Translator()"
   ]
  },
  {
   "cell_type": "code",
   "execution_count": 180,
   "metadata": {},
   "outputs": [
    {
     "name": "stdout",
     "output_type": "stream",
     "text": [
      "1\n"
     ]
    }
   ],
   "source": [
    "# 0\n",
    "texts = [\"Sachin: Once there was a fight between Yusuf and Bhajji. Sehwag: Paji, was he Muhammad Yusuf or Yusuf Youhana at that time. This man will not let him live even after retirement.\"]\n",
    "print(makeprediction(texts))"
   ]
  },
  {
   "cell_type": "code",
   "execution_count": 181,
   "metadata": {},
   "outputs": [
    {
     "name": "stdout",
     "output_type": "stream",
     "text": [
      "2\n"
     ]
    }
   ],
   "source": [
    "# 2\n",
    "texts = [\"@_ROB_29 If this was a Muslim girl in Afghanistan you'd call her a terrorist\"]\n",
    "print(makeprediction(texts))"
   ]
  },
  {
   "cell_type": "code",
   "execution_count": 182,
   "metadata": {},
   "outputs": [
    {
     "name": "stdout",
     "output_type": "stream",
     "text": [
      "Hindi:  'गाजा में दीवाली   की ढेरो बधाई मित्रो 😊💐  #IsraeliBombing 😂😂\n",
      "Translated: 'Happy Diwali greetings in Gaza Friends 😊💐 #IsraeliBombing 😂😂\n",
      "Predicted Label:  2\n"
     ]
    }
   ],
   "source": [
    "# 2\n",
    "hin_text =  \"'गाजा में दीवाली   की ढेरो बधाई मित्रो 😊💐  #IsraeliBombing 😂😂\"\n",
    "print(\"Hindi: \", hin_text)\n",
    "\n",
    "trans = translator.translate(hin_text, dest='en')\n",
    "print('Translated:', trans.text)\n",
    "texts = [trans.text]\n",
    "print('Predicted Label: ',makeprediction(texts))"
   ]
  },
  {
   "cell_type": "code",
   "execution_count": 183,
   "metadata": {},
   "outputs": [
    {
     "name": "stdout",
     "output_type": "stream",
     "text": [
      "Hindi:   समाज वादी  पार्टी  जिंदाबाद \n",
      "Translated: Samajwadi Party Zindabad\n",
      "Predicted Label:  1\n"
     ]
    }
   ],
   "source": [
    "# 0\n",
    "hin_text =  \" समाज वादी  पार्टी  जिंदाबाद \"\n",
    "print(\"Hindi: \", hin_text)\n",
    "\n",
    "trans = translator.translate(hin_text, dest='en')\n",
    "print('Translated:', trans.text)\n",
    "texts = [trans.text]\n",
    "print('Predicted Label: ',makeprediction(texts))"
   ]
  },
  {
   "cell_type": "code",
   "execution_count": 184,
   "metadata": {},
   "outputs": [
    {
     "name": "stdout",
     "output_type": "stream",
     "text": [
      "Hindi:  इसलाम सुंदर है\n",
      "Translated: Islam is beautiful\n",
      "Predicted Label:  1\n"
     ]
    }
   ],
   "source": [
    "# 1\n",
    "hin_text =  \"इसलाम सुंदर है\"\n",
    "print(\"Hindi: \", hin_text)\n",
    "\n",
    "trans = translator.translate(hin_text, dest='en')\n",
    "print('Translated:', trans.text)\n",
    "texts = [trans.text]\n",
    "print('Predicted Label: ',makeprediction(texts))"
   ]
  },
  {
   "cell_type": "markdown",
   "metadata": {},
   "source": [
    "### Reference\n",
    "[1] \"Convolutional Neural Networks for Sentence Classification\" by Yoon Kim\n"
   ]
  },
  {
   "cell_type": "code",
   "execution_count": null,
   "metadata": {},
   "outputs": [],
   "source": []
  }
 ],
 "metadata": {
  "kernelspec": {
   "display_name": "Python 3",
   "language": "python",
   "name": "python3"
  },
  "language_info": {
   "codemirror_mode": {
    "name": "ipython",
    "version": 3
   },
   "file_extension": ".py",
   "mimetype": "text/x-python",
   "name": "python",
   "nbconvert_exporter": "python",
   "pygments_lexer": "ipython3",
   "version": "3.8.5"
  }
 },
 "nbformat": 4,
 "nbformat_minor": 4
}
