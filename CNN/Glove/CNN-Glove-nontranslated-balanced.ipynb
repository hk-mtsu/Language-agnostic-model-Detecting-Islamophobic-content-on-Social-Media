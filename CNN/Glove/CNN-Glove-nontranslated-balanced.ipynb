{
 "cells": [
  {
   "cell_type": "markdown",
   "metadata": {},
   "source": [
    "\n",
    "# Convolutional Neural Network CNN\n",
    "1. Using Word2Vec implementing CNN model\n",
    "2. Dispaly Confusion Matrix, precision, recall and F1-score\n",
    "3. Display few prediction using predict module. \n",
    "4. Get 10-fold Average of the CNN model."
   ]
  },
  {
   "cell_type": "code",
   "execution_count": 101,
   "metadata": {},
   "outputs": [],
   "source": [
    "from __future__ import division, print_function\n",
    "\n",
    "# dataframe\n",
    "import pandas as pd\n",
    "\n",
    "# numpy array\n",
    "import numpy as np\n",
    "\n",
    "# figures visualization\n",
    "import matplotlib.pyplot as plt\n",
    "from sklearn.metrics import confusion_matrix \n",
    "import seaborn as sns\n",
    "\n",
    "# calc accuracy\n",
    "from sklearn.metrics import accuracy_score \n",
    "from sklearn.metrics import classification_report \n",
    "\n",
    "# word2vec\n",
    "import gensim \n",
    "from gensim import models\n",
    "from gensim.models import Word2Vec \n",
    "from gensim.models import KeyedVectors\n",
    "\n",
    "# CNN model and keras preprocessing\n",
    "import keras\n",
    "from keras.callbacks import ModelCheckpoint\n",
    "from keras.layers import Dense, Dropout, Reshape, Flatten, concatenate, Input, Conv1D, GlobalMaxPooling1D, Embedding, Conv2D, GlobalMaxPooling2D\n",
    "from keras.models import Sequential\n",
    "from keras.models import Model\n",
    "from keras.preprocessing.text import Tokenizer\n",
    "from keras.preprocessing.sequence import pad_sequences\n",
    "\n",
    "# nltk data preprocessing\n",
    "import nltk\n",
    "from nltk import word_tokenize\n",
    "from nltk.tokenize import sent_tokenize \n",
    "from nltk.stem import WordNetLemmatizer\n",
    "\n",
    "# stopword - remove buzz word\n",
    "from nltk.corpus import stopwords\n",
    "\n",
    "# splitting data\n",
    "from sklearn.model_selection import train_test_split\n",
    "\n",
    "# punctuation - data imbalance\n",
    "import collections\n",
    "import re\n",
    "import string\n",
    "\n",
    "# File path\n",
    "import os\n",
    "import os.path\n",
    "from os import path\n",
    "\n",
    "# Translator\n",
    "import googletrans\n",
    "from googletrans import Translator"
   ]
  },
  {
   "cell_type": "code",
   "execution_count": 102,
   "metadata": {},
   "outputs": [],
   "source": [
    "# original hindi file\n",
    "filename  = 'Eng-Hin-data/hindi-anot-shuffled'\n",
    "orig_df = pd.read_csv(filename + '.csv',  \n",
    "               delimiter=',')\n",
    "orig_df.columns = ['Text', 'Label']"
   ]
  },
  {
   "cell_type": "code",
   "execution_count": 103,
   "metadata": {},
   "outputs": [
    {
     "data": {
      "text/plain": [
       "<bound method NDFrame.head of                                                    Text  Label\n",
       "0     'गाजा में दीवाली   की ढेरो बधाई मित्रो 😊💐  #Is...      2\n",
       "1        '@SanjayGadhiaINC @IndiaToday18 अज़ाबे इलाही 👍      1\n",
       "2     'आखिर अब #सुशांत_सिंह_राजपूत जी को न्याय मिल ज...      0\n",
       "3     'अमीन के 500 से अधिक छात्रों ने सर्वे भवन के ग...      0\n",
       "4     '@deoriapolice @Uppolice @myogiadityanath @spg...      0\n",
       "...                                                 ...    ...\n",
       "8788                  '@atullondhe राहुल गांधी जिंदाबाद      0\n",
       "8789  'पैगंबर हज़रत मुहम्मद सल्लल्लाहु अलैहि वसल्लम ...      1\n",
       "8790  'कर्नाटक बेंगलुरू में अल्लाह मोहम्मद गांडू के ...      2\n",
       "8791  'अच्छी खबर है ऐसे एक एक कर सभी जेहादी भारतीय फ...      2\n",
       "8792  '@Ruzena__Malik जनता चाइना से दीवाली की लड़ी ख...      0\n",
       "\n",
       "[8793 rows x 2 columns]>"
      ]
     },
     "execution_count": 103,
     "metadata": {},
     "output_type": "execute_result"
    }
   ],
   "source": [
    "orig_df.head"
   ]
  },
  {
   "cell_type": "code",
   "execution_count": 104,
   "metadata": {},
   "outputs": [
    {
     "data": {
      "text/plain": [
       "\"'आज के दिन ही मेरा क्रिकेट प्रेम भी समाप्त हो गया\""
      ]
     },
     "execution_count": 104,
     "metadata": {},
     "output_type": "execute_result"
    }
   ],
   "source": [
    "orig_df.Text[6]"
   ]
  },
  {
   "cell_type": "code",
   "execution_count": 105,
   "metadata": {},
   "outputs": [],
   "source": [
    "df[\"Text\"] = orig_df[\"Text\"].astype(str)\n",
    "df[\"Label\"] = orig_df[\"Label\"].astype(str)"
   ]
  },
  {
   "cell_type": "markdown",
   "metadata": {},
   "source": [
    "### Class count"
   ]
  },
  {
   "cell_type": "code",
   "execution_count": 106,
   "metadata": {},
   "outputs": [
    {
     "data": {
      "image/png": "[encoded data removed]",
      "text/plain": [
       "<Figure size 432x288 with 1 Axes>"
      ]
     },
     "metadata": {
      "needs_background": "light"
     },
     "output_type": "display_data"
    }
   ],
   "source": [
    "import matplotlib.pyplot as plt\n",
    "fig = plt.figure(figsize=(6,4))\n",
    "df.groupby('Label').Text.count().plot.bar(ylim=0)\n",
    "plt.show()"
   ]
  },
  {
   "cell_type": "code",
   "execution_count": 107,
   "metadata": {},
   "outputs": [
    {
     "data": {
      "text/plain": [
       "2    3375\n",
       "0    3244\n",
       "1    2174\n",
       "Name: Label, dtype: int64"
      ]
     },
     "execution_count": 107,
     "metadata": {},
     "output_type": "execute_result"
    }
   ],
   "source": [
    "# For entire dataset sentences for each labels \n",
    "df.Label.value_counts()"
   ]
  },
  {
   "cell_type": "markdown",
   "metadata": {},
   "source": [
    "### Balancing Data"
   ]
  },
  {
   "cell_type": "code",
   "execution_count": 108,
   "metadata": {},
   "outputs": [],
   "source": [
    "#balancing data \n",
    "from collections import Counter\n",
    "import numpy as np\n",
    "def balanceClasses(xs, ys):\n",
    "    item = {}\n",
    "    new_ys = []\n",
    "    new_xs = []\n",
    "    #\"\"\"Undersample xs, ys to balance classes.\"\"\"\n",
    "    freqs = Counter(ys)\n",
    "    # the most common class  is the maximum number we want for all classes\n",
    "    max_allowable = (freqs.most_common()[0][1])\n",
    "    \n",
    "    for val in freqs.most_common(): # List\n",
    "        nums = np.random.randint(1000)\n",
    "        i = 1\n",
    "        item[val[0]] = max_allowable - val[1]\n",
    "        \n",
    "        if item[val[0]] > 0:            \n",
    "            while(item[val[0]] - i != 0): \n",
    "                nums = nums + 1\n",
    "                if ys[nums] == val[0]:\n",
    "                    i += 1\n",
    "                    new_ys.append(ys[nums])\n",
    "                    new_xs.append(xs[nums])\n",
    "    return new_xs, new_ys"
   ]
  },
  {
   "cell_type": "code",
   "execution_count": 109,
   "metadata": {},
   "outputs": [],
   "source": [
    "new_text, new_label = balanceClasses(df['Text'], df['Label'])"
   ]
  },
  {
   "cell_type": "code",
   "execution_count": 110,
   "metadata": {},
   "outputs": [],
   "source": [
    "data = pd.DataFrame(new_text)\n",
    "data.columns = ['Text']\n",
    "data['Label'] = new_label\n",
    "data = pd.concat([df, data])"
   ]
  },
  {
   "cell_type": "code",
   "execution_count": 111,
   "metadata": {},
   "outputs": [
    {
     "data": {
      "image/png": "[encoded data removed]",
      "text/plain": [
       "<Figure size 432x288 with 1 Axes>"
      ]
     },
     "metadata": {
      "needs_background": "light"
     },
     "output_type": "display_data"
    }
   ],
   "source": [
    "fig1 = plt.figure(figsize=(6,4))\n",
    "data.groupby('Label').Text.count().plot.bar(ylim=0)\n",
    "plt.show()"
   ]
  },
  {
   "cell_type": "code",
   "execution_count": 112,
   "metadata": {},
   "outputs": [
    {
     "data": {
      "text/plain": [
       "2    3375\n",
       "1    3374\n",
       "0    3374\n",
       "Name: Label, dtype: int64"
      ]
     },
     "execution_count": 112,
     "metadata": {},
     "output_type": "execute_result"
    }
   ],
   "source": [
    "data.Label.value_counts()"
   ]
  },
  {
   "cell_type": "code",
   "execution_count": 113,
   "metadata": {},
   "outputs": [
    {
     "data": {
      "text/html": [
       "<div>\n",
       "<style scoped>\n",
       "    .dataframe tbody tr th:only-of-type {\n",
       "        vertical-align: middle;\n",
       "    }\n",
       "\n",
       "    .dataframe tbody tr th {\n",
       "        vertical-align: top;\n",
       "    }\n",
       "\n",
       "    .dataframe thead th {\n",
       "        text-align: right;\n",
       "    }\n",
       "</style>\n",
       "<table border=\"1\" class=\"dataframe\">\n",
       "  <thead>\n",
       "    <tr style=\"text-align: right;\">\n",
       "      <th></th>\n",
       "      <th>Text</th>\n",
       "      <th>Label</th>\n",
       "    </tr>\n",
       "  </thead>\n",
       "  <tbody>\n",
       "    <tr>\n",
       "      <th>0</th>\n",
       "      <td>'@007AliSohrab मदनी साहब उनके नाम के आगे रहमतु...</td>\n",
       "      <td>1</td>\n",
       "    </tr>\n",
       "    <tr>\n",
       "      <th>1</th>\n",
       "      <td>'यजीद वो जो जिलतो का नाम हो गया   हुसैन (आ स )...</td>\n",
       "      <td>1</td>\n",
       "    </tr>\n",
       "    <tr>\n",
       "      <th>2</th>\n",
       "      <td>'अल्लाह हु अकबर और बिश्मिल्लाह  बोलकर गला काटन...</td>\n",
       "      <td>2</td>\n",
       "    </tr>\n",
       "    <tr>\n",
       "      <th>3</th>\n",
       "      <td>'@SalmanNizami_ साला जेहादी बकबास कर रहा</td>\n",
       "      <td>2</td>\n",
       "    </tr>\n",
       "    <tr>\n",
       "      <th>4</th>\n",
       "      <td>'धोनी के सन्यास से भारतीय क्रिकेट को अपूरणीय छ...</td>\n",
       "      <td>0</td>\n",
       "    </tr>\n",
       "    <tr>\n",
       "      <th>...</th>\n",
       "      <td>...</td>\n",
       "      <td>...</td>\n",
       "    </tr>\n",
       "    <tr>\n",
       "      <th>10118</th>\n",
       "      <td>'ईनको ईकठ्ठे करती है मस्जिद जहाँ पर होता है दे...</td>\n",
       "      <td>2</td>\n",
       "    </tr>\n",
       "    <tr>\n",
       "      <th>10119</th>\n",
       "      <td>'बस यही देख कल धोनी और रैना ने क्रिकेट से सन्य...</td>\n",
       "      <td>0</td>\n",
       "    </tr>\n",
       "    <tr>\n",
       "      <th>10120</th>\n",
       "      <td>'भीम आर्मी जिन्दाबाद #Casteist_Kangana</td>\n",
       "      <td>0</td>\n",
       "    </tr>\n",
       "    <tr>\n",
       "      <th>10121</th>\n",
       "      <td>'@dr_kafeel_ वालेकुम अस्सलाम  अल्लाह आपकी परेश...</td>\n",
       "      <td>1</td>\n",
       "    </tr>\n",
       "    <tr>\n",
       "      <th>10122</th>\n",
       "      <td>'@sunni_hanfi11 माशा अल्लाह बहुत खूब 💐 💐 💐 ❤️ ...</td>\n",
       "      <td>1</td>\n",
       "    </tr>\n",
       "  </tbody>\n",
       "</table>\n",
       "<p>10123 rows × 2 columns</p>\n",
       "</div>"
      ],
      "text/plain": [
       "                                                    Text Label\n",
       "0      '@007AliSohrab मदनी साहब उनके नाम के आगे रहमतु...     1\n",
       "1      'यजीद वो जो जिलतो का नाम हो गया   हुसैन (आ स )...     1\n",
       "2      'अल्लाह हु अकबर और बिश्मिल्लाह  बोलकर गला काटन...     2\n",
       "3               '@SalmanNizami_ साला जेहादी बकबास कर रहा     2\n",
       "4      'धोनी के सन्यास से भारतीय क्रिकेट को अपूरणीय छ...     0\n",
       "...                                                  ...   ...\n",
       "10118  'ईनको ईकठ्ठे करती है मस्जिद जहाँ पर होता है दे...     2\n",
       "10119  'बस यही देख कल धोनी और रैना ने क्रिकेट से सन्य...     0\n",
       "10120             'भीम आर्मी जिन्दाबाद #Casteist_Kangana     0\n",
       "10121  '@dr_kafeel_ वालेकुम अस्सलाम  अल्लाह आपकी परेश...     1\n",
       "10122  '@sunni_hanfi11 माशा अल्लाह बहुत खूब 💐 💐 💐 ❤️ ...     1\n",
       "\n",
       "[10123 rows x 2 columns]"
      ]
     },
     "execution_count": 113,
     "metadata": {},
     "output_type": "execute_result"
    }
   ],
   "source": [
    "data=data.sample(frac=1).reset_index(drop=True)\n",
    "data"
   ]
  },
  {
   "cell_type": "markdown",
   "metadata": {},
   "source": [
    "### Data Preprocessing"
   ]
  },
  {
   "cell_type": "code",
   "execution_count": 115,
   "metadata": {},
   "outputs": [],
   "source": [
    "def textPattern(text):\n",
    "\n",
    "    # Clean the text\n",
    "    text = re.sub(r\"@\", \" \", text)\n",
    "    text = re.sub(r\"\\*\", \" \", text)\n",
    "    text = re.sub(r\"'\", \" \", text)\n",
    "    text = re.sub(r\"\\'s\", \" \", text)\n",
    "    text = re.sub(r\",\", \" \", text)\n",
    "    text = re.sub(r\"\\.\", \" \", text)\n",
    "    text = re.sub(r\"!\", \" \", text)\n",
    "    text = re.sub(r\"\\/\", \" \", text)\n",
    "    text = re.sub(r\"\\^\", \" ^ \", text)\n",
    "    text = re.sub(r\"\\+\", \" \", text)\n",
    "    text = re.sub(r\"\\-\", \" - \", text)\n",
    "    text = re.sub(r\"\\= =\", \" \", text)\n",
    "    text = re.sub(r\"\\==\", \" \", text)\n",
    "    text = re.sub(r\"'\", \" \", text)\n",
    "    text = re.sub(r\"(\\d+)(k)\", r\"\\g<1>000\", text)\n",
    "    text = re.sub(r\":\", \" : \", text)\n",
    "    text = re.sub(r\"\\0s\", \"0\", text)\n",
    "    text = re.sub(r\" 9 11 \", \"911\", text)\n",
    "    text = re.sub(r\"\\s{2,}\", \" \", text)\n",
    "    return text\n",
    "\n",
    "data['Text'] = data['Text'].apply(lambda x: textPattern(x))"
   ]
  },
  {
   "cell_type": "code",
   "execution_count": 116,
   "metadata": {},
   "outputs": [
    {
     "data": {
      "text/plain": [
       "(10123, 2)"
      ]
     },
     "execution_count": 116,
     "metadata": {},
     "output_type": "execute_result"
    }
   ],
   "source": [
    "data.shape"
   ]
  },
  {
   "cell_type": "code",
   "execution_count": 117,
   "metadata": {},
   "outputs": [],
   "source": [
    "# Word Tokenization\n",
    "tokens = [word_tokenize(sen) for sen in data.Text]"
   ]
  },
  {
   "cell_type": "code",
   "execution_count": 118,
   "metadata": {},
   "outputs": [],
   "source": [
    "# Lower Case\n",
    "def lower_token(tokens): \n",
    "    return [w.lower() for w in tokens]    \n",
    "    \n",
    "lower_tokens = [lower_token(token) for token in tokens]"
   ]
  },
  {
   "cell_type": "code",
   "execution_count": 119,
   "metadata": {},
   "outputs": [],
   "source": [
    "# Remove Link\n",
    "\n",
    "def removeLink(token):\n",
    "    word = []\n",
    "    for w in token:\n",
    "        if not w.startswith('http'):\n",
    "            word.append(w)\n",
    "    return word \n",
    "    \n",
    "removedLink_tokens = [removeLink(token) for token in lower_tokens]"
   ]
  },
  {
   "cell_type": "code",
   "execution_count": 120,
   "metadata": {},
   "outputs": [],
   "source": [
    "# Word Lemmatization\n",
    "def lemmatization(token):\n",
    "    return [lemmatizer.lemmatize(w) for w in token] \n",
    "\n",
    "lemmatizer = WordNetLemmatizer()\n",
    "\n",
    "lemmatized_tokens = [lemmatization(token) for token in removedLink_tokens]"
   ]
  },
  {
   "cell_type": "code",
   "execution_count": 121,
   "metadata": {},
   "outputs": [],
   "source": [
    "# Removing Stopwords\n",
    "stoplist=open(\"Devanagari/stopwords.txt\",\"r\")"
   ]
  },
  {
   "cell_type": "code",
   "execution_count": 122,
   "metadata": {},
   "outputs": [],
   "source": [
    "def removeStopWords(tokens): \n",
    "    return [word for word in tokens if word not in stoplist]\n",
    "\n",
    "filtered_words = [removeStopWords(sen) for sen in lemmatized_tokens]\n",
    "data['Text_Final'] = [' '.join(sen) for sen in filtered_words]\n",
    "data['tokens'] = filtered_words"
   ]
  },
  {
   "cell_type": "code",
   "execution_count": 123,
   "metadata": {},
   "outputs": [],
   "source": [
    "zero  = []\n",
    "one = []\n",
    "two = []\n",
    "for l in data.Label:\n",
    "    \n",
    "    if l == '0':\n",
    "        zero.append(1)\n",
    "        one.append(0)\n",
    "        two.append(0)\n",
    "    elif l == '1':\n",
    "        zero.append(0)\n",
    "        one.append(1)\n",
    "        two.append(0)\n",
    "    elif l == '2':\n",
    "        zero.append(0)\n",
    "        one.append(0)\n",
    "        two.append(1)\n",
    "        \n",
    "data['0']= zero\n",
    "data['1']= one\n",
    "data['2']= two\n",
    "\n",
    "data = data[['Text_Final', 'tokens', 'Label', '0', '1', '2']]"
   ]
  },
  {
   "cell_type": "code",
   "execution_count": 124,
   "metadata": {},
   "outputs": [
    {
     "data": {
      "text/html": [
       "<div>\n",
       "<style scoped>\n",
       "    .dataframe tbody tr th:only-of-type {\n",
       "        vertical-align: middle;\n",
       "    }\n",
       "\n",
       "    .dataframe tbody tr th {\n",
       "        vertical-align: top;\n",
       "    }\n",
       "\n",
       "    .dataframe thead th {\n",
       "        text-align: right;\n",
       "    }\n",
       "</style>\n",
       "<table border=\"1\" class=\"dataframe\">\n",
       "  <thead>\n",
       "    <tr style=\"text-align: right;\">\n",
       "      <th></th>\n",
       "      <th>Text_Final</th>\n",
       "      <th>tokens</th>\n",
       "      <th>Label</th>\n",
       "      <th>0</th>\n",
       "      <th>1</th>\n",
       "      <th>2</th>\n",
       "      <th>Category_id</th>\n",
       "    </tr>\n",
       "  </thead>\n",
       "  <tbody>\n",
       "    <tr>\n",
       "      <th>0</th>\n",
       "      <td>007alisohrab मदनी साहब उनके नाम के आगे रहमतुल्...</td>\n",
       "      <td>[007alisohrab, मदनी, साहब, उनके, नाम, के, आगे,...</td>\n",
       "      <td>1</td>\n",
       "      <td>0</td>\n",
       "      <td>1</td>\n",
       "      <td>0</td>\n",
       "      <td>1</td>\n",
       "    </tr>\n",
       "    <tr>\n",
       "      <th>1</th>\n",
       "      <td>यजीद वो जो जिलतो का नाम हो गया हुसैन ( आ स ) व...</td>\n",
       "      <td>[यजीद, वो, जो, जिलतो, का, नाम, हो, गया, हुसैन,...</td>\n",
       "      <td>1</td>\n",
       "      <td>0</td>\n",
       "      <td>1</td>\n",
       "      <td>0</td>\n",
       "      <td>1</td>\n",
       "    </tr>\n",
       "    <tr>\n",
       "      <th>2</th>\n",
       "      <td>अल्लाह हु अकबर और बिश्मिल्लाह बोलकर गला काटने ...</td>\n",
       "      <td>[अल्लाह, हु, अकबर, और, बिश्मिल्लाह, बोलकर, गला...</td>\n",
       "      <td>2</td>\n",
       "      <td>0</td>\n",
       "      <td>0</td>\n",
       "      <td>1</td>\n",
       "      <td>2</td>\n",
       "    </tr>\n",
       "    <tr>\n",
       "      <th>3</th>\n",
       "      <td>salmannizami_ साला जेहादी बकबास कर रहा</td>\n",
       "      <td>[salmannizami_, साला, जेहादी, बकबास, कर, रहा]</td>\n",
       "      <td>2</td>\n",
       "      <td>0</td>\n",
       "      <td>0</td>\n",
       "      <td>1</td>\n",
       "      <td>2</td>\n",
       "    </tr>\n",
       "    <tr>\n",
       "      <th>4</th>\n",
       "      <td>धोनी के सन्यास से भारतीय क्रिकेट को अपूरणीय छत...</td>\n",
       "      <td>[धोनी, के, सन्यास, से, भारतीय, क्रिकेट, को, अप...</td>\n",
       "      <td>0</td>\n",
       "      <td>1</td>\n",
       "      <td>0</td>\n",
       "      <td>0</td>\n",
       "      <td>0</td>\n",
       "    </tr>\n",
       "    <tr>\n",
       "      <th>5</th>\n",
       "      <td>भारतीय क्रिकेट को इन नए आयाम तक पहुंचाने वाले ...</td>\n",
       "      <td>[भारतीय, क्रिकेट, को, इन, नए, आयाम, तक, पहुंचा...</td>\n",
       "      <td>0</td>\n",
       "      <td>1</td>\n",
       "      <td>0</td>\n",
       "      <td>0</td>\n",
       "      <td>0</td>\n",
       "    </tr>\n",
       "    <tr>\n",
       "      <th>6</th>\n",
       "      <td>मेरी रूह में नाम ए अहमद बसा हो । मेरी धड़कनों ...</td>\n",
       "      <td>[मेरी, रूह, में, नाम, ए, अहमद, बसा, हो, ।, मेर...</td>\n",
       "      <td>1</td>\n",
       "      <td>0</td>\n",
       "      <td>1</td>\n",
       "      <td>0</td>\n",
       "      <td>1</td>\n",
       "    </tr>\n",
       "    <tr>\n",
       "      <th>7</th>\n",
       "      <td>लोगों का कहना है की महेंद्रसिंह धोनी इस विकेटक...</td>\n",
       "      <td>[लोगों, का, कहना, है, की, महेंद्रसिंह, धोनी, इ...</td>\n",
       "      <td>0</td>\n",
       "      <td>1</td>\n",
       "      <td>0</td>\n",
       "      <td>0</td>\n",
       "      <td>0</td>\n",
       "    </tr>\n",
       "    <tr>\n",
       "      <th>8</th>\n",
       "      <td># माशा_अल्लाह ये मुसलमान गरीब ज़रूर है मगर ईमा...</td>\n",
       "      <td>[#, माशा_अल्लाह, ये, मुसलमान, गरीब, ज़रूर, है,...</td>\n",
       "      <td>1</td>\n",
       "      <td>0</td>\n",
       "      <td>1</td>\n",
       "      <td>0</td>\n",
       "      <td>1</td>\n",
       "    </tr>\n",
       "    <tr>\n",
       "      <th>9</th>\n",
       "      <td>vinodkapri तुम्हे पता नहीं आजकल हिन्दुओं ने पा...</td>\n",
       "      <td>[vinodkapri, तुम्हे, पता, नहीं, आजकल, हिन्दुओं...</td>\n",
       "      <td>2</td>\n",
       "      <td>0</td>\n",
       "      <td>0</td>\n",
       "      <td>1</td>\n",
       "      <td>2</td>\n",
       "    </tr>\n",
       "    <tr>\n",
       "      <th>10</th>\n",
       "      <td>पहले जालीदार टोपी उतारकर बकरा दाढ़ी कटवा कर खु...</td>\n",
       "      <td>[पहले, जालीदार, टोपी, उतारकर, बकरा, दाढ़ी, कटव...</td>\n",
       "      <td>2</td>\n",
       "      <td>0</td>\n",
       "      <td>0</td>\n",
       "      <td>1</td>\n",
       "      <td>2</td>\n",
       "    </tr>\n",
       "    <tr>\n",
       "      <th>11</th>\n",
       "      <td>कुछ तो लोग कहेंगे जेहादी ecosystum का काम है र...</td>\n",
       "      <td>[कुछ, तो, लोग, कहेंगे, जेहादी, ecosystum, का, ...</td>\n",
       "      <td>2</td>\n",
       "      <td>0</td>\n",
       "      <td>0</td>\n",
       "      <td>1</td>\n",
       "      <td>2</td>\n",
       "    </tr>\n",
       "    <tr>\n",
       "      <th>12</th>\n",
       "      <td>opindia_in मुगलों ने जीस हिन्दू को तलवार के डर...</td>\n",
       "      <td>[opindia_in, मुगलों, ने, जीस, हिन्दू, को, तलवा...</td>\n",
       "      <td>2</td>\n",
       "      <td>0</td>\n",
       "      <td>0</td>\n",
       "      <td>1</td>\n",
       "      <td>2</td>\n",
       "    </tr>\n",
       "    <tr>\n",
       "      <th>13</th>\n",
       "      <td>khansha60642576 vinodkapri जेहादी स्पॉटेड</td>\n",
       "      <td>[khansha60642576, vinodkapri, जेहादी, स्पॉटेड]</td>\n",
       "      <td>2</td>\n",
       "      <td>0</td>\n",
       "      <td>0</td>\n",
       "      <td>1</td>\n",
       "      <td>2</td>\n",
       "    </tr>\n",
       "    <tr>\n",
       "      <th>14</th>\n",
       "      <td>yadavakhilesh समाजवादी पार्टी जिंदाबाद माननीय ...</td>\n",
       "      <td>[yadavakhilesh, समाजवादी, पार्टी, जिंदाबाद, मा...</td>\n",
       "      <td>0</td>\n",
       "      <td>1</td>\n",
       "      <td>0</td>\n",
       "      <td>0</td>\n",
       "      <td>0</td>\n",
       "    </tr>\n",
       "    <tr>\n",
       "      <th>15</th>\n",
       "      <td>zainabajaz2 बेशक़ आमीन</td>\n",
       "      <td>[zainabajaz2, बेशक़, आमीन]</td>\n",
       "      <td>1</td>\n",
       "      <td>0</td>\n",
       "      <td>1</td>\n",
       "      <td>0</td>\n",
       "      <td>1</td>\n",
       "    </tr>\n",
       "    <tr>\n",
       "      <th>16</th>\n",
       "      <td>सुशांत सिंह राजपूत केस में बहुत बड़ा खुलासा पड...</td>\n",
       "      <td>[सुशांत, सिंह, राजपूत, केस, में, बहुत, बड़ा, ख...</td>\n",
       "      <td>0</td>\n",
       "      <td>1</td>\n",
       "      <td>0</td>\n",
       "      <td>0</td>\n",
       "      <td>0</td>\n",
       "    </tr>\n",
       "    <tr>\n",
       "      <th>17</th>\n",
       "      <td>republic इस जेहादी को अब इस के किये हुए बुरे क...</td>\n",
       "      <td>[republic, इस, जेहादी, को, अब, इस, के, किये, ह...</td>\n",
       "      <td>2</td>\n",
       "      <td>0</td>\n",
       "      <td>0</td>\n",
       "      <td>1</td>\n",
       "      <td>2</td>\n",
       "    </tr>\n",
       "    <tr>\n",
       "      <th>18</th>\n",
       "      <td>फेरि मुकेशवाला कालो युग आउन लागेको हो ? कुलमान...</td>\n",
       "      <td>[फेरि, मुकेशवाला, कालो, युग, आउन, लागेको, हो, ...</td>\n",
       "      <td>0</td>\n",
       "      <td>1</td>\n",
       "      <td>0</td>\n",
       "      <td>0</td>\n",
       "      <td>0</td>\n",
       "    </tr>\n",
       "    <tr>\n",
       "      <th>19</th>\n",
       "      <td>namobhardwaj11 भारतीय शक्ति चेतना पार्टी जिंदा...</td>\n",
       "      <td>[namobhardwaj11, भारतीय, शक्ति, चेतना, पार्टी,...</td>\n",
       "      <td>0</td>\n",
       "      <td>1</td>\n",
       "      <td>0</td>\n",
       "      <td>0</td>\n",
       "      <td>0</td>\n",
       "    </tr>\n",
       "    <tr>\n",
       "      <th>20</th>\n",
       "      <td>akhtard_ walaikum assalam 💐 💐 💐 ❤️ बिल्कुल माश...</td>\n",
       "      <td>[akhtard_, walaikum, assalam, 💐, 💐, 💐, ❤️, बिल...</td>\n",
       "      <td>1</td>\n",
       "      <td>0</td>\n",
       "      <td>1</td>\n",
       "      <td>0</td>\n",
       "      <td>1</td>\n",
       "    </tr>\n",
       "    <tr>\n",
       "      <th>21</th>\n",
       "      <td>aniljidaga सब फर्जी हैं । नकली चेहरा लगाए सेक्...</td>\n",
       "      <td>[aniljidaga, सब, फर्जी, हैं, ।, नकली, चेहरा, ल...</td>\n",
       "      <td>2</td>\n",
       "      <td>0</td>\n",
       "      <td>0</td>\n",
       "      <td>1</td>\n",
       "      <td>2</td>\n",
       "    </tr>\n",
       "    <tr>\n",
       "      <th>22</th>\n",
       "      <td>0</td>\n",
       "      <td>[0]</td>\n",
       "      <td>2</td>\n",
       "      <td>0</td>\n",
       "      <td>0</td>\n",
       "      <td>1</td>\n",
       "      <td>2</td>\n",
       "    </tr>\n",
       "    <tr>\n",
       "      <th>23</th>\n",
       "      <td>कौन हैं ये जेहादी लोग जिनके पास बम है बंदूक है...</td>\n",
       "      <td>[कौन, हैं, ये, जेहादी, लोग, जिनके, पास, बम, है...</td>\n",
       "      <td>2</td>\n",
       "      <td>0</td>\n",
       "      <td>0</td>\n",
       "      <td>1</td>\n",
       "      <td>2</td>\n",
       "    </tr>\n",
       "    <tr>\n",
       "      <th>24</th>\n",
       "      <td>क्रिकेट से रिटायरमेंट लेने के बाद आगे क्या करन...</td>\n",
       "      <td>[क्रिकेट, से, रिटायरमेंट, लेने, के, बाद, आगे, ...</td>\n",
       "      <td>0</td>\n",
       "      <td>1</td>\n",
       "      <td>0</td>\n",
       "      <td>0</td>\n",
       "      <td>0</td>\n",
       "    </tr>\n",
       "  </tbody>\n",
       "</table>\n",
       "</div>"
      ],
      "text/plain": [
       "                                           Text_Final  \\\n",
       "0   007alisohrab मदनी साहब उनके नाम के आगे रहमतुल्...   \n",
       "1   यजीद वो जो जिलतो का नाम हो गया हुसैन ( आ स ) व...   \n",
       "2   अल्लाह हु अकबर और बिश्मिल्लाह बोलकर गला काटने ...   \n",
       "3              salmannizami_ साला जेहादी बकबास कर रहा   \n",
       "4   धोनी के सन्यास से भारतीय क्रिकेट को अपूरणीय छत...   \n",
       "5   भारतीय क्रिकेट को इन नए आयाम तक पहुंचाने वाले ...   \n",
       "6   मेरी रूह में नाम ए अहमद बसा हो । मेरी धड़कनों ...   \n",
       "7   लोगों का कहना है की महेंद्रसिंह धोनी इस विकेटक...   \n",
       "8   # माशा_अल्लाह ये मुसलमान गरीब ज़रूर है मगर ईमा...   \n",
       "9   vinodkapri तुम्हे पता नहीं आजकल हिन्दुओं ने पा...   \n",
       "10  पहले जालीदार टोपी उतारकर बकरा दाढ़ी कटवा कर खु...   \n",
       "11  कुछ तो लोग कहेंगे जेहादी ecosystum का काम है र...   \n",
       "12  opindia_in मुगलों ने जीस हिन्दू को तलवार के डर...   \n",
       "13          khansha60642576 vinodkapri जेहादी स्पॉटेड   \n",
       "14  yadavakhilesh समाजवादी पार्टी जिंदाबाद माननीय ...   \n",
       "15                             zainabajaz2 बेशक़ आमीन   \n",
       "16  सुशांत सिंह राजपूत केस में बहुत बड़ा खुलासा पड...   \n",
       "17  republic इस जेहादी को अब इस के किये हुए बुरे क...   \n",
       "18  फेरि मुकेशवाला कालो युग आउन लागेको हो ? कुलमान...   \n",
       "19  namobhardwaj11 भारतीय शक्ति चेतना पार्टी जिंदा...   \n",
       "20  akhtard_ walaikum assalam 💐 💐 💐 ❤️ बिल्कुल माश...   \n",
       "21  aniljidaga सब फर्जी हैं । नकली चेहरा लगाए सेक्...   \n",
       "22                                                  0   \n",
       "23  कौन हैं ये जेहादी लोग जिनके पास बम है बंदूक है...   \n",
       "24  क्रिकेट से रिटायरमेंट लेने के बाद आगे क्या करन...   \n",
       "\n",
       "                                               tokens Label  0  1  2  \\\n",
       "0   [007alisohrab, मदनी, साहब, उनके, नाम, के, आगे,...     1  0  1  0   \n",
       "1   [यजीद, वो, जो, जिलतो, का, नाम, हो, गया, हुसैन,...     1  0  1  0   \n",
       "2   [अल्लाह, हु, अकबर, और, बिश्मिल्लाह, बोलकर, गला...     2  0  0  1   \n",
       "3       [salmannizami_, साला, जेहादी, बकबास, कर, रहा]     2  0  0  1   \n",
       "4   [धोनी, के, सन्यास, से, भारतीय, क्रिकेट, को, अप...     0  1  0  0   \n",
       "5   [भारतीय, क्रिकेट, को, इन, नए, आयाम, तक, पहुंचा...     0  1  0  0   \n",
       "6   [मेरी, रूह, में, नाम, ए, अहमद, बसा, हो, ।, मेर...     1  0  1  0   \n",
       "7   [लोगों, का, कहना, है, की, महेंद्रसिंह, धोनी, इ...     0  1  0  0   \n",
       "8   [#, माशा_अल्लाह, ये, मुसलमान, गरीब, ज़रूर, है,...     1  0  1  0   \n",
       "9   [vinodkapri, तुम्हे, पता, नहीं, आजकल, हिन्दुओं...     2  0  0  1   \n",
       "10  [पहले, जालीदार, टोपी, उतारकर, बकरा, दाढ़ी, कटव...     2  0  0  1   \n",
       "11  [कुछ, तो, लोग, कहेंगे, जेहादी, ecosystum, का, ...     2  0  0  1   \n",
       "12  [opindia_in, मुगलों, ने, जीस, हिन्दू, को, तलवा...     2  0  0  1   \n",
       "13     [khansha60642576, vinodkapri, जेहादी, स्पॉटेड]     2  0  0  1   \n",
       "14  [yadavakhilesh, समाजवादी, पार्टी, जिंदाबाद, मा...     0  1  0  0   \n",
       "15                         [zainabajaz2, बेशक़, आमीन]     1  0  1  0   \n",
       "16  [सुशांत, सिंह, राजपूत, केस, में, बहुत, बड़ा, ख...     0  1  0  0   \n",
       "17  [republic, इस, जेहादी, को, अब, इस, के, किये, ह...     2  0  0  1   \n",
       "18  [फेरि, मुकेशवाला, कालो, युग, आउन, लागेको, हो, ...     0  1  0  0   \n",
       "19  [namobhardwaj11, भारतीय, शक्ति, चेतना, पार्टी,...     0  1  0  0   \n",
       "20  [akhtard_, walaikum, assalam, 💐, 💐, 💐, ❤️, बिल...     1  0  1  0   \n",
       "21  [aniljidaga, सब, फर्जी, हैं, ।, नकली, चेहरा, ल...     2  0  0  1   \n",
       "22                                                [0]     2  0  0  1   \n",
       "23  [कौन, हैं, ये, जेहादी, लोग, जिनके, पास, बम, है...     2  0  0  1   \n",
       "24  [क्रिकेट, से, रिटायरमेंट, लेने, के, बाद, आगे, ...     0  1  0  0   \n",
       "\n",
       "   Category_id  \n",
       "0            1  \n",
       "1            1  \n",
       "2            2  \n",
       "3            2  \n",
       "4            0  \n",
       "5            0  \n",
       "6            1  \n",
       "7            0  \n",
       "8            1  \n",
       "9            2  \n",
       "10           2  \n",
       "11           2  \n",
       "12           2  \n",
       "13           2  \n",
       "14           0  \n",
       "15           1  \n",
       "16           0  \n",
       "17           2  \n",
       "18           0  \n",
       "19           0  \n",
       "20           1  \n",
       "21           2  \n",
       "22           2  \n",
       "23           2  \n",
       "24           0  "
      ]
     },
     "execution_count": 124,
     "metadata": {},
     "output_type": "execute_result"
    }
   ],
   "source": [
    "category_id = []\n",
    "for l in data.Label:\n",
    "    \n",
    "    if l == '0':\n",
    "        category_id.append('0')\n",
    "    elif l == '1':\n",
    "        category_id.append('1')\n",
    "    elif l == '2':\n",
    "        category_id.append('2')\n",
    "        \n",
    "data['Category_id'] = category_id\n",
    "\n",
    "data = data[['Text_Final', 'tokens', 'Label', '0', '1', '2', 'Category_id' ]]\n",
    "data.head(25)"
   ]
  },
  {
   "cell_type": "code",
   "execution_count": 125,
   "metadata": {},
   "outputs": [],
   "source": [
    "data = data[data.tokens != '']"
   ]
  },
  {
   "cell_type": "code",
   "execution_count": 126,
   "metadata": {},
   "outputs": [],
   "source": [
    "from io import StringIO\n",
    "category_id_df = data[['Label', 'Category_id']].drop_duplicates().sort_values('Category_id')\n",
    "category_to_label_dict = dict(category_id_df.values)\n",
    "label_to_category_dict = dict(category_id_df[['Category_id', 'Label']].values)"
   ]
  },
  {
   "cell_type": "markdown",
   "metadata": {},
   "source": [
    "#### Split Data into test and train\n",
    "We will use 90 % data for training and 10 % for testing. We use random state so every time we get the same training and testing data."
   ]
  },
  {
   "cell_type": "code",
   "execution_count": 127,
   "metadata": {},
   "outputs": [],
   "source": [
    "data_train, data_test = train_test_split(data, test_size=0.10, random_state=42)\n"
   ]
  },
  {
   "cell_type": "code",
   "execution_count": 128,
   "metadata": {},
   "outputs": [],
   "source": [
    "# # total training words\n",
    "totalTrainingWords = [word for tokens in data_train[\"tokens\"] for word in tokens]\n",
    "\n",
    "# # Storing Length of the training sentence\n",
    "lengthTrainingSentences = [len(tokens) for tokens in data_train[\"tokens\"]]\n",
    "\n",
    "# # training Vocabulary size\n",
    "trainingVocabSize = sorted(list(set(totalTrainingWords)))\n",
    "\n",
    "## Total number of lines\n",
    "linesCount = len(data_train[\"tokens\"])"
   ]
  },
  {
   "cell_type": "markdown",
   "metadata": {},
   "source": [
    "### Load Google News Glove model"
   ]
  },
  {
   "cell_type": "code",
   "execution_count": 131,
   "metadata": {},
   "outputs": [
    {
     "data": {
      "text/plain": [
       "(400000, 300)"
      ]
     },
     "execution_count": 131,
     "metadata": {},
     "output_type": "execute_result"
    }
   ],
   "source": [
    "# Run only once\n",
    "# Convert Glove file to word2vec format \n",
    "from gensim.scripts.glove2word2vec import glove2word2vec\n",
    "\n",
    "glove_input_file = 'glove.6B.300d.txt'  # I unzipped in glove.6B subdirectory \n",
    "word2vec_output_file = 'glove.6B.300d.word2vec'\n",
    "glove2word2vec(glove_input_file, word2vec_output_file)"
   ]
  },
  {
   "cell_type": "code",
   "execution_count": 132,
   "metadata": {},
   "outputs": [],
   "source": [
    "# Use the converted Glove file\n",
    "filename = 'glove.6B.300d.word2vec'\n",
    "word2vec = KeyedVectors.load_word2vec_format(filename, binary=False)"
   ]
  },
  {
   "cell_type": "code",
   "execution_count": 133,
   "metadata": {},
   "outputs": [],
   "source": [
    "MAX_SEQUENCE_LENGTH = 150\n",
    "EMBEDDING_DIM = 300"
   ]
  },
  {
   "cell_type": "markdown",
   "metadata": {},
   "source": [
    "\n",
    "### Tokenize and Pad sequences"
   ]
  },
  {
   "cell_type": "code",
   "execution_count": 134,
   "metadata": {},
   "outputs": [
    {
     "name": "stdout",
     "output_type": "stream",
     "text": [
      "Found 19134 unique tokens.\n"
     ]
    }
   ],
   "source": [
    "tokenizer = Tokenizer(num_words=len(trainingVocabSize), lower=True, char_level=False)\n",
    "tokenizer.fit_on_texts(data_train[\"Text_Final\"].tolist())\n",
    "training_sequences = tokenizer.texts_to_sequences(data_train[\"Text_Final\"].tolist())\n",
    "\n",
    "train_word_index = tokenizer.word_index\n",
    "print('Found %s unique tokens.' % len(train_word_index))"
   ]
  },
  {
   "cell_type": "code",
   "execution_count": 135,
   "metadata": {},
   "outputs": [],
   "source": [
    "cnnTrainData = pad_sequences(training_sequences, maxlen=MAX_SEQUENCE_LENGTH)"
   ]
  },
  {
   "cell_type": "code",
   "execution_count": 136,
   "metadata": {},
   "outputs": [
    {
     "name": "stdout",
     "output_type": "stream",
     "text": [
      "(19135, 300)\n"
     ]
    }
   ],
   "source": [
    "train_embedding_weights = np.zeros((len(train_word_index)+1, EMBEDDING_DIM))\n",
    "for word,index in train_word_index.items():\n",
    "    train_embedding_weights[index,:] = word2vec[word] if word in word2vec else np.random.rand(EMBEDDING_DIM)\n",
    "print(train_embedding_weights.shape)"
   ]
  },
  {
   "cell_type": "code",
   "execution_count": 137,
   "metadata": {},
   "outputs": [],
   "source": [
    "test_sequences = tokenizer.texts_to_sequences(data_test[\"Text_Final\"].tolist())\n",
    "cnnTestData = pad_sequences(test_sequences, maxlen= MAX_SEQUENCE_LENGTH)"
   ]
  },
  {
   "cell_type": "markdown",
   "metadata": {},
   "source": [
    "### Define CNN"
   ]
  },
  {
   "cell_type": "markdown",
   "metadata": {},
   "source": [
    "The model is from the paper 'Convolutional Neural Networks for Sentence Classification' we have updated the network according to our requirement [1]"
   ]
  },
  {
   "cell_type": "code",
   "execution_count": 138,
   "metadata": {},
   "outputs": [],
   "source": [
    "label_names = ['0', '1', '2']"
   ]
  },
  {
   "cell_type": "code",
   "execution_count": 139,
   "metadata": {},
   "outputs": [],
   "source": [
    "def ConvolutionalNeuralNet(embeddings, max_sequence_length, num_words, embedding_dim, labels_index):\n",
    "    \n",
    "    # Embedding layer\n",
    "    embedding_layer = Embedding(num_words,\n",
    "                            embedding_dim,\n",
    "                            weights=[embeddings],\n",
    "                            input_length=max_sequence_length,\n",
    "                            trainable=False)\n",
    "    \n",
    "    sequence_input = Input(shape=(max_sequence_length,), dtype='int32')\n",
    "    embedded_sequences = embedding_layer(sequence_input)\n",
    "\n",
    "    convs = []\n",
    "    \n",
    "    #Kernal (window) size\n",
    "    filter_sizes = [2,3,4,5]\n",
    "\n",
    "    # Convolution Layer and max-pooling\n",
    "    for filter_size in filter_sizes:\n",
    "        l_conv = Conv1D(filters=512, kernel_size=filter_size, activation='relu')(embedded_sequences)\n",
    "        l_pool = GlobalMaxPooling1D()(l_conv)\n",
    "        convs.append(l_pool)\n",
    "        \n",
    "    l_merge = concatenate(convs, axis=1)\n",
    "    \n",
    "    # softmax layer for multiclass identification \n",
    "    x = Dropout(0.1)(l_merge)  \n",
    "    x = Dense(512, activation='relu')(x)\n",
    "    x = Dropout(0.2)(x)\n",
    "    preds = Dense(labels_index, activation='softmax')(x)\n",
    "\n",
    "    model = Model(sequence_input, preds)\n",
    "    model.compile(loss= 'categorical_crossentropy',\n",
    "                 optimizer = keras.optimizers.RMSprop(learning_rate=1e-3),\n",
    "#                    optimizer='adam',\n",
    "                  metrics=['accuracy'])\n",
    "    return model"
   ]
  },
  {
   "cell_type": "code",
   "execution_count": 140,
   "metadata": {},
   "outputs": [],
   "source": [
    "# Splitting train data into X_train and y_train\n",
    "y_train = data_train[label_names].values\n",
    "x_train = cnnTrainData\n",
    "y_tr = y_train"
   ]
  },
  {
   "cell_type": "code",
   "execution_count": 141,
   "metadata": {},
   "outputs": [],
   "source": [
    "# Splitting train data into X_test and y_test\n",
    "y_test = data_test[label_names].values\n",
    "x_test = cnnTestData\n",
    "y_tst = y_test"
   ]
  },
  {
   "cell_type": "code",
   "execution_count": 142,
   "metadata": {},
   "outputs": [],
   "source": [
    "model = ConvolutionalNeuralNet(train_embedding_weights, MAX_SEQUENCE_LENGTH, len(train_word_index)+1, EMBEDDING_DIM, len(list(label_names)))"
   ]
  },
  {
   "cell_type": "code",
   "execution_count": 143,
   "metadata": {},
   "outputs": [
    {
     "name": "stdout",
     "output_type": "stream",
     "text": [
      "Model: \"model_1\"\n",
      "__________________________________________________________________________________________________\n",
      "Layer (type)                    Output Shape         Param #     Connected to                     \n",
      "==================================================================================================\n",
      "input_2 (InputLayer)            [(None, 150)]        0                                            \n",
      "__________________________________________________________________________________________________\n",
      "embedding_1 (Embedding)         (None, 150, 300)     5740500     input_2[0][0]                    \n",
      "__________________________________________________________________________________________________\n",
      "conv1d_4 (Conv1D)               (None, 149, 512)     307712      embedding_1[0][0]                \n",
      "__________________________________________________________________________________________________\n",
      "conv1d_5 (Conv1D)               (None, 148, 512)     461312      embedding_1[0][0]                \n",
      "__________________________________________________________________________________________________\n",
      "conv1d_6 (Conv1D)               (None, 147, 512)     614912      embedding_1[0][0]                \n",
      "__________________________________________________________________________________________________\n",
      "conv1d_7 (Conv1D)               (None, 146, 512)     768512      embedding_1[0][0]                \n",
      "__________________________________________________________________________________________________\n",
      "global_max_pooling1d_4 (GlobalM (None, 512)          0           conv1d_4[0][0]                   \n",
      "__________________________________________________________________________________________________\n",
      "global_max_pooling1d_5 (GlobalM (None, 512)          0           conv1d_5[0][0]                   \n",
      "__________________________________________________________________________________________________\n",
      "global_max_pooling1d_6 (GlobalM (None, 512)          0           conv1d_6[0][0]                   \n",
      "__________________________________________________________________________________________________\n",
      "global_max_pooling1d_7 (GlobalM (None, 512)          0           conv1d_7[0][0]                   \n",
      "__________________________________________________________________________________________________\n",
      "concatenate_1 (Concatenate)     (None, 2048)         0           global_max_pooling1d_4[0][0]     \n",
      "                                                                 global_max_pooling1d_5[0][0]     \n",
      "                                                                 global_max_pooling1d_6[0][0]     \n",
      "                                                                 global_max_pooling1d_7[0][0]     \n",
      "__________________________________________________________________________________________________\n",
      "dropout_2 (Dropout)             (None, 2048)         0           concatenate_1[0][0]              \n",
      "__________________________________________________________________________________________________\n",
      "dense_2 (Dense)                 (None, 512)          1049088     dropout_2[0][0]                  \n",
      "__________________________________________________________________________________________________\n",
      "dropout_3 (Dropout)             (None, 512)          0           dense_2[0][0]                    \n",
      "__________________________________________________________________________________________________\n",
      "dense_3 (Dense)                 (None, 3)            1539        dropout_3[0][0]                  \n",
      "==================================================================================================\n",
      "Total params: 8,943,575\n",
      "Trainable params: 3,203,075\n",
      "Non-trainable params: 5,740,500\n",
      "__________________________________________________________________________________________________\n"
     ]
    }
   ],
   "source": [
    "model.summary()"
   ]
  },
  {
   "cell_type": "markdown",
   "metadata": {},
   "source": [
    "### Train CNN"
   ]
  },
  {
   "cell_type": "code",
   "execution_count": 144,
   "metadata": {},
   "outputs": [],
   "source": [
    "num_epochs = 10\n",
    "batch_size = 512"
   ]
  },
  {
   "cell_type": "code",
   "execution_count": 145,
   "metadata": {},
   "outputs": [
    {
     "name": "stdout",
     "output_type": "stream",
     "text": [
      "Epoch 1/10\n",
      "17/17 [==============================] - 48s 3s/step - loss: 5.7274 - accuracy: 0.3815 - val_loss: 2.1504 - val_accuracy: 0.3502\n",
      "Epoch 2/10\n",
      "17/17 [==============================] - 47s 3s/step - loss: 1.1000 - accuracy: 0.4946 - val_loss: 1.4281 - val_accuracy: 0.4248\n",
      "Epoch 3/10\n",
      "17/17 [==============================] - 46s 3s/step - loss: 0.9435 - accuracy: 0.5770 - val_loss: 0.7738 - val_accuracy: 0.6905\n",
      "Epoch 4/10\n",
      "17/17 [==============================] - 47s 3s/step - loss: 0.8172 - accuracy: 0.6613 - val_loss: 0.6248 - val_accuracy: 0.7761\n",
      "Epoch 5/10\n",
      "17/17 [==============================] - 47s 3s/step - loss: 0.5657 - accuracy: 0.7801 - val_loss: 0.4501 - val_accuracy: 0.8353\n",
      "Epoch 6/10\n",
      "17/17 [==============================] - 47s 3s/step - loss: 0.4289 - accuracy: 0.8385 - val_loss: 0.4796 - val_accuracy: 0.8057\n",
      "Epoch 7/10\n",
      "17/17 [==============================] - 47s 3s/step - loss: 0.3292 - accuracy: 0.8725 - val_loss: 0.4242 - val_accuracy: 0.8573\n",
      "Epoch 8/10\n",
      "17/17 [==============================] - 46s 3s/step - loss: 0.2663 - accuracy: 0.8979 - val_loss: 0.4130 - val_accuracy: 0.8617\n",
      "Epoch 9/10\n",
      "17/17 [==============================] - 44s 3s/step - loss: 0.3119 - accuracy: 0.8960 - val_loss: 0.4826 - val_accuracy: 0.8321\n",
      "Epoch 10/10\n",
      "17/17 [==============================] - 47s 3s/step - loss: 0.2766 - accuracy: 0.8988 - val_loss: 0.3514 - val_accuracy: 0.8913\n"
     ]
    }
   ],
   "source": [
    "history = model.fit(x_train, y_tr, epochs=num_epochs, validation_split=0.1, shuffle=True, batch_size=batch_size)"
   ]
  },
  {
   "cell_type": "code",
   "execution_count": 146,
   "metadata": {},
   "outputs": [
    {
     "name": "stdout",
     "output_type": "stream",
     "text": [
      "32/32 [==============================] - 3s 83ms/step - loss: 0.3331 - accuracy: 0.8924\n"
     ]
    }
   ],
   "source": [
    "# evaluate on test data\n",
    "results = model.evaluate(x_test, y_tst)"
   ]
  },
  {
   "cell_type": "code",
   "execution_count": 147,
   "metadata": {},
   "outputs": [
    {
     "name": "stdout",
     "output_type": "stream",
     "text": [
      "1/1 [==============================] - 0s 2ms/step\n"
     ]
    }
   ],
   "source": [
    "# predict model\n",
    "predictions = model.predict(cnnTestData, batch_size=1024, verbose=1)"
   ]
  },
  {
   "cell_type": "markdown",
   "metadata": {},
   "source": [
    "### Testing few sentences using our model"
   ]
  },
  {
   "cell_type": "code",
   "execution_count": 148,
   "metadata": {},
   "outputs": [],
   "source": [
    "\n",
    "labels = ['0', '1', '2']\n",
    "\n",
    "def makeprediction(texts):\n",
    "    tk = Tokenizer()\n",
    "    tk.fit_on_texts(texts)\n",
    "    index_list = tk.texts_to_sequences(texts)\n",
    "    x_train = pad_sequences(index_list, maxlen=150)\n",
    "    pred = model.predict(x_train)\n",
    "    print(pred)\n",
    "    result = labels[np.argmax(pred)]\n",
    "    return result"
   ]
  },
  {
   "cell_type": "code",
   "execution_count": 149,
   "metadata": {},
   "outputs": [],
   "source": [
    "prediction_labels=[]\n",
    "for p in predictions:\n",
    "    prediction_labels.append(labels[np.argmax(p)])"
   ]
  },
  {
   "cell_type": "code",
   "execution_count": 150,
   "metadata": {},
   "outputs": [
    {
     "data": {
      "text/plain": [
       "0.8923988153998026"
      ]
     },
     "execution_count": 150,
     "metadata": {},
     "output_type": "execute_result"
    }
   ],
   "source": [
    "sum(data_test.Label==prediction_labels)/len(prediction_labels)"
   ]
  },
  {
   "cell_type": "code",
   "execution_count": 151,
   "metadata": {},
   "outputs": [
    {
     "data": {
      "text/plain": [
       "2    353\n",
       "0    336\n",
       "1    324\n",
       "Name: Label, dtype: int64"
      ]
     },
     "execution_count": 151,
     "metadata": {},
     "output_type": "execute_result"
    }
   ],
   "source": [
    "data_test.Label.value_counts()"
   ]
  },
  {
   "cell_type": "code",
   "execution_count": 152,
   "metadata": {},
   "outputs": [
    {
     "data": {
      "image/png": "[encoded data removed]",
      "text/plain": [
       "<Figure size 432x288 with 2 Axes>"
      ]
     },
     "metadata": {
      "needs_background": "light"
     },
     "output_type": "display_data"
    }
   ],
   "source": [
    "plt.figure(1)\n",
    "# summarize history for accuracy\n",
    "plt.subplot(211)\n",
    "plt.plot(history.history['accuracy'])\n",
    "plt.plot(history.history['val_accuracy'])\n",
    "plt.title('model accuracy')\n",
    "plt.ylabel('accuracy')\n",
    "plt.xlabel('epoch')\n",
    "plt.legend(['train', 'val'], loc='upper left')\n",
    "# summarize history for loss\n",
    "plt.subplot(212)\n",
    "plt.plot(history.history['loss'])\n",
    "plt.plot(history.history['val_loss'])\n",
    "plt.title('model loss')\n",
    "plt.ylabel('loss')\n",
    "plt.xlabel('epoch')\n",
    "plt.legend(['train', 'val'], loc='upper left')\n",
    "plt.tight_layout()\n",
    "plt.show()"
   ]
  },
  {
   "cell_type": "code",
   "execution_count": 153,
   "metadata": {},
   "outputs": [
    {
     "name": "stdout",
     "output_type": "stream",
     "text": [
      "Confusion Matrix :\n",
      "[[272  60   4]\n",
      " [  3 320   1]\n",
      " [  6  35 312]]\n",
      "Accuracy Score : 0.8923988153998026\n",
      "Report : \n",
      "              precision    recall  f1-score   support\n",
      "\n",
      "           0       0.97      0.81      0.88       336\n",
      "           1       0.77      0.99      0.87       324\n",
      "           2       0.98      0.88      0.93       353\n",
      "\n",
      "    accuracy                           0.89      1013\n",
      "   macro avg       0.91      0.89      0.89      1013\n",
      "weighted avg       0.91      0.89      0.89      1013\n",
      "\n"
     ]
    }
   ],
   "source": [
    "results = confusion_matrix(data_test.Label, prediction_labels)\n",
    "print ('Confusion Matrix :')\n",
    "print(results) \n",
    "print ('Accuracy Score :',accuracy_score(data_test.Label, prediction_labels))\n",
    "print ('Report : ')\n",
    "print (classification_report(data_test.Label, prediction_labels))"
   ]
  },
  {
   "cell_type": "code",
   "execution_count": 154,
   "metadata": {},
   "outputs": [
    {
     "name": "stdout",
     "output_type": "stream",
     "text": [
      "                        Convolution Neural Network\n"
     ]
    },
    {
     "data": {
      "image/png": "[encoded data removed]",
      "text/plain": [
       "<Figure size 360x360 with 2 Axes>"
      ]
     },
     "metadata": {
      "needs_background": "light"
     },
     "output_type": "display_data"
    }
   ],
   "source": [
    "from sklearn.metrics import confusion_matrix\n",
    "print(\"                        Convolution Neural Network\")\n",
    "conf_mat = confusion_matrix(data_test.Label, prediction_labels)\n",
    "fig, ax = plt.subplots(figsize=(5,5))\n",
    "sns.heatmap(conf_mat, annot=True, fmt='d', cmap ='YlGnBu',\n",
    "            xticklabels=category_id_df.Label.values, yticklabels=category_id_df.Label.values)\n",
    "plt.ylabel('Actual')\n",
    "plt.xlabel('Predicted')\n",
    "plt.show()"
   ]
  },
  {
   "cell_type": "markdown",
   "metadata": {},
   "source": [
    "### Testing CNN using KFold cross validation"
   ]
  },
  {
   "cell_type": "code",
   "execution_count": 155,
   "metadata": {},
   "outputs": [
    {
     "name": "stdout",
     "output_type": "stream",
     "text": [
      "Fold:  1\n",
      "Epoch 1/5\n",
      "257/257 [==============================] - 62s 242ms/step - loss: 0.8253 - accuracy: 0.7416 - val_loss: 0.2339 - val_accuracy: 0.9067\n",
      "Epoch 2/5\n",
      "257/257 [==============================] - 61s 239ms/step - loss: 0.2852 - accuracy: 0.9000 - val_loss: 0.3579 - val_accuracy: 0.8716\n",
      "Epoch 3/5\n",
      "257/257 [==============================] - 62s 240ms/step - loss: 0.2176 - accuracy: 0.9230 - val_loss: 0.3266 - val_accuracy: 0.8913\n",
      "Epoch 4/5\n",
      "257/257 [==============================] - 61s 238ms/step - loss: 0.1923 - accuracy: 0.9351 - val_loss: 0.2144 - val_accuracy: 0.9440\n",
      "Epoch 5/5\n",
      "257/257 [==============================] - 61s 237ms/step - loss: 0.1842 - accuracy: 0.9399 - val_loss: 0.5561 - val_accuracy: 0.8650\n",
      "Results for current fold:\n",
      "8/8 [==============================] - 2s 235ms/step - loss: 0.6243 - accuracy: 0.8401\n",
      "Fold:  2\n",
      "Epoch 1/5\n",
      "257/257 [==============================] - 61s 238ms/step - loss: 0.8951 - accuracy: 0.7281 - val_loss: 0.4668 - val_accuracy: 0.8332\n",
      "Epoch 2/5\n",
      "257/257 [==============================] - 62s 239ms/step - loss: 0.2925 - accuracy: 0.9001 - val_loss: 0.5071 - val_accuracy: 0.8683\n",
      "Epoch 3/5\n",
      "257/257 [==============================] - 59s 230ms/step - loss: 0.2266 - accuracy: 0.9245 - val_loss: 0.2497 - val_accuracy: 0.9243\n",
      "Epoch 4/5\n",
      "257/257 [==============================] - 61s 238ms/step - loss: 0.1896 - accuracy: 0.9361 - val_loss: 0.3836 - val_accuracy: 0.8913\n",
      "Epoch 5/5\n",
      "257/257 [==============================] - 61s 239ms/step - loss: 0.1617 - accuracy: 0.9424 - val_loss: 0.4223 - val_accuracy: 0.8924\n",
      "Results for current fold:\n",
      "8/8 [==============================] - 2s 246ms/step - loss: 0.4239 - accuracy: 0.8904\n",
      "Fold:  3\n",
      "Epoch 1/5\n",
      "257/257 [==============================] - 61s 239ms/step - loss: 0.8595 - accuracy: 0.7377 - val_loss: 0.3424 - val_accuracy: 0.8760\n",
      "Epoch 2/5\n",
      "257/257 [==============================] - 61s 238ms/step - loss: 0.2881 - accuracy: 0.8993 - val_loss: 0.2226 - val_accuracy: 0.9232\n",
      "Epoch 3/5\n",
      "257/257 [==============================] - 61s 239ms/step - loss: 0.2341 - accuracy: 0.9221 - val_loss: 0.2740 - val_accuracy: 0.9199\n",
      "Epoch 4/5\n",
      "257/257 [==============================] - 61s 238ms/step - loss: 0.2002 - accuracy: 0.9323 - val_loss: 0.3254 - val_accuracy: 0.8814\n",
      "Epoch 5/5\n",
      "257/257 [==============================] - 61s 239ms/step - loss: 0.1684 - accuracy: 0.9418 - val_loss: 0.2955 - val_accuracy: 0.9254\n",
      "Results for current fold:\n",
      "8/8 [==============================] - 2s 241ms/step - loss: 0.2420 - accuracy: 0.9388\n",
      "Fold:  4\n",
      "Epoch 1/5\n",
      "257/257 [==============================] - 59s 231ms/step - loss: 0.9016 - accuracy: 0.7152 - val_loss: 0.3254 - val_accuracy: 0.8760\n",
      "Epoch 2/5\n",
      "257/257 [==============================] - 61s 239ms/step - loss: 0.2948 - accuracy: 0.8945 - val_loss: 0.3498 - val_accuracy: 0.8858\n",
      "Epoch 3/5\n",
      "257/257 [==============================] - 61s 239ms/step - loss: 0.2223 - accuracy: 0.9211 - val_loss: 0.3084 - val_accuracy: 0.9155\n",
      "Epoch 4/5\n",
      "257/257 [==============================] - 61s 238ms/step - loss: 0.1987 - accuracy: 0.9328 - val_loss: 0.4665 - val_accuracy: 0.8496\n",
      "Epoch 5/5\n",
      "257/257 [==============================] - 61s 239ms/step - loss: 0.1766 - accuracy: 0.9393 - val_loss: 0.2728 - val_accuracy: 0.9363\n",
      "Results for current fold:\n",
      "8/8 [==============================] - 2s 235ms/step - loss: 0.1881 - accuracy: 0.9398\n",
      "Fold:  5\n",
      "Epoch 1/5\n",
      "257/257 [==============================] - 61s 239ms/step - loss: 0.8581 - accuracy: 0.7172 - val_loss: 0.3085 - val_accuracy: 0.8869\n",
      "Epoch 2/5\n",
      "257/257 [==============================] - 62s 240ms/step - loss: 0.2973 - accuracy: 0.8951 - val_loss: 0.2907 - val_accuracy: 0.8979\n",
      "Epoch 3/5\n",
      "257/257 [==============================] - 62s 241ms/step - loss: 0.2351 - accuracy: 0.9202 - val_loss: 0.2831 - val_accuracy: 0.9308\n",
      "Epoch 4/5\n",
      "257/257 [==============================] - 60s 233ms/step - loss: 0.1963 - accuracy: 0.9365 - val_loss: 0.2859 - val_accuracy: 0.9254\n",
      "Epoch 5/5\n",
      "257/257 [==============================] - 62s 243ms/step - loss: 0.1801 - accuracy: 0.9388 - val_loss: 0.3396 - val_accuracy: 0.9254\n",
      "Results for current fold:\n",
      "8/8 [==============================] - 2s 250ms/step - loss: 0.2750 - accuracy: 0.9329\n",
      "Fold:  6\n",
      "Epoch 1/5\n",
      "257/257 [==============================] - 58s 227ms/step - loss: 0.8537 - accuracy: 0.7159 - val_loss: 1.0398 - val_accuracy: 0.6597\n",
      "Epoch 2/5\n",
      "257/257 [==============================] - 62s 241ms/step - loss: 0.2995 - accuracy: 0.8988 - val_loss: 0.3679 - val_accuracy: 0.8825\n",
      "Epoch 3/5\n",
      "257/257 [==============================] - 62s 241ms/step - loss: 0.2225 - accuracy: 0.9208 - val_loss: 0.4006 - val_accuracy: 0.8595\n",
      "Epoch 4/5\n",
      "257/257 [==============================] - 62s 240ms/step - loss: 0.1962 - accuracy: 0.9293 - val_loss: 0.1773 - val_accuracy: 0.9451\n",
      "Epoch 5/5\n",
      "257/257 [==============================] - 62s 241ms/step - loss: 0.1853 - accuracy: 0.9382 - val_loss: 0.2379 - val_accuracy: 0.9308\n",
      "Results for current fold:\n",
      "8/8 [==============================] - 2s 248ms/step - loss: 0.3786 - accuracy: 0.9052\n",
      "Fold:  7\n",
      "Epoch 1/5\n",
      "257/257 [==============================] - 62s 242ms/step - loss: 0.8302 - accuracy: 0.7217 - val_loss: 0.4038 - val_accuracy: 0.8782\n",
      "Epoch 2/5\n",
      "257/257 [==============================] - 62s 242ms/step - loss: 0.2899 - accuracy: 0.8984 - val_loss: 0.3175 - val_accuracy: 0.8858\n",
      "Epoch 3/5\n",
      "257/257 [==============================] - 61s 238ms/step - loss: 0.2229 - accuracy: 0.9227 - val_loss: 0.2411 - val_accuracy: 0.9341\n",
      "Epoch 4/5\n",
      "257/257 [==============================] - 61s 237ms/step - loss: 0.1854 - accuracy: 0.9363 - val_loss: 0.5960 - val_accuracy: 0.8869\n",
      "Epoch 5/5\n",
      "257/257 [==============================] - 62s 242ms/step - loss: 0.1724 - accuracy: 0.9447 - val_loss: 0.2054 - val_accuracy: 0.9451\n",
      "Results for current fold:\n",
      "8/8 [==============================] - 2s 238ms/step - loss: 0.2377 - accuracy: 0.9348\n",
      "Fold:  8\n",
      "Epoch 1/5\n",
      "257/257 [==============================] - 62s 242ms/step - loss: 0.8722 - accuracy: 0.7189 - val_loss: 0.3546 - val_accuracy: 0.8540\n",
      "Epoch 2/5\n",
      "257/257 [==============================] - 62s 241ms/step - loss: 0.2943 - accuracy: 0.8912 - val_loss: 0.3654 - val_accuracy: 0.8705\n",
      "Epoch 3/5\n",
      "257/257 [==============================] - 62s 242ms/step - loss: 0.2336 - accuracy: 0.9193 - val_loss: 0.2603 - val_accuracy: 0.9078\n",
      "Epoch 4/5\n",
      "257/257 [==============================] - 62s 241ms/step - loss: 0.1990 - accuracy: 0.9311 - val_loss: 0.3739 - val_accuracy: 0.8979\n",
      "Epoch 5/5\n",
      "257/257 [==============================] - 62s 241ms/step - loss: 0.1690 - accuracy: 0.9423 - val_loss: 0.5840 - val_accuracy: 0.9144\n",
      "Results for current fold:\n",
      "8/8 [==============================] - 2s 252ms/step - loss: 0.4246 - accuracy: 0.9240\n",
      "Fold:  9\n",
      "Epoch 1/5\n",
      "257/257 [==============================] - 62s 240ms/step - loss: 0.8465 - accuracy: 0.7207 - val_loss: 0.3160 - val_accuracy: 0.9001\n",
      "Epoch 2/5\n",
      "257/257 [==============================] - 63s 245ms/step - loss: 0.2918 - accuracy: 0.9034 - val_loss: 0.3475 - val_accuracy: 0.8913\n",
      "Epoch 3/5\n",
      "257/257 [==============================] - 63s 243ms/step - loss: 0.2173 - accuracy: 0.9238 - val_loss: 0.4089 - val_accuracy: 0.8639\n",
      "Epoch 4/5\n",
      "257/257 [==============================] - 63s 244ms/step - loss: 0.1836 - accuracy: 0.9351 - val_loss: 0.4110 - val_accuracy: 0.9363\n",
      "Epoch 5/5\n",
      "257/257 [==============================] - 63s 245ms/step - loss: 0.1703 - accuracy: 0.9437 - val_loss: 0.2560 - val_accuracy: 0.9484\n",
      "Results for current fold:\n",
      "8/8 [==============================] - 2s 247ms/step - loss: 0.2357 - accuracy: 0.9368\n",
      "Fold:  10\n",
      "Epoch 1/5\n",
      "257/257 [==============================] - 63s 243ms/step - loss: 0.8112 - accuracy: 0.7292 - val_loss: 0.3097 - val_accuracy: 0.8814\n",
      "Epoch 2/5\n",
      "257/257 [==============================] - 62s 242ms/step - loss: 0.2988 - accuracy: 0.8928 - val_loss: 0.2406 - val_accuracy: 0.9045\n",
      "Epoch 3/5\n",
      "257/257 [==============================] - 62s 243ms/step - loss: 0.2316 - accuracy: 0.9190 - val_loss: 0.2651 - val_accuracy: 0.9188\n",
      "Epoch 4/5\n",
      "257/257 [==============================] - 61s 237ms/step - loss: 0.1837 - accuracy: 0.9373 - val_loss: 0.2967 - val_accuracy: 0.9122\n",
      "Epoch 5/5\n",
      "257/257 [==============================] - 63s 244ms/step - loss: 0.1939 - accuracy: 0.9379 - val_loss: 0.2590 - val_accuracy: 0.9210\n",
      "Results for current fold:\n",
      "8/8 [==============================] - 2s 251ms/step - loss: 0.2953 - accuracy: 0.9269\n"
     ]
    }
   ],
   "source": [
    "from sklearn.model_selection import StratifiedKFold\n",
    "from scipy.stats import zscore\n",
    "from sklearn import metrics\n",
    "import tensorflow as tf\n",
    "import random\n",
    "\n",
    "f_score=[]\n",
    "fold = 10\n",
    "label_names = ['0', '1', '2']\n",
    "num_epochs = 5\n",
    "batch_size = 32\n",
    "#oos_y = []\n",
    "#oos_pred = []\n",
    "results = []\n",
    "#for train, test in kf.split(data[\"tokens\"], data['Label']):\n",
    "\n",
    "for i in range(fold):\n",
    "    print(\"Fold: \", i+1)\n",
    "    random_num = np.random.randint(1,7000, 1)[0]\n",
    "    data_train, data_test = train_test_split(data, test_size=0.10, shuffle = True, random_state = random_num)\n",
    "\n",
    "    # # total training words\n",
    "    totalTrainingWords = [word for tokens in data_train[\"tokens\"] for word in tokens]\n",
    "\n",
    "    # # Storing Length of the training sentence\n",
    "    lengthTrainingSentences = [len(tokens) for tokens in data_train[\"tokens\"]]\n",
    "\n",
    "    # # training Vocabulary size\n",
    "    trainingVocabSize = sorted(list(set(totalTrainingWords)))\n",
    "\n",
    "    ## Total number of lines\n",
    "    linesCount = len(data_train[\"tokens\"])\n",
    "    \n",
    "    tokenizer = Tokenizer(num_words=len(trainingVocabSize), lower=True, char_level=False)\n",
    "    tokenizer.fit_on_texts(data_train[\"Text_Final\"].tolist())\n",
    "    training_sequences = tokenizer.texts_to_sequences(data_train[\"Text_Final\"].tolist())\n",
    "\n",
    "    train_word_index = tokenizer.word_index\n",
    "    cnnTrainData = pad_sequences(training_sequences, maxlen=MAX_SEQUENCE_LENGTH)\n",
    "    \n",
    "    train_embedding_weights = np.zeros((len(train_word_index)+1, EMBEDDING_DIM))\n",
    "    \n",
    "    for word,index in train_word_index.items():\n",
    "        train_embedding_weights[index,:] = word2vec[word] if word in word2vec else np.random.rand(EMBEDDING_DIM)\n",
    "        \n",
    "    test_sequences = tokenizer.texts_to_sequences(data_test[\"Text_Final\"].tolist())\n",
    "    cnnTestData = pad_sequences(test_sequences, maxlen= MAX_SEQUENCE_LENGTH)\n",
    "    \n",
    "    # Splitting train data into X_train and y_train\n",
    "    y_train = data_train[label_names].values\n",
    "    x_train = cnnTrainData\n",
    "    y_tr = y_train\n",
    "    \n",
    "    # Splitting train data into X_test and y_test\n",
    "    y_test = data_test[label_names].values\n",
    "    x_test = cnnTestData\n",
    "    y_tst = y_test\n",
    "    \n",
    "    # create model\n",
    "    model = ConvolutionalNeuralNet(train_embedding_weights, MAX_SEQUENCE_LENGTH, len(train_word_index)+1, EMBEDDING_DIM, len(list(label_names)))\n",
    "    \n",
    "    #Train Model\n",
    "    history = model.fit(x_train, y_tr, epochs=num_epochs, validation_split=0.1, shuffle=True, batch_size=batch_size)\n",
    "      \n",
    "    # model evaluate\n",
    "    \n",
    "    print(\"Results for current fold:\")\n",
    "    results.append(model.evaluate(x_test, y_tst, batch_size=128))\n",
    "\n",
    "model.save('model_CNN.h5')    "
   ]
  },
  {
   "cell_type": "code",
   "execution_count": 156,
   "metadata": {},
   "outputs": [
    {
     "name": "stdout",
     "output_type": "stream",
     "text": [
      "Kfold Mean:  0.9169792771339417\n"
     ]
    }
   ],
   "source": [
    "import statistics \n",
    "\n",
    "score = []\n",
    "for i in results:\n",
    "    score.append(i[1])\n",
    "x = statistics.mean(score)\n",
    "    \n",
    "print(\"Kfold Mean: \", x)"
   ]
  },
  {
   "cell_type": "code",
   "execution_count": 157,
   "metadata": {},
   "outputs": [],
   "source": [
    "# Prediction \n",
    "# translator\n",
    "translator = Translator()"
   ]
  },
  {
   "cell_type": "code",
   "execution_count": 158,
   "metadata": {},
   "outputs": [
    {
     "name": "stdout",
     "output_type": "stream",
     "text": [
      "[[2.9339091e-04 1.5317675e-01 8.4652984e-01]]\n",
      "2\n"
     ]
    }
   ],
   "source": [
    "# 0\n",
    "texts = [\"Sachin: Once there was a fight between Yusuf and Bhajji. Sehwag: Paji, was he Muhammad Yusuf or Yusuf Youhana at that time. This man will not let him live even after retirement.\"]\n",
    "print(makeprediction(texts))"
   ]
  },
  {
   "cell_type": "code",
   "execution_count": 159,
   "metadata": {},
   "outputs": [
    {
     "name": "stdout",
     "output_type": "stream",
     "text": [
      "[[9.8361164e-10 2.7067533e-16 1.0000000e+00]]\n",
      "2\n"
     ]
    }
   ],
   "source": [
    "# 2\n",
    "texts = [\"@_ROB_29 If this was a Muslim girl in Afghanistan you'd call her a terrorist\"]\n",
    "print(makeprediction(texts))"
   ]
  },
  {
   "cell_type": "code",
   "execution_count": 160,
   "metadata": {},
   "outputs": [
    {
     "name": "stdout",
     "output_type": "stream",
     "text": [
      "Hindi:  'गाजा में दीवाली   की ढेरो बधाई मित्रो 😊💐  #IsraeliBombing 😂😂\n",
      "Translated: 'Happy Diwali greetings in Gaza Friends 😊💐 #IsraeliBombing 😂😂\n",
      "[[4.4471758e-08 8.0531137e-09 1.0000000e+00]]\n",
      "Predicted Label:  2\n"
     ]
    }
   ],
   "source": [
    "# 2\n",
    "hin_text =  \"'गाजा में दीवाली   की ढेरो बधाई मित्रो 😊💐  #IsraeliBombing 😂😂\"\n",
    "print(\"Hindi: \", hin_text)\n",
    "\n",
    "trans = translator.translate(hin_text, dest='en')\n",
    "print('Translated:', trans.text)\n",
    "texts = [trans.text]\n",
    "print('Predicted Label: ',makeprediction(texts))"
   ]
  },
  {
   "cell_type": "code",
   "execution_count": 161,
   "metadata": {},
   "outputs": [
    {
     "name": "stdout",
     "output_type": "stream",
     "text": [
      "Hindi:   समाज वादी  पार्टी  जिंदाबाद \n",
      "Translated: Samajwadi Party Zindabad\n",
      "[[9.9957353e-01 1.2733868e-05 4.1374486e-04]]\n",
      "Predicted Label:  0\n"
     ]
    }
   ],
   "source": [
    "# 0\n",
    "hin_text =  \" समाज वादी  पार्टी  जिंदाबाद \"\n",
    "print(\"Hindi: \", hin_text)\n",
    "\n",
    "trans = translator.translate(hin_text, dest='en')\n",
    "print('Translated:', trans.text)\n",
    "texts = [trans.text]\n",
    "print('Predicted Label: ',makeprediction(texts))"
   ]
  },
  {
   "cell_type": "code",
   "execution_count": 162,
   "metadata": {},
   "outputs": [
    {
     "name": "stdout",
     "output_type": "stream",
     "text": [
      "Hindi:  इसलाम सुंदर है\n",
      "Translated: Islam is beautiful\n",
      "[[9.9957353e-01 1.2733868e-05 4.1374486e-04]]\n",
      "Predicted Label:  0\n"
     ]
    }
   ],
   "source": [
    "# 1\n",
    "hin_text =  \"इसलाम सुंदर है\"\n",
    "print(\"Hindi: \", hin_text)\n",
    "\n",
    "trans = translator.translate(hin_text, dest='en')\n",
    "print('Translated:', trans.text)\n",
    "texts = [trans.text]\n",
    "print('Predicted Label: ',makeprediction(texts))"
   ]
  },
  {
   "cell_type": "markdown",
   "metadata": {},
   "source": [
    "### Reference\n",
    "[1] \"Convolutional Neural Networks for Sentence Classification\" by Yoon Kim\n"
   ]
  },
  {
   "cell_type": "code",
   "execution_count": null,
   "metadata": {},
   "outputs": [],
   "source": []
  }
 ],
 "metadata": {
  "kernelspec": {
   "display_name": "Python 3",
   "language": "python",
   "name": "python3"
  },
  "language_info": {
   "codemirror_mode": {
    "name": "ipython",
    "version": 3
   },
   "file_extension": ".py",
   "mimetype": "text/x-python",
   "name": "python",
   "nbconvert_exporter": "python",
   "pygments_lexer": "ipython3",
   "version": "3.8.5"
  }
 },
 "nbformat": 4,
 "nbformat_minor": 4
}
