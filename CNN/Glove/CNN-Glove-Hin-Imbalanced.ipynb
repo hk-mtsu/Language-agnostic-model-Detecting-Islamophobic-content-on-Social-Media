{
 "cells": [
  {
   "cell_type": "markdown",
   "metadata": {},
   "source": [
    "\n",
    "# Convolutional Neural Network CNN\n",
    "1. Using Glove implementing CNN model\n",
    "2. Dispaly Confusion Matrix, precision, recall and F1-score\n",
    "3. Display few prediction using predict module. \n",
    "4. Get 10-fold Average of the CNN model."
   ]
  },
  {
   "cell_type": "code",
   "execution_count": 1,
   "metadata": {},
   "outputs": [],
   "source": [
    "from __future__ import division, print_function\n",
    "\n",
    "# dataframe\n",
    "import pandas as pd\n",
    "\n",
    "# numpy array\n",
    "import numpy as np\n",
    "\n",
    "# figures visualization\n",
    "import matplotlib.pyplot as plt\n",
    "from sklearn.metrics import confusion_matrix \n",
    "import seaborn as sns\n",
    "\n",
    "# calc accuracy\n",
    "from sklearn.metrics import accuracy_score \n",
    "from sklearn.metrics import classification_report \n",
    "\n",
    "# word2vec\n",
    "import gensim \n",
    "from gensim import models\n",
    "from gensim.models import Word2Vec \n",
    "from gensim.models import KeyedVectors\n",
    "\n",
    "# CNN model and keras preprocessing\n",
    "import keras\n",
    "from keras.callbacks import ModelCheckpoint\n",
    "from keras.layers import Dense, Dropout, Reshape, Flatten, concatenate, Input, Conv1D, GlobalMaxPooling1D, Embedding, Conv2D, GlobalMaxPooling2D\n",
    "from keras.models import Sequential\n",
    "from keras.models import Model\n",
    "from keras.preprocessing.text import Tokenizer\n",
    "from keras.preprocessing.sequence import pad_sequences\n",
    "\n",
    "# nltk data preprocessing\n",
    "import nltk\n",
    "from nltk import word_tokenize\n",
    "from nltk.tokenize import sent_tokenize \n",
    "from nltk.stem import WordNetLemmatizer\n",
    "\n",
    "# stopword - remove buzz word\n",
    "from nltk.corpus import stopwords\n",
    "\n",
    "# splitting data\n",
    "from sklearn.model_selection import train_test_split\n",
    "\n",
    "# punctuation - data imbalance\n",
    "import collections\n",
    "import re\n",
    "import string\n",
    "\n",
    "# File path\n",
    "import os\n",
    "import os.path\n",
    "from os import path\n",
    "\n",
    "# Translator\n",
    "import googletrans\n",
    "from googletrans import Translator"
   ]
  },
  {
   "cell_type": "code",
   "execution_count": 2,
   "metadata": {},
   "outputs": [],
   "source": [
    "# original english file\n",
    "filename  = 'Eng-Hin-data/hindi-anot-shuffled'\n",
    "orig_df = pd.read_csv(filename + '.csv',  \n",
    "               delimiter=',')\n",
    "orig_df.columns = ['Text', 'Label']"
   ]
  },
  {
   "cell_type": "code",
   "execution_count": 3,
   "metadata": {},
   "outputs": [
    {
     "data": {
      "text/plain": [
       "<bound method NDFrame.head of                                                    Text  Label\n",
       "0     'गाजा में दीवाली   की ढेरो बधाई मित्रो 😊💐  #Is...      2\n",
       "1        '@SanjayGadhiaINC @IndiaToday18 अज़ाबे इलाही 👍      1\n",
       "2     'आखिर अब #सुशांत_सिंह_राजपूत जी को न्याय मिल ज...      0\n",
       "3     'अमीन के 500 से अधिक छात्रों ने सर्वे भवन के ग...      0\n",
       "4     '@deoriapolice @Uppolice @myogiadityanath @spg...      0\n",
       "...                                                 ...    ...\n",
       "8788                  '@atullondhe राहुल गांधी जिंदाबाद      0\n",
       "8789  'पैगंबर हज़रत मुहम्मद सल्लल्लाहु अलैहि वसल्लम ...      1\n",
       "8790  'कर्नाटक बेंगलुरू में अल्लाह मोहम्मद गांडू के ...      2\n",
       "8791  'अच्छी खबर है ऐसे एक एक कर सभी जेहादी भारतीय फ...      2\n",
       "8792  '@Ruzena__Malik जनता चाइना से दीवाली की लड़ी ख...      0\n",
       "\n",
       "[8793 rows x 2 columns]>"
      ]
     },
     "execution_count": 3,
     "metadata": {},
     "output_type": "execute_result"
    }
   ],
   "source": [
    "orig_df.head"
   ]
  },
  {
   "cell_type": "code",
   "execution_count": 4,
   "metadata": {},
   "outputs": [
    {
     "data": {
      "text/plain": [
       "\"'आज के दिन ही मेरा क्रिकेट प्रेम भी समाप्त हो गया\""
      ]
     },
     "execution_count": 4,
     "metadata": {},
     "output_type": "execute_result"
    }
   ],
   "source": [
    "orig_df.Text[6]"
   ]
  },
  {
   "cell_type": "code",
   "execution_count": 5,
   "metadata": {},
   "outputs": [],
   "source": [
    "orig_df[\"Text\"] = orig_df[\"Text\"].astype(str)\n",
    "orig_df[\"Label\"] = orig_df[\"Label\"].astype(str)"
   ]
  },
  {
   "cell_type": "code",
   "execution_count": 6,
   "metadata": {},
   "outputs": [
    {
     "name": "stdout",
     "output_type": "stream",
     "text": [
      "Exist\n"
     ]
    }
   ],
   "source": [
    "# For non English data translated file\n",
    "\n",
    "if not path.exists(filename + '-translated.csv'):\n",
    "    p_data = pd.read_csv(\"Eng-Hin-data/hindi-anot-shuffled.csv\")\n",
    "    #data =  data.drop('Strength',1)\n",
    "    translator = Translator()\n",
    "    col_one_list = p_data['Text'].tolist()\n",
    "    len(col_one_list)\n",
    "    result = []\n",
    "    for i  in range(len(col_one_list)):\n",
    "        try:\n",
    "            trans = translator.translate(col_one_list[i], dest='en')\n",
    "            result.append(trans.text)\n",
    "        except:\n",
    "                result.append(col_one_list[i])\n",
    "    p_data['Text'] = result\n",
    "    p_data.to_csv(filename + '-translated.csv', index=False)\n",
    "    df = pd.read_csv(filename + '-translated.csv',  \n",
    "                   delimiter=',')\n",
    "    df.columns = ['Text', 'Label']\n",
    "    df.head(15)\n",
    "    df[\"Text\"] = df[\"Text\"].astype(str)\n",
    "    df[\"Label\"] = df[\"Label\"].astype(str)\n",
    "    data = df\n",
    "    print(\"Not Exist\")\n",
    "else:\n",
    "    print(\"Exist\")\n",
    "    df = pd.read_csv(filename + '-translated.csv',  \n",
    "                   delimiter=',')\n",
    "    df.columns = ['Text', 'Label']\n",
    "    df.head(15)\n",
    "    df[\"Text\"] = df[\"Text\"].astype(str)\n",
    "    df[\"Label\"] = df[\"Label\"].astype(str)\n",
    "    data = df"
   ]
  },
  {
   "cell_type": "markdown",
   "metadata": {},
   "source": [
    "### Class count"
   ]
  },
  {
   "cell_type": "code",
   "execution_count": 7,
   "metadata": {},
   "outputs": [
    {
     "data": {
      "image/png": "[encoded data removed]",
      "text/plain": [
       "<Figure size 432x288 with 1 Axes>"
      ]
     },
     "metadata": {
      "needs_background": "light"
     },
     "output_type": "display_data"
    }
   ],
   "source": [
    "import matplotlib.pyplot as plt\n",
    "fig = plt.figure(figsize=(6,4))\n",
    "df.groupby('Label').Text.count().plot.bar(ylim=0)\n",
    "plt.show()"
   ]
  },
  {
   "cell_type": "code",
   "execution_count": 8,
   "metadata": {},
   "outputs": [
    {
     "data": {
      "text/plain": [
       "2    3373\n",
       "0    3245\n",
       "1    2172\n",
       "Name: Label, dtype: int64"
      ]
     },
     "execution_count": 8,
     "metadata": {},
     "output_type": "execute_result"
    }
   ],
   "source": [
    "# For entire dataset sentences for each labels \n",
    "df.Label.value_counts()"
   ]
  },
  {
   "cell_type": "markdown",
   "metadata": {},
   "source": [
    "### Data Preprocessing"
   ]
  },
  {
   "cell_type": "code",
   "execution_count": 9,
   "metadata": {},
   "outputs": [],
   "source": [
    "# People usually join sentences using more than one colon \n",
    "\n",
    "def ReplaceDoubleColon(inputString):\n",
    "    return inputString.replace(\"..\", \" \") \n",
    "\n",
    "data['Text'] = data['Text'].apply(lambda x: ReplaceDoubleColon(x))\n",
    "\n",
    "def ReplaceTripleColon(inputString):\n",
    "    return inputString.replace(\"...\", \" \") \n",
    "\n",
    "data['Text'] = data['Text'].apply(lambda x: ReplaceTripleColon(x))\n",
    "\n",
    "def ReplaceFourColon(inputString):\n",
    "    return inputString.replace(\"....\", \" \") \n",
    "\n",
    "data['Text'] = data['Text'].apply(lambda x: ReplaceFourColon(x))"
   ]
  },
  {
   "cell_type": "code",
   "execution_count": 10,
   "metadata": {},
   "outputs": [],
   "source": [
    "def textPattern(text):\n",
    "\n",
    "    # Clean the text\n",
    "    text = re.sub(r\"[^A-Za-z0-9^,!.\\/'+-=]\", \" \", text)\n",
    "    text = re.sub(r\" \\n \", \" \", text)\n",
    "    text = re.sub(r\"what's\", \"what is\", text)\n",
    "    text = re.sub(r\"\\'s\", \" \", text)\n",
    "    text = re.sub(r\"\\'ve\", \"have\", text)\n",
    "    text = re.sub(r\"can't\", \"can not\", text)\n",
    "    text = re.sub(r\"aren't\", \"are not\", text)\n",
    "    text = re.sub(r\"couldn't\", \"could not\", text)\n",
    "    text = re.sub(r\"didn't\", \"did not\", text)\n",
    "    text = re.sub(r\"doesn't\", \"does not\", text)\n",
    "    text = re.sub(r\"don't\", \"do not\", text)\n",
    "    text = re.sub(r\"hadn't\", \"had not\", text)\n",
    "    text = re.sub(r\"hasn't\", \"has not\", text)\n",
    "    text = re.sub(r\"haven't\", \"have not\", text)\n",
    "    text = re.sub(r\"isn't\", \"is not\", text)\n",
    "    text = re.sub(r\"shouldn't\", \"should not\", text)\n",
    "    text = re.sub(r\"wasn't\", \"was not\", text)\n",
    "    text = re.sub(r\"weren't\", \"were not\", text)\n",
    "    text = re.sub(r\"won't\", \"will not\", text)\n",
    "    text = re.sub(r\"wouldn't\", \"would not\", text)\n",
    "    text = re.sub(r\"mustn't\", \"must not\", text)\n",
    "    text = re.sub(r\"i'm\", \"i am\", text)\n",
    "    text = re.sub(r\"\\'re\", \"are\", text)\n",
    "    text = re.sub(r\",\", \" \", text)\n",
    "    text = re.sub(r\"\\.\", \" \", text)\n",
    "    text = re.sub(r\"!\", \" \", text)\n",
    "    text = re.sub(r\"\\/\", \" \", text)\n",
    "    text = re.sub(r\"\\^\", \" ^ \", text)\n",
    "    text = re.sub(r\"\\+\", \" \", text)\n",
    "    text = re.sub(r\"\\-\", \" - \", text)\n",
    "    text = re.sub(r\"\\= =\", \" \", text)\n",
    "    text = re.sub(r\"\\==\", \" \", text)\n",
    "    text = re.sub(r\"'\", \" \", text)\n",
    "    text = re.sub(r\"(\\d+)(k)\", r\"\\g<1>000\", text)\n",
    "    text = re.sub(r\":\", \" : \", text)\n",
    "    text = re.sub(r\"\\0s\", \"0\", text)\n",
    "    text = re.sub(r\" 9 11 \", \"911\", text)\n",
    "    text = re.sub(r\"\\s{2,}\", \" \", text)\n",
    "    return text\n",
    "\n",
    "data['Text'] = data['Text'].apply(lambda x: textPattern(x))"
   ]
  },
  {
   "cell_type": "code",
   "execution_count": 11,
   "metadata": {},
   "outputs": [
    {
     "data": {
      "text/plain": [
       "(8790, 2)"
      ]
     },
     "execution_count": 11,
     "metadata": {},
     "output_type": "execute_result"
    }
   ],
   "source": [
    "data.shape"
   ]
  },
  {
   "cell_type": "code",
   "execution_count": 12,
   "metadata": {},
   "outputs": [],
   "source": [
    "# Word Tokenization\n",
    "tokens = [word_tokenize(sen) for sen in data.Text]"
   ]
  },
  {
   "cell_type": "code",
   "execution_count": 13,
   "metadata": {},
   "outputs": [],
   "source": [
    "# Lower Case\n",
    "def lower_token(tokens): \n",
    "    return [w.lower() for w in tokens]    \n",
    "    \n",
    "lower_tokens = [lower_token(token) for token in tokens]"
   ]
  },
  {
   "cell_type": "code",
   "execution_count": 14,
   "metadata": {},
   "outputs": [],
   "source": [
    "# Remove Link\n",
    "\n",
    "def removeLink(token):\n",
    "    word = []\n",
    "    for w in token:\n",
    "        if not w.startswith('http'):\n",
    "            word.append(w)\n",
    "    return word \n",
    "    \n",
    "removedLink_tokens = [removeLink(token) for token in lower_tokens]"
   ]
  },
  {
   "cell_type": "code",
   "execution_count": 15,
   "metadata": {},
   "outputs": [],
   "source": [
    "# Word Lemmatization\n",
    "def lemmatization(token):\n",
    "    return [lemmatizer.lemmatize(w) for w in token] \n",
    "\n",
    "lemmatizer = WordNetLemmatizer()\n",
    "\n",
    "lemmatized_tokens = [lemmatization(token) for token in removedLink_tokens]"
   ]
  },
  {
   "cell_type": "code",
   "execution_count": 16,
   "metadata": {},
   "outputs": [],
   "source": [
    "# Removing Stopwords\n",
    "stoplist = stopwords.words('english')"
   ]
  },
  {
   "cell_type": "code",
   "execution_count": 17,
   "metadata": {},
   "outputs": [],
   "source": [
    "def removeStopWords(tokens): \n",
    "    return [word for word in tokens if word not in stoplist]\n",
    "\n",
    "filtered_words = [removeStopWords(sen) for sen in lemmatized_tokens]\n",
    "data['Text_Final'] = [' '.join(sen) for sen in filtered_words]\n",
    "data['tokens'] = filtered_words"
   ]
  },
  {
   "cell_type": "code",
   "execution_count": 18,
   "metadata": {},
   "outputs": [],
   "source": [
    "zero  = []\n",
    "one = []\n",
    "two = []\n",
    "for l in data.Label:\n",
    "    \n",
    "    if l == '0':\n",
    "        zero.append(1)\n",
    "        one.append(0)\n",
    "        two.append(0)\n",
    "    elif l == '1':\n",
    "        zero.append(0)\n",
    "        one.append(1)\n",
    "        two.append(0)\n",
    "    elif l == '2':\n",
    "        zero.append(0)\n",
    "        one.append(0)\n",
    "        two.append(1)\n",
    "        \n",
    "data['0']= zero\n",
    "data['1']= one\n",
    "data['2']= two\n",
    "\n",
    "data = data[['Text_Final', 'tokens', 'Label', '0', '1', '2']]"
   ]
  },
  {
   "cell_type": "code",
   "execution_count": 19,
   "metadata": {},
   "outputs": [
    {
     "data": {
      "text/html": [
       "<div>\n",
       "<style scoped>\n",
       "    .dataframe tbody tr th:only-of-type {\n",
       "        vertical-align: middle;\n",
       "    }\n",
       "\n",
       "    .dataframe tbody tr th {\n",
       "        vertical-align: top;\n",
       "    }\n",
       "\n",
       "    .dataframe thead th {\n",
       "        text-align: right;\n",
       "    }\n",
       "</style>\n",
       "<table border=\"1\" class=\"dataframe\">\n",
       "  <thead>\n",
       "    <tr style=\"text-align: right;\">\n",
       "      <th></th>\n",
       "      <th>Text_Final</th>\n",
       "      <th>tokens</th>\n",
       "      <th>Label</th>\n",
       "      <th>0</th>\n",
       "      <th>1</th>\n",
       "      <th>2</th>\n",
       "      <th>Category_id</th>\n",
       "    </tr>\n",
       "  </thead>\n",
       "  <tbody>\n",
       "    <tr>\n",
       "      <th>0</th>\n",
       "      <td>happy diwali greeting gaza friend israelibombing</td>\n",
       "      <td>[happy, diwali, greeting, gaza, friend, israel...</td>\n",
       "      <td>2</td>\n",
       "      <td>0</td>\n",
       "      <td>0</td>\n",
       "      <td>1</td>\n",
       "      <td>2</td>\n",
       "    </tr>\n",
       "    <tr>\n",
       "      <th>1</th>\n",
       "      <td>sanjaygadhiainc indiatoday18 azabe elahi</td>\n",
       "      <td>[sanjaygadhiainc, indiatoday18, azabe, elahi]</td>\n",
       "      <td>1</td>\n",
       "      <td>0</td>\n",
       "      <td>1</td>\n",
       "      <td>0</td>\n",
       "      <td>1</td>\n",
       "    </tr>\n",
       "    <tr>\n",
       "      <th>2</th>\n",
       "      <td>sushant singh rajput ji get justice riya chakr...</td>\n",
       "      <td>[sushant, singh, rajput, ji, get, justice, riy...</td>\n",
       "      <td>0</td>\n",
       "      <td>1</td>\n",
       "      <td>0</td>\n",
       "      <td>0</td>\n",
       "      <td>0</td>\n",
       "    </tr>\n",
       "    <tr>\n",
       "      <th>3</th>\n",
       "      <td>500 student amin performed half - naked gate s...</td>\n",
       "      <td>[500, student, amin, performed, half, -, naked...</td>\n",
       "      <td>0</td>\n",
       "      <td>1</td>\n",
       "      <td>0</td>\n",
       "      <td>0</td>\n",
       "      <td>0</td>\n",
       "    </tr>\n",
       "    <tr>\n",
       "      <th>4</th>\n",
       "      <td>deoriapolice uppolice myogiadityanath spgrpall...</td>\n",
       "      <td>[deoriapolice, uppolice, myogiadityanath, spgr...</td>\n",
       "      <td>0</td>\n",
       "      <td>1</td>\n",
       "      <td>0</td>\n",
       "      <td>0</td>\n",
       "      <td>0</td>\n",
       "    </tr>\n",
       "    <tr>\n",
       "      <th>5</th>\n",
       "      <td>khanumarfa jihadi thinking rahat indouri wrap ...</td>\n",
       "      <td>[khanumarfa, jihadi, thinking, rahat, indouri,...</td>\n",
       "      <td>2</td>\n",
       "      <td>0</td>\n",
       "      <td>0</td>\n",
       "      <td>1</td>\n",
       "      <td>2</td>\n",
       "    </tr>\n",
       "    <tr>\n",
       "      <th>6</th>\n",
       "      <td>today also cricket love ha ended</td>\n",
       "      <td>[today, also, cricket, love, ha, ended]</td>\n",
       "      <td>0</td>\n",
       "      <td>1</td>\n",
       "      <td>0</td>\n",
       "      <td>0</td>\n",
       "      <td>0</td>\n",
       "    </tr>\n",
       "    <tr>\n",
       "      <th>7</th>\n",
       "      <td>jihadi thought work poet celebrate sorrow wa a...</td>\n",
       "      <td>[jihadi, thought, work, poet, celebrate, sorro...</td>\n",
       "      <td>2</td>\n",
       "      <td>0</td>\n",
       "      <td>0</td>\n",
       "      <td>1</td>\n",
       "      <td>2</td>\n",
       "    </tr>\n",
       "    <tr>\n",
       "      <th>8</th>\n",
       "      <td>sanatan44005733 azadsamajparty0 manikar3002388...</td>\n",
       "      <td>[sanatan44005733, azadsamajparty0, manikar3002...</td>\n",
       "      <td>2</td>\n",
       "      <td>0</td>\n",
       "      <td>0</td>\n",
       "      <td>1</td>\n",
       "      <td>2</td>\n",
       "    </tr>\n",
       "  </tbody>\n",
       "</table>\n",
       "</div>"
      ],
      "text/plain": [
       "                                          Text_Final  \\\n",
       "0   happy diwali greeting gaza friend israelibombing   \n",
       "1           sanjaygadhiainc indiatoday18 azabe elahi   \n",
       "2  sushant singh rajput ji get justice riya chakr...   \n",
       "3  500 student amin performed half - naked gate s...   \n",
       "4  deoriapolice uppolice myogiadityanath spgrpall...   \n",
       "5  khanumarfa jihadi thinking rahat indouri wrap ...   \n",
       "6                   today also cricket love ha ended   \n",
       "7  jihadi thought work poet celebrate sorrow wa a...   \n",
       "8  sanatan44005733 azadsamajparty0 manikar3002388...   \n",
       "\n",
       "                                              tokens Label  0  1  2  \\\n",
       "0  [happy, diwali, greeting, gaza, friend, israel...     2  0  0  1   \n",
       "1      [sanjaygadhiainc, indiatoday18, azabe, elahi]     1  0  1  0   \n",
       "2  [sushant, singh, rajput, ji, get, justice, riy...     0  1  0  0   \n",
       "3  [500, student, amin, performed, half, -, naked...     0  1  0  0   \n",
       "4  [deoriapolice, uppolice, myogiadityanath, spgr...     0  1  0  0   \n",
       "5  [khanumarfa, jihadi, thinking, rahat, indouri,...     2  0  0  1   \n",
       "6            [today, also, cricket, love, ha, ended]     0  1  0  0   \n",
       "7  [jihadi, thought, work, poet, celebrate, sorro...     2  0  0  1   \n",
       "8  [sanatan44005733, azadsamajparty0, manikar3002...     2  0  0  1   \n",
       "\n",
       "  Category_id  \n",
       "0           2  \n",
       "1           1  \n",
       "2           0  \n",
       "3           0  \n",
       "4           0  \n",
       "5           2  \n",
       "6           0  \n",
       "7           2  \n",
       "8           2  "
      ]
     },
     "execution_count": 19,
     "metadata": {},
     "output_type": "execute_result"
    }
   ],
   "source": [
    "category_id = []\n",
    "for l in data.Label:\n",
    "    \n",
    "    if l == '0':\n",
    "        category_id.append('0')\n",
    "    elif l == '1':\n",
    "        category_id.append('1')\n",
    "    elif l == '2':\n",
    "        category_id.append('2')\n",
    "        \n",
    "data['Category_id'] = category_id\n",
    "\n",
    "data = data[['Text_Final', 'tokens', 'Label', '0', '1', '2', 'Category_id' ]]\n",
    "data.head(9)"
   ]
  },
  {
   "cell_type": "code",
   "execution_count": 20,
   "metadata": {},
   "outputs": [],
   "source": [
    "from io import StringIO\n",
    "category_id_df = data[['Label', 'Category_id']].drop_duplicates().sort_values('Category_id')\n",
    "category_to_label_dict = dict(category_id_df.values)\n",
    "label_to_category_dict = dict(category_id_df[['Category_id', 'Label']].values)"
   ]
  },
  {
   "cell_type": "markdown",
   "metadata": {},
   "source": [
    "#### Split Data into test and train\n",
    "We will use 90 % data for training and 20 % for testing. We use random state so every time we get the same training and testing data."
   ]
  },
  {
   "cell_type": "code",
   "execution_count": 21,
   "metadata": {},
   "outputs": [
    {
     "data": {
      "text/plain": [
       "(8790, 7)"
      ]
     },
     "execution_count": 21,
     "metadata": {},
     "output_type": "execute_result"
    }
   ],
   "source": [
    "data.shape"
   ]
  },
  {
   "cell_type": "code",
   "execution_count": 22,
   "metadata": {},
   "outputs": [],
   "source": [
    "data_train, data_test = train_test_split(data, test_size=0.10, random_state=42)\n"
   ]
  },
  {
   "cell_type": "code",
   "execution_count": 23,
   "metadata": {},
   "outputs": [],
   "source": [
    "# # total training words\n",
    "totalTrainingWords = [word for tokens in data_train[\"tokens\"] for word in tokens]\n",
    "\n",
    "# # Storing Length of the training sentence\n",
    "lengthTrainingSentences = [len(tokens) for tokens in data_train[\"tokens\"]]\n",
    "\n",
    "# # training Vocabulary size\n",
    "trainingVocabSize = sorted(list(set(totalTrainingWords)))\n",
    "\n",
    "## Total number of lines\n",
    "linesCount = len(data_train[\"tokens\"])"
   ]
  },
  {
   "cell_type": "markdown",
   "metadata": {},
   "source": [
    "### Load Google News Word2Vec model"
   ]
  },
  {
   "cell_type": "code",
   "execution_count": 24,
   "metadata": {},
   "outputs": [],
   "source": [
    "# word2vec_path = 'GoogleNews-vectors-negative300.bin'\n",
    "# #word2vec_path = 'glove.6B.50d.word2vec'"
   ]
  },
  {
   "cell_type": "code",
   "execution_count": 25,
   "metadata": {},
   "outputs": [],
   "source": [
    "# from gensim import models\n",
    "# word2vec = models.KeyedVectors.load_word2vec_format(word2vec_path, binary=True)\n"
   ]
  },
  {
   "cell_type": "code",
   "execution_count": 26,
   "metadata": {},
   "outputs": [
    {
     "data": {
      "text/plain": [
       "(400000, 300)"
      ]
     },
     "execution_count": 26,
     "metadata": {},
     "output_type": "execute_result"
    }
   ],
   "source": [
    "# Convert Glove file to word2vec format (examples: uses 50 dimensions since it's faster)\n",
    "from gensim.scripts.glove2word2vec import glove2word2vec\n",
    "glove_input_file = 'glove.6B.300d.txt'  # I unzipped in glove.6B subdirectory \n",
    "word2vec_output_file = 'glove.6B.300d.word2vec'\n",
    "glove2word2vec(glove_input_file, word2vec_output_file)"
   ]
  },
  {
   "cell_type": "code",
   "execution_count": 27,
   "metadata": {},
   "outputs": [],
   "source": [
    "# Use the converted Glove file\n",
    "\n",
    "\n",
    "filename = 'glove.6B.300d.word2vec'\n",
    "word2vec = KeyedVectors.load_word2vec_format(filename, binary=False)\n"
   ]
  },
  {
   "cell_type": "code",
   "execution_count": 28,
   "metadata": {},
   "outputs": [
    {
     "data": {
      "text/plain": [
       "<gensim.models.keyedvectors.Word2VecKeyedVectors at 0x7f7743434be0>"
      ]
     },
     "execution_count": 28,
     "metadata": {},
     "output_type": "execute_result"
    }
   ],
   "source": [
    "word2vec"
   ]
  },
  {
   "cell_type": "code",
   "execution_count": 29,
   "metadata": {},
   "outputs": [],
   "source": [
    "MAX_SEQUENCE_LENGTH = 150\n",
    "EMBEDDING_DIM = 300"
   ]
  },
  {
   "cell_type": "markdown",
   "metadata": {},
   "source": [
    "\n",
    "### Tokenize and Pad sequences"
   ]
  },
  {
   "cell_type": "code",
   "execution_count": 30,
   "metadata": {},
   "outputs": [
    {
     "name": "stdout",
     "output_type": "stream",
     "text": [
      "Found 13618 unique tokens.\n"
     ]
    }
   ],
   "source": [
    "tokenizer = Tokenizer(num_words=len(trainingVocabSize), lower=True, char_level=False)\n",
    "tokenizer.fit_on_texts(data_train[\"Text_Final\"].tolist())\n",
    "training_sequences = tokenizer.texts_to_sequences(data_train[\"Text_Final\"].tolist())\n",
    "\n",
    "train_word_index = tokenizer.word_index\n",
    "print('Found %s unique tokens.' % len(train_word_index))"
   ]
  },
  {
   "cell_type": "code",
   "execution_count": 31,
   "metadata": {},
   "outputs": [],
   "source": [
    "cnnTrainData = pad_sequences(training_sequences, maxlen=MAX_SEQUENCE_LENGTH)"
   ]
  },
  {
   "cell_type": "code",
   "execution_count": 32,
   "metadata": {},
   "outputs": [
    {
     "name": "stdout",
     "output_type": "stream",
     "text": [
      "(13619, 300)\n"
     ]
    }
   ],
   "source": [
    "train_embedding_weights = np.zeros((len(train_word_index)+1, EMBEDDING_DIM))\n",
    "for word,index in train_word_index.items():\n",
    "    train_embedding_weights[index,:] = word2vec[word] if word in word2vec else np.random.rand(EMBEDDING_DIM)\n",
    "print(train_embedding_weights.shape)"
   ]
  },
  {
   "cell_type": "code",
   "execution_count": 33,
   "metadata": {},
   "outputs": [],
   "source": [
    "test_sequences = tokenizer.texts_to_sequences(data_test[\"Text_Final\"].tolist())\n",
    "cnnTestData = pad_sequences(test_sequences, maxlen= MAX_SEQUENCE_LENGTH)"
   ]
  },
  {
   "cell_type": "markdown",
   "metadata": {},
   "source": [
    "### Define CNN"
   ]
  },
  {
   "cell_type": "markdown",
   "metadata": {},
   "source": [
    "The model is from the paper 'Convolutional Neural Networks for Sentence Classification' we have updated the network according to our requirement [1]"
   ]
  },
  {
   "cell_type": "code",
   "execution_count": 34,
   "metadata": {},
   "outputs": [],
   "source": [
    "label_names = ['0', '1', '2']"
   ]
  },
  {
   "cell_type": "code",
   "execution_count": 35,
   "metadata": {},
   "outputs": [],
   "source": [
    "def ConvolutionalNeuralNet(embeddings, max_sequence_length, num_words, embedding_dim, labels_index):\n",
    "    \n",
    "    # Embedding layer\n",
    "    embedding_layer = Embedding(num_words,\n",
    "                            embedding_dim,\n",
    "                            weights=[embeddings],\n",
    "                            input_length=max_sequence_length,\n",
    "                            trainable=False)\n",
    "    \n",
    "    sequence_input = Input(shape=(max_sequence_length,), dtype='int32')\n",
    "    embedded_sequences = embedding_layer(sequence_input)\n",
    "\n",
    "    convs = []\n",
    "    \n",
    "    #Kernal (window) size\n",
    "    filter_sizes = [2,3,4,5]\n",
    "\n",
    "    # Convolution Layer and max-pooling\n",
    "    for filter_size in filter_sizes:\n",
    "        l_conv = Conv1D(filters=512, kernel_size=filter_size, activation='relu')(embedded_sequences)\n",
    "        l_pool = GlobalMaxPooling1D()(l_conv)\n",
    "        convs.append(l_pool)\n",
    "        \n",
    "    l_merge = concatenate(convs, axis=1)\n",
    "    \n",
    "    # softmax layer for multiclass identification \n",
    "    x = Dropout(0.1)(l_merge)  \n",
    "    x = Dense(512, activation='relu')(x)\n",
    "    x = Dropout(0.2)(x)\n",
    "    preds = Dense(labels_index, activation='softmax')(x)\n",
    "\n",
    "    model = Model(sequence_input, preds)\n",
    "    model.compile(loss= 'categorical_crossentropy',\n",
    "                 optimizer = keras.optimizers.RMSprop(learning_rate=1e-3),\n",
    "#                    optimizer='adam',\n",
    "                  metrics=['accuracy'])\n",
    "    return model"
   ]
  },
  {
   "cell_type": "code",
   "execution_count": 36,
   "metadata": {},
   "outputs": [],
   "source": [
    "# Splitting train data into X_train and y_train\n",
    "y_train = data_train[label_names].values\n",
    "x_train = cnnTrainData\n",
    "y_tr = y_train"
   ]
  },
  {
   "cell_type": "code",
   "execution_count": 37,
   "metadata": {},
   "outputs": [],
   "source": [
    "# Splitting train data into X_test and y_test\n",
    "y_test = data_test[label_names].values\n",
    "x_test = cnnTestData\n",
    "y_tst = y_test"
   ]
  },
  {
   "cell_type": "code",
   "execution_count": 38,
   "metadata": {},
   "outputs": [],
   "source": [
    "model = ConvolutionalNeuralNet(train_embedding_weights, MAX_SEQUENCE_LENGTH, len(train_word_index)+1, EMBEDDING_DIM, len(list(label_names)))"
   ]
  },
  {
   "cell_type": "code",
   "execution_count": 39,
   "metadata": {},
   "outputs": [
    {
     "name": "stdout",
     "output_type": "stream",
     "text": [
      "Model: \"model\"\n",
      "__________________________________________________________________________________________________\n",
      "Layer (type)                    Output Shape         Param #     Connected to                     \n",
      "==================================================================================================\n",
      "input_1 (InputLayer)            [(None, 150)]        0                                            \n",
      "__________________________________________________________________________________________________\n",
      "embedding (Embedding)           (None, 150, 300)     4085700     input_1[0][0]                    \n",
      "__________________________________________________________________________________________________\n",
      "conv1d (Conv1D)                 (None, 149, 512)     307712      embedding[0][0]                  \n",
      "__________________________________________________________________________________________________\n",
      "conv1d_1 (Conv1D)               (None, 148, 512)     461312      embedding[0][0]                  \n",
      "__________________________________________________________________________________________________\n",
      "conv1d_2 (Conv1D)               (None, 147, 512)     614912      embedding[0][0]                  \n",
      "__________________________________________________________________________________________________\n",
      "conv1d_3 (Conv1D)               (None, 146, 512)     768512      embedding[0][0]                  \n",
      "__________________________________________________________________________________________________\n",
      "global_max_pooling1d (GlobalMax (None, 512)          0           conv1d[0][0]                     \n",
      "__________________________________________________________________________________________________\n",
      "global_max_pooling1d_1 (GlobalM (None, 512)          0           conv1d_1[0][0]                   \n",
      "__________________________________________________________________________________________________\n",
      "global_max_pooling1d_2 (GlobalM (None, 512)          0           conv1d_2[0][0]                   \n",
      "__________________________________________________________________________________________________\n",
      "global_max_pooling1d_3 (GlobalM (None, 512)          0           conv1d_3[0][0]                   \n",
      "__________________________________________________________________________________________________\n",
      "concatenate (Concatenate)       (None, 2048)         0           global_max_pooling1d[0][0]       \n",
      "                                                                 global_max_pooling1d_1[0][0]     \n",
      "                                                                 global_max_pooling1d_2[0][0]     \n",
      "                                                                 global_max_pooling1d_3[0][0]     \n",
      "__________________________________________________________________________________________________\n",
      "dropout (Dropout)               (None, 2048)         0           concatenate[0][0]                \n",
      "__________________________________________________________________________________________________\n",
      "dense (Dense)                   (None, 512)          1049088     dropout[0][0]                    \n",
      "__________________________________________________________________________________________________\n",
      "dropout_1 (Dropout)             (None, 512)          0           dense[0][0]                      \n",
      "__________________________________________________________________________________________________\n",
      "dense_1 (Dense)                 (None, 3)            1539        dropout_1[0][0]                  \n",
      "==================================================================================================\n",
      "Total params: 7,288,775\n",
      "Trainable params: 3,203,075\n",
      "Non-trainable params: 4,085,700\n",
      "__________________________________________________________________________________________________\n"
     ]
    }
   ],
   "source": [
    "model.summary()"
   ]
  },
  {
   "cell_type": "markdown",
   "metadata": {},
   "source": [
    "### Train CNN"
   ]
  },
  {
   "cell_type": "code",
   "execution_count": 40,
   "metadata": {},
   "outputs": [],
   "source": [
    "num_epochs = 10\n",
    "batch_size = 512"
   ]
  },
  {
   "cell_type": "code",
   "execution_count": 41,
   "metadata": {},
   "outputs": [
    {
     "name": "stdout",
     "output_type": "stream",
     "text": [
      "Epoch 1/10\n",
      "14/14 [==============================] - 35s 3s/step - loss: 3.7677 - accuracy: 0.6396 - val_loss: 0.2844 - val_accuracy: 0.8990\n",
      "Epoch 2/10\n",
      "14/14 [==============================] - 35s 2s/step - loss: 0.3022 - accuracy: 0.8914 - val_loss: 0.3934 - val_accuracy: 0.8598\n",
      "Epoch 3/10\n",
      "14/14 [==============================] - 35s 3s/step - loss: 0.2270 - accuracy: 0.9188 - val_loss: 0.2506 - val_accuracy: 0.9040\n",
      "Epoch 4/10\n",
      "14/14 [==============================] - 35s 2s/step - loss: 0.1980 - accuracy: 0.9296 - val_loss: 0.2091 - val_accuracy: 0.9280\n",
      "Epoch 5/10\n",
      "14/14 [==============================] - 35s 2s/step - loss: 0.2034 - accuracy: 0.9299 - val_loss: 0.1742 - val_accuracy: 0.9394\n",
      "Epoch 6/10\n",
      "14/14 [==============================] - 34s 2s/step - loss: 0.0727 - accuracy: 0.9782 - val_loss: 0.3111 - val_accuracy: 0.9078\n",
      "Epoch 7/10\n",
      "14/14 [==============================] - 35s 3s/step - loss: 0.1785 - accuracy: 0.9468 - val_loss: 0.2104 - val_accuracy: 0.9356\n",
      "Epoch 8/10\n",
      "14/14 [==============================] - 34s 2s/step - loss: 0.0712 - accuracy: 0.9799 - val_loss: 1.0753 - val_accuracy: 0.8119\n",
      "Epoch 9/10\n",
      "14/14 [==============================] - 36s 3s/step - loss: 0.1147 - accuracy: 0.9713 - val_loss: 0.2241 - val_accuracy: 0.9419\n",
      "Epoch 10/10\n",
      "14/14 [==============================] - 35s 2s/step - loss: 0.0995 - accuracy: 0.9739 - val_loss: 0.3165 - val_accuracy: 0.9230\n"
     ]
    }
   ],
   "source": [
    "history = model.fit(x_train, y_tr, epochs=num_epochs, validation_split=0.1, shuffle=True, batch_size=batch_size)"
   ]
  },
  {
   "cell_type": "code",
   "execution_count": 42,
   "metadata": {},
   "outputs": [
    {
     "name": "stdout",
     "output_type": "stream",
     "text": [
      "28/28 [==============================] - 2s 62ms/step - loss: 0.3147 - accuracy: 0.9113\n"
     ]
    }
   ],
   "source": [
    "# evaluate on test data\n",
    "results = model.evaluate(x_test, y_tst)"
   ]
  },
  {
   "cell_type": "code",
   "execution_count": 43,
   "metadata": {},
   "outputs": [
    {
     "name": "stdout",
     "output_type": "stream",
     "text": [
      "1/1 [==============================] - 0s 2ms/step\n"
     ]
    }
   ],
   "source": [
    "# predict model\n",
    "predictions = model.predict(cnnTestData, batch_size=1024, verbose=1)"
   ]
  },
  {
   "cell_type": "markdown",
   "metadata": {},
   "source": [
    "### Testing few sentences using our model"
   ]
  },
  {
   "cell_type": "code",
   "execution_count": 44,
   "metadata": {},
   "outputs": [],
   "source": [
    "\n",
    "labels = ['0', '1', '2']\n",
    "\n",
    "def makeprediction(texts):\n",
    "    tk = Tokenizer()\n",
    "    tk.fit_on_texts(texts)\n",
    "    index_list = tk.texts_to_sequences(texts)\n",
    "    x_train = pad_sequences(index_list, maxlen=150)\n",
    "    pred = model.predict(x_train)\n",
    "    result = labels[np.argmax(pred)]\n",
    "    return result"
   ]
  },
  {
   "cell_type": "code",
   "execution_count": 45,
   "metadata": {},
   "outputs": [],
   "source": [
    "prediction_labels=[]\n",
    "for p in predictions:\n",
    "    prediction_labels.append(labels[np.argmax(p)])"
   ]
  },
  {
   "cell_type": "code",
   "execution_count": 46,
   "metadata": {},
   "outputs": [
    {
     "data": {
      "text/plain": [
       "0.9112627986348123"
      ]
     },
     "execution_count": 46,
     "metadata": {},
     "output_type": "execute_result"
    }
   ],
   "source": [
    "sum(data_test.Label==prediction_labels)/len(prediction_labels)"
   ]
  },
  {
   "cell_type": "code",
   "execution_count": 47,
   "metadata": {},
   "outputs": [
    {
     "data": {
      "text/plain": [
       "2    342\n",
       "0    317\n",
       "1    220\n",
       "Name: Label, dtype: int64"
      ]
     },
     "execution_count": 47,
     "metadata": {},
     "output_type": "execute_result"
    }
   ],
   "source": [
    "data_test.Label.value_counts()"
   ]
  },
  {
   "cell_type": "code",
   "execution_count": 48,
   "metadata": {},
   "outputs": [
    {
     "data": {
      "image/png": "[encoded data removed]",
      "text/plain": [
       "<Figure size 432x288 with 2 Axes>"
      ]
     },
     "metadata": {
      "needs_background": "light"
     },
     "output_type": "display_data"
    }
   ],
   "source": [
    "plt.figure(1)\n",
    "# summarize history for accuracy\n",
    "plt.subplot(211)\n",
    "plt.plot(history.history['accuracy'])\n",
    "plt.plot(history.history['val_accuracy'])\n",
    "plt.title('model accuracy')\n",
    "plt.ylabel('accuracy')\n",
    "plt.xlabel('epoch')\n",
    "plt.legend(['train', 'val'], loc='upper left')\n",
    "# summarize history for loss\n",
    "plt.subplot(212)\n",
    "plt.plot(history.history['loss'])\n",
    "plt.plot(history.history['val_loss'])\n",
    "plt.title('model loss')\n",
    "plt.ylabel('loss')\n",
    "plt.xlabel('epoch')\n",
    "plt.legend(['train', 'val'], loc='upper left')\n",
    "plt.tight_layout()\n",
    "plt.show()"
   ]
  },
  {
   "cell_type": "code",
   "execution_count": 49,
   "metadata": {},
   "outputs": [
    {
     "name": "stdout",
     "output_type": "stream",
     "text": [
      "Confusion Matrix :\n",
      "[[290  11  16]\n",
      " [ 16 184  20]\n",
      " [ 10   5 327]]\n",
      "Accuracy Score : 0.9112627986348123\n",
      "Report : \n",
      "              precision    recall  f1-score   support\n",
      "\n",
      "           0       0.92      0.91      0.92       317\n",
      "           1       0.92      0.84      0.88       220\n",
      "           2       0.90      0.96      0.93       342\n",
      "\n",
      "    accuracy                           0.91       879\n",
      "   macro avg       0.91      0.90      0.91       879\n",
      "weighted avg       0.91      0.91      0.91       879\n",
      "\n"
     ]
    }
   ],
   "source": [
    "results = confusion_matrix(data_test.Label, prediction_labels)\n",
    "print ('Confusion Matrix :')\n",
    "print(results) \n",
    "print ('Accuracy Score :',accuracy_score(data_test.Label, prediction_labels))\n",
    "print ('Report : ')\n",
    "print (classification_report(data_test.Label, prediction_labels))"
   ]
  },
  {
   "cell_type": "code",
   "execution_count": 50,
   "metadata": {},
   "outputs": [
    {
     "name": "stdout",
     "output_type": "stream",
     "text": [
      "                        Convolution Neural Network\n"
     ]
    },
    {
     "data": {
      "image/png": "[encoded data removed]",
      "text/plain": [
       "<Figure size 360x360 with 2 Axes>"
      ]
     },
     "metadata": {
      "needs_background": "light"
     },
     "output_type": "display_data"
    }
   ],
   "source": [
    "from sklearn.metrics import confusion_matrix\n",
    "print(\"                        Convolution Neural Network\")\n",
    "conf_mat = confusion_matrix(data_test.Label, prediction_labels)\n",
    "fig, ax = plt.subplots(figsize=(5,5))\n",
    "sns.heatmap(conf_mat, annot=True, fmt='d', cmap ='YlGnBu',\n",
    "            xticklabels=category_id_df.Label.values, yticklabels=category_id_df.Label.values)\n",
    "plt.ylabel('Actual')\n",
    "plt.xlabel('Predicted')\n",
    "plt.show()"
   ]
  },
  {
   "cell_type": "markdown",
   "metadata": {},
   "source": [
    "### Testing CNN using KFold cross validation"
   ]
  },
  {
   "cell_type": "code",
   "execution_count": 51,
   "metadata": {},
   "outputs": [
    {
     "name": "stdout",
     "output_type": "stream",
     "text": [
      "Fold:  1\n",
      "Epoch 1/5\n",
      "223/223 [==============================] - 44s 198ms/step - loss: 0.4765 - accuracy: 0.8637 - val_loss: 0.3972 - val_accuracy: 0.8586\n",
      "Epoch 2/5\n",
      "223/223 [==============================] - 44s 197ms/step - loss: 0.1848 - accuracy: 0.9421 - val_loss: 0.6240 - val_accuracy: 0.8333\n",
      "Epoch 3/5\n",
      "223/223 [==============================] - 44s 195ms/step - loss: 0.1294 - accuracy: 0.9646 - val_loss: 0.3421 - val_accuracy: 0.9217\n",
      "Epoch 4/5\n",
      "223/223 [==============================] - 44s 196ms/step - loss: 0.1139 - accuracy: 0.9740 - val_loss: 0.4997 - val_accuracy: 0.9230\n",
      "Epoch 5/5\n",
      "223/223 [==============================] - 43s 195ms/step - loss: 0.0950 - accuracy: 0.9812 - val_loss: 0.4499 - val_accuracy: 0.9192\n",
      "Results for current fold:\n",
      "7/7 [==============================] - 1s 186ms/step - loss: 0.5727 - accuracy: 0.9295\n",
      "Fold:  2\n",
      "Epoch 1/5\n",
      "223/223 [==============================] - 44s 196ms/step - loss: 0.4986 - accuracy: 0.8661 - val_loss: 0.2540 - val_accuracy: 0.9179\n",
      "Epoch 2/5\n",
      "223/223 [==============================] - 43s 195ms/step - loss: 0.2007 - accuracy: 0.9381 - val_loss: 0.4806 - val_accuracy: 0.8889\n",
      "Epoch 3/5\n",
      "223/223 [==============================] - 44s 196ms/step - loss: 0.1238 - accuracy: 0.9649 - val_loss: 0.3871 - val_accuracy: 0.9141\n",
      "Epoch 4/5\n",
      "223/223 [==============================] - 43s 194ms/step - loss: 0.1107 - accuracy: 0.9730 - val_loss: 1.1308 - val_accuracy: 0.8864\n",
      "Epoch 5/5\n",
      "223/223 [==============================] - 43s 194ms/step - loss: 0.0847 - accuracy: 0.9823 - val_loss: 0.8328 - val_accuracy: 0.9141\n",
      "Results for current fold:\n",
      "7/7 [==============================] - 1s 190ms/step - loss: 0.4469 - accuracy: 0.9397\n",
      "Fold:  3\n",
      "Epoch 1/5\n",
      "223/223 [==============================] - 43s 195ms/step - loss: 0.5062 - accuracy: 0.8607 - val_loss: 0.2248 - val_accuracy: 0.9205\n",
      "Epoch 2/5\n",
      "223/223 [==============================] - 43s 194ms/step - loss: 0.1889 - accuracy: 0.9385 - val_loss: 0.2365 - val_accuracy: 0.9331\n",
      "Epoch 3/5\n",
      "223/223 [==============================] - 43s 194ms/step - loss: 0.1184 - accuracy: 0.9664 - val_loss: 0.2836 - val_accuracy: 0.9369\n",
      "Epoch 4/5\n",
      "223/223 [==============================] - 43s 193ms/step - loss: 0.1066 - accuracy: 0.9736 - val_loss: 0.3593 - val_accuracy: 0.9268\n",
      "Epoch 5/5\n",
      "223/223 [==============================] - 44s 198ms/step - loss: 0.0926 - accuracy: 0.9806 - val_loss: 0.3646 - val_accuracy: 0.9293\n",
      "Results for current fold:\n",
      "7/7 [==============================] - 1s 186ms/step - loss: 0.4797 - accuracy: 0.9317\n",
      "Fold:  4\n",
      "Epoch 1/5\n",
      "223/223 [==============================] - 43s 194ms/step - loss: 0.4829 - accuracy: 0.8656 - val_loss: 0.2754 - val_accuracy: 0.8977\n",
      "Epoch 2/5\n",
      "223/223 [==============================] - 43s 193ms/step - loss: 0.1924 - accuracy: 0.9375 - val_loss: 0.9392 - val_accuracy: 0.8270\n",
      "Epoch 3/5\n",
      "223/223 [==============================] - 43s 194ms/step - loss: 0.1381 - accuracy: 0.9612 - val_loss: 0.5281 - val_accuracy: 0.8965\n",
      "Epoch 4/5\n",
      "223/223 [==============================] - 43s 194ms/step - loss: 0.0952 - accuracy: 0.9747 - val_loss: 0.3992 - val_accuracy: 0.9280\n",
      "Epoch 5/5\n",
      "223/223 [==============================] - 43s 193ms/step - loss: 0.0873 - accuracy: 0.9806 - val_loss: 0.6055 - val_accuracy: 0.9217\n",
      "Results for current fold:\n",
      "7/7 [==============================] - 1s 188ms/step - loss: 0.5559 - accuracy: 0.9397\n",
      "Fold:  5\n",
      "Epoch 1/5\n",
      "223/223 [==============================] - 43s 193ms/step - loss: 0.5400 - accuracy: 0.8643 - val_loss: 0.2326 - val_accuracy: 0.9154\n",
      "Epoch 2/5\n",
      "223/223 [==============================] - 43s 193ms/step - loss: 0.1848 - accuracy: 0.9420 - val_loss: 0.2819 - val_accuracy: 0.9078\n",
      "Epoch 3/5\n",
      "223/223 [==============================] - 43s 193ms/step - loss: 0.1294 - accuracy: 0.9633 - val_loss: 0.2966 - val_accuracy: 0.9369\n",
      "Epoch 4/5\n",
      "223/223 [==============================] - 43s 193ms/step - loss: 0.0844 - accuracy: 0.9760 - val_loss: 0.5276 - val_accuracy: 0.9293\n",
      "Epoch 5/5\n",
      "223/223 [==============================] - 43s 193ms/step - loss: 0.0909 - accuracy: 0.9826 - val_loss: 0.4151 - val_accuracy: 0.9394\n",
      "Results for current fold:\n",
      "7/7 [==============================] - 1s 186ms/step - loss: 0.6326 - accuracy: 0.9215\n",
      "Fold:  6\n",
      "Epoch 1/5\n",
      "223/223 [==============================] - 43s 193ms/step - loss: 0.5000 - accuracy: 0.8661 - val_loss: 0.1940 - val_accuracy: 0.9470\n",
      "Epoch 2/5\n",
      "223/223 [==============================] - 43s 193ms/step - loss: 0.2039 - accuracy: 0.9362 - val_loss: 0.1868 - val_accuracy: 0.9457\n",
      "Epoch 3/5\n",
      "223/223 [==============================] - 43s 192ms/step - loss: 0.1313 - accuracy: 0.9645 - val_loss: 0.3614 - val_accuracy: 0.9306\n",
      "Epoch 4/5\n",
      "223/223 [==============================] - 43s 192ms/step - loss: 0.1061 - accuracy: 0.9743 - val_loss: 0.3532 - val_accuracy: 0.9482\n",
      "Epoch 5/5\n",
      "223/223 [==============================] - 43s 192ms/step - loss: 0.0871 - accuracy: 0.9788 - val_loss: 0.3848 - val_accuracy: 0.9444\n",
      "Results for current fold:\n",
      "7/7 [==============================] - 1s 185ms/step - loss: 0.4633 - accuracy: 0.9386\n",
      "Fold:  7\n",
      "Epoch 1/5\n",
      "223/223 [==============================] - 43s 195ms/step - loss: 0.5595 - accuracy: 0.8625 - val_loss: 0.2335 - val_accuracy: 0.9217\n",
      "Epoch 2/5\n",
      "223/223 [==============================] - 43s 193ms/step - loss: 0.1979 - accuracy: 0.9435 - val_loss: 0.3098 - val_accuracy: 0.9129\n",
      "Epoch 3/5\n",
      "223/223 [==============================] - 43s 193ms/step - loss: 0.1257 - accuracy: 0.9642 - val_loss: 0.3173 - val_accuracy: 0.9242\n",
      "Epoch 4/5\n",
      "223/223 [==============================] - 43s 194ms/step - loss: 0.0926 - accuracy: 0.9775 - val_loss: 0.4552 - val_accuracy: 0.9318\n",
      "Epoch 5/5\n",
      "223/223 [==============================] - 43s 194ms/step - loss: 0.0979 - accuracy: 0.9833 - val_loss: 0.5965 - val_accuracy: 0.9293\n",
      "Results for current fold:\n",
      "7/7 [==============================] - 1s 186ms/step - loss: 0.5629 - accuracy: 0.9272\n",
      "Fold:  8\n",
      "Epoch 1/5\n",
      "223/223 [==============================] - 43s 195ms/step - loss: 0.4808 - accuracy: 0.8706 - val_loss: 0.2201 - val_accuracy: 0.9280\n",
      "Epoch 2/5\n",
      "223/223 [==============================] - 43s 193ms/step - loss: 0.1937 - accuracy: 0.9390 - val_loss: 0.4108 - val_accuracy: 0.8990\n",
      "Epoch 3/5\n",
      "223/223 [==============================] - 43s 193ms/step - loss: 0.1387 - accuracy: 0.9645 - val_loss: 0.3432 - val_accuracy: 0.9205\n",
      "Epoch 4/5\n",
      "223/223 [==============================] - 43s 193ms/step - loss: 0.1007 - accuracy: 0.9751 - val_loss: 0.6069 - val_accuracy: 0.9116\n",
      "Epoch 5/5\n",
      "223/223 [==============================] - 43s 194ms/step - loss: 0.0877 - accuracy: 0.9788 - val_loss: 0.6424 - val_accuracy: 0.9217\n",
      "Results for current fold:\n",
      "7/7 [==============================] - 1s 187ms/step - loss: 0.5253 - accuracy: 0.9204\n",
      "Fold:  9\n",
      "Epoch 1/5\n",
      "223/223 [==============================] - 44s 195ms/step - loss: 0.5200 - accuracy: 0.8647 - val_loss: 0.2734 - val_accuracy: 0.9129\n",
      "Epoch 2/5\n",
      "223/223 [==============================] - 43s 194ms/step - loss: 0.2029 - accuracy: 0.9364 - val_loss: 0.3091 - val_accuracy: 0.9217\n",
      "Epoch 3/5\n",
      "223/223 [==============================] - 43s 194ms/step - loss: 0.1261 - accuracy: 0.9653 - val_loss: 0.3679 - val_accuracy: 0.9167\n",
      "Epoch 4/5\n",
      "223/223 [==============================] - 43s 193ms/step - loss: 0.0914 - accuracy: 0.9740 - val_loss: 0.5625 - val_accuracy: 0.9255\n",
      "Epoch 5/5\n",
      "223/223 [==============================] - 43s 194ms/step - loss: 0.1077 - accuracy: 0.9774 - val_loss: 0.5909 - val_accuracy: 0.9217\n",
      "Results for current fold:\n",
      "7/7 [==============================] - 1s 188ms/step - loss: 0.5209 - accuracy: 0.9181\n",
      "Fold:  10\n",
      "Epoch 1/5\n",
      "223/223 [==============================] - 43s 194ms/step - loss: 0.4914 - accuracy: 0.8694 - val_loss: 0.2568 - val_accuracy: 0.9205\n",
      "Epoch 2/5\n",
      "223/223 [==============================] - 43s 194ms/step - loss: 0.1774 - accuracy: 0.9445 - val_loss: 0.6209 - val_accuracy: 0.8497\n",
      "Epoch 3/5\n",
      "223/223 [==============================] - 43s 194ms/step - loss: 0.1088 - accuracy: 0.9694 - val_loss: 0.4132 - val_accuracy: 0.9205\n",
      "Epoch 4/5\n",
      "223/223 [==============================] - 43s 194ms/step - loss: 0.1041 - accuracy: 0.9743 - val_loss: 0.8769 - val_accuracy: 0.8939\n",
      "Epoch 5/5\n",
      "223/223 [==============================] - 43s 193ms/step - loss: 0.0973 - accuracy: 0.9803 - val_loss: 0.5834 - val_accuracy: 0.9205\n",
      "Results for current fold:\n",
      "7/7 [==============================] - 1s 186ms/step - loss: 0.5573 - accuracy: 0.9215\n"
     ]
    }
   ],
   "source": [
    "from sklearn.model_selection import StratifiedKFold\n",
    "from scipy.stats import zscore\n",
    "from sklearn import metrics\n",
    "import tensorflow as tf\n",
    "import random\n",
    "\n",
    "f_score=[]\n",
    "fold = 10\n",
    "label_names = ['0', '1', '2']\n",
    "num_epochs = 5\n",
    "batch_size = 32\n",
    "#oos_y = []\n",
    "#oos_pred = []\n",
    "results = []\n",
    "#for train, test in kf.split(data[\"tokens\"], data['Label']):\n",
    "\n",
    "for i in range(fold):\n",
    "    print(\"Fold: \", i+1)\n",
    "    random_num = np.random.randint(1,7000, 1)[0]\n",
    "    data_train, data_test = train_test_split(data, test_size=0.10, shuffle = True, random_state = random_num)\n",
    "\n",
    "    # # total training words\n",
    "    totalTrainingWords = [word for tokens in data_train[\"tokens\"] for word in tokens]\n",
    "\n",
    "    # # Storing Length of the training sentence\n",
    "    lengthTrainingSentences = [len(tokens) for tokens in data_train[\"tokens\"]]\n",
    "\n",
    "    # # training Vocabulary size\n",
    "    trainingVocabSize = sorted(list(set(totalTrainingWords)))\n",
    "\n",
    "    ## Total number of lines\n",
    "    linesCount = len(data_train[\"tokens\"])\n",
    "    \n",
    "    tokenizer = Tokenizer(num_words=len(trainingVocabSize), lower=True, char_level=False)\n",
    "    tokenizer.fit_on_texts(data_train[\"Text_Final\"].tolist())\n",
    "    training_sequences = tokenizer.texts_to_sequences(data_train[\"Text_Final\"].tolist())\n",
    "\n",
    "    train_word_index = tokenizer.word_index\n",
    "    cnnTrainData = pad_sequences(training_sequences, maxlen=MAX_SEQUENCE_LENGTH)\n",
    "    \n",
    "    train_embedding_weights = np.zeros((len(train_word_index)+1, EMBEDDING_DIM))\n",
    "    \n",
    "    for word,index in train_word_index.items():\n",
    "        train_embedding_weights[index,:] = word2vec[word] if word in word2vec else np.random.rand(EMBEDDING_DIM)\n",
    "        \n",
    "    test_sequences = tokenizer.texts_to_sequences(data_test[\"Text_Final\"].tolist())\n",
    "    cnnTestData = pad_sequences(test_sequences, maxlen= MAX_SEQUENCE_LENGTH)\n",
    "    \n",
    "    # Splitting train data into X_train and y_train\n",
    "    y_train = data_train[label_names].values\n",
    "    x_train = cnnTrainData\n",
    "    y_tr = y_train\n",
    "    \n",
    "    # Splitting train data into X_test and y_test\n",
    "    y_test = data_test[label_names].values\n",
    "    x_test = cnnTestData\n",
    "    y_tst = y_test\n",
    "    \n",
    "    # create model\n",
    "    model = ConvolutionalNeuralNet(train_embedding_weights, MAX_SEQUENCE_LENGTH, len(train_word_index)+1, EMBEDDING_DIM, len(list(label_names)))\n",
    "    \n",
    "    #Train Model\n",
    "    history = model.fit(x_train, y_tr, epochs=num_epochs, validation_split=0.1, shuffle=True, batch_size=batch_size)\n",
    "      \n",
    "    # model evaluate\n",
    "    \n",
    "    print(\"Results for current fold:\")\n",
    "    results.append(model.evaluate(x_test, y_tst, batch_size=128))\n",
    "\n",
    "#     predictions = model.predict(cnnTestData, batch_size=1024, verbose=0)\n",
    "#     oos_y.append(y_test)\n",
    "#     oos_pred.append(predictions)\n",
    "    \n",
    "    #score = np.sqrt(metrics.mean_squared_error(predictions, y_test))\n",
    "#    f_score.append(count)\n",
    "\n",
    "model.save('model_CNN.h5')    "
   ]
  },
  {
   "cell_type": "code",
   "execution_count": 52,
   "metadata": {},
   "outputs": [
    {
     "name": "stdout",
     "output_type": "stream",
     "text": [
      "Kfold Mean:  0.9287827014923096\n"
     ]
    }
   ],
   "source": [
    "import statistics \n",
    "# for i in range(len(results)):\n",
    "#     print(\"Fold: \", i+1)\n",
    "#     print(\"test loss, test acc:\", results[i])\n",
    "\n",
    "score = []\n",
    "for i in results:\n",
    "    score.append(i[1])\n",
    "x = statistics.mean(score)\n",
    "    \n",
    "print(\"Kfold Mean: \", x)"
   ]
  },
  {
   "cell_type": "code",
   "execution_count": 57,
   "metadata": {},
   "outputs": [],
   "source": [
    "# translator\n",
    "translator = Translator()"
   ]
  },
  {
   "cell_type": "code",
   "execution_count": 58,
   "metadata": {},
   "outputs": [
    {
     "name": "stdout",
     "output_type": "stream",
     "text": [
      "Hindi:  'गाजा में दीवाली   की ढेरो बधाई मित्रो 😊💐  #IsraeliBombing 😂😂\n",
      "Translated: 'Happy Diwali greetings in Gaza Friends 😊💐 #IsraeliBombing 😂😂\n",
      "Predicted Label:  2\n"
     ]
    }
   ],
   "source": [
    "# 2\n",
    "hin_text =  \"'गाजा में दीवाली   की ढेरो बधाई मित्रो 😊💐  #IsraeliBombing 😂😂\"\n",
    "print(\"Hindi: \", hin_text)\n",
    "\n",
    "trans = translator.translate(hin_text, dest='en')\n",
    "print('Translated:', trans.text)\n",
    "texts = [trans.text]\n",
    "print('Predicted Label: ',makeprediction(texts))"
   ]
  },
  {
   "cell_type": "code",
   "execution_count": 59,
   "metadata": {},
   "outputs": [
    {
     "name": "stdout",
     "output_type": "stream",
     "text": [
      "Hindi:   समाज वादी  पार्टी  जिंदाबाद \n",
      "Translated: Samajwadi Party Zindabad\n",
      "Predicted Label:  2\n"
     ]
    }
   ],
   "source": [
    "# 0\n",
    "hin_text =  \" समाज वादी  पार्टी  जिंदाबाद \"\n",
    "print(\"Hindi: \", hin_text)\n",
    "\n",
    "trans = translator.translate(hin_text, dest='en')\n",
    "print('Translated:', trans.text)\n",
    "texts = [trans.text]\n",
    "print('Predicted Label: ',makeprediction(texts))"
   ]
  },
  {
   "cell_type": "code",
   "execution_count": 60,
   "metadata": {},
   "outputs": [
    {
     "name": "stdout",
     "output_type": "stream",
     "text": [
      "Hindi:  इसलाम सुंदर है\n",
      "Translated: Islam is beautiful\n",
      "Predicted Label:  2\n"
     ]
    }
   ],
   "source": [
    "# 1\n",
    "hin_text =  \"इसलाम सुंदर है\"\n",
    "print(\"Hindi: \", hin_text)\n",
    "\n",
    "trans = translator.translate(hin_text, dest='en')\n",
    "print('Translated:', trans.text)\n",
    "texts = [trans.text]\n",
    "print('Predicted Label: ',makeprediction(texts))"
   ]
  },
  {
   "cell_type": "code",
   "execution_count": 53,
   "metadata": {},
   "outputs": [
    {
     "name": "stdout",
     "output_type": "stream",
     "text": [
      "0\n"
     ]
    }
   ],
   "source": [
    "# 0\n",
    "texts = [\"'@'England look to clinch Pakistan test series before step into unknown\"]\n",
    "print(makeprediction(texts))"
   ]
  },
  {
   "cell_type": "code",
   "execution_count": 54,
   "metadata": {},
   "outputs": [
    {
     "name": "stdout",
     "output_type": "stream",
     "text": [
      "0\n"
     ]
    }
   ],
   "source": [
    "# 2\n",
    "texts = [\"@_ROB_29 If this was a Muslim girl in Afghanistan you'd call her a terrorist\"]\n",
    "print(makeprediction(texts))"
   ]
  },
  {
   "cell_type": "code",
   "execution_count": 55,
   "metadata": {},
   "outputs": [
    {
     "name": "stdout",
     "output_type": "stream",
     "text": [
      "2\n"
     ]
    }
   ],
   "source": [
    "# 0\n",
    "texts = [\"''In what hopscotch? Cricket?\"]\n",
    "print(makeprediction(texts))"
   ]
  },
  {
   "cell_type": "code",
   "execution_count": 56,
   "metadata": {},
   "outputs": [
    {
     "name": "stdout",
     "output_type": "stream",
     "text": [
      "0\n"
     ]
    }
   ],
   "source": [
    "# 1\n",
    "texts = [\"My tl is filled with Shia-Sunni controversy. I should've deactivated before Moharram started.\"]\n",
    "print(makeprediction(texts))"
   ]
  },
  {
   "cell_type": "markdown",
   "metadata": {},
   "source": [
    "### Reference\n",
    "[1] \"Convolutional Neural Networks for Sentence Classification\" by Yoon Kim\n"
   ]
  },
  {
   "cell_type": "code",
   "execution_count": null,
   "metadata": {},
   "outputs": [],
   "source": []
  }
 ],
 "metadata": {
  "kernelspec": {
   "display_name": "Python 3",
   "language": "python",
   "name": "python3"
  },
  "language_info": {
   "codemirror_mode": {
    "name": "ipython",
    "version": 3
   },
   "file_extension": ".py",
   "mimetype": "text/x-python",
   "name": "python",
   "nbconvert_exporter": "python",
   "pygments_lexer": "ipython3",
   "version": "3.8.5"
  }
 },
 "nbformat": 4,
 "nbformat_minor": 4
}
