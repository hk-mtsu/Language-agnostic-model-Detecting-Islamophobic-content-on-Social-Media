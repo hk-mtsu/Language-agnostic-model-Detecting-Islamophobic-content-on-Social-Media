{
 "cells": [
  {
   "cell_type": "markdown",
   "metadata": {},
   "source": [
    "\n",
    "# Convolutional Neural Network CNN\n",
    "1. Using Word2Vec implementing CNN model\n",
    "2. Dispaly Confusion Matrix, precision, recall and F1-score\n",
    "3. Display few prediction using predict module. \n",
    "4. Get 10-fold Average of the CNN model."
   ]
  },
  {
   "cell_type": "code",
   "execution_count": 192,
   "metadata": {},
   "outputs": [],
   "source": [
    "from __future__ import division, print_function\n",
    "\n",
    "# dataframe\n",
    "import pandas as pd\n",
    "\n",
    "# numpy array\n",
    "import numpy as np\n",
    "\n",
    "# figures visualization\n",
    "import matplotlib.pyplot as plt\n",
    "from sklearn.metrics import confusion_matrix \n",
    "import seaborn as sns\n",
    "\n",
    "# calc accuracy\n",
    "from sklearn.metrics import accuracy_score \n",
    "from sklearn.metrics import classification_report \n",
    "\n",
    "# word2vec\n",
    "import gensim \n",
    "from gensim import models\n",
    "from gensim.models import Word2Vec \n",
    "from gensim.models import KeyedVectors\n",
    "\n",
    "# CNN model and keras preprocessing\n",
    "import keras\n",
    "from keras.callbacks import ModelCheckpoint\n",
    "from keras.layers import Dense, Dropout, Reshape, Flatten, concatenate, Input, Conv1D, GlobalMaxPooling1D, Embedding, Conv2D, GlobalMaxPooling2D\n",
    "from keras.models import Sequential\n",
    "from keras.models import Model\n",
    "from keras.preprocessing.text import Tokenizer\n",
    "from keras.preprocessing.sequence import pad_sequences\n",
    "\n",
    "# nltk data preprocessing\n",
    "import nltk\n",
    "from nltk import word_tokenize\n",
    "from nltk.tokenize import sent_tokenize \n",
    "from nltk.stem import WordNetLemmatizer\n",
    "\n",
    "# stopword - remove buzz word\n",
    "from nltk.corpus import stopwords\n",
    "\n",
    "# splitting data\n",
    "from sklearn.model_selection import train_test_split\n",
    "\n",
    "# punctuation - data imbalance\n",
    "import collections\n",
    "import re\n",
    "import string\n",
    "\n",
    "# File path\n",
    "import os\n",
    "import os.path\n",
    "from os import path\n",
    "\n",
    "# Translator\n",
    "import googletrans\n",
    "from googletrans import Translator"
   ]
  },
  {
   "cell_type": "code",
   "execution_count": 193,
   "metadata": {},
   "outputs": [],
   "source": [
    "# original hindi file\n",
    "filename  = 'Eng-Hin-data/hindi-anot-shuffled'\n",
    "orig_df = pd.read_csv(filename + '.csv',  \n",
    "               delimiter=',')\n",
    "orig_df.columns = ['Text', 'Label']"
   ]
  },
  {
   "cell_type": "code",
   "execution_count": 194,
   "metadata": {},
   "outputs": [
    {
     "data": {
      "text/plain": [
       "<bound method NDFrame.head of                                                    Text  Label\n",
       "0     'गाजा में दीवाली   की ढेरो बधाई मित्रो 😊💐  #Is...      2\n",
       "1        '@SanjayGadhiaINC @IndiaToday18 अज़ाबे इलाही 👍      1\n",
       "2     'आखिर अब #सुशांत_सिंह_राजपूत जी को न्याय मिल ज...      0\n",
       "3     'अमीन के 500 से अधिक छात्रों ने सर्वे भवन के ग...      0\n",
       "4     '@deoriapolice @Uppolice @myogiadityanath @spg...      0\n",
       "...                                                 ...    ...\n",
       "8788                  '@atullondhe राहुल गांधी जिंदाबाद      0\n",
       "8789  'पैगंबर हज़रत मुहम्मद सल्लल्लाहु अलैहि वसल्लम ...      1\n",
       "8790  'कर्नाटक बेंगलुरू में अल्लाह मोहम्मद गांडू के ...      2\n",
       "8791  'अच्छी खबर है ऐसे एक एक कर सभी जेहादी भारतीय फ...      2\n",
       "8792  '@Ruzena__Malik जनता चाइना से दीवाली की लड़ी ख...      0\n",
       "\n",
       "[8793 rows x 2 columns]>"
      ]
     },
     "execution_count": 194,
     "metadata": {},
     "output_type": "execute_result"
    }
   ],
   "source": [
    "orig_df.head"
   ]
  },
  {
   "cell_type": "code",
   "execution_count": 196,
   "metadata": {},
   "outputs": [],
   "source": [
    "orig_df.Text[6]"
   ]
  },
  {
   "cell_type": "code",
   "execution_count": 197,
   "metadata": {},
   "outputs": [],
   "source": [
    "data[\"Text\"] = orig_df[\"Text\"].astype(str)\n",
    "data[\"Label\"] = orig_df[\"Label\"].astype(str)"
   ]
  },
  {
   "cell_type": "markdown",
   "metadata": {},
   "source": [
    "### Class count"
   ]
  },
  {
   "cell_type": "code",
   "execution_count": 198,
   "metadata": {},
   "outputs": [
    {
     "data": {
      "image/png": "[encoded data removed]",
      "text/plain": [
       "<Figure size 432x288 with 1 Axes>"
      ]
     },
     "metadata": {
      "needs_background": "light"
     },
     "output_type": "display_data"
    }
   ],
   "source": [
    "import matplotlib.pyplot as plt\n",
    "fig = plt.figure(figsize=(6,4))\n",
    "data.groupby('Label').Text.count().plot.bar(ylim=0)\n",
    "plt.show()"
   ]
  },
  {
   "cell_type": "code",
   "execution_count": 199,
   "metadata": {},
   "outputs": [
    {
     "data": {
      "text/plain": [
       "2    3375\n",
       "0    3244\n",
       "1    2174\n",
       "Name: Label, dtype: int64"
      ]
     },
     "execution_count": 199,
     "metadata": {},
     "output_type": "execute_result"
    }
   ],
   "source": [
    "# For entire dataset sentences for each labels \n",
    "data.Label.value_counts()"
   ]
  },
  {
   "cell_type": "markdown",
   "metadata": {},
   "source": [
    "### Balancing Data"
   ]
  },
  {
   "cell_type": "code",
   "execution_count": 200,
   "metadata": {},
   "outputs": [
    {
     "data": {
      "text/html": [
       "<div>\n",
       "<style scoped>\n",
       "    .dataframe tbody tr th:only-of-type {\n",
       "        vertical-align: middle;\n",
       "    }\n",
       "\n",
       "    .dataframe tbody tr th {\n",
       "        vertical-align: top;\n",
       "    }\n",
       "\n",
       "    .dataframe thead th {\n",
       "        text-align: right;\n",
       "    }\n",
       "</style>\n",
       "<table border=\"1\" class=\"dataframe\">\n",
       "  <thead>\n",
       "    <tr style=\"text-align: right;\">\n",
       "      <th></th>\n",
       "      <th>Text</th>\n",
       "      <th>Label</th>\n",
       "    </tr>\n",
       "  </thead>\n",
       "  <tbody>\n",
       "    <tr>\n",
       "      <th>0</th>\n",
       "      <td>'भारत को 2011 का क्रिकेट विश्वकप दिलाने में सब...</td>\n",
       "      <td>0</td>\n",
       "    </tr>\n",
       "    <tr>\n",
       "      <th>1</th>\n",
       "      <td>'@narendramodi  @AmitShah  इस जेहादी संगठन को ...</td>\n",
       "      <td>2</td>\n",
       "    </tr>\n",
       "    <tr>\n",
       "      <th>2</th>\n",
       "      <td>'ठीक है  टाइम निकालो फिर  हम भी कौन सा सुशांत ...</td>\n",
       "      <td>0</td>\n",
       "    </tr>\n",
       "    <tr>\n",
       "      <th>3</th>\n",
       "      <td>'@ThePushpendra_ एक जेहादी कम हुआ</td>\n",
       "      <td>2</td>\n",
       "    </tr>\n",
       "    <tr>\n",
       "      <th>4</th>\n",
       "      <td>'@ModiNama01 शानदार जबरदस्त जिंदाबाद 👌👌</td>\n",
       "      <td>0</td>\n",
       "    </tr>\n",
       "    <tr>\n",
       "      <th>...</th>\n",
       "      <td>...</td>\n",
       "      <td>...</td>\n",
       "    </tr>\n",
       "    <tr>\n",
       "      <th>8788</th>\n",
       "      <td>'आलम-ए-इस्लाम को इस्लामिक नया साल \"1442 हिज़री...</td>\n",
       "      <td>1</td>\n",
       "    </tr>\n",
       "    <tr>\n",
       "      <th>8789</th>\n",
       "      <td>'@BadmaashJimmy @sambitswaraj जेहादी चुप बैठ</td>\n",
       "      <td>2</td>\n",
       "    </tr>\n",
       "    <tr>\n",
       "      <th>8790</th>\n",
       "      <td>@mewati0786 @RahulSh48297908 @anuraagmuskaan न...</td>\n",
       "      <td>2</td>\n",
       "    </tr>\n",
       "    <tr>\n",
       "      <th>8791</th>\n",
       "      <td>@Ravishk256 @RahulGandhi ये है ravish kumar जै...</td>\n",
       "      <td>2</td>\n",
       "    </tr>\n",
       "    <tr>\n",
       "      <th>8792</th>\n",
       "      <td>'@SantoshRanjan_ @JhaGunjesh जिहादी सूअर</td>\n",
       "      <td>2</td>\n",
       "    </tr>\n",
       "  </tbody>\n",
       "</table>\n",
       "<p>8793 rows × 2 columns</p>\n",
       "</div>"
      ],
      "text/plain": [
       "                                                   Text Label\n",
       "0     'भारत को 2011 का क्रिकेट विश्वकप दिलाने में सब...     0\n",
       "1     '@narendramodi  @AmitShah  इस जेहादी संगठन को ...     2\n",
       "2     'ठीक है  टाइम निकालो फिर  हम भी कौन सा सुशांत ...     0\n",
       "3                     '@ThePushpendra_ एक जेहादी कम हुआ     2\n",
       "4               '@ModiNama01 शानदार जबरदस्त जिंदाबाद 👌👌     0\n",
       "...                                                 ...   ...\n",
       "8788  'आलम-ए-इस्लाम को इस्लामिक नया साल \"1442 हिज़री...     1\n",
       "8789       '@BadmaashJimmy @sambitswaraj जेहादी चुप बैठ     2\n",
       "8790  @mewati0786 @RahulSh48297908 @anuraagmuskaan न...     2\n",
       "8791  @Ravishk256 @RahulGandhi ये है ravish kumar जै...     2\n",
       "8792           '@SantoshRanjan_ @JhaGunjesh जिहादी सूअर     2\n",
       "\n",
       "[8793 rows x 2 columns]"
      ]
     },
     "execution_count": 200,
     "metadata": {},
     "output_type": "execute_result"
    }
   ],
   "source": [
    "data=data.sample(frac=1).reset_index(drop=True)\n",
    "data"
   ]
  },
  {
   "cell_type": "markdown",
   "metadata": {},
   "source": [
    "### Data Preprocessing"
   ]
  },
  {
   "cell_type": "code",
   "execution_count": 201,
   "metadata": {},
   "outputs": [],
   "source": [
    "def textPattern(text):\n",
    "\n",
    "    # Clean the text\n",
    "    text = re.sub(r\"@\", \" \", text)\n",
    "    text = re.sub(r\"\\*\", \" \", text)\n",
    "    text = re.sub(r\"'\", \" \", text)\n",
    "    text = re.sub(r\"\\'s\", \" \", text)\n",
    "    text = re.sub(r\",\", \" \", text)\n",
    "    text = re.sub(r\"\\.\", \" \", text)\n",
    "    text = re.sub(r\"!\", \" \", text)\n",
    "    text = re.sub(r\"\\/\", \" \", text)\n",
    "    text = re.sub(r\"\\^\", \" ^ \", text)\n",
    "    text = re.sub(r\"\\+\", \" \", text)\n",
    "    text = re.sub(r\"\\-\", \" - \", text)\n",
    "    text = re.sub(r\"\\= =\", \" \", text)\n",
    "    text = re.sub(r\"\\==\", \" \", text)\n",
    "    text = re.sub(r\"'\", \" \", text)\n",
    "    text = re.sub(r\"(\\d+)(k)\", r\"\\g<1>000\", text)\n",
    "    text = re.sub(r\":\", \" : \", text)\n",
    "    text = re.sub(r\"\\0s\", \"0\", text)\n",
    "    text = re.sub(r\" 9 11 \", \"911\", text)\n",
    "    text = re.sub(r\"\\s{2,}\", \" \", text)\n",
    "    return text\n",
    "\n",
    "data['Text'] = data['Text'].apply(lambda x: textPattern(x))"
   ]
  },
  {
   "cell_type": "code",
   "execution_count": 202,
   "metadata": {},
   "outputs": [
    {
     "data": {
      "text/plain": [
       "(8793, 2)"
      ]
     },
     "execution_count": 202,
     "metadata": {},
     "output_type": "execute_result"
    }
   ],
   "source": [
    "data.shape"
   ]
  },
  {
   "cell_type": "code",
   "execution_count": 203,
   "metadata": {},
   "outputs": [],
   "source": [
    "# Word Tokenization\n",
    "tokens = [word_tokenize(sen) for sen in data.Text]"
   ]
  },
  {
   "cell_type": "code",
   "execution_count": 204,
   "metadata": {},
   "outputs": [],
   "source": [
    "# Lower Case\n",
    "def lower_token(tokens): \n",
    "    return [w.lower() for w in tokens]    \n",
    "    \n",
    "lower_tokens = [lower_token(token) for token in tokens]"
   ]
  },
  {
   "cell_type": "code",
   "execution_count": 205,
   "metadata": {},
   "outputs": [],
   "source": [
    "# Remove Link\n",
    "\n",
    "def removeLink(token):\n",
    "    word = []\n",
    "    for w in token:\n",
    "        if not w.startswith('http'):\n",
    "            word.append(w)\n",
    "    return word \n",
    "    \n",
    "removedLink_tokens = [removeLink(token) for token in lower_tokens]"
   ]
  },
  {
   "cell_type": "code",
   "execution_count": 206,
   "metadata": {},
   "outputs": [],
   "source": [
    "# Word Lemmatization\n",
    "def lemmatization(token):\n",
    "    return [lemmatizer.lemmatize(w) for w in token] \n",
    "\n",
    "lemmatizer = WordNetLemmatizer()\n",
    "\n",
    "lemmatized_tokens = [lemmatization(token) for token in removedLink_tokens]"
   ]
  },
  {
   "cell_type": "code",
   "execution_count": 207,
   "metadata": {},
   "outputs": [],
   "source": [
    "# Removing Stopwords\n",
    "stoplist=open(\"Devanagari/stopwords.txt\",\"r\")"
   ]
  },
  {
   "cell_type": "code",
   "execution_count": 208,
   "metadata": {},
   "outputs": [],
   "source": [
    "def removeStopWords(tokens): \n",
    "    return [word for word in tokens if word not in stoplist]\n",
    "\n",
    "filtered_words = [removeStopWords(sen) for sen in lemmatized_tokens]\n",
    "data['Text_Final'] = [' '.join(sen) for sen in filtered_words]\n",
    "data['tokens'] = filtered_words"
   ]
  },
  {
   "cell_type": "code",
   "execution_count": 209,
   "metadata": {},
   "outputs": [],
   "source": [
    "zero  = []\n",
    "one = []\n",
    "two = []\n",
    "for l in data.Label:\n",
    "    \n",
    "    if l == '0':\n",
    "        zero.append(1)\n",
    "        one.append(0)\n",
    "        two.append(0)\n",
    "    elif l == '1':\n",
    "        zero.append(0)\n",
    "        one.append(1)\n",
    "        two.append(0)\n",
    "    elif l == '2':\n",
    "        zero.append(0)\n",
    "        one.append(0)\n",
    "        two.append(1)\n",
    "        \n",
    "data['0']= zero\n",
    "data['1']= one\n",
    "data['2']= two\n",
    "\n",
    "data = data[['Text_Final', 'tokens', 'Label', '0', '1', '2']]"
   ]
  },
  {
   "cell_type": "code",
   "execution_count": 210,
   "metadata": {},
   "outputs": [
    {
     "data": {
      "text/html": [
       "<div>\n",
       "<style scoped>\n",
       "    .dataframe tbody tr th:only-of-type {\n",
       "        vertical-align: middle;\n",
       "    }\n",
       "\n",
       "    .dataframe tbody tr th {\n",
       "        vertical-align: top;\n",
       "    }\n",
       "\n",
       "    .dataframe thead th {\n",
       "        text-align: right;\n",
       "    }\n",
       "</style>\n",
       "<table border=\"1\" class=\"dataframe\">\n",
       "  <thead>\n",
       "    <tr style=\"text-align: right;\">\n",
       "      <th></th>\n",
       "      <th>Text_Final</th>\n",
       "      <th>tokens</th>\n",
       "      <th>Label</th>\n",
       "      <th>0</th>\n",
       "      <th>1</th>\n",
       "      <th>2</th>\n",
       "      <th>Category_id</th>\n",
       "    </tr>\n",
       "  </thead>\n",
       "  <tbody>\n",
       "    <tr>\n",
       "      <th>0</th>\n",
       "      <td>भारत को 2011 का क्रिकेट विश्वकप दिलाने में सबस...</td>\n",
       "      <td>[भारत, को, 2011, का, क्रिकेट, विश्वकप, दिलाने,...</td>\n",
       "      <td>0</td>\n",
       "      <td>1</td>\n",
       "      <td>0</td>\n",
       "      <td>0</td>\n",
       "      <td>0</td>\n",
       "    </tr>\n",
       "    <tr>\n",
       "      <th>1</th>\n",
       "      <td>narendramodi amitshah इस जेहादी संगठन को जल्द ...</td>\n",
       "      <td>[narendramodi, amitshah, इस, जेहादी, संगठन, को...</td>\n",
       "      <td>2</td>\n",
       "      <td>0</td>\n",
       "      <td>0</td>\n",
       "      <td>1</td>\n",
       "      <td>2</td>\n",
       "    </tr>\n",
       "    <tr>\n",
       "      <th>2</th>\n",
       "      <td>ठीक है टाइम निकालो फिर हम भी कौन सा सुशांत सिं...</td>\n",
       "      <td>[ठीक, है, टाइम, निकालो, फिर, हम, भी, कौन, सा, ...</td>\n",
       "      <td>0</td>\n",
       "      <td>1</td>\n",
       "      <td>0</td>\n",
       "      <td>0</td>\n",
       "      <td>0</td>\n",
       "    </tr>\n",
       "    <tr>\n",
       "      <th>3</th>\n",
       "      <td>thepushpendra_ एक जेहादी कम हुआ</td>\n",
       "      <td>[thepushpendra_, एक, जेहादी, कम, हुआ]</td>\n",
       "      <td>2</td>\n",
       "      <td>0</td>\n",
       "      <td>0</td>\n",
       "      <td>1</td>\n",
       "      <td>2</td>\n",
       "    </tr>\n",
       "    <tr>\n",
       "      <th>4</th>\n",
       "      <td>modinama01 शानदार जबरदस्त जिंदाबाद 👌👌</td>\n",
       "      <td>[modinama01, शानदार, जबरदस्त, जिंदाबाद, 👌👌]</td>\n",
       "      <td>0</td>\n",
       "      <td>1</td>\n",
       "      <td>0</td>\n",
       "      <td>0</td>\n",
       "      <td>0</td>\n",
       "    </tr>\n",
       "    <tr>\n",
       "      <th>5</th>\n",
       "      <td>thedeepak2020in जेहादी की आत्मा को भगवान शांति...</td>\n",
       "      <td>[thedeepak2020in, जेहादी, की, आत्मा, को, भगवान...</td>\n",
       "      <td>2</td>\n",
       "      <td>0</td>\n",
       "      <td>0</td>\n",
       "      <td>1</td>\n",
       "      <td>2</td>\n",
       "    </tr>\n",
       "    <tr>\n",
       "      <th>6</th>\n",
       "      <td>haseena79360293 wafachaudhry251 isrartyagi8 sy...</td>\n",
       "      <td>[haseena79360293, wafachaudhry251, isrartyagi8...</td>\n",
       "      <td>1</td>\n",
       "      <td>0</td>\n",
       "      <td>1</td>\n",
       "      <td>0</td>\n",
       "      <td>1</td>\n",
       "    </tr>\n",
       "    <tr>\n",
       "      <th>7</th>\n",
       "      <td>salmannizami_ यह दुनिया की no 1 terrorist फैक्...</td>\n",
       "      <td>[salmannizami_, यह, दुनिया, की, no, 1, terrori...</td>\n",
       "      <td>2</td>\n",
       "      <td>0</td>\n",
       "      <td>0</td>\n",
       "      <td>1</td>\n",
       "      <td>2</td>\n",
       "    </tr>\n",
       "    <tr>\n",
       "      <th>8</th>\n",
       "      <td>ये जैहादी टीना डावी ( ia ) जिसे लव मैरिज किया ...</td>\n",
       "      <td>[ये, जैहादी, टीना, डावी, (, ia, ), जिसे, लव, म...</td>\n",
       "      <td>2</td>\n",
       "      <td>0</td>\n",
       "      <td>0</td>\n",
       "      <td>1</td>\n",
       "      <td>2</td>\n",
       "    </tr>\n",
       "    <tr>\n",
       "      <th>9</th>\n",
       "      <td>_sabanaqvi इन जिहादियों का भी है कोई बाप या फि...</td>\n",
       "      <td>[_sabanaqvi, इन, जिहादियों, का, भी, है, कोई, ब...</td>\n",
       "      <td>2</td>\n",
       "      <td>0</td>\n",
       "      <td>0</td>\n",
       "      <td>1</td>\n",
       "      <td>2</td>\n",
       "    </tr>\n",
       "    <tr>\n",
       "      <th>10</th>\n",
       "      <td>deepti_payasi अच्छा हुआ मर गया जेहादी</td>\n",
       "      <td>[deepti_payasi, अच्छा, हुआ, मर, गया, जेहादी]</td>\n",
       "      <td>2</td>\n",
       "      <td>0</td>\n",
       "      <td>0</td>\n",
       "      <td>1</td>\n",
       "      <td>2</td>\n",
       "    </tr>\n",
       "    <tr>\n",
       "      <th>11</th>\n",
       "      <td>sachin170277s drkumarvishwas कोई जबरदस्ती है क...</td>\n",
       "      <td>[sachin170277s, drkumarvishwas, कोई, जबरदस्ती,...</td>\n",
       "      <td>2</td>\n",
       "      <td>0</td>\n",
       "      <td>0</td>\n",
       "      <td>1</td>\n",
       "      <td>2</td>\n",
       "    </tr>\n",
       "    <tr>\n",
       "      <th>12</th>\n",
       "      <td># name ?</td>\n",
       "      <td>[#, name, ?]</td>\n",
       "      <td>0</td>\n",
       "      <td>1</td>\n",
       "      <td>0</td>\n",
       "      <td>0</td>\n",
       "      <td>0</td>\n",
       "    </tr>\n",
       "    <tr>\n",
       "      <th>13</th>\n",
       "      <td>arnab5222 मुल्ला मुला यम दूत ने</td>\n",
       "      <td>[arnab5222, मुल्ला, मुला, यम, दूत, ने]</td>\n",
       "      <td>2</td>\n",
       "      <td>0</td>\n",
       "      <td>0</td>\n",
       "      <td>1</td>\n",
       "      <td>2</td>\n",
       "    </tr>\n",
       "    <tr>\n",
       "      <th>14</th>\n",
       "      <td>shaikh_aamrin माशाअल्लाह अलहम्दुलिल्लाह सभी की...</td>\n",
       "      <td>[shaikh_aamrin, माशाअल्लाह, अलहम्दुलिल्लाह, सभ...</td>\n",
       "      <td>1</td>\n",
       "      <td>0</td>\n",
       "      <td>1</td>\n",
       "      <td>0</td>\n",
       "      <td>1</td>\n",
       "    </tr>\n",
       "    <tr>\n",
       "      <th>15</th>\n",
       "      <td>srbachchan महेंद्र सिंह धोनी ने क्रिकेट से सन्...</td>\n",
       "      <td>[srbachchan, महेंद्र, सिंह, धोनी, ने, क्रिकेट,...</td>\n",
       "      <td>0</td>\n",
       "      <td>1</td>\n",
       "      <td>0</td>\n",
       "      <td>0</td>\n",
       "      <td>0</td>\n",
       "    </tr>\n",
       "    <tr>\n",
       "      <th>16</th>\n",
       "      <td>इन जिहादी कंपनियों पर सरकार तुरंत बैंन लगाए हम...</td>\n",
       "      <td>[इन, जिहादी, कंपनियों, पर, सरकार, तुरंत, बैंन,...</td>\n",
       "      <td>2</td>\n",
       "      <td>0</td>\n",
       "      <td>0</td>\n",
       "      <td>1</td>\n",
       "      <td>2</td>\n",
       "    </tr>\n",
       "    <tr>\n",
       "      <th>17</th>\n",
       "      <td>क्रिकेट का जुनून देखिए।</td>\n",
       "      <td>[क्रिकेट, का, जुनून, देखिए।]</td>\n",
       "      <td>0</td>\n",
       "      <td>1</td>\n",
       "      <td>0</td>\n",
       "      <td>0</td>\n",
       "      <td>0</td>\n",
       "    </tr>\n",
       "    <tr>\n",
       "      <th>18</th>\n",
       "      <td>maulinshah9 जन्म दिन बहुत ढेर सा मुबारक हो काम...</td>\n",
       "      <td>[maulinshah9, जन्म, दिन, बहुत, ढेर, सा, मुबारक...</td>\n",
       "      <td>1</td>\n",
       "      <td>0</td>\n",
       "      <td>1</td>\n",
       "      <td>0</td>\n",
       "      <td>1</td>\n",
       "    </tr>\n",
       "    <tr>\n",
       "      <th>19</th>\n",
       "      <td>zakiyakinc माशा अल्लाह मुबारकां 💐</td>\n",
       "      <td>[zakiyakinc, माशा, अल्लाह, मुबारकां, 💐]</td>\n",
       "      <td>1</td>\n",
       "      <td>0</td>\n",
       "      <td>1</td>\n",
       "      <td>0</td>\n",
       "      <td>1</td>\n",
       "    </tr>\n",
       "    <tr>\n",
       "      <th>20</th>\n",
       "      <td>इस्लामी नए साल हिजरी 1442 की आमद पर मैं तमाम अ...</td>\n",
       "      <td>[इस्लामी, नए, साल, हिजरी, 1442, की, आमद, पर, म...</td>\n",
       "      <td>1</td>\n",
       "      <td>0</td>\n",
       "      <td>1</td>\n",
       "      <td>0</td>\n",
       "      <td>1</td>\n",
       "    </tr>\n",
       "    <tr>\n",
       "      <th>21</th>\n",
       "      <td>अभी दिल्ली के मेरे दोस्त ने बताया है कि जेहादी...</td>\n",
       "      <td>[अभी, दिल्ली, के, मेरे, दोस्त, ने, बताया, है, ...</td>\n",
       "      <td>2</td>\n",
       "      <td>0</td>\n",
       "      <td>0</td>\n",
       "      <td>1</td>\n",
       "      <td>2</td>\n",
       "    </tr>\n",
       "    <tr>\n",
       "      <th>22</th>\n",
       "      <td>sardanarohit shalabhmani जेहादी एजेंडा को एक्स...</td>\n",
       "      <td>[sardanarohit, shalabhmani, जेहादी, एजेंडा, को...</td>\n",
       "      <td>2</td>\n",
       "      <td>0</td>\n",
       "      <td>0</td>\n",
       "      <td>1</td>\n",
       "      <td>2</td>\n",
       "    </tr>\n",
       "    <tr>\n",
       "      <th>23</th>\n",
       "      <td>बेंगलुरु दंगे : फरवरी में दिल्ली से अगस्त में ...</td>\n",
       "      <td>[बेंगलुरु, दंगे, :, फरवरी, में, दिल्ली, से, अग...</td>\n",
       "      <td>2</td>\n",
       "      <td>0</td>\n",
       "      <td>0</td>\n",
       "      <td>1</td>\n",
       "      <td>2</td>\n",
       "    </tr>\n",
       "    <tr>\n",
       "      <th>24</th>\n",
       "      <td>amitshah अमित शाह जिंदाबाद</td>\n",
       "      <td>[amitshah, अमित, शाह, जिंदाबाद]</td>\n",
       "      <td>0</td>\n",
       "      <td>1</td>\n",
       "      <td>0</td>\n",
       "      <td>0</td>\n",
       "      <td>0</td>\n",
       "    </tr>\n",
       "  </tbody>\n",
       "</table>\n",
       "</div>"
      ],
      "text/plain": [
       "                                           Text_Final  \\\n",
       "0   भारत को 2011 का क्रिकेट विश्वकप दिलाने में सबस...   \n",
       "1   narendramodi amitshah इस जेहादी संगठन को जल्द ...   \n",
       "2   ठीक है टाइम निकालो फिर हम भी कौन सा सुशांत सिं...   \n",
       "3                     thepushpendra_ एक जेहादी कम हुआ   \n",
       "4               modinama01 शानदार जबरदस्त जिंदाबाद 👌👌   \n",
       "5   thedeepak2020in जेहादी की आत्मा को भगवान शांति...   \n",
       "6   haseena79360293 wafachaudhry251 isrartyagi8 sy...   \n",
       "7   salmannizami_ यह दुनिया की no 1 terrorist फैक्...   \n",
       "8   ये जैहादी टीना डावी ( ia ) जिसे लव मैरिज किया ...   \n",
       "9   _sabanaqvi इन जिहादियों का भी है कोई बाप या फि...   \n",
       "10              deepti_payasi अच्छा हुआ मर गया जेहादी   \n",
       "11  sachin170277s drkumarvishwas कोई जबरदस्ती है क...   \n",
       "12                                           # name ?   \n",
       "13                    arnab5222 मुल्ला मुला यम दूत ने   \n",
       "14  shaikh_aamrin माशाअल्लाह अलहम्दुलिल्लाह सभी की...   \n",
       "15  srbachchan महेंद्र सिंह धोनी ने क्रिकेट से सन्...   \n",
       "16  इन जिहादी कंपनियों पर सरकार तुरंत बैंन लगाए हम...   \n",
       "17                            क्रिकेट का जुनून देखिए।   \n",
       "18  maulinshah9 जन्म दिन बहुत ढेर सा मुबारक हो काम...   \n",
       "19                  zakiyakinc माशा अल्लाह मुबारकां 💐   \n",
       "20  इस्लामी नए साल हिजरी 1442 की आमद पर मैं तमाम अ...   \n",
       "21  अभी दिल्ली के मेरे दोस्त ने बताया है कि जेहादी...   \n",
       "22  sardanarohit shalabhmani जेहादी एजेंडा को एक्स...   \n",
       "23  बेंगलुरु दंगे : फरवरी में दिल्ली से अगस्त में ...   \n",
       "24                         amitshah अमित शाह जिंदाबाद   \n",
       "\n",
       "                                               tokens Label  0  1  2  \\\n",
       "0   [भारत, को, 2011, का, क्रिकेट, विश्वकप, दिलाने,...     0  1  0  0   \n",
       "1   [narendramodi, amitshah, इस, जेहादी, संगठन, को...     2  0  0  1   \n",
       "2   [ठीक, है, टाइम, निकालो, फिर, हम, भी, कौन, सा, ...     0  1  0  0   \n",
       "3               [thepushpendra_, एक, जेहादी, कम, हुआ]     2  0  0  1   \n",
       "4         [modinama01, शानदार, जबरदस्त, जिंदाबाद, 👌👌]     0  1  0  0   \n",
       "5   [thedeepak2020in, जेहादी, की, आत्मा, को, भगवान...     2  0  0  1   \n",
       "6   [haseena79360293, wafachaudhry251, isrartyagi8...     1  0  1  0   \n",
       "7   [salmannizami_, यह, दुनिया, की, no, 1, terrori...     2  0  0  1   \n",
       "8   [ये, जैहादी, टीना, डावी, (, ia, ), जिसे, लव, म...     2  0  0  1   \n",
       "9   [_sabanaqvi, इन, जिहादियों, का, भी, है, कोई, ब...     2  0  0  1   \n",
       "10       [deepti_payasi, अच्छा, हुआ, मर, गया, जेहादी]     2  0  0  1   \n",
       "11  [sachin170277s, drkumarvishwas, कोई, जबरदस्ती,...     2  0  0  1   \n",
       "12                                       [#, name, ?]     0  1  0  0   \n",
       "13             [arnab5222, मुल्ला, मुला, यम, दूत, ने]     2  0  0  1   \n",
       "14  [shaikh_aamrin, माशाअल्लाह, अलहम्दुलिल्लाह, सभ...     1  0  1  0   \n",
       "15  [srbachchan, महेंद्र, सिंह, धोनी, ने, क्रिकेट,...     0  1  0  0   \n",
       "16  [इन, जिहादी, कंपनियों, पर, सरकार, तुरंत, बैंन,...     2  0  0  1   \n",
       "17                       [क्रिकेट, का, जुनून, देखिए।]     0  1  0  0   \n",
       "18  [maulinshah9, जन्म, दिन, बहुत, ढेर, सा, मुबारक...     1  0  1  0   \n",
       "19            [zakiyakinc, माशा, अल्लाह, मुबारकां, 💐]     1  0  1  0   \n",
       "20  [इस्लामी, नए, साल, हिजरी, 1442, की, आमद, पर, म...     1  0  1  0   \n",
       "21  [अभी, दिल्ली, के, मेरे, दोस्त, ने, बताया, है, ...     2  0  0  1   \n",
       "22  [sardanarohit, shalabhmani, जेहादी, एजेंडा, को...     2  0  0  1   \n",
       "23  [बेंगलुरु, दंगे, :, फरवरी, में, दिल्ली, से, अग...     2  0  0  1   \n",
       "24                    [amitshah, अमित, शाह, जिंदाबाद]     0  1  0  0   \n",
       "\n",
       "   Category_id  \n",
       "0            0  \n",
       "1            2  \n",
       "2            0  \n",
       "3            2  \n",
       "4            0  \n",
       "5            2  \n",
       "6            1  \n",
       "7            2  \n",
       "8            2  \n",
       "9            2  \n",
       "10           2  \n",
       "11           2  \n",
       "12           0  \n",
       "13           2  \n",
       "14           1  \n",
       "15           0  \n",
       "16           2  \n",
       "17           0  \n",
       "18           1  \n",
       "19           1  \n",
       "20           1  \n",
       "21           2  \n",
       "22           2  \n",
       "23           2  \n",
       "24           0  "
      ]
     },
     "execution_count": 210,
     "metadata": {},
     "output_type": "execute_result"
    }
   ],
   "source": [
    "category_id = []\n",
    "for l in data.Label:\n",
    "    \n",
    "    if l == '0':\n",
    "        category_id.append('0')\n",
    "    elif l == '1':\n",
    "        category_id.append('1')\n",
    "    elif l == '2':\n",
    "        category_id.append('2')\n",
    "        \n",
    "data['Category_id'] = category_id\n",
    "\n",
    "data = data[['Text_Final', 'tokens', 'Label', '0', '1', '2', 'Category_id' ]]\n",
    "data.head(25)"
   ]
  },
  {
   "cell_type": "code",
   "execution_count": 211,
   "metadata": {},
   "outputs": [],
   "source": [
    "data = data[data.tokens != '']"
   ]
  },
  {
   "cell_type": "code",
   "execution_count": 212,
   "metadata": {},
   "outputs": [],
   "source": [
    "from io import StringIO\n",
    "category_id_df = data[['Label', 'Category_id']].drop_duplicates().sort_values('Category_id')\n",
    "category_to_label_dict = dict(category_id_df.values)\n",
    "label_to_category_dict = dict(category_id_df[['Category_id', 'Label']].values)"
   ]
  },
  {
   "cell_type": "markdown",
   "metadata": {},
   "source": [
    "#### Split Data into test and train\n",
    "We will use 90 % data for training and 10 % for testing. We use random state so every time we get the same training and testing data."
   ]
  },
  {
   "cell_type": "code",
   "execution_count": 213,
   "metadata": {},
   "outputs": [],
   "source": [
    "data_train, data_test = train_test_split(data, test_size=0.10, random_state=42)\n"
   ]
  },
  {
   "cell_type": "code",
   "execution_count": 214,
   "metadata": {},
   "outputs": [],
   "source": [
    "# # total training words\n",
    "totalTrainingWords = [word for tokens in data_train[\"tokens\"] for word in tokens]\n",
    "\n",
    "# # Storing Length of the training sentence\n",
    "lengthTrainingSentences = [len(tokens) for tokens in data_train[\"tokens\"]]\n",
    "\n",
    "# # training Vocabulary size\n",
    "trainingVocabSize = sorted(list(set(totalTrainingWords)))\n",
    "\n",
    "## Total number of lines\n",
    "linesCount = len(data_train[\"tokens\"])"
   ]
  },
  {
   "cell_type": "markdown",
   "metadata": {},
   "source": [
    "### Load Google News Glove model"
   ]
  },
  {
   "cell_type": "code",
   "execution_count": 131,
   "metadata": {},
   "outputs": [
    {
     "data": {
      "text/plain": [
       "(400000, 300)"
      ]
     },
     "execution_count": 131,
     "metadata": {},
     "output_type": "execute_result"
    }
   ],
   "source": [
    "# Run only once\n",
    "# Convert Glove file to word2vec format \n",
    "from gensim.scripts.glove2word2vec import glove2word2vec\n",
    "\n",
    "glove_input_file = 'glove.6B.300d.txt'  # I unzipped in glove.6B subdirectory \n",
    "word2vec_output_file = 'glove.6B.300d.word2vec'\n",
    "glove2word2vec(glove_input_file, word2vec_output_file)"
   ]
  },
  {
   "cell_type": "code",
   "execution_count": 132,
   "metadata": {},
   "outputs": [],
   "source": [
    "# Use the converted Glove file\n",
    "filename = 'glove.6B.300d.word2vec'\n",
    "word2vec = KeyedVectors.load_word2vec_format(filename, binary=False)"
   ]
  },
  {
   "cell_type": "code",
   "execution_count": 215,
   "metadata": {},
   "outputs": [],
   "source": [
    "MAX_SEQUENCE_LENGTH = 150\n",
    "EMBEDDING_DIM = 300"
   ]
  },
  {
   "cell_type": "markdown",
   "metadata": {},
   "source": [
    "\n",
    "### Tokenize and Pad sequences"
   ]
  },
  {
   "cell_type": "code",
   "execution_count": 216,
   "metadata": {},
   "outputs": [
    {
     "name": "stdout",
     "output_type": "stream",
     "text": [
      "Found 19047 unique tokens.\n"
     ]
    }
   ],
   "source": [
    "tokenizer = Tokenizer(num_words=len(trainingVocabSize), lower=True, char_level=False)\n",
    "tokenizer.fit_on_texts(data_train[\"Text_Final\"].tolist())\n",
    "training_sequences = tokenizer.texts_to_sequences(data_train[\"Text_Final\"].tolist())\n",
    "\n",
    "train_word_index = tokenizer.word_index\n",
    "print('Found %s unique tokens.' % len(train_word_index))"
   ]
  },
  {
   "cell_type": "code",
   "execution_count": 217,
   "metadata": {},
   "outputs": [],
   "source": [
    "cnnTrainData = pad_sequences(training_sequences, maxlen=MAX_SEQUENCE_LENGTH)"
   ]
  },
  {
   "cell_type": "code",
   "execution_count": 218,
   "metadata": {},
   "outputs": [
    {
     "name": "stdout",
     "output_type": "stream",
     "text": [
      "(19048, 300)\n"
     ]
    }
   ],
   "source": [
    "train_embedding_weights = np.zeros((len(train_word_index)+1, EMBEDDING_DIM))\n",
    "for word,index in train_word_index.items():\n",
    "    train_embedding_weights[index,:] = word2vec[word] if word in word2vec else np.random.rand(EMBEDDING_DIM)\n",
    "print(train_embedding_weights.shape)"
   ]
  },
  {
   "cell_type": "code",
   "execution_count": 219,
   "metadata": {},
   "outputs": [],
   "source": [
    "test_sequences = tokenizer.texts_to_sequences(data_test[\"Text_Final\"].tolist())\n",
    "cnnTestData = pad_sequences(test_sequences, maxlen= MAX_SEQUENCE_LENGTH)"
   ]
  },
  {
   "cell_type": "markdown",
   "metadata": {},
   "source": [
    "### Define CNN"
   ]
  },
  {
   "cell_type": "markdown",
   "metadata": {},
   "source": [
    "The model is from the paper 'Convolutional Neural Networks for Sentence Classification' we have updated the network according to our requirement [1]"
   ]
  },
  {
   "cell_type": "code",
   "execution_count": 220,
   "metadata": {},
   "outputs": [],
   "source": [
    "label_names = ['0', '1', '2']"
   ]
  },
  {
   "cell_type": "code",
   "execution_count": 221,
   "metadata": {},
   "outputs": [],
   "source": [
    "def ConvolutionalNeuralNet(embeddings, max_sequence_length, num_words, embedding_dim, labels_index):\n",
    "    \n",
    "    # Embedding layer\n",
    "    embedding_layer = Embedding(num_words,\n",
    "                            embedding_dim,\n",
    "                            weights=[embeddings],\n",
    "                            input_length=max_sequence_length,\n",
    "                            trainable=False)\n",
    "    \n",
    "    sequence_input = Input(shape=(max_sequence_length,), dtype='int32')\n",
    "    embedded_sequences = embedding_layer(sequence_input)\n",
    "\n",
    "    convs = []\n",
    "    \n",
    "    #Kernal (window) size\n",
    "    filter_sizes = [2,3,4,5]\n",
    "\n",
    "    # Convolution Layer and max-pooling\n",
    "    for filter_size in filter_sizes:\n",
    "        l_conv = Conv1D(filters=512, kernel_size=filter_size, activation='relu')(embedded_sequences)\n",
    "        l_pool = GlobalMaxPooling1D()(l_conv)\n",
    "        convs.append(l_pool)\n",
    "        \n",
    "    l_merge = concatenate(convs, axis=1)\n",
    "    \n",
    "    # softmax layer for multiclass identification \n",
    "    x = Dropout(0.1)(l_merge)  \n",
    "    x = Dense(512, activation='relu')(x)\n",
    "    x = Dropout(0.2)(x)\n",
    "    preds = Dense(labels_index, activation='softmax')(x)\n",
    "\n",
    "    model = Model(sequence_input, preds)\n",
    "    model.compile(loss= 'categorical_crossentropy',\n",
    "                 optimizer = keras.optimizers.RMSprop(learning_rate=1e-3),\n",
    "#                    optimizer='adam',\n",
    "                  metrics=['accuracy'])\n",
    "    return model"
   ]
  },
  {
   "cell_type": "code",
   "execution_count": 222,
   "metadata": {},
   "outputs": [],
   "source": [
    "# Splitting train data into X_train and y_train\n",
    "y_train = data_train[label_names].values\n",
    "x_train = cnnTrainData\n",
    "y_tr = y_train"
   ]
  },
  {
   "cell_type": "code",
   "execution_count": 223,
   "metadata": {},
   "outputs": [],
   "source": [
    "# Splitting train data into X_test and y_test\n",
    "y_test = data_test[label_names].values\n",
    "x_test = cnnTestData\n",
    "y_tst = y_test"
   ]
  },
  {
   "cell_type": "code",
   "execution_count": 224,
   "metadata": {},
   "outputs": [],
   "source": [
    "model = ConvolutionalNeuralNet(train_embedding_weights, MAX_SEQUENCE_LENGTH, len(train_word_index)+1, EMBEDDING_DIM, len(list(label_names)))"
   ]
  },
  {
   "cell_type": "code",
   "execution_count": 225,
   "metadata": {},
   "outputs": [
    {
     "name": "stdout",
     "output_type": "stream",
     "text": [
      "Model: \"model_12\"\n",
      "__________________________________________________________________________________________________\n",
      "Layer (type)                    Output Shape         Param #     Connected to                     \n",
      "==================================================================================================\n",
      "input_13 (InputLayer)           [(None, 150)]        0                                            \n",
      "__________________________________________________________________________________________________\n",
      "embedding_12 (Embedding)        (None, 150, 300)     5714400     input_13[0][0]                   \n",
      "__________________________________________________________________________________________________\n",
      "conv1d_48 (Conv1D)              (None, 149, 512)     307712      embedding_12[0][0]               \n",
      "__________________________________________________________________________________________________\n",
      "conv1d_49 (Conv1D)              (None, 148, 512)     461312      embedding_12[0][0]               \n",
      "__________________________________________________________________________________________________\n",
      "conv1d_50 (Conv1D)              (None, 147, 512)     614912      embedding_12[0][0]               \n",
      "__________________________________________________________________________________________________\n",
      "conv1d_51 (Conv1D)              (None, 146, 512)     768512      embedding_12[0][0]               \n",
      "__________________________________________________________________________________________________\n",
      "global_max_pooling1d_48 (Global (None, 512)          0           conv1d_48[0][0]                  \n",
      "__________________________________________________________________________________________________\n",
      "global_max_pooling1d_49 (Global (None, 512)          0           conv1d_49[0][0]                  \n",
      "__________________________________________________________________________________________________\n",
      "global_max_pooling1d_50 (Global (None, 512)          0           conv1d_50[0][0]                  \n",
      "__________________________________________________________________________________________________\n",
      "global_max_pooling1d_51 (Global (None, 512)          0           conv1d_51[0][0]                  \n",
      "__________________________________________________________________________________________________\n",
      "concatenate_12 (Concatenate)    (None, 2048)         0           global_max_pooling1d_48[0][0]    \n",
      "                                                                 global_max_pooling1d_49[0][0]    \n",
      "                                                                 global_max_pooling1d_50[0][0]    \n",
      "                                                                 global_max_pooling1d_51[0][0]    \n",
      "__________________________________________________________________________________________________\n",
      "dropout_24 (Dropout)            (None, 2048)         0           concatenate_12[0][0]             \n",
      "__________________________________________________________________________________________________\n",
      "dense_24 (Dense)                (None, 512)          1049088     dropout_24[0][0]                 \n",
      "__________________________________________________________________________________________________\n",
      "dropout_25 (Dropout)            (None, 512)          0           dense_24[0][0]                   \n",
      "__________________________________________________________________________________________________\n",
      "dense_25 (Dense)                (None, 3)            1539        dropout_25[0][0]                 \n",
      "==================================================================================================\n",
      "Total params: 8,917,475\n",
      "Trainable params: 3,203,075\n",
      "Non-trainable params: 5,714,400\n",
      "__________________________________________________________________________________________________\n"
     ]
    }
   ],
   "source": [
    "model.summary()"
   ]
  },
  {
   "cell_type": "markdown",
   "metadata": {},
   "source": [
    "### Train CNN"
   ]
  },
  {
   "cell_type": "code",
   "execution_count": 226,
   "metadata": {},
   "outputs": [],
   "source": [
    "num_epochs = 10\n",
    "batch_size = 512"
   ]
  },
  {
   "cell_type": "code",
   "execution_count": 227,
   "metadata": {},
   "outputs": [
    {
     "name": "stdout",
     "output_type": "stream",
     "text": [
      "Epoch 1/10\n",
      "14/14 [==============================] - 40s 3s/step - loss: 6.1324 - accuracy: 0.3884 - val_loss: 1.0337 - val_accuracy: 0.5000\n",
      "Epoch 2/10\n",
      "14/14 [==============================] - 40s 3s/step - loss: 1.0226 - accuracy: 0.4730 - val_loss: 0.8967 - val_accuracy: 0.5720\n",
      "Epoch 3/10\n",
      "14/14 [==============================] - 40s 3s/step - loss: 0.8963 - accuracy: 0.5644 - val_loss: 0.8519 - val_accuracy: 0.5366\n",
      "Epoch 4/10\n",
      "14/14 [==============================] - 40s 3s/step - loss: 0.8836 - accuracy: 0.6225 - val_loss: 0.6149 - val_accuracy: 0.8005\n",
      "Epoch 5/10\n",
      "14/14 [==============================] - 40s 3s/step - loss: 0.5757 - accuracy: 0.7823 - val_loss: 0.5522 - val_accuracy: 0.7652\n",
      "Epoch 6/10\n",
      "14/14 [==============================] - 39s 3s/step - loss: 0.4023 - accuracy: 0.8479 - val_loss: 0.5276 - val_accuracy: 0.7828\n",
      "Epoch 7/10\n",
      "14/14 [==============================] - 40s 3s/step - loss: 0.4257 - accuracy: 0.8440 - val_loss: 0.4816 - val_accuracy: 0.8144\n",
      "Epoch 8/10\n",
      "14/14 [==============================] - 40s 3s/step - loss: 0.2861 - accuracy: 0.8937 - val_loss: 0.3697 - val_accuracy: 0.8472\n",
      "Epoch 9/10\n",
      "14/14 [==============================] - 40s 3s/step - loss: 0.2678 - accuracy: 0.8948 - val_loss: 0.3149 - val_accuracy: 0.8801\n",
      "Epoch 10/10\n",
      "14/14 [==============================] - 40s 3s/step - loss: 0.2726 - accuracy: 0.8916 - val_loss: 0.3246 - val_accuracy: 0.8699\n"
     ]
    }
   ],
   "source": [
    "history = model.fit(x_train, y_tr, epochs=num_epochs, validation_split=0.1, shuffle=True, batch_size=batch_size)"
   ]
  },
  {
   "cell_type": "code",
   "execution_count": 228,
   "metadata": {},
   "outputs": [
    {
     "name": "stdout",
     "output_type": "stream",
     "text": [
      "28/28 [==============================] - 2s 79ms/step - loss: 0.3057 - accuracy: 0.8966\n"
     ]
    }
   ],
   "source": [
    "# evaluate on test data\n",
    "results = model.evaluate(x_test, y_tst)"
   ]
  },
  {
   "cell_type": "code",
   "execution_count": 229,
   "metadata": {},
   "outputs": [
    {
     "name": "stdout",
     "output_type": "stream",
     "text": [
      "1/1 [==============================] - 0s 2ms/step\n"
     ]
    }
   ],
   "source": [
    "# predict model\n",
    "predictions = model.predict(cnnTestData, batch_size=1024, verbose=1)"
   ]
  },
  {
   "cell_type": "markdown",
   "metadata": {},
   "source": [
    "### Testing few sentences using our model"
   ]
  },
  {
   "cell_type": "code",
   "execution_count": 230,
   "metadata": {},
   "outputs": [],
   "source": [
    "\n",
    "labels = ['0', '1', '2']\n",
    "\n",
    "def makeprediction(texts):\n",
    "    tk = Tokenizer()\n",
    "    tk.fit_on_texts(texts)\n",
    "    index_list = tk.texts_to_sequences(texts)\n",
    "    x_train = pad_sequences(index_list, maxlen=150)\n",
    "    pred = model.predict(x_train)\n",
    "    result = labels[np.argmax(pred)]\n",
    "    return result"
   ]
  },
  {
   "cell_type": "code",
   "execution_count": 231,
   "metadata": {},
   "outputs": [],
   "source": [
    "prediction_labels=[]\n",
    "for p in predictions:\n",
    "    prediction_labels.append(labels[np.argmax(p)])"
   ]
  },
  {
   "cell_type": "code",
   "execution_count": 232,
   "metadata": {},
   "outputs": [
    {
     "data": {
      "text/plain": [
       "0.8965909090909091"
      ]
     },
     "execution_count": 232,
     "metadata": {},
     "output_type": "execute_result"
    }
   ],
   "source": [
    "sum(data_test.Label==prediction_labels)/len(prediction_labels)"
   ]
  },
  {
   "cell_type": "code",
   "execution_count": 233,
   "metadata": {},
   "outputs": [
    {
     "data": {
      "text/plain": [
       "2    341\n",
       "0    320\n",
       "1    219\n",
       "Name: Label, dtype: int64"
      ]
     },
     "execution_count": 233,
     "metadata": {},
     "output_type": "execute_result"
    }
   ],
   "source": [
    "data_test.Label.value_counts()"
   ]
  },
  {
   "cell_type": "code",
   "execution_count": 234,
   "metadata": {},
   "outputs": [
    {
     "data": {
      "image/png": "[encoded data removed]",
      "text/plain": [
       "<Figure size 432x288 with 2 Axes>"
      ]
     },
     "metadata": {
      "needs_background": "light"
     },
     "output_type": "display_data"
    }
   ],
   "source": [
    "plt.figure(1)\n",
    "# summarize history for accuracy\n",
    "plt.subplot(211)\n",
    "plt.plot(history.history['accuracy'])\n",
    "plt.plot(history.history['val_accuracy'])\n",
    "plt.title('model accuracy')\n",
    "plt.ylabel('accuracy')\n",
    "plt.xlabel('epoch')\n",
    "plt.legend(['train', 'val'], loc='upper left')\n",
    "# summarize history for loss\n",
    "plt.subplot(212)\n",
    "plt.plot(history.history['loss'])\n",
    "plt.plot(history.history['val_loss'])\n",
    "plt.title('model loss')\n",
    "plt.ylabel('loss')\n",
    "plt.xlabel('epoch')\n",
    "plt.legend(['train', 'val'], loc='upper left')\n",
    "plt.tight_layout()\n",
    "plt.show()"
   ]
  },
  {
   "cell_type": "code",
   "execution_count": 235,
   "metadata": {},
   "outputs": [
    {
     "name": "stdout",
     "output_type": "stream",
     "text": [
      "Confusion Matrix :\n",
      "[[275  23  22]\n",
      " [ 11 191  17]\n",
      " [  4  14 323]]\n",
      "Accuracy Score : 0.8965909090909091\n",
      "Report : \n",
      "              precision    recall  f1-score   support\n",
      "\n",
      "           0       0.95      0.86      0.90       320\n",
      "           1       0.84      0.87      0.85       219\n",
      "           2       0.89      0.95      0.92       341\n",
      "\n",
      "    accuracy                           0.90       880\n",
      "   macro avg       0.89      0.89      0.89       880\n",
      "weighted avg       0.90      0.90      0.90       880\n",
      "\n"
     ]
    }
   ],
   "source": [
    "results = confusion_matrix(data_test.Label, prediction_labels)\n",
    "print ('Confusion Matrix :')\n",
    "print(results) \n",
    "print ('Accuracy Score :',accuracy_score(data_test.Label, prediction_labels))\n",
    "print ('Report : ')\n",
    "print (classification_report(data_test.Label, prediction_labels))"
   ]
  },
  {
   "cell_type": "code",
   "execution_count": 236,
   "metadata": {},
   "outputs": [
    {
     "name": "stdout",
     "output_type": "stream",
     "text": [
      "                        Convolution Neural Network\n"
     ]
    },
    {
     "data": {
      "image/png": "[encoded data removed]",
      "text/plain": [
       "<Figure size 360x360 with 2 Axes>"
      ]
     },
     "metadata": {
      "needs_background": "light"
     },
     "output_type": "display_data"
    }
   ],
   "source": [
    "from sklearn.metrics import confusion_matrix\n",
    "print(\"                        Convolution Neural Network\")\n",
    "conf_mat = confusion_matrix(data_test.Label, prediction_labels)\n",
    "fig, ax = plt.subplots(figsize=(5,5))\n",
    "sns.heatmap(conf_mat, annot=True, fmt='d', cmap ='YlGnBu',\n",
    "            xticklabels=category_id_df.Label.values, yticklabels=category_id_df.Label.values)\n",
    "plt.ylabel('Actual')\n",
    "plt.xlabel('Predicted')\n",
    "plt.show()"
   ]
  },
  {
   "cell_type": "markdown",
   "metadata": {},
   "source": [
    "### Testing CNN using KFold cross validation"
   ]
  },
  {
   "cell_type": "code",
   "execution_count": 237,
   "metadata": {},
   "outputs": [
    {
     "name": "stdout",
     "output_type": "stream",
     "text": [
      "Fold:  1\n",
      "Epoch 1/5\n",
      "223/223 [==============================] - 53s 239ms/step - loss: 0.9047 - accuracy: 0.7106 - val_loss: 0.4819 - val_accuracy: 0.8106\n",
      "Epoch 2/5\n",
      "223/223 [==============================] - 52s 232ms/step - loss: 0.3006 - accuracy: 0.8871 - val_loss: 0.3281 - val_accuracy: 0.8914\n",
      "Epoch 3/5\n",
      "223/223 [==============================] - 53s 238ms/step - loss: 0.2379 - accuracy: 0.9167 - val_loss: 0.2789 - val_accuracy: 0.9053\n",
      "Epoch 4/5\n",
      "223/223 [==============================] - 54s 240ms/step - loss: 0.2019 - accuracy: 0.9334 - val_loss: 0.4728 - val_accuracy: 0.9141\n",
      "Epoch 5/5\n",
      "223/223 [==============================] - 54s 242ms/step - loss: 0.1844 - accuracy: 0.9360 - val_loss: 0.3457 - val_accuracy: 0.9192\n",
      "Results for current fold:\n",
      "7/7 [==============================] - 2s 235ms/step - loss: 0.2205 - accuracy: 0.9341\n",
      "Fold:  2\n",
      "Epoch 1/5\n",
      "223/223 [==============================] - 54s 242ms/step - loss: 0.9714 - accuracy: 0.6901 - val_loss: 0.3485 - val_accuracy: 0.8434\n",
      "Epoch 2/5\n",
      "223/223 [==============================] - 53s 240ms/step - loss: 0.3126 - accuracy: 0.8865 - val_loss: 0.3338 - val_accuracy: 0.8725\n",
      "Epoch 3/5\n",
      "223/223 [==============================] - 53s 240ms/step - loss: 0.2343 - accuracy: 0.9136 - val_loss: 0.4108 - val_accuracy: 0.8674\n",
      "Epoch 4/5\n",
      "223/223 [==============================] - 53s 238ms/step - loss: 0.2100 - accuracy: 0.9291 - val_loss: 0.2805 - val_accuracy: 0.8813\n",
      "Epoch 5/5\n",
      "223/223 [==============================] - 53s 238ms/step - loss: 0.1803 - accuracy: 0.9381 - val_loss: 0.2773 - val_accuracy: 0.9066\n",
      "Results for current fold:\n",
      "7/7 [==============================] - 2s 221ms/step - loss: 0.3229 - accuracy: 0.9261\n",
      "Fold:  3\n",
      "Epoch 1/5\n",
      "223/223 [==============================] - 55s 245ms/step - loss: 0.9362 - accuracy: 0.7069 - val_loss: 0.4742 - val_accuracy: 0.7727\n",
      "Epoch 2/5\n",
      "223/223 [==============================] - 56s 253ms/step - loss: 0.3068 - accuracy: 0.8837 - val_loss: 0.3029 - val_accuracy: 0.8952\n",
      "Epoch 3/5\n",
      "223/223 [==============================] - 91s 407ms/step - loss: 0.2376 - accuracy: 0.9194 - val_loss: 0.3018 - val_accuracy: 0.9129\n",
      "Epoch 4/5\n",
      "223/223 [==============================] - 96s 430ms/step - loss: 0.1945 - accuracy: 0.9330 - val_loss: 0.7029 - val_accuracy: 0.9015\n",
      "Epoch 5/5\n",
      "223/223 [==============================] - 97s 435ms/step - loss: 0.1736 - accuracy: 0.9371 - val_loss: 0.4105 - val_accuracy: 0.9104\n",
      "Results for current fold:\n",
      "7/7 [==============================] - 3s 481ms/step - loss: 0.4395 - accuracy: 0.8898\n",
      "Fold:  4\n",
      "Epoch 1/5\n",
      "223/223 [==============================] - 95s 425ms/step - loss: 0.9138 - accuracy: 0.7075 - val_loss: 0.3237 - val_accuracy: 0.8864\n",
      "Epoch 2/5\n",
      "223/223 [==============================] - 78s 348ms/step - loss: 0.3108 - accuracy: 0.8881 - val_loss: 0.5507 - val_accuracy: 0.8409\n",
      "Epoch 3/5\n",
      "223/223 [==============================] - 82s 366ms/step - loss: 0.2420 - accuracy: 0.9111 - val_loss: 0.4975 - val_accuracy: 0.8712\n",
      "Epoch 4/5\n",
      "223/223 [==============================] - 82s 366ms/step - loss: 0.2042 - accuracy: 0.9261 - val_loss: 0.2663 - val_accuracy: 0.9242\n",
      "Epoch 5/5\n",
      "223/223 [==============================] - 82s 368ms/step - loss: 0.1884 - accuracy: 0.9391 - val_loss: 0.3404 - val_accuracy: 0.9053\n",
      "Results for current fold:\n",
      "7/7 [==============================] - 3s 455ms/step - loss: 0.3955 - accuracy: 0.9159\n",
      "Fold:  5\n",
      "Epoch 1/5\n",
      "223/223 [==============================] - 83s 373ms/step - loss: 0.8906 - accuracy: 0.6981 - val_loss: 0.5049 - val_accuracy: 0.8081\n",
      "Epoch 2/5\n",
      "223/223 [==============================] - 81s 362ms/step - loss: 0.3141 - accuracy: 0.8841 - val_loss: 0.2679 - val_accuracy: 0.8902\n",
      "Epoch 3/5\n",
      "223/223 [==============================] - 84s 376ms/step - loss: 0.2498 - accuracy: 0.9152 - val_loss: 0.3121 - val_accuracy: 0.8737\n",
      "Epoch 4/5\n",
      "223/223 [==============================] - 84s 376ms/step - loss: 0.2012 - accuracy: 0.9267 - val_loss: 0.2514 - val_accuracy: 0.9192\n",
      "Epoch 5/5\n",
      "223/223 [==============================] - 83s 372ms/step - loss: 0.1880 - accuracy: 0.9346 - val_loss: 0.2163 - val_accuracy: 0.9167\n",
      "Results for current fold:\n",
      "7/7 [==============================] - 2s 348ms/step - loss: 0.3454 - accuracy: 0.9114\n",
      "Fold:  6\n",
      "Epoch 1/5\n",
      "223/223 [==============================] - 83s 371ms/step - loss: 0.8805 - accuracy: 0.7107 - val_loss: 0.2831 - val_accuracy: 0.8813\n",
      "Epoch 2/5\n",
      "223/223 [==============================] - 84s 378ms/step - loss: 0.3043 - accuracy: 0.8899 - val_loss: 0.2518 - val_accuracy: 0.9167\n",
      "Epoch 3/5\n",
      "223/223 [==============================] - 86s 385ms/step - loss: 0.2536 - accuracy: 0.9148 - val_loss: 0.2171 - val_accuracy: 0.9192\n",
      "Epoch 4/5\n",
      "223/223 [==============================] - 84s 379ms/step - loss: 0.2208 - accuracy: 0.9230 - val_loss: 0.2258 - val_accuracy: 0.9217\n",
      "Epoch 5/5\n",
      "223/223 [==============================] - 82s 367ms/step - loss: 0.1869 - accuracy: 0.9326 - val_loss: 0.8025 - val_accuracy: 0.8258\n",
      "Results for current fold:\n",
      "7/7 [==============================] - 3s 467ms/step - loss: 0.8950 - accuracy: 0.8091\n",
      "Fold:  7\n",
      "Epoch 1/5\n",
      "223/223 [==============================] - 86s 384ms/step - loss: 0.8919 - accuracy: 0.7099 - val_loss: 0.4407 - val_accuracy: 0.8396\n",
      "Epoch 2/5\n",
      "223/223 [==============================] - 85s 381ms/step - loss: 0.2969 - accuracy: 0.8902 - val_loss: 0.4604 - val_accuracy: 0.8636\n",
      "Epoch 3/5\n",
      "223/223 [==============================] - 81s 363ms/step - loss: 0.2328 - accuracy: 0.9187 - val_loss: 0.2565 - val_accuracy: 0.9078\n",
      "Epoch 4/5\n",
      "223/223 [==============================] - 85s 381ms/step - loss: 0.2076 - accuracy: 0.9271 - val_loss: 0.2805 - val_accuracy: 0.9154\n",
      "Epoch 5/5\n",
      "223/223 [==============================] - 87s 389ms/step - loss: 0.1895 - accuracy: 0.9372 - val_loss: 0.6870 - val_accuracy: 0.8169\n",
      "Results for current fold:\n",
      "7/7 [==============================] - 4s 536ms/step - loss: 0.6281 - accuracy: 0.8477\n",
      "Fold:  8\n",
      "Epoch 1/5\n",
      "223/223 [==============================] - 87s 390ms/step - loss: 1.0030 - accuracy: 0.6846 - val_loss: 0.3762 - val_accuracy: 0.8573\n",
      "Epoch 2/5\n",
      "223/223 [==============================] - 87s 390ms/step - loss: 0.3136 - accuracy: 0.8832 - val_loss: 0.2962 - val_accuracy: 0.8952\n",
      "Epoch 3/5\n",
      "223/223 [==============================] - 87s 389ms/step - loss: 0.2447 - accuracy: 0.9134 - val_loss: 0.4486 - val_accuracy: 0.8321\n",
      "Epoch 4/5\n",
      "223/223 [==============================] - 84s 379ms/step - loss: 0.1960 - accuracy: 0.9275 - val_loss: 0.2630 - val_accuracy: 0.9078\n",
      "Epoch 5/5\n",
      "223/223 [==============================] - 86s 388ms/step - loss: 0.1847 - accuracy: 0.9340 - val_loss: 0.3421 - val_accuracy: 0.9369\n",
      "Results for current fold:\n",
      "7/7 [==============================] - 3s 462ms/step - loss: 0.2601 - accuracy: 0.9295\n",
      "Fold:  9\n",
      "Epoch 1/5\n",
      "223/223 [==============================] - 88s 392ms/step - loss: 0.9094 - accuracy: 0.7068 - val_loss: 0.3853 - val_accuracy: 0.8699\n",
      "Epoch 2/5\n",
      "223/223 [==============================] - 88s 394ms/step - loss: 0.3258 - accuracy: 0.8829 - val_loss: 0.3080 - val_accuracy: 0.9078\n",
      "Epoch 3/5\n",
      "223/223 [==============================] - 88s 393ms/step - loss: 0.2375 - accuracy: 0.9167 - val_loss: 0.3693 - val_accuracy: 0.8864\n",
      "Epoch 4/5\n",
      "223/223 [==============================] - 88s 393ms/step - loss: 0.2033 - accuracy: 0.9306 - val_loss: 0.2550 - val_accuracy: 0.9318\n",
      "Epoch 5/5\n",
      "223/223 [==============================] - 88s 393ms/step - loss: 0.1837 - accuracy: 0.9351 - val_loss: 0.2935 - val_accuracy: 0.9419\n",
      "Results for current fold:\n",
      "7/7 [==============================] - 3s 452ms/step - loss: 0.3996 - accuracy: 0.9102\n",
      "Fold:  10\n",
      "Epoch 1/5\n",
      "223/223 [==============================] - 86s 385ms/step - loss: 0.9597 - accuracy: 0.7062 - val_loss: 0.3532 - val_accuracy: 0.8624\n",
      "Epoch 2/5\n",
      "223/223 [==============================] - 88s 394ms/step - loss: 0.3037 - accuracy: 0.8882 - val_loss: 0.2671 - val_accuracy: 0.9040\n",
      "Epoch 3/5\n",
      "223/223 [==============================] - 88s 393ms/step - loss: 0.2301 - accuracy: 0.9188 - val_loss: 0.2645 - val_accuracy: 0.9028\n",
      "Epoch 4/5\n",
      "223/223 [==============================] - 88s 394ms/step - loss: 0.1968 - accuracy: 0.9289 - val_loss: 0.4171 - val_accuracy: 0.8939\n",
      "Epoch 5/5\n",
      "223/223 [==============================] - 63s 282ms/step - loss: 0.1829 - accuracy: 0.9346 - val_loss: 0.4127 - val_accuracy: 0.9040\n",
      "Results for current fold:\n",
      "7/7 [==============================] - 2s 267ms/step - loss: 0.3400 - accuracy: 0.9148\n"
     ]
    }
   ],
   "source": [
    "from sklearn.model_selection import StratifiedKFold\n",
    "from scipy.stats import zscore\n",
    "from sklearn import metrics\n",
    "import tensorflow as tf\n",
    "import random\n",
    "\n",
    "f_score=[]\n",
    "fold = 10\n",
    "label_names = ['0', '1', '2']\n",
    "num_epochs = 5\n",
    "batch_size = 32\n",
    "#oos_y = []\n",
    "#oos_pred = []\n",
    "results = []\n",
    "#for train, test in kf.split(data[\"tokens\"], data['Label']):\n",
    "\n",
    "for i in range(fold):\n",
    "    print(\"Fold: \", i+1)\n",
    "    random_num = np.random.randint(1,7000, 1)[0]\n",
    "    data_train, data_test = train_test_split(data, test_size=0.10, shuffle = True, random_state = random_num)\n",
    "\n",
    "    # # total training words\n",
    "    totalTrainingWords = [word for tokens in data_train[\"tokens\"] for word in tokens]\n",
    "\n",
    "    # # Storing Length of the training sentence\n",
    "    lengthTrainingSentences = [len(tokens) for tokens in data_train[\"tokens\"]]\n",
    "\n",
    "    # # training Vocabulary size\n",
    "    trainingVocabSize = sorted(list(set(totalTrainingWords)))\n",
    "\n",
    "    ## Total number of lines\n",
    "    linesCount = len(data_train[\"tokens\"])\n",
    "    \n",
    "    tokenizer = Tokenizer(num_words=len(trainingVocabSize), lower=True, char_level=False)\n",
    "    tokenizer.fit_on_texts(data_train[\"Text_Final\"].tolist())\n",
    "    training_sequences = tokenizer.texts_to_sequences(data_train[\"Text_Final\"].tolist())\n",
    "\n",
    "    train_word_index = tokenizer.word_index\n",
    "    cnnTrainData = pad_sequences(training_sequences, maxlen=MAX_SEQUENCE_LENGTH)\n",
    "    \n",
    "    train_embedding_weights = np.zeros((len(train_word_index)+1, EMBEDDING_DIM))\n",
    "    \n",
    "    for word,index in train_word_index.items():\n",
    "        train_embedding_weights[index,:] = word2vec[word] if word in word2vec else np.random.rand(EMBEDDING_DIM)\n",
    "        \n",
    "    test_sequences = tokenizer.texts_to_sequences(data_test[\"Text_Final\"].tolist())\n",
    "    cnnTestData = pad_sequences(test_sequences, maxlen= MAX_SEQUENCE_LENGTH)\n",
    "    \n",
    "    # Splitting train data into X_train and y_train\n",
    "    y_train = data_train[label_names].values\n",
    "    x_train = cnnTrainData\n",
    "    y_tr = y_train\n",
    "    \n",
    "    # Splitting train data into X_test and y_test\n",
    "    y_test = data_test[label_names].values\n",
    "    x_test = cnnTestData\n",
    "    y_tst = y_test\n",
    "    \n",
    "    # create model\n",
    "    model = ConvolutionalNeuralNet(train_embedding_weights, MAX_SEQUENCE_LENGTH, len(train_word_index)+1, EMBEDDING_DIM, len(list(label_names)))\n",
    "    \n",
    "    #Train Model\n",
    "    history = model.fit(x_train, y_tr, epochs=num_epochs, validation_split=0.1, shuffle=True, batch_size=batch_size)\n",
    "      \n",
    "    # model evaluate\n",
    "    \n",
    "    print(\"Results for current fold:\")\n",
    "    results.append(model.evaluate(x_test, y_tst, batch_size=128))\n",
    "\n",
    "model.save('model_CNN.h5')    "
   ]
  },
  {
   "cell_type": "code",
   "execution_count": 238,
   "metadata": {},
   "outputs": [
    {
     "name": "stdout",
     "output_type": "stream",
     "text": [
      "Kfold Mean:  0.8988636493682861\n"
     ]
    }
   ],
   "source": [
    "import statistics \n",
    "\n",
    "score = []\n",
    "for i in results:\n",
    "    score.append(i[1])\n",
    "x = statistics.mean(score)\n",
    "    \n",
    "print(\"Kfold Mean: \", x)"
   ]
  },
  {
   "cell_type": "code",
   "execution_count": 239,
   "metadata": {},
   "outputs": [],
   "source": [
    "# Prediction \n",
    "# translator\n",
    "translator = Translator()"
   ]
  },
  {
   "cell_type": "code",
   "execution_count": 240,
   "metadata": {},
   "outputs": [
    {
     "name": "stdout",
     "output_type": "stream",
     "text": [
      "0\n"
     ]
    }
   ],
   "source": [
    "# 0\n",
    "texts = [\"Sachin: Once there was a fight between Yusuf and Bhajji. Sehwag: Paji, was he Muhammad Yusuf or Yusuf Youhana at that time. This man will not let him live even after retirement.\"]\n",
    "print(makeprediction(texts))"
   ]
  },
  {
   "cell_type": "code",
   "execution_count": 241,
   "metadata": {},
   "outputs": [
    {
     "name": "stdout",
     "output_type": "stream",
     "text": [
      "2\n"
     ]
    }
   ],
   "source": [
    "# 2\n",
    "texts = [\"@_ROB_29 If this was a Muslim girl in Afghanistan you'd call her a terrorist\"]\n",
    "print(makeprediction(texts))"
   ]
  },
  {
   "cell_type": "code",
   "execution_count": 242,
   "metadata": {},
   "outputs": [
    {
     "name": "stdout",
     "output_type": "stream",
     "text": [
      "Predicted Label:  2\n"
     ]
    }
   ],
   "source": [
    "# 2\n",
    "hin_text =  \"'गाजा में दीवाली   की ढेरो बधाई मित्रो 😊💐  #IsraeliBombing 😂😂\"\n",
    "texts = [hin_text]\n",
    "print('Predicted Label: ',makeprediction(texts))"
   ]
  },
  {
   "cell_type": "code",
   "execution_count": 243,
   "metadata": {},
   "outputs": [
    {
     "name": "stdout",
     "output_type": "stream",
     "text": [
      "Predicted Label:  0\n"
     ]
    }
   ],
   "source": [
    "# 0\n",
    "hin_text =  \" समाज वादी  पार्टी  जिंदाबाद \"\n",
    "\n",
    "texts = [hin_text]\n",
    "print('Predicted Label: ',makeprediction(texts))"
   ]
  },
  {
   "cell_type": "code",
   "execution_count": 244,
   "metadata": {},
   "outputs": [
    {
     "name": "stdout",
     "output_type": "stream",
     "text": [
      "Predicted Label:  0\n"
     ]
    }
   ],
   "source": [
    "# 1\n",
    "hin_text =  \"इसलाम सुंदर है\"\n",
    "texts = [hin_text]\n",
    "print('Predicted Label: ',makeprediction(texts))"
   ]
  },
  {
   "cell_type": "markdown",
   "metadata": {},
   "source": [
    "### Reference\n",
    "[1] \"Convolutional Neural Networks for Sentence Classification\" by Yoon Kim\n"
   ]
  },
  {
   "cell_type": "code",
   "execution_count": null,
   "metadata": {},
   "outputs": [],
   "source": []
  }
 ],
 "metadata": {
  "kernelspec": {
   "display_name": "Python 3",
   "language": "python",
   "name": "python3"
  },
  "language_info": {
   "codemirror_mode": {
    "name": "ipython",
    "version": 3
   },
   "file_extension": ".py",
   "mimetype": "text/x-python",
   "name": "python",
   "nbconvert_exporter": "python",
   "pygments_lexer": "ipython3",
   "version": "3.8.5"
  }
 },
 "nbformat": 4,
 "nbformat_minor": 4
}
