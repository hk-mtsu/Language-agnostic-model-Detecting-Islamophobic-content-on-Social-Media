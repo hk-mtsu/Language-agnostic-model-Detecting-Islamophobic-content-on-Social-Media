{
  "nbformat": 4,
  "nbformat_minor": 0,
  "metadata": {
    "colab": {
      "name": "mBert_Hindi_balanced.ipynb",
      "provenance": [],
      "collapsed_sections": [],
      "toc_visible": true,
      "machine_shape": "hm"
    },
    "kernelspec": {
      "name": "python3",
      "display_name": "Python 3"
    },
    "accelerator": "GPU"
  },
  "cells": [
    {
      "cell_type": "markdown",
      "metadata": {
        "id": "ROSg9T9EzYDf",
        "colab_type": "text"
      },
      "source": [
        "# Islamophhobia Detection with mBERT using Keras and TensorFlow 2\n",
        "\n"
      ]
    },
    {
      "cell_type": "code",
      "metadata": {
        "id": "LV210YNdrKIi",
        "colab_type": "code",
        "colab": {
          "base_uri": "https://localhost:8080/",
          "height": 353
        },
        "outputId": "f961c175-0e3b-4339-9216-d4e7d183aa39"
      },
      "source": [
        "!nvidia-smi"
      ],
      "execution_count": 1,
      "outputs": [
        {
          "output_type": "stream",
          "text": [
            "Thu Sep 17 23:26:27 2020       \n",
            "+-----------------------------------------------------------------------------+\n",
            "| NVIDIA-SMI 450.66       Driver Version: 418.67       CUDA Version: 10.1     |\n",
            "|-------------------------------+----------------------+----------------------+\n",
            "| GPU  Name        Persistence-M| Bus-Id        Disp.A | Volatile Uncorr. ECC |\n",
            "| Fan  Temp  Perf  Pwr:Usage/Cap|         Memory-Usage | GPU-Util  Compute M. |\n",
            "|                               |                      |               MIG M. |\n",
            "|===============================+======================+======================|\n",
            "|   0  Tesla V100-SXM2...  Off  | 00000000:00:04.0 Off |                    0 |\n",
            "| N/A   35C    P0    25W / 300W |      0MiB / 16130MiB |      0%      Default |\n",
            "|                               |                      |                 ERR! |\n",
            "+-------------------------------+----------------------+----------------------+\n",
            "                                                                               \n",
            "+-----------------------------------------------------------------------------+\n",
            "| Processes:                                                                  |\n",
            "|  GPU   GI   CI        PID   Type   Process name                  GPU Memory |\n",
            "|        ID   ID                                                   Usage      |\n",
            "|=============================================================================|\n",
            "|  No running processes found                                                 |\n",
            "+-----------------------------------------------------------------------------+\n"
          ],
          "name": "stdout"
        }
      ]
    },
    {
      "cell_type": "code",
      "metadata": {
        "id": "WaaST8ILn0oN",
        "colab_type": "code",
        "colab": {
          "base_uri": "https://localhost:8080/",
          "height": 726
        },
        "outputId": "cf901cd4-52d7-4106-dac2-45256d392726"
      },
      "source": [
        "!pip install tensorflow-gpu "
      ],
      "execution_count": 2,
      "outputs": [
        {
          "output_type": "stream",
          "text": [
            "Collecting tensorflow-gpu\n",
            "\u001b[?25l  Downloading https://files.pythonhosted.org/packages/0f/11/763f55d3d15efd778ef24453f126e6c33635680e5a2bb346da3fab5997cb/tensorflow_gpu-2.3.0-cp36-cp36m-manylinux2010_x86_64.whl (320.4MB)\n",
            "\u001b[K     |████████████████████████████████| 320.4MB 44kB/s \n",
            "\u001b[?25hRequirement already satisfied: google-pasta>=0.1.8 in /usr/local/lib/python3.6/dist-packages (from tensorflow-gpu) (0.2.0)\n",
            "Requirement already satisfied: gast==0.3.3 in /usr/local/lib/python3.6/dist-packages (from tensorflow-gpu) (0.3.3)\n",
            "Requirement already satisfied: tensorboard<3,>=2.3.0 in /usr/local/lib/python3.6/dist-packages (from tensorflow-gpu) (2.3.0)\n",
            "Requirement already satisfied: protobuf>=3.9.2 in /usr/local/lib/python3.6/dist-packages (from tensorflow-gpu) (3.12.4)\n",
            "Requirement already satisfied: six>=1.12.0 in /usr/local/lib/python3.6/dist-packages (from tensorflow-gpu) (1.15.0)\n",
            "Requirement already satisfied: numpy<1.19.0,>=1.16.0 in /usr/local/lib/python3.6/dist-packages (from tensorflow-gpu) (1.18.5)\n",
            "Requirement already satisfied: absl-py>=0.7.0 in /usr/local/lib/python3.6/dist-packages (from tensorflow-gpu) (0.10.0)\n",
            "Requirement already satisfied: grpcio>=1.8.6 in /usr/local/lib/python3.6/dist-packages (from tensorflow-gpu) (1.32.0)\n",
            "Requirement already satisfied: keras-preprocessing<1.2,>=1.1.1 in /usr/local/lib/python3.6/dist-packages (from tensorflow-gpu) (1.1.2)\n",
            "Requirement already satisfied: scipy==1.4.1 in /usr/local/lib/python3.6/dist-packages (from tensorflow-gpu) (1.4.1)\n",
            "Requirement already satisfied: opt-einsum>=2.3.2 in /usr/local/lib/python3.6/dist-packages (from tensorflow-gpu) (3.3.0)\n",
            "Requirement already satisfied: h5py<2.11.0,>=2.10.0 in /usr/local/lib/python3.6/dist-packages (from tensorflow-gpu) (2.10.0)\n",
            "Requirement already satisfied: tensorflow-estimator<2.4.0,>=2.3.0 in /usr/local/lib/python3.6/dist-packages (from tensorflow-gpu) (2.3.0)\n",
            "Requirement already satisfied: termcolor>=1.1.0 in /usr/local/lib/python3.6/dist-packages (from tensorflow-gpu) (1.1.0)\n",
            "Requirement already satisfied: astunparse==1.6.3 in /usr/local/lib/python3.6/dist-packages (from tensorflow-gpu) (1.6.3)\n",
            "Requirement already satisfied: wheel>=0.26 in /usr/local/lib/python3.6/dist-packages (from tensorflow-gpu) (0.35.1)\n",
            "Requirement already satisfied: wrapt>=1.11.1 in /usr/local/lib/python3.6/dist-packages (from tensorflow-gpu) (1.12.1)\n",
            "Requirement already satisfied: google-auth-oauthlib<0.5,>=0.4.1 in /usr/local/lib/python3.6/dist-packages (from tensorboard<3,>=2.3.0->tensorflow-gpu) (0.4.1)\n",
            "Requirement already satisfied: markdown>=2.6.8 in /usr/local/lib/python3.6/dist-packages (from tensorboard<3,>=2.3.0->tensorflow-gpu) (3.2.2)\n",
            "Requirement already satisfied: tensorboard-plugin-wit>=1.6.0 in /usr/local/lib/python3.6/dist-packages (from tensorboard<3,>=2.3.0->tensorflow-gpu) (1.7.0)\n",
            "Requirement already satisfied: google-auth<2,>=1.6.3 in /usr/local/lib/python3.6/dist-packages (from tensorboard<3,>=2.3.0->tensorflow-gpu) (1.17.2)\n",
            "Requirement already satisfied: werkzeug>=0.11.15 in /usr/local/lib/python3.6/dist-packages (from tensorboard<3,>=2.3.0->tensorflow-gpu) (1.0.1)\n",
            "Requirement already satisfied: requests<3,>=2.21.0 in /usr/local/lib/python3.6/dist-packages (from tensorboard<3,>=2.3.0->tensorflow-gpu) (2.23.0)\n",
            "Requirement already satisfied: setuptools>=41.0.0 in /usr/local/lib/python3.6/dist-packages (from tensorboard<3,>=2.3.0->tensorflow-gpu) (50.3.0)\n",
            "Requirement already satisfied: requests-oauthlib>=0.7.0 in /usr/local/lib/python3.6/dist-packages (from google-auth-oauthlib<0.5,>=0.4.1->tensorboard<3,>=2.3.0->tensorflow-gpu) (1.3.0)\n",
            "Requirement already satisfied: importlib-metadata; python_version < \"3.8\" in /usr/local/lib/python3.6/dist-packages (from markdown>=2.6.8->tensorboard<3,>=2.3.0->tensorflow-gpu) (1.7.0)\n",
            "Requirement already satisfied: cachetools<5.0,>=2.0.0 in /usr/local/lib/python3.6/dist-packages (from google-auth<2,>=1.6.3->tensorboard<3,>=2.3.0->tensorflow-gpu) (4.1.1)\n",
            "Requirement already satisfied: rsa<5,>=3.1.4; python_version >= \"3\" in /usr/local/lib/python3.6/dist-packages (from google-auth<2,>=1.6.3->tensorboard<3,>=2.3.0->tensorflow-gpu) (4.6)\n",
            "Requirement already satisfied: pyasn1-modules>=0.2.1 in /usr/local/lib/python3.6/dist-packages (from google-auth<2,>=1.6.3->tensorboard<3,>=2.3.0->tensorflow-gpu) (0.2.8)\n",
            "Requirement already satisfied: chardet<4,>=3.0.2 in /usr/local/lib/python3.6/dist-packages (from requests<3,>=2.21.0->tensorboard<3,>=2.3.0->tensorflow-gpu) (3.0.4)\n",
            "Requirement already satisfied: urllib3!=1.25.0,!=1.25.1,<1.26,>=1.21.1 in /usr/local/lib/python3.6/dist-packages (from requests<3,>=2.21.0->tensorboard<3,>=2.3.0->tensorflow-gpu) (1.24.3)\n",
            "Requirement already satisfied: idna<3,>=2.5 in /usr/local/lib/python3.6/dist-packages (from requests<3,>=2.21.0->tensorboard<3,>=2.3.0->tensorflow-gpu) (2.10)\n",
            "Requirement already satisfied: certifi>=2017.4.17 in /usr/local/lib/python3.6/dist-packages (from requests<3,>=2.21.0->tensorboard<3,>=2.3.0->tensorflow-gpu) (2020.6.20)\n",
            "Requirement already satisfied: oauthlib>=3.0.0 in /usr/local/lib/python3.6/dist-packages (from requests-oauthlib>=0.7.0->google-auth-oauthlib<0.5,>=0.4.1->tensorboard<3,>=2.3.0->tensorflow-gpu) (3.1.0)\n",
            "Requirement already satisfied: zipp>=0.5 in /usr/local/lib/python3.6/dist-packages (from importlib-metadata; python_version < \"3.8\"->markdown>=2.6.8->tensorboard<3,>=2.3.0->tensorflow-gpu) (3.1.0)\n",
            "Requirement already satisfied: pyasn1>=0.1.3 in /usr/local/lib/python3.6/dist-packages (from rsa<5,>=3.1.4; python_version >= \"3\"->google-auth<2,>=1.6.3->tensorboard<3,>=2.3.0->tensorflow-gpu) (0.4.8)\n",
            "Installing collected packages: tensorflow-gpu\n",
            "Successfully installed tensorflow-gpu-2.3.0\n"
          ],
          "name": "stdout"
        }
      ]
    },
    {
      "cell_type": "code",
      "metadata": {
        "id": "WTWu7zZeKhfV",
        "colab_type": "code",
        "colab": {
          "base_uri": "https://localhost:8080/",
          "height": 50
        },
        "outputId": "1be87c98-cdd0-47a0-9bd7-437207c78830"
      },
      "source": [
        "!pip install --upgrade grpcio"
      ],
      "execution_count": 3,
      "outputs": [
        {
          "output_type": "stream",
          "text": [
            "Requirement already up-to-date: grpcio in /usr/local/lib/python3.6/dist-packages (1.32.0)\n",
            "Requirement already satisfied, skipping upgrade: six>=1.5.2 in /usr/local/lib/python3.6/dist-packages (from grpcio) (1.15.0)\n"
          ],
          "name": "stdout"
        }
      ]
    },
    {
      "cell_type": "code",
      "metadata": {
        "id": "zCRkokr-n26J",
        "colab_type": "code",
        "colab": {
          "base_uri": "https://localhost:8080/",
          "height": 34
        },
        "outputId": "e5484e88-d154-44b5-9a42-870a8c1fac2a"
      },
      "source": [
        "!pip install tqdm"
      ],
      "execution_count": 4,
      "outputs": [
        {
          "output_type": "stream",
          "text": [
            "Requirement already satisfied: tqdm in /usr/local/lib/python3.6/dist-packages (4.41.1)\n"
          ],
          "name": "stdout"
        }
      ]
    },
    {
      "cell_type": "code",
      "metadata": {
        "id": "-zgaripn6hjX",
        "colab_type": "code",
        "colab": {
          "base_uri": "https://localhost:8080/",
          "height": 406
        },
        "outputId": "0963e1d1-afa7-426c-dd27-9fdf773ac548"
      },
      "source": [
        "!pip install bert-for-tf2"
      ],
      "execution_count": 5,
      "outputs": [
        {
          "output_type": "stream",
          "text": [
            "Collecting bert-for-tf2\n",
            "\u001b[?25l  Downloading https://files.pythonhosted.org/packages/af/c1/015648a2186b25c6de79d15bec40d3d946fcf1dd5067d1c1b28009506486/bert-for-tf2-0.14.6.tar.gz (40kB)\n",
            "\r\u001b[K     |████████                        | 10kB 17.8MB/s eta 0:00:01\r\u001b[K     |████████████████                | 20kB 6.4MB/s eta 0:00:01\r\u001b[K     |████████████████████████▏       | 30kB 7.7MB/s eta 0:00:01\r\u001b[K     |████████████████████████████████| 40kB 3.5MB/s \n",
            "\u001b[?25hCollecting py-params>=0.9.6\n",
            "  Downloading https://files.pythonhosted.org/packages/a4/bf/c1c70d5315a8677310ea10a41cfc41c5970d9b37c31f9c90d4ab98021fd1/py-params-0.9.7.tar.gz\n",
            "Collecting params-flow>=0.8.0\n",
            "  Downloading https://files.pythonhosted.org/packages/a9/95/ff49f5ebd501f142a6f0aaf42bcfd1c192dc54909d1d9eb84ab031d46056/params-flow-0.8.2.tar.gz\n",
            "Requirement already satisfied: numpy in /usr/local/lib/python3.6/dist-packages (from params-flow>=0.8.0->bert-for-tf2) (1.18.5)\n",
            "Requirement already satisfied: tqdm in /usr/local/lib/python3.6/dist-packages (from params-flow>=0.8.0->bert-for-tf2) (4.41.1)\n",
            "Building wheels for collected packages: bert-for-tf2, py-params, params-flow\n",
            "  Building wheel for bert-for-tf2 (setup.py) ... \u001b[?25l\u001b[?25hdone\n",
            "  Created wheel for bert-for-tf2: filename=bert_for_tf2-0.14.6-cp36-none-any.whl size=30318 sha256=f8006648a0f3011a32597b783179f9ad45ebac011d3707a8ca423d078c3c90e5\n",
            "  Stored in directory: /root/.cache/pip/wheels/07/a0/b4/75b0601ebaa41e517a797fe9cea119c789664c8408f8a74ae9\n",
            "  Building wheel for py-params (setup.py) ... \u001b[?25l\u001b[?25hdone\n",
            "  Created wheel for py-params: filename=py_params-0.9.7-cp36-none-any.whl size=7304 sha256=5cb825fa0241af476be9233612a08973ce8e8f5d93f9a680ab2be9fce516fbaa\n",
            "  Stored in directory: /root/.cache/pip/wheels/67/f5/19/b461849a50aefdf4bab47c4756596e82ee2118b8278e5a1980\n",
            "  Building wheel for params-flow (setup.py) ... \u001b[?25l\u001b[?25hdone\n",
            "  Created wheel for params-flow: filename=params_flow-0.8.2-cp36-none-any.whl size=19475 sha256=09b969858151bdfa8f4d3017199775489cd9864b7c8cf3e062b71295293e3b74\n",
            "  Stored in directory: /root/.cache/pip/wheels/08/c8/7f/81c86b9ff2b86e2c477e3914175be03e679e596067dc630c06\n",
            "Successfully built bert-for-tf2 py-params params-flow\n",
            "Installing collected packages: py-params, params-flow, bert-for-tf2\n",
            "Successfully installed bert-for-tf2-0.14.6 params-flow-0.8.2 py-params-0.9.7\n"
          ],
          "name": "stdout"
        }
      ]
    },
    {
      "cell_type": "code",
      "metadata": {
        "id": "_8BBTklbot7T",
        "colab_type": "code",
        "colab": {
          "base_uri": "https://localhost:8080/",
          "height": 759
        },
        "outputId": "bb0382d7-416c-4ef1-965b-3029cf37b10d"
      },
      "source": [
        "!pip install googletrans"
      ],
      "execution_count": 6,
      "outputs": [
        {
          "output_type": "stream",
          "text": [
            "Collecting googletrans\n",
            "  Downloading https://files.pythonhosted.org/packages/71/3a/3b19effdd4c03958b90f40fe01c93de6d5280e03843cc5adf6956bfc9512/googletrans-3.0.0.tar.gz\n",
            "Collecting httpx==0.13.3\n",
            "\u001b[?25l  Downloading https://files.pythonhosted.org/packages/54/b4/698b284c6aed4d7c2b4fe3ba5df1fcf6093612423797e76fbb24890dd22f/httpx-0.13.3-py3-none-any.whl (55kB)\n",
            "\u001b[K     |████████████████████████████████| 61kB 5.2MB/s \n",
            "\u001b[?25hRequirement already satisfied: idna==2.* in /usr/local/lib/python3.6/dist-packages (from httpx==0.13.3->googletrans) (2.10)\n",
            "Collecting hstspreload\n",
            "\u001b[?25l  Downloading https://files.pythonhosted.org/packages/f1/2c/239483f451d2558ac2e23128b144cc117fb2ba1e8f516e7f781dd3d4951a/hstspreload-2020.9.15-py3-none-any.whl (956kB)\n",
            "\u001b[K     |████████████████████████████████| 962kB 20.4MB/s \n",
            "\u001b[?25hCollecting rfc3986<2,>=1.3\n",
            "  Downloading https://files.pythonhosted.org/packages/78/be/7b8b99fd74ff5684225f50dd0e865393d2265656ef3b4ba9eaaaffe622b8/rfc3986-1.4.0-py2.py3-none-any.whl\n",
            "Collecting httpcore==0.9.*\n",
            "\u001b[?25l  Downloading https://files.pythonhosted.org/packages/dd/d5/e4ff9318693ac6101a2095e580908b591838c6f33df8d3ee8dd953ba96a8/httpcore-0.9.1-py3-none-any.whl (42kB)\n",
            "\u001b[K     |████████████████████████████████| 51kB 7.0MB/s \n",
            "\u001b[?25hRequirement already satisfied: certifi in /usr/local/lib/python3.6/dist-packages (from httpx==0.13.3->googletrans) (2020.6.20)\n",
            "Collecting sniffio\n",
            "  Downloading https://files.pythonhosted.org/packages/b3/82/4bd4b7d9c0d1dc0fbfbc2a1e00138e7f3ab85bc239358fe9b78aa2ab586d/sniffio-1.1.0-py3-none-any.whl\n",
            "Requirement already satisfied: chardet==3.* in /usr/local/lib/python3.6/dist-packages (from httpx==0.13.3->googletrans) (3.0.4)\n",
            "Collecting h11<0.10,>=0.8\n",
            "\u001b[?25l  Downloading https://files.pythonhosted.org/packages/5a/fd/3dad730b0f95e78aeeb742f96fa7bbecbdd56a58e405d3da440d5bfb90c6/h11-0.9.0-py2.py3-none-any.whl (53kB)\n",
            "\u001b[K     |████████████████████████████████| 61kB 8.1MB/s \n",
            "\u001b[?25hCollecting h2==3.*\n",
            "\u001b[?25l  Downloading https://files.pythonhosted.org/packages/25/de/da019bcc539eeab02f6d45836f23858ac467f584bfec7a526ef200242afe/h2-3.2.0-py2.py3-none-any.whl (65kB)\n",
            "\u001b[K     |████████████████████████████████| 71kB 8.4MB/s \n",
            "\u001b[?25hCollecting contextvars>=2.1; python_version < \"3.7\"\n",
            "  Downloading https://files.pythonhosted.org/packages/83/96/55b82d9f13763be9d672622e1b8106c85acb83edd7cc2fa5bc67cd9877e9/contextvars-2.4.tar.gz\n",
            "Collecting hyperframe<6,>=5.2.0\n",
            "  Downloading https://files.pythonhosted.org/packages/19/0c/bf88182bcb5dce3094e2f3e4fe20db28a9928cb7bd5b08024030e4b140db/hyperframe-5.2.0-py2.py3-none-any.whl\n",
            "Collecting hpack<4,>=3.0\n",
            "  Downloading https://files.pythonhosted.org/packages/8a/cc/e53517f4a1e13f74776ca93271caef378dadec14d71c61c949d759d3db69/hpack-3.0.0-py2.py3-none-any.whl\n",
            "Collecting immutables>=0.9\n",
            "\u001b[?25l  Downloading https://files.pythonhosted.org/packages/99/e0/ea6fd4697120327d26773b5a84853f897a68e33d3f9376b00a8ff96e4f63/immutables-0.14-cp36-cp36m-manylinux1_x86_64.whl (98kB)\n",
            "\u001b[K     |████████████████████████████████| 102kB 12.2MB/s \n",
            "\u001b[?25hBuilding wheels for collected packages: googletrans, contextvars\n",
            "  Building wheel for googletrans (setup.py) ... \u001b[?25l\u001b[?25hdone\n",
            "  Created wheel for googletrans: filename=googletrans-3.0.0-cp36-none-any.whl size=15736 sha256=8f21e5f712ea754450938237972aa55b8b273314b0695132b154f53e2b65fd7a\n",
            "  Stored in directory: /root/.cache/pip/wheels/28/1a/a7/eaf4d7a3417a0c65796c547cff4deb6d79c7d14c2abd29273e\n",
            "  Building wheel for contextvars (setup.py) ... \u001b[?25l\u001b[?25hdone\n",
            "  Created wheel for contextvars: filename=contextvars-2.4-cp36-none-any.whl size=7666 sha256=49b2de0d684037f9fcd90c1ae0583d30952df15ed4e84056d99d6a9ab233e753\n",
            "  Stored in directory: /root/.cache/pip/wheels/a5/7d/68/1ebae2668bda2228686e3c1cf16f2c2384cea6e9334ad5f6de\n",
            "Successfully built googletrans contextvars\n",
            "Installing collected packages: hstspreload, rfc3986, h11, hyperframe, hpack, h2, immutables, contextvars, sniffio, httpcore, httpx, googletrans\n",
            "Successfully installed contextvars-2.4 googletrans-3.0.0 h11-0.9.0 h2-3.2.0 hpack-3.0.0 hstspreload-2020.9.15 httpcore-0.9.1 httpx-0.13.3 hyperframe-5.2.0 immutables-0.14 rfc3986-1.4.0 sniffio-1.1.0\n"
          ],
          "name": "stdout"
        }
      ]
    },
    {
      "cell_type": "code",
      "metadata": {
        "id": "9nd4u1Qz6ms5",
        "colab_type": "code",
        "colab": {
          "base_uri": "https://localhost:8080/",
          "height": 121
        },
        "outputId": "3d5245c6-1530-469a-b114-ad13774b80b4"
      },
      "source": [
        "!pip install sentencepiece"
      ],
      "execution_count": 7,
      "outputs": [
        {
          "output_type": "stream",
          "text": [
            "Collecting sentencepiece\n",
            "\u001b[?25l  Downloading https://files.pythonhosted.org/packages/d4/a4/d0a884c4300004a78cca907a6ff9a5e9fe4f090f5d95ab341c53d28cbc58/sentencepiece-0.1.91-cp36-cp36m-manylinux1_x86_64.whl (1.1MB)\n",
            "\r\u001b[K     |▎                               | 10kB 19.4MB/s eta 0:00:01\r\u001b[K     |▋                               | 20kB 6.2MB/s eta 0:00:01\r\u001b[K     |█                               | 30kB 6.2MB/s eta 0:00:01\r\u001b[K     |█▏                              | 40kB 7.0MB/s eta 0:00:01\r\u001b[K     |█▌                              | 51kB 6.7MB/s eta 0:00:01\r\u001b[K     |█▉                              | 61kB 7.7MB/s eta 0:00:01\r\u001b[K     |██▏                             | 71kB 8.2MB/s eta 0:00:01\r\u001b[K     |██▍                             | 81kB 7.9MB/s eta 0:00:01\r\u001b[K     |██▊                             | 92kB 7.4MB/s eta 0:00:01\r\u001b[K     |███                             | 102kB 7.7MB/s eta 0:00:01\r\u001b[K     |███▍                            | 112kB 7.7MB/s eta 0:00:01\r\u001b[K     |███▋                            | 122kB 7.7MB/s eta 0:00:01\r\u001b[K     |████                            | 133kB 7.7MB/s eta 0:00:01\r\u001b[K     |████▎                           | 143kB 7.7MB/s eta 0:00:01\r\u001b[K     |████▋                           | 153kB 7.7MB/s eta 0:00:01\r\u001b[K     |████▉                           | 163kB 7.7MB/s eta 0:00:01\r\u001b[K     |█████▏                          | 174kB 7.7MB/s eta 0:00:01\r\u001b[K     |█████▌                          | 184kB 7.7MB/s eta 0:00:01\r\u001b[K     |█████▉                          | 194kB 7.7MB/s eta 0:00:01\r\u001b[K     |██████                          | 204kB 7.7MB/s eta 0:00:01\r\u001b[K     |██████▍                         | 215kB 7.7MB/s eta 0:00:01\r\u001b[K     |██████▊                         | 225kB 7.7MB/s eta 0:00:01\r\u001b[K     |███████                         | 235kB 7.7MB/s eta 0:00:01\r\u001b[K     |███████▎                        | 245kB 7.7MB/s eta 0:00:01\r\u001b[K     |███████▋                        | 256kB 7.7MB/s eta 0:00:01\r\u001b[K     |████████                        | 266kB 7.7MB/s eta 0:00:01\r\u001b[K     |████████▎                       | 276kB 7.7MB/s eta 0:00:01\r\u001b[K     |████████▌                       | 286kB 7.7MB/s eta 0:00:01\r\u001b[K     |████████▉                       | 296kB 7.7MB/s eta 0:00:01\r\u001b[K     |█████████▏                      | 307kB 7.7MB/s eta 0:00:01\r\u001b[K     |█████████▌                      | 317kB 7.7MB/s eta 0:00:01\r\u001b[K     |█████████▊                      | 327kB 7.7MB/s eta 0:00:01\r\u001b[K     |██████████                      | 337kB 7.7MB/s eta 0:00:01\r\u001b[K     |██████████▍                     | 348kB 7.7MB/s eta 0:00:01\r\u001b[K     |██████████▊                     | 358kB 7.7MB/s eta 0:00:01\r\u001b[K     |███████████                     | 368kB 7.7MB/s eta 0:00:01\r\u001b[K     |███████████▎                    | 378kB 7.7MB/s eta 0:00:01\r\u001b[K     |███████████▋                    | 389kB 7.7MB/s eta 0:00:01\r\u001b[K     |████████████                    | 399kB 7.7MB/s eta 0:00:01\r\u001b[K     |████████████▏                   | 409kB 7.7MB/s eta 0:00:01\r\u001b[K     |████████████▌                   | 419kB 7.7MB/s eta 0:00:01\r\u001b[K     |████████████▉                   | 430kB 7.7MB/s eta 0:00:01\r\u001b[K     |█████████████▏                  | 440kB 7.7MB/s eta 0:00:01\r\u001b[K     |█████████████▍                  | 450kB 7.7MB/s eta 0:00:01\r\u001b[K     |█████████████▊                  | 460kB 7.7MB/s eta 0:00:01\r\u001b[K     |██████████████                  | 471kB 7.7MB/s eta 0:00:01\r\u001b[K     |██████████████▍                 | 481kB 7.7MB/s eta 0:00:01\r\u001b[K     |██████████████▋                 | 491kB 7.7MB/s eta 0:00:01\r\u001b[K     |███████████████                 | 501kB 7.7MB/s eta 0:00:01\r\u001b[K     |███████████████▎                | 512kB 7.7MB/s eta 0:00:01\r\u001b[K     |███████████████▋                | 522kB 7.7MB/s eta 0:00:01\r\u001b[K     |███████████████▉                | 532kB 7.7MB/s eta 0:00:01\r\u001b[K     |████████████████▏               | 542kB 7.7MB/s eta 0:00:01\r\u001b[K     |████████████████▌               | 552kB 7.7MB/s eta 0:00:01\r\u001b[K     |████████████████▉               | 563kB 7.7MB/s eta 0:00:01\r\u001b[K     |█████████████████               | 573kB 7.7MB/s eta 0:00:01\r\u001b[K     |█████████████████▍              | 583kB 7.7MB/s eta 0:00:01\r\u001b[K     |█████████████████▊              | 593kB 7.7MB/s eta 0:00:01\r\u001b[K     |██████████████████              | 604kB 7.7MB/s eta 0:00:01\r\u001b[K     |██████████████████▎             | 614kB 7.7MB/s eta 0:00:01\r\u001b[K     |██████████████████▋             | 624kB 7.7MB/s eta 0:00:01\r\u001b[K     |███████████████████             | 634kB 7.7MB/s eta 0:00:01\r\u001b[K     |███████████████████▎            | 645kB 7.7MB/s eta 0:00:01\r\u001b[K     |███████████████████▌            | 655kB 7.7MB/s eta 0:00:01\r\u001b[K     |███████████████████▉            | 665kB 7.7MB/s eta 0:00:01\r\u001b[K     |████████████████████▏           | 675kB 7.7MB/s eta 0:00:01\r\u001b[K     |████████████████████▌           | 686kB 7.7MB/s eta 0:00:01\r\u001b[K     |████████████████████▊           | 696kB 7.7MB/s eta 0:00:01\r\u001b[K     |█████████████████████           | 706kB 7.7MB/s eta 0:00:01\r\u001b[K     |█████████████████████▍          | 716kB 7.7MB/s eta 0:00:01\r\u001b[K     |█████████████████████▋          | 727kB 7.7MB/s eta 0:00:01\r\u001b[K     |██████████████████████          | 737kB 7.7MB/s eta 0:00:01\r\u001b[K     |██████████████████████▎         | 747kB 7.7MB/s eta 0:00:01\r\u001b[K     |██████████████████████▋         | 757kB 7.7MB/s eta 0:00:01\r\u001b[K     |██████████████████████▉         | 768kB 7.7MB/s eta 0:00:01\r\u001b[K     |███████████████████████▏        | 778kB 7.7MB/s eta 0:00:01\r\u001b[K     |███████████████████████▌        | 788kB 7.7MB/s eta 0:00:01\r\u001b[K     |███████████████████████▉        | 798kB 7.7MB/s eta 0:00:01\r\u001b[K     |████████████████████████        | 808kB 7.7MB/s eta 0:00:01\r\u001b[K     |████████████████████████▍       | 819kB 7.7MB/s eta 0:00:01\r\u001b[K     |████████████████████████▊       | 829kB 7.7MB/s eta 0:00:01\r\u001b[K     |█████████████████████████       | 839kB 7.7MB/s eta 0:00:01\r\u001b[K     |█████████████████████████▎      | 849kB 7.7MB/s eta 0:00:01\r\u001b[K     |█████████████████████████▋      | 860kB 7.7MB/s eta 0:00:01\r\u001b[K     |██████████████████████████      | 870kB 7.7MB/s eta 0:00:01\r\u001b[K     |██████████████████████████▎     | 880kB 7.7MB/s eta 0:00:01\r\u001b[K     |██████████████████████████▌     | 890kB 7.7MB/s eta 0:00:01\r\u001b[K     |██████████████████████████▉     | 901kB 7.7MB/s eta 0:00:01\r\u001b[K     |███████████████████████████▏    | 911kB 7.7MB/s eta 0:00:01\r\u001b[K     |███████████████████████████▌    | 921kB 7.7MB/s eta 0:00:01\r\u001b[K     |███████████████████████████▊    | 931kB 7.7MB/s eta 0:00:01\r\u001b[K     |████████████████████████████    | 942kB 7.7MB/s eta 0:00:01\r\u001b[K     |████████████████████████████▍   | 952kB 7.7MB/s eta 0:00:01\r\u001b[K     |████████████████████████████▊   | 962kB 7.7MB/s eta 0:00:01\r\u001b[K     |█████████████████████████████   | 972kB 7.7MB/s eta 0:00:01\r\u001b[K     |█████████████████████████████▎  | 983kB 7.7MB/s eta 0:00:01\r\u001b[K     |█████████████████████████████▋  | 993kB 7.7MB/s eta 0:00:01\r\u001b[K     |██████████████████████████████  | 1.0MB 7.7MB/s eta 0:00:01\r\u001b[K     |██████████████████████████████▏ | 1.0MB 7.7MB/s eta 0:00:01\r\u001b[K     |██████████████████████████████▌ | 1.0MB 7.7MB/s eta 0:00:01\r\u001b[K     |██████████████████████████████▉ | 1.0MB 7.7MB/s eta 0:00:01\r\u001b[K     |███████████████████████████████▏| 1.0MB 7.7MB/s eta 0:00:01\r\u001b[K     |███████████████████████████████▍| 1.1MB 7.7MB/s eta 0:00:01\r\u001b[K     |███████████████████████████████▊| 1.1MB 7.7MB/s eta 0:00:01\r\u001b[K     |████████████████████████████████| 1.1MB 7.7MB/s \n",
            "\u001b[?25hInstalling collected packages: sentencepiece\n",
            "Successfully installed sentencepiece-0.1.91\n"
          ],
          "name": "stdout"
        }
      ]
    },
    {
      "cell_type": "code",
      "metadata": {
        "id": "xz4z3kOPjpxi",
        "colab_type": "code",
        "colab": {
          "base_uri": "https://localhost:8080/",
          "height": 289
        },
        "outputId": "a8873e20-c9cb-47f6-fa2a-edff26010dda"
      },
      "source": [
        "!pip install googletrans"
      ],
      "execution_count": 8,
      "outputs": [
        {
          "output_type": "stream",
          "text": [
            "Requirement already satisfied: googletrans in /usr/local/lib/python3.6/dist-packages (3.0.0)\n",
            "Requirement already satisfied: httpx==0.13.3 in /usr/local/lib/python3.6/dist-packages (from googletrans) (0.13.3)\n",
            "Requirement already satisfied: idna==2.* in /usr/local/lib/python3.6/dist-packages (from httpx==0.13.3->googletrans) (2.10)\n",
            "Requirement already satisfied: chardet==3.* in /usr/local/lib/python3.6/dist-packages (from httpx==0.13.3->googletrans) (3.0.4)\n",
            "Requirement already satisfied: httpcore==0.9.* in /usr/local/lib/python3.6/dist-packages (from httpx==0.13.3->googletrans) (0.9.1)\n",
            "Requirement already satisfied: rfc3986<2,>=1.3 in /usr/local/lib/python3.6/dist-packages (from httpx==0.13.3->googletrans) (1.4.0)\n",
            "Requirement already satisfied: hstspreload in /usr/local/lib/python3.6/dist-packages (from httpx==0.13.3->googletrans) (2020.9.15)\n",
            "Requirement already satisfied: certifi in /usr/local/lib/python3.6/dist-packages (from httpx==0.13.3->googletrans) (2020.6.20)\n",
            "Requirement already satisfied: sniffio in /usr/local/lib/python3.6/dist-packages (from httpx==0.13.3->googletrans) (1.1.0)\n",
            "Requirement already satisfied: h11<0.10,>=0.8 in /usr/local/lib/python3.6/dist-packages (from httpcore==0.9.*->httpx==0.13.3->googletrans) (0.9.0)\n",
            "Requirement already satisfied: h2==3.* in /usr/local/lib/python3.6/dist-packages (from httpcore==0.9.*->httpx==0.13.3->googletrans) (3.2.0)\n",
            "Requirement already satisfied: contextvars>=2.1; python_version < \"3.7\" in /usr/local/lib/python3.6/dist-packages (from sniffio->httpx==0.13.3->googletrans) (2.4)\n",
            "Requirement already satisfied: hyperframe<6,>=5.2.0 in /usr/local/lib/python3.6/dist-packages (from h2==3.*->httpcore==0.9.*->httpx==0.13.3->googletrans) (5.2.0)\n",
            "Requirement already satisfied: hpack<4,>=3.0 in /usr/local/lib/python3.6/dist-packages (from h2==3.*->httpcore==0.9.*->httpx==0.13.3->googletrans) (3.0.0)\n",
            "Requirement already satisfied: immutables>=0.9 in /usr/local/lib/python3.6/dist-packages (from contextvars>=2.1; python_version < \"3.7\"->sniffio->httpx==0.13.3->googletrans) (0.14)\n"
          ],
          "name": "stdout"
        }
      ]
    },
    {
      "cell_type": "code",
      "metadata": {
        "id": "VLPwBaua6jf2",
        "colab_type": "code",
        "colab": {
          "base_uri": "https://localhost:8080/",
          "height": 70
        },
        "outputId": "93f0aef3-abe9-45ae-cd6f-53e9011d15d7"
      },
      "source": [
        "import os\n",
        "import math\n",
        "import datetime\n",
        "\n",
        "from tqdm import tqdm\n",
        "\n",
        "import pandas as pd\n",
        "import numpy as np\n",
        "\n",
        "import tensorflow as tf\n",
        "from tensorflow import keras\n",
        "\n",
        "import bert\n",
        "from bert import BertModelLayer\n",
        "from bert.loader import StockBertConfig, map_stock_config_to_params, load_stock_weights\n",
        "from bert.tokenization.bert_tokenization import FullTokenizer\n",
        "\n",
        "import seaborn as sns\n",
        "from pylab import rcParams\n",
        "import matplotlib.pyplot as plt\n",
        "from matplotlib.ticker import MaxNLocator\n",
        "from matplotlib import rc\n",
        "\n",
        "from sklearn.metrics import confusion_matrix, classification_report\n",
        "\n",
        "import re\n",
        "\n",
        "# translator\n",
        "import googletrans\n",
        "from googletrans import Translator\n",
        "translator = Translator()\n",
        "\n",
        "%matplotlib inline\n",
        "%config InlineBackend.figure_format='retina'\n",
        "\n",
        "sns.set(style='whitegrid', palette='muted', font_scale=1.2)\n",
        "\n",
        "HAPPY_COLORS_PALETTE = [\"#01BEFE\", \"#FFDD00\", \"#FF7D00\", \"#FF006D\"]\n",
        "\n",
        "sns.set_palette(sns.color_palette(HAPPY_COLORS_PALETTE))\n",
        "\n",
        "rcParams['figure.figsize'] = 12, 8\n",
        "\n",
        "RANDOM_SEED = 42\n",
        "\n",
        "np.random.seed(RANDOM_SEED)\n",
        "tf.random.set_seed(RANDOM_SEED)"
      ],
      "execution_count": 9,
      "outputs": [
        {
          "output_type": "stream",
          "text": [
            "/usr/local/lib/python3.6/dist-packages/statsmodels/tools/_testing.py:19: FutureWarning: pandas.util.testing is deprecated. Use the functions in the public API at pandas.testing instead.\n",
            "  import pandas.util.testing as tm\n"
          ],
          "name": "stderr"
        }
      ]
    },
    {
      "cell_type": "markdown",
      "metadata": {
        "id": "CzkSXum8RzGM",
        "colab_type": "text"
      },
      "source": [
        "# Data\n"
      ]
    },
    {
      "cell_type": "code",
      "metadata": {
        "id": "eL2BmRgYIZkl",
        "colab_type": "code",
        "colab": {
          "base_uri": "https://localhost:8080/",
          "height": 84
        },
        "outputId": "22d04c10-92fb-4349-aaab-2493d8cb44c9"
      },
      "source": [
        "# Hindi translated data\n",
        "# !gdown --id 1zJVv_Ldh5vhDmw2mJSrgMcKlLt1fWyBw --output data-task1.csv\n",
        "\n",
        "# Hindi data\n",
        "!gdown --id 1EQRLvSUJn6VxFluTqNEGxXcV8_5OmCaW --output data-task3.csv"
      ],
      "execution_count": 10,
      "outputs": [
        {
          "output_type": "stream",
          "text": [
            "Downloading...\n",
            "From: https://drive.google.com/uc?id=1EQRLvSUJn6VxFluTqNEGxXcV8_5OmCaW\n",
            "To: /content/data-task3.csv\n",
            "\r  0% 0.00/1.63M [00:00<?, ?B/s]\r100% 1.63M/1.63M [00:00<00:00, 104MB/s]\n"
          ],
          "name": "stdout"
        }
      ]
    },
    {
      "cell_type": "code",
      "metadata": {
        "id": "t58Xz1hphnXR",
        "colab_type": "code",
        "colab": {}
      },
      "source": [
        "orig_df = pd.read_csv('data-task3.csv', \n",
        "                   delimiter=',')\n",
        "orig_df.columns = ['Text', 'Label']\n",
        "orig_df.head(15)\n",
        "orig_df[\"Text\"] = orig_df[\"Text\"].astype(str)\n",
        "orig_df[\"Label\"] = orig_df[\"Label\"].astype(str)"
      ],
      "execution_count": 11,
      "outputs": []
    },
    {
      "cell_type": "code",
      "metadata": {
        "id": "z6mq9_-bhywO",
        "colab_type": "code",
        "colab": {
          "base_uri": "https://localhost:8080/",
          "height": 35
        },
        "outputId": "2535489c-1fff-44a7-fffd-060b267f454c"
      },
      "source": [
        "orig_df.Text[3]\n"
      ],
      "execution_count": 12,
      "outputs": [
        {
          "output_type": "execute_result",
          "data": {
            "application/vnd.google.colaboratory.intrinsic+json": {
              "type": "string"
            },
            "text/plain": [
              "\"'अमीन के 500 से अधिक छात्रों ने सर्वे भवन के गेट पर आधा नंगा होकर किया प्रदर्शन  पप्पू यादव ने बुलंद की\\\\xa0आवाज\""
            ]
          },
          "metadata": {
            "tags": []
          },
          "execution_count": 12
        }
      ]
    },
    {
      "cell_type": "code",
      "metadata": {
        "id": "lh6sCSOy46_B",
        "colab_type": "code",
        "colab": {
          "base_uri": "https://localhost:8080/",
          "height": 287
        },
        "outputId": "20bf3f3e-e31e-4232-d245-baead5863f58"
      },
      "source": [
        "import matplotlib.pyplot as plt\n",
        "fig = plt.figure(figsize=(6,4))\n",
        "orig_df.groupby('Label').Text.count().plot.bar(ylim=0)\n",
        "plt.show()"
      ],
      "execution_count": 13,
      "outputs": [
        {
          "output_type": "display_data",
          "data": {
            "image/png": "[encoded data removed]",
            "text/plain": [
              "<Figure size 432x288 with 1 Axes>"
            ]
          },
          "metadata": {
            "tags": [],
            "image/png": {
              "width": 392,
              "height": 270
            }
          }
        }
      ]
    },
    {
      "cell_type": "code",
      "metadata": {
        "id": "dgm-l6QI47G2",
        "colab_type": "code",
        "colab": {
          "base_uri": "https://localhost:8080/",
          "height": 84
        },
        "outputId": "79dcee44-ed97-4c44-dabc-3d99e96d89f9"
      },
      "source": [
        "\n",
        "\n",
        "# For entire dataset sentences for each labels \n",
        "orig_df.Label.value_counts()"
      ],
      "execution_count": 14,
      "outputs": [
        {
          "output_type": "execute_result",
          "data": {
            "text/plain": [
              "2    3375\n",
              "0    3244\n",
              "1    2174\n",
              "Name: Label, dtype: int64"
            ]
          },
          "metadata": {
            "tags": []
          },
          "execution_count": 14
        }
      ]
    },
    {
      "cell_type": "code",
      "metadata": {
        "id": "LGv6WWPqoOJO",
        "colab_type": "code",
        "colab": {}
      },
      "source": [
        "#balancing data \n",
        "from collections import Counter\n",
        "import numpy as np\n",
        "def balanceClasses(xs, ys):\n",
        "    item = {}\n",
        "    new_ys = []\n",
        "    new_xs = []\n",
        "    #\"\"\"Undersample xs, ys to balance classes.\"\"\"\n",
        "    freqs = Counter(ys)\n",
        "    # the most common class  is the maximum number we want for all classes\n",
        "    max_allowable = (freqs.most_common()[0][1])\n",
        "    \n",
        "    for val in freqs.most_common(): # List\n",
        "        nums = np.random.randint(1000)\n",
        "        i = 1\n",
        "        item[val[0]] = max_allowable - val[1]\n",
        "        \n",
        "        if item[val[0]] > 0:            \n",
        "            while(item[val[0]] - i != 0): \n",
        "                nums = nums + 1\n",
        "                if ys[nums] == val[0]:\n",
        "                    i += 1\n",
        "                    new_ys.append(ys[nums])\n",
        "                    new_xs.append(xs[nums])\n",
        "    return new_xs, new_ys"
      ],
      "execution_count": 15,
      "outputs": []
    },
    {
      "cell_type": "code",
      "metadata": {
        "id": "ibIWzEi_oPW9",
        "colab_type": "code",
        "colab": {}
      },
      "source": [
        "new_text, new_label = balanceClasses(orig_df['Text'], orig_df['Label'])"
      ],
      "execution_count": 16,
      "outputs": []
    },
    {
      "cell_type": "code",
      "metadata": {
        "id": "AZkU8zzToTuw",
        "colab_type": "code",
        "colab": {}
      },
      "source": [
        "data_df = pd.DataFrame(new_text)\n",
        "data_df.columns = ['Text']\n",
        "data_df['Label'] = new_label\n",
        "data_df = pd.concat([orig_df, data_df])"
      ],
      "execution_count": 17,
      "outputs": []
    },
    {
      "cell_type": "code",
      "metadata": {
        "id": "q-_yOPFzoWTF",
        "colab_type": "code",
        "colab": {
          "base_uri": "https://localhost:8080/",
          "height": 287
        },
        "outputId": "b7a204e2-6b66-4a0d-a357-b65a1474f24c"
      },
      "source": [
        "fig1 = plt.figure(figsize=(6,4))\n",
        "data_df.groupby('Label').Text.count().plot.bar(ylim=0)\n",
        "plt.show()"
      ],
      "execution_count": 18,
      "outputs": [
        {
          "output_type": "display_data",
          "data": {
            "image/png": "[encoded data removed]",
            "text/plain": [
              "<Figure size 432x288 with 1 Axes>"
            ]
          },
          "metadata": {
            "tags": [],
            "image/png": {
              "width": 392,
              "height": 270
            }
          }
        }
      ]
    },
    {
      "cell_type": "code",
      "metadata": {
        "id": "X9ExXbzooac2",
        "colab_type": "code",
        "colab": {}
      },
      "source": [
        "df = data_df"
      ],
      "execution_count": 19,
      "outputs": []
    },
    {
      "cell_type": "code",
      "metadata": {
        "id": "1I2T1KqdofBV",
        "colab_type": "code",
        "colab": {
          "base_uri": "https://localhost:8080/",
          "height": 84
        },
        "outputId": "79d986ca-5e9a-475b-8040-e0b23c64077c"
      },
      "source": [
        "df.Label.value_counts()"
      ],
      "execution_count": 20,
      "outputs": [
        {
          "output_type": "execute_result",
          "data": {
            "text/plain": [
              "2    3375\n",
              "0    3374\n",
              "1    3374\n",
              "Name: Label, dtype: int64"
            ]
          },
          "metadata": {
            "tags": []
          },
          "execution_count": 20
        }
      ]
    },
    {
      "cell_type": "code",
      "metadata": {
        "id": "kf3151rv47Jn",
        "colab_type": "code",
        "colab": {
          "base_uri": "https://localhost:8080/",
          "height": 402
        },
        "outputId": "2c48feae-35c5-453a-856d-0b11f9a85327"
      },
      "source": [
        "df=df.sample(frac=1).reset_index(drop=True)\n",
        "df"
      ],
      "execution_count": 21,
      "outputs": [
        {
          "output_type": "execute_result",
          "data": {
            "text/html": [
              "<div>\n",
              "<style scoped>\n",
              "    .dataframe tbody tr th:only-of-type {\n",
              "        vertical-align: middle;\n",
              "    }\n",
              "\n",
              "    .dataframe tbody tr th {\n",
              "        vertical-align: top;\n",
              "    }\n",
              "\n",
              "    .dataframe thead th {\n",
              "        text-align: right;\n",
              "    }\n",
              "</style>\n",
              "<table border=\"1\" class=\"dataframe\">\n",
              "  <thead>\n",
              "    <tr style=\"text-align: right;\">\n",
              "      <th></th>\n",
              "      <th>Text</th>\n",
              "      <th>Label</th>\n",
              "    </tr>\n",
              "  </thead>\n",
              "  <tbody>\n",
              "    <tr>\n",
              "      <th>0</th>\n",
              "      <td>'@BushraAnjum_ मेरी तरफ से आपको बहुत-बहुत तहे ...</td>\n",
              "      <td>1</td>\n",
              "    </tr>\n",
              "    <tr>\n",
              "      <th>1</th>\n",
              "      <td>'@kpmaurya1 नारी शक्ति जिंदाबाद जिंदाबाद</td>\n",
              "      <td>0</td>\n",
              "    </tr>\n",
              "    <tr>\n",
              "      <th>2</th>\n",
              "      <td>'जेहादी सोच थी उसकी  कोई शायर का काम थोड़ी था।...</td>\n",
              "      <td>2</td>\n",
              "    </tr>\n",
              "    <tr>\n",
              "      <th>3</th>\n",
              "      <td>'@naaz786nice जुम्मा के दिन नमाज़ में ऐसे लोगो...</td>\n",
              "      <td>1</td>\n",
              "    </tr>\n",
              "    <tr>\n",
              "      <th>4</th>\n",
              "      <td>'अब खुब जमेगा रंग जब मिल बैठेंगे तीन यार संग। ...</td>\n",
              "      <td>0</td>\n",
              "    </tr>\n",
              "    <tr>\n",
              "      <th>...</th>\n",
              "      <td>...</td>\n",
              "      <td>...</td>\n",
              "    </tr>\n",
              "    <tr>\n",
              "      <th>10118</th>\n",
              "      <td>'@aschandailBJP शानदार👏 जिंदाबाद भइया</td>\n",
              "      <td>0</td>\n",
              "    </tr>\n",
              "    <tr>\n",
              "      <th>10119</th>\n",
              "      <td>@Swamy29 सर  वीडियो बन गया हैं जल्दी उपलोड कर ...</td>\n",
              "      <td>2</td>\n",
              "    </tr>\n",
              "    <tr>\n",
              "      <th>10120</th>\n",
              "      <td>'तस्वीरों में देखें  कैसे रांची के राजकुमार बन...</td>\n",
              "      <td>0</td>\n",
              "    </tr>\n",
              "    <tr>\n",
              "      <th>10121</th>\n",
              "      <td>'@ZeeNewsHindi हज़ारों मुसलमानों ने रमज़ान में...</td>\n",
              "      <td>1</td>\n",
              "    </tr>\n",
              "    <tr>\n",
              "      <th>10122</th>\n",
              "      <td>'@chandan_m_yadav @RustamPatel3 @nidhiyadavsp ...</td>\n",
              "      <td>0</td>\n",
              "    </tr>\n",
              "  </tbody>\n",
              "</table>\n",
              "<p>10123 rows × 2 columns</p>\n",
              "</div>"
            ],
            "text/plain": [
              "                                                    Text Label\n",
              "0      '@BushraAnjum_ मेरी तरफ से आपको बहुत-बहुत तहे ...     1\n",
              "1               '@kpmaurya1 नारी शक्ति जिंदाबाद जिंदाबाद     0\n",
              "2      'जेहादी सोच थी उसकी  कोई शायर का काम थोड़ी था।...     2\n",
              "3      '@naaz786nice जुम्मा के दिन नमाज़ में ऐसे लोगो...     1\n",
              "4      'अब खुब जमेगा रंग जब मिल बैठेंगे तीन यार संग। ...     0\n",
              "...                                                  ...   ...\n",
              "10118              '@aschandailBJP शानदार👏 जिंदाबाद भइया     0\n",
              "10119  @Swamy29 सर  वीडियो बन गया हैं जल्दी उपलोड कर ...     2\n",
              "10120  'तस्वीरों में देखें  कैसे रांची के राजकुमार बन...     0\n",
              "10121  '@ZeeNewsHindi हज़ारों मुसलमानों ने रमज़ान में...     1\n",
              "10122  '@chandan_m_yadav @RustamPatel3 @nidhiyadavsp ...     0\n",
              "\n",
              "[10123 rows x 2 columns]"
            ]
          },
          "metadata": {
            "tags": []
          },
          "execution_count": 21
        }
      ]
    },
    {
      "cell_type": "markdown",
      "metadata": {
        "id": "pA7mei-y5IZi",
        "colab_type": "text"
      },
      "source": [
        "Data Preprocessing"
      ]
    },
    {
      "cell_type": "code",
      "metadata": {
        "id": "uxT19ii26zNC",
        "colab_type": "code",
        "colab": {}
      },
      "source": [
        "from sklearn.model_selection import train_test_split\n",
        "train, test = train_test_split(df, test_size=0.10, random_state=42)"
      ],
      "execution_count": 22,
      "outputs": []
    },
    {
      "cell_type": "code",
      "metadata": {
        "id": "i4cZ4oi_TTfC",
        "colab_type": "code",
        "colab": {
          "base_uri": "https://localhost:8080/",
          "height": 195
        },
        "outputId": "dd6ff4b4-18a1-4544-d24b-1c009e07382f"
      },
      "source": [
        "df.head()"
      ],
      "execution_count": 23,
      "outputs": [
        {
          "output_type": "execute_result",
          "data": {
            "text/html": [
              "<div>\n",
              "<style scoped>\n",
              "    .dataframe tbody tr th:only-of-type {\n",
              "        vertical-align: middle;\n",
              "    }\n",
              "\n",
              "    .dataframe tbody tr th {\n",
              "        vertical-align: top;\n",
              "    }\n",
              "\n",
              "    .dataframe thead th {\n",
              "        text-align: right;\n",
              "    }\n",
              "</style>\n",
              "<table border=\"1\" class=\"dataframe\">\n",
              "  <thead>\n",
              "    <tr style=\"text-align: right;\">\n",
              "      <th></th>\n",
              "      <th>Text</th>\n",
              "      <th>Label</th>\n",
              "    </tr>\n",
              "  </thead>\n",
              "  <tbody>\n",
              "    <tr>\n",
              "      <th>0</th>\n",
              "      <td>'@BushraAnjum_ मेरी तरफ से आपको बहुत-बहुत तहे ...</td>\n",
              "      <td>1</td>\n",
              "    </tr>\n",
              "    <tr>\n",
              "      <th>1</th>\n",
              "      <td>'@kpmaurya1 नारी शक्ति जिंदाबाद जिंदाबाद</td>\n",
              "      <td>0</td>\n",
              "    </tr>\n",
              "    <tr>\n",
              "      <th>2</th>\n",
              "      <td>'जेहादी सोच थी उसकी  कोई शायर का काम थोड़ी था।...</td>\n",
              "      <td>2</td>\n",
              "    </tr>\n",
              "    <tr>\n",
              "      <th>3</th>\n",
              "      <td>'@naaz786nice जुम्मा के दिन नमाज़ में ऐसे लोगो...</td>\n",
              "      <td>1</td>\n",
              "    </tr>\n",
              "    <tr>\n",
              "      <th>4</th>\n",
              "      <td>'अब खुब जमेगा रंग जब मिल बैठेंगे तीन यार संग। ...</td>\n",
              "      <td>0</td>\n",
              "    </tr>\n",
              "  </tbody>\n",
              "</table>\n",
              "</div>"
            ],
            "text/plain": [
              "                                                Text Label\n",
              "0  '@BushraAnjum_ मेरी तरफ से आपको बहुत-बहुत तहे ...     1\n",
              "1           '@kpmaurya1 नारी शक्ति जिंदाबाद जिंदाबाद     0\n",
              "2  'जेहादी सोच थी उसकी  कोई शायर का काम थोड़ी था।...     2\n",
              "3  '@naaz786nice जुम्मा के दिन नमाज़ में ऐसे लोगो...     1\n",
              "4  'अब खुब जमेगा रंग जब मिल बैठेंगे तीन यार संग। ...     0"
            ]
          },
          "metadata": {
            "tags": []
          },
          "execution_count": 23
        }
      ]
    },
    {
      "cell_type": "code",
      "metadata": {
        "id": "Fes5nupOfR9B",
        "colab_type": "code",
        "colab": {
          "base_uri": "https://localhost:8080/",
          "height": 523
        },
        "outputId": "49bff5e8-1c87-40a3-9c38-ec87314c8f0e"
      },
      "source": [
        "chart = sns.countplot(train.Label, palette=HAPPY_COLORS_PALETTE)\n",
        "plt.title(\"Number of texts per class\")\n",
        "chart.set_xticklabels(chart.get_xticklabels(), horizontalalignment='right');"
      ],
      "execution_count": 24,
      "outputs": [
        {
          "output_type": "display_data",
          "data": {
            "image/png": "[encoded data removed]",
            "text/plain": [
              "<Figure size 864x576 with 1 Axes>"
            ]
          },
          "metadata": {
            "tags": [],
            "image/png": {
              "width": 745,
              "height": 506
            }
          }
        }
      ]
    },
    {
      "cell_type": "markdown",
      "metadata": {
        "id": "Nc23faMAR--V",
        "colab_type": "text"
      },
      "source": [
        "# Islamophhobia Detection with mBERT\n"
      ]
    },
    {
      "cell_type": "code",
      "metadata": {
        "id": "-P2y2g3m8Ytp",
        "colab_type": "code",
        "colab": {
          "base_uri": "https://localhost:8080/",
          "height": 84
        },
        "outputId": "e21970ee-2620-4e11-9eb7-f2283a4c6bf5"
      },
      "source": [
        "!gdown --id 1ds0mgIfyRZ1vTdQCT4Q5EOxTFA1vH47a --output multi_cased_L-12_H-768_A-12.zip"
      ],
      "execution_count": 25,
      "outputs": [
        {
          "output_type": "stream",
          "text": [
            "Downloading...\n",
            "From: https://drive.google.com/uc?id=1ds0mgIfyRZ1vTdQCT4Q5EOxTFA1vH47a\n",
            "To: /content/multi_cased_L-12_H-768_A-12.zip\n",
            "663MB [00:08, 80.0MB/s]\n"
          ],
          "name": "stdout"
        }
      ]
    },
    {
      "cell_type": "code",
      "metadata": {
        "id": "ARivu75M8fqM",
        "colab_type": "code",
        "colab": {
          "base_uri": "https://localhost:8080/",
          "height": 134
        },
        "outputId": "cc9fd52d-f78b-4aeb-c26e-bcd647f658a8"
      },
      "source": [
        "!unzip multi_cased_L-12_H-768_A-12"
      ],
      "execution_count": 26,
      "outputs": [
        {
          "output_type": "stream",
          "text": [
            "Archive:  multi_cased_L-12_H-768_A-12.zip\n",
            "   creating: multi_cased_L-12_H-768_A-12/\n",
            "  inflating: multi_cased_L-12_H-768_A-12/bert_model.ckpt.meta  \n",
            "  inflating: multi_cased_L-12_H-768_A-12/bert_model.ckpt.data-00000-of-00001  \n",
            "  inflating: multi_cased_L-12_H-768_A-12/vocab.txt  \n",
            "  inflating: multi_cased_L-12_H-768_A-12/bert_model.ckpt.index  \n",
            "  inflating: multi_cased_L-12_H-768_A-12/bert_config.json  \n"
          ],
          "name": "stdout"
        }
      ]
    },
    {
      "cell_type": "code",
      "metadata": {
        "id": "4Cgl9mvs8hAl",
        "colab_type": "code",
        "colab": {}
      },
      "source": [
        "os.makedirs(\"model\", exist_ok=True)"
      ],
      "execution_count": 27,
      "outputs": []
    },
    {
      "cell_type": "code",
      "metadata": {
        "id": "QoY4PY-w9FkN",
        "colab_type": "code",
        "colab": {}
      },
      "source": [
        "!mv multi_cased_L-12_H-768_A-12/ model"
      ],
      "execution_count": 28,
      "outputs": []
    },
    {
      "cell_type": "code",
      "metadata": {
        "id": "LbvjbsEb9Ndv",
        "colab_type": "code",
        "colab": {}
      },
      "source": [
        "bert_model_name=\"multi_cased_L-12_H-768_A-12\"\n",
        "\n",
        "bert_ckpt_dir = os.path.join(\"model/\", bert_model_name)\n",
        "bert_ckpt_file = os.path.join(bert_ckpt_dir, \"bert_model.ckpt\")\n",
        "bert_config_file = os.path.join(bert_ckpt_dir, \"bert_config.json\")"
      ],
      "execution_count": 29,
      "outputs": []
    },
    {
      "cell_type": "markdown",
      "metadata": {
        "id": "3os6qeC6SB-M",
        "colab_type": "text"
      },
      "source": [
        "## Preprocessing"
      ]
    },
    {
      "cell_type": "code",
      "metadata": {
        "id": "TApTW_wLxoA9",
        "colab_type": "code",
        "colab": {}
      },
      "source": [
        "class IslamophobiaDetectionData:\n",
        "  DATA_COLUMN = \"Text\"\n",
        "  LABEL_COLUMN = \"Label\"\n",
        "\n",
        "  def __init__(self, train, test, tokenizer: FullTokenizer, classes, max_seq_len=192):\n",
        "    self.tokenizer = tokenizer\n",
        "    self.max_seq_len = 0\n",
        "    self.classes = classes\n",
        "    \n",
        "    ((self.train_x, self.train_y), (self.test_x, self.test_y)) = map(self._prepare, [train, test])\n",
        "\n",
        "    print(\"max seq_len\", self.max_seq_len)\n",
        "    self.max_seq_len = min(self.max_seq_len, max_seq_len)\n",
        "    self.train_x, self.test_x = map(self._pad, [self.train_x, self.test_x])\n",
        "\n",
        "  def _prepare(self, df):\n",
        "    x, y = [], []\n",
        "    \n",
        "    for _, row in tqdm(df.iterrows()):\n",
        "      text, label = row[IslamophobiaDetectionData.DATA_COLUMN], row[IslamophobiaDetectionData.LABEL_COLUMN]\n",
        "      tokens = self.tokenizer.tokenize(text)\n",
        "      tokens = [\"[CLS]\"] + tokens + [\"[SEP]\"]\n",
        "      token_ids = self.tokenizer.convert_tokens_to_ids(tokens)\n",
        "      self.max_seq_len = max(self.max_seq_len, len(token_ids))\n",
        "      x.append(token_ids)\n",
        "      y.append(self.classes.index(label))\n",
        "\n",
        "    return np.array(x), np.array(y)\n",
        "\n",
        "  def _pad(self, ids):\n",
        "    x = []\n",
        "    for input_ids in ids:\n",
        "      input_ids = input_ids[:min(len(input_ids), self.max_seq_len - 2)]\n",
        "      input_ids = input_ids + [0] * (self.max_seq_len - len(input_ids))\n",
        "      x.append(np.array(input_ids))\n",
        "    return np.array(x)"
      ],
      "execution_count": 30,
      "outputs": []
    },
    {
      "cell_type": "code",
      "metadata": {
        "id": "qQWpVG464BuO",
        "colab_type": "code",
        "colab": {}
      },
      "source": [
        "tokenizer = FullTokenizer(vocab_file=os.path.join(bert_ckpt_dir, \"vocab.txt\"))"
      ],
      "execution_count": 31,
      "outputs": []
    },
    {
      "cell_type": "code",
      "metadata": {
        "id": "xnGGC53P9nC8",
        "colab_type": "code",
        "colab": {}
      },
      "source": [
        "def create_model(max_seq_len, bert_ckpt_file):\n",
        "\n",
        "  with tf.io.gfile.GFile(bert_config_file, \"r\") as reader:\n",
        "      bc = StockBertConfig.from_json_string(reader.read())\n",
        "      bert_params = map_stock_config_to_params(bc)\n",
        "      bert_params.adapter_size = None\n",
        "      bert = BertModelLayer.from_params(bert_params, name=\"bert\")\n",
        "        \n",
        "  input_ids = keras.layers.Input(shape=(max_seq_len, ), dtype='int32', name=\"input_ids\")\n",
        "  bert_output = bert(input_ids)\n",
        "\n",
        "  #print(\"bert shape\", bert_output.shape)\n",
        "\n",
        "  cls_out = keras.layers.Lambda(lambda seq: seq[:, 0, :])(bert_output)\n",
        "  cls_out = keras.layers.Dropout(0.5)(cls_out)\n",
        "  logits = keras.layers.Dense(units=768, activation=\"tanh\")(cls_out)\n",
        "  logits = keras.layers.Dropout(0.5)(logits)\n",
        "\n",
        "  logits = keras.layers.Dense(units=len(classes), activation=\"softmax\")(logits)\n",
        "\n",
        "\n",
        "  model = keras.Model(inputs=input_ids, outputs=logits)\n",
        "  model.build(input_shape=(None, max_seq_len))\n",
        "\n",
        "  load_stock_weights(bert, bert_ckpt_file)\n",
        "  \n",
        "  model.compile(\n",
        "  optimizer=keras.optimizers.Adam(1e-5),\n",
        "  loss=keras.losses.SparseCategoricalCrossentropy(from_logits=True),\n",
        "  metrics=[keras.metrics.SparseCategoricalAccuracy(name=\"acc\")]\n",
        ")\n",
        "        \n",
        "  return model"
      ],
      "execution_count": 32,
      "outputs": []
    },
    {
      "cell_type": "markdown",
      "metadata": {
        "id": "67GbMH3WRvZg",
        "colab_type": "text"
      },
      "source": [
        "## Training"
      ]
    },
    {
      "cell_type": "code",
      "metadata": {
        "id": "kXyaQY4E9S10",
        "colab_type": "code",
        "colab": {
          "base_uri": "https://localhost:8080/",
          "height": 67
        },
        "outputId": "55731455-1af3-4db7-b668-668c740f683a"
      },
      "source": [
        "classes = train.Label.unique().tolist()\n",
        "\n",
        "data = IslamophobiaDetectionData(train, test, tokenizer, classes, max_seq_len=128)"
      ],
      "execution_count": 33,
      "outputs": [
        {
          "output_type": "stream",
          "text": [
            "9110it [00:04, 1957.31it/s]\n",
            "1013it [00:00, 1988.67it/s]\n"
          ],
          "name": "stderr"
        },
        {
          "output_type": "stream",
          "text": [
            "max seq_len 167\n"
          ],
          "name": "stdout"
        }
      ]
    },
    {
      "cell_type": "code",
      "metadata": {
        "id": "TizDFiPC9n4b",
        "colab_type": "code",
        "colab": {
          "base_uri": "https://localhost:8080/",
          "height": 238
        },
        "outputId": "c3daa74d-7ac4-4c8a-a8aa-7fda6af257ea"
      },
      "source": [
        "model = create_model(data.max_seq_len, bert_ckpt_file)"
      ],
      "execution_count": 34,
      "outputs": [
        {
          "output_type": "stream",
          "text": [
            "Done loading 196 BERT weights from: model/multi_cased_L-12_H-768_A-12/bert_model.ckpt into <bert.model.BertModelLayer object at 0x7f31c7d46208> (prefix:bert). Count of weights not found in the checkpoint was: [0]. Count of weights with mismatched shape: [0]\n",
            "Unused weights from checkpoint: \n",
            "\tbert/embeddings/token_type_embeddings\n",
            "\tbert/pooler/dense/bias\n",
            "\tbert/pooler/dense/kernel\n",
            "\tcls/predictions/output_bias\n",
            "\tcls/predictions/transform/LayerNorm/beta\n",
            "\tcls/predictions/transform/LayerNorm/gamma\n",
            "\tcls/predictions/transform/dense/bias\n",
            "\tcls/predictions/transform/dense/kernel\n",
            "\tcls/seq_relationship/output_bias\n",
            "\tcls/seq_relationship/output_weights\n"
          ],
          "name": "stdout"
        }
      ]
    },
    {
      "cell_type": "code",
      "metadata": {
        "id": "XjUkMjiGbC7f",
        "colab_type": "code",
        "colab": {
          "base_uri": "https://localhost:8080/",
          "height": 386
        },
        "outputId": "b650e992-0cbf-4a24-a0ba-2655ce6a8216"
      },
      "source": [
        "model.summary()"
      ],
      "execution_count": 35,
      "outputs": [
        {
          "output_type": "stream",
          "text": [
            "Model: \"functional_1\"\n",
            "_________________________________________________________________\n",
            "Layer (type)                 Output Shape              Param #   \n",
            "=================================================================\n",
            "input_ids (InputLayer)       [(None, 128)]             0         \n",
            "_________________________________________________________________\n",
            "bert (BertModelLayer)        (None, 128, 768)          177261312 \n",
            "_________________________________________________________________\n",
            "lambda (Lambda)              (None, 768)               0         \n",
            "_________________________________________________________________\n",
            "dropout (Dropout)            (None, 768)               0         \n",
            "_________________________________________________________________\n",
            "dense (Dense)                (None, 768)               590592    \n",
            "_________________________________________________________________\n",
            "dropout_1 (Dropout)          (None, 768)               0         \n",
            "_________________________________________________________________\n",
            "dense_1 (Dense)              (None, 3)                 2307      \n",
            "=================================================================\n",
            "Total params: 177,854,211\n",
            "Trainable params: 177,854,211\n",
            "Non-trainable params: 0\n",
            "_________________________________________________________________\n"
          ],
          "name": "stdout"
        }
      ]
    },
    {
      "cell_type": "code",
      "metadata": {
        "id": "oIjlbG8u9xis",
        "colab_type": "code",
        "colab": {
          "base_uri": "https://localhost:8080/",
          "height": 185
        },
        "outputId": "523ae789-bdf4-44aa-84d1-6c90e108351a"
      },
      "source": [
        "\n",
        "\n",
        "history = model.fit(\n",
        "  x=data.train_x, \n",
        "  y=data.train_y,\n",
        "  validation_split=0.1,\n",
        "  batch_size=32,\n",
        "  shuffle=True,\n",
        "  epochs=5\n",
        ")"
      ],
      "execution_count": 36,
      "outputs": [
        {
          "output_type": "stream",
          "text": [
            "Epoch 1/5\n",
            "257/257 [==============================] - 156s 606ms/step - loss: 0.7530 - acc: 0.7875 - val_loss: 0.6136 - val_acc: 0.9341\n",
            "Epoch 2/5\n",
            "257/257 [==============================] - 150s 585ms/step - loss: 0.6055 - acc: 0.9451 - val_loss: 0.6079 - val_acc: 0.9418\n",
            "Epoch 3/5\n",
            "257/257 [==============================] - 151s 586ms/step - loss: 0.5997 - acc: 0.9517 - val_loss: 0.6115 - val_acc: 0.9407\n",
            "Epoch 4/5\n",
            "257/257 [==============================] - 151s 586ms/step - loss: 0.6030 - acc: 0.9473 - val_loss: 0.6165 - val_acc: 0.9319\n",
            "Epoch 5/5\n",
            "257/257 [==============================] - 150s 584ms/step - loss: 0.5952 - acc: 0.9556 - val_loss: 0.6021 - val_acc: 0.9484\n"
          ],
          "name": "stdout"
        }
      ]
    },
    {
      "cell_type": "markdown",
      "metadata": {
        "id": "6s31ZIADSGNp",
        "colab_type": "text"
      },
      "source": [
        "## Evaluation"
      ]
    },
    {
      "cell_type": "code",
      "metadata": {
        "id": "5XLlcuVC1lLE",
        "colab_type": "code",
        "colab": {
          "base_uri": "https://localhost:8080/",
          "height": 523
        },
        "outputId": "df6fff5e-0c33-48b8-d0e4-8d7026bf8bfe"
      },
      "source": [
        "ax = plt.figure().gca()\n",
        "ax.xaxis.set_major_locator(MaxNLocator(integer=True))\n",
        "\n",
        "ax.plot(history.history['loss'])\n",
        "ax.plot(history.history['val_loss'])\n",
        "plt.ylabel('Loss')\n",
        "plt.xlabel('Epoch')\n",
        "plt.legend(['train', 'test'])\n",
        "plt.title('Loss over training epochs')\n",
        "plt.show();"
      ],
      "execution_count": 37,
      "outputs": [
        {
          "output_type": "display_data",
          "data": {
            "image/png": "[encoded data removed]",
            "text/plain": [
              "<Figure size 864x576 with 1 Axes>"
            ]
          },
          "metadata": {
            "tags": [],
            "image/png": {
              "width": 740,
              "height": 506
            }
          }
        }
      ]
    },
    {
      "cell_type": "code",
      "metadata": {
        "id": "yZ7CVW_71m0Q",
        "colab_type": "code",
        "colab": {
          "base_uri": "https://localhost:8080/",
          "height": 523
        },
        "outputId": "675066db-7886-44ff-af44-1812e0fab074"
      },
      "source": [
        "ax = plt.figure().gca()\n",
        "ax.xaxis.set_major_locator(MaxNLocator(integer=True))\n",
        "\n",
        "ax.plot(history.history['acc'])\n",
        "ax.plot(history.history['val_acc'])\n",
        "plt.ylabel('Accuracy')\n",
        "plt.xlabel('Epoch')\n",
        "plt.legend(['train', 'test'])\n",
        "plt.title('Accuracy over training epochs')\n",
        "plt.show();"
      ],
      "execution_count": 38,
      "outputs": [
        {
          "output_type": "display_data",
          "data": {
            "image/png": "[encoded data removed]",
            "text/plain": [
              "<Figure size 864x576 with 1 Axes>"
            ]
          },
          "metadata": {
            "tags": [],
            "image/png": {
              "width": 749,
              "height": 506
            }
          }
        }
      ]
    },
    {
      "cell_type": "code",
      "metadata": {
        "id": "RGAECSj4AiD1",
        "colab_type": "code",
        "colab": {
          "base_uri": "https://localhost:8080/",
          "height": 84
        },
        "outputId": "0331988a-d123-497e-9217-7c01dd3255e4"
      },
      "source": [
        "_, train_acc = model.evaluate(data.train_x, data.train_y)\n",
        "_, test_acc = model.evaluate(data.test_x, data.test_y)\n",
        "\n",
        "print(\"train acc\", train_acc)\n",
        "print(\"test acc\", test_acc)"
      ],
      "execution_count": 39,
      "outputs": [
        {
          "output_type": "stream",
          "text": [
            "285/285 [==============================] - 31s 108ms/step - loss: 0.5889 - acc: 0.9620\n",
            "32/32 [==============================] - 3s 104ms/step - loss: 0.5999 - acc: 0.9526\n",
            "train acc 0.9620197415351868\n",
            "test acc 0.9526159763336182\n"
          ],
          "name": "stdout"
        }
      ]
    },
    {
      "cell_type": "code",
      "metadata": {
        "id": "Leg5atNmPzGb",
        "colab_type": "code",
        "colab": {}
      },
      "source": [
        "y_pred = model.predict(data.test_x).argmax(axis=-1)"
      ],
      "execution_count": 40,
      "outputs": []
    },
    {
      "cell_type": "code",
      "metadata": {
        "id": "SZYriKx6UUOb",
        "colab_type": "code",
        "colab": {
          "base_uri": "https://localhost:8080/",
          "height": 185
        },
        "outputId": "0f7671a8-2006-4283-8859-4cf2b1ba8cc3"
      },
      "source": [
        "print(classification_report(data.test_y, y_pred))"
      ],
      "execution_count": 41,
      "outputs": [
        {
          "output_type": "stream",
          "text": [
            "              precision    recall  f1-score   support\n",
            "\n",
            "           0       0.91      0.98      0.95       336\n",
            "           1       0.98      0.92      0.95       332\n",
            "           2       0.96      0.95      0.96       345\n",
            "\n",
            "    accuracy                           0.95      1013\n",
            "   macro avg       0.95      0.95      0.95      1013\n",
            "weighted avg       0.95      0.95      0.95      1013\n",
            "\n"
          ],
          "name": "stdout"
        }
      ]
    },
    {
      "cell_type": "code",
      "metadata": {
        "id": "lS-5TbGDP4rr",
        "colab_type": "code",
        "colab": {}
      },
      "source": [
        "\n",
        "cm = confusion_matrix(data.test_y, y_pred)\n",
        "df_cm = pd.DataFrame(cm, index=classes, columns=classes)"
      ],
      "execution_count": 42,
      "outputs": []
    },
    {
      "cell_type": "code",
      "metadata": {
        "id": "DgkPl9gLS4DL",
        "colab_type": "code",
        "colab": {
          "base_uri": "https://localhost:8080/",
          "height": 509
        },
        "outputId": "facdff96-46dd-4dcb-dfec-4d92489d4f48"
      },
      "source": [
        "hmap = sns.heatmap(df_cm, annot=True, fmt=\"d\")\n",
        "hmap.yaxis.set_ticklabels(hmap.yaxis.get_ticklabels(), rotation=0, ha='right')\n",
        "hmap.xaxis.set_ticklabels(hmap.xaxis.get_ticklabels(), rotation=30, ha='right')\n",
        "plt.ylabel('True label')\n",
        "plt.xlabel('Predicted label');"
      ],
      "execution_count": 43,
      "outputs": [
        {
          "output_type": "display_data",
          "data": {
            "image/png": "[encoded data removed]",
            "text/plain": [
              "<Figure size 864x576 with 2 Axes>"
            ]
          },
          "metadata": {
            "tags": [],
            "image/png": {
              "width": 675,
              "height": 492
            }
          }
        }
      ]
    },
    {
      "cell_type": "markdown",
      "metadata": {
        "id": "w7IeHfcq71fn",
        "colab_type": "text"
      },
      "source": [
        "# 10 Fold cross validation"
      ]
    },
    {
      "cell_type": "code",
      "metadata": {
        "id": "sHHv3pbeU8MZ",
        "colab_type": "code",
        "colab": {
          "base_uri": "https://localhost:8080/",
          "height": 1000
        },
        "outputId": "af8407a1-b897-4684-f536-f9a459ec15d9"
      },
      "source": [
        "import random\n",
        "from sklearn.metrics import accuracy_score\n",
        "from sklearn.model_selection import train_test_split\n",
        "\n",
        "kFold = 10\n",
        "\n",
        "#To get accuracy of the model for 10 different splits\n",
        "scores = []\n",
        "training_accuracy = []\n",
        "testing_accuracy = []\n",
        "print(\"mBERT: \")\n",
        "for i in range(kFold):\n",
        "    print('\\n Fold ', i+1)\n",
        "    print('')\n",
        "    # Splitting data into test and train\n",
        "    train, test = train_test_split(df, test_size=0.10, shuffle = True)\n",
        "\n",
        "    classes = train.Label.unique().tolist()\n",
        "    data = IslamophobiaDetectionData(train, test, tokenizer, classes, max_seq_len=128)\n",
        "    model = create_model(data.max_seq_len, bert_ckpt_file)\n",
        "    history = model.fit( x=data.train_x, y=data.train_y,validation_split=0.1,batch_size=32, shuffle=True,epochs=5)\n",
        "    train_loss, train_acc = model.evaluate(data.train_x, data.train_y)\n",
        "    test_loss, test_acc = model.evaluate(data.test_x, data.test_y)\n",
        "    \n",
        "    training_accuracy.append(train_acc)\n",
        "    testing_accuracy.append(test_acc)\n",
        "\n",
        "    y_pred = model.predict(data.test_x).argmax(axis=-1)\n",
        "\n",
        "    scoreValue =accuracy_score(data.test_y, y_pred)\n",
        "    scores.append(scoreValue)\n"
      ],
      "execution_count": 44,
      "outputs": [
        {
          "output_type": "stream",
          "text": [
            "212it [00:00, 2105.29it/s]"
          ],
          "name": "stderr"
        },
        {
          "output_type": "stream",
          "text": [
            "mBERT: \n",
            "\n",
            " Fold  1\n",
            "\n"
          ],
          "name": "stdout"
        },
        {
          "output_type": "stream",
          "text": [
            "9110it [00:04, 2088.64it/s]\n",
            "1013it [00:00, 2094.78it/s]\n"
          ],
          "name": "stderr"
        },
        {
          "output_type": "stream",
          "text": [
            "max seq_len 167\n",
            "Done loading 196 BERT weights from: model/multi_cased_L-12_H-768_A-12/bert_model.ckpt into <bert.model.BertModelLayer object at 0x7f31040a4c18> (prefix:bert). Count of weights not found in the checkpoint was: [0]. Count of weights with mismatched shape: [0]\n",
            "Unused weights from checkpoint: \n",
            "\tbert/embeddings/token_type_embeddings\n",
            "\tbert/pooler/dense/bias\n",
            "\tbert/pooler/dense/kernel\n",
            "\tcls/predictions/output_bias\n",
            "\tcls/predictions/transform/LayerNorm/beta\n",
            "\tcls/predictions/transform/LayerNorm/gamma\n",
            "\tcls/predictions/transform/dense/bias\n",
            "\tcls/predictions/transform/dense/kernel\n",
            "\tcls/seq_relationship/output_bias\n",
            "\tcls/seq_relationship/output_weights\n",
            "Epoch 1/5\n",
            "257/257 [==============================] - 153s 596ms/step - loss: 0.7590 - acc: 0.7763 - val_loss: 0.6024 - val_acc: 0.9473\n",
            "Epoch 2/5\n",
            "257/257 [==============================] - 152s 592ms/step - loss: 0.6115 - acc: 0.9400 - val_loss: 0.5969 - val_acc: 0.9517\n",
            "Epoch 3/5\n",
            "257/257 [==============================] - 152s 592ms/step - loss: 0.6040 - acc: 0.9468 - val_loss: 0.5985 - val_acc: 0.9517\n",
            "Epoch 4/5\n",
            "257/257 [==============================] - 152s 590ms/step - loss: 0.5996 - acc: 0.9513 - val_loss: 0.5904 - val_acc: 0.9616\n",
            "Epoch 5/5\n",
            "257/257 [==============================] - 152s 590ms/step - loss: 0.5985 - acc: 0.9527 - val_loss: 0.5960 - val_acc: 0.9550\n",
            "285/285 [==============================] - 31s 107ms/step - loss: 0.5944 - acc: 0.9565\n",
            "32/32 [==============================] - 3s 104ms/step - loss: 0.6086 - acc: 0.9427\n"
          ],
          "name": "stdout"
        },
        {
          "output_type": "stream",
          "text": [
            "213it [00:00, 2124.88it/s]"
          ],
          "name": "stderr"
        },
        {
          "output_type": "stream",
          "text": [
            "\n",
            " Fold  2\n",
            "\n"
          ],
          "name": "stdout"
        },
        {
          "output_type": "stream",
          "text": [
            "9110it [00:04, 2107.85it/s]\n",
            "1013it [00:00, 2069.80it/s]\n"
          ],
          "name": "stderr"
        },
        {
          "output_type": "stream",
          "text": [
            "max seq_len 167\n",
            "Done loading 196 BERT weights from: model/multi_cased_L-12_H-768_A-12/bert_model.ckpt into <bert.model.BertModelLayer object at 0x7f2e33b11048> (prefix:bert). Count of weights not found in the checkpoint was: [0]. Count of weights with mismatched shape: [0]\n",
            "Unused weights from checkpoint: \n",
            "\tbert/embeddings/token_type_embeddings\n",
            "\tbert/pooler/dense/bias\n",
            "\tbert/pooler/dense/kernel\n",
            "\tcls/predictions/output_bias\n",
            "\tcls/predictions/transform/LayerNorm/beta\n",
            "\tcls/predictions/transform/LayerNorm/gamma\n",
            "\tcls/predictions/transform/dense/bias\n",
            "\tcls/predictions/transform/dense/kernel\n",
            "\tcls/seq_relationship/output_bias\n",
            "\tcls/seq_relationship/output_weights\n",
            "Epoch 1/5\n",
            "257/257 [==============================] - 154s 600ms/step - loss: 0.8452 - acc: 0.6751 - val_loss: 0.6172 - val_acc: 0.9319\n",
            "Epoch 2/5\n",
            "257/257 [==============================] - 150s 586ms/step - loss: 0.6134 - acc: 0.9378 - val_loss: 0.6085 - val_acc: 0.9407\n",
            "Epoch 3/5\n",
            "257/257 [==============================] - 149s 581ms/step - loss: 0.6061 - acc: 0.9445 - val_loss: 0.6072 - val_acc: 0.9440\n",
            "Epoch 4/5\n",
            "257/257 [==============================] - 150s 583ms/step - loss: 0.5981 - acc: 0.9523 - val_loss: 0.5948 - val_acc: 0.9561\n",
            "Epoch 5/5\n",
            "257/257 [==============================] - 150s 583ms/step - loss: 0.6045 - acc: 0.9467 - val_loss: 0.6031 - val_acc: 0.9484\n",
            "285/285 [==============================] - 31s 108ms/step - loss: 0.5950 - acc: 0.9565\n",
            "32/32 [==============================] - 3s 104ms/step - loss: 0.5964 - acc: 0.9556\n"
          ],
          "name": "stdout"
        },
        {
          "output_type": "stream",
          "text": [
            "210it [00:00, 2096.32it/s]"
          ],
          "name": "stderr"
        },
        {
          "output_type": "stream",
          "text": [
            "\n",
            " Fold  3\n",
            "\n"
          ],
          "name": "stdout"
        },
        {
          "output_type": "stream",
          "text": [
            "9110it [00:04, 2124.70it/s]\n",
            "1013it [00:00, 2103.91it/s]\n"
          ],
          "name": "stderr"
        },
        {
          "output_type": "stream",
          "text": [
            "max seq_len 167\n",
            "Done loading 196 BERT weights from: model/multi_cased_L-12_H-768_A-12/bert_model.ckpt into <bert.model.BertModelLayer object at 0x7f2e33b090f0> (prefix:bert). Count of weights not found in the checkpoint was: [0]. Count of weights with mismatched shape: [0]\n",
            "Unused weights from checkpoint: \n",
            "\tbert/embeddings/token_type_embeddings\n",
            "\tbert/pooler/dense/bias\n",
            "\tbert/pooler/dense/kernel\n",
            "\tcls/predictions/output_bias\n",
            "\tcls/predictions/transform/LayerNorm/beta\n",
            "\tcls/predictions/transform/LayerNorm/gamma\n",
            "\tcls/predictions/transform/dense/bias\n",
            "\tcls/predictions/transform/dense/kernel\n",
            "\tcls/seq_relationship/output_bias\n",
            "\tcls/seq_relationship/output_weights\n",
            "Epoch 1/5\n",
            "257/257 [==============================] - 154s 600ms/step - loss: 0.8086 - acc: 0.7196 - val_loss: 0.6042 - val_acc: 0.9484\n",
            "Epoch 2/5\n",
            "257/257 [==============================] - 150s 585ms/step - loss: 0.6121 - acc: 0.9382 - val_loss: 0.5998 - val_acc: 0.9517\n",
            "Epoch 3/5\n",
            "257/257 [==============================] - 149s 581ms/step - loss: 0.6006 - acc: 0.9502 - val_loss: 0.6114 - val_acc: 0.9385\n",
            "Epoch 4/5\n",
            "257/257 [==============================] - 149s 579ms/step - loss: 0.5970 - acc: 0.9541 - val_loss: 0.5955 - val_acc: 0.9561\n",
            "Epoch 5/5\n",
            "257/257 [==============================] - 149s 579ms/step - loss: 0.5969 - acc: 0.9546 - val_loss: 0.5926 - val_acc: 0.9594\n",
            "285/285 [==============================] - 31s 108ms/step - loss: 0.5873 - acc: 0.9638\n",
            "32/32 [==============================] - 3s 104ms/step - loss: 0.5986 - acc: 0.9526\n"
          ],
          "name": "stdout"
        },
        {
          "output_type": "stream",
          "text": [
            "208it [00:00, 2077.87it/s]"
          ],
          "name": "stderr"
        },
        {
          "output_type": "stream",
          "text": [
            "\n",
            " Fold  4\n",
            "\n"
          ],
          "name": "stdout"
        },
        {
          "output_type": "stream",
          "text": [
            "9110it [00:04, 2143.15it/s]\n",
            "1013it [00:00, 2062.23it/s]\n"
          ],
          "name": "stderr"
        },
        {
          "output_type": "stream",
          "text": [
            "max seq_len 167\n",
            "Done loading 196 BERT weights from: model/multi_cased_L-12_H-768_A-12/bert_model.ckpt into <bert.model.BertModelLayer object at 0x7f2e3fbe4e80> (prefix:bert). Count of weights not found in the checkpoint was: [0]. Count of weights with mismatched shape: [0]\n",
            "Unused weights from checkpoint: \n",
            "\tbert/embeddings/token_type_embeddings\n",
            "\tbert/pooler/dense/bias\n",
            "\tbert/pooler/dense/kernel\n",
            "\tcls/predictions/output_bias\n",
            "\tcls/predictions/transform/LayerNorm/beta\n",
            "\tcls/predictions/transform/LayerNorm/gamma\n",
            "\tcls/predictions/transform/dense/bias\n",
            "\tcls/predictions/transform/dense/kernel\n",
            "\tcls/seq_relationship/output_bias\n",
            "\tcls/seq_relationship/output_weights\n",
            "Epoch 1/5\n",
            "257/257 [==============================] - 153s 594ms/step - loss: 0.8501 - acc: 0.6781 - val_loss: 0.6164 - val_acc: 0.9341\n",
            "Epoch 2/5\n",
            "257/257 [==============================] - 150s 582ms/step - loss: 0.6293 - acc: 0.9217 - val_loss: 0.6144 - val_acc: 0.9363\n",
            "Epoch 3/5\n",
            "257/257 [==============================] - 149s 580ms/step - loss: 0.6172 - acc: 0.9334 - val_loss: 0.6082 - val_acc: 0.9407\n",
            "Epoch 4/5\n",
            "257/257 [==============================] - 148s 576ms/step - loss: 0.6093 - acc: 0.9423 - val_loss: 0.5987 - val_acc: 0.9528\n",
            "Epoch 5/5\n",
            "257/257 [==============================] - 149s 578ms/step - loss: 0.6021 - acc: 0.9485 - val_loss: 0.5921 - val_acc: 0.9583\n",
            "285/285 [==============================] - 31s 108ms/step - loss: 0.5943 - acc: 0.9565\n",
            "32/32 [==============================] - 3s 104ms/step - loss: 0.5988 - acc: 0.9516\n"
          ],
          "name": "stdout"
        },
        {
          "output_type": "stream",
          "text": [
            "201it [00:00, 2009.41it/s]"
          ],
          "name": "stderr"
        },
        {
          "output_type": "stream",
          "text": [
            "\n",
            " Fold  5\n",
            "\n"
          ],
          "name": "stdout"
        },
        {
          "output_type": "stream",
          "text": [
            "9110it [00:04, 2076.61it/s]\n",
            "1013it [00:00, 2121.89it/s]\n"
          ],
          "name": "stderr"
        },
        {
          "output_type": "stream",
          "text": [
            "max seq_len 167\n",
            "Done loading 196 BERT weights from: model/multi_cased_L-12_H-768_A-12/bert_model.ckpt into <bert.model.BertModelLayer object at 0x7f2e351bdb38> (prefix:bert). Count of weights not found in the checkpoint was: [0]. Count of weights with mismatched shape: [0]\n",
            "Unused weights from checkpoint: \n",
            "\tbert/embeddings/token_type_embeddings\n",
            "\tbert/pooler/dense/bias\n",
            "\tbert/pooler/dense/kernel\n",
            "\tcls/predictions/output_bias\n",
            "\tcls/predictions/transform/LayerNorm/beta\n",
            "\tcls/predictions/transform/LayerNorm/gamma\n",
            "\tcls/predictions/transform/dense/bias\n",
            "\tcls/predictions/transform/dense/kernel\n",
            "\tcls/seq_relationship/output_bias\n",
            "\tcls/seq_relationship/output_weights\n",
            "Epoch 1/5\n",
            "257/257 [==============================] - 147s 574ms/step - loss: 0.8051 - acc: 0.7234 - val_loss: 0.6174 - val_acc: 0.9330\n",
            "Epoch 2/5\n",
            "257/257 [==============================] - 144s 562ms/step - loss: 0.6106 - acc: 0.9404 - val_loss: 0.6040 - val_acc: 0.9462\n",
            "Epoch 3/5\n",
            "257/257 [==============================] - 145s 562ms/step - loss: 0.6043 - acc: 0.9465 - val_loss: 0.6083 - val_acc: 0.9440\n",
            "Epoch 4/5\n",
            "257/257 [==============================] - 145s 564ms/step - loss: 0.5957 - acc: 0.9554 - val_loss: 0.5949 - val_acc: 0.9550\n",
            "Epoch 5/5\n",
            "257/257 [==============================] - 145s 563ms/step - loss: 0.5923 - acc: 0.9583 - val_loss: 0.5975 - val_acc: 0.9528\n",
            "285/285 [==============================] - 31s 107ms/step - loss: 0.5889 - acc: 0.9618\n",
            "32/32 [==============================] - 4s 110ms/step - loss: 0.6041 - acc: 0.9467\n"
          ],
          "name": "stdout"
        },
        {
          "output_type": "stream",
          "text": [
            "217it [00:00, 2166.42it/s]"
          ],
          "name": "stderr"
        },
        {
          "output_type": "stream",
          "text": [
            "\n",
            " Fold  6\n",
            "\n"
          ],
          "name": "stdout"
        },
        {
          "output_type": "stream",
          "text": [
            "9110it [00:04, 2128.72it/s]\n",
            "1013it [00:00, 2161.23it/s]\n"
          ],
          "name": "stderr"
        },
        {
          "output_type": "stream",
          "text": [
            "max seq_len 167\n",
            "Done loading 196 BERT weights from: model/multi_cased_L-12_H-768_A-12/bert_model.ckpt into <bert.model.BertModelLayer object at 0x7f2e3373e5f8> (prefix:bert). Count of weights not found in the checkpoint was: [0]. Count of weights with mismatched shape: [0]\n",
            "Unused weights from checkpoint: \n",
            "\tbert/embeddings/token_type_embeddings\n",
            "\tbert/pooler/dense/bias\n",
            "\tbert/pooler/dense/kernel\n",
            "\tcls/predictions/output_bias\n",
            "\tcls/predictions/transform/LayerNorm/beta\n",
            "\tcls/predictions/transform/LayerNorm/gamma\n",
            "\tcls/predictions/transform/dense/bias\n",
            "\tcls/predictions/transform/dense/kernel\n",
            "\tcls/seq_relationship/output_bias\n",
            "\tcls/seq_relationship/output_weights\n",
            "Epoch 1/5\n",
            "257/257 [==============================] - 149s 580ms/step - loss: 0.7645 - acc: 0.7727 - val_loss: 0.6235 - val_acc: 0.9265\n",
            "Epoch 2/5\n",
            "257/257 [==============================] - 146s 569ms/step - loss: 0.6089 - acc: 0.9424 - val_loss: 0.6232 - val_acc: 0.9276\n",
            "Epoch 3/5\n",
            "257/257 [==============================] - 146s 568ms/step - loss: 0.6030 - acc: 0.9478 - val_loss: 0.6062 - val_acc: 0.9440\n",
            "Epoch 4/5\n",
            "257/257 [==============================] - 145s 565ms/step - loss: 0.5997 - acc: 0.9511 - val_loss: 0.5972 - val_acc: 0.9539\n",
            "Epoch 5/5\n",
            "257/257 [==============================] - 145s 562ms/step - loss: 0.5993 - acc: 0.9516 - val_loss: 0.5983 - val_acc: 0.9506\n",
            "285/285 [==============================] - 31s 107ms/step - loss: 0.5906 - acc: 0.9602\n",
            "32/32 [==============================] - 3s 106ms/step - loss: 0.5961 - acc: 0.9546\n"
          ],
          "name": "stdout"
        },
        {
          "output_type": "stream",
          "text": [
            "219it [00:00, 2187.60it/s]"
          ],
          "name": "stderr"
        },
        {
          "output_type": "stream",
          "text": [
            "\n",
            " Fold  7\n",
            "\n"
          ],
          "name": "stdout"
        },
        {
          "output_type": "stream",
          "text": [
            "9110it [00:04, 2122.71it/s]\n",
            "1013it [00:00, 2122.82it/s]\n"
          ],
          "name": "stderr"
        },
        {
          "output_type": "stream",
          "text": [
            "max seq_len 167\n",
            "Done loading 196 BERT weights from: model/multi_cased_L-12_H-768_A-12/bert_model.ckpt into <bert.model.BertModelLayer object at 0x7f2e3564b5f8> (prefix:bert). Count of weights not found in the checkpoint was: [0]. Count of weights with mismatched shape: [0]\n",
            "Unused weights from checkpoint: \n",
            "\tbert/embeddings/token_type_embeddings\n",
            "\tbert/pooler/dense/bias\n",
            "\tbert/pooler/dense/kernel\n",
            "\tcls/predictions/output_bias\n",
            "\tcls/predictions/transform/LayerNorm/beta\n",
            "\tcls/predictions/transform/LayerNorm/gamma\n",
            "\tcls/predictions/transform/dense/bias\n",
            "\tcls/predictions/transform/dense/kernel\n",
            "\tcls/seq_relationship/output_bias\n",
            "\tcls/seq_relationship/output_weights\n",
            "Epoch 1/5\n",
            "257/257 [==============================] - 149s 578ms/step - loss: 0.7665 - acc: 0.7700 - val_loss: 0.6063 - val_acc: 0.9429\n",
            "Epoch 2/5\n",
            "257/257 [==============================] - 146s 568ms/step - loss: 0.6219 - acc: 0.9288 - val_loss: 0.6019 - val_acc: 0.9484\n",
            "Epoch 3/5\n",
            "257/257 [==============================] - 146s 568ms/step - loss: 0.6071 - acc: 0.9432 - val_loss: 0.5933 - val_acc: 0.9572\n",
            "Epoch 4/5\n",
            "257/257 [==============================] - 146s 567ms/step - loss: 0.6009 - acc: 0.9493 - val_loss: 0.5968 - val_acc: 0.9539\n",
            "Epoch 5/5\n",
            "257/257 [==============================] - 146s 566ms/step - loss: 0.5992 - acc: 0.9513 - val_loss: 0.5910 - val_acc: 0.9594\n",
            "285/285 [==============================] - 31s 107ms/step - loss: 0.5911 - acc: 0.9602\n",
            "32/32 [==============================] - 3s 104ms/step - loss: 0.5936 - acc: 0.9566\n"
          ],
          "name": "stdout"
        },
        {
          "output_type": "stream",
          "text": [
            "221it [00:00, 2208.17it/s]"
          ],
          "name": "stderr"
        },
        {
          "output_type": "stream",
          "text": [
            "\n",
            " Fold  8\n",
            "\n"
          ],
          "name": "stdout"
        },
        {
          "output_type": "stream",
          "text": [
            "9110it [00:04, 2155.72it/s]\n",
            "1013it [00:00, 2145.15it/s]\n"
          ],
          "name": "stderr"
        },
        {
          "output_type": "stream",
          "text": [
            "max seq_len 167\n",
            "Done loading 196 BERT weights from: model/multi_cased_L-12_H-768_A-12/bert_model.ckpt into <bert.model.BertModelLayer object at 0x7f2e327c63c8> (prefix:bert). Count of weights not found in the checkpoint was: [0]. Count of weights with mismatched shape: [0]\n",
            "Unused weights from checkpoint: \n",
            "\tbert/embeddings/token_type_embeddings\n",
            "\tbert/pooler/dense/bias\n",
            "\tbert/pooler/dense/kernel\n",
            "\tcls/predictions/output_bias\n",
            "\tcls/predictions/transform/LayerNorm/beta\n",
            "\tcls/predictions/transform/LayerNorm/gamma\n",
            "\tcls/predictions/transform/dense/bias\n",
            "\tcls/predictions/transform/dense/kernel\n",
            "\tcls/seq_relationship/output_bias\n",
            "\tcls/seq_relationship/output_weights\n",
            "Epoch 1/5\n",
            "257/257 [==============================] - 150s 583ms/step - loss: 0.8268 - acc: 0.7065 - val_loss: 0.6375 - val_acc: 0.9111\n",
            "Epoch 2/5\n",
            "257/257 [==============================] - 147s 572ms/step - loss: 0.6264 - acc: 0.9236 - val_loss: 0.6140 - val_acc: 0.9374\n",
            "Epoch 3/5\n",
            "257/257 [==============================] - 147s 570ms/step - loss: 0.6111 - acc: 0.9400 - val_loss: 0.6030 - val_acc: 0.9495\n",
            "Epoch 4/5\n",
            "257/257 [==============================] - 147s 572ms/step - loss: 0.6011 - acc: 0.9508 - val_loss: 0.6039 - val_acc: 0.9462\n",
            "Epoch 5/5\n",
            "257/257 [==============================] - 147s 571ms/step - loss: 0.5988 - acc: 0.9521 - val_loss: 0.5931 - val_acc: 0.9572\n",
            "285/285 [==============================] - 31s 107ms/step - loss: 0.5894 - acc: 0.9608\n",
            "32/32 [==============================] - 3s 104ms/step - loss: 0.6089 - acc: 0.9408\n"
          ],
          "name": "stdout"
        },
        {
          "output_type": "stream",
          "text": [
            "220it [00:00, 2196.17it/s]"
          ],
          "name": "stderr"
        },
        {
          "output_type": "stream",
          "text": [
            "\n",
            " Fold  9\n",
            "\n"
          ],
          "name": "stdout"
        },
        {
          "output_type": "stream",
          "text": [
            "9110it [00:04, 2116.30it/s]\n",
            "1013it [00:00, 2162.61it/s]\n"
          ],
          "name": "stderr"
        },
        {
          "output_type": "stream",
          "text": [
            "max seq_len 167\n",
            "Done loading 196 BERT weights from: model/multi_cased_L-12_H-768_A-12/bert_model.ckpt into <bert.model.BertModelLayer object at 0x7f310490cf28> (prefix:bert). Count of weights not found in the checkpoint was: [0]. Count of weights with mismatched shape: [0]\n",
            "Unused weights from checkpoint: \n",
            "\tbert/embeddings/token_type_embeddings\n",
            "\tbert/pooler/dense/bias\n",
            "\tbert/pooler/dense/kernel\n",
            "\tcls/predictions/output_bias\n",
            "\tcls/predictions/transform/LayerNorm/beta\n",
            "\tcls/predictions/transform/LayerNorm/gamma\n",
            "\tcls/predictions/transform/dense/bias\n",
            "\tcls/predictions/transform/dense/kernel\n",
            "\tcls/seq_relationship/output_bias\n",
            "\tcls/seq_relationship/output_weights\n",
            "Epoch 1/5\n",
            "257/257 [==============================] - 152s 593ms/step - loss: 0.7550 - acc: 0.7828 - val_loss: 0.6125 - val_acc: 0.9352\n",
            "Epoch 2/5\n",
            "257/257 [==============================] - 149s 580ms/step - loss: 0.6121 - acc: 0.9383 - val_loss: 0.6027 - val_acc: 0.9495\n",
            "Epoch 3/5\n",
            "257/257 [==============================] - 150s 582ms/step - loss: 0.6021 - acc: 0.9485 - val_loss: 0.5975 - val_acc: 0.9517\n",
            "Epoch 4/5\n",
            "257/257 [==============================] - 150s 583ms/step - loss: 0.6001 - acc: 0.9504 - val_loss: 0.5995 - val_acc: 0.9528\n",
            "Epoch 5/5\n",
            "257/257 [==============================] - 150s 582ms/step - loss: 0.5961 - acc: 0.9551 - val_loss: 0.5952 - val_acc: 0.9561\n",
            "285/285 [==============================] - 31s 108ms/step - loss: 0.5876 - acc: 0.9633\n",
            "32/32 [==============================] - 3s 104ms/step - loss: 0.5863 - acc: 0.9654\n"
          ],
          "name": "stdout"
        },
        {
          "output_type": "stream",
          "text": [
            "219it [00:00, 2184.15it/s]"
          ],
          "name": "stderr"
        },
        {
          "output_type": "stream",
          "text": [
            "\n",
            " Fold  10\n",
            "\n"
          ],
          "name": "stdout"
        },
        {
          "output_type": "stream",
          "text": [
            "9110it [00:04, 2077.90it/s]\n",
            "1013it [00:00, 2075.86it/s]\n"
          ],
          "name": "stderr"
        },
        {
          "output_type": "stream",
          "text": [
            "max seq_len 167\n",
            "Done loading 196 BERT weights from: model/multi_cased_L-12_H-768_A-12/bert_model.ckpt into <bert.model.BertModelLayer object at 0x7f2e35474e10> (prefix:bert). Count of weights not found in the checkpoint was: [0]. Count of weights with mismatched shape: [0]\n",
            "Unused weights from checkpoint: \n",
            "\tbert/embeddings/token_type_embeddings\n",
            "\tbert/pooler/dense/bias\n",
            "\tbert/pooler/dense/kernel\n",
            "\tcls/predictions/output_bias\n",
            "\tcls/predictions/transform/LayerNorm/beta\n",
            "\tcls/predictions/transform/LayerNorm/gamma\n",
            "\tcls/predictions/transform/dense/bias\n",
            "\tcls/predictions/transform/dense/kernel\n",
            "\tcls/seq_relationship/output_bias\n",
            "\tcls/seq_relationship/output_weights\n",
            "Epoch 1/5\n",
            "257/257 [==============================] - 152s 592ms/step - loss: 0.7371 - acc: 0.8053 - val_loss: 0.5996 - val_acc: 0.9517\n",
            "Epoch 2/5\n",
            "257/257 [==============================] - 149s 580ms/step - loss: 0.6118 - acc: 0.9394 - val_loss: 0.5939 - val_acc: 0.9583\n",
            "Epoch 3/5\n",
            "257/257 [==============================] - 148s 578ms/step - loss: 0.6011 - acc: 0.9499 - val_loss: 0.5915 - val_acc: 0.9594\n",
            "Epoch 4/5\n",
            "257/257 [==============================] - 148s 575ms/step - loss: 0.5997 - acc: 0.9510 - val_loss: 0.5898 - val_acc: 0.9605\n",
            "Epoch 5/5\n",
            "257/257 [==============================] - 148s 575ms/step - loss: 0.5984 - acc: 0.9524 - val_loss: 0.5895 - val_acc: 0.9605\n",
            "285/285 [==============================] - 31s 107ms/step - loss: 0.5906 - acc: 0.9608\n",
            "32/32 [==============================] - 3s 104ms/step - loss: 0.6026 - acc: 0.9487\n"
          ],
          "name": "stdout"
        }
      ]
    },
    {
      "cell_type": "code",
      "metadata": {
        "id": "RYtq3EIqeqPk",
        "colab_type": "code",
        "colab": {
          "base_uri": "https://localhost:8080/",
          "height": 67
        },
        "outputId": "b4117cca-c6c9-432e-f2d9-d3a6e614216d"
      },
      "source": [
        "\n",
        "print('')\n",
        "Mean_score = sum(scores) / len(scores)\n",
        "print(f\" Mean predict: {Mean_score}\" )\n",
        "\n",
        "mean_test = sum(testing_accuracy)/len(testing_accuracy)\n",
        "print(f\" Mean testing accuracy for 10 folds: {mean_test}\" )"
      ],
      "execution_count": 45,
      "outputs": [
        {
          "output_type": "stream",
          "text": [
            "\n",
            " Mean predict: 0.9515301085883514\n",
            " Mean testing accuracy for 10 folds: 0.9515301048755646\n"
          ],
          "name": "stdout"
        }
      ]
    },
    {
      "cell_type": "code",
      "metadata": {
        "id": "6Feyo0ULAmEW",
        "colab_type": "code",
        "colab": {
          "base_uri": "https://localhost:8080/",
          "height": 420
        },
        "outputId": "ce48459e-70b5-457d-f43e-4d8f47b0ac2c"
      },
      "source": [
        "translator = Translator()\n",
        "sentences = []\n",
        "# 1\n",
        "hin_text =  \"इसलाम सुंदर है\"\n",
        "print(\"Hindi: \", hin_text)\n",
        "\n",
        "trans = translator.translate(hin_text, dest='en')\n",
        "print('Translated:', trans.text)\n",
        "print()\n",
        "sentences.append(trans.text)\n",
        "\n",
        "# 0\n",
        "hin_text =  \" समाज वादी  पार्टी  जिंदाबाद \"\n",
        "print(\"Hindi: \", hin_text)\n",
        "\n",
        "trans = translator.translate(hin_text, dest='en')\n",
        "print('Translated:', trans.text)\n",
        "print()\n",
        "sentences.append(trans.text)\n",
        "\n",
        "# 2\n",
        "hin_text =  \"'गाजा में दीवाली   की ढेरो बधाई मित्रो 😊💐  #IsraeliBombing 😂😂\"\n",
        "print(\"Hindi: \", hin_text)\n",
        "\n",
        "trans = translator.translate(hin_text, dest='en')\n",
        "print('Translated:', trans.text)\n",
        "print()\n",
        "sentences.append(trans.text)\n",
        "\n",
        "# 2\n",
        "sentences.append( \"Play our song now you asshole jehadi muslim\")\n",
        "\n",
        "# 0\n",
        "sentences.append( \"Rate this book as awful\")\n",
        "\n",
        "\n",
        "pred_tokens = map(tokenizer.tokenize, sentences)\n",
        "pred_tokens = map(lambda tok: [\"[CLS]\"] + tok + [\"[SEP]\"], pred_tokens)\n",
        "pred_token_ids = list(map(tokenizer.convert_tokens_to_ids, pred_tokens))\n",
        "\n",
        "pred_token_ids = map(lambda tids: tids +[0]*(data.max_seq_len-len(tids)),pred_token_ids)\n",
        "pred_token_ids = np.array(list(pred_token_ids))\n",
        "\n",
        "predictions = model.predict(pred_token_ids).argmax(axis=-1)\n",
        "\n",
        "for text, label in zip(sentences, predictions):\n",
        "  print(\"text:\", text, \"\\nLabel:\", classes[label])\n",
        "  print()"
      ],
      "execution_count": 49,
      "outputs": [
        {
          "output_type": "stream",
          "text": [
            "Hindi:  इसलाम सुंदर है\n",
            "Translated: Islam is beautiful\n",
            "\n",
            "Hindi:   समाज वादी  पार्टी  जिंदाबाद \n",
            "Translated: Samajwadi Party Zindabad\n",
            "\n",
            "Hindi:  'गाजा में दीवाली   की ढेरो बधाई मित्रो 😊💐  #IsraeliBombing 😂😂\n",
            "Translated: 'Happy Diwali greetings in Gaza Friends 😊💐 #IsraeliBombing 😂😂\n",
            "\n",
            "text: Islam is beautiful \n",
            "Label: 2\n",
            "\n",
            "text: Samajwadi Party Zindabad \n",
            "Label: 2\n",
            "\n",
            "text: 'Happy Diwali greetings in Gaza Friends 😊💐 #IsraeliBombing 😂😂 \n",
            "Label: 0\n",
            "\n",
            "text: Play our song now you asshole jehadi muslim \n",
            "Label: 2\n",
            "\n",
            "text: Rate this book as awful \n",
            "Label: 2\n",
            "\n"
          ],
          "name": "stdout"
        }
      ]
    },
    {
      "cell_type": "code",
      "metadata": {
        "id": "J6-dcpQ1IT57",
        "colab_type": "code",
        "colab": {
          "base_uri": "https://localhost:8080/",
          "height": 218
        },
        "outputId": "cb91be53-b9cf-4868-c2e0-ed1f5b9a016e"
      },
      "source": [
        "\n",
        "sentences = []\n",
        "# 1\n",
        "hin_text =  \"इसलाम सुंदर है\"\n",
        "sentences.append(hin_text)\n",
        "\n",
        "# 0\n",
        "hin_text =  \" समाज वादी  पार्टी  जिंदाबाद \"\n",
        "sentences.append(hin_text)\n",
        "\n",
        "# 2\n",
        "hin_text =  \"'गाजा में दीवाली की ढेरो बधाई मित्रो 😊💐  #IsraeliBombing 😂😂\"\n",
        "sentences.append(hin_text)\n",
        "\n",
        "# 2\n",
        "hin_text =  \"मुस्लिम जेहादी देशद्रोही\"\n",
        "sentences.append(hin_text)\n",
        "\n",
        "\n",
        "pred_tokens = map(tokenizer.tokenize, sentences)\n",
        "pred_tokens = map(lambda tok: [\"[CLS]\"] + tok + [\"[SEP]\"], pred_tokens)\n",
        "pred_token_ids = list(map(tokenizer.convert_tokens_to_ids, pred_tokens))\n",
        "\n",
        "pred_token_ids = map(lambda tids: tids +[0]*(data.max_seq_len-len(tids)),pred_token_ids)\n",
        "pred_token_ids = np.array(list(pred_token_ids))\n",
        "\n",
        "predictions = model.predict(pred_token_ids).argmax(axis=-1)\n",
        "\n",
        "for text, label in zip(sentences, predictions):\n",
        "  print(\"text:\", text, \"\\nLabel:\", classes[label])\n",
        "  print()"
      ],
      "execution_count": 48,
      "outputs": [
        {
          "output_type": "stream",
          "text": [
            "text: इसलाम सुंदर है \n",
            "Label: 1\n",
            "\n",
            "text:  समाज वादी  पार्टी  जिंदाबाद  \n",
            "Label: 0\n",
            "\n",
            "text: 'गाजा में दीवाली की ढेरो बधाई मित्रो 😊💐  #IsraeliBombing 😂😂 \n",
            "Label: 0\n",
            "\n",
            "text: मुस्लिम जेहादी देशद्रोही \n",
            "Label: 2\n",
            "\n"
          ],
          "name": "stdout"
        }
      ]
    },
    {
      "cell_type": "markdown",
      "metadata": {
        "id": "nhtAuYJTxItA",
        "colab_type": "text"
      },
      "source": [
        "# Reference\n",
        "\n",
        "1. Movie Reviews with bert-for-tf2 https://colab.research.google.com/drive/1esTDT7S7-31Uiwr8Hj1meV1aokeo8AYX?authuser=1"
      ]
    },
    {
      "cell_type": "code",
      "metadata": {
        "id": "SWQwdzn4zFUn",
        "colab_type": "code",
        "colab": {}
      },
      "source": [
        ""
      ],
      "execution_count": 46,
      "outputs": []
    }
  ]
}