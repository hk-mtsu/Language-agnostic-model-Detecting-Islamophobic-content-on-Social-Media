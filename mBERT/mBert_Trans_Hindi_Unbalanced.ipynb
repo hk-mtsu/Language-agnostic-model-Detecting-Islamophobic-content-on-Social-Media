{
  "nbformat": 4,
  "nbformat_minor": 0,
  "metadata": {
    "colab": {
      "name": "mBert_Trans_Hindi_Unbalanced.ipynb",
      "provenance": [],
      "collapsed_sections": [],
      "machine_shape": "hm",
      "include_colab_link": true
    },
    "kernelspec": {
      "name": "python3",
      "display_name": "Python 3"
    },
    "accelerator": "GPU"
  },
  "cells": [
    {
      "cell_type": "markdown",
      "metadata": {
        "id": "view-in-github",
        "colab_type": "text"
      },
      "source": [
        "<a href=\"https://colab.research.google.com/github/Hennakhan/Detecting-Islamophobia/blob/master/mBert_Trans_Hindi_Unbalanced.ipynb\" target=\"_parent\"><img src=\"https://colab.research.google.com/assets/colab-badge.svg\" alt=\"Open In Colab\"/></a>"
      ]
    },
    {
      "cell_type": "code",
      "metadata": {
        "id": "vr1ssFIS3soG",
        "outputId": "90e105a2-91bd-4677-87cd-5228916de3a6",
        "colab": {
          "base_uri": "https://localhost:8080/",
          "height": 34
        }
      },
      "source": [
        "%tensorflow_version 2.x\n",
        "import tensorflow as tf\n",
        "device_name = tf.test.gpu_device_name()\n",
        "if device_name != '/device:GPU:0':\n",
        "  raise SystemError('GPU device not found')\n",
        "print('Found GPU at: {}'.format(device_name))"
      ],
      "execution_count": null,
      "outputs": [
        {
          "output_type": "stream",
          "text": [
            "Found GPU at: /device:GPU:0\n"
          ],
          "name": "stdout"
        }
      ]
    },
    {
      "cell_type": "code",
      "metadata": {
        "id": "e6-m4PVSZqTk",
        "outputId": "e77eb031-7cad-4b52-a10c-4730fcb799d8",
        "colab": {
          "base_uri": "https://localhost:8080/",
          "height": 118
        }
      },
      "source": [
        "%tensorflow_version 2.x\n",
        "import tensorflow as tf\n",
        "import timeit\n",
        "\n",
        "device_name = tf.test.gpu_device_name()\n",
        "if device_name != '/device:GPU:0':\n",
        "  print(\n",
        "      '\\n\\nThis error most likely means that this notebook is not '\n",
        "      'configured to use a GPU.  Change this in Notebook Settings via the '\n",
        "      'command palette (cmd/ctrl-shift-P) or the Edit menu.\\n\\n')\n",
        "  raise SystemError('GPU device not found')\n",
        "\n",
        "def cpu():\n",
        "  with tf.device('/cpu:0'):\n",
        "    random_image_cpu = tf.random.normal((100, 100, 100, 3))\n",
        "    net_cpu = tf.keras.layers.Conv2D(32, 7)(random_image_cpu)\n",
        "    return tf.math.reduce_sum(net_cpu)\n",
        "\n",
        "def gpu():\n",
        "  with tf.device('/device:GPU:0'):\n",
        "    random_image_gpu = tf.random.normal((100, 100, 100, 3))\n",
        "    net_gpu = tf.keras.layers.Conv2D(32, 7)(random_image_gpu)\n",
        "    return tf.math.reduce_sum(net_gpu)\n",
        "  \n",
        "# We run each op once to warm up; see: https://stackoverflow.com/a/45067900\n",
        "cpu()\n",
        "gpu()\n",
        "\n",
        "# Run the op several times.\n",
        "print('Time (s) to convolve 32x7x7x3 filter over random 100x100x100x3 images '\n",
        "      '(batch x height x width x channel). Sum of ten runs.')\n",
        "print('CPU (s):')\n",
        "cpu_time = timeit.timeit('cpu()', number=10, setup=\"from __main__ import cpu\")\n",
        "print(cpu_time)\n",
        "print('GPU (s):')\n",
        "gpu_time = timeit.timeit('gpu()', number=10, setup=\"from __main__ import gpu\")\n",
        "print(gpu_time)\n",
        "print('GPU speedup over CPU: {}x'.format(int(cpu_time/gpu_time)))"
      ],
      "execution_count": null,
      "outputs": [
        {
          "output_type": "stream",
          "text": [
            "Time (s) to convolve 32x7x7x3 filter over random 100x100x100x3 images (batch x height x width x channel). Sum of ten runs.\n",
            "CPU (s):\n",
            "1.7812068460000035\n",
            "GPU (s):\n",
            "0.04873828600000252\n",
            "GPU speedup over CPU: 36x\n"
          ],
          "name": "stdout"
        }
      ]
    },
    {
      "cell_type": "markdown",
      "metadata": {
        "id": "ROSg9T9EzYDf"
      },
      "source": [
        "# Islamophhobia Detection with BERT using Keras and TensorFlow 2"
      ]
    },
    {
      "cell_type": "code",
      "metadata": {
        "id": "LV210YNdrKIi",
        "outputId": "6a92a4ae-b6ae-45d5-cc13-69a6f24c3c34",
        "colab": {
          "base_uri": "https://localhost:8080/",
          "height": 353
        }
      },
      "source": [
        "!nvidia-smi"
      ],
      "execution_count": null,
      "outputs": [
        {
          "output_type": "stream",
          "text": [
            "Mon Oct 19 19:34:20 2020       \n",
            "+-----------------------------------------------------------------------------+\n",
            "| NVIDIA-SMI 455.23.05    Driver Version: 418.67       CUDA Version: 10.1     |\n",
            "|-------------------------------+----------------------+----------------------+\n",
            "| GPU  Name        Persistence-M| Bus-Id        Disp.A | Volatile Uncorr. ECC |\n",
            "| Fan  Temp  Perf  Pwr:Usage/Cap|         Memory-Usage | GPU-Util  Compute M. |\n",
            "|                               |                      |               MIG M. |\n",
            "|===============================+======================+======================|\n",
            "|   0  Tesla V100-SXM2...  Off  | 00000000:00:04.0 Off |                    0 |\n",
            "| N/A   36C    P0    39W / 300W |   1951MiB / 16130MiB |     10%      Default |\n",
            "|                               |                      |                 ERR! |\n",
            "+-------------------------------+----------------------+----------------------+\n",
            "                                                                               \n",
            "+-----------------------------------------------------------------------------+\n",
            "| Processes:                                                                  |\n",
            "|  GPU   GI   CI        PID   Type   Process name                  GPU Memory |\n",
            "|        ID   ID                                                   Usage      |\n",
            "|=============================================================================|\n",
            "|  No running processes found                                                 |\n",
            "+-----------------------------------------------------------------------------+\n"
          ],
          "name": "stdout"
        }
      ]
    },
    {
      "cell_type": "code",
      "metadata": {
        "id": "WaaST8ILn0oN",
        "outputId": "c3f7254f-633a-42a7-9a86-a38a57ff8f0e",
        "colab": {
          "base_uri": "https://localhost:8080/",
          "height": 794
        }
      },
      "source": [
        "!pip install tensorflow-gpu "
      ],
      "execution_count": null,
      "outputs": [
        {
          "output_type": "stream",
          "text": [
            "Collecting tensorflow-gpu\n",
            "\u001b[?25l  Downloading https://files.pythonhosted.org/packages/18/99/ac32fd13d56e40d4c3e6150030132519997c0bb1f06f448d970e81b177e5/tensorflow_gpu-2.3.1-cp36-cp36m-manylinux2010_x86_64.whl (320.4MB)\n",
            "\u001b[K     |████████████████████████████████| 320.4MB 43kB/s \n",
            "\u001b[?25hRequirement already satisfied: google-pasta>=0.1.8 in /usr/local/lib/python3.6/dist-packages (from tensorflow-gpu) (0.2.0)\n",
            "Requirement already satisfied: protobuf>=3.9.2 in /usr/local/lib/python3.6/dist-packages (from tensorflow-gpu) (3.12.4)\n",
            "Requirement already satisfied: tensorflow-estimator<2.4.0,>=2.3.0 in /usr/local/lib/python3.6/dist-packages (from tensorflow-gpu) (2.3.0)\n",
            "Requirement already satisfied: grpcio>=1.8.6 in /usr/local/lib/python3.6/dist-packages (from tensorflow-gpu) (1.32.0)\n",
            "Requirement already satisfied: six>=1.12.0 in /usr/local/lib/python3.6/dist-packages (from tensorflow-gpu) (1.15.0)\n",
            "Requirement already satisfied: termcolor>=1.1.0 in /usr/local/lib/python3.6/dist-packages (from tensorflow-gpu) (1.1.0)\n",
            "Requirement already satisfied: tensorboard<3,>=2.3.0 in /usr/local/lib/python3.6/dist-packages (from tensorflow-gpu) (2.3.0)\n",
            "Requirement already satisfied: wrapt>=1.11.1 in /usr/local/lib/python3.6/dist-packages (from tensorflow-gpu) (1.12.1)\n",
            "Requirement already satisfied: astunparse==1.6.3 in /usr/local/lib/python3.6/dist-packages (from tensorflow-gpu) (1.6.3)\n",
            "Requirement already satisfied: gast==0.3.3 in /usr/local/lib/python3.6/dist-packages (from tensorflow-gpu) (0.3.3)\n",
            "Requirement already satisfied: opt-einsum>=2.3.2 in /usr/local/lib/python3.6/dist-packages (from tensorflow-gpu) (3.3.0)\n",
            "Requirement already satisfied: keras-preprocessing<1.2,>=1.1.1 in /usr/local/lib/python3.6/dist-packages (from tensorflow-gpu) (1.1.2)\n",
            "Requirement already satisfied: numpy<1.19.0,>=1.16.0 in /usr/local/lib/python3.6/dist-packages (from tensorflow-gpu) (1.18.5)\n",
            "Requirement already satisfied: wheel>=0.26 in /usr/local/lib/python3.6/dist-packages (from tensorflow-gpu) (0.35.1)\n",
            "Requirement already satisfied: absl-py>=0.7.0 in /usr/local/lib/python3.6/dist-packages (from tensorflow-gpu) (0.10.0)\n",
            "Requirement already satisfied: h5py<2.11.0,>=2.10.0 in /usr/local/lib/python3.6/dist-packages (from tensorflow-gpu) (2.10.0)\n",
            "Requirement already satisfied: setuptools in /usr/local/lib/python3.6/dist-packages (from protobuf>=3.9.2->tensorflow-gpu) (50.3.0)\n",
            "Requirement already satisfied: requests<3,>=2.21.0 in /usr/local/lib/python3.6/dist-packages (from tensorboard<3,>=2.3.0->tensorflow-gpu) (2.23.0)\n",
            "Requirement already satisfied: markdown>=2.6.8 in /usr/local/lib/python3.6/dist-packages (from tensorboard<3,>=2.3.0->tensorflow-gpu) (3.2.2)\n",
            "Requirement already satisfied: google-auth-oauthlib<0.5,>=0.4.1 in /usr/local/lib/python3.6/dist-packages (from tensorboard<3,>=2.3.0->tensorflow-gpu) (0.4.1)\n",
            "Requirement already satisfied: werkzeug>=0.11.15 in /usr/local/lib/python3.6/dist-packages (from tensorboard<3,>=2.3.0->tensorflow-gpu) (1.0.1)\n",
            "Requirement already satisfied: tensorboard-plugin-wit>=1.6.0 in /usr/local/lib/python3.6/dist-packages (from tensorboard<3,>=2.3.0->tensorflow-gpu) (1.7.0)\n",
            "Requirement already satisfied: google-auth<2,>=1.6.3 in /usr/local/lib/python3.6/dist-packages (from tensorboard<3,>=2.3.0->tensorflow-gpu) (1.17.2)\n",
            "Requirement already satisfied: urllib3!=1.25.0,!=1.25.1,<1.26,>=1.21.1 in /usr/local/lib/python3.6/dist-packages (from requests<3,>=2.21.0->tensorboard<3,>=2.3.0->tensorflow-gpu) (1.24.3)\n",
            "Requirement already satisfied: chardet<4,>=3.0.2 in /usr/local/lib/python3.6/dist-packages (from requests<3,>=2.21.0->tensorboard<3,>=2.3.0->tensorflow-gpu) (3.0.4)\n",
            "Requirement already satisfied: idna<3,>=2.5 in /usr/local/lib/python3.6/dist-packages (from requests<3,>=2.21.0->tensorboard<3,>=2.3.0->tensorflow-gpu) (2.10)\n",
            "Requirement already satisfied: certifi>=2017.4.17 in /usr/local/lib/python3.6/dist-packages (from requests<3,>=2.21.0->tensorboard<3,>=2.3.0->tensorflow-gpu) (2020.6.20)\n",
            "Requirement already satisfied: importlib-metadata; python_version < \"3.8\" in /usr/local/lib/python3.6/dist-packages (from markdown>=2.6.8->tensorboard<3,>=2.3.0->tensorflow-gpu) (2.0.0)\n",
            "Requirement already satisfied: requests-oauthlib>=0.7.0 in /usr/local/lib/python3.6/dist-packages (from google-auth-oauthlib<0.5,>=0.4.1->tensorboard<3,>=2.3.0->tensorflow-gpu) (1.3.0)\n",
            "Requirement already satisfied: rsa<5,>=3.1.4; python_version >= \"3\" in /usr/local/lib/python3.6/dist-packages (from google-auth<2,>=1.6.3->tensorboard<3,>=2.3.0->tensorflow-gpu) (4.6)\n",
            "Requirement already satisfied: pyasn1-modules>=0.2.1 in /usr/local/lib/python3.6/dist-packages (from google-auth<2,>=1.6.3->tensorboard<3,>=2.3.0->tensorflow-gpu) (0.2.8)\n",
            "Requirement already satisfied: cachetools<5.0,>=2.0.0 in /usr/local/lib/python3.6/dist-packages (from google-auth<2,>=1.6.3->tensorboard<3,>=2.3.0->tensorflow-gpu) (4.1.1)\n",
            "Requirement already satisfied: zipp>=0.5 in /usr/local/lib/python3.6/dist-packages (from importlib-metadata; python_version < \"3.8\"->markdown>=2.6.8->tensorboard<3,>=2.3.0->tensorflow-gpu) (3.2.0)\n",
            "Requirement already satisfied: oauthlib>=3.0.0 in /usr/local/lib/python3.6/dist-packages (from requests-oauthlib>=0.7.0->google-auth-oauthlib<0.5,>=0.4.1->tensorboard<3,>=2.3.0->tensorflow-gpu) (3.1.0)\n",
            "Requirement already satisfied: pyasn1>=0.1.3 in /usr/local/lib/python3.6/dist-packages (from rsa<5,>=3.1.4; python_version >= \"3\"->google-auth<2,>=1.6.3->tensorboard<3,>=2.3.0->tensorflow-gpu) (0.4.8)\n",
            "Installing collected packages: tensorflow-gpu\n",
            "Successfully installed tensorflow-gpu-2.3.1\n"
          ],
          "name": "stdout"
        },
        {
          "output_type": "display_data",
          "data": {
            "application/vnd.colab-display-data+json": {
              "pip_warning": {
                "packages": [
                  "tensorflow"
                ]
              }
            }
          },
          "metadata": {
            "tags": []
          }
        }
      ]
    },
    {
      "cell_type": "code",
      "metadata": {
        "id": "WTWu7zZeKhfV",
        "outputId": "8bff6250-3614-4de4-918f-1d4660b2d734",
        "colab": {
          "base_uri": "https://localhost:8080/",
          "height": 50
        }
      },
      "source": [
        "!pip install --upgrade grpcio"
      ],
      "execution_count": null,
      "outputs": [
        {
          "output_type": "stream",
          "text": [
            "Requirement already up-to-date: grpcio in /usr/local/lib/python3.6/dist-packages (1.32.0)\n",
            "Requirement already satisfied, skipping upgrade: six>=1.5.2 in /usr/local/lib/python3.6/dist-packages (from grpcio) (1.15.0)\n"
          ],
          "name": "stdout"
        }
      ]
    },
    {
      "cell_type": "code",
      "metadata": {
        "id": "zCRkokr-n26J",
        "outputId": "032575c5-aef4-4a07-deef-25fe859a670b",
        "colab": {
          "base_uri": "https://localhost:8080/",
          "height": 34
        }
      },
      "source": [
        "!pip install tqdm"
      ],
      "execution_count": null,
      "outputs": [
        {
          "output_type": "stream",
          "text": [
            "Requirement already satisfied: tqdm in /usr/local/lib/python3.6/dist-packages (4.41.1)\n"
          ],
          "name": "stdout"
        }
      ]
    },
    {
      "cell_type": "code",
      "metadata": {
        "id": "-zgaripn6hjX",
        "outputId": "3c1eaa0e-4c48-4b6a-a8c5-bec1bbd996f9",
        "colab": {
          "base_uri": "https://localhost:8080/",
          "height": 386
        }
      },
      "source": [
        "!pip install bert-for-tf2"
      ],
      "execution_count": null,
      "outputs": [
        {
          "output_type": "stream",
          "text": [
            "Collecting bert-for-tf2\n",
            "\u001b[?25l  Downloading https://files.pythonhosted.org/packages/af/c1/015648a2186b25c6de79d15bec40d3d946fcf1dd5067d1c1b28009506486/bert-for-tf2-0.14.6.tar.gz (40kB)\n",
            "\r\u001b[K     |████████                        | 10kB 23.1MB/s eta 0:00:01\r\u001b[K     |████████████████                | 20kB 6.3MB/s eta 0:00:01\r\u001b[K     |████████████████████████▏       | 30kB 7.7MB/s eta 0:00:01\r\u001b[K     |████████████████████████████████| 40kB 3.7MB/s \n",
            "\u001b[?25hCollecting py-params>=0.9.6\n",
            "  Downloading https://files.pythonhosted.org/packages/a4/bf/c1c70d5315a8677310ea10a41cfc41c5970d9b37c31f9c90d4ab98021fd1/py-params-0.9.7.tar.gz\n",
            "Collecting params-flow>=0.8.0\n",
            "  Downloading https://files.pythonhosted.org/packages/a9/95/ff49f5ebd501f142a6f0aaf42bcfd1c192dc54909d1d9eb84ab031d46056/params-flow-0.8.2.tar.gz\n",
            "Requirement already satisfied: numpy in /usr/local/lib/python3.6/dist-packages (from params-flow>=0.8.0->bert-for-tf2) (1.18.5)\n",
            "Requirement already satisfied: tqdm in /usr/local/lib/python3.6/dist-packages (from params-flow>=0.8.0->bert-for-tf2) (4.41.1)\n",
            "Building wheels for collected packages: bert-for-tf2, py-params, params-flow\n",
            "  Building wheel for bert-for-tf2 (setup.py) ... \u001b[?25l\u001b[?25hdone\n",
            "  Created wheel for bert-for-tf2: filename=bert_for_tf2-0.14.6-cp36-none-any.whl size=30318 sha256=d6472c4d169698ce7294fe9b51ebf75d5f8a573a27de18bd7c963487d1d2a9a1\n",
            "  Stored in directory: /root/.cache/pip/wheels/07/a0/b4/75b0601ebaa41e517a797fe9cea119c789664c8408f8a74ae9\n",
            "  Building wheel for py-params (setup.py) ... \u001b[?25l\u001b[?25hdone\n",
            "  Created wheel for py-params: filename=py_params-0.9.7-cp36-none-any.whl size=7304 sha256=d434d14f829fea2b405657531fc712316eca7350e7ca4c4152b089b0418493ed\n",
            "  Stored in directory: /root/.cache/pip/wheels/67/f5/19/b461849a50aefdf4bab47c4756596e82ee2118b8278e5a1980\n",
            "  Building wheel for params-flow (setup.py) ... \u001b[?25l\u001b[?25hdone\n",
            "  Created wheel for params-flow: filename=params_flow-0.8.2-cp36-none-any.whl size=19475 sha256=e57b79350d6539a6f05d6dfc9a389e66ea0491e5dce963413c91f8d39feee7be\n",
            "  Stored in directory: /root/.cache/pip/wheels/08/c8/7f/81c86b9ff2b86e2c477e3914175be03e679e596067dc630c06\n",
            "Successfully built bert-for-tf2 py-params params-flow\n",
            "Installing collected packages: py-params, params-flow, bert-for-tf2\n",
            "Successfully installed bert-for-tf2-0.14.6 params-flow-0.8.2 py-params-0.9.7\n"
          ],
          "name": "stdout"
        }
      ]
    },
    {
      "cell_type": "code",
      "metadata": {
        "id": "_8BBTklbot7T",
        "outputId": "48cb31c6-7e92-46ad-8d67-e4c2d9a2c677",
        "colab": {
          "base_uri": "https://localhost:8080/",
          "height": 759
        }
      },
      "source": [
        "!pip install googletrans"
      ],
      "execution_count": null,
      "outputs": [
        {
          "output_type": "stream",
          "text": [
            "Collecting googletrans\n",
            "  Downloading https://files.pythonhosted.org/packages/71/3a/3b19effdd4c03958b90f40fe01c93de6d5280e03843cc5adf6956bfc9512/googletrans-3.0.0.tar.gz\n",
            "Collecting httpx==0.13.3\n",
            "\u001b[?25l  Downloading https://files.pythonhosted.org/packages/54/b4/698b284c6aed4d7c2b4fe3ba5df1fcf6093612423797e76fbb24890dd22f/httpx-0.13.3-py3-none-any.whl (55kB)\n",
            "\u001b[K     |████████████████████████████████| 61kB 5.4MB/s \n",
            "\u001b[?25hRequirement already satisfied: chardet==3.* in /usr/local/lib/python3.6/dist-packages (from httpx==0.13.3->googletrans) (3.0.4)\n",
            "Collecting httpcore==0.9.*\n",
            "\u001b[?25l  Downloading https://files.pythonhosted.org/packages/dd/d5/e4ff9318693ac6101a2095e580908b591838c6f33df8d3ee8dd953ba96a8/httpcore-0.9.1-py3-none-any.whl (42kB)\n",
            "\u001b[K     |████████████████████████████████| 51kB 6.2MB/s \n",
            "\u001b[?25hCollecting sniffio\n",
            "  Downloading https://files.pythonhosted.org/packages/52/b0/7b2e028b63d092804b6794595871f936aafa5e9322dcaaad50ebf67445b3/sniffio-1.2.0-py3-none-any.whl\n",
            "Requirement already satisfied: idna==2.* in /usr/local/lib/python3.6/dist-packages (from httpx==0.13.3->googletrans) (2.10)\n",
            "Collecting hstspreload\n",
            "\u001b[?25l  Downloading https://files.pythonhosted.org/packages/f0/16/59b51f8e640f16acad2c0e101fa1e55a87bfd80cff23f77ab23cb8927541/hstspreload-2020.10.6-py3-none-any.whl (965kB)\n",
            "\u001b[K     |████████████████████████████████| 972kB 17.3MB/s \n",
            "\u001b[?25hCollecting rfc3986<2,>=1.3\n",
            "  Downloading https://files.pythonhosted.org/packages/78/be/7b8b99fd74ff5684225f50dd0e865393d2265656ef3b4ba9eaaaffe622b8/rfc3986-1.4.0-py2.py3-none-any.whl\n",
            "Requirement already satisfied: certifi in /usr/local/lib/python3.6/dist-packages (from httpx==0.13.3->googletrans) (2020.6.20)\n",
            "Collecting h2==3.*\n",
            "\u001b[?25l  Downloading https://files.pythonhosted.org/packages/25/de/da019bcc539eeab02f6d45836f23858ac467f584bfec7a526ef200242afe/h2-3.2.0-py2.py3-none-any.whl (65kB)\n",
            "\u001b[K     |████████████████████████████████| 71kB 9.7MB/s \n",
            "\u001b[?25hCollecting h11<0.10,>=0.8\n",
            "\u001b[?25l  Downloading https://files.pythonhosted.org/packages/5a/fd/3dad730b0f95e78aeeb742f96fa7bbecbdd56a58e405d3da440d5bfb90c6/h11-0.9.0-py2.py3-none-any.whl (53kB)\n",
            "\u001b[K     |████████████████████████████████| 61kB 8.4MB/s \n",
            "\u001b[?25hCollecting contextvars>=2.1; python_version < \"3.7\"\n",
            "  Downloading https://files.pythonhosted.org/packages/83/96/55b82d9f13763be9d672622e1b8106c85acb83edd7cc2fa5bc67cd9877e9/contextvars-2.4.tar.gz\n",
            "Collecting hpack<4,>=3.0\n",
            "  Downloading https://files.pythonhosted.org/packages/8a/cc/e53517f4a1e13f74776ca93271caef378dadec14d71c61c949d759d3db69/hpack-3.0.0-py2.py3-none-any.whl\n",
            "Collecting hyperframe<6,>=5.2.0\n",
            "  Downloading https://files.pythonhosted.org/packages/19/0c/bf88182bcb5dce3094e2f3e4fe20db28a9928cb7bd5b08024030e4b140db/hyperframe-5.2.0-py2.py3-none-any.whl\n",
            "Collecting immutables>=0.9\n",
            "\u001b[?25l  Downloading https://files.pythonhosted.org/packages/99/e0/ea6fd4697120327d26773b5a84853f897a68e33d3f9376b00a8ff96e4f63/immutables-0.14-cp36-cp36m-manylinux1_x86_64.whl (98kB)\n",
            "\u001b[K     |████████████████████████████████| 102kB 11.1MB/s \n",
            "\u001b[?25hBuilding wheels for collected packages: googletrans, contextvars\n",
            "  Building wheel for googletrans (setup.py) ... \u001b[?25l\u001b[?25hdone\n",
            "  Created wheel for googletrans: filename=googletrans-3.0.0-cp36-none-any.whl size=15736 sha256=7865241dc53a17f5d11539af6c66a61848c7395b5bfb8dd698c4587ef401e6af\n",
            "  Stored in directory: /root/.cache/pip/wheels/28/1a/a7/eaf4d7a3417a0c65796c547cff4deb6d79c7d14c2abd29273e\n",
            "  Building wheel for contextvars (setup.py) ... \u001b[?25l\u001b[?25hdone\n",
            "  Created wheel for contextvars: filename=contextvars-2.4-cp36-none-any.whl size=7666 sha256=c8f97d9205bdd7f76ef046c79ee97a50dc3029e5fabbc690ce05ee1e8d944379\n",
            "  Stored in directory: /root/.cache/pip/wheels/a5/7d/68/1ebae2668bda2228686e3c1cf16f2c2384cea6e9334ad5f6de\n",
            "Successfully built googletrans contextvars\n",
            "Installing collected packages: hpack, hyperframe, h2, h11, immutables, contextvars, sniffio, httpcore, hstspreload, rfc3986, httpx, googletrans\n",
            "Successfully installed contextvars-2.4 googletrans-3.0.0 h11-0.9.0 h2-3.2.0 hpack-3.0.0 hstspreload-2020.10.6 httpcore-0.9.1 httpx-0.13.3 hyperframe-5.2.0 immutables-0.14 rfc3986-1.4.0 sniffio-1.2.0\n"
          ],
          "name": "stdout"
        }
      ]
    },
    {
      "cell_type": "code",
      "metadata": {
        "id": "9nd4u1Qz6ms5",
        "outputId": "eea63a8b-9a00-404f-d437-6ef864aaedf4",
        "colab": {
          "base_uri": "https://localhost:8080/",
          "height": 101
        }
      },
      "source": [
        "!pip install sentencepiece"
      ],
      "execution_count": null,
      "outputs": [
        {
          "output_type": "stream",
          "text": [
            "Collecting sentencepiece\n",
            "\u001b[?25l  Downloading https://files.pythonhosted.org/packages/d4/a4/d0a884c4300004a78cca907a6ff9a5e9fe4f090f5d95ab341c53d28cbc58/sentencepiece-0.1.91-cp36-cp36m-manylinux1_x86_64.whl (1.1MB)\n",
            "\r\u001b[K     |▎                               | 10kB 18.8MB/s eta 0:00:01\r\u001b[K     |▋                               | 20kB 6.8MB/s eta 0:00:01\r\u001b[K     |█                               | 30kB 7.7MB/s eta 0:00:01\r\u001b[K     |█▏                              | 40kB 7.9MB/s eta 0:00:01\r\u001b[K     |█▌                              | 51kB 7.3MB/s eta 0:00:01\r\u001b[K     |█▉                              | 61kB 7.9MB/s eta 0:00:01\r\u001b[K     |██▏                             | 71kB 8.9MB/s eta 0:00:01\r\u001b[K     |██▍                             | 81kB 9.1MB/s eta 0:00:01\r\u001b[K     |██▊                             | 92kB 8.9MB/s eta 0:00:01\r\u001b[K     |███                             | 102kB 9.6MB/s eta 0:00:01\r\u001b[K     |███▍                            | 112kB 9.6MB/s eta 0:00:01\r\u001b[K     |███▋                            | 122kB 9.6MB/s eta 0:00:01\r\u001b[K     |████                            | 133kB 9.6MB/s eta 0:00:01\r\u001b[K     |████▎                           | 143kB 9.6MB/s eta 0:00:01\r\u001b[K     |████▋                           | 153kB 9.6MB/s eta 0:00:01\r\u001b[K     |████▉                           | 163kB 9.6MB/s eta 0:00:01\r\u001b[K     |█████▏                          | 174kB 9.6MB/s eta 0:00:01\r\u001b[K     |█████▌                          | 184kB 9.6MB/s eta 0:00:01\r\u001b[K     |█████▉                          | 194kB 9.6MB/s eta 0:00:01\r\u001b[K     |██████                          | 204kB 9.6MB/s eta 0:00:01\r\u001b[K     |██████▍                         | 215kB 9.6MB/s eta 0:00:01\r\u001b[K     |██████▊                         | 225kB 9.6MB/s eta 0:00:01\r\u001b[K     |███████                         | 235kB 9.6MB/s eta 0:00:01\r\u001b[K     |███████▎                        | 245kB 9.6MB/s eta 0:00:01\r\u001b[K     |███████▋                        | 256kB 9.6MB/s eta 0:00:01\r\u001b[K     |████████                        | 266kB 9.6MB/s eta 0:00:01\r\u001b[K     |████████▎                       | 276kB 9.6MB/s eta 0:00:01\r\u001b[K     |████████▌                       | 286kB 9.6MB/s eta 0:00:01\r\u001b[K     |████████▉                       | 296kB 9.6MB/s eta 0:00:01\r\u001b[K     |█████████▏                      | 307kB 9.6MB/s eta 0:00:01\r\u001b[K     |█████████▌                      | 317kB 9.6MB/s eta 0:00:01\r\u001b[K     |█████████▊                      | 327kB 9.6MB/s eta 0:00:01\r\u001b[K     |██████████                      | 337kB 9.6MB/s eta 0:00:01\r\u001b[K     |██████████▍                     | 348kB 9.6MB/s eta 0:00:01\r\u001b[K     |██████████▊                     | 358kB 9.6MB/s eta 0:00:01\r\u001b[K     |███████████                     | 368kB 9.6MB/s eta 0:00:01\r\u001b[K     |███████████▎                    | 378kB 9.6MB/s eta 0:00:01\r\u001b[K     |███████████▋                    | 389kB 9.6MB/s eta 0:00:01\r\u001b[K     |████████████                    | 399kB 9.6MB/s eta 0:00:01\r\u001b[K     |████████████▏                   | 409kB 9.6MB/s eta 0:00:01\r\u001b[K     |████████████▌                   | 419kB 9.6MB/s eta 0:00:01\r\u001b[K     |████████████▉                   | 430kB 9.6MB/s eta 0:00:01\r\u001b[K     |█████████████▏                  | 440kB 9.6MB/s eta 0:00:01\r\u001b[K     |█████████████▍                  | 450kB 9.6MB/s eta 0:00:01\r\u001b[K     |█████████████▊                  | 460kB 9.6MB/s eta 0:00:01\r\u001b[K     |██████████████                  | 471kB 9.6MB/s eta 0:00:01\r\u001b[K     |██████████████▍                 | 481kB 9.6MB/s eta 0:00:01\r\u001b[K     |██████████████▋                 | 491kB 9.6MB/s eta 0:00:01\r\u001b[K     |███████████████                 | 501kB 9.6MB/s eta 0:00:01\r\u001b[K     |███████████████▎                | 512kB 9.6MB/s eta 0:00:01\r\u001b[K     |███████████████▋                | 522kB 9.6MB/s eta 0:00:01\r\u001b[K     |███████████████▉                | 532kB 9.6MB/s eta 0:00:01\r\u001b[K     |████████████████▏               | 542kB 9.6MB/s eta 0:00:01\r\u001b[K     |████████████████▌               | 552kB 9.6MB/s eta 0:00:01\r\u001b[K     |████████████████▉               | 563kB 9.6MB/s eta 0:00:01\r\u001b[K     |█████████████████               | 573kB 9.6MB/s eta 0:00:01\r\u001b[K     |█████████████████▍              | 583kB 9.6MB/s eta 0:00:01\r\u001b[K     |█████████████████▊              | 593kB 9.6MB/s eta 0:00:01\r\u001b[K     |██████████████████              | 604kB 9.6MB/s eta 0:00:01\r\u001b[K     |██████████████████▎             | 614kB 9.6MB/s eta 0:00:01\r\u001b[K     |██████████████████▋             | 624kB 9.6MB/s eta 0:00:01\r\u001b[K     |███████████████████             | 634kB 9.6MB/s eta 0:00:01\r\u001b[K     |███████████████████▎            | 645kB 9.6MB/s eta 0:00:01\r\u001b[K     |███████████████████▌            | 655kB 9.6MB/s eta 0:00:01\r\u001b[K     |███████████████████▉            | 665kB 9.6MB/s eta 0:00:01\r\u001b[K     |████████████████████▏           | 675kB 9.6MB/s eta 0:00:01\r\u001b[K     |████████████████████▌           | 686kB 9.6MB/s eta 0:00:01\r\u001b[K     |████████████████████▊           | 696kB 9.6MB/s eta 0:00:01\r\u001b[K     |█████████████████████           | 706kB 9.6MB/s eta 0:00:01\r\u001b[K     |█████████████████████▍          | 716kB 9.6MB/s eta 0:00:01\r\u001b[K     |█████████████████████▋          | 727kB 9.6MB/s eta 0:00:01\r\u001b[K     |██████████████████████          | 737kB 9.6MB/s eta 0:00:01\r\u001b[K     |██████████████████████▎         | 747kB 9.6MB/s eta 0:00:01\r\u001b[K     |██████████████████████▋         | 757kB 9.6MB/s eta 0:00:01\r\u001b[K     |██████████████████████▉         | 768kB 9.6MB/s eta 0:00:01\r\u001b[K     |███████████████████████▏        | 778kB 9.6MB/s eta 0:00:01\r\u001b[K     |███████████████████████▌        | 788kB 9.6MB/s eta 0:00:01\r\u001b[K     |███████████████████████▉        | 798kB 9.6MB/s eta 0:00:01\r\u001b[K     |████████████████████████        | 808kB 9.6MB/s eta 0:00:01\r\u001b[K     |████████████████████████▍       | 819kB 9.6MB/s eta 0:00:01\r\u001b[K     |████████████████████████▊       | 829kB 9.6MB/s eta 0:00:01\r\u001b[K     |█████████████████████████       | 839kB 9.6MB/s eta 0:00:01\r\u001b[K     |█████████████████████████▎      | 849kB 9.6MB/s eta 0:00:01\r\u001b[K     |█████████████████████████▋      | 860kB 9.6MB/s eta 0:00:01\r\u001b[K     |██████████████████████████      | 870kB 9.6MB/s eta 0:00:01\r\u001b[K     |██████████████████████████▎     | 880kB 9.6MB/s eta 0:00:01\r\u001b[K     |██████████████████████████▌     | 890kB 9.6MB/s eta 0:00:01\r\u001b[K     |██████████████████████████▉     | 901kB 9.6MB/s eta 0:00:01\r\u001b[K     |███████████████████████████▏    | 911kB 9.6MB/s eta 0:00:01\r\u001b[K     |███████████████████████████▌    | 921kB 9.6MB/s eta 0:00:01\r\u001b[K     |███████████████████████████▊    | 931kB 9.6MB/s eta 0:00:01\r\u001b[K     |████████████████████████████    | 942kB 9.6MB/s eta 0:00:01\r\u001b[K     |████████████████████████████▍   | 952kB 9.6MB/s eta 0:00:01\r\u001b[K     |████████████████████████████▊   | 962kB 9.6MB/s eta 0:00:01\r\u001b[K     |█████████████████████████████   | 972kB 9.6MB/s eta 0:00:01\r\u001b[K     |█████████████████████████████▎  | 983kB 9.6MB/s eta 0:00:01\r\u001b[K     |█████████████████████████████▋  | 993kB 9.6MB/s eta 0:00:01\r\u001b[K     |██████████████████████████████  | 1.0MB 9.6MB/s eta 0:00:01\r\u001b[K     |██████████████████████████████▏ | 1.0MB 9.6MB/s eta 0:00:01\r\u001b[K     |██████████████████████████████▌ | 1.0MB 9.6MB/s eta 0:00:01\r\u001b[K     |██████████████████████████████▉ | 1.0MB 9.6MB/s eta 0:00:01\r\u001b[K     |███████████████████████████████▏| 1.0MB 9.6MB/s eta 0:00:01\r\u001b[K     |███████████████████████████████▍| 1.1MB 9.6MB/s eta 0:00:01\r\u001b[K     |███████████████████████████████▊| 1.1MB 9.6MB/s eta 0:00:01\r\u001b[K     |████████████████████████████████| 1.1MB 9.6MB/s \n",
            "\u001b[?25hInstalling collected packages: sentencepiece\n",
            "Successfully installed sentencepiece-0.1.91\n"
          ],
          "name": "stdout"
        }
      ]
    },
    {
      "cell_type": "code",
      "metadata": {
        "id": "BZmNwyJZhAXL",
        "outputId": "909c4d87-e0a9-4c7c-89dd-4f676d579f2e",
        "colab": {
          "base_uri": "https://localhost:8080/",
          "height": 269
        }
      },
      "source": [
        "!pip install googletrans"
      ],
      "execution_count": null,
      "outputs": [
        {
          "output_type": "stream",
          "text": [
            "Requirement already satisfied: googletrans in /usr/local/lib/python3.6/dist-packages (3.0.0)\n",
            "Requirement already satisfied: httpx==0.13.3 in /usr/local/lib/python3.6/dist-packages (from googletrans) (0.13.3)\n",
            "Requirement already satisfied: idna==2.* in /usr/local/lib/python3.6/dist-packages (from httpx==0.13.3->googletrans) (2.10)\n",
            "Requirement already satisfied: sniffio in /usr/local/lib/python3.6/dist-packages (from httpx==0.13.3->googletrans) (1.2.0)\n",
            "Requirement already satisfied: rfc3986<2,>=1.3 in /usr/local/lib/python3.6/dist-packages (from httpx==0.13.3->googletrans) (1.4.0)\n",
            "Requirement already satisfied: hstspreload in /usr/local/lib/python3.6/dist-packages (from httpx==0.13.3->googletrans) (2020.10.6)\n",
            "Requirement already satisfied: chardet==3.* in /usr/local/lib/python3.6/dist-packages (from httpx==0.13.3->googletrans) (3.0.4)\n",
            "Requirement already satisfied: certifi in /usr/local/lib/python3.6/dist-packages (from httpx==0.13.3->googletrans) (2020.6.20)\n",
            "Requirement already satisfied: httpcore==0.9.* in /usr/local/lib/python3.6/dist-packages (from httpx==0.13.3->googletrans) (0.9.1)\n",
            "Requirement already satisfied: contextvars>=2.1; python_version < \"3.7\" in /usr/local/lib/python3.6/dist-packages (from sniffio->httpx==0.13.3->googletrans) (2.4)\n",
            "Requirement already satisfied: h2==3.* in /usr/local/lib/python3.6/dist-packages (from httpcore==0.9.*->httpx==0.13.3->googletrans) (3.2.0)\n",
            "Requirement already satisfied: h11<0.10,>=0.8 in /usr/local/lib/python3.6/dist-packages (from httpcore==0.9.*->httpx==0.13.3->googletrans) (0.9.0)\n",
            "Requirement already satisfied: immutables>=0.9 in /usr/local/lib/python3.6/dist-packages (from contextvars>=2.1; python_version < \"3.7\"->sniffio->httpx==0.13.3->googletrans) (0.14)\n",
            "Requirement already satisfied: hpack<4,>=3.0 in /usr/local/lib/python3.6/dist-packages (from h2==3.*->httpcore==0.9.*->httpx==0.13.3->googletrans) (3.0.0)\n",
            "Requirement already satisfied: hyperframe<6,>=5.2.0 in /usr/local/lib/python3.6/dist-packages (from h2==3.*->httpcore==0.9.*->httpx==0.13.3->googletrans) (5.2.0)\n"
          ],
          "name": "stdout"
        }
      ]
    },
    {
      "cell_type": "code",
      "metadata": {
        "id": "VLPwBaua6jf2"
      },
      "source": [
        "import os\n",
        "import math\n",
        "import datetime\n",
        "\n",
        "from tqdm import tqdm\n",
        "\n",
        "import pandas as pd\n",
        "import numpy as np\n",
        "\n",
        "import tensorflow as tf\n",
        "from tensorflow import keras\n",
        "\n",
        "import bert\n",
        "from bert import BertModelLayer\n",
        "from bert.loader import StockBertConfig, map_stock_config_to_params, load_stock_weights\n",
        "from bert.tokenization.bert_tokenization import FullTokenizer\n",
        "\n",
        "import seaborn as sns\n",
        "from pylab import rcParams\n",
        "import matplotlib.pyplot as plt\n",
        "from matplotlib.ticker import MaxNLocator\n",
        "from matplotlib import rc\n",
        "\n",
        "from sklearn.metrics import confusion_matrix, classification_report\n",
        "\n",
        "import re\n",
        "\n",
        "# translator\n",
        "import googletrans\n",
        "from googletrans import Translator\n",
        "\n",
        "%matplotlib inline\n",
        "%config InlineBackend.figure_format='retina'\n",
        "\n",
        "sns.set(style='whitegrid', palette='muted', font_scale=1.2)\n",
        "\n",
        "HAPPY_COLORS_PALETTE = [\"#01BEFE\", \"#FFDD00\", \"#FF7D00\", \"#FF006D\"]\n",
        "\n",
        "sns.set_palette(sns.color_palette(HAPPY_COLORS_PALETTE))\n",
        "\n",
        "rcParams['figure.figsize'] = 12, 8\n",
        "\n",
        "RANDOM_SEED = 42\n",
        "\n",
        "np.random.seed(RANDOM_SEED)\n",
        "tf.random.set_seed(RANDOM_SEED)"
      ],
      "execution_count": null,
      "outputs": []
    },
    {
      "cell_type": "markdown",
      "metadata": {
        "id": "CzkSXum8RzGM"
      },
      "source": [
        "# Data\n"
      ]
    },
    {
      "cell_type": "code",
      "metadata": {
        "id": "eL2BmRgYIZkl",
        "outputId": "aada0cd6-776e-4641-ccb2-21eb7fbbc7cd",
        "colab": {
          "base_uri": "https://localhost:8080/",
          "height": 84
        }
      },
      "source": [
        "# Translated Hindi dataset\n",
        "!gdown --id 1IFaDhhg0qQDjH7X0BfQDYanoKIDLlW0N --output data-task1.csv"
      ],
      "execution_count": null,
      "outputs": [
        {
          "output_type": "stream",
          "text": [
            "Downloading...\n",
            "From: https://drive.google.com/uc?id=1IFaDhhg0qQDjH7X0BfQDYanoKIDLlW0N\n",
            "To: /content/data-task1.csv\n",
            "\r  0% 0.00/1.08M [00:00<?, ?B/s]\r100% 1.08M/1.08M [00:00<00:00, 71.6MB/s]\n"
          ],
          "name": "stdout"
        }
      ]
    },
    {
      "cell_type": "code",
      "metadata": {
        "id": "IJh-QX6w4J0_"
      },
      "source": [
        "df = pd.read_csv('data-task1.csv', \n",
        "                   delimiter=',')\n",
        "df.columns = ['Text', 'Label']\n",
        "df.head(15)\n",
        "df[\"Text\"] = df[\"Text\"].astype(str)\n",
        "df[\"Label\"] = df[\"Label\"].astype(str)"
      ],
      "execution_count": null,
      "outputs": []
    },
    {
      "cell_type": "code",
      "metadata": {
        "id": "lh6sCSOy46_B",
        "outputId": "796ffccb-a073-4051-98b9-bfc41801eacc",
        "colab": {
          "base_uri": "https://localhost:8080/",
          "height": 287
        }
      },
      "source": [
        "import matplotlib.pyplot as plt\n",
        "fig = plt.figure(figsize=(6,4))\n",
        "df.groupby('Label').Text.count().plot.bar(ylim=0)\n",
        "plt.show()"
      ],
      "execution_count": null,
      "outputs": [
        {
          "output_type": "display_data",
          "data": {
            "image/png": "[encoded data removed]",
            "text/plain": [
              "<Figure size 432x288 with 1 Axes>"
            ]
          },
          "metadata": {
            "tags": [],
            "image/png": {
              "width": 392,
              "height": 270
            }
          }
        }
      ]
    },
    {
      "cell_type": "code",
      "metadata": {
        "id": "dgm-l6QI47G2",
        "outputId": "146a1b37-1a18-4db9-ab33-efeb9ea7742a",
        "colab": {
          "base_uri": "https://localhost:8080/",
          "height": 84
        }
      },
      "source": [
        "\n",
        "# For entire dataset sentences for each labels \n",
        "df.Label.value_counts()"
      ],
      "execution_count": null,
      "outputs": [
        {
          "output_type": "execute_result",
          "data": {
            "text/plain": [
              "2    3374\n",
              "0    3245\n",
              "1    2174\n",
              "Name: Label, dtype: int64"
            ]
          },
          "metadata": {
            "tags": []
          },
          "execution_count": 15
        }
      ]
    },
    {
      "cell_type": "code",
      "metadata": {
        "id": "kf3151rv47Jn",
        "outputId": "3bb71d4e-da1d-4170-fd33-01f3d4b2731d",
        "colab": {
          "base_uri": "https://localhost:8080/",
          "height": 402
        }
      },
      "source": [
        "df=df.sample(frac=1).reset_index(drop=True)\n",
        "df"
      ],
      "execution_count": null,
      "outputs": [
        {
          "output_type": "execute_result",
          "data": {
            "text/html": [
              "<div>\n",
              "<style scoped>\n",
              "    .dataframe tbody tr th:only-of-type {\n",
              "        vertical-align: middle;\n",
              "    }\n",
              "\n",
              "    .dataframe tbody tr th {\n",
              "        vertical-align: top;\n",
              "    }\n",
              "\n",
              "    .dataframe thead th {\n",
              "        text-align: right;\n",
              "    }\n",
              "</style>\n",
              "<table border=\"1\" class=\"dataframe\">\n",
              "  <thead>\n",
              "    <tr style=\"text-align: right;\">\n",
              "      <th></th>\n",
              "      <th>Text</th>\n",
              "      <th>Label</th>\n",
              "    </tr>\n",
              "  </thead>\n",
              "  <tbody>\n",
              "    <tr>\n",
              "      <th>0</th>\n",
              "      <td>'Summa Amen'</td>\n",
              "      <td>1</td>\n",
              "    </tr>\n",
              "    <tr>\n",
              "      <th>1</th>\n",
              "      <td>'@ RajkumarRatnap2 Agree with you sir. These j...</td>\n",
              "      <td>2</td>\n",
              "    </tr>\n",
              "    <tr>\n",
              "      <th>2</th>\n",
              "      <td>'@Munnasaifi @sardanarohit Who set fire in Ben...</td>\n",
              "      <td>2</td>\n",
              "    </tr>\n",
              "    <tr>\n",
              "      <th>3</th>\n",
              "      <td>'जो इस्लाम वज़ू में जायदा पानी  बहाने का इजाजत...</td>\n",
              "      <td>0</td>\n",
              "    </tr>\n",
              "    <tr>\n",
              "      <th>4</th>\n",
              "      <td>'@ GeoIntel2 meet on Diwali, you will break ha...</td>\n",
              "      <td>0</td>\n",
              "    </tr>\n",
              "    <tr>\n",
              "      <th>...</th>\n",
              "      <td>...</td>\n",
              "      <td>...</td>\n",
              "    </tr>\n",
              "    <tr>\n",
              "      <th>8788</th>\n",
              "      <td>See how the prince of Ranchi became the king o...</td>\n",
              "      <td>0</td>\n",
              "    </tr>\n",
              "    <tr>\n",
              "      <th>8789</th>\n",
              "      <td>'@ZeeNewsHindi' Thousands of Muslims accepted ...</td>\n",
              "      <td>1</td>\n",
              "    </tr>\n",
              "    <tr>\n",
              "      <th>8790</th>\n",
              "      <td>'@chandan_m_yadav @ RustamPatel3 @nidhiyadavsp...</td>\n",
              "      <td>0</td>\n",
              "    </tr>\n",
              "    <tr>\n",
              "      <th>8791</th>\n",
              "      <td>'@AbdullahJlp Allah Hafiz brother my</td>\n",
              "      <td>1</td>\n",
              "    </tr>\n",
              "    <tr>\n",
              "      <th>8792</th>\n",
              "      <td>'@Gautam92685995 @Jangsherkhann @manakgupta मु...</td>\n",
              "      <td>2</td>\n",
              "    </tr>\n",
              "  </tbody>\n",
              "</table>\n",
              "<p>8793 rows × 2 columns</p>\n",
              "</div>"
            ],
            "text/plain": [
              "                                                   Text Label\n",
              "0                                          'Summa Amen'     1\n",
              "1     '@ RajkumarRatnap2 Agree with you sir. These j...     2\n",
              "2     '@Munnasaifi @sardanarohit Who set fire in Ben...     2\n",
              "3     'जो इस्लाम वज़ू में जायदा पानी  बहाने का इजाजत...     0\n",
              "4     '@ GeoIntel2 meet on Diwali, you will break ha...     0\n",
              "...                                                 ...   ...\n",
              "8788  See how the prince of Ranchi became the king o...     0\n",
              "8789  '@ZeeNewsHindi' Thousands of Muslims accepted ...     1\n",
              "8790  '@chandan_m_yadav @ RustamPatel3 @nidhiyadavsp...     0\n",
              "8791               '@AbdullahJlp Allah Hafiz brother my     1\n",
              "8792  '@Gautam92685995 @Jangsherkhann @manakgupta मु...     2\n",
              "\n",
              "[8793 rows x 2 columns]"
            ]
          },
          "metadata": {
            "tags": []
          },
          "execution_count": 16
        }
      ]
    },
    {
      "cell_type": "markdown",
      "metadata": {
        "id": "pA7mei-y5IZi"
      },
      "source": [
        "Data Preprocessing"
      ]
    },
    {
      "cell_type": "code",
      "metadata": {
        "id": "kgWeFtcgoBQP"
      },
      "source": [
        "df = df[df.Text != '']"
      ],
      "execution_count": null,
      "outputs": []
    },
    {
      "cell_type": "code",
      "metadata": {
        "id": "uxT19ii26zNC"
      },
      "source": [
        "from sklearn.model_selection import train_test_split\n",
        "train, test = train_test_split(df, test_size=0.10, random_state=42)"
      ],
      "execution_count": null,
      "outputs": []
    },
    {
      "cell_type": "code",
      "metadata": {
        "id": "BUf23XSSqdU1"
      },
      "source": [
        "df=df.sample(frac=1).reset_index(drop=True)"
      ],
      "execution_count": null,
      "outputs": []
    },
    {
      "cell_type": "code",
      "metadata": {
        "id": "i4cZ4oi_TTfC",
        "outputId": "1141ca98-9128-4937-8de4-9797e583a22f",
        "colab": {
          "base_uri": "https://localhost:8080/",
          "height": 195
        }
      },
      "source": [
        "df.head()"
      ],
      "execution_count": null,
      "outputs": [
        {
          "output_type": "execute_result",
          "data": {
            "text/html": [
              "<div>\n",
              "<style scoped>\n",
              "    .dataframe tbody tr th:only-of-type {\n",
              "        vertical-align: middle;\n",
              "    }\n",
              "\n",
              "    .dataframe tbody tr th {\n",
              "        vertical-align: top;\n",
              "    }\n",
              "\n",
              "    .dataframe thead th {\n",
              "        text-align: right;\n",
              "    }\n",
              "</style>\n",
              "<table border=\"1\" class=\"dataframe\">\n",
              "  <thead>\n",
              "    <tr style=\"text-align: right;\">\n",
              "      <th></th>\n",
              "      <th>Text</th>\n",
              "      <th>Label</th>\n",
              "    </tr>\n",
              "  </thead>\n",
              "  <tbody>\n",
              "    <tr>\n",
              "      <th>0</th>\n",
              "      <td>'@waglenikhil one jihadi can only support anot...</td>\n",
              "      <td>2</td>\n",
              "    </tr>\n",
              "    <tr>\n",
              "      <th>1</th>\n",
              "      <td>जेहादी मानसिकता  @SumanSh58122278 @kaur_ravindra</td>\n",
              "      <td>2</td>\n",
              "    </tr>\n",
              "    <tr>\n",
              "      <th>2</th>\n",
              "      <td>'@ajeetbharti this Diwali should not stop just</td>\n",
              "      <td>0</td>\n",
              "    </tr>\n",
              "    <tr>\n",
              "      <th>3</th>\n",
              "      <td>Hindu politicians attending iftar party repres...</td>\n",
              "      <td>2</td>\n",
              "    </tr>\n",
              "    <tr>\n",
              "      <th>4</th>\n",
              "      <td>'@ShilpiSinghINC @rahatindori दो कौड़ी का जेहा...</td>\n",
              "      <td>2</td>\n",
              "    </tr>\n",
              "  </tbody>\n",
              "</table>\n",
              "</div>"
            ],
            "text/plain": [
              "                                                Text Label\n",
              "0  '@waglenikhil one jihadi can only support anot...     2\n",
              "1   जेहादी मानसिकता  @SumanSh58122278 @kaur_ravindra     2\n",
              "2     '@ajeetbharti this Diwali should not stop just     0\n",
              "3  Hindu politicians attending iftar party repres...     2\n",
              "4  '@ShilpiSinghINC @rahatindori दो कौड़ी का जेहा...     2"
            ]
          },
          "metadata": {
            "tags": []
          },
          "execution_count": 20
        }
      ]
    },
    {
      "cell_type": "markdown",
      "metadata": {
        "id": "Nc23faMAR--V"
      },
      "source": [
        "# Islamophhobia Detection with BERT\n"
      ]
    },
    {
      "cell_type": "code",
      "metadata": {
        "id": "-P2y2g3m8Ytp",
        "outputId": "2576d392-389c-4fae-8448-1283985ff798",
        "colab": {
          "base_uri": "https://localhost:8080/",
          "height": 84
        }
      },
      "source": [
        "!gdown --id 1ds0mgIfyRZ1vTdQCT4Q5EOxTFA1vH47a --output multi_cased_L-12_H-768_A-12.zip"
      ],
      "execution_count": null,
      "outputs": [
        {
          "output_type": "stream",
          "text": [
            "Downloading...\n",
            "From: https://drive.google.com/uc?id=1ds0mgIfyRZ1vTdQCT4Q5EOxTFA1vH47a\n",
            "To: /content/multi_cased_L-12_H-768_A-12.zip\n",
            "663MB [00:08, 75.0MB/s]\n"
          ],
          "name": "stdout"
        }
      ]
    },
    {
      "cell_type": "code",
      "metadata": {
        "id": "ARivu75M8fqM",
        "outputId": "5ad4abb4-970c-44fe-c721-12b75b7eb505",
        "colab": {
          "base_uri": "https://localhost:8080/",
          "height": 134
        }
      },
      "source": [
        "!unzip multi_cased_L-12_H-768_A-12"
      ],
      "execution_count": null,
      "outputs": [
        {
          "output_type": "stream",
          "text": [
            "Archive:  multi_cased_L-12_H-768_A-12.zip\n",
            "   creating: multi_cased_L-12_H-768_A-12/\n",
            "  inflating: multi_cased_L-12_H-768_A-12/bert_model.ckpt.meta  \n",
            "  inflating: multi_cased_L-12_H-768_A-12/bert_model.ckpt.data-00000-of-00001  \n",
            "  inflating: multi_cased_L-12_H-768_A-12/vocab.txt  \n",
            "  inflating: multi_cased_L-12_H-768_A-12/bert_model.ckpt.index  \n",
            "  inflating: multi_cased_L-12_H-768_A-12/bert_config.json  \n"
          ],
          "name": "stdout"
        }
      ]
    },
    {
      "cell_type": "code",
      "metadata": {
        "id": "4Cgl9mvs8hAl"
      },
      "source": [
        "os.makedirs(\"model\", exist_ok=True)"
      ],
      "execution_count": null,
      "outputs": []
    },
    {
      "cell_type": "code",
      "metadata": {
        "id": "QoY4PY-w9FkN"
      },
      "source": [
        "!mv multi_cased_L-12_H-768_A-12/ model"
      ],
      "execution_count": null,
      "outputs": []
    },
    {
      "cell_type": "code",
      "metadata": {
        "id": "LbvjbsEb9Ndv"
      },
      "source": [
        "bert_model_name=\"multi_cased_L-12_H-768_A-12\"\n",
        "\n",
        "bert_ckpt_dir = os.path.join(\"model/\", bert_model_name)\n",
        "bert_ckpt_file = os.path.join(bert_ckpt_dir, \"bert_model.ckpt\")\n",
        "bert_config_file = os.path.join(bert_ckpt_dir, \"bert_config.json\")"
      ],
      "execution_count": null,
      "outputs": []
    },
    {
      "cell_type": "markdown",
      "metadata": {
        "id": "3os6qeC6SB-M"
      },
      "source": [
        "## Preprocessing"
      ]
    },
    {
      "cell_type": "code",
      "metadata": {
        "id": "TApTW_wLxoA9"
      },
      "source": [
        "class IslamophobiaDetectionData:\n",
        "  DATA_COLUMN = \"Text\"\n",
        "  LABEL_COLUMN = \"Label\"\n",
        "\n",
        "  def __init__(self, train, test, tokenizer: FullTokenizer, classes, max_seq_len=192):\n",
        "    self.tokenizer = tokenizer\n",
        "    self.max_seq_len = 0\n",
        "    self.classes = classes\n",
        "    \n",
        "    ((self.train_x, self.train_y), (self.test_x, self.test_y)) = map(self._prepare, [train, test])\n",
        "\n",
        "    print(\"max seq_len\", self.max_seq_len)\n",
        "    self.max_seq_len = min(self.max_seq_len, max_seq_len)\n",
        "    self.train_x, self.test_x = map(self._pad, [self.train_x, self.test_x])\n",
        "\n",
        "  def _prepare(self, df):\n",
        "    x, y = [], []\n",
        "    \n",
        "    for _, row in tqdm(df.iterrows()):\n",
        "      text, label = row[IslamophobiaDetectionData.DATA_COLUMN], row[IslamophobiaDetectionData.LABEL_COLUMN]\n",
        "      tokens = self.tokenizer.tokenize(text)\n",
        "      tokens = [\"[CLS]\"] + tokens + [\"[SEP]\"]\n",
        "      token_ids = self.tokenizer.convert_tokens_to_ids(tokens)\n",
        "      self.max_seq_len = max(self.max_seq_len, len(token_ids))\n",
        "      x.append(token_ids)\n",
        "      y.append(self.classes.index(label))\n",
        "\n",
        "    return np.array(x), np.array(y)\n",
        "\n",
        "  def _pad(self, ids):\n",
        "    x = []\n",
        "    for input_ids in ids:\n",
        "      input_ids = input_ids[:min(len(input_ids), self.max_seq_len - 2)]\n",
        "      input_ids = input_ids + [0] * (self.max_seq_len - len(input_ids))\n",
        "      x.append(np.array(input_ids))\n",
        "    return np.array(x)"
      ],
      "execution_count": null,
      "outputs": []
    },
    {
      "cell_type": "code",
      "metadata": {
        "id": "qQWpVG464BuO"
      },
      "source": [
        "tokenizer = FullTokenizer(vocab_file=os.path.join(bert_ckpt_dir, \"vocab.txt\"))"
      ],
      "execution_count": null,
      "outputs": []
    },
    {
      "cell_type": "code",
      "metadata": {
        "id": "xnGGC53P9nC8"
      },
      "source": [
        "def create_model(max_seq_len, bert_ckpt_file):\n",
        "\n",
        "  with tf.io.gfile.GFile(bert_config_file, \"r\") as reader:\n",
        "      bc = StockBertConfig.from_json_string(reader.read())\n",
        "      bert_params = map_stock_config_to_params(bc)\n",
        "      bert_params.adapter_size = None\n",
        "      bert = BertModelLayer.from_params(bert_params, name=\"bert\")\n",
        "        \n",
        "  input_ids = keras.layers.Input(shape=(max_seq_len, ), dtype='int32', name=\"input_ids\")\n",
        "  bert_output = bert(input_ids)\n",
        "\n",
        "  #print(\"bert shape\", bert_output.shape)\n",
        "\n",
        "  cls_out = keras.layers.Lambda(lambda seq: seq[:, 0, :])(bert_output)\n",
        "  cls_out = keras.layers.Dropout(0.5)(cls_out)\n",
        "  logits = keras.layers.Dense(units=768, activation=\"tanh\")(cls_out)\n",
        "  logits = keras.layers.Dropout(0.5)(logits)\n",
        "\n",
        "  logits = keras.layers.Dense(units=len(classes), activation=\"softmax\")(logits)\n",
        "\n",
        "\n",
        "  model = keras.Model(inputs=input_ids, outputs=logits)\n",
        "  model.build(input_shape=(None, max_seq_len))\n",
        "\n",
        "  load_stock_weights(bert, bert_ckpt_file)\n",
        "  \n",
        "  model.compile(\n",
        "  optimizer=keras.optimizers.Adam(1e-5),\n",
        "  loss=keras.losses.SparseCategoricalCrossentropy(from_logits=True),\n",
        "  metrics=[keras.metrics.SparseCategoricalAccuracy(name=\"acc\")]\n",
        ")\n",
        "        \n",
        "  return model"
      ],
      "execution_count": null,
      "outputs": []
    },
    {
      "cell_type": "markdown",
      "metadata": {
        "id": "67GbMH3WRvZg"
      },
      "source": [
        "## Training"
      ]
    },
    {
      "cell_type": "code",
      "metadata": {
        "id": "kXyaQY4E9S10",
        "outputId": "141549a8-d744-4e70-eca9-2fdd32df6c68",
        "colab": {
          "base_uri": "https://localhost:8080/",
          "height": 67
        }
      },
      "source": [
        "classes = train.Label.unique().tolist()\n",
        "\n",
        "data = IslamophobiaDetectionData(train, test, tokenizer, classes, max_seq_len=128)"
      ],
      "execution_count": null,
      "outputs": [
        {
          "output_type": "stream",
          "text": [
            "7913it [00:04, 1967.67it/s]\n",
            "880it [00:00, 2229.21it/s]\n"
          ],
          "name": "stderr"
        },
        {
          "output_type": "stream",
          "text": [
            "max seq_len 171\n"
          ],
          "name": "stdout"
        }
      ]
    },
    {
      "cell_type": "code",
      "metadata": {
        "id": "TizDFiPC9n4b",
        "outputId": "2549246e-d06e-461f-d5b1-81b4d35376c3",
        "colab": {
          "base_uri": "https://localhost:8080/",
          "height": 238
        }
      },
      "source": [
        "model = create_model(data.max_seq_len, bert_ckpt_file)"
      ],
      "execution_count": null,
      "outputs": [
        {
          "output_type": "stream",
          "text": [
            "Done loading 196 BERT weights from: model/multi_cased_L-12_H-768_A-12/bert_model.ckpt into <bert.model.BertModelLayer object at 0x7f4a134a6898> (prefix:bert). Count of weights not found in the checkpoint was: [0]. Count of weights with mismatched shape: [0]\n",
            "Unused weights from checkpoint: \n",
            "\tbert/embeddings/token_type_embeddings\n",
            "\tbert/pooler/dense/bias\n",
            "\tbert/pooler/dense/kernel\n",
            "\tcls/predictions/output_bias\n",
            "\tcls/predictions/transform/LayerNorm/beta\n",
            "\tcls/predictions/transform/LayerNorm/gamma\n",
            "\tcls/predictions/transform/dense/bias\n",
            "\tcls/predictions/transform/dense/kernel\n",
            "\tcls/seq_relationship/output_bias\n",
            "\tcls/seq_relationship/output_weights\n"
          ],
          "name": "stdout"
        }
      ]
    },
    {
      "cell_type": "code",
      "metadata": {
        "id": "XjUkMjiGbC7f",
        "outputId": "5af25c39-9c70-4af9-d1c8-a149b0a28328",
        "colab": {
          "base_uri": "https://localhost:8080/",
          "height": 386
        }
      },
      "source": [
        "model.summary()"
      ],
      "execution_count": null,
      "outputs": [
        {
          "output_type": "stream",
          "text": [
            "Model: \"functional_1\"\n",
            "_________________________________________________________________\n",
            "Layer (type)                 Output Shape              Param #   \n",
            "=================================================================\n",
            "input_ids (InputLayer)       [(None, 128)]             0         \n",
            "_________________________________________________________________\n",
            "bert (BertModelLayer)        (None, 128, 768)          177261312 \n",
            "_________________________________________________________________\n",
            "lambda (Lambda)              (None, 768)               0         \n",
            "_________________________________________________________________\n",
            "dropout (Dropout)            (None, 768)               0         \n",
            "_________________________________________________________________\n",
            "dense (Dense)                (None, 768)               590592    \n",
            "_________________________________________________________________\n",
            "dropout_1 (Dropout)          (None, 768)               0         \n",
            "_________________________________________________________________\n",
            "dense_1 (Dense)              (None, 3)                 2307      \n",
            "=================================================================\n",
            "Total params: 177,854,211\n",
            "Trainable params: 177,854,211\n",
            "Non-trainable params: 0\n",
            "_________________________________________________________________\n"
          ],
          "name": "stdout"
        }
      ]
    },
    {
      "cell_type": "code",
      "metadata": {
        "id": "oIjlbG8u9xis",
        "outputId": "89bee78c-7e66-4904-e837-f735f01acb40",
        "colab": {
          "base_uri": "https://localhost:8080/",
          "height": 185
        }
      },
      "source": [
        "history = model.fit(\n",
        "  x=data.train_x, \n",
        "  y=data.train_y,\n",
        "  validation_split=0.1,\n",
        "  batch_size=16,\n",
        "  shuffle=True,\n",
        "  epochs=5\n",
        ")"
      ],
      "execution_count": null,
      "outputs": [
        {
          "output_type": "stream",
          "text": [
            "Epoch 1/5\n",
            "446/446 [==============================] - 235s 527ms/step - loss: 0.8370 - acc: 0.6911 - val_loss: 0.6228 - val_acc: 0.9280\n",
            "Epoch 2/5\n",
            "446/446 [==============================] - 225s 504ms/step - loss: 0.6257 - acc: 0.9242 - val_loss: 0.6188 - val_acc: 0.9318\n",
            "Epoch 3/5\n",
            "446/446 [==============================] - 225s 504ms/step - loss: 0.6065 - acc: 0.9444 - val_loss: 0.6225 - val_acc: 0.9280\n",
            "Epoch 4/5\n",
            "446/446 [==============================] - 222s 497ms/step - loss: 0.6034 - acc: 0.9473 - val_loss: 0.6216 - val_acc: 0.9293\n",
            "Epoch 5/5\n",
            "446/446 [==============================] - 220s 494ms/step - loss: 0.6006 - acc: 0.9496 - val_loss: 0.6185 - val_acc: 0.9331\n"
          ],
          "name": "stdout"
        }
      ]
    },
    {
      "cell_type": "markdown",
      "metadata": {
        "id": "6s31ZIADSGNp"
      },
      "source": [
        "## Evaluation"
      ]
    },
    {
      "cell_type": "code",
      "metadata": {
        "id": "5XLlcuVC1lLE",
        "outputId": "800689e9-6305-4be1-899c-9a8453d7002f",
        "colab": {
          "base_uri": "https://localhost:8080/",
          "height": 523
        }
      },
      "source": [
        "ax = plt.figure().gca()\n",
        "ax.xaxis.set_major_locator(MaxNLocator(integer=True))\n",
        "\n",
        "ax.plot(history.history['loss'])\n",
        "ax.plot(history.history['val_loss'])\n",
        "plt.ylabel('Loss')\n",
        "plt.xlabel('Epoch')\n",
        "plt.legend(['train', 'test'])\n",
        "plt.title('Loss over training epochs')\n",
        "plt.show();"
      ],
      "execution_count": null,
      "outputs": [
        {
          "output_type": "display_data",
          "data": {
            "image/png": "[encoded data removed]",
            "text/plain": [
              "<Figure size 864x576 with 1 Axes>"
            ]
          },
          "metadata": {
            "tags": [],
            "image/png": {
              "width": 740,
              "height": 506
            }
          }
        }
      ]
    },
    {
      "cell_type": "code",
      "metadata": {
        "id": "yZ7CVW_71m0Q",
        "outputId": "a9104ca7-856e-4157-d5ba-bc1b38ad7d25",
        "colab": {
          "base_uri": "https://localhost:8080/",
          "height": 523
        }
      },
      "source": [
        "ax = plt.figure().gca()\n",
        "ax.xaxis.set_major_locator(MaxNLocator(integer=True))\n",
        "\n",
        "ax.plot(history.history['acc'])\n",
        "ax.plot(history.history['val_acc'])\n",
        "plt.ylabel('Accuracy')\n",
        "plt.xlabel('Epoch')\n",
        "plt.legend(['train', 'test'])\n",
        "plt.title('Accuracy over training epochs')\n",
        "plt.show();"
      ],
      "execution_count": null,
      "outputs": [
        {
          "output_type": "display_data",
          "data": {
            "image/png": "[encoded data removed]",
            "text/plain": [
              "<Figure size 864x576 with 1 Axes>"
            ]
          },
          "metadata": {
            "tags": [],
            "image/png": {
              "width": 740,
              "height": 506
            }
          }
        }
      ]
    },
    {
      "cell_type": "code",
      "metadata": {
        "id": "RGAECSj4AiD1",
        "outputId": "842e365c-f2c3-4909-c914-6b42119e3e7f",
        "colab": {
          "base_uri": "https://localhost:8080/",
          "height": 84
        }
      },
      "source": [
        "_, train_acc = model.evaluate(data.train_x, data.train_y)\n",
        "_, test_acc = model.evaluate(data.test_x, data.test_y)\n",
        "\n",
        "print(\"train acc\", train_acc)\n",
        "print(\"test acc\", test_acc)"
      ],
      "execution_count": null,
      "outputs": [
        {
          "output_type": "stream",
          "text": [
            "248/248 [==============================] - 27s 107ms/step - loss: 0.5890 - acc: 0.9620\n",
            "28/28 [==============================] - 3s 103ms/step - loss: 0.6075 - acc: 0.9409\n",
            "train acc 0.9619613289833069\n",
            "test acc 0.9409090876579285\n"
          ],
          "name": "stdout"
        }
      ]
    },
    {
      "cell_type": "code",
      "metadata": {
        "id": "Leg5atNmPzGb"
      },
      "source": [
        "y_pred = model.predict(data.test_x).argmax(axis=-1)"
      ],
      "execution_count": null,
      "outputs": []
    },
    {
      "cell_type": "code",
      "metadata": {
        "id": "SZYriKx6UUOb",
        "outputId": "df76d4ec-f4c4-495f-f52c-5c476b00a0aa",
        "colab": {
          "base_uri": "https://localhost:8080/",
          "height": 185
        }
      },
      "source": [
        "print(classification_report(data.test_y, y_pred))"
      ],
      "execution_count": null,
      "outputs": [
        {
          "output_type": "stream",
          "text": [
            "              precision    recall  f1-score   support\n",
            "\n",
            "           0       0.94      0.96      0.95       326\n",
            "           1       0.96      0.93      0.94       337\n",
            "           2       0.91      0.93      0.92       217\n",
            "\n",
            "    accuracy                           0.94       880\n",
            "   macro avg       0.94      0.94      0.94       880\n",
            "weighted avg       0.94      0.94      0.94       880\n",
            "\n"
          ],
          "name": "stdout"
        }
      ]
    },
    {
      "cell_type": "code",
      "metadata": {
        "id": "lS-5TbGDP4rr"
      },
      "source": [
        "\n",
        "cm = confusion_matrix(data.test_y, y_pred)\n",
        "df_cm = pd.DataFrame(cm, index=classes, columns=classes)"
      ],
      "execution_count": null,
      "outputs": []
    },
    {
      "cell_type": "code",
      "metadata": {
        "id": "DgkPl9gLS4DL",
        "outputId": "93c48733-0aee-453d-c836-884e81b77736",
        "colab": {
          "base_uri": "https://localhost:8080/",
          "height": 509
        }
      },
      "source": [
        "hmap = sns.heatmap(df_cm, annot=True, fmt=\"d\")\n",
        "hmap.yaxis.set_ticklabels(hmap.yaxis.get_ticklabels(), rotation=0, ha='right')\n",
        "hmap.xaxis.set_ticklabels(hmap.xaxis.get_ticklabels(), rotation=30, ha='right')\n",
        "plt.ylabel('True label')\n",
        "plt.xlabel('Predicted label');"
      ],
      "execution_count": null,
      "outputs": [
        {
          "output_type": "display_data",
          "data": {
            "image/png": "[encoded data removed]",
            "text/plain": [
              "<Figure size 864x576 with 2 Axes>"
            ]
          },
          "metadata": {
            "tags": [],
            "image/png": {
              "width": 675,
              "height": 492
            }
          }
        }
      ]
    },
    {
      "cell_type": "markdown",
      "metadata": {
        "id": "w7IeHfcq71fn"
      },
      "source": [
        "# 10 Fold cross validation"
      ]
    },
    {
      "cell_type": "code",
      "metadata": {
        "id": "sHHv3pbeU8MZ",
        "outputId": "2487fe87-a664-4072-c423-f32a6f7359ac",
        "colab": {
          "base_uri": "https://localhost:8080/",
          "height": 1000
        }
      },
      "source": [
        "import random\n",
        "from sklearn.metrics import accuracy_score\n",
        "from sklearn.model_selection import train_test_split\n",
        "\n",
        "kFold = 10\n",
        "\n",
        "#To get accuracy of the model for 10 different splits\n",
        "scores = []\n",
        "training_accuracy = []\n",
        "testing_accuracy = []\n",
        "print(\"BERT: \")\n",
        "for i in range(kFold):\n",
        "    print('Fold ', i+1)\n",
        "    print('')\n",
        "    # Splitting data into test and train\n",
        "    train, test = train_test_split(df, test_size=0.10, shuffle = True)\n",
        "\n",
        "    classes = train.Label.unique().tolist()\n",
        "    data = IslamophobiaDetectionData(train, test, tokenizer, classes, max_seq_len=128)\n",
        "    model = create_model(data.max_seq_len, bert_ckpt_file)\n",
        "    history = model.fit( x=data.train_x, y=data.train_y,validation_split=0.1,batch_size=16, shuffle=True,epochs=5)\n",
        "    #train_loss, train_acc = model.evaluate(data.train_x, data.train_y)\n",
        "    test_loss, test_acc = model.evaluate(data.test_x, data.test_y)\n",
        "    \n",
        "    #training_accuracy.append(train_acc)\n",
        "    testing_accuracy.append(test_acc)\n",
        "\n",
        "    y_pred = model.predict(data.test_x).argmax(axis=-1)\n",
        "\n",
        "    scoreValue =accuracy_score(data.test_y, y_pred)\n",
        "    scores.append(scoreValue)\n"
      ],
      "execution_count": null,
      "outputs": [
        {
          "output_type": "stream",
          "text": [
            "215it [00:00, 2140.74it/s]"
          ],
          "name": "stderr"
        },
        {
          "output_type": "stream",
          "text": [
            "BERT: \n",
            "Fold  1\n",
            "\n"
          ],
          "name": "stdout"
        },
        {
          "output_type": "stream",
          "text": [
            "7913it [00:03, 2200.01it/s]\n",
            "880it [00:00, 2196.83it/s]\n"
          ],
          "name": "stderr"
        },
        {
          "output_type": "stream",
          "text": [
            "max seq_len 171\n",
            "Done loading 196 BERT weights from: model/multi_cased_L-12_H-768_A-12/bert_model.ckpt into <bert.model.BertModelLayer object at 0x7f484d64e048> (prefix:bert). Count of weights not found in the checkpoint was: [0]. Count of weights with mismatched shape: [0]\n",
            "Unused weights from checkpoint: \n",
            "\tbert/embeddings/token_type_embeddings\n",
            "\tbert/pooler/dense/bias\n",
            "\tbert/pooler/dense/kernel\n",
            "\tcls/predictions/output_bias\n",
            "\tcls/predictions/transform/LayerNorm/beta\n",
            "\tcls/predictions/transform/LayerNorm/gamma\n",
            "\tcls/predictions/transform/dense/bias\n",
            "\tcls/predictions/transform/dense/kernel\n",
            "\tcls/seq_relationship/output_bias\n",
            "\tcls/seq_relationship/output_weights\n",
            "Epoch 1/5\n",
            "446/446 [==============================] - 219s 492ms/step - loss: 0.8006 - acc: 0.7368 - val_loss: 0.6288 - val_acc: 0.9217\n",
            "Epoch 2/5\n",
            "446/446 [==============================] - 222s 498ms/step - loss: 0.6270 - acc: 0.9233 - val_loss: 0.6374 - val_acc: 0.9116\n",
            "Epoch 3/5\n",
            "446/446 [==============================] - 215s 483ms/step - loss: 0.6120 - acc: 0.9393 - val_loss: 0.6766 - val_acc: 0.8725\n",
            "Epoch 4/5\n",
            "446/446 [==============================] - 210s 471ms/step - loss: 0.6135 - acc: 0.9374 - val_loss: 0.6247 - val_acc: 0.9268\n",
            "Epoch 5/5\n",
            "446/446 [==============================] - 209s 469ms/step - loss: 0.6041 - acc: 0.9462 - val_loss: 0.6109 - val_acc: 0.9394\n",
            "28/28 [==============================] - 3s 102ms/step - loss: 0.5998 - acc: 0.9500\n"
          ],
          "name": "stdout"
        },
        {
          "output_type": "stream",
          "text": [
            "223it [00:00, 2217.86it/s]"
          ],
          "name": "stderr"
        },
        {
          "output_type": "stream",
          "text": [
            "Fold  2\n",
            "\n"
          ],
          "name": "stdout"
        },
        {
          "output_type": "stream",
          "text": [
            "7913it [00:03, 2199.54it/s]\n",
            "880it [00:00, 2181.89it/s]\n"
          ],
          "name": "stderr"
        },
        {
          "output_type": "stream",
          "text": [
            "max seq_len 171\n",
            "Done loading 196 BERT weights from: model/multi_cased_L-12_H-768_A-12/bert_model.ckpt into <bert.model.BertModelLayer object at 0x7f4844d85b70> (prefix:bert). Count of weights not found in the checkpoint was: [0]. Count of weights with mismatched shape: [0]\n",
            "Unused weights from checkpoint: \n",
            "\tbert/embeddings/token_type_embeddings\n",
            "\tbert/pooler/dense/bias\n",
            "\tbert/pooler/dense/kernel\n",
            "\tcls/predictions/output_bias\n",
            "\tcls/predictions/transform/LayerNorm/beta\n",
            "\tcls/predictions/transform/LayerNorm/gamma\n",
            "\tcls/predictions/transform/dense/bias\n",
            "\tcls/predictions/transform/dense/kernel\n",
            "\tcls/seq_relationship/output_bias\n",
            "\tcls/seq_relationship/output_weights\n",
            "Epoch 1/5\n",
            "446/446 [==============================] - 225s 505ms/step - loss: 0.7836 - acc: 0.7516 - val_loss: 0.6302 - val_acc: 0.9205\n",
            "Epoch 2/5\n",
            "446/446 [==============================] - 210s 470ms/step - loss: 0.6231 - acc: 0.9281 - val_loss: 0.6170 - val_acc: 0.9331\n",
            "Epoch 3/5\n",
            "446/446 [==============================] - 209s 468ms/step - loss: 0.6173 - acc: 0.9319 - val_loss: 0.6101 - val_acc: 0.9394\n",
            "Epoch 4/5\n",
            "446/446 [==============================] - 209s 468ms/step - loss: 0.6079 - acc: 0.9430 - val_loss: 0.6203 - val_acc: 0.9331\n",
            "Epoch 5/5\n",
            "446/446 [==============================] - 208s 467ms/step - loss: 0.6020 - acc: 0.9492 - val_loss: 0.6073 - val_acc: 0.9444\n",
            "28/28 [==============================] - 3s 103ms/step - loss: 0.6083 - acc: 0.9432\n"
          ],
          "name": "stdout"
        },
        {
          "output_type": "stream",
          "text": [
            "213it [00:00, 2124.87it/s]"
          ],
          "name": "stderr"
        },
        {
          "output_type": "stream",
          "text": [
            "Fold  3\n",
            "\n"
          ],
          "name": "stdout"
        },
        {
          "output_type": "stream",
          "text": [
            "7913it [00:03, 2195.10it/s]\n",
            "880it [00:00, 2167.43it/s]\n"
          ],
          "name": "stderr"
        },
        {
          "output_type": "stream",
          "text": [
            "max seq_len 171\n",
            "Done loading 196 BERT weights from: model/multi_cased_L-12_H-768_A-12/bert_model.ckpt into <bert.model.BertModelLayer object at 0x7f4a0eb195c0> (prefix:bert). Count of weights not found in the checkpoint was: [0]. Count of weights with mismatched shape: [0]\n",
            "Unused weights from checkpoint: \n",
            "\tbert/embeddings/token_type_embeddings\n",
            "\tbert/pooler/dense/bias\n",
            "\tbert/pooler/dense/kernel\n",
            "\tcls/predictions/output_bias\n",
            "\tcls/predictions/transform/LayerNorm/beta\n",
            "\tcls/predictions/transform/LayerNorm/gamma\n",
            "\tcls/predictions/transform/dense/bias\n",
            "\tcls/predictions/transform/dense/kernel\n",
            "\tcls/seq_relationship/output_bias\n",
            "\tcls/seq_relationship/output_weights\n",
            "Epoch 1/5\n",
            "446/446 [==============================] - 212s 476ms/step - loss: 0.7975 - acc: 0.7318 - val_loss: 0.6367 - val_acc: 0.9116\n",
            "Epoch 2/5\n",
            "446/446 [==============================] - 207s 464ms/step - loss: 0.6221 - acc: 0.9282 - val_loss: 0.6150 - val_acc: 0.9343\n",
            "Epoch 3/5\n",
            "446/446 [==============================] - 204s 458ms/step - loss: 0.6134 - acc: 0.9371 - val_loss: 0.6157 - val_acc: 0.9331\n",
            "Epoch 4/5\n",
            "446/446 [==============================] - 205s 459ms/step - loss: 0.6033 - acc: 0.9472 - val_loss: 0.6093 - val_acc: 0.9419\n",
            "Epoch 5/5\n",
            "446/446 [==============================] - 203s 455ms/step - loss: 0.6080 - acc: 0.9426 - val_loss: 0.6091 - val_acc: 0.9432\n",
            "28/28 [==============================] - 3s 102ms/step - loss: 0.6121 - acc: 0.9386\n"
          ],
          "name": "stdout"
        },
        {
          "output_type": "stream",
          "text": [
            "222it [00:00, 2216.51it/s]"
          ],
          "name": "stderr"
        },
        {
          "output_type": "stream",
          "text": [
            "Fold  4\n",
            "\n"
          ],
          "name": "stdout"
        },
        {
          "output_type": "stream",
          "text": [
            "7913it [00:03, 2250.23it/s]\n",
            "880it [00:00, 2275.13it/s]\n"
          ],
          "name": "stderr"
        },
        {
          "output_type": "stream",
          "text": [
            "max seq_len 171\n",
            "Done loading 196 BERT weights from: model/multi_cased_L-12_H-768_A-12/bert_model.ckpt into <bert.model.BertModelLayer object at 0x7f484dd8bda0> (prefix:bert). Count of weights not found in the checkpoint was: [0]. Count of weights with mismatched shape: [0]\n",
            "Unused weights from checkpoint: \n",
            "\tbert/embeddings/token_type_embeddings\n",
            "\tbert/pooler/dense/bias\n",
            "\tbert/pooler/dense/kernel\n",
            "\tcls/predictions/output_bias\n",
            "\tcls/predictions/transform/LayerNorm/beta\n",
            "\tcls/predictions/transform/LayerNorm/gamma\n",
            "\tcls/predictions/transform/dense/bias\n",
            "\tcls/predictions/transform/dense/kernel\n",
            "\tcls/seq_relationship/output_bias\n",
            "\tcls/seq_relationship/output_weights\n",
            "Epoch 1/5\n",
            "446/446 [==============================] - 207s 464ms/step - loss: 0.9277 - acc: 0.5985 - val_loss: 0.6382 - val_acc: 0.9116\n",
            "Epoch 2/5\n",
            "446/446 [==============================] - 204s 459ms/step - loss: 0.6300 - acc: 0.9198 - val_loss: 0.6070 - val_acc: 0.9432\n",
            "Epoch 3/5\n",
            "446/446 [==============================] - 204s 458ms/step - loss: 0.6113 - acc: 0.9382 - val_loss: 0.6111 - val_acc: 0.9369\n",
            "Epoch 4/5\n",
            "446/446 [==============================] - 205s 459ms/step - loss: 0.6059 - acc: 0.9450 - val_loss: 0.6033 - val_acc: 0.9470\n",
            "Epoch 5/5\n",
            "446/446 [==============================] - 204s 458ms/step - loss: 0.6047 - acc: 0.9459 - val_loss: 0.6086 - val_acc: 0.9432\n",
            "28/28 [==============================] - 3s 102ms/step - loss: 0.6144 - acc: 0.9375\n"
          ],
          "name": "stdout"
        },
        {
          "output_type": "stream",
          "text": [
            "215it [00:00, 2147.60it/s]"
          ],
          "name": "stderr"
        },
        {
          "output_type": "stream",
          "text": [
            "Fold  5\n",
            "\n"
          ],
          "name": "stdout"
        },
        {
          "output_type": "stream",
          "text": [
            "7913it [00:03, 2215.55it/s]\n",
            "880it [00:00, 2197.45it/s]\n"
          ],
          "name": "stderr"
        },
        {
          "output_type": "stream",
          "text": [
            "max seq_len 171\n",
            "Done loading 196 BERT weights from: model/multi_cased_L-12_H-768_A-12/bert_model.ckpt into <bert.model.BertModelLayer object at 0x7f4846af99e8> (prefix:bert). Count of weights not found in the checkpoint was: [0]. Count of weights with mismatched shape: [0]\n",
            "Unused weights from checkpoint: \n",
            "\tbert/embeddings/token_type_embeddings\n",
            "\tbert/pooler/dense/bias\n",
            "\tbert/pooler/dense/kernel\n",
            "\tcls/predictions/output_bias\n",
            "\tcls/predictions/transform/LayerNorm/beta\n",
            "\tcls/predictions/transform/LayerNorm/gamma\n",
            "\tcls/predictions/transform/dense/bias\n",
            "\tcls/predictions/transform/dense/kernel\n",
            "\tcls/seq_relationship/output_bias\n",
            "\tcls/seq_relationship/output_weights\n",
            "Epoch 1/5\n",
            "446/446 [==============================] - 207s 464ms/step - loss: 0.9239 - acc: 0.5929 - val_loss: 0.6153 - val_acc: 0.9343\n",
            "Epoch 2/5\n",
            "446/446 [==============================] - 203s 456ms/step - loss: 0.6219 - acc: 0.9285 - val_loss: 0.6149 - val_acc: 0.9343\n",
            "Epoch 3/5\n",
            "446/446 [==============================] - 202s 453ms/step - loss: 0.6103 - acc: 0.9405 - val_loss: 0.6132 - val_acc: 0.9356\n",
            "Epoch 4/5\n",
            "446/446 [==============================] - 203s 455ms/step - loss: 0.6013 - acc: 0.9496 - val_loss: 0.6048 - val_acc: 0.9457\n",
            "Epoch 5/5\n",
            "446/446 [==============================] - 203s 455ms/step - loss: 0.5990 - acc: 0.9518 - val_loss: 0.6078 - val_acc: 0.9444\n",
            "28/28 [==============================] - 3s 102ms/step - loss: 0.6104 - acc: 0.9386\n"
          ],
          "name": "stdout"
        },
        {
          "output_type": "stream",
          "text": [
            "226it [00:00, 2259.12it/s]"
          ],
          "name": "stderr"
        },
        {
          "output_type": "stream",
          "text": [
            "Fold  6\n",
            "\n"
          ],
          "name": "stdout"
        },
        {
          "output_type": "stream",
          "text": [
            "7913it [00:03, 2248.13it/s]\n",
            "880it [00:00, 2315.65it/s]\n"
          ],
          "name": "stderr"
        },
        {
          "output_type": "stream",
          "text": [
            "max seq_len 171\n",
            "Done loading 196 BERT weights from: model/multi_cased_L-12_H-768_A-12/bert_model.ckpt into <bert.model.BertModelLayer object at 0x7f484669f358> (prefix:bert). Count of weights not found in the checkpoint was: [0]. Count of weights with mismatched shape: [0]\n",
            "Unused weights from checkpoint: \n",
            "\tbert/embeddings/token_type_embeddings\n",
            "\tbert/pooler/dense/bias\n",
            "\tbert/pooler/dense/kernel\n",
            "\tcls/predictions/output_bias\n",
            "\tcls/predictions/transform/LayerNorm/beta\n",
            "\tcls/predictions/transform/LayerNorm/gamma\n",
            "\tcls/predictions/transform/dense/bias\n",
            "\tcls/predictions/transform/dense/kernel\n",
            "\tcls/seq_relationship/output_bias\n",
            "\tcls/seq_relationship/output_weights\n",
            "Epoch 1/5\n",
            "446/446 [==============================] - 210s 470ms/step - loss: 0.8743 - acc: 0.6527 - val_loss: 0.6410 - val_acc: 0.9116\n",
            "Epoch 2/5\n",
            "446/446 [==============================] - 207s 463ms/step - loss: 0.6393 - acc: 0.9115 - val_loss: 0.6367 - val_acc: 0.9154\n",
            "Epoch 3/5\n",
            "446/446 [==============================] - 205s 459ms/step - loss: 0.6217 - acc: 0.9285 - val_loss: 0.6210 - val_acc: 0.9280\n",
            "Epoch 4/5\n",
            "446/446 [==============================] - 201s 450ms/step - loss: 0.6109 - acc: 0.9396 - val_loss: 0.6075 - val_acc: 0.9432\n",
            "Epoch 5/5\n",
            "446/446 [==============================] - 200s 449ms/step - loss: 0.6060 - acc: 0.9454 - val_loss: 0.6170 - val_acc: 0.9331\n",
            "28/28 [==============================] - 3s 108ms/step - loss: 0.6095 - acc: 0.9409\n"
          ],
          "name": "stdout"
        },
        {
          "output_type": "stream",
          "text": [
            "232it [00:00, 2314.95it/s]"
          ],
          "name": "stderr"
        },
        {
          "output_type": "stream",
          "text": [
            "Fold  7\n",
            "\n"
          ],
          "name": "stdout"
        },
        {
          "output_type": "stream",
          "text": [
            "7913it [00:03, 2304.67it/s]\n",
            "880it [00:00, 2299.45it/s]\n"
          ],
          "name": "stderr"
        },
        {
          "output_type": "stream",
          "text": [
            "max seq_len 171\n",
            "Done loading 196 BERT weights from: model/multi_cased_L-12_H-768_A-12/bert_model.ckpt into <bert.model.BertModelLayer object at 0x7f4a1019ceb8> (prefix:bert). Count of weights not found in the checkpoint was: [0]. Count of weights with mismatched shape: [0]\n",
            "Unused weights from checkpoint: \n",
            "\tbert/embeddings/token_type_embeddings\n",
            "\tbert/pooler/dense/bias\n",
            "\tbert/pooler/dense/kernel\n",
            "\tcls/predictions/output_bias\n",
            "\tcls/predictions/transform/LayerNorm/beta\n",
            "\tcls/predictions/transform/LayerNorm/gamma\n",
            "\tcls/predictions/transform/dense/bias\n",
            "\tcls/predictions/transform/dense/kernel\n",
            "\tcls/seq_relationship/output_bias\n",
            "\tcls/seq_relationship/output_weights\n",
            "Epoch 1/5\n",
            "446/446 [==============================] - 209s 469ms/step - loss: 0.8292 - acc: 0.7000 - val_loss: 0.6355 - val_acc: 0.9116\n",
            "Epoch 2/5\n",
            "446/446 [==============================] - 206s 461ms/step - loss: 0.6315 - acc: 0.9184 - val_loss: 0.6310 - val_acc: 0.9167\n",
            "Epoch 3/5\n",
            "446/446 [==============================] - 206s 461ms/step - loss: 0.6169 - acc: 0.9332 - val_loss: 0.6224 - val_acc: 0.9280\n",
            "Epoch 4/5\n",
            "446/446 [==============================] - 205s 459ms/step - loss: 0.6091 - acc: 0.9417 - val_loss: 0.6173 - val_acc: 0.9343\n",
            "Epoch 5/5\n",
            "446/446 [==============================] - 205s 461ms/step - loss: 0.6067 - acc: 0.9437 - val_loss: 0.6210 - val_acc: 0.9280\n",
            "28/28 [==============================] - 3s 102ms/step - loss: 0.6187 - acc: 0.9307\n"
          ],
          "name": "stdout"
        },
        {
          "output_type": "stream",
          "text": [
            "249it [00:00, 2486.03it/s]"
          ],
          "name": "stderr"
        },
        {
          "output_type": "stream",
          "text": [
            "Fold  8\n",
            "\n"
          ],
          "name": "stdout"
        },
        {
          "output_type": "stream",
          "text": [
            "7913it [00:03, 2318.82it/s]\n",
            "880it [00:00, 2331.45it/s]\n"
          ],
          "name": "stderr"
        },
        {
          "output_type": "stream",
          "text": [
            "max seq_len 171\n",
            "Done loading 196 BERT weights from: model/multi_cased_L-12_H-768_A-12/bert_model.ckpt into <bert.model.BertModelLayer object at 0x7f4844f641d0> (prefix:bert). Count of weights not found in the checkpoint was: [0]. Count of weights with mismatched shape: [0]\n",
            "Unused weights from checkpoint: \n",
            "\tbert/embeddings/token_type_embeddings\n",
            "\tbert/pooler/dense/bias\n",
            "\tbert/pooler/dense/kernel\n",
            "\tcls/predictions/output_bias\n",
            "\tcls/predictions/transform/LayerNorm/beta\n",
            "\tcls/predictions/transform/LayerNorm/gamma\n",
            "\tcls/predictions/transform/dense/bias\n",
            "\tcls/predictions/transform/dense/kernel\n",
            "\tcls/seq_relationship/output_bias\n",
            "\tcls/seq_relationship/output_weights\n",
            "Epoch 1/5\n",
            "446/446 [==============================] - 205s 461ms/step - loss: 0.8486 - acc: 0.6804 - val_loss: 0.6380 - val_acc: 0.9141\n",
            "Epoch 2/5\n",
            "446/446 [==============================] - 201s 452ms/step - loss: 0.6277 - acc: 0.9216 - val_loss: 0.6134 - val_acc: 0.9356\n",
            "Epoch 3/5\n",
            "446/446 [==============================] - 202s 452ms/step - loss: 0.6168 - acc: 0.9336 - val_loss: 0.6104 - val_acc: 0.9381\n",
            "Epoch 4/5\n",
            "446/446 [==============================] - 201s 451ms/step - loss: 0.6030 - acc: 0.9478 - val_loss: 0.6007 - val_acc: 0.9482\n",
            "Epoch 5/5\n",
            "446/446 [==============================] - 201s 451ms/step - loss: 0.5989 - acc: 0.9517 - val_loss: 0.6103 - val_acc: 0.9394\n",
            "28/28 [==============================] - 3s 102ms/step - loss: 0.6175 - acc: 0.9330\n"
          ],
          "name": "stdout"
        },
        {
          "output_type": "stream",
          "text": [
            "238it [00:00, 2375.23it/s]"
          ],
          "name": "stderr"
        },
        {
          "output_type": "stream",
          "text": [
            "Fold  9\n",
            "\n"
          ],
          "name": "stdout"
        },
        {
          "output_type": "stream",
          "text": [
            "7913it [00:03, 2303.51it/s]\n",
            "880it [00:00, 2277.65it/s]\n"
          ],
          "name": "stderr"
        },
        {
          "output_type": "stream",
          "text": [
            "max seq_len 171\n",
            "Done loading 196 BERT weights from: model/multi_cased_L-12_H-768_A-12/bert_model.ckpt into <bert.model.BertModelLayer object at 0x7f484dce8a20> (prefix:bert). Count of weights not found in the checkpoint was: [0]. Count of weights with mismatched shape: [0]\n",
            "Unused weights from checkpoint: \n",
            "\tbert/embeddings/token_type_embeddings\n",
            "\tbert/pooler/dense/bias\n",
            "\tbert/pooler/dense/kernel\n",
            "\tcls/predictions/output_bias\n",
            "\tcls/predictions/transform/LayerNorm/beta\n",
            "\tcls/predictions/transform/LayerNorm/gamma\n",
            "\tcls/predictions/transform/dense/bias\n",
            "\tcls/predictions/transform/dense/kernel\n",
            "\tcls/seq_relationship/output_bias\n",
            "\tcls/seq_relationship/output_weights\n",
            "Epoch 1/5\n",
            "446/446 [==============================] - 212s 475ms/step - loss: 1.0045 - acc: 0.5091 - val_loss: 0.8213 - val_acc: 0.7260\n",
            "Epoch 2/5\n",
            "446/446 [==============================] - 209s 468ms/step - loss: 0.8526 - acc: 0.6863 - val_loss: 0.8208 - val_acc: 0.7273\n",
            "Epoch 3/5\n",
            "446/446 [==============================] - 207s 463ms/step - loss: 0.7513 - acc: 0.7936 - val_loss: 0.6390 - val_acc: 0.9104\n",
            "Epoch 4/5\n",
            "446/446 [==============================] - 200s 448ms/step - loss: 0.6302 - acc: 0.9193 - val_loss: 0.6187 - val_acc: 0.9306\n",
            "Epoch 5/5\n",
            "446/446 [==============================] - 199s 447ms/step - loss: 0.6149 - acc: 0.9360 - val_loss: 0.6219 - val_acc: 0.9293\n",
            "28/28 [==============================] - 3s 102ms/step - loss: 0.6172 - acc: 0.9330\n"
          ],
          "name": "stdout"
        },
        {
          "output_type": "stream",
          "text": [
            "220it [00:00, 2197.75it/s]"
          ],
          "name": "stderr"
        },
        {
          "output_type": "stream",
          "text": [
            "Fold  10\n",
            "\n"
          ],
          "name": "stdout"
        },
        {
          "output_type": "stream",
          "text": [
            "7913it [00:03, 2349.03it/s]\n",
            "880it [00:00, 2396.51it/s]\n"
          ],
          "name": "stderr"
        },
        {
          "output_type": "stream",
          "text": [
            "max seq_len 171\n",
            "Done loading 196 BERT weights from: model/multi_cased_L-12_H-768_A-12/bert_model.ckpt into <bert.model.BertModelLayer object at 0x7f4845837d68> (prefix:bert). Count of weights not found in the checkpoint was: [0]. Count of weights with mismatched shape: [0]\n",
            "Unused weights from checkpoint: \n",
            "\tbert/embeddings/token_type_embeddings\n",
            "\tbert/pooler/dense/bias\n",
            "\tbert/pooler/dense/kernel\n",
            "\tcls/predictions/output_bias\n",
            "\tcls/predictions/transform/LayerNorm/beta\n",
            "\tcls/predictions/transform/LayerNorm/gamma\n",
            "\tcls/predictions/transform/dense/bias\n",
            "\tcls/predictions/transform/dense/kernel\n",
            "\tcls/seq_relationship/output_bias\n",
            "\tcls/seq_relationship/output_weights\n",
            "Epoch 1/5\n",
            "446/446 [==============================] - 209s 468ms/step - loss: 0.8098 - acc: 0.7284 - val_loss: 0.6138 - val_acc: 0.9369\n",
            "Epoch 2/5\n",
            "446/446 [==============================] - 206s 462ms/step - loss: 0.6216 - acc: 0.9291 - val_loss: 0.6060 - val_acc: 0.9457\n",
            "Epoch 3/5\n",
            "446/446 [==============================] - 206s 462ms/step - loss: 0.6083 - acc: 0.9424 - val_loss: 0.6237 - val_acc: 0.9268\n",
            "Epoch 4/5\n",
            "446/446 [==============================] - 206s 461ms/step - loss: 0.6040 - acc: 0.9469 - val_loss: 0.6063 - val_acc: 0.9444\n",
            "Epoch 5/5\n",
            "446/446 [==============================] - 206s 462ms/step - loss: 0.5975 - acc: 0.9537 - val_loss: 0.6035 - val_acc: 0.9482\n",
            "28/28 [==============================] - 3s 102ms/step - loss: 0.6218 - acc: 0.9273\n"
          ],
          "name": "stdout"
        }
      ]
    },
    {
      "cell_type": "code",
      "metadata": {
        "id": "RYtq3EIqeqPk",
        "outputId": "d4c23fc7-aa8b-492a-fd44-78a63d7d68e8",
        "colab": {
          "base_uri": "https://localhost:8080/"
        }
      },
      "source": [
        "\n",
        "Mean_score = sum(scores) / len(scores)\n",
        "print(f\" Mean predict: {Mean_score}\" )\n",
        "\n",
        "mean_test = sum(testing_accuracy)/len(testing_accuracy)\n",
        "print(f\" Mean testing accuracy for 10 folds: {mean_test}\" )"
      ],
      "execution_count": null,
      "outputs": [
        {
          "output_type": "stream",
          "text": [
            " Mean predict: 0.9372727272727273\n",
            " Mean testing accuracy for 10 folds: 0.9372727274894714\n"
          ],
          "name": "stdout"
        }
      ]
    },
    {
      "cell_type": "code",
      "metadata": {
        "id": "6Feyo0ULAmEW",
        "outputId": "615bef7a-b5f7-46d9-dba6-65ca2b2875b9",
        "colab": {
          "base_uri": "https://localhost:8080/",
          "height": 370
        }
      },
      "source": [
        "translator = Translator()\n",
        "sentences = []\n",
        "# 1\n",
        "hin_text =  \"इसलाम सुंदर है\"\n",
        "print(\"Hindi: \", hin_text)\n",
        "\n",
        "trans = translator.translate(hin_text, dest='en')\n",
        "print()\n",
        "sentences.append(trans.text)\n",
        "\n",
        "# 0\n",
        "hin_text =  \" समाज वादी  पार्टी  जिंदाबाद \"\n",
        "print(\"Hindi: \", hin_text)\n",
        "\n",
        "trans = translator.translate(hin_text, dest='en')\n",
        "print()\n",
        "sentences.append(trans.text)\n",
        "\n",
        "# 2\n",
        "hin_text =  \"'गाजा में दीवाली   की ढेरो बधाई मित्रो 😊💐  #IsraeliBombing 😂😂\"\n",
        "print(\"Hindi: \", hin_text)\n",
        "\n",
        "trans = translator.translate(hin_text, dest='en')\n",
        "print()\n",
        "sentences.append(trans.text)\n",
        "\n",
        "# 2\n",
        "sentences.append( \"Play our song now you asshole jehadi muslim\")\n",
        "\n",
        "# 0\n",
        "sentences.append( \"Rate this book as awful\")\n",
        "\n",
        "\n",
        "pred_tokens = map(tokenizer.tokenize, sentences)\n",
        "pred_tokens = map(lambda tok: [\"[CLS]\"] + tok + [\"[SEP]\"], pred_tokens)\n",
        "pred_token_ids = list(map(tokenizer.convert_tokens_to_ids, pred_tokens))\n",
        "\n",
        "pred_token_ids = map(lambda tids: tids +[0]*(data.max_seq_len-len(tids)),pred_token_ids)\n",
        "pred_token_ids = np.array(list(pred_token_ids))\n",
        "\n",
        "predictions = model.predict(pred_token_ids).argmax(axis=-1)\n",
        "\n",
        "for text, label in zip(sentences, predictions):\n",
        "  print(\"text:\", text, \"\\nLabel:\", classes[label])\n",
        "  print()"
      ],
      "execution_count": null,
      "outputs": [
        {
          "output_type": "stream",
          "text": [
            "Hindi:  इसलाम सुंदर है\n",
            "\n",
            "Hindi:   समाज वादी  पार्टी  जिंदाबाद \n",
            "\n",
            "Hindi:  'गाजा में दीवाली   की ढेरो बधाई मित्रो 😊💐  #IsraeliBombing 😂😂\n",
            "\n",
            "text: Islam is beautiful \n",
            "Label: 1\n",
            "\n",
            "text: Samajwadi Party Zindabad \n",
            "Label: 0\n",
            "\n",
            "text: 'Happy Diwali greetings in Gaza Friends 😊💐 #IsraeliBombing 😂😂 \n",
            "Label: 0\n",
            "\n",
            "text: Play our song now you asshole jehadi muslim \n",
            "Label: 2\n",
            "\n",
            "text: Rate this book as awful \n",
            "Label: 1\n",
            "\n"
          ],
          "name": "stdout"
        }
      ]
    },
    {
      "cell_type": "code",
      "metadata": {
        "id": "J6-dcpQ1IT57"
      },
      "source": [
        ""
      ],
      "execution_count": null,
      "outputs": []
    }
  ]
}