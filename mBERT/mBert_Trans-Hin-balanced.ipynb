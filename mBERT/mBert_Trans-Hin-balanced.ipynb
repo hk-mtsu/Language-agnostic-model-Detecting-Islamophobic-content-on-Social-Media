{
  "nbformat": 4,
  "nbformat_minor": 0,
  "metadata": {
    "colab": {
      "name": "mBert_Trans-Hindi_balanced.ipynb",
      "provenance": [],
      "collapsed_sections": [],
      "toc_visible": true,
      "machine_shape": "hm"
    },
    "kernelspec": {
      "name": "python3",
      "display_name": "Python 3"
    },
    "accelerator": "GPU"
  },
  "cells": [
    {
      "cell_type": "markdown",
      "metadata": {
        "id": "ROSg9T9EzYDf",
        "colab_type": "text"
      },
      "source": [
        "# Islamophhobia Detection with mBERT using Keras and TensorFlow 2\n",
        "\n"
      ]
    },
    {
      "cell_type": "code",
      "metadata": {
        "id": "LV210YNdrKIi",
        "colab_type": "code",
        "colab": {
          "base_uri": "https://localhost:8080/",
          "height": 353
        },
        "outputId": "c39500fd-ddb6-4a3c-e4cf-37af08bc0531"
      },
      "source": [
        "!nvidia-smi"
      ],
      "execution_count": 1,
      "outputs": [
        {
          "output_type": "stream",
          "text": [
            "Fri Sep 18 02:19:42 2020       \n",
            "+-----------------------------------------------------------------------------+\n",
            "| NVIDIA-SMI 450.66       Driver Version: 418.67       CUDA Version: 10.1     |\n",
            "|-------------------------------+----------------------+----------------------+\n",
            "| GPU  Name        Persistence-M| Bus-Id        Disp.A | Volatile Uncorr. ECC |\n",
            "| Fan  Temp  Perf  Pwr:Usage/Cap|         Memory-Usage | GPU-Util  Compute M. |\n",
            "|                               |                      |               MIG M. |\n",
            "|===============================+======================+======================|\n",
            "|   0  Tesla P100-PCIE...  Off  | 00000000:00:04.0 Off |                    0 |\n",
            "| N/A   46C    P0    28W / 250W |      0MiB / 16280MiB |      0%      Default |\n",
            "|                               |                      |                 ERR! |\n",
            "+-------------------------------+----------------------+----------------------+\n",
            "                                                                               \n",
            "+-----------------------------------------------------------------------------+\n",
            "| Processes:                                                                  |\n",
            "|  GPU   GI   CI        PID   Type   Process name                  GPU Memory |\n",
            "|        ID   ID                                                   Usage      |\n",
            "|=============================================================================|\n",
            "|  No running processes found                                                 |\n",
            "+-----------------------------------------------------------------------------+\n"
          ],
          "name": "stdout"
        }
      ]
    },
    {
      "cell_type": "code",
      "metadata": {
        "id": "WaaST8ILn0oN",
        "colab_type": "code",
        "colab": {
          "base_uri": "https://localhost:8080/",
          "height": 726
        },
        "outputId": "5dc34bcb-9443-4964-dfd5-11a66ae47d69"
      },
      "source": [
        "!pip install tensorflow-gpu "
      ],
      "execution_count": 2,
      "outputs": [
        {
          "output_type": "stream",
          "text": [
            "Collecting tensorflow-gpu\n",
            "\u001b[?25l  Downloading https://files.pythonhosted.org/packages/0f/11/763f55d3d15efd778ef24453f126e6c33635680e5a2bb346da3fab5997cb/tensorflow_gpu-2.3.0-cp36-cp36m-manylinux2010_x86_64.whl (320.4MB)\n",
            "\u001b[K     |████████████████████████████████| 320.4MB 46kB/s \n",
            "\u001b[?25hRequirement already satisfied: tensorboard<3,>=2.3.0 in /usr/local/lib/python3.6/dist-packages (from tensorflow-gpu) (2.3.0)\n",
            "Requirement already satisfied: six>=1.12.0 in /usr/local/lib/python3.6/dist-packages (from tensorflow-gpu) (1.15.0)\n",
            "Requirement already satisfied: protobuf>=3.9.2 in /usr/local/lib/python3.6/dist-packages (from tensorflow-gpu) (3.12.4)\n",
            "Requirement already satisfied: termcolor>=1.1.0 in /usr/local/lib/python3.6/dist-packages (from tensorflow-gpu) (1.1.0)\n",
            "Requirement already satisfied: grpcio>=1.8.6 in /usr/local/lib/python3.6/dist-packages (from tensorflow-gpu) (1.32.0)\n",
            "Requirement already satisfied: wheel>=0.26 in /usr/local/lib/python3.6/dist-packages (from tensorflow-gpu) (0.35.1)\n",
            "Requirement already satisfied: astunparse==1.6.3 in /usr/local/lib/python3.6/dist-packages (from tensorflow-gpu) (1.6.3)\n",
            "Requirement already satisfied: numpy<1.19.0,>=1.16.0 in /usr/local/lib/python3.6/dist-packages (from tensorflow-gpu) (1.18.5)\n",
            "Requirement already satisfied: wrapt>=1.11.1 in /usr/local/lib/python3.6/dist-packages (from tensorflow-gpu) (1.12.1)\n",
            "Requirement already satisfied: opt-einsum>=2.3.2 in /usr/local/lib/python3.6/dist-packages (from tensorflow-gpu) (3.3.0)\n",
            "Requirement already satisfied: keras-preprocessing<1.2,>=1.1.1 in /usr/local/lib/python3.6/dist-packages (from tensorflow-gpu) (1.1.2)\n",
            "Requirement already satisfied: absl-py>=0.7.0 in /usr/local/lib/python3.6/dist-packages (from tensorflow-gpu) (0.10.0)\n",
            "Requirement already satisfied: h5py<2.11.0,>=2.10.0 in /usr/local/lib/python3.6/dist-packages (from tensorflow-gpu) (2.10.0)\n",
            "Requirement already satisfied: gast==0.3.3 in /usr/local/lib/python3.6/dist-packages (from tensorflow-gpu) (0.3.3)\n",
            "Requirement already satisfied: google-pasta>=0.1.8 in /usr/local/lib/python3.6/dist-packages (from tensorflow-gpu) (0.2.0)\n",
            "Requirement already satisfied: scipy==1.4.1 in /usr/local/lib/python3.6/dist-packages (from tensorflow-gpu) (1.4.1)\n",
            "Requirement already satisfied: tensorflow-estimator<2.4.0,>=2.3.0 in /usr/local/lib/python3.6/dist-packages (from tensorflow-gpu) (2.3.0)\n",
            "Requirement already satisfied: tensorboard-plugin-wit>=1.6.0 in /usr/local/lib/python3.6/dist-packages (from tensorboard<3,>=2.3.0->tensorflow-gpu) (1.7.0)\n",
            "Requirement already satisfied: requests<3,>=2.21.0 in /usr/local/lib/python3.6/dist-packages (from tensorboard<3,>=2.3.0->tensorflow-gpu) (2.23.0)\n",
            "Requirement already satisfied: setuptools>=41.0.0 in /usr/local/lib/python3.6/dist-packages (from tensorboard<3,>=2.3.0->tensorflow-gpu) (50.3.0)\n",
            "Requirement already satisfied: markdown>=2.6.8 in /usr/local/lib/python3.6/dist-packages (from tensorboard<3,>=2.3.0->tensorflow-gpu) (3.2.2)\n",
            "Requirement already satisfied: google-auth-oauthlib<0.5,>=0.4.1 in /usr/local/lib/python3.6/dist-packages (from tensorboard<3,>=2.3.0->tensorflow-gpu) (0.4.1)\n",
            "Requirement already satisfied: werkzeug>=0.11.15 in /usr/local/lib/python3.6/dist-packages (from tensorboard<3,>=2.3.0->tensorflow-gpu) (1.0.1)\n",
            "Requirement already satisfied: google-auth<2,>=1.6.3 in /usr/local/lib/python3.6/dist-packages (from tensorboard<3,>=2.3.0->tensorflow-gpu) (1.17.2)\n",
            "Requirement already satisfied: idna<3,>=2.5 in /usr/local/lib/python3.6/dist-packages (from requests<3,>=2.21.0->tensorboard<3,>=2.3.0->tensorflow-gpu) (2.10)\n",
            "Requirement already satisfied: urllib3!=1.25.0,!=1.25.1,<1.26,>=1.21.1 in /usr/local/lib/python3.6/dist-packages (from requests<3,>=2.21.0->tensorboard<3,>=2.3.0->tensorflow-gpu) (1.24.3)\n",
            "Requirement already satisfied: chardet<4,>=3.0.2 in /usr/local/lib/python3.6/dist-packages (from requests<3,>=2.21.0->tensorboard<3,>=2.3.0->tensorflow-gpu) (3.0.4)\n",
            "Requirement already satisfied: certifi>=2017.4.17 in /usr/local/lib/python3.6/dist-packages (from requests<3,>=2.21.0->tensorboard<3,>=2.3.0->tensorflow-gpu) (2020.6.20)\n",
            "Requirement already satisfied: importlib-metadata; python_version < \"3.8\" in /usr/local/lib/python3.6/dist-packages (from markdown>=2.6.8->tensorboard<3,>=2.3.0->tensorflow-gpu) (1.7.0)\n",
            "Requirement already satisfied: requests-oauthlib>=0.7.0 in /usr/local/lib/python3.6/dist-packages (from google-auth-oauthlib<0.5,>=0.4.1->tensorboard<3,>=2.3.0->tensorflow-gpu) (1.3.0)\n",
            "Requirement already satisfied: rsa<5,>=3.1.4; python_version >= \"3\" in /usr/local/lib/python3.6/dist-packages (from google-auth<2,>=1.6.3->tensorboard<3,>=2.3.0->tensorflow-gpu) (4.6)\n",
            "Requirement already satisfied: cachetools<5.0,>=2.0.0 in /usr/local/lib/python3.6/dist-packages (from google-auth<2,>=1.6.3->tensorboard<3,>=2.3.0->tensorflow-gpu) (4.1.1)\n",
            "Requirement already satisfied: pyasn1-modules>=0.2.1 in /usr/local/lib/python3.6/dist-packages (from google-auth<2,>=1.6.3->tensorboard<3,>=2.3.0->tensorflow-gpu) (0.2.8)\n",
            "Requirement already satisfied: zipp>=0.5 in /usr/local/lib/python3.6/dist-packages (from importlib-metadata; python_version < \"3.8\"->markdown>=2.6.8->tensorboard<3,>=2.3.0->tensorflow-gpu) (3.1.0)\n",
            "Requirement already satisfied: oauthlib>=3.0.0 in /usr/local/lib/python3.6/dist-packages (from requests-oauthlib>=0.7.0->google-auth-oauthlib<0.5,>=0.4.1->tensorboard<3,>=2.3.0->tensorflow-gpu) (3.1.0)\n",
            "Requirement already satisfied: pyasn1>=0.1.3 in /usr/local/lib/python3.6/dist-packages (from rsa<5,>=3.1.4; python_version >= \"3\"->google-auth<2,>=1.6.3->tensorboard<3,>=2.3.0->tensorflow-gpu) (0.4.8)\n",
            "Installing collected packages: tensorflow-gpu\n",
            "Successfully installed tensorflow-gpu-2.3.0\n"
          ],
          "name": "stdout"
        }
      ]
    },
    {
      "cell_type": "code",
      "metadata": {
        "id": "WTWu7zZeKhfV",
        "colab_type": "code",
        "colab": {
          "base_uri": "https://localhost:8080/",
          "height": 50
        },
        "outputId": "76073b0a-0515-40de-de36-a8bee66a90e0"
      },
      "source": [
        "!pip install --upgrade grpcio"
      ],
      "execution_count": 3,
      "outputs": [
        {
          "output_type": "stream",
          "text": [
            "Requirement already up-to-date: grpcio in /usr/local/lib/python3.6/dist-packages (1.32.0)\n",
            "Requirement already satisfied, skipping upgrade: six>=1.5.2 in /usr/local/lib/python3.6/dist-packages (from grpcio) (1.15.0)\n"
          ],
          "name": "stdout"
        }
      ]
    },
    {
      "cell_type": "code",
      "metadata": {
        "id": "zCRkokr-n26J",
        "colab_type": "code",
        "colab": {
          "base_uri": "https://localhost:8080/",
          "height": 34
        },
        "outputId": "4a68fa0c-eda1-4ac6-b013-604758573df7"
      },
      "source": [
        "!pip install tqdm"
      ],
      "execution_count": 4,
      "outputs": [
        {
          "output_type": "stream",
          "text": [
            "Requirement already satisfied: tqdm in /usr/local/lib/python3.6/dist-packages (4.41.1)\n"
          ],
          "name": "stdout"
        }
      ]
    },
    {
      "cell_type": "code",
      "metadata": {
        "id": "-zgaripn6hjX",
        "colab_type": "code",
        "colab": {
          "base_uri": "https://localhost:8080/",
          "height": 406
        },
        "outputId": "3e09c0e4-e313-4c32-8775-54b28e3d67ab"
      },
      "source": [
        "!pip install bert-for-tf2"
      ],
      "execution_count": 5,
      "outputs": [
        {
          "output_type": "stream",
          "text": [
            "Collecting bert-for-tf2\n",
            "\u001b[?25l  Downloading https://files.pythonhosted.org/packages/af/c1/015648a2186b25c6de79d15bec40d3d946fcf1dd5067d1c1b28009506486/bert-for-tf2-0.14.6.tar.gz (40kB)\n",
            "\r\u001b[K     |████████                        | 10kB 18.2MB/s eta 0:00:01\r\u001b[K     |████████████████                | 20kB 2.2MB/s eta 0:00:01\r\u001b[K     |████████████████████████▏       | 30kB 2.7MB/s eta 0:00:01\r\u001b[K     |████████████████████████████████| 40kB 2.0MB/s \n",
            "\u001b[?25hCollecting py-params>=0.9.6\n",
            "  Downloading https://files.pythonhosted.org/packages/a4/bf/c1c70d5315a8677310ea10a41cfc41c5970d9b37c31f9c90d4ab98021fd1/py-params-0.9.7.tar.gz\n",
            "Collecting params-flow>=0.8.0\n",
            "  Downloading https://files.pythonhosted.org/packages/a9/95/ff49f5ebd501f142a6f0aaf42bcfd1c192dc54909d1d9eb84ab031d46056/params-flow-0.8.2.tar.gz\n",
            "Requirement already satisfied: numpy in /usr/local/lib/python3.6/dist-packages (from params-flow>=0.8.0->bert-for-tf2) (1.18.5)\n",
            "Requirement already satisfied: tqdm in /usr/local/lib/python3.6/dist-packages (from params-flow>=0.8.0->bert-for-tf2) (4.41.1)\n",
            "Building wheels for collected packages: bert-for-tf2, py-params, params-flow\n",
            "  Building wheel for bert-for-tf2 (setup.py) ... \u001b[?25l\u001b[?25hdone\n",
            "  Created wheel for bert-for-tf2: filename=bert_for_tf2-0.14.6-cp36-none-any.whl size=30318 sha256=576e311e7c93b78cba314f113c868be4c601a482d4b77835b85d3080964464e3\n",
            "  Stored in directory: /root/.cache/pip/wheels/07/a0/b4/75b0601ebaa41e517a797fe9cea119c789664c8408f8a74ae9\n",
            "  Building wheel for py-params (setup.py) ... \u001b[?25l\u001b[?25hdone\n",
            "  Created wheel for py-params: filename=py_params-0.9.7-cp36-none-any.whl size=7304 sha256=55f3c72fc0fb05d84aae180e18935d23fd720e309089873fdde0adb1deabadbd\n",
            "  Stored in directory: /root/.cache/pip/wheels/67/f5/19/b461849a50aefdf4bab47c4756596e82ee2118b8278e5a1980\n",
            "  Building wheel for params-flow (setup.py) ... \u001b[?25l\u001b[?25hdone\n",
            "  Created wheel for params-flow: filename=params_flow-0.8.2-cp36-none-any.whl size=19475 sha256=82c07e9840411d6205790f22f675a9d4ae9f7254a0dde91a8d634cece6a7f9c2\n",
            "  Stored in directory: /root/.cache/pip/wheels/08/c8/7f/81c86b9ff2b86e2c477e3914175be03e679e596067dc630c06\n",
            "Successfully built bert-for-tf2 py-params params-flow\n",
            "Installing collected packages: py-params, params-flow, bert-for-tf2\n",
            "Successfully installed bert-for-tf2-0.14.6 params-flow-0.8.2 py-params-0.9.7\n"
          ],
          "name": "stdout"
        }
      ]
    },
    {
      "cell_type": "code",
      "metadata": {
        "id": "_8BBTklbot7T",
        "colab_type": "code",
        "colab": {
          "base_uri": "https://localhost:8080/",
          "height": 759
        },
        "outputId": "c6557e52-fb22-4ae8-b104-3122b707b1cb"
      },
      "source": [
        "!pip install googletrans"
      ],
      "execution_count": 6,
      "outputs": [
        {
          "output_type": "stream",
          "text": [
            "Collecting googletrans\n",
            "  Downloading https://files.pythonhosted.org/packages/71/3a/3b19effdd4c03958b90f40fe01c93de6d5280e03843cc5adf6956bfc9512/googletrans-3.0.0.tar.gz\n",
            "Collecting httpx==0.13.3\n",
            "\u001b[?25l  Downloading https://files.pythonhosted.org/packages/54/b4/698b284c6aed4d7c2b4fe3ba5df1fcf6093612423797e76fbb24890dd22f/httpx-0.13.3-py3-none-any.whl (55kB)\n",
            "\u001b[K     |████████████████████████████████| 61kB 3.2MB/s \n",
            "\u001b[?25hRequirement already satisfied: chardet==3.* in /usr/local/lib/python3.6/dist-packages (from httpx==0.13.3->googletrans) (3.0.4)\n",
            "Collecting rfc3986<2,>=1.3\n",
            "  Downloading https://files.pythonhosted.org/packages/78/be/7b8b99fd74ff5684225f50dd0e865393d2265656ef3b4ba9eaaaffe622b8/rfc3986-1.4.0-py2.py3-none-any.whl\n",
            "Collecting hstspreload\n",
            "\u001b[?25l  Downloading https://files.pythonhosted.org/packages/f1/2c/239483f451d2558ac2e23128b144cc117fb2ba1e8f516e7f781dd3d4951a/hstspreload-2020.9.15-py3-none-any.whl (956kB)\n",
            "\u001b[K     |████████████████████████████████| 962kB 9.8MB/s \n",
            "\u001b[?25hCollecting sniffio\n",
            "  Downloading https://files.pythonhosted.org/packages/b3/82/4bd4b7d9c0d1dc0fbfbc2a1e00138e7f3ab85bc239358fe9b78aa2ab586d/sniffio-1.1.0-py3-none-any.whl\n",
            "Collecting httpcore==0.9.*\n",
            "\u001b[?25l  Downloading https://files.pythonhosted.org/packages/dd/d5/e4ff9318693ac6101a2095e580908b591838c6f33df8d3ee8dd953ba96a8/httpcore-0.9.1-py3-none-any.whl (42kB)\n",
            "\u001b[K     |████████████████████████████████| 51kB 7.0MB/s \n",
            "\u001b[?25hRequirement already satisfied: idna==2.* in /usr/local/lib/python3.6/dist-packages (from httpx==0.13.3->googletrans) (2.10)\n",
            "Requirement already satisfied: certifi in /usr/local/lib/python3.6/dist-packages (from httpx==0.13.3->googletrans) (2020.6.20)\n",
            "Collecting contextvars>=2.1; python_version < \"3.7\"\n",
            "  Downloading https://files.pythonhosted.org/packages/83/96/55b82d9f13763be9d672622e1b8106c85acb83edd7cc2fa5bc67cd9877e9/contextvars-2.4.tar.gz\n",
            "Collecting h11<0.10,>=0.8\n",
            "\u001b[?25l  Downloading https://files.pythonhosted.org/packages/5a/fd/3dad730b0f95e78aeeb742f96fa7bbecbdd56a58e405d3da440d5bfb90c6/h11-0.9.0-py2.py3-none-any.whl (53kB)\n",
            "\u001b[K     |████████████████████████████████| 61kB 7.5MB/s \n",
            "\u001b[?25hCollecting h2==3.*\n",
            "\u001b[?25l  Downloading https://files.pythonhosted.org/packages/25/de/da019bcc539eeab02f6d45836f23858ac467f584bfec7a526ef200242afe/h2-3.2.0-py2.py3-none-any.whl (65kB)\n",
            "\u001b[K     |████████████████████████████████| 71kB 9.3MB/s \n",
            "\u001b[?25hCollecting immutables>=0.9\n",
            "\u001b[?25l  Downloading https://files.pythonhosted.org/packages/99/e0/ea6fd4697120327d26773b5a84853f897a68e33d3f9376b00a8ff96e4f63/immutables-0.14-cp36-cp36m-manylinux1_x86_64.whl (98kB)\n",
            "\u001b[K     |████████████████████████████████| 102kB 10.3MB/s \n",
            "\u001b[?25hCollecting hyperframe<6,>=5.2.0\n",
            "  Downloading https://files.pythonhosted.org/packages/19/0c/bf88182bcb5dce3094e2f3e4fe20db28a9928cb7bd5b08024030e4b140db/hyperframe-5.2.0-py2.py3-none-any.whl\n",
            "Collecting hpack<4,>=3.0\n",
            "  Downloading https://files.pythonhosted.org/packages/8a/cc/e53517f4a1e13f74776ca93271caef378dadec14d71c61c949d759d3db69/hpack-3.0.0-py2.py3-none-any.whl\n",
            "Building wheels for collected packages: googletrans, contextvars\n",
            "  Building wheel for googletrans (setup.py) ... \u001b[?25l\u001b[?25hdone\n",
            "  Created wheel for googletrans: filename=googletrans-3.0.0-cp36-none-any.whl size=15736 sha256=d1f52595c8a8fc1b82fb0d2346fecedb6d9d17defdbf4c390e734aa40c46c3ab\n",
            "  Stored in directory: /root/.cache/pip/wheels/28/1a/a7/eaf4d7a3417a0c65796c547cff4deb6d79c7d14c2abd29273e\n",
            "  Building wheel for contextvars (setup.py) ... \u001b[?25l\u001b[?25hdone\n",
            "  Created wheel for contextvars: filename=contextvars-2.4-cp36-none-any.whl size=7666 sha256=8eed12317580652d753212c4142fbc781d2a91fd731196a7199fc96bcce3b3a2\n",
            "  Stored in directory: /root/.cache/pip/wheels/a5/7d/68/1ebae2668bda2228686e3c1cf16f2c2384cea6e9334ad5f6de\n",
            "Successfully built googletrans contextvars\n",
            "Installing collected packages: rfc3986, hstspreload, immutables, contextvars, sniffio, h11, hyperframe, hpack, h2, httpcore, httpx, googletrans\n",
            "Successfully installed contextvars-2.4 googletrans-3.0.0 h11-0.9.0 h2-3.2.0 hpack-3.0.0 hstspreload-2020.9.15 httpcore-0.9.1 httpx-0.13.3 hyperframe-5.2.0 immutables-0.14 rfc3986-1.4.0 sniffio-1.1.0\n"
          ],
          "name": "stdout"
        }
      ]
    },
    {
      "cell_type": "code",
      "metadata": {
        "id": "9nd4u1Qz6ms5",
        "colab_type": "code",
        "colab": {
          "base_uri": "https://localhost:8080/",
          "height": 121
        },
        "outputId": "81882877-c1ba-4fc6-8b8e-81bcbd1422d3"
      },
      "source": [
        "!pip install sentencepiece"
      ],
      "execution_count": 7,
      "outputs": [
        {
          "output_type": "stream",
          "text": [
            "Collecting sentencepiece\n",
            "\u001b[?25l  Downloading https://files.pythonhosted.org/packages/d4/a4/d0a884c4300004a78cca907a6ff9a5e9fe4f090f5d95ab341c53d28cbc58/sentencepiece-0.1.91-cp36-cp36m-manylinux1_x86_64.whl (1.1MB)\n",
            "\u001b[K     |████████████████████████████████| 1.1MB 3.4MB/s \n",
            "\u001b[?25hInstalling collected packages: sentencepiece\n",
            "Successfully installed sentencepiece-0.1.91\n"
          ],
          "name": "stdout"
        }
      ]
    },
    {
      "cell_type": "code",
      "metadata": {
        "id": "xz4z3kOPjpxi",
        "colab_type": "code",
        "colab": {
          "base_uri": "https://localhost:8080/",
          "height": 289
        },
        "outputId": "e031c884-54bd-4568-a929-a192b343df52"
      },
      "source": [
        "!pip install googletrans"
      ],
      "execution_count": 8,
      "outputs": [
        {
          "output_type": "stream",
          "text": [
            "Requirement already satisfied: googletrans in /usr/local/lib/python3.6/dist-packages (3.0.0)\n",
            "Requirement already satisfied: httpx==0.13.3 in /usr/local/lib/python3.6/dist-packages (from googletrans) (0.13.3)\n",
            "Requirement already satisfied: sniffio in /usr/local/lib/python3.6/dist-packages (from httpx==0.13.3->googletrans) (1.1.0)\n",
            "Requirement already satisfied: rfc3986<2,>=1.3 in /usr/local/lib/python3.6/dist-packages (from httpx==0.13.3->googletrans) (1.4.0)\n",
            "Requirement already satisfied: certifi in /usr/local/lib/python3.6/dist-packages (from httpx==0.13.3->googletrans) (2020.6.20)\n",
            "Requirement already satisfied: idna==2.* in /usr/local/lib/python3.6/dist-packages (from httpx==0.13.3->googletrans) (2.10)\n",
            "Requirement already satisfied: httpcore==0.9.* in /usr/local/lib/python3.6/dist-packages (from httpx==0.13.3->googletrans) (0.9.1)\n",
            "Requirement already satisfied: chardet==3.* in /usr/local/lib/python3.6/dist-packages (from httpx==0.13.3->googletrans) (3.0.4)\n",
            "Requirement already satisfied: hstspreload in /usr/local/lib/python3.6/dist-packages (from httpx==0.13.3->googletrans) (2020.9.15)\n",
            "Requirement already satisfied: contextvars>=2.1; python_version < \"3.7\" in /usr/local/lib/python3.6/dist-packages (from sniffio->httpx==0.13.3->googletrans) (2.4)\n",
            "Requirement already satisfied: h2==3.* in /usr/local/lib/python3.6/dist-packages (from httpcore==0.9.*->httpx==0.13.3->googletrans) (3.2.0)\n",
            "Requirement already satisfied: h11<0.10,>=0.8 in /usr/local/lib/python3.6/dist-packages (from httpcore==0.9.*->httpx==0.13.3->googletrans) (0.9.0)\n",
            "Requirement already satisfied: immutables>=0.9 in /usr/local/lib/python3.6/dist-packages (from contextvars>=2.1; python_version < \"3.7\"->sniffio->httpx==0.13.3->googletrans) (0.14)\n",
            "Requirement already satisfied: hyperframe<6,>=5.2.0 in /usr/local/lib/python3.6/dist-packages (from h2==3.*->httpcore==0.9.*->httpx==0.13.3->googletrans) (5.2.0)\n",
            "Requirement already satisfied: hpack<4,>=3.0 in /usr/local/lib/python3.6/dist-packages (from h2==3.*->httpcore==0.9.*->httpx==0.13.3->googletrans) (3.0.0)\n"
          ],
          "name": "stdout"
        }
      ]
    },
    {
      "cell_type": "code",
      "metadata": {
        "id": "VLPwBaua6jf2",
        "colab_type": "code",
        "colab": {
          "base_uri": "https://localhost:8080/",
          "height": 70
        },
        "outputId": "f908687c-e14b-4ac2-972a-69d7236879b1"
      },
      "source": [
        "import os\n",
        "import math\n",
        "import datetime\n",
        "\n",
        "from tqdm import tqdm\n",
        "\n",
        "import pandas as pd\n",
        "import numpy as np\n",
        "\n",
        "import tensorflow as tf\n",
        "from tensorflow import keras\n",
        "\n",
        "import bert\n",
        "from bert import BertModelLayer\n",
        "from bert.loader import StockBertConfig, map_stock_config_to_params, load_stock_weights\n",
        "from bert.tokenization.bert_tokenization import FullTokenizer\n",
        "\n",
        "import seaborn as sns\n",
        "from pylab import rcParams\n",
        "import matplotlib.pyplot as plt\n",
        "from matplotlib.ticker import MaxNLocator\n",
        "from matplotlib import rc\n",
        "\n",
        "from sklearn.metrics import confusion_matrix, classification_report\n",
        "\n",
        "import re\n",
        "\n",
        "# translator\n",
        "import googletrans\n",
        "from googletrans import Translator\n",
        "translator = Translator()\n",
        "\n",
        "%matplotlib inline\n",
        "%config InlineBackend.figure_format='retina'\n",
        "\n",
        "sns.set(style='whitegrid', palette='muted', font_scale=1.2)\n",
        "\n",
        "HAPPY_COLORS_PALETTE = [\"#01BEFE\", \"#FFDD00\", \"#FF7D00\", \"#FF006D\"]\n",
        "\n",
        "sns.set_palette(sns.color_palette(HAPPY_COLORS_PALETTE))\n",
        "\n",
        "rcParams['figure.figsize'] = 12, 8\n",
        "\n",
        "RANDOM_SEED = 42\n",
        "\n",
        "np.random.seed(RANDOM_SEED)\n",
        "tf.random.set_seed(RANDOM_SEED)"
      ],
      "execution_count": 9,
      "outputs": [
        {
          "output_type": "stream",
          "text": [
            "/usr/local/lib/python3.6/dist-packages/statsmodels/tools/_testing.py:19: FutureWarning: pandas.util.testing is deprecated. Use the functions in the public API at pandas.testing instead.\n",
            "  import pandas.util.testing as tm\n"
          ],
          "name": "stderr"
        }
      ]
    },
    {
      "cell_type": "markdown",
      "metadata": {
        "id": "CzkSXum8RzGM",
        "colab_type": "text"
      },
      "source": [
        "# Data\n"
      ]
    },
    {
      "cell_type": "code",
      "metadata": {
        "id": "eL2BmRgYIZkl",
        "colab_type": "code",
        "colab": {
          "base_uri": "https://localhost:8080/",
          "height": 84
        },
        "outputId": "2369e0b6-c964-462c-aacf-e21f172ff5f6"
      },
      "source": [
        "# Hindi translated data\n",
        "!gdown --id 1zJVv_Ldh5vhDmw2mJSrgMcKlLt1fWyBw --output data-task1.csv\n",
        "\n",
        "# Hindi data\n",
        "# !gdown --id 1EQRLvSUJn6VxFluTqNEGxXcV8_5OmCaW --output data-task3.csv"
      ],
      "execution_count": 10,
      "outputs": [
        {
          "output_type": "stream",
          "text": [
            "Downloading...\n",
            "From: https://drive.google.com/uc?id=1zJVv_Ldh5vhDmw2mJSrgMcKlLt1fWyBw\n",
            "To: /content/data-task1.csv\n",
            "\r  0% 0.00/797k [00:00<?, ?B/s]\r100% 797k/797k [00:00<00:00, 52.4MB/s]\n"
          ],
          "name": "stdout"
        }
      ]
    },
    {
      "cell_type": "code",
      "metadata": {
        "id": "t58Xz1hphnXR",
        "colab_type": "code",
        "colab": {}
      },
      "source": [
        "orig_df = pd.read_csv('data-task1.csv', \n",
        "                   delimiter=',')\n",
        "orig_df.columns = ['Text', 'Label']\n",
        "orig_df.head(15)\n",
        "orig_df[\"Text\"] = orig_df[\"Text\"].astype(str)\n",
        "orig_df[\"Label\"] = orig_df[\"Label\"].astype(str)"
      ],
      "execution_count": 11,
      "outputs": []
    },
    {
      "cell_type": "code",
      "metadata": {
        "id": "z6mq9_-bhywO",
        "colab_type": "code",
        "colab": {
          "base_uri": "https://localhost:8080/",
          "height": 35
        },
        "outputId": "a19a6c66-bf14-447f-908e-26753a0b8aa6"
      },
      "source": [
        "orig_df.Text[3]\n"
      ],
      "execution_count": 12,
      "outputs": [
        {
          "output_type": "execute_result",
          "data": {
            "application/vnd.google.colaboratory.intrinsic+json": {
              "type": "string"
            },
            "text/plain": [
              "\"'More than 500 students of Amin performed half-naked at the gate of the survey building. Pappu Yadav raised his voice\""
            ]
          },
          "metadata": {
            "tags": []
          },
          "execution_count": 12
        }
      ]
    },
    {
      "cell_type": "code",
      "metadata": {
        "id": "lh6sCSOy46_B",
        "colab_type": "code",
        "colab": {
          "base_uri": "https://localhost:8080/",
          "height": 287
        },
        "outputId": "ce7a6fbb-3185-4eeb-ce05-a0548f2d0958"
      },
      "source": [
        "import matplotlib.pyplot as plt\n",
        "fig = plt.figure(figsize=(6,4))\n",
        "orig_df.groupby('Label').Text.count().plot.bar(ylim=0)\n",
        "plt.show()"
      ],
      "execution_count": 13,
      "outputs": [
        {
          "output_type": "display_data",
          "data": {
            "image/png": "[encoded data removed]",
            "text/plain": [
              "<Figure size 432x288 with 1 Axes>"
            ]
          },
          "metadata": {
            "tags": [],
            "image/png": {
              "width": 392,
              "height": 270
            }
          }
        }
      ]
    },
    {
      "cell_type": "code",
      "metadata": {
        "id": "dgm-l6QI47G2",
        "colab_type": "code",
        "colab": {
          "base_uri": "https://localhost:8080/",
          "height": 84
        },
        "outputId": "ee95b448-1353-4398-9a1e-7cfb69501d38"
      },
      "source": [
        "\n",
        "\n",
        "# For entire dataset sentences for each labels \n",
        "orig_df.Label.value_counts()"
      ],
      "execution_count": 14,
      "outputs": [
        {
          "output_type": "execute_result",
          "data": {
            "text/plain": [
              "2    3373\n",
              "0    3245\n",
              "1    2172\n",
              "Name: Label, dtype: int64"
            ]
          },
          "metadata": {
            "tags": []
          },
          "execution_count": 14
        }
      ]
    },
    {
      "cell_type": "code",
      "metadata": {
        "id": "LGv6WWPqoOJO",
        "colab_type": "code",
        "colab": {}
      },
      "source": [
        "#balancing data \n",
        "from collections import Counter\n",
        "import numpy as np\n",
        "def balanceClasses(xs, ys):\n",
        "    item = {}\n",
        "    new_ys = []\n",
        "    new_xs = []\n",
        "    #\"\"\"Undersample xs, ys to balance classes.\"\"\"\n",
        "    freqs = Counter(ys)\n",
        "    # the most common class  is the maximum number we want for all classes\n",
        "    max_allowable = (freqs.most_common()[0][1])\n",
        "    \n",
        "    for val in freqs.most_common(): # List\n",
        "        nums = np.random.randint(1000)\n",
        "        i = 1\n",
        "        item[val[0]] = max_allowable - val[1]\n",
        "        \n",
        "        if item[val[0]] > 0:            \n",
        "            while(item[val[0]] - i != 0): \n",
        "                nums = nums + 1\n",
        "                if ys[nums] == val[0]:\n",
        "                    i += 1\n",
        "                    new_ys.append(ys[nums])\n",
        "                    new_xs.append(xs[nums])\n",
        "    return new_xs, new_ys"
      ],
      "execution_count": 15,
      "outputs": []
    },
    {
      "cell_type": "code",
      "metadata": {
        "id": "ibIWzEi_oPW9",
        "colab_type": "code",
        "colab": {}
      },
      "source": [
        "new_text, new_label = balanceClasses(orig_df['Text'], orig_df['Label'])"
      ],
      "execution_count": 16,
      "outputs": []
    },
    {
      "cell_type": "code",
      "metadata": {
        "id": "AZkU8zzToTuw",
        "colab_type": "code",
        "colab": {}
      },
      "source": [
        "data_df = pd.DataFrame(new_text)\n",
        "data_df.columns = ['Text']\n",
        "data_df['Label'] = new_label\n",
        "data_df = pd.concat([orig_df, data_df])"
      ],
      "execution_count": 17,
      "outputs": []
    },
    {
      "cell_type": "code",
      "metadata": {
        "id": "q-_yOPFzoWTF",
        "colab_type": "code",
        "colab": {
          "base_uri": "https://localhost:8080/",
          "height": 287
        },
        "outputId": "ec4a00c1-576d-4792-dd79-539caff09049"
      },
      "source": [
        "fig1 = plt.figure(figsize=(6,4))\n",
        "data_df.groupby('Label').Text.count().plot.bar(ylim=0)\n",
        "plt.show()"
      ],
      "execution_count": 18,
      "outputs": [
        {
          "output_type": "display_data",
          "data": {
            "image/png": "[encoded data removed]",
            "text/plain": [
              "<Figure size 432x288 with 1 Axes>"
            ]
          },
          "metadata": {
            "tags": [],
            "image/png": {
              "width": 392,
              "height": 270
            }
          }
        }
      ]
    },
    {
      "cell_type": "code",
      "metadata": {
        "id": "X9ExXbzooac2",
        "colab_type": "code",
        "colab": {}
      },
      "source": [
        "df = data_df"
      ],
      "execution_count": 19,
      "outputs": []
    },
    {
      "cell_type": "code",
      "metadata": {
        "id": "1I2T1KqdofBV",
        "colab_type": "code",
        "colab": {
          "base_uri": "https://localhost:8080/",
          "height": 84
        },
        "outputId": "ac22b2cc-fd2f-4cd2-ce93-a6f87c0bf499"
      },
      "source": [
        "df.Label.value_counts()"
      ],
      "execution_count": 20,
      "outputs": [
        {
          "output_type": "execute_result",
          "data": {
            "text/plain": [
              "2    3373\n",
              "1    3372\n",
              "0    3372\n",
              "Name: Label, dtype: int64"
            ]
          },
          "metadata": {
            "tags": []
          },
          "execution_count": 20
        }
      ]
    },
    {
      "cell_type": "code",
      "metadata": {
        "id": "kf3151rv47Jn",
        "colab_type": "code",
        "colab": {
          "base_uri": "https://localhost:8080/",
          "height": 402
        },
        "outputId": "58d0e8e0-ff65-448f-aa4c-d68de03a11dd"
      },
      "source": [
        "df=df.sample(frac=1).reset_index(drop=True)\n",
        "df"
      ],
      "execution_count": 21,
      "outputs": [
        {
          "output_type": "execute_result",
          "data": {
            "text/html": [
              "<div>\n",
              "<style scoped>\n",
              "    .dataframe tbody tr th:only-of-type {\n",
              "        vertical-align: middle;\n",
              "    }\n",
              "\n",
              "    .dataframe tbody tr th {\n",
              "        vertical-align: top;\n",
              "    }\n",
              "\n",
              "    .dataframe thead th {\n",
              "        text-align: right;\n",
              "    }\n",
              "</style>\n",
              "<table border=\"1\" class=\"dataframe\">\n",
              "  <thead>\n",
              "    <tr style=\"text-align: right;\">\n",
              "      <th></th>\n",
              "      <th>Text</th>\n",
              "      <th>Label</th>\n",
              "    </tr>\n",
              "  </thead>\n",
              "  <tbody>\n",
              "    <tr>\n",
              "      <th>0</th>\n",
              "      <td>'To all those who have saluted,' Alaqum Aslam ...</td>\n",
              "      <td>1</td>\n",
              "    </tr>\n",
              "    <tr>\n",
              "      <th>1</th>\n",
              "      <td>'@Jalajisay for the last Congress is Lallu ji ...</td>\n",
              "      <td>0</td>\n",
              "    </tr>\n",
              "    <tr>\n",
              "      <th>2</th>\n",
              "      <td>'Happy Birthday to the Respected Mother, Mars....</td>\n",
              "      <td>0</td>\n",
              "    </tr>\n",
              "    <tr>\n",
              "      <th>3</th>\n",
              "      <td>Happy Islamic New Year, your approved bag Sarv...</td>\n",
              "      <td>1</td>\n",
              "    </tr>\n",
              "    <tr>\n",
              "      <th>4</th>\n",
              "      <td>'@ Pablo_neharu_da @ sunita_yadava 122 uare a ...</td>\n",
              "      <td>2</td>\n",
              "    </tr>\n",
              "    <tr>\n",
              "      <th>...</th>\n",
              "      <td>...</td>\n",
              "      <td>...</td>\n",
              "    </tr>\n",
              "    <tr>\n",
              "      <th>10112</th>\n",
              "      <td>'@ imMAK02 @ pbhushan1 you will also have to a...</td>\n",
              "      <td>2</td>\n",
              "    </tr>\n",
              "    <tr>\n",
              "      <th>10113</th>\n",
              "      <td>'What is Jihadist, Radical and Radical Terror?...</td>\n",
              "      <td>2</td>\n",
              "    </tr>\n",
              "    <tr>\n",
              "      <th>10114</th>\n",
              "      <td>'Which country has that Surat e Ilahi settled,...</td>\n",
              "      <td>1</td>\n",
              "    </tr>\n",
              "    <tr>\n",
              "      <th>10115</th>\n",
              "      <td>'@mysandeepmishra NRC is required. Find the ji...</td>\n",
              "      <td>2</td>\n",
              "    </tr>\n",
              "    <tr>\n",
              "      <th>10116</th>\n",
              "      <td>Happy Islamic New Year \"1442 Hijri\" to 'Alam-e...</td>\n",
              "      <td>1</td>\n",
              "    </tr>\n",
              "  </tbody>\n",
              "</table>\n",
              "<p>10117 rows × 2 columns</p>\n",
              "</div>"
            ],
            "text/plain": [
              "                                                    Text Label\n",
              "0      'To all those who have saluted,' Alaqum Aslam ...     1\n",
              "1      '@Jalajisay for the last Congress is Lallu ji ...     0\n",
              "2      'Happy Birthday to the Respected Mother, Mars....     0\n",
              "3      Happy Islamic New Year, your approved bag Sarv...     1\n",
              "4      '@ Pablo_neharu_da @ sunita_yadava 122 uare a ...     2\n",
              "...                                                  ...   ...\n",
              "10112  '@ imMAK02 @ pbhushan1 you will also have to a...     2\n",
              "10113  'What is Jihadist, Radical and Radical Terror?...     2\n",
              "10114  'Which country has that Surat e Ilahi settled,...     1\n",
              "10115  '@mysandeepmishra NRC is required. Find the ji...     2\n",
              "10116  Happy Islamic New Year \"1442 Hijri\" to 'Alam-e...     1\n",
              "\n",
              "[10117 rows x 2 columns]"
            ]
          },
          "metadata": {
            "tags": []
          },
          "execution_count": 21
        }
      ]
    },
    {
      "cell_type": "markdown",
      "metadata": {
        "id": "pA7mei-y5IZi",
        "colab_type": "text"
      },
      "source": [
        "Data Preprocessing"
      ]
    },
    {
      "cell_type": "code",
      "metadata": {
        "id": "uxT19ii26zNC",
        "colab_type": "code",
        "colab": {}
      },
      "source": [
        "from sklearn.model_selection import train_test_split\n",
        "train, test = train_test_split(df, test_size=0.10, random_state=42)"
      ],
      "execution_count": 22,
      "outputs": []
    },
    {
      "cell_type": "code",
      "metadata": {
        "id": "i4cZ4oi_TTfC",
        "colab_type": "code",
        "colab": {
          "base_uri": "https://localhost:8080/",
          "height": 195
        },
        "outputId": "96099156-62d9-4658-cda6-ec3fca5ed14a"
      },
      "source": [
        "df.head()"
      ],
      "execution_count": 23,
      "outputs": [
        {
          "output_type": "execute_result",
          "data": {
            "text/html": [
              "<div>\n",
              "<style scoped>\n",
              "    .dataframe tbody tr th:only-of-type {\n",
              "        vertical-align: middle;\n",
              "    }\n",
              "\n",
              "    .dataframe tbody tr th {\n",
              "        vertical-align: top;\n",
              "    }\n",
              "\n",
              "    .dataframe thead th {\n",
              "        text-align: right;\n",
              "    }\n",
              "</style>\n",
              "<table border=\"1\" class=\"dataframe\">\n",
              "  <thead>\n",
              "    <tr style=\"text-align: right;\">\n",
              "      <th></th>\n",
              "      <th>Text</th>\n",
              "      <th>Label</th>\n",
              "    </tr>\n",
              "  </thead>\n",
              "  <tbody>\n",
              "    <tr>\n",
              "      <th>0</th>\n",
              "      <td>'To all those who have saluted,' Alaqum Aslam ...</td>\n",
              "      <td>1</td>\n",
              "    </tr>\n",
              "    <tr>\n",
              "      <th>1</th>\n",
              "      <td>'@Jalajisay for the last Congress is Lallu ji ...</td>\n",
              "      <td>0</td>\n",
              "    </tr>\n",
              "    <tr>\n",
              "      <th>2</th>\n",
              "      <td>'Happy Birthday to the Respected Mother, Mars....</td>\n",
              "      <td>0</td>\n",
              "    </tr>\n",
              "    <tr>\n",
              "      <th>3</th>\n",
              "      <td>Happy Islamic New Year, your approved bag Sarv...</td>\n",
              "      <td>1</td>\n",
              "    </tr>\n",
              "    <tr>\n",
              "      <th>4</th>\n",
              "      <td>'@ Pablo_neharu_da @ sunita_yadava 122 uare a ...</td>\n",
              "      <td>2</td>\n",
              "    </tr>\n",
              "  </tbody>\n",
              "</table>\n",
              "</div>"
            ],
            "text/plain": [
              "                                                Text Label\n",
              "0  'To all those who have saluted,' Alaqum Aslam ...     1\n",
              "1  '@Jalajisay for the last Congress is Lallu ji ...     0\n",
              "2  'Happy Birthday to the Respected Mother, Mars....     0\n",
              "3  Happy Islamic New Year, your approved bag Sarv...     1\n",
              "4  '@ Pablo_neharu_da @ sunita_yadava 122 uare a ...     2"
            ]
          },
          "metadata": {
            "tags": []
          },
          "execution_count": 23
        }
      ]
    },
    {
      "cell_type": "code",
      "metadata": {
        "id": "Fes5nupOfR9B",
        "colab_type": "code",
        "colab": {
          "base_uri": "https://localhost:8080/",
          "height": 523
        },
        "outputId": "cc35f333-df1e-4ff1-fa4c-bda0cc540d3e"
      },
      "source": [
        "chart = sns.countplot(train.Label, palette=HAPPY_COLORS_PALETTE)\n",
        "plt.title(\"Number of texts per class\")\n",
        "chart.set_xticklabels(chart.get_xticklabels(), horizontalalignment='right');"
      ],
      "execution_count": 24,
      "outputs": [
        {
          "output_type": "display_data",
          "data": {
            "image/png": "[encoded data removed]",
            "text/plain": [
              "<Figure size 864x576 with 1 Axes>"
            ]
          },
          "metadata": {
            "tags": [],
            "image/png": {
              "width": 745,
              "height": 506
            }
          }
        }
      ]
    },
    {
      "cell_type": "markdown",
      "metadata": {
        "id": "Nc23faMAR--V",
        "colab_type": "text"
      },
      "source": [
        "# Islamophhobia Detection with mBERT\n"
      ]
    },
    {
      "cell_type": "code",
      "metadata": {
        "id": "-P2y2g3m8Ytp",
        "colab_type": "code",
        "colab": {
          "base_uri": "https://localhost:8080/",
          "height": 84
        },
        "outputId": "f7318c00-5f26-4e43-a6e9-ac0df0e673f5"
      },
      "source": [
        "!gdown --id 1ds0mgIfyRZ1vTdQCT4Q5EOxTFA1vH47a --output multi_cased_L-12_H-768_A-12.zip"
      ],
      "execution_count": 25,
      "outputs": [
        {
          "output_type": "stream",
          "text": [
            "Downloading...\n",
            "From: https://drive.google.com/uc?id=1ds0mgIfyRZ1vTdQCT4Q5EOxTFA1vH47a\n",
            "To: /content/multi_cased_L-12_H-768_A-12.zip\n",
            "663MB [00:11, 59.1MB/s]\n"
          ],
          "name": "stdout"
        }
      ]
    },
    {
      "cell_type": "code",
      "metadata": {
        "id": "ARivu75M8fqM",
        "colab_type": "code",
        "colab": {
          "base_uri": "https://localhost:8080/",
          "height": 134
        },
        "outputId": "573aa0bd-ef05-4e36-8de6-a92af28b5327"
      },
      "source": [
        "!unzip multi_cased_L-12_H-768_A-12"
      ],
      "execution_count": 26,
      "outputs": [
        {
          "output_type": "stream",
          "text": [
            "Archive:  multi_cased_L-12_H-768_A-12.zip\n",
            "   creating: multi_cased_L-12_H-768_A-12/\n",
            "  inflating: multi_cased_L-12_H-768_A-12/bert_model.ckpt.meta  \n",
            "  inflating: multi_cased_L-12_H-768_A-12/bert_model.ckpt.data-00000-of-00001  \n",
            "  inflating: multi_cased_L-12_H-768_A-12/vocab.txt  \n",
            "  inflating: multi_cased_L-12_H-768_A-12/bert_model.ckpt.index  \n",
            "  inflating: multi_cased_L-12_H-768_A-12/bert_config.json  \n"
          ],
          "name": "stdout"
        }
      ]
    },
    {
      "cell_type": "code",
      "metadata": {
        "id": "4Cgl9mvs8hAl",
        "colab_type": "code",
        "colab": {}
      },
      "source": [
        "os.makedirs(\"model\", exist_ok=True)"
      ],
      "execution_count": 27,
      "outputs": []
    },
    {
      "cell_type": "code",
      "metadata": {
        "id": "QoY4PY-w9FkN",
        "colab_type": "code",
        "colab": {}
      },
      "source": [
        "!mv multi_cased_L-12_H-768_A-12/ model"
      ],
      "execution_count": 28,
      "outputs": []
    },
    {
      "cell_type": "code",
      "metadata": {
        "id": "LbvjbsEb9Ndv",
        "colab_type": "code",
        "colab": {}
      },
      "source": [
        "bert_model_name=\"multi_cased_L-12_H-768_A-12\"\n",
        "\n",
        "bert_ckpt_dir = os.path.join(\"model/\", bert_model_name)\n",
        "bert_ckpt_file = os.path.join(bert_ckpt_dir, \"bert_model.ckpt\")\n",
        "bert_config_file = os.path.join(bert_ckpt_dir, \"bert_config.json\")"
      ],
      "execution_count": 29,
      "outputs": []
    },
    {
      "cell_type": "markdown",
      "metadata": {
        "id": "3os6qeC6SB-M",
        "colab_type": "text"
      },
      "source": [
        "## Preprocessing"
      ]
    },
    {
      "cell_type": "code",
      "metadata": {
        "id": "TApTW_wLxoA9",
        "colab_type": "code",
        "colab": {}
      },
      "source": [
        "class IslamophobiaDetectionData:\n",
        "  DATA_COLUMN = \"Text\"\n",
        "  LABEL_COLUMN = \"Label\"\n",
        "\n",
        "  def __init__(self, train, test, tokenizer: FullTokenizer, classes, max_seq_len=192):\n",
        "    self.tokenizer = tokenizer\n",
        "    self.max_seq_len = 0\n",
        "    self.classes = classes\n",
        "    \n",
        "    ((self.train_x, self.train_y), (self.test_x, self.test_y)) = map(self._prepare, [train, test])\n",
        "\n",
        "    print(\"max seq_len\", self.max_seq_len)\n",
        "    self.max_seq_len = min(self.max_seq_len, max_seq_len)\n",
        "    self.train_x, self.test_x = map(self._pad, [self.train_x, self.test_x])\n",
        "\n",
        "  def _prepare(self, df):\n",
        "    x, y = [], []\n",
        "    \n",
        "    for _, row in tqdm(df.iterrows()):\n",
        "      text, label = row[IslamophobiaDetectionData.DATA_COLUMN], row[IslamophobiaDetectionData.LABEL_COLUMN]\n",
        "      tokens = self.tokenizer.tokenize(text)\n",
        "      tokens = [\"[CLS]\"] + tokens + [\"[SEP]\"]\n",
        "      token_ids = self.tokenizer.convert_tokens_to_ids(tokens)\n",
        "      self.max_seq_len = max(self.max_seq_len, len(token_ids))\n",
        "      x.append(token_ids)\n",
        "      y.append(self.classes.index(label))\n",
        "\n",
        "    return np.array(x), np.array(y)\n",
        "\n",
        "  def _pad(self, ids):\n",
        "    x = []\n",
        "    for input_ids in ids:\n",
        "      input_ids = input_ids[:min(len(input_ids), self.max_seq_len - 2)]\n",
        "      input_ids = input_ids + [0] * (self.max_seq_len - len(input_ids))\n",
        "      x.append(np.array(input_ids))\n",
        "    return np.array(x)"
      ],
      "execution_count": 30,
      "outputs": []
    },
    {
      "cell_type": "code",
      "metadata": {
        "id": "qQWpVG464BuO",
        "colab_type": "code",
        "colab": {}
      },
      "source": [
        "tokenizer = FullTokenizer(vocab_file=os.path.join(bert_ckpt_dir, \"vocab.txt\"))"
      ],
      "execution_count": 31,
      "outputs": []
    },
    {
      "cell_type": "code",
      "metadata": {
        "id": "xnGGC53P9nC8",
        "colab_type": "code",
        "colab": {}
      },
      "source": [
        "def create_model(max_seq_len, bert_ckpt_file):\n",
        "\n",
        "  with tf.io.gfile.GFile(bert_config_file, \"r\") as reader:\n",
        "      bc = StockBertConfig.from_json_string(reader.read())\n",
        "      bert_params = map_stock_config_to_params(bc)\n",
        "      bert_params.adapter_size = None\n",
        "      bert = BertModelLayer.from_params(bert_params, name=\"bert\")\n",
        "        \n",
        "  input_ids = keras.layers.Input(shape=(max_seq_len, ), dtype='int32', name=\"input_ids\")\n",
        "  bert_output = bert(input_ids)\n",
        "\n",
        "  #print(\"bert shape\", bert_output.shape)\n",
        "\n",
        "  cls_out = keras.layers.Lambda(lambda seq: seq[:, 0, :])(bert_output)\n",
        "  cls_out = keras.layers.Dropout(0.5)(cls_out)\n",
        "  logits = keras.layers.Dense(units=768, activation=\"tanh\")(cls_out)\n",
        "  logits = keras.layers.Dropout(0.5)(logits)\n",
        "\n",
        "  logits = keras.layers.Dense(units=len(classes), activation=\"softmax\")(logits)\n",
        "\n",
        "\n",
        "  model = keras.Model(inputs=input_ids, outputs=logits)\n",
        "  model.build(input_shape=(None, max_seq_len))\n",
        "\n",
        "  load_stock_weights(bert, bert_ckpt_file)\n",
        "  \n",
        "  model.compile(\n",
        "  optimizer=keras.optimizers.Adam(1e-5),\n",
        "  loss=keras.losses.SparseCategoricalCrossentropy(from_logits=True),\n",
        "  metrics=[keras.metrics.SparseCategoricalAccuracy(name=\"acc\")]\n",
        ")\n",
        "        \n",
        "  return model"
      ],
      "execution_count": 32,
      "outputs": []
    },
    {
      "cell_type": "markdown",
      "metadata": {
        "id": "67GbMH3WRvZg",
        "colab_type": "text"
      },
      "source": [
        "## Training"
      ]
    },
    {
      "cell_type": "code",
      "metadata": {
        "id": "kXyaQY4E9S10",
        "colab_type": "code",
        "colab": {
          "base_uri": "https://localhost:8080/",
          "height": 67
        },
        "outputId": "f81f5982-cf98-4361-8279-65b69fe800a9"
      },
      "source": [
        "classes = train.Label.unique().tolist()\n",
        "\n",
        "data = IslamophobiaDetectionData(train, test, tokenizer, classes, max_seq_len=128)"
      ],
      "execution_count": 33,
      "outputs": [
        {
          "output_type": "stream",
          "text": [
            "9105it [00:05, 1807.93it/s]\n",
            "1012it [00:00, 1820.79it/s]\n"
          ],
          "name": "stderr"
        },
        {
          "output_type": "stream",
          "text": [
            "max seq_len 136\n"
          ],
          "name": "stdout"
        }
      ]
    },
    {
      "cell_type": "code",
      "metadata": {
        "id": "TizDFiPC9n4b",
        "colab_type": "code",
        "colab": {
          "base_uri": "https://localhost:8080/",
          "height": 238
        },
        "outputId": "ec641c94-004c-46a4-be07-e91feabec7b1"
      },
      "source": [
        "model = create_model(data.max_seq_len, bert_ckpt_file)"
      ],
      "execution_count": 34,
      "outputs": [
        {
          "output_type": "stream",
          "text": [
            "Done loading 196 BERT weights from: model/multi_cased_L-12_H-768_A-12/bert_model.ckpt into <bert.model.BertModelLayer object at 0x7fd2af76bf28> (prefix:bert). Count of weights not found in the checkpoint was: [0]. Count of weights with mismatched shape: [0]\n",
            "Unused weights from checkpoint: \n",
            "\tbert/embeddings/token_type_embeddings\n",
            "\tbert/pooler/dense/bias\n",
            "\tbert/pooler/dense/kernel\n",
            "\tcls/predictions/output_bias\n",
            "\tcls/predictions/transform/LayerNorm/beta\n",
            "\tcls/predictions/transform/LayerNorm/gamma\n",
            "\tcls/predictions/transform/dense/bias\n",
            "\tcls/predictions/transform/dense/kernel\n",
            "\tcls/seq_relationship/output_bias\n",
            "\tcls/seq_relationship/output_weights\n"
          ],
          "name": "stdout"
        }
      ]
    },
    {
      "cell_type": "code",
      "metadata": {
        "id": "XjUkMjiGbC7f",
        "colab_type": "code",
        "colab": {
          "base_uri": "https://localhost:8080/",
          "height": 386
        },
        "outputId": "da9ea327-b1f7-43ab-9569-1b1e3fa6b6bb"
      },
      "source": [
        "model.summary()"
      ],
      "execution_count": 35,
      "outputs": [
        {
          "output_type": "stream",
          "text": [
            "Model: \"functional_1\"\n",
            "_________________________________________________________________\n",
            "Layer (type)                 Output Shape              Param #   \n",
            "=================================================================\n",
            "input_ids (InputLayer)       [(None, 128)]             0         \n",
            "_________________________________________________________________\n",
            "bert (BertModelLayer)        (None, 128, 768)          177261312 \n",
            "_________________________________________________________________\n",
            "lambda (Lambda)              (None, 768)               0         \n",
            "_________________________________________________________________\n",
            "dropout (Dropout)            (None, 768)               0         \n",
            "_________________________________________________________________\n",
            "dense (Dense)                (None, 768)               590592    \n",
            "_________________________________________________________________\n",
            "dropout_1 (Dropout)          (None, 768)               0         \n",
            "_________________________________________________________________\n",
            "dense_1 (Dense)              (None, 3)                 2307      \n",
            "=================================================================\n",
            "Total params: 177,854,211\n",
            "Trainable params: 177,854,211\n",
            "Non-trainable params: 0\n",
            "_________________________________________________________________\n"
          ],
          "name": "stdout"
        }
      ]
    },
    {
      "cell_type": "code",
      "metadata": {
        "id": "oIjlbG8u9xis",
        "colab_type": "code",
        "colab": {
          "base_uri": "https://localhost:8080/",
          "height": 185
        },
        "outputId": "188eca52-43d0-4de7-a96f-1c0d33896863"
      },
      "source": [
        "\n",
        "\n",
        "history = model.fit(\n",
        "  x=data.train_x, \n",
        "  y=data.train_y,\n",
        "  validation_split=0.1,\n",
        "  batch_size=32,\n",
        "  shuffle=True,\n",
        "  epochs=5\n",
        ")"
      ],
      "execution_count": 36,
      "outputs": [
        {
          "output_type": "stream",
          "text": [
            "Epoch 1/5\n",
            "257/257 [==============================] - 211s 820ms/step - loss: 0.7655 - acc: 0.7737 - val_loss: 0.6369 - val_acc: 0.9111\n",
            "Epoch 2/5\n",
            "257/257 [==============================] - 205s 798ms/step - loss: 0.6279 - acc: 0.9221 - val_loss: 0.6179 - val_acc: 0.9330\n",
            "Epoch 3/5\n",
            "257/257 [==============================] - 205s 798ms/step - loss: 0.6100 - acc: 0.9403 - val_loss: 0.6098 - val_acc: 0.9396\n",
            "Epoch 4/5\n",
            "257/257 [==============================] - 205s 796ms/step - loss: 0.6048 - acc: 0.9458 - val_loss: 0.6073 - val_acc: 0.9429\n",
            "Epoch 5/5\n",
            "257/257 [==============================] - 204s 794ms/step - loss: 0.6009 - acc: 0.9495 - val_loss: 0.6027 - val_acc: 0.9484\n"
          ],
          "name": "stdout"
        }
      ]
    },
    {
      "cell_type": "markdown",
      "metadata": {
        "id": "6s31ZIADSGNp",
        "colab_type": "text"
      },
      "source": [
        "## Evaluation"
      ]
    },
    {
      "cell_type": "code",
      "metadata": {
        "id": "5XLlcuVC1lLE",
        "colab_type": "code",
        "colab": {
          "base_uri": "https://localhost:8080/",
          "height": 523
        },
        "outputId": "00f4b354-1b6c-4e40-e89d-2e93ca428db7"
      },
      "source": [
        "ax = plt.figure().gca()\n",
        "ax.xaxis.set_major_locator(MaxNLocator(integer=True))\n",
        "\n",
        "ax.plot(history.history['loss'])\n",
        "ax.plot(history.history['val_loss'])\n",
        "plt.ylabel('Loss')\n",
        "plt.xlabel('Epoch')\n",
        "plt.legend(['train', 'test'])\n",
        "plt.title('Loss over training epochs')\n",
        "plt.show();"
      ],
      "execution_count": 37,
      "outputs": [
        {
          "output_type": "display_data",
          "data": {
            "image/png": "[encoded data removed]",
            "text/plain": [
              "<Figure size 864x576 with 1 Axes>"
            ]
          },
          "metadata": {
            "tags": [],
            "image/png": {
              "width": 749,
              "height": 506
            }
          }
        }
      ]
    },
    {
      "cell_type": "code",
      "metadata": {
        "id": "yZ7CVW_71m0Q",
        "colab_type": "code",
        "colab": {
          "base_uri": "https://localhost:8080/",
          "height": 523
        },
        "outputId": "650e8923-d75f-4394-ab1a-ad989960045e"
      },
      "source": [
        "ax = plt.figure().gca()\n",
        "ax.xaxis.set_major_locator(MaxNLocator(integer=True))\n",
        "\n",
        "ax.plot(history.history['acc'])\n",
        "ax.plot(history.history['val_acc'])\n",
        "plt.ylabel('Accuracy')\n",
        "plt.xlabel('Epoch')\n",
        "plt.legend(['train', 'test'])\n",
        "plt.title('Accuracy over training epochs')\n",
        "plt.show();"
      ],
      "execution_count": 38,
      "outputs": [
        {
          "output_type": "display_data",
          "data": {
            "image/png": "[encoded data removed]",
            "text/plain": [
              "<Figure size 864x576 with 1 Axes>"
            ]
          },
          "metadata": {
            "tags": [],
            "image/png": {
              "width": 749,
              "height": 506
            }
          }
        }
      ]
    },
    {
      "cell_type": "code",
      "metadata": {
        "id": "RGAECSj4AiD1",
        "colab_type": "code",
        "colab": {
          "base_uri": "https://localhost:8080/",
          "height": 84
        },
        "outputId": "4a3b2e15-418c-4d7e-b816-bf4b65d46844"
      },
      "source": [
        "_, train_acc = model.evaluate(data.train_x, data.train_y)\n",
        "_, test_acc = model.evaluate(data.test_x, data.test_y)\n",
        "\n",
        "print(\"train acc\", train_acc)\n",
        "print(\"test acc\", test_acc)"
      ],
      "execution_count": 39,
      "outputs": [
        {
          "output_type": "stream",
          "text": [
            "285/285 [==============================] - 51s 178ms/step - loss: 0.5913 - acc: 0.9597\n",
            "32/32 [==============================] - 6s 173ms/step - loss: 0.6112 - acc: 0.9377\n",
            "train acc 0.9596924781799316\n",
            "test acc 0.937747061252594\n"
          ],
          "name": "stdout"
        }
      ]
    },
    {
      "cell_type": "code",
      "metadata": {
        "id": "Leg5atNmPzGb",
        "colab_type": "code",
        "colab": {}
      },
      "source": [
        "y_pred = model.predict(data.test_x).argmax(axis=-1)"
      ],
      "execution_count": 40,
      "outputs": []
    },
    {
      "cell_type": "code",
      "metadata": {
        "id": "SZYriKx6UUOb",
        "colab_type": "code",
        "colab": {
          "base_uri": "https://localhost:8080/",
          "height": 185
        },
        "outputId": "399fa79c-8b35-4783-acf1-63eae913d5f8"
      },
      "source": [
        "print(classification_report(data.test_y, y_pred))"
      ],
      "execution_count": 41,
      "outputs": [
        {
          "output_type": "stream",
          "text": [
            "              precision    recall  f1-score   support\n",
            "\n",
            "           0       0.91      0.97      0.94       337\n",
            "           1       0.96      0.91      0.93       332\n",
            "           2       0.95      0.94      0.94       343\n",
            "\n",
            "    accuracy                           0.94      1012\n",
            "   macro avg       0.94      0.94      0.94      1012\n",
            "weighted avg       0.94      0.94      0.94      1012\n",
            "\n"
          ],
          "name": "stdout"
        }
      ]
    },
    {
      "cell_type": "code",
      "metadata": {
        "id": "lS-5TbGDP4rr",
        "colab_type": "code",
        "colab": {}
      },
      "source": [
        "\n",
        "cm = confusion_matrix(data.test_y, y_pred)\n",
        "df_cm = pd.DataFrame(cm, index=classes, columns=classes)"
      ],
      "execution_count": 42,
      "outputs": []
    },
    {
      "cell_type": "code",
      "metadata": {
        "id": "DgkPl9gLS4DL",
        "colab_type": "code",
        "colab": {
          "base_uri": "https://localhost:8080/",
          "height": 509
        },
        "outputId": "d76332ed-85b7-45b3-c7c3-fd47a2de510a"
      },
      "source": [
        "hmap = sns.heatmap(df_cm, annot=True, fmt=\"d\")\n",
        "hmap.yaxis.set_ticklabels(hmap.yaxis.get_ticklabels(), rotation=0, ha='right')\n",
        "hmap.xaxis.set_ticklabels(hmap.xaxis.get_ticklabels(), rotation=30, ha='right')\n",
        "plt.ylabel('True label')\n",
        "plt.xlabel('Predicted label');"
      ],
      "execution_count": 43,
      "outputs": [
        {
          "output_type": "display_data",
          "data": {
            "image/png": "[encoded data removed]",
            "text/plain": [
              "<Figure size 864x576 with 2 Axes>"
            ]
          },
          "metadata": {
            "tags": [],
            "image/png": {
              "width": 675,
              "height": 492
            }
          }
        }
      ]
    },
    {
      "cell_type": "markdown",
      "metadata": {
        "id": "w7IeHfcq71fn",
        "colab_type": "text"
      },
      "source": [
        "# 10 Fold cross validation"
      ]
    },
    {
      "cell_type": "code",
      "metadata": {
        "id": "sHHv3pbeU8MZ",
        "colab_type": "code",
        "colab": {
          "base_uri": "https://localhost:8080/",
          "height": 1000
        },
        "outputId": "2acdbec9-0520-4c7d-c008-8d18b0c3a329"
      },
      "source": [
        "import random\n",
        "from sklearn.metrics import accuracy_score\n",
        "from sklearn.model_selection import train_test_split\n",
        "\n",
        "kFold = 10\n",
        "\n",
        "#To get accuracy of the model for 10 different splits\n",
        "scores = []\n",
        "training_accuracy = []\n",
        "testing_accuracy = []\n",
        "print(\"mBERT: \")\n",
        "for i in range(kFold):\n",
        "    print('\\n Fold ', i+1)\n",
        "    print('')\n",
        "    # Splitting data into test and train\n",
        "    train, test = train_test_split(df, test_size=0.10, shuffle = True)\n",
        "\n",
        "    classes = train.Label.unique().tolist()\n",
        "    data = IslamophobiaDetectionData(train, test, tokenizer, classes, max_seq_len=128)\n",
        "    model = create_model(data.max_seq_len, bert_ckpt_file)\n",
        "    history = model.fit( x=data.train_x, y=data.train_y,validation_split=0.1,batch_size=32, shuffle=True,epochs=5)\n",
        "    train_loss, train_acc = model.evaluate(data.train_x, data.train_y)\n",
        "    test_loss, test_acc = model.evaluate(data.test_x, data.test_y)\n",
        "    \n",
        "    training_accuracy.append(train_acc)\n",
        "    testing_accuracy.append(test_acc)\n",
        "\n",
        "    y_pred = model.predict(data.test_x).argmax(axis=-1)\n",
        "\n",
        "    scoreValue =accuracy_score(data.test_y, y_pred)\n",
        "    scores.append(scoreValue)\n"
      ],
      "execution_count": 44,
      "outputs": [
        {
          "output_type": "stream",
          "text": [
            "199it [00:00, 1987.15it/s]"
          ],
          "name": "stderr"
        },
        {
          "output_type": "stream",
          "text": [
            "mBERT: \n",
            "\n",
            " Fold  1\n",
            "\n"
          ],
          "name": "stdout"
        },
        {
          "output_type": "stream",
          "text": [
            "9105it [00:04, 1843.27it/s]\n",
            "1012it [00:00, 1907.28it/s]\n"
          ],
          "name": "stderr"
        },
        {
          "output_type": "stream",
          "text": [
            "max seq_len 136\n",
            "Done loading 196 BERT weights from: model/multi_cased_L-12_H-768_A-12/bert_model.ckpt into <bert.model.BertModelLayer object at 0x7fd23ae5db70> (prefix:bert). Count of weights not found in the checkpoint was: [0]. Count of weights with mismatched shape: [0]\n",
            "Unused weights from checkpoint: \n",
            "\tbert/embeddings/token_type_embeddings\n",
            "\tbert/pooler/dense/bias\n",
            "\tbert/pooler/dense/kernel\n",
            "\tcls/predictions/output_bias\n",
            "\tcls/predictions/transform/LayerNorm/beta\n",
            "\tcls/predictions/transform/LayerNorm/gamma\n",
            "\tcls/predictions/transform/dense/bias\n",
            "\tcls/predictions/transform/dense/kernel\n",
            "\tcls/seq_relationship/output_bias\n",
            "\tcls/seq_relationship/output_weights\n",
            "Epoch 1/5\n",
            "257/257 [==============================] - 208s 810ms/step - loss: 0.8273 - acc: 0.7060 - val_loss: 0.6586 - val_acc: 0.8891\n",
            "Epoch 2/5\n",
            "257/257 [==============================] - 207s 804ms/step - loss: 0.6390 - acc: 0.9109 - val_loss: 0.6419 - val_acc: 0.9056\n",
            "Epoch 3/5\n",
            "257/257 [==============================] - 207s 805ms/step - loss: 0.6209 - acc: 0.9299 - val_loss: 0.6372 - val_acc: 0.9122\n",
            "Epoch 4/5\n",
            "257/257 [==============================] - 207s 804ms/step - loss: 0.6065 - acc: 0.9442 - val_loss: 0.6366 - val_acc: 0.9122\n",
            "Epoch 5/5\n",
            "257/257 [==============================] - 207s 804ms/step - loss: 0.6021 - acc: 0.9484 - val_loss: 0.6215 - val_acc: 0.9308\n",
            "285/285 [==============================] - 51s 178ms/step - loss: 0.5910 - acc: 0.9609\n",
            "32/32 [==============================] - 6s 172ms/step - loss: 0.6038 - acc: 0.9476\n"
          ],
          "name": "stdout"
        },
        {
          "output_type": "stream",
          "text": [
            "198it [00:00, 1979.59it/s]"
          ],
          "name": "stderr"
        },
        {
          "output_type": "stream",
          "text": [
            "\n",
            " Fold  2\n",
            "\n"
          ],
          "name": "stdout"
        },
        {
          "output_type": "stream",
          "text": [
            "9105it [00:04, 1923.46it/s]\n",
            "1012it [00:00, 1956.41it/s]\n"
          ],
          "name": "stderr"
        },
        {
          "output_type": "stream",
          "text": [
            "max seq_len 136\n",
            "Done loading 196 BERT weights from: model/multi_cased_L-12_H-768_A-12/bert_model.ckpt into <bert.model.BertModelLayer object at 0x7fcf2acfbdd8> (prefix:bert). Count of weights not found in the checkpoint was: [0]. Count of weights with mismatched shape: [0]\n",
            "Unused weights from checkpoint: \n",
            "\tbert/embeddings/token_type_embeddings\n",
            "\tbert/pooler/dense/bias\n",
            "\tbert/pooler/dense/kernel\n",
            "\tcls/predictions/output_bias\n",
            "\tcls/predictions/transform/LayerNorm/beta\n",
            "\tcls/predictions/transform/LayerNorm/gamma\n",
            "\tcls/predictions/transform/dense/bias\n",
            "\tcls/predictions/transform/dense/kernel\n",
            "\tcls/seq_relationship/output_bias\n",
            "\tcls/seq_relationship/output_weights\n",
            "Epoch 1/5\n",
            "257/257 [==============================] - 211s 823ms/step - loss: 0.8022 - acc: 0.7257 - val_loss: 0.6461 - val_acc: 0.9023\n",
            "Epoch 2/5\n",
            "257/257 [==============================] - 208s 809ms/step - loss: 0.6230 - acc: 0.9268 - val_loss: 0.6455 - val_acc: 0.9034\n",
            "Epoch 3/5\n",
            "257/257 [==============================] - 207s 805ms/step - loss: 0.6080 - acc: 0.9419 - val_loss: 0.6153 - val_acc: 0.9352\n",
            "Epoch 4/5\n",
            "257/257 [==============================] - 206s 800ms/step - loss: 0.6007 - acc: 0.9507 - val_loss: 0.6190 - val_acc: 0.9308\n",
            "Epoch 5/5\n",
            "257/257 [==============================] - 206s 801ms/step - loss: 0.5998 - acc: 0.9507 - val_loss: 0.6138 - val_acc: 0.9352\n",
            "285/285 [==============================] - 51s 178ms/step - loss: 0.5912 - acc: 0.9594\n",
            "32/32 [==============================] - 6s 172ms/step - loss: 0.6229 - acc: 0.9269\n"
          ],
          "name": "stdout"
        },
        {
          "output_type": "stream",
          "text": [
            "197it [00:00, 1964.26it/s]"
          ],
          "name": "stderr"
        },
        {
          "output_type": "stream",
          "text": [
            "\n",
            " Fold  3\n",
            "\n"
          ],
          "name": "stdout"
        },
        {
          "output_type": "stream",
          "text": [
            "9105it [00:04, 1930.46it/s]\n",
            "1012it [00:00, 1909.39it/s]\n"
          ],
          "name": "stderr"
        },
        {
          "output_type": "stream",
          "text": [
            "max seq_len 136\n",
            "Done loading 196 BERT weights from: model/multi_cased_L-12_H-768_A-12/bert_model.ckpt into <bert.model.BertModelLayer object at 0x7fcf2efda5f8> (prefix:bert). Count of weights not found in the checkpoint was: [0]. Count of weights with mismatched shape: [0]\n",
            "Unused weights from checkpoint: \n",
            "\tbert/embeddings/token_type_embeddings\n",
            "\tbert/pooler/dense/bias\n",
            "\tbert/pooler/dense/kernel\n",
            "\tcls/predictions/output_bias\n",
            "\tcls/predictions/transform/LayerNorm/beta\n",
            "\tcls/predictions/transform/LayerNorm/gamma\n",
            "\tcls/predictions/transform/dense/bias\n",
            "\tcls/predictions/transform/dense/kernel\n",
            "\tcls/seq_relationship/output_bias\n",
            "\tcls/seq_relationship/output_weights\n",
            "Epoch 1/5\n",
            "257/257 [==============================] - 212s 826ms/step - loss: 0.8464 - acc: 0.6724 - val_loss: 0.6594 - val_acc: 0.8902\n",
            "Epoch 2/5\n",
            "257/257 [==============================] - 205s 799ms/step - loss: 0.6343 - acc: 0.9157 - val_loss: 0.6478 - val_acc: 0.9023\n",
            "Epoch 3/5\n",
            "257/257 [==============================] - 205s 796ms/step - loss: 0.6127 - acc: 0.9378 - val_loss: 0.6398 - val_acc: 0.9111\n",
            "Epoch 4/5\n",
            "257/257 [==============================] - 204s 795ms/step - loss: 0.6072 - acc: 0.9435 - val_loss: 0.6326 - val_acc: 0.9166\n",
            "Epoch 5/5\n",
            "257/257 [==============================] - 204s 795ms/step - loss: 0.6005 - acc: 0.9503 - val_loss: 0.6301 - val_acc: 0.9199\n",
            "285/285 [==============================] - 51s 178ms/step - loss: 0.5937 - acc: 0.9574\n",
            "32/32 [==============================] - 5s 172ms/step - loss: 0.6082 - acc: 0.9417\n"
          ],
          "name": "stdout"
        },
        {
          "output_type": "stream",
          "text": [
            "174it [00:00, 1736.59it/s]"
          ],
          "name": "stderr"
        },
        {
          "output_type": "stream",
          "text": [
            "\n",
            " Fold  4\n",
            "\n"
          ],
          "name": "stdout"
        },
        {
          "output_type": "stream",
          "text": [
            "9105it [00:04, 1901.58it/s]\n",
            "1012it [00:00, 1893.21it/s]\n"
          ],
          "name": "stderr"
        },
        {
          "output_type": "stream",
          "text": [
            "max seq_len 136\n",
            "Done loading 196 BERT weights from: model/multi_cased_L-12_H-768_A-12/bert_model.ckpt into <bert.model.BertModelLayer object at 0x7fd21a640320> (prefix:bert). Count of weights not found in the checkpoint was: [0]. Count of weights with mismatched shape: [0]\n",
            "Unused weights from checkpoint: \n",
            "\tbert/embeddings/token_type_embeddings\n",
            "\tbert/pooler/dense/bias\n",
            "\tbert/pooler/dense/kernel\n",
            "\tcls/predictions/output_bias\n",
            "\tcls/predictions/transform/LayerNorm/beta\n",
            "\tcls/predictions/transform/LayerNorm/gamma\n",
            "\tcls/predictions/transform/dense/bias\n",
            "\tcls/predictions/transform/dense/kernel\n",
            "\tcls/seq_relationship/output_bias\n",
            "\tcls/seq_relationship/output_weights\n",
            "Epoch 1/5\n",
            "257/257 [==============================] - 209s 814ms/step - loss: 0.8065 - acc: 0.7230 - val_loss: 0.6443 - val_acc: 0.9045\n",
            "Epoch 2/5\n",
            "257/257 [==============================] - 206s 801ms/step - loss: 0.6238 - acc: 0.9273 - val_loss: 0.6188 - val_acc: 0.9319\n",
            "Epoch 3/5\n",
            "257/257 [==============================] - 205s 799ms/step - loss: 0.6108 - acc: 0.9391 - val_loss: 0.6136 - val_acc: 0.9352\n",
            "Epoch 4/5\n",
            "257/257 [==============================] - 206s 800ms/step - loss: 0.6026 - acc: 0.9475 - val_loss: 0.6097 - val_acc: 0.9396\n",
            "Epoch 5/5\n",
            "257/257 [==============================] - 205s 799ms/step - loss: 0.5950 - acc: 0.9558 - val_loss: 0.6037 - val_acc: 0.9484\n",
            "285/285 [==============================] - 51s 178ms/step - loss: 0.5872 - acc: 0.9639\n",
            "32/32 [==============================] - 6s 172ms/step - loss: 0.6039 - acc: 0.9486\n"
          ],
          "name": "stdout"
        },
        {
          "output_type": "stream",
          "text": [
            "176it [00:00, 1750.22it/s]"
          ],
          "name": "stderr"
        },
        {
          "output_type": "stream",
          "text": [
            "\n",
            " Fold  5\n",
            "\n"
          ],
          "name": "stdout"
        },
        {
          "output_type": "stream",
          "text": [
            "9105it [00:04, 1932.94it/s]\n",
            "1012it [00:00, 1878.19it/s]\n"
          ],
          "name": "stderr"
        },
        {
          "output_type": "stream",
          "text": [
            "max seq_len 136\n",
            "Done loading 196 BERT weights from: model/multi_cased_L-12_H-768_A-12/bert_model.ckpt into <bert.model.BertModelLayer object at 0x7fcf2ca006d8> (prefix:bert). Count of weights not found in the checkpoint was: [0]. Count of weights with mismatched shape: [0]\n",
            "Unused weights from checkpoint: \n",
            "\tbert/embeddings/token_type_embeddings\n",
            "\tbert/pooler/dense/bias\n",
            "\tbert/pooler/dense/kernel\n",
            "\tcls/predictions/output_bias\n",
            "\tcls/predictions/transform/LayerNorm/beta\n",
            "\tcls/predictions/transform/LayerNorm/gamma\n",
            "\tcls/predictions/transform/dense/bias\n",
            "\tcls/predictions/transform/dense/kernel\n",
            "\tcls/seq_relationship/output_bias\n",
            "\tcls/seq_relationship/output_weights\n",
            "Epoch 1/5\n",
            "257/257 [==============================] - 209s 812ms/step - loss: 0.7468 - acc: 0.7958 - val_loss: 0.6218 - val_acc: 0.9286\n",
            "Epoch 2/5\n",
            "257/257 [==============================] - 206s 800ms/step - loss: 0.6204 - acc: 0.9301 - val_loss: 0.6167 - val_acc: 0.9352\n",
            "Epoch 3/5\n",
            "257/257 [==============================] - 206s 800ms/step - loss: 0.6109 - acc: 0.9393 - val_loss: 0.6143 - val_acc: 0.9363\n",
            "Epoch 4/5\n",
            "257/257 [==============================] - 205s 798ms/step - loss: 0.6018 - acc: 0.9492 - val_loss: 0.6214 - val_acc: 0.9308\n",
            "Epoch 5/5\n",
            "257/257 [==============================] - 204s 795ms/step - loss: 0.5959 - acc: 0.9553 - val_loss: 0.6126 - val_acc: 0.9385\n",
            "285/285 [==============================] - 51s 178ms/step - loss: 0.5889 - acc: 0.9619\n",
            "32/32 [==============================] - 6s 172ms/step - loss: 0.5977 - acc: 0.9526\n"
          ],
          "name": "stdout"
        },
        {
          "output_type": "stream",
          "text": [
            "203it [00:00, 2026.46it/s]"
          ],
          "name": "stderr"
        },
        {
          "output_type": "stream",
          "text": [
            "\n",
            " Fold  6\n",
            "\n"
          ],
          "name": "stdout"
        },
        {
          "output_type": "stream",
          "text": [
            "9105it [00:04, 1987.50it/s]\n",
            "1012it [00:00, 1916.39it/s]\n"
          ],
          "name": "stderr"
        },
        {
          "output_type": "stream",
          "text": [
            "max seq_len 136\n",
            "Done loading 196 BERT weights from: model/multi_cased_L-12_H-768_A-12/bert_model.ckpt into <bert.model.BertModelLayer object at 0x7fcf2c19d828> (prefix:bert). Count of weights not found in the checkpoint was: [0]. Count of weights with mismatched shape: [0]\n",
            "Unused weights from checkpoint: \n",
            "\tbert/embeddings/token_type_embeddings\n",
            "\tbert/pooler/dense/bias\n",
            "\tbert/pooler/dense/kernel\n",
            "\tcls/predictions/output_bias\n",
            "\tcls/predictions/transform/LayerNorm/beta\n",
            "\tcls/predictions/transform/LayerNorm/gamma\n",
            "\tcls/predictions/transform/dense/bias\n",
            "\tcls/predictions/transform/dense/kernel\n",
            "\tcls/seq_relationship/output_bias\n",
            "\tcls/seq_relationship/output_weights\n",
            "Epoch 1/5\n",
            "257/257 [==============================] - 208s 810ms/step - loss: 0.8268 - acc: 0.7044 - val_loss: 0.6409 - val_acc: 0.9067\n",
            "Epoch 2/5\n",
            "257/257 [==============================] - 203s 790ms/step - loss: 0.6218 - acc: 0.9279 - val_loss: 0.6182 - val_acc: 0.9319\n",
            "Epoch 3/5\n",
            "257/257 [==============================] - 202s 786ms/step - loss: 0.6111 - acc: 0.9392 - val_loss: 0.6081 - val_acc: 0.9429\n",
            "Epoch 4/5\n",
            "257/257 [==============================] - 201s 783ms/step - loss: 0.6016 - acc: 0.9486 - val_loss: 0.6061 - val_acc: 0.9451\n",
            "Epoch 5/5\n",
            "257/257 [==============================] - 202s 786ms/step - loss: 0.5961 - acc: 0.9553 - val_loss: 0.6086 - val_acc: 0.9418\n",
            "285/285 [==============================] - 51s 178ms/step - loss: 0.5901 - acc: 0.9609\n",
            "32/32 [==============================] - 5s 172ms/step - loss: 0.6051 - acc: 0.9447\n"
          ],
          "name": "stdout"
        },
        {
          "output_type": "stream",
          "text": [
            "206it [00:00, 2052.01it/s]"
          ],
          "name": "stderr"
        },
        {
          "output_type": "stream",
          "text": [
            "\n",
            " Fold  7\n",
            "\n"
          ],
          "name": "stdout"
        },
        {
          "output_type": "stream",
          "text": [
            "9105it [00:04, 2004.19it/s]\n",
            "1012it [00:00, 1983.64it/s]\n"
          ],
          "name": "stderr"
        },
        {
          "output_type": "stream",
          "text": [
            "max seq_len 136\n",
            "Done loading 196 BERT weights from: model/multi_cased_L-12_H-768_A-12/bert_model.ckpt into <bert.model.BertModelLayer object at 0x7fcc7fcb8828> (prefix:bert). Count of weights not found in the checkpoint was: [0]. Count of weights with mismatched shape: [0]\n",
            "Unused weights from checkpoint: \n",
            "\tbert/embeddings/token_type_embeddings\n",
            "\tbert/pooler/dense/bias\n",
            "\tbert/pooler/dense/kernel\n",
            "\tcls/predictions/output_bias\n",
            "\tcls/predictions/transform/LayerNorm/beta\n",
            "\tcls/predictions/transform/LayerNorm/gamma\n",
            "\tcls/predictions/transform/dense/bias\n",
            "\tcls/predictions/transform/dense/kernel\n",
            "\tcls/seq_relationship/output_bias\n",
            "\tcls/seq_relationship/output_weights\n",
            "Epoch 1/5\n",
            "257/257 [==============================] - 206s 803ms/step - loss: 0.7801 - acc: 0.7597 - val_loss: 0.6389 - val_acc: 0.9089\n",
            "Epoch 2/5\n",
            "257/257 [==============================] - 202s 785ms/step - loss: 0.6229 - acc: 0.9259 - val_loss: 0.6161 - val_acc: 0.9319\n",
            "Epoch 3/5\n",
            "257/257 [==============================] - 202s 788ms/step - loss: 0.6041 - acc: 0.9465 - val_loss: 0.6177 - val_acc: 0.9319\n",
            "Epoch 4/5\n",
            "257/257 [==============================] - 203s 788ms/step - loss: 0.5961 - acc: 0.9550 - val_loss: 0.6104 - val_acc: 0.9407\n",
            "Epoch 5/5\n",
            "257/257 [==============================] - 203s 788ms/step - loss: 0.5973 - acc: 0.9536 - val_loss: 0.6008 - val_acc: 0.9506\n",
            "285/285 [==============================] - 51s 178ms/step - loss: 0.5877 - acc: 0.9631\n",
            "32/32 [==============================] - 5s 172ms/step - loss: 0.6023 - acc: 0.9476\n"
          ],
          "name": "stdout"
        },
        {
          "output_type": "stream",
          "text": [
            "208it [00:00, 2072.18it/s]"
          ],
          "name": "stderr"
        },
        {
          "output_type": "stream",
          "text": [
            "\n",
            " Fold  8\n",
            "\n"
          ],
          "name": "stdout"
        },
        {
          "output_type": "stream",
          "text": [
            "9105it [00:04, 1994.26it/s]\n",
            "1012it [00:00, 1919.95it/s]\n"
          ],
          "name": "stderr"
        },
        {
          "output_type": "stream",
          "text": [
            "max seq_len 136\n",
            "Done loading 196 BERT weights from: model/multi_cased_L-12_H-768_A-12/bert_model.ckpt into <bert.model.BertModelLayer object at 0x7fcf2cff6f60> (prefix:bert). Count of weights not found in the checkpoint was: [0]. Count of weights with mismatched shape: [0]\n",
            "Unused weights from checkpoint: \n",
            "\tbert/embeddings/token_type_embeddings\n",
            "\tbert/pooler/dense/bias\n",
            "\tbert/pooler/dense/kernel\n",
            "\tcls/predictions/output_bias\n",
            "\tcls/predictions/transform/LayerNorm/beta\n",
            "\tcls/predictions/transform/LayerNorm/gamma\n",
            "\tcls/predictions/transform/dense/bias\n",
            "\tcls/predictions/transform/dense/kernel\n",
            "\tcls/seq_relationship/output_bias\n",
            "\tcls/seq_relationship/output_weights\n",
            "Epoch 1/5\n",
            "257/257 [==============================] - 205s 800ms/step - loss: 0.8463 - acc: 0.6784 - val_loss: 0.6441 - val_acc: 0.9045\n",
            "Epoch 2/5\n",
            "257/257 [==============================] - 202s 787ms/step - loss: 0.6284 - acc: 0.9219 - val_loss: 0.6426 - val_acc: 0.9078\n",
            "Epoch 3/5\n",
            "257/257 [==============================] - 202s 785ms/step - loss: 0.6211 - acc: 0.9290 - val_loss: 0.6288 - val_acc: 0.9210\n",
            "Epoch 4/5\n",
            "257/257 [==============================] - 201s 783ms/step - loss: 0.6092 - acc: 0.9409 - val_loss: 0.6124 - val_acc: 0.9385\n",
            "Epoch 5/5\n",
            "257/257 [==============================] - 200s 779ms/step - loss: 0.6006 - acc: 0.9501 - val_loss: 0.6194 - val_acc: 0.9297\n",
            "285/285 [==============================] - 51s 178ms/step - loss: 0.5964 - acc: 0.9551\n",
            "32/32 [==============================] - 5s 171ms/step - loss: 0.6121 - acc: 0.9397\n"
          ],
          "name": "stdout"
        },
        {
          "output_type": "stream",
          "text": [
            "204it [00:00, 2034.04it/s]"
          ],
          "name": "stderr"
        },
        {
          "output_type": "stream",
          "text": [
            "\n",
            " Fold  9\n",
            "\n"
          ],
          "name": "stdout"
        },
        {
          "output_type": "stream",
          "text": [
            "9105it [00:04, 1992.90it/s]\n",
            "1012it [00:00, 1961.05it/s]\n"
          ],
          "name": "stderr"
        },
        {
          "output_type": "stream",
          "text": [
            "max seq_len 136\n",
            "Done loading 196 BERT weights from: model/multi_cased_L-12_H-768_A-12/bert_model.ckpt into <bert.model.BertModelLayer object at 0x7fcf3651ee80> (prefix:bert). Count of weights not found in the checkpoint was: [0]. Count of weights with mismatched shape: [0]\n",
            "Unused weights from checkpoint: \n",
            "\tbert/embeddings/token_type_embeddings\n",
            "\tbert/pooler/dense/bias\n",
            "\tbert/pooler/dense/kernel\n",
            "\tcls/predictions/output_bias\n",
            "\tcls/predictions/transform/LayerNorm/beta\n",
            "\tcls/predictions/transform/LayerNorm/gamma\n",
            "\tcls/predictions/transform/dense/bias\n",
            "\tcls/predictions/transform/dense/kernel\n",
            "\tcls/seq_relationship/output_bias\n",
            "\tcls/seq_relationship/output_weights\n",
            "Epoch 1/5\n",
            "257/257 [==============================] - 204s 794ms/step - loss: 0.7931 - acc: 0.7399 - val_loss: 0.6543 - val_acc: 0.8935\n",
            "Epoch 2/5\n",
            "257/257 [==============================] - 202s 787ms/step - loss: 0.6365 - acc: 0.9137 - val_loss: 0.6327 - val_acc: 0.9155\n",
            "Epoch 3/5\n",
            "257/257 [==============================] - 202s 785ms/step - loss: 0.6150 - acc: 0.9353 - val_loss: 0.6221 - val_acc: 0.9265\n",
            "Epoch 4/5\n",
            "257/257 [==============================] - 201s 781ms/step - loss: 0.6037 - acc: 0.9467 - val_loss: 0.6091 - val_acc: 0.9407\n",
            "Epoch 5/5\n",
            "257/257 [==============================] - 201s 784ms/step - loss: 0.5992 - acc: 0.9515 - val_loss: 0.6130 - val_acc: 0.9396\n",
            "285/285 [==============================] - 51s 179ms/step - loss: 0.5921 - acc: 0.9593\n",
            "32/32 [==============================] - 5s 171ms/step - loss: 0.6223 - acc: 0.9249\n"
          ],
          "name": "stdout"
        },
        {
          "output_type": "stream",
          "text": [
            "189it [00:00, 1881.31it/s]"
          ],
          "name": "stderr"
        },
        {
          "output_type": "stream",
          "text": [
            "\n",
            " Fold  10\n",
            "\n"
          ],
          "name": "stdout"
        },
        {
          "output_type": "stream",
          "text": [
            "9105it [00:04, 2037.60it/s]\n",
            "1012it [00:00, 1957.35it/s]\n"
          ],
          "name": "stderr"
        },
        {
          "output_type": "stream",
          "text": [
            "max seq_len 136\n",
            "Done loading 196 BERT weights from: model/multi_cased_L-12_H-768_A-12/bert_model.ckpt into <bert.model.BertModelLayer object at 0x7fd23a6d9470> (prefix:bert). Count of weights not found in the checkpoint was: [0]. Count of weights with mismatched shape: [0]\n",
            "Unused weights from checkpoint: \n",
            "\tbert/embeddings/token_type_embeddings\n",
            "\tbert/pooler/dense/bias\n",
            "\tbert/pooler/dense/kernel\n",
            "\tcls/predictions/output_bias\n",
            "\tcls/predictions/transform/LayerNorm/beta\n",
            "\tcls/predictions/transform/LayerNorm/gamma\n",
            "\tcls/predictions/transform/dense/bias\n",
            "\tcls/predictions/transform/dense/kernel\n",
            "\tcls/seq_relationship/output_bias\n",
            "\tcls/seq_relationship/output_weights\n",
            "Epoch 1/5\n",
            "257/257 [==============================] - 205s 799ms/step - loss: 0.7571 - acc: 0.7818 - val_loss: 0.6169 - val_acc: 0.9330\n",
            "Epoch 2/5\n",
            "257/257 [==============================] - 202s 785ms/step - loss: 0.6177 - acc: 0.9336 - val_loss: 0.6121 - val_acc: 0.9363\n",
            "Epoch 3/5\n",
            "257/257 [==============================] - 201s 783ms/step - loss: 0.6105 - acc: 0.9404 - val_loss: 0.6065 - val_acc: 0.9440\n",
            "Epoch 4/5\n",
            "257/257 [==============================] - 200s 778ms/step - loss: 0.6048 - acc: 0.9461 - val_loss: 0.6142 - val_acc: 0.9330\n",
            "Epoch 5/5\n",
            "257/257 [==============================] - 200s 777ms/step - loss: 0.5989 - acc: 0.9520 - val_loss: 0.6123 - val_acc: 0.9374\n",
            "285/285 [==============================] - 51s 178ms/step - loss: 0.5994 - acc: 0.9516\n",
            "32/32 [==============================] - 6s 176ms/step - loss: 0.6172 - acc: 0.9338\n"
          ],
          "name": "stdout"
        }
      ]
    },
    {
      "cell_type": "code",
      "metadata": {
        "id": "RYtq3EIqeqPk",
        "colab_type": "code",
        "colab": {
          "base_uri": "https://localhost:8080/",
          "height": 67
        },
        "outputId": "c1ec375a-17e1-4e0f-f002-8d76b4d050ef"
      },
      "source": [
        "\n",
        "print('')\n",
        "Mean_score = sum(scores) / len(scores)\n",
        "print(f\" Mean predict: {Mean_score}\" )\n",
        "\n",
        "mean_test = sum(testing_accuracy)/len(testing_accuracy)\n",
        "print(f\" Mean testing accuracy for 10 folds: {mean_test}\" )"
      ],
      "execution_count": 45,
      "outputs": [
        {
          "output_type": "stream",
          "text": [
            "\n",
            " Mean predict: 0.940810276679842\n",
            " Mean testing accuracy for 10 folds: 0.9408102810382843\n"
          ],
          "name": "stdout"
        }
      ]
    },
    {
      "cell_type": "code",
      "metadata": {
        "id": "6Feyo0ULAmEW",
        "colab_type": "code",
        "colab": {
          "base_uri": "https://localhost:8080/",
          "height": 386
        },
        "outputId": "7d8cc0f4-9503-4a80-ce7e-ad146897cb3e"
      },
      "source": [
        "translator = Translator()\n",
        "sentences = []\n",
        "# 1\n",
        "hin_text =  \"इसलाम सुंदर है\"\n",
        "print(\"Hindi: \", hin_text)\n",
        "\n",
        "trans = translator.translate(hin_text, dest='en')\n",
        "print('Translated:', trans.text)\n",
        "print()\n",
        "sentences.append(trans.text)\n",
        "\n",
        "# 0\n",
        "hin_text =  \" समाज वादी  पार्टी  जिंदाबाद \"\n",
        "print(\"Hindi: \", hin_text)\n",
        "\n",
        "trans = translator.translate(hin_text, dest='en')\n",
        "print('Translated:', trans.text)\n",
        "sentences.append(trans.text)\n",
        "\n",
        "# 2\n",
        "hin_text =  \"'गाजा में दीवाली   की ढेरो बधाई मित्रो 😊💐  #IsraeliBombing 😂😂\"\n",
        "print(\"Hindi: \", hin_text)\n",
        "\n",
        "trans = translator.translate(hin_text, dest='en')\n",
        "print('Translated:', trans.text)\n",
        "sentences.append(trans.text)\n",
        "\n",
        "# 2\n",
        "sentences.append( \"Play our song now you asshole jehadi muslim\")\n",
        "\n",
        "# 0\n",
        "sentences.append( \"Rate this book as awful\")\n",
        "\n",
        "\n",
        "pred_tokens = map(tokenizer.tokenize, sentences)\n",
        "pred_tokens = map(lambda tok: [\"[CLS]\"] + tok + [\"[SEP]\"], pred_tokens)\n",
        "pred_token_ids = list(map(tokenizer.convert_tokens_to_ids, pred_tokens))\n",
        "\n",
        "pred_token_ids = map(lambda tids: tids +[0]*(data.max_seq_len-len(tids)),pred_token_ids)\n",
        "pred_token_ids = np.array(list(pred_token_ids))\n",
        "\n",
        "predictions = model.predict(pred_token_ids).argmax(axis=-1)\n",
        "\n",
        "for text, label in zip(sentences, predictions):\n",
        "  print(\"text:\", text, \"\\nLabel:\", classes[label])\n",
        "  print()"
      ],
      "execution_count": 46,
      "outputs": [
        {
          "output_type": "stream",
          "text": [
            "Hindi:  इसलाम सुंदर है\n",
            "Translated: Islam is beautiful\n",
            "\n",
            "Hindi:   समाज वादी  पार्टी  जिंदाबाद \n",
            "Translated: Samajwadi Party Zindabad\n",
            "Hindi:  'गाजा में दीवाली   की ढेरो बधाई मित्रो 😊💐  #IsraeliBombing 😂😂\n",
            "Translated: 'Happy Diwali greetings in Gaza Friends 😊💐 #IsraeliBombing 😂😂\n",
            "text: Islam is beautiful \n",
            "Label: 1\n",
            "\n",
            "text: Samajwadi Party Zindabad \n",
            "Label: 0\n",
            "\n",
            "text: 'Happy Diwali greetings in Gaza Friends 😊💐 #IsraeliBombing 😂😂 \n",
            "Label: 0\n",
            "\n",
            "text: Play our song now you asshole jehadi muslim \n",
            "Label: 2\n",
            "\n",
            "text: Rate this book as awful \n",
            "Label: 0\n",
            "\n"
          ],
          "name": "stdout"
        }
      ]
    },
    {
      "cell_type": "code",
      "metadata": {
        "id": "J6-dcpQ1IT57",
        "colab_type": "code",
        "colab": {}
      },
      "source": [
        ""
      ],
      "execution_count": 46,
      "outputs": []
    },
    {
      "cell_type": "markdown",
      "metadata": {
        "id": "nhtAuYJTxItA",
        "colab_type": "text"
      },
      "source": [
        "# Reference\n",
        "\n",
        "1. Movie Reviews with bert-for-tf2 https://colab.research.google.com/drive/1esTDT7S7-31Uiwr8Hj1meV1aokeo8AYX?authuser=1"
      ]
    },
    {
      "cell_type": "code",
      "metadata": {
        "id": "SWQwdzn4zFUn",
        "colab_type": "code",
        "colab": {}
      },
      "source": [
        ""
      ],
      "execution_count": 46,
      "outputs": []
    }
  ]
}