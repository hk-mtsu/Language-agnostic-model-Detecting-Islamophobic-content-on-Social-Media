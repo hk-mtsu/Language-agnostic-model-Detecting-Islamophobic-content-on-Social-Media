{
  "nbformat": 4,
  "nbformat_minor": 0,
  "metadata": {
    "colab": {
      "name": "Bert_Hin_balanced.ipynb",
      "provenance": [],
      "collapsed_sections": [],
      "toc_visible": true,
      "machine_shape": "hm"
    },
    "kernelspec": {
      "name": "python3",
      "display_name": "Python 3"
    },
    "accelerator": "GPU"
  },
  "cells": [
    {
      "cell_type": "code",
      "metadata": {
        "id": "vr1ssFIS3soG",
        "colab_type": "code",
        "colab": {}
      },
      "source": [
        ""
      ],
      "execution_count": null,
      "outputs": []
    },
    {
      "cell_type": "code",
      "metadata": {
        "id": "oCgqcKtHjnVB",
        "colab_type": "code",
        "colab": {
          "base_uri": "https://localhost:8080/",
          "height": 34
        },
        "outputId": "1123170d-f3cf-41f9-f475-4b7fdafeb60f"
      },
      "source": [
        "%tensorflow_version 2.x\n",
        "import tensorflow as tf\n",
        "device_name = tf.test.gpu_device_name()\n",
        "if device_name != '/device:GPU:0':\n",
        "  raise SystemError('GPU device not found')\n",
        "print('Found GPU at: {}'.format(device_name))"
      ],
      "execution_count": 1,
      "outputs": [
        {
          "output_type": "stream",
          "text": [
            "Found GPU at: /device:GPU:0\n"
          ],
          "name": "stdout"
        }
      ]
    },
    {
      "cell_type": "markdown",
      "metadata": {
        "id": "ROSg9T9EzYDf",
        "colab_type": "text"
      },
      "source": [
        "# Islamophhobia Detection with BERT using Keras and TensorFlow 2"
      ]
    },
    {
      "cell_type": "code",
      "metadata": {
        "id": "LV210YNdrKIi",
        "colab_type": "code",
        "colab": {
          "base_uri": "https://localhost:8080/",
          "height": 353
        },
        "outputId": "6f385e1c-0c67-4181-bff1-71bbba81b157"
      },
      "source": [
        "!nvidia-smi"
      ],
      "execution_count": 4,
      "outputs": [
        {
          "output_type": "stream",
          "text": [
            "Thu Sep 24 15:27:32 2020       \n",
            "+-----------------------------------------------------------------------------+\n",
            "| NVIDIA-SMI 450.66       Driver Version: 418.67       CUDA Version: 10.1     |\n",
            "|-------------------------------+----------------------+----------------------+\n",
            "| GPU  Name        Persistence-M| Bus-Id        Disp.A | Volatile Uncorr. ECC |\n",
            "| Fan  Temp  Perf  Pwr:Usage/Cap|         Memory-Usage | GPU-Util  Compute M. |\n",
            "|                               |                      |               MIG M. |\n",
            "|===============================+======================+======================|\n",
            "|   0  Tesla P100-PCIE...  Off  | 00000000:00:04.0 Off |                    0 |\n",
            "| N/A   35C    P0    32W / 250W |    359MiB / 16280MiB |      0%      Default |\n",
            "|                               |                      |                 ERR! |\n",
            "+-------------------------------+----------------------+----------------------+\n",
            "                                                                               \n",
            "+-----------------------------------------------------------------------------+\n",
            "| Processes:                                                                  |\n",
            "|  GPU   GI   CI        PID   Type   Process name                  GPU Memory |\n",
            "|        ID   ID                                                   Usage      |\n",
            "|=============================================================================|\n",
            "|  No running processes found                                                 |\n",
            "+-----------------------------------------------------------------------------+\n"
          ],
          "name": "stdout"
        }
      ]
    },
    {
      "cell_type": "code",
      "metadata": {
        "id": "WaaST8ILn0oN",
        "colab_type": "code",
        "colab": {
          "base_uri": "https://localhost:8080/",
          "height": 810
        },
        "outputId": "03b12f70-0c3e-4a05-e7b0-d98d65c4ca11"
      },
      "source": [
        "!pip install tensorflow-gpu "
      ],
      "execution_count": 3,
      "outputs": [
        {
          "output_type": "stream",
          "text": [
            "Collecting tensorflow-gpu\n",
            "\u001b[?25l  Downloading https://files.pythonhosted.org/packages/0f/11/763f55d3d15efd778ef24453f126e6c33635680e5a2bb346da3fab5997cb/tensorflow_gpu-2.3.0-cp36-cp36m-manylinux2010_x86_64.whl (320.4MB)\n",
            "\u001b[K     |████████████████████████████████| 320.4MB 44kB/s \n",
            "\u001b[?25hRequirement already satisfied: tensorboard<3,>=2.3.0 in /usr/local/lib/python3.6/dist-packages (from tensorflow-gpu) (2.3.0)\n",
            "Requirement already satisfied: grpcio>=1.8.6 in /usr/local/lib/python3.6/dist-packages (from tensorflow-gpu) (1.32.0)\n",
            "Requirement already satisfied: wrapt>=1.11.1 in /usr/local/lib/python3.6/dist-packages (from tensorflow-gpu) (1.12.1)\n",
            "Requirement already satisfied: six>=1.12.0 in /usr/local/lib/python3.6/dist-packages (from tensorflow-gpu) (1.15.0)\n",
            "Requirement already satisfied: google-pasta>=0.1.8 in /usr/local/lib/python3.6/dist-packages (from tensorflow-gpu) (0.2.0)\n",
            "Requirement already satisfied: opt-einsum>=2.3.2 in /usr/local/lib/python3.6/dist-packages (from tensorflow-gpu) (3.3.0)\n",
            "Requirement already satisfied: keras-preprocessing<1.2,>=1.1.1 in /usr/local/lib/python3.6/dist-packages (from tensorflow-gpu) (1.1.2)\n",
            "Requirement already satisfied: tensorflow-estimator<2.4.0,>=2.3.0 in /usr/local/lib/python3.6/dist-packages (from tensorflow-gpu) (2.3.0)\n",
            "Requirement already satisfied: h5py<2.11.0,>=2.10.0 in /usr/local/lib/python3.6/dist-packages (from tensorflow-gpu) (2.10.0)\n",
            "Requirement already satisfied: scipy==1.4.1 in /usr/local/lib/python3.6/dist-packages (from tensorflow-gpu) (1.4.1)\n",
            "Requirement already satisfied: protobuf>=3.9.2 in /usr/local/lib/python3.6/dist-packages (from tensorflow-gpu) (3.12.4)\n",
            "Requirement already satisfied: gast==0.3.3 in /usr/local/lib/python3.6/dist-packages (from tensorflow-gpu) (0.3.3)\n",
            "Requirement already satisfied: termcolor>=1.1.0 in /usr/local/lib/python3.6/dist-packages (from tensorflow-gpu) (1.1.0)\n",
            "Requirement already satisfied: wheel>=0.26 in /usr/local/lib/python3.6/dist-packages (from tensorflow-gpu) (0.35.1)\n",
            "Requirement already satisfied: astunparse==1.6.3 in /usr/local/lib/python3.6/dist-packages (from tensorflow-gpu) (1.6.3)\n",
            "Requirement already satisfied: absl-py>=0.7.0 in /usr/local/lib/python3.6/dist-packages (from tensorflow-gpu) (0.10.0)\n",
            "Requirement already satisfied: numpy<1.19.0,>=1.16.0 in /usr/local/lib/python3.6/dist-packages (from tensorflow-gpu) (1.18.5)\n",
            "Requirement already satisfied: tensorboard-plugin-wit>=1.6.0 in /usr/local/lib/python3.6/dist-packages (from tensorboard<3,>=2.3.0->tensorflow-gpu) (1.7.0)\n",
            "Requirement already satisfied: google-auth<2,>=1.6.3 in /usr/local/lib/python3.6/dist-packages (from tensorboard<3,>=2.3.0->tensorflow-gpu) (1.17.2)\n",
            "Requirement already satisfied: setuptools>=41.0.0 in /usr/local/lib/python3.6/dist-packages (from tensorboard<3,>=2.3.0->tensorflow-gpu) (50.3.0)\n",
            "Requirement already satisfied: werkzeug>=0.11.15 in /usr/local/lib/python3.6/dist-packages (from tensorboard<3,>=2.3.0->tensorflow-gpu) (1.0.1)\n",
            "Requirement already satisfied: google-auth-oauthlib<0.5,>=0.4.1 in /usr/local/lib/python3.6/dist-packages (from tensorboard<3,>=2.3.0->tensorflow-gpu) (0.4.1)\n",
            "Requirement already satisfied: markdown>=2.6.8 in /usr/local/lib/python3.6/dist-packages (from tensorboard<3,>=2.3.0->tensorflow-gpu) (3.2.2)\n",
            "Requirement already satisfied: requests<3,>=2.21.0 in /usr/local/lib/python3.6/dist-packages (from tensorboard<3,>=2.3.0->tensorflow-gpu) (2.23.0)\n",
            "Requirement already satisfied: pyasn1-modules>=0.2.1 in /usr/local/lib/python3.6/dist-packages (from google-auth<2,>=1.6.3->tensorboard<3,>=2.3.0->tensorflow-gpu) (0.2.8)\n",
            "Requirement already satisfied: cachetools<5.0,>=2.0.0 in /usr/local/lib/python3.6/dist-packages (from google-auth<2,>=1.6.3->tensorboard<3,>=2.3.0->tensorflow-gpu) (4.1.1)\n",
            "Requirement already satisfied: rsa<5,>=3.1.4; python_version >= \"3\" in /usr/local/lib/python3.6/dist-packages (from google-auth<2,>=1.6.3->tensorboard<3,>=2.3.0->tensorflow-gpu) (4.6)\n",
            "Requirement already satisfied: requests-oauthlib>=0.7.0 in /usr/local/lib/python3.6/dist-packages (from google-auth-oauthlib<0.5,>=0.4.1->tensorboard<3,>=2.3.0->tensorflow-gpu) (1.3.0)\n",
            "Requirement already satisfied: importlib-metadata; python_version < \"3.8\" in /usr/local/lib/python3.6/dist-packages (from markdown>=2.6.8->tensorboard<3,>=2.3.0->tensorflow-gpu) (1.7.0)\n",
            "Requirement already satisfied: idna<3,>=2.5 in /usr/local/lib/python3.6/dist-packages (from requests<3,>=2.21.0->tensorboard<3,>=2.3.0->tensorflow-gpu) (2.10)\n",
            "Requirement already satisfied: chardet<4,>=3.0.2 in /usr/local/lib/python3.6/dist-packages (from requests<3,>=2.21.0->tensorboard<3,>=2.3.0->tensorflow-gpu) (3.0.4)\n",
            "Requirement already satisfied: urllib3!=1.25.0,!=1.25.1,<1.26,>=1.21.1 in /usr/local/lib/python3.6/dist-packages (from requests<3,>=2.21.0->tensorboard<3,>=2.3.0->tensorflow-gpu) (1.24.3)\n",
            "Requirement already satisfied: certifi>=2017.4.17 in /usr/local/lib/python3.6/dist-packages (from requests<3,>=2.21.0->tensorboard<3,>=2.3.0->tensorflow-gpu) (2020.6.20)\n",
            "Requirement already satisfied: pyasn1<0.5.0,>=0.4.6 in /usr/local/lib/python3.6/dist-packages (from pyasn1-modules>=0.2.1->google-auth<2,>=1.6.3->tensorboard<3,>=2.3.0->tensorflow-gpu) (0.4.8)\n",
            "Requirement already satisfied: oauthlib>=3.0.0 in /usr/local/lib/python3.6/dist-packages (from requests-oauthlib>=0.7.0->google-auth-oauthlib<0.5,>=0.4.1->tensorboard<3,>=2.3.0->tensorflow-gpu) (3.1.0)\n",
            "Requirement already satisfied: zipp>=0.5 in /usr/local/lib/python3.6/dist-packages (from importlib-metadata; python_version < \"3.8\"->markdown>=2.6.8->tensorboard<3,>=2.3.0->tensorflow-gpu) (3.1.0)\n",
            "Installing collected packages: tensorflow-gpu\n",
            "Successfully installed tensorflow-gpu-2.3.0\n"
          ],
          "name": "stdout"
        },
        {
          "output_type": "display_data",
          "data": {
            "application/vnd.colab-display-data+json": {
              "pip_warning": {
                "packages": [
                  "tensorflow"
                ]
              }
            }
          },
          "metadata": {
            "tags": []
          }
        }
      ]
    },
    {
      "cell_type": "code",
      "metadata": {
        "id": "WTWu7zZeKhfV",
        "colab_type": "code",
        "colab": {
          "base_uri": "https://localhost:8080/",
          "height": 50
        },
        "outputId": "be6adec5-6837-4753-8006-ac5653ec8b40"
      },
      "source": [
        "!pip install --upgrade grpcio"
      ],
      "execution_count": 1,
      "outputs": [
        {
          "output_type": "stream",
          "text": [
            "Requirement already up-to-date: grpcio in /usr/local/lib/python3.6/dist-packages (1.32.0)\n",
            "Requirement already satisfied, skipping upgrade: six>=1.5.2 in /usr/local/lib/python3.6/dist-packages (from grpcio) (1.15.0)\n"
          ],
          "name": "stdout"
        }
      ]
    },
    {
      "cell_type": "code",
      "metadata": {
        "id": "zCRkokr-n26J",
        "colab_type": "code",
        "colab": {
          "base_uri": "https://localhost:8080/",
          "height": 34
        },
        "outputId": "23823ee4-84f6-46ce-8f1d-cc73cccd30d5"
      },
      "source": [
        "!pip install tqdm"
      ],
      "execution_count": 2,
      "outputs": [
        {
          "output_type": "stream",
          "text": [
            "Requirement already satisfied: tqdm in /usr/local/lib/python3.6/dist-packages (4.41.1)\n"
          ],
          "name": "stdout"
        }
      ]
    },
    {
      "cell_type": "code",
      "metadata": {
        "id": "-zgaripn6hjX",
        "colab_type": "code",
        "colab": {
          "base_uri": "https://localhost:8080/",
          "height": 406
        },
        "outputId": "e04aca86-f1b2-4177-8437-e1cbe14c139f"
      },
      "source": [
        "!pip install bert-for-tf2"
      ],
      "execution_count": 3,
      "outputs": [
        {
          "output_type": "stream",
          "text": [
            "Collecting bert-for-tf2\n",
            "\u001b[?25l  Downloading https://files.pythonhosted.org/packages/af/c1/015648a2186b25c6de79d15bec40d3d946fcf1dd5067d1c1b28009506486/bert-for-tf2-0.14.6.tar.gz (40kB)\n",
            "\r\u001b[K     |████████                        | 10kB 26.7MB/s eta 0:00:01\r\u001b[K     |████████████████                | 20kB 3.0MB/s eta 0:00:01\r\u001b[K     |████████████████████████▏       | 30kB 3.9MB/s eta 0:00:01\r\u001b[K     |████████████████████████████████| 40kB 2.7MB/s \n",
            "\u001b[?25hCollecting py-params>=0.9.6\n",
            "  Downloading https://files.pythonhosted.org/packages/a4/bf/c1c70d5315a8677310ea10a41cfc41c5970d9b37c31f9c90d4ab98021fd1/py-params-0.9.7.tar.gz\n",
            "Collecting params-flow>=0.8.0\n",
            "  Downloading https://files.pythonhosted.org/packages/a9/95/ff49f5ebd501f142a6f0aaf42bcfd1c192dc54909d1d9eb84ab031d46056/params-flow-0.8.2.tar.gz\n",
            "Requirement already satisfied: numpy in /usr/local/lib/python3.6/dist-packages (from params-flow>=0.8.0->bert-for-tf2) (1.18.5)\n",
            "Requirement already satisfied: tqdm in /usr/local/lib/python3.6/dist-packages (from params-flow>=0.8.0->bert-for-tf2) (4.41.1)\n",
            "Building wheels for collected packages: bert-for-tf2, py-params, params-flow\n",
            "  Building wheel for bert-for-tf2 (setup.py) ... \u001b[?25l\u001b[?25hdone\n",
            "  Created wheel for bert-for-tf2: filename=bert_for_tf2-0.14.6-cp36-none-any.whl size=30318 sha256=4f59ec86bb529b8fe20881170f2c973f4ed03e73e2daaab583874e5256009904\n",
            "  Stored in directory: /root/.cache/pip/wheels/07/a0/b4/75b0601ebaa41e517a797fe9cea119c789664c8408f8a74ae9\n",
            "  Building wheel for py-params (setup.py) ... \u001b[?25l\u001b[?25hdone\n",
            "  Created wheel for py-params: filename=py_params-0.9.7-cp36-none-any.whl size=7304 sha256=628e173428df427e5ae7b296682cc0ab2f29ea354e222ba8e755c6b8d6b1c2f9\n",
            "  Stored in directory: /root/.cache/pip/wheels/67/f5/19/b461849a50aefdf4bab47c4756596e82ee2118b8278e5a1980\n",
            "  Building wheel for params-flow (setup.py) ... \u001b[?25l\u001b[?25hdone\n",
            "  Created wheel for params-flow: filename=params_flow-0.8.2-cp36-none-any.whl size=19475 sha256=8cf39273a4d286390708327c9f2a3896ab7a1291b1cc74a0258b0a0a5dca7ddc\n",
            "  Stored in directory: /root/.cache/pip/wheels/08/c8/7f/81c86b9ff2b86e2c477e3914175be03e679e596067dc630c06\n",
            "Successfully built bert-for-tf2 py-params params-flow\n",
            "Installing collected packages: py-params, params-flow, bert-for-tf2\n",
            "Successfully installed bert-for-tf2-0.14.6 params-flow-0.8.2 py-params-0.9.7\n"
          ],
          "name": "stdout"
        }
      ]
    },
    {
      "cell_type": "code",
      "metadata": {
        "id": "_8BBTklbot7T",
        "colab_type": "code",
        "colab": {
          "base_uri": "https://localhost:8080/",
          "height": 759
        },
        "outputId": "b7bac4bd-bb75-484d-9b61-9c64648654af"
      },
      "source": [
        "!pip install googletrans"
      ],
      "execution_count": 4,
      "outputs": [
        {
          "output_type": "stream",
          "text": [
            "Collecting googletrans\n",
            "  Downloading https://files.pythonhosted.org/packages/71/3a/3b19effdd4c03958b90f40fe01c93de6d5280e03843cc5adf6956bfc9512/googletrans-3.0.0.tar.gz\n",
            "Collecting httpx==0.13.3\n",
            "\u001b[?25l  Downloading https://files.pythonhosted.org/packages/54/b4/698b284c6aed4d7c2b4fe3ba5df1fcf6093612423797e76fbb24890dd22f/httpx-0.13.3-py3-none-any.whl (55kB)\n",
            "\u001b[K     |████████████████████████████████| 61kB 4.8MB/s \n",
            "\u001b[?25hRequirement already satisfied: chardet==3.* in /usr/local/lib/python3.6/dist-packages (from httpx==0.13.3->googletrans) (3.0.4)\n",
            "Collecting rfc3986<2,>=1.3\n",
            "  Downloading https://files.pythonhosted.org/packages/78/be/7b8b99fd74ff5684225f50dd0e865393d2265656ef3b4ba9eaaaffe622b8/rfc3986-1.4.0-py2.py3-none-any.whl\n",
            "Collecting hstspreload\n",
            "\u001b[?25l  Downloading https://files.pythonhosted.org/packages/ae/c7/48e6c0c9391b277e47de6040732ffd78a4e518fcea07c7adda37219505c9/hstspreload-2020.9.23-py3-none-any.whl (959kB)\n",
            "\u001b[K     |████████████████████████████████| 962kB 8.3MB/s \n",
            "\u001b[?25hCollecting httpcore==0.9.*\n",
            "\u001b[?25l  Downloading https://files.pythonhosted.org/packages/dd/d5/e4ff9318693ac6101a2095e580908b591838c6f33df8d3ee8dd953ba96a8/httpcore-0.9.1-py3-none-any.whl (42kB)\n",
            "\u001b[K     |████████████████████████████████| 51kB 6.0MB/s \n",
            "\u001b[?25hRequirement already satisfied: certifi in /usr/local/lib/python3.6/dist-packages (from httpx==0.13.3->googletrans) (2020.6.20)\n",
            "Collecting sniffio\n",
            "  Downloading https://files.pythonhosted.org/packages/b3/82/4bd4b7d9c0d1dc0fbfbc2a1e00138e7f3ab85bc239358fe9b78aa2ab586d/sniffio-1.1.0-py3-none-any.whl\n",
            "Requirement already satisfied: idna==2.* in /usr/local/lib/python3.6/dist-packages (from httpx==0.13.3->googletrans) (2.10)\n",
            "Collecting h2==3.*\n",
            "\u001b[?25l  Downloading https://files.pythonhosted.org/packages/25/de/da019bcc539eeab02f6d45836f23858ac467f584bfec7a526ef200242afe/h2-3.2.0-py2.py3-none-any.whl (65kB)\n",
            "\u001b[K     |████████████████████████████████| 71kB 8.8MB/s \n",
            "\u001b[?25hCollecting h11<0.10,>=0.8\n",
            "\u001b[?25l  Downloading https://files.pythonhosted.org/packages/5a/fd/3dad730b0f95e78aeeb742f96fa7bbecbdd56a58e405d3da440d5bfb90c6/h11-0.9.0-py2.py3-none-any.whl (53kB)\n",
            "\u001b[K     |████████████████████████████████| 61kB 7.9MB/s \n",
            "\u001b[?25hCollecting contextvars>=2.1; python_version < \"3.7\"\n",
            "  Downloading https://files.pythonhosted.org/packages/83/96/55b82d9f13763be9d672622e1b8106c85acb83edd7cc2fa5bc67cd9877e9/contextvars-2.4.tar.gz\n",
            "Collecting hpack<4,>=3.0\n",
            "  Downloading https://files.pythonhosted.org/packages/8a/cc/e53517f4a1e13f74776ca93271caef378dadec14d71c61c949d759d3db69/hpack-3.0.0-py2.py3-none-any.whl\n",
            "Collecting hyperframe<6,>=5.2.0\n",
            "  Downloading https://files.pythonhosted.org/packages/19/0c/bf88182bcb5dce3094e2f3e4fe20db28a9928cb7bd5b08024030e4b140db/hyperframe-5.2.0-py2.py3-none-any.whl\n",
            "Collecting immutables>=0.9\n",
            "\u001b[?25l  Downloading https://files.pythonhosted.org/packages/99/e0/ea6fd4697120327d26773b5a84853f897a68e33d3f9376b00a8ff96e4f63/immutables-0.14-cp36-cp36m-manylinux1_x86_64.whl (98kB)\n",
            "\u001b[K     |████████████████████████████████| 102kB 10.8MB/s \n",
            "\u001b[?25hBuilding wheels for collected packages: googletrans, contextvars\n",
            "  Building wheel for googletrans (setup.py) ... \u001b[?25l\u001b[?25hdone\n",
            "  Created wheel for googletrans: filename=googletrans-3.0.0-cp36-none-any.whl size=15736 sha256=e7c5eda50a7c9ae666453dc5dda080bec72c26a80ccc232d106c1934eec36e17\n",
            "  Stored in directory: /root/.cache/pip/wheels/28/1a/a7/eaf4d7a3417a0c65796c547cff4deb6d79c7d14c2abd29273e\n",
            "  Building wheel for contextvars (setup.py) ... \u001b[?25l\u001b[?25hdone\n",
            "  Created wheel for contextvars: filename=contextvars-2.4-cp36-none-any.whl size=7666 sha256=abaeb25d24134fca90dd8a5cf668451d072e775acf241d8a64439015aa300c19\n",
            "  Stored in directory: /root/.cache/pip/wheels/a5/7d/68/1ebae2668bda2228686e3c1cf16f2c2384cea6e9334ad5f6de\n",
            "Successfully built googletrans contextvars\n",
            "Installing collected packages: rfc3986, hstspreload, immutables, contextvars, sniffio, hpack, hyperframe, h2, h11, httpcore, httpx, googletrans\n",
            "Successfully installed contextvars-2.4 googletrans-3.0.0 h11-0.9.0 h2-3.2.0 hpack-3.0.0 hstspreload-2020.9.23 httpcore-0.9.1 httpx-0.13.3 hyperframe-5.2.0 immutables-0.14 rfc3986-1.4.0 sniffio-1.1.0\n"
          ],
          "name": "stdout"
        }
      ]
    },
    {
      "cell_type": "code",
      "metadata": {
        "id": "9nd4u1Qz6ms5",
        "colab_type": "code",
        "colab": {
          "base_uri": "https://localhost:8080/",
          "height": 121
        },
        "outputId": "6e4dde7b-c7db-4586-e0bb-a3129e2e1d48"
      },
      "source": [
        "!pip install sentencepiece"
      ],
      "execution_count": 5,
      "outputs": [
        {
          "output_type": "stream",
          "text": [
            "Collecting sentencepiece\n",
            "\u001b[?25l  Downloading https://files.pythonhosted.org/packages/d4/a4/d0a884c4300004a78cca907a6ff9a5e9fe4f090f5d95ab341c53d28cbc58/sentencepiece-0.1.91-cp36-cp36m-manylinux1_x86_64.whl (1.1MB)\n",
            "\r\u001b[K     |▎                               | 10kB 25.2MB/s eta 0:00:01\r\u001b[K     |▋                               | 20kB 3.1MB/s eta 0:00:01\r\u001b[K     |█                               | 30kB 4.1MB/s eta 0:00:01\r\u001b[K     |█▏                              | 40kB 4.4MB/s eta 0:00:01\r\u001b[K     |█▌                              | 51kB 3.6MB/s eta 0:00:01\r\u001b[K     |█▉                              | 61kB 3.9MB/s eta 0:00:01\r\u001b[K     |██▏                             | 71kB 4.3MB/s eta 0:00:01\r\u001b[K     |██▍                             | 81kB 4.8MB/s eta 0:00:01\r\u001b[K     |██▊                             | 92kB 5.2MB/s eta 0:00:01\r\u001b[K     |███                             | 102kB 4.9MB/s eta 0:00:01\r\u001b[K     |███▍                            | 112kB 4.9MB/s eta 0:00:01\r\u001b[K     |███▋                            | 122kB 4.9MB/s eta 0:00:01\r\u001b[K     |████                            | 133kB 4.9MB/s eta 0:00:01\r\u001b[K     |████▎                           | 143kB 4.9MB/s eta 0:00:01\r\u001b[K     |████▋                           | 153kB 4.9MB/s eta 0:00:01\r\u001b[K     |████▉                           | 163kB 4.9MB/s eta 0:00:01\r\u001b[K     |█████▏                          | 174kB 4.9MB/s eta 0:00:01\r\u001b[K     |█████▌                          | 184kB 4.9MB/s eta 0:00:01\r\u001b[K     |█████▉                          | 194kB 4.9MB/s eta 0:00:01\r\u001b[K     |██████                          | 204kB 4.9MB/s eta 0:00:01\r\u001b[K     |██████▍                         | 215kB 4.9MB/s eta 0:00:01\r\u001b[K     |██████▊                         | 225kB 4.9MB/s eta 0:00:01\r\u001b[K     |███████                         | 235kB 4.9MB/s eta 0:00:01\r\u001b[K     |███████▎                        | 245kB 4.9MB/s eta 0:00:01\r\u001b[K     |███████▋                        | 256kB 4.9MB/s eta 0:00:01\r\u001b[K     |████████                        | 266kB 4.9MB/s eta 0:00:01\r\u001b[K     |████████▎                       | 276kB 4.9MB/s eta 0:00:01\r\u001b[K     |████████▌                       | 286kB 4.9MB/s eta 0:00:01\r\u001b[K     |████████▉                       | 296kB 4.9MB/s eta 0:00:01\r\u001b[K     |█████████▏                      | 307kB 4.9MB/s eta 0:00:01\r\u001b[K     |█████████▌                      | 317kB 4.9MB/s eta 0:00:01\r\u001b[K     |█████████▊                      | 327kB 4.9MB/s eta 0:00:01\r\u001b[K     |██████████                      | 337kB 4.9MB/s eta 0:00:01\r\u001b[K     |██████████▍                     | 348kB 4.9MB/s eta 0:00:01\r\u001b[K     |██████████▊                     | 358kB 4.9MB/s eta 0:00:01\r\u001b[K     |███████████                     | 368kB 4.9MB/s eta 0:00:01\r\u001b[K     |███████████▎                    | 378kB 4.9MB/s eta 0:00:01\r\u001b[K     |███████████▋                    | 389kB 4.9MB/s eta 0:00:01\r\u001b[K     |████████████                    | 399kB 4.9MB/s eta 0:00:01\r\u001b[K     |████████████▏                   | 409kB 4.9MB/s eta 0:00:01\r\u001b[K     |████████████▌                   | 419kB 4.9MB/s eta 0:00:01\r\u001b[K     |████████████▉                   | 430kB 4.9MB/s eta 0:00:01\r\u001b[K     |█████████████▏                  | 440kB 4.9MB/s eta 0:00:01\r\u001b[K     |█████████████▍                  | 450kB 4.9MB/s eta 0:00:01\r\u001b[K     |█████████████▊                  | 460kB 4.9MB/s eta 0:00:01\r\u001b[K     |██████████████                  | 471kB 4.9MB/s eta 0:00:01\r\u001b[K     |██████████████▍                 | 481kB 4.9MB/s eta 0:00:01\r\u001b[K     |██████████████▋                 | 491kB 4.9MB/s eta 0:00:01\r\u001b[K     |███████████████                 | 501kB 4.9MB/s eta 0:00:01\r\u001b[K     |███████████████▎                | 512kB 4.9MB/s eta 0:00:01\r\u001b[K     |███████████████▋                | 522kB 4.9MB/s eta 0:00:01\r\u001b[K     |███████████████▉                | 532kB 4.9MB/s eta 0:00:01\r\u001b[K     |████████████████▏               | 542kB 4.9MB/s eta 0:00:01\r\u001b[K     |████████████████▌               | 552kB 4.9MB/s eta 0:00:01\r\u001b[K     |████████████████▉               | 563kB 4.9MB/s eta 0:00:01\r\u001b[K     |█████████████████               | 573kB 4.9MB/s eta 0:00:01\r\u001b[K     |█████████████████▍              | 583kB 4.9MB/s eta 0:00:01\r\u001b[K     |█████████████████▊              | 593kB 4.9MB/s eta 0:00:01\r\u001b[K     |██████████████████              | 604kB 4.9MB/s eta 0:00:01\r\u001b[K     |██████████████████▎             | 614kB 4.9MB/s eta 0:00:01\r\u001b[K     |██████████████████▋             | 624kB 4.9MB/s eta 0:00:01\r\u001b[K     |███████████████████             | 634kB 4.9MB/s eta 0:00:01\r\u001b[K     |███████████████████▎            | 645kB 4.9MB/s eta 0:00:01\r\u001b[K     |███████████████████▌            | 655kB 4.9MB/s eta 0:00:01\r\u001b[K     |███████████████████▉            | 665kB 4.9MB/s eta 0:00:01\r\u001b[K     |████████████████████▏           | 675kB 4.9MB/s eta 0:00:01\r\u001b[K     |████████████████████▌           | 686kB 4.9MB/s eta 0:00:01\r\u001b[K     |████████████████████▊           | 696kB 4.9MB/s eta 0:00:01\r\u001b[K     |█████████████████████           | 706kB 4.9MB/s eta 0:00:01\r\u001b[K     |█████████████████████▍          | 716kB 4.9MB/s eta 0:00:01\r\u001b[K     |█████████████████████▋          | 727kB 4.9MB/s eta 0:00:01\r\u001b[K     |██████████████████████          | 737kB 4.9MB/s eta 0:00:01\r\u001b[K     |██████████████████████▎         | 747kB 4.9MB/s eta 0:00:01\r\u001b[K     |██████████████████████▋         | 757kB 4.9MB/s eta 0:00:01\r\u001b[K     |██████████████████████▉         | 768kB 4.9MB/s eta 0:00:01\r\u001b[K     |███████████████████████▏        | 778kB 4.9MB/s eta 0:00:01\r\u001b[K     |███████████████████████▌        | 788kB 4.9MB/s eta 0:00:01\r\u001b[K     |███████████████████████▉        | 798kB 4.9MB/s eta 0:00:01\r\u001b[K     |████████████████████████        | 808kB 4.9MB/s eta 0:00:01\r\u001b[K     |████████████████████████▍       | 819kB 4.9MB/s eta 0:00:01\r\u001b[K     |████████████████████████▊       | 829kB 4.9MB/s eta 0:00:01\r\u001b[K     |█████████████████████████       | 839kB 4.9MB/s eta 0:00:01\r\u001b[K     |█████████████████████████▎      | 849kB 4.9MB/s eta 0:00:01\r\u001b[K     |█████████████████████████▋      | 860kB 4.9MB/s eta 0:00:01\r\u001b[K     |██████████████████████████      | 870kB 4.9MB/s eta 0:00:01\r\u001b[K     |██████████████████████████▎     | 880kB 4.9MB/s eta 0:00:01\r\u001b[K     |██████████████████████████▌     | 890kB 4.9MB/s eta 0:00:01\r\u001b[K     |██████████████████████████▉     | 901kB 4.9MB/s eta 0:00:01\r\u001b[K     |███████████████████████████▏    | 911kB 4.9MB/s eta 0:00:01\r\u001b[K     |███████████████████████████▌    | 921kB 4.9MB/s eta 0:00:01\r\u001b[K     |███████████████████████████▊    | 931kB 4.9MB/s eta 0:00:01\r\u001b[K     |████████████████████████████    | 942kB 4.9MB/s eta 0:00:01\r\u001b[K     |████████████████████████████▍   | 952kB 4.9MB/s eta 0:00:01\r\u001b[K     |████████████████████████████▊   | 962kB 4.9MB/s eta 0:00:01\r\u001b[K     |█████████████████████████████   | 972kB 4.9MB/s eta 0:00:01\r\u001b[K     |█████████████████████████████▎  | 983kB 4.9MB/s eta 0:00:01\r\u001b[K     |█████████████████████████████▋  | 993kB 4.9MB/s eta 0:00:01\r\u001b[K     |██████████████████████████████  | 1.0MB 4.9MB/s eta 0:00:01\r\u001b[K     |██████████████████████████████▏ | 1.0MB 4.9MB/s eta 0:00:01\r\u001b[K     |██████████████████████████████▌ | 1.0MB 4.9MB/s eta 0:00:01\r\u001b[K     |██████████████████████████████▉ | 1.0MB 4.9MB/s eta 0:00:01\r\u001b[K     |███████████████████████████████▏| 1.0MB 4.9MB/s eta 0:00:01\r\u001b[K     |███████████████████████████████▍| 1.1MB 4.9MB/s eta 0:00:01\r\u001b[K     |███████████████████████████████▊| 1.1MB 4.9MB/s eta 0:00:01\r\u001b[K     |████████████████████████████████| 1.1MB 4.9MB/s \n",
            "\u001b[?25hInstalling collected packages: sentencepiece\n",
            "Successfully installed sentencepiece-0.1.91\n"
          ],
          "name": "stdout"
        }
      ]
    },
    {
      "cell_type": "code",
      "metadata": {
        "id": "xz4z3kOPjpxi",
        "colab_type": "code",
        "colab": {
          "base_uri": "https://localhost:8080/",
          "height": 289
        },
        "outputId": "b3830e37-4b0a-49c4-fc07-6df49d8251ce"
      },
      "source": [
        "!pip install googletrans"
      ],
      "execution_count": 6,
      "outputs": [
        {
          "output_type": "stream",
          "text": [
            "Requirement already satisfied: googletrans in /usr/local/lib/python3.6/dist-packages (3.0.0)\n",
            "Requirement already satisfied: httpx==0.13.3 in /usr/local/lib/python3.6/dist-packages (from googletrans) (0.13.3)\n",
            "Requirement already satisfied: sniffio in /usr/local/lib/python3.6/dist-packages (from httpx==0.13.3->googletrans) (1.1.0)\n",
            "Requirement already satisfied: idna==2.* in /usr/local/lib/python3.6/dist-packages (from httpx==0.13.3->googletrans) (2.10)\n",
            "Requirement already satisfied: rfc3986<2,>=1.3 in /usr/local/lib/python3.6/dist-packages (from httpx==0.13.3->googletrans) (1.4.0)\n",
            "Requirement already satisfied: certifi in /usr/local/lib/python3.6/dist-packages (from httpx==0.13.3->googletrans) (2020.6.20)\n",
            "Requirement already satisfied: hstspreload in /usr/local/lib/python3.6/dist-packages (from httpx==0.13.3->googletrans) (2020.9.23)\n",
            "Requirement already satisfied: httpcore==0.9.* in /usr/local/lib/python3.6/dist-packages (from httpx==0.13.3->googletrans) (0.9.1)\n",
            "Requirement already satisfied: chardet==3.* in /usr/local/lib/python3.6/dist-packages (from httpx==0.13.3->googletrans) (3.0.4)\n",
            "Requirement already satisfied: contextvars>=2.1; python_version < \"3.7\" in /usr/local/lib/python3.6/dist-packages (from sniffio->httpx==0.13.3->googletrans) (2.4)\n",
            "Requirement already satisfied: h11<0.10,>=0.8 in /usr/local/lib/python3.6/dist-packages (from httpcore==0.9.*->httpx==0.13.3->googletrans) (0.9.0)\n",
            "Requirement already satisfied: h2==3.* in /usr/local/lib/python3.6/dist-packages (from httpcore==0.9.*->httpx==0.13.3->googletrans) (3.2.0)\n",
            "Requirement already satisfied: immutables>=0.9 in /usr/local/lib/python3.6/dist-packages (from contextvars>=2.1; python_version < \"3.7\"->sniffio->httpx==0.13.3->googletrans) (0.14)\n",
            "Requirement already satisfied: hpack<4,>=3.0 in /usr/local/lib/python3.6/dist-packages (from h2==3.*->httpcore==0.9.*->httpx==0.13.3->googletrans) (3.0.0)\n",
            "Requirement already satisfied: hyperframe<6,>=5.2.0 in /usr/local/lib/python3.6/dist-packages (from h2==3.*->httpcore==0.9.*->httpx==0.13.3->googletrans) (5.2.0)\n"
          ],
          "name": "stdout"
        }
      ]
    },
    {
      "cell_type": "code",
      "metadata": {
        "id": "VLPwBaua6jf2",
        "colab_type": "code",
        "colab": {
          "base_uri": "https://localhost:8080/",
          "height": 70
        },
        "outputId": "9ee21eb2-4ee6-4a5b-a85e-1cf86bdf3544"
      },
      "source": [
        "import os\n",
        "import math\n",
        "import datetime\n",
        "\n",
        "from tqdm import tqdm\n",
        "\n",
        "import pandas as pd\n",
        "import numpy as np\n",
        "\n",
        "import tensorflow as tf\n",
        "from tensorflow import keras\n",
        "\n",
        "import bert\n",
        "from bert import BertModelLayer\n",
        "from bert.loader import StockBertConfig, map_stock_config_to_params, load_stock_weights\n",
        "from bert.tokenization.bert_tokenization import FullTokenizer\n",
        "\n",
        "import seaborn as sns\n",
        "from pylab import rcParams\n",
        "import matplotlib.pyplot as plt\n",
        "from matplotlib.ticker import MaxNLocator\n",
        "from matplotlib import rc\n",
        "\n",
        "from sklearn.metrics import confusion_matrix, classification_report\n",
        "\n",
        "import re\n",
        "\n",
        "# translator\n",
        "import googletrans\n",
        "from googletrans import Translator\n",
        "\n",
        "%matplotlib inline\n",
        "%config InlineBackend.figure_format='retina'\n",
        "\n",
        "sns.set(style='whitegrid', palette='muted', font_scale=1.2)\n",
        "\n",
        "HAPPY_COLORS_PALETTE = [\"#01BEFE\", \"#FFDD00\", \"#FF7D00\", \"#FF006D\"]\n",
        "\n",
        "sns.set_palette(sns.color_palette(HAPPY_COLORS_PALETTE))\n",
        "\n",
        "rcParams['figure.figsize'] = 12, 8\n",
        "\n",
        "RANDOM_SEED = 42\n",
        "\n",
        "np.random.seed(RANDOM_SEED)\n",
        "tf.random.set_seed(RANDOM_SEED)"
      ],
      "execution_count": 7,
      "outputs": [
        {
          "output_type": "stream",
          "text": [
            "/usr/local/lib/python3.6/dist-packages/statsmodels/tools/_testing.py:19: FutureWarning: pandas.util.testing is deprecated. Use the functions in the public API at pandas.testing instead.\n",
            "  import pandas.util.testing as tm\n"
          ],
          "name": "stderr"
        }
      ]
    },
    {
      "cell_type": "markdown",
      "metadata": {
        "id": "CzkSXum8RzGM",
        "colab_type": "text"
      },
      "source": [
        "# Data\n"
      ]
    },
    {
      "cell_type": "code",
      "metadata": {
        "id": "eL2BmRgYIZkl",
        "colab_type": "code",
        "colab": {
          "base_uri": "https://localhost:8080/",
          "height": 151
        },
        "outputId": "60f70b63-7ef3-489e-aafe-1f6ee5dacc79"
      },
      "source": [
        "# Hindi data\n",
        "!gdown --id 1EQRLvSUJn6VxFluTqNEGxXcV8_5OmCaW --output data-task3.csv\n",
        "\n",
        "#Devnagri stopwards\n",
        "\n",
        "!gdown --id 13c9q9suXTh_71Gi_GacAb-TBmsi3z1Ou --output stopwords.txt"
      ],
      "execution_count": 21,
      "outputs": [
        {
          "output_type": "stream",
          "text": [
            "Downloading...\n",
            "From: https://drive.google.com/uc?id=1EQRLvSUJn6VxFluTqNEGxXcV8_5OmCaW\n",
            "To: /content/data-task3.csv\n",
            "100% 1.63M/1.63M [00:00<00:00, 108MB/s]\n",
            "Downloading...\n",
            "From: https://drive.google.com/uc?id=13c9q9suXTh_71Gi_GacAb-TBmsi3z1Ou\n",
            "To: /content/stopwords.txt\n",
            "100% 2.12k/2.12k [00:00<00:00, 3.23MB/s]\n"
          ],
          "name": "stdout"
        }
      ]
    },
    {
      "cell_type": "code",
      "metadata": {
        "id": "IJh-QX6w4J0_",
        "colab_type": "code",
        "colab": {}
      },
      "source": [
        "df = pd.read_csv('data-task3.csv', \n",
        "                   delimiter=',')\n",
        "df.columns = ['Text', 'Label']\n",
        "df.head(15)\n",
        "df[\"Text\"] = df[\"Text\"].astype(str)\n",
        "df[\"Label\"] = df[\"Label\"].astype(str)"
      ],
      "execution_count": 54,
      "outputs": []
    },
    {
      "cell_type": "code",
      "metadata": {
        "id": "97OSfZBmiBwh",
        "colab_type": "code",
        "colab": {
          "base_uri": "https://localhost:8080/",
          "height": 35
        },
        "outputId": "c0675ebc-d924-4076-b3e6-d2b572030a8b"
      },
      "source": [
        "df.Text[3]"
      ],
      "execution_count": 55,
      "outputs": [
        {
          "output_type": "execute_result",
          "data": {
            "application/vnd.google.colaboratory.intrinsic+json": {
              "type": "string"
            },
            "text/plain": [
              "\"'अमीन के 500 से अधिक छात्रों ने सर्वे भवन के गेट पर आधा नंगा होकर किया प्रदर्शन  पप्पू यादव ने बुलंद की\\\\xa0आवाज\""
            ]
          },
          "metadata": {
            "tags": []
          },
          "execution_count": 55
        }
      ]
    },
    {
      "cell_type": "code",
      "metadata": {
        "id": "lh6sCSOy46_B",
        "colab_type": "code",
        "colab": {
          "base_uri": "https://localhost:8080/",
          "height": 287
        },
        "outputId": "c8931a9e-f985-4e4a-9964-5fcf80eb41d1"
      },
      "source": [
        "import matplotlib.pyplot as plt\n",
        "fig = plt.figure(figsize=(6,4))\n",
        "df.groupby('Label').Text.count().plot.bar(ylim=0)\n",
        "plt.show()"
      ],
      "execution_count": 56,
      "outputs": [
        {
          "output_type": "display_data",
          "data": {
            "image/png": "[encoded data removed]",
            "text/plain": [
              "<Figure size 432x288 with 1 Axes>"
            ]
          },
          "metadata": {
            "tags": [],
            "image/png": {
              "width": 392,
              "height": 270
            }
          }
        }
      ]
    },
    {
      "cell_type": "code",
      "metadata": {
        "id": "1I2T1KqdofBV",
        "colab_type": "code",
        "colab": {
          "base_uri": "https://localhost:8080/",
          "height": 84
        },
        "outputId": "ad1ea2a9-554e-4680-8f9f-8ce49f96bb65"
      },
      "source": [
        "df.Label.value_counts()"
      ],
      "execution_count": 57,
      "outputs": [
        {
          "output_type": "execute_result",
          "data": {
            "text/plain": [
              "2    3375\n",
              "0    3244\n",
              "1    2174\n",
              "Name: Label, dtype: int64"
            ]
          },
          "metadata": {
            "tags": []
          },
          "execution_count": 57
        }
      ]
    },
    {
      "cell_type": "code",
      "metadata": {
        "id": "kf3151rv47Jn",
        "colab_type": "code",
        "colab": {
          "base_uri": "https://localhost:8080/",
          "height": 402
        },
        "outputId": "c04f97cf-2cea-48c1-c366-295b985ee099"
      },
      "source": [
        "df=df.sample(frac=1).reset_index(drop=True)\n",
        "df"
      ],
      "execution_count": 58,
      "outputs": [
        {
          "output_type": "execute_result",
          "data": {
            "text/html": [
              "<div>\n",
              "<style scoped>\n",
              "    .dataframe tbody tr th:only-of-type {\n",
              "        vertical-align: middle;\n",
              "    }\n",
              "\n",
              "    .dataframe tbody tr th {\n",
              "        vertical-align: top;\n",
              "    }\n",
              "\n",
              "    .dataframe thead th {\n",
              "        text-align: right;\n",
              "    }\n",
              "</style>\n",
              "<table border=\"1\" class=\"dataframe\">\n",
              "  <thead>\n",
              "    <tr style=\"text-align: right;\">\n",
              "      <th></th>\n",
              "      <th>Text</th>\n",
              "      <th>Label</th>\n",
              "    </tr>\n",
              "  </thead>\n",
              "  <tbody>\n",
              "    <tr>\n",
              "      <th>0</th>\n",
              "      <td>हमें हिंदू के नाम पर बरगलाया जा रहा'  पूर्व सा...</td>\n",
              "      <td>0</td>\n",
              "    </tr>\n",
              "    <tr>\n",
              "      <th>1</th>\n",
              "      <td>'बच्चों का भविष्य समाजवादी लैपटॉप   सपा का काम...</td>\n",
              "      <td>0</td>\n",
              "    </tr>\n",
              "    <tr>\n",
              "      <th>2</th>\n",
              "      <td>'@_niikhii माशाअल्लाह बहुत खूबसूरत 😍😍 मुकर्रर ...</td>\n",
              "      <td>1</td>\n",
              "    </tr>\n",
              "    <tr>\n",
              "      <th>3</th>\n",
              "      <td>'सुशांत सिंह राजपूत की पोस्टमॉर्टम रिपोर्ट पर ...</td>\n",
              "      <td>0</td>\n",
              "    </tr>\n",
              "    <tr>\n",
              "      <th>4</th>\n",
              "      <td>'@SushantBSinha इस्लाम का मतलब ही आतंकवाद है  ...</td>\n",
              "      <td>2</td>\n",
              "    </tr>\n",
              "    <tr>\n",
              "      <th>...</th>\n",
              "      <td>...</td>\n",
              "      <td>...</td>\n",
              "    </tr>\n",
              "    <tr>\n",
              "      <th>8788</th>\n",
              "      <td>'@SrBachchan किसी की भी हो कोई फर्क नहीं पडता ...</td>\n",
              "      <td>2</td>\n",
              "    </tr>\n",
              "    <tr>\n",
              "      <th>8789</th>\n",
              "      <td>'@arnab5222 कौन अगला सुशांत सिंह राजपूत की मौत...</td>\n",
              "      <td>0</td>\n",
              "    </tr>\n",
              "    <tr>\n",
              "      <th>8790</th>\n",
              "      <td>'@RehanSi68105058 @Asli_Shivani Madarcho chusa...</td>\n",
              "      <td>2</td>\n",
              "    </tr>\n",
              "    <tr>\n",
              "      <th>8791</th>\n",
              "      <td>'@ayaz_ayazkhan51 @HansrajMeena हम तो अंधभक्त ...</td>\n",
              "      <td>2</td>\n",
              "    </tr>\n",
              "    <tr>\n",
              "      <th>8792</th>\n",
              "      <td>'@AISO_INDIA आईएसओ एकता जिंदाबाद</td>\n",
              "      <td>0</td>\n",
              "    </tr>\n",
              "  </tbody>\n",
              "</table>\n",
              "<p>8793 rows × 2 columns</p>\n",
              "</div>"
            ],
            "text/plain": [
              "                                                   Text Label\n",
              "0     हमें हिंदू के नाम पर बरगलाया जा रहा'  पूर्व सा...     0\n",
              "1     'बच्चों का भविष्य समाजवादी लैपटॉप   सपा का काम...     0\n",
              "2     '@_niikhii माशाअल्लाह बहुत खूबसूरत 😍😍 मुकर्रर ...     1\n",
              "3     'सुशांत सिंह राजपूत की पोस्टमॉर्टम रिपोर्ट पर ...     0\n",
              "4     '@SushantBSinha इस्लाम का मतलब ही आतंकवाद है  ...     2\n",
              "...                                                 ...   ...\n",
              "8788  '@SrBachchan किसी की भी हो कोई फर्क नहीं पडता ...     2\n",
              "8789  '@arnab5222 कौन अगला सुशांत सिंह राजपूत की मौत...     0\n",
              "8790  '@RehanSi68105058 @Asli_Shivani Madarcho chusa...     2\n",
              "8791  '@ayaz_ayazkhan51 @HansrajMeena हम तो अंधभक्त ...     2\n",
              "8792                   '@AISO_INDIA आईएसओ एकता जिंदाबाद     0\n",
              "\n",
              "[8793 rows x 2 columns]"
            ]
          },
          "metadata": {
            "tags": []
          },
          "execution_count": 58
        }
      ]
    },
    {
      "cell_type": "markdown",
      "metadata": {
        "id": "Z0Md-0-Xsntu",
        "colab_type": "text"
      },
      "source": [
        "Data Preprocessing"
      ]
    },
    {
      "cell_type": "code",
      "metadata": {
        "id": "nkUY4GDWsnCR",
        "colab_type": "code",
        "colab": {}
      },
      "source": [
        "def textPattern(text):\n",
        "\n",
        "    # Clean the text\n",
        "    text = re.sub(r\"@\", \" \", text)\n",
        "    text = re.sub(r\",\", \" \", text)\n",
        "    text = re.sub(r\"\\.\", \" \", text)\n",
        "    text = re.sub(r\"!\", \" \", text)\n",
        "    text = re.sub(r\"\\/\", \" \", text)\n",
        "    text = re.sub(r\"\\^\", \" ^ \", text)\n",
        "    text = re.sub(r\"\\+\", \" \", text)\n",
        "    text = re.sub(r\"\\-\", \" - \", text)\n",
        "    text = re.sub(r\"\\= =\", \" \", text)\n",
        "    text = re.sub(r\"\\==\", \" \", text)\n",
        "    text = re.sub(r\"'\", \" \", text)\n",
        "    text = re.sub(r\"(\\d+)(k)\", r\"\\g<1>000\", text)\n",
        "    text = re.sub(r\":\", \" : \", text)\n",
        "    text = re.sub(r\"\\0s\", \"0\", text)\n",
        "    text = re.sub(r\" 9 11 \", \"911\", text)\n",
        "    text = re.sub(r\"\\s{2,}\", \" \", text)\n",
        "    return text\n",
        "\n",
        "df['Text'] = df['Text'].apply(lambda x: textPattern(x))"
      ],
      "execution_count": 59,
      "outputs": []
    },
    {
      "cell_type": "code",
      "metadata": {
        "id": "IwMRmocas9V3",
        "colab_type": "code",
        "colab": {}
      },
      "source": [
        "stopword=open(\"stopwords.txt\",\"r\")\n",
        "stop_words=[]\n",
        "# pre-process stopword\n",
        "for i in stopword:\n",
        "    i = re.sub('[\\n]', '', i)\n",
        "    stop_words.append(i)\n",
        "hin_stopwords = set(stop_words) "
      ],
      "execution_count": 60,
      "outputs": []
    },
    {
      "cell_type": "code",
      "metadata": {
        "id": "wRVTTvVGGS3j",
        "colab_type": "code",
        "colab": {}
      },
      "source": [
        "df = df[df.Text != '']"
      ],
      "execution_count": 61,
      "outputs": []
    },
    {
      "cell_type": "code",
      "metadata": {
        "id": "uxT19ii26zNC",
        "colab_type": "code",
        "colab": {}
      },
      "source": [
        "from sklearn.model_selection import train_test_split\n",
        "train, test = train_test_split(df, test_size=0.10, random_state=42)"
      ],
      "execution_count": 62,
      "outputs": []
    },
    {
      "cell_type": "code",
      "metadata": {
        "id": "i4cZ4oi_TTfC",
        "colab_type": "code",
        "colab": {
          "base_uri": "https://localhost:8080/",
          "height": 195
        },
        "outputId": "37035a89-d7bd-49b4-db4c-234ab6df18a1"
      },
      "source": [
        "df.head()"
      ],
      "execution_count": 63,
      "outputs": [
        {
          "output_type": "execute_result",
          "data": {
            "text/html": [
              "<div>\n",
              "<style scoped>\n",
              "    .dataframe tbody tr th:only-of-type {\n",
              "        vertical-align: middle;\n",
              "    }\n",
              "\n",
              "    .dataframe tbody tr th {\n",
              "        vertical-align: top;\n",
              "    }\n",
              "\n",
              "    .dataframe thead th {\n",
              "        text-align: right;\n",
              "    }\n",
              "</style>\n",
              "<table border=\"1\" class=\"dataframe\">\n",
              "  <thead>\n",
              "    <tr style=\"text-align: right;\">\n",
              "      <th></th>\n",
              "      <th>Text</th>\n",
              "      <th>Label</th>\n",
              "    </tr>\n",
              "  </thead>\n",
              "  <tbody>\n",
              "    <tr>\n",
              "      <th>0</th>\n",
              "      <td>हमें हिंदू के नाम पर बरगलाया जा रहा पूर्व सांस...</td>\n",
              "      <td>0</td>\n",
              "    </tr>\n",
              "    <tr>\n",
              "      <th>1</th>\n",
              "      <td>बच्चों का भविष्य समाजवादी लैपटॉप सपा का काम ज...</td>\n",
              "      <td>0</td>\n",
              "    </tr>\n",
              "    <tr>\n",
              "      <th>2</th>\n",
              "      <td>_niikhii माशाअल्लाह बहुत खूबसूरत 😍😍 मुकर्रर म...</td>\n",
              "      <td>1</td>\n",
              "    </tr>\n",
              "    <tr>\n",
              "      <th>3</th>\n",
              "      <td>सुशांत सिंह राजपूत की पोस्टमॉर्टम रिपोर्ट पर ...</td>\n",
              "      <td>0</td>\n",
              "    </tr>\n",
              "    <tr>\n",
              "      <th>4</th>\n",
              "      <td>SushantBSinha इस्लाम का मतलब ही आतंकवाद है मु...</td>\n",
              "      <td>2</td>\n",
              "    </tr>\n",
              "  </tbody>\n",
              "</table>\n",
              "</div>"
            ],
            "text/plain": [
              "                                                Text Label\n",
              "0  हमें हिंदू के नाम पर बरगलाया जा रहा पूर्व सांस...     0\n",
              "1   बच्चों का भविष्य समाजवादी लैपटॉप सपा का काम ज...     0\n",
              "2   _niikhii माशाअल्लाह बहुत खूबसूरत 😍😍 मुकर्रर म...     1\n",
              "3   सुशांत सिंह राजपूत की पोस्टमॉर्टम रिपोर्ट पर ...     0\n",
              "4   SushantBSinha इस्लाम का मतलब ही आतंकवाद है मु...     2"
            ]
          },
          "metadata": {
            "tags": []
          },
          "execution_count": 63
        }
      ]
    },
    {
      "cell_type": "code",
      "metadata": {
        "id": "Fes5nupOfR9B",
        "colab_type": "code",
        "colab": {
          "base_uri": "https://localhost:8080/",
          "height": 526
        },
        "outputId": "c9767a5d-8ecf-4a5a-c73f-7603e6388903"
      },
      "source": [
        "chart = sns.countplot(train.Label, palette=HAPPY_COLORS_PALETTE)\n",
        "plt.title(\"Number of texts per class\")\n",
        "chart.set_xticklabels(chart.get_xticklabels(), rotation=30, horizontalalignment='right');"
      ],
      "execution_count": 64,
      "outputs": [
        {
          "output_type": "display_data",
          "data": {
            "image/png": "[encoded data removed]",
            "text/plain": [
              "<Figure size 864x576 with 1 Axes>"
            ]
          },
          "metadata": {
            "tags": [],
            "image/png": {
              "width": 745,
              "height": 509
            }
          }
        }
      ]
    },
    {
      "cell_type": "markdown",
      "metadata": {
        "id": "Nc23faMAR--V",
        "colab_type": "text"
      },
      "source": [
        "# Islamophhobia Detection with BERT\n"
      ]
    },
    {
      "cell_type": "code",
      "metadata": {
        "id": "-P2y2g3m8Ytp",
        "colab_type": "code",
        "colab": {
          "base_uri": "https://localhost:8080/",
          "height": 202
        },
        "outputId": "de70e054-c83a-498b-a9a7-c04eab485258"
      },
      "source": [
        "!wget https://storage.googleapis.com/bert_models/2018_10_18/uncased_L-12_H-768_A-12.zip"
      ],
      "execution_count": 65,
      "outputs": [
        {
          "output_type": "stream",
          "text": [
            "--2020-09-24 19:45:38--  https://storage.googleapis.com/bert_models/2018_10_18/uncased_L-12_H-768_A-12.zip\n",
            "Resolving storage.googleapis.com (storage.googleapis.com)... 74.125.20.128, 74.125.195.128, 74.125.28.128, ...\n",
            "Connecting to storage.googleapis.com (storage.googleapis.com)|74.125.20.128|:443... connected.\n",
            "HTTP request sent, awaiting response... 200 OK\n",
            "Length: 407727028 (389M) [application/zip]\n",
            "Saving to: ‘uncased_L-12_H-768_A-12.zip.1’\n",
            "\n",
            "uncased_L-12_H-768_ 100%[===================>] 388.84M   143MB/s    in 2.7s    \n",
            "\n",
            "2020-09-24 19:45:41 (143 MB/s) - ‘uncased_L-12_H-768_A-12.zip.1’ saved [407727028/407727028]\n",
            "\n"
          ],
          "name": "stdout"
        }
      ]
    },
    {
      "cell_type": "code",
      "metadata": {
        "id": "ARivu75M8fqM",
        "colab_type": "code",
        "colab": {
          "base_uri": "https://localhost:8080/",
          "height": 134
        },
        "outputId": "4a2fb736-d7d7-4dad-fdda-3be13e3c81d4"
      },
      "source": [
        "!unzip uncased_L-12_H-768_A-12.zip"
      ],
      "execution_count": 66,
      "outputs": [
        {
          "output_type": "stream",
          "text": [
            "Archive:  uncased_L-12_H-768_A-12.zip\n",
            "   creating: uncased_L-12_H-768_A-12/\n",
            "  inflating: uncased_L-12_H-768_A-12/bert_model.ckpt.meta  \n",
            "  inflating: uncased_L-12_H-768_A-12/bert_model.ckpt.data-00000-of-00001  \n",
            "  inflating: uncased_L-12_H-768_A-12/vocab.txt  \n",
            "  inflating: uncased_L-12_H-768_A-12/bert_model.ckpt.index  \n",
            "  inflating: uncased_L-12_H-768_A-12/bert_config.json  \n"
          ],
          "name": "stdout"
        }
      ]
    },
    {
      "cell_type": "code",
      "metadata": {
        "id": "4Cgl9mvs8hAl",
        "colab_type": "code",
        "colab": {}
      },
      "source": [
        "os.makedirs(\"model\", exist_ok=True)"
      ],
      "execution_count": 67,
      "outputs": []
    },
    {
      "cell_type": "code",
      "metadata": {
        "id": "QoY4PY-w9FkN",
        "colab_type": "code",
        "colab": {
          "base_uri": "https://localhost:8080/",
          "height": 34
        },
        "outputId": "469dbdce-d249-40bf-bc4e-c9e285cb6230"
      },
      "source": [
        "!mv uncased_L-12_H-768_A-12/ model"
      ],
      "execution_count": 68,
      "outputs": [
        {
          "output_type": "stream",
          "text": [
            "mv: cannot move 'uncased_L-12_H-768_A-12/' to 'model/uncased_L-12_H-768_A-12': Directory not empty\n"
          ],
          "name": "stdout"
        }
      ]
    },
    {
      "cell_type": "code",
      "metadata": {
        "id": "LbvjbsEb9Ndv",
        "colab_type": "code",
        "colab": {}
      },
      "source": [
        "bert_model_name=\"uncased_L-12_H-768_A-12\"\n",
        "\n",
        "bert_ckpt_dir = os.path.join(\"model/\", bert_model_name)\n",
        "bert_ckpt_file = os.path.join(bert_ckpt_dir, \"bert_model.ckpt\")\n",
        "bert_config_file = os.path.join(bert_ckpt_dir, \"bert_config.json\")"
      ],
      "execution_count": 69,
      "outputs": []
    },
    {
      "cell_type": "markdown",
      "metadata": {
        "id": "3os6qeC6SB-M",
        "colab_type": "text"
      },
      "source": [
        "## Preprocessing"
      ]
    },
    {
      "cell_type": "code",
      "metadata": {
        "id": "TApTW_wLxoA9",
        "colab_type": "code",
        "colab": {}
      },
      "source": [
        "class IslamophobiaDetectionData:\n",
        "  DATA_COLUMN = \"Text\"\n",
        "  LABEL_COLUMN = \"Label\"\n",
        "\n",
        "  def __init__(self, train, test, tokenizer: FullTokenizer, classes, max_seq_len=192):\n",
        "    self.tokenizer = tokenizer\n",
        "    self.max_seq_len = 0\n",
        "    self.classes = classes\n",
        "    \n",
        "    ((self.train_x, self.train_y), (self.test_x, self.test_y)) = map(self._prepare, [train, test])\n",
        "\n",
        "    print(\"max seq_len\", self.max_seq_len)\n",
        "    self.max_seq_len = min(self.max_seq_len, max_seq_len)\n",
        "    self.train_x, self.test_x = map(self._pad, [self.train_x, self.test_x])\n",
        "\n",
        "  def _prepare(self, df):\n",
        "    x, y = [], []\n",
        "    \n",
        "    for _, row in tqdm(df.iterrows()):\n",
        "      text, label = row[IslamophobiaDetectionData.DATA_COLUMN], row[IslamophobiaDetectionData.LABEL_COLUMN]\n",
        "      tokenss = self.tokenizer.tokenize(text)\n",
        "      words = [w for w in tokenss if not w in hin_stopwords]\n",
        "      tokens= words\n",
        "      tokens = [\"[CLS]\"] + tokens + [\"[SEP]\"]\n",
        "      token_ids = self.tokenizer.convert_tokens_to_ids(tokens)\n",
        "      self.max_seq_len = max(self.max_seq_len, len(token_ids))\n",
        "      x.append(token_ids)\n",
        "      y.append(self.classes.index(label))\n",
        "\n",
        "    return np.array(x), np.array(y)\n",
        "\n",
        "  def _pad(self, ids):\n",
        "    x = []\n",
        "    for input_ids in ids:\n",
        "      input_ids = input_ids[:min(len(input_ids), self.max_seq_len - 2)]\n",
        "      input_ids = input_ids + [0] * (self.max_seq_len - len(input_ids))\n",
        "      x.append(np.array(input_ids))\n",
        "    return np.array(x)"
      ],
      "execution_count": 70,
      "outputs": []
    },
    {
      "cell_type": "code",
      "metadata": {
        "id": "qQWpVG464BuO",
        "colab_type": "code",
        "colab": {}
      },
      "source": [
        "tokenizer = FullTokenizer(vocab_file=os.path.join(bert_ckpt_dir, \"vocab.txt\"))"
      ],
      "execution_count": 71,
      "outputs": []
    },
    {
      "cell_type": "code",
      "metadata": {
        "id": "xnGGC53P9nC8",
        "colab_type": "code",
        "colab": {}
      },
      "source": [
        "def create_model(max_seq_len, bert_ckpt_file):\n",
        "\n",
        "  with tf.io.gfile.GFile(bert_config_file, \"r\") as reader:\n",
        "      bc = StockBertConfig.from_json_string(reader.read())\n",
        "      bert_params = map_stock_config_to_params(bc)\n",
        "      bert_params.adapter_size = None\n",
        "      bert = BertModelLayer.from_params(bert_params, name=\"bert\")\n",
        "        \n",
        "  input_ids = keras.layers.Input(shape=(max_seq_len, ), dtype='int32', name=\"input_ids\")\n",
        "  bert_output = bert(input_ids)\n",
        "\n",
        "  #print(\"bert shape\", bert_output.shape)\n",
        "\n",
        "  cls_out = keras.layers.Lambda(lambda seq: seq[:, 0, :])(bert_output)\n",
        "  cls_out = keras.layers.Dropout(0.5)(cls_out)\n",
        "  logits = keras.layers.Dense(units=768, activation=\"tanh\")(cls_out)\n",
        "  logits = keras.layers.Dropout(0.5)(logits)\n",
        "\n",
        "  logits = keras.layers.Dense(units=len(classes), activation=\"softmax\")(logits)\n",
        "\n",
        "\n",
        "  model = keras.Model(inputs=input_ids, outputs=logits)\n",
        "  model.build(input_shape=(None, max_seq_len))\n",
        "\n",
        "  load_stock_weights(bert, bert_ckpt_file)\n",
        "  \n",
        "  model.compile(\n",
        "  optimizer=keras.optimizers.Adam(1e-5),\n",
        "  loss=keras.losses.SparseCategoricalCrossentropy(from_logits=True),\n",
        "  metrics=[keras.metrics.SparseCategoricalAccuracy(name=\"acc\")]\n",
        ")\n",
        "        \n",
        "  return model"
      ],
      "execution_count": 72,
      "outputs": []
    },
    {
      "cell_type": "markdown",
      "metadata": {
        "id": "67GbMH3WRvZg",
        "colab_type": "text"
      },
      "source": [
        "## Training"
      ]
    },
    {
      "cell_type": "code",
      "metadata": {
        "id": "kXyaQY4E9S10",
        "colab_type": "code",
        "colab": {
          "base_uri": "https://localhost:8080/",
          "height": 67
        },
        "outputId": "9d3766e0-aac5-48fb-e290-0bd862c97886"
      },
      "source": [
        "classes = train.Label.unique().tolist()\n",
        "\n",
        "data = IslamophobiaDetectionData(train, test, tokenizer, classes, max_seq_len=128)"
      ],
      "execution_count": 73,
      "outputs": [
        {
          "output_type": "stream",
          "text": [
            "7913it [00:03, 2254.80it/s]\n",
            "880it [00:00, 2322.60it/s]\n"
          ],
          "name": "stderr"
        },
        {
          "output_type": "stream",
          "text": [
            "max seq_len 213\n"
          ],
          "name": "stdout"
        }
      ]
    },
    {
      "cell_type": "code",
      "metadata": {
        "id": "TizDFiPC9n4b",
        "colab_type": "code",
        "colab": {
          "base_uri": "https://localhost:8080/",
          "height": 238
        },
        "outputId": "27cab82f-56dd-4cb3-e015-f0cf72330ab8"
      },
      "source": [
        "model = create_model(data.max_seq_len, bert_ckpt_file)"
      ],
      "execution_count": 74,
      "outputs": [
        {
          "output_type": "stream",
          "text": [
            "Done loading 196 BERT weights from: model/uncased_L-12_H-768_A-12/bert_model.ckpt into <bert.model.BertModelLayer object at 0x7f4a90b98d30> (prefix:bert). Count of weights not found in the checkpoint was: [0]. Count of weights with mismatched shape: [0]\n",
            "Unused weights from checkpoint: \n",
            "\tbert/embeddings/token_type_embeddings\n",
            "\tbert/pooler/dense/bias\n",
            "\tbert/pooler/dense/kernel\n",
            "\tcls/predictions/output_bias\n",
            "\tcls/predictions/transform/LayerNorm/beta\n",
            "\tcls/predictions/transform/LayerNorm/gamma\n",
            "\tcls/predictions/transform/dense/bias\n",
            "\tcls/predictions/transform/dense/kernel\n",
            "\tcls/seq_relationship/output_bias\n",
            "\tcls/seq_relationship/output_weights\n"
          ],
          "name": "stdout"
        }
      ]
    },
    {
      "cell_type": "code",
      "metadata": {
        "id": "XjUkMjiGbC7f",
        "colab_type": "code",
        "colab": {
          "base_uri": "https://localhost:8080/",
          "height": 386
        },
        "outputId": "0bbdf72d-b252-4c1f-bbf8-8c690129880d"
      },
      "source": [
        "model.summary()"
      ],
      "execution_count": 75,
      "outputs": [
        {
          "output_type": "stream",
          "text": [
            "Model: \"functional_23\"\n",
            "_________________________________________________________________\n",
            "Layer (type)                 Output Shape              Param #   \n",
            "=================================================================\n",
            "input_ids (InputLayer)       [(None, 128)]             0         \n",
            "_________________________________________________________________\n",
            "bert (BertModelLayer)        (None, 128, 768)          108890112 \n",
            "_________________________________________________________________\n",
            "lambda_11 (Lambda)           (None, 768)               0         \n",
            "_________________________________________________________________\n",
            "dropout_22 (Dropout)         (None, 768)               0         \n",
            "_________________________________________________________________\n",
            "dense_22 (Dense)             (None, 768)               590592    \n",
            "_________________________________________________________________\n",
            "dropout_23 (Dropout)         (None, 768)               0         \n",
            "_________________________________________________________________\n",
            "dense_23 (Dense)             (None, 3)                 2307      \n",
            "=================================================================\n",
            "Total params: 109,483,011\n",
            "Trainable params: 109,483,011\n",
            "Non-trainable params: 0\n",
            "_________________________________________________________________\n"
          ],
          "name": "stdout"
        }
      ]
    },
    {
      "cell_type": "code",
      "metadata": {
        "id": "oIjlbG8u9xis",
        "colab_type": "code",
        "colab": {
          "base_uri": "https://localhost:8080/",
          "height": 185
        },
        "outputId": "3cd909ae-d857-485d-9b5b-feb2f5e933f1"
      },
      "source": [
        "\n",
        "\n",
        "history = model.fit(\n",
        "  x=data.train_x, \n",
        "  y=data.train_y,\n",
        "  validation_split=0.1,\n",
        "  batch_size=16,\n",
        "  shuffle=True,\n",
        "  epochs=5\n",
        ")"
      ],
      "execution_count": 76,
      "outputs": [
        {
          "output_type": "stream",
          "text": [
            "Epoch 1/5\n",
            "446/446 [==============================] - 154s 346ms/step - loss: 0.8938 - acc: 0.6340 - val_loss: 0.6374 - val_acc: 0.9091\n",
            "Epoch 2/5\n",
            "446/446 [==============================] - 151s 339ms/step - loss: 0.6264 - acc: 0.9250 - val_loss: 0.6162 - val_acc: 0.9343\n",
            "Epoch 3/5\n",
            "446/446 [==============================] - 151s 340ms/step - loss: 0.6149 - acc: 0.9347 - val_loss: 0.6105 - val_acc: 0.9381\n",
            "Epoch 4/5\n",
            "446/446 [==============================] - 151s 339ms/step - loss: 0.6095 - acc: 0.9423 - val_loss: 0.6099 - val_acc: 0.9432\n",
            "Epoch 5/5\n",
            "446/446 [==============================] - 151s 339ms/step - loss: 0.6061 - acc: 0.9438 - val_loss: 0.6013 - val_acc: 0.9508\n"
          ],
          "name": "stdout"
        }
      ]
    },
    {
      "cell_type": "markdown",
      "metadata": {
        "id": "6s31ZIADSGNp",
        "colab_type": "text"
      },
      "source": [
        "## Evaluation"
      ]
    },
    {
      "cell_type": "code",
      "metadata": {
        "id": "5XLlcuVC1lLE",
        "colab_type": "code",
        "colab": {
          "base_uri": "https://localhost:8080/",
          "height": 523
        },
        "outputId": "1eb8b6dc-c047-49e7-b379-e573a50198a3"
      },
      "source": [
        "ax = plt.figure().gca()\n",
        "ax.xaxis.set_major_locator(MaxNLocator(integer=True))\n",
        "\n",
        "ax.plot(history.history['loss'])\n",
        "ax.plot(history.history['val_loss'])\n",
        "plt.ylabel('Loss')\n",
        "plt.xlabel('Epoch')\n",
        "plt.legend(['train', 'test'])\n",
        "plt.title('Loss over training epochs')\n",
        "plt.show();"
      ],
      "execution_count": 77,
      "outputs": [
        {
          "output_type": "display_data",
          "data": {
            "image/png": "[encoded data removed]",
            "text/plain": [
              "<Figure size 864x576 with 1 Axes>"
            ]
          },
          "metadata": {
            "tags": [],
            "image/png": {
              "width": 740,
              "height": 506
            }
          }
        }
      ]
    },
    {
      "cell_type": "code",
      "metadata": {
        "id": "yZ7CVW_71m0Q",
        "colab_type": "code",
        "colab": {
          "base_uri": "https://localhost:8080/",
          "height": 523
        },
        "outputId": "7f47b3b6-554e-4b45-910b-b594190ff8ee"
      },
      "source": [
        "ax = plt.figure().gca()\n",
        "ax.xaxis.set_major_locator(MaxNLocator(integer=True))\n",
        "\n",
        "ax.plot(history.history['acc'])\n",
        "ax.plot(history.history['val_acc'])\n",
        "plt.ylabel('Accuracy')\n",
        "plt.xlabel('Epoch')\n",
        "plt.legend(['train', 'test'])\n",
        "plt.title('Accuracy over training epochs')\n",
        "plt.show();"
      ],
      "execution_count": 78,
      "outputs": [
        {
          "output_type": "display_data",
          "data": {
            "image/png": "[encoded data removed]",
            "text/plain": [
              "<Figure size 864x576 with 1 Axes>"
            ]
          },
          "metadata": {
            "tags": [],
            "image/png": {
              "width": 740,
              "height": 506
            }
          }
        }
      ]
    },
    {
      "cell_type": "code",
      "metadata": {
        "id": "RGAECSj4AiD1",
        "colab_type": "code",
        "colab": {
          "base_uri": "https://localhost:8080/",
          "height": 84
        },
        "outputId": "cc1d6277-9187-4c2a-8216-1fcd2ca6af2a"
      },
      "source": [
        "_, train_acc = model.evaluate(data.train_x, data.train_y)\n",
        "_, test_acc = model.evaluate(data.test_x, data.test_y)\n",
        "\n",
        "print(\"train acc\", train_acc)\n",
        "print(\"test acc\", test_acc)"
      ],
      "execution_count": 79,
      "outputs": [
        {
          "output_type": "stream",
          "text": [
            "248/248 [==============================] - 42s 171ms/step - loss: 0.5953 - acc: 0.9559\n",
            "28/28 [==============================] - 5s 163ms/step - loss: 0.6044 - acc: 0.9455\n",
            "train acc 0.9558953642845154\n",
            "test acc 0.9454545378684998\n"
          ],
          "name": "stdout"
        }
      ]
    },
    {
      "cell_type": "code",
      "metadata": {
        "id": "Leg5atNmPzGb",
        "colab_type": "code",
        "colab": {}
      },
      "source": [
        "y_pred = model.predict(data.test_x).argmax(axis=-1)"
      ],
      "execution_count": 80,
      "outputs": []
    },
    {
      "cell_type": "code",
      "metadata": {
        "id": "SZYriKx6UUOb",
        "colab_type": "code",
        "colab": {
          "base_uri": "https://localhost:8080/",
          "height": 185
        },
        "outputId": "0c04c8e3-37ef-417c-edcf-12f1c36cdaee"
      },
      "source": [
        "print(classification_report(data.test_y, y_pred))"
      ],
      "execution_count": 81,
      "outputs": [
        {
          "output_type": "stream",
          "text": [
            "              precision    recall  f1-score   support\n",
            "\n",
            "           0       0.95      0.96      0.95       347\n",
            "           1       0.92      0.93      0.93       212\n",
            "           2       0.95      0.94      0.95       321\n",
            "\n",
            "    accuracy                           0.95       880\n",
            "   macro avg       0.94      0.94      0.94       880\n",
            "weighted avg       0.95      0.95      0.95       880\n",
            "\n"
          ],
          "name": "stdout"
        }
      ]
    },
    {
      "cell_type": "code",
      "metadata": {
        "id": "lS-5TbGDP4rr",
        "colab_type": "code",
        "colab": {}
      },
      "source": [
        "\n",
        "cm = confusion_matrix(data.test_y, y_pred)\n",
        "df_cm = pd.DataFrame(cm, index=classes, columns=classes)"
      ],
      "execution_count": 82,
      "outputs": []
    },
    {
      "cell_type": "code",
      "metadata": {
        "id": "DgkPl9gLS4DL",
        "colab_type": "code",
        "colab": {
          "base_uri": "https://localhost:8080/",
          "height": 509
        },
        "outputId": "a55662d3-70d3-4df5-fa37-7b429e9c5219"
      },
      "source": [
        "hmap = sns.heatmap(df_cm, annot=True, fmt=\"d\")\n",
        "hmap.yaxis.set_ticklabels(hmap.yaxis.get_ticklabels(), rotation=0, ha='right')\n",
        "hmap.xaxis.set_ticklabels(hmap.xaxis.get_ticklabels(), rotation=30, ha='right')\n",
        "plt.ylabel('True label')\n",
        "plt.xlabel('Predicted label');"
      ],
      "execution_count": 83,
      "outputs": [
        {
          "output_type": "display_data",
          "data": {
            "image/png": "[encoded data removed]",
            "text/plain": [
              "<Figure size 864x576 with 2 Axes>"
            ]
          },
          "metadata": {
            "tags": [],
            "image/png": {
              "width": 675,
              "height": 492
            }
          }
        }
      ]
    },
    {
      "cell_type": "markdown",
      "metadata": {
        "id": "w7IeHfcq71fn",
        "colab_type": "text"
      },
      "source": [
        "# 10 Fold cross validation"
      ]
    },
    {
      "cell_type": "code",
      "metadata": {
        "id": "sHHv3pbeU8MZ",
        "colab_type": "code",
        "colab": {
          "base_uri": "https://localhost:8080/",
          "height": 1000
        },
        "outputId": "d3137a55-e446-41b9-c4af-904fd4d08445"
      },
      "source": [
        "import random\n",
        "from sklearn.metrics import accuracy_score\n",
        "from sklearn.model_selection import train_test_split\n",
        "\n",
        "kFold = 10\n",
        "\n",
        "#To get accuracy of the model for 10 different splits\n",
        "scores = []\n",
        "training_accuracy = []\n",
        "testing_accuracy = []\n",
        "print(\"BERT: \")\n",
        "for i in range(kFold):\n",
        "    print('Fold ', i+1)\n",
        "    print('')\n",
        "    # Splitting data into test and train\n",
        "    train, test = train_test_split(df, test_size=0.10, shuffle = True)\n",
        "\n",
        "    classes = train.Label.unique().tolist()\n",
        "    data = IslamophobiaDetectionData(train, test, tokenizer, classes, max_seq_len=128)\n",
        "    model = create_model(data.max_seq_len, bert_ckpt_file)\n",
        "    history = model.fit( x=data.train_x, y=data.train_y,validation_split=0.1,batch_size=16, shuffle=True,epochs=5)\n",
        "    #train_loss, train_acc = model.evaluate(data.train_x, data.train_y)\n",
        "    test_loss, test_acc = model.evaluate(data.test_x, data.test_y)\n",
        "    \n",
        "    #training_accuracy.append(train_acc)\n",
        "    testing_accuracy.append(test_acc)\n",
        "\n",
        "    y_pred = model.predict(data.test_x).argmax(axis=-1)\n",
        "\n",
        "    scoreValue =accuracy_score(data.test_y, y_pred)\n",
        "    scores.append(scoreValue)\n"
      ],
      "execution_count": 84,
      "outputs": [
        {
          "output_type": "stream",
          "text": [
            "248it [00:00, 2478.35it/s]"
          ],
          "name": "stderr"
        },
        {
          "output_type": "stream",
          "text": [
            "BERT: \n",
            "Fold  1\n",
            "\n"
          ],
          "name": "stdout"
        },
        {
          "output_type": "stream",
          "text": [
            "7913it [00:03, 2309.15it/s]\n",
            "880it [00:00, 2288.47it/s]\n"
          ],
          "name": "stderr"
        },
        {
          "output_type": "stream",
          "text": [
            "max seq_len 213\n",
            "Done loading 196 BERT weights from: model/uncased_L-12_H-768_A-12/bert_model.ckpt into <bert.model.BertModelLayer object at 0x7f498ddf3780> (prefix:bert). Count of weights not found in the checkpoint was: [0]. Count of weights with mismatched shape: [0]\n",
            "Unused weights from checkpoint: \n",
            "\tbert/embeddings/token_type_embeddings\n",
            "\tbert/pooler/dense/bias\n",
            "\tbert/pooler/dense/kernel\n",
            "\tcls/predictions/output_bias\n",
            "\tcls/predictions/transform/LayerNorm/beta\n",
            "\tcls/predictions/transform/LayerNorm/gamma\n",
            "\tcls/predictions/transform/dense/bias\n",
            "\tcls/predictions/transform/dense/kernel\n",
            "\tcls/seq_relationship/output_bias\n",
            "\tcls/seq_relationship/output_weights\n",
            "Epoch 1/5\n",
            "446/446 [==============================] - 154s 346ms/step - loss: 0.8222 - acc: 0.7086 - val_loss: 0.6350 - val_acc: 0.9116\n",
            "Epoch 2/5\n",
            "446/446 [==============================] - 149s 335ms/step - loss: 0.6282 - acc: 0.9223 - val_loss: 0.6226 - val_acc: 0.9280\n",
            "Epoch 3/5\n",
            "446/446 [==============================] - 149s 335ms/step - loss: 0.6166 - acc: 0.9332 - val_loss: 0.6072 - val_acc: 0.9444\n",
            "Epoch 4/5\n",
            "446/446 [==============================] - 149s 335ms/step - loss: 0.6132 - acc: 0.9374 - val_loss: 0.6112 - val_acc: 0.9394\n",
            "Epoch 5/5\n",
            "446/446 [==============================] - 149s 334ms/step - loss: 0.6128 - acc: 0.9378 - val_loss: 0.6140 - val_acc: 0.9369\n",
            "28/28 [==============================] - 5s 163ms/step - loss: 0.6004 - acc: 0.9500\n"
          ],
          "name": "stdout"
        },
        {
          "output_type": "stream",
          "text": [
            "231it [00:00, 2308.33it/s]"
          ],
          "name": "stderr"
        },
        {
          "output_type": "stream",
          "text": [
            "Fold  2\n",
            "\n"
          ],
          "name": "stdout"
        },
        {
          "output_type": "stream",
          "text": [
            "7913it [00:03, 2349.58it/s]\n",
            "880it [00:00, 2314.18it/s]\n"
          ],
          "name": "stderr"
        },
        {
          "output_type": "stream",
          "text": [
            "max seq_len 213\n",
            "Done loading 196 BERT weights from: model/uncased_L-12_H-768_A-12/bert_model.ckpt into <bert.model.BertModelLayer object at 0x7f4a9a757518> (prefix:bert). Count of weights not found in the checkpoint was: [0]. Count of weights with mismatched shape: [0]\n",
            "Unused weights from checkpoint: \n",
            "\tbert/embeddings/token_type_embeddings\n",
            "\tbert/pooler/dense/bias\n",
            "\tbert/pooler/dense/kernel\n",
            "\tcls/predictions/output_bias\n",
            "\tcls/predictions/transform/LayerNorm/beta\n",
            "\tcls/predictions/transform/LayerNorm/gamma\n",
            "\tcls/predictions/transform/dense/bias\n",
            "\tcls/predictions/transform/dense/kernel\n",
            "\tcls/seq_relationship/output_bias\n",
            "\tcls/seq_relationship/output_weights\n",
            "Epoch 1/5\n",
            "446/446 [==============================] - 152s 342ms/step - loss: 0.8955 - acc: 0.6242 - val_loss: 0.6651 - val_acc: 0.8813\n",
            "Epoch 2/5\n",
            "446/446 [==============================] - 150s 336ms/step - loss: 0.6399 - acc: 0.9112 - val_loss: 0.6315 - val_acc: 0.9167\n",
            "Epoch 3/5\n",
            "446/446 [==============================] - 150s 336ms/step - loss: 0.6194 - acc: 0.9313 - val_loss: 0.6250 - val_acc: 0.9242\n",
            "Epoch 4/5\n",
            "446/446 [==============================] - 150s 336ms/step - loss: 0.6159 - acc: 0.9347 - val_loss: 0.6156 - val_acc: 0.9343\n",
            "Epoch 5/5\n",
            "446/446 [==============================] - 150s 336ms/step - loss: 0.6144 - acc: 0.9358 - val_loss: 0.6253 - val_acc: 0.9242\n",
            "28/28 [==============================] - 5s 164ms/step - loss: 0.6396 - acc: 0.9091\n"
          ],
          "name": "stdout"
        },
        {
          "output_type": "stream",
          "text": [
            "235it [00:00, 2346.37it/s]"
          ],
          "name": "stderr"
        },
        {
          "output_type": "stream",
          "text": [
            "Fold  3\n",
            "\n"
          ],
          "name": "stdout"
        },
        {
          "output_type": "stream",
          "text": [
            "7913it [00:03, 2373.53it/s]\n",
            "880it [00:00, 2318.46it/s]\n"
          ],
          "name": "stderr"
        },
        {
          "output_type": "stream",
          "text": [
            "max seq_len 213\n",
            "Done loading 196 BERT weights from: model/uncased_L-12_H-768_A-12/bert_model.ckpt into <bert.model.BertModelLayer object at 0x7f471ab7e860> (prefix:bert). Count of weights not found in the checkpoint was: [0]. Count of weights with mismatched shape: [0]\n",
            "Unused weights from checkpoint: \n",
            "\tbert/embeddings/token_type_embeddings\n",
            "\tbert/pooler/dense/bias\n",
            "\tbert/pooler/dense/kernel\n",
            "\tcls/predictions/output_bias\n",
            "\tcls/predictions/transform/LayerNorm/beta\n",
            "\tcls/predictions/transform/LayerNorm/gamma\n",
            "\tcls/predictions/transform/dense/bias\n",
            "\tcls/predictions/transform/dense/kernel\n",
            "\tcls/seq_relationship/output_bias\n",
            "\tcls/seq_relationship/output_weights\n",
            "Epoch 1/5\n",
            "446/446 [==============================] - 153s 344ms/step - loss: 0.9406 - acc: 0.5769 - val_loss: 0.6415 - val_acc: 0.9078\n",
            "Epoch 2/5\n",
            "446/446 [==============================] - 151s 338ms/step - loss: 0.6277 - acc: 0.9229 - val_loss: 0.6335 - val_acc: 0.9154\n",
            "Epoch 3/5\n",
            "446/446 [==============================] - 151s 338ms/step - loss: 0.6196 - acc: 0.9318 - val_loss: 0.6187 - val_acc: 0.9331\n",
            "Epoch 4/5\n",
            "446/446 [==============================] - 151s 338ms/step - loss: 0.6144 - acc: 0.9364 - val_loss: 0.6099 - val_acc: 0.9407\n",
            "Epoch 5/5\n",
            "446/446 [==============================] - 151s 338ms/step - loss: 0.6085 - acc: 0.9420 - val_loss: 0.6175 - val_acc: 0.9331\n",
            "28/28 [==============================] - 5s 163ms/step - loss: 0.6187 - acc: 0.9307\n"
          ],
          "name": "stdout"
        },
        {
          "output_type": "stream",
          "text": [
            "231it [00:00, 2300.04it/s]"
          ],
          "name": "stderr"
        },
        {
          "output_type": "stream",
          "text": [
            "Fold  4\n",
            "\n"
          ],
          "name": "stdout"
        },
        {
          "output_type": "stream",
          "text": [
            "7913it [00:03, 2358.74it/s]\n",
            "880it [00:00, 2403.67it/s]\n"
          ],
          "name": "stderr"
        },
        {
          "output_type": "stream",
          "text": [
            "max seq_len 213\n",
            "Done loading 196 BERT weights from: model/uncased_L-12_H-768_A-12/bert_model.ckpt into <bert.model.BertModelLayer object at 0x7f4bde35a828> (prefix:bert). Count of weights not found in the checkpoint was: [0]. Count of weights with mismatched shape: [0]\n",
            "Unused weights from checkpoint: \n",
            "\tbert/embeddings/token_type_embeddings\n",
            "\tbert/pooler/dense/bias\n",
            "\tbert/pooler/dense/kernel\n",
            "\tcls/predictions/output_bias\n",
            "\tcls/predictions/transform/LayerNorm/beta\n",
            "\tcls/predictions/transform/LayerNorm/gamma\n",
            "\tcls/predictions/transform/dense/bias\n",
            "\tcls/predictions/transform/dense/kernel\n",
            "\tcls/seq_relationship/output_bias\n",
            "\tcls/seq_relationship/output_weights\n",
            "Epoch 1/5\n",
            "446/446 [==============================] - 153s 344ms/step - loss: 0.8351 - acc: 0.6972 - val_loss: 0.6356 - val_acc: 0.9141\n",
            "Epoch 2/5\n",
            "446/446 [==============================] - 151s 339ms/step - loss: 0.6271 - acc: 0.9242 - val_loss: 0.6216 - val_acc: 0.9280\n",
            "Epoch 3/5\n",
            "446/446 [==============================] - 151s 338ms/step - loss: 0.6184 - acc: 0.9322 - val_loss: 0.6303 - val_acc: 0.9217\n",
            "Epoch 4/5\n",
            "446/446 [==============================] - 151s 338ms/step - loss: 0.6148 - acc: 0.9360 - val_loss: 0.6323 - val_acc: 0.9192\n",
            "Epoch 5/5\n",
            "446/446 [==============================] - 151s 339ms/step - loss: 0.6134 - acc: 0.9368 - val_loss: 0.6331 - val_acc: 0.9179\n",
            "28/28 [==============================] - 5s 163ms/step - loss: 0.6158 - acc: 0.9352\n"
          ],
          "name": "stdout"
        },
        {
          "output_type": "stream",
          "text": [
            "235it [00:00, 2347.58it/s]"
          ],
          "name": "stderr"
        },
        {
          "output_type": "stream",
          "text": [
            "Fold  5\n",
            "\n"
          ],
          "name": "stdout"
        },
        {
          "output_type": "stream",
          "text": [
            "7913it [00:04, 1827.83it/s]\n",
            "880it [00:00, 2302.10it/s]\n"
          ],
          "name": "stderr"
        },
        {
          "output_type": "stream",
          "text": [
            "max seq_len 213\n",
            "Done loading 196 BERT weights from: model/uncased_L-12_H-768_A-12/bert_model.ckpt into <bert.model.BertModelLayer object at 0x7f4949918630> (prefix:bert). Count of weights not found in the checkpoint was: [0]. Count of weights with mismatched shape: [0]\n",
            "Unused weights from checkpoint: \n",
            "\tbert/embeddings/token_type_embeddings\n",
            "\tbert/pooler/dense/bias\n",
            "\tbert/pooler/dense/kernel\n",
            "\tcls/predictions/output_bias\n",
            "\tcls/predictions/transform/LayerNorm/beta\n",
            "\tcls/predictions/transform/LayerNorm/gamma\n",
            "\tcls/predictions/transform/dense/bias\n",
            "\tcls/predictions/transform/dense/kernel\n",
            "\tcls/seq_relationship/output_bias\n",
            "\tcls/seq_relationship/output_weights\n",
            "Epoch 1/5\n",
            "446/446 [==============================] - 153s 344ms/step - loss: 0.8305 - acc: 0.7058 - val_loss: 0.6442 - val_acc: 0.9040\n",
            "Epoch 2/5\n",
            "446/446 [==============================] - 151s 338ms/step - loss: 0.6244 - acc: 0.9259 - val_loss: 0.6352 - val_acc: 0.9141\n",
            "Epoch 3/5\n",
            "446/446 [==============================] - 151s 338ms/step - loss: 0.6149 - acc: 0.9361 - val_loss: 0.6352 - val_acc: 0.9154\n",
            "Epoch 4/5\n",
            "446/446 [==============================] - 151s 338ms/step - loss: 0.6122 - acc: 0.9382 - val_loss: 0.6273 - val_acc: 0.9242\n",
            "Epoch 5/5\n",
            "446/446 [==============================] - 151s 338ms/step - loss: 0.6099 - acc: 0.9410 - val_loss: 0.6270 - val_acc: 0.9242\n",
            "28/28 [==============================] - 5s 164ms/step - loss: 0.6034 - acc: 0.9466\n"
          ],
          "name": "stdout"
        },
        {
          "output_type": "stream",
          "text": [
            "238it [00:00, 2371.06it/s]"
          ],
          "name": "stderr"
        },
        {
          "output_type": "stream",
          "text": [
            "Fold  6\n",
            "\n"
          ],
          "name": "stdout"
        },
        {
          "output_type": "stream",
          "text": [
            "7913it [00:03, 2337.36it/s]\n",
            "880it [00:00, 2296.62it/s]\n"
          ],
          "name": "stderr"
        },
        {
          "output_type": "stream",
          "text": [
            "max seq_len 213\n",
            "Done loading 196 BERT weights from: model/uncased_L-12_H-768_A-12/bert_model.ckpt into <bert.model.BertModelLayer object at 0x7f4bbfe5cc50> (prefix:bert). Count of weights not found in the checkpoint was: [0]. Count of weights with mismatched shape: [0]\n",
            "Unused weights from checkpoint: \n",
            "\tbert/embeddings/token_type_embeddings\n",
            "\tbert/pooler/dense/bias\n",
            "\tbert/pooler/dense/kernel\n",
            "\tcls/predictions/output_bias\n",
            "\tcls/predictions/transform/LayerNorm/beta\n",
            "\tcls/predictions/transform/LayerNorm/gamma\n",
            "\tcls/predictions/transform/dense/bias\n",
            "\tcls/predictions/transform/dense/kernel\n",
            "\tcls/seq_relationship/output_bias\n",
            "\tcls/seq_relationship/output_weights\n",
            "Epoch 1/5\n",
            "446/446 [==============================] - 153s 344ms/step - loss: 0.8655 - acc: 0.6576 - val_loss: 0.6192 - val_acc: 0.9331\n",
            "Epoch 2/5\n",
            "446/446 [==============================] - 151s 339ms/step - loss: 0.6229 - acc: 0.9281 - val_loss: 0.6137 - val_acc: 0.9381\n",
            "Epoch 3/5\n",
            "446/446 [==============================] - 151s 339ms/step - loss: 0.6166 - acc: 0.9336 - val_loss: 0.6174 - val_acc: 0.9331\n",
            "Epoch 4/5\n",
            "446/446 [==============================] - 151s 339ms/step - loss: 0.6143 - acc: 0.9357 - val_loss: 0.6094 - val_acc: 0.9407\n",
            "Epoch 5/5\n",
            "446/446 [==============================] - 152s 340ms/step - loss: 0.6100 - acc: 0.9400 - val_loss: 0.6124 - val_acc: 0.9381\n",
            "28/28 [==============================] - 5s 164ms/step - loss: 0.6217 - acc: 0.9273\n"
          ],
          "name": "stdout"
        },
        {
          "output_type": "stream",
          "text": [
            "233it [00:00, 2318.12it/s]"
          ],
          "name": "stderr"
        },
        {
          "output_type": "stream",
          "text": [
            "Fold  7\n",
            "\n"
          ],
          "name": "stdout"
        },
        {
          "output_type": "stream",
          "text": [
            "7913it [00:03, 2326.10it/s]\n",
            "880it [00:00, 2264.88it/s]\n"
          ],
          "name": "stderr"
        },
        {
          "output_type": "stream",
          "text": [
            "max seq_len 213\n",
            "Done loading 196 BERT weights from: model/uncased_L-12_H-768_A-12/bert_model.ckpt into <bert.model.BertModelLayer object at 0x7f4a92ec0390> (prefix:bert). Count of weights not found in the checkpoint was: [0]. Count of weights with mismatched shape: [0]\n",
            "Unused weights from checkpoint: \n",
            "\tbert/embeddings/token_type_embeddings\n",
            "\tbert/pooler/dense/bias\n",
            "\tbert/pooler/dense/kernel\n",
            "\tcls/predictions/output_bias\n",
            "\tcls/predictions/transform/LayerNorm/beta\n",
            "\tcls/predictions/transform/LayerNorm/gamma\n",
            "\tcls/predictions/transform/dense/bias\n",
            "\tcls/predictions/transform/dense/kernel\n",
            "\tcls/seq_relationship/output_bias\n",
            "\tcls/seq_relationship/output_weights\n",
            "Epoch 1/5\n",
            "446/446 [==============================] - 154s 345ms/step - loss: 0.8463 - acc: 0.6835 - val_loss: 0.6152 - val_acc: 0.9343\n",
            "Epoch 2/5\n",
            "446/446 [==============================] - 151s 339ms/step - loss: 0.6241 - acc: 0.9268 - val_loss: 0.6100 - val_acc: 0.9407\n",
            "Epoch 3/5\n",
            "446/446 [==============================] - 152s 340ms/step - loss: 0.6167 - acc: 0.9326 - val_loss: 0.5947 - val_acc: 0.9558\n",
            "Epoch 4/5\n",
            "446/446 [==============================] - 152s 340ms/step - loss: 0.6119 - acc: 0.9396 - val_loss: 0.6103 - val_acc: 0.9407\n",
            "Epoch 5/5\n",
            "446/446 [==============================] - 151s 339ms/step - loss: 0.6098 - acc: 0.9403 - val_loss: 0.5908 - val_acc: 0.9609\n",
            "28/28 [==============================] - 5s 163ms/step - loss: 0.6026 - acc: 0.9477\n"
          ],
          "name": "stdout"
        },
        {
          "output_type": "stream",
          "text": [
            "231it [00:00, 2299.02it/s]"
          ],
          "name": "stderr"
        },
        {
          "output_type": "stream",
          "text": [
            "Fold  8\n",
            "\n"
          ],
          "name": "stdout"
        },
        {
          "output_type": "stream",
          "text": [
            "7913it [00:03, 2340.68it/s]\n",
            "880it [00:00, 2324.12it/s]\n"
          ],
          "name": "stderr"
        },
        {
          "output_type": "stream",
          "text": [
            "max seq_len 213\n",
            "Done loading 196 BERT weights from: model/uncased_L-12_H-768_A-12/bert_model.ckpt into <bert.model.BertModelLayer object at 0x7f498f5bbc18> (prefix:bert). Count of weights not found in the checkpoint was: [0]. Count of weights with mismatched shape: [0]\n",
            "Unused weights from checkpoint: \n",
            "\tbert/embeddings/token_type_embeddings\n",
            "\tbert/pooler/dense/bias\n",
            "\tbert/pooler/dense/kernel\n",
            "\tcls/predictions/output_bias\n",
            "\tcls/predictions/transform/LayerNorm/beta\n",
            "\tcls/predictions/transform/LayerNorm/gamma\n",
            "\tcls/predictions/transform/dense/bias\n",
            "\tcls/predictions/transform/dense/kernel\n",
            "\tcls/seq_relationship/output_bias\n",
            "\tcls/seq_relationship/output_weights\n",
            "Epoch 1/5\n",
            "446/446 [==============================] - 154s 345ms/step - loss: 0.8884 - acc: 0.6391 - val_loss: 0.6671 - val_acc: 0.8838\n",
            "Epoch 2/5\n",
            "446/446 [==============================] - 151s 340ms/step - loss: 0.6257 - acc: 0.9252 - val_loss: 0.6154 - val_acc: 0.9356\n",
            "Epoch 3/5\n",
            "446/446 [==============================] - 151s 339ms/step - loss: 0.6176 - acc: 0.9332 - val_loss: 0.6185 - val_acc: 0.9318\n",
            "Epoch 4/5\n",
            "446/446 [==============================] - 151s 339ms/step - loss: 0.6112 - acc: 0.9395 - val_loss: 0.6122 - val_acc: 0.9394\n",
            "Epoch 5/5\n",
            "446/446 [==============================] - 151s 339ms/step - loss: 0.6085 - acc: 0.9427 - val_loss: 0.6113 - val_acc: 0.9394\n",
            "28/28 [==============================] - 5s 163ms/step - loss: 0.6197 - acc: 0.9295\n"
          ],
          "name": "stdout"
        },
        {
          "output_type": "stream",
          "text": [
            "242it [00:00, 2411.61it/s]"
          ],
          "name": "stderr"
        },
        {
          "output_type": "stream",
          "text": [
            "Fold  9\n",
            "\n"
          ],
          "name": "stdout"
        },
        {
          "output_type": "stream",
          "text": [
            "7913it [00:03, 2354.40it/s]\n",
            "880it [00:00, 2249.17it/s]\n"
          ],
          "name": "stderr"
        },
        {
          "output_type": "stream",
          "text": [
            "max seq_len 213\n",
            "Done loading 196 BERT weights from: model/uncased_L-12_H-768_A-12/bert_model.ckpt into <bert.model.BertModelLayer object at 0x7f4bbd4ff898> (prefix:bert). Count of weights not found in the checkpoint was: [0]. Count of weights with mismatched shape: [0]\n",
            "Unused weights from checkpoint: \n",
            "\tbert/embeddings/token_type_embeddings\n",
            "\tbert/pooler/dense/bias\n",
            "\tbert/pooler/dense/kernel\n",
            "\tcls/predictions/output_bias\n",
            "\tcls/predictions/transform/LayerNorm/beta\n",
            "\tcls/predictions/transform/LayerNorm/gamma\n",
            "\tcls/predictions/transform/dense/bias\n",
            "\tcls/predictions/transform/dense/kernel\n",
            "\tcls/seq_relationship/output_bias\n",
            "\tcls/seq_relationship/output_weights\n",
            "Epoch 1/5\n",
            "446/446 [==============================] - 155s 347ms/step - loss: 0.7916 - acc: 0.7485 - val_loss: 0.6324 - val_acc: 0.9167\n",
            "Epoch 2/5\n",
            "446/446 [==============================] - 152s 340ms/step - loss: 0.6253 - acc: 0.9256 - val_loss: 0.6322 - val_acc: 0.9179\n",
            "Epoch 3/5\n",
            "446/446 [==============================] - 151s 340ms/step - loss: 0.6168 - acc: 0.9343 - val_loss: 0.6251 - val_acc: 0.9242\n",
            "Epoch 4/5\n",
            "446/446 [==============================] - 152s 340ms/step - loss: 0.6162 - acc: 0.9340 - val_loss: 0.6177 - val_acc: 0.9306\n",
            "Epoch 5/5\n",
            "446/446 [==============================] - 152s 340ms/step - loss: 0.6092 - acc: 0.9406 - val_loss: 0.6215 - val_acc: 0.9293\n",
            "28/28 [==============================] - 5s 163ms/step - loss: 0.6006 - acc: 0.9500\n"
          ],
          "name": "stdout"
        },
        {
          "output_type": "stream",
          "text": [
            "247it [00:00, 2459.85it/s]"
          ],
          "name": "stderr"
        },
        {
          "output_type": "stream",
          "text": [
            "Fold  10\n",
            "\n"
          ],
          "name": "stdout"
        },
        {
          "output_type": "stream",
          "text": [
            "7913it [00:03, 2344.07it/s]\n",
            "880it [00:00, 2346.53it/s]\n"
          ],
          "name": "stderr"
        },
        {
          "output_type": "stream",
          "text": [
            "max seq_len 213\n",
            "Done loading 196 BERT weights from: model/uncased_L-12_H-768_A-12/bert_model.ckpt into <bert.model.BertModelLayer object at 0x7f479df62080> (prefix:bert). Count of weights not found in the checkpoint was: [0]. Count of weights with mismatched shape: [0]\n",
            "Unused weights from checkpoint: \n",
            "\tbert/embeddings/token_type_embeddings\n",
            "\tbert/pooler/dense/bias\n",
            "\tbert/pooler/dense/kernel\n",
            "\tcls/predictions/output_bias\n",
            "\tcls/predictions/transform/LayerNorm/beta\n",
            "\tcls/predictions/transform/LayerNorm/gamma\n",
            "\tcls/predictions/transform/dense/bias\n",
            "\tcls/predictions/transform/dense/kernel\n",
            "\tcls/seq_relationship/output_bias\n",
            "\tcls/seq_relationship/output_weights\n",
            "Epoch 1/5\n",
            "446/446 [==============================] - 153s 343ms/step - loss: 0.8568 - acc: 0.6724 - val_loss: 0.6489 - val_acc: 0.8990\n",
            "Epoch 2/5\n",
            "446/446 [==============================] - 151s 338ms/step - loss: 0.6262 - acc: 0.9235 - val_loss: 0.6358 - val_acc: 0.9154\n",
            "Epoch 3/5\n",
            "446/446 [==============================] - 151s 338ms/step - loss: 0.6194 - acc: 0.9308 - val_loss: 0.6264 - val_acc: 0.9230\n",
            "Epoch 4/5\n",
            "446/446 [==============================] - 151s 338ms/step - loss: 0.6105 - acc: 0.9395 - val_loss: 0.6309 - val_acc: 0.9205\n",
            "Epoch 5/5\n",
            "446/446 [==============================] - 151s 338ms/step - loss: 0.6103 - acc: 0.9405 - val_loss: 0.6194 - val_acc: 0.9318\n",
            "28/28 [==============================] - 5s 164ms/step - loss: 0.6273 - acc: 0.9250\n"
          ],
          "name": "stdout"
        }
      ]
    },
    {
      "cell_type": "code",
      "metadata": {
        "id": "RYtq3EIqeqPk",
        "colab_type": "code",
        "colab": {
          "base_uri": "https://localhost:8080/",
          "height": 67
        },
        "outputId": "678892b7-6877-4ba3-ec29-b47526fb5598"
      },
      "source": [
        "\n",
        "print('')\n",
        "Mean_score = sum(scores) / len(scores)\n",
        "print(f\" Mean predict: {Mean_score}\" )\n",
        "\n",
        "mean_test = sum(testing_accuracy)/len(testing_accuracy)\n",
        "print(f\" Mean testing accuracy for 10 folds: {mean_test}\" )"
      ],
      "execution_count": 85,
      "outputs": [
        {
          "output_type": "stream",
          "text": [
            "\n",
            " Mean predict: 0.9351136363636362\n",
            " Mean testing accuracy for 10 folds: 0.9351136386394501\n"
          ],
          "name": "stdout"
        }
      ]
    },
    {
      "cell_type": "code",
      "metadata": {
        "id": "6Feyo0ULAmEW",
        "colab_type": "code",
        "colab": {
          "base_uri": "https://localhost:8080/",
          "height": 521
        },
        "outputId": "aea7b110-1a22-4970-9647-c2fac8b95451"
      },
      "source": [
        "translator = Translator()\n",
        "sentences = []\n",
        "# 1\n",
        "hin_text =  \"इसलाम सुंदर है\"\n",
        "sentences.append(hin_text)\n",
        "\n",
        "trans = translator.translate(hin_text, dest='en')\n",
        "\n",
        "sentences.append(trans.text)\n",
        "\n",
        "# 0\n",
        "hin_text =  \" समाज वादी  पार्टी  जिंदाबाद \"\n",
        "sentences.append(hin_text)\n",
        "\n",
        "trans = translator.translate(hin_text, dest='en')\n",
        "\n",
        "sentences.append(trans.text)\n",
        "\n",
        "# 2\n",
        "hin_text =  \"'गाजा में दीवाली   की ढेरो बधाई मित्रो 😊💐  #IsraeliBombing 😂😂\"\n",
        "sentences.append(hin_text)\n",
        "\n",
        "trans = translator.translate(hin_text, dest='en')\n",
        "\n",
        "sentences.append(trans.text)\n",
        "\n",
        "# 2\n",
        "hin_text = \"UK ने भारत को लुटा था अब जिहादी UK को लुटने पोहँच गए। जो करोगे सो भरोगे।\"\n",
        "sentences.append(hin_text)\n",
        "\n",
        "trans = translator.translate(hin_text, dest='en')\n",
        "\n",
        "sentences.append(trans.text)\n",
        "\n",
        "# 2\n",
        "sentences.append( \"Play our song now you asshole jehadi muslim\")\n",
        "\n",
        "# 0\n",
        "sentences.append( \"Rate this book as awful\")\n",
        "\n",
        "\n",
        "pred_tokens = map(tokenizer.tokenize, sentences)\n",
        "pred_tokens = map(lambda tok: [\"[CLS]\"] + tok + [\"[SEP]\"], pred_tokens)\n",
        "pred_token_ids = list(map(tokenizer.convert_tokens_to_ids, pred_tokens))\n",
        "\n",
        "pred_token_ids = map(lambda tids: tids +[0]*(data.max_seq_len-len(tids)),pred_token_ids)\n",
        "pred_token_ids = np.array(list(pred_token_ids))\n",
        "\n",
        "predictions = model.predict(pred_token_ids).argmax(axis=-1)\n",
        "\n",
        "for text, label in zip(sentences, predictions):\n",
        "  print(\"text:\", text, \"\\nLabel:\", classes[label])\n",
        "  print()"
      ],
      "execution_count": 86,
      "outputs": [
        {
          "output_type": "stream",
          "text": [
            "text: इसलाम सुंदर है \n",
            "Label: 1\n",
            "\n",
            "text: Islam is beautiful \n",
            "Label: 1\n",
            "\n",
            "text:  समाज वादी  पार्टी  जिंदाबाद  \n",
            "Label: 0\n",
            "\n",
            "text: Samajwadi Party Zindabad \n",
            "Label: 2\n",
            "\n",
            "text: 'गाजा में दीवाली   की ढेरो बधाई मित्रो 😊💐  #IsraeliBombing 😂😂 \n",
            "Label: 0\n",
            "\n",
            "text: 'Happy Diwali greetings in Gaza Friends 😊💐 #IsraeliBombing 😂😂 \n",
            "Label: 2\n",
            "\n",
            "text: UK ने भारत को लुटा था अब जिहादी UK को लुटने पोहँच गए। जो करोगे सो भरोगे। \n",
            "Label: 2\n",
            "\n",
            "text: The UK had looted India, now the jihadis looted the UK. Whatever you do will be filled. \n",
            "Label: 2\n",
            "\n",
            "text: Play our song now you asshole jehadi muslim \n",
            "Label: 2\n",
            "\n",
            "text: Rate this book as awful \n",
            "Label: 1\n",
            "\n"
          ],
          "name": "stdout"
        }
      ]
    },
    {
      "cell_type": "code",
      "metadata": {
        "id": "J6-dcpQ1IT57",
        "colab_type": "code",
        "colab": {}
      },
      "source": [
        ""
      ],
      "execution_count": null,
      "outputs": []
    },
    {
      "cell_type": "markdown",
      "metadata": {
        "id": "nhtAuYJTxItA",
        "colab_type": "text"
      },
      "source": [
        "# Reference\n",
        "\n",
        "1. Movie Reviews with bert-for-tf2 https://colab.research.google.com/drive/1esTDT7S7-31Uiwr8Hj1meV1aokeo8AYX?authuser=1"
      ]
    },
    {
      "cell_type": "code",
      "metadata": {
        "id": "SWQwdzn4zFUn",
        "colab_type": "code",
        "colab": {}
      },
      "source": [
        ""
      ],
      "execution_count": null,
      "outputs": []
    }
  ]
}