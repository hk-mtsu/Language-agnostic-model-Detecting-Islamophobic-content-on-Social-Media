{
  "nbformat": 4,
  "nbformat_minor": 0,
  "metadata": {
    "colab": {
      "name": "Bert_Hindi_data.ipynb",
      "provenance": [],
      "collapsed_sections": [],
      "toc_visible": true
    },
    "kernelspec": {
      "name": "python3",
      "display_name": "Python 3"
    },
    "accelerator": "GPU"
  },
  "cells": [
    {
      "cell_type": "code",
      "metadata": {
        "id": "vr1ssFIS3soG",
        "colab_type": "code",
        "colab": {}
      },
      "source": [
        ""
      ],
      "execution_count": null,
      "outputs": []
    },
    {
      "cell_type": "code",
      "metadata": {
        "id": "oCgqcKtHjnVB",
        "colab_type": "code",
        "colab": {}
      },
      "source": [
        ""
      ],
      "execution_count": null,
      "outputs": []
    },
    {
      "cell_type": "markdown",
      "metadata": {
        "id": "ROSg9T9EzYDf",
        "colab_type": "text"
      },
      "source": [
        "# Islamophhobia Detection with BERT using Keras and TensorFlow 2"
      ]
    },
    {
      "cell_type": "code",
      "metadata": {
        "id": "LV210YNdrKIi",
        "colab_type": "code",
        "colab": {
          "base_uri": "https://localhost:8080/",
          "height": 353
        },
        "outputId": "29a1b7b8-3c59-4090-924c-f92f15f124e2"
      },
      "source": [
        "!nvidia-smi"
      ],
      "execution_count": 2,
      "outputs": [
        {
          "output_type": "stream",
          "text": [
            "Tue Sep 15 02:22:21 2020       \n",
            "+-----------------------------------------------------------------------------+\n",
            "| NVIDIA-SMI 450.66       Driver Version: 418.67       CUDA Version: 10.1     |\n",
            "|-------------------------------+----------------------+----------------------+\n",
            "| GPU  Name        Persistence-M| Bus-Id        Disp.A | Volatile Uncorr. ECC |\n",
            "| Fan  Temp  Perf  Pwr:Usage/Cap|         Memory-Usage | GPU-Util  Compute M. |\n",
            "|                               |                      |               MIG M. |\n",
            "|===============================+======================+======================|\n",
            "|   0  Tesla T4            Off  | 00000000:00:04.0 Off |                    0 |\n",
            "| N/A   64C    P8    11W /  70W |      0MiB / 15079MiB |      0%      Default |\n",
            "|                               |                      |                 ERR! |\n",
            "+-------------------------------+----------------------+----------------------+\n",
            "                                                                               \n",
            "+-----------------------------------------------------------------------------+\n",
            "| Processes:                                                                  |\n",
            "|  GPU   GI   CI        PID   Type   Process name                  GPU Memory |\n",
            "|        ID   ID                                                   Usage      |\n",
            "|=============================================================================|\n",
            "|  No running processes found                                                 |\n",
            "+-----------------------------------------------------------------------------+\n"
          ],
          "name": "stdout"
        }
      ]
    },
    {
      "cell_type": "code",
      "metadata": {
        "id": "WaaST8ILn0oN",
        "colab_type": "code",
        "colab": {
          "base_uri": "https://localhost:8080/",
          "height": 726
        },
        "outputId": "1abe36bd-e0e8-46fd-efd1-2b0c2f19b1b0"
      },
      "source": [
        "!pip install tensorflow-gpu "
      ],
      "execution_count": 3,
      "outputs": [
        {
          "output_type": "stream",
          "text": [
            "Collecting tensorflow-gpu\n",
            "\u001b[?25l  Downloading https://files.pythonhosted.org/packages/0f/11/763f55d3d15efd778ef24453f126e6c33635680e5a2bb346da3fab5997cb/tensorflow_gpu-2.3.0-cp36-cp36m-manylinux2010_x86_64.whl (320.4MB)\n",
            "\u001b[K     |████████████████████████████████| 320.4MB 49kB/s \n",
            "\u001b[?25hRequirement already satisfied: grpcio>=1.8.6 in /usr/local/lib/python3.6/dist-packages (from tensorflow-gpu) (1.32.0)\n",
            "Requirement already satisfied: google-pasta>=0.1.8 in /usr/local/lib/python3.6/dist-packages (from tensorflow-gpu) (0.2.0)\n",
            "Requirement already satisfied: astunparse==1.6.3 in /usr/local/lib/python3.6/dist-packages (from tensorflow-gpu) (1.6.3)\n",
            "Requirement already satisfied: opt-einsum>=2.3.2 in /usr/local/lib/python3.6/dist-packages (from tensorflow-gpu) (3.3.0)\n",
            "Requirement already satisfied: keras-preprocessing<1.2,>=1.1.1 in /usr/local/lib/python3.6/dist-packages (from tensorflow-gpu) (1.1.2)\n",
            "Requirement already satisfied: numpy<1.19.0,>=1.16.0 in /usr/local/lib/python3.6/dist-packages (from tensorflow-gpu) (1.18.5)\n",
            "Requirement already satisfied: protobuf>=3.9.2 in /usr/local/lib/python3.6/dist-packages (from tensorflow-gpu) (3.12.4)\n",
            "Requirement already satisfied: wrapt>=1.11.1 in /usr/local/lib/python3.6/dist-packages (from tensorflow-gpu) (1.12.1)\n",
            "Requirement already satisfied: six>=1.12.0 in /usr/local/lib/python3.6/dist-packages (from tensorflow-gpu) (1.15.0)\n",
            "Requirement already satisfied: scipy==1.4.1 in /usr/local/lib/python3.6/dist-packages (from tensorflow-gpu) (1.4.1)\n",
            "Requirement already satisfied: wheel>=0.26 in /usr/local/lib/python3.6/dist-packages (from tensorflow-gpu) (0.35.1)\n",
            "Requirement already satisfied: gast==0.3.3 in /usr/local/lib/python3.6/dist-packages (from tensorflow-gpu) (0.3.3)\n",
            "Requirement already satisfied: tensorboard<3,>=2.3.0 in /usr/local/lib/python3.6/dist-packages (from tensorflow-gpu) (2.3.0)\n",
            "Requirement already satisfied: absl-py>=0.7.0 in /usr/local/lib/python3.6/dist-packages (from tensorflow-gpu) (0.10.0)\n",
            "Requirement already satisfied: h5py<2.11.0,>=2.10.0 in /usr/local/lib/python3.6/dist-packages (from tensorflow-gpu) (2.10.0)\n",
            "Requirement already satisfied: tensorflow-estimator<2.4.0,>=2.3.0 in /usr/local/lib/python3.6/dist-packages (from tensorflow-gpu) (2.3.0)\n",
            "Requirement already satisfied: termcolor>=1.1.0 in /usr/local/lib/python3.6/dist-packages (from tensorflow-gpu) (1.1.0)\n",
            "Requirement already satisfied: setuptools in /usr/local/lib/python3.6/dist-packages (from protobuf>=3.9.2->tensorflow-gpu) (50.3.0)\n",
            "Requirement already satisfied: tensorboard-plugin-wit>=1.6.0 in /usr/local/lib/python3.6/dist-packages (from tensorboard<3,>=2.3.0->tensorflow-gpu) (1.7.0)\n",
            "Requirement already satisfied: requests<3,>=2.21.0 in /usr/local/lib/python3.6/dist-packages (from tensorboard<3,>=2.3.0->tensorflow-gpu) (2.23.0)\n",
            "Requirement already satisfied: google-auth-oauthlib<0.5,>=0.4.1 in /usr/local/lib/python3.6/dist-packages (from tensorboard<3,>=2.3.0->tensorflow-gpu) (0.4.1)\n",
            "Requirement already satisfied: werkzeug>=0.11.15 in /usr/local/lib/python3.6/dist-packages (from tensorboard<3,>=2.3.0->tensorflow-gpu) (1.0.1)\n",
            "Requirement already satisfied: markdown>=2.6.8 in /usr/local/lib/python3.6/dist-packages (from tensorboard<3,>=2.3.0->tensorflow-gpu) (3.2.2)\n",
            "Requirement already satisfied: google-auth<2,>=1.6.3 in /usr/local/lib/python3.6/dist-packages (from tensorboard<3,>=2.3.0->tensorflow-gpu) (1.17.2)\n",
            "Requirement already satisfied: urllib3!=1.25.0,!=1.25.1,<1.26,>=1.21.1 in /usr/local/lib/python3.6/dist-packages (from requests<3,>=2.21.0->tensorboard<3,>=2.3.0->tensorflow-gpu) (1.24.3)\n",
            "Requirement already satisfied: chardet<4,>=3.0.2 in /usr/local/lib/python3.6/dist-packages (from requests<3,>=2.21.0->tensorboard<3,>=2.3.0->tensorflow-gpu) (3.0.4)\n",
            "Requirement already satisfied: certifi>=2017.4.17 in /usr/local/lib/python3.6/dist-packages (from requests<3,>=2.21.0->tensorboard<3,>=2.3.0->tensorflow-gpu) (2020.6.20)\n",
            "Requirement already satisfied: idna<3,>=2.5 in /usr/local/lib/python3.6/dist-packages (from requests<3,>=2.21.0->tensorboard<3,>=2.3.0->tensorflow-gpu) (2.10)\n",
            "Requirement already satisfied: requests-oauthlib>=0.7.0 in /usr/local/lib/python3.6/dist-packages (from google-auth-oauthlib<0.5,>=0.4.1->tensorboard<3,>=2.3.0->tensorflow-gpu) (1.3.0)\n",
            "Requirement already satisfied: importlib-metadata; python_version < \"3.8\" in /usr/local/lib/python3.6/dist-packages (from markdown>=2.6.8->tensorboard<3,>=2.3.0->tensorflow-gpu) (1.7.0)\n",
            "Requirement already satisfied: cachetools<5.0,>=2.0.0 in /usr/local/lib/python3.6/dist-packages (from google-auth<2,>=1.6.3->tensorboard<3,>=2.3.0->tensorflow-gpu) (4.1.1)\n",
            "Requirement already satisfied: rsa<5,>=3.1.4; python_version >= \"3\" in /usr/local/lib/python3.6/dist-packages (from google-auth<2,>=1.6.3->tensorboard<3,>=2.3.0->tensorflow-gpu) (4.6)\n",
            "Requirement already satisfied: pyasn1-modules>=0.2.1 in /usr/local/lib/python3.6/dist-packages (from google-auth<2,>=1.6.3->tensorboard<3,>=2.3.0->tensorflow-gpu) (0.2.8)\n",
            "Requirement already satisfied: oauthlib>=3.0.0 in /usr/local/lib/python3.6/dist-packages (from requests-oauthlib>=0.7.0->google-auth-oauthlib<0.5,>=0.4.1->tensorboard<3,>=2.3.0->tensorflow-gpu) (3.1.0)\n",
            "Requirement already satisfied: zipp>=0.5 in /usr/local/lib/python3.6/dist-packages (from importlib-metadata; python_version < \"3.8\"->markdown>=2.6.8->tensorboard<3,>=2.3.0->tensorflow-gpu) (3.1.0)\n",
            "Requirement already satisfied: pyasn1>=0.1.3 in /usr/local/lib/python3.6/dist-packages (from rsa<5,>=3.1.4; python_version >= \"3\"->google-auth<2,>=1.6.3->tensorboard<3,>=2.3.0->tensorflow-gpu) (0.4.8)\n",
            "Installing collected packages: tensorflow-gpu\n",
            "Successfully installed tensorflow-gpu-2.3.0\n"
          ],
          "name": "stdout"
        }
      ]
    },
    {
      "cell_type": "code",
      "metadata": {
        "id": "WTWu7zZeKhfV",
        "colab_type": "code",
        "colab": {
          "base_uri": "https://localhost:8080/",
          "height": 50
        },
        "outputId": "a6e09323-1fd8-467b-88b2-cb33dfa6cee4"
      },
      "source": [
        "!pip install --upgrade grpcio"
      ],
      "execution_count": 4,
      "outputs": [
        {
          "output_type": "stream",
          "text": [
            "Requirement already up-to-date: grpcio in /usr/local/lib/python3.6/dist-packages (1.32.0)\n",
            "Requirement already satisfied, skipping upgrade: six>=1.5.2 in /usr/local/lib/python3.6/dist-packages (from grpcio) (1.15.0)\n"
          ],
          "name": "stdout"
        }
      ]
    },
    {
      "cell_type": "code",
      "metadata": {
        "id": "zCRkokr-n26J",
        "colab_type": "code",
        "colab": {
          "base_uri": "https://localhost:8080/",
          "height": 34
        },
        "outputId": "aed770f4-40ab-4b45-be3f-a1bec98f3be8"
      },
      "source": [
        "!pip install tqdm"
      ],
      "execution_count": 5,
      "outputs": [
        {
          "output_type": "stream",
          "text": [
            "Requirement already satisfied: tqdm in /usr/local/lib/python3.6/dist-packages (4.41.1)\n"
          ],
          "name": "stdout"
        }
      ]
    },
    {
      "cell_type": "code",
      "metadata": {
        "id": "-zgaripn6hjX",
        "colab_type": "code",
        "colab": {
          "base_uri": "https://localhost:8080/",
          "height": 406
        },
        "outputId": "71dc1fc6-0ee8-4578-bafb-6ca67612666e"
      },
      "source": [
        "!pip install bert-for-tf2"
      ],
      "execution_count": 6,
      "outputs": [
        {
          "output_type": "stream",
          "text": [
            "Collecting bert-for-tf2\n",
            "\u001b[?25l  Downloading https://files.pythonhosted.org/packages/af/c1/015648a2186b25c6de79d15bec40d3d946fcf1dd5067d1c1b28009506486/bert-for-tf2-0.14.6.tar.gz (40kB)\n",
            "\r\u001b[K     |████████                        | 10kB 28.8MB/s eta 0:00:01\r\u001b[K     |████████████████                | 20kB 4.1MB/s eta 0:00:01\r\u001b[K     |████████████████████████▏       | 30kB 5.3MB/s eta 0:00:01\r\u001b[K     |████████████████████████████████| 40kB 3.5MB/s \n",
            "\u001b[?25hCollecting py-params>=0.9.6\n",
            "  Downloading https://files.pythonhosted.org/packages/a4/bf/c1c70d5315a8677310ea10a41cfc41c5970d9b37c31f9c90d4ab98021fd1/py-params-0.9.7.tar.gz\n",
            "Collecting params-flow>=0.8.0\n",
            "  Downloading https://files.pythonhosted.org/packages/a9/95/ff49f5ebd501f142a6f0aaf42bcfd1c192dc54909d1d9eb84ab031d46056/params-flow-0.8.2.tar.gz\n",
            "Requirement already satisfied: numpy in /usr/local/lib/python3.6/dist-packages (from params-flow>=0.8.0->bert-for-tf2) (1.18.5)\n",
            "Requirement already satisfied: tqdm in /usr/local/lib/python3.6/dist-packages (from params-flow>=0.8.0->bert-for-tf2) (4.41.1)\n",
            "Building wheels for collected packages: bert-for-tf2, py-params, params-flow\n",
            "  Building wheel for bert-for-tf2 (setup.py) ... \u001b[?25l\u001b[?25hdone\n",
            "  Created wheel for bert-for-tf2: filename=bert_for_tf2-0.14.6-cp36-none-any.whl size=30318 sha256=863a26ffe041bcda9ea5da749133e256e50d96781e7c1fc7bbb27955b5492923\n",
            "  Stored in directory: /root/.cache/pip/wheels/07/a0/b4/75b0601ebaa41e517a797fe9cea119c789664c8408f8a74ae9\n",
            "  Building wheel for py-params (setup.py) ... \u001b[?25l\u001b[?25hdone\n",
            "  Created wheel for py-params: filename=py_params-0.9.7-cp36-none-any.whl size=7304 sha256=9dd4e03b036d7603e775534a6fb7c4d24208bbe31e5d81003bd2f16fba31be47\n",
            "  Stored in directory: /root/.cache/pip/wheels/67/f5/19/b461849a50aefdf4bab47c4756596e82ee2118b8278e5a1980\n",
            "  Building wheel for params-flow (setup.py) ... \u001b[?25l\u001b[?25hdone\n",
            "  Created wheel for params-flow: filename=params_flow-0.8.2-cp36-none-any.whl size=19475 sha256=affb0798de08a3bfecbc4adf44f1214162463d4ca65f2d3232c67686ad6d5520\n",
            "  Stored in directory: /root/.cache/pip/wheels/08/c8/7f/81c86b9ff2b86e2c477e3914175be03e679e596067dc630c06\n",
            "Successfully built bert-for-tf2 py-params params-flow\n",
            "Installing collected packages: py-params, params-flow, bert-for-tf2\n",
            "Successfully installed bert-for-tf2-0.14.6 params-flow-0.8.2 py-params-0.9.7\n"
          ],
          "name": "stdout"
        }
      ]
    },
    {
      "cell_type": "code",
      "metadata": {
        "id": "_8BBTklbot7T",
        "colab_type": "code",
        "colab": {
          "base_uri": "https://localhost:8080/",
          "height": 759
        },
        "outputId": "d2c712ad-7b59-4e89-cdf4-e286bb0c16d3"
      },
      "source": [
        "!pip install googletrans"
      ],
      "execution_count": 7,
      "outputs": [
        {
          "output_type": "stream",
          "text": [
            "Collecting googletrans\n",
            "  Downloading https://files.pythonhosted.org/packages/71/3a/3b19effdd4c03958b90f40fe01c93de6d5280e03843cc5adf6956bfc9512/googletrans-3.0.0.tar.gz\n",
            "Collecting httpx==0.13.3\n",
            "\u001b[?25l  Downloading https://files.pythonhosted.org/packages/54/b4/698b284c6aed4d7c2b4fe3ba5df1fcf6093612423797e76fbb24890dd22f/httpx-0.13.3-py3-none-any.whl (55kB)\n",
            "\u001b[K     |████████████████████████████████| 61kB 4.2MB/s \n",
            "\u001b[?25hRequirement already satisfied: chardet==3.* in /usr/local/lib/python3.6/dist-packages (from httpx==0.13.3->googletrans) (3.0.4)\n",
            "Requirement already satisfied: certifi in /usr/local/lib/python3.6/dist-packages (from httpx==0.13.3->googletrans) (2020.6.20)\n",
            "Collecting httpcore==0.9.*\n",
            "\u001b[?25l  Downloading https://files.pythonhosted.org/packages/dd/d5/e4ff9318693ac6101a2095e580908b591838c6f33df8d3ee8dd953ba96a8/httpcore-0.9.1-py3-none-any.whl (42kB)\n",
            "\u001b[K     |████████████████████████████████| 51kB 7.5MB/s \n",
            "\u001b[?25hCollecting sniffio\n",
            "  Downloading https://files.pythonhosted.org/packages/b3/82/4bd4b7d9c0d1dc0fbfbc2a1e00138e7f3ab85bc239358fe9b78aa2ab586d/sniffio-1.1.0-py3-none-any.whl\n",
            "Collecting rfc3986<2,>=1.3\n",
            "  Downloading https://files.pythonhosted.org/packages/78/be/7b8b99fd74ff5684225f50dd0e865393d2265656ef3b4ba9eaaaffe622b8/rfc3986-1.4.0-py2.py3-none-any.whl\n",
            "Requirement already satisfied: idna==2.* in /usr/local/lib/python3.6/dist-packages (from httpx==0.13.3->googletrans) (2.10)\n",
            "Collecting hstspreload\n",
            "\u001b[?25l  Downloading https://files.pythonhosted.org/packages/4c/07/12dd706501a3212a9774feb69d6a2333963a2da19ba98861ab23f2439f3d/hstspreload-2020.9.9-py3-none-any.whl (953kB)\n",
            "\u001b[K     |████████████████████████████████| 962kB 14.0MB/s \n",
            "\u001b[?25hCollecting h11<0.10,>=0.8\n",
            "\u001b[?25l  Downloading https://files.pythonhosted.org/packages/5a/fd/3dad730b0f95e78aeeb742f96fa7bbecbdd56a58e405d3da440d5bfb90c6/h11-0.9.0-py2.py3-none-any.whl (53kB)\n",
            "\u001b[K     |████████████████████████████████| 61kB 10.4MB/s \n",
            "\u001b[?25hCollecting h2==3.*\n",
            "\u001b[?25l  Downloading https://files.pythonhosted.org/packages/25/de/da019bcc539eeab02f6d45836f23858ac467f584bfec7a526ef200242afe/h2-3.2.0-py2.py3-none-any.whl (65kB)\n",
            "\u001b[K     |████████████████████████████████| 71kB 11.8MB/s \n",
            "\u001b[?25hCollecting contextvars>=2.1; python_version < \"3.7\"\n",
            "  Downloading https://files.pythonhosted.org/packages/83/96/55b82d9f13763be9d672622e1b8106c85acb83edd7cc2fa5bc67cd9877e9/contextvars-2.4.tar.gz\n",
            "Collecting hpack<4,>=3.0\n",
            "  Downloading https://files.pythonhosted.org/packages/8a/cc/e53517f4a1e13f74776ca93271caef378dadec14d71c61c949d759d3db69/hpack-3.0.0-py2.py3-none-any.whl\n",
            "Collecting hyperframe<6,>=5.2.0\n",
            "  Downloading https://files.pythonhosted.org/packages/19/0c/bf88182bcb5dce3094e2f3e4fe20db28a9928cb7bd5b08024030e4b140db/hyperframe-5.2.0-py2.py3-none-any.whl\n",
            "Collecting immutables>=0.9\n",
            "\u001b[?25l  Downloading https://files.pythonhosted.org/packages/99/e0/ea6fd4697120327d26773b5a84853f897a68e33d3f9376b00a8ff96e4f63/immutables-0.14-cp36-cp36m-manylinux1_x86_64.whl (98kB)\n",
            "\u001b[K     |████████████████████████████████| 102kB 14.5MB/s \n",
            "\u001b[?25hBuilding wheels for collected packages: googletrans, contextvars\n",
            "  Building wheel for googletrans (setup.py) ... \u001b[?25l\u001b[?25hdone\n",
            "  Created wheel for googletrans: filename=googletrans-3.0.0-cp36-none-any.whl size=15736 sha256=2d57653030105a610d74c8fb42134257903f17c4009d99b679e632f5b68b704b\n",
            "  Stored in directory: /root/.cache/pip/wheels/28/1a/a7/eaf4d7a3417a0c65796c547cff4deb6d79c7d14c2abd29273e\n",
            "  Building wheel for contextvars (setup.py) ... \u001b[?25l\u001b[?25hdone\n",
            "  Created wheel for contextvars: filename=contextvars-2.4-cp36-none-any.whl size=7666 sha256=d1765f4e2775425c7ad0ec2d1d0a6e82c77b985a0f3d14befa651a830e016384\n",
            "  Stored in directory: /root/.cache/pip/wheels/a5/7d/68/1ebae2668bda2228686e3c1cf16f2c2384cea6e9334ad5f6de\n",
            "Successfully built googletrans contextvars\n",
            "Installing collected packages: h11, hpack, hyperframe, h2, immutables, contextvars, sniffio, httpcore, rfc3986, hstspreload, httpx, googletrans\n",
            "Successfully installed contextvars-2.4 googletrans-3.0.0 h11-0.9.0 h2-3.2.0 hpack-3.0.0 hstspreload-2020.9.9 httpcore-0.9.1 httpx-0.13.3 hyperframe-5.2.0 immutables-0.14 rfc3986-1.4.0 sniffio-1.1.0\n"
          ],
          "name": "stdout"
        }
      ]
    },
    {
      "cell_type": "code",
      "metadata": {
        "id": "9nd4u1Qz6ms5",
        "colab_type": "code",
        "colab": {
          "base_uri": "https://localhost:8080/",
          "height": 121
        },
        "outputId": "020c3ef4-b6f2-4e60-e479-a99a6dc35e20"
      },
      "source": [
        "!pip install sentencepiece"
      ],
      "execution_count": 8,
      "outputs": [
        {
          "output_type": "stream",
          "text": [
            "Collecting sentencepiece\n",
            "\u001b[?25l  Downloading https://files.pythonhosted.org/packages/d4/a4/d0a884c4300004a78cca907a6ff9a5e9fe4f090f5d95ab341c53d28cbc58/sentencepiece-0.1.91-cp36-cp36m-manylinux1_x86_64.whl (1.1MB)\n",
            "\r\u001b[K     |▎                               | 10kB 28.0MB/s eta 0:00:01\r\u001b[K     |▋                               | 20kB 3.4MB/s eta 0:00:01\r\u001b[K     |█                               | 30kB 4.6MB/s eta 0:00:01\r\u001b[K     |█▏                              | 40kB 4.9MB/s eta 0:00:01\r\u001b[K     |█▌                              | 51kB 4.0MB/s eta 0:00:01\r\u001b[K     |█▉                              | 61kB 4.5MB/s eta 0:00:01\r\u001b[K     |██▏                             | 71kB 4.9MB/s eta 0:00:01\r\u001b[K     |██▍                             | 81kB 5.3MB/s eta 0:00:01\r\u001b[K     |██▊                             | 92kB 5.7MB/s eta 0:00:01\r\u001b[K     |███                             | 102kB 5.5MB/s eta 0:00:01\r\u001b[K     |███▍                            | 112kB 5.5MB/s eta 0:00:01\r\u001b[K     |███▋                            | 122kB 5.5MB/s eta 0:00:01\r\u001b[K     |████                            | 133kB 5.5MB/s eta 0:00:01\r\u001b[K     |████▎                           | 143kB 5.5MB/s eta 0:00:01\r\u001b[K     |████▋                           | 153kB 5.5MB/s eta 0:00:01\r\u001b[K     |████▉                           | 163kB 5.5MB/s eta 0:00:01\r\u001b[K     |█████▏                          | 174kB 5.5MB/s eta 0:00:01\r\u001b[K     |█████▌                          | 184kB 5.5MB/s eta 0:00:01\r\u001b[K     |█████▉                          | 194kB 5.5MB/s eta 0:00:01\r\u001b[K     |██████                          | 204kB 5.5MB/s eta 0:00:01\r\u001b[K     |██████▍                         | 215kB 5.5MB/s eta 0:00:01\r\u001b[K     |██████▊                         | 225kB 5.5MB/s eta 0:00:01\r\u001b[K     |███████                         | 235kB 5.5MB/s eta 0:00:01\r\u001b[K     |███████▎                        | 245kB 5.5MB/s eta 0:00:01\r\u001b[K     |███████▋                        | 256kB 5.5MB/s eta 0:00:01\r\u001b[K     |████████                        | 266kB 5.5MB/s eta 0:00:01\r\u001b[K     |████████▎                       | 276kB 5.5MB/s eta 0:00:01\r\u001b[K     |████████▌                       | 286kB 5.5MB/s eta 0:00:01\r\u001b[K     |████████▉                       | 296kB 5.5MB/s eta 0:00:01\r\u001b[K     |█████████▏                      | 307kB 5.5MB/s eta 0:00:01\r\u001b[K     |█████████▌                      | 317kB 5.5MB/s eta 0:00:01\r\u001b[K     |█████████▊                      | 327kB 5.5MB/s eta 0:00:01\r\u001b[K     |██████████                      | 337kB 5.5MB/s eta 0:00:01\r\u001b[K     |██████████▍                     | 348kB 5.5MB/s eta 0:00:01\r\u001b[K     |██████████▊                     | 358kB 5.5MB/s eta 0:00:01\r\u001b[K     |███████████                     | 368kB 5.5MB/s eta 0:00:01\r\u001b[K     |███████████▎                    | 378kB 5.5MB/s eta 0:00:01\r\u001b[K     |███████████▋                    | 389kB 5.5MB/s eta 0:00:01\r\u001b[K     |████████████                    | 399kB 5.5MB/s eta 0:00:01\r\u001b[K     |████████████▏                   | 409kB 5.5MB/s eta 0:00:01\r\u001b[K     |████████████▌                   | 419kB 5.5MB/s eta 0:00:01\r\u001b[K     |████████████▉                   | 430kB 5.5MB/s eta 0:00:01\r\u001b[K     |█████████████▏                  | 440kB 5.5MB/s eta 0:00:01\r\u001b[K     |█████████████▍                  | 450kB 5.5MB/s eta 0:00:01\r\u001b[K     |█████████████▊                  | 460kB 5.5MB/s eta 0:00:01\r\u001b[K     |██████████████                  | 471kB 5.5MB/s eta 0:00:01\r\u001b[K     |██████████████▍                 | 481kB 5.5MB/s eta 0:00:01\r\u001b[K     |██████████████▋                 | 491kB 5.5MB/s eta 0:00:01\r\u001b[K     |███████████████                 | 501kB 5.5MB/s eta 0:00:01\r\u001b[K     |███████████████▎                | 512kB 5.5MB/s eta 0:00:01\r\u001b[K     |███████████████▋                | 522kB 5.5MB/s eta 0:00:01\r\u001b[K     |███████████████▉                | 532kB 5.5MB/s eta 0:00:01\r\u001b[K     |████████████████▏               | 542kB 5.5MB/s eta 0:00:01\r\u001b[K     |████████████████▌               | 552kB 5.5MB/s eta 0:00:01\r\u001b[K     |████████████████▉               | 563kB 5.5MB/s eta 0:00:01\r\u001b[K     |█████████████████               | 573kB 5.5MB/s eta 0:00:01\r\u001b[K     |█████████████████▍              | 583kB 5.5MB/s eta 0:00:01\r\u001b[K     |█████████████████▊              | 593kB 5.5MB/s eta 0:00:01\r\u001b[K     |██████████████████              | 604kB 5.5MB/s eta 0:00:01\r\u001b[K     |██████████████████▎             | 614kB 5.5MB/s eta 0:00:01\r\u001b[K     |██████████████████▋             | 624kB 5.5MB/s eta 0:00:01\r\u001b[K     |███████████████████             | 634kB 5.5MB/s eta 0:00:01\r\u001b[K     |███████████████████▎            | 645kB 5.5MB/s eta 0:00:01\r\u001b[K     |███████████████████▌            | 655kB 5.5MB/s eta 0:00:01\r\u001b[K     |███████████████████▉            | 665kB 5.5MB/s eta 0:00:01\r\u001b[K     |████████████████████▏           | 675kB 5.5MB/s eta 0:00:01\r\u001b[K     |████████████████████▌           | 686kB 5.5MB/s eta 0:00:01\r\u001b[K     |████████████████████▊           | 696kB 5.5MB/s eta 0:00:01\r\u001b[K     |█████████████████████           | 706kB 5.5MB/s eta 0:00:01\r\u001b[K     |█████████████████████▍          | 716kB 5.5MB/s eta 0:00:01\r\u001b[K     |█████████████████████▋          | 727kB 5.5MB/s eta 0:00:01\r\u001b[K     |██████████████████████          | 737kB 5.5MB/s eta 0:00:01\r\u001b[K     |██████████████████████▎         | 747kB 5.5MB/s eta 0:00:01\r\u001b[K     |██████████████████████▋         | 757kB 5.5MB/s eta 0:00:01\r\u001b[K     |██████████████████████▉         | 768kB 5.5MB/s eta 0:00:01\r\u001b[K     |███████████████████████▏        | 778kB 5.5MB/s eta 0:00:01\r\u001b[K     |███████████████████████▌        | 788kB 5.5MB/s eta 0:00:01\r\u001b[K     |███████████████████████▉        | 798kB 5.5MB/s eta 0:00:01\r\u001b[K     |████████████████████████        | 808kB 5.5MB/s eta 0:00:01\r\u001b[K     |████████████████████████▍       | 819kB 5.5MB/s eta 0:00:01\r\u001b[K     |████████████████████████▊       | 829kB 5.5MB/s eta 0:00:01\r\u001b[K     |█████████████████████████       | 839kB 5.5MB/s eta 0:00:01\r\u001b[K     |█████████████████████████▎      | 849kB 5.5MB/s eta 0:00:01\r\u001b[K     |█████████████████████████▋      | 860kB 5.5MB/s eta 0:00:01\r\u001b[K     |██████████████████████████      | 870kB 5.5MB/s eta 0:00:01\r\u001b[K     |██████████████████████████▎     | 880kB 5.5MB/s eta 0:00:01\r\u001b[K     |██████████████████████████▌     | 890kB 5.5MB/s eta 0:00:01\r\u001b[K     |██████████████████████████▉     | 901kB 5.5MB/s eta 0:00:01\r\u001b[K     |███████████████████████████▏    | 911kB 5.5MB/s eta 0:00:01\r\u001b[K     |███████████████████████████▌    | 921kB 5.5MB/s eta 0:00:01\r\u001b[K     |███████████████████████████▊    | 931kB 5.5MB/s eta 0:00:01\r\u001b[K     |████████████████████████████    | 942kB 5.5MB/s eta 0:00:01\r\u001b[K     |████████████████████████████▍   | 952kB 5.5MB/s eta 0:00:01\r\u001b[K     |████████████████████████████▊   | 962kB 5.5MB/s eta 0:00:01\r\u001b[K     |█████████████████████████████   | 972kB 5.5MB/s eta 0:00:01\r\u001b[K     |█████████████████████████████▎  | 983kB 5.5MB/s eta 0:00:01\r\u001b[K     |█████████████████████████████▋  | 993kB 5.5MB/s eta 0:00:01\r\u001b[K     |██████████████████████████████  | 1.0MB 5.5MB/s eta 0:00:01\r\u001b[K     |██████████████████████████████▏ | 1.0MB 5.5MB/s eta 0:00:01\r\u001b[K     |██████████████████████████████▌ | 1.0MB 5.5MB/s eta 0:00:01\r\u001b[K     |██████████████████████████████▉ | 1.0MB 5.5MB/s eta 0:00:01\r\u001b[K     |███████████████████████████████▏| 1.0MB 5.5MB/s eta 0:00:01\r\u001b[K     |███████████████████████████████▍| 1.1MB 5.5MB/s eta 0:00:01\r\u001b[K     |███████████████████████████████▊| 1.1MB 5.5MB/s eta 0:00:01\r\u001b[K     |████████████████████████████████| 1.1MB 5.5MB/s \n",
            "\u001b[?25hInstalling collected packages: sentencepiece\n",
            "Successfully installed sentencepiece-0.1.91\n"
          ],
          "name": "stdout"
        }
      ]
    },
    {
      "cell_type": "code",
      "metadata": {
        "id": "xz4z3kOPjpxi",
        "colab_type": "code",
        "colab": {
          "base_uri": "https://localhost:8080/",
          "height": 289
        },
        "outputId": "d2a8e125-2cf0-419f-eebf-909bd379403c"
      },
      "source": [
        "!pip install googletrans"
      ],
      "execution_count": 9,
      "outputs": [
        {
          "output_type": "stream",
          "text": [
            "Requirement already satisfied: googletrans in /usr/local/lib/python3.6/dist-packages (3.0.0)\n",
            "Requirement already satisfied: httpx==0.13.3 in /usr/local/lib/python3.6/dist-packages (from googletrans) (0.13.3)\n",
            "Requirement already satisfied: certifi in /usr/local/lib/python3.6/dist-packages (from httpx==0.13.3->googletrans) (2020.6.20)\n",
            "Requirement already satisfied: hstspreload in /usr/local/lib/python3.6/dist-packages (from httpx==0.13.3->googletrans) (2020.9.9)\n",
            "Requirement already satisfied: chardet==3.* in /usr/local/lib/python3.6/dist-packages (from httpx==0.13.3->googletrans) (3.0.4)\n",
            "Requirement already satisfied: sniffio in /usr/local/lib/python3.6/dist-packages (from httpx==0.13.3->googletrans) (1.1.0)\n",
            "Requirement already satisfied: httpcore==0.9.* in /usr/local/lib/python3.6/dist-packages (from httpx==0.13.3->googletrans) (0.9.1)\n",
            "Requirement already satisfied: idna==2.* in /usr/local/lib/python3.6/dist-packages (from httpx==0.13.3->googletrans) (2.10)\n",
            "Requirement already satisfied: rfc3986<2,>=1.3 in /usr/local/lib/python3.6/dist-packages (from httpx==0.13.3->googletrans) (1.4.0)\n",
            "Requirement already satisfied: contextvars>=2.1; python_version < \"3.7\" in /usr/local/lib/python3.6/dist-packages (from sniffio->httpx==0.13.3->googletrans) (2.4)\n",
            "Requirement already satisfied: h11<0.10,>=0.8 in /usr/local/lib/python3.6/dist-packages (from httpcore==0.9.*->httpx==0.13.3->googletrans) (0.9.0)\n",
            "Requirement already satisfied: h2==3.* in /usr/local/lib/python3.6/dist-packages (from httpcore==0.9.*->httpx==0.13.3->googletrans) (3.2.0)\n",
            "Requirement already satisfied: immutables>=0.9 in /usr/local/lib/python3.6/dist-packages (from contextvars>=2.1; python_version < \"3.7\"->sniffio->httpx==0.13.3->googletrans) (0.14)\n",
            "Requirement already satisfied: hpack<4,>=3.0 in /usr/local/lib/python3.6/dist-packages (from h2==3.*->httpcore==0.9.*->httpx==0.13.3->googletrans) (3.0.0)\n",
            "Requirement already satisfied: hyperframe<6,>=5.2.0 in /usr/local/lib/python3.6/dist-packages (from h2==3.*->httpcore==0.9.*->httpx==0.13.3->googletrans) (5.2.0)\n"
          ],
          "name": "stdout"
        }
      ]
    },
    {
      "cell_type": "code",
      "metadata": {
        "id": "VLPwBaua6jf2",
        "colab_type": "code",
        "colab": {
          "base_uri": "https://localhost:8080/",
          "height": 70
        },
        "outputId": "d1da6753-9786-4163-e1f9-e86431931ecc"
      },
      "source": [
        "import os\n",
        "import math\n",
        "import datetime\n",
        "\n",
        "from tqdm import tqdm\n",
        "\n",
        "import pandas as pd\n",
        "import numpy as np\n",
        "\n",
        "import tensorflow as tf\n",
        "from tensorflow import keras\n",
        "\n",
        "import bert\n",
        "from bert import BertModelLayer\n",
        "from bert.loader import StockBertConfig, map_stock_config_to_params, load_stock_weights\n",
        "from bert.tokenization.bert_tokenization import FullTokenizer\n",
        "\n",
        "import seaborn as sns\n",
        "from pylab import rcParams\n",
        "import matplotlib.pyplot as plt\n",
        "from matplotlib.ticker import MaxNLocator\n",
        "from matplotlib import rc\n",
        "\n",
        "from sklearn.metrics import confusion_matrix, classification_report\n",
        "\n",
        "import re\n",
        "\n",
        "# translator\n",
        "import googletrans\n",
        "from googletrans import Translator\n",
        "\n",
        "%matplotlib inline\n",
        "%config InlineBackend.figure_format='retina'\n",
        "\n",
        "sns.set(style='whitegrid', palette='muted', font_scale=1.2)\n",
        "\n",
        "HAPPY_COLORS_PALETTE = [\"#01BEFE\", \"#FFDD00\", \"#FF7D00\", \"#FF006D\"]\n",
        "\n",
        "sns.set_palette(sns.color_palette(HAPPY_COLORS_PALETTE))\n",
        "\n",
        "rcParams['figure.figsize'] = 12, 8\n",
        "\n",
        "RANDOM_SEED = 42\n",
        "\n",
        "np.random.seed(RANDOM_SEED)\n",
        "tf.random.set_seed(RANDOM_SEED)"
      ],
      "execution_count": 10,
      "outputs": [
        {
          "output_type": "stream",
          "text": [
            "/usr/local/lib/python3.6/dist-packages/statsmodels/tools/_testing.py:19: FutureWarning: pandas.util.testing is deprecated. Use the functions in the public API at pandas.testing instead.\n",
            "  import pandas.util.testing as tm\n"
          ],
          "name": "stderr"
        }
      ]
    },
    {
      "cell_type": "markdown",
      "metadata": {
        "id": "CzkSXum8RzGM",
        "colab_type": "text"
      },
      "source": [
        "# Data\n"
      ]
    },
    {
      "cell_type": "code",
      "metadata": {
        "id": "eL2BmRgYIZkl",
        "colab_type": "code",
        "colab": {
          "base_uri": "https://localhost:8080/",
          "height": 151
        },
        "outputId": "c29c17bf-da25-47fc-fb4d-55f80a87f241"
      },
      "source": [
        "# Hindi translated data\n",
        "!gdown --id 1zJVv_Ldh5vhDmw2mJSrgMcKlLt1fWyBw --output data-task1.csv\n",
        "\n",
        "# Hindi data\n",
        "!gdown --id 1EQRLvSUJn6VxFluTqNEGxXcV8_5OmCaW --output data-task3.csv"
      ],
      "execution_count": 11,
      "outputs": [
        {
          "output_type": "stream",
          "text": [
            "Downloading...\n",
            "From: https://drive.google.com/uc?id=1zJVv_Ldh5vhDmw2mJSrgMcKlLt1fWyBw\n",
            "To: /content/data-task1.csv\n",
            "100% 797k/797k [00:00<00:00, 107MB/s]\n",
            "Downloading...\n",
            "From: https://drive.google.com/uc?id=1EQRLvSUJn6VxFluTqNEGxXcV8_5OmCaW\n",
            "To: /content/data-task3.csv\n",
            "100% 1.63M/1.63M [00:00<00:00, 108MB/s]\n"
          ],
          "name": "stdout"
        }
      ]
    },
    {
      "cell_type": "code",
      "metadata": {
        "id": "t58Xz1hphnXR",
        "colab_type": "code",
        "colab": {}
      },
      "source": [
        "orig_df = pd.read_csv('data-task3.csv', \n",
        "                   delimiter=',')\n",
        "orig_df.columns = ['Text', 'Label']\n",
        "orig_df.head(15)\n",
        "orig_df[\"Text\"] = orig_df[\"Text\"].astype(str)\n",
        "orig_df[\"Label\"] = orig_df[\"Label\"].astype(str)"
      ],
      "execution_count": 12,
      "outputs": []
    },
    {
      "cell_type": "code",
      "metadata": {
        "id": "z6mq9_-bhywO",
        "colab_type": "code",
        "colab": {
          "base_uri": "https://localhost:8080/",
          "height": 35
        },
        "outputId": "97020530-7dbc-4564-e506-d7b7c3c0894c"
      },
      "source": [
        "orig_df.Text[3]"
      ],
      "execution_count": 13,
      "outputs": [
        {
          "output_type": "execute_result",
          "data": {
            "application/vnd.google.colaboratory.intrinsic+json": {
              "type": "string"
            },
            "text/plain": [
              "\"'अमीन के 500 से अधिक छात्रों ने सर्वे भवन के गेट पर आधा नंगा होकर किया प्रदर्शन  पप्पू यादव ने बुलंद की\\\\xa0आवाज\""
            ]
          },
          "metadata": {
            "tags": []
          },
          "execution_count": 13
        }
      ]
    },
    {
      "cell_type": "code",
      "metadata": {
        "id": "IJh-QX6w4J0_",
        "colab_type": "code",
        "colab": {}
      },
      "source": [
        "df = pd.read_csv('data-task1.csv', \n",
        "                   delimiter=',')\n",
        "df.columns = ['Text', 'Label']\n",
        "df.head(15)\n",
        "df[\"Text\"] = df[\"Text\"].astype(str)\n",
        "df[\"Label\"] = df[\"Label\"].astype(str)"
      ],
      "execution_count": 14,
      "outputs": []
    },
    {
      "cell_type": "code",
      "metadata": {
        "id": "97OSfZBmiBwh",
        "colab_type": "code",
        "colab": {
          "base_uri": "https://localhost:8080/",
          "height": 35
        },
        "outputId": "5358e099-be3c-47a6-d4ef-519ea116d151"
      },
      "source": [
        "df.Text[3]"
      ],
      "execution_count": 15,
      "outputs": [
        {
          "output_type": "execute_result",
          "data": {
            "application/vnd.google.colaboratory.intrinsic+json": {
              "type": "string"
            },
            "text/plain": [
              "\"'More than 500 students of Amin performed half-naked at the gate of the survey building. Pappu Yadav raised his voice\""
            ]
          },
          "metadata": {
            "tags": []
          },
          "execution_count": 15
        }
      ]
    },
    {
      "cell_type": "code",
      "metadata": {
        "id": "lh6sCSOy46_B",
        "colab_type": "code",
        "colab": {
          "base_uri": "https://localhost:8080/",
          "height": 287
        },
        "outputId": "fe5391a8-1639-455d-84be-c99782a62df8"
      },
      "source": [
        "import matplotlib.pyplot as plt\n",
        "fig = plt.figure(figsize=(6,4))\n",
        "df.groupby('Label').Text.count().plot.bar(ylim=0)\n",
        "plt.show()"
      ],
      "execution_count": 16,
      "outputs": [
        {
          "output_type": "display_data",
          "data": {
            "image/png": "[encoded data removed]",
            "text/plain": [
              "<Figure size 432x288 with 1 Axes>"
            ]
          },
          "metadata": {
            "tags": [],
            "image/png": {
              "width": 392,
              "height": 270
            }
          }
        }
      ]
    },
    {
      "cell_type": "code",
      "metadata": {
        "id": "dgm-l6QI47G2",
        "colab_type": "code",
        "colab": {
          "base_uri": "https://localhost:8080/",
          "height": 84
        },
        "outputId": "e558e7ec-a5ae-42fa-a826-ed775f4cb4cc"
      },
      "source": [
        "\n",
        "# For entire dataset sentences for each labels \n",
        "df.Label.value_counts()"
      ],
      "execution_count": 17,
      "outputs": [
        {
          "output_type": "execute_result",
          "data": {
            "text/plain": [
              "2    3373\n",
              "0    3245\n",
              "1    2172\n",
              "Name: Label, dtype: int64"
            ]
          },
          "metadata": {
            "tags": []
          },
          "execution_count": 17
        }
      ]
    },
    {
      "cell_type": "code",
      "metadata": {
        "id": "LGv6WWPqoOJO",
        "colab_type": "code",
        "colab": {}
      },
      "source": [
        "#balancing data \n",
        "from collections import Counter\n",
        "import numpy as np\n",
        "def balanceClasses(xs, ys):\n",
        "    item = {}\n",
        "    new_ys = []\n",
        "    new_xs = []\n",
        "    #\"\"\"Undersample xs, ys to balance classes.\"\"\"\n",
        "    freqs = Counter(ys)\n",
        "    # the most common class  is the maximum number we want for all classes\n",
        "    max_allowable = (freqs.most_common()[0][1])\n",
        "    \n",
        "    for val in freqs.most_common(): # List\n",
        "        nums = np.random.randint(1000)\n",
        "        i = 1\n",
        "        item[val[0]] = max_allowable - val[1]\n",
        "        \n",
        "        if item[val[0]] > 0:            \n",
        "            while(item[val[0]] - i != 0): \n",
        "                nums = nums + 1\n",
        "                if ys[nums] == val[0]:\n",
        "                    i += 1\n",
        "                    new_ys.append(ys[nums])\n",
        "                    new_xs.append(xs[nums])\n",
        "    return new_xs, new_ys"
      ],
      "execution_count": 18,
      "outputs": []
    },
    {
      "cell_type": "code",
      "metadata": {
        "id": "ibIWzEi_oPW9",
        "colab_type": "code",
        "colab": {}
      },
      "source": [
        "new_text, new_label = balanceClasses(df['Text'], df['Label'])"
      ],
      "execution_count": 19,
      "outputs": []
    },
    {
      "cell_type": "code",
      "metadata": {
        "id": "AZkU8zzToTuw",
        "colab_type": "code",
        "colab": {}
      },
      "source": [
        "data_df = pd.DataFrame(new_text)\n",
        "data_df.columns = ['Text']\n",
        "data_df['Label'] = new_label\n",
        "data_df = pd.concat([df, data_df])"
      ],
      "execution_count": 20,
      "outputs": []
    },
    {
      "cell_type": "code",
      "metadata": {
        "id": "q-_yOPFzoWTF",
        "colab_type": "code",
        "colab": {
          "base_uri": "https://localhost:8080/",
          "height": 287
        },
        "outputId": "204e6658-78da-45b6-b695-dd89ec894029"
      },
      "source": [
        "fig1 = plt.figure(figsize=(6,4))\n",
        "data_df.groupby('Label').Text.count().plot.bar(ylim=0)\n",
        "plt.show()"
      ],
      "execution_count": 21,
      "outputs": [
        {
          "output_type": "display_data",
          "data": {
            "image/png": "[encoded data removed]",
            "text/plain": [
              "<Figure size 432x288 with 1 Axes>"
            ]
          },
          "metadata": {
            "tags": [],
            "image/png": {
              "width": 392,
              "height": 270
            }
          }
        }
      ]
    },
    {
      "cell_type": "code",
      "metadata": {
        "id": "X9ExXbzooac2",
        "colab_type": "code",
        "colab": {}
      },
      "source": [
        "df = data_df"
      ],
      "execution_count": 22,
      "outputs": []
    },
    {
      "cell_type": "code",
      "metadata": {
        "id": "1I2T1KqdofBV",
        "colab_type": "code",
        "colab": {
          "base_uri": "https://localhost:8080/",
          "height": 84
        },
        "outputId": "5e76a784-dc60-414a-cd28-70c28046b565"
      },
      "source": [
        "df.Label.value_counts()"
      ],
      "execution_count": 23,
      "outputs": [
        {
          "output_type": "execute_result",
          "data": {
            "text/plain": [
              "2    3373\n",
              "0    3372\n",
              "1    3372\n",
              "Name: Label, dtype: int64"
            ]
          },
          "metadata": {
            "tags": []
          },
          "execution_count": 23
        }
      ]
    },
    {
      "cell_type": "code",
      "metadata": {
        "id": "kf3151rv47Jn",
        "colab_type": "code",
        "colab": {
          "base_uri": "https://localhost:8080/",
          "height": 402
        },
        "outputId": "04003b33-8f28-4d66-c0dc-0a633e78916c"
      },
      "source": [
        "df=df.sample(frac=1).reset_index(drop=True)\n",
        "df"
      ],
      "execution_count": 24,
      "outputs": [
        {
          "output_type": "execute_result",
          "data": {
            "text/html": [
              "<div>\n",
              "<style scoped>\n",
              "    .dataframe tbody tr th:only-of-type {\n",
              "        vertical-align: middle;\n",
              "    }\n",
              "\n",
              "    .dataframe tbody tr th {\n",
              "        vertical-align: top;\n",
              "    }\n",
              "\n",
              "    .dataframe thead th {\n",
              "        text-align: right;\n",
              "    }\n",
              "</style>\n",
              "<table border=\"1\" class=\"dataframe\">\n",
              "  <thead>\n",
              "    <tr style=\"text-align: right;\">\n",
              "      <th></th>\n",
              "      <th>Text</th>\n",
              "      <th>Label</th>\n",
              "    </tr>\n",
              "  </thead>\n",
              "  <tbody>\n",
              "    <tr>\n",
              "      <th>0</th>\n",
              "      <td>'To all those who have saluted,' Alaqum Aslam ...</td>\n",
              "      <td>1</td>\n",
              "    </tr>\n",
              "    <tr>\n",
              "      <th>1</th>\n",
              "      <td>'@Jalajisay for the last Congress is Lallu ji ...</td>\n",
              "      <td>0</td>\n",
              "    </tr>\n",
              "    <tr>\n",
              "      <th>2</th>\n",
              "      <td>'Happy Birthday to the Respected Mother, Mars....</td>\n",
              "      <td>0</td>\n",
              "    </tr>\n",
              "    <tr>\n",
              "      <th>3</th>\n",
              "      <td>Happy Islamic New Year, your approved bag Sarv...</td>\n",
              "      <td>1</td>\n",
              "    </tr>\n",
              "    <tr>\n",
              "      <th>4</th>\n",
              "      <td>'@ Pablo_neharu_da @ sunita_yadava 122 uare a ...</td>\n",
              "      <td>2</td>\n",
              "    </tr>\n",
              "    <tr>\n",
              "      <th>...</th>\n",
              "      <td>...</td>\n",
              "      <td>...</td>\n",
              "    </tr>\n",
              "    <tr>\n",
              "      <th>10112</th>\n",
              "      <td>'@ imMAK02 @ pbhushan1 you will also have to a...</td>\n",
              "      <td>2</td>\n",
              "    </tr>\n",
              "    <tr>\n",
              "      <th>10113</th>\n",
              "      <td>'What is Jihadist, Radical and Radical Terror?...</td>\n",
              "      <td>2</td>\n",
              "    </tr>\n",
              "    <tr>\n",
              "      <th>10114</th>\n",
              "      <td>'Which country has that Surat e Ilahi settled,...</td>\n",
              "      <td>1</td>\n",
              "    </tr>\n",
              "    <tr>\n",
              "      <th>10115</th>\n",
              "      <td>'@mysandeepmishra NRC is required. Find the ji...</td>\n",
              "      <td>2</td>\n",
              "    </tr>\n",
              "    <tr>\n",
              "      <th>10116</th>\n",
              "      <td>Happy Islamic New Year \"1442 Hijri\" to 'Alam-e...</td>\n",
              "      <td>1</td>\n",
              "    </tr>\n",
              "  </tbody>\n",
              "</table>\n",
              "<p>10117 rows × 2 columns</p>\n",
              "</div>"
            ],
            "text/plain": [
              "                                                    Text Label\n",
              "0      'To all those who have saluted,' Alaqum Aslam ...     1\n",
              "1      '@Jalajisay for the last Congress is Lallu ji ...     0\n",
              "2      'Happy Birthday to the Respected Mother, Mars....     0\n",
              "3      Happy Islamic New Year, your approved bag Sarv...     1\n",
              "4      '@ Pablo_neharu_da @ sunita_yadava 122 uare a ...     2\n",
              "...                                                  ...   ...\n",
              "10112  '@ imMAK02 @ pbhushan1 you will also have to a...     2\n",
              "10113  'What is Jihadist, Radical and Radical Terror?...     2\n",
              "10114  'Which country has that Surat e Ilahi settled,...     1\n",
              "10115  '@mysandeepmishra NRC is required. Find the ji...     2\n",
              "10116  Happy Islamic New Year \"1442 Hijri\" to 'Alam-e...     1\n",
              "\n",
              "[10117 rows x 2 columns]"
            ]
          },
          "metadata": {
            "tags": []
          },
          "execution_count": 24
        }
      ]
    },
    {
      "cell_type": "markdown",
      "metadata": {
        "id": "pA7mei-y5IZi",
        "colab_type": "text"
      },
      "source": [
        "Data Preprocessing"
      ]
    },
    {
      "cell_type": "code",
      "metadata": {
        "id": "8Qgo-O_U47Ma",
        "colab_type": "code",
        "colab": {}
      },
      "source": [
        "def ReplaceDoubleColon(inputString):\n",
        "    return inputString.replace(\"..\", \" \") \n",
        "\n",
        "df['Text'] = df['Text'].apply(lambda x: ReplaceDoubleColon(x))\n",
        "\n",
        "def ReplaceTripleColon(inputString):\n",
        "    return inputString.replace(\"...\", \" \") \n",
        "\n",
        "df['Text'] = df['Text'].apply(lambda x: ReplaceTripleColon(x))\n",
        "\n",
        "def ReplaceFourColon(inputString):\n",
        "    return inputString.replace(\"....\", \" \") \n",
        "\n",
        "df['Text'] = df['Text'].apply(lambda x: ReplaceFourColon(x))"
      ],
      "execution_count": 25,
      "outputs": []
    },
    {
      "cell_type": "code",
      "metadata": {
        "id": "Lc57tBFU6KuZ",
        "colab_type": "code",
        "colab": {}
      },
      "source": [
        "def textPattern(text):\n",
        "\n",
        "    # Clean the text\n",
        "    text = re.sub(r\"[^A-Za-z0-9^,!.\\/'+-=]\", \" \", text)\n",
        "    text = re.sub(r\" \\n \", \" \", text)\n",
        "    text = re.sub(r\"what's\", \"what is\", text)\n",
        "    text = re.sub(r\"\\'s\", \" \", text)\n",
        "    text = re.sub(r\"\\'ve\", \"have\", text)\n",
        "    text = re.sub(r\"can't\", \"can not\", text)\n",
        "    text = re.sub(r\"aren't\", \"are not\", text)\n",
        "    text = re.sub(r\"couldn't\", \"could not\", text)\n",
        "    text = re.sub(r\"didn't\", \"did not\", text)\n",
        "    text = re.sub(r\"doesn't\", \"does not\", text)\n",
        "    text = re.sub(r\"don't\", \"do not\", text)\n",
        "    text = re.sub(r\"hadn't\", \"had not\", text)\n",
        "    text = re.sub(r\"hasn't\", \"has not\", text)\n",
        "    text = re.sub(r\"haven't\", \"have not\", text)\n",
        "    text = re.sub(r\"isn't\", \"is not\", text)\n",
        "    text = re.sub(r\"shouldn't\", \"should not\", text)\n",
        "    text = re.sub(r\"wasn't\", \"was not\", text)\n",
        "    text = re.sub(r\"weren't\", \"were not\", text)\n",
        "    text = re.sub(r\"won't\", \"will not\", text)\n",
        "    text = re.sub(r\"wouldn't\", \"would not\", text)\n",
        "    text = re.sub(r\"mustn't\", \"must not\", text)\n",
        "    text = re.sub(r\"i'm\", \"i am\", text)\n",
        "    text = re.sub(r\"\\'re\", \"are\", text)\n",
        "    text = re.sub(r\",\", \" \", text)\n",
        "    text = re.sub(r\"\\.\", \" \", text)\n",
        "    text = re.sub(r\"!\", \" \", text)\n",
        "    text = re.sub(r\"\\/\", \" \", text)\n",
        "    text = re.sub(r\"\\^\", \" ^ \", text)\n",
        "    text = re.sub(r\"\\+\", \" \", text)\n",
        "    text = re.sub(r\"\\-\", \" - \", text)\n",
        "    text = re.sub(r\"\\= =\", \" \", text)\n",
        "    text = re.sub(r\"\\==\", \" \", text)\n",
        "    text = re.sub(r\"'\", \" \", text)\n",
        "    text = re.sub(r\"(\\d+)(k)\", r\"\\g<1>000\", text)\n",
        "    text = re.sub(r\":\", \" : \", text)\n",
        "    text = re.sub(r\"\\0s\", \"0\", text)\n",
        "    text = re.sub(r\" 9 11 \", \"911\", text)\n",
        "    text = re.sub(r\"\\s{2,}\", \" \", text)\n",
        "    return text\n",
        "\n",
        "df['Text'] = df['Text'].apply(lambda x: textPattern(x))"
      ],
      "execution_count": 26,
      "outputs": []
    },
    {
      "cell_type": "code",
      "metadata": {
        "id": "uxT19ii26zNC",
        "colab_type": "code",
        "colab": {}
      },
      "source": [
        "from sklearn.model_selection import train_test_split\n",
        "train, test = train_test_split(df, test_size=0.10, random_state=42)"
      ],
      "execution_count": 27,
      "outputs": []
    },
    {
      "cell_type": "code",
      "metadata": {
        "id": "i4cZ4oi_TTfC",
        "colab_type": "code",
        "colab": {
          "base_uri": "https://localhost:8080/",
          "height": 195
        },
        "outputId": "896ed50a-e2c0-48c9-a28c-324bad8c4e53"
      },
      "source": [
        "df.head()"
      ],
      "execution_count": 28,
      "outputs": [
        {
          "output_type": "execute_result",
          "data": {
            "text/html": [
              "<div>\n",
              "<style scoped>\n",
              "    .dataframe tbody tr th:only-of-type {\n",
              "        vertical-align: middle;\n",
              "    }\n",
              "\n",
              "    .dataframe tbody tr th {\n",
              "        vertical-align: top;\n",
              "    }\n",
              "\n",
              "    .dataframe thead th {\n",
              "        text-align: right;\n",
              "    }\n",
              "</style>\n",
              "<table border=\"1\" class=\"dataframe\">\n",
              "  <thead>\n",
              "    <tr style=\"text-align: right;\">\n",
              "      <th></th>\n",
              "      <th>Text</th>\n",
              "      <th>Label</th>\n",
              "    </tr>\n",
              "  </thead>\n",
              "  <tbody>\n",
              "    <tr>\n",
              "      <th>0</th>\n",
              "      <td>To all those who have saluted Alaqum Aslam an...</td>\n",
              "      <td>1</td>\n",
              "    </tr>\n",
              "    <tr>\n",
              "      <th>1</th>\n",
              "      <td>Jalajisay for the last Congress is Lallu ji Z...</td>\n",
              "      <td>0</td>\n",
              "    </tr>\n",
              "    <tr>\n",
              "      <th>2</th>\n",
              "      <td>Happy Birthday to the Respected Mother Mars M...</td>\n",
              "      <td>0</td>\n",
              "    </tr>\n",
              "    <tr>\n",
              "      <th>3</th>\n",
              "      <td>Happy Islamic New Year your approved bag Sarva...</td>\n",
              "      <td>1</td>\n",
              "    </tr>\n",
              "    <tr>\n",
              "      <th>4</th>\n",
              "      <td>Pablo neharu da sunita yadava 122 uare a jehr...</td>\n",
              "      <td>2</td>\n",
              "    </tr>\n",
              "  </tbody>\n",
              "</table>\n",
              "</div>"
            ],
            "text/plain": [
              "                                                Text Label\n",
              "0   To all those who have saluted Alaqum Aslam an...     1\n",
              "1   Jalajisay for the last Congress is Lallu ji Z...     0\n",
              "2   Happy Birthday to the Respected Mother Mars M...     0\n",
              "3  Happy Islamic New Year your approved bag Sarva...     1\n",
              "4   Pablo neharu da sunita yadava 122 uare a jehr...     2"
            ]
          },
          "metadata": {
            "tags": []
          },
          "execution_count": 28
        }
      ]
    },
    {
      "cell_type": "code",
      "metadata": {
        "id": "Fes5nupOfR9B",
        "colab_type": "code",
        "colab": {
          "base_uri": "https://localhost:8080/",
          "height": 526
        },
        "outputId": "2589b267-cc48-470b-c3d4-d2d4ffd58030"
      },
      "source": [
        "chart = sns.countplot(train.Label, palette=HAPPY_COLORS_PALETTE)\n",
        "plt.title(\"Number of texts per class\")\n",
        "chart.set_xticklabels(chart.get_xticklabels(), rotation=30, horizontalalignment='right');"
      ],
      "execution_count": 29,
      "outputs": [
        {
          "output_type": "display_data",
          "data": {
            "image/png": "[encoded data removed]",
            "text/plain": [
              "<Figure size 864x576 with 1 Axes>"
            ]
          },
          "metadata": {
            "tags": [],
            "image/png": {
              "width": 745,
              "height": 509
            }
          }
        }
      ]
    },
    {
      "cell_type": "markdown",
      "metadata": {
        "id": "Nc23faMAR--V",
        "colab_type": "text"
      },
      "source": [
        "# Islamophhobia Detection with BERT\n"
      ]
    },
    {
      "cell_type": "code",
      "metadata": {
        "id": "-P2y2g3m8Ytp",
        "colab_type": "code",
        "colab": {
          "base_uri": "https://localhost:8080/",
          "height": 202
        },
        "outputId": "de22b30d-c7fd-4bf0-c889-1e788ff14ebf"
      },
      "source": [
        "!wget https://storage.googleapis.com/bert_models/2018_10_18/uncased_L-12_H-768_A-12.zip"
      ],
      "execution_count": 30,
      "outputs": [
        {
          "output_type": "stream",
          "text": [
            "--2020-09-15 02:23:34--  https://storage.googleapis.com/bert_models/2018_10_18/uncased_L-12_H-768_A-12.zip\n",
            "Resolving storage.googleapis.com (storage.googleapis.com)... 74.125.142.128, 74.125.195.128, 74.125.199.128, ...\n",
            "Connecting to storage.googleapis.com (storage.googleapis.com)|74.125.142.128|:443... connected.\n",
            "HTTP request sent, awaiting response... 200 OK\n",
            "Length: 407727028 (389M) [application/zip]\n",
            "Saving to: ‘uncased_L-12_H-768_A-12.zip’\n",
            "\n",
            "uncased_L-12_H-768_ 100%[===================>] 388.84M   167MB/s    in 2.3s    \n",
            "\n",
            "2020-09-15 02:23:36 (167 MB/s) - ‘uncased_L-12_H-768_A-12.zip’ saved [407727028/407727028]\n",
            "\n"
          ],
          "name": "stdout"
        }
      ]
    },
    {
      "cell_type": "code",
      "metadata": {
        "id": "ARivu75M8fqM",
        "colab_type": "code",
        "colab": {
          "base_uri": "https://localhost:8080/",
          "height": 134
        },
        "outputId": "ae35c76e-fdde-42c1-a161-804364667df5"
      },
      "source": [
        "!unzip uncased_L-12_H-768_A-12.zip"
      ],
      "execution_count": 31,
      "outputs": [
        {
          "output_type": "stream",
          "text": [
            "Archive:  uncased_L-12_H-768_A-12.zip\n",
            "   creating: uncased_L-12_H-768_A-12/\n",
            "  inflating: uncased_L-12_H-768_A-12/bert_model.ckpt.meta  \n",
            "  inflating: uncased_L-12_H-768_A-12/bert_model.ckpt.data-00000-of-00001  \n",
            "  inflating: uncased_L-12_H-768_A-12/vocab.txt  \n",
            "  inflating: uncased_L-12_H-768_A-12/bert_model.ckpt.index  \n",
            "  inflating: uncased_L-12_H-768_A-12/bert_config.json  \n"
          ],
          "name": "stdout"
        }
      ]
    },
    {
      "cell_type": "code",
      "metadata": {
        "id": "4Cgl9mvs8hAl",
        "colab_type": "code",
        "colab": {}
      },
      "source": [
        "os.makedirs(\"model\", exist_ok=True)"
      ],
      "execution_count": 32,
      "outputs": []
    },
    {
      "cell_type": "code",
      "metadata": {
        "id": "QoY4PY-w9FkN",
        "colab_type": "code",
        "colab": {}
      },
      "source": [
        "!mv uncased_L-12_H-768_A-12/ model"
      ],
      "execution_count": 33,
      "outputs": []
    },
    {
      "cell_type": "code",
      "metadata": {
        "id": "LbvjbsEb9Ndv",
        "colab_type": "code",
        "colab": {}
      },
      "source": [
        "bert_model_name=\"uncased_L-12_H-768_A-12\"\n",
        "\n",
        "bert_ckpt_dir = os.path.join(\"model/\", bert_model_name)\n",
        "bert_ckpt_file = os.path.join(bert_ckpt_dir, \"bert_model.ckpt\")\n",
        "bert_config_file = os.path.join(bert_ckpt_dir, \"bert_config.json\")"
      ],
      "execution_count": 34,
      "outputs": []
    },
    {
      "cell_type": "markdown",
      "metadata": {
        "id": "3os6qeC6SB-M",
        "colab_type": "text"
      },
      "source": [
        "## Preprocessing"
      ]
    },
    {
      "cell_type": "code",
      "metadata": {
        "id": "TApTW_wLxoA9",
        "colab_type": "code",
        "colab": {}
      },
      "source": [
        "class IslamophobiaDetectionData:\n",
        "  DATA_COLUMN = \"Text\"\n",
        "  LABEL_COLUMN = \"Label\"\n",
        "\n",
        "  def __init__(self, train, test, tokenizer: FullTokenizer, classes, max_seq_len=192):\n",
        "    self.tokenizer = tokenizer\n",
        "    self.max_seq_len = 0\n",
        "    self.classes = classes\n",
        "    \n",
        "    ((self.train_x, self.train_y), (self.test_x, self.test_y)) = map(self._prepare, [train, test])\n",
        "\n",
        "    print(\"max seq_len\", self.max_seq_len)\n",
        "    self.max_seq_len = min(self.max_seq_len, max_seq_len)\n",
        "    self.train_x, self.test_x = map(self._pad, [self.train_x, self.test_x])\n",
        "\n",
        "  def _prepare(self, df):\n",
        "    x, y = [], []\n",
        "    \n",
        "    for _, row in tqdm(df.iterrows()):\n",
        "      text, label = row[IslamophobiaDetectionData.DATA_COLUMN], row[IslamophobiaDetectionData.LABEL_COLUMN]\n",
        "      tokens = self.tokenizer.tokenize(text)\n",
        "      tokens = [\"[CLS]\"] + tokens + [\"[SEP]\"]\n",
        "      token_ids = self.tokenizer.convert_tokens_to_ids(tokens)\n",
        "      self.max_seq_len = max(self.max_seq_len, len(token_ids))\n",
        "      x.append(token_ids)\n",
        "      y.append(self.classes.index(label))\n",
        "\n",
        "    return np.array(x), np.array(y)\n",
        "\n",
        "  def _pad(self, ids):\n",
        "    x = []\n",
        "    for input_ids in ids:\n",
        "      input_ids = input_ids[:min(len(input_ids), self.max_seq_len - 2)]\n",
        "      input_ids = input_ids + [0] * (self.max_seq_len - len(input_ids))\n",
        "      x.append(np.array(input_ids))\n",
        "    return np.array(x)"
      ],
      "execution_count": 35,
      "outputs": []
    },
    {
      "cell_type": "code",
      "metadata": {
        "id": "qQWpVG464BuO",
        "colab_type": "code",
        "colab": {}
      },
      "source": [
        "tokenizer = FullTokenizer(vocab_file=os.path.join(bert_ckpt_dir, \"vocab.txt\"))"
      ],
      "execution_count": 36,
      "outputs": []
    },
    {
      "cell_type": "code",
      "metadata": {
        "id": "xnGGC53P9nC8",
        "colab_type": "code",
        "colab": {}
      },
      "source": [
        "def create_model(max_seq_len, bert_ckpt_file):\n",
        "\n",
        "  with tf.io.gfile.GFile(bert_config_file, \"r\") as reader:\n",
        "      bc = StockBertConfig.from_json_string(reader.read())\n",
        "      bert_params = map_stock_config_to_params(bc)\n",
        "      bert_params.adapter_size = None\n",
        "      bert = BertModelLayer.from_params(bert_params, name=\"bert\")\n",
        "        \n",
        "  input_ids = keras.layers.Input(shape=(max_seq_len, ), dtype='int32', name=\"input_ids\")\n",
        "  bert_output = bert(input_ids)\n",
        "\n",
        "  #print(\"bert shape\", bert_output.shape)\n",
        "\n",
        "  cls_out = keras.layers.Lambda(lambda seq: seq[:, 0, :])(bert_output)\n",
        "  cls_out = keras.layers.Dropout(0.5)(cls_out)\n",
        "  logits = keras.layers.Dense(units=768, activation=\"tanh\")(cls_out)\n",
        "  logits = keras.layers.Dropout(0.5)(logits)\n",
        "\n",
        "  logits = keras.layers.Dense(units=len(classes), activation=\"softmax\")(logits)\n",
        "\n",
        "\n",
        "  model = keras.Model(inputs=input_ids, outputs=logits)\n",
        "  model.build(input_shape=(None, max_seq_len))\n",
        "\n",
        "  load_stock_weights(bert, bert_ckpt_file)\n",
        "  \n",
        "  model.compile(\n",
        "  optimizer=keras.optimizers.Adam(1e-5),\n",
        "  loss=keras.losses.SparseCategoricalCrossentropy(from_logits=True),\n",
        "  metrics=[keras.metrics.SparseCategoricalAccuracy(name=\"acc\")]\n",
        ")\n",
        "        \n",
        "  return model"
      ],
      "execution_count": 37,
      "outputs": []
    },
    {
      "cell_type": "markdown",
      "metadata": {
        "id": "67GbMH3WRvZg",
        "colab_type": "text"
      },
      "source": [
        "## Training"
      ]
    },
    {
      "cell_type": "code",
      "metadata": {
        "id": "kXyaQY4E9S10",
        "colab_type": "code",
        "colab": {
          "base_uri": "https://localhost:8080/",
          "height": 67
        },
        "outputId": "a8ebe240-f7ea-4f1b-85cb-66a355308a4c"
      },
      "source": [
        "classes = train.Label.unique().tolist()\n",
        "\n",
        "data = IslamophobiaDetectionData(train, test, tokenizer, classes, max_seq_len=128)"
      ],
      "execution_count": 43,
      "outputs": [
        {
          "output_type": "stream",
          "text": [
            "9105it [00:03, 2761.66it/s]\n",
            "1012it [00:00, 2832.83it/s]\n"
          ],
          "name": "stderr"
        },
        {
          "output_type": "stream",
          "text": [
            "max seq_len 120\n"
          ],
          "name": "stdout"
        }
      ]
    },
    {
      "cell_type": "code",
      "metadata": {
        "id": "TizDFiPC9n4b",
        "colab_type": "code",
        "colab": {
          "base_uri": "https://localhost:8080/",
          "height": 238
        },
        "outputId": "a6eaea0e-f23d-4c47-c473-c88eb28ee946"
      },
      "source": [
        "model = create_model(data.max_seq_len, bert_ckpt_file)"
      ],
      "execution_count": 44,
      "outputs": [
        {
          "output_type": "stream",
          "text": [
            "Done loading 196 BERT weights from: model/uncased_L-12_H-768_A-12/bert_model.ckpt into <bert.model.BertModelLayer object at 0x7f1cea4d7b38> (prefix:bert). Count of weights not found in the checkpoint was: [0]. Count of weights with mismatched shape: [0]\n",
            "Unused weights from checkpoint: \n",
            "\tbert/embeddings/token_type_embeddings\n",
            "\tbert/pooler/dense/bias\n",
            "\tbert/pooler/dense/kernel\n",
            "\tcls/predictions/output_bias\n",
            "\tcls/predictions/transform/LayerNorm/beta\n",
            "\tcls/predictions/transform/LayerNorm/gamma\n",
            "\tcls/predictions/transform/dense/bias\n",
            "\tcls/predictions/transform/dense/kernel\n",
            "\tcls/seq_relationship/output_bias\n",
            "\tcls/seq_relationship/output_weights\n"
          ],
          "name": "stdout"
        }
      ]
    },
    {
      "cell_type": "code",
      "metadata": {
        "id": "XjUkMjiGbC7f",
        "colab_type": "code",
        "colab": {
          "base_uri": "https://localhost:8080/",
          "height": 386
        },
        "outputId": "9f0b6021-ba57-42e7-d5d1-896b005eb075"
      },
      "source": [
        "model.summary()"
      ],
      "execution_count": 45,
      "outputs": [
        {
          "output_type": "stream",
          "text": [
            "Model: \"functional_1\"\n",
            "_________________________________________________________________\n",
            "Layer (type)                 Output Shape              Param #   \n",
            "=================================================================\n",
            "input_ids (InputLayer)       [(None, 120)]             0         \n",
            "_________________________________________________________________\n",
            "bert (BertModelLayer)        (None, 120, 768)          108890112 \n",
            "_________________________________________________________________\n",
            "lambda (Lambda)              (None, 768)               0         \n",
            "_________________________________________________________________\n",
            "dropout (Dropout)            (None, 768)               0         \n",
            "_________________________________________________________________\n",
            "dense (Dense)                (None, 768)               590592    \n",
            "_________________________________________________________________\n",
            "dropout_1 (Dropout)          (None, 768)               0         \n",
            "_________________________________________________________________\n",
            "dense_1 (Dense)              (None, 3)                 2307      \n",
            "=================================================================\n",
            "Total params: 109,483,011\n",
            "Trainable params: 109,483,011\n",
            "Non-trainable params: 0\n",
            "_________________________________________________________________\n"
          ],
          "name": "stdout"
        }
      ]
    },
    {
      "cell_type": "code",
      "metadata": {
        "id": "oIjlbG8u9xis",
        "colab_type": "code",
        "colab": {
          "base_uri": "https://localhost:8080/",
          "height": 185
        },
        "outputId": "cc15ff5c-a367-4cfd-d4f4-714b7cac627e"
      },
      "source": [
        "\n",
        "\n",
        "history = model.fit(\n",
        "  x=data.train_x, \n",
        "  y=data.train_y,\n",
        "  validation_split=0.1,\n",
        "  batch_size=16,\n",
        "  shuffle=True,\n",
        "  epochs=5\n",
        ")"
      ],
      "execution_count": 47,
      "outputs": [
        {
          "output_type": "stream",
          "text": [
            "Epoch 1/5\n",
            "513/513 [==============================] - 312s 609ms/step - loss: 0.7048 - acc: 0.8429 - val_loss: 0.6118 - val_acc: 0.9396\n",
            "Epoch 2/5\n",
            "513/513 [==============================] - 311s 607ms/step - loss: 0.6186 - acc: 0.9323 - val_loss: 0.6143 - val_acc: 0.9319\n",
            "Epoch 3/5\n",
            "513/513 [==============================] - 310s 603ms/step - loss: 0.6015 - acc: 0.9489 - val_loss: 0.6007 - val_acc: 0.9517\n",
            "Epoch 4/5\n",
            "513/513 [==============================] - 309s 603ms/step - loss: 0.5924 - acc: 0.9583 - val_loss: 0.6046 - val_acc: 0.9484\n",
            "Epoch 5/5\n",
            "513/513 [==============================] - 310s 604ms/step - loss: 0.5873 - acc: 0.9640 - val_loss: 0.6149 - val_acc: 0.9363\n"
          ],
          "name": "stdout"
        }
      ]
    },
    {
      "cell_type": "markdown",
      "metadata": {
        "id": "6s31ZIADSGNp",
        "colab_type": "text"
      },
      "source": [
        "## Evaluation"
      ]
    },
    {
      "cell_type": "code",
      "metadata": {
        "id": "5XLlcuVC1lLE",
        "colab_type": "code",
        "colab": {
          "base_uri": "https://localhost:8080/",
          "height": 523
        },
        "outputId": "49d4afbc-0793-4628-c515-fca9c8e5acf5"
      },
      "source": [
        "ax = plt.figure().gca()\n",
        "ax.xaxis.set_major_locator(MaxNLocator(integer=True))\n",
        "\n",
        "ax.plot(history.history['loss'])\n",
        "ax.plot(history.history['val_loss'])\n",
        "plt.ylabel('Loss')\n",
        "plt.xlabel('Epoch')\n",
        "plt.legend(['train', 'test'])\n",
        "plt.title('Loss over training epochs')\n",
        "plt.show();"
      ],
      "execution_count": 48,
      "outputs": [
        {
          "output_type": "display_data",
          "data": {
            "image/png": "[encoded data removed]",
            "text/plain": [
              "<Figure size 864x576 with 1 Axes>"
            ]
          },
          "metadata": {
            "tags": [],
            "image/png": {
              "width": 740,
              "height": 506
            }
          }
        }
      ]
    },
    {
      "cell_type": "code",
      "metadata": {
        "id": "yZ7CVW_71m0Q",
        "colab_type": "code",
        "colab": {
          "base_uri": "https://localhost:8080/",
          "height": 523
        },
        "outputId": "cc5d094c-a167-4f5e-d36f-55cc72d23cde"
      },
      "source": [
        "ax = plt.figure().gca()\n",
        "ax.xaxis.set_major_locator(MaxNLocator(integer=True))\n",
        "\n",
        "ax.plot(history.history['acc'])\n",
        "ax.plot(history.history['val_acc'])\n",
        "plt.ylabel('Accuracy')\n",
        "plt.xlabel('Epoch')\n",
        "plt.legend(['train', 'test'])\n",
        "plt.title('Accuracy over training epochs')\n",
        "plt.show();"
      ],
      "execution_count": 49,
      "outputs": [
        {
          "output_type": "display_data",
          "data": {
            "image/png": "[encoded data removed]",
            "text/plain": [
              "<Figure size 864x576 with 1 Axes>"
            ]
          },
          "metadata": {
            "tags": [],
            "image/png": {
              "width": 740,
              "height": 506
            }
          }
        }
      ]
    },
    {
      "cell_type": "code",
      "metadata": {
        "id": "RGAECSj4AiD1",
        "colab_type": "code",
        "colab": {
          "base_uri": "https://localhost:8080/",
          "height": 84
        },
        "outputId": "6f415d6a-a4be-4449-90bd-447d5e044c24"
      },
      "source": [
        "_, train_acc = model.evaluate(data.train_x, data.train_y)\n",
        "_, test_acc = model.evaluate(data.test_x, data.test_y)\n",
        "\n",
        "print(\"train acc\", train_acc)\n",
        "print(\"test acc\", test_acc)"
      ],
      "execution_count": 50,
      "outputs": [
        {
          "output_type": "stream",
          "text": [
            "285/285 [==============================] - 80s 281ms/step - loss: 0.5855 - acc: 0.9654\n",
            "32/32 [==============================] - 9s 271ms/step - loss: 0.6122 - acc: 0.9377\n",
            "train acc 0.9654036164283752\n",
            "test acc 0.937747061252594\n"
          ],
          "name": "stdout"
        }
      ]
    },
    {
      "cell_type": "code",
      "metadata": {
        "id": "Leg5atNmPzGb",
        "colab_type": "code",
        "colab": {}
      },
      "source": [
        "y_pred = model.predict(data.test_x).argmax(axis=-1)"
      ],
      "execution_count": 51,
      "outputs": []
    },
    {
      "cell_type": "code",
      "metadata": {
        "id": "SZYriKx6UUOb",
        "colab_type": "code",
        "colab": {
          "base_uri": "https://localhost:8080/",
          "height": 185
        },
        "outputId": "6f54956e-6381-475c-ed3c-0d69e2ba22d3"
      },
      "source": [
        "print(classification_report(data.test_y, y_pred))"
      ],
      "execution_count": 52,
      "outputs": [
        {
          "output_type": "stream",
          "text": [
            "              precision    recall  f1-score   support\n",
            "\n",
            "           0       0.92      0.97      0.94       337\n",
            "           1       0.97      0.88      0.92       332\n",
            "           2       0.93      0.96      0.94       343\n",
            "\n",
            "    accuracy                           0.94      1012\n",
            "   macro avg       0.94      0.94      0.94      1012\n",
            "weighted avg       0.94      0.94      0.94      1012\n",
            "\n"
          ],
          "name": "stdout"
        }
      ]
    },
    {
      "cell_type": "code",
      "metadata": {
        "id": "lS-5TbGDP4rr",
        "colab_type": "code",
        "colab": {}
      },
      "source": [
        "\n",
        "cm = confusion_matrix(data.test_y, y_pred)\n",
        "df_cm = pd.DataFrame(cm, index=classes, columns=classes)"
      ],
      "execution_count": 53,
      "outputs": []
    },
    {
      "cell_type": "code",
      "metadata": {
        "id": "DgkPl9gLS4DL",
        "colab_type": "code",
        "colab": {
          "base_uri": "https://localhost:8080/",
          "height": 509
        },
        "outputId": "a90cf3d8-164f-4384-dc0a-f14e8bcb5110"
      },
      "source": [
        "hmap = sns.heatmap(df_cm, annot=True, fmt=\"d\")\n",
        "hmap.yaxis.set_ticklabels(hmap.yaxis.get_ticklabels(), rotation=0, ha='right')\n",
        "hmap.xaxis.set_ticklabels(hmap.xaxis.get_ticklabels(), rotation=30, ha='right')\n",
        "plt.ylabel('True label')\n",
        "plt.xlabel('Predicted label');"
      ],
      "execution_count": 54,
      "outputs": [
        {
          "output_type": "display_data",
          "data": {
            "image/png": "[encoded data removed]",
            "text/plain": [
              "<Figure size 864x576 with 2 Axes>"
            ]
          },
          "metadata": {
            "tags": [],
            "image/png": {
              "width": 675,
              "height": 492
            }
          }
        }
      ]
    },
    {
      "cell_type": "markdown",
      "metadata": {
        "id": "w7IeHfcq71fn",
        "colab_type": "text"
      },
      "source": [
        "# 10 Fold cross validation"
      ]
    },
    {
      "cell_type": "code",
      "metadata": {
        "id": "sHHv3pbeU8MZ",
        "colab_type": "code",
        "colab": {
          "base_uri": "https://localhost:8080/",
          "height": 1000
        },
        "outputId": "0beb49be-1fd9-4ccd-dce0-bcc7b6177e57"
      },
      "source": [
        "import random\n",
        "from sklearn.metrics import accuracy_score\n",
        "from sklearn.model_selection import train_test_split\n",
        "\n",
        "kFold = 10\n",
        "\n",
        "#To get accuracy of the model for 10 different splits\n",
        "scores = []\n",
        "training_accuracy = []\n",
        "testing_accuracy = []\n",
        "print(\"BERT: \")\n",
        "for i in range(kFold):\n",
        "    print('Fold ', i+1)\n",
        "    print('')\n",
        "    # Splitting data into test and train\n",
        "    train, test = train_test_split(df, test_size=0.10, shuffle = True)\n",
        "\n",
        "    classes = train.Label.unique().tolist()\n",
        "    data = IslamophobiaDetectionData(train, test, tokenizer, classes, max_seq_len=128)\n",
        "    model = create_model(data.max_seq_len, bert_ckpt_file)\n",
        "    history = model.fit( x=data.train_x, y=data.train_y,validation_split=0.1,batch_size=16, shuffle=True,epochs=5)\n",
        "    #train_loss, train_acc = model.evaluate(data.train_x, data.train_y)\n",
        "    test_loss, test_acc = model.evaluate(data.test_x, data.test_y)\n",
        "    \n",
        "    #training_accuracy.append(train_acc)\n",
        "    testing_accuracy.append(test_acc)\n",
        "\n",
        "    y_pred = model.predict(data.test_x).argmax(axis=-1)\n",
        "\n",
        "    scoreValue =accuracy_score(data.test_y, y_pred)\n",
        "    scores.append(scoreValue)\n"
      ],
      "execution_count": 55,
      "outputs": [
        {
          "output_type": "stream",
          "text": [
            "296it [00:00, 2954.34it/s]"
          ],
          "name": "stderr"
        },
        {
          "output_type": "stream",
          "text": [
            "BERT: \n",
            "Fold  1\n",
            "\n"
          ],
          "name": "stdout"
        },
        {
          "output_type": "stream",
          "text": [
            "9105it [00:03, 2815.70it/s]\n",
            "1012it [00:00, 2811.58it/s]\n"
          ],
          "name": "stderr"
        },
        {
          "output_type": "stream",
          "text": [
            "max seq_len 120\n",
            "Done loading 196 BERT weights from: model/uncased_L-12_H-768_A-12/bert_model.ckpt into <bert.model.BertModelLayer object at 0x7f1c7c05cfd0> (prefix:bert). Count of weights not found in the checkpoint was: [0]. Count of weights with mismatched shape: [0]\n",
            "Unused weights from checkpoint: \n",
            "\tbert/embeddings/token_type_embeddings\n",
            "\tbert/pooler/dense/bias\n",
            "\tbert/pooler/dense/kernel\n",
            "\tcls/predictions/output_bias\n",
            "\tcls/predictions/transform/LayerNorm/beta\n",
            "\tcls/predictions/transform/LayerNorm/gamma\n",
            "\tcls/predictions/transform/dense/bias\n",
            "\tcls/predictions/transform/dense/kernel\n",
            "\tcls/seq_relationship/output_bias\n",
            "\tcls/seq_relationship/output_weights\n",
            "Epoch 1/5\n",
            "513/513 [==============================] - 319s 623ms/step - loss: 0.7675 - acc: 0.7645 - val_loss: 0.6349 - val_acc: 0.9155\n",
            "Epoch 2/5\n",
            "513/513 [==============================] - 317s 617ms/step - loss: 0.6184 - acc: 0.9321 - val_loss: 0.6173 - val_acc: 0.9319\n",
            "Epoch 3/5\n",
            "513/513 [==============================] - 317s 617ms/step - loss: 0.6048 - acc: 0.9461 - val_loss: 0.6154 - val_acc: 0.9341\n",
            "Epoch 4/5\n",
            "513/513 [==============================] - 317s 618ms/step - loss: 0.5957 - acc: 0.9550 - val_loss: 0.6090 - val_acc: 0.9407\n",
            "Epoch 5/5\n",
            "513/513 [==============================] - 317s 618ms/step - loss: 0.5923 - acc: 0.9594 - val_loss: 0.6095 - val_acc: 0.9407\n",
            "32/32 [==============================] - 9s 271ms/step - loss: 0.5962 - acc: 0.9545\n"
          ],
          "name": "stdout"
        },
        {
          "output_type": "stream",
          "text": [
            "284it [00:00, 2838.32it/s]"
          ],
          "name": "stderr"
        },
        {
          "output_type": "stream",
          "text": [
            "Fold  2\n",
            "\n"
          ],
          "name": "stdout"
        },
        {
          "output_type": "stream",
          "text": [
            "9105it [00:03, 2785.88it/s]\n",
            "1012it [00:00, 2827.91it/s]\n"
          ],
          "name": "stderr"
        },
        {
          "output_type": "stream",
          "text": [
            "max seq_len 120\n",
            "Done loading 196 BERT weights from: model/uncased_L-12_H-768_A-12/bert_model.ckpt into <bert.model.BertModelLayer object at 0x7f1b2653bba8> (prefix:bert). Count of weights not found in the checkpoint was: [0]. Count of weights with mismatched shape: [0]\n",
            "Unused weights from checkpoint: \n",
            "\tbert/embeddings/token_type_embeddings\n",
            "\tbert/pooler/dense/bias\n",
            "\tbert/pooler/dense/kernel\n",
            "\tcls/predictions/output_bias\n",
            "\tcls/predictions/transform/LayerNorm/beta\n",
            "\tcls/predictions/transform/LayerNorm/gamma\n",
            "\tcls/predictions/transform/dense/bias\n",
            "\tcls/predictions/transform/dense/kernel\n",
            "\tcls/seq_relationship/output_bias\n",
            "\tcls/seq_relationship/output_weights\n",
            "Epoch 1/5\n",
            "513/513 [==============================] - 317s 618ms/step - loss: 0.7444 - acc: 0.7988 - val_loss: 0.6292 - val_acc: 0.9232\n",
            "Epoch 2/5\n",
            "513/513 [==============================] - 314s 612ms/step - loss: 0.6133 - acc: 0.9384 - val_loss: 0.6098 - val_acc: 0.9396\n",
            "Epoch 3/5\n",
            "513/513 [==============================] - 313s 611ms/step - loss: 0.5985 - acc: 0.9524 - val_loss: 0.6142 - val_acc: 0.9352\n",
            "Epoch 4/5\n",
            "513/513 [==============================] - 314s 611ms/step - loss: 0.5917 - acc: 0.9598 - val_loss: 0.6093 - val_acc: 0.9407\n",
            "Epoch 5/5\n",
            "513/513 [==============================] - 314s 611ms/step - loss: 0.5906 - acc: 0.9598 - val_loss: 0.6049 - val_acc: 0.9440\n",
            "32/32 [==============================] - 9s 271ms/step - loss: 0.6098 - acc: 0.9397\n"
          ],
          "name": "stdout"
        },
        {
          "output_type": "stream",
          "text": [
            "271it [00:00, 2708.38it/s]"
          ],
          "name": "stderr"
        },
        {
          "output_type": "stream",
          "text": [
            "Fold  3\n",
            "\n"
          ],
          "name": "stdout"
        },
        {
          "output_type": "stream",
          "text": [
            "9105it [00:03, 2741.98it/s]\n",
            "1012it [00:00, 2815.00it/s]\n"
          ],
          "name": "stderr"
        },
        {
          "output_type": "stream",
          "text": [
            "max seq_len 120\n",
            "Done loading 196 BERT weights from: model/uncased_L-12_H-768_A-12/bert_model.ckpt into <bert.model.BertModelLayer object at 0x7f1b26bd5128> (prefix:bert). Count of weights not found in the checkpoint was: [0]. Count of weights with mismatched shape: [0]\n",
            "Unused weights from checkpoint: \n",
            "\tbert/embeddings/token_type_embeddings\n",
            "\tbert/pooler/dense/bias\n",
            "\tbert/pooler/dense/kernel\n",
            "\tcls/predictions/output_bias\n",
            "\tcls/predictions/transform/LayerNorm/beta\n",
            "\tcls/predictions/transform/LayerNorm/gamma\n",
            "\tcls/predictions/transform/dense/bias\n",
            "\tcls/predictions/transform/dense/kernel\n",
            "\tcls/seq_relationship/output_bias\n",
            "\tcls/seq_relationship/output_weights\n",
            "Epoch 1/5\n",
            "513/513 [==============================] - 319s 621ms/step - loss: 0.7058 - acc: 0.8407 - val_loss: 0.6414 - val_acc: 0.9100\n",
            "Epoch 2/5\n",
            "513/513 [==============================] - 315s 614ms/step - loss: 0.6159 - acc: 0.9339 - val_loss: 0.6327 - val_acc: 0.9188\n",
            "Epoch 3/5\n",
            "513/513 [==============================] - 313s 611ms/step - loss: 0.6031 - acc: 0.9469 - val_loss: 0.6230 - val_acc: 0.9276\n",
            "Epoch 4/5\n",
            "513/513 [==============================] - 314s 611ms/step - loss: 0.5930 - acc: 0.9578 - val_loss: 0.6242 - val_acc: 0.9276\n",
            "Epoch 5/5\n",
            "513/513 [==============================] - 314s 612ms/step - loss: 0.5853 - acc: 0.9658 - val_loss: 0.6213 - val_acc: 0.9297\n",
            "32/32 [==============================] - 9s 271ms/step - loss: 0.5911 - acc: 0.9585\n"
          ],
          "name": "stdout"
        },
        {
          "output_type": "stream",
          "text": [
            "279it [00:00, 2783.64it/s]"
          ],
          "name": "stderr"
        },
        {
          "output_type": "stream",
          "text": [
            "Fold  4\n",
            "\n"
          ],
          "name": "stdout"
        },
        {
          "output_type": "stream",
          "text": [
            "9105it [00:03, 2762.37it/s]\n",
            "1012it [00:00, 2768.51it/s]\n"
          ],
          "name": "stderr"
        },
        {
          "output_type": "stream",
          "text": [
            "max seq_len 120\n",
            "Done loading 196 BERT weights from: model/uncased_L-12_H-768_A-12/bert_model.ckpt into <bert.model.BertModelLayer object at 0x7f1b2945a5c0> (prefix:bert). Count of weights not found in the checkpoint was: [0]. Count of weights with mismatched shape: [0]\n",
            "Unused weights from checkpoint: \n",
            "\tbert/embeddings/token_type_embeddings\n",
            "\tbert/pooler/dense/bias\n",
            "\tbert/pooler/dense/kernel\n",
            "\tcls/predictions/output_bias\n",
            "\tcls/predictions/transform/LayerNorm/beta\n",
            "\tcls/predictions/transform/LayerNorm/gamma\n",
            "\tcls/predictions/transform/dense/bias\n",
            "\tcls/predictions/transform/dense/kernel\n",
            "\tcls/seq_relationship/output_bias\n",
            "\tcls/seq_relationship/output_weights\n",
            "Epoch 1/5\n",
            "513/513 [==============================] - 316s 616ms/step - loss: 0.7377 - acc: 0.8042 - val_loss: 0.6217 - val_acc: 0.9276\n",
            "Epoch 2/5\n",
            "513/513 [==============================] - 313s 611ms/step - loss: 0.6132 - acc: 0.9380 - val_loss: 0.6104 - val_acc: 0.9418\n",
            "Epoch 3/5\n",
            "513/513 [==============================] - 314s 612ms/step - loss: 0.6016 - acc: 0.9495 - val_loss: 0.6094 - val_acc: 0.9418\n",
            "Epoch 4/5\n",
            "513/513 [==============================] - 313s 611ms/step - loss: 0.5939 - acc: 0.9566 - val_loss: 0.5989 - val_acc: 0.9517\n",
            "Epoch 5/5\n",
            "513/513 [==============================] - 313s 611ms/step - loss: 0.5874 - acc: 0.9638 - val_loss: 0.5989 - val_acc: 0.9528\n",
            "32/32 [==============================] - 9s 275ms/step - loss: 0.6064 - acc: 0.9427\n"
          ],
          "name": "stdout"
        },
        {
          "output_type": "stream",
          "text": [
            "283it [00:00, 2829.94it/s]"
          ],
          "name": "stderr"
        },
        {
          "output_type": "stream",
          "text": [
            "Fold  5\n",
            "\n"
          ],
          "name": "stdout"
        },
        {
          "output_type": "stream",
          "text": [
            "9105it [00:03, 2775.35it/s]\n",
            "1012it [00:00, 2683.49it/s]\n"
          ],
          "name": "stderr"
        },
        {
          "output_type": "stream",
          "text": [
            "max seq_len 120\n",
            "Done loading 196 BERT weights from: model/uncased_L-12_H-768_A-12/bert_model.ckpt into <bert.model.BertModelLayer object at 0x7f1a244e0dd8> (prefix:bert). Count of weights not found in the checkpoint was: [0]. Count of weights with mismatched shape: [0]\n",
            "Unused weights from checkpoint: \n",
            "\tbert/embeddings/token_type_embeddings\n",
            "\tbert/pooler/dense/bias\n",
            "\tbert/pooler/dense/kernel\n",
            "\tcls/predictions/output_bias\n",
            "\tcls/predictions/transform/LayerNorm/beta\n",
            "\tcls/predictions/transform/LayerNorm/gamma\n",
            "\tcls/predictions/transform/dense/bias\n",
            "\tcls/predictions/transform/dense/kernel\n",
            "\tcls/seq_relationship/output_bias\n",
            "\tcls/seq_relationship/output_weights\n",
            "Epoch 1/5\n",
            "513/513 [==============================] - 320s 624ms/step - loss: 0.7077 - acc: 0.8413 - val_loss: 0.6284 - val_acc: 0.9199\n",
            "Epoch 2/5\n",
            "513/513 [==============================] - 318s 620ms/step - loss: 0.6165 - acc: 0.9329 - val_loss: 0.6203 - val_acc: 0.9297\n",
            "Epoch 3/5\n",
            "513/513 [==============================] - 318s 620ms/step - loss: 0.6007 - acc: 0.9507 - val_loss: 0.6111 - val_acc: 0.9418\n",
            "Epoch 4/5\n",
            "513/513 [==============================] - 319s 622ms/step - loss: 0.5928 - acc: 0.9588 - val_loss: 0.6077 - val_acc: 0.9407\n",
            "Epoch 5/5\n",
            "513/513 [==============================] - 318s 619ms/step - loss: 0.5894 - acc: 0.9623 - val_loss: 0.6090 - val_acc: 0.9429\n",
            "32/32 [==============================] - 9s 273ms/step - loss: 0.5972 - acc: 0.9555\n"
          ],
          "name": "stdout"
        },
        {
          "output_type": "stream",
          "text": [
            "258it [00:00, 2576.07it/s]"
          ],
          "name": "stderr"
        },
        {
          "output_type": "stream",
          "text": [
            "Fold  6\n",
            "\n"
          ],
          "name": "stdout"
        },
        {
          "output_type": "stream",
          "text": [
            "9105it [00:03, 2762.63it/s]\n",
            "1012it [00:00, 2604.91it/s]\n"
          ],
          "name": "stderr"
        },
        {
          "output_type": "stream",
          "text": [
            "max seq_len 120\n",
            "Done loading 196 BERT weights from: model/uncased_L-12_H-768_A-12/bert_model.ckpt into <bert.model.BertModelLayer object at 0x7f1c8732f898> (prefix:bert). Count of weights not found in the checkpoint was: [0]. Count of weights with mismatched shape: [0]\n",
            "Unused weights from checkpoint: \n",
            "\tbert/embeddings/token_type_embeddings\n",
            "\tbert/pooler/dense/bias\n",
            "\tbert/pooler/dense/kernel\n",
            "\tcls/predictions/output_bias\n",
            "\tcls/predictions/transform/LayerNorm/beta\n",
            "\tcls/predictions/transform/LayerNorm/gamma\n",
            "\tcls/predictions/transform/dense/bias\n",
            "\tcls/predictions/transform/dense/kernel\n",
            "\tcls/seq_relationship/output_bias\n",
            "\tcls/seq_relationship/output_weights\n",
            "Epoch 1/5\n",
            "513/513 [==============================] - 320s 623ms/step - loss: 0.7084 - acc: 0.8395 - val_loss: 0.6221 - val_acc: 0.9265\n",
            "Epoch 2/5\n",
            "513/513 [==============================] - 317s 618ms/step - loss: 0.6139 - acc: 0.9361 - val_loss: 0.6052 - val_acc: 0.9462\n",
            "Epoch 3/5\n",
            "513/513 [==============================] - 317s 617ms/step - loss: 0.6031 - acc: 0.9478 - val_loss: 0.6071 - val_acc: 0.9429\n",
            "Epoch 4/5\n",
            "513/513 [==============================] - 316s 616ms/step - loss: 0.5916 - acc: 0.9589 - val_loss: 0.6064 - val_acc: 0.9407\n",
            "Epoch 5/5\n",
            "513/513 [==============================] - 315s 615ms/step - loss: 0.5868 - acc: 0.9639 - val_loss: 0.6009 - val_acc: 0.9484\n",
            "32/32 [==============================] - 9s 271ms/step - loss: 0.5949 - acc: 0.9555\n"
          ],
          "name": "stdout"
        },
        {
          "output_type": "stream",
          "text": [
            "277it [00:00, 2765.01it/s]"
          ],
          "name": "stderr"
        },
        {
          "output_type": "stream",
          "text": [
            "Fold  7\n",
            "\n"
          ],
          "name": "stdout"
        },
        {
          "output_type": "stream",
          "text": [
            "9105it [00:03, 2748.41it/s]\n",
            "1012it [00:00, 2740.88it/s]\n"
          ],
          "name": "stderr"
        },
        {
          "output_type": "stream",
          "text": [
            "max seq_len 120\n",
            "Done loading 196 BERT weights from: model/uncased_L-12_H-768_A-12/bert_model.ckpt into <bert.model.BertModelLayer object at 0x7f1a24706d68> (prefix:bert). Count of weights not found in the checkpoint was: [0]. Count of weights with mismatched shape: [0]\n",
            "Unused weights from checkpoint: \n",
            "\tbert/embeddings/token_type_embeddings\n",
            "\tbert/pooler/dense/bias\n",
            "\tbert/pooler/dense/kernel\n",
            "\tcls/predictions/output_bias\n",
            "\tcls/predictions/transform/LayerNorm/beta\n",
            "\tcls/predictions/transform/LayerNorm/gamma\n",
            "\tcls/predictions/transform/dense/bias\n",
            "\tcls/predictions/transform/dense/kernel\n",
            "\tcls/seq_relationship/output_bias\n",
            "\tcls/seq_relationship/output_weights\n",
            "Epoch 1/5\n",
            "513/513 [==============================] - 316s 616ms/step - loss: 0.7406 - acc: 0.8007 - val_loss: 0.6490 - val_acc: 0.8968\n",
            "Epoch 2/5\n",
            "513/513 [==============================] - 314s 611ms/step - loss: 0.6166 - acc: 0.9348 - val_loss: 0.6144 - val_acc: 0.9352\n",
            "Epoch 3/5\n",
            "513/513 [==============================] - 314s 611ms/step - loss: 0.6018 - acc: 0.9486 - val_loss: 0.6103 - val_acc: 0.9385\n",
            "Epoch 4/5\n",
            "513/513 [==============================] - 313s 611ms/step - loss: 0.5968 - acc: 0.9540 - val_loss: 0.6088 - val_acc: 0.9418\n",
            "Epoch 5/5\n",
            "513/513 [==============================] - 314s 612ms/step - loss: 0.5917 - acc: 0.9589 - val_loss: 0.6117 - val_acc: 0.9385\n",
            "32/32 [==============================] - 9s 271ms/step - loss: 0.6052 - acc: 0.9457\n"
          ],
          "name": "stdout"
        },
        {
          "output_type": "stream",
          "text": [
            "275it [00:00, 2748.74it/s]"
          ],
          "name": "stderr"
        },
        {
          "output_type": "stream",
          "text": [
            "Fold  8\n",
            "\n"
          ],
          "name": "stdout"
        },
        {
          "output_type": "stream",
          "text": [
            "9105it [00:03, 2774.34it/s]\n",
            "1012it [00:00, 2831.86it/s]\n"
          ],
          "name": "stderr"
        },
        {
          "output_type": "stream",
          "text": [
            "max seq_len 120\n",
            "Done loading 196 BERT weights from: model/uncased_L-12_H-768_A-12/bert_model.ckpt into <bert.model.BertModelLayer object at 0x7f1a246ff2e8> (prefix:bert). Count of weights not found in the checkpoint was: [0]. Count of weights with mismatched shape: [0]\n",
            "Unused weights from checkpoint: \n",
            "\tbert/embeddings/token_type_embeddings\n",
            "\tbert/pooler/dense/bias\n",
            "\tbert/pooler/dense/kernel\n",
            "\tcls/predictions/output_bias\n",
            "\tcls/predictions/transform/LayerNorm/beta\n",
            "\tcls/predictions/transform/LayerNorm/gamma\n",
            "\tcls/predictions/transform/dense/bias\n",
            "\tcls/predictions/transform/dense/kernel\n",
            "\tcls/seq_relationship/output_bias\n",
            "\tcls/seq_relationship/output_weights\n",
            "Epoch 1/5\n",
            "513/513 [==============================] - 317s 617ms/step - loss: 0.7042 - acc: 0.8448 - val_loss: 0.6349 - val_acc: 0.9144\n",
            "Epoch 2/5\n",
            "513/513 [==============================] - 314s 611ms/step - loss: 0.6182 - acc: 0.9318 - val_loss: 0.6299 - val_acc: 0.9199\n",
            "Epoch 3/5\n",
            "513/513 [==============================] - 313s 610ms/step - loss: 0.6020 - acc: 0.9491 - val_loss: 0.6168 - val_acc: 0.9319\n",
            "Epoch 4/5\n",
            "513/513 [==============================] - 313s 610ms/step - loss: 0.5938 - acc: 0.9574 - val_loss: 0.6135 - val_acc: 0.9352\n",
            "Epoch 5/5\n",
            "513/513 [==============================] - 313s 610ms/step - loss: 0.5880 - acc: 0.9625 - val_loss: 0.6073 - val_acc: 0.9440\n",
            "32/32 [==============================] - 9s 272ms/step - loss: 0.6082 - acc: 0.9427\n"
          ],
          "name": "stdout"
        },
        {
          "output_type": "stream",
          "text": [
            "280it [00:00, 2793.85it/s]"
          ],
          "name": "stderr"
        },
        {
          "output_type": "stream",
          "text": [
            "Fold  9\n",
            "\n"
          ],
          "name": "stdout"
        },
        {
          "output_type": "stream",
          "text": [
            "9105it [00:03, 2801.47it/s]\n",
            "1012it [00:00, 2725.88it/s]\n"
          ],
          "name": "stderr"
        },
        {
          "output_type": "stream",
          "text": [
            "max seq_len 120\n",
            "Done loading 196 BERT weights from: model/uncased_L-12_H-768_A-12/bert_model.ckpt into <bert.model.BertModelLayer object at 0x7f1c866a2f98> (prefix:bert). Count of weights not found in the checkpoint was: [0]. Count of weights with mismatched shape: [0]\n",
            "Unused weights from checkpoint: \n",
            "\tbert/embeddings/token_type_embeddings\n",
            "\tbert/pooler/dense/bias\n",
            "\tbert/pooler/dense/kernel\n",
            "\tcls/predictions/output_bias\n",
            "\tcls/predictions/transform/LayerNorm/beta\n",
            "\tcls/predictions/transform/LayerNorm/gamma\n",
            "\tcls/predictions/transform/dense/bias\n",
            "\tcls/predictions/transform/dense/kernel\n",
            "\tcls/seq_relationship/output_bias\n",
            "\tcls/seq_relationship/output_weights\n",
            "Epoch 1/5\n",
            "513/513 [==============================] - 315s 615ms/step - loss: 0.7195 - acc: 0.8228 - val_loss: 0.6262 - val_acc: 0.9210\n",
            "Epoch 2/5\n",
            "513/513 [==============================] - 313s 610ms/step - loss: 0.6147 - acc: 0.9358 - val_loss: 0.6169 - val_acc: 0.9308\n",
            "Epoch 3/5\n",
            "513/513 [==============================] - 313s 609ms/step - loss: 0.6043 - acc: 0.9465 - val_loss: 0.6133 - val_acc: 0.9374\n",
            "Epoch 4/5\n",
            "513/513 [==============================] - 313s 610ms/step - loss: 0.5931 - acc: 0.9590 - val_loss: 0.6170 - val_acc: 0.9352\n",
            "Epoch 5/5\n",
            "513/513 [==============================] - 312s 609ms/step - loss: 0.5891 - acc: 0.9613 - val_loss: 0.6138 - val_acc: 0.9352\n",
            "32/32 [==============================] - 9s 272ms/step - loss: 0.6275 - acc: 0.9219\n"
          ],
          "name": "stdout"
        },
        {
          "output_type": "stream",
          "text": [
            "271it [00:00, 2707.56it/s]"
          ],
          "name": "stderr"
        },
        {
          "output_type": "stream",
          "text": [
            "Fold  10\n",
            "\n"
          ],
          "name": "stdout"
        },
        {
          "output_type": "stream",
          "text": [
            "9105it [00:03, 2786.65it/s]\n",
            "1012it [00:00, 2683.11it/s]\n"
          ],
          "name": "stderr"
        },
        {
          "output_type": "stream",
          "text": [
            "max seq_len 120\n",
            "Done loading 196 BERT weights from: model/uncased_L-12_H-768_A-12/bert_model.ckpt into <bert.model.BertModelLayer object at 0x7f1a24b04eb8> (prefix:bert). Count of weights not found in the checkpoint was: [0]. Count of weights with mismatched shape: [0]\n",
            "Unused weights from checkpoint: \n",
            "\tbert/embeddings/token_type_embeddings\n",
            "\tbert/pooler/dense/bias\n",
            "\tbert/pooler/dense/kernel\n",
            "\tcls/predictions/output_bias\n",
            "\tcls/predictions/transform/LayerNorm/beta\n",
            "\tcls/predictions/transform/LayerNorm/gamma\n",
            "\tcls/predictions/transform/dense/bias\n",
            "\tcls/predictions/transform/dense/kernel\n",
            "\tcls/seq_relationship/output_bias\n",
            "\tcls/seq_relationship/output_weights\n",
            "Epoch 1/5\n",
            "513/513 [==============================] - 315s 615ms/step - loss: 0.7076 - acc: 0.8402 - val_loss: 0.6194 - val_acc: 0.9286\n",
            "Epoch 2/5\n",
            "513/513 [==============================] - 312s 609ms/step - loss: 0.6212 - acc: 0.9285 - val_loss: 0.6169 - val_acc: 0.9341\n",
            "Epoch 3/5\n",
            "513/513 [==============================] - 313s 610ms/step - loss: 0.6026 - acc: 0.9475 - val_loss: 0.5967 - val_acc: 0.9550\n",
            "Epoch 4/5\n",
            "513/513 [==============================] - 312s 609ms/step - loss: 0.5983 - acc: 0.9523 - val_loss: 0.6047 - val_acc: 0.9451\n",
            "Epoch 5/5\n",
            "513/513 [==============================] - 311s 607ms/step - loss: 0.5936 - acc: 0.9577 - val_loss: 0.6000 - val_acc: 0.9506\n",
            "32/32 [==============================] - 9s 271ms/step - loss: 0.6006 - acc: 0.9496\n"
          ],
          "name": "stdout"
        }
      ]
    },
    {
      "cell_type": "code",
      "metadata": {
        "id": "RYtq3EIqeqPk",
        "colab_type": "code",
        "colab": {
          "base_uri": "https://localhost:8080/",
          "height": 67
        },
        "outputId": "98425bd1-9645-4fb5-9d6f-39adb0cbd69f"
      },
      "source": [
        "\n",
        "print('')\n",
        "Mean_score = sum(scores) / len(scores)\n",
        "print(f\" Mean predict: {Mean_score}\" )\n",
        "\n",
        "mean_test = sum(testing_accuracy)/len(testing_accuracy)\n",
        "print(f\" Mean testing accuracy for 10 folds: {mean_test}\" )"
      ],
      "execution_count": 56,
      "outputs": [
        {
          "output_type": "stream",
          "text": [
            "\n",
            " Mean predict: 0.9466403162055336\n",
            " Mean testing accuracy for 10 folds: 0.9466403186321258\n"
          ],
          "name": "stdout"
        }
      ]
    },
    {
      "cell_type": "code",
      "metadata": {
        "id": "6Feyo0ULAmEW",
        "colab_type": "code",
        "colab": {
          "base_uri": "https://localhost:8080/",
          "height": 370
        },
        "outputId": "06af65a0-ded5-4e3b-a0fc-c0902985b542"
      },
      "source": [
        "translator = Translator()\n",
        "sentences = []\n",
        "# 1\n",
        "hin_text =  \"इसलाम सुंदर है\"\n",
        "print(\"Hindi: \", hin_text)\n",
        "\n",
        "trans = translator.translate(hin_text, dest='en')\n",
        "print('Translated:', trans.text)\n",
        "sentences.append(trans.text)\n",
        "\n",
        "# 0\n",
        "hin_text =  \" समाज वादी  पार्टी  जिंदाबाद \"\n",
        "print(\"Hindi: \", hin_text)\n",
        "\n",
        "trans = translator.translate(hin_text, dest='en')\n",
        "print('Translated:', trans.text)\n",
        "sentences.append(trans.text)\n",
        "\n",
        "# 2\n",
        "hin_text =  \"'गाजा में दीवाली   की ढेरो बधाई मित्रो 😊💐  #IsraeliBombing 😂😂\"\n",
        "print(\"Hindi: \", hin_text)\n",
        "\n",
        "trans = translator.translate(hin_text, dest='en')\n",
        "print('Translated:', trans.text)\n",
        "sentences.append(trans.text)\n",
        "\n",
        "# 2\n",
        "sentences.append( \"Play our song now you asshole jehadi muslim\")\n",
        "\n",
        "# 0\n",
        "sentences.append( \"Rate this book as awful\")\n",
        "\n",
        "\n",
        "pred_tokens = map(tokenizer.tokenize, sentences)\n",
        "pred_tokens = map(lambda tok: [\"[CLS]\"] + tok + [\"[SEP]\"], pred_tokens)\n",
        "pred_token_ids = list(map(tokenizer.convert_tokens_to_ids, pred_tokens))\n",
        "\n",
        "pred_token_ids = map(lambda tids: tids +[0]*(data.max_seq_len-len(tids)),pred_token_ids)\n",
        "pred_token_ids = np.array(list(pred_token_ids))\n",
        "\n",
        "predictions = model.predict(pred_token_ids).argmax(axis=-1)\n",
        "\n",
        "for text, label in zip(sentences, predictions):\n",
        "  print(\"text:\", text, \"\\nLabel:\", classes[label])\n",
        "  print()"
      ],
      "execution_count": 57,
      "outputs": [
        {
          "output_type": "stream",
          "text": [
            "Hindi:  इसलाम सुंदर है\n",
            "Translated: Islam is beautiful\n",
            "Hindi:   समाज वादी  पार्टी  जिंदाबाद \n",
            "Translated: Samajwadi Party Zindabad\n",
            "Hindi:  'गाजा में दीवाली   की ढेरो बधाई मित्रो 😊💐  #IsraeliBombing 😂😂\n",
            "Translated: 'Happy Diwali greetings in Gaza Friends 😊💐 #IsraeliBombing 😂😂\n",
            "text: Islam is beautiful \n",
            "Label: 1\n",
            "\n",
            "text: Samajwadi Party Zindabad \n",
            "Label: 0\n",
            "\n",
            "text: 'Happy Diwali greetings in Gaza Friends 😊💐 #IsraeliBombing 😂😂 \n",
            "Label: 0\n",
            "\n",
            "text: Play our song now you asshole jehadi muslim \n",
            "Label: 2\n",
            "\n",
            "text: Rate this book as awful \n",
            "Label: 1\n",
            "\n"
          ],
          "name": "stdout"
        }
      ]
    },
    {
      "cell_type": "code",
      "metadata": {
        "id": "J6-dcpQ1IT57",
        "colab_type": "code",
        "colab": {}
      },
      "source": [
        ""
      ],
      "execution_count": null,
      "outputs": []
    },
    {
      "cell_type": "markdown",
      "metadata": {
        "id": "nhtAuYJTxItA",
        "colab_type": "text"
      },
      "source": [
        "# Reference\n",
        "\n",
        "1. Movie Reviews with bert-for-tf2 https://colab.research.google.com/drive/1esTDT7S7-31Uiwr8Hj1meV1aokeo8AYX?authuser=1"
      ]
    },
    {
      "cell_type": "code",
      "metadata": {
        "id": "SWQwdzn4zFUn",
        "colab_type": "code",
        "colab": {}
      },
      "source": [
        ""
      ],
      "execution_count": null,
      "outputs": []
    }
  ]
}